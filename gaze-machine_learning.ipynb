{
 "cells": [
  {
   "cell_type": "code",
   "execution_count": 1,
   "metadata": {
    "id": "IgQge6h7AqDw"
   },
   "outputs": [],
   "source": [
    "import json\n",
    "import os\n",
    "import pandas as pd\n",
    "import warnings\n",
    "warnings.filterwarnings('ignore')"
   ]
  },
  {
   "cell_type": "code",
   "execution_count": 2,
   "metadata": {},
   "outputs": [],
   "source": [
    "data_dir=\"C:/Users/tsb7592/Box/Baby Toolbox Operations/Domain Teams/Language/Tobii Pilot\""
   ]
  },
  {
   "cell_type": "code",
   "execution_count": 3,
   "metadata": {},
   "outputs": [],
   "source": [
    "all3= pd.read_csv('C:/Users/tsb7592/Box/Baby Toolbox Operations/Domain Teams/Language/Tobii Pilot/LWL & EF Tobii Data Export/Baby Toolbox_Data_Export_06_02_2021.tsv', sep='\\t')"
   ]
  },
  {
   "cell_type": "code",
   "execution_count": 4,
   "metadata": {},
   "outputs": [],
   "source": [
    "ada = pd.read_csv('C:/Users/tsb7592/Box/Baby Toolbox Operations/Domain Teams/Language/Tobii Pilot/LWL & EF Tobii Data Export/Ada LWL Only/Baby Toolbox_Data_Export_Ada_LWLonly.tsv', sep='\\t')"
   ]
  },
  {
   "cell_type": "code",
   "execution_count": 5,
   "metadata": {},
   "outputs": [],
   "source": [
    "data_dir2='C:/Users/tsb7592/Box/Baby Toolbox Operations/Domain Teams/Language/Tobii Pilot/LWL & EF Tobii Data Export/Second Attempts LWL Only'"
   ]
  },
  {
   "cell_type": "code",
   "execution_count": 6,
   "metadata": {},
   "outputs": [],
   "source": [
    "os.chdir(data_dir2)"
   ]
  },
  {
   "cell_type": "code",
   "execution_count": 7,
   "metadata": {
    "colab": {
     "base_uri": "https://localhost:8080/"
    },
    "id": "e6NteNENFFl7",
    "outputId": "0a219d79-8f0e-41b3-f463-167bc67024fe"
   },
   "outputs": [],
   "source": [
    "ada2= pd.read_csv('Baby Toolbox_Data_Export_Ada LWL Take 2.tsv', sep='\\t') "
   ]
  },
  {
   "cell_type": "code",
   "execution_count": 8,
   "metadata": {},
   "outputs": [],
   "source": [
    "claire2= pd.read_csv('Baby Toolbox_Data_Export_Claire LWL Take 2.tsv', sep='\\t') "
   ]
  },
  {
   "cell_type": "code",
   "execution_count": 9,
   "metadata": {},
   "outputs": [
    {
     "data": {
      "text/html": [
       "<div>\n",
       "<style scoped>\n",
       "    .dataframe tbody tr th:only-of-type {\n",
       "        vertical-align: middle;\n",
       "    }\n",
       "\n",
       "    .dataframe tbody tr th {\n",
       "        vertical-align: top;\n",
       "    }\n",
       "\n",
       "    .dataframe thead th {\n",
       "        text-align: right;\n",
       "    }\n",
       "</style>\n",
       "<table border=\"1\" class=\"dataframe\">\n",
       "  <thead>\n",
       "    <tr style=\"text-align: right;\">\n",
       "      <th></th>\n",
       "      <th>ExportDate</th>\n",
       "      <th>StudioVersionRec</th>\n",
       "      <th>StudioProjectName</th>\n",
       "      <th>StudioTestName</th>\n",
       "      <th>ParticipantName</th>\n",
       "      <th>RecordingName</th>\n",
       "      <th>RecordingDate</th>\n",
       "      <th>RecordingDuration</th>\n",
       "      <th>RecordingResolution</th>\n",
       "      <th>PresentationSequence</th>\n",
       "      <th>...</th>\n",
       "      <th>DistanceLeft</th>\n",
       "      <th>DistanceRight</th>\n",
       "      <th>PupilLeft</th>\n",
       "      <th>PupilRight</th>\n",
       "      <th>ValidityLeft</th>\n",
       "      <th>ValidityRight</th>\n",
       "      <th>IRMarkerCount</th>\n",
       "      <th>IRMarkerID</th>\n",
       "      <th>PupilGlassesRight</th>\n",
       "      <th>Unnamed: 173</th>\n",
       "    </tr>\n",
       "  </thead>\n",
       "  <tbody>\n",
       "    <tr>\n",
       "      <th>0</th>\n",
       "      <td>6/30/2021</td>\n",
       "      <td>3.4.8</td>\n",
       "      <td>Baby Toolbox</td>\n",
       "      <td>LWL website</td>\n",
       "      <td>ClaireJune2</td>\n",
       "      <td>Rec 10</td>\n",
       "      <td>6/23/2021</td>\n",
       "      <td>303996</td>\n",
       "      <td>1920 x 1080</td>\n",
       "      <td>NaN</td>\n",
       "      <td>...</td>\n",
       "      <td>462.43</td>\n",
       "      <td>462.43</td>\n",
       "      <td>-1.00</td>\n",
       "      <td>-1.00</td>\n",
       "      <td>0.0</td>\n",
       "      <td>0.0</td>\n",
       "      <td>NaN</td>\n",
       "      <td>NaN</td>\n",
       "      <td>NaN</td>\n",
       "      <td>NaN</td>\n",
       "    </tr>\n",
       "    <tr>\n",
       "      <th>1</th>\n",
       "      <td>6/30/2021</td>\n",
       "      <td>3.4.8</td>\n",
       "      <td>Baby Toolbox</td>\n",
       "      <td>LWL website</td>\n",
       "      <td>ClaireJune2</td>\n",
       "      <td>Rec 10</td>\n",
       "      <td>6/23/2021</td>\n",
       "      <td>303996</td>\n",
       "      <td>1920 x 1080</td>\n",
       "      <td>NaN</td>\n",
       "      <td>...</td>\n",
       "      <td>462.35</td>\n",
       "      <td>462.35</td>\n",
       "      <td>-1.00</td>\n",
       "      <td>-1.00</td>\n",
       "      <td>0.0</td>\n",
       "      <td>0.0</td>\n",
       "      <td>NaN</td>\n",
       "      <td>NaN</td>\n",
       "      <td>NaN</td>\n",
       "      <td>NaN</td>\n",
       "    </tr>\n",
       "    <tr>\n",
       "      <th>2</th>\n",
       "      <td>6/30/2021</td>\n",
       "      <td>3.4.8</td>\n",
       "      <td>Baby Toolbox</td>\n",
       "      <td>LWL website</td>\n",
       "      <td>ClaireJune2</td>\n",
       "      <td>Rec 10</td>\n",
       "      <td>6/23/2021</td>\n",
       "      <td>303996</td>\n",
       "      <td>1920 x 1080</td>\n",
       "      <td>NaN</td>\n",
       "      <td>...</td>\n",
       "      <td>462.33</td>\n",
       "      <td>462.33</td>\n",
       "      <td>3.36</td>\n",
       "      <td>3.06</td>\n",
       "      <td>0.0</td>\n",
       "      <td>0.0</td>\n",
       "      <td>NaN</td>\n",
       "      <td>NaN</td>\n",
       "      <td>NaN</td>\n",
       "      <td>NaN</td>\n",
       "    </tr>\n",
       "    <tr>\n",
       "      <th>3</th>\n",
       "      <td>6/30/2021</td>\n",
       "      <td>3.4.8</td>\n",
       "      <td>Baby Toolbox</td>\n",
       "      <td>LWL website</td>\n",
       "      <td>ClaireJune2</td>\n",
       "      <td>Rec 10</td>\n",
       "      <td>6/23/2021</td>\n",
       "      <td>303996</td>\n",
       "      <td>1920 x 1080</td>\n",
       "      <td>NaN</td>\n",
       "      <td>...</td>\n",
       "      <td>462.14</td>\n",
       "      <td>462.14</td>\n",
       "      <td>-1.00</td>\n",
       "      <td>-1.00</td>\n",
       "      <td>0.0</td>\n",
       "      <td>0.0</td>\n",
       "      <td>NaN</td>\n",
       "      <td>NaN</td>\n",
       "      <td>NaN</td>\n",
       "      <td>NaN</td>\n",
       "    </tr>\n",
       "    <tr>\n",
       "      <th>4</th>\n",
       "      <td>6/30/2021</td>\n",
       "      <td>3.4.8</td>\n",
       "      <td>Baby Toolbox</td>\n",
       "      <td>LWL website</td>\n",
       "      <td>ClaireJune2</td>\n",
       "      <td>Rec 10</td>\n",
       "      <td>6/23/2021</td>\n",
       "      <td>303996</td>\n",
       "      <td>1920 x 1080</td>\n",
       "      <td>NaN</td>\n",
       "      <td>...</td>\n",
       "      <td>462.07</td>\n",
       "      <td>462.07</td>\n",
       "      <td>-1.00</td>\n",
       "      <td>-1.00</td>\n",
       "      <td>0.0</td>\n",
       "      <td>0.0</td>\n",
       "      <td>NaN</td>\n",
       "      <td>NaN</td>\n",
       "      <td>NaN</td>\n",
       "      <td>NaN</td>\n",
       "    </tr>\n",
       "  </tbody>\n",
       "</table>\n",
       "<p>5 rows × 174 columns</p>\n",
       "</div>"
      ],
      "text/plain": [
       "  ExportDate StudioVersionRec StudioProjectName StudioTestName  \\\n",
       "0  6/30/2021            3.4.8      Baby Toolbox    LWL website   \n",
       "1  6/30/2021            3.4.8      Baby Toolbox    LWL website   \n",
       "2  6/30/2021            3.4.8      Baby Toolbox    LWL website   \n",
       "3  6/30/2021            3.4.8      Baby Toolbox    LWL website   \n",
       "4  6/30/2021            3.4.8      Baby Toolbox    LWL website   \n",
       "\n",
       "  ParticipantName RecordingName RecordingDate  RecordingDuration  \\\n",
       "0     ClaireJune2        Rec 10     6/23/2021             303996   \n",
       "1     ClaireJune2        Rec 10     6/23/2021             303996   \n",
       "2     ClaireJune2        Rec 10     6/23/2021             303996   \n",
       "3     ClaireJune2        Rec 10     6/23/2021             303996   \n",
       "4     ClaireJune2        Rec 10     6/23/2021             303996   \n",
       "\n",
       "  RecordingResolution  PresentationSequence  ... DistanceLeft DistanceRight  \\\n",
       "0         1920 x 1080                   NaN  ...       462.43        462.43   \n",
       "1         1920 x 1080                   NaN  ...       462.35        462.35   \n",
       "2         1920 x 1080                   NaN  ...       462.33        462.33   \n",
       "3         1920 x 1080                   NaN  ...       462.14        462.14   \n",
       "4         1920 x 1080                   NaN  ...       462.07        462.07   \n",
       "\n",
       "   PupilLeft  PupilRight  ValidityLeft  ValidityRight  IRMarkerCount  \\\n",
       "0      -1.00       -1.00           0.0            0.0            NaN   \n",
       "1      -1.00       -1.00           0.0            0.0            NaN   \n",
       "2       3.36        3.06           0.0            0.0            NaN   \n",
       "3      -1.00       -1.00           0.0            0.0            NaN   \n",
       "4      -1.00       -1.00           0.0            0.0            NaN   \n",
       "\n",
       "   IRMarkerID  PupilGlassesRight  Unnamed: 173  \n",
       "0         NaN                NaN           NaN  \n",
       "1         NaN                NaN           NaN  \n",
       "2         NaN                NaN           NaN  \n",
       "3         NaN                NaN           NaN  \n",
       "4         NaN                NaN           NaN  \n",
       "\n",
       "[5 rows x 174 columns]"
      ]
     },
     "execution_count": 9,
     "metadata": {},
     "output_type": "execute_result"
    }
   ],
   "source": [
    "claire2.head()"
   ]
  },
  {
   "cell_type": "code",
   "execution_count": 10,
   "metadata": {},
   "outputs": [],
   "source": [
    "doc=[]\n",
    "doc.append(ada)\n",
    "doc.append(ada2)\n",
    "doc.append(claire2)\n",
    "doc.append(all3)\n",
    "tdf = pd.concat(doc)"
   ]
  },
  {
   "cell_type": "code",
   "execution_count": 11,
   "metadata": {},
   "outputs": [
    {
     "data": {
      "text/plain": [
       "(411928, 381)"
      ]
     },
     "execution_count": 11,
     "metadata": {},
     "output_type": "execute_result"
    }
   ],
   "source": [
    "tdf.shape"
   ]
  },
  {
   "cell_type": "code",
   "execution_count": 13,
   "metadata": {},
   "outputs": [],
   "source": [
    "keep = [col for col in tdf.columns if 'AOI' in col]\n",
    "keep = [col for col in keep if 'Calib' not in col]"
   ]
  },
  {
   "cell_type": "code",
   "execution_count": 14,
   "metadata": {},
   "outputs": [],
   "source": [
    "k24 = keep[4:76]"
   ]
  },
  {
   "cell_type": "code",
   "execution_count": 18,
   "metadata": {},
   "outputs": [],
   "source": [
    "names={'P03':'Ada2', 'ClaireJune2':'ClaireJune2', 'ClaireP1':'ClaireP1', 'BrianP2':'BrianP2', 'SKJ_P2':'SKJ_P2','Adatake2':'Ada'}\n",
    "tdf['ParticipantName']=tdf['ParticipantName'].map(names)"
   ]
  },
  {
   "cell_type": "code",
   "execution_count": 19,
   "metadata": {
    "colab": {
     "base_uri": "https://localhost:8080/"
    },
    "id": "4KY69VAKFMcI",
    "outputId": "c9b13d2a-64e5-4e1e-fce3-fbd168fba274"
   },
   "outputs": [
    {
     "data": {
      "text/plain": [
       "ClaireP1       107784\n",
       "BrianP2        101390\n",
       "SKJ_P2          96213\n",
       "Ada2            36389\n",
       "ClaireJune2     36145\n",
       "Ada             34007\n",
       "Name: ParticipantName, dtype: int64"
      ]
     },
     "execution_count": 19,
     "metadata": {},
     "output_type": "execute_result"
    }
   ],
   "source": [
    "tdf['ParticipantName'].value_counts()"
   ]
  },
  {
   "cell_type": "markdown",
   "metadata": {},
   "source": [
    "# Read json file"
   ]
  },
  {
   "cell_type": "code",
   "execution_count": 20,
   "metadata": {},
   "outputs": [],
   "source": [
    "import json\n",
    "import os\n",
    "import pandas as pd"
   ]
  },
  {
   "cell_type": "code",
   "execution_count": 21,
   "metadata": {},
   "outputs": [],
   "source": [
    "#claire\n",
    "data_dir=\"C:/Users/tsb7592/Box/Baby Toolbox Operations/Domain Teams/Language/Tobii Pilot/Tobii Verbose Files/Claire\"\n",
    "os.chdir(data_dir)\n",
    "df=pd.read_json('949BCA6A-D3D6-426C-9A94-E806F84E4E72@845BDD10-B9AF-4592-AA4E-0CCE76A0E8CD@00024@2021-05-11-22.11.48.356@LookListening@Claire@VerboseGazeData.json')"
   ]
  },
  {
   "cell_type": "code",
   "execution_count": 22,
   "metadata": {},
   "outputs": [],
   "source": [
    "data_dir=\"C:/Users/tsb7592/Downloads\"\n",
    "os.chdir(data_dir)"
   ]
  },
  {
   "cell_type": "code",
   "execution_count": 23,
   "metadata": {},
   "outputs": [],
   "source": [
    "#second attempt only\n",
    "cdf=pd.read_json('2021-06-23-22.58.27.217@LookListening@Claire@VerboseGazeData.json')"
   ]
  },
  {
   "cell_type": "code",
   "execution_count": 24,
   "metadata": {},
   "outputs": [],
   "source": [
    "cols=['itemID','eventName','gazeLocationName', 'gazeLocationOnScreen', 'arHitTestLookAtPointPositionX', 'arHitTestLookAtPointPositionY',\"lookAtPointX\", \"lookAtPointY\",]"
   ]
  },
  {
   "cell_type": "markdown",
   "metadata": {},
   "source": [
    "# Clean the data for machine learning"
   ]
  },
  {
   "cell_type": "code",
   "execution_count": 25,
   "metadata": {},
   "outputs": [],
   "source": [
    "cols=['itemID','eventName', 'gazeLocationName','gazeLocationOnScreen',\n",
    "      'arHitTestLookAtPointPositionX', 'arHitTestLookAtPointPositionY',\n",
    " 'lookAtPointX', 'lookAtPointY','NewLocation','NewOnScreen']"
   ]
  },
  {
   "cell_type": "code",
   "execution_count": 37,
   "metadata": {},
   "outputs": [],
   "source": [
    "#Training set for Claire\n",
    "\n",
    "def combine_tsv_json(tdf, df, person, k24, usevals):\n",
    "    if 'lookAtPoint' in usevals:\n",
    "        useX = \"lookAtPointX\"\n",
    "        useY = \"lookAtPointY\"\n",
    "    elif 'arHitTestLookAtPointPosition' in usevals:\n",
    "        useX = \"arHitTestLookAtPointPositionX\"\n",
    "        useY = \"arHitTestLookAtPointPositionY\"\n",
    "        \n",
    "    ct = tdf[tdf['ParticipantName']==person][k24]\n",
    "    begin =list(df[df['eventName'].str.contains('presentedLiveItem')].index)\n",
    "    end = list(df[df['eventName'].str.contains('completedLiveItem')].index)\n",
    "\n",
    "    rv = []\n",
    "    for i in range(24):\n",
    "        lcol,rcol,wcol = k24[3*i:3*i+3]\n",
    "        sub = ct[ct[wcol].notnull()]\n",
    "    \n",
    "        idx =[]\n",
    "        mni =df.iloc[begin[i]:end[i]][[useX, useY]]\n",
    "        mni =mni[mni['lookAtPointX'].notnull()]\n",
    "        print(i, sub.shape[0], mni.shape[0])\n",
    "        My_list = [*range(mni.shape[0])]\n",
    "        ratio = round(sub.shape[0]/mni.shape[0], 2) - 0.03\n",
    "        idx = [int(round(element * ratio)) for element in My_list]\n",
    "        sub = sub.iloc[idx].reset_index()\n",
    "        sub = sub[[lcol,rcol,wcol]]\n",
    "        js =  mni.reset_index()\n",
    "        sub.columns = ['Left','Right','Wholescreen']\n",
    "        result = pd.concat([sub, js[[useX, useY]] ], axis =1)\n",
    "        result['item'] = i\n",
    "        rv.append(result)\n",
    "    \n",
    "    data = pd.concat(rv)\n",
    "    \n",
    "    #Create a Y variable base on Left, right, onscreen, offscreen\n",
    "    data.loc[(data['Left'] == 1), 'Y'] = 'L'\n",
    "    data.loc[(data['Right'] == 1), 'Y'] = 'R'\n",
    "    data.loc[((data['Left'] == 0) & (data['Right'] ==0)& (data['Wholescreen'] ==0)), 'Y'] = 'F'\n",
    "    data.loc[((data['Left'] == 0) & (data['Right'] ==0)& (data['Wholescreen'] ==1)), 'Y'] = 'O'\n",
    "    \n",
    "    return data[['Y', useX, useY]]"
   ]
  },
  {
   "cell_type": "code",
   "execution_count": 38,
   "metadata": {},
   "outputs": [
    {
     "name": "stdout",
     "output_type": "stream",
     "text": [
      "0 1042 480\n",
      "1 960 481\n",
      "2 961 480\n",
      "3 1041 479\n",
      "4 960 481\n",
      "5 1041 478\n",
      "6 1040 479\n",
      "7 961 480\n",
      "8 960 480\n",
      "9 961 480\n",
      "10 1041 480\n",
      "11 1041 480\n",
      "12 1041 481\n",
      "13 1040 480\n",
      "14 1041 480\n",
      "15 960 480\n",
      "16 962 480\n",
      "17 1040 480\n",
      "18 1040 481\n",
      "19 961 479\n",
      "20 1040 480\n",
      "21 1040 480\n",
      "22 960 480\n",
      "23 962 439\n",
      "0 1043 479\n",
      "1 1014 480\n",
      "2 959 480\n",
      "3 986 478\n",
      "4 986 481\n",
      "5 958 480\n",
      "6 987 480\n",
      "7 958 480\n",
      "8 957 480\n",
      "9 958 480\n",
      "10 1043 480\n",
      "11 960 479\n",
      "12 987 481\n",
      "13 986 479\n",
      "14 958 481\n",
      "15 987 480\n",
      "16 985 482\n",
      "17 958 480\n",
      "18 987 481\n",
      "19 987 479\n",
      "20 986 481\n",
      "21 986 481\n",
      "22 958 480\n",
      "23 959 481\n"
     ]
    }
   ],
   "source": [
    "c1  = combine_tsv_json(tdf, df, 'ClaireP1', k24, 'lookAtPoint')\n",
    "c2  = combine_tsv_json(tdf, cdf, 'ClaireJune2', k24, 'lookAtPoint')"
   ]
  },
  {
   "cell_type": "code",
   "execution_count": 39,
   "metadata": {},
   "outputs": [
    {
     "data": {
      "text/plain": [
       "L    5776\n",
       "R    4186\n",
       "F    1103\n",
       "O     413\n",
       "Name: Y, dtype: int64"
      ]
     },
     "execution_count": 39,
     "metadata": {},
     "output_type": "execute_result"
    }
   ],
   "source": [
    "c1.Y.value_counts()"
   ]
  },
  {
   "cell_type": "code",
   "execution_count": 56,
   "metadata": {},
   "outputs": [],
   "source": [
    "# example of multi-class classification task\n",
    "from numpy import where\n",
    "from collections import Counter\n",
    "from sklearn.datasets import make_blobs\n",
    "from matplotlib import pyplot\n",
    "\n",
    "from sklearn import datasets\n",
    "from sklearn.multiclass import OneVsRestClassifier\n",
    "from sklearn.svm import LinearSVC\n",
    "from sklearn import metrics\n",
    "from sklearn.model_selection import train_test_split\n",
    "\n",
    "\n",
    "def own_test(df):\n",
    "    X = df.iloc[:,1:]\n",
    "    y = df['Y']\n",
    "    x_train, x_test, y_train, y_test = train_test_split(X, y, random_state = True, test_size = 0.25) \n",
    "    y_pred =OneVsRestClassifier(LinearSVC(random_state=0)).fit(x_train, y_train).predict(x_test)\n",
    "    \n",
    "    # Print the precision and recall, among other metrics\n",
    "    print(metrics.classification_report(y_test, y_pred, digits=3))"
   ]
  },
  {
   "cell_type": "code",
   "execution_count": 47,
   "metadata": {},
   "outputs": [
    {
     "name": "stdout",
     "output_type": "stream",
     "text": [
      "              precision    recall  f1-score   support\n",
      "\n",
      "           F      0.000     0.000     0.000       273\n",
      "           L      0.687     0.858     0.763      1433\n",
      "           O      0.000     0.000     0.000       120\n",
      "           R      0.694     0.718     0.706      1044\n",
      "\n",
      "    accuracy                          0.690      2870\n",
      "   macro avg      0.345     0.394     0.367      2870\n",
      "weighted avg      0.595     0.690     0.638      2870\n",
      "\n"
     ]
    }
   ],
   "source": [
    "#Claire first attempt\n",
    "own_test(c1)"
   ]
  },
  {
   "cell_type": "code",
   "execution_count": 55,
   "metadata": {},
   "outputs": [],
   "source": [
    "def twoset_test(df1, df2):\n",
    "    x_train= df1.iloc[:,1:]\n",
    "    y_train = df1['Y']\n",
    "    x_test= df2.iloc[:,1:]\n",
    "    y_test = df2['Y']\n",
    "\n",
    "    y_pred =OneVsRestClassifier(LinearSVC(random_state=0)).fit(x_train, y_train).predict(x_test)\n",
    "    \n",
    "    # Print the precision and recall, among other metrics\n",
    "    print(metrics.classification_report(y_test, y_pred, digits=3))"
   ]
  },
  {
   "cell_type": "code",
   "execution_count": 49,
   "metadata": {},
   "outputs": [
    {
     "name": "stdout",
     "output_type": "stream",
     "text": [
      "              precision    recall  f1-score   support\n",
      "\n",
      "           F      0.000     0.000     0.000      1361\n",
      "           L      0.670     0.844     0.747      4985\n",
      "           O      0.000     0.000     0.000       186\n",
      "           R      0.742     0.779     0.760      4991\n",
      "\n",
      "    accuracy                          0.703     11523\n",
      "   macro avg      0.353     0.406     0.377     11523\n",
      "weighted avg      0.611     0.703     0.652     11523\n",
      "\n"
     ]
    }
   ],
   "source": [
    "#Cross Validation for Claire using first attempt as train, second attempt as test\n",
    "twoset_test(c1,c2)"
   ]
  },
  {
   "cell_type": "code",
   "execution_count": 50,
   "metadata": {},
   "outputs": [],
   "source": [
    "#Sheila\n",
    "data_dir=\"C:/Users/tsb7592/Box/Baby Toolbox Operations/Domain Teams/Language/Tobii Pilot/Tobii Verbose Files/Sheila\"\n",
    "os.chdir(data_dir)\n",
    "sdf=pd.read_json('B8C654C6-5EAA-452E-8A80-B0281F7533C8@845BDD10-B9AF-4592-AA4E-0CCE76A0E8CD@00030@2021-05-12-00.31.22.201@LookListening@SKJ@VerboseGazeData.json')"
   ]
  },
  {
   "cell_type": "code",
   "execution_count": 52,
   "metadata": {},
   "outputs": [
    {
     "name": "stdout",
     "output_type": "stream",
     "text": [
      "0 998 480\n",
      "1 998 480\n",
      "2 997 479\n",
      "3 997 480\n",
      "4 998 480\n",
      "5 998 480\n",
      "6 998 480\n",
      "7 926 479\n",
      "8 997 480\n",
      "9 927 479\n",
      "10 998 480\n",
      "11 997 480\n",
      "12 997 480\n",
      "13 926 480\n",
      "14 998 479\n",
      "15 998 480\n",
      "16 926 480\n",
      "17 997 480\n",
      "18 998 479\n",
      "19 998 479\n",
      "20 998 480\n",
      "21 997 481\n",
      "22 997 479\n",
      "23 997 480\n"
     ]
    }
   ],
   "source": [
    "s1  = combine_tsv_json(tdf, sdf, 'SKJ_P2', k24,'lookAtPoint')"
   ]
  },
  {
   "cell_type": "code",
   "execution_count": 57,
   "metadata": {},
   "outputs": [
    {
     "name": "stdout",
     "output_type": "stream",
     "text": [
      "              precision    recall  f1-score   support\n",
      "\n",
      "           F      0.000     0.000     0.000       240\n",
      "           L      0.781     0.855     0.816      1331\n",
      "           O      0.000     0.000     0.000       109\n",
      "           R      0.731     0.867     0.793      1199\n",
      "\n",
      "    accuracy                          0.756      2879\n",
      "   macro avg      0.378     0.430     0.402      2879\n",
      "weighted avg      0.665     0.756     0.708      2879\n",
      "\n"
     ]
    }
   ],
   "source": [
    "#cross validation for Sheila\n",
    "own_test(s1)"
   ]
  },
  {
   "cell_type": "code",
   "execution_count": 58,
   "metadata": {},
   "outputs": [
    {
     "name": "stdout",
     "output_type": "stream",
     "text": [
      "0 945 458\n",
      "1 1001 275\n",
      "2 1001 293\n",
      "3 1024 480\n",
      "4 946 428\n",
      "5 947 337\n",
      "6 1000 369\n",
      "7 972 480\n",
      "8 946 479\n",
      "9 945 479\n",
      "10 973 303\n",
      "11 999 424\n",
      "12 949 480\n",
      "13 973 480\n",
      "14 973 396\n",
      "15 973 263\n",
      "16 946 480\n",
      "17 947 437\n",
      "18 1000 480\n",
      "19 974 480\n",
      "20 973 481\n",
      "21 947 479\n",
      "22 976 381\n",
      "23 973 469\n",
      "0 1051 482\n",
      "1 999 297\n",
      "2 1025 481\n",
      "3 974 382\n",
      "4 1053 481\n",
      "5 1000 407\n",
      "6 971 479\n",
      "7 973 256\n",
      "8 1025 425\n",
      "9 999 334\n",
      "10 970 480\n",
      "11 972 359\n",
      "12 971 479\n",
      "13 999 441\n",
      "14 972 325\n",
      "15 997 480\n",
      "16 970 481\n",
      "17 1026 479\n",
      "18 972 481\n",
      "19 1000 403\n",
      "20 970 480\n",
      "21 1025 479\n",
      "22 1000 472\n",
      "23 971 359\n"
     ]
    }
   ],
   "source": [
    "#Ada\n",
    "data_dir=\"C:/Users/tsb7592/Downloads\"\n",
    "os.chdir(data_dir)\n",
    "adf=pd.read_json('Ada@VerboseGazeData.json')\n",
    "adf2=pd.read_json('2021-06-24-12.42.35.513@LookListening@Ada@VerboseGazeData 2.json')\n",
    "a1  = combine_tsv_json(tdf, adf, 'Ada', k24,'lookAtPoint')\n",
    "a2  = combine_tsv_json(tdf, adf2, 'Ada2', k24, 'lookAtPoint')"
   ]
  },
  {
   "cell_type": "code",
   "execution_count": 60,
   "metadata": {},
   "outputs": [
    {
     "name": "stdout",
     "output_type": "stream",
     "text": [
      "              precision    recall  f1-score   support\n",
      "\n",
      "           F      0.388     0.760     0.514      4253\n",
      "           L      0.323     0.185     0.235      2887\n",
      "           O      0.000     0.000     0.000       326\n",
      "           R      0.677     0.058     0.106      2756\n",
      "\n",
      "    accuracy                          0.384     10222\n",
      "   macro avg      0.347     0.251     0.214     10222\n",
      "weighted avg      0.435     0.384     0.309     10222\n",
      "\n"
     ]
    }
   ],
   "source": [
    "#Cross Validation for Ada using first attempt as train, second attempt as test\n",
    "twoset_test(a1,a2)"
   ]
  },
  {
   "cell_type": "code",
   "execution_count": 61,
   "metadata": {},
   "outputs": [],
   "source": [
    "#Brian\n",
    "data_dir=\"C:/Users/tsb7592/Box/Baby Toolbox Operations/Domain Teams/Language/Tobii Pilot/Tobii Verbose Files/Brian\"\n",
    "os.chdir(data_dir)\n",
    "bdf=pd.read_json('A87CEC62-214F-4B81-A3CB-45B1DA445644@845BDD10-B9AF-4592-AA4E-0CCE76A0E8CD@00026@2021-05-12-00.13.17.121@LookListening@Brian@VerboseGazeData.json')"
   ]
  },
  {
   "cell_type": "code",
   "execution_count": 63,
   "metadata": {},
   "outputs": [
    {
     "name": "stdout",
     "output_type": "stream",
     "text": [
      "0 971 480\n",
      "1 1046 479\n",
      "2 971 480\n",
      "3 971 480\n",
      "4 971 481\n",
      "5 971 480\n",
      "6 971 479\n",
      "7 971 480\n",
      "8 971 482\n",
      "9 971 480\n",
      "10 971 480\n",
      "11 971 480\n",
      "12 1046 480\n",
      "13 971 479\n",
      "14 972 481\n",
      "15 971 481\n",
      "16 1046 480\n",
      "17 972 480\n",
      "18 971 479\n",
      "19 971 480\n",
      "20 971 481\n",
      "21 971 480\n",
      "22 972 480\n",
      "23 1046 481\n"
     ]
    }
   ],
   "source": [
    "b1  = combine_tsv_json(tdf, bdf, 'BrianP2', k24, 'lookAtPoint')"
   ]
  },
  {
   "cell_type": "code",
   "execution_count": 64,
   "metadata": {},
   "outputs": [
    {
     "name": "stdout",
     "output_type": "stream",
     "text": [
      "              precision    recall  f1-score   support\n",
      "\n",
      "           F      0.000     0.000     0.000        41\n",
      "           L      0.809     0.890     0.848      1214\n",
      "           O      0.804     0.560     0.660       536\n",
      "           R      0.858     0.898     0.878      1090\n",
      "\n",
      "    accuracy                          0.819      2881\n",
      "   macro avg      0.618     0.587     0.596      2881\n",
      "weighted avg      0.815     0.819     0.812      2881\n",
      "\n"
     ]
    }
   ],
   "source": [
    "#Cross Validation for Brian\n",
    "own_test(b1)"
   ]
  }
 ],
 "metadata": {
  "colab": {
   "collapsed_sections": [],
   "name": "gaze.ipynb",
   "provenance": []
  },
  "kernelspec": {
   "display_name": "Python 3",
   "language": "python",
   "name": "python3"
  },
  "language_info": {
   "codemirror_mode": {
    "name": "ipython",
    "version": 3
   },
   "file_extension": ".py",
   "mimetype": "text/x-python",
   "name": "python",
   "nbconvert_exporter": "python",
   "pygments_lexer": "ipython3",
   "version": "3.8.8"
  }
 },
 "nbformat": 4,
 "nbformat_minor": 1
}
