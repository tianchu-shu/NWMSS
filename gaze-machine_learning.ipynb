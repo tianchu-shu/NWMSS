{
 "cells": [
  {
   "cell_type": "code",
   "execution_count": 256,
   "metadata": {
    "id": "IgQge6h7AqDw"
   },
   "outputs": [],
   "source": [
    "import json\n",
    "import os\n",
    "import pandas as pd\n",
    "import warnings\n",
    "warnings.filterwarnings('ignore')"
   ]
  },
  {
   "cell_type": "code",
   "execution_count": 2,
   "metadata": {},
   "outputs": [],
   "source": [
    "data_dir=\"C:/Users/tsb7592/Box/Baby Toolbox Operations/Domain Teams/Language/Tobii Pilot\""
   ]
  },
  {
   "cell_type": "code",
   "execution_count": 3,
   "metadata": {},
   "outputs": [
    {
     "name": "stderr",
     "output_type": "stream",
     "text": [
      "C:\\Users\\tsb7592\\Anaconda3\\lib\\site-packages\\IPython\\core\\interactiveshell.py:3165: DtypeWarning: Columns (28,34,36) have mixed types.Specify dtype option on import or set low_memory=False.\n",
      "  has_raised = await self.run_ast_nodes(code_ast.body, cell_name,\n"
     ]
    }
   ],
   "source": [
    "all3= pd.read_csv('C:/Users/tsb7592/Box/Baby Toolbox Operations/Domain Teams/Language/Tobii Pilot/LWL & EF Tobii Data Export/Baby Toolbox_Data_Export_06_02_2021.tsv', sep='\\t')"
   ]
  },
  {
   "cell_type": "code",
   "execution_count": 4,
   "metadata": {},
   "outputs": [],
   "source": [
    "ada = pd.read_csv('C:/Users/tsb7592/Box/Baby Toolbox Operations/Domain Teams/Language/Tobii Pilot/LWL & EF Tobii Data Export/Ada LWL Only/Baby Toolbox_Data_Export_Ada_LWLonly.tsv', sep='\\t')"
   ]
  },
  {
   "cell_type": "code",
   "execution_count": 5,
   "metadata": {},
   "outputs": [],
   "source": [
    "data_dir2='C:/Users/tsb7592/Box/Baby Toolbox Operations/Domain Teams/Language/Tobii Pilot/LWL & EF Tobii Data Export/Second Attempts LWL Only'"
   ]
  },
  {
   "cell_type": "code",
   "execution_count": 6,
   "metadata": {},
   "outputs": [],
   "source": [
    "os.chdir(data_dir2)"
   ]
  },
  {
   "cell_type": "code",
   "execution_count": 7,
   "metadata": {
    "colab": {
     "base_uri": "https://localhost:8080/"
    },
    "id": "e6NteNENFFl7",
    "outputId": "0a219d79-8f0e-41b3-f463-167bc67024fe"
   },
   "outputs": [],
   "source": [
    "ada2= pd.read_csv('Baby Toolbox_Data_Export_Ada LWL Take 2.tsv', sep='\\t') "
   ]
  },
  {
   "cell_type": "code",
   "execution_count": 8,
   "metadata": {},
   "outputs": [
    {
     "name": "stderr",
     "output_type": "stream",
     "text": [
      "C:\\Users\\tsb7592\\Anaconda3\\lib\\site-packages\\IPython\\core\\interactiveshell.py:3165: DtypeWarning: Columns (34,36) have mixed types.Specify dtype option on import or set low_memory=False.\n",
      "  has_raised = await self.run_ast_nodes(code_ast.body, cell_name,\n"
     ]
    }
   ],
   "source": [
    "claire2= pd.read_csv('Baby Toolbox_Data_Export_Claire LWL Take 2.tsv', sep='\\t') "
   ]
  },
  {
   "cell_type": "code",
   "execution_count": 9,
   "metadata": {},
   "outputs": [
    {
     "data": {
      "text/html": [
       "<div>\n",
       "<style scoped>\n",
       "    .dataframe tbody tr th:only-of-type {\n",
       "        vertical-align: middle;\n",
       "    }\n",
       "\n",
       "    .dataframe tbody tr th {\n",
       "        vertical-align: top;\n",
       "    }\n",
       "\n",
       "    .dataframe thead th {\n",
       "        text-align: right;\n",
       "    }\n",
       "</style>\n",
       "<table border=\"1\" class=\"dataframe\">\n",
       "  <thead>\n",
       "    <tr style=\"text-align: right;\">\n",
       "      <th></th>\n",
       "      <th>ExportDate</th>\n",
       "      <th>StudioVersionRec</th>\n",
       "      <th>StudioProjectName</th>\n",
       "      <th>StudioTestName</th>\n",
       "      <th>ParticipantName</th>\n",
       "      <th>RecordingName</th>\n",
       "      <th>RecordingDate</th>\n",
       "      <th>RecordingDuration</th>\n",
       "      <th>RecordingResolution</th>\n",
       "      <th>PresentationSequence</th>\n",
       "      <th>...</th>\n",
       "      <th>DistanceLeft</th>\n",
       "      <th>DistanceRight</th>\n",
       "      <th>PupilLeft</th>\n",
       "      <th>PupilRight</th>\n",
       "      <th>ValidityLeft</th>\n",
       "      <th>ValidityRight</th>\n",
       "      <th>IRMarkerCount</th>\n",
       "      <th>IRMarkerID</th>\n",
       "      <th>PupilGlassesRight</th>\n",
       "      <th>Unnamed: 173</th>\n",
       "    </tr>\n",
       "  </thead>\n",
       "  <tbody>\n",
       "    <tr>\n",
       "      <th>0</th>\n",
       "      <td>6/30/2021</td>\n",
       "      <td>3.4.8</td>\n",
       "      <td>Baby Toolbox</td>\n",
       "      <td>LWL website</td>\n",
       "      <td>ClaireJune2</td>\n",
       "      <td>Rec 10</td>\n",
       "      <td>6/23/2021</td>\n",
       "      <td>303996</td>\n",
       "      <td>1920 x 1080</td>\n",
       "      <td>NaN</td>\n",
       "      <td>...</td>\n",
       "      <td>462.43</td>\n",
       "      <td>462.43</td>\n",
       "      <td>-1.00</td>\n",
       "      <td>-1.00</td>\n",
       "      <td>0.0</td>\n",
       "      <td>0.0</td>\n",
       "      <td>NaN</td>\n",
       "      <td>NaN</td>\n",
       "      <td>NaN</td>\n",
       "      <td>NaN</td>\n",
       "    </tr>\n",
       "    <tr>\n",
       "      <th>1</th>\n",
       "      <td>6/30/2021</td>\n",
       "      <td>3.4.8</td>\n",
       "      <td>Baby Toolbox</td>\n",
       "      <td>LWL website</td>\n",
       "      <td>ClaireJune2</td>\n",
       "      <td>Rec 10</td>\n",
       "      <td>6/23/2021</td>\n",
       "      <td>303996</td>\n",
       "      <td>1920 x 1080</td>\n",
       "      <td>NaN</td>\n",
       "      <td>...</td>\n",
       "      <td>462.35</td>\n",
       "      <td>462.35</td>\n",
       "      <td>-1.00</td>\n",
       "      <td>-1.00</td>\n",
       "      <td>0.0</td>\n",
       "      <td>0.0</td>\n",
       "      <td>NaN</td>\n",
       "      <td>NaN</td>\n",
       "      <td>NaN</td>\n",
       "      <td>NaN</td>\n",
       "    </tr>\n",
       "    <tr>\n",
       "      <th>2</th>\n",
       "      <td>6/30/2021</td>\n",
       "      <td>3.4.8</td>\n",
       "      <td>Baby Toolbox</td>\n",
       "      <td>LWL website</td>\n",
       "      <td>ClaireJune2</td>\n",
       "      <td>Rec 10</td>\n",
       "      <td>6/23/2021</td>\n",
       "      <td>303996</td>\n",
       "      <td>1920 x 1080</td>\n",
       "      <td>NaN</td>\n",
       "      <td>...</td>\n",
       "      <td>462.33</td>\n",
       "      <td>462.33</td>\n",
       "      <td>3.36</td>\n",
       "      <td>3.06</td>\n",
       "      <td>0.0</td>\n",
       "      <td>0.0</td>\n",
       "      <td>NaN</td>\n",
       "      <td>NaN</td>\n",
       "      <td>NaN</td>\n",
       "      <td>NaN</td>\n",
       "    </tr>\n",
       "    <tr>\n",
       "      <th>3</th>\n",
       "      <td>6/30/2021</td>\n",
       "      <td>3.4.8</td>\n",
       "      <td>Baby Toolbox</td>\n",
       "      <td>LWL website</td>\n",
       "      <td>ClaireJune2</td>\n",
       "      <td>Rec 10</td>\n",
       "      <td>6/23/2021</td>\n",
       "      <td>303996</td>\n",
       "      <td>1920 x 1080</td>\n",
       "      <td>NaN</td>\n",
       "      <td>...</td>\n",
       "      <td>462.14</td>\n",
       "      <td>462.14</td>\n",
       "      <td>-1.00</td>\n",
       "      <td>-1.00</td>\n",
       "      <td>0.0</td>\n",
       "      <td>0.0</td>\n",
       "      <td>NaN</td>\n",
       "      <td>NaN</td>\n",
       "      <td>NaN</td>\n",
       "      <td>NaN</td>\n",
       "    </tr>\n",
       "    <tr>\n",
       "      <th>4</th>\n",
       "      <td>6/30/2021</td>\n",
       "      <td>3.4.8</td>\n",
       "      <td>Baby Toolbox</td>\n",
       "      <td>LWL website</td>\n",
       "      <td>ClaireJune2</td>\n",
       "      <td>Rec 10</td>\n",
       "      <td>6/23/2021</td>\n",
       "      <td>303996</td>\n",
       "      <td>1920 x 1080</td>\n",
       "      <td>NaN</td>\n",
       "      <td>...</td>\n",
       "      <td>462.07</td>\n",
       "      <td>462.07</td>\n",
       "      <td>-1.00</td>\n",
       "      <td>-1.00</td>\n",
       "      <td>0.0</td>\n",
       "      <td>0.0</td>\n",
       "      <td>NaN</td>\n",
       "      <td>NaN</td>\n",
       "      <td>NaN</td>\n",
       "      <td>NaN</td>\n",
       "    </tr>\n",
       "  </tbody>\n",
       "</table>\n",
       "<p>5 rows × 174 columns</p>\n",
       "</div>"
      ],
      "text/plain": [
       "  ExportDate StudioVersionRec StudioProjectName StudioTestName  \\\n",
       "0  6/30/2021            3.4.8      Baby Toolbox    LWL website   \n",
       "1  6/30/2021            3.4.8      Baby Toolbox    LWL website   \n",
       "2  6/30/2021            3.4.8      Baby Toolbox    LWL website   \n",
       "3  6/30/2021            3.4.8      Baby Toolbox    LWL website   \n",
       "4  6/30/2021            3.4.8      Baby Toolbox    LWL website   \n",
       "\n",
       "  ParticipantName RecordingName RecordingDate  RecordingDuration  \\\n",
       "0     ClaireJune2        Rec 10     6/23/2021             303996   \n",
       "1     ClaireJune2        Rec 10     6/23/2021             303996   \n",
       "2     ClaireJune2        Rec 10     6/23/2021             303996   \n",
       "3     ClaireJune2        Rec 10     6/23/2021             303996   \n",
       "4     ClaireJune2        Rec 10     6/23/2021             303996   \n",
       "\n",
       "  RecordingResolution  PresentationSequence  ... DistanceLeft DistanceRight  \\\n",
       "0         1920 x 1080                   NaN  ...       462.43        462.43   \n",
       "1         1920 x 1080                   NaN  ...       462.35        462.35   \n",
       "2         1920 x 1080                   NaN  ...       462.33        462.33   \n",
       "3         1920 x 1080                   NaN  ...       462.14        462.14   \n",
       "4         1920 x 1080                   NaN  ...       462.07        462.07   \n",
       "\n",
       "   PupilLeft  PupilRight  ValidityLeft  ValidityRight  IRMarkerCount  \\\n",
       "0      -1.00       -1.00           0.0            0.0            NaN   \n",
       "1      -1.00       -1.00           0.0            0.0            NaN   \n",
       "2       3.36        3.06           0.0            0.0            NaN   \n",
       "3      -1.00       -1.00           0.0            0.0            NaN   \n",
       "4      -1.00       -1.00           0.0            0.0            NaN   \n",
       "\n",
       "   IRMarkerID  PupilGlassesRight  Unnamed: 173  \n",
       "0         NaN                NaN           NaN  \n",
       "1         NaN                NaN           NaN  \n",
       "2         NaN                NaN           NaN  \n",
       "3         NaN                NaN           NaN  \n",
       "4         NaN                NaN           NaN  \n",
       "\n",
       "[5 rows x 174 columns]"
      ]
     },
     "execution_count": 9,
     "metadata": {},
     "output_type": "execute_result"
    }
   ],
   "source": [
    "claire2.head()"
   ]
  },
  {
   "cell_type": "code",
   "execution_count": 10,
   "metadata": {},
   "outputs": [],
   "source": [
    "doc=[]\n",
    "doc.append(ada)\n",
    "doc.append(ada2)\n",
    "doc.append(claire2)\n",
    "doc.append(all3)\n",
    "tdf = pd.concat(doc)"
   ]
  },
  {
   "cell_type": "code",
   "execution_count": 11,
   "metadata": {},
   "outputs": [
    {
     "data": {
      "text/plain": [
       "(411928, 381)"
      ]
     },
     "execution_count": 11,
     "metadata": {},
     "output_type": "execute_result"
    }
   ],
   "source": [
    "tdf.shape"
   ]
  },
  {
   "cell_type": "code",
   "execution_count": 64,
   "metadata": {},
   "outputs": [],
   "source": [
    "lcol,rcol,wcol = k24[:3]"
   ]
  },
  {
   "cell_type": "code",
   "execution_count": 72,
   "metadata": {},
   "outputs": [],
   "source": [
    "ct =tdf[tdf['ParticipantName']=='ClaireP1']\n",
    "sub =ct[ct[wcol].notnull()]"
   ]
  },
  {
   "cell_type": "code",
   "execution_count": 73,
   "metadata": {},
   "outputs": [
    {
     "data": {
      "text/html": [
       "<div>\n",
       "<style scoped>\n",
       "    .dataframe tbody tr th:only-of-type {\n",
       "        vertical-align: middle;\n",
       "    }\n",
       "\n",
       "    .dataframe tbody tr th {\n",
       "        vertical-align: top;\n",
       "    }\n",
       "\n",
       "    .dataframe thead th {\n",
       "        text-align: right;\n",
       "    }\n",
       "</style>\n",
       "<table border=\"1\" class=\"dataframe\">\n",
       "  <thead>\n",
       "    <tr style=\"text-align: right;\">\n",
       "      <th></th>\n",
       "      <th>AOI[LeftStim_Shoulder]Hit</th>\n",
       "      <th>AOI[RightStim_Hose]Hit</th>\n",
       "      <th>AOI[WholeScreen]Hit.4</th>\n",
       "    </tr>\n",
       "  </thead>\n",
       "  <tbody>\n",
       "    <tr>\n",
       "      <th>30902</th>\n",
       "      <td>NaN</td>\n",
       "      <td>NaN</td>\n",
       "      <td>NaN</td>\n",
       "    </tr>\n",
       "    <tr>\n",
       "      <th>30903</th>\n",
       "      <td>NaN</td>\n",
       "      <td>NaN</td>\n",
       "      <td>NaN</td>\n",
       "    </tr>\n",
       "    <tr>\n",
       "      <th>30904</th>\n",
       "      <td>NaN</td>\n",
       "      <td>NaN</td>\n",
       "      <td>NaN</td>\n",
       "    </tr>\n",
       "    <tr>\n",
       "      <th>30905</th>\n",
       "      <td>NaN</td>\n",
       "      <td>NaN</td>\n",
       "      <td>NaN</td>\n",
       "    </tr>\n",
       "    <tr>\n",
       "      <th>30906</th>\n",
       "      <td>NaN</td>\n",
       "      <td>NaN</td>\n",
       "      <td>NaN</td>\n",
       "    </tr>\n",
       "    <tr>\n",
       "      <th>...</th>\n",
       "      <td>...</td>\n",
       "      <td>...</td>\n",
       "      <td>...</td>\n",
       "    </tr>\n",
       "    <tr>\n",
       "      <th>31859</th>\n",
       "      <td>NaN</td>\n",
       "      <td>NaN</td>\n",
       "      <td>NaN</td>\n",
       "    </tr>\n",
       "    <tr>\n",
       "      <th>31860</th>\n",
       "      <td>NaN</td>\n",
       "      <td>NaN</td>\n",
       "      <td>NaN</td>\n",
       "    </tr>\n",
       "    <tr>\n",
       "      <th>31861</th>\n",
       "      <td>NaN</td>\n",
       "      <td>NaN</td>\n",
       "      <td>NaN</td>\n",
       "    </tr>\n",
       "    <tr>\n",
       "      <th>31862</th>\n",
       "      <td>NaN</td>\n",
       "      <td>NaN</td>\n",
       "      <td>NaN</td>\n",
       "    </tr>\n",
       "    <tr>\n",
       "      <th>31863</th>\n",
       "      <td>NaN</td>\n",
       "      <td>NaN</td>\n",
       "      <td>NaN</td>\n",
       "    </tr>\n",
       "  </tbody>\n",
       "</table>\n",
       "<p>962 rows × 3 columns</p>\n",
       "</div>"
      ],
      "text/plain": [
       "       AOI[LeftStim_Shoulder]Hit  AOI[RightStim_Hose]Hit  \\\n",
       "30902                        NaN                     NaN   \n",
       "30903                        NaN                     NaN   \n",
       "30904                        NaN                     NaN   \n",
       "30905                        NaN                     NaN   \n",
       "30906                        NaN                     NaN   \n",
       "...                          ...                     ...   \n",
       "31859                        NaN                     NaN   \n",
       "31860                        NaN                     NaN   \n",
       "31861                        NaN                     NaN   \n",
       "31862                        NaN                     NaN   \n",
       "31863                        NaN                     NaN   \n",
       "\n",
       "       AOI[WholeScreen]Hit.4  \n",
       "30902                    NaN  \n",
       "30903                    NaN  \n",
       "30904                    NaN  \n",
       "30905                    NaN  \n",
       "30906                    NaN  \n",
       "...                      ...  \n",
       "31859                    NaN  \n",
       "31860                    NaN  \n",
       "31861                    NaN  \n",
       "31862                    NaN  \n",
       "31863                    NaN  \n",
       "\n",
       "[962 rows x 3 columns]"
      ]
     },
     "execution_count": 73,
     "metadata": {},
     "output_type": "execute_result"
    }
   ],
   "source": [
    "sub[k24[:3]]"
   ]
  },
  {
   "cell_type": "code",
   "execution_count": 12,
   "metadata": {},
   "outputs": [],
   "source": [
    "names={'P03':'Ada2', 'ClaireJune2':'ClaireJune2', 'ClaireP1':'ClaireP1', 'BrianP2':'BrianP2', 'SKJ_P2':'SKJ_P2','Adatake2':'Ada'}\n",
    "tdf['ParticipantName']=tdf['ParticipantName'].map(names)"
   ]
  },
  {
   "cell_type": "code",
   "execution_count": 13,
   "metadata": {
    "colab": {
     "base_uri": "https://localhost:8080/"
    },
    "id": "4KY69VAKFMcI",
    "outputId": "c9b13d2a-64e5-4e1e-fce3-fbd168fba274"
   },
   "outputs": [
    {
     "data": {
      "text/plain": [
       "ClaireP1       107784\n",
       "BrianP2        101390\n",
       "SKJ_P2          96213\n",
       "Ada2            36389\n",
       "ClaireJune2     36145\n",
       "Ada             34007\n",
       "Name: ParticipantName, dtype: int64"
      ]
     },
     "execution_count": 13,
     "metadata": {},
     "output_type": "execute_result"
    }
   ],
   "source": [
    "tdf['ParticipantName'].value_counts()"
   ]
  },
  {
   "cell_type": "code",
   "execution_count": 14,
   "metadata": {},
   "outputs": [],
   "source": [
    "keep = [col for col in tdf.columns if 'AOI' in col]\n",
    "keep = [col for col in keep if 'Calib' not in col]"
   ]
  },
  {
   "cell_type": "code",
   "execution_count": 16,
   "metadata": {},
   "outputs": [],
   "source": [
    "k24 = keep[4:76]"
   ]
  },
  {
   "cell_type": "markdown",
   "metadata": {},
   "source": [
    "# Read json file"
   ]
  },
  {
   "cell_type": "code",
   "execution_count": 21,
   "metadata": {},
   "outputs": [],
   "source": [
    "import json\n",
    "import os\n",
    "import pandas as pd"
   ]
  },
  {
   "cell_type": "code",
   "execution_count": 22,
   "metadata": {},
   "outputs": [],
   "source": [
    "#claire\n",
    "data_dir=\"C:/Users/tsb7592/Box/Baby Toolbox Operations/Domain Teams/Language/Tobii Pilot/Tobii Verbose Files/Claire\"\n",
    "os.chdir(data_dir)\n",
    "df=pd.read_json('949BCA6A-D3D6-426C-9A94-E806F84E4E72@845BDD10-B9AF-4592-AA4E-0CCE76A0E8CD@00024@2021-05-11-22.11.48.356@LookListening@Claire@VerboseGazeData.json')"
   ]
  },
  {
   "cell_type": "code",
   "execution_count": 23,
   "metadata": {},
   "outputs": [],
   "source": [
    "data_dir=\"C:/Users/tsb7592/Downloads\"\n",
    "os.chdir(data_dir)"
   ]
  },
  {
   "cell_type": "code",
   "execution_count": 252,
   "metadata": {},
   "outputs": [],
   "source": [
    "#second attempt only\n",
    "cdf=pd.read_json('2021-06-23-22.58.27.217@LookListening@Claire@VerboseGazeData.json')"
   ]
  },
  {
   "cell_type": "code",
   "execution_count": 25,
   "metadata": {},
   "outputs": [],
   "source": [
    "cols=['itemID','eventName','gazeLocationName', 'gazeLocationOnScreen', 'arHitTestLookAtPointPositionX', 'arHitTestLookAtPointPositionY',\"lookAtPointX\", \"lookAtPointY\",]"
   ]
  },
  {
   "cell_type": "markdown",
   "metadata": {},
   "source": [
    "# Clean the data for machine learning"
   ]
  },
  {
   "cell_type": "code",
   "execution_count": 32,
   "metadata": {},
   "outputs": [],
   "source": [
    "cols=['itemID','eventName', 'gazeLocationName','gazeLocationOnScreen',\n",
    "      'arHitTestLookAtPointPositionX', 'arHitTestLookAtPointPositionY',\n",
    " 'lookAtPointX', 'lookAtPointY','NewLocation','NewOnScreen']"
   ]
  },
  {
   "cell_type": "code",
   "execution_count": 257,
   "metadata": {},
   "outputs": [],
   "source": [
    "#Training set for Claire\n",
    "\n",
    "def combine_tsv_json(tdf, df, person, k24):\n",
    "    ct = tdf[tdf['ParticipantName']==person][k24]\n",
    "    begin =list(df[df['eventName'].str.contains('presentedLiveItem')].index)\n",
    "    end = list(df[df['eventName'].str.contains('completedLiveItem')].index)\n",
    "\n",
    "    rv = []\n",
    "    for i in range(24):\n",
    "        lcol,rcol,wcol = k24[3*i:3*i+3]\n",
    "        sub = ct[ct[wcol].notnull()]\n",
    "    \n",
    "        idx =[]\n",
    "        mni =df.iloc[begin[i]:end[i]][['lookAtPointX','lookAtPointY']]\n",
    "        mni =mni[mni['lookAtPointX'].notnull()]\n",
    "        print(i, sub.shape[0], mni.shape[0])\n",
    "        My_list = [*range(mni.shape[0])]\n",
    "        ratio = round(sub.shape[0]/mni.shape[0], 2) - 0.03\n",
    "        idx = [int(round(element * ratio)) for element in My_list]\n",
    "        sub = sub.iloc[idx].reset_index()\n",
    "        sub = sub[[lcol,rcol,wcol]]\n",
    "        js =  mni.reset_index()\n",
    "        sub.columns = ['Left','Right','Wholescreen']\n",
    "        result = pd.concat([sub, js[['lookAtPointX','lookAtPointY']] ], axis =1)\n",
    "        result['item'] = i\n",
    "        rv.append(result)\n",
    "    \n",
    "    data = pd.concat(rv)\n",
    "    \n",
    "    #Create a Y variable base on Left, right, onscreen, offscreen\n",
    "    data.loc[(data['Left'] == 1), 'Y'] = 'L'\n",
    "    data.loc[(data['Right'] == 1), 'Y'] = 'R'\n",
    "    data.loc[((data['Left'] == 0) & (data['Right'] ==0)& (data['Wholescreen'] ==0)), 'Y'] = 'F'\n",
    "    data.loc[((data['Left'] == 0) & (data['Right'] ==0)& (data['Wholescreen'] ==1)), 'Y'] = 'O'\n",
    "    \n",
    "    return data"
   ]
  },
  {
   "cell_type": "code",
   "execution_count": 258,
   "metadata": {},
   "outputs": [
    {
     "name": "stdout",
     "output_type": "stream",
     "text": [
      "0 1042 480\n",
      "1 960 481\n",
      "2 961 480\n",
      "3 1041 479\n",
      "4 960 481\n",
      "5 1041 478\n",
      "6 1040 479\n",
      "7 961 480\n",
      "8 960 480\n",
      "9 961 480\n",
      "10 1041 480\n",
      "11 1041 480\n",
      "12 1041 481\n",
      "13 1040 480\n",
      "14 1041 480\n",
      "15 960 480\n",
      "16 962 480\n",
      "17 1040 480\n",
      "18 1040 481\n",
      "19 961 479\n",
      "20 1040 480\n",
      "21 1040 480\n",
      "22 960 480\n",
      "23 962 439\n",
      "0 1043 479\n",
      "1 1014 480\n",
      "2 959 480\n",
      "3 986 478\n",
      "4 986 481\n",
      "5 958 480\n",
      "6 987 480\n",
      "7 958 480\n",
      "8 957 480\n",
      "9 958 480\n",
      "10 1043 480\n",
      "11 960 479\n",
      "12 987 481\n",
      "13 986 479\n",
      "14 958 481\n",
      "15 987 480\n",
      "16 985 482\n",
      "17 958 480\n",
      "18 987 481\n",
      "19 987 479\n",
      "20 986 481\n",
      "21 986 481\n",
      "22 958 480\n",
      "23 959 481\n"
     ]
    }
   ],
   "source": [
    "c1  = combine_tsv_json(tdf, df, 'ClaireP1', k24)\n",
    "c2  = combine_tsv_json(tdf, cdf, 'ClaireJune2', k24)"
   ]
  },
  {
   "cell_type": "code",
   "execution_count": 259,
   "metadata": {},
   "outputs": [
    {
     "data": {
      "text/plain": [
       "L    5776\n",
       "R    4186\n",
       "F    1103\n",
       "O     413\n",
       "Name: Y, dtype: int64"
      ]
     },
     "execution_count": 259,
     "metadata": {},
     "output_type": "execute_result"
    }
   ],
   "source": [
    "c1.Y.value_counts()"
   ]
  },
  {
   "cell_type": "code",
   "execution_count": 261,
   "metadata": {},
   "outputs": [],
   "source": [
    "# example of multi-class classification task\n",
    "from numpy import where\n",
    "from collections import Counter\n",
    "from sklearn.datasets import make_blobs\n",
    "from matplotlib import pyplot\n",
    "\n",
    "from sklearn import datasets\n",
    "from sklearn.multiclass import OneVsRestClassifier\n",
    "from sklearn.svm import LinearSVC\n",
    "\n",
    "X = c1[['lookAtPointX','lookAtPointY']] \n",
    "y = c1['Y']"
   ]
  },
  {
   "cell_type": "code",
   "execution_count": 262,
   "metadata": {},
   "outputs": [
    {
     "name": "stdout",
     "output_type": "stream",
     "text": [
      "              precision    recall  f1-score   support\n",
      "\n",
      "           F      0.000     0.000     0.000       273\n",
      "           L      0.687     0.858     0.763      1433\n",
      "           O      0.000     0.000     0.000       120\n",
      "           R      0.694     0.718     0.706      1044\n",
      "\n",
      "    accuracy                          0.690      2870\n",
      "   macro avg      0.345     0.394     0.367      2870\n",
      "weighted avg      0.595     0.690     0.638      2870\n",
      "\n"
     ]
    }
   ],
   "source": [
    "from sklearn import metrics\n",
    "from sklearn.model_selection import train_test_split\n",
    "x_train, x_test, y_train, y_test = train_test_split(X, y, random_state = True, test_size = 0.25) \n",
    "y_pred =OneVsRestClassifier(LinearSVC(random_state=0)).fit(x_train, y_train).predict(x_test)\n",
    "\n",
    "# Print the precision and recall, among other metrics\n",
    "print(metrics.classification_report(y_test, y_pred, digits=3))"
   ]
  },
  {
   "cell_type": "code",
   "execution_count": 264,
   "metadata": {},
   "outputs": [
    {
     "name": "stdout",
     "output_type": "stream",
     "text": [
      "              precision    recall  f1-score   support\n",
      "\n",
      "           F      0.000     0.000     0.000      1361\n",
      "           L      0.670     0.844     0.747      4985\n",
      "           O      0.000     0.000     0.000       186\n",
      "           R      0.742     0.779     0.760      4991\n",
      "\n",
      "    accuracy                          0.703     11523\n",
      "   macro avg      0.353     0.406     0.377     11523\n",
      "weighted avg      0.611     0.703     0.652     11523\n",
      "\n"
     ]
    }
   ],
   "source": [
    "x_train= c1[['lookAtPointX','lookAtPointY']] \n",
    "y_train = c1['Y']\n",
    "x_test= c2[['lookAtPointX','lookAtPointY']] \n",
    "y_test = c2['Y']\n",
    "\n",
    "y_pred =OneVsRestClassifier(LinearSVC(random_state=0)).fit(x_train, y_train).predict(x_test)\n",
    "\n",
    "# Print the precision and recall, among other metrics\n",
    "print(metrics.classification_report(y_test, y_pred, digits=3))"
   ]
  },
  {
   "cell_type": "code",
   "execution_count": 265,
   "metadata": {},
   "outputs": [],
   "source": [
    "#Sheila\n",
    "data_dir=\"C:/Users/tsb7592/Box/Baby Toolbox Operations/Domain Teams/Language/Tobii Pilot/Tobii Verbose Files/Sheila\"\n",
    "os.chdir(data_dir)\n",
    "sdf=pd.read_json('B8C654C6-5EAA-452E-8A80-B0281F7533C8@845BDD10-B9AF-4592-AA4E-0CCE76A0E8CD@00030@2021-05-12-00.31.22.201@LookListening@SKJ@VerboseGazeData.json')"
   ]
  },
  {
   "cell_type": "code",
   "execution_count": 267,
   "metadata": {},
   "outputs": [
    {
     "name": "stdout",
     "output_type": "stream",
     "text": [
      "0 998 480\n",
      "1 998 480\n",
      "2 997 479\n",
      "3 997 480\n",
      "4 998 480\n",
      "5 998 480\n",
      "6 998 480\n",
      "7 926 479\n",
      "8 997 480\n",
      "9 927 479\n",
      "10 998 480\n",
      "11 997 480\n",
      "12 997 480\n",
      "13 926 480\n",
      "14 998 479\n",
      "15 998 480\n",
      "16 926 480\n",
      "17 997 480\n",
      "18 998 479\n",
      "19 998 479\n",
      "20 998 480\n",
      "21 997 481\n",
      "22 997 479\n",
      "23 997 480\n"
     ]
    }
   ],
   "source": [
    "s1  = combine_tsv_json(tdf, sdf, 'SKJ_P2', k24)"
   ]
  },
  {
   "cell_type": "code",
   "execution_count": 268,
   "metadata": {},
   "outputs": [
    {
     "name": "stdout",
     "output_type": "stream",
     "text": [
      "              precision    recall  f1-score   support\n",
      "\n",
      "           F      0.000     0.000     0.000       240\n",
      "           L      0.781     0.855     0.816      1331\n",
      "           O      0.000     0.000     0.000       109\n",
      "           R      0.731     0.867     0.793      1199\n",
      "\n",
      "    accuracy                          0.756      2879\n",
      "   macro avg      0.378     0.430     0.402      2879\n",
      "weighted avg      0.665     0.756     0.708      2879\n",
      "\n"
     ]
    }
   ],
   "source": [
    "X = s1[['lookAtPointX','lookAtPointY']] \n",
    "y = s1['Y']\n",
    "\n",
    "x_train, x_test, y_train, y_test = train_test_split(X, y, random_state = True, test_size = 0.25) \n",
    "y_pred =OneVsRestClassifier(LinearSVC(random_state=0)).fit(x_train, y_train).predict(x_test)\n",
    "\n",
    "# Print the precision and recall, among other metrics\n",
    "print(metrics.classification_report(y_test, y_pred, digits=3))"
   ]
  },
  {
   "cell_type": "code",
   "execution_count": 274,
   "metadata": {},
   "outputs": [
    {
     "data": {
      "text/plain": [
       "{'Ada':      left  right  onScreenAway  offScreenAway\n",
       " 0   381.0  127.0          61.0          376.0\n",
       " 1   185.0  130.0          46.0          640.0\n",
       " 2   204.0  103.0          71.0          623.0\n",
       " 3    34.0  430.0          78.0          482.0\n",
       " 4   154.0  486.0           1.0          305.0\n",
       " 5    50.0   73.0          32.0          792.0\n",
       " 6    62.0   41.0         199.0          698.0\n",
       " 7   217.0  282.0          61.0          412.0\n",
       " 8    99.0  369.0          10.0          468.0\n",
       " 9   115.0   85.0          87.0          658.0\n",
       " 10  199.0  102.0           0.0          672.0\n",
       " 11  334.0  324.0           3.0          338.0\n",
       " 12  121.0   32.0          99.0          697.0\n",
       " 13  112.0  274.0          26.0          561.0\n",
       " 14   56.0  369.0          38.0          510.0\n",
       " 15  158.0  372.0           0.0          443.0\n",
       " 16  227.0  500.0          11.0          208.0\n",
       " 17    0.0   92.0          11.0          844.0\n",
       " 18  151.0    0.0          30.0          819.0\n",
       " 19   11.0  103.0          48.0          812.0\n",
       " 20  282.0  199.0          72.0          420.0\n",
       " 21   69.0  139.0          48.0          691.0\n",
       " 22    5.0   21.0           7.0          943.0\n",
       " 23   79.0  120.0          36.0          738.0,\n",
       " 'Ada2':      left  right  onScreenAway  offScreenAway\n",
       " 0   626.0  260.0          39.0          126.0\n",
       " 1   200.0  216.0         104.0          479.0\n",
       " 2   472.0  124.0          28.0          401.0\n",
       " 3   159.0    0.0          52.0          763.0\n",
       " 4   228.0  233.0          31.0          561.0\n",
       " 5   166.0  246.0          17.0          571.0\n",
       " 6    88.0  502.0          73.0          308.0\n",
       " 7    62.0  215.0           0.0          696.0\n",
       " 8   110.0  347.0          52.0          516.0\n",
       " 9   310.0  202.0          29.0          458.0\n",
       " 10  719.0  155.0          26.0           70.0\n",
       " 11  564.0   67.0          34.0          307.0\n",
       " 12  253.0  121.0          71.0          526.0\n",
       " 13   53.0  483.0           7.0          456.0\n",
       " 14  113.0  204.0           0.0          655.0\n",
       " 15  207.0  476.0          64.0          250.0\n",
       " 16  454.0  405.0           0.0          111.0\n",
       " 17  192.0  198.0           0.0          636.0\n",
       " 18  385.0   79.0          28.0          480.0\n",
       " 19  176.0  341.0           0.0          483.0\n",
       " 20  485.0  352.0          37.0           96.0\n",
       " 21  201.0  175.0          20.0          629.0\n",
       " 22   70.0  548.0           9.0          373.0\n",
       " 23  200.0  321.0          31.0          419.0,\n",
       " 'ClaireJune2':      left  right  onScreenAway  offScreenAway\n",
       " 0   508.0  474.0          28.0           33.0\n",
       " 1   193.0  677.0           0.0          144.0\n",
       " 2   516.0  229.0           0.0          214.0\n",
       " 3   641.0  294.0          51.0            0.0\n",
       " 4   386.0  526.0          13.0           61.0\n",
       " 5   326.0  627.0           5.0            0.0\n",
       " 6   354.0  605.0          28.0            0.0\n",
       " 7   738.0  187.0          20.0           13.0\n",
       " 8   522.0  435.0           0.0            0.0\n",
       " 9   377.0  537.0          24.0           20.0\n",
       " 10   81.0  924.0           0.0           38.0\n",
       " 11  289.0  548.0           0.0          123.0\n",
       " 12  454.0  219.0          28.0          286.0\n",
       " 13  257.0  523.0          13.0          193.0\n",
       " 14  576.0   59.0          21.0          302.0\n",
       " 15  459.0  200.0           0.0          328.0\n",
       " 16  558.0  394.0          33.0            0.0\n",
       " 17  595.0  253.0          16.0           94.0\n",
       " 18  152.0  406.0          35.0          394.0\n",
       " 19  315.0  267.0           0.0          405.0\n",
       " 20  239.0  747.0           0.0            0.0\n",
       " 21  352.0  634.0           0.0            0.0\n",
       " 22  407.0  397.0          52.0          102.0\n",
       " 23  815.0  101.0          22.0           21.0,\n",
       " 'ClaireP1':      left  right  onScreenAway  offScreenAway\n",
       " 0   541.0  341.0          95.0           65.0\n",
       " 1   176.0  761.0           0.0           23.0\n",
       " 2   497.0  314.0          20.0          130.0\n",
       " 3   793.0  129.0          48.0           71.0\n",
       " 4   357.0  435.0          40.0          128.0\n",
       " 5   471.0  201.0         151.0          218.0\n",
       " 6   274.0  594.0          91.0           81.0\n",
       " 7   600.0  230.0          14.0          117.0\n",
       " 8   353.0  489.0          29.0           89.0\n",
       " 9   538.0  198.0          11.0          214.0\n",
       " 10  176.0  824.0           0.0           41.0\n",
       " 11  381.0  440.0          40.0          180.0\n",
       " 12  681.0  318.0          14.0           28.0\n",
       " 13  308.0  483.0         139.0          110.0\n",
       " 14  706.0  244.0          62.0           29.0\n",
       " 15  837.0   63.0           7.0           53.0\n",
       " 16  645.0  289.0           0.0           28.0\n",
       " 17  673.0  329.0          17.0           21.0\n",
       " 18  768.0  194.0          26.0           52.0\n",
       " 19  461.0  364.0           6.0          130.0\n",
       " 20  543.0  475.0           0.0           22.0\n",
       " 21  285.0  619.0          56.0           80.0\n",
       " 22  336.0  330.0          29.0          265.0\n",
       " 23  725.0   70.0          27.0          140.0,\n",
       " 'BrianP2':      left  right  onScreenAway  offScreenAway\n",
       " 0   679.0  244.0          20.0           28.0\n",
       " 1   278.0  704.0          41.0           23.0\n",
       " 2   631.0  123.0         201.0           16.0\n",
       " 3   565.0   18.0         341.0           47.0\n",
       " 4   185.0  786.0           0.0            0.0\n",
       " 5     0.0  574.0         380.0           17.0\n",
       " 6    73.0  531.0         367.0            0.0\n",
       " 7   714.0  245.0           0.0           12.0\n",
       " 8   637.0  144.0         190.0            0.0\n",
       " 9   161.0  610.0         169.0           31.0\n",
       " 10    0.0  544.0         405.0           22.0\n",
       " 11  547.0    2.0         422.0            0.0\n",
       " 12    0.0  978.0          26.0           42.0\n",
       " 13  365.0  587.0           0.0           19.0\n",
       " 14  594.0  164.0         214.0            0.0\n",
       " 15  717.0  149.0         105.0            0.0\n",
       " 16  836.0  150.0           0.0           60.0\n",
       " 17  315.0  638.0           0.0           19.0\n",
       " 18  601.0    0.0         357.0           13.0\n",
       " 19  516.0  242.0         213.0            0.0\n",
       " 20  170.0  767.0          14.0           20.0\n",
       " 21  116.0  750.0          90.0           15.0\n",
       " 22   28.0  551.0         361.0           32.0\n",
       " 23  658.0    0.0         388.0            0.0,\n",
       " 'SKJ_P2':      left  right  onScreenAway  offScreenAway\n",
       " 0   722.0  154.0          52.0           70.0\n",
       " 1   118.0  841.0           4.0           35.0\n",
       " 2   846.0  111.0           9.0           31.0\n",
       " 3   644.0  258.0          51.0           44.0\n",
       " 4   221.0  688.0           6.0           83.0\n",
       " 5   171.0  719.0           0.0          108.0\n",
       " 6   317.0  552.0          63.0           66.0\n",
       " 7   362.0  184.0         227.0          153.0\n",
       " 8   707.0  217.0           0.0           73.0\n",
       " 9    72.0  794.0           0.0           61.0\n",
       " 10  324.0  571.0          68.0           35.0\n",
       " 11  610.0  293.0          40.0           54.0\n",
       " 12  281.0  617.0           0.0           99.0\n",
       " 13  100.0  645.0         124.0           57.0\n",
       " 14  775.0  146.0          22.0           55.0\n",
       " 15  632.0  287.0           0.0           79.0\n",
       " 16  770.0   94.0           0.0           62.0\n",
       " 17  356.0  552.0           0.0           89.0\n",
       " 18  547.0  357.0          30.0           64.0\n",
       " 19  593.0  361.0           0.0           44.0\n",
       " 20  111.0  568.0           6.0          313.0\n",
       " 21  261.0  488.0          55.0          193.0\n",
       " 22  218.0  550.0         119.0          110.0\n",
       " 23  778.0  142.0          26.0           51.0}"
      ]
     },
     "execution_count": 274,
     "metadata": {},
     "output_type": "execute_result"
    }
   ],
   "source": [
    "ppl"
   ]
  },
  {
   "cell_type": "code",
   "execution_count": 275,
   "metadata": {},
   "outputs": [
    {
     "name": "stdout",
     "output_type": "stream",
     "text": [
      "0 945 458\n",
      "1 1001 275\n",
      "2 1001 293\n",
      "3 1024 480\n",
      "4 946 428\n",
      "5 947 337\n",
      "6 1000 369\n",
      "7 972 480\n",
      "8 946 479\n",
      "9 945 479\n",
      "10 973 303\n",
      "11 999 424\n",
      "12 949 480\n",
      "13 973 480\n",
      "14 973 396\n",
      "15 973 263\n",
      "16 946 480\n",
      "17 947 437\n",
      "18 1000 480\n",
      "19 974 480\n",
      "20 973 481\n",
      "21 947 479\n",
      "22 976 381\n",
      "23 973 469\n",
      "0 1051 482\n",
      "1 999 297\n",
      "2 1025 481\n",
      "3 974 382\n",
      "4 1053 481\n",
      "5 1000 407\n",
      "6 971 479\n",
      "7 973 256\n",
      "8 1025 425\n",
      "9 999 334\n",
      "10 970 480\n",
      "11 972 359\n",
      "12 971 479\n",
      "13 999 441\n",
      "14 972 325\n",
      "15 997 480\n",
      "16 970 481\n",
      "17 1026 479\n",
      "18 972 481\n",
      "19 1000 403\n",
      "20 970 480\n",
      "21 1025 479\n",
      "22 1000 472\n",
      "23 971 359\n"
     ]
    }
   ],
   "source": [
    "#Ada\n",
    "data_dir=\"C:/Users/tsb7592/Downloads\"\n",
    "os.chdir(data_dir)\n",
    "adf=pd.read_json('Ada@VerboseGazeData.json')\n",
    "adf2=pd.read_json('2021-06-24-12.42.35.513@LookListening@Ada@VerboseGazeData 2.json')\n",
    "a1  = combine_tsv_json(tdf, adf, 'Ada', k24)\n",
    "a2  = combine_tsv_json(tdf, adf2, 'Ada2', k24)"
   ]
  },
  {
   "cell_type": "code",
   "execution_count": 277,
   "metadata": {},
   "outputs": [
    {
     "name": "stdout",
     "output_type": "stream",
     "text": [
      "              precision    recall  f1-score   support\n",
      "\n",
      "           F      0.000     0.000     0.000      1071\n",
      "           L      0.449     0.493     0.470       712\n",
      "           O      0.025     0.047     0.033        86\n",
      "           R      0.391     0.921     0.549       687\n",
      "\n",
      "    accuracy                          0.387      2556\n",
      "   macro avg      0.216     0.365     0.263      2556\n",
      "weighted avg      0.231     0.387     0.280      2556\n",
      "\n"
     ]
    }
   ],
   "source": [
    "x_train= a1[['lookAtPointX','lookAtPointY']] \n",
    "y_train = a1['Y']\n",
    "x_test= a2[['lookAtPointX','lookAtPointY']] \n",
    "y_test = a2['Y']\n",
    "\n",
    "x_train, x_test, y_train, y_test = train_test_split(X, y, random_state = True, test_size = 0.25) \n",
    "y_pred =OneVsRestClassifier(LinearSVC(random_state=0)).fit(x_train, y_train).predict(x_test)\n",
    "\n",
    "# Print the precision and recall, among other metrics\n",
    "print(metrics.classification_report(y_test, y_pred, digits=3))"
   ]
  },
  {
   "cell_type": "code",
   "execution_count": 266,
   "metadata": {},
   "outputs": [],
   "source": [
    "#Brian\n",
    "data_dir=\"C:/Users/tsb7592/Box/Baby Toolbox Operations/Domain Teams/Language/Tobii Pilot/Tobii Verbose Files/Brian\"\n",
    "os.chdir(data_dir)\n",
    "bdf=pd.read_json('A87CEC62-214F-4B81-A3CB-45B1DA445644@845BDD10-B9AF-4592-AA4E-0CCE76A0E8CD@00026@2021-05-12-00.13.17.121@LookListening@Brian@VerboseGazeData.json')"
   ]
  },
  {
   "cell_type": "code",
   "execution_count": 269,
   "metadata": {},
   "outputs": [
    {
     "name": "stdout",
     "output_type": "stream",
     "text": [
      "0 971 480\n",
      "1 1046 479\n",
      "2 971 480\n",
      "3 971 480\n",
      "4 971 481\n",
      "5 971 480\n",
      "6 971 479\n",
      "7 971 480\n",
      "8 971 482\n",
      "9 971 480\n",
      "10 971 480\n",
      "11 971 480\n",
      "12 1046 480\n",
      "13 971 479\n",
      "14 972 481\n",
      "15 971 481\n",
      "16 1046 480\n",
      "17 972 480\n",
      "18 971 479\n",
      "19 971 480\n",
      "20 971 481\n",
      "21 971 480\n",
      "22 972 480\n",
      "23 1046 481\n"
     ]
    }
   ],
   "source": [
    "b1  = combine_tsv_json(tdf, bdf, 'BrianP2', k24)"
   ]
  },
  {
   "cell_type": "code",
   "execution_count": 270,
   "metadata": {},
   "outputs": [
    {
     "name": "stdout",
     "output_type": "stream",
     "text": [
      "              precision    recall  f1-score   support\n",
      "\n",
      "           F      0.000     0.000     0.000        41\n",
      "           L      0.809     0.890     0.848      1214\n",
      "           O      0.804     0.560     0.660       536\n",
      "           R      0.858     0.898     0.878      1090\n",
      "\n",
      "    accuracy                          0.819      2881\n",
      "   macro avg      0.618     0.587     0.596      2881\n",
      "weighted avg      0.815     0.819     0.812      2881\n",
      "\n"
     ]
    }
   ],
   "source": [
    "X = b1[['lookAtPointX','lookAtPointY']] \n",
    "y = b1['Y']\n",
    "\n",
    "x_train, x_test, y_train, y_test = train_test_split(X, y, random_state = True, test_size = 0.25) \n",
    "y_pred =OneVsRestClassifier(LinearSVC(random_state=0)).fit(x_train, y_train).predict(x_test)\n",
    "\n",
    "# Print the precision and recall, among other metrics\n",
    "print(metrics.classification_report(y_test, y_pred, digits=3))"
   ]
  }
 ],
 "metadata": {
  "colab": {
   "collapsed_sections": [],
   "name": "gaze.ipynb",
   "provenance": []
  },
  "kernelspec": {
   "display_name": "Python 3",
   "language": "python",
   "name": "python3"
  },
  "language_info": {
   "codemirror_mode": {
    "name": "ipython",
    "version": 3
   },
   "file_extension": ".py",
   "mimetype": "text/x-python",
   "name": "python",
   "nbconvert_exporter": "python",
   "pygments_lexer": "ipython3",
   "version": "3.8.8"
  }
 },
 "nbformat": 4,
 "nbformat_minor": 1
}
