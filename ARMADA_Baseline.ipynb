{
 "cells": [
  {
   "cell_type": "code",
   "execution_count": 1,
   "metadata": {
    "id": "ynY1WcZyRZNL"
   },
   "outputs": [],
   "source": [
    "import numpy as np\n",
    "import pandas as pd\n",
    "import matplotlib.pyplot as plt\n",
    "import matplotlib.cm as cm\n",
    "\n",
    "from itertools import cycle\n",
    "\n",
    "from sklearn import svm, datasets\n",
    "from sklearn.metrics import *\n",
    "from sklearn.metrics import roc_curve, auc\n",
    "from sklearn.model_selection import train_test_split\n",
    "from sklearn.preprocessing import label_binarize\n",
    "from sklearn.linear_model import LogisticRegression\n",
    "from scipy import interp\n",
    "from sklearn.metrics import roc_auc_score"
   ]
  },
  {
   "cell_type": "code",
   "execution_count": 2,
   "metadata": {
    "id": "_ZTvZjNPZwli"
   },
   "outputs": [],
   "source": [
    "import warnings\n",
    "warnings.filterwarnings('ignore')"
   ]
  },
  {
   "cell_type": "markdown",
   "metadata": {
    "id": "dNBZgau7QvSC"
   },
   "source": [
    "# Load the Data"
   ]
  },
  {
   "cell_type": "code",
   "execution_count": 3,
   "metadata": {
    "id": "SPKdLsF0Rg36"
   },
   "outputs": [],
   "source": [
    "#Data saved in csv/excel\n",
    "import glob, os\n",
    "\n",
    "data_dir= \"C:/Users/tsb7592/Box/ARMADA Operations/Data and Analysis/Mar 2021 UDS data (deidentified)\"\n",
    "os.chdir(data_dir)"
   ]
  },
  {
   "cell_type": "code",
   "execution_count": 4,
   "metadata": {},
   "outputs": [
    {
     "data": {
      "text/plain": [
       "(1046, 618)"
      ]
     },
     "execution_count": 4,
     "metadata": {},
     "output_type": "execute_result"
    }
   ],
   "source": [
    "uds= pd.read_csv(\"ARMADA_UDS_MAR21_DI.CSV\")\n",
    "uds.shape"
   ]
  },
  {
   "cell_type": "code",
   "execution_count": 5,
   "metadata": {},
   "outputs": [],
   "source": [
    "import sys \n",
    "\n",
    "stdoutOrigin=sys.stdout \n",
    "sys.stdout = open(\"C:/Users/tsb7592/Box/ARMADA Operations/Data and Analysis/stat_output.txt\", \"w\")"
   ]
  },
  {
   "cell_type": "code",
   "execution_count": 6,
   "metadata": {
    "colab": {
     "base_uri": "https://localhost:8080/"
    },
    "id": "ZavmAD7CjGfB",
    "outputId": "9d078ce1-e895-4264-8126-88859813acee"
   },
   "outputs": [
    {
     "data": {
      "text/plain": [
       "(1083, 189)"
      ]
     },
     "execution_count": 6,
     "metadata": {},
     "output_type": "execute_result"
    }
   ],
   "source": [
    "armada= pd.read_csv(\"C:/Users/tsb7592/Box/ARMADA Operations/Data and Analysis/May 2020 Interim Analysis Data for Manuscripts/ARMADA_TBSCORES_MAY2020.csv\")\n",
    "armada.shape"
   ]
  },
  {
   "cell_type": "code",
   "execution_count": 7,
   "metadata": {},
   "outputs": [
    {
     "data": {
      "text/html": [
       "<div>\n",
       "<style scoped>\n",
       "    .dataframe tbody tr th:only-of-type {\n",
       "        vertical-align: middle;\n",
       "    }\n",
       "\n",
       "    .dataframe tbody tr th {\n",
       "        vertical-align: top;\n",
       "    }\n",
       "\n",
       "    .dataframe thead th {\n",
       "        text-align: right;\n",
       "    }\n",
       "</style>\n",
       "<table border=\"1\" class=\"dataframe\">\n",
       "  <thead>\n",
       "    <tr style=\"text-align: right;\">\n",
       "      <th></th>\n",
       "      <th>ptid</th>\n",
       "      <th>assmnt</th>\n",
       "      <th>site</th>\n",
       "      <th>cohort2</th>\n",
       "      <th>LANGUAGE</th>\n",
       "      <th>AGE</th>\n",
       "      <th>gender_rc</th>\n",
       "      <th>ethnicity_rc</th>\n",
       "      <th>race_tb_rc</th>\n",
       "      <th>racetb_w</th>\n",
       "      <th>...</th>\n",
       "      <th>VisualAc_FCTScore</th>\n",
       "      <th>VisualAc_Raw</th>\n",
       "      <th>VisualAc_svalogmar</th>\n",
       "      <th>VisualAc_svasnellen</th>\n",
       "      <th>VisualAc_UCSScore</th>\n",
       "      <th>WIN_Raw_L</th>\n",
       "      <th>WIN_Raw_R</th>\n",
       "      <th>WIN_Thresh_L</th>\n",
       "      <th>WIN_Thresh_R</th>\n",
       "      <th>race_summary</th>\n",
       "    </tr>\n",
       "  </thead>\n",
       "  <tbody>\n",
       "    <tr>\n",
       "      <th>0</th>\n",
       "      <td>1.45635</td>\n",
       "      <td>1</td>\n",
       "      <td>Emory</td>\n",
       "      <td>6</td>\n",
       "      <td>en-US</td>\n",
       "      <td>82</td>\n",
       "      <td>2</td>\n",
       "      <td>1</td>\n",
       "      <td>2</td>\n",
       "      <td>0</td>\n",
       "      <td>...</td>\n",
       "      <td>60.0</td>\n",
       "      <td>82.0</td>\n",
       "      <td>-0.04</td>\n",
       "      <td>20/16-3</td>\n",
       "      <td>95.0</td>\n",
       "      <td>20.0</td>\n",
       "      <td>18.0</td>\n",
       "      <td>10.0</td>\n",
       "      <td>11.6</td>\n",
       "      <td>2</td>\n",
       "    </tr>\n",
       "    <tr>\n",
       "      <th>1</th>\n",
       "      <td>1.46421</td>\n",
       "      <td>1</td>\n",
       "      <td>Emory</td>\n",
       "      <td>4</td>\n",
       "      <td>en-US</td>\n",
       "      <td>88</td>\n",
       "      <td>1</td>\n",
       "      <td>1</td>\n",
       "      <td>1</td>\n",
       "      <td>1</td>\n",
       "      <td>...</td>\n",
       "      <td>NaN</td>\n",
       "      <td>NaN</td>\n",
       "      <td>NaN</td>\n",
       "      <td>NaN</td>\n",
       "      <td>NaN</td>\n",
       "      <td>NaN</td>\n",
       "      <td>NaN</td>\n",
       "      <td>NaN</td>\n",
       "      <td>NaN</td>\n",
       "      <td>1</td>\n",
       "    </tr>\n",
       "    <tr>\n",
       "      <th>2</th>\n",
       "      <td>1.46421</td>\n",
       "      <td>2</td>\n",
       "      <td>Emory</td>\n",
       "      <td>4</td>\n",
       "      <td>en-US</td>\n",
       "      <td>89</td>\n",
       "      <td>1</td>\n",
       "      <td>1</td>\n",
       "      <td>1</td>\n",
       "      <td>1</td>\n",
       "      <td>...</td>\n",
       "      <td>NaN</td>\n",
       "      <td>76.0</td>\n",
       "      <td>0.08</td>\n",
       "      <td>20/20-4</td>\n",
       "      <td>82.0</td>\n",
       "      <td>0.0</td>\n",
       "      <td>0.0</td>\n",
       "      <td>26.0</td>\n",
       "      <td>26.0</td>\n",
       "      <td>1</td>\n",
       "    </tr>\n",
       "    <tr>\n",
       "      <th>3</th>\n",
       "      <td>1.46422</td>\n",
       "      <td>1</td>\n",
       "      <td>Emory</td>\n",
       "      <td>3</td>\n",
       "      <td>en-US</td>\n",
       "      <td>88</td>\n",
       "      <td>2</td>\n",
       "      <td>1</td>\n",
       "      <td>1</td>\n",
       "      <td>1</td>\n",
       "      <td>...</td>\n",
       "      <td>NaN</td>\n",
       "      <td>70.0</td>\n",
       "      <td>0.20</td>\n",
       "      <td>20/30</td>\n",
       "      <td>70.0</td>\n",
       "      <td>7.0</td>\n",
       "      <td>9.0</td>\n",
       "      <td>20.4</td>\n",
       "      <td>18.8</td>\n",
       "      <td>1</td>\n",
       "    </tr>\n",
       "    <tr>\n",
       "      <th>4</th>\n",
       "      <td>1.46422</td>\n",
       "      <td>2</td>\n",
       "      <td>Emory</td>\n",
       "      <td>3</td>\n",
       "      <td>en-US</td>\n",
       "      <td>89</td>\n",
       "      <td>2</td>\n",
       "      <td>1</td>\n",
       "      <td>1</td>\n",
       "      <td>1</td>\n",
       "      <td>...</td>\n",
       "      <td>NaN</td>\n",
       "      <td>77.0</td>\n",
       "      <td>0.06</td>\n",
       "      <td>20/20-3</td>\n",
       "      <td>84.0</td>\n",
       "      <td>5.0</td>\n",
       "      <td>8.0</td>\n",
       "      <td>22.0</td>\n",
       "      <td>19.6</td>\n",
       "      <td>1</td>\n",
       "    </tr>\n",
       "  </tbody>\n",
       "</table>\n",
       "<p>5 rows × 189 columns</p>\n",
       "</div>"
      ],
      "text/plain": [
       "      ptid  assmnt   site  cohort2 LANGUAGE  AGE  gender_rc  ethnicity_rc  \\\n",
       "0  1.45635       1  Emory        6    en-US   82          2             1   \n",
       "1  1.46421       1  Emory        4    en-US   88          1             1   \n",
       "2  1.46421       2  Emory        4    en-US   89          1             1   \n",
       "3  1.46422       1  Emory        3    en-US   88          2             1   \n",
       "4  1.46422       2  Emory        3    en-US   89          2             1   \n",
       "\n",
       "   race_tb_rc  racetb_w  ...  VisualAc_FCTScore  VisualAc_Raw  \\\n",
       "0           2         0  ...               60.0          82.0   \n",
       "1           1         1  ...                NaN           NaN   \n",
       "2           1         1  ...                NaN          76.0   \n",
       "3           1         1  ...                NaN          70.0   \n",
       "4           1         1  ...                NaN          77.0   \n",
       "\n",
       "   VisualAc_svalogmar  VisualAc_svasnellen  VisualAc_UCSScore  WIN_Raw_L  \\\n",
       "0               -0.04              20/16-3               95.0       20.0   \n",
       "1                 NaN                  NaN                NaN        NaN   \n",
       "2                0.08              20/20-4               82.0        0.0   \n",
       "3                0.20                20/30               70.0        7.0   \n",
       "4                0.06              20/20-3               84.0        5.0   \n",
       "\n",
       "   WIN_Raw_R  WIN_Thresh_L  WIN_Thresh_R  race_summary  \n",
       "0       18.0          10.0          11.6             2  \n",
       "1        NaN           NaN           NaN             1  \n",
       "2        0.0          26.0          26.0             1  \n",
       "3        9.0          20.4          18.8             1  \n",
       "4        8.0          22.0          19.6             1  \n",
       "\n",
       "[5 rows x 189 columns]"
      ]
     },
     "execution_count": 7,
     "metadata": {},
     "output_type": "execute_result"
    }
   ],
   "source": [
    "armada.head()"
   ]
  },
  {
   "cell_type": "markdown",
   "metadata": {
    "id": "aaCteT3SnxeC"
   },
   "source": [
    "# Data Cleaning"
   ]
  },
  {
   "cell_type": "code",
   "execution_count": 8,
   "metadata": {
    "id": "POZdawOEPg5J"
   },
   "outputs": [],
   "source": [
    "#Combine ARMADA with this UDS left join\n",
    "df = pd.merge(armada,uds, how=\"left\", on=['ptid','assmnt'])"
   ]
  },
  {
   "cell_type": "code",
   "execution_count": 9,
   "metadata": {},
   "outputs": [
    {
     "data": {
      "text/html": [
       "<div>\n",
       "<style scoped>\n",
       "    .dataframe tbody tr th:only-of-type {\n",
       "        vertical-align: middle;\n",
       "    }\n",
       "\n",
       "    .dataframe tbody tr th {\n",
       "        vertical-align: top;\n",
       "    }\n",
       "\n",
       "    .dataframe thead th {\n",
       "        text-align: right;\n",
       "    }\n",
       "</style>\n",
       "<table border=\"1\" class=\"dataframe\">\n",
       "  <thead>\n",
       "    <tr style=\"text-align: right;\">\n",
       "      <th></th>\n",
       "      <th>ptid</th>\n",
       "      <th>assmnt</th>\n",
       "      <th>site</th>\n",
       "      <th>cohort2</th>\n",
       "      <th>LANGUAGE</th>\n",
       "      <th>AGE</th>\n",
       "      <th>gender_rc</th>\n",
       "      <th>ethnicity_rc</th>\n",
       "      <th>race_tb_rc</th>\n",
       "      <th>racetb_w</th>\n",
       "      <th>...</th>\n",
       "      <th>RESPHEAR</th>\n",
       "      <th>RESPDIST</th>\n",
       "      <th>RESPINTR</th>\n",
       "      <th>RESPDISN</th>\n",
       "      <th>RESPFATG</th>\n",
       "      <th>RESPEMOT</th>\n",
       "      <th>RESPASST</th>\n",
       "      <th>RESPOTH</th>\n",
       "      <th>RESPOTHX</th>\n",
       "      <th>NACCMOCB</th>\n",
       "    </tr>\n",
       "  </thead>\n",
       "  <tbody>\n",
       "    <tr>\n",
       "      <th>0</th>\n",
       "      <td>1.45635</td>\n",
       "      <td>1</td>\n",
       "      <td>Emory</td>\n",
       "      <td>6</td>\n",
       "      <td>en-US</td>\n",
       "      <td>82</td>\n",
       "      <td>2</td>\n",
       "      <td>1</td>\n",
       "      <td>2</td>\n",
       "      <td>0</td>\n",
       "      <td>...</td>\n",
       "      <td>-4.0</td>\n",
       "      <td>-4.0</td>\n",
       "      <td>-4.0</td>\n",
       "      <td>-4.0</td>\n",
       "      <td>-4.0</td>\n",
       "      <td>-4.0</td>\n",
       "      <td>-4.0</td>\n",
       "      <td>-4.0</td>\n",
       "      <td>-4.0</td>\n",
       "      <td>-4.0</td>\n",
       "    </tr>\n",
       "    <tr>\n",
       "      <th>1</th>\n",
       "      <td>1.46421</td>\n",
       "      <td>1</td>\n",
       "      <td>Emory</td>\n",
       "      <td>4</td>\n",
       "      <td>en-US</td>\n",
       "      <td>88</td>\n",
       "      <td>1</td>\n",
       "      <td>1</td>\n",
       "      <td>1</td>\n",
       "      <td>1</td>\n",
       "      <td>...</td>\n",
       "      <td>-4.0</td>\n",
       "      <td>-4.0</td>\n",
       "      <td>-4.0</td>\n",
       "      <td>-4.0</td>\n",
       "      <td>-4.0</td>\n",
       "      <td>-4.0</td>\n",
       "      <td>-4.0</td>\n",
       "      <td>-4.0</td>\n",
       "      <td>-4.0</td>\n",
       "      <td>-4.0</td>\n",
       "    </tr>\n",
       "    <tr>\n",
       "      <th>2</th>\n",
       "      <td>1.46421</td>\n",
       "      <td>2</td>\n",
       "      <td>Emory</td>\n",
       "      <td>4</td>\n",
       "      <td>en-US</td>\n",
       "      <td>89</td>\n",
       "      <td>1</td>\n",
       "      <td>1</td>\n",
       "      <td>1</td>\n",
       "      <td>1</td>\n",
       "      <td>...</td>\n",
       "      <td>-4.0</td>\n",
       "      <td>-4.0</td>\n",
       "      <td>-4.0</td>\n",
       "      <td>-4.0</td>\n",
       "      <td>-4.0</td>\n",
       "      <td>-4.0</td>\n",
       "      <td>-4.0</td>\n",
       "      <td>-4.0</td>\n",
       "      <td>-4.0</td>\n",
       "      <td>-4.0</td>\n",
       "    </tr>\n",
       "    <tr>\n",
       "      <th>3</th>\n",
       "      <td>1.46422</td>\n",
       "      <td>1</td>\n",
       "      <td>Emory</td>\n",
       "      <td>3</td>\n",
       "      <td>en-US</td>\n",
       "      <td>88</td>\n",
       "      <td>2</td>\n",
       "      <td>1</td>\n",
       "      <td>1</td>\n",
       "      <td>1</td>\n",
       "      <td>...</td>\n",
       "      <td>-4.0</td>\n",
       "      <td>-4.0</td>\n",
       "      <td>-4.0</td>\n",
       "      <td>-4.0</td>\n",
       "      <td>-4.0</td>\n",
       "      <td>-4.0</td>\n",
       "      <td>-4.0</td>\n",
       "      <td>-4.0</td>\n",
       "      <td>-4.0</td>\n",
       "      <td>-4.0</td>\n",
       "    </tr>\n",
       "    <tr>\n",
       "      <th>4</th>\n",
       "      <td>1.46422</td>\n",
       "      <td>2</td>\n",
       "      <td>Emory</td>\n",
       "      <td>3</td>\n",
       "      <td>en-US</td>\n",
       "      <td>89</td>\n",
       "      <td>2</td>\n",
       "      <td>1</td>\n",
       "      <td>1</td>\n",
       "      <td>1</td>\n",
       "      <td>...</td>\n",
       "      <td>-4.0</td>\n",
       "      <td>-4.0</td>\n",
       "      <td>-4.0</td>\n",
       "      <td>-4.0</td>\n",
       "      <td>-4.0</td>\n",
       "      <td>-4.0</td>\n",
       "      <td>-4.0</td>\n",
       "      <td>-4.0</td>\n",
       "      <td>-4.0</td>\n",
       "      <td>-4.0</td>\n",
       "    </tr>\n",
       "  </tbody>\n",
       "</table>\n",
       "<p>5 rows × 805 columns</p>\n",
       "</div>"
      ],
      "text/plain": [
       "      ptid  assmnt   site  cohort2 LANGUAGE  AGE  gender_rc  ethnicity_rc  \\\n",
       "0  1.45635       1  Emory        6    en-US   82          2             1   \n",
       "1  1.46421       1  Emory        4    en-US   88          1             1   \n",
       "2  1.46421       2  Emory        4    en-US   89          1             1   \n",
       "3  1.46422       1  Emory        3    en-US   88          2             1   \n",
       "4  1.46422       2  Emory        3    en-US   89          2             1   \n",
       "\n",
       "   race_tb_rc  racetb_w  ...  RESPHEAR  RESPDIST  RESPINTR  RESPDISN  \\\n",
       "0           2         0  ...      -4.0      -4.0      -4.0      -4.0   \n",
       "1           1         1  ...      -4.0      -4.0      -4.0      -4.0   \n",
       "2           1         1  ...      -4.0      -4.0      -4.0      -4.0   \n",
       "3           1         1  ...      -4.0      -4.0      -4.0      -4.0   \n",
       "4           1         1  ...      -4.0      -4.0      -4.0      -4.0   \n",
       "\n",
       "   RESPFATG  RESPEMOT  RESPASST  RESPOTH  RESPOTHX  NACCMOCB  \n",
       "0      -4.0      -4.0      -4.0     -4.0      -4.0      -4.0  \n",
       "1      -4.0      -4.0      -4.0     -4.0      -4.0      -4.0  \n",
       "2      -4.0      -4.0      -4.0     -4.0      -4.0      -4.0  \n",
       "3      -4.0      -4.0      -4.0     -4.0      -4.0      -4.0  \n",
       "4      -4.0      -4.0      -4.0     -4.0      -4.0      -4.0  \n",
       "\n",
       "[5 rows x 805 columns]"
      ]
     },
     "execution_count": 9,
     "metadata": {},
     "output_type": "execute_result"
    }
   ],
   "source": [
    "df.head()"
   ]
  },
  {
   "cell_type": "code",
   "execution_count": 10,
   "metadata": {},
   "outputs": [],
   "source": [
    "#Only keep the rows with a valid MINDATEDIFF\n",
    "df =df[df.MINDATEDIFF.notnull()]"
   ]
  },
  {
   "cell_type": "code",
   "execution_count": 11,
   "metadata": {
    "colab": {
     "base_uri": "https://localhost:8080/"
    },
    "id": "g5u4kqqvXGs8",
    "outputId": "1b42cdf4-e486-4099-abcd-d8aafddcd4c5"
   },
   "outputs": [
    {
     "data": {
      "text/plain": [
       "(1046, 805)"
      ]
     },
     "execution_count": 11,
     "metadata": {},
     "output_type": "execute_result"
    }
   ],
   "source": [
    "df.shape"
   ]
  },
  {
   "cell_type": "code",
   "execution_count": 12,
   "metadata": {},
   "outputs": [],
   "source": [
    "#MEMORY through comport (so total of 10 variables)\n",
    "keep = ['MEMORY', 'ORIENT', 'JUDGMENT', 'COMMUN', 'HOMEHOBB', 'PERSCARE',\n",
    "       'CDRSUM', 'CDRGLOB', 'COMPORT']"
   ]
  },
  {
   "cell_type": "code",
   "execution_count": 13,
   "metadata": {},
   "outputs": [
    {
     "data": {
      "text/plain": [
       "Index(['ptid', 'assmnt', 'site', 'cohort2', 'LANGUAGE', 'AGE', 'gender_rc',\n",
       "       'ethnicity_rc', 'race_tb_rc', 'racetb_w',\n",
       "       ...\n",
       "       'RESPHEAR', 'RESPDIST', 'RESPINTR', 'RESPDISN', 'RESPFATG', 'RESPEMOT',\n",
       "       'RESPASST', 'RESPOTH', 'RESPOTHX', 'NACCMOCB'],\n",
       "      dtype='object', length=805)"
      ]
     },
     "execution_count": 13,
     "metadata": {},
     "output_type": "execute_result"
    }
   ],
   "source": [
    "df.columns"
   ]
  },
  {
   "cell_type": "code",
   "execution_count": 14,
   "metadata": {},
   "outputs": [
    {
     "data": {
      "text/html": [
       "<div>\n",
       "<style scoped>\n",
       "    .dataframe tbody tr th:only-of-type {\n",
       "        vertical-align: middle;\n",
       "    }\n",
       "\n",
       "    .dataframe tbody tr th {\n",
       "        vertical-align: top;\n",
       "    }\n",
       "\n",
       "    .dataframe thead th {\n",
       "        text-align: right;\n",
       "    }\n",
       "</style>\n",
       "<table border=\"1\" class=\"dataframe\">\n",
       "  <thead>\n",
       "    <tr style=\"text-align: right;\">\n",
       "      <th></th>\n",
       "      <th>MEMORY</th>\n",
       "      <th>ORIENT</th>\n",
       "      <th>JUDGMENT</th>\n",
       "      <th>COMMUN</th>\n",
       "      <th>HOMEHOBB</th>\n",
       "      <th>PERSCARE</th>\n",
       "      <th>CDRSUM</th>\n",
       "      <th>CDRGLOB</th>\n",
       "      <th>COMPORT</th>\n",
       "    </tr>\n",
       "  </thead>\n",
       "  <tbody>\n",
       "    <tr>\n",
       "      <th>0</th>\n",
       "      <td>0.0</td>\n",
       "      <td>0.0</td>\n",
       "      <td>0.0</td>\n",
       "      <td>0.0</td>\n",
       "      <td>0.0</td>\n",
       "      <td>0.0</td>\n",
       "      <td>0.0</td>\n",
       "      <td>0.0</td>\n",
       "      <td>0.0</td>\n",
       "    </tr>\n",
       "    <tr>\n",
       "      <th>1</th>\n",
       "      <td>1.0</td>\n",
       "      <td>0.5</td>\n",
       "      <td>1.0</td>\n",
       "      <td>1.0</td>\n",
       "      <td>1.0</td>\n",
       "      <td>1.0</td>\n",
       "      <td>5.5</td>\n",
       "      <td>1.0</td>\n",
       "      <td>0.0</td>\n",
       "    </tr>\n",
       "    <tr>\n",
       "      <th>2</th>\n",
       "      <td>2.0</td>\n",
       "      <td>1.0</td>\n",
       "      <td>2.0</td>\n",
       "      <td>2.0</td>\n",
       "      <td>2.0</td>\n",
       "      <td>2.0</td>\n",
       "      <td>11.0</td>\n",
       "      <td>2.0</td>\n",
       "      <td>1.0</td>\n",
       "    </tr>\n",
       "    <tr>\n",
       "      <th>3</th>\n",
       "      <td>0.5</td>\n",
       "      <td>0.0</td>\n",
       "      <td>0.0</td>\n",
       "      <td>0.0</td>\n",
       "      <td>0.0</td>\n",
       "      <td>0.0</td>\n",
       "      <td>0.5</td>\n",
       "      <td>0.5</td>\n",
       "      <td>0.0</td>\n",
       "    </tr>\n",
       "    <tr>\n",
       "      <th>4</th>\n",
       "      <td>0.5</td>\n",
       "      <td>0.5</td>\n",
       "      <td>0.5</td>\n",
       "      <td>0.0</td>\n",
       "      <td>0.0</td>\n",
       "      <td>0.0</td>\n",
       "      <td>1.5</td>\n",
       "      <td>0.5</td>\n",
       "      <td>0.0</td>\n",
       "    </tr>\n",
       "    <tr>\n",
       "      <th>...</th>\n",
       "      <td>...</td>\n",
       "      <td>...</td>\n",
       "      <td>...</td>\n",
       "      <td>...</td>\n",
       "      <td>...</td>\n",
       "      <td>...</td>\n",
       "      <td>...</td>\n",
       "      <td>...</td>\n",
       "      <td>...</td>\n",
       "    </tr>\n",
       "    <tr>\n",
       "      <th>1078</th>\n",
       "      <td>0.0</td>\n",
       "      <td>0.0</td>\n",
       "      <td>0.0</td>\n",
       "      <td>0.0</td>\n",
       "      <td>0.0</td>\n",
       "      <td>0.0</td>\n",
       "      <td>NaN</td>\n",
       "      <td>0.0</td>\n",
       "      <td>NaN</td>\n",
       "    </tr>\n",
       "    <tr>\n",
       "      <th>1079</th>\n",
       "      <td>NaN</td>\n",
       "      <td>NaN</td>\n",
       "      <td>NaN</td>\n",
       "      <td>NaN</td>\n",
       "      <td>NaN</td>\n",
       "      <td>NaN</td>\n",
       "      <td>NaN</td>\n",
       "      <td>NaN</td>\n",
       "      <td>NaN</td>\n",
       "    </tr>\n",
       "    <tr>\n",
       "      <th>1080</th>\n",
       "      <td>NaN</td>\n",
       "      <td>NaN</td>\n",
       "      <td>NaN</td>\n",
       "      <td>NaN</td>\n",
       "      <td>NaN</td>\n",
       "      <td>NaN</td>\n",
       "      <td>NaN</td>\n",
       "      <td>NaN</td>\n",
       "      <td>NaN</td>\n",
       "    </tr>\n",
       "    <tr>\n",
       "      <th>1081</th>\n",
       "      <td>0.5</td>\n",
       "      <td>0.0</td>\n",
       "      <td>0.0</td>\n",
       "      <td>0.0</td>\n",
       "      <td>0.0</td>\n",
       "      <td>0.0</td>\n",
       "      <td>NaN</td>\n",
       "      <td>0.5</td>\n",
       "      <td>NaN</td>\n",
       "    </tr>\n",
       "    <tr>\n",
       "      <th>1082</th>\n",
       "      <td>0.5</td>\n",
       "      <td>0.0</td>\n",
       "      <td>0.0</td>\n",
       "      <td>0.0</td>\n",
       "      <td>0.0</td>\n",
       "      <td>0.0</td>\n",
       "      <td>NaN</td>\n",
       "      <td>0.5</td>\n",
       "      <td>NaN</td>\n",
       "    </tr>\n",
       "  </tbody>\n",
       "</table>\n",
       "<p>1046 rows × 9 columns</p>\n",
       "</div>"
      ],
      "text/plain": [
       "      MEMORY  ORIENT  JUDGMENT  COMMUN  HOMEHOBB  PERSCARE  CDRSUM  CDRGLOB  \\\n",
       "0        0.0     0.0       0.0     0.0       0.0       0.0     0.0      0.0   \n",
       "1        1.0     0.5       1.0     1.0       1.0       1.0     5.5      1.0   \n",
       "2        2.0     1.0       2.0     2.0       2.0       2.0    11.0      2.0   \n",
       "3        0.5     0.0       0.0     0.0       0.0       0.0     0.5      0.5   \n",
       "4        0.5     0.5       0.5     0.0       0.0       0.0     1.5      0.5   \n",
       "...      ...     ...       ...     ...       ...       ...     ...      ...   \n",
       "1078     0.0     0.0       0.0     0.0       0.0       0.0     NaN      0.0   \n",
       "1079     NaN     NaN       NaN     NaN       NaN       NaN     NaN      NaN   \n",
       "1080     NaN     NaN       NaN     NaN       NaN       NaN     NaN      NaN   \n",
       "1081     0.5     0.0       0.0     0.0       0.0       0.0     NaN      0.5   \n",
       "1082     0.5     0.0       0.0     0.0       0.0       0.0     NaN      0.5   \n",
       "\n",
       "      COMPORT  \n",
       "0         0.0  \n",
       "1         0.0  \n",
       "2         1.0  \n",
       "3         0.0  \n",
       "4         0.0  \n",
       "...       ...  \n",
       "1078      NaN  \n",
       "1079      NaN  \n",
       "1080      NaN  \n",
       "1081      NaN  \n",
       "1082      NaN  \n",
       "\n",
       "[1046 rows x 9 columns]"
      ]
     },
     "execution_count": 14,
     "metadata": {},
     "output_type": "execute_result"
    }
   ],
   "source": [
    "df[keep]"
   ]
  },
  {
   "cell_type": "code",
   "execution_count": 15,
   "metadata": {},
   "outputs": [
    {
     "data": {
      "text/html": [
       "<div>\n",
       "<style scoped>\n",
       "    .dataframe tbody tr th:only-of-type {\n",
       "        vertical-align: middle;\n",
       "    }\n",
       "\n",
       "    .dataframe tbody tr th {\n",
       "        vertical-align: top;\n",
       "    }\n",
       "\n",
       "    .dataframe thead th {\n",
       "        text-align: right;\n",
       "    }\n",
       "</style>\n",
       "<table border=\"1\" class=\"dataframe\">\n",
       "  <thead>\n",
       "    <tr style=\"text-align: right;\">\n",
       "      <th></th>\n",
       "      <th>ptid</th>\n",
       "      <th>assmnt</th>\n",
       "      <th>site</th>\n",
       "      <th>cohort2</th>\n",
       "      <th>LANGUAGE</th>\n",
       "      <th>AGE</th>\n",
       "      <th>gender_rc</th>\n",
       "      <th>ethnicity_rc</th>\n",
       "      <th>race_tb_rc</th>\n",
       "      <th>racetb_w</th>\n",
       "      <th>...</th>\n",
       "      <th>RESPHEAR</th>\n",
       "      <th>RESPDIST</th>\n",
       "      <th>RESPINTR</th>\n",
       "      <th>RESPDISN</th>\n",
       "      <th>RESPFATG</th>\n",
       "      <th>RESPEMOT</th>\n",
       "      <th>RESPASST</th>\n",
       "      <th>RESPOTH</th>\n",
       "      <th>RESPOTHX</th>\n",
       "      <th>NACCMOCB</th>\n",
       "    </tr>\n",
       "  </thead>\n",
       "  <tbody>\n",
       "    <tr>\n",
       "      <th>0</th>\n",
       "      <td>1.45635</td>\n",
       "      <td>1</td>\n",
       "      <td>Emory</td>\n",
       "      <td>6</td>\n",
       "      <td>en-US</td>\n",
       "      <td>82</td>\n",
       "      <td>2</td>\n",
       "      <td>1</td>\n",
       "      <td>2</td>\n",
       "      <td>0</td>\n",
       "      <td>...</td>\n",
       "      <td>-4.0</td>\n",
       "      <td>-4.0</td>\n",
       "      <td>-4.0</td>\n",
       "      <td>-4.0</td>\n",
       "      <td>-4.0</td>\n",
       "      <td>-4.0</td>\n",
       "      <td>-4.0</td>\n",
       "      <td>-4.0</td>\n",
       "      <td>-4.0</td>\n",
       "      <td>-4.0</td>\n",
       "    </tr>\n",
       "    <tr>\n",
       "      <th>1</th>\n",
       "      <td>1.46421</td>\n",
       "      <td>1</td>\n",
       "      <td>Emory</td>\n",
       "      <td>4</td>\n",
       "      <td>en-US</td>\n",
       "      <td>88</td>\n",
       "      <td>1</td>\n",
       "      <td>1</td>\n",
       "      <td>1</td>\n",
       "      <td>1</td>\n",
       "      <td>...</td>\n",
       "      <td>-4.0</td>\n",
       "      <td>-4.0</td>\n",
       "      <td>-4.0</td>\n",
       "      <td>-4.0</td>\n",
       "      <td>-4.0</td>\n",
       "      <td>-4.0</td>\n",
       "      <td>-4.0</td>\n",
       "      <td>-4.0</td>\n",
       "      <td>-4.0</td>\n",
       "      <td>-4.0</td>\n",
       "    </tr>\n",
       "    <tr>\n",
       "      <th>2</th>\n",
       "      <td>1.46421</td>\n",
       "      <td>2</td>\n",
       "      <td>Emory</td>\n",
       "      <td>4</td>\n",
       "      <td>en-US</td>\n",
       "      <td>89</td>\n",
       "      <td>1</td>\n",
       "      <td>1</td>\n",
       "      <td>1</td>\n",
       "      <td>1</td>\n",
       "      <td>...</td>\n",
       "      <td>-4.0</td>\n",
       "      <td>-4.0</td>\n",
       "      <td>-4.0</td>\n",
       "      <td>-4.0</td>\n",
       "      <td>-4.0</td>\n",
       "      <td>-4.0</td>\n",
       "      <td>-4.0</td>\n",
       "      <td>-4.0</td>\n",
       "      <td>-4.0</td>\n",
       "      <td>-4.0</td>\n",
       "    </tr>\n",
       "    <tr>\n",
       "      <th>3</th>\n",
       "      <td>1.46422</td>\n",
       "      <td>1</td>\n",
       "      <td>Emory</td>\n",
       "      <td>3</td>\n",
       "      <td>en-US</td>\n",
       "      <td>88</td>\n",
       "      <td>2</td>\n",
       "      <td>1</td>\n",
       "      <td>1</td>\n",
       "      <td>1</td>\n",
       "      <td>...</td>\n",
       "      <td>-4.0</td>\n",
       "      <td>-4.0</td>\n",
       "      <td>-4.0</td>\n",
       "      <td>-4.0</td>\n",
       "      <td>-4.0</td>\n",
       "      <td>-4.0</td>\n",
       "      <td>-4.0</td>\n",
       "      <td>-4.0</td>\n",
       "      <td>-4.0</td>\n",
       "      <td>-4.0</td>\n",
       "    </tr>\n",
       "    <tr>\n",
       "      <th>4</th>\n",
       "      <td>1.46422</td>\n",
       "      <td>2</td>\n",
       "      <td>Emory</td>\n",
       "      <td>3</td>\n",
       "      <td>en-US</td>\n",
       "      <td>89</td>\n",
       "      <td>2</td>\n",
       "      <td>1</td>\n",
       "      <td>1</td>\n",
       "      <td>1</td>\n",
       "      <td>...</td>\n",
       "      <td>-4.0</td>\n",
       "      <td>-4.0</td>\n",
       "      <td>-4.0</td>\n",
       "      <td>-4.0</td>\n",
       "      <td>-4.0</td>\n",
       "      <td>-4.0</td>\n",
       "      <td>-4.0</td>\n",
       "      <td>-4.0</td>\n",
       "      <td>-4.0</td>\n",
       "      <td>-4.0</td>\n",
       "    </tr>\n",
       "  </tbody>\n",
       "</table>\n",
       "<p>5 rows × 805 columns</p>\n",
       "</div>"
      ],
      "text/plain": [
       "      ptid  assmnt   site  cohort2 LANGUAGE  AGE  gender_rc  ethnicity_rc  \\\n",
       "0  1.45635       1  Emory        6    en-US   82          2             1   \n",
       "1  1.46421       1  Emory        4    en-US   88          1             1   \n",
       "2  1.46421       2  Emory        4    en-US   89          1             1   \n",
       "3  1.46422       1  Emory        3    en-US   88          2             1   \n",
       "4  1.46422       2  Emory        3    en-US   89          2             1   \n",
       "\n",
       "   race_tb_rc  racetb_w  ...  RESPHEAR  RESPDIST  RESPINTR  RESPDISN  \\\n",
       "0           2         0  ...      -4.0      -4.0      -4.0      -4.0   \n",
       "1           1         1  ...      -4.0      -4.0      -4.0      -4.0   \n",
       "2           1         1  ...      -4.0      -4.0      -4.0      -4.0   \n",
       "3           1         1  ...      -4.0      -4.0      -4.0      -4.0   \n",
       "4           1         1  ...      -4.0      -4.0      -4.0      -4.0   \n",
       "\n",
       "   RESPFATG  RESPEMOT  RESPASST  RESPOTH  RESPOTHX  NACCMOCB  \n",
       "0      -4.0      -4.0      -4.0     -4.0      -4.0      -4.0  \n",
       "1      -4.0      -4.0      -4.0     -4.0      -4.0      -4.0  \n",
       "2      -4.0      -4.0      -4.0     -4.0      -4.0      -4.0  \n",
       "3      -4.0      -4.0      -4.0     -4.0      -4.0      -4.0  \n",
       "4      -4.0      -4.0      -4.0     -4.0      -4.0      -4.0  \n",
       "\n",
       "[5 rows x 805 columns]"
      ]
     },
     "execution_count": 15,
     "metadata": {},
     "output_type": "execute_result"
    }
   ],
   "source": [
    "df.head()"
   ]
  },
  {
   "cell_type": "code",
   "execution_count": 16,
   "metadata": {
    "id": "zBkF1XnvQ31K"
   },
   "outputs": [],
   "source": [
    "cohort ={1:\"Gen population healthy aging 85+\", 2:\"Gen population 65-85\", 3:\"Gen population MCI\",\n",
    "4:\"Gen population AD\", 5:\"African American mild cognitive impairment\",\n",
    "6:\"African American normal controls 65-85\", 7:\"Spanish Speaking mild cognitive impairment\",\n",
    "8:\"Spanish Speaking normal controls 65-85\", 9:\"Spanish Speaking AD\"}"
   ]
  },
  {
   "cell_type": "code",
   "execution_count": 17,
   "metadata": {
    "id": "SwKEJm7_RZs6"
   },
   "outputs": [],
   "source": [
    "#Rename the value under column cohort2\n",
    "df['cohort2'] = df['cohort2'].map(cohort)"
   ]
  },
  {
   "cell_type": "code",
   "execution_count": 18,
   "metadata": {
    "colab": {
     "base_uri": "https://localhost:8080/",
     "height": 224
    },
    "id": "7LTc4-m1Rkfs",
    "outputId": "8d8450e2-ba74-48b3-89a6-24ab4750224b"
   },
   "outputs": [
    {
     "data": {
      "text/plain": [
       "Gen population 65-85                          265\n",
       "Gen population healthy aging 85+              134\n",
       "Gen population MCI                            133\n",
       "African American normal controls 65-85        127\n",
       "Spanish Speaking normal controls 65-85        126\n",
       "Spanish Speaking mild cognitive impairment    112\n",
       "Gen population AD                              83\n",
       "African American mild cognitive impairment     42\n",
       "Spanish Speaking AD                            24\n",
       "Name: cohort2, dtype: int64"
      ]
     },
     "execution_count": 18,
     "metadata": {},
     "output_type": "execute_result"
    }
   ],
   "source": [
    "df.cohort2.value_counts()"
   ]
  },
  {
   "cell_type": "code",
   "execution_count": 19,
   "metadata": {},
   "outputs": [],
   "source": [
    "select = [ 'Gen population 65-85', 'Gen population MCI','Gen population AD']\n",
    "genpop = df[df.cohort2.isin(select)]"
   ]
  },
  {
   "cell_type": "code",
   "execution_count": 20,
   "metadata": {},
   "outputs": [
    {
     "data": {
      "text/html": [
       "<div>\n",
       "<style scoped>\n",
       "    .dataframe tbody tr th:only-of-type {\n",
       "        vertical-align: middle;\n",
       "    }\n",
       "\n",
       "    .dataframe tbody tr th {\n",
       "        vertical-align: top;\n",
       "    }\n",
       "\n",
       "    .dataframe thead th {\n",
       "        text-align: right;\n",
       "    }\n",
       "</style>\n",
       "<table border=\"1\" class=\"dataframe\">\n",
       "  <thead>\n",
       "    <tr style=\"text-align: right;\">\n",
       "      <th></th>\n",
       "      <th>MEMORY</th>\n",
       "      <th>ORIENT</th>\n",
       "      <th>JUDGMENT</th>\n",
       "      <th>COMMUN</th>\n",
       "      <th>HOMEHOBB</th>\n",
       "      <th>PERSCARE</th>\n",
       "      <th>CDRSUM</th>\n",
       "      <th>CDRGLOB</th>\n",
       "      <th>COMPORT</th>\n",
       "    </tr>\n",
       "  </thead>\n",
       "  <tbody>\n",
       "    <tr>\n",
       "      <th>1</th>\n",
       "      <td>1.0</td>\n",
       "      <td>0.5</td>\n",
       "      <td>1.0</td>\n",
       "      <td>1.0</td>\n",
       "      <td>1.0</td>\n",
       "      <td>1.0</td>\n",
       "      <td>5.5</td>\n",
       "      <td>1.0</td>\n",
       "      <td>0.0</td>\n",
       "    </tr>\n",
       "    <tr>\n",
       "      <th>2</th>\n",
       "      <td>2.0</td>\n",
       "      <td>1.0</td>\n",
       "      <td>2.0</td>\n",
       "      <td>2.0</td>\n",
       "      <td>2.0</td>\n",
       "      <td>2.0</td>\n",
       "      <td>11.0</td>\n",
       "      <td>2.0</td>\n",
       "      <td>1.0</td>\n",
       "    </tr>\n",
       "    <tr>\n",
       "      <th>3</th>\n",
       "      <td>0.5</td>\n",
       "      <td>0.0</td>\n",
       "      <td>0.0</td>\n",
       "      <td>0.0</td>\n",
       "      <td>0.0</td>\n",
       "      <td>0.0</td>\n",
       "      <td>0.5</td>\n",
       "      <td>0.5</td>\n",
       "      <td>0.0</td>\n",
       "    </tr>\n",
       "    <tr>\n",
       "      <th>4</th>\n",
       "      <td>0.5</td>\n",
       "      <td>0.5</td>\n",
       "      <td>0.5</td>\n",
       "      <td>0.0</td>\n",
       "      <td>0.0</td>\n",
       "      <td>0.0</td>\n",
       "      <td>1.5</td>\n",
       "      <td>0.5</td>\n",
       "      <td>0.0</td>\n",
       "    </tr>\n",
       "    <tr>\n",
       "      <th>6</th>\n",
       "      <td>1.0</td>\n",
       "      <td>0.0</td>\n",
       "      <td>0.0</td>\n",
       "      <td>0.0</td>\n",
       "      <td>0.5</td>\n",
       "      <td>0.0</td>\n",
       "      <td>1.5</td>\n",
       "      <td>0.5</td>\n",
       "      <td>0.0</td>\n",
       "    </tr>\n",
       "    <tr>\n",
       "      <th>...</th>\n",
       "      <td>...</td>\n",
       "      <td>...</td>\n",
       "      <td>...</td>\n",
       "      <td>...</td>\n",
       "      <td>...</td>\n",
       "      <td>...</td>\n",
       "      <td>...</td>\n",
       "      <td>...</td>\n",
       "      <td>...</td>\n",
       "    </tr>\n",
       "    <tr>\n",
       "      <th>840</th>\n",
       "      <td>0.5</td>\n",
       "      <td>0.0</td>\n",
       "      <td>0.0</td>\n",
       "      <td>0.0</td>\n",
       "      <td>0.0</td>\n",
       "      <td>0.0</td>\n",
       "      <td>0.5</td>\n",
       "      <td>0.5</td>\n",
       "      <td>0.0</td>\n",
       "    </tr>\n",
       "    <tr>\n",
       "      <th>946</th>\n",
       "      <td>0.5</td>\n",
       "      <td>0.0</td>\n",
       "      <td>0.0</td>\n",
       "      <td>0.0</td>\n",
       "      <td>0.0</td>\n",
       "      <td>0.0</td>\n",
       "      <td>NaN</td>\n",
       "      <td>0.5</td>\n",
       "      <td>NaN</td>\n",
       "    </tr>\n",
       "    <tr>\n",
       "      <th>974</th>\n",
       "      <td>1.0</td>\n",
       "      <td>0.0</td>\n",
       "      <td>0.0</td>\n",
       "      <td>0.0</td>\n",
       "      <td>0.0</td>\n",
       "      <td>0.0</td>\n",
       "      <td>NaN</td>\n",
       "      <td>0.5</td>\n",
       "      <td>NaN</td>\n",
       "    </tr>\n",
       "    <tr>\n",
       "      <th>991</th>\n",
       "      <td>0.5</td>\n",
       "      <td>0.0</td>\n",
       "      <td>0.5</td>\n",
       "      <td>0.5</td>\n",
       "      <td>0.5</td>\n",
       "      <td>0.0</td>\n",
       "      <td>NaN</td>\n",
       "      <td>0.5</td>\n",
       "      <td>NaN</td>\n",
       "    </tr>\n",
       "    <tr>\n",
       "      <th>1037</th>\n",
       "      <td>0.5</td>\n",
       "      <td>0.0</td>\n",
       "      <td>0.0</td>\n",
       "      <td>0.0</td>\n",
       "      <td>0.0</td>\n",
       "      <td>0.0</td>\n",
       "      <td>NaN</td>\n",
       "      <td>0.5</td>\n",
       "      <td>NaN</td>\n",
       "    </tr>\n",
       "  </tbody>\n",
       "</table>\n",
       "<p>481 rows × 9 columns</p>\n",
       "</div>"
      ],
      "text/plain": [
       "      MEMORY  ORIENT  JUDGMENT  COMMUN  HOMEHOBB  PERSCARE  CDRSUM  CDRGLOB  \\\n",
       "1        1.0     0.5       1.0     1.0       1.0       1.0     5.5      1.0   \n",
       "2        2.0     1.0       2.0     2.0       2.0       2.0    11.0      2.0   \n",
       "3        0.5     0.0       0.0     0.0       0.0       0.0     0.5      0.5   \n",
       "4        0.5     0.5       0.5     0.0       0.0       0.0     1.5      0.5   \n",
       "6        1.0     0.0       0.0     0.0       0.5       0.0     1.5      0.5   \n",
       "...      ...     ...       ...     ...       ...       ...     ...      ...   \n",
       "840      0.5     0.0       0.0     0.0       0.0       0.0     0.5      0.5   \n",
       "946      0.5     0.0       0.0     0.0       0.0       0.0     NaN      0.5   \n",
       "974      1.0     0.0       0.0     0.0       0.0       0.0     NaN      0.5   \n",
       "991      0.5     0.0       0.5     0.5       0.5       0.0     NaN      0.5   \n",
       "1037     0.5     0.0       0.0     0.0       0.0       0.0     NaN      0.5   \n",
       "\n",
       "      COMPORT  \n",
       "1         0.0  \n",
       "2         1.0  \n",
       "3         0.0  \n",
       "4         0.0  \n",
       "6         0.0  \n",
       "...       ...  \n",
       "840       0.0  \n",
       "946       NaN  \n",
       "974       NaN  \n",
       "991       NaN  \n",
       "1037      NaN  \n",
       "\n",
       "[481 rows x 9 columns]"
      ]
     },
     "execution_count": 20,
     "metadata": {},
     "output_type": "execute_result"
    }
   ],
   "source": [
    "genpop[keep]"
   ]
  },
  {
   "cell_type": "markdown",
   "metadata": {},
   "source": [
    "# 1) Count for each variable across all 3 gen pop groups "
   ]
  },
  {
   "cell_type": "code",
   "execution_count": 21,
   "metadata": {},
   "outputs": [],
   "source": [
    "counts  = genpop.groupby('cohort2')[keep].count().unstack().reset_index().pivot(index='level_0', columns='cohort2', values=0)"
   ]
  },
  {
   "cell_type": "code",
   "execution_count": 22,
   "metadata": {},
   "outputs": [],
   "source": [
    "counts =counts.reindex(keep)[select]\n",
    "print(counts)"
   ]
  },
  {
   "cell_type": "markdown",
   "metadata": {},
   "source": [
    "# 2) ANOVA & Tukey’s Test"
   ]
  },
  {
   "cell_type": "markdown",
   "metadata": {},
   "source": [
    "https://www.statology.org/tukey-test-python/"
   ]
  },
  {
   "cell_type": "code",
   "execution_count": 23,
   "metadata": {},
   "outputs": [
    {
     "data": {
      "text/plain": [
       "F_onewayResult(statistic=200.69804129168858, pvalue=1.039951452532637e-15)"
      ]
     },
     "execution_count": 23,
     "metadata": {},
     "output_type": "execute_result"
    }
   ],
   "source": [
    "from scipy.stats import f_oneway\n",
    "from statsmodels.stats.multicomp import pairwise_tukeyhsd\n",
    "\n",
    "#The one-way ANOVA tests the null hypothesis that 3 genpop groups have the same population mean.\n",
    "print(\"----one-way ANOVA----\")\n",
    "print(f_oneway(counts.iloc[:,0],counts.iloc[:,1],counts.iloc[:,2]))"
   ]
  },
  {
   "cell_type": "code",
   "execution_count": 24,
   "metadata": {},
   "outputs": [
    {
     "data": {
      "text/html": [
       "<div>\n",
       "<style scoped>\n",
       "    .dataframe tbody tr th:only-of-type {\n",
       "        vertical-align: middle;\n",
       "    }\n",
       "\n",
       "    .dataframe tbody tr th {\n",
       "        vertical-align: top;\n",
       "    }\n",
       "\n",
       "    .dataframe thead th {\n",
       "        text-align: right;\n",
       "    }\n",
       "</style>\n",
       "<table border=\"1\" class=\"dataframe\">\n",
       "  <thead>\n",
       "    <tr style=\"text-align: right;\">\n",
       "      <th></th>\n",
       "      <th>ptid</th>\n",
       "      <th>assmnt</th>\n",
       "      <th>site</th>\n",
       "      <th>cohort2</th>\n",
       "      <th>LANGUAGE</th>\n",
       "      <th>AGE</th>\n",
       "      <th>gender_rc</th>\n",
       "      <th>ethnicity_rc</th>\n",
       "      <th>race_tb_rc</th>\n",
       "      <th>racetb_w</th>\n",
       "      <th>...</th>\n",
       "      <th>RESPHEAR</th>\n",
       "      <th>RESPDIST</th>\n",
       "      <th>RESPINTR</th>\n",
       "      <th>RESPDISN</th>\n",
       "      <th>RESPFATG</th>\n",
       "      <th>RESPEMOT</th>\n",
       "      <th>RESPASST</th>\n",
       "      <th>RESPOTH</th>\n",
       "      <th>RESPOTHX</th>\n",
       "      <th>NACCMOCB</th>\n",
       "    </tr>\n",
       "  </thead>\n",
       "  <tbody>\n",
       "    <tr>\n",
       "      <th>0</th>\n",
       "      <td>1.45635</td>\n",
       "      <td>1</td>\n",
       "      <td>Emory</td>\n",
       "      <td>African American normal controls 65-85</td>\n",
       "      <td>en-US</td>\n",
       "      <td>82</td>\n",
       "      <td>2</td>\n",
       "      <td>1</td>\n",
       "      <td>2</td>\n",
       "      <td>0</td>\n",
       "      <td>...</td>\n",
       "      <td>-4.0</td>\n",
       "      <td>-4.0</td>\n",
       "      <td>-4.0</td>\n",
       "      <td>-4.0</td>\n",
       "      <td>-4.0</td>\n",
       "      <td>-4.0</td>\n",
       "      <td>-4.0</td>\n",
       "      <td>-4.0</td>\n",
       "      <td>-4.0</td>\n",
       "      <td>-4.0</td>\n",
       "    </tr>\n",
       "    <tr>\n",
       "      <th>1</th>\n",
       "      <td>1.46421</td>\n",
       "      <td>1</td>\n",
       "      <td>Emory</td>\n",
       "      <td>Gen population AD</td>\n",
       "      <td>en-US</td>\n",
       "      <td>88</td>\n",
       "      <td>1</td>\n",
       "      <td>1</td>\n",
       "      <td>1</td>\n",
       "      <td>1</td>\n",
       "      <td>...</td>\n",
       "      <td>-4.0</td>\n",
       "      <td>-4.0</td>\n",
       "      <td>-4.0</td>\n",
       "      <td>-4.0</td>\n",
       "      <td>-4.0</td>\n",
       "      <td>-4.0</td>\n",
       "      <td>-4.0</td>\n",
       "      <td>-4.0</td>\n",
       "      <td>-4.0</td>\n",
       "      <td>-4.0</td>\n",
       "    </tr>\n",
       "    <tr>\n",
       "      <th>2</th>\n",
       "      <td>1.46421</td>\n",
       "      <td>2</td>\n",
       "      <td>Emory</td>\n",
       "      <td>Gen population AD</td>\n",
       "      <td>en-US</td>\n",
       "      <td>89</td>\n",
       "      <td>1</td>\n",
       "      <td>1</td>\n",
       "      <td>1</td>\n",
       "      <td>1</td>\n",
       "      <td>...</td>\n",
       "      <td>-4.0</td>\n",
       "      <td>-4.0</td>\n",
       "      <td>-4.0</td>\n",
       "      <td>-4.0</td>\n",
       "      <td>-4.0</td>\n",
       "      <td>-4.0</td>\n",
       "      <td>-4.0</td>\n",
       "      <td>-4.0</td>\n",
       "      <td>-4.0</td>\n",
       "      <td>-4.0</td>\n",
       "    </tr>\n",
       "    <tr>\n",
       "      <th>3</th>\n",
       "      <td>1.46422</td>\n",
       "      <td>1</td>\n",
       "      <td>Emory</td>\n",
       "      <td>Gen population MCI</td>\n",
       "      <td>en-US</td>\n",
       "      <td>88</td>\n",
       "      <td>2</td>\n",
       "      <td>1</td>\n",
       "      <td>1</td>\n",
       "      <td>1</td>\n",
       "      <td>...</td>\n",
       "      <td>-4.0</td>\n",
       "      <td>-4.0</td>\n",
       "      <td>-4.0</td>\n",
       "      <td>-4.0</td>\n",
       "      <td>-4.0</td>\n",
       "      <td>-4.0</td>\n",
       "      <td>-4.0</td>\n",
       "      <td>-4.0</td>\n",
       "      <td>-4.0</td>\n",
       "      <td>-4.0</td>\n",
       "    </tr>\n",
       "    <tr>\n",
       "      <th>4</th>\n",
       "      <td>1.46422</td>\n",
       "      <td>2</td>\n",
       "      <td>Emory</td>\n",
       "      <td>Gen population MCI</td>\n",
       "      <td>en-US</td>\n",
       "      <td>89</td>\n",
       "      <td>2</td>\n",
       "      <td>1</td>\n",
       "      <td>1</td>\n",
       "      <td>1</td>\n",
       "      <td>...</td>\n",
       "      <td>-4.0</td>\n",
       "      <td>-4.0</td>\n",
       "      <td>-4.0</td>\n",
       "      <td>-4.0</td>\n",
       "      <td>-4.0</td>\n",
       "      <td>-4.0</td>\n",
       "      <td>-4.0</td>\n",
       "      <td>-4.0</td>\n",
       "      <td>-4.0</td>\n",
       "      <td>-4.0</td>\n",
       "    </tr>\n",
       "    <tr>\n",
       "      <th>...</th>\n",
       "      <td>...</td>\n",
       "      <td>...</td>\n",
       "      <td>...</td>\n",
       "      <td>...</td>\n",
       "      <td>...</td>\n",
       "      <td>...</td>\n",
       "      <td>...</td>\n",
       "      <td>...</td>\n",
       "      <td>...</td>\n",
       "      <td>...</td>\n",
       "      <td>...</td>\n",
       "      <td>...</td>\n",
       "      <td>...</td>\n",
       "      <td>...</td>\n",
       "      <td>...</td>\n",
       "      <td>...</td>\n",
       "      <td>...</td>\n",
       "      <td>...</td>\n",
       "      <td>...</td>\n",
       "      <td>...</td>\n",
       "      <td>...</td>\n",
       "    </tr>\n",
       "    <tr>\n",
       "      <th>1078</th>\n",
       "      <td>X20106</td>\n",
       "      <td>1</td>\n",
       "      <td>CU</td>\n",
       "      <td>Spanish Speaking normal controls 65-85</td>\n",
       "      <td>es</td>\n",
       "      <td>68</td>\n",
       "      <td>1</td>\n",
       "      <td>2</td>\n",
       "      <td>32</td>\n",
       "      <td>0</td>\n",
       "      <td>...</td>\n",
       "      <td>-4.0</td>\n",
       "      <td>-4.0</td>\n",
       "      <td>-4.0</td>\n",
       "      <td>-4.0</td>\n",
       "      <td>-4.0</td>\n",
       "      <td>-4.0</td>\n",
       "      <td>-4.0</td>\n",
       "      <td>-4.0</td>\n",
       "      <td>-4.0</td>\n",
       "      <td>NaN</td>\n",
       "    </tr>\n",
       "    <tr>\n",
       "      <th>1079</th>\n",
       "      <td>X20115</td>\n",
       "      <td>1</td>\n",
       "      <td>CU</td>\n",
       "      <td>Spanish Speaking normal controls 65-85</td>\n",
       "      <td>es</td>\n",
       "      <td>70</td>\n",
       "      <td>1</td>\n",
       "      <td>2</td>\n",
       "      <td>32</td>\n",
       "      <td>0</td>\n",
       "      <td>...</td>\n",
       "      <td>-4.0</td>\n",
       "      <td>-4.0</td>\n",
       "      <td>-4.0</td>\n",
       "      <td>-4.0</td>\n",
       "      <td>-4.0</td>\n",
       "      <td>-4.0</td>\n",
       "      <td>-4.0</td>\n",
       "      <td>-4.0</td>\n",
       "      <td>-4.0</td>\n",
       "      <td>NaN</td>\n",
       "    </tr>\n",
       "    <tr>\n",
       "      <th>1080</th>\n",
       "      <td>X20116</td>\n",
       "      <td>1</td>\n",
       "      <td>CU</td>\n",
       "      <td>Spanish Speaking mild cognitive impairment</td>\n",
       "      <td>es</td>\n",
       "      <td>66</td>\n",
       "      <td>1</td>\n",
       "      <td>2</td>\n",
       "      <td>32</td>\n",
       "      <td>0</td>\n",
       "      <td>...</td>\n",
       "      <td>-4.0</td>\n",
       "      <td>-4.0</td>\n",
       "      <td>-4.0</td>\n",
       "      <td>-4.0</td>\n",
       "      <td>-4.0</td>\n",
       "      <td>-4.0</td>\n",
       "      <td>-4.0</td>\n",
       "      <td>-4.0</td>\n",
       "      <td>-4.0</td>\n",
       "      <td>NaN</td>\n",
       "    </tr>\n",
       "    <tr>\n",
       "      <th>1081</th>\n",
       "      <td>X20119</td>\n",
       "      <td>1</td>\n",
       "      <td>CU</td>\n",
       "      <td>Spanish Speaking mild cognitive impairment</td>\n",
       "      <td>es</td>\n",
       "      <td>76</td>\n",
       "      <td>1</td>\n",
       "      <td>2</td>\n",
       "      <td>32</td>\n",
       "      <td>0</td>\n",
       "      <td>...</td>\n",
       "      <td>-4.0</td>\n",
       "      <td>-4.0</td>\n",
       "      <td>-4.0</td>\n",
       "      <td>-4.0</td>\n",
       "      <td>-4.0</td>\n",
       "      <td>-4.0</td>\n",
       "      <td>-4.0</td>\n",
       "      <td>-4.0</td>\n",
       "      <td>-4.0</td>\n",
       "      <td>NaN</td>\n",
       "    </tr>\n",
       "    <tr>\n",
       "      <th>1082</th>\n",
       "      <td>X20152</td>\n",
       "      <td>1</td>\n",
       "      <td>CU</td>\n",
       "      <td>Spanish Speaking mild cognitive impairment</td>\n",
       "      <td>es</td>\n",
       "      <td>72</td>\n",
       "      <td>2</td>\n",
       "      <td>2</td>\n",
       "      <td>32</td>\n",
       "      <td>0</td>\n",
       "      <td>...</td>\n",
       "      <td>-4.0</td>\n",
       "      <td>-4.0</td>\n",
       "      <td>-4.0</td>\n",
       "      <td>-4.0</td>\n",
       "      <td>-4.0</td>\n",
       "      <td>-4.0</td>\n",
       "      <td>-4.0</td>\n",
       "      <td>-4.0</td>\n",
       "      <td>-4.0</td>\n",
       "      <td>NaN</td>\n",
       "    </tr>\n",
       "  </tbody>\n",
       "</table>\n",
       "<p>1046 rows × 805 columns</p>\n",
       "</div>"
      ],
      "text/plain": [
       "         ptid  assmnt   site                                     cohort2  \\\n",
       "0     1.45635       1  Emory      African American normal controls 65-85   \n",
       "1     1.46421       1  Emory                           Gen population AD   \n",
       "2     1.46421       2  Emory                           Gen population AD   \n",
       "3     1.46422       1  Emory                          Gen population MCI   \n",
       "4     1.46422       2  Emory                          Gen population MCI   \n",
       "...       ...     ...    ...                                         ...   \n",
       "1078   X20106       1     CU      Spanish Speaking normal controls 65-85   \n",
       "1079   X20115       1     CU      Spanish Speaking normal controls 65-85   \n",
       "1080   X20116       1     CU  Spanish Speaking mild cognitive impairment   \n",
       "1081   X20119       1     CU  Spanish Speaking mild cognitive impairment   \n",
       "1082   X20152       1     CU  Spanish Speaking mild cognitive impairment   \n",
       "\n",
       "     LANGUAGE  AGE  gender_rc  ethnicity_rc  race_tb_rc  racetb_w  ...  \\\n",
       "0       en-US   82          2             1           2         0  ...   \n",
       "1       en-US   88          1             1           1         1  ...   \n",
       "2       en-US   89          1             1           1         1  ...   \n",
       "3       en-US   88          2             1           1         1  ...   \n",
       "4       en-US   89          2             1           1         1  ...   \n",
       "...       ...  ...        ...           ...         ...       ...  ...   \n",
       "1078       es   68          1             2          32         0  ...   \n",
       "1079       es   70          1             2          32         0  ...   \n",
       "1080       es   66          1             2          32         0  ...   \n",
       "1081       es   76          1             2          32         0  ...   \n",
       "1082       es   72          2             2          32         0  ...   \n",
       "\n",
       "      RESPHEAR  RESPDIST  RESPINTR  RESPDISN  RESPFATG  RESPEMOT  RESPASST  \\\n",
       "0         -4.0      -4.0      -4.0      -4.0      -4.0      -4.0      -4.0   \n",
       "1         -4.0      -4.0      -4.0      -4.0      -4.0      -4.0      -4.0   \n",
       "2         -4.0      -4.0      -4.0      -4.0      -4.0      -4.0      -4.0   \n",
       "3         -4.0      -4.0      -4.0      -4.0      -4.0      -4.0      -4.0   \n",
       "4         -4.0      -4.0      -4.0      -4.0      -4.0      -4.0      -4.0   \n",
       "...        ...       ...       ...       ...       ...       ...       ...   \n",
       "1078      -4.0      -4.0      -4.0      -4.0      -4.0      -4.0      -4.0   \n",
       "1079      -4.0      -4.0      -4.0      -4.0      -4.0      -4.0      -4.0   \n",
       "1080      -4.0      -4.0      -4.0      -4.0      -4.0      -4.0      -4.0   \n",
       "1081      -4.0      -4.0      -4.0      -4.0      -4.0      -4.0      -4.0   \n",
       "1082      -4.0      -4.0      -4.0      -4.0      -4.0      -4.0      -4.0   \n",
       "\n",
       "      RESPOTH  RESPOTHX  NACCMOCB  \n",
       "0        -4.0      -4.0      -4.0  \n",
       "1        -4.0      -4.0      -4.0  \n",
       "2        -4.0      -4.0      -4.0  \n",
       "3        -4.0      -4.0      -4.0  \n",
       "4        -4.0      -4.0      -4.0  \n",
       "...       ...       ...       ...  \n",
       "1078     -4.0      -4.0       NaN  \n",
       "1079     -4.0      -4.0       NaN  \n",
       "1080     -4.0      -4.0       NaN  \n",
       "1081     -4.0      -4.0       NaN  \n",
       "1082     -4.0      -4.0       NaN  \n",
       "\n",
       "[1046 rows x 805 columns]"
      ]
     },
     "execution_count": 24,
     "metadata": {},
     "output_type": "execute_result"
    }
   ],
   "source": [
    "df"
   ]
  },
  {
   "cell_type": "code",
   "execution_count": 26,
   "metadata": {},
   "outputs": [
    {
     "data": {
      "text/html": [
       "<div>\n",
       "<style scoped>\n",
       "    .dataframe tbody tr th:only-of-type {\n",
       "        vertical-align: middle;\n",
       "    }\n",
       "\n",
       "    .dataframe tbody tr th {\n",
       "        vertical-align: top;\n",
       "    }\n",
       "\n",
       "    .dataframe thead th {\n",
       "        text-align: right;\n",
       "    }\n",
       "</style>\n",
       "<table border=\"1\" class=\"dataframe\">\n",
       "  <thead>\n",
       "    <tr style=\"text-align: right;\">\n",
       "      <th>cohort2</th>\n",
       "      <th>Gen population 65-85</th>\n",
       "      <th>Gen population MCI</th>\n",
       "      <th>Gen population AD</th>\n",
       "    </tr>\n",
       "    <tr>\n",
       "      <th>level_0</th>\n",
       "      <th></th>\n",
       "      <th></th>\n",
       "      <th></th>\n",
       "    </tr>\n",
       "  </thead>\n",
       "  <tbody>\n",
       "    <tr>\n",
       "      <th>MEMORY</th>\n",
       "      <td>265</td>\n",
       "      <td>132</td>\n",
       "      <td>83</td>\n",
       "    </tr>\n",
       "    <tr>\n",
       "      <th>ORIENT</th>\n",
       "      <td>265</td>\n",
       "      <td>132</td>\n",
       "      <td>83</td>\n",
       "    </tr>\n",
       "    <tr>\n",
       "      <th>JUDGMENT</th>\n",
       "      <td>265</td>\n",
       "      <td>132</td>\n",
       "      <td>83</td>\n",
       "    </tr>\n",
       "    <tr>\n",
       "      <th>COMMUN</th>\n",
       "      <td>265</td>\n",
       "      <td>132</td>\n",
       "      <td>83</td>\n",
       "    </tr>\n",
       "    <tr>\n",
       "      <th>HOMEHOBB</th>\n",
       "      <td>265</td>\n",
       "      <td>132</td>\n",
       "      <td>83</td>\n",
       "    </tr>\n",
       "    <tr>\n",
       "      <th>PERSCARE</th>\n",
       "      <td>265</td>\n",
       "      <td>132</td>\n",
       "      <td>83</td>\n",
       "    </tr>\n",
       "    <tr>\n",
       "      <th>CDRSUM</th>\n",
       "      <td>265</td>\n",
       "      <td>128</td>\n",
       "      <td>83</td>\n",
       "    </tr>\n",
       "    <tr>\n",
       "      <th>CDRGLOB</th>\n",
       "      <td>265</td>\n",
       "      <td>132</td>\n",
       "      <td>83</td>\n",
       "    </tr>\n",
       "    <tr>\n",
       "      <th>COMPORT</th>\n",
       "      <td>168</td>\n",
       "      <td>127</td>\n",
       "      <td>83</td>\n",
       "    </tr>\n",
       "  </tbody>\n",
       "</table>\n",
       "</div>"
      ],
      "text/plain": [
       "cohort2   Gen population 65-85  Gen population MCI  Gen population AD\n",
       "level_0                                                              \n",
       "MEMORY                     265                 132                 83\n",
       "ORIENT                     265                 132                 83\n",
       "JUDGMENT                   265                 132                 83\n",
       "COMMUN                     265                 132                 83\n",
       "HOMEHOBB                   265                 132                 83\n",
       "PERSCARE                   265                 132                 83\n",
       "CDRSUM                     265                 128                 83\n",
       "CDRGLOB                    265                 132                 83\n",
       "COMPORT                    168                 127                 83"
      ]
     },
     "execution_count": 26,
     "metadata": {},
     "output_type": "execute_result"
    }
   ],
   "source": [
    "counts"
   ]
  },
  {
   "cell_type": "code",
   "execution_count": 25,
   "metadata": {},
   "outputs": [],
   "source": [
    "cdf = pd.DataFrame({'score': [265, 265, 265, 265, 265, 265, 265, 265, 168,\n",
    "                             132, 132, 132, 132, 132, 132, 128, 132, 127,\n",
    "                             83, 83, 83, 83, 83, 83, 83, 83, 83],\n",
    "                   'group': np.repeat(['Gen population 65-85', 'Gen population MCI', 'Gen population AD'], repeats=9)}) "
   ]
  },
  {
   "cell_type": "code",
   "execution_count": 27,
   "metadata": {},
   "outputs": [
    {
     "data": {
      "text/html": [
       "<div>\n",
       "<style scoped>\n",
       "    .dataframe tbody tr th:only-of-type {\n",
       "        vertical-align: middle;\n",
       "    }\n",
       "\n",
       "    .dataframe tbody tr th {\n",
       "        vertical-align: top;\n",
       "    }\n",
       "\n",
       "    .dataframe thead th {\n",
       "        text-align: right;\n",
       "    }\n",
       "</style>\n",
       "<table border=\"1\" class=\"dataframe\">\n",
       "  <thead>\n",
       "    <tr style=\"text-align: right;\">\n",
       "      <th></th>\n",
       "      <th>score</th>\n",
       "      <th>group</th>\n",
       "    </tr>\n",
       "  </thead>\n",
       "  <tbody>\n",
       "    <tr>\n",
       "      <th>0</th>\n",
       "      <td>265</td>\n",
       "      <td>Gen population 65-85</td>\n",
       "    </tr>\n",
       "    <tr>\n",
       "      <th>1</th>\n",
       "      <td>265</td>\n",
       "      <td>Gen population 65-85</td>\n",
       "    </tr>\n",
       "    <tr>\n",
       "      <th>2</th>\n",
       "      <td>265</td>\n",
       "      <td>Gen population 65-85</td>\n",
       "    </tr>\n",
       "    <tr>\n",
       "      <th>3</th>\n",
       "      <td>265</td>\n",
       "      <td>Gen population 65-85</td>\n",
       "    </tr>\n",
       "    <tr>\n",
       "      <th>4</th>\n",
       "      <td>265</td>\n",
       "      <td>Gen population 65-85</td>\n",
       "    </tr>\n",
       "    <tr>\n",
       "      <th>5</th>\n",
       "      <td>265</td>\n",
       "      <td>Gen population 65-85</td>\n",
       "    </tr>\n",
       "    <tr>\n",
       "      <th>6</th>\n",
       "      <td>265</td>\n",
       "      <td>Gen population 65-85</td>\n",
       "    </tr>\n",
       "    <tr>\n",
       "      <th>7</th>\n",
       "      <td>265</td>\n",
       "      <td>Gen population 65-85</td>\n",
       "    </tr>\n",
       "    <tr>\n",
       "      <th>8</th>\n",
       "      <td>168</td>\n",
       "      <td>Gen population 65-85</td>\n",
       "    </tr>\n",
       "    <tr>\n",
       "      <th>9</th>\n",
       "      <td>132</td>\n",
       "      <td>Gen population MCI</td>\n",
       "    </tr>\n",
       "    <tr>\n",
       "      <th>10</th>\n",
       "      <td>132</td>\n",
       "      <td>Gen population MCI</td>\n",
       "    </tr>\n",
       "    <tr>\n",
       "      <th>11</th>\n",
       "      <td>132</td>\n",
       "      <td>Gen population MCI</td>\n",
       "    </tr>\n",
       "    <tr>\n",
       "      <th>12</th>\n",
       "      <td>132</td>\n",
       "      <td>Gen population MCI</td>\n",
       "    </tr>\n",
       "    <tr>\n",
       "      <th>13</th>\n",
       "      <td>132</td>\n",
       "      <td>Gen population MCI</td>\n",
       "    </tr>\n",
       "    <tr>\n",
       "      <th>14</th>\n",
       "      <td>132</td>\n",
       "      <td>Gen population MCI</td>\n",
       "    </tr>\n",
       "    <tr>\n",
       "      <th>15</th>\n",
       "      <td>128</td>\n",
       "      <td>Gen population MCI</td>\n",
       "    </tr>\n",
       "    <tr>\n",
       "      <th>16</th>\n",
       "      <td>132</td>\n",
       "      <td>Gen population MCI</td>\n",
       "    </tr>\n",
       "    <tr>\n",
       "      <th>17</th>\n",
       "      <td>127</td>\n",
       "      <td>Gen population MCI</td>\n",
       "    </tr>\n",
       "    <tr>\n",
       "      <th>18</th>\n",
       "      <td>83</td>\n",
       "      <td>Gen population AD</td>\n",
       "    </tr>\n",
       "    <tr>\n",
       "      <th>19</th>\n",
       "      <td>83</td>\n",
       "      <td>Gen population AD</td>\n",
       "    </tr>\n",
       "    <tr>\n",
       "      <th>20</th>\n",
       "      <td>83</td>\n",
       "      <td>Gen population AD</td>\n",
       "    </tr>\n",
       "    <tr>\n",
       "      <th>21</th>\n",
       "      <td>83</td>\n",
       "      <td>Gen population AD</td>\n",
       "    </tr>\n",
       "    <tr>\n",
       "      <th>22</th>\n",
       "      <td>83</td>\n",
       "      <td>Gen population AD</td>\n",
       "    </tr>\n",
       "    <tr>\n",
       "      <th>23</th>\n",
       "      <td>83</td>\n",
       "      <td>Gen population AD</td>\n",
       "    </tr>\n",
       "    <tr>\n",
       "      <th>24</th>\n",
       "      <td>83</td>\n",
       "      <td>Gen population AD</td>\n",
       "    </tr>\n",
       "    <tr>\n",
       "      <th>25</th>\n",
       "      <td>83</td>\n",
       "      <td>Gen population AD</td>\n",
       "    </tr>\n",
       "    <tr>\n",
       "      <th>26</th>\n",
       "      <td>83</td>\n",
       "      <td>Gen population AD</td>\n",
       "    </tr>\n",
       "  </tbody>\n",
       "</table>\n",
       "</div>"
      ],
      "text/plain": [
       "    score                 group\n",
       "0     265  Gen population 65-85\n",
       "1     265  Gen population 65-85\n",
       "2     265  Gen population 65-85\n",
       "3     265  Gen population 65-85\n",
       "4     265  Gen population 65-85\n",
       "5     265  Gen population 65-85\n",
       "6     265  Gen population 65-85\n",
       "7     265  Gen population 65-85\n",
       "8     168  Gen population 65-85\n",
       "9     132    Gen population MCI\n",
       "10    132    Gen population MCI\n",
       "11    132    Gen population MCI\n",
       "12    132    Gen population MCI\n",
       "13    132    Gen population MCI\n",
       "14    132    Gen population MCI\n",
       "15    128    Gen population MCI\n",
       "16    132    Gen population MCI\n",
       "17    127    Gen population MCI\n",
       "18     83     Gen population AD\n",
       "19     83     Gen population AD\n",
       "20     83     Gen population AD\n",
       "21     83     Gen population AD\n",
       "22     83     Gen population AD\n",
       "23     83     Gen population AD\n",
       "24     83     Gen population AD\n",
       "25     83     Gen population AD\n",
       "26     83     Gen population AD"
      ]
     },
     "execution_count": 27,
     "metadata": {},
     "output_type": "execute_result"
    }
   ],
   "source": [
    "cdf"
   ]
  },
  {
   "cell_type": "code",
   "execution_count": 28,
   "metadata": {},
   "outputs": [],
   "source": [
    "# perform Tukey's test\n",
    "tukey = pairwise_tukeyhsd(endog=cdf['score'],\n",
    "                          groups=cdf['group'],\n",
    "                          alpha=0.05)\n",
    "\n",
    "#display results\n",
    "print(tukey)"
   ]
  },
  {
   "cell_type": "markdown",
   "metadata": {},
   "source": [
    "# 3)  NACCFAM counts per group"
   ]
  },
  {
   "cell_type": "code",
   "execution_count": 29,
   "metadata": {},
   "outputs": [
    {
     "data": {
      "text/plain": [
       "9.0    546\n",
       "1.0    314\n",
       "0.0    186\n",
       "Name: NACCFAM, dtype: int64"
      ]
     },
     "execution_count": 29,
     "metadata": {},
     "output_type": "execute_result"
    }
   ],
   "source": [
    "df.NACCFAM.value_counts()"
   ]
  },
  {
   "cell_type": "code",
   "execution_count": 30,
   "metadata": {},
   "outputs": [],
   "source": [
    "#Drop the unknown NACCFAM \n",
    "Ncounts  = genpop[genpop.NACCFAM !=9 ].groupby('NACCFAM')['cohort2'].value_counts().unstack()\n",
    "#Ncounts.to_excel('C:/Users/tsb7592/Downloads/NACCFAM.xlsx')"
   ]
  },
  {
   "cell_type": "code",
   "execution_count": 31,
   "metadata": {
    "scrolled": true
   },
   "outputs": [],
   "source": [
    "print(Ncounts)"
   ]
  },
  {
   "cell_type": "code",
   "execution_count": 32,
   "metadata": {},
   "outputs": [],
   "source": [
    "#Chi square results got from R\n",
    "\n",
    "#Pearson's Chi-squared test\n",
    "print('X-squared = 7.7844, df = 2, p-value = 0.0204')\n",
    "print(\"\")"
   ]
  },
  {
   "cell_type": "markdown",
   "metadata": {},
   "source": [
    "#  HYPERT counts per group"
   ]
  },
  {
   "cell_type": "code",
   "execution_count": 33,
   "metadata": {},
   "outputs": [
    {
     "data": {
      "text/plain": [
       "array([ 1., -4.,  0.,  2.,  9.])"
      ]
     },
     "execution_count": 33,
     "metadata": {},
     "output_type": "execute_result"
    }
   ],
   "source": [
    "df.HYPERTEN.unique()"
   ]
  },
  {
   "cell_type": "code",
   "execution_count": 34,
   "metadata": {},
   "outputs": [
    {
     "data": {
      "text/plain": [
       "-4.0    463\n",
       " 1.0    288\n",
       " 0.0    282\n",
       " 2.0     12\n",
       " 9.0      1\n",
       "Name: HYPERCHO, dtype: int64"
      ]
     },
     "execution_count": 34,
     "metadata": {},
     "output_type": "execute_result"
    }
   ],
   "source": [
    "df.HYPERCHO.value_counts()"
   ]
  },
  {
   "cell_type": "code",
   "execution_count": 35,
   "metadata": {},
   "outputs": [],
   "source": [
    "h1=genpop[(genpop.HYPERTEN != 9 )&(genpop.HYPERTEN !=-4)].groupby('HYPERTEN')['cohort2'].value_counts().unstack().fillna(0)\n",
    "print(h1)"
   ]
  },
  {
   "cell_type": "code",
   "execution_count": 36,
   "metadata": {},
   "outputs": [],
   "source": [
    "#Pearson's Chi-squared test\n",
    "\n",
    "data:  h1\n",
    "print(\"X-squared = 15.884, df = 4, p-value = 0.003179\")\n",
    "print(\"\")"
   ]
  },
  {
   "cell_type": "code",
   "execution_count": 37,
   "metadata": {},
   "outputs": [],
   "source": [
    "h2=genpop[(genpop.HYPERCHO != 9 )&(genpop.HYPERCHO !=-4)].groupby('HYPERCHO')['cohort2'].value_counts().unstack().fillna(0)\n",
    "print(h2)"
   ]
  },
  {
   "cell_type": "code",
   "execution_count": 38,
   "metadata": {},
   "outputs": [],
   "source": [
    "#Pearson's Chi-squared test\n",
    "\n",
    "#data:  h2\n",
    "print(\"X-squared = 7.0551, df = 4, p-value = 0.133\")\n"
   ]
  },
  {
   "cell_type": "code",
   "execution_count": 39,
   "metadata": {},
   "outputs": [],
   "source": [
    "sys.stdout.close()\n",
    "sys.stdout=stdoutOrigin"
   ]
  },
  {
   "cell_type": "code",
   "execution_count": null,
   "metadata": {},
   "outputs": [],
   "source": []
  },
  {
   "cell_type": "code",
   "execution_count": null,
   "metadata": {},
   "outputs": [],
   "source": []
  },
  {
   "cell_type": "code",
   "execution_count": null,
   "metadata": {},
   "outputs": [],
   "source": []
  },
  {
   "cell_type": "code",
   "execution_count": null,
   "metadata": {},
   "outputs": [],
   "source": []
  },
  {
   "cell_type": "code",
   "execution_count": null,
   "metadata": {},
   "outputs": [],
   "source": []
  },
  {
   "cell_type": "code",
   "execution_count": null,
   "metadata": {},
   "outputs": [],
   "source": []
  },
  {
   "cell_type": "code",
   "execution_count": null,
   "metadata": {},
   "outputs": [],
   "source": []
  },
  {
   "cell_type": "code",
   "execution_count": null,
   "metadata": {},
   "outputs": [],
   "source": []
  },
  {
   "cell_type": "code",
   "execution_count": null,
   "metadata": {},
   "outputs": [],
   "source": []
  },
  {
   "cell_type": "code",
   "execution_count": null,
   "metadata": {},
   "outputs": [],
   "source": []
  },
  {
   "cell_type": "code",
   "execution_count": null,
   "metadata": {},
   "outputs": [],
   "source": []
  },
  {
   "cell_type": "code",
   "execution_count": null,
   "metadata": {},
   "outputs": [],
   "source": []
  },
  {
   "cell_type": "code",
   "execution_count": null,
   "metadata": {},
   "outputs": [],
   "source": []
  },
  {
   "cell_type": "code",
   "execution_count": null,
   "metadata": {},
   "outputs": [],
   "source": []
  },
  {
   "cell_type": "code",
   "execution_count": null,
   "metadata": {},
   "outputs": [],
   "source": []
  },
  {
   "cell_type": "markdown",
   "metadata": {
    "id": "Bbl5P_UClt5b"
   },
   "source": [
    "# Two sets of regression and AUC/ROC plots"
   ]
  },
  {
   "cell_type": "code",
   "execution_count": 40,
   "metadata": {
    "id": "LiGW6SSgw7O3"
   },
   "outputs": [],
   "source": [
    "#Create new columns cohort_groups, cognitive_status\n",
    "df.loc[df['cohort2'].str.contains('Gen population'), 'cohort_group'] = 'GenPop'\n",
    "df.loc[df['cohort2'].str.contains('Spanish'), 'cohort_group'] = 'Spanish'\n",
    "df.loc[df['cohort2'].str.contains('African American'), 'cohort_group'] = 'AA'"
   ]
  },
  {
   "cell_type": "code",
   "execution_count": 41,
   "metadata": {
    "colab": {
     "base_uri": "https://localhost:8080/"
    },
    "id": "e5DQ1T0YNaiG",
    "outputId": "bc10811a-e69a-4abe-dda9-d61582d0471a"
   },
   "outputs": [
    {
     "data": {
      "text/plain": [
       "(1046, 806)"
      ]
     },
     "execution_count": 41,
     "metadata": {},
     "output_type": "execute_result"
    }
   ],
   "source": [
    "df.shape"
   ]
  },
  {
   "cell_type": "code",
   "execution_count": 42,
   "metadata": {
    "colab": {
     "base_uri": "https://localhost:8080/"
    },
    "id": "CEPjdC2a7Lxh",
    "outputId": "5a9dc61b-614d-4acc-b8d6-852a1a385b26"
   },
   "outputs": [
    {
     "data": {
      "text/plain": [
       "GenPop     615\n",
       "Spanish    262\n",
       "AA         169\n",
       "Name: cohort_group, dtype: int64"
      ]
     },
     "execution_count": 42,
     "metadata": {},
     "output_type": "execute_result"
    }
   ],
   "source": [
    "df.cohort_group.value_counts()"
   ]
  },
  {
   "cell_type": "code",
   "execution_count": 43,
   "metadata": {},
   "outputs": [],
   "source": [
    "from statsmodels.multivariate.manova import MANOVA\n",
    "\n",
    "#maovt = MANOVA.from_formula('MEMORY +ORIENT +JUDGMENT +COMMUN +HOMEHOBB +PERSCARE +CDRSUM +CDRGLOB +COMPORT ~ cohort2', data=genpop)\n",
    "#print(maovt.mv_test())"
   ]
  },
  {
   "cell_type": "code",
   "execution_count": 44,
   "metadata": {
    "colab": {
     "base_uri": "https://localhost:8080/"
    },
    "id": "b8R7QfZunPsP",
    "outputId": "d0468365-b4cf-4907-eecc-3a90286c8b86"
   },
   "outputs": [
    {
     "data": {
      "text/plain": [
       "0     NC\n",
       "1     AD\n",
       "2     AD\n",
       "3    MCI\n",
       "4    MCI\n",
       "Name: cognitive_status, dtype: object"
      ]
     },
     "execution_count": 44,
     "metadata": {},
     "output_type": "execute_result"
    }
   ],
   "source": [
    "#Create new columns cohort_groups, cognitive_status\n",
    "df.loc[df['cohort2'].str.contains('mild cognitive impairment|MCI'), 'cognitive_status'] = 'MCI'\n",
    "df.loc[df['cohort2'].str.contains('AD'), 'cognitive_status'] = 'AD'\n",
    "df.loc[df['cohort2'].str.contains('65-85|normal controls|healthy aging 85+'), 'cognitive_status'] = 'NC'\n",
    "df['cognitive_status'].head()"
   ]
  },
  {
   "cell_type": "code",
   "execution_count": 45,
   "metadata": {
    "colab": {
     "base_uri": "https://localhost:8080/"
    },
    "id": "0ZXnBszm90yi",
    "outputId": "131e5f6d-d66f-4043-bd92-bb577f12d2b5"
   },
   "outputs": [
    {
     "data": {
      "text/plain": [
       "Index(['ptid', 'assmnt', 'site', 'cohort2', 'LANGUAGE', 'AGE', 'gender_rc',\n",
       "       'ethnicity_rc', 'race_tb_rc', 'racetb_w',\n",
       "       ...\n",
       "       'RESPINTR', 'RESPDISN', 'RESPFATG', 'RESPEMOT', 'RESPASST', 'RESPOTH',\n",
       "       'RESPOTHX', 'NACCMOCB', 'cohort_group', 'cognitive_status'],\n",
       "      dtype='object', length=807)"
      ]
     },
     "execution_count": 45,
     "metadata": {},
     "output_type": "execute_result"
    }
   ],
   "source": [
    "df.columns"
   ]
  },
  {
   "cell_type": "markdown",
   "metadata": {
    "id": "ICQxNFfiT2zf"
   },
   "source": [
    "Two sets of regressions (like in A and B below) for three comparisons (Ad vs mci, mc vs nc, nc vs AD) and three race/ethnicity. And an overall (with all the race/ethnicities collapsed)\n",
    "\n",
    "A) AD vs. MCI = CCC + CFC  + age + sex + education\n",
    "\n"
   ]
  },
  {
   "cell_type": "code",
   "execution_count": 46,
   "metadata": {
    "id": "tgFxyIfl92XM"
   },
   "outputs": [],
   "source": [
    "var1_acs= ['cohort_group', 'cognitive_status','AGE','SEX', 'College Degree', 'Graduate Degree', 'High School', 'Less than HS',\n",
    "        'None', 'Some College','CCC_ACSScore','CFC_ACSScore']"
   ]
  },
  {
   "cell_type": "code",
   "execution_count": 47,
   "metadata": {
    "id": "Vnu7dnDvPmij"
   },
   "outputs": [],
   "source": [
    "var1_fct= ['cohort_group', 'cognitive_status','AGE','SEX', 'College Degree', 'Graduate Degree', 'High School', 'Less than HS',\n",
    "        'None', 'Some College','CCC_FCTScore','CFC_FCTScore']"
   ]
  },
  {
   "cell_type": "code",
   "execution_count": 48,
   "metadata": {
    "id": "O7rpNYUTPmpS"
   },
   "outputs": [],
   "source": [
    "var1_ucs= ['cohort_group', 'cognitive_status','AGE','SEX', 'College Degree', 'Graduate Degree', 'High School', 'Less than HS',\n",
    "        'None', 'Some College','CCC_UCSScore','CFC_UCSScore']"
   ]
  },
  {
   "cell_type": "markdown",
   "metadata": {
    "id": "RqpR2M1ZlMKI"
   },
   "source": [
    "[ROC Curves, confusion matrix](https://scikit-plot.readthedocs.io/en/stable/metrics.html)"
   ]
  },
  {
   "cell_type": "code",
   "execution_count": 49,
   "metadata": {
    "id": "JugILmT7UoJQ"
   },
   "outputs": [],
   "source": [
    "def dummy_variable(variable, df):\n",
    "    '''\n",
    "    Using the binned columns, replace them with dummy columns.\n",
    "    Inputs:\n",
    "    df: A panda dataframe\n",
    "    variable: A list of column headings for binned variables\n",
    "    Outputs:\n",
    "    df:A panda dataframe\n",
    "    '''\n",
    "    dummy_df = pd.get_dummies(df[variable]).rename(columns = lambda x: str(x))\n",
    "    df = pd.concat([df, dummy_df], axis=1)\n",
    "    df.drop([variable], inplace = True, axis=1)\n",
    "    \n",
    "    return df"
   ]
  },
  {
   "cell_type": "code",
   "execution_count": 50,
   "metadata": {
    "colab": {
     "base_uri": "https://localhost:8080/"
    },
    "id": "NrT480WrUk5A",
    "outputId": "f5f3cbfb-ad00-472d-e993-a971bdd6adb4"
   },
   "outputs": [
    {
     "name": "stdout",
     "output_type": "stream",
     "text": [
      "The following columns have been broken into dummies: ['EDUCATION']\n",
      " \n"
     ]
    }
   ],
   "source": [
    "# CREATING DUMMIES for EDUCATION\n",
    "SCOL = ['EDUCATION']\n",
    "print ('The following columns have been broken into dummies:' , SCOL)\n",
    "for dummy in SCOL:\n",
    "    df = dummy_variable(dummy, df)\n",
    "print (' ')"
   ]
  },
  {
   "cell_type": "code",
   "execution_count": 51,
   "metadata": {
    "id": "-C5xrgW5Yxcu"
   },
   "outputs": [],
   "source": [
    "def select_subset(df, not_include, keep, race=None):\n",
    "    '''\n",
    "    Select the subset of dataset based on congitive status, races and num of indedpendt variables.\n",
    "    Inputs: \n",
    "        df: the dataframe\n",
    "        not_include (string): one of the congitive_status wont be included in the dataset(AD, MCI,NC)\n",
    "        keep (list of string): a list of column names for the regression\n",
    "        race (None or string): cohort_group we are interested in, if None we process all cohort\n",
    "        \n",
    "      \n",
    "    Returns: X, y and the title for the figure\n",
    "    '''\n",
    "    sub = df[keep]\n",
    "\n",
    "    #Select the subset for cognitive_status\n",
    "    sub=sub[sub['cognitive_status']!=not_include]\n",
    "    \n",
    "    #\n",
    "    if race:\n",
    "        sub=sub[sub['cohort_group']==race]\n",
    "    \n",
    "    sub.dropna(inplace=True)\n",
    "\n",
    "    # Binarize the output\n",
    "    if not_include == 'AD':\n",
    "        y = np.where(sub.cognitive_status =='MCI', 1, 0)\n",
    "        t = 'MCI vs. NC'\n",
    "    elif not_include == 'MCI':\n",
    "        y = np.where(sub.cognitive_status =='AD', 1, 0)\n",
    "        t = 'AD vs. NC'\n",
    "    else:\n",
    "        y = np.where(sub.cognitive_status =='AD', 1, 0)\n",
    "        t = 'AD vs. MCI'\n",
    "\n",
    "    DROP_COLS = ['cognitive_status','cohort_group']\n",
    "    X =sub.drop(DROP_COLS, axis = 1)\n",
    "\n",
    "    if race:\n",
    "        t = t+ '--'+ race\n",
    "\n",
    "    return X, y ,t\n",
    "   "
   ]
  },
  {
   "cell_type": "code",
   "execution_count": 52,
   "metadata": {
    "id": "vOYHYw8i_tD3"
   },
   "outputs": [],
   "source": [
    "def scores_at_k(y_true, y_scores, k):\n",
    "    '''\n",
    "    For a given level of k, calculate corresponding\n",
    "    precision, recall, and f1 scores.\n",
    "    '''\n",
    "    preds_at_k = generate_binary_at_k(y_scores, k)\n",
    "    precision = round(precision_score(y_true, preds_at_k), 2)\n",
    "    recall = round(recall_score(y_true, preds_at_k), 2)\n",
    "    f1 = round(f1_score(y_true, preds_at_k),2)\n",
    "    return precision, recall, f1"
   ]
  },
  {
   "cell_type": "markdown",
   "metadata": {
    "id": "bMKVZsw7QsxZ"
   },
   "source": [
    "[Finding thresholds](https://amirhessam88.github.io/finding-thresholds/)"
   ]
  },
  {
   "cell_type": "code",
   "execution_count": 53,
   "metadata": {
    "id": "jVVwySbAPDHV"
   },
   "outputs": [],
   "source": [
    "# Function: Plotting Confusion Matrix\n",
    "def _plot_confusion_matrix(cm, classes,\n",
    "                          normalize=False,\n",
    "                          title='Confusion matrix',\n",
    "                          cmap=plt.cm.Greens):\n",
    "    from sklearn.metrics import precision_score, recall_score, roc_auc_score, accuracy_score, roc_curve, auc, confusion_matrix\n",
    "    import itertools\n",
    "    \"\"\"\n",
    "    This function prints and plots the confusion matrix.\n",
    "    Normalization can be applied by setting `normalize=True`.\n",
    "    \"\"\"\n",
    "    if normalize:\n",
    "        cm = cm.astype('float') / cm.sum(axis=1)[:, np.newaxis]\n",
    "\n",
    "    plt.imshow(cm, interpolation='nearest', cmap=cmap)\n",
    "    plt.title(title, fontsize = 14)\n",
    "    plt.colorbar()\n",
    "    tick_marks = np.arange(len(classes))\n",
    "    plt.xticks(tick_marks, classes)\n",
    "    plt.yticks(tick_marks, classes)\n",
    "\n",
    "    fmt = '.2f' if normalize else 'd'\n",
    "    thresh = cm.max() / 2.\n",
    "    for i, j in itertools.product(range(cm.shape[0]), range(cm.shape[1])):\n",
    "        plt.text(j, i, format(cm[i, j], fmt),\n",
    "                 horizontalalignment=\"center\",\n",
    "                 color=\"black\")\n",
    "\n",
    "    plt.ylabel('True Class', fontsize = 14)\n",
    "    plt.xlabel('Predicted Class', fontsize = 14)\n",
    "\n",
    "    plt.tick_params(axis='both', which='major', labelsize=14)\n",
    "    plt.tight_layout()"
   ]
  },
  {
   "cell_type": "code",
   "execution_count": 54,
   "metadata": {
    "id": "rWpxDeLHjDbZ"
   },
   "outputs": [],
   "source": [
    "from math import sqrt\n",
    "def roc_auc_ci(y_true, y_score, positive=1):\n",
    "    AUC = roc_auc_score(y_true, y_score)\n",
    "    N1 = sum(y_true == positive)\n",
    "    N2 = sum(y_true != positive)\n",
    "    Q1 = AUC / (2 - AUC)\n",
    "    Q2 = 2*AUC**2 / (1 + AUC)\n",
    "    SE_AUC = sqrt((AUC*(1 - AUC) + (N1 - 1)*(Q1 - AUC**2) + (N2 - 1)*(Q2 - AUC**2)) / (N1*N2))\n",
    "    lower = round((AUC - 1.96*SE_AUC), 2)\n",
    "    upper = round((AUC + 1.96*SE_AUC), 2)\n",
    "    if lower < 0:\n",
    "        lower = 0\n",
    "    if upper > 1:\n",
    "        upper = 1\n",
    "    return (lower, upper)"
   ]
  },
  {
   "cell_type": "code",
   "execution_count": 55,
   "metadata": {
    "id": "N0ecbJkpO3Yg"
   },
   "outputs": [],
   "source": [
    "def _threshold_finder(X, y_true, t):\n",
    "    \"\"\"\n",
    "    a function to find the optimal threshold for binary classification\n",
    "    X: the test set of features (pandas dataframe or numpy array)\n",
    "    y_true: the true class labels (list or array of 0's and 1's)  \n",
    "    t: title   \n",
    "\n",
    "    return the dataframe contains the results of each regression\n",
    "    \"\"\"\n",
    "    if np.all((y_true== 0)):\n",
    "        print(t, 'does not have class 1')\n",
    "        return \n",
    "    results_df = pd.DataFrame(columns=('Title', 'Accuracy','AUC-ROC', '95% CI','AVG Precision','Youden index','Precision,Recall,F1 at_50'))\n",
    "    \n",
    "    model =  LogisticRegression(random_state=0).fit(X, y)\n",
    "    probas = model.predict_proba(X)\n",
    "    y_predict_proba  = model.predict_proba(X)[:,1]\n",
    "    y_pred = model.predict(X)\n",
    "    accuracy = round(model.score(X, y),2)\n",
    "\n",
    "    CI = roc_auc_ci(y_true, y_predict_proba, positive=1)\n",
    "\n",
    "    fpr, tpr, thresholds = roc_curve(y_true, y_predict_proba)\n",
    "    auc = roc_auc_score(y_true, y_predict_proba)\n",
    "    precision, recall, thresholds2 = precision_recall_curve(y_true, y_predict_proba)\n",
    "    \n",
    "    class_names = [0, 1]\n",
    "    youden_idx = np.argmax(np.abs(tpr - fpr))\n",
    "    youden_threshold = thresholds[youden_idx]\n",
    "    y_pred_youden = (y_predict_proba > youden_threshold).astype(int)\n",
    "    cnf_matrix = confusion_matrix(y_true, y_pred_youden)\n",
    "    np.set_printoptions(precision=2)\n",
    "\n",
    "    #Zip, unzip to ensure corresponding order\n",
    "    y_pred_probs_sorted, y_test_sorted = zip(*sorted(zip(y_predict_proba, y), reverse=True))\n",
    "    results_df.loc[len(results_df)] = [t, accuracy, round(roc_auc_score(y, y_predict_proba),2),CI,\n",
    "                                    round(average_precision_score(y, y_predict_proba),2), round(youden_threshold,2),\n",
    "                                    scores_at_k(y_test_sorted,y_pred_probs_sorted,50.0)]\n",
    "    \n",
    "\n",
    "    plt.figure(figsize = (10, 5))\n",
    "    plt.subplot(1,2,1)  # one row, two columns, fist cell\n",
    "    plt.plot(fpr, tpr, color = \"red\", label = F\"AUC = {auc:.2f}\")\n",
    "    plt.plot(fpr[youden_idx], tpr[youden_idx], marker = \"o\", color = \"green\", ms =10, label =F\"Youden Threshold = {youden_threshold:.2f}\" )\n",
    "    plt.axvline(x = fpr[youden_idx], ymin = fpr[youden_idx], ymax = tpr[youden_idx], color = \"green\", ls = \"--\")\n",
    "    plt.plot([0,1], [0,1] , color = \"black\", ls = \"--\")\n",
    "    plt.xlim([-0.01, 1.01])\n",
    "    plt.ylim([-0.01, 1.01])\n",
    "    plt.xlabel('1 - Specificity' , fontsize=12)\n",
    "    plt.ylabel('Sensitivity' , fontsize=12)\n",
    "    plt.tick_params(axis='both', which='major', labelsize=12)\n",
    "    plt.legend( prop={'size':12} , loc = 4)\n",
    "    plt.title('ROC Curve for '+t, fontsize = 12)\n",
    "\n",
    "    plt.subplot(1,2,2)\n",
    "    _plot_confusion_matrix(cnf_matrix, classes=class_names, normalize = False, cmap=plt.cm.Blues, title = F\"Youden Threshold = {youden_threshold:.2f}\\nAccuracy = {accuracy_score(y_true, y_pred_youden)*100:.2f}%\")\n",
    "    plt.show()\n",
    "    \n",
    "    plt.figure(figsize = (12, 5))\n",
    "    plt.subplot(1,2,1)\n",
    "    plt.plot(thresholds, 1-fpr, label = \"1 - Specificity\")\n",
    "    plt.plot(thresholds, tpr, label = \"Sensitivity\")\n",
    "    plt.xlabel(\"Threshold\", fontsize = 12)\n",
    "    plt.ylabel(\"Score\", fontsize = 12)\n",
    "    plt.legend(loc = 0)\n",
    "    plt.xlim([0.025, thresholds[np.argmin(abs(tpr + fpr - 1))]+0.2])\n",
    "    plt.axvline(thresholds[np.argmin(abs(tpr + fpr - 1))], color=\"k\", ls = \"--\")\n",
    "    plt.title(F\"Threshold = {thresholds[np.argmin(abs(tpr + fpr - 1))]:.2f}\", fontsize = 12)\n",
    "\n",
    "    plt.show()\n",
    "     \n",
    "    #skplt.metrics.plot_confusion_matrix(y, y_pred, normalize=True,title='Normalized Confusion Matrix '+t)\n",
    "\n",
    "    return results_df\n",
    "    "
   ]
  },
  {
   "cell_type": "code",
   "execution_count": 56,
   "metadata": {
    "id": "KeStbccEBcEW"
   },
   "outputs": [],
   "source": [
    "def generate_binary_at_k(y_scores, k):\n",
    "    '''\n",
    "    Set first k% as 1, the rest as 0.\n",
    "    '''\n",
    "    cutoff_index = int(len(y_scores) * (k / 100.0))\n",
    "    test_predictions_binary = [1 if x < cutoff_index else 0 for x in range(len(y_scores))]\n",
    "    return test_predictions_binary"
   ]
  },
  {
   "cell_type": "code",
   "execution_count": 57,
   "metadata": {
    "id": "QAsC_Fitd7Gj"
   },
   "outputs": [],
   "source": [
    "var1 = [var1_acs,var1_fct,var1_ucs]"
   ]
  },
  {
   "cell_type": "code",
   "execution_count": 58,
   "metadata": {
    "id": "7A6f44NMeQPD"
   },
   "outputs": [],
   "source": [
    "names=['Age', 'Fully', 'Uncorrected']"
   ]
  },
  {
   "cell_type": "code",
   "execution_count": 59,
   "metadata": {
    "id": "8w6s3X1fNEBc"
   },
   "outputs": [],
   "source": [
    "import scikitplot as skplt"
   ]
  },
  {
   "cell_type": "code",
   "execution_count": 60,
   "metadata": {
    "colab": {
     "base_uri": "https://localhost:8080/"
    },
    "id": "V1jkgZi7NNu4",
    "outputId": "679b39ae-0408-4927-91b1-370155bbc0d2"
   },
   "outputs": [
    {
     "data": {
      "text/plain": [
       "GenPop     615\n",
       "Spanish    262\n",
       "AA         169\n",
       "Name: cohort_group, dtype: int64"
      ]
     },
     "execution_count": 60,
     "metadata": {},
     "output_type": "execute_result"
    }
   ],
   "source": [
    "df.cohort_group.value_counts()"
   ]
  },
  {
   "cell_type": "code",
   "execution_count": null,
   "metadata": {
    "colab": {
     "base_uri": "https://localhost:8080/",
     "height": 1000
    },
    "id": "eOZ86aM9dPHB",
    "outputId": "f341cb72-94b3-465e-ceac-88afcafe46bf"
   },
   "outputs": [],
   "source": [
    "all"
   ]
  },
  {
   "cell_type": "markdown",
   "metadata": {
    "id": "cJs-vHZodlYg"
   },
   "source": [
    "B) AD vs MCI (c(0,1)) = DCCS + Flanker + LSWM + … + age + sex + education\n",
    " \n"
   ]
  },
  {
   "cell_type": "code",
   "execution_count": null,
   "metadata": {
    "id": "QAMhQdWJdsUK"
   },
   "outputs": [],
   "source": [
    "var2_acs =['cohort_group','cognitive_status','AGE', 'SEX', 'DCCS_ACSScore', 'Flanker_ACSScore',\n",
    "       'LSWM_ACSScore',  'ORR_ACSScore',  'PCPS_ACSScore',  'PSM_ACSScore', \n",
    "       'TPVT_ACSScore','College Degree', 'Graduate Degree', 'High School', 'Less than HS',\n",
    "       'None', 'Some College']"
   ]
  },
  {
   "cell_type": "code",
   "execution_count": null,
   "metadata": {
    "id": "QxwNTioPh99B"
   },
   "outputs": [],
   "source": [
    "var2_ucs =['cohort_group','cognitive_status','AGE', 'SEX', 'DCCS_UCSScore', 'Flanker_UCSScore',\n",
    "       'LSWM_UCSScore',  'ORR_UCSScore',  'PCPS_UCSScore',  'PSM_UCSScore', \n",
    "       'TPVT_UCSScore','College Degree', 'Graduate Degree', 'High School', 'Less than HS',\n",
    "       'None', 'Some College']"
   ]
  },
  {
   "cell_type": "code",
   "execution_count": null,
   "metadata": {
    "id": "M6bZf2vQhjmY"
   },
   "outputs": [],
   "source": [
    "var2_ftc =['cohort_group','cognitive_status','AGE', 'SEX', 'DCCS_FCTScore', 'Flanker_FCTScore',\n",
    "       'LSWM_FCTScore',  'ORR_FCTScore',  'PCPS_FCTScore',  'PSM_FCTScore', \n",
    "       'TPVT_FCTScore','College Degree', 'Graduate Degree', 'High School', 'Less than HS',\n",
    "       'None', 'Some College']"
   ]
  },
  {
   "cell_type": "code",
   "execution_count": null,
   "metadata": {
    "id": "bRwK6tg-hCPI"
   },
   "outputs": [],
   "source": [
    "var2=[var2_acs,var2_ftc,var2_ucs]"
   ]
  },
  {
   "cell_type": "code",
   "execution_count": null,
   "metadata": {
    "colab": {
     "base_uri": "https://localhost:8080/",
     "height": 1000
    },
    "id": "xh-nJXcnkMQI",
    "outputId": "1d207fae-1456-446b-e90d-166515e0cad1"
   },
   "outputs": [],
   "source": [
    "rv = []\n",
    "fa =[]\n",
    "for i in range(3):\n",
    "    for cg in ['AD','MCI','NC']:\n",
    "        for cohort in ['GenPop','Spanish','AA']:\n",
    "            X, y, t = select_subset(df, cg, var2[i], cohort)\n",
    "            df1 = _threshold_finder(X, y , t)\n",
    "            rv.append(df1)\n",
    "    \n",
    "    temp = pd.concat(rv)\n",
    "    temp['Corrections'] =names[i]\n",
    "    fa.append(temp)\n",
    "all2 = pd.concat(fa, ignore_index=True)\n",
    "all2['Regression'] = 2"
   ]
  },
  {
   "cell_type": "code",
   "execution_count": null,
   "metadata": {
    "colab": {
     "base_uri": "https://localhost:8080/",
     "height": 1000
    },
    "id": "WwheJ4-AHaj7",
    "outputId": "35e2459b-58fa-4064-a844-886b2a5edb31"
   },
   "outputs": [],
   "source": [
    "all2"
   ]
  },
  {
   "cell_type": "code",
   "execution_count": null,
   "metadata": {
    "id": "ttIlHXKshZDm"
   },
   "outputs": [],
   "source": []
  },
  {
   "cell_type": "code",
   "execution_count": null,
   "metadata": {
    "id": "n_CE4BXOAoJ9"
   },
   "outputs": [],
   "source": [
    "#Previously used function\n",
    "\n",
    "def plot_roc(X,y, t):\n",
    "\n",
    "    results_df = pd.DataFrame(columns=('Title', 'accuracy','auc-roc', 'avg precision','precision,recall,f1 at_50'))\n",
    "    \n",
    "    lr = LogisticRegression(random_state=0).fit(X, y)\n",
    "    probas = lr.predict_proba(X)\n",
    "    y_pred_probs = lr.predict_proba(X)[:,1]\n",
    "    accuracy = round(lr.score(X, y),2)\n",
    "    #Zip, unzip to ensure corresponding order\n",
    "    y_pred_probs_sorted, y_test_sorted = zip(*sorted(zip(y_pred_probs, y), reverse=True))\n",
    "    results_df.loc[len(results_df)] = [t, accuracy, round(roc_auc_score(y, y_pred_probs),2),\n",
    "                                    round(average_precision_score(y, y_pred_probs),2),\n",
    "                                    scores_at_k(y_test_sorted,y_pred_probs_sorted,50.0)]\n",
    "\n",
    "\n",
    "\n",
    "    return results_df"
   ]
  }
 ],
 "metadata": {
  "colab": {
   "authorship_tag": "ABX9TyOjJC/8uEK6GS7o05/Lerxy",
   "collapsed_sections": [],
   "include_colab_link": true,
   "name": "Classification of MCI.ipynb",
   "provenance": []
  },
  "kernelspec": {
   "display_name": "Python 3",
   "language": "python",
   "name": "python3"
  },
  "language_info": {
   "codemirror_mode": {
    "name": "ipython",
    "version": 3
   },
   "file_extension": ".py",
   "mimetype": "text/x-python",
   "name": "python",
   "nbconvert_exporter": "python",
   "pygments_lexer": "ipython3",
   "version": "3.8.8"
  }
 },
 "nbformat": 4,
 "nbformat_minor": 1
}
