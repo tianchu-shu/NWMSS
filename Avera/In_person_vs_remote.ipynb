{
 "cells": [
  {
   "cell_type": "code",
   "execution_count": 1,
   "metadata": {
    "id": "SPKdLsF0Rg36"
   },
   "outputs": [],
   "source": [
    "#Data saved in csv/excel\n",
    "import glob, os\n",
    "import pandas as pd\n",
    "\n",
    "data_dir=\"C:/Users/tsb7592/Box/Avera NIHTB Data\"\n",
    "os.chdir(data_dir)"
   ]
  },
  {
   "cell_type": "code",
   "execution_count": 2,
   "metadata": {},
   "outputs": [],
   "source": [
    "import sys \n",
    "\n",
    "stdoutOrigin=sys.stdout \n",
    "sys.stdout = open(\"stat_output.txt\", \"w\")"
   ]
  },
  {
   "cell_type": "markdown",
   "metadata": {
    "id": "Ryp-FuHZLWyT"
   },
   "source": [
    "# Compute the Total response time in minutes"
   ]
  },
  {
   "cell_type": "code",
   "execution_count": 2,
   "metadata": {
    "colab": {
     "base_uri": "https://localhost:8080/"
    },
    "id": "yonYmaEjXXnY",
    "outputId": "56b987c9-fff8-44b1-cb71-e06c5e7135c9"
   },
   "outputs": [
    {
     "data": {
      "text/plain": [
       "'C:\\\\Users\\\\tsb7592\\\\Box\\\\Avera NIHTB Data\\\\Rapid City\\\\EPRC_00032\\\\In Person\\\\210330_EPRC_00032_A_8Y_NT_CB_Data.csv'"
      ]
     },
     "metadata": {},
     "output_type": "display_data"
    },
    {
     "data": {
      "text/plain": [
       "'C:\\\\Users\\\\tsb7592\\\\Box\\\\Avera NIHTB Data\\\\Rapid City\\\\EPRC_00160\\\\In Person\\\\210423_EPRC_00160_A_8Y_NT_CB_Data.csv'"
      ]
     },
     "metadata": {},
     "output_type": "display_data"
    },
    {
     "data": {
      "text/plain": [
       "'C:\\\\Users\\\\tsb7592\\\\Box\\\\Avera NIHTB Data\\\\Rapid City\\\\EPRC_00162\\\\In Person\\\\210407_EPRC_00162_A_8Y_NT_CB_Data.csv'"
      ]
     },
     "metadata": {},
     "output_type": "display_data"
    },
    {
     "data": {
      "text/plain": [
       "'C:\\\\Users\\\\tsb7592\\\\Box\\\\Avera NIHTB Data\\\\Rapid City\\\\EPRC_00173\\\\In Person\\\\210331_EPRC_00173_A_8Y_NT_CB_Data.csv'"
      ]
     },
     "metadata": {},
     "output_type": "display_data"
    },
    {
     "data": {
      "text/plain": [
       "'C:\\\\Users\\\\tsb7592\\\\Box\\\\Avera NIHTB Data\\\\Rapid City\\\\EPRC_00179\\\\In Person\\\\210427_EPRC_00179_A_8Y_NT_CB_Data.csv'"
      ]
     },
     "metadata": {},
     "output_type": "display_data"
    },
    {
     "data": {
      "text/plain": [
       "'C:\\\\Users\\\\tsb7592\\\\Box\\\\Avera NIHTB Data\\\\Rapid City\\\\EPRC_00181\\\\In Person\\\\210420_EPRC_00181_A_8Y_NT_CB_Data.csv'"
      ]
     },
     "metadata": {},
     "output_type": "display_data"
    },
    {
     "data": {
      "text/plain": [
       "'C:\\\\Users\\\\tsb7592\\\\Box\\\\Avera NIHTB Data\\\\Rapid City\\\\EPRC_00183\\\\In Person\\\\210422_EPRC_00183_8Y_NT_CB_Data.csv'"
      ]
     },
     "metadata": {},
     "output_type": "display_data"
    },
    {
     "data": {
      "text/plain": [
       "'C:\\\\Users\\\\tsb7592\\\\Box\\\\Avera NIHTB Data\\\\Rapid City\\\\EPRC_00191\\\\In Person\\\\210506_EPRC_00191_A_8Y_NT_CB_Data.csv'"
      ]
     },
     "metadata": {},
     "output_type": "display_data"
    },
    {
     "data": {
      "text/plain": [
       "'C:\\\\Users\\\\tsb7592\\\\Box\\\\Avera NIHTB Data\\\\Rapid City\\\\EPRC_00380\\\\In Person\\\\210419_EPRC_00380_A_8Y_NT_CB_Data.csv'"
      ]
     },
     "metadata": {},
     "output_type": "display_data"
    },
    {
     "data": {
      "text/plain": [
       "'C:\\\\Users\\\\tsb7592\\\\Box\\\\Avera NIHTB Data\\\\Rapid City\\\\EPRC_00550\\\\In Person\\\\210412_EPRC_00550_A_8Y_NT_CB_Data.csv'"
      ]
     },
     "metadata": {},
     "output_type": "display_data"
    },
    {
     "data": {
      "text/plain": [
       "'C:\\\\Users\\\\tsb7592\\\\Box\\\\Avera NIHTB Data\\\\Sioux Falls\\\\EPSF_00832_A\\\\In Person\\\\210413_EPSF_00832_A_8Y_NT_CB_Data.csv'"
      ]
     },
     "metadata": {},
     "output_type": "display_data"
    },
    {
     "data": {
      "text/plain": [
       "'C:\\\\Users\\\\tsb7592\\\\Box\\\\Avera NIHTB Data\\\\Sioux Falls\\\\EPSF_00836_A\\\\In Person\\\\210413_EPSF_00836_A_8Y_NT_CB_Data.csv'"
      ]
     },
     "metadata": {},
     "output_type": "display_data"
    },
    {
     "data": {
      "text/plain": [
       "'C:\\\\Users\\\\tsb7592\\\\Box\\\\Avera NIHTB Data\\\\Sioux Falls\\\\EPSF_00847_A\\\\In Person\\\\210412_EPSF_00847_A_8Y_CB_Data.csv'"
      ]
     },
     "metadata": {},
     "output_type": "display_data"
    },
    {
     "data": {
      "text/plain": [
       "'C:\\\\Users\\\\tsb7592\\\\Box\\\\Avera NIHTB Data\\\\Sioux Falls\\\\EPSF_00944_A\\\\In Person\\\\210416_EPSF_00944_A_8Y_NT_CB_Data.csv'"
      ]
     },
     "metadata": {},
     "output_type": "display_data"
    },
    {
     "data": {
      "text/plain": [
       "'C:\\\\Users\\\\tsb7592\\\\Box\\\\Avera NIHTB Data\\\\Sioux Falls\\\\EPSF_00944_B\\\\In Person\\\\210416_EPSF_00944_B_8Y_NT_CB_Data.csv'"
      ]
     },
     "metadata": {},
     "output_type": "display_data"
    },
    {
     "data": {
      "text/plain": [
       "'C:\\\\Users\\\\tsb7592\\\\Box\\\\Avera NIHTB Data\\\\Sioux Falls\\\\EPSF_01247_A\\\\In Person\\\\210412_EPSF_01247_A_8Y_NT_CB_Data.csv'"
      ]
     },
     "metadata": {},
     "output_type": "display_data"
    },
    {
     "data": {
      "text/plain": [
       "'C:\\\\Users\\\\tsb7592\\\\Box\\\\Avera NIHTB Data\\\\Sioux Falls\\\\EPSF_01247_A\\\\In Person\\\\210414_EPSF_01247_A_8Y_NT_CB_Data.csv'"
      ]
     },
     "metadata": {},
     "output_type": "display_data"
    },
    {
     "data": {
      "text/plain": [
       "'C:\\\\Users\\\\tsb7592\\\\Box\\\\Avera NIHTB Data\\\\Sioux Falls\\\\EPSF_01666_A\\\\In Person\\\\210412_EPSF_01666_A_8Y_NT_CB_Data.csv'"
      ]
     },
     "metadata": {},
     "output_type": "display_data"
    },
    {
     "data": {
      "text/plain": [
       "'C:\\\\Users\\\\tsb7592\\\\Box\\\\Avera NIHTB Data\\\\Sioux Falls\\\\EPSF_00943_A\\\\In Person\\\\210409_EPSF_00943_A_9.5Y_M_NT_NS_PVT_Data.csv'"
      ]
     },
     "metadata": {},
     "output_type": "display_data"
    },
    {
     "data": {
      "text/plain": [
       "'C:\\\\Users\\\\tsb7592\\\\Box\\\\Avera NIHTB Data\\\\Sioux Falls\\\\EPSF_00943_A\\\\In Person\\\\210409_EPSF_00943_A_9.5Y_M_NT_PVT_Data.csv'"
      ]
     },
     "metadata": {},
     "output_type": "display_data"
    }
   ],
   "source": [
    "# get all files from all RC In-person subdirectories\n",
    "\n",
    "all_files = glob.glob('C:\\\\Users\\\\tsb7592\\\\Box\\\\Avera NIHTB Data\\\\Rapid City\\\\*\\\\In Person\\\\*CB_Data.csv')\n",
    "\n",
    "doc =[]\n",
    "for file in all_files:\n",
    "    data = pd.read_csv(file)\n",
    "    display(file)\n",
    "    doc.append(data)\n",
    "\n",
    "# get all files from all SF\n",
    "all_files = glob.glob('C:\\\\Users\\\\tsb7592\\\\Box\\\\Avera NIHTB Data\\\\Sioux Falls\\\\*\\\\In Person\\\\*CB_Data.csv')\n",
    "for file in all_files:\n",
    "    data = pd.read_csv(file)\n",
    "    display(file)\n",
    "    doc.append(data)\n",
    "\n",
    "all_files = glob.glob('C:\\\\Users\\\\tsb7592\\\\Box\\\\Avera NIHTB Data\\\\Sioux Falls\\\\*\\\\In Person\\\\*PVT_Data.csv')\n",
    "sep= []\n",
    "for file in all_files:\n",
    "    data = pd.read_csv(file)\n",
    "    display(file)\n",
    "    if data.shape[1]!= 11:\n",
    "        doc.append(data)\n",
    "\n",
    "    else:\n",
    "        sep.append(data)\n",
    "df = pd.concat(doc)"
   ]
  },
  {
   "cell_type": "code",
   "execution_count": 3,
   "metadata": {
    "id": "hv9LEGi0fkbN"
   },
   "outputs": [],
   "source": [
    "sdf = pd.concat(sep)"
   ]
  },
  {
   "cell_type": "code",
   "execution_count": 4,
   "metadata": {
    "colab": {
     "base_uri": "https://localhost:8080/"
    },
    "id": "PgrHHaJtgcyq",
    "outputId": "5cc3260d-003f-43c4-d83c-3493c4da7914"
   },
   "outputs": [
    {
     "data": {
      "text/plain": [
       "(403, 11)"
      ]
     },
     "execution_count": 4,
     "metadata": {},
     "output_type": "execute_result"
    }
   ],
   "source": [
    "sdf.shape"
   ]
  },
  {
   "cell_type": "code",
   "execution_count": 5,
   "metadata": {
    "colab": {
     "base_uri": "https://localhost:8080/",
     "height": 666
    },
    "id": "pMEIOTwTin-_",
    "outputId": "3773d420-bccb-45ff-b95a-36dbde272331"
   },
   "outputs": [],
   "source": [
    "#Set two decimal points for display\n",
    "pd.options.display.float_format = \"{:.2f}\".format"
   ]
  },
  {
   "cell_type": "code",
   "execution_count": 6,
   "metadata": {},
   "outputs": [
    {
     "data": {
      "text/plain": [
       "Index(['PIN', 'DeviceID', 'Assessment Name', 'InstOrdr', 'InstSctn', 'ItmOrdr',\n",
       "       'Inst', 'Locale', 'ItemID', 'Response', 'Score', 'Theta', 'TScore',\n",
       "       'SE', 'DataType', 'Position', 'ResponseTime', 'DateCreated',\n",
       "       'InstStarted', 'InstEnded', 'App Version', 'iPad Version',\n",
       "       'Firmware Version'],\n",
       "      dtype='object')"
      ]
     },
     "execution_count": 6,
     "metadata": {},
     "output_type": "execute_result"
    }
   ],
   "source": [
    "df.columns"
   ]
  },
  {
   "cell_type": "code",
   "execution_count": 7,
   "metadata": {
    "id": "j7Uoq7LygW1V"
   },
   "outputs": [],
   "source": [
    "#Reshape the data for EPSF_00944 and EPSF_00943 from long to wide\n",
    "sdf=sdf.pivot_table(index=['PIN', 'DeviceID', 'AssessmentName', 'ResponseID', 'ItemID',\n",
    "       'InstrumentTitle', 'TestName', 'InstrumentID'], columns='Key', values='Value', aggfunc='first').reset_index()"
   ]
  },
  {
   "cell_type": "code",
   "execution_count": 8,
   "metadata": {
    "id": "nN2RXgoSqFn-"
   },
   "outputs": [],
   "source": [
    "sdf.columns=['PIN', 'DeviceID', 'Assessment Name', 'ResponseID', 'ItemID',\n",
    "       'Inst', 'TestName', 'InstrumentID', 'App Version', 'DataType',\n",
    "       'DateCreated', 'Firmware Version', 'InstEnded',\n",
    "      'InstOrdr', 'InstSctn', 'InstStarted',\n",
    "       'ItmOrdr', 'Locale', 'Position', 'Response', 'ResponseTime', 'SE',\n",
    "       'Score', 'Theta', 'iPad Version']"
   ]
  },
  {
   "cell_type": "code",
   "execution_count": 9,
   "metadata": {
    "id": "SRQvyDI1l3b1"
   },
   "outputs": [],
   "source": [
    "sdf =sdf.drop(columns=['ResponseID','TestName','InstrumentID'])"
   ]
  },
  {
   "cell_type": "code",
   "execution_count": 10,
   "metadata": {
    "id": "c5m78-52mONr"
   },
   "outputs": [],
   "source": [
    "sdf['Site'] = 'Sioux Falls'"
   ]
  },
  {
   "cell_type": "code",
   "execution_count": 11,
   "metadata": {
    "id": "H-UAtMUIkWAa"
   },
   "outputs": [],
   "source": [
    "#combine all the data for time calculation\n",
    "df = df.append(sdf)"
   ]
  },
  {
   "cell_type": "code",
   "execution_count": 12,
   "metadata": {
    "colab": {
     "base_uri": "https://localhost:8080/"
    },
    "id": "T9XiKDi8lZ0z",
    "outputId": "056edaf8-28b7-408f-bb7a-a89e008df8d7"
   },
   "outputs": [
    {
     "data": {
      "text/plain": [
       "(3292, 24)"
      ]
     },
     "execution_count": 12,
     "metadata": {},
     "output_type": "execute_result"
    }
   ],
   "source": [
    "df.shape"
   ]
  },
  {
   "cell_type": "code",
   "execution_count": 13,
   "metadata": {},
   "outputs": [
    {
     "data": {
      "text/plain": [
       "array(['210330_EPRC_00032_A_8Y', '210423_EPRC_00160_A_8Y',\n",
       "       '210407_EPRC_00162_A_8Y', '210331_EPRC_00173_A_8Y',\n",
       "       '210427_EPRC_00179_A_8Y', '210420_EPRC_00181_A_8Y',\n",
       "       '210422_EPRC_00183_A_8Y', '210506_EPRC_00191_A_8Y',\n",
       "       '210419_EPRC_00380_A_8Y', '210412_EPRC_00550_A_8Y',\n",
       "       '210413_EPSF_00832_A_8Y', '210413_EPSF_00836_A_8Y',\n",
       "       '210412_EPSF_00847_A_8Y', '210416_EPSF_00944_B_8Y',\n",
       "       '210416_EPSF_00944_A', '210412_EPSF_01247_A_8Y',\n",
       "       '210414_EPSF_01247_A_8Y', '210412_EPSF_01666_A_8Y',\n",
       "       '210409_EPSF_00943_A_9.5Y_M'], dtype=object)"
      ]
     },
     "execution_count": 13,
     "metadata": {},
     "output_type": "execute_result"
    }
   ],
   "source": [
    "df['PIN'].unique()"
   ]
  },
  {
   "cell_type": "code",
   "execution_count": 14,
   "metadata": {
    "id": "vY67enVDXXne"
   },
   "outputs": [],
   "source": [
    "df['PIN'] = df['PIN'].str[7:19]"
   ]
  },
  {
   "cell_type": "code",
   "execution_count": 15,
   "metadata": {
    "id": "E5ZSa4DUXXne"
   },
   "outputs": [],
   "source": [
    "#Convert to datetime\n",
    "df['InstStarted']= pd.to_datetime(df['InstStarted'])\n",
    "df['InstEnded']= pd.to_datetime(df['InstEnded'])"
   ]
  },
  {
   "cell_type": "code",
   "execution_count": 16,
   "metadata": {
    "colab": {
     "base_uri": "https://localhost:8080/"
    },
    "id": "q09DIDy_XXng",
    "outputId": "bb2bc54c-9d51-4cfe-dac4-5642e4dda868"
   },
   "outputs": [
    {
     "name": "stderr",
     "output_type": "stream",
     "text": [
      "<ipython-input-16-343c5d240ab3>:2: FutureWarning: Indexing with multiple keys (implicitly converted to a tuple of keys) will be deprecated, use a list instead.\n",
      "  mni =df.groupby(['PIN','Inst'])['InstStarted','InstEnded'].first().reset_index()\n"
     ]
    }
   ],
   "source": [
    "#groupby PIN, Inst to calculate the time spent in each inst by each participant\n",
    "mni =df.groupby(['PIN','Inst'])['InstStarted','InstEnded'].first().reset_index()"
   ]
  },
  {
   "cell_type": "code",
   "execution_count": 17,
   "metadata": {
    "id": "AKYCyKHhXXng"
   },
   "outputs": [],
   "source": [
    "mni['Time']=mni['InstEnded']-mni['InstStarted']"
   ]
  },
  {
   "cell_type": "code",
   "execution_count": 18,
   "metadata": {
    "id": "I3Fr7g-eYvSZ"
   },
   "outputs": [],
   "source": [
    "mni=mni.drop(columns=['InstStarted'])"
   ]
  },
  {
   "cell_type": "code",
   "execution_count": 19,
   "metadata": {
    "id": "bqxJPDOTT7ag"
   },
   "outputs": [],
   "source": [
    "mni.InstEnded= mni.InstEnded.map(lambda x: x.strftime('%Y-%m-%d'))"
   ]
  },
  {
   "cell_type": "code",
   "execution_count": 20,
   "metadata": {
    "id": "6zlMD1z0DOwT"
   },
   "outputs": [],
   "source": [
    "mni.rename(columns={'InstEnded':'Date'}, inplace=True)"
   ]
  },
  {
   "cell_type": "code",
   "execution_count": 21,
   "metadata": {
    "colab": {
     "base_uri": "https://localhost:8080/"
    },
    "id": "1i87rXZjZnan",
    "outputId": "c2cdcd22-a397-4e4c-bd4f-5c7bd4a4af4d"
   },
   "outputs": [
    {
     "data": {
      "text/html": [
       "<div>\n",
       "<style scoped>\n",
       "    .dataframe tbody tr th:only-of-type {\n",
       "        vertical-align: middle;\n",
       "    }\n",
       "\n",
       "    .dataframe tbody tr th {\n",
       "        vertical-align: top;\n",
       "    }\n",
       "\n",
       "    .dataframe thead th {\n",
       "        text-align: right;\n",
       "    }\n",
       "</style>\n",
       "<table border=\"1\" class=\"dataframe\">\n",
       "  <thead>\n",
       "    <tr style=\"text-align: right;\">\n",
       "      <th></th>\n",
       "      <th>PIN</th>\n",
       "      <th>Inst</th>\n",
       "      <th>Date</th>\n",
       "      <th>Time</th>\n",
       "    </tr>\n",
       "  </thead>\n",
       "  <tbody>\n",
       "    <tr>\n",
       "      <th>0</th>\n",
       "      <td>EPRC_00032_A</td>\n",
       "      <td>NIH Toolbox Dimensional Change Card Sort Test ...</td>\n",
       "      <td>2021-03-30</td>\n",
       "      <td>0 days 00:05:18</td>\n",
       "    </tr>\n",
       "    <tr>\n",
       "      <th>1</th>\n",
       "      <td>EPRC_00032_A</td>\n",
       "      <td>NIH Toolbox Flanker Inhibitory Control and Att...</td>\n",
       "      <td>2021-03-30</td>\n",
       "      <td>0 days 00:03:58</td>\n",
       "    </tr>\n",
       "    <tr>\n",
       "      <th>2</th>\n",
       "      <td>EPRC_00032_A</td>\n",
       "      <td>NIH Toolbox List Sorting Working Memory Test A...</td>\n",
       "      <td>2021-03-30</td>\n",
       "      <td>0 days 00:10:36</td>\n",
       "    </tr>\n",
       "    <tr>\n",
       "      <th>3</th>\n",
       "      <td>EPRC_00032_A</td>\n",
       "      <td>NIH Toolbox Oral Reading Recognition Test Age ...</td>\n",
       "      <td>2021-03-30</td>\n",
       "      <td>0 days 00:01:26</td>\n",
       "    </tr>\n",
       "    <tr>\n",
       "      <th>4</th>\n",
       "      <td>EPRC_00032_A</td>\n",
       "      <td>NIH Toolbox Pattern Comparison Processing Spee...</td>\n",
       "      <td>2021-03-30</td>\n",
       "      <td>0 days 00:01:34</td>\n",
       "    </tr>\n",
       "  </tbody>\n",
       "</table>\n",
       "</div>"
      ],
      "text/plain": [
       "            PIN                                               Inst  \\\n",
       "0  EPRC_00032_A  NIH Toolbox Dimensional Change Card Sort Test ...   \n",
       "1  EPRC_00032_A  NIH Toolbox Flanker Inhibitory Control and Att...   \n",
       "2  EPRC_00032_A  NIH Toolbox List Sorting Working Memory Test A...   \n",
       "3  EPRC_00032_A  NIH Toolbox Oral Reading Recognition Test Age ...   \n",
       "4  EPRC_00032_A  NIH Toolbox Pattern Comparison Processing Spee...   \n",
       "\n",
       "         Date            Time  \n",
       "0  2021-03-30 0 days 00:05:18  \n",
       "1  2021-03-30 0 days 00:03:58  \n",
       "2  2021-03-30 0 days 00:10:36  \n",
       "3  2021-03-30 0 days 00:01:26  \n",
       "4  2021-03-30 0 days 00:01:34  "
      ]
     },
     "execution_count": 21,
     "metadata": {},
     "output_type": "execute_result"
    }
   ],
   "source": [
    "mni.head()"
   ]
  },
  {
   "cell_type": "code",
   "execution_count": 22,
   "metadata": {
    "id": "gQy-BDNzDh4p"
   },
   "outputs": [],
   "source": [
    "#drop 'NIH Toolbox List Sorting Working Memory Test Age 7+ v2.1' to calculate the time\n",
    "mni_c=mni[mni['Inst']!='NIH Toolbox List Sorting Working Memory Test Age 7+ v2.1']"
   ]
  },
  {
   "cell_type": "code",
   "execution_count": 23,
   "metadata": {
    "colab": {
     "base_uri": "https://localhost:8080/"
    },
    "id": "nr74b12mZog4",
    "outputId": "912d5526-02dc-456f-8f0c-6446e5de95d3"
   },
   "outputs": [
    {
     "data": {
      "text/plain": [
       "(138, 4)"
      ]
     },
     "execution_count": 23,
     "metadata": {},
     "output_type": "execute_result"
    }
   ],
   "source": [
    "mni_c.shape"
   ]
  },
  {
   "cell_type": "code",
   "execution_count": 24,
   "metadata": {
    "id": "BUmKDYpTXXnh"
   },
   "outputs": [],
   "source": [
    "#Using the corrected matched ones to calculate the total time spent by each participant\n",
    "IP =mni_c.groupby(['PIN'])['Time'].sum().reset_index()"
   ]
  },
  {
   "cell_type": "code",
   "execution_count": 25,
   "metadata": {
    "id": "BmnWLgBYXXnh"
   },
   "outputs": [],
   "source": [
    "#Convert to minute\n",
    "IP['Time']=round(IP['Time'].dt.total_seconds()/60,2)\n",
    "mni['Time']=round(mni['Time'].dt.total_seconds()/60,2)"
   ]
  },
  {
   "cell_type": "code",
   "execution_count": 26,
   "metadata": {
    "id": "oDTt-ymSwHPZ"
   },
   "outputs": [],
   "source": [
    "mni['Mode'] = 'In Person'"
   ]
  },
  {
   "cell_type": "code",
   "execution_count": 27,
   "metadata": {
    "colab": {
     "base_uri": "https://localhost:8080/",
     "height": 419
    },
    "id": "80ycQdp3zH3k",
    "outputId": "216677bc-6bde-4ece-cfa5-4781de2dfe63",
    "scrolled": false
   },
   "outputs": [
    {
     "data": {
      "text/html": [
       "<div>\n",
       "<style scoped>\n",
       "    .dataframe tbody tr th:only-of-type {\n",
       "        vertical-align: middle;\n",
       "    }\n",
       "\n",
       "    .dataframe tbody tr th {\n",
       "        vertical-align: top;\n",
       "    }\n",
       "\n",
       "    .dataframe thead th {\n",
       "        text-align: right;\n",
       "    }\n",
       "</style>\n",
       "<table border=\"1\" class=\"dataframe\">\n",
       "  <thead>\n",
       "    <tr style=\"text-align: right;\">\n",
       "      <th></th>\n",
       "      <th>Inst</th>\n",
       "      <th>Time</th>\n",
       "      <th>Mode</th>\n",
       "    </tr>\n",
       "  </thead>\n",
       "  <tbody>\n",
       "    <tr>\n",
       "      <th>9</th>\n",
       "      <td>NIH Toolbox Dimensional Change Card Sort Test ...</td>\n",
       "      <td>5.75</td>\n",
       "      <td>In Person</td>\n",
       "    </tr>\n",
       "    <tr>\n",
       "      <th>10</th>\n",
       "      <td>NIH Toolbox Flanker Inhibitory Control and Att...</td>\n",
       "      <td>3.67</td>\n",
       "      <td>In Person</td>\n",
       "    </tr>\n",
       "    <tr>\n",
       "      <th>11</th>\n",
       "      <td>NIH Toolbox List Sorting Working Memory Test A...</td>\n",
       "      <td>10.05</td>\n",
       "      <td>In Person</td>\n",
       "    </tr>\n",
       "    <tr>\n",
       "      <th>12</th>\n",
       "      <td>NIH Toolbox Oral Reading Recognition Test Age ...</td>\n",
       "      <td>2.07</td>\n",
       "      <td>In Person</td>\n",
       "    </tr>\n",
       "    <tr>\n",
       "      <th>13</th>\n",
       "      <td>NIH Toolbox Pattern Comparison Processing Spee...</td>\n",
       "      <td>2.00</td>\n",
       "      <td>In Person</td>\n",
       "    </tr>\n",
       "    <tr>\n",
       "      <th>14</th>\n",
       "      <td>NIH Toolbox Pattern Comparison Processing Spee...</td>\n",
       "      <td>1.65</td>\n",
       "      <td>In Person</td>\n",
       "    </tr>\n",
       "    <tr>\n",
       "      <th>15</th>\n",
       "      <td>NIH Toolbox Picture Sequence Memory Test Age 8...</td>\n",
       "      <td>7.32</td>\n",
       "      <td>In Person</td>\n",
       "    </tr>\n",
       "    <tr>\n",
       "      <th>16</th>\n",
       "      <td>NIH Toolbox Picture Vocabulary Test Age 3+ Pra...</td>\n",
       "      <td>1.73</td>\n",
       "      <td>In Person</td>\n",
       "    </tr>\n",
       "    <tr>\n",
       "      <th>17</th>\n",
       "      <td>NIH Toolbox Picture Vocabulary Test Age 3+ v2.1</td>\n",
       "      <td>1.45</td>\n",
       "      <td>In Person</td>\n",
       "    </tr>\n",
       "  </tbody>\n",
       "</table>\n",
       "</div>"
      ],
      "text/plain": [
       "                                                 Inst  Time       Mode\n",
       "9   NIH Toolbox Dimensional Change Card Sort Test ...  5.75  In Person\n",
       "10  NIH Toolbox Flanker Inhibitory Control and Att...  3.67  In Person\n",
       "11  NIH Toolbox List Sorting Working Memory Test A... 10.05  In Person\n",
       "12  NIH Toolbox Oral Reading Recognition Test Age ...  2.07  In Person\n",
       "13  NIH Toolbox Pattern Comparison Processing Spee...  2.00  In Person\n",
       "14  NIH Toolbox Pattern Comparison Processing Spee...  1.65  In Person\n",
       "15  NIH Toolbox Picture Sequence Memory Test Age 8...  7.32  In Person\n",
       "16  NIH Toolbox Picture Vocabulary Test Age 3+ Pra...  1.73  In Person\n",
       "17    NIH Toolbox Picture Vocabulary Test Age 3+ v2.1  1.45  In Person"
      ]
     },
     "execution_count": 27,
     "metadata": {},
     "output_type": "execute_result"
    }
   ],
   "source": [
    "#this one has the time breakdown for each participant spent on each inst \n",
    "mni[mni['PIN']=='EPRC_00160_A'][['Inst', 'Time', 'Mode']]"
   ]
  },
  {
   "cell_type": "code",
   "execution_count": 28,
   "metadata": {
    "colab": {
     "base_uri": "https://localhost:8080/"
    },
    "id": "GrkuVakYXXni",
    "outputId": "83293dbb-9b2c-442d-a24e-627a0471a4aa"
   },
   "outputs": [
    {
     "data": {
      "text/plain": [
       "23.75833333333334"
      ]
     },
     "execution_count": 28,
     "metadata": {},
     "output_type": "execute_result"
    }
   ],
   "source": [
    "#Average total time for in person\n",
    "IP['Time'].mean()"
   ]
  },
  {
   "cell_type": "code",
   "execution_count": 29,
   "metadata": {
    "id": "i5SFWprZWYEB"
   },
   "outputs": [
    {
     "data": {
      "text/plain": [
       "'C:/Users/tsb7592/Box/Avera NIHTB Data/Rapid City\\\\EPRC_00032\\\\Remote\\\\210406_EPRC_00032_A_8Y_NT_CB_Data_R.csv'"
      ]
     },
     "metadata": {},
     "output_type": "display_data"
    },
    {
     "data": {
      "text/plain": [
       "'C:/Users/tsb7592/Box/Avera NIHTB Data/Rapid City\\\\EPRC_00160\\\\Remote\\\\210416_EPRC_00160_A_8Y_NT_CB_Data_R.csv'"
      ]
     },
     "metadata": {},
     "output_type": "display_data"
    },
    {
     "data": {
      "text/plain": [
       "'C:/Users/tsb7592/Box/Avera NIHTB Data/Rapid City\\\\EPRC_00162\\\\Remote\\\\210414_EPRC_00162_A_8Y_NT_CB_Data_R.csv'"
      ]
     },
     "metadata": {},
     "output_type": "display_data"
    },
    {
     "data": {
      "text/plain": [
       "'C:/Users/tsb7592/Box/Avera NIHTB Data/Rapid City\\\\EPRC_00173\\\\Remote\\\\210408_EPRC_00173_A_8Y_NT_CB_Data_R.csv'"
      ]
     },
     "metadata": {},
     "output_type": "display_data"
    },
    {
     "data": {
      "text/plain": [
       "'C:/Users/tsb7592/Box/Avera NIHTB Data/Rapid City\\\\EPRC_00179\\\\Remote\\\\210420_EPRC_00179_A_8Y_NT_CB_Data_R.csv'"
      ]
     },
     "metadata": {},
     "output_type": "display_data"
    },
    {
     "data": {
      "text/plain": [
       "'C:/Users/tsb7592/Box/Avera NIHTB Data/Rapid City\\\\EPRC_00181\\\\Remote\\\\210415_EPRC_00181_A_8Y_NT_CB_Data_R.csv'"
      ]
     },
     "metadata": {},
     "output_type": "display_data"
    },
    {
     "data": {
      "text/plain": [
       "'C:/Users/tsb7592/Box/Avera NIHTB Data/Rapid City\\\\EPRC_00183\\\\Remote\\\\210415_EPRC_00183_A_8Y_NT_CB_Data_R.csv'"
      ]
     },
     "metadata": {},
     "output_type": "display_data"
    },
    {
     "data": {
      "text/plain": [
       "'C:/Users/tsb7592/Box/Avera NIHTB Data/Rapid City\\\\EPRC_00191\\\\Remote\\\\210426_EPRC_00191_A_8Y_NT_CB_Data_R.csv'"
      ]
     },
     "metadata": {},
     "output_type": "display_data"
    },
    {
     "data": {
      "text/plain": [
       "'C:/Users/tsb7592/Box/Avera NIHTB Data/Rapid City\\\\EPRC_00380\\\\Remote\\\\210412_EPRC_00380_A_8Y_NT_CB_Data_R.csv'"
      ]
     },
     "metadata": {},
     "output_type": "display_data"
    },
    {
     "data": {
      "text/plain": [
       "'C:/Users/tsb7592/Box/Avera NIHTB Data/Rapid City\\\\EPRC_00550\\\\Remote\\\\210419_EPRC_00550_A_8Y_NT_CB_Data_R.csv'"
      ]
     },
     "metadata": {},
     "output_type": "display_data"
    },
    {
     "data": {
      "text/plain": [
       "'C:/Users/tsb7592/Box/Avera NIHTB Data/Sioux Falls\\\\EPSF_00832_A\\\\Remote\\\\210408_EPSF_00832_A_8Y_NT_CB_Data_R.csv'"
      ]
     },
     "metadata": {},
     "output_type": "display_data"
    },
    {
     "data": {
      "text/plain": [
       "'C:/Users/tsb7592/Box/Avera NIHTB Data/Sioux Falls\\\\EPSF_00836_A\\\\Remote\\\\210415_EPSF_00836_A_8Y_NT_CB_Data_R.csv'"
      ]
     },
     "metadata": {},
     "output_type": "display_data"
    },
    {
     "data": {
      "text/plain": [
       "'C:/Users/tsb7592/Box/Avera NIHTB Data/Sioux Falls\\\\EPSF_00847_A\\\\Remote\\\\210409_EPSF_00847_A_8Y_NT_CB_Data_R.csv'"
      ]
     },
     "metadata": {},
     "output_type": "display_data"
    },
    {
     "data": {
      "text/plain": [
       "'C:/Users/tsb7592/Box/Avera NIHTB Data/Sioux Falls\\\\EPSF_00944_A\\\\Remote\\\\210409_EPSF_00944_A_8Y_NT_CB_Data_R.csv'"
      ]
     },
     "metadata": {},
     "output_type": "display_data"
    },
    {
     "data": {
      "text/plain": [
       "'C:/Users/tsb7592/Box/Avera NIHTB Data/Sioux Falls\\\\EPSF_00944_B\\\\Remote\\\\210409_EPSF_00944_B_8Y_NT_CB_Data_R.csv'"
      ]
     },
     "metadata": {},
     "output_type": "display_data"
    },
    {
     "data": {
      "text/plain": [
       "'C:/Users/tsb7592/Box/Avera NIHTB Data/Sioux Falls\\\\EPSF_01666_A\\\\Remote\\\\210408_EPSF_01666_A_8Y_NT_CB_Data_R.csv'"
      ]
     },
     "metadata": {},
     "output_type": "display_data"
    }
   ],
   "source": [
    "# get all files from all RC Remote subdirectories\n",
    "\n",
    "all_files = glob.glob('C:/Users/tsb7592/Box/Avera NIHTB Data/Rapid City/*/Remote/*CB_Data_R.csv')\n",
    "\n",
    "\n",
    "doc =[]\n",
    "for file in all_files:\n",
    "    data = pd.read_csv(file)\n",
    "    doc.append(data)\n",
    "    display(file)\n",
    "\n",
    "# get all files from all SF Remote subdirectories\n",
    "all_files = glob.glob('C:/Users/tsb7592/Box/Avera NIHTB Data/Sioux Falls/*/Remote/*CB_Data_R.csv')\n",
    "\n",
    "for file in all_files:\n",
    "    data = pd.read_csv(file)\n",
    "    doc.append(data) \n",
    "    display(file)\n",
    "\n",
    "df = pd.concat(doc)"
   ]
  },
  {
   "cell_type": "code",
   "execution_count": 30,
   "metadata": {
    "colab": {
     "base_uri": "https://localhost:8080/",
     "height": 666
    },
    "id": "iHk1jo7075RY",
    "outputId": "5f331594-4f86-4e11-bd4d-dd088af91406"
   },
   "outputs": [
    {
     "data": {
      "text/html": [
       "<div>\n",
       "<style scoped>\n",
       "    .dataframe tbody tr th:only-of-type {\n",
       "        vertical-align: middle;\n",
       "    }\n",
       "\n",
       "    .dataframe tbody tr th {\n",
       "        vertical-align: top;\n",
       "    }\n",
       "\n",
       "    .dataframe thead th {\n",
       "        text-align: right;\n",
       "    }\n",
       "</style>\n",
       "<table border=\"1\" class=\"dataframe\">\n",
       "  <thead>\n",
       "    <tr style=\"text-align: right;\">\n",
       "      <th></th>\n",
       "      <th>PIN</th>\n",
       "      <th>DeviceID</th>\n",
       "      <th>Assessment Name</th>\n",
       "      <th>InstOrdr</th>\n",
       "      <th>InstSctn</th>\n",
       "      <th>ItmOrdr</th>\n",
       "      <th>Inst</th>\n",
       "      <th>Locale</th>\n",
       "      <th>ItemID</th>\n",
       "      <th>Response</th>\n",
       "      <th>...</th>\n",
       "      <th>SE</th>\n",
       "      <th>DataType</th>\n",
       "      <th>Position</th>\n",
       "      <th>ResponseTime</th>\n",
       "      <th>DateCreated</th>\n",
       "      <th>InstStarted</th>\n",
       "      <th>InstEnded</th>\n",
       "      <th>App Version</th>\n",
       "      <th>iPad Version</th>\n",
       "      <th>Firmware Version</th>\n",
       "    </tr>\n",
       "  </thead>\n",
       "  <tbody>\n",
       "    <tr>\n",
       "      <th>0</th>\n",
       "      <td>210406_EPRC_00032_A_8Y</td>\n",
       "      <td>4C0D4D8F-B79D-47C3-AF1A-4D100D11BF28</td>\n",
       "      <td>Assessment 1</td>\n",
       "      <td>1</td>\n",
       "      <td>1</td>\n",
       "      <td>1</td>\n",
       "      <td>NIH Toolbox Picture Vocabulary Test Age 3+ Pra...</td>\n",
       "      <td>en-US</td>\n",
       "      <td>VOCAB_INTRO</td>\n",
       "      <td>NaN</td>\n",
       "      <td>...</td>\n",
       "      <td>NaN</td>\n",
       "      <td>informational</td>\n",
       "      <td>NaN</td>\n",
       "      <td>NaN</td>\n",
       "      <td>2021-04-06 15:56:38</td>\n",
       "      <td>2021-04-06 15:56:35</td>\n",
       "      <td>2021-04-06 15:59:23</td>\n",
       "      <td>1.23.4532 (Participant)</td>\n",
       "      <td>iPad Pro 1st Gen (10.5-inch) / iPad7,3</td>\n",
       "      <td>14.4.1</td>\n",
       "    </tr>\n",
       "    <tr>\n",
       "      <th>1</th>\n",
       "      <td>210406_EPRC_00032_A_8Y</td>\n",
       "      <td>4C0D4D8F-B79D-47C3-AF1A-4D100D11BF28</td>\n",
       "      <td>Assessment 1</td>\n",
       "      <td>1</td>\n",
       "      <td>1</td>\n",
       "      <td>2</td>\n",
       "      <td>NIH Toolbox Picture Vocabulary Test Age 3+ Pra...</td>\n",
       "      <td>en-US</td>\n",
       "      <td>VOCAB_INSTR1</td>\n",
       "      <td>NaN</td>\n",
       "      <td>...</td>\n",
       "      <td>NaN</td>\n",
       "      <td>informational</td>\n",
       "      <td>NaN</td>\n",
       "      <td>NaN</td>\n",
       "      <td>2021-04-06 15:58:23</td>\n",
       "      <td>2021-04-06 15:56:35</td>\n",
       "      <td>2021-04-06 15:59:23</td>\n",
       "      <td>1.23.4532 (Participant)</td>\n",
       "      <td>iPad Pro 1st Gen (10.5-inch) / iPad7,3</td>\n",
       "      <td>14.4.1</td>\n",
       "    </tr>\n",
       "    <tr>\n",
       "      <th>2</th>\n",
       "      <td>210406_EPRC_00032_A_8Y</td>\n",
       "      <td>4C0D4D8F-B79D-47C3-AF1A-4D100D11BF28</td>\n",
       "      <td>Assessment 1</td>\n",
       "      <td>1</td>\n",
       "      <td>1</td>\n",
       "      <td>3</td>\n",
       "      <td>NIH Toolbox Picture Vocabulary Test Age 3+ Pra...</td>\n",
       "      <td>en-US</td>\n",
       "      <td>VOCAB_PRACT1</td>\n",
       "      <td>4</td>\n",
       "      <td>...</td>\n",
       "      <td>NaN</td>\n",
       "      <td>integer</td>\n",
       "      <td>1.00</td>\n",
       "      <td>6.99</td>\n",
       "      <td>2021-04-06 15:58:31</td>\n",
       "      <td>2021-04-06 15:56:35</td>\n",
       "      <td>2021-04-06 15:59:23</td>\n",
       "      <td>1.23.4532 (Participant)</td>\n",
       "      <td>iPad Pro 1st Gen (10.5-inch) / iPad7,3</td>\n",
       "      <td>14.4.1</td>\n",
       "    </tr>\n",
       "    <tr>\n",
       "      <th>3</th>\n",
       "      <td>210406_EPRC_00032_A_8Y</td>\n",
       "      <td>4C0D4D8F-B79D-47C3-AF1A-4D100D11BF28</td>\n",
       "      <td>Assessment 1</td>\n",
       "      <td>1</td>\n",
       "      <td>1</td>\n",
       "      <td>4</td>\n",
       "      <td>NIH Toolbox Picture Vocabulary Test Age 3+ Pra...</td>\n",
       "      <td>en-US</td>\n",
       "      <td>VOCAB_PRACT2</td>\n",
       "      <td>3</td>\n",
       "      <td>...</td>\n",
       "      <td>NaN</td>\n",
       "      <td>integer</td>\n",
       "      <td>2.00</td>\n",
       "      <td>7.22</td>\n",
       "      <td>2021-04-06 15:58:40</td>\n",
       "      <td>2021-04-06 15:56:35</td>\n",
       "      <td>2021-04-06 15:59:23</td>\n",
       "      <td>1.23.4532 (Participant)</td>\n",
       "      <td>iPad Pro 1st Gen (10.5-inch) / iPad7,3</td>\n",
       "      <td>14.4.1</td>\n",
       "    </tr>\n",
       "    <tr>\n",
       "      <th>4</th>\n",
       "      <td>210406_EPRC_00032_A_8Y</td>\n",
       "      <td>4C0D4D8F-B79D-47C3-AF1A-4D100D11BF28</td>\n",
       "      <td>Assessment 1</td>\n",
       "      <td>1</td>\n",
       "      <td>1</td>\n",
       "      <td>5</td>\n",
       "      <td>NIH Toolbox Picture Vocabulary Test Age 3+ Pra...</td>\n",
       "      <td>en-US</td>\n",
       "      <td>VOCAB_INSTR2</td>\n",
       "      <td>NaN</td>\n",
       "      <td>...</td>\n",
       "      <td>NaN</td>\n",
       "      <td>informational</td>\n",
       "      <td>NaN</td>\n",
       "      <td>NaN</td>\n",
       "      <td>2021-04-06 15:59:23</td>\n",
       "      <td>2021-04-06 15:56:35</td>\n",
       "      <td>2021-04-06 15:59:23</td>\n",
       "      <td>1.23.4532 (Participant)</td>\n",
       "      <td>iPad Pro 1st Gen (10.5-inch) / iPad7,3</td>\n",
       "      <td>14.4.1</td>\n",
       "    </tr>\n",
       "  </tbody>\n",
       "</table>\n",
       "<p>5 rows × 23 columns</p>\n",
       "</div>"
      ],
      "text/plain": [
       "                      PIN                              DeviceID  \\\n",
       "0  210406_EPRC_00032_A_8Y  4C0D4D8F-B79D-47C3-AF1A-4D100D11BF28   \n",
       "1  210406_EPRC_00032_A_8Y  4C0D4D8F-B79D-47C3-AF1A-4D100D11BF28   \n",
       "2  210406_EPRC_00032_A_8Y  4C0D4D8F-B79D-47C3-AF1A-4D100D11BF28   \n",
       "3  210406_EPRC_00032_A_8Y  4C0D4D8F-B79D-47C3-AF1A-4D100D11BF28   \n",
       "4  210406_EPRC_00032_A_8Y  4C0D4D8F-B79D-47C3-AF1A-4D100D11BF28   \n",
       "\n",
       "  Assessment Name  InstOrdr  InstSctn  ItmOrdr  \\\n",
       "0    Assessment 1         1         1        1   \n",
       "1    Assessment 1         1         1        2   \n",
       "2    Assessment 1         1         1        3   \n",
       "3    Assessment 1         1         1        4   \n",
       "4    Assessment 1         1         1        5   \n",
       "\n",
       "                                                Inst Locale        ItemID  \\\n",
       "0  NIH Toolbox Picture Vocabulary Test Age 3+ Pra...  en-US   VOCAB_INTRO   \n",
       "1  NIH Toolbox Picture Vocabulary Test Age 3+ Pra...  en-US  VOCAB_INSTR1   \n",
       "2  NIH Toolbox Picture Vocabulary Test Age 3+ Pra...  en-US  VOCAB_PRACT1   \n",
       "3  NIH Toolbox Picture Vocabulary Test Age 3+ Pra...  en-US  VOCAB_PRACT2   \n",
       "4  NIH Toolbox Picture Vocabulary Test Age 3+ Pra...  en-US  VOCAB_INSTR2   \n",
       "\n",
       "  Response  ...  SE       DataType  Position  ResponseTime  \\\n",
       "0      NaN  ... NaN  informational       NaN           NaN   \n",
       "1      NaN  ... NaN  informational       NaN           NaN   \n",
       "2        4  ... NaN        integer      1.00          6.99   \n",
       "3        3  ... NaN        integer      2.00          7.22   \n",
       "4      NaN  ... NaN  informational       NaN           NaN   \n",
       "\n",
       "           DateCreated          InstStarted            InstEnded  \\\n",
       "0  2021-04-06 15:56:38  2021-04-06 15:56:35  2021-04-06 15:59:23   \n",
       "1  2021-04-06 15:58:23  2021-04-06 15:56:35  2021-04-06 15:59:23   \n",
       "2  2021-04-06 15:58:31  2021-04-06 15:56:35  2021-04-06 15:59:23   \n",
       "3  2021-04-06 15:58:40  2021-04-06 15:56:35  2021-04-06 15:59:23   \n",
       "4  2021-04-06 15:59:23  2021-04-06 15:56:35  2021-04-06 15:59:23   \n",
       "\n",
       "               App Version                            iPad Version  \\\n",
       "0  1.23.4532 (Participant)  iPad Pro 1st Gen (10.5-inch) / iPad7,3   \n",
       "1  1.23.4532 (Participant)  iPad Pro 1st Gen (10.5-inch) / iPad7,3   \n",
       "2  1.23.4532 (Participant)  iPad Pro 1st Gen (10.5-inch) / iPad7,3   \n",
       "3  1.23.4532 (Participant)  iPad Pro 1st Gen (10.5-inch) / iPad7,3   \n",
       "4  1.23.4532 (Participant)  iPad Pro 1st Gen (10.5-inch) / iPad7,3   \n",
       "\n",
       "  Firmware Version  \n",
       "0           14.4.1  \n",
       "1           14.4.1  \n",
       "2           14.4.1  \n",
       "3           14.4.1  \n",
       "4           14.4.1  \n",
       "\n",
       "[5 rows x 23 columns]"
      ]
     },
     "execution_count": 30,
     "metadata": {},
     "output_type": "execute_result"
    }
   ],
   "source": [
    "df.head()"
   ]
  },
  {
   "cell_type": "code",
   "execution_count": 31,
   "metadata": {
    "id": "7RA9_WHRQ_NP"
   },
   "outputs": [],
   "source": [
    "df['PIN']=df['PIN'].replace(' ', '', regex=True)"
   ]
  },
  {
   "cell_type": "code",
   "execution_count": 32,
   "metadata": {
    "id": "lgBBimQlZAHH"
   },
   "outputs": [],
   "source": [
    "df['PIN'] = df['PIN'].str[7:19]"
   ]
  },
  {
   "cell_type": "code",
   "execution_count": 33,
   "metadata": {
    "colab": {
     "base_uri": "https://localhost:8080/"
    },
    "id": "Z6DLD3AMRClD",
    "outputId": "ec621fb6-0831-4013-a0a8-1f5605e71ad3"
   },
   "outputs": [
    {
     "data": {
      "text/plain": [
       "array(['EPRC_00032_A', 'EPRC_00160_A', 'EPRC_00162_A', 'EPRC_00173_A',\n",
       "       'EPRC_00179_A', 'EPRC_00181_A', 'EPRC_00183_A', 'EPRC_00191_A',\n",
       "       'EPRC_00380_A', 'EPRC_00550_A', 'EPSF_00832_A', 'EPSF_00836_A',\n",
       "       'EPSF_00847_A', 'EPSF_00944_A', 'EPSF_00944_B', 'EPSF_01666_A'],\n",
       "      dtype=object)"
      ]
     },
     "execution_count": 33,
     "metadata": {},
     "output_type": "execute_result"
    }
   ],
   "source": [
    "df['PIN'].unique()"
   ]
  },
  {
   "cell_type": "code",
   "execution_count": 34,
   "metadata": {
    "id": "RB-LQSemb5w5"
   },
   "outputs": [],
   "source": [
    "df['InstStarted']= pd.to_datetime(df['InstStarted'])"
   ]
  },
  {
   "cell_type": "code",
   "execution_count": 35,
   "metadata": {
    "id": "AZTDjIpfdCkc"
   },
   "outputs": [],
   "source": [
    "df['InstEnded']= pd.to_datetime(df['InstEnded'])"
   ]
  },
  {
   "cell_type": "code",
   "execution_count": 36,
   "metadata": {
    "colab": {
     "base_uri": "https://localhost:8080/"
    },
    "id": "8luUtuGYaN0D",
    "outputId": "3e31c1f2-5781-42f5-e279-e5979c0de9d6"
   },
   "outputs": [
    {
     "name": "stderr",
     "output_type": "stream",
     "text": [
      "<ipython-input-36-36cef9752c8c>:1: FutureWarning: Indexing with multiple keys (implicitly converted to a tuple of keys) will be deprecated, use a list instead.\n",
      "  mnr =df.groupby(['PIN','Inst'])['InstStarted','InstEnded'].first().reset_index()\n"
     ]
    }
   ],
   "source": [
    "mnr =df.groupby(['PIN','Inst'])['InstStarted','InstEnded'].first().reset_index()"
   ]
  },
  {
   "cell_type": "code",
   "execution_count": 37,
   "metadata": {
    "id": "tL6eR_iddCH_"
   },
   "outputs": [],
   "source": [
    "mnr['Time']=mnr['InstEnded']-mnr['InstStarted']"
   ]
  },
  {
   "cell_type": "code",
   "execution_count": 38,
   "metadata": {
    "id": "Bqhea3lbjYl5"
   },
   "outputs": [],
   "source": [
    "mnr=mnr.drop(columns=['InstStarted'])"
   ]
  },
  {
   "cell_type": "code",
   "execution_count": 39,
   "metadata": {
    "id": "LqmUxt5NWHQs"
   },
   "outputs": [],
   "source": [
    "mnr.InstEnded= mnr.InstEnded.map(lambda x: x.strftime('%Y-%m-%d'))"
   ]
  },
  {
   "cell_type": "code",
   "execution_count": 40,
   "metadata": {
    "id": "-ssc72Z0tLxH"
   },
   "outputs": [],
   "source": [
    "RM =mnr.groupby(['PIN'])['Time'].sum().reset_index()"
   ]
  },
  {
   "cell_type": "code",
   "execution_count": 41,
   "metadata": {
    "id": "6IllucJ_u_7r"
   },
   "outputs": [],
   "source": [
    "RM['Time']=round(RM['Time'].dt.total_seconds()/60,2)"
   ]
  },
  {
   "cell_type": "code",
   "execution_count": 42,
   "metadata": {
    "id": "RboaYjYxDeaT"
   },
   "outputs": [],
   "source": [
    "mnr.rename(columns={'InstEnded':'Date'}, inplace=True)"
   ]
  },
  {
   "cell_type": "code",
   "execution_count": 43,
   "metadata": {},
   "outputs": [
    {
     "data": {
      "text/plain": [
       "array(['EPRC_00032_A', 'EPRC_00160_A', 'EPRC_00162_A', 'EPRC_00173_A',\n",
       "       'EPRC_00179_A', 'EPRC_00181_A', 'EPRC_00183_A', 'EPRC_00191_A',\n",
       "       'EPRC_00380_A', 'EPRC_00550_A', 'EPSF_00832_A', 'EPSF_00836_A',\n",
       "       'EPSF_00847_A', 'EPSF_00944_A', 'EPSF_00944_B', 'EPSF_01666_A'],\n",
       "      dtype=object)"
      ]
     },
     "execution_count": 43,
     "metadata": {},
     "output_type": "execute_result"
    }
   ],
   "source": [
    "mnr.PIN.unique()"
   ]
  },
  {
   "cell_type": "code",
   "execution_count": 44,
   "metadata": {
    "colab": {
     "base_uri": "https://localhost:8080/",
     "height": 421
    },
    "id": "AOxXvZgUwsxa",
    "outputId": "fca19b85-ff30-4201-f6c0-ee6f1af11cb2",
    "scrolled": true
   },
   "outputs": [
    {
     "data": {
      "text/html": [
       "<div>\n",
       "<style scoped>\n",
       "    .dataframe tbody tr th:only-of-type {\n",
       "        vertical-align: middle;\n",
       "    }\n",
       "\n",
       "    .dataframe tbody tr th {\n",
       "        vertical-align: top;\n",
       "    }\n",
       "\n",
       "    .dataframe thead th {\n",
       "        text-align: right;\n",
       "    }\n",
       "</style>\n",
       "<table border=\"1\" class=\"dataframe\">\n",
       "  <thead>\n",
       "    <tr style=\"text-align: right;\">\n",
       "      <th></th>\n",
       "      <th>PIN</th>\n",
       "      <th>Time</th>\n",
       "    </tr>\n",
       "  </thead>\n",
       "  <tbody>\n",
       "    <tr>\n",
       "      <th>0</th>\n",
       "      <td>EPRC_00032_A</td>\n",
       "      <td>27.20</td>\n",
       "    </tr>\n",
       "    <tr>\n",
       "      <th>1</th>\n",
       "      <td>EPRC_00160_A</td>\n",
       "      <td>31.40</td>\n",
       "    </tr>\n",
       "    <tr>\n",
       "      <th>2</th>\n",
       "      <td>EPRC_00162_A</td>\n",
       "      <td>23.42</td>\n",
       "    </tr>\n",
       "    <tr>\n",
       "      <th>3</th>\n",
       "      <td>EPRC_00173_A</td>\n",
       "      <td>18.88</td>\n",
       "    </tr>\n",
       "    <tr>\n",
       "      <th>4</th>\n",
       "      <td>EPRC_00179_A</td>\n",
       "      <td>27.92</td>\n",
       "    </tr>\n",
       "    <tr>\n",
       "      <th>5</th>\n",
       "      <td>EPRC_00181_A</td>\n",
       "      <td>27.35</td>\n",
       "    </tr>\n",
       "    <tr>\n",
       "      <th>6</th>\n",
       "      <td>EPRC_00183_A</td>\n",
       "      <td>23.12</td>\n",
       "    </tr>\n",
       "    <tr>\n",
       "      <th>7</th>\n",
       "      <td>EPRC_00191_A</td>\n",
       "      <td>28.25</td>\n",
       "    </tr>\n",
       "    <tr>\n",
       "      <th>8</th>\n",
       "      <td>EPRC_00380_A</td>\n",
       "      <td>27.92</td>\n",
       "    </tr>\n",
       "    <tr>\n",
       "      <th>9</th>\n",
       "      <td>EPRC_00550_A</td>\n",
       "      <td>15.78</td>\n",
       "    </tr>\n",
       "    <tr>\n",
       "      <th>10</th>\n",
       "      <td>EPSF_00832_A</td>\n",
       "      <td>26.47</td>\n",
       "    </tr>\n",
       "    <tr>\n",
       "      <th>11</th>\n",
       "      <td>EPSF_00836_A</td>\n",
       "      <td>27.62</td>\n",
       "    </tr>\n",
       "    <tr>\n",
       "      <th>12</th>\n",
       "      <td>EPSF_00847_A</td>\n",
       "      <td>25.82</td>\n",
       "    </tr>\n",
       "    <tr>\n",
       "      <th>13</th>\n",
       "      <td>EPSF_00944_A</td>\n",
       "      <td>34.08</td>\n",
       "    </tr>\n",
       "    <tr>\n",
       "      <th>14</th>\n",
       "      <td>EPSF_00944_B</td>\n",
       "      <td>34.43</td>\n",
       "    </tr>\n",
       "    <tr>\n",
       "      <th>15</th>\n",
       "      <td>EPSF_01666_A</td>\n",
       "      <td>27.55</td>\n",
       "    </tr>\n",
       "  </tbody>\n",
       "</table>\n",
       "</div>"
      ],
      "text/plain": [
       "             PIN  Time\n",
       "0   EPRC_00032_A 27.20\n",
       "1   EPRC_00160_A 31.40\n",
       "2   EPRC_00162_A 23.42\n",
       "3   EPRC_00173_A 18.88\n",
       "4   EPRC_00179_A 27.92\n",
       "5   EPRC_00181_A 27.35\n",
       "6   EPRC_00183_A 23.12\n",
       "7   EPRC_00191_A 28.25\n",
       "8   EPRC_00380_A 27.92\n",
       "9   EPRC_00550_A 15.78\n",
       "10  EPSF_00832_A 26.47\n",
       "11  EPSF_00836_A 27.62\n",
       "12  EPSF_00847_A 25.82\n",
       "13  EPSF_00944_A 34.08\n",
       "14  EPSF_00944_B 34.43\n",
       "15  EPSF_01666_A 27.55"
      ]
     },
     "execution_count": 44,
     "metadata": {},
     "output_type": "execute_result"
    }
   ],
   "source": [
    "RM"
   ]
  },
  {
   "cell_type": "code",
   "execution_count": 45,
   "metadata": {
    "colab": {
     "base_uri": "https://localhost:8080/"
    },
    "id": "01O2uGiWvuhe",
    "outputId": "a351af56-2bff-4c0e-c740-917837971e59"
   },
   "outputs": [
    {
     "data": {
      "text/plain": [
       "26.700625"
      ]
     },
     "execution_count": 45,
     "metadata": {},
     "output_type": "execute_result"
    }
   ],
   "source": [
    "RM['Time'].mean()"
   ]
  },
  {
   "cell_type": "code",
   "execution_count": 46,
   "metadata": {
    "id": "Ufaysbpljrds"
   },
   "outputs": [],
   "source": [
    "mnr['Time']=round(mnr['Time'].dt.total_seconds()/60,2)"
   ]
  },
  {
   "cell_type": "code",
   "execution_count": 47,
   "metadata": {
    "id": "0paxrlw6wj_6"
   },
   "outputs": [],
   "source": [
    "mnr['Mode'] ='Remote'"
   ]
  },
  {
   "cell_type": "code",
   "execution_count": 48,
   "metadata": {},
   "outputs": [],
   "source": [
    "import math\n",
    "\n",
    "def degreesOfFreedom(X, Y):\n",
    "    s1 = X.var()\n",
    "    s2 = Y.var()\n",
    "    df = (s1 / len(X) + s2 / len(Y))**2 / ((s1 / len(X))**2 / (len(X) - 1) + (s2 / len(Y))**2 / (len(Y) - 1))\n",
    "    \n",
    "    return(df)"
   ]
  },
  {
   "cell_type": "code",
   "execution_count": 49,
   "metadata": {
    "id": "p-IQAUWxMl93"
   },
   "outputs": [],
   "source": [
    "#drop the outliers only have 2 inst for in person\n",
    "IP=IP[IP['PIN']!='210409_EPSF_00943_A']"
   ]
  },
  {
   "cell_type": "code",
   "execution_count": 50,
   "metadata": {
    "id": "0OBAhrANzuH2"
   },
   "outputs": [],
   "source": [
    "times = pd.merge(IP, RM, how= 'inner', on='PIN')"
   ]
  },
  {
   "cell_type": "code",
   "execution_count": 51,
   "metadata": {
    "id": "TSDQUbPtYTs4"
   },
   "outputs": [],
   "source": [
    "times.columns =['PIN','Total_time', 'Total_time_R']"
   ]
  },
  {
   "cell_type": "code",
   "execution_count": 52,
   "metadata": {
    "colab": {
     "base_uri": "https://localhost:8080/",
     "height": 297
    },
    "id": "zLVZtuqVYC96",
    "outputId": "9cfb7382-a8f8-4161-94ed-7913c4932d6f"
   },
   "outputs": [
    {
     "data": {
      "text/html": [
       "<div>\n",
       "<style scoped>\n",
       "    .dataframe tbody tr th:only-of-type {\n",
       "        vertical-align: middle;\n",
       "    }\n",
       "\n",
       "    .dataframe tbody tr th {\n",
       "        vertical-align: top;\n",
       "    }\n",
       "\n",
       "    .dataframe thead th {\n",
       "        text-align: right;\n",
       "    }\n",
       "</style>\n",
       "<table border=\"1\" class=\"dataframe\">\n",
       "  <thead>\n",
       "    <tr style=\"text-align: right;\">\n",
       "      <th></th>\n",
       "      <th>PIN</th>\n",
       "      <th>Total_time</th>\n",
       "      <th>Total_time_R</th>\n",
       "    </tr>\n",
       "  </thead>\n",
       "  <tbody>\n",
       "    <tr>\n",
       "      <th>0</th>\n",
       "      <td>EPRC_00032_A</td>\n",
       "      <td>25.73</td>\n",
       "      <td>27.20</td>\n",
       "    </tr>\n",
       "    <tr>\n",
       "      <th>1</th>\n",
       "      <td>EPRC_00160_A</td>\n",
       "      <td>25.63</td>\n",
       "      <td>31.40</td>\n",
       "    </tr>\n",
       "    <tr>\n",
       "      <th>2</th>\n",
       "      <td>EPRC_00162_A</td>\n",
       "      <td>27.25</td>\n",
       "      <td>23.42</td>\n",
       "    </tr>\n",
       "    <tr>\n",
       "      <th>3</th>\n",
       "      <td>EPRC_00173_A</td>\n",
       "      <td>29.70</td>\n",
       "      <td>18.88</td>\n",
       "    </tr>\n",
       "    <tr>\n",
       "      <th>4</th>\n",
       "      <td>EPRC_00179_A</td>\n",
       "      <td>21.40</td>\n",
       "      <td>27.92</td>\n",
       "    </tr>\n",
       "    <tr>\n",
       "      <th>5</th>\n",
       "      <td>EPRC_00181_A</td>\n",
       "      <td>24.33</td>\n",
       "      <td>27.35</td>\n",
       "    </tr>\n",
       "    <tr>\n",
       "      <th>6</th>\n",
       "      <td>EPRC_00183_A</td>\n",
       "      <td>23.65</td>\n",
       "      <td>23.12</td>\n",
       "    </tr>\n",
       "    <tr>\n",
       "      <th>7</th>\n",
       "      <td>EPRC_00191_A</td>\n",
       "      <td>23.93</td>\n",
       "      <td>28.25</td>\n",
       "    </tr>\n",
       "    <tr>\n",
       "      <th>8</th>\n",
       "      <td>EPRC_00380_A</td>\n",
       "      <td>24.33</td>\n",
       "      <td>27.92</td>\n",
       "    </tr>\n",
       "    <tr>\n",
       "      <th>9</th>\n",
       "      <td>EPRC_00550_A</td>\n",
       "      <td>30.62</td>\n",
       "      <td>15.78</td>\n",
       "    </tr>\n",
       "    <tr>\n",
       "      <th>10</th>\n",
       "      <td>EPSF_00832_A</td>\n",
       "      <td>23.53</td>\n",
       "      <td>26.47</td>\n",
       "    </tr>\n",
       "    <tr>\n",
       "      <th>11</th>\n",
       "      <td>EPSF_00836_A</td>\n",
       "      <td>26.55</td>\n",
       "      <td>27.62</td>\n",
       "    </tr>\n",
       "    <tr>\n",
       "      <th>12</th>\n",
       "      <td>EPSF_00847_A</td>\n",
       "      <td>22.03</td>\n",
       "      <td>25.82</td>\n",
       "    </tr>\n",
       "    <tr>\n",
       "      <th>13</th>\n",
       "      <td>EPSF_00944_A</td>\n",
       "      <td>23.88</td>\n",
       "      <td>34.08</td>\n",
       "    </tr>\n",
       "    <tr>\n",
       "      <th>14</th>\n",
       "      <td>EPSF_00944_B</td>\n",
       "      <td>23.62</td>\n",
       "      <td>34.43</td>\n",
       "    </tr>\n",
       "    <tr>\n",
       "      <th>15</th>\n",
       "      <td>EPSF_01666_A</td>\n",
       "      <td>25.17</td>\n",
       "      <td>27.55</td>\n",
       "    </tr>\n",
       "  </tbody>\n",
       "</table>\n",
       "</div>"
      ],
      "text/plain": [
       "             PIN  Total_time  Total_time_R\n",
       "0   EPRC_00032_A       25.73         27.20\n",
       "1   EPRC_00160_A       25.63         31.40\n",
       "2   EPRC_00162_A       27.25         23.42\n",
       "3   EPRC_00173_A       29.70         18.88\n",
       "4   EPRC_00179_A       21.40         27.92\n",
       "5   EPRC_00181_A       24.33         27.35\n",
       "6   EPRC_00183_A       23.65         23.12\n",
       "7   EPRC_00191_A       23.93         28.25\n",
       "8   EPRC_00380_A       24.33         27.92\n",
       "9   EPRC_00550_A       30.62         15.78\n",
       "10  EPSF_00832_A       23.53         26.47\n",
       "11  EPSF_00836_A       26.55         27.62\n",
       "12  EPSF_00847_A       22.03         25.82\n",
       "13  EPSF_00944_A       23.88         34.08\n",
       "14  EPSF_00944_B       23.62         34.43\n",
       "15  EPSF_01666_A       25.17         27.55"
      ]
     },
     "execution_count": 52,
     "metadata": {},
     "output_type": "execute_result"
    }
   ],
   "source": [
    "times"
   ]
  },
  {
   "cell_type": "code",
   "execution_count": 53,
   "metadata": {
    "colab": {
     "base_uri": "https://localhost:8080/"
    },
    "id": "B7dU4zWXfI_Z",
    "outputId": "b35e843a-d59d-407c-f49b-c2637743222a"
   },
   "outputs": [
    {
     "data": {
      "text/plain": [
       "array(['EPRC_00032_A', 'EPRC_00160_A', 'EPRC_00162_A', 'EPRC_00173_A',\n",
       "       'EPRC_00179_A', 'EPRC_00181_A', 'EPRC_00183_A', 'EPRC_00191_A',\n",
       "       'EPRC_00380_A', 'EPRC_00550_A', 'EPSF_00832_A', 'EPSF_00836_A',\n",
       "       'EPSF_00847_A', 'EPSF_00943_A', 'EPSF_00944_A', 'EPSF_00944_B',\n",
       "       'EPSF_01247_A', 'EPSF_01666_A'], dtype=object)"
      ]
     },
     "execution_count": 53,
     "metadata": {},
     "output_type": "execute_result"
    }
   ],
   "source": [
    "IP.PIN.unique()"
   ]
  },
  {
   "cell_type": "code",
   "execution_count": 54,
   "metadata": {
    "colab": {
     "base_uri": "https://localhost:8080/"
    },
    "id": "Y_IEkgG9fMBR",
    "outputId": "fb73f535-cdb8-468c-f39b-8aa16e489045"
   },
   "outputs": [
    {
     "data": {
      "text/plain": [
       "array(['EPRC_00032_A', 'EPRC_00160_A', 'EPRC_00162_A', 'EPRC_00173_A',\n",
       "       'EPRC_00179_A', 'EPRC_00181_A', 'EPRC_00183_A', 'EPRC_00191_A',\n",
       "       'EPRC_00380_A', 'EPRC_00550_A', 'EPSF_00832_A', 'EPSF_00836_A',\n",
       "       'EPSF_00847_A', 'EPSF_00944_A', 'EPSF_00944_B', 'EPSF_01666_A'],\n",
       "      dtype=object)"
      ]
     },
     "execution_count": 54,
     "metadata": {},
     "output_type": "execute_result"
    }
   ],
   "source": [
    "RM.PIN.unique()"
   ]
  },
  {
   "cell_type": "markdown",
   "metadata": {
    "id": "zXCPbUgXw4At"
   },
   "source": [
    "# 1. A matched t-test for those who have both in-person and remote - Total Time\n",
    "There are only 8 students both have in person and remote"
   ]
  },
  {
   "cell_type": "code",
   "execution_count": 55,
   "metadata": {},
   "outputs": [
    {
     "name": "stdout",
     "output_type": "stream",
     "text": [
      "mean Total_time     25.08\n",
      "Total_time_R   26.70\n",
      "dtype: float64\n",
      "std Total_time     2.49\n",
      "Total_time_R   4.82\n",
      "dtype: float64\n"
     ]
    }
   ],
   "source": [
    "print('mean',times.mean())\n",
    "print('std',times.std())"
   ]
  },
  {
   "cell_type": "code",
   "execution_count": 56,
   "metadata": {
    "colab": {
     "base_uri": "https://localhost:8080/"
    },
    "id": "U1_dTcFSqK5n",
    "outputId": "663a2e23-7f93-4ad6-8c5f-4d79e13c8c2e"
   },
   "outputs": [
    {
     "name": "stdout",
     "output_type": "stream",
     "text": [
      "***A matched t-test for those who have both in-person and remote - Total Time***\n",
      "t-statistic =  -1.19 pvalue =   0.25\n"
     ]
    }
   ],
   "source": [
    "import numpy as np\n",
    "import scipy.stats as stats\n",
    "print('***A matched t-test for those who have both in-person and remote - Total Time***')\n",
    "print('t-statistic = %6.2f pvalue = %6.2f' % stats.ttest_ind(times.Total_time, times.Total_time_R, equal_var = False))"
   ]
  },
  {
   "cell_type": "code",
   "execution_count": 57,
   "metadata": {},
   "outputs": [
    {
     "name": "stdout",
     "output_type": "stream",
     "text": [
      "Degree of Freedom 15.000000\n",
      "95 CI=[ -4.43,  1.19]\n"
     ]
    }
   ],
   "source": [
    "import numpy as np, statsmodels.stats.api as sms\n",
    "\n",
    "X1, X2 = times['Total_time'], times['Total_time_R']\n",
    "print('Degree of Freedom %6f' % (len(X1)-1))\n",
    "cm = sms.CompareMeans(sms.DescrStatsW(X1), sms.DescrStatsW(X2))\n",
    "print('95 CI=[%6.2f,%6.2f]' %cm.tconfint_diff(usevar='unequal'))"
   ]
  },
  {
   "cell_type": "code",
   "execution_count": 58,
   "metadata": {
    "colab": {
     "base_uri": "https://localhost:8080/",
     "height": 377
    },
    "id": "GIiwJXfuLY0w",
    "outputId": "d8f32c7d-d669-4e88-befe-a4c8391e25bc"
   },
   "outputs": [
    {
     "data": {
      "image/png": "[encoded data removed]",
      "text/plain": [
       "<Figure size 576x432 with 1 Axes>"
      ]
     },
     "metadata": {
      "needs_background": "light"
     },
     "output_type": "display_data"
    }
   ],
   "source": [
    "import matplotlib.pyplot as plt\n",
    "\n",
    "# Box plot of ACS In person vs. Remote\n",
    "plt.figure(figsize=(8, 6))\n",
    "times.boxplot(column=['Total_time', 'Total_time_R'])\n",
    "\n",
    "plt.show()"
   ]
  },
  {
   "cell_type": "markdown",
   "metadata": {
    "id": "_IxHYc-4eZxO"
   },
   "source": [
    "# 2.\tCorrelations between remote and in-person- Total Time\n",
    "There are only 8 students both have in person and remote"
   ]
  },
  {
   "cell_type": "code",
   "execution_count": 59,
   "metadata": {
    "colab": {
     "base_uri": "https://localhost:8080/"
    },
    "id": "kSl8M2iFd5b5",
    "outputId": "31d52992-c13a-4778-8e22-a347741aef4c"
   },
   "outputs": [
    {
     "name": "stdout",
     "output_type": "stream",
     "text": [
      "\n",
      "Correlation =  -0.66 pvalue =   0.01\n"
     ]
    }
   ],
   "source": [
    "import numpy as np\n",
    "import scipy.stats as stats\n",
    "print('')\n",
    "print('Correlation = %6.2f pvalue = %6.2f' % stats.pearsonr(times['Total_time'], times['Total_time_R']))    # Pearson's correlation coefficient and p-value "
   ]
  },
  {
   "cell_type": "code",
   "execution_count": 60,
   "metadata": {
    "id": "IzhIkmXLLPYo"
   },
   "outputs": [],
   "source": [
    "time_breakdown = pd.concat([mni,mnr]) "
   ]
  },
  {
   "cell_type": "code",
   "execution_count": 61,
   "metadata": {
    "colab": {
     "base_uri": "https://localhost:8080/"
    },
    "id": "IzPqS2jYZa3l",
    "outputId": "55944aa3-fcc1-4850-a014-0e2c651269d5"
   },
   "outputs": [],
   "source": [
    "#time_breakdown.to_csv('C:/Users/tsb7592/Box/Avera NIHTB Data/Subset/time_breakdown.csv', index=False)"
   ]
  },
  {
   "cell_type": "code",
   "execution_count": 62,
   "metadata": {
    "colab": {
     "base_uri": "https://localhost:8080/"
    },
    "id": "C_DarEYbJNSk",
    "outputId": "5820a30c-35d1-48a0-f12f-a4e6a453a7a1"
   },
   "outputs": [
    {
     "data": {
      "text/plain": [
       "PIN           Mode     \n",
       "EPRC_00032_A  In Person    9\n",
       "              Remote       8\n",
       "EPRC_00160_A  In Person    9\n",
       "              Remote       8\n",
       "EPRC_00162_A  In Person    9\n",
       "              Remote       8\n",
       "EPRC_00173_A  In Person    9\n",
       "              Remote       7\n",
       "EPRC_00179_A  In Person    9\n",
       "              Remote       8\n",
       "EPRC_00181_A  In Person    9\n",
       "              Remote       8\n",
       "EPRC_00183_A  In Person    9\n",
       "              Remote       6\n",
       "EPRC_00191_A  In Person    9\n",
       "              Remote       8\n",
       "EPRC_00380_A  In Person    9\n",
       "              Remote       8\n",
       "EPRC_00550_A  In Person    9\n",
       "              Remote       5\n",
       "EPSF_00832_A  In Person    9\n",
       "              Remote       8\n",
       "EPSF_00836_A  In Person    9\n",
       "              Remote       8\n",
       "EPSF_00847_A  In Person    9\n",
       "              Remote       8\n",
       "EPSF_00943_A  In Person    2\n",
       "EPSF_00944_A  In Person    9\n",
       "              Remote       8\n",
       "EPSF_00944_B  In Person    9\n",
       "              Remote       8\n",
       "EPSF_01247_A  In Person    9\n",
       "EPSF_01666_A  In Person    9\n",
       "              Remote       7\n",
       "Name: Inst, dtype: int64"
      ]
     },
     "execution_count": 62,
     "metadata": {},
     "output_type": "execute_result"
    }
   ],
   "source": [
    "time_breakdown.groupby(['PIN','Mode'])['Inst'].count()"
   ]
  },
  {
   "cell_type": "markdown",
   "metadata": {
    "id": "LGFMDZ39ptvO"
   },
   "source": [
    "# 3.\tDoes it take longer for remote vs. in-person? - Total Time\n"
   ]
  },
  {
   "cell_type": "code",
   "execution_count": 63,
   "metadata": {
    "colab": {
     "base_uri": "https://localhost:8080/"
    },
    "id": "kgvHz9sgZ3rE",
    "outputId": "714dd969-7caa-4a25-80ab-ed43809a4f7f"
   },
   "outputs": [
    {
     "name": "stdout",
     "output_type": "stream",
     "text": [
      "\n",
      "Does it take longer for remote vs. in-person? - Total Time\n",
      "t-statistic = 41.000 pvalue =  0.175\n",
      "\n"
     ]
    }
   ],
   "source": [
    "print('')\n",
    "print('Does it take longer for remote vs. in-person? - Total Time')\n",
    "print('t-statistic = %6.3f pvalue = %6.3f' % stats.wilcoxon(times.Total_time, times.Total_time_R, alternative='two-sided'))\n",
    "print('')"
   ]
  },
  {
   "cell_type": "code",
   "execution_count": 64,
   "metadata": {
    "colab": {
     "base_uri": "https://localhost:8080/",
     "height": 297
    },
    "id": "e1iXEHauvlSO",
    "outputId": "8c387777-2854-441a-fcd1-c13995229364"
   },
   "outputs": [],
   "source": [
    "# Create a Pandas Excel writer using XlsxWriter as the engine\n",
    "writer = pd.ExcelWriter('C:/Users/tsb7592/Box/Avera NIHTB Data/Subset/times.xlsx', engine='xlsxwriter')\n",
    "\n",
    "# Write each dataframe to a different worksheet.\n",
    "times.to_excel(writer, sheet_name='matched_time', index=False)\n",
    "IP.to_excel(writer, sheet_name='in_person', index=False)\n",
    "RM.to_excel(writer, sheet_name='remote', index=False)\n",
    "\n",
    "# Close the Pandas Excel writer and output the Excel file.\n",
    "writer.save()"
   ]
  },
  {
   "cell_type": "markdown",
   "metadata": {
    "id": "lGdqiU1zablK"
   },
   "source": [
    "# 4.\tA student’s t-test for everyone \n"
   ]
  },
  {
   "cell_type": "code",
   "execution_count": 65,
   "metadata": {},
   "outputs": [
    {
     "data": {
      "text/plain": [
       "23.76"
      ]
     },
     "execution_count": 65,
     "metadata": {},
     "output_type": "execute_result"
    }
   ],
   "source": [
    "#in person mean time\n",
    "round(IP.Time.mean(),2)"
   ]
  },
  {
   "cell_type": "code",
   "execution_count": 66,
   "metadata": {},
   "outputs": [
    {
     "data": {
      "text/plain": [
       "26.7"
      ]
     },
     "execution_count": 66,
     "metadata": {},
     "output_type": "execute_result"
    }
   ],
   "source": [
    "#remote mean time\n",
    "round(RM.Time.mean(),2)"
   ]
  },
  {
   "cell_type": "code",
   "execution_count": 67,
   "metadata": {},
   "outputs": [
    {
     "data": {
      "text/html": [
       "<div>\n",
       "<style scoped>\n",
       "    .dataframe tbody tr th:only-of-type {\n",
       "        vertical-align: middle;\n",
       "    }\n",
       "\n",
       "    .dataframe tbody tr th {\n",
       "        vertical-align: top;\n",
       "    }\n",
       "\n",
       "    .dataframe thead th {\n",
       "        text-align: right;\n",
       "    }\n",
       "</style>\n",
       "<table border=\"1\" class=\"dataframe\">\n",
       "  <thead>\n",
       "    <tr style=\"text-align: right;\">\n",
       "      <th></th>\n",
       "      <th>PIN</th>\n",
       "      <th>Time</th>\n",
       "    </tr>\n",
       "  </thead>\n",
       "  <tbody>\n",
       "    <tr>\n",
       "      <th>0</th>\n",
       "      <td>EPRC_00032_A</td>\n",
       "      <td>27.20</td>\n",
       "    </tr>\n",
       "    <tr>\n",
       "      <th>1</th>\n",
       "      <td>EPRC_00160_A</td>\n",
       "      <td>31.40</td>\n",
       "    </tr>\n",
       "    <tr>\n",
       "      <th>2</th>\n",
       "      <td>EPRC_00162_A</td>\n",
       "      <td>23.42</td>\n",
       "    </tr>\n",
       "    <tr>\n",
       "      <th>3</th>\n",
       "      <td>EPRC_00173_A</td>\n",
       "      <td>18.88</td>\n",
       "    </tr>\n",
       "    <tr>\n",
       "      <th>4</th>\n",
       "      <td>EPRC_00179_A</td>\n",
       "      <td>27.92</td>\n",
       "    </tr>\n",
       "    <tr>\n",
       "      <th>5</th>\n",
       "      <td>EPRC_00181_A</td>\n",
       "      <td>27.35</td>\n",
       "    </tr>\n",
       "    <tr>\n",
       "      <th>6</th>\n",
       "      <td>EPRC_00183_A</td>\n",
       "      <td>23.12</td>\n",
       "    </tr>\n",
       "    <tr>\n",
       "      <th>7</th>\n",
       "      <td>EPRC_00191_A</td>\n",
       "      <td>28.25</td>\n",
       "    </tr>\n",
       "    <tr>\n",
       "      <th>8</th>\n",
       "      <td>EPRC_00380_A</td>\n",
       "      <td>27.92</td>\n",
       "    </tr>\n",
       "    <tr>\n",
       "      <th>9</th>\n",
       "      <td>EPRC_00550_A</td>\n",
       "      <td>15.78</td>\n",
       "    </tr>\n",
       "    <tr>\n",
       "      <th>10</th>\n",
       "      <td>EPSF_00832_A</td>\n",
       "      <td>26.47</td>\n",
       "    </tr>\n",
       "    <tr>\n",
       "      <th>11</th>\n",
       "      <td>EPSF_00836_A</td>\n",
       "      <td>27.62</td>\n",
       "    </tr>\n",
       "    <tr>\n",
       "      <th>12</th>\n",
       "      <td>EPSF_00847_A</td>\n",
       "      <td>25.82</td>\n",
       "    </tr>\n",
       "    <tr>\n",
       "      <th>13</th>\n",
       "      <td>EPSF_00944_A</td>\n",
       "      <td>34.08</td>\n",
       "    </tr>\n",
       "    <tr>\n",
       "      <th>14</th>\n",
       "      <td>EPSF_00944_B</td>\n",
       "      <td>34.43</td>\n",
       "    </tr>\n",
       "    <tr>\n",
       "      <th>15</th>\n",
       "      <td>EPSF_01666_A</td>\n",
       "      <td>27.55</td>\n",
       "    </tr>\n",
       "  </tbody>\n",
       "</table>\n",
       "</div>"
      ],
      "text/plain": [
       "             PIN  Time\n",
       "0   EPRC_00032_A 27.20\n",
       "1   EPRC_00160_A 31.40\n",
       "2   EPRC_00162_A 23.42\n",
       "3   EPRC_00173_A 18.88\n",
       "4   EPRC_00179_A 27.92\n",
       "5   EPRC_00181_A 27.35\n",
       "6   EPRC_00183_A 23.12\n",
       "7   EPRC_00191_A 28.25\n",
       "8   EPRC_00380_A 27.92\n",
       "9   EPRC_00550_A 15.78\n",
       "10  EPSF_00832_A 26.47\n",
       "11  EPSF_00836_A 27.62\n",
       "12  EPSF_00847_A 25.82\n",
       "13  EPSF_00944_A 34.08\n",
       "14  EPSF_00944_B 34.43\n",
       "15  EPSF_01666_A 27.55"
      ]
     },
     "execution_count": 67,
     "metadata": {},
     "output_type": "execute_result"
    }
   ],
   "source": [
    "RM"
   ]
  },
  {
   "cell_type": "code",
   "execution_count": 68,
   "metadata": {
    "colab": {
     "base_uri": "https://localhost:8080/"
    },
    "id": "AOGjshfCXXnh",
    "outputId": "47e27455-880c-47e4-f72a-0f03981949b9"
   },
   "outputs": [
    {
     "name": "stdout",
     "output_type": "stream",
     "text": [
      "A student’s t-test for everyone - unmatched\n",
      "t-statistic =  -1.60 pvalue =   0.12\n"
     ]
    }
   ],
   "source": [
    "X1, X2 = IP.Time, RM.Time\n",
    "print('A student’s t-test for everyone - unmatched')\n",
    "print('t-statistic = %6.2f pvalue = %6.2f' % stats.ttest_ind(X1, X2, equal_var=False))"
   ]
  },
  {
   "cell_type": "code",
   "execution_count": 69,
   "metadata": {},
   "outputs": [
    {
     "data": {
      "text/plain": [
       "2.9422916666666588"
      ]
     },
     "execution_count": 69,
     "metadata": {},
     "output_type": "execute_result"
    }
   ],
   "source": [
    "RM.Time.mean()-IP.Time.mean()"
   ]
  },
  {
   "cell_type": "code",
   "execution_count": 70,
   "metadata": {},
   "outputs": [
    {
     "name": "stdout",
     "output_type": "stream",
     "text": [
      "mean difference(remote - in person): 2.94\n",
      "Degree of Freedom  31.79\n",
      "95 CI=[ -6.70,  0.81]\n",
      "\n"
     ]
    }
   ],
   "source": [
    "Md = RM.Time.mean()-IP.Time.mean()\n",
    "print('mean difference(remote - in person):' , round(Md,2))\n",
    "print('Degree of Freedom %6.2f' % degreesOfFreedom(X1,X2))\n",
    "\n",
    "cm = sms.CompareMeans(sms.DescrStatsW(X1), sms.DescrStatsW(X2))\n",
    "print('95 CI=[%6.2f,%6.2f]' %cm.tconfint_diff(usevar='unequal'))\n",
    "print('')"
   ]
  },
  {
   "cell_type": "markdown",
   "metadata": {
    "id": "Hg4pVBb0A_NF"
   },
   "source": [
    "# 5.\tPlot on x-axis remote scores for all the Inst, and plot on y-axis all the in-person "
   ]
  },
  {
   "cell_type": "code",
   "execution_count": 71,
   "metadata": {
    "colab": {
     "base_uri": "https://localhost:8080/",
     "height": 509
    },
    "id": "pQ3v5DU7F8mR",
    "outputId": "12180e71-ba5d-4e47-ee9c-be3ef4608ddf"
   },
   "outputs": [],
   "source": [
    "import seaborn as sns\n",
    "sns.set_theme(style=\"darkgrid\")\n",
    "#g = sns.jointplot(x=\"Total_time\", y=\"Total_time_R\", data=times,kind=\"reg\", truncate=False,  color=\"m\", height=7)"
   ]
  },
  {
   "cell_type": "code",
   "execution_count": 72,
   "metadata": {},
   "outputs": [
    {
     "data": {
      "text/plain": [
       "0      NIH Toolbox Dimensional Change Card Sort Test ...\n",
       "1      NIH Toolbox Flanker Inhibitory Control and Att...\n",
       "2      NIH Toolbox List Sorting Working Memory Test A...\n",
       "3      NIH Toolbox Oral Reading Recognition Test Age ...\n",
       "4      NIH Toolbox Pattern Comparison Processing Spee...\n",
       "                             ...                        \n",
       "150    NIH Toolbox Pattern Comparison Processing Spee...\n",
       "151    NIH Toolbox Pattern Comparison Processing Spee...\n",
       "152    NIH Toolbox Picture Sequence Memory Test Age 8...\n",
       "153    NIH Toolbox Picture Vocabulary Test Age 3+ Pra...\n",
       "154      NIH Toolbox Picture Vocabulary Test Age 3+ v2.1\n",
       "Name: Inst, Length: 155, dtype: object"
      ]
     },
     "execution_count": 72,
     "metadata": {},
     "output_type": "execute_result"
    }
   ],
   "source": [
    "mni.Inst"
   ]
  },
  {
   "cell_type": "code",
   "execution_count": 73,
   "metadata": {},
   "outputs": [],
   "source": [
    "time_anova=mni.append(mnr)"
   ]
  },
  {
   "cell_type": "code",
   "execution_count": 74,
   "metadata": {},
   "outputs": [],
   "source": [
    "time_anova[\"Inst\"].replace({'NIH Toolbox Picture Vocabulary Test Age 3+ Practice v2.1':'Pic_Vocabulary',\n",
    "                            'NIH Toolbox Picture Vocabulary Test Age 3+ v2.1':'Pic_Vocabulary',\n",
    "       'NIH Toolbox Flanker Inhibitory Control and Attention Test Ages 8-11 v2.1':'Flanker',\n",
    "       'NIH Toolbox List Sorting Working Memory Test Age 7+ v2.1':'List_Sorting',\n",
    "       'NIH Toolbox Dimensional Change Card Sort Test Ages 8-11 v2.1':'DCCS',\n",
    "       'NIH Toolbox Pattern Comparison Processing Speed Test Age 7+ Practice v2.1':'Pattern_Comp',\n",
    "       'NIH Toolbox Pattern Comparison Processing Speed Test Age 7+ v2.1':'Pattern_Comp',\n",
    "       'NIH Toolbox Picture Sequence Memory Test Age 8+ Form A v2.1':'Pic_Seq',\n",
    "       'NIH Toolbox Oral Reading Recognition Test Age 3+ v2.1':'Oral_Reading',\n",
    "       'NIH Toolbox Picture Sequence Memory Test Age 8+ Form B v2.1':'Pic_Seq',\n",
    "       'NIH Toolbox Oral Reading Recognition Test Age 3+ Instructions v2.1':'Oral_Reading_Inst'}, inplace=True)"
   ]
  },
  {
   "cell_type": "code",
   "execution_count": 75,
   "metadata": {},
   "outputs": [
    {
     "data": {
      "text/plain": [
       "Pic_Vocabulary    68\n",
       "Pattern_Comp      62\n",
       "Flanker           33\n",
       "DCCS              33\n",
       "Oral_Reading      32\n",
       "Pic_Seq           31\n",
       "List_Sorting      17\n",
       "Name: Inst, dtype: int64"
      ]
     },
     "execution_count": 75,
     "metadata": {},
     "output_type": "execute_result"
    }
   ],
   "source": [
    "time_anova.Inst.value_counts()"
   ]
  },
  {
   "cell_type": "code",
   "execution_count": 76,
   "metadata": {},
   "outputs": [],
   "source": [
    "mt=time_anova.pivot_table(index=['PIN', 'Mode'], columns='Inst', values='Time', aggfunc='first').reset_index()\n",
    "mt=mt.drop(columns=['List_Sorting'])\n",
    "mt =mt.dropna()"
   ]
  },
  {
   "cell_type": "code",
   "execution_count": 77,
   "metadata": {},
   "outputs": [
    {
     "data": {
      "text/html": [
       "<div>\n",
       "<style scoped>\n",
       "    .dataframe tbody tr th:only-of-type {\n",
       "        vertical-align: middle;\n",
       "    }\n",
       "\n",
       "    .dataframe tbody tr th {\n",
       "        vertical-align: top;\n",
       "    }\n",
       "\n",
       "    .dataframe thead th {\n",
       "        text-align: right;\n",
       "    }\n",
       "</style>\n",
       "<table border=\"1\" class=\"dataframe\">\n",
       "  <thead>\n",
       "    <tr style=\"text-align: right;\">\n",
       "      <th>Inst</th>\n",
       "      <th>PIN</th>\n",
       "      <th>Mode</th>\n",
       "      <th>DCCS</th>\n",
       "      <th>Flanker</th>\n",
       "      <th>Oral_Reading</th>\n",
       "      <th>Pattern_Comp</th>\n",
       "      <th>Pic_Seq</th>\n",
       "      <th>Pic_Vocabulary</th>\n",
       "    </tr>\n",
       "  </thead>\n",
       "  <tbody>\n",
       "    <tr>\n",
       "      <th>0</th>\n",
       "      <td>EPRC_00032_A</td>\n",
       "      <td>In Person</td>\n",
       "      <td>5.30</td>\n",
       "      <td>3.97</td>\n",
       "      <td>1.43</td>\n",
       "      <td>1.57</td>\n",
       "      <td>8.92</td>\n",
       "      <td>1.50</td>\n",
       "    </tr>\n",
       "    <tr>\n",
       "      <th>1</th>\n",
       "      <td>EPRC_00032_A</td>\n",
       "      <td>Remote</td>\n",
       "      <td>5.60</td>\n",
       "      <td>3.95</td>\n",
       "      <td>1.75</td>\n",
       "      <td>2.03</td>\n",
       "      <td>8.08</td>\n",
       "      <td>2.80</td>\n",
       "    </tr>\n",
       "    <tr>\n",
       "      <th>2</th>\n",
       "      <td>EPRC_00160_A</td>\n",
       "      <td>In Person</td>\n",
       "      <td>5.75</td>\n",
       "      <td>3.67</td>\n",
       "      <td>2.07</td>\n",
       "      <td>2.00</td>\n",
       "      <td>7.32</td>\n",
       "      <td>1.73</td>\n",
       "    </tr>\n",
       "    <tr>\n",
       "      <th>3</th>\n",
       "      <td>EPRC_00160_A</td>\n",
       "      <td>Remote</td>\n",
       "      <td>7.67</td>\n",
       "      <td>5.58</td>\n",
       "      <td>2.28</td>\n",
       "      <td>2.00</td>\n",
       "      <td>9.78</td>\n",
       "      <td>0.55</td>\n",
       "    </tr>\n",
       "    <tr>\n",
       "      <th>4</th>\n",
       "      <td>EPRC_00162_A</td>\n",
       "      <td>In Person</td>\n",
       "      <td>5.15</td>\n",
       "      <td>3.63</td>\n",
       "      <td>2.00</td>\n",
       "      <td>1.47</td>\n",
       "      <td>9.22</td>\n",
       "      <td>1.55</td>\n",
       "    </tr>\n",
       "    <tr>\n",
       "      <th>5</th>\n",
       "      <td>EPRC_00162_A</td>\n",
       "      <td>Remote</td>\n",
       "      <td>4.72</td>\n",
       "      <td>3.25</td>\n",
       "      <td>1.57</td>\n",
       "      <td>1.73</td>\n",
       "      <td>7.90</td>\n",
       "      <td>0.35</td>\n",
       "    </tr>\n",
       "    <tr>\n",
       "      <th>6</th>\n",
       "      <td>EPRC_00173_A</td>\n",
       "      <td>In Person</td>\n",
       "      <td>6.00</td>\n",
       "      <td>4.17</td>\n",
       "      <td>2.97</td>\n",
       "      <td>2.85</td>\n",
       "      <td>8.05</td>\n",
       "      <td>1.98</td>\n",
       "    </tr>\n",
       "    <tr>\n",
       "      <th>8</th>\n",
       "      <td>EPRC_00179_A</td>\n",
       "      <td>In Person</td>\n",
       "      <td>5.10</td>\n",
       "      <td>3.33</td>\n",
       "      <td>1.27</td>\n",
       "      <td>1.48</td>\n",
       "      <td>6.00</td>\n",
       "      <td>0.92</td>\n",
       "    </tr>\n",
       "    <tr>\n",
       "      <th>9</th>\n",
       "      <td>EPRC_00179_A</td>\n",
       "      <td>Remote</td>\n",
       "      <td>5.50</td>\n",
       "      <td>4.10</td>\n",
       "      <td>1.75</td>\n",
       "      <td>1.72</td>\n",
       "      <td>9.37</td>\n",
       "      <td>2.00</td>\n",
       "    </tr>\n",
       "    <tr>\n",
       "      <th>10</th>\n",
       "      <td>EPRC_00181_A</td>\n",
       "      <td>In Person</td>\n",
       "      <td>5.33</td>\n",
       "      <td>3.63</td>\n",
       "      <td>1.43</td>\n",
       "      <td>1.63</td>\n",
       "      <td>8.38</td>\n",
       "      <td>1.05</td>\n",
       "    </tr>\n",
       "    <tr>\n",
       "      <th>11</th>\n",
       "      <td>EPRC_00181_A</td>\n",
       "      <td>Remote</td>\n",
       "      <td>5.77</td>\n",
       "      <td>5.23</td>\n",
       "      <td>1.30</td>\n",
       "      <td>1.82</td>\n",
       "      <td>8.87</td>\n",
       "      <td>1.42</td>\n",
       "    </tr>\n",
       "    <tr>\n",
       "      <th>12</th>\n",
       "      <td>EPRC_00183_A</td>\n",
       "      <td>In Person</td>\n",
       "      <td>5.45</td>\n",
       "      <td>3.53</td>\n",
       "      <td>1.60</td>\n",
       "      <td>1.50</td>\n",
       "      <td>7.20</td>\n",
       "      <td>1.07</td>\n",
       "    </tr>\n",
       "    <tr>\n",
       "      <th>14</th>\n",
       "      <td>EPRC_00191_A</td>\n",
       "      <td>In Person</td>\n",
       "      <td>5.23</td>\n",
       "      <td>3.42</td>\n",
       "      <td>1.45</td>\n",
       "      <td>1.58</td>\n",
       "      <td>7.37</td>\n",
       "      <td>1.30</td>\n",
       "    </tr>\n",
       "    <tr>\n",
       "      <th>15</th>\n",
       "      <td>EPRC_00191_A</td>\n",
       "      <td>Remote</td>\n",
       "      <td>5.60</td>\n",
       "      <td>4.33</td>\n",
       "      <td>1.63</td>\n",
       "      <td>2.45</td>\n",
       "      <td>8.78</td>\n",
       "      <td>2.20</td>\n",
       "    </tr>\n",
       "    <tr>\n",
       "      <th>16</th>\n",
       "      <td>EPRC_00380_A</td>\n",
       "      <td>In Person</td>\n",
       "      <td>6.40</td>\n",
       "      <td>3.92</td>\n",
       "      <td>1.03</td>\n",
       "      <td>1.82</td>\n",
       "      <td>6.63</td>\n",
       "      <td>1.20</td>\n",
       "    </tr>\n",
       "    <tr>\n",
       "      <th>17</th>\n",
       "      <td>EPRC_00380_A</td>\n",
       "      <td>Remote</td>\n",
       "      <td>6.57</td>\n",
       "      <td>4.62</td>\n",
       "      <td>1.53</td>\n",
       "      <td>2.08</td>\n",
       "      <td>8.10</td>\n",
       "      <td>1.52</td>\n",
       "    </tr>\n",
       "    <tr>\n",
       "      <th>18</th>\n",
       "      <td>EPRC_00550_A</td>\n",
       "      <td>In Person</td>\n",
       "      <td>5.67</td>\n",
       "      <td>4.20</td>\n",
       "      <td>3.02</td>\n",
       "      <td>4.18</td>\n",
       "      <td>8.15</td>\n",
       "      <td>1.83</td>\n",
       "    </tr>\n",
       "    <tr>\n",
       "      <th>20</th>\n",
       "      <td>EPSF_00832_A</td>\n",
       "      <td>In Person</td>\n",
       "      <td>5.32</td>\n",
       "      <td>3.35</td>\n",
       "      <td>1.23</td>\n",
       "      <td>1.47</td>\n",
       "      <td>7.78</td>\n",
       "      <td>1.18</td>\n",
       "    </tr>\n",
       "    <tr>\n",
       "      <th>21</th>\n",
       "      <td>EPSF_00832_A</td>\n",
       "      <td>Remote</td>\n",
       "      <td>6.20</td>\n",
       "      <td>4.55</td>\n",
       "      <td>1.28</td>\n",
       "      <td>1.93</td>\n",
       "      <td>7.93</td>\n",
       "      <td>1.55</td>\n",
       "    </tr>\n",
       "    <tr>\n",
       "      <th>22</th>\n",
       "      <td>EPSF_00836_A</td>\n",
       "      <td>In Person</td>\n",
       "      <td>5.50</td>\n",
       "      <td>3.72</td>\n",
       "      <td>2.68</td>\n",
       "      <td>1.65</td>\n",
       "      <td>7.07</td>\n",
       "      <td>1.40</td>\n",
       "    </tr>\n",
       "    <tr>\n",
       "      <th>23</th>\n",
       "      <td>EPSF_00836_A</td>\n",
       "      <td>Remote</td>\n",
       "      <td>6.35</td>\n",
       "      <td>4.20</td>\n",
       "      <td>1.87</td>\n",
       "      <td>1.78</td>\n",
       "      <td>8.77</td>\n",
       "      <td>1.38</td>\n",
       "    </tr>\n",
       "    <tr>\n",
       "      <th>24</th>\n",
       "      <td>EPSF_00847_A</td>\n",
       "      <td>In Person</td>\n",
       "      <td>4.95</td>\n",
       "      <td>3.43</td>\n",
       "      <td>1.18</td>\n",
       "      <td>1.52</td>\n",
       "      <td>6.07</td>\n",
       "      <td>1.28</td>\n",
       "    </tr>\n",
       "    <tr>\n",
       "      <th>25</th>\n",
       "      <td>EPSF_00847_A</td>\n",
       "      <td>Remote</td>\n",
       "      <td>5.95</td>\n",
       "      <td>4.22</td>\n",
       "      <td>1.22</td>\n",
       "      <td>2.00</td>\n",
       "      <td>7.13</td>\n",
       "      <td>1.45</td>\n",
       "    </tr>\n",
       "    <tr>\n",
       "      <th>27</th>\n",
       "      <td>EPSF_00944_A</td>\n",
       "      <td>In Person</td>\n",
       "      <td>5.13</td>\n",
       "      <td>3.15</td>\n",
       "      <td>1.67</td>\n",
       "      <td>1.58</td>\n",
       "      <td>7.72</td>\n",
       "      <td>1.18</td>\n",
       "    </tr>\n",
       "    <tr>\n",
       "      <th>28</th>\n",
       "      <td>EPSF_00944_A</td>\n",
       "      <td>Remote</td>\n",
       "      <td>5.97</td>\n",
       "      <td>4.52</td>\n",
       "      <td>2.38</td>\n",
       "      <td>4.08</td>\n",
       "      <td>10.30</td>\n",
       "      <td>2.90</td>\n",
       "    </tr>\n",
       "    <tr>\n",
       "      <th>29</th>\n",
       "      <td>EPSF_00944_B</td>\n",
       "      <td>In Person</td>\n",
       "      <td>5.43</td>\n",
       "      <td>3.82</td>\n",
       "      <td>2.60</td>\n",
       "      <td>1.40</td>\n",
       "      <td>6.00</td>\n",
       "      <td>1.30</td>\n",
       "    </tr>\n",
       "    <tr>\n",
       "      <th>30</th>\n",
       "      <td>EPSF_00944_B</td>\n",
       "      <td>Remote</td>\n",
       "      <td>5.90</td>\n",
       "      <td>5.70</td>\n",
       "      <td>2.38</td>\n",
       "      <td>1.62</td>\n",
       "      <td>14.80</td>\n",
       "      <td>1.13</td>\n",
       "    </tr>\n",
       "    <tr>\n",
       "      <th>31</th>\n",
       "      <td>EPSF_01247_A</td>\n",
       "      <td>In Person</td>\n",
       "      <td>5.28</td>\n",
       "      <td>3.53</td>\n",
       "      <td>1.63</td>\n",
       "      <td>1.73</td>\n",
       "      <td>7.22</td>\n",
       "      <td>1.38</td>\n",
       "    </tr>\n",
       "    <tr>\n",
       "      <th>32</th>\n",
       "      <td>EPSF_01666_A</td>\n",
       "      <td>In Person</td>\n",
       "      <td>5.27</td>\n",
       "      <td>3.37</td>\n",
       "      <td>1.52</td>\n",
       "      <td>1.82</td>\n",
       "      <td>6.47</td>\n",
       "      <td>1.40</td>\n",
       "    </tr>\n",
       "  </tbody>\n",
       "</table>\n",
       "</div>"
      ],
      "text/plain": [
       "Inst           PIN       Mode  DCCS  Flanker  Oral_Reading  Pattern_Comp  \\\n",
       "0     EPRC_00032_A  In Person  5.30     3.97          1.43          1.57   \n",
       "1     EPRC_00032_A     Remote  5.60     3.95          1.75          2.03   \n",
       "2     EPRC_00160_A  In Person  5.75     3.67          2.07          2.00   \n",
       "3     EPRC_00160_A     Remote  7.67     5.58          2.28          2.00   \n",
       "4     EPRC_00162_A  In Person  5.15     3.63          2.00          1.47   \n",
       "5     EPRC_00162_A     Remote  4.72     3.25          1.57          1.73   \n",
       "6     EPRC_00173_A  In Person  6.00     4.17          2.97          2.85   \n",
       "8     EPRC_00179_A  In Person  5.10     3.33          1.27          1.48   \n",
       "9     EPRC_00179_A     Remote  5.50     4.10          1.75          1.72   \n",
       "10    EPRC_00181_A  In Person  5.33     3.63          1.43          1.63   \n",
       "11    EPRC_00181_A     Remote  5.77     5.23          1.30          1.82   \n",
       "12    EPRC_00183_A  In Person  5.45     3.53          1.60          1.50   \n",
       "14    EPRC_00191_A  In Person  5.23     3.42          1.45          1.58   \n",
       "15    EPRC_00191_A     Remote  5.60     4.33          1.63          2.45   \n",
       "16    EPRC_00380_A  In Person  6.40     3.92          1.03          1.82   \n",
       "17    EPRC_00380_A     Remote  6.57     4.62          1.53          2.08   \n",
       "18    EPRC_00550_A  In Person  5.67     4.20          3.02          4.18   \n",
       "20    EPSF_00832_A  In Person  5.32     3.35          1.23          1.47   \n",
       "21    EPSF_00832_A     Remote  6.20     4.55          1.28          1.93   \n",
       "22    EPSF_00836_A  In Person  5.50     3.72          2.68          1.65   \n",
       "23    EPSF_00836_A     Remote  6.35     4.20          1.87          1.78   \n",
       "24    EPSF_00847_A  In Person  4.95     3.43          1.18          1.52   \n",
       "25    EPSF_00847_A     Remote  5.95     4.22          1.22          2.00   \n",
       "27    EPSF_00944_A  In Person  5.13     3.15          1.67          1.58   \n",
       "28    EPSF_00944_A     Remote  5.97     4.52          2.38          4.08   \n",
       "29    EPSF_00944_B  In Person  5.43     3.82          2.60          1.40   \n",
       "30    EPSF_00944_B     Remote  5.90     5.70          2.38          1.62   \n",
       "31    EPSF_01247_A  In Person  5.28     3.53          1.63          1.73   \n",
       "32    EPSF_01666_A  In Person  5.27     3.37          1.52          1.82   \n",
       "\n",
       "Inst  Pic_Seq  Pic_Vocabulary  \n",
       "0        8.92            1.50  \n",
       "1        8.08            2.80  \n",
       "2        7.32            1.73  \n",
       "3        9.78            0.55  \n",
       "4        9.22            1.55  \n",
       "5        7.90            0.35  \n",
       "6        8.05            1.98  \n",
       "8        6.00            0.92  \n",
       "9        9.37            2.00  \n",
       "10       8.38            1.05  \n",
       "11       8.87            1.42  \n",
       "12       7.20            1.07  \n",
       "14       7.37            1.30  \n",
       "15       8.78            2.20  \n",
       "16       6.63            1.20  \n",
       "17       8.10            1.52  \n",
       "18       8.15            1.83  \n",
       "20       7.78            1.18  \n",
       "21       7.93            1.55  \n",
       "22       7.07            1.40  \n",
       "23       8.77            1.38  \n",
       "24       6.07            1.28  \n",
       "25       7.13            1.45  \n",
       "27       7.72            1.18  \n",
       "28      10.30            2.90  \n",
       "29       6.00            1.30  \n",
       "30      14.80            1.13  \n",
       "31       7.22            1.38  \n",
       "32       6.47            1.40  "
      ]
     },
     "execution_count": 77,
     "metadata": {},
     "output_type": "execute_result"
    }
   ],
   "source": [
    "mt"
   ]
  },
  {
   "cell_type": "code",
   "execution_count": 78,
   "metadata": {},
   "outputs": [
    {
     "name": "stdout",
     "output_type": "stream",
     "text": [
      "***multiple ANOVA ---Time***\n",
      "                  Multivariate linear model\n",
      "==============================================================\n",
      "                                                              \n",
      "--------------------------------------------------------------\n",
      "       Intercept         Value  Num DF  Den DF F Value  Pr > F\n",
      "--------------------------------------------------------------\n",
      "          Wilks' lambda  0.0108 6.0000 22.0000 335.7538 0.0000\n",
      "         Pillai's trace  0.9892 6.0000 22.0000 335.7538 0.0000\n",
      " Hotelling-Lawley trace 91.5692 6.0000 22.0000 335.7538 0.0000\n",
      "    Roy's greatest root 91.5692 6.0000 22.0000 335.7538 0.0000\n",
      "--------------------------------------------------------------\n",
      "                                                              \n",
      "--------------------------------------------------------------\n",
      "            Mode          Value  Num DF  Den DF F Value Pr > F\n",
      "--------------------------------------------------------------\n",
      "            Wilks' lambda 0.4347 6.0000 22.0000  4.7675 0.0030\n",
      "           Pillai's trace 0.5653 6.0000 22.0000  4.7675 0.0030\n",
      "   Hotelling-Lawley trace 1.3002 6.0000 22.0000  4.7675 0.0030\n",
      "      Roy's greatest root 1.3002 6.0000 22.0000  4.7675 0.0030\n",
      "==============================================================\n",
      "\n"
     ]
    }
   ],
   "source": [
    "# multiple ANOVA\n",
    "\n",
    "from statsmodels.multivariate.manova import MANOVA\n",
    "\n",
    "maovt = MANOVA.from_formula('DCCS+ Flanker + Oral_Reading + Pattern_Comp + Pic_Seq + Pic_Vocabulary ~ Mode', data=mt)\n",
    "print('***multiple ANOVA ---Time***')\n",
    "print(maovt.mv_test())"
   ]
  },
  {
   "cell_type": "markdown",
   "metadata": {
    "id": "Ryp-FuHZLWyT"
   },
   "source": [
    "# Get demographic data"
   ]
  },
  {
   "cell_type": "code",
   "execution_count": 79,
   "metadata": {
    "colab": {
     "base_uri": "https://localhost:8080/"
    },
    "id": "yonYmaEjXXnY",
    "outputId": "56b987c9-fff8-44b1-cb71-e06c5e7135c9"
   },
   "outputs": [],
   "source": [
    "# get all files from all RC In-person subdirectories\n",
    "\n",
    "all_files = glob.glob('C:/Users/tsb7592/Box/Avera NIHTB Data/Rapid City/*/In Person/*CB_Reg.csv')\n",
    "\n",
    "doc =[]\n",
    "for file in all_files:\n",
    "    data = pd.read_csv(file)\n",
    "    doc.append(data)\n",
    "    \n",
    "all_files = glob.glob('C:/Users/tsb7592/Box/Avera NIHTB Data/Rapid City/*/Remote/*Reg_R.csv')\n",
    "\n",
    "for file in all_files:\n",
    "    data = pd.read_csv(file)\n",
    "    doc.append(data)\n",
    "\n",
    "# get all files from all SF\n",
    "all_files = glob.glob('C:/Users/tsb7592/Box/Avera NIHTB Data/Sioux Falls/*/In Person/*CB_Reg.csv')\n",
    "for file in all_files:\n",
    "    data = pd.read_csv(file)\n",
    "    doc.append(data)\n",
    "\n",
    "# get all files from all SF\n",
    "all_files = glob.glob('C:/Users/tsb7592/Box/Avera NIHTB Data/Sioux Falls/*/In Person/*Reg_R.csv')\n",
    "for file in all_files:\n",
    "    data = pd.read_csv(file)\n",
    "    doc.append(data)\n",
    "\n",
    "ddf = pd.concat(doc)"
   ]
  },
  {
   "cell_type": "code",
   "execution_count": 80,
   "metadata": {},
   "outputs": [],
   "source": [
    "dcol =['PIN','Gender','Age','Race','Ethnicity']"
   ]
  },
  {
   "cell_type": "code",
   "execution_count": 81,
   "metadata": {},
   "outputs": [],
   "source": [
    "ddf['PIN'] = ddf['PIN'].str[7:19]"
   ]
  },
  {
   "cell_type": "code",
   "execution_count": 82,
   "metadata": {},
   "outputs": [],
   "source": [
    "ddf=ddf[dcol]"
   ]
  },
  {
   "cell_type": "code",
   "execution_count": 83,
   "metadata": {
    "scrolled": true
   },
   "outputs": [],
   "source": [
    "ddf=ddf.drop_duplicates()"
   ]
  },
  {
   "cell_type": "code",
   "execution_count": 84,
   "metadata": {},
   "outputs": [],
   "source": [
    "ddf=ddf.dropna()"
   ]
  },
  {
   "cell_type": "code",
   "execution_count": 85,
   "metadata": {},
   "outputs": [],
   "source": [
    "#Drop this duplicate \n",
    "#ddf= ddf[ddf['PIN']!='EPSF_01247_A']"
   ]
  },
  {
   "cell_type": "code",
   "execution_count": 86,
   "metadata": {
    "scrolled": true
   },
   "outputs": [
    {
     "data": {
      "text/html": [
       "<div>\n",
       "<style scoped>\n",
       "    .dataframe tbody tr th:only-of-type {\n",
       "        vertical-align: middle;\n",
       "    }\n",
       "\n",
       "    .dataframe tbody tr th {\n",
       "        vertical-align: top;\n",
       "    }\n",
       "\n",
       "    .dataframe thead th {\n",
       "        text-align: right;\n",
       "    }\n",
       "</style>\n",
       "<table border=\"1\" class=\"dataframe\">\n",
       "  <thead>\n",
       "    <tr style=\"text-align: right;\">\n",
       "      <th></th>\n",
       "      <th>index</th>\n",
       "      <th>PIN</th>\n",
       "      <th>Gender</th>\n",
       "      <th>Age</th>\n",
       "      <th>Race</th>\n",
       "      <th>Ethnicity</th>\n",
       "    </tr>\n",
       "  </thead>\n",
       "  <tbody>\n",
       "    <tr>\n",
       "      <th>0</th>\n",
       "      <td>0</td>\n",
       "      <td>EPRC_00032_A</td>\n",
       "      <td>2</td>\n",
       "      <td>8</td>\n",
       "      <td>1</td>\n",
       "      <td>1</td>\n",
       "    </tr>\n",
       "    <tr>\n",
       "      <th>1</th>\n",
       "      <td>0</td>\n",
       "      <td>EPRC_00160_A</td>\n",
       "      <td>2</td>\n",
       "      <td>8</td>\n",
       "      <td>1</td>\n",
       "      <td>1</td>\n",
       "    </tr>\n",
       "    <tr>\n",
       "      <th>2</th>\n",
       "      <td>0</td>\n",
       "      <td>EPRC_00162_A</td>\n",
       "      <td>1</td>\n",
       "      <td>8</td>\n",
       "      <td>1</td>\n",
       "      <td>1</td>\n",
       "    </tr>\n",
       "    <tr>\n",
       "      <th>3</th>\n",
       "      <td>0</td>\n",
       "      <td>EPRC_00173_A</td>\n",
       "      <td>1</td>\n",
       "      <td>8</td>\n",
       "      <td>8</td>\n",
       "      <td>1</td>\n",
       "    </tr>\n",
       "    <tr>\n",
       "      <th>4</th>\n",
       "      <td>0</td>\n",
       "      <td>EPRC_00179_A</td>\n",
       "      <td>1</td>\n",
       "      <td>8</td>\n",
       "      <td>1</td>\n",
       "      <td>2</td>\n",
       "    </tr>\n",
       "    <tr>\n",
       "      <th>5</th>\n",
       "      <td>0</td>\n",
       "      <td>EPRC_00181_A</td>\n",
       "      <td>2</td>\n",
       "      <td>8</td>\n",
       "      <td>1</td>\n",
       "      <td>1</td>\n",
       "    </tr>\n",
       "    <tr>\n",
       "      <th>6</th>\n",
       "      <td>0</td>\n",
       "      <td>EPRC_00183_A</td>\n",
       "      <td>2</td>\n",
       "      <td>8</td>\n",
       "      <td>1</td>\n",
       "      <td>1</td>\n",
       "    </tr>\n",
       "    <tr>\n",
       "      <th>7</th>\n",
       "      <td>0</td>\n",
       "      <td>EPRC_00191_A</td>\n",
       "      <td>1</td>\n",
       "      <td>8</td>\n",
       "      <td>1</td>\n",
       "      <td>1</td>\n",
       "    </tr>\n",
       "    <tr>\n",
       "      <th>8</th>\n",
       "      <td>0</td>\n",
       "      <td>EPRC_00380_A</td>\n",
       "      <td>2</td>\n",
       "      <td>8</td>\n",
       "      <td>1</td>\n",
       "      <td>1</td>\n",
       "    </tr>\n",
       "    <tr>\n",
       "      <th>9</th>\n",
       "      <td>0</td>\n",
       "      <td>EPRC_00550_A</td>\n",
       "      <td>1</td>\n",
       "      <td>8</td>\n",
       "      <td>1</td>\n",
       "      <td>1</td>\n",
       "    </tr>\n",
       "    <tr>\n",
       "      <th>10</th>\n",
       "      <td>0</td>\n",
       "      <td>EPSF_00832_A</td>\n",
       "      <td>2</td>\n",
       "      <td>8</td>\n",
       "      <td>1</td>\n",
       "      <td>1</td>\n",
       "    </tr>\n",
       "    <tr>\n",
       "      <th>11</th>\n",
       "      <td>0</td>\n",
       "      <td>EPSF_00836_A</td>\n",
       "      <td>2</td>\n",
       "      <td>8</td>\n",
       "      <td>8</td>\n",
       "      <td>1</td>\n",
       "    </tr>\n",
       "    <tr>\n",
       "      <th>12</th>\n",
       "      <td>0</td>\n",
       "      <td>EPSF_00944_B</td>\n",
       "      <td>2</td>\n",
       "      <td>8</td>\n",
       "      <td>1</td>\n",
       "      <td>1</td>\n",
       "    </tr>\n",
       "    <tr>\n",
       "      <th>13</th>\n",
       "      <td>0</td>\n",
       "      <td>EPSF_00944_A</td>\n",
       "      <td>1</td>\n",
       "      <td>8</td>\n",
       "      <td>1</td>\n",
       "      <td>1</td>\n",
       "    </tr>\n",
       "    <tr>\n",
       "      <th>14</th>\n",
       "      <td>0</td>\n",
       "      <td>EPSF_01247_A</td>\n",
       "      <td>2</td>\n",
       "      <td>8</td>\n",
       "      <td>1</td>\n",
       "      <td>1</td>\n",
       "    </tr>\n",
       "    <tr>\n",
       "      <th>15</th>\n",
       "      <td>0</td>\n",
       "      <td>EPSF_01666_A</td>\n",
       "      <td>1</td>\n",
       "      <td>8</td>\n",
       "      <td>1</td>\n",
       "      <td>1</td>\n",
       "    </tr>\n",
       "  </tbody>\n",
       "</table>\n",
       "</div>"
      ],
      "text/plain": [
       "    index           PIN  Gender  Age  Race  Ethnicity\n",
       "0       0  EPRC_00032_A       2    8     1          1\n",
       "1       0  EPRC_00160_A       2    8     1          1\n",
       "2       0  EPRC_00162_A       1    8     1          1\n",
       "3       0  EPRC_00173_A       1    8     8          1\n",
       "4       0  EPRC_00179_A       1    8     1          2\n",
       "5       0  EPRC_00181_A       2    8     1          1\n",
       "6       0  EPRC_00183_A       2    8     1          1\n",
       "7       0  EPRC_00191_A       1    8     1          1\n",
       "8       0  EPRC_00380_A       2    8     1          1\n",
       "9       0  EPRC_00550_A       1    8     1          1\n",
       "10      0  EPSF_00832_A       2    8     1          1\n",
       "11      0  EPSF_00836_A       2    8     8          1\n",
       "12      0  EPSF_00944_B       2    8     1          1\n",
       "13      0  EPSF_00944_A       1    8     1          1\n",
       "14      0  EPSF_01247_A       2    8     1          1\n",
       "15      0  EPSF_01666_A       1    8     1          1"
      ]
     },
     "execution_count": 86,
     "metadata": {},
     "output_type": "execute_result"
    }
   ],
   "source": [
    "ddf.reset_index()"
   ]
  },
  {
   "cell_type": "code",
   "execution_count": 87,
   "metadata": {},
   "outputs": [],
   "source": [
    "ddf.to_csv('C:/Users/tsb7592/Box/Avera NIHTB Data/Subset/demographic_data.csv', index=False)"
   ]
  },
  {
   "cell_type": "code",
   "execution_count": 88,
   "metadata": {},
   "outputs": [
    {
     "data": {
      "text/plain": [
       "2    56.25%\n",
       "1    43.75%\n",
       "Name: Gender, dtype: object"
      ]
     },
     "execution_count": 88,
     "metadata": {},
     "output_type": "execute_result"
    }
   ],
   "source": [
    "ddf.Gender.value_counts(normalize=True).mul(100).round(2).astype(str) + '%'"
   ]
  },
  {
   "cell_type": "markdown",
   "metadata": {
    "id": "zKBH_U9Yd919"
   },
   "source": [
    "# Scores"
   ]
  },
  {
   "cell_type": "code",
   "execution_count": 89,
   "metadata": {
    "id": "3ayipuJLxYuG"
   },
   "outputs": [
    {
     "name": "stdout",
     "output_type": "stream",
     "text": [
      "C:/Users/tsb7592/Box/Avera NIHTB Data/Sioux Falls\\EPSF_00832_A\\In Person\\210413_EPSF_00832_A_8Y_NT_CB_Scores.csv\n",
      "C:/Users/tsb7592/Box/Avera NIHTB Data/Sioux Falls\\EPSF_00836_A\\In Person\\210413_EPSF_00836_A_8Y_NT_CB_Scores.csv\n",
      "C:/Users/tsb7592/Box/Avera NIHTB Data/Sioux Falls\\EPSF_00847_A\\In Person\\210412_EPSF_00847_A_8Y_CB_Scores.csv\n",
      "C:/Users/tsb7592/Box/Avera NIHTB Data/Sioux Falls\\EPSF_00944_A\\In Person\\210416_EPSF_00944_A_8Y_NT_CB_Scores.csv\n",
      "C:/Users/tsb7592/Box/Avera NIHTB Data/Sioux Falls\\EPSF_00944_B\\In Person\\210416_EPSF_00944_B_8Y_NT_CB_Scores.csv\n",
      "C:/Users/tsb7592/Box/Avera NIHTB Data/Sioux Falls\\EPSF_01247_A\\In Person\\210412_EPSF_01247_A_8Y_NT_CB_Scores.csv\n",
      "C:/Users/tsb7592/Box/Avera NIHTB Data/Sioux Falls\\EPSF_01247_A\\In Person\\210414_EPSF_01247_A_8Y_NT_CB_Scores.csv\n",
      "C:/Users/tsb7592/Box/Avera NIHTB Data/Sioux Falls\\EPSF_01666_A\\In Person\\210412_EPSF_01666_A_8Y_NT_CB_Scores.csv\n"
     ]
    }
   ],
   "source": [
    "#  get all files from RC In-person subdirectories\n",
    "\n",
    "all_files = glob.glob('C:/Users/tsb7592/Box/Avera NIHTB Data//Rapid City/*/In Person/*CB_Scores.csv')\n",
    "\n",
    "doc =[]\n",
    "for file in all_files:\n",
    "    data = pd.read_csv(file)\n",
    "    doc.append(data)\n",
    "\n",
    "# get all files from all SF In_person subdirectories\n",
    "all_files = glob.glob('C:/Users/tsb7592/Box/Avera NIHTB Data/Sioux Falls/*/In Person/*CB_Scores.csv')\n",
    "\n",
    "for file in all_files:\n",
    "    data = pd.read_csv(file)\n",
    "    print(file)\n",
    "    doc.append(data)\n",
    "\n",
    "df = pd.concat(doc)"
   ]
  },
  {
   "cell_type": "code",
   "execution_count": 90,
   "metadata": {
    "colab": {
     "base_uri": "https://localhost:8080/"
    },
    "id": "WOvk0V52xqfj",
    "outputId": "8fd94fc2-e9d6-436f-b07c-1c244e15fa5a"
   },
   "outputs": [
    {
     "data": {
      "text/plain": [
       "(199, 28)"
      ]
     },
     "execution_count": 90,
     "metadata": {},
     "output_type": "execute_result"
    }
   ],
   "source": [
    "df.shape"
   ]
  },
  {
   "cell_type": "code",
   "execution_count": 91,
   "metadata": {
    "id": "U_t0U6Q5x0Zl"
   },
   "outputs": [],
   "source": [
    "df['PIN'] = df['PIN'].str[7:19]"
   ]
  },
  {
   "cell_type": "code",
   "execution_count": 92,
   "metadata": {
    "id": "ei6DQb7S4vya"
   },
   "outputs": [],
   "source": [
    "keep =['PIN', 'Inst', 'RawScore', 'Theta', 'SE',\n",
    "       'ItmCnt', 'Computed Score',\n",
    "       'Uncorrected Standard Score', 'Age-Corrected Standard Score',\n",
    "       'National Percentile (age adjusted)', 'Fully-Corrected T-score',\n",
    "       'InstrumentBreakoff', 'InstrumentStatus2']"
   ]
  },
  {
   "cell_type": "code",
   "execution_count": 93,
   "metadata": {
    "id": "3Om5N5Ma56yQ"
   },
   "outputs": [],
   "source": [
    "df=df[keep]"
   ]
  },
  {
   "cell_type": "code",
   "execution_count": 94,
   "metadata": {
    "colab": {
     "base_uri": "https://localhost:8080/",
     "height": 359
    },
    "id": "_WFIOwUytaMY",
    "outputId": "e8f0342d-f2cd-4856-dbb9-0deb907e4731"
   },
   "outputs": [
    {
     "data": {
      "text/html": [
       "<div>\n",
       "<style scoped>\n",
       "    .dataframe tbody tr th:only-of-type {\n",
       "        vertical-align: middle;\n",
       "    }\n",
       "\n",
       "    .dataframe tbody tr th {\n",
       "        vertical-align: top;\n",
       "    }\n",
       "\n",
       "    .dataframe thead th {\n",
       "        text-align: right;\n",
       "    }\n",
       "</style>\n",
       "<table border=\"1\" class=\"dataframe\">\n",
       "  <thead>\n",
       "    <tr style=\"text-align: right;\">\n",
       "      <th></th>\n",
       "      <th>PIN</th>\n",
       "      <th>Total_time</th>\n",
       "      <th>Total_time_R</th>\n",
       "    </tr>\n",
       "  </thead>\n",
       "  <tbody>\n",
       "    <tr>\n",
       "      <th>0</th>\n",
       "      <td>EPRC_00032_A</td>\n",
       "      <td>25.73</td>\n",
       "      <td>27.20</td>\n",
       "    </tr>\n",
       "    <tr>\n",
       "      <th>1</th>\n",
       "      <td>EPRC_00160_A</td>\n",
       "      <td>25.63</td>\n",
       "      <td>31.40</td>\n",
       "    </tr>\n",
       "    <tr>\n",
       "      <th>2</th>\n",
       "      <td>EPRC_00162_A</td>\n",
       "      <td>27.25</td>\n",
       "      <td>23.42</td>\n",
       "    </tr>\n",
       "    <tr>\n",
       "      <th>3</th>\n",
       "      <td>EPRC_00173_A</td>\n",
       "      <td>29.70</td>\n",
       "      <td>18.88</td>\n",
       "    </tr>\n",
       "    <tr>\n",
       "      <th>4</th>\n",
       "      <td>EPRC_00179_A</td>\n",
       "      <td>21.40</td>\n",
       "      <td>27.92</td>\n",
       "    </tr>\n",
       "    <tr>\n",
       "      <th>5</th>\n",
       "      <td>EPRC_00181_A</td>\n",
       "      <td>24.33</td>\n",
       "      <td>27.35</td>\n",
       "    </tr>\n",
       "    <tr>\n",
       "      <th>6</th>\n",
       "      <td>EPRC_00183_A</td>\n",
       "      <td>23.65</td>\n",
       "      <td>23.12</td>\n",
       "    </tr>\n",
       "    <tr>\n",
       "      <th>7</th>\n",
       "      <td>EPRC_00191_A</td>\n",
       "      <td>23.93</td>\n",
       "      <td>28.25</td>\n",
       "    </tr>\n",
       "    <tr>\n",
       "      <th>8</th>\n",
       "      <td>EPRC_00380_A</td>\n",
       "      <td>24.33</td>\n",
       "      <td>27.92</td>\n",
       "    </tr>\n",
       "    <tr>\n",
       "      <th>9</th>\n",
       "      <td>EPRC_00550_A</td>\n",
       "      <td>30.62</td>\n",
       "      <td>15.78</td>\n",
       "    </tr>\n",
       "    <tr>\n",
       "      <th>10</th>\n",
       "      <td>EPSF_00832_A</td>\n",
       "      <td>23.53</td>\n",
       "      <td>26.47</td>\n",
       "    </tr>\n",
       "    <tr>\n",
       "      <th>11</th>\n",
       "      <td>EPSF_00836_A</td>\n",
       "      <td>26.55</td>\n",
       "      <td>27.62</td>\n",
       "    </tr>\n",
       "    <tr>\n",
       "      <th>12</th>\n",
       "      <td>EPSF_00847_A</td>\n",
       "      <td>22.03</td>\n",
       "      <td>25.82</td>\n",
       "    </tr>\n",
       "    <tr>\n",
       "      <th>13</th>\n",
       "      <td>EPSF_00944_A</td>\n",
       "      <td>23.88</td>\n",
       "      <td>34.08</td>\n",
       "    </tr>\n",
       "    <tr>\n",
       "      <th>14</th>\n",
       "      <td>EPSF_00944_B</td>\n",
       "      <td>23.62</td>\n",
       "      <td>34.43</td>\n",
       "    </tr>\n",
       "    <tr>\n",
       "      <th>15</th>\n",
       "      <td>EPSF_01666_A</td>\n",
       "      <td>25.17</td>\n",
       "      <td>27.55</td>\n",
       "    </tr>\n",
       "  </tbody>\n",
       "</table>\n",
       "</div>"
      ],
      "text/plain": [
       "             PIN  Total_time  Total_time_R\n",
       "0   EPRC_00032_A       25.73         27.20\n",
       "1   EPRC_00160_A       25.63         31.40\n",
       "2   EPRC_00162_A       27.25         23.42\n",
       "3   EPRC_00173_A       29.70         18.88\n",
       "4   EPRC_00179_A       21.40         27.92\n",
       "5   EPRC_00181_A       24.33         27.35\n",
       "6   EPRC_00183_A       23.65         23.12\n",
       "7   EPRC_00191_A       23.93         28.25\n",
       "8   EPRC_00380_A       24.33         27.92\n",
       "9   EPRC_00550_A       30.62         15.78\n",
       "10  EPSF_00832_A       23.53         26.47\n",
       "11  EPSF_00836_A       26.55         27.62\n",
       "12  EPSF_00847_A       22.03         25.82\n",
       "13  EPSF_00944_A       23.88         34.08\n",
       "14  EPSF_00944_B       23.62         34.43\n",
       "15  EPSF_01666_A       25.17         27.55"
      ]
     },
     "execution_count": 94,
     "metadata": {},
     "output_type": "execute_result"
    }
   ],
   "source": [
    "times"
   ]
  },
  {
   "cell_type": "code",
   "execution_count": 95,
   "metadata": {
    "id": "mfuZ4XcBDiTG"
   },
   "outputs": [],
   "source": [
    "#Differentiate the rows contain Composites\n",
    "comp =df[df['Inst'].str.contains(\"Composite\")]\n",
    "raw =df[~df['Inst'].str.contains(\"Composite\")]"
   ]
  },
  {
   "cell_type": "code",
   "execution_count": 96,
   "metadata": {
    "colab": {
     "base_uri": "https://localhost:8080/",
     "height": 510
    },
    "id": "a2U6puaP8P6R",
    "outputId": "87d7133d-d4ce-4f13-cb96-370e346f5db1"
   },
   "outputs": [
    {
     "data": {
      "text/html": [
       "<div>\n",
       "<style scoped>\n",
       "    .dataframe tbody tr th:only-of-type {\n",
       "        vertical-align: middle;\n",
       "    }\n",
       "\n",
       "    .dataframe tbody tr th {\n",
       "        vertical-align: top;\n",
       "    }\n",
       "\n",
       "    .dataframe thead th {\n",
       "        text-align: right;\n",
       "    }\n",
       "</style>\n",
       "<table border=\"1\" class=\"dataframe\">\n",
       "  <thead>\n",
       "    <tr style=\"text-align: right;\">\n",
       "      <th></th>\n",
       "      <th>PIN</th>\n",
       "      <th>Inst</th>\n",
       "      <th>RawScore</th>\n",
       "      <th>Theta</th>\n",
       "      <th>SE</th>\n",
       "      <th>ItmCnt</th>\n",
       "      <th>Computed Score</th>\n",
       "      <th>Uncorrected Standard Score</th>\n",
       "      <th>Age-Corrected Standard Score</th>\n",
       "      <th>National Percentile (age adjusted)</th>\n",
       "      <th>Fully-Corrected T-score</th>\n",
       "      <th>InstrumentBreakoff</th>\n",
       "      <th>InstrumentStatus2</th>\n",
       "    </tr>\n",
       "  </thead>\n",
       "  <tbody>\n",
       "    <tr>\n",
       "      <th>0</th>\n",
       "      <td>EPRC_00032_A</td>\n",
       "      <td>NIH Toolbox Picture Vocabulary Test Age 3+ v2.1</td>\n",
       "      <td>NaN</td>\n",
       "      <td>-2.41</td>\n",
       "      <td>0.47</td>\n",
       "      <td>20.00</td>\n",
       "      <td>NaN</td>\n",
       "      <td>71.00</td>\n",
       "      <td>95.00</td>\n",
       "      <td>36.00</td>\n",
       "      <td>36.00</td>\n",
       "      <td>2.00</td>\n",
       "      <td>3.00</td>\n",
       "    </tr>\n",
       "    <tr>\n",
       "      <th>1</th>\n",
       "      <td>EPRC_00032_A</td>\n",
       "      <td>NIH Toolbox Flanker Inhibitory Control and Att...</td>\n",
       "      <td>20.00</td>\n",
       "      <td>NaN</td>\n",
       "      <td>NaN</td>\n",
       "      <td>24.00</td>\n",
       "      <td>7.24</td>\n",
       "      <td>89.00</td>\n",
       "      <td>94.00</td>\n",
       "      <td>34.00</td>\n",
       "      <td>45.00</td>\n",
       "      <td>2.00</td>\n",
       "      <td>3.00</td>\n",
       "    </tr>\n",
       "    <tr>\n",
       "      <th>2</th>\n",
       "      <td>EPRC_00032_A</td>\n",
       "      <td>NIH Toolbox List Sorting Working Memory Test A...</td>\n",
       "      <td>16.00</td>\n",
       "      <td>NaN</td>\n",
       "      <td>NaN</td>\n",
       "      <td>15.00</td>\n",
       "      <td>NaN</td>\n",
       "      <td>97.00</td>\n",
       "      <td>108.00</td>\n",
       "      <td>69.00</td>\n",
       "      <td>48.00</td>\n",
       "      <td>2.00</td>\n",
       "      <td>3.00</td>\n",
       "    </tr>\n",
       "    <tr>\n",
       "      <th>3</th>\n",
       "      <td>EPRC_00032_A</td>\n",
       "      <td>NIH Toolbox Dimensional Change Card Sort Test ...</td>\n",
       "      <td>26.00</td>\n",
       "      <td>NaN</td>\n",
       "      <td>NaN</td>\n",
       "      <td>38.00</td>\n",
       "      <td>6.73</td>\n",
       "      <td>91.00</td>\n",
       "      <td>96.00</td>\n",
       "      <td>40.00</td>\n",
       "      <td>46.00</td>\n",
       "      <td>2.00</td>\n",
       "      <td>3.00</td>\n",
       "    </tr>\n",
       "    <tr>\n",
       "      <th>4</th>\n",
       "      <td>EPRC_00032_A</td>\n",
       "      <td>NIH Toolbox Pattern Comparison Processing Spee...</td>\n",
       "      <td>34.00</td>\n",
       "      <td>NaN</td>\n",
       "      <td>NaN</td>\n",
       "      <td>34.00</td>\n",
       "      <td>39.00</td>\n",
       "      <td>80.00</td>\n",
       "      <td>86.00</td>\n",
       "      <td>18.00</td>\n",
       "      <td>39.00</td>\n",
       "      <td>2.00</td>\n",
       "      <td>3.00</td>\n",
       "    </tr>\n",
       "  </tbody>\n",
       "</table>\n",
       "</div>"
      ],
      "text/plain": [
       "            PIN                                               Inst  RawScore  \\\n",
       "0  EPRC_00032_A    NIH Toolbox Picture Vocabulary Test Age 3+ v2.1       NaN   \n",
       "1  EPRC_00032_A  NIH Toolbox Flanker Inhibitory Control and Att...     20.00   \n",
       "2  EPRC_00032_A  NIH Toolbox List Sorting Working Memory Test A...     16.00   \n",
       "3  EPRC_00032_A  NIH Toolbox Dimensional Change Card Sort Test ...     26.00   \n",
       "4  EPRC_00032_A  NIH Toolbox Pattern Comparison Processing Spee...     34.00   \n",
       "\n",
       "   Theta   SE  ItmCnt  Computed Score  Uncorrected Standard Score  \\\n",
       "0  -2.41 0.47   20.00             NaN                       71.00   \n",
       "1    NaN  NaN   24.00            7.24                       89.00   \n",
       "2    NaN  NaN   15.00             NaN                       97.00   \n",
       "3    NaN  NaN   38.00            6.73                       91.00   \n",
       "4    NaN  NaN   34.00           39.00                       80.00   \n",
       "\n",
       "   Age-Corrected Standard Score  National Percentile (age adjusted)  \\\n",
       "0                         95.00                               36.00   \n",
       "1                         94.00                               34.00   \n",
       "2                        108.00                               69.00   \n",
       "3                         96.00                               40.00   \n",
       "4                         86.00                               18.00   \n",
       "\n",
       "   Fully-Corrected T-score  InstrumentBreakoff  InstrumentStatus2  \n",
       "0                    36.00                2.00               3.00  \n",
       "1                    45.00                2.00               3.00  \n",
       "2                    48.00                2.00               3.00  \n",
       "3                    46.00                2.00               3.00  \n",
       "4                    39.00                2.00               3.00  "
      ]
     },
     "execution_count": 96,
     "metadata": {},
     "output_type": "execute_result"
    }
   ],
   "source": [
    "raw=raw.dropna(axis=1, how='all')\n",
    "raw.head()"
   ]
  },
  {
   "cell_type": "code",
   "execution_count": 97,
   "metadata": {
    "colab": {
     "base_uri": "https://localhost:8080/",
     "height": 238
    },
    "id": "8kCxcBxu_Q-G",
    "outputId": "163b6e64-40b2-4bcb-af2a-f78891683c6f"
   },
   "outputs": [
    {
     "data": {
      "text/html": [
       "<div>\n",
       "<style scoped>\n",
       "    .dataframe tbody tr th:only-of-type {\n",
       "        vertical-align: middle;\n",
       "    }\n",
       "\n",
       "    .dataframe tbody tr th {\n",
       "        vertical-align: top;\n",
       "    }\n",
       "\n",
       "    .dataframe thead th {\n",
       "        text-align: right;\n",
       "    }\n",
       "</style>\n",
       "<table border=\"1\" class=\"dataframe\">\n",
       "  <thead>\n",
       "    <tr style=\"text-align: right;\">\n",
       "      <th></th>\n",
       "      <th>PIN</th>\n",
       "      <th>Inst</th>\n",
       "      <th>Uncorrected Standard Score</th>\n",
       "      <th>Age-Corrected Standard Score</th>\n",
       "      <th>National Percentile (age adjusted)</th>\n",
       "      <th>Fully-Corrected T-score</th>\n",
       "    </tr>\n",
       "  </thead>\n",
       "  <tbody>\n",
       "    <tr>\n",
       "      <th>7</th>\n",
       "      <td>EPRC_00032_A</td>\n",
       "      <td>Cognition Fluid Composite v1.1</td>\n",
       "      <td>93.00</td>\n",
       "      <td>103.00</td>\n",
       "      <td>59.00</td>\n",
       "      <td>48.00</td>\n",
       "    </tr>\n",
       "    <tr>\n",
       "      <th>8</th>\n",
       "      <td>EPRC_00032_A</td>\n",
       "      <td>Cognition Crystallized Composite v1.1</td>\n",
       "      <td>71.00</td>\n",
       "      <td>85.00</td>\n",
       "      <td>16.00</td>\n",
       "      <td>32.00</td>\n",
       "    </tr>\n",
       "    <tr>\n",
       "      <th>9</th>\n",
       "      <td>EPRC_00032_A</td>\n",
       "      <td>Cognition Total Composite Score v1.1</td>\n",
       "      <td>78.00</td>\n",
       "      <td>93.00</td>\n",
       "      <td>32.00</td>\n",
       "      <td>38.00</td>\n",
       "    </tr>\n",
       "    <tr>\n",
       "      <th>10</th>\n",
       "      <td>EPRC_00032_A</td>\n",
       "      <td>Cognition Early Childhood Composite v1.1</td>\n",
       "      <td>89.00</td>\n",
       "      <td>105.00</td>\n",
       "      <td>62.00</td>\n",
       "      <td>48.00</td>\n",
       "    </tr>\n",
       "    <tr>\n",
       "      <th>7</th>\n",
       "      <td>EPRC_00160_A</td>\n",
       "      <td>Cognition Fluid Composite v1.1</td>\n",
       "      <td>94.00</td>\n",
       "      <td>109.00</td>\n",
       "      <td>73.00</td>\n",
       "      <td>49.00</td>\n",
       "    </tr>\n",
       "  </tbody>\n",
       "</table>\n",
       "</div>"
      ],
      "text/plain": [
       "             PIN                                      Inst  \\\n",
       "7   EPRC_00032_A            Cognition Fluid Composite v1.1   \n",
       "8   EPRC_00032_A     Cognition Crystallized Composite v1.1   \n",
       "9   EPRC_00032_A      Cognition Total Composite Score v1.1   \n",
       "10  EPRC_00032_A  Cognition Early Childhood Composite v1.1   \n",
       "7   EPRC_00160_A            Cognition Fluid Composite v1.1   \n",
       "\n",
       "    Uncorrected Standard Score  Age-Corrected Standard Score  \\\n",
       "7                        93.00                        103.00   \n",
       "8                        71.00                         85.00   \n",
       "9                        78.00                         93.00   \n",
       "10                       89.00                        105.00   \n",
       "7                        94.00                        109.00   \n",
       "\n",
       "    National Percentile (age adjusted)  Fully-Corrected T-score  \n",
       "7                                59.00                    48.00  \n",
       "8                                16.00                    32.00  \n",
       "9                                32.00                    38.00  \n",
       "10                               62.00                    48.00  \n",
       "7                                73.00                    49.00  "
      ]
     },
     "execution_count": 97,
     "metadata": {},
     "output_type": "execute_result"
    }
   ],
   "source": [
    "comp=comp.dropna(axis=1, how='all')\n",
    "comp.head()"
   ]
  },
  {
   "cell_type": "code",
   "execution_count": 98,
   "metadata": {
    "colab": {
     "base_uri": "https://localhost:8080/"
    },
    "id": "vKAwCqAMvx_Y",
    "outputId": "a8c05b7b-211d-41a7-b23a-3abb9c7818a9"
   },
   "outputs": [
    {
     "data": {
      "text/plain": [
       "array(['Cognition Fluid Composite v1.1',\n",
       "       'Cognition Crystallized Composite v1.1',\n",
       "       'Cognition Total Composite Score v1.1',\n",
       "       'Cognition Early Childhood Composite v1.1'], dtype=object)"
      ]
     },
     "execution_count": 98,
     "metadata": {},
     "output_type": "execute_result"
    }
   ],
   "source": [
    "comp.Inst.unique()"
   ]
  },
  {
   "cell_type": "code",
   "execution_count": 99,
   "metadata": {},
   "outputs": [
    {
     "data": {
      "text/html": [
       "<div>\n",
       "<style scoped>\n",
       "    .dataframe tbody tr th:only-of-type {\n",
       "        vertical-align: middle;\n",
       "    }\n",
       "\n",
       "    .dataframe tbody tr th {\n",
       "        vertical-align: top;\n",
       "    }\n",
       "\n",
       "    .dataframe thead th {\n",
       "        text-align: right;\n",
       "    }\n",
       "</style>\n",
       "<table border=\"1\" class=\"dataframe\">\n",
       "  <thead>\n",
       "    <tr style=\"text-align: right;\">\n",
       "      <th></th>\n",
       "      <th>PIN</th>\n",
       "      <th>Inst</th>\n",
       "      <th>RawScore</th>\n",
       "      <th>Theta</th>\n",
       "      <th>SE</th>\n",
       "      <th>ItmCnt</th>\n",
       "      <th>Computed Score</th>\n",
       "      <th>Uncorrected Standard Score</th>\n",
       "      <th>Age-Corrected Standard Score</th>\n",
       "      <th>National Percentile (age adjusted)</th>\n",
       "      <th>Fully-Corrected T-score</th>\n",
       "      <th>InstrumentBreakoff</th>\n",
       "      <th>InstrumentStatus2</th>\n",
       "    </tr>\n",
       "  </thead>\n",
       "  <tbody>\n",
       "    <tr>\n",
       "      <th>0</th>\n",
       "      <td>EPRC_00380_A</td>\n",
       "      <td>NIH Toolbox Picture Vocabulary Test Age 3+ v2.1</td>\n",
       "      <td>NaN</td>\n",
       "      <td>-1.21</td>\n",
       "      <td>0.48</td>\n",
       "      <td>25.00</td>\n",
       "      <td>NaN</td>\n",
       "      <td>76.00</td>\n",
       "      <td>106.00</td>\n",
       "      <td>66.00</td>\n",
       "      <td>44.00</td>\n",
       "      <td>2.00</td>\n",
       "      <td>3.00</td>\n",
       "    </tr>\n",
       "    <tr>\n",
       "      <th>1</th>\n",
       "      <td>EPRC_00380_A</td>\n",
       "      <td>NIH Toolbox Flanker Inhibitory Control and Att...</td>\n",
       "      <td>19.00</td>\n",
       "      <td>NaN</td>\n",
       "      <td>NaN</td>\n",
       "      <td>24.00</td>\n",
       "      <td>7.24</td>\n",
       "      <td>89.00</td>\n",
       "      <td>94.00</td>\n",
       "      <td>34.00</td>\n",
       "      <td>45.00</td>\n",
       "      <td>2.00</td>\n",
       "      <td>3.00</td>\n",
       "    </tr>\n",
       "    <tr>\n",
       "      <th>2</th>\n",
       "      <td>EPRC_00380_A</td>\n",
       "      <td>NIH Toolbox List Sorting Working Memory Test A...</td>\n",
       "      <td>14.00</td>\n",
       "      <td>NaN</td>\n",
       "      <td>NaN</td>\n",
       "      <td>14.00</td>\n",
       "      <td>NaN</td>\n",
       "      <td>90.00</td>\n",
       "      <td>93.00</td>\n",
       "      <td>33.00</td>\n",
       "      <td>43.00</td>\n",
       "      <td>2.00</td>\n",
       "      <td>3.00</td>\n",
       "    </tr>\n",
       "    <tr>\n",
       "      <th>3</th>\n",
       "      <td>EPRC_00380_A</td>\n",
       "      <td>NIH Toolbox Dimensional Change Card Sort Test ...</td>\n",
       "      <td>29.00</td>\n",
       "      <td>NaN</td>\n",
       "      <td>NaN</td>\n",
       "      <td>38.00</td>\n",
       "      <td>5.92</td>\n",
       "      <td>84.00</td>\n",
       "      <td>87.00</td>\n",
       "      <td>18.00</td>\n",
       "      <td>39.00</td>\n",
       "      <td>2.00</td>\n",
       "      <td>3.00</td>\n",
       "    </tr>\n",
       "    <tr>\n",
       "      <th>4</th>\n",
       "      <td>EPRC_00380_A</td>\n",
       "      <td>NIH Toolbox Pattern Comparison Processing Spee...</td>\n",
       "      <td>27.00</td>\n",
       "      <td>NaN</td>\n",
       "      <td>NaN</td>\n",
       "      <td>30.00</td>\n",
       "      <td>28.00</td>\n",
       "      <td>65.00</td>\n",
       "      <td>68.00</td>\n",
       "      <td>2.00</td>\n",
       "      <td>21.00</td>\n",
       "      <td>2.00</td>\n",
       "      <td>3.00</td>\n",
       "    </tr>\n",
       "    <tr>\n",
       "      <th>5</th>\n",
       "      <td>EPRC_00380_A</td>\n",
       "      <td>NIH Toolbox Picture Sequence Memory Test Age 8...</td>\n",
       "      <td>5.00</td>\n",
       "      <td>-1.69</td>\n",
       "      <td>0.41</td>\n",
       "      <td>6.00</td>\n",
       "      <td>392.43</td>\n",
       "      <td>84.00</td>\n",
       "      <td>85.00</td>\n",
       "      <td>15.00</td>\n",
       "      <td>38.00</td>\n",
       "      <td>2.00</td>\n",
       "      <td>3.00</td>\n",
       "    </tr>\n",
       "    <tr>\n",
       "      <th>6</th>\n",
       "      <td>EPRC_00380_A</td>\n",
       "      <td>NIH Toolbox Oral Reading Recognition Test Age ...</td>\n",
       "      <td>NaN</td>\n",
       "      <td>-5.58</td>\n",
       "      <td>0.50</td>\n",
       "      <td>21.00</td>\n",
       "      <td>NaN</td>\n",
       "      <td>76.00</td>\n",
       "      <td>80.00</td>\n",
       "      <td>10.00</td>\n",
       "      <td>34.00</td>\n",
       "      <td>2.00</td>\n",
       "      <td>3.00</td>\n",
       "    </tr>\n",
       "    <tr>\n",
       "      <th>7</th>\n",
       "      <td>EPRC_00380_A</td>\n",
       "      <td>Cognition Fluid Composite v1.1</td>\n",
       "      <td>NaN</td>\n",
       "      <td>NaN</td>\n",
       "      <td>NaN</td>\n",
       "      <td>NaN</td>\n",
       "      <td>NaN</td>\n",
       "      <td>74.00</td>\n",
       "      <td>76.00</td>\n",
       "      <td>5.00</td>\n",
       "      <td>29.00</td>\n",
       "      <td>NaN</td>\n",
       "      <td>NaN</td>\n",
       "    </tr>\n",
       "    <tr>\n",
       "      <th>8</th>\n",
       "      <td>EPRC_00380_A</td>\n",
       "      <td>Cognition Crystallized Composite v1.1</td>\n",
       "      <td>NaN</td>\n",
       "      <td>NaN</td>\n",
       "      <td>NaN</td>\n",
       "      <td>NaN</td>\n",
       "      <td>NaN</td>\n",
       "      <td>74.00</td>\n",
       "      <td>92.00</td>\n",
       "      <td>30.00</td>\n",
       "      <td>38.00</td>\n",
       "      <td>NaN</td>\n",
       "      <td>NaN</td>\n",
       "    </tr>\n",
       "    <tr>\n",
       "      <th>9</th>\n",
       "      <td>EPRC_00380_A</td>\n",
       "      <td>Cognition Total Composite Score v1.1</td>\n",
       "      <td>NaN</td>\n",
       "      <td>NaN</td>\n",
       "      <td>NaN</td>\n",
       "      <td>NaN</td>\n",
       "      <td>NaN</td>\n",
       "      <td>69.00</td>\n",
       "      <td>80.00</td>\n",
       "      <td>10.00</td>\n",
       "      <td>29.00</td>\n",
       "      <td>NaN</td>\n",
       "      <td>NaN</td>\n",
       "    </tr>\n",
       "    <tr>\n",
       "      <th>10</th>\n",
       "      <td>EPRC_00380_A</td>\n",
       "      <td>Cognition Early Childhood Composite v1.1</td>\n",
       "      <td>NaN</td>\n",
       "      <td>NaN</td>\n",
       "      <td>NaN</td>\n",
       "      <td>NaN</td>\n",
       "      <td>NaN</td>\n",
       "      <td>77.00</td>\n",
       "      <td>89.00</td>\n",
       "      <td>22.00</td>\n",
       "      <td>37.00</td>\n",
       "      <td>NaN</td>\n",
       "      <td>NaN</td>\n",
       "    </tr>\n",
       "  </tbody>\n",
       "</table>\n",
       "</div>"
      ],
      "text/plain": [
       "             PIN                                               Inst  RawScore  \\\n",
       "0   EPRC_00380_A    NIH Toolbox Picture Vocabulary Test Age 3+ v2.1       NaN   \n",
       "1   EPRC_00380_A  NIH Toolbox Flanker Inhibitory Control and Att...     19.00   \n",
       "2   EPRC_00380_A  NIH Toolbox List Sorting Working Memory Test A...     14.00   \n",
       "3   EPRC_00380_A  NIH Toolbox Dimensional Change Card Sort Test ...     29.00   \n",
       "4   EPRC_00380_A  NIH Toolbox Pattern Comparison Processing Spee...     27.00   \n",
       "5   EPRC_00380_A  NIH Toolbox Picture Sequence Memory Test Age 8...      5.00   \n",
       "6   EPRC_00380_A  NIH Toolbox Oral Reading Recognition Test Age ...       NaN   \n",
       "7   EPRC_00380_A                     Cognition Fluid Composite v1.1       NaN   \n",
       "8   EPRC_00380_A              Cognition Crystallized Composite v1.1       NaN   \n",
       "9   EPRC_00380_A               Cognition Total Composite Score v1.1       NaN   \n",
       "10  EPRC_00380_A           Cognition Early Childhood Composite v1.1       NaN   \n",
       "\n",
       "    Theta   SE  ItmCnt  Computed Score  Uncorrected Standard Score  \\\n",
       "0   -1.21 0.48   25.00             NaN                       76.00   \n",
       "1     NaN  NaN   24.00            7.24                       89.00   \n",
       "2     NaN  NaN   14.00             NaN                       90.00   \n",
       "3     NaN  NaN   38.00            5.92                       84.00   \n",
       "4     NaN  NaN   30.00           28.00                       65.00   \n",
       "5   -1.69 0.41    6.00          392.43                       84.00   \n",
       "6   -5.58 0.50   21.00             NaN                       76.00   \n",
       "7     NaN  NaN     NaN             NaN                       74.00   \n",
       "8     NaN  NaN     NaN             NaN                       74.00   \n",
       "9     NaN  NaN     NaN             NaN                       69.00   \n",
       "10    NaN  NaN     NaN             NaN                       77.00   \n",
       "\n",
       "    Age-Corrected Standard Score  National Percentile (age adjusted)  \\\n",
       "0                         106.00                               66.00   \n",
       "1                          94.00                               34.00   \n",
       "2                          93.00                               33.00   \n",
       "3                          87.00                               18.00   \n",
       "4                          68.00                                2.00   \n",
       "5                          85.00                               15.00   \n",
       "6                          80.00                               10.00   \n",
       "7                          76.00                                5.00   \n",
       "8                          92.00                               30.00   \n",
       "9                          80.00                               10.00   \n",
       "10                         89.00                               22.00   \n",
       "\n",
       "    Fully-Corrected T-score  InstrumentBreakoff  InstrumentStatus2  \n",
       "0                     44.00                2.00               3.00  \n",
       "1                     45.00                2.00               3.00  \n",
       "2                     43.00                2.00               3.00  \n",
       "3                     39.00                2.00               3.00  \n",
       "4                     21.00                2.00               3.00  \n",
       "5                     38.00                2.00               3.00  \n",
       "6                     34.00                2.00               3.00  \n",
       "7                     29.00                 NaN                NaN  \n",
       "8                     38.00                 NaN                NaN  \n",
       "9                     29.00                 NaN                NaN  \n",
       "10                    37.00                 NaN                NaN  "
      ]
     },
     "execution_count": 99,
     "metadata": {},
     "output_type": "execute_result"
    }
   ],
   "source": [
    "df[df['PIN']=='EPRC_00380_A']"
   ]
  },
  {
   "cell_type": "code",
   "execution_count": 100,
   "metadata": {
    "id": "S8Zx8UGl87yb"
   },
   "outputs": [],
   "source": [
    "df['Mode'] ='In Person'"
   ]
  },
  {
   "cell_type": "code",
   "execution_count": 101,
   "metadata": {
    "id": "RY4vuD5yrnkW"
   },
   "outputs": [
    {
     "data": {
      "text/plain": [
       "(8, 28)"
      ]
     },
     "metadata": {},
     "output_type": "display_data"
    },
    {
     "data": {
      "text/plain": [
       "(8, 28)"
      ]
     },
     "metadata": {},
     "output_type": "display_data"
    },
    {
     "data": {
      "text/plain": [
       "(8, 28)"
      ]
     },
     "metadata": {},
     "output_type": "display_data"
    },
    {
     "data": {
      "text/plain": [
       "(7, 28)"
      ]
     },
     "metadata": {},
     "output_type": "display_data"
    },
    {
     "data": {
      "text/plain": [
       "(7, 28)"
      ]
     },
     "metadata": {},
     "output_type": "display_data"
    },
    {
     "data": {
      "text/plain": [
       "(8, 28)"
      ]
     },
     "metadata": {},
     "output_type": "display_data"
    },
    {
     "data": {
      "text/plain": [
       "(8, 28)"
      ]
     },
     "metadata": {},
     "output_type": "display_data"
    },
    {
     "data": {
      "text/plain": [
       "(8, 28)"
      ]
     },
     "metadata": {},
     "output_type": "display_data"
    },
    {
     "data": {
      "text/plain": [
       "(8, 28)"
      ]
     },
     "metadata": {},
     "output_type": "display_data"
    },
    {
     "data": {
      "text/plain": [
       "(6, 28)"
      ]
     },
     "metadata": {},
     "output_type": "display_data"
    }
   ],
   "source": [
    "#  get all files from RC Remote subdirectories\n",
    "\n",
    "all_files = glob.glob('C:/Users/tsb7592/Box/Avera NIHTB Data/Rapid City/*/Remote/*CB_Scores_R.csv')\n",
    "\n",
    "doc =[]\n",
    "for file in all_files:\n",
    "    data = pd.read_csv(file)\n",
    "    doc.append(data)\n",
    "    display(data.shape)\n",
    "\n",
    "\n",
    "# get all files from all SF In_person subdirectories\n",
    "all_files = glob.glob('C:/Users/tsb7592/Box/Avera NIHTB Data/Sioux Falls/*/Remote/*CB_Scores_R.csv')\n",
    "\n",
    "for file in all_files:\n",
    "    data = pd.read_csv(file)\n",
    "    doc.append(data)\n",
    "\n",
    "dfr = pd.concat(doc)"
   ]
  },
  {
   "cell_type": "code",
   "execution_count": 102,
   "metadata": {
    "colab": {
     "base_uri": "https://localhost:8080/"
    },
    "id": "605OUi3TrnkY",
    "outputId": "d03fc93f-d622-4f07-de45-53776e2ab2d6"
   },
   "outputs": [
    {
     "data": {
      "text/plain": [
       "(124, 28)"
      ]
     },
     "execution_count": 102,
     "metadata": {},
     "output_type": "execute_result"
    }
   ],
   "source": [
    "dfr.shape"
   ]
  },
  {
   "cell_type": "code",
   "execution_count": 103,
   "metadata": {},
   "outputs": [
    {
     "data": {
      "text/plain": [
       "array(['210406_EPRC_00032_A_8Y', '210415_EPRC_00160_A_8Y',\n",
       "       '210414_EPRC_00162_A_8Y', '210408_EPRC_00173_A_8Y',\n",
       "       '210420_EPRC_00179_A_8Y', '210415_EPRC_00181_A_8Y',\n",
       "       '210415_EPRC_00183_A_8Y', '210426_EPRC_00191_A_8Y',\n",
       "       '120421_EPRC_00380_A_8Y', '210419_EPRC_00550_A_8Y',\n",
       "       '210408_EPSF_00832_A_8Y', '210415_EPSF_00836_A_8Y',\n",
       "       '210409_EPSF_00847_A_8Y', '210409_EPSF_00944_A_8Y',\n",
       "       '210409_EPSF_00944_B_8Y', '210408_EPSF _01666_A_NT_CB'],\n",
       "      dtype=object)"
      ]
     },
     "execution_count": 103,
     "metadata": {},
     "output_type": "execute_result"
    }
   ],
   "source": [
    "dfr['PIN'].unique()"
   ]
  },
  {
   "cell_type": "code",
   "execution_count": 104,
   "metadata": {},
   "outputs": [],
   "source": [
    "dfr['PIN']=dfr['PIN'].replace(' ', '', regex=True)"
   ]
  },
  {
   "cell_type": "code",
   "execution_count": 105,
   "metadata": {
    "id": "LhE6D_sTrnkZ"
   },
   "outputs": [],
   "source": [
    "dfr['PIN'] = dfr['PIN'].str[7:19]"
   ]
  },
  {
   "cell_type": "code",
   "execution_count": 106,
   "metadata": {
    "id": "vLGCb_g_rnka"
   },
   "outputs": [],
   "source": [
    "dfr=dfr[keep]"
   ]
  },
  {
   "cell_type": "code",
   "execution_count": 107,
   "metadata": {
    "id": "XGF23MAQ2Dkw"
   },
   "outputs": [
    {
     "data": {
      "text/html": [
       "<div>\n",
       "<style scoped>\n",
       "    .dataframe tbody tr th:only-of-type {\n",
       "        vertical-align: middle;\n",
       "    }\n",
       "\n",
       "    .dataframe tbody tr th {\n",
       "        vertical-align: top;\n",
       "    }\n",
       "\n",
       "    .dataframe thead th {\n",
       "        text-align: right;\n",
       "    }\n",
       "</style>\n",
       "<table border=\"1\" class=\"dataframe\">\n",
       "  <thead>\n",
       "    <tr style=\"text-align: right;\">\n",
       "      <th></th>\n",
       "      <th>PIN</th>\n",
       "      <th>Inst</th>\n",
       "      <th>RawScore</th>\n",
       "      <th>Theta</th>\n",
       "      <th>SE</th>\n",
       "      <th>ItmCnt</th>\n",
       "      <th>Computed Score</th>\n",
       "      <th>Uncorrected Standard Score</th>\n",
       "      <th>Age-Corrected Standard Score</th>\n",
       "      <th>National Percentile (age adjusted)</th>\n",
       "      <th>Fully-Corrected T-score</th>\n",
       "      <th>InstrumentBreakoff</th>\n",
       "      <th>InstrumentStatus2</th>\n",
       "    </tr>\n",
       "  </thead>\n",
       "  <tbody>\n",
       "    <tr>\n",
       "      <th>0</th>\n",
       "      <td>EPRC_00032_A</td>\n",
       "      <td>NIH Toolbox Picture Vocabulary Test Age 3+ v2.1</td>\n",
       "      <td>NaN</td>\n",
       "      <td>-1.73</td>\n",
       "      <td>0.48</td>\n",
       "      <td>24.00</td>\n",
       "      <td>NaN</td>\n",
       "      <td>74.00</td>\n",
       "      <td>95.00</td>\n",
       "      <td>36.00</td>\n",
       "      <td>44.00</td>\n",
       "      <td>2.00</td>\n",
       "      <td>3.00</td>\n",
       "    </tr>\n",
       "    <tr>\n",
       "      <th>1</th>\n",
       "      <td>EPRC_00032_A</td>\n",
       "      <td>NIH Toolbox Oral Reading Recognition Test Age ...</td>\n",
       "      <td>NaN</td>\n",
       "      <td>-5.00</td>\n",
       "      <td>0.50</td>\n",
       "      <td>22.00</td>\n",
       "      <td>NaN</td>\n",
       "      <td>78.00</td>\n",
       "      <td>80.00</td>\n",
       "      <td>10.00</td>\n",
       "      <td>34.00</td>\n",
       "      <td>2.00</td>\n",
       "      <td>3.00</td>\n",
       "    </tr>\n",
       "    <tr>\n",
       "      <th>2</th>\n",
       "      <td>EPRC_00032_A</td>\n",
       "      <td>NIH Toolbox Pattern Comparison Processing Spee...</td>\n",
       "      <td>34.00</td>\n",
       "      <td>NaN</td>\n",
       "      <td>NaN</td>\n",
       "      <td>37.00</td>\n",
       "      <td>39.00</td>\n",
       "      <td>80.00</td>\n",
       "      <td>86.00</td>\n",
       "      <td>18.00</td>\n",
       "      <td>39.00</td>\n",
       "      <td>2.00</td>\n",
       "      <td>3.00</td>\n",
       "    </tr>\n",
       "    <tr>\n",
       "      <th>3</th>\n",
       "      <td>EPRC_00032_A</td>\n",
       "      <td>NIH Toolbox Picture Sequence Memory Test Age 8...</td>\n",
       "      <td>19.00</td>\n",
       "      <td>0.24</td>\n",
       "      <td>0.31</td>\n",
       "      <td>6.00</td>\n",
       "      <td>585.56</td>\n",
       "      <td>115.00</td>\n",
       "      <td>121.00</td>\n",
       "      <td>92.00</td>\n",
       "      <td>62.00</td>\n",
       "      <td>2.00</td>\n",
       "      <td>3.00</td>\n",
       "    </tr>\n",
       "    <tr>\n",
       "      <th>4</th>\n",
       "      <td>EPRC_00032_A</td>\n",
       "      <td>NIH Toolbox Flanker Inhibitory Control and Att...</td>\n",
       "      <td>20.00</td>\n",
       "      <td>NaN</td>\n",
       "      <td>NaN</td>\n",
       "      <td>24.00</td>\n",
       "      <td>6.79</td>\n",
       "      <td>85.00</td>\n",
       "      <td>83.00</td>\n",
       "      <td>13.00</td>\n",
       "      <td>38.00</td>\n",
       "      <td>2.00</td>\n",
       "      <td>3.00</td>\n",
       "    </tr>\n",
       "  </tbody>\n",
       "</table>\n",
       "</div>"
      ],
      "text/plain": [
       "            PIN                                               Inst  RawScore  \\\n",
       "0  EPRC_00032_A    NIH Toolbox Picture Vocabulary Test Age 3+ v2.1       NaN   \n",
       "1  EPRC_00032_A  NIH Toolbox Oral Reading Recognition Test Age ...       NaN   \n",
       "2  EPRC_00032_A  NIH Toolbox Pattern Comparison Processing Spee...     34.00   \n",
       "3  EPRC_00032_A  NIH Toolbox Picture Sequence Memory Test Age 8...     19.00   \n",
       "4  EPRC_00032_A  NIH Toolbox Flanker Inhibitory Control and Att...     20.00   \n",
       "\n",
       "   Theta   SE  ItmCnt  Computed Score  Uncorrected Standard Score  \\\n",
       "0  -1.73 0.48   24.00             NaN                       74.00   \n",
       "1  -5.00 0.50   22.00             NaN                       78.00   \n",
       "2    NaN  NaN   37.00           39.00                       80.00   \n",
       "3   0.24 0.31    6.00          585.56                      115.00   \n",
       "4    NaN  NaN   24.00            6.79                       85.00   \n",
       "\n",
       "   Age-Corrected Standard Score  National Percentile (age adjusted)  \\\n",
       "0                         95.00                               36.00   \n",
       "1                         80.00                               10.00   \n",
       "2                         86.00                               18.00   \n",
       "3                        121.00                               92.00   \n",
       "4                         83.00                               13.00   \n",
       "\n",
       "   Fully-Corrected T-score  InstrumentBreakoff  InstrumentStatus2  \n",
       "0                    44.00                2.00               3.00  \n",
       "1                    34.00                2.00               3.00  \n",
       "2                    39.00                2.00               3.00  \n",
       "3                    62.00                2.00               3.00  \n",
       "4                    38.00                2.00               3.00  "
      ]
     },
     "execution_count": 107,
     "metadata": {},
     "output_type": "execute_result"
    }
   ],
   "source": [
    "dfr.head()"
   ]
  },
  {
   "cell_type": "code",
   "execution_count": 108,
   "metadata": {
    "id": "UFn7rcBbrnka"
   },
   "outputs": [],
   "source": [
    "#Differentiate the rows contain Composites\n",
    "comp_r =dfr[dfr['Inst'].str.contains(\"Composite\")]\n",
    "raw_r =dfr[~dfr['Inst'].str.contains(\"Composite\")]"
   ]
  },
  {
   "cell_type": "code",
   "execution_count": 109,
   "metadata": {
    "colab": {
     "base_uri": "https://localhost:8080/",
     "height": 306
    },
    "id": "jcCNLKaLrnkb",
    "outputId": "fef02920-ad59-4b50-9354-4e64e058321d"
   },
   "outputs": [
    {
     "data": {
      "text/html": [
       "<div>\n",
       "<style scoped>\n",
       "    .dataframe tbody tr th:only-of-type {\n",
       "        vertical-align: middle;\n",
       "    }\n",
       "\n",
       "    .dataframe tbody tr th {\n",
       "        vertical-align: top;\n",
       "    }\n",
       "\n",
       "    .dataframe thead th {\n",
       "        text-align: right;\n",
       "    }\n",
       "</style>\n",
       "<table border=\"1\" class=\"dataframe\">\n",
       "  <thead>\n",
       "    <tr style=\"text-align: right;\">\n",
       "      <th></th>\n",
       "      <th>PIN</th>\n",
       "      <th>Inst</th>\n",
       "      <th>Uncorrected Standard Score</th>\n",
       "      <th>Age-Corrected Standard Score</th>\n",
       "      <th>National Percentile (age adjusted)</th>\n",
       "      <th>Fully-Corrected T-score</th>\n",
       "    </tr>\n",
       "  </thead>\n",
       "  <tbody>\n",
       "    <tr>\n",
       "      <th>6</th>\n",
       "      <td>EPRC_00032_A</td>\n",
       "      <td>Cognition Crystallized Composite v1.1</td>\n",
       "      <td>74.00</td>\n",
       "      <td>85.00</td>\n",
       "      <td>16.00</td>\n",
       "      <td>38.00</td>\n",
       "    </tr>\n",
       "    <tr>\n",
       "      <th>7</th>\n",
       "      <td>EPRC_00032_A</td>\n",
       "      <td>Cognition Early Childhood Composite v1.1</td>\n",
       "      <td>85.00</td>\n",
       "      <td>98.00</td>\n",
       "      <td>44.00</td>\n",
       "      <td>43.00</td>\n",
       "    </tr>\n",
       "    <tr>\n",
       "      <th>6</th>\n",
       "      <td>EPRC_00160_A</td>\n",
       "      <td>Cognition Crystallized Composite v1.1</td>\n",
       "      <td>83.00</td>\n",
       "      <td>106.00</td>\n",
       "      <td>66.00</td>\n",
       "      <td>51.00</td>\n",
       "    </tr>\n",
       "    <tr>\n",
       "      <th>7</th>\n",
       "      <td>EPRC_00160_A</td>\n",
       "      <td>Cognition Early Childhood Composite v1.1</td>\n",
       "      <td>79.00</td>\n",
       "      <td>92.00</td>\n",
       "      <td>29.00</td>\n",
       "      <td>42.00</td>\n",
       "    </tr>\n",
       "    <tr>\n",
       "      <th>6</th>\n",
       "      <td>EPRC_00162_A</td>\n",
       "      <td>Cognition Crystallized Composite v1.1</td>\n",
       "      <td>81.00</td>\n",
       "      <td>99.00</td>\n",
       "      <td>48.00</td>\n",
       "      <td>46.00</td>\n",
       "    </tr>\n",
       "  </tbody>\n",
       "</table>\n",
       "</div>"
      ],
      "text/plain": [
       "            PIN                                      Inst  \\\n",
       "6  EPRC_00032_A     Cognition Crystallized Composite v1.1   \n",
       "7  EPRC_00032_A  Cognition Early Childhood Composite v1.1   \n",
       "6  EPRC_00160_A     Cognition Crystallized Composite v1.1   \n",
       "7  EPRC_00160_A  Cognition Early Childhood Composite v1.1   \n",
       "6  EPRC_00162_A     Cognition Crystallized Composite v1.1   \n",
       "\n",
       "   Uncorrected Standard Score  Age-Corrected Standard Score  \\\n",
       "6                       74.00                         85.00   \n",
       "7                       85.00                         98.00   \n",
       "6                       83.00                        106.00   \n",
       "7                       79.00                         92.00   \n",
       "6                       81.00                         99.00   \n",
       "\n",
       "   National Percentile (age adjusted)  Fully-Corrected T-score  \n",
       "6                               16.00                    38.00  \n",
       "7                               44.00                    43.00  \n",
       "6                               66.00                    51.00  \n",
       "7                               29.00                    42.00  \n",
       "6                               48.00                    46.00  "
      ]
     },
     "execution_count": 109,
     "metadata": {},
     "output_type": "execute_result"
    }
   ],
   "source": [
    "comp_r=comp_r.dropna(axis=1, how='all')\n",
    "comp_r.head()"
   ]
  },
  {
   "cell_type": "code",
   "execution_count": 110,
   "metadata": {
    "id": "gkOBy6TrUUCI"
   },
   "outputs": [],
   "source": [
    "comp['Mode'] = 'In Person'\n",
    "comp_r['Mode'] = 'Remote'\n",
    "boxp = pd.concat([comp,comp_r]) "
   ]
  },
  {
   "cell_type": "code",
   "execution_count": 111,
   "metadata": {},
   "outputs": [
    {
     "data": {
      "text/html": [
       "<div>\n",
       "<style scoped>\n",
       "    .dataframe tbody tr th:only-of-type {\n",
       "        vertical-align: middle;\n",
       "    }\n",
       "\n",
       "    .dataframe tbody tr th {\n",
       "        vertical-align: top;\n",
       "    }\n",
       "\n",
       "    .dataframe thead th {\n",
       "        text-align: right;\n",
       "    }\n",
       "</style>\n",
       "<table border=\"1\" class=\"dataframe\">\n",
       "  <thead>\n",
       "    <tr style=\"text-align: right;\">\n",
       "      <th></th>\n",
       "      <th>PIN</th>\n",
       "      <th>Inst</th>\n",
       "      <th>RawScore</th>\n",
       "      <th>Theta</th>\n",
       "      <th>SE</th>\n",
       "      <th>ItmCnt</th>\n",
       "      <th>Computed Score</th>\n",
       "      <th>Uncorrected Standard Score</th>\n",
       "      <th>Age-Corrected Standard Score</th>\n",
       "      <th>National Percentile (age adjusted)</th>\n",
       "      <th>Fully-Corrected T-score</th>\n",
       "      <th>InstrumentBreakoff</th>\n",
       "      <th>InstrumentStatus2</th>\n",
       "    </tr>\n",
       "  </thead>\n",
       "  <tbody>\n",
       "    <tr>\n",
       "      <th>0</th>\n",
       "      <td>EPRC_00032_A</td>\n",
       "      <td>NIH Toolbox Picture Vocabulary Test Age 3+ v2.1</td>\n",
       "      <td>NaN</td>\n",
       "      <td>-1.73</td>\n",
       "      <td>0.48</td>\n",
       "      <td>24.00</td>\n",
       "      <td>NaN</td>\n",
       "      <td>74.00</td>\n",
       "      <td>95.00</td>\n",
       "      <td>36.00</td>\n",
       "      <td>44.00</td>\n",
       "      <td>2.00</td>\n",
       "      <td>3.00</td>\n",
       "    </tr>\n",
       "    <tr>\n",
       "      <th>1</th>\n",
       "      <td>EPRC_00032_A</td>\n",
       "      <td>NIH Toolbox Oral Reading Recognition Test Age ...</td>\n",
       "      <td>NaN</td>\n",
       "      <td>-5.00</td>\n",
       "      <td>0.50</td>\n",
       "      <td>22.00</td>\n",
       "      <td>NaN</td>\n",
       "      <td>78.00</td>\n",
       "      <td>80.00</td>\n",
       "      <td>10.00</td>\n",
       "      <td>34.00</td>\n",
       "      <td>2.00</td>\n",
       "      <td>3.00</td>\n",
       "    </tr>\n",
       "    <tr>\n",
       "      <th>2</th>\n",
       "      <td>EPRC_00032_A</td>\n",
       "      <td>NIH Toolbox Pattern Comparison Processing Spee...</td>\n",
       "      <td>34.00</td>\n",
       "      <td>NaN</td>\n",
       "      <td>NaN</td>\n",
       "      <td>37.00</td>\n",
       "      <td>39.00</td>\n",
       "      <td>80.00</td>\n",
       "      <td>86.00</td>\n",
       "      <td>18.00</td>\n",
       "      <td>39.00</td>\n",
       "      <td>2.00</td>\n",
       "      <td>3.00</td>\n",
       "    </tr>\n",
       "    <tr>\n",
       "      <th>3</th>\n",
       "      <td>EPRC_00032_A</td>\n",
       "      <td>NIH Toolbox Picture Sequence Memory Test Age 8...</td>\n",
       "      <td>19.00</td>\n",
       "      <td>0.24</td>\n",
       "      <td>0.31</td>\n",
       "      <td>6.00</td>\n",
       "      <td>585.56</td>\n",
       "      <td>115.00</td>\n",
       "      <td>121.00</td>\n",
       "      <td>92.00</td>\n",
       "      <td>62.00</td>\n",
       "      <td>2.00</td>\n",
       "      <td>3.00</td>\n",
       "    </tr>\n",
       "    <tr>\n",
       "      <th>4</th>\n",
       "      <td>EPRC_00032_A</td>\n",
       "      <td>NIH Toolbox Flanker Inhibitory Control and Att...</td>\n",
       "      <td>20.00</td>\n",
       "      <td>NaN</td>\n",
       "      <td>NaN</td>\n",
       "      <td>24.00</td>\n",
       "      <td>6.79</td>\n",
       "      <td>85.00</td>\n",
       "      <td>83.00</td>\n",
       "      <td>13.00</td>\n",
       "      <td>38.00</td>\n",
       "      <td>2.00</td>\n",
       "      <td>3.00</td>\n",
       "    </tr>\n",
       "  </tbody>\n",
       "</table>\n",
       "</div>"
      ],
      "text/plain": [
       "            PIN                                               Inst  RawScore  \\\n",
       "0  EPRC_00032_A    NIH Toolbox Picture Vocabulary Test Age 3+ v2.1       NaN   \n",
       "1  EPRC_00032_A  NIH Toolbox Oral Reading Recognition Test Age ...       NaN   \n",
       "2  EPRC_00032_A  NIH Toolbox Pattern Comparison Processing Spee...     34.00   \n",
       "3  EPRC_00032_A  NIH Toolbox Picture Sequence Memory Test Age 8...     19.00   \n",
       "4  EPRC_00032_A  NIH Toolbox Flanker Inhibitory Control and Att...     20.00   \n",
       "\n",
       "   Theta   SE  ItmCnt  Computed Score  Uncorrected Standard Score  \\\n",
       "0  -1.73 0.48   24.00             NaN                       74.00   \n",
       "1  -5.00 0.50   22.00             NaN                       78.00   \n",
       "2    NaN  NaN   37.00           39.00                       80.00   \n",
       "3   0.24 0.31    6.00          585.56                      115.00   \n",
       "4    NaN  NaN   24.00            6.79                       85.00   \n",
       "\n",
       "   Age-Corrected Standard Score  National Percentile (age adjusted)  \\\n",
       "0                         95.00                               36.00   \n",
       "1                         80.00                               10.00   \n",
       "2                         86.00                               18.00   \n",
       "3                        121.00                               92.00   \n",
       "4                         83.00                               13.00   \n",
       "\n",
       "   Fully-Corrected T-score  InstrumentBreakoff  InstrumentStatus2  \n",
       "0                    44.00                2.00               3.00  \n",
       "1                    34.00                2.00               3.00  \n",
       "2                    39.00                2.00               3.00  \n",
       "3                    62.00                2.00               3.00  \n",
       "4                    38.00                2.00               3.00  "
      ]
     },
     "execution_count": 111,
     "metadata": {},
     "output_type": "execute_result"
    }
   ],
   "source": [
    "raw_r=raw_r.dropna(axis=1, how='all')\n",
    "raw_r.head()"
   ]
  },
  {
   "cell_type": "code",
   "execution_count": 112,
   "metadata": {
    "id": "vWHUmcRXWkAf"
   },
   "outputs": [],
   "source": [
    "comp_r=comp_r.drop(columns='Mode')"
   ]
  },
  {
   "cell_type": "code",
   "execution_count": 113,
   "metadata": {
    "id": "Q3OGmLOLWuE0"
   },
   "outputs": [],
   "source": [
    "comp=comp.drop(columns='Mode')"
   ]
  },
  {
   "cell_type": "code",
   "execution_count": 114,
   "metadata": {
    "id": "LcBmTt4fsJjP"
   },
   "outputs": [],
   "source": [
    "comp_r.columns =['PIN', 'Inst', 'Uncorrected Standard Score_r',\n",
    "       'Age-Corrected Standard Score_r', 'National Percentile (age adjusted)_r',\n",
    "       'Fully-Corrected T-score_r']"
   ]
  },
  {
   "cell_type": "code",
   "execution_count": 115,
   "metadata": {
    "id": "3X571ZspAkBI"
   },
   "outputs": [],
   "source": [
    "scores = pd.merge(comp, comp_r, on=[\"PIN\",'Inst'])"
   ]
  },
  {
   "cell_type": "code",
   "execution_count": 116,
   "metadata": {
    "id": "KWVTLHvJ1_RR"
   },
   "outputs": [],
   "source": [
    "dfr['Mode'] = 'Remote'"
   ]
  },
  {
   "cell_type": "markdown",
   "metadata": {
    "colab": {
     "base_uri": "https://localhost:8080/"
    },
    "id": "FFoV_Dz_AsY7",
    "outputId": "46ad728f-0846-4b6b-8273-698191e9bc14"
   },
   "source": [
    "# NIH toolbox "
   ]
  },
  {
   "cell_type": "code",
   "execution_count": 117,
   "metadata": {},
   "outputs": [],
   "source": [
    "raw['Mode'] = 'In Person'\n",
    "raw_r['Mode'] = 'Remote'\n",
    "boxr = pd.concat([raw,raw_r]) "
   ]
  },
  {
   "cell_type": "code",
   "execution_count": 118,
   "metadata": {},
   "outputs": [],
   "source": [
    "keep1=['PIN', 'Inst', 'Age-Corrected Standard Score',\n",
    "       'Fully-Corrected T-score']"
   ]
  },
  {
   "cell_type": "code",
   "execution_count": 119,
   "metadata": {},
   "outputs": [
    {
     "data": {
      "text/html": [
       "<div>\n",
       "<style scoped>\n",
       "    .dataframe tbody tr th:only-of-type {\n",
       "        vertical-align: middle;\n",
       "    }\n",
       "\n",
       "    .dataframe tbody tr th {\n",
       "        vertical-align: top;\n",
       "    }\n",
       "\n",
       "    .dataframe thead th {\n",
       "        text-align: right;\n",
       "    }\n",
       "</style>\n",
       "<table border=\"1\" class=\"dataframe\">\n",
       "  <thead>\n",
       "    <tr style=\"text-align: right;\">\n",
       "      <th></th>\n",
       "      <th>PIN</th>\n",
       "      <th>Inst</th>\n",
       "      <th>Age-Corrected Standard Score</th>\n",
       "      <th>Fully-Corrected T-score</th>\n",
       "      <th>Mode</th>\n",
       "    </tr>\n",
       "  </thead>\n",
       "  <tbody>\n",
       "    <tr>\n",
       "      <th>0</th>\n",
       "      <td>EPRC_00032_A</td>\n",
       "      <td>NIH Toolbox Picture Vocabulary Test Age 3+ v2.1</td>\n",
       "      <td>95.00</td>\n",
       "      <td>36.00</td>\n",
       "      <td>In Person</td>\n",
       "    </tr>\n",
       "    <tr>\n",
       "      <th>1</th>\n",
       "      <td>EPRC_00032_A</td>\n",
       "      <td>NIH Toolbox Flanker Inhibitory Control and Att...</td>\n",
       "      <td>94.00</td>\n",
       "      <td>45.00</td>\n",
       "      <td>In Person</td>\n",
       "    </tr>\n",
       "    <tr>\n",
       "      <th>2</th>\n",
       "      <td>EPRC_00032_A</td>\n",
       "      <td>NIH Toolbox List Sorting Working Memory Test A...</td>\n",
       "      <td>108.00</td>\n",
       "      <td>48.00</td>\n",
       "      <td>In Person</td>\n",
       "    </tr>\n",
       "    <tr>\n",
       "      <th>3</th>\n",
       "      <td>EPRC_00032_A</td>\n",
       "      <td>NIH Toolbox Dimensional Change Card Sort Test ...</td>\n",
       "      <td>96.00</td>\n",
       "      <td>46.00</td>\n",
       "      <td>In Person</td>\n",
       "    </tr>\n",
       "    <tr>\n",
       "      <th>4</th>\n",
       "      <td>EPRC_00032_A</td>\n",
       "      <td>NIH Toolbox Pattern Comparison Processing Spee...</td>\n",
       "      <td>86.00</td>\n",
       "      <td>39.00</td>\n",
       "      <td>In Person</td>\n",
       "    </tr>\n",
       "    <tr>\n",
       "      <th>...</th>\n",
       "      <td>...</td>\n",
       "      <td>...</td>\n",
       "      <td>...</td>\n",
       "      <td>...</td>\n",
       "      <td>...</td>\n",
       "    </tr>\n",
       "    <tr>\n",
       "      <th>2</th>\n",
       "      <td>EPSF_01666_A</td>\n",
       "      <td>NIH Toolbox Oral Reading Recognition Test Age ...</td>\n",
       "      <td>NaN</td>\n",
       "      <td>NaN</td>\n",
       "      <td>Remote</td>\n",
       "    </tr>\n",
       "    <tr>\n",
       "      <th>3</th>\n",
       "      <td>EPSF_01666_A</td>\n",
       "      <td>NIH Toolbox Oral Reading Recognition Test Age ...</td>\n",
       "      <td>NaN</td>\n",
       "      <td>NaN</td>\n",
       "      <td>Remote</td>\n",
       "    </tr>\n",
       "    <tr>\n",
       "      <th>4</th>\n",
       "      <td>EPSF_01666_A</td>\n",
       "      <td>NIH Toolbox Pattern Comparison Processing Spee...</td>\n",
       "      <td>104.00</td>\n",
       "      <td>54.00</td>\n",
       "      <td>Remote</td>\n",
       "    </tr>\n",
       "    <tr>\n",
       "      <th>5</th>\n",
       "      <td>EPSF_01666_A</td>\n",
       "      <td>NIH Toolbox Flanker Inhibitory Control and Att...</td>\n",
       "      <td>104.00</td>\n",
       "      <td>46.00</td>\n",
       "      <td>Remote</td>\n",
       "    </tr>\n",
       "    <tr>\n",
       "      <th>6</th>\n",
       "      <td>EPSF_01666_A</td>\n",
       "      <td>NIH Toolbox Dimensional Change Card Sort Test ...</td>\n",
       "      <td>96.00</td>\n",
       "      <td>48.00</td>\n",
       "      <td>Remote</td>\n",
       "    </tr>\n",
       "  </tbody>\n",
       "</table>\n",
       "<p>223 rows × 5 columns</p>\n",
       "</div>"
      ],
      "text/plain": [
       "             PIN                                               Inst  \\\n",
       "0   EPRC_00032_A    NIH Toolbox Picture Vocabulary Test Age 3+ v2.1   \n",
       "1   EPRC_00032_A  NIH Toolbox Flanker Inhibitory Control and Att...   \n",
       "2   EPRC_00032_A  NIH Toolbox List Sorting Working Memory Test A...   \n",
       "3   EPRC_00032_A  NIH Toolbox Dimensional Change Card Sort Test ...   \n",
       "4   EPRC_00032_A  NIH Toolbox Pattern Comparison Processing Spee...   \n",
       "..           ...                                                ...   \n",
       "2   EPSF_01666_A  NIH Toolbox Oral Reading Recognition Test Age ...   \n",
       "3   EPSF_01666_A  NIH Toolbox Oral Reading Recognition Test Age ...   \n",
       "4   EPSF_01666_A  NIH Toolbox Pattern Comparison Processing Spee...   \n",
       "5   EPSF_01666_A  NIH Toolbox Flanker Inhibitory Control and Att...   \n",
       "6   EPSF_01666_A  NIH Toolbox Dimensional Change Card Sort Test ...   \n",
       "\n",
       "    Age-Corrected Standard Score  Fully-Corrected T-score       Mode  \n",
       "0                          95.00                    36.00  In Person  \n",
       "1                          94.00                    45.00  In Person  \n",
       "2                         108.00                    48.00  In Person  \n",
       "3                          96.00                    46.00  In Person  \n",
       "4                          86.00                    39.00  In Person  \n",
       "..                           ...                      ...        ...  \n",
       "2                            NaN                      NaN     Remote  \n",
       "3                            NaN                      NaN     Remote  \n",
       "4                         104.00                    54.00     Remote  \n",
       "5                         104.00                    46.00     Remote  \n",
       "6                          96.00                    48.00     Remote  \n",
       "\n",
       "[223 rows x 5 columns]"
      ]
     },
     "execution_count": 119,
     "metadata": {},
     "output_type": "execute_result"
    }
   ],
   "source": [
    "boxr=boxr[['PIN', 'Inst', 'Age-Corrected Standard Score',\n",
    "       'Fully-Corrected T-score','Mode']]\n",
    "boxr"
   ]
  },
  {
   "cell_type": "code",
   "execution_count": 120,
   "metadata": {},
   "outputs": [
    {
     "data": {
      "text/plain": [
       "Index(['PIN', 'Inst', 'RawScore', 'Theta', 'SE', 'ItmCnt', 'Computed Score',\n",
       "       'Uncorrected Standard Score', 'Age-Corrected Standard Score',\n",
       "       'National Percentile (age adjusted)', 'Fully-Corrected T-score',\n",
       "       'InstrumentBreakoff', 'InstrumentStatus2', 'Mode'],\n",
       "      dtype='object')"
      ]
     },
     "execution_count": 120,
     "metadata": {},
     "output_type": "execute_result"
    }
   ],
   "source": [
    "raw.columns"
   ]
  },
  {
   "cell_type": "code",
   "execution_count": null,
   "metadata": {},
   "outputs": [],
   "source": []
  },
  {
   "cell_type": "code",
   "execution_count": 121,
   "metadata": {},
   "outputs": [],
   "source": [
    "raw=raw[keep1]\n",
    "raw_r = raw_r[keep1]"
   ]
  },
  {
   "cell_type": "code",
   "execution_count": 122,
   "metadata": {},
   "outputs": [],
   "source": [
    "raw_r.columns =['PIN', 'Inst', 'Age-Corrected Standard Score_r',\n",
    "       'Fully-Corrected T-score_r']"
   ]
  },
  {
   "cell_type": "code",
   "execution_count": 123,
   "metadata": {},
   "outputs": [],
   "source": [
    "NIH = pd.merge(raw, raw_r, on=[\"PIN\",'Inst'])"
   ]
  },
  {
   "cell_type": "code",
   "execution_count": 124,
   "metadata": {},
   "outputs": [
    {
     "data": {
      "text/plain": [
       "(223, 5)"
      ]
     },
     "execution_count": 124,
     "metadata": {},
     "output_type": "execute_result"
    }
   ],
   "source": [
    "boxr.shape"
   ]
  },
  {
   "cell_type": "code",
   "execution_count": 125,
   "metadata": {},
   "outputs": [],
   "source": [
    "# calculate the Cohen's d between two samples\n",
    "from numpy.random import randn\n",
    "from numpy.random import seed\n",
    "from numpy import mean\n",
    "from numpy import var\n",
    "from math import sqrt\n",
    " \n",
    "# function to calculate Cohen's d for independent samples\n",
    "def cohend(d1, d2):\n",
    "    # calculate the size of samples\n",
    "    n1, n2 = len(d1), len(d2)\n",
    "    # calculate the variance of the samples\n",
    "    s1, s2 = var(d1, ddof=1), var(d2, ddof=1)\n",
    "    # calculate the pooled standard deviation\n",
    "    s = sqrt(((n1 - 1) * s1 + (n2 - 1) * s2) / (n1 + n2 - 2))\n",
    "    # calculate the means of the samples\n",
    "    u1, u2 = mean(d1), mean(d2)\n",
    "    # calculate the effect size\n",
    "    return (u1 - u2) / s"
   ]
  },
  {
   "cell_type": "code",
   "execution_count": 126,
   "metadata": {},
   "outputs": [
    {
     "data": {
      "text/plain": [
       "In Person    127\n",
       "Remote        96\n",
       "Name: Mode, dtype: int64"
      ]
     },
     "execution_count": 126,
     "metadata": {},
     "output_type": "execute_result"
    }
   ],
   "source": [
    "boxr.Mode.value_counts()"
   ]
  },
  {
   "cell_type": "code",
   "execution_count": 127,
   "metadata": {},
   "outputs": [],
   "source": [
    "boxr[\"Inst\"].replace({'NIH Toolbox Picture Vocabulary Test Age 3+ v2.1':'Pic_Vocabulary',\n",
    "       'NIH Toolbox Flanker Inhibitory Control and Attention Test Ages 8-11 v2.1':'Flanker',\n",
    "       'NIH Toolbox List Sorting Working Memory Test Age 7+ v2.1':'List_Sorting',\n",
    "       'NIH Toolbox Dimensional Change Card Sort Test Ages 8-11 v2.1':'DCCS',\n",
    "       'NIH Toolbox Pattern Comparison Processing Speed Test Age 7+ v2.1':'Pattern_Comp',\n",
    "       'NIH Toolbox Picture Sequence Memory Test Age 8+ Form A v2.1':'Pic_Seq',\n",
    "       'NIH Toolbox Oral Reading Recognition Test Age 3+ v2.1':'Oral_Reading',\n",
    "       'NIH Toolbox Picture Sequence Memory Test Age 8+ Form B v2.1':'Pic_Seq',\n",
    "       'NIH Toolbox Oral Reading Recognition Test Age 3+ Instructions v2.1':'Oral_Reading'}, inplace=True)"
   ]
  },
  {
   "cell_type": "code",
   "execution_count": 128,
   "metadata": {},
   "outputs": [],
   "source": [
    "boxr=boxr[~boxr.Inst.str.contains(\"List_Sorting\")]"
   ]
  },
  {
   "cell_type": "code",
   "execution_count": 129,
   "metadata": {
    "scrolled": true
   },
   "outputs": [
    {
     "data": {
      "text/plain": [
       "[Text(0, 0, 'Pic_Vocabulary'),\n",
       " Text(1, 0, 'Flanker'),\n",
       " Text(2, 0, 'DCCS'),\n",
       " Text(3, 0, 'Pattern_Comp'),\n",
       " Text(4, 0, 'Pic_Seq'),\n",
       " Text(5, 0, 'Oral_Reading')]"
      ]
     },
     "execution_count": 129,
     "metadata": {},
     "output_type": "execute_result"
    },
    {
     "data": {
      "image/png": "[encoded data removed]",
      "text/plain": [
       "<Figure size 576x432 with 1 Axes>"
      ]
     },
     "metadata": {},
     "output_type": "display_data"
    }
   ],
   "source": [
    "plt.figure(figsize=(8, 6))\n",
    "chart =sns.boxplot(x = 'Inst', y = 'Age-Corrected Standard Score', hue='Mode',data = boxr)\n",
    "plt.title('Age-Corrected Standard score')\n",
    "chart.set_xticklabels(chart.get_xticklabels(), rotation=45, horizontalalignment='right')"
   ]
  },
  {
   "cell_type": "code",
   "execution_count": 130,
   "metadata": {
    "scrolled": true
   },
   "outputs": [
    {
     "data": {
      "text/plain": [
       "[Text(0, 0, 'Pic_Vocabulary'),\n",
       " Text(1, 0, 'Flanker'),\n",
       " Text(2, 0, 'DCCS'),\n",
       " Text(3, 0, 'Pattern_Comp'),\n",
       " Text(4, 0, 'Pic_Seq'),\n",
       " Text(5, 0, 'Oral_Reading')]"
      ]
     },
     "execution_count": 130,
     "metadata": {},
     "output_type": "execute_result"
    },
    {
     "data": {
      "image/png": "[encoded data removed]",
      "text/plain": [
       "<Figure size 576x432 with 1 Axes>"
      ]
     },
     "metadata": {},
     "output_type": "display_data"
    }
   ],
   "source": [
    "plt.figure(figsize=(8, 6))\n",
    "chart =sns.boxplot(x = 'Inst', y = 'Fully-Corrected T-score', hue='Mode',data = boxr)\n",
    "plt.title('Fully-Corrected T-score')\n",
    "chart.set_xticklabels(chart.get_xticklabels(), rotation=45, horizontalalignment='right')"
   ]
  },
  {
   "cell_type": "markdown",
   "metadata": {},
   "source": [
    "# multiple ANOVA\n",
    "https://www.marsja.se/python-manova-made-easy-using-statsmodels/"
   ]
  },
  {
   "cell_type": "code",
   "execution_count": 131,
   "metadata": {},
   "outputs": [],
   "source": [
    "from statsmodels.multivariate.manova import MANOVA"
   ]
  },
  {
   "cell_type": "code",
   "execution_count": 132,
   "metadata": {},
   "outputs": [],
   "source": [
    "#Drop this duplicate \n",
    "boxr= boxr[boxr['PIN']!='EPSF_01247_A']"
   ]
  },
  {
   "cell_type": "code",
   "execution_count": 133,
   "metadata": {},
   "outputs": [
    {
     "data": {
      "text/plain": [
       "Inst            Mode     \n",
       "DCCS            In Person    94.50\n",
       "                Remote       98.00\n",
       "Flanker         In Person    98.31\n",
       "                Remote       91.12\n",
       "Oral_Reading    In Person    92.62\n",
       "                Remote       90.93\n",
       "Pattern_Comp    In Person    98.38\n",
       "                Remote      100.43\n",
       "Pic_Seq         In Person   105.50\n",
       "                Remote       97.00\n",
       "Pic_Vocabulary  In Person   105.62\n",
       "                Remote      102.69\n",
       "Name: Age-Corrected Standard Score, dtype: float64"
      ]
     },
     "execution_count": 133,
     "metadata": {},
     "output_type": "execute_result"
    }
   ],
   "source": [
    "boxr.groupby(['Inst','Mode'])['Age-Corrected Standard Score'].mean()"
   ]
  },
  {
   "cell_type": "code",
   "execution_count": 134,
   "metadata": {},
   "outputs": [],
   "source": [
    "boxr.to_csv('C:/Users/tsb7592/Box/Avera NIHTB Data/Subset/ICC_data.csv', index=False)"
   ]
  },
  {
   "cell_type": "code",
   "execution_count": 135,
   "metadata": {},
   "outputs": [],
   "source": [
    "ma=boxr.pivot_table(index=['PIN', 'Mode'], columns='Inst', values='Age-Corrected Standard Score', aggfunc='first').reset_index()\n",
    "mf=boxr.pivot_table(index=['PIN', 'Mode'], columns='Inst', values='Fully-Corrected T-score', aggfunc='first').reset_index()"
   ]
  },
  {
   "cell_type": "code",
   "execution_count": 136,
   "metadata": {
    "scrolled": true
   },
   "outputs": [],
   "source": [
    "#ma=ma.drop(columns=['List_Sorting'])"
   ]
  },
  {
   "cell_type": "code",
   "execution_count": 137,
   "metadata": {},
   "outputs": [],
   "source": [
    "ma =ma.dropna()"
   ]
  },
  {
   "cell_type": "code",
   "execution_count": 138,
   "metadata": {},
   "outputs": [
    {
     "data": {
      "text/plain": [
       "Index(['PIN', 'Mode', 'DCCS', 'Flanker', 'Oral_Reading', 'Pattern_Comp',\n",
       "       'Pic_Seq', 'Pic_Vocabulary'],\n",
       "      dtype='object', name='Inst')"
      ]
     },
     "execution_count": 138,
     "metadata": {},
     "output_type": "execute_result"
    }
   ],
   "source": [
    "ma.columns"
   ]
  },
  {
   "cell_type": "code",
   "execution_count": 139,
   "metadata": {},
   "outputs": [],
   "source": [
    "maov = MANOVA.from_formula('DCCS+ Flanker +Oral_Reading+Pattern_Comp+Pic_Seq+Pic_Vocabulary~ Mode', data=ma)"
   ]
  },
  {
   "cell_type": "code",
   "execution_count": 140,
   "metadata": {},
   "outputs": [
    {
     "name": "stdout",
     "output_type": "stream",
     "text": [
      "***multiple ANOVA ---Aged***\n",
      "                   Multivariate linear model\n",
      "===============================================================\n",
      "                                                               \n",
      "---------------------------------------------------------------\n",
      "       Intercept         Value   Num DF  Den DF F Value  Pr > F\n",
      "---------------------------------------------------------------\n",
      "          Wilks' lambda   0.0072 6.0000 20.0000 461.6966 0.0000\n",
      "         Pillai's trace   0.9928 6.0000 20.0000 461.6966 0.0000\n",
      " Hotelling-Lawley trace 138.5090 6.0000 20.0000 461.6966 0.0000\n",
      "    Roy's greatest root 138.5090 6.0000 20.0000 461.6966 0.0000\n",
      "---------------------------------------------------------------\n",
      "                                                               \n",
      "---------------------------------------------------------------\n",
      "             Mode          Value  Num DF  Den DF F Value Pr > F\n",
      "---------------------------------------------------------------\n",
      "             Wilks' lambda 0.4644 6.0000 20.0000  3.8445 0.0103\n",
      "            Pillai's trace 0.5356 6.0000 20.0000  3.8445 0.0103\n",
      "    Hotelling-Lawley trace 1.1534 6.0000 20.0000  3.8445 0.0103\n",
      "       Roy's greatest root 1.1534 6.0000 20.0000  3.8445 0.0103\n",
      "===============================================================\n",
      "\n",
      "\n"
     ]
    }
   ],
   "source": [
    "print('***multiple ANOVA ---Aged***')\n",
    "print(maov.mv_test())\n",
    "print('')"
   ]
  },
  {
   "cell_type": "code",
   "execution_count": 141,
   "metadata": {},
   "outputs": [],
   "source": [
    "mf =mf.dropna()"
   ]
  },
  {
   "cell_type": "code",
   "execution_count": 142,
   "metadata": {},
   "outputs": [],
   "source": [
    "maov1 = MANOVA.from_formula('DCCS+ Flanker +Oral_Reading+Pattern_Comp+Pic_Seq+Pic_Vocabulary~ Mode', data=mf)"
   ]
  },
  {
   "cell_type": "code",
   "execution_count": 143,
   "metadata": {},
   "outputs": [
    {
     "name": "stdout",
     "output_type": "stream",
     "text": [
      "***multiple ANOVA ---Fully***\n",
      "                  Multivariate linear model\n",
      "==============================================================\n",
      "                                                              \n",
      "--------------------------------------------------------------\n",
      "       Intercept         Value  Num DF  Den DF F Value  Pr > F\n",
      "--------------------------------------------------------------\n",
      "          Wilks' lambda  0.0134 6.0000 20.0000 244.6060 0.0000\n",
      "         Pillai's trace  0.9866 6.0000 20.0000 244.6060 0.0000\n",
      " Hotelling-Lawley trace 73.3818 6.0000 20.0000 244.6060 0.0000\n",
      "    Roy's greatest root 73.3818 6.0000 20.0000 244.6060 0.0000\n",
      "--------------------------------------------------------------\n",
      "                                                              \n",
      "--------------------------------------------------------------\n",
      "            Mode          Value  Num DF  Den DF F Value Pr > F\n",
      "--------------------------------------------------------------\n",
      "            Wilks' lambda 0.4955 6.0000 20.0000  3.3939 0.0179\n",
      "           Pillai's trace 0.5045 6.0000 20.0000  3.3939 0.0179\n",
      "   Hotelling-Lawley trace 1.0182 6.0000 20.0000  3.3939 0.0179\n",
      "      Roy's greatest root 1.0182 6.0000 20.0000  3.3939 0.0179\n",
      "==============================================================\n",
      "\n",
      "\n"
     ]
    }
   ],
   "source": [
    "print('***multiple ANOVA ---Fully***')\n",
    "print(maov1.mv_test())\n",
    "print('')"
   ]
  },
  {
   "cell_type": "code",
   "execution_count": 144,
   "metadata": {},
   "outputs": [],
   "source": [
    "meas =['DCCS','Pic_Vocabulary',\n",
    " 'Flanker',\n",
    " 'Pattern_Comp',\n",
    " 'Pic_Seq',\n",
    " 'Oral_Reading']"
   ]
  },
  {
   "cell_type": "code",
   "execution_count": 145,
   "metadata": {},
   "outputs": [],
   "source": [
    "#!pip3 install pingouin"
   ]
  },
  {
   "cell_type": "code",
   "execution_count": 146,
   "metadata": {},
   "outputs": [],
   "source": [
    "from sklearn.metrics import cohen_kappa_score\n",
    "import pingouin as pg\n",
    "#cohen_kappa_score(labeler1, labeler2)"
   ]
  },
  {
   "cell_type": "code",
   "execution_count": 147,
   "metadata": {},
   "outputs": [],
   "source": [
    "matchcol = ['NIH Toolbox Dimensional Change Card Sort Test Ages 8-11 v2.1',\n",
    "             'NIH Toolbox Picture Vocabulary Test Age 3+ v2.1',\n",
    "       'NIH Toolbox Flanker Inhibitory Control and Attention Test Ages 8-11 v2.1',\n",
    "       'NIH Toolbox Pattern Comparison Processing Speed Test Age 7+ v2.1',\n",
    "       'NIH Toolbox Picture Sequence Memory Test Age 8+ Form A v2.1',\n",
    "       'NIH Toolbox Oral Reading Recognition Test Age 3+ v2.1']"
   ]
  },
  {
   "cell_type": "code",
   "execution_count": 148,
   "metadata": {
    "scrolled": true
   },
   "outputs": [
    {
     "data": {
      "text/html": [
       "<div>\n",
       "<style scoped>\n",
       "    .dataframe tbody tr th:only-of-type {\n",
       "        vertical-align: middle;\n",
       "    }\n",
       "\n",
       "    .dataframe tbody tr th {\n",
       "        vertical-align: top;\n",
       "    }\n",
       "\n",
       "    .dataframe thead th {\n",
       "        text-align: right;\n",
       "    }\n",
       "</style>\n",
       "<table border=\"1\" class=\"dataframe\">\n",
       "  <thead>\n",
       "    <tr style=\"text-align: right;\">\n",
       "      <th></th>\n",
       "      <th>Type</th>\n",
       "      <th>Description</th>\n",
       "      <th>ICC</th>\n",
       "      <th>F</th>\n",
       "      <th>df1</th>\n",
       "      <th>df2</th>\n",
       "      <th>pval</th>\n",
       "      <th>CI95%</th>\n",
       "    </tr>\n",
       "  </thead>\n",
       "  <tbody>\n",
       "    <tr>\n",
       "      <th>3</th>\n",
       "      <td>ICC1k</td>\n",
       "      <td>Average raters absolute</td>\n",
       "      <td>0.69</td>\n",
       "      <td>3.25</td>\n",
       "      <td>5</td>\n",
       "      <td>6</td>\n",
       "      <td>0.09</td>\n",
       "      <td>[-0.84, 0.96]</td>\n",
       "    </tr>\n",
       "    <tr>\n",
       "      <th>5</th>\n",
       "      <td>ICC3k</td>\n",
       "      <td>Average fixed raters</td>\n",
       "      <td>0.72</td>\n",
       "      <td>3.56</td>\n",
       "      <td>5</td>\n",
       "      <td>5</td>\n",
       "      <td>0.09</td>\n",
       "      <td>[-1.01, 0.96]</td>\n",
       "    </tr>\n",
       "  </tbody>\n",
       "</table>\n",
       "</div>"
      ],
      "text/plain": [
       "    Type              Description  ICC    F  df1  df2  pval          CI95%\n",
       "3  ICC1k  Average raters absolute 0.69 3.25    5    6  0.09  [-0.84, 0.96]\n",
       "5  ICC3k     Average fixed raters 0.72 3.56    5    5  0.09  [-1.01, 0.96]"
      ]
     },
     "metadata": {},
     "output_type": "display_data"
    },
    {
     "name": "stdout",
     "output_type": "stream",
     "text": [
      "***Average ICC across all measures - Aged***\n",
      "ICC Average raters absolute 0.69 [-0.84  0.96]\n",
      "ICC Average fixed raters 0.72 [-1.01  0.96]\n",
      "\n"
     ]
    }
   ],
   "source": [
    "aicc = pg.intraclass_corr(data=boxr, targets='Inst', raters='Mode',ratings='Age-Corrected Standard Score', nan_policy='omit')\n",
    "display(aicc.loc[[3,5]])\n",
    "print('***Average ICC across all measures - Aged***')\n",
    "print('ICC Average raters absolute', round(aicc.loc[3]['ICC'],2), aicc.loc[3]['CI95%'])\n",
    "print('ICC Average fixed raters', round(aicc.loc[5]['ICC'],2), aicc.loc[5]['CI95%'])\n",
    "print('')"
   ]
  },
  {
   "cell_type": "code",
   "execution_count": 149,
   "metadata": {},
   "outputs": [
    {
     "data": {
      "text/html": [
       "<div>\n",
       "<style scoped>\n",
       "    .dataframe tbody tr th:only-of-type {\n",
       "        vertical-align: middle;\n",
       "    }\n",
       "\n",
       "    .dataframe tbody tr th {\n",
       "        vertical-align: top;\n",
       "    }\n",
       "\n",
       "    .dataframe thead th {\n",
       "        text-align: right;\n",
       "    }\n",
       "</style>\n",
       "<table border=\"1\" class=\"dataframe\">\n",
       "  <thead>\n",
       "    <tr style=\"text-align: right;\">\n",
       "      <th></th>\n",
       "      <th>Type</th>\n",
       "      <th>Description</th>\n",
       "      <th>ICC</th>\n",
       "      <th>F</th>\n",
       "      <th>df1</th>\n",
       "      <th>df2</th>\n",
       "      <th>pval</th>\n",
       "      <th>CI95%</th>\n",
       "    </tr>\n",
       "  </thead>\n",
       "  <tbody>\n",
       "    <tr>\n",
       "      <th>3</th>\n",
       "      <td>ICC1k</td>\n",
       "      <td>Average raters absolute</td>\n",
       "      <td>0.65</td>\n",
       "      <td>2.83</td>\n",
       "      <td>5</td>\n",
       "      <td>6</td>\n",
       "      <td>0.12</td>\n",
       "      <td>[-1.11, 0.95]</td>\n",
       "    </tr>\n",
       "    <tr>\n",
       "      <th>5</th>\n",
       "      <td>ICC3k</td>\n",
       "      <td>Average fixed raters</td>\n",
       "      <td>0.62</td>\n",
       "      <td>2.63</td>\n",
       "      <td>5</td>\n",
       "      <td>5</td>\n",
       "      <td>0.16</td>\n",
       "      <td>[-1.72, 0.95]</td>\n",
       "    </tr>\n",
       "  </tbody>\n",
       "</table>\n",
       "</div>"
      ],
      "text/plain": [
       "    Type              Description  ICC    F  df1  df2  pval          CI95%\n",
       "3  ICC1k  Average raters absolute 0.65 2.83    5    6  0.12  [-1.11, 0.95]\n",
       "5  ICC3k     Average fixed raters 0.62 2.63    5    5  0.16  [-1.72, 0.95]"
      ]
     },
     "metadata": {},
     "output_type": "display_data"
    },
    {
     "name": "stdout",
     "output_type": "stream",
     "text": [
      "***Average ICC across all measures - Fully***\n",
      "ICC Average raters absolute 0.65 [-1.11  0.95]\n",
      "ICC Average fixed raters 0.62 [-1.72  0.95]\n",
      "\n"
     ]
    }
   ],
   "source": [
    "ficc = pg.intraclass_corr(data=boxr, targets='Inst', raters='Mode',ratings='Fully-Corrected T-score', nan_policy='omit')\n",
    "display(ficc.loc[[3,5]])\n",
    "print('***Average ICC across all measures - Fully***')\n",
    "print('ICC Average raters absolute', round(ficc.loc[3]['ICC'],2), ficc.loc[3]['CI95%'])\n",
    "print('ICC Average fixed raters', round(ficc.loc[5]['ICC'],2), ficc.loc[5]['CI95%'])\n",
    "print('')"
   ]
  },
  {
   "cell_type": "markdown",
   "metadata": {
    "id": "hhY6lrFT-q6a"
   },
   "source": [
    "# a.\tA matched t-test for those who have both in-person and remote "
   ]
  },
  {
   "cell_type": "code",
   "execution_count": 150,
   "metadata": {},
   "outputs": [],
   "source": [
    "def matched_ttest(data, match = None):\n",
    "    if not match:\n",
    "        match = list(data.Inst.unique())\n",
    "    for i in range(len(match)):\n",
    "        subset=boxr.set_index('Inst').filter(like=meas[i], axis=0)\n",
    "        subset = subset.dropna()\n",
    "        icc = pg.intraclass_corr(data=subset, targets='PIN', raters='Mode',ratings='Age-Corrected Standard Score', nan_policy='omit')\n",
    "        icc2 = pg.intraclass_corr(data=subset, targets='PIN', raters='Mode',ratings='Fully-Corrected T-score', nan_policy='omit')\n",
    "        minst = match[i]\n",
    "        print('-',minst,'-')\n",
    "        subset=data.set_index('Inst').filter(like=minst, axis=0)\n",
    "        subset = subset.dropna()\n",
    "        a =np.array(subset['Age-Corrected Standard Score'])\n",
    "        b =np.array(subset['Age-Corrected Standard Score_r'])\n",
    "        c =np.array(subset['Fully-Corrected T-score'])\n",
    "        d =np.array(subset['Fully-Corrected T-score_r'])                \n",
    "        \n",
    "        print('Age R:', round(b.mean(),2) , '(',round(stdev(b),2),')')\n",
    "        print('Age:', round(a.mean(),2) , '(',round(stdev(a),2),')')\n",
    "        print('Aged cohen %6.2f' % cohend(a, b))\n",
    "        print('Aged: ICC Average raters absolute', round(icc.loc[3]['ICC'],2), icc.loc[3]['CI95%'])\n",
    "        print('Fully R:', round(d.mean(),2) , '(',round(stdev(d),2),')')\n",
    "        print('Fully:', round(c.mean(),2) , '(',round(stdev(c),2),')')\n",
    "        print('Fully cohen %6.2f' % cohend(c, d))\n",
    "        print('Fully: ICC Average raters absolute', round(icc2.loc[3]['ICC'],2), icc2.loc[3]['CI95%'])\n",
    "        print('')\n",
    "        display(subset.head(1))\n",
    "        display(subset['PIN'].unique())\n",
    "        print('1. matched t-test:')\n",
    "        print('Degree of freedom:', len(a)-1)\n",
    "        print('Age mean score diff',round(b.mean()-a.mean(),2))\n",
    "        print('Aged: t-statistic = %6.2f, pvalue = %6.3f' %  stats.ttest_ind(a, b, equal_var = False))\n",
    "        print('Fully mean score diff',round(d.mean()-c.mean(),2))\n",
    "        print('Fully: t-statistic = %6.2f, pvalue = %6.3f' % stats.ttest_ind(c, d, equal_var = False))\n",
    "        print('')\n",
    "        print('2. Correlations between in person and remote:')\n",
    "        print('Aged: correlation = %6.2f, pvalue = %6.3f' % stats.pearsonr(a, b))\n",
    "        print('Fully: correlation = %6.2f, pvalue = %6.3f' %stats.pearsonr(c,d))\n",
    "        print('')  \n",
    "        print('3. Does it take longer for remote vs. in-person? two-sided test')\n",
    "        print('Aged: t-statistic = %6.2f pvalue = %6.3f' % stats.wilcoxon(a,b))\n",
    "        print('Fully: t-statistic = %6.2f pvalue = %6.3f' % stats.wilcoxon(c, d))\n",
    "        print('')\n",
    "       # g = sns.jointplot(x=\"Age-Corrected Standard Score\", y=\"Age-Corrected Standard Score_r\", data=subset, kind=\"reg\", truncate=False,color=\"y\", height=7)\n",
    "        #g.fig.suptitle(minst)\n",
    "        print('')\n",
    "        #g = sns.jointplot(x=\"Fully-Corrected T-score\", y=\"Fully-Corrected T-score_r\", data=subset, kind=\"reg\", truncate=False,color=\"r\", height=7)\n",
    "       # g.fig.suptitle(minst)\n",
    "        print('')\n",
    "    return"
   ]
  },
  {
   "cell_type": "code",
   "execution_count": 151,
   "metadata": {},
   "outputs": [],
   "source": [
    "NIH.to_csv('C:/Users/tsb7592/Box/Avera NIHTB Data/Subset/NIH.csv', index=False)"
   ]
  },
  {
   "cell_type": "code",
   "execution_count": 153,
   "metadata": {
    "scrolled": true
   },
   "outputs": [
    {
     "name": "stdout",
     "output_type": "stream",
     "text": [
      "***NIH: A matched t-test for those who have both in-person and remote***\n",
      "\n",
      "- NIH Toolbox Dimensional Change Card Sort Test Ages 8-11 v2.1 -\n",
      "Age R: 98.0 ( 14.39 )\n",
      "Age: 94.5 ( 7.07 )\n",
      "Aged cohen  -0.31\n",
      "Aged: ICC Average raters absolute 0.45 [-0.54  0.81]\n",
      "Fully R: 47.0 ( 8.57 )\n",
      "Fully: 44.62 ( 4.6 )\n",
      "Fully cohen  -0.35\n",
      "Fully: ICC Average raters absolute 0.52 [-0.34  0.83]\n",
      "\n"
     ]
    },
    {
     "data": {
      "text/html": [
       "<div>\n",
       "<style scoped>\n",
       "    .dataframe tbody tr th:only-of-type {\n",
       "        vertical-align: middle;\n",
       "    }\n",
       "\n",
       "    .dataframe tbody tr th {\n",
       "        vertical-align: top;\n",
       "    }\n",
       "\n",
       "    .dataframe thead th {\n",
       "        text-align: right;\n",
       "    }\n",
       "</style>\n",
       "<table border=\"1\" class=\"dataframe\">\n",
       "  <thead>\n",
       "    <tr style=\"text-align: right;\">\n",
       "      <th></th>\n",
       "      <th>PIN</th>\n",
       "      <th>Age-Corrected Standard Score</th>\n",
       "      <th>Fully-Corrected T-score</th>\n",
       "      <th>Age-Corrected Standard Score_r</th>\n",
       "      <th>Fully-Corrected T-score_r</th>\n",
       "    </tr>\n",
       "    <tr>\n",
       "      <th>Inst</th>\n",
       "      <th></th>\n",
       "      <th></th>\n",
       "      <th></th>\n",
       "      <th></th>\n",
       "      <th></th>\n",
       "    </tr>\n",
       "  </thead>\n",
       "  <tbody>\n",
       "    <tr>\n",
       "      <th>NIH Toolbox Dimensional Change Card Sort Test Ages 8-11 v2.1</th>\n",
       "      <td>EPRC_00032_A</td>\n",
       "      <td>96.00</td>\n",
       "      <td>46.00</td>\n",
       "      <td>96.00</td>\n",
       "      <td>39.00</td>\n",
       "    </tr>\n",
       "  </tbody>\n",
       "</table>\n",
       "</div>"
      ],
      "text/plain": [
       "                                                             PIN  \\\n",
       "Inst                                                               \n",
       "NIH Toolbox Dimensional Change Card Sort Test A...  EPRC_00032_A   \n",
       "\n",
       "                                                    Age-Corrected Standard Score  \\\n",
       "Inst                                                                               \n",
       "NIH Toolbox Dimensional Change Card Sort Test A...                         96.00   \n",
       "\n",
       "                                                    Fully-Corrected T-score  \\\n",
       "Inst                                                                          \n",
       "NIH Toolbox Dimensional Change Card Sort Test A...                    46.00   \n",
       "\n",
       "                                                    Age-Corrected Standard Score_r  \\\n",
       "Inst                                                                                 \n",
       "NIH Toolbox Dimensional Change Card Sort Test A...                           96.00   \n",
       "\n",
       "                                                    Fully-Corrected T-score_r  \n",
       "Inst                                                                           \n",
       "NIH Toolbox Dimensional Change Card Sort Test A...                      39.00  "
      ]
     },
     "metadata": {},
     "output_type": "display_data"
    },
    {
     "data": {
      "text/plain": [
       "array(['EPRC_00032_A', 'EPRC_00160_A', 'EPRC_00162_A', 'EPRC_00173_A',\n",
       "       'EPRC_00179_A', 'EPRC_00181_A', 'EPRC_00183_A', 'EPRC_00191_A',\n",
       "       'EPRC_00380_A', 'EPRC_00550_A', 'EPSF_00832_A', 'EPSF_00836_A',\n",
       "       'EPSF_00847_A', 'EPSF_00944_B', 'EPSF_00944_A', 'EPSF_01666_A'],\n",
       "      dtype=object)"
      ]
     },
     "metadata": {},
     "output_type": "display_data"
    },
    {
     "name": "stdout",
     "output_type": "stream",
     "text": [
      "1. matched t-test:\n",
      "Degree of freedom: 15\n",
      "Age mean score diff 3.5\n",
      "Aged: t-statistic =  -0.87, pvalue =  0.392\n",
      "Fully mean score diff 2.38\n",
      "Fully: t-statistic =  -0.98, pvalue =  0.339\n",
      "\n",
      "2. Correlations between in person and remote:\n",
      "Aged: correlation =   0.37, pvalue =  0.161\n",
      "Fully: correlation =   0.44, pvalue =  0.090\n",
      "\n",
      "3. Does it take longer for remote vs. in-person? two-sided test\n",
      "Aged: t-statistic =  14.50 pvalue =  0.618\n",
      "Fully: t-statistic =  14.00 pvalue =  0.308\n",
      "\n",
      "\n",
      "\n",
      "- NIH Toolbox Picture Vocabulary Test Age 3+ v2.1 -\n",
      "Age R: 102.69 ( 12.52 )\n",
      "Age: 105.62 ( 10.74 )\n",
      "Aged cohen   0.25\n",
      "Aged: ICC Average raters absolute 0.77 [0.36 0.92]\n",
      "Fully R: 50.31 ( 7.46 )\n",
      "Fully: 49.56 ( 8.18 )\n",
      "Fully cohen  -0.10\n",
      "Fully: ICC Average raters absolute 0.72 [0.22 0.9 ]\n",
      "\n"
     ]
    },
    {
     "name": "stderr",
     "output_type": "stream",
     "text": [
      "C:\\Users\\tsb7592\\Anaconda3\\lib\\site-packages\\scipy\\stats\\morestats.py:2967: UserWarning: Exact p-value calculation does not work if there are ties. Switching to normal approximation.\n",
      "  warnings.warn(\"Exact p-value calculation does not work if there are \"\n",
      "C:\\Users\\tsb7592\\Anaconda3\\lib\\site-packages\\scipy\\stats\\morestats.py:2981: UserWarning: Sample size too small for normal approximation.\n",
      "  warnings.warn(\"Sample size too small for normal approximation.\")\n"
     ]
    },
    {
     "data": {
      "text/html": [
       "<div>\n",
       "<style scoped>\n",
       "    .dataframe tbody tr th:only-of-type {\n",
       "        vertical-align: middle;\n",
       "    }\n",
       "\n",
       "    .dataframe tbody tr th {\n",
       "        vertical-align: top;\n",
       "    }\n",
       "\n",
       "    .dataframe thead th {\n",
       "        text-align: right;\n",
       "    }\n",
       "</style>\n",
       "<table border=\"1\" class=\"dataframe\">\n",
       "  <thead>\n",
       "    <tr style=\"text-align: right;\">\n",
       "      <th></th>\n",
       "      <th>PIN</th>\n",
       "      <th>Age-Corrected Standard Score</th>\n",
       "      <th>Fully-Corrected T-score</th>\n",
       "      <th>Age-Corrected Standard Score_r</th>\n",
       "      <th>Fully-Corrected T-score_r</th>\n",
       "    </tr>\n",
       "    <tr>\n",
       "      <th>Inst</th>\n",
       "      <th></th>\n",
       "      <th></th>\n",
       "      <th></th>\n",
       "      <th></th>\n",
       "      <th></th>\n",
       "    </tr>\n",
       "  </thead>\n",
       "  <tbody>\n",
       "    <tr>\n",
       "      <th>NIH Toolbox Picture Vocabulary Test Age 3+ v2.1</th>\n",
       "      <td>EPRC_00032_A</td>\n",
       "      <td>95.00</td>\n",
       "      <td>36.00</td>\n",
       "      <td>95.00</td>\n",
       "      <td>44.00</td>\n",
       "    </tr>\n",
       "  </tbody>\n",
       "</table>\n",
       "</div>"
      ],
      "text/plain": [
       "                                                          PIN  \\\n",
       "Inst                                                            \n",
       "NIH Toolbox Picture Vocabulary Test Age 3+ v2.1  EPRC_00032_A   \n",
       "\n",
       "                                                 Age-Corrected Standard Score  \\\n",
       "Inst                                                                            \n",
       "NIH Toolbox Picture Vocabulary Test Age 3+ v2.1                         95.00   \n",
       "\n",
       "                                                 Fully-Corrected T-score  \\\n",
       "Inst                                                                       \n",
       "NIH Toolbox Picture Vocabulary Test Age 3+ v2.1                    36.00   \n",
       "\n",
       "                                                 Age-Corrected Standard Score_r  \\\n",
       "Inst                                                                              \n",
       "NIH Toolbox Picture Vocabulary Test Age 3+ v2.1                           95.00   \n",
       "\n",
       "                                                 Fully-Corrected T-score_r  \n",
       "Inst                                                                        \n",
       "NIH Toolbox Picture Vocabulary Test Age 3+ v2.1                      44.00  "
      ]
     },
     "metadata": {},
     "output_type": "display_data"
    },
    {
     "data": {
      "text/plain": [
       "array(['EPRC_00032_A', 'EPRC_00160_A', 'EPRC_00162_A', 'EPRC_00173_A',\n",
       "       'EPRC_00179_A', 'EPRC_00181_A', 'EPRC_00183_A', 'EPRC_00191_A',\n",
       "       'EPRC_00380_A', 'EPRC_00550_A', 'EPSF_00832_A', 'EPSF_00836_A',\n",
       "       'EPSF_00847_A', 'EPSF_00944_B', 'EPSF_00944_A', 'EPSF_01666_A'],\n",
       "      dtype=object)"
      ]
     },
     "metadata": {},
     "output_type": "display_data"
    },
    {
     "name": "stdout",
     "output_type": "stream",
     "text": [
      "1. matched t-test:\n",
      "Degree of freedom: 15\n",
      "Age mean score diff -2.94\n",
      "Aged: t-statistic =   0.71, pvalue =  0.482\n",
      "Fully mean score diff 0.75\n",
      "Fully: t-statistic =  -0.27, pvalue =  0.788\n",
      "\n",
      "2. Correlations between in person and remote:\n",
      "Aged: correlation =   0.64, pvalue =  0.007\n",
      "Fully: correlation =   0.55, pvalue =  0.029\n",
      "\n",
      "3. Does it take longer for remote vs. in-person? two-sided test\n",
      "Aged: t-statistic =   5.00 pvalue =  0.246\n",
      "Fully: t-statistic =  20.50 pvalue =  0.812\n",
      "\n",
      "\n",
      "\n"
     ]
    },
    {
     "name": "stderr",
     "output_type": "stream",
     "text": [
      "C:\\Users\\tsb7592\\Anaconda3\\lib\\site-packages\\scipy\\stats\\morestats.py:2967: UserWarning: Exact p-value calculation does not work if there are ties. Switching to normal approximation.\n",
      "  warnings.warn(\"Exact p-value calculation does not work if there are \"\n",
      "C:\\Users\\tsb7592\\Anaconda3\\lib\\site-packages\\scipy\\stats\\morestats.py:2981: UserWarning: Sample size too small for normal approximation.\n",
      "  warnings.warn(\"Sample size too small for normal approximation.\")\n"
     ]
    },
    {
     "name": "stdout",
     "output_type": "stream",
     "text": [
      "- NIH Toolbox Flanker Inhibitory Control and Attention Test Ages 8-11 v2.1 -\n",
      "Age R: 91.12 ( 11.82 )\n",
      "Age: 98.31 ( 7.41 )\n",
      "Aged cohen   0.73\n",
      "Aged: ICC Average raters absolute 0.5 [-0.38  0.83]\n",
      "Fully R: 42.19 ( 8.17 )\n",
      "Fully: 46.75 ( 5.88 )\n",
      "Fully cohen   0.64\n",
      "Fully: ICC Average raters absolute 0.37 [-0.77  0.78]\n",
      "\n"
     ]
    },
    {
     "data": {
      "text/html": [
       "<div>\n",
       "<style scoped>\n",
       "    .dataframe tbody tr th:only-of-type {\n",
       "        vertical-align: middle;\n",
       "    }\n",
       "\n",
       "    .dataframe tbody tr th {\n",
       "        vertical-align: top;\n",
       "    }\n",
       "\n",
       "    .dataframe thead th {\n",
       "        text-align: right;\n",
       "    }\n",
       "</style>\n",
       "<table border=\"1\" class=\"dataframe\">\n",
       "  <thead>\n",
       "    <tr style=\"text-align: right;\">\n",
       "      <th></th>\n",
       "      <th>PIN</th>\n",
       "      <th>Age-Corrected Standard Score</th>\n",
       "      <th>Fully-Corrected T-score</th>\n",
       "      <th>Age-Corrected Standard Score_r</th>\n",
       "      <th>Fully-Corrected T-score_r</th>\n",
       "    </tr>\n",
       "    <tr>\n",
       "      <th>Inst</th>\n",
       "      <th></th>\n",
       "      <th></th>\n",
       "      <th></th>\n",
       "      <th></th>\n",
       "      <th></th>\n",
       "    </tr>\n",
       "  </thead>\n",
       "  <tbody>\n",
       "    <tr>\n",
       "      <th>NIH Toolbox Flanker Inhibitory Control and Attention Test Ages 8-11 v2.1</th>\n",
       "      <td>EPRC_00032_A</td>\n",
       "      <td>94.00</td>\n",
       "      <td>45.00</td>\n",
       "      <td>83.00</td>\n",
       "      <td>38.00</td>\n",
       "    </tr>\n",
       "  </tbody>\n",
       "</table>\n",
       "</div>"
      ],
      "text/plain": [
       "                                                             PIN  \\\n",
       "Inst                                                               \n",
       "NIH Toolbox Flanker Inhibitory Control and Atte...  EPRC_00032_A   \n",
       "\n",
       "                                                    Age-Corrected Standard Score  \\\n",
       "Inst                                                                               \n",
       "NIH Toolbox Flanker Inhibitory Control and Atte...                         94.00   \n",
       "\n",
       "                                                    Fully-Corrected T-score  \\\n",
       "Inst                                                                          \n",
       "NIH Toolbox Flanker Inhibitory Control and Atte...                    45.00   \n",
       "\n",
       "                                                    Age-Corrected Standard Score_r  \\\n",
       "Inst                                                                                 \n",
       "NIH Toolbox Flanker Inhibitory Control and Atte...                           83.00   \n",
       "\n",
       "                                                    Fully-Corrected T-score_r  \n",
       "Inst                                                                           \n",
       "NIH Toolbox Flanker Inhibitory Control and Atte...                      38.00  "
      ]
     },
     "metadata": {},
     "output_type": "display_data"
    },
    {
     "data": {
      "text/plain": [
       "array(['EPRC_00032_A', 'EPRC_00160_A', 'EPRC_00162_A', 'EPRC_00173_A',\n",
       "       'EPRC_00179_A', 'EPRC_00181_A', 'EPRC_00183_A', 'EPRC_00191_A',\n",
       "       'EPRC_00380_A', 'EPRC_00550_A', 'EPSF_00832_A', 'EPSF_00836_A',\n",
       "       'EPSF_00847_A', 'EPSF_00944_B', 'EPSF_00944_A', 'EPSF_01666_A'],\n",
       "      dtype=object)"
      ]
     },
     "metadata": {},
     "output_type": "display_data"
    },
    {
     "name": "stdout",
     "output_type": "stream",
     "text": [
      "1. matched t-test:\n",
      "Degree of freedom: 15\n",
      "Age mean score diff -7.19\n",
      "Aged: t-statistic =   2.06, pvalue =  0.050\n",
      "Fully mean score diff -4.56\n",
      "Fully: t-statistic =   1.81, pvalue =  0.081\n",
      "\n",
      "2. Correlations between in person and remote:\n",
      "Aged: correlation =   0.55, pvalue =  0.028\n",
      "Fully: correlation =   0.34, pvalue =  0.197\n",
      "\n",
      "3. Does it take longer for remote vs. in-person? two-sided test\n",
      "Aged: t-statistic =  11.00 pvalue =  0.026\n",
      "Fully: t-statistic =  11.00 pvalue =  0.046\n",
      "\n",
      "\n",
      "\n"
     ]
    },
    {
     "name": "stderr",
     "output_type": "stream",
     "text": [
      "C:\\Users\\tsb7592\\Anaconda3\\lib\\site-packages\\scipy\\stats\\morestats.py:2967: UserWarning: Exact p-value calculation does not work if there are ties. Switching to normal approximation.\n",
      "  warnings.warn(\"Exact p-value calculation does not work if there are \"\n"
     ]
    },
    {
     "name": "stdout",
     "output_type": "stream",
     "text": [
      "- NIH Toolbox Pattern Comparison Processing Speed Test Age 7+ v2.1 -\n",
      "Age R: 100.43 ( 22.05 )\n",
      "Age: 100.14 ( 21.38 )\n",
      "Aged cohen  -0.01\n",
      "Aged: ICC Average raters absolute 0.83 [0.47 0.94]\n",
      "Fully R: 48.57 ( 13.36 )\n",
      "Fully: 48.21 ( 15.12 )\n",
      "Fully cohen  -0.03\n",
      "Fully: ICC Average raters absolute 0.81 [0.42 0.94]\n",
      "\n"
     ]
    },
    {
     "data": {
      "text/html": [
       "<div>\n",
       "<style scoped>\n",
       "    .dataframe tbody tr th:only-of-type {\n",
       "        vertical-align: middle;\n",
       "    }\n",
       "\n",
       "    .dataframe tbody tr th {\n",
       "        vertical-align: top;\n",
       "    }\n",
       "\n",
       "    .dataframe thead th {\n",
       "        text-align: right;\n",
       "    }\n",
       "</style>\n",
       "<table border=\"1\" class=\"dataframe\">\n",
       "  <thead>\n",
       "    <tr style=\"text-align: right;\">\n",
       "      <th></th>\n",
       "      <th>PIN</th>\n",
       "      <th>Age-Corrected Standard Score</th>\n",
       "      <th>Fully-Corrected T-score</th>\n",
       "      <th>Age-Corrected Standard Score_r</th>\n",
       "      <th>Fully-Corrected T-score_r</th>\n",
       "    </tr>\n",
       "    <tr>\n",
       "      <th>Inst</th>\n",
       "      <th></th>\n",
       "      <th></th>\n",
       "      <th></th>\n",
       "      <th></th>\n",
       "      <th></th>\n",
       "    </tr>\n",
       "  </thead>\n",
       "  <tbody>\n",
       "    <tr>\n",
       "      <th>NIH Toolbox Pattern Comparison Processing Speed Test Age 7+ v2.1</th>\n",
       "      <td>EPRC_00032_A</td>\n",
       "      <td>86.00</td>\n",
       "      <td>39.00</td>\n",
       "      <td>86.00</td>\n",
       "      <td>39.00</td>\n",
       "    </tr>\n",
       "  </tbody>\n",
       "</table>\n",
       "</div>"
      ],
      "text/plain": [
       "                                                             PIN  \\\n",
       "Inst                                                               \n",
       "NIH Toolbox Pattern Comparison Processing Speed...  EPRC_00032_A   \n",
       "\n",
       "                                                    Age-Corrected Standard Score  \\\n",
       "Inst                                                                               \n",
       "NIH Toolbox Pattern Comparison Processing Speed...                         86.00   \n",
       "\n",
       "                                                    Fully-Corrected T-score  \\\n",
       "Inst                                                                          \n",
       "NIH Toolbox Pattern Comparison Processing Speed...                    39.00   \n",
       "\n",
       "                                                    Age-Corrected Standard Score_r  \\\n",
       "Inst                                                                                 \n",
       "NIH Toolbox Pattern Comparison Processing Speed...                           86.00   \n",
       "\n",
       "                                                    Fully-Corrected T-score_r  \n",
       "Inst                                                                           \n",
       "NIH Toolbox Pattern Comparison Processing Speed...                      39.00  "
      ]
     },
     "metadata": {},
     "output_type": "display_data"
    },
    {
     "data": {
      "text/plain": [
       "array(['EPRC_00032_A', 'EPRC_00160_A', 'EPRC_00162_A', 'EPRC_00173_A',\n",
       "       'EPRC_00179_A', 'EPRC_00181_A', 'EPRC_00191_A', 'EPRC_00380_A',\n",
       "       'EPSF_00832_A', 'EPSF_00836_A', 'EPSF_00847_A', 'EPSF_00944_B',\n",
       "       'EPSF_00944_A', 'EPSF_01666_A'], dtype=object)"
      ]
     },
     "metadata": {},
     "output_type": "display_data"
    },
    {
     "name": "stdout",
     "output_type": "stream",
     "text": [
      "1. matched t-test:\n",
      "Degree of freedom: 13\n",
      "Age mean score diff 0.29\n",
      "Aged: t-statistic =  -0.03, pvalue =  0.973\n",
      "Fully mean score diff 0.36\n",
      "Fully: t-statistic =  -0.07, pvalue =  0.948\n",
      "\n",
      "2. Correlations between in person and remote:\n",
      "Aged: correlation =   0.68, pvalue =  0.007\n",
      "Fully: correlation =   0.66, pvalue =  0.010\n",
      "\n",
      "3. Does it take longer for remote vs. in-person? two-sided test\n",
      "Aged: t-statistic =  33.00 pvalue =  1.000\n",
      "Fully: t-statistic =  37.00 pvalue =  0.874\n",
      "\n",
      "\n",
      "\n"
     ]
    },
    {
     "name": "stderr",
     "output_type": "stream",
     "text": [
      "C:\\Users\\tsb7592\\Anaconda3\\lib\\site-packages\\scipy\\stats\\morestats.py:2967: UserWarning: Exact p-value calculation does not work if there are ties. Switching to normal approximation.\n",
      "  warnings.warn(\"Exact p-value calculation does not work if there are \"\n"
     ]
    },
    {
     "name": "stdout",
     "output_type": "stream",
     "text": [
      "- NIH Toolbox Picture Sequence Memory Test Age 8+ Form A v2.1 -\n",
      "Age R: 95.58 ( 12.57 )\n",
      "Age: 104.58 ( 16.27 )\n",
      "Aged cohen   0.62\n",
      "Aged: ICC Average raters absolute 0.7 [0.07 0.91]\n",
      "Fully R: 46.08 ( 8.6 )\n",
      "Fully: 50.67 ( 10.77 )\n",
      "Fully cohen   0.47\n",
      "Fully: ICC Average raters absolute 0.81 [0.39 0.94]\n",
      "\n"
     ]
    },
    {
     "data": {
      "text/html": [
       "<div>\n",
       "<style scoped>\n",
       "    .dataframe tbody tr th:only-of-type {\n",
       "        vertical-align: middle;\n",
       "    }\n",
       "\n",
       "    .dataframe tbody tr th {\n",
       "        vertical-align: top;\n",
       "    }\n",
       "\n",
       "    .dataframe thead th {\n",
       "        text-align: right;\n",
       "    }\n",
       "</style>\n",
       "<table border=\"1\" class=\"dataframe\">\n",
       "  <thead>\n",
       "    <tr style=\"text-align: right;\">\n",
       "      <th></th>\n",
       "      <th>PIN</th>\n",
       "      <th>Age-Corrected Standard Score</th>\n",
       "      <th>Fully-Corrected T-score</th>\n",
       "      <th>Age-Corrected Standard Score_r</th>\n",
       "      <th>Fully-Corrected T-score_r</th>\n",
       "    </tr>\n",
       "    <tr>\n",
       "      <th>Inst</th>\n",
       "      <th></th>\n",
       "      <th></th>\n",
       "      <th></th>\n",
       "      <th></th>\n",
       "      <th></th>\n",
       "    </tr>\n",
       "  </thead>\n",
       "  <tbody>\n",
       "    <tr>\n",
       "      <th>NIH Toolbox Picture Sequence Memory Test Age 8+ Form A v2.1</th>\n",
       "      <td>EPRC_00032_A</td>\n",
       "      <td>128.00</td>\n",
       "      <td>67.00</td>\n",
       "      <td>121.00</td>\n",
       "      <td>62.00</td>\n",
       "    </tr>\n",
       "  </tbody>\n",
       "</table>\n",
       "</div>"
      ],
      "text/plain": [
       "                                                             PIN  \\\n",
       "Inst                                                               \n",
       "NIH Toolbox Picture Sequence Memory Test Age 8+...  EPRC_00032_A   \n",
       "\n",
       "                                                    Age-Corrected Standard Score  \\\n",
       "Inst                                                                               \n",
       "NIH Toolbox Picture Sequence Memory Test Age 8+...                        128.00   \n",
       "\n",
       "                                                    Fully-Corrected T-score  \\\n",
       "Inst                                                                          \n",
       "NIH Toolbox Picture Sequence Memory Test Age 8+...                    67.00   \n",
       "\n",
       "                                                    Age-Corrected Standard Score_r  \\\n",
       "Inst                                                                                 \n",
       "NIH Toolbox Picture Sequence Memory Test Age 8+...                          121.00   \n",
       "\n",
       "                                                    Fully-Corrected T-score_r  \n",
       "Inst                                                                           \n",
       "NIH Toolbox Picture Sequence Memory Test Age 8+...                      62.00  "
      ]
     },
     "metadata": {},
     "output_type": "display_data"
    },
    {
     "data": {
      "text/plain": [
       "array(['EPRC_00032_A', 'EPRC_00160_A', 'EPRC_00162_A', 'EPRC_00181_A',\n",
       "       'EPRC_00183_A', 'EPRC_00191_A', 'EPRC_00380_A', 'EPSF_00832_A',\n",
       "       'EPSF_00836_A', 'EPSF_00944_B', 'EPSF_00944_A', 'EPSF_01666_A'],\n",
       "      dtype=object)"
      ]
     },
     "metadata": {},
     "output_type": "display_data"
    },
    {
     "name": "stderr",
     "output_type": "stream",
     "text": [
      "C:\\Users\\tsb7592\\Anaconda3\\lib\\site-packages\\scipy\\stats\\morestats.py:2967: UserWarning: Exact p-value calculation does not work if there are ties. Switching to normal approximation.\n",
      "  warnings.warn(\"Exact p-value calculation does not work if there are \"\n"
     ]
    },
    {
     "name": "stdout",
     "output_type": "stream",
     "text": [
      "1. matched t-test:\n",
      "Degree of freedom: 11\n",
      "Age mean score diff -9.0\n",
      "Aged: t-statistic =   1.52, pvalue =  0.145\n",
      "Fully mean score diff -4.58\n",
      "Fully: t-statistic =   1.15, pvalue =  0.262\n",
      "\n",
      "2. Correlations between in person and remote:\n",
      "Aged: correlation =   0.64, pvalue =  0.024\n",
      "Fully: correlation =   0.74, pvalue =  0.006\n",
      "\n",
      "3. Does it take longer for remote vs. in-person? two-sided test\n",
      "Aged: t-statistic =   7.00 pvalue =  0.036\n",
      "Fully: t-statistic =  10.00 pvalue =  0.037\n",
      "\n",
      "\n",
      "\n",
      "- NIH Toolbox Oral Reading Recognition Test Age 3+ v2.1 -\n",
      "Age R: 90.93 ( 12.33 )\n",
      "Age: 92.6 ( 13.23 )\n",
      "Aged cohen   0.13\n",
      "Aged: ICC Average raters absolute 0.9 [0.7  0.97]\n",
      "Fully R: 43.2 ( 7.96 )\n",
      "Fully: 44.6 ( 8.83 )\n",
      "Fully cohen   0.17\n",
      "Fully: ICC Average raters absolute 0.94 [0.84 0.98]\n",
      "\n"
     ]
    },
    {
     "data": {
      "text/html": [
       "<div>\n",
       "<style scoped>\n",
       "    .dataframe tbody tr th:only-of-type {\n",
       "        vertical-align: middle;\n",
       "    }\n",
       "\n",
       "    .dataframe tbody tr th {\n",
       "        vertical-align: top;\n",
       "    }\n",
       "\n",
       "    .dataframe thead th {\n",
       "        text-align: right;\n",
       "    }\n",
       "</style>\n",
       "<table border=\"1\" class=\"dataframe\">\n",
       "  <thead>\n",
       "    <tr style=\"text-align: right;\">\n",
       "      <th></th>\n",
       "      <th>PIN</th>\n",
       "      <th>Age-Corrected Standard Score</th>\n",
       "      <th>Fully-Corrected T-score</th>\n",
       "      <th>Age-Corrected Standard Score_r</th>\n",
       "      <th>Fully-Corrected T-score_r</th>\n",
       "    </tr>\n",
       "    <tr>\n",
       "      <th>Inst</th>\n",
       "      <th></th>\n",
       "      <th></th>\n",
       "      <th></th>\n",
       "      <th></th>\n",
       "      <th></th>\n",
       "    </tr>\n",
       "  </thead>\n",
       "  <tbody>\n",
       "    <tr>\n",
       "      <th>NIH Toolbox Oral Reading Recognition Test Age 3+ v2.1</th>\n",
       "      <td>EPRC_00032_A</td>\n",
       "      <td>80.00</td>\n",
       "      <td>34.00</td>\n",
       "      <td>80.00</td>\n",
       "      <td>34.00</td>\n",
       "    </tr>\n",
       "  </tbody>\n",
       "</table>\n",
       "</div>"
      ],
      "text/plain": [
       "                                                             PIN  \\\n",
       "Inst                                                               \n",
       "NIH Toolbox Oral Reading Recognition Test Age 3...  EPRC_00032_A   \n",
       "\n",
       "                                                    Age-Corrected Standard Score  \\\n",
       "Inst                                                                               \n",
       "NIH Toolbox Oral Reading Recognition Test Age 3...                         80.00   \n",
       "\n",
       "                                                    Fully-Corrected T-score  \\\n",
       "Inst                                                                          \n",
       "NIH Toolbox Oral Reading Recognition Test Age 3...                    34.00   \n",
       "\n",
       "                                                    Age-Corrected Standard Score_r  \\\n",
       "Inst                                                                                 \n",
       "NIH Toolbox Oral Reading Recognition Test Age 3...                           80.00   \n",
       "\n",
       "                                                    Fully-Corrected T-score_r  \n",
       "Inst                                                                           \n",
       "NIH Toolbox Oral Reading Recognition Test Age 3...                      34.00  "
      ]
     },
     "metadata": {},
     "output_type": "display_data"
    },
    {
     "data": {
      "text/plain": [
       "array(['EPRC_00032_A', 'EPRC_00160_A', 'EPRC_00162_A', 'EPRC_00173_A',\n",
       "       'EPRC_00179_A', 'EPRC_00181_A', 'EPRC_00183_A', 'EPRC_00191_A',\n",
       "       'EPRC_00380_A', 'EPRC_00550_A', 'EPSF_00832_A', 'EPSF_00836_A',\n",
       "       'EPSF_00847_A', 'EPSF_00944_B', 'EPSF_00944_A'], dtype=object)"
      ]
     },
     "metadata": {},
     "output_type": "display_data"
    },
    {
     "name": "stdout",
     "output_type": "stream",
     "text": [
      "1. matched t-test:\n",
      "Degree of freedom: 14\n",
      "Age mean score diff -1.67\n",
      "Aged: t-statistic =   0.36, pvalue =  0.724\n",
      "Fully mean score diff -1.4\n",
      "Fully: t-statistic =   0.46, pvalue =  0.652\n",
      "\n",
      "2. Correlations between in person and remote:\n",
      "Aged: correlation =   0.81, pvalue =  0.000\n",
      "Fully: correlation =   0.91, pvalue =  0.000\n",
      "\n",
      "3. Does it take longer for remote vs. in-person? two-sided test\n",
      "Aged: t-statistic =   1.50 pvalue =  0.414\n",
      "Fully: t-statistic =   1.00 pvalue =  0.141\n",
      "\n",
      "\n",
      "\n"
     ]
    },
    {
     "name": "stderr",
     "output_type": "stream",
     "text": [
      "C:\\Users\\tsb7592\\Anaconda3\\lib\\site-packages\\scipy\\stats\\morestats.py:2967: UserWarning: Exact p-value calculation does not work if there are ties. Switching to normal approximation.\n",
      "  warnings.warn(\"Exact p-value calculation does not work if there are \"\n",
      "C:\\Users\\tsb7592\\Anaconda3\\lib\\site-packages\\scipy\\stats\\morestats.py:2981: UserWarning: Sample size too small for normal approximation.\n",
      "  warnings.warn(\"Sample size too small for normal approximation.\")\n"
     ]
    }
   ],
   "source": [
    "from statistics import mean, stdev\n",
    "print('***NIH: A matched t-test for those who have both in-person and remote***\\n')\n",
    "matched_ttest(NIH, matchcol)"
   ]
  },
  {
   "cell_type": "markdown",
   "metadata": {
    "id": "fn2Lwf_l_U-H"
   },
   "source": [
    "# 5.\tA student’s t-test for everyone "
   ]
  },
  {
   "cell_type": "code",
   "execution_count": 154,
   "metadata": {},
   "outputs": [],
   "source": [
    "def remove_nan(li):\n",
    "    array1 = np.array(li)\n",
    "\n",
    "    nan_array = np.isnan(array1)\n",
    "    not_nan_array = ~ nan_array\n",
    "    array2 = array1[not_nan_array]\n",
    "\n",
    "    return array2"
   ]
  },
  {
   "cell_type": "code",
   "execution_count": 155,
   "metadata": {},
   "outputs": [],
   "source": [
    "def unmatched_ttest(ip, rm, match=None):\n",
    "    if not match:\n",
    "        match = list(ip.Inst.unique())\n",
    "    \n",
    "    for minst in match:\n",
    "        \n",
    "        a =np.array(ip.set_index('Inst').filter(like=minst, axis=0)['Age-Corrected Standard Score'])\n",
    "        b =np.array(rm.set_index('Inst').filter(like=minst, axis=0)['Age-Corrected Standard Score_r'])\n",
    "        c =np.array(ip.set_index('Inst').filter(like=minst, axis=0)['Fully-Corrected T-score'])\n",
    "        d =np.array(rm.set_index('Inst').filter(like=minst, axis=0)['Fully-Corrected T-score_r'])\n",
    "        \n",
    "        a=remove_nan(a)\n",
    "        b=remove_nan(b)\n",
    "        c= remove_nan(c)\n",
    "        d= remove_nan(d)\n",
    "        if(len(a)*len(b)*len(c)*len(d))==0:\n",
    "            continue\n",
    "        print('-',minst,'-')\n",
    "            \n",
    "        print('Age R:', round(b.mean(),2) , '(',round(stdev(b),2),')' , 'N=',len(b))\n",
    "        print('Age:', round(a.mean(),2) , '(',round(stdev(a),2),')',  'N=',len(a))\n",
    "        print('Fully R:', round(d.mean(),2) , '(',round(stdev(d),2),')',  'N=',len(d))\n",
    "        print('Fully:', round(c.mean(),2) , '(',round(stdev(c),2),')',  'N=',len(c))\n",
    "        print('')\n",
    "        print('Aged cohen %6.2f' % cohend(a, b), 'Fully cohen %6.2f' % cohend(c, d))    \n",
    "        print('') \n",
    "        print('Aged: t-statistic = %6.2f, pvalue = %6.3f' % stats.ttest_ind(a,b, equal_var=False))\n",
    "        print('Fully: t-statistic = %6.2f, pvalue = %6.3f' % stats.ttest_ind(c,d, equal_var=False))\n",
    "        print('')\n",
    "    return "
   ]
  },
  {
   "cell_type": "code",
   "execution_count": 156,
   "metadata": {},
   "outputs": [
    {
     "name": "stdout",
     "output_type": "stream",
     "text": [
      "***NIH: unmatched t-test for everyone***\n",
      "\n",
      "- NIH Toolbox Dimensional Change Card Sort Test Ages 8-11 v2.1 -\n",
      "Age R: 98.0 ( 14.39 ) N= 16\n",
      "Age: 94.17 ( 6.89 ) N= 18\n",
      "Fully R: 47.0 ( 8.57 ) N= 16\n",
      "Fully: 44.0 ( 4.69 ) N= 18\n",
      "\n",
      "Aged cohen  -0.35 Fully cohen  -0.44\n",
      "\n",
      "Aged: t-statistic =  -0.97, pvalue =  0.342\n",
      "Fully: t-statistic =  -1.24, pvalue =  0.226\n",
      "\n",
      "- NIH Toolbox Picture Vocabulary Test Age 3+ v2.1 -\n",
      "Age R: 102.69 ( 12.52 ) N= 16\n",
      "Age: 107.0 ( 10.86 ) N= 18\n",
      "Fully R: 50.31 ( 7.46 ) N= 16\n",
      "Fully: 50.44 ( 8.25 ) N= 18\n",
      "\n",
      "Aged cohen   0.37 Fully cohen   0.02\n",
      "\n",
      "Aged: t-statistic =   1.07, pvalue =  0.295\n",
      "Fully: t-statistic =   0.05, pvalue =  0.961\n",
      "\n",
      "- NIH Toolbox Flanker Inhibitory Control and Attention Test Ages 8-11 v2.1 -\n",
      "Age R: 91.12 ( 11.82 ) N= 16\n",
      "Age: 97.83 ( 7.1 ) N= 18\n",
      "Fully R: 42.19 ( 8.17 ) N= 16\n",
      "Fully: 46.56 ( 5.55 ) N= 18\n",
      "\n",
      "Aged cohen   0.70 Fully cohen   0.63\n",
      "\n",
      "Aged: t-statistic =   1.98, pvalue =  0.060\n",
      "Fully: t-statistic =   1.80, pvalue =  0.084\n",
      "\n",
      "- NIH Toolbox Pattern Comparison Processing Speed Test Age 7+ v2.1 -\n",
      "Age R: 100.43 ( 22.05 ) N= 14\n",
      "Age: 100.56 ( 21.05 ) N= 18\n",
      "Fully R: 48.57 ( 13.36 ) N= 14\n",
      "Fully: 48.06 ( 14.34 ) N= 18\n",
      "\n",
      "Aged cohen   0.01 Fully cohen  -0.04\n",
      "\n",
      "Aged: t-statistic =   0.02, pvalue =  0.987\n",
      "Fully: t-statistic =  -0.10, pvalue =  0.917\n",
      "\n",
      "- NIH Toolbox Picture Sequence Memory Test Age 8+ Form A v2.1 -\n",
      "Age R: 95.58 ( 12.57 ) N= 12\n",
      "Age: 106.0 ( 14.55 ) N= 18\n",
      "Fully R: 46.08 ( 8.6 ) N= 12\n",
      "Fully: 51.67 ( 9.12 ) N= 18\n",
      "\n",
      "Aged cohen   0.75 Fully cohen   0.63\n",
      "\n",
      "Aged: t-statistic =   2.09, pvalue =  0.047\n",
      "Fully: t-statistic =   1.70, pvalue =  0.102\n",
      "\n",
      "- NIH Toolbox Oral Reading Recognition Test Age 3+ v2.1 -\n",
      "Age R: 90.93 ( 12.33 ) N= 15\n",
      "Age: 92.67 ( 12.01 ) N= 18\n",
      "Fully R: 43.2 ( 7.96 ) N= 15\n",
      "Fully: 44.0 ( 8.41 ) N= 18\n",
      "\n",
      "Aged cohen   0.14 Fully cohen   0.10\n",
      "\n",
      "Aged: t-statistic =   0.41, pvalue =  0.687\n",
      "Fully: t-statistic =   0.28, pvalue =  0.781\n",
      "\n"
     ]
    }
   ],
   "source": [
    "print('***NIH: unmatched t-test for everyone***\\n')\n",
    "unmatched_ttest(raw, raw_r, matchcol)"
   ]
  },
  {
   "cell_type": "markdown",
   "metadata": {},
   "source": [
    "# Composite Scores"
   ]
  },
  {
   "cell_type": "markdown",
   "metadata": {
    "id": "hhY6lrFT-q6a"
   },
   "source": [
    "#1.\tA matched t-test for those who have both in-person and remote\n",
    "#2.\tCorrelations between remote and in-person\n",
    "#3.\tDoes it take longer for remote vs. in-person\n",
    "#4.\tPlot on x-axis remote scores for all the Inst, and plot on y-axis all the in-person "
   ]
  },
  {
   "cell_type": "code",
   "execution_count": 157,
   "metadata": {},
   "outputs": [],
   "source": [
    "import seaborn as sns\n",
    "sns.set_theme(style=\"darkgrid\")"
   ]
  },
  {
   "cell_type": "code",
   "execution_count": 158,
   "metadata": {},
   "outputs": [],
   "source": [
    "scores.to_csv('C:/Users/tsb7592/Box/Avera NIHTB Data/Subset/CompositeScores.csv', index=False)"
   ]
  },
  {
   "cell_type": "code",
   "execution_count": 159,
   "metadata": {
    "scrolled": true
   },
   "outputs": [
    {
     "name": "stdout",
     "output_type": "stream",
     "text": [
      "***Composite: A matched t-test for those who have both in-person and remote***\n",
      "\n",
      "- Cognition Crystallized Composite v1.1 -\n",
      "Age R: 96.33 ( 12.79 )\n",
      "Age: 99.07 ( 12.13 )\n",
      "Aged cohen   0.22\n",
      "Aged: ICC Average raters absolute 0.45 [-0.54  0.81]\n",
      "Fully R: 46.53 ( 8.26 )\n",
      "Fully: 47.0 ( 8.8 )\n",
      "Fully cohen   0.05\n",
      "Fully: ICC Average raters absolute 0.52 [-0.34  0.83]\n",
      "\n"
     ]
    },
    {
     "data": {
      "text/html": [
       "<div>\n",
       "<style scoped>\n",
       "    .dataframe tbody tr th:only-of-type {\n",
       "        vertical-align: middle;\n",
       "    }\n",
       "\n",
       "    .dataframe tbody tr th {\n",
       "        vertical-align: top;\n",
       "    }\n",
       "\n",
       "    .dataframe thead th {\n",
       "        text-align: right;\n",
       "    }\n",
       "</style>\n",
       "<table border=\"1\" class=\"dataframe\">\n",
       "  <thead>\n",
       "    <tr style=\"text-align: right;\">\n",
       "      <th></th>\n",
       "      <th>PIN</th>\n",
       "      <th>Uncorrected Standard Score</th>\n",
       "      <th>Age-Corrected Standard Score</th>\n",
       "      <th>National Percentile (age adjusted)</th>\n",
       "      <th>Fully-Corrected T-score</th>\n",
       "      <th>Uncorrected Standard Score_r</th>\n",
       "      <th>Age-Corrected Standard Score_r</th>\n",
       "      <th>National Percentile (age adjusted)_r</th>\n",
       "      <th>Fully-Corrected T-score_r</th>\n",
       "    </tr>\n",
       "    <tr>\n",
       "      <th>Inst</th>\n",
       "      <th></th>\n",
       "      <th></th>\n",
       "      <th></th>\n",
       "      <th></th>\n",
       "      <th></th>\n",
       "      <th></th>\n",
       "      <th></th>\n",
       "      <th></th>\n",
       "      <th></th>\n",
       "    </tr>\n",
       "  </thead>\n",
       "  <tbody>\n",
       "    <tr>\n",
       "      <th>Cognition Crystallized Composite v1.1</th>\n",
       "      <td>EPRC_00032_A</td>\n",
       "      <td>71.00</td>\n",
       "      <td>85.00</td>\n",
       "      <td>16.00</td>\n",
       "      <td>32.00</td>\n",
       "      <td>74.00</td>\n",
       "      <td>85.00</td>\n",
       "      <td>16.00</td>\n",
       "      <td>38.00</td>\n",
       "    </tr>\n",
       "  </tbody>\n",
       "</table>\n",
       "</div>"
      ],
      "text/plain": [
       "                                                PIN  \\\n",
       "Inst                                                  \n",
       "Cognition Crystallized Composite v1.1  EPRC_00032_A   \n",
       "\n",
       "                                       Uncorrected Standard Score  \\\n",
       "Inst                                                                \n",
       "Cognition Crystallized Composite v1.1                       71.00   \n",
       "\n",
       "                                       Age-Corrected Standard Score  \\\n",
       "Inst                                                                  \n",
       "Cognition Crystallized Composite v1.1                         85.00   \n",
       "\n",
       "                                       National Percentile (age adjusted)  \\\n",
       "Inst                                                                        \n",
       "Cognition Crystallized Composite v1.1                               16.00   \n",
       "\n",
       "                                       Fully-Corrected T-score  \\\n",
       "Inst                                                             \n",
       "Cognition Crystallized Composite v1.1                    32.00   \n",
       "\n",
       "                                       Uncorrected Standard Score_r  \\\n",
       "Inst                                                                  \n",
       "Cognition Crystallized Composite v1.1                         74.00   \n",
       "\n",
       "                                       Age-Corrected Standard Score_r  \\\n",
       "Inst                                                                    \n",
       "Cognition Crystallized Composite v1.1                           85.00   \n",
       "\n",
       "                                       National Percentile (age adjusted)_r  \\\n",
       "Inst                                                                          \n",
       "Cognition Crystallized Composite v1.1                                 16.00   \n",
       "\n",
       "                                       Fully-Corrected T-score_r  \n",
       "Inst                                                              \n",
       "Cognition Crystallized Composite v1.1                      38.00  "
      ]
     },
     "metadata": {},
     "output_type": "display_data"
    },
    {
     "data": {
      "text/plain": [
       "array(['EPRC_00032_A', 'EPRC_00160_A', 'EPRC_00162_A', 'EPRC_00173_A',\n",
       "       'EPRC_00179_A', 'EPRC_00181_A', 'EPRC_00183_A', 'EPRC_00191_A',\n",
       "       'EPRC_00380_A', 'EPRC_00550_A', 'EPSF_00832_A', 'EPSF_00836_A',\n",
       "       'EPSF_00847_A', 'EPSF_00944_B', 'EPSF_00944_A'], dtype=object)"
      ]
     },
     "metadata": {},
     "output_type": "display_data"
    },
    {
     "name": "stdout",
     "output_type": "stream",
     "text": [
      "1. matched t-test:\n",
      "Degree of freedom: 14\n",
      "Age mean score diff -2.73\n",
      "Aged: t-statistic =   0.60, pvalue =  0.553\n",
      "Fully mean score diff -0.47\n",
      "Fully: t-statistic =   0.15, pvalue =  0.882\n",
      "\n",
      "2. Correlations between in person and remote:\n",
      "Aged: correlation =   0.79, pvalue =  0.001\n",
      "Fully: correlation =   0.82, pvalue =  0.000\n",
      "\n",
      "3. Does it take longer for remote vs. in-person? two-sided test\n",
      "Aged: t-statistic =   9.00 pvalue =  0.196\n",
      "Fully: t-statistic =  23.50 pvalue =  0.681\n",
      "\n",
      "\n",
      "\n",
      "- Cognition Early Childhood Composite v1.1 -\n",
      "Age R: 96.77 ( 12.64 )\n",
      "Age: 100.54 ( 10.44 )\n",
      "Aged cohen   0.33\n",
      "Aged: ICC Average raters absolute 0.77 [0.36 0.92]\n",
      "Fully R: 44.46 ( 8.19 )\n",
      "Fully: 46.08 ( 5.91 )\n",
      "Fully cohen   0.23\n",
      "Fully: ICC Average raters absolute 0.72 [0.22 0.9 ]\n",
      "\n"
     ]
    },
    {
     "name": "stderr",
     "output_type": "stream",
     "text": [
      "C:\\Users\\tsb7592\\Anaconda3\\lib\\site-packages\\scipy\\stats\\morestats.py:2967: UserWarning: Exact p-value calculation does not work if there are ties. Switching to normal approximation.\n",
      "  warnings.warn(\"Exact p-value calculation does not work if there are \"\n",
      "C:\\Users\\tsb7592\\Anaconda3\\lib\\site-packages\\scipy\\stats\\morestats.py:2981: UserWarning: Sample size too small for normal approximation.\n",
      "  warnings.warn(\"Sample size too small for normal approximation.\")\n"
     ]
    },
    {
     "data": {
      "text/html": [
       "<div>\n",
       "<style scoped>\n",
       "    .dataframe tbody tr th:only-of-type {\n",
       "        vertical-align: middle;\n",
       "    }\n",
       "\n",
       "    .dataframe tbody tr th {\n",
       "        vertical-align: top;\n",
       "    }\n",
       "\n",
       "    .dataframe thead th {\n",
       "        text-align: right;\n",
       "    }\n",
       "</style>\n",
       "<table border=\"1\" class=\"dataframe\">\n",
       "  <thead>\n",
       "    <tr style=\"text-align: right;\">\n",
       "      <th></th>\n",
       "      <th>PIN</th>\n",
       "      <th>Uncorrected Standard Score</th>\n",
       "      <th>Age-Corrected Standard Score</th>\n",
       "      <th>National Percentile (age adjusted)</th>\n",
       "      <th>Fully-Corrected T-score</th>\n",
       "      <th>Uncorrected Standard Score_r</th>\n",
       "      <th>Age-Corrected Standard Score_r</th>\n",
       "      <th>National Percentile (age adjusted)_r</th>\n",
       "      <th>Fully-Corrected T-score_r</th>\n",
       "    </tr>\n",
       "    <tr>\n",
       "      <th>Inst</th>\n",
       "      <th></th>\n",
       "      <th></th>\n",
       "      <th></th>\n",
       "      <th></th>\n",
       "      <th></th>\n",
       "      <th></th>\n",
       "      <th></th>\n",
       "      <th></th>\n",
       "      <th></th>\n",
       "    </tr>\n",
       "  </thead>\n",
       "  <tbody>\n",
       "    <tr>\n",
       "      <th>Cognition Early Childhood Composite v1.1</th>\n",
       "      <td>EPRC_00032_A</td>\n",
       "      <td>89.00</td>\n",
       "      <td>105.00</td>\n",
       "      <td>62.00</td>\n",
       "      <td>48.00</td>\n",
       "      <td>85.00</td>\n",
       "      <td>98.00</td>\n",
       "      <td>44.00</td>\n",
       "      <td>43.00</td>\n",
       "    </tr>\n",
       "  </tbody>\n",
       "</table>\n",
       "</div>"
      ],
      "text/plain": [
       "                                                   PIN  \\\n",
       "Inst                                                     \n",
       "Cognition Early Childhood Composite v1.1  EPRC_00032_A   \n",
       "\n",
       "                                          Uncorrected Standard Score  \\\n",
       "Inst                                                                   \n",
       "Cognition Early Childhood Composite v1.1                       89.00   \n",
       "\n",
       "                                          Age-Corrected Standard Score  \\\n",
       "Inst                                                                     \n",
       "Cognition Early Childhood Composite v1.1                        105.00   \n",
       "\n",
       "                                          National Percentile (age adjusted)  \\\n",
       "Inst                                                                           \n",
       "Cognition Early Childhood Composite v1.1                               62.00   \n",
       "\n",
       "                                          Fully-Corrected T-score  \\\n",
       "Inst                                                                \n",
       "Cognition Early Childhood Composite v1.1                    48.00   \n",
       "\n",
       "                                          Uncorrected Standard Score_r  \\\n",
       "Inst                                                                     \n",
       "Cognition Early Childhood Composite v1.1                         85.00   \n",
       "\n",
       "                                          Age-Corrected Standard Score_r  \\\n",
       "Inst                                                                       \n",
       "Cognition Early Childhood Composite v1.1                           98.00   \n",
       "\n",
       "                                          National Percentile (age adjusted)_r  \\\n",
       "Inst                                                                             \n",
       "Cognition Early Childhood Composite v1.1                                 44.00   \n",
       "\n",
       "                                          Fully-Corrected T-score_r  \n",
       "Inst                                                                 \n",
       "Cognition Early Childhood Composite v1.1                      43.00  "
      ]
     },
     "metadata": {},
     "output_type": "display_data"
    },
    {
     "data": {
      "text/plain": [
       "array(['EPRC_00032_A', 'EPRC_00160_A', 'EPRC_00162_A', 'EPRC_00181_A',\n",
       "       'EPRC_00183_A', 'EPRC_00191_A', 'EPRC_00380_A', 'EPSF_00832_A',\n",
       "       'EPSF_00836_A', 'EPSF_00847_A', 'EPSF_00944_B', 'EPSF_00944_A',\n",
       "       'EPSF_01666_A'], dtype=object)"
      ]
     },
     "metadata": {},
     "output_type": "display_data"
    },
    {
     "name": "stdout",
     "output_type": "stream",
     "text": [
      "1. matched t-test:\n",
      "Degree of freedom: 12\n",
      "Age mean score diff -3.77\n",
      "Aged: t-statistic =   0.83, pvalue =  0.415\n",
      "Fully mean score diff -1.62\n",
      "Fully: t-statistic =   0.58, pvalue =  0.570\n",
      "\n",
      "2. Correlations between in person and remote:\n",
      "Aged: correlation =   0.43, pvalue =  0.142\n",
      "Fully: correlation =   0.47, pvalue =  0.101\n",
      "\n",
      "3. Does it take longer for remote vs. in-person? two-sided test\n",
      "Aged: t-statistic =  15.00 pvalue =  0.060\n",
      "Fully: t-statistic =  22.00 pvalue =  0.110\n",
      "\n",
      "\n",
      "\n"
     ]
    },
    {
     "name": "stderr",
     "output_type": "stream",
     "text": [
      "C:\\Users\\tsb7592\\Anaconda3\\lib\\site-packages\\scipy\\stats\\morestats.py:2967: UserWarning: Exact p-value calculation does not work if there are ties. Switching to normal approximation.\n",
      "  warnings.warn(\"Exact p-value calculation does not work if there are \"\n"
     ]
    }
   ],
   "source": [
    "print('***Composite: A matched t-test for those who have both in-person and remote***\\n')\n",
    "matched_ttest(scores)"
   ]
  },
  {
   "cell_type": "code",
   "execution_count": 160,
   "metadata": {
    "colab": {
     "base_uri": "https://localhost:8080/",
     "height": 204
    },
    "id": "0ozVVZZoUv7u",
    "outputId": "e489a9a5-0d45-4da8-c6c5-74adcaac2314"
   },
   "outputs": [
    {
     "data": {
      "text/html": [
       "<div>\n",
       "<style scoped>\n",
       "    .dataframe tbody tr th:only-of-type {\n",
       "        vertical-align: middle;\n",
       "    }\n",
       "\n",
       "    .dataframe tbody tr th {\n",
       "        vertical-align: top;\n",
       "    }\n",
       "\n",
       "    .dataframe thead th {\n",
       "        text-align: right;\n",
       "    }\n",
       "</style>\n",
       "<table border=\"1\" class=\"dataframe\">\n",
       "  <thead>\n",
       "    <tr style=\"text-align: right;\">\n",
       "      <th></th>\n",
       "      <th>PIN</th>\n",
       "      <th>Inst</th>\n",
       "      <th>Uncorrected Standard Score</th>\n",
       "      <th>Age-Corrected Standard Score</th>\n",
       "      <th>National Percentile (age adjusted)</th>\n",
       "      <th>Fully-Corrected T-score</th>\n",
       "      <th>Mode</th>\n",
       "    </tr>\n",
       "  </thead>\n",
       "  <tbody>\n",
       "    <tr>\n",
       "      <th>6</th>\n",
       "      <td>EPSF_00944_A</td>\n",
       "      <td>Cognition Crystallized Composite v1.1</td>\n",
       "      <td>76.00</td>\n",
       "      <td>92.00</td>\n",
       "      <td>30.00</td>\n",
       "      <td>47.00</td>\n",
       "      <td>Remote</td>\n",
       "    </tr>\n",
       "    <tr>\n",
       "      <th>7</th>\n",
       "      <td>EPSF_00944_A</td>\n",
       "      <td>Cognition Early Childhood Composite v1.1</td>\n",
       "      <td>77.00</td>\n",
       "      <td>89.00</td>\n",
       "      <td>24.00</td>\n",
       "      <td>39.00</td>\n",
       "      <td>Remote</td>\n",
       "    </tr>\n",
       "    <tr>\n",
       "      <th>6</th>\n",
       "      <td>EPSF_00944_B</td>\n",
       "      <td>Cognition Crystallized Composite v1.1</td>\n",
       "      <td>71.00</td>\n",
       "      <td>85.00</td>\n",
       "      <td>16.00</td>\n",
       "      <td>42.00</td>\n",
       "      <td>Remote</td>\n",
       "    </tr>\n",
       "    <tr>\n",
       "      <th>7</th>\n",
       "      <td>EPSF_00944_B</td>\n",
       "      <td>Cognition Early Childhood Composite v1.1</td>\n",
       "      <td>81.00</td>\n",
       "      <td>94.00</td>\n",
       "      <td>35.00</td>\n",
       "      <td>44.00</td>\n",
       "      <td>Remote</td>\n",
       "    </tr>\n",
       "    <tr>\n",
       "      <th>7</th>\n",
       "      <td>EPSF_01666_A</td>\n",
       "      <td>Cognition Early Childhood Composite v1.1</td>\n",
       "      <td>79.00</td>\n",
       "      <td>92.00</td>\n",
       "      <td>29.00</td>\n",
       "      <td>41.00</td>\n",
       "      <td>Remote</td>\n",
       "    </tr>\n",
       "  </tbody>\n",
       "</table>\n",
       "</div>"
      ],
      "text/plain": [
       "            PIN                                      Inst  \\\n",
       "6  EPSF_00944_A     Cognition Crystallized Composite v1.1   \n",
       "7  EPSF_00944_A  Cognition Early Childhood Composite v1.1   \n",
       "6  EPSF_00944_B     Cognition Crystallized Composite v1.1   \n",
       "7  EPSF_00944_B  Cognition Early Childhood Composite v1.1   \n",
       "7  EPSF_01666_A  Cognition Early Childhood Composite v1.1   \n",
       "\n",
       "   Uncorrected Standard Score  Age-Corrected Standard Score  \\\n",
       "6                       76.00                         92.00   \n",
       "7                       77.00                         89.00   \n",
       "6                       71.00                         85.00   \n",
       "7                       81.00                         94.00   \n",
       "7                       79.00                         92.00   \n",
       "\n",
       "   National Percentile (age adjusted)  Fully-Corrected T-score    Mode  \n",
       "6                               30.00                    47.00  Remote  \n",
       "7                               24.00                    39.00  Remote  \n",
       "6                               16.00                    42.00  Remote  \n",
       "7                               35.00                    44.00  Remote  \n",
       "7                               29.00                    41.00  Remote  "
      ]
     },
     "execution_count": 160,
     "metadata": {},
     "output_type": "execute_result"
    }
   ],
   "source": [
    "boxp.tail()"
   ]
  },
  {
   "cell_type": "code",
   "execution_count": 161,
   "metadata": {
    "id": "zbHFl_deVMyx"
   },
   "outputs": [],
   "source": [
    "boxp[\"Inst\"].replace({\"Cognition Fluid Composite v1.1\":'CFC','Cognition Crystallized Composite v1.1':'CCC', 'Cognition Total Composite Score v1.1':'CTC','Cognition Early Childhood Composite v1.1':'CECC'}, inplace=True)"
   ]
  },
  {
   "cell_type": "code",
   "execution_count": 162,
   "metadata": {
    "colab": {
     "base_uri": "https://localhost:8080/",
     "height": 427
    },
    "id": "8fltOtYCSs4h",
    "outputId": "669a04d0-cc59-47a8-8662-0373120df0ea"
   },
   "outputs": [
    {
     "data": {
      "text/plain": [
       "Text(0.5, 1.0, 'Age-Corrected Standard score')"
      ]
     },
     "execution_count": 162,
     "metadata": {},
     "output_type": "execute_result"
    },
    {
     "data": {
      "image/png": "[encoded data removed]",
      "text/plain": [
       "<Figure size 576x432 with 1 Axes>"
      ]
     },
     "metadata": {},
     "output_type": "display_data"
    }
   ],
   "source": [
    "plt.figure(figsize=(8, 6))\n",
    "sns.boxplot(x = 'Inst', y = 'Age-Corrected Standard Score', hue='Mode',data = boxp)\n",
    "plt.title('Age-Corrected Standard score')"
   ]
  },
  {
   "cell_type": "code",
   "execution_count": 163,
   "metadata": {
    "colab": {
     "base_uri": "https://localhost:8080/",
     "height": 410
    },
    "id": "EjWwK1cS_HY4",
    "outputId": "0804d615-5505-437c-e172-05160d07a506",
    "scrolled": true
   },
   "outputs": [
    {
     "data": {
      "image/png": "[encoded data removed]",
      "text/plain": [
       "<Figure size 576x432 with 1 Axes>"
      ]
     },
     "metadata": {},
     "output_type": "display_data"
    }
   ],
   "source": [
    "# Box plot of Fully In person vs. Remote\n",
    "plt.figure(figsize=(8, 6))\n",
    "sns.boxplot(x = 'Inst', y = 'Fully-Corrected T-score', hue='Mode',data = boxp)\n",
    "plt.title('Fully-Corrected T-score')\n",
    "plt.show()"
   ]
  },
  {
   "cell_type": "code",
   "execution_count": 164,
   "metadata": {},
   "outputs": [
    {
     "data": {
      "text/html": [
       "<div>\n",
       "<style scoped>\n",
       "    .dataframe tbody tr th:only-of-type {\n",
       "        vertical-align: middle;\n",
       "    }\n",
       "\n",
       "    .dataframe tbody tr th {\n",
       "        vertical-align: top;\n",
       "    }\n",
       "\n",
       "    .dataframe thead th {\n",
       "        text-align: right;\n",
       "    }\n",
       "</style>\n",
       "<table border=\"1\" class=\"dataframe\">\n",
       "  <thead>\n",
       "    <tr style=\"text-align: right;\">\n",
       "      <th></th>\n",
       "      <th>PIN</th>\n",
       "      <th>Inst</th>\n",
       "      <th>Uncorrected Standard Score</th>\n",
       "      <th>Age-Corrected Standard Score</th>\n",
       "      <th>National Percentile (age adjusted)</th>\n",
       "      <th>Fully-Corrected T-score</th>\n",
       "      <th>Uncorrected Standard Score_r</th>\n",
       "      <th>Age-Corrected Standard Score_r</th>\n",
       "      <th>National Percentile (age adjusted)_r</th>\n",
       "      <th>Fully-Corrected T-score_r</th>\n",
       "    </tr>\n",
       "  </thead>\n",
       "  <tbody>\n",
       "    <tr>\n",
       "      <th>14</th>\n",
       "      <td>EPRC_00380_A</td>\n",
       "      <td>Cognition Crystallized Composite v1.1</td>\n",
       "      <td>74.00</td>\n",
       "      <td>92.00</td>\n",
       "      <td>30.00</td>\n",
       "      <td>38.00</td>\n",
       "      <td>74.00</td>\n",
       "      <td>92.00</td>\n",
       "      <td>30.00</td>\n",
       "      <td>38.00</td>\n",
       "    </tr>\n",
       "    <tr>\n",
       "      <th>15</th>\n",
       "      <td>EPRC_00380_A</td>\n",
       "      <td>Cognition Early Childhood Composite v1.1</td>\n",
       "      <td>77.00</td>\n",
       "      <td>89.00</td>\n",
       "      <td>22.00</td>\n",
       "      <td>37.00</td>\n",
       "      <td>66.00</td>\n",
       "      <td>80.00</td>\n",
       "      <td>10.00</td>\n",
       "      <td>31.00</td>\n",
       "    </tr>\n",
       "  </tbody>\n",
       "</table>\n",
       "</div>"
      ],
      "text/plain": [
       "             PIN                                      Inst  \\\n",
       "14  EPRC_00380_A     Cognition Crystallized Composite v1.1   \n",
       "15  EPRC_00380_A  Cognition Early Childhood Composite v1.1   \n",
       "\n",
       "    Uncorrected Standard Score  Age-Corrected Standard Score  \\\n",
       "14                       74.00                         92.00   \n",
       "15                       77.00                         89.00   \n",
       "\n",
       "    National Percentile (age adjusted)  Fully-Corrected T-score  \\\n",
       "14                               30.00                    38.00   \n",
       "15                               22.00                    37.00   \n",
       "\n",
       "    Uncorrected Standard Score_r  Age-Corrected Standard Score_r  \\\n",
       "14                         74.00                           92.00   \n",
       "15                         66.00                           80.00   \n",
       "\n",
       "    National Percentile (age adjusted)_r  Fully-Corrected T-score_r  \n",
       "14                                 30.00                      38.00  \n",
       "15                                 10.00                      31.00  "
      ]
     },
     "execution_count": 164,
     "metadata": {},
     "output_type": "execute_result"
    }
   ],
   "source": [
    "scores[scores['PIN']=='EPRC_00380_A']"
   ]
  },
  {
   "cell_type": "markdown",
   "metadata": {
    "id": "fn2Lwf_l_U-H"
   },
   "source": [
    "# 5.\tA student’s t-test for everyone "
   ]
  },
  {
   "cell_type": "code",
   "execution_count": 165,
   "metadata": {},
   "outputs": [
    {
     "name": "stdout",
     "output_type": "stream",
     "text": [
      "***Composite: unmatched t-test for everyone***\n",
      "\n",
      "- Cognition Crystallized Composite v1.1 -\n",
      "Age R: 96.33 ( 12.79 ) N= 15\n",
      "Age: 99.44 ( 11.38 ) N= 18\n",
      "Fully R: 46.53 ( 8.26 ) N= 15\n",
      "Fully: 46.72 ( 8.34 ) N= 18\n",
      "\n",
      "Aged cohen   0.26 Fully cohen   0.02\n",
      "\n",
      "Aged: t-statistic =   0.73, pvalue =  0.471\n",
      "Fully: t-statistic =   0.07, pvalue =  0.949\n",
      "\n",
      "- Cognition Early Childhood Composite v1.1 -\n",
      "Age R: 96.77 ( 12.64 ) N= 13\n",
      "Age: 101.61 ( 9.95 ) N= 18\n",
      "Fully R: 44.46 ( 8.19 ) N= 13\n",
      "Fully: 47.0 ( 5.91 ) N= 18\n",
      "\n",
      "Aged cohen   0.43 Fully cohen   0.37\n",
      "\n",
      "Aged: t-statistic =   1.15, pvalue =  0.263\n",
      "Fully: t-statistic =   0.95, pvalue =  0.352\n",
      "\n"
     ]
    }
   ],
   "source": [
    "print('***Composite: unmatched t-test for everyone***\\n')\n",
    "unmatched_ttest(comp, comp_r)"
   ]
  },
  {
   "cell_type": "code",
   "execution_count": 166,
   "metadata": {},
   "outputs": [
    {
     "ename": "NameError",
     "evalue": "name 'sys' is not defined",
     "output_type": "error",
     "traceback": [
      "\u001b[1;31m---------------------------------------------------------------------------\u001b[0m",
      "\u001b[1;31mNameError\u001b[0m                                 Traceback (most recent call last)",
      "\u001b[1;32m<ipython-input-166-7c58696d9253>\u001b[0m in \u001b[0;36m<module>\u001b[1;34m\u001b[0m\n\u001b[1;32m----> 1\u001b[1;33m \u001b[0msys\u001b[0m\u001b[1;33m.\u001b[0m\u001b[0mstdout\u001b[0m\u001b[1;33m.\u001b[0m\u001b[0mclose\u001b[0m\u001b[1;33m(\u001b[0m\u001b[1;33m)\u001b[0m\u001b[1;33m\u001b[0m\u001b[1;33m\u001b[0m\u001b[0m\n\u001b[0m\u001b[0;32m      2\u001b[0m \u001b[0msys\u001b[0m\u001b[1;33m.\u001b[0m\u001b[0mstdout\u001b[0m\u001b[1;33m=\u001b[0m\u001b[0mstdoutOrigin\u001b[0m\u001b[1;33m\u001b[0m\u001b[1;33m\u001b[0m\u001b[0m\n",
      "\u001b[1;31mNameError\u001b[0m: name 'sys' is not defined"
     ]
    }
   ],
   "source": [
    "sys.stdout.close()\n",
    "sys.stdout=stdoutOrigin"
   ]
  },
  {
   "cell_type": "markdown",
   "metadata": {
    "id": "02ViorSi1vK7"
   },
   "source": [
    "# Wide to Long"
   ]
  },
  {
   "cell_type": "code",
   "execution_count": 167,
   "metadata": {
    "id": "XoJbrwWn2oZb"
   },
   "outputs": [],
   "source": [
    "all = pd.concat([df,dfr]) "
   ]
  },
  {
   "cell_type": "code",
   "execution_count": 168,
   "metadata": {},
   "outputs": [
    {
     "data": {
      "text/plain": [
       "array(['NIH Toolbox Picture Vocabulary Test Age 3+ v2.1',\n",
       "       'NIH Toolbox Flanker Inhibitory Control and Attention Test Ages 8-11 v2.1',\n",
       "       'NIH Toolbox List Sorting Working Memory Test Age 7+ v2.1',\n",
       "       'NIH Toolbox Dimensional Change Card Sort Test Ages 8-11 v2.1',\n",
       "       'NIH Toolbox Pattern Comparison Processing Speed Test Age 7+ v2.1',\n",
       "       'NIH Toolbox Picture Sequence Memory Test Age 8+ Form A v2.1',\n",
       "       'NIH Toolbox Oral Reading Recognition Test Age 3+ v2.1',\n",
       "       'Cognition Fluid Composite v1.1',\n",
       "       'Cognition Crystallized Composite v1.1',\n",
       "       'Cognition Total Composite Score v1.1',\n",
       "       'Cognition Early Childhood Composite v1.1',\n",
       "       'NIH Toolbox Oral Reading Recognition Test Age 3+ Instructions v2.1',\n",
       "       'NIH Toolbox Picture Sequence Memory Test Age 8+ Form B v2.1'],\n",
       "      dtype=object)"
      ]
     },
     "execution_count": 168,
     "metadata": {},
     "output_type": "execute_result"
    }
   ],
   "source": [
    "all.Inst.unique()"
   ]
  },
  {
   "cell_type": "code",
   "execution_count": 169,
   "metadata": {},
   "outputs": [],
   "source": [
    "def combine(df, dfr, select):\n",
    "    a=df[df.Inst==select][['PIN','RawScore']]\n",
    "    b=dfr[dfr.Inst==select][['PIN','RawScore']]\n",
    "    ab = pd.merge(a, b, on=[\"PIN\"])\n",
    "    \n",
    "    return ab.iloc[:,1:]"
   ]
  },
  {
   "cell_type": "code",
   "execution_count": 170,
   "metadata": {},
   "outputs": [
    {
     "data": {
      "text/html": [
       "<div>\n",
       "<style scoped>\n",
       "    .dataframe tbody tr th:only-of-type {\n",
       "        vertical-align: middle;\n",
       "    }\n",
       "\n",
       "    .dataframe tbody tr th {\n",
       "        vertical-align: top;\n",
       "    }\n",
       "\n",
       "    .dataframe thead th {\n",
       "        text-align: right;\n",
       "    }\n",
       "</style>\n",
       "<table border=\"1\" class=\"dataframe\">\n",
       "  <thead>\n",
       "    <tr style=\"text-align: right;\">\n",
       "      <th></th>\n",
       "      <th>RawScore_x</th>\n",
       "      <th>RawScore_y</th>\n",
       "    </tr>\n",
       "  </thead>\n",
       "  <tbody>\n",
       "    <tr>\n",
       "      <th>0</th>\n",
       "      <td>26.00</td>\n",
       "      <td>29.00</td>\n",
       "    </tr>\n",
       "    <tr>\n",
       "      <th>1</th>\n",
       "      <td>30.00</td>\n",
       "      <td>30.00</td>\n",
       "    </tr>\n",
       "    <tr>\n",
       "      <th>2</th>\n",
       "      <td>27.00</td>\n",
       "      <td>29.00</td>\n",
       "    </tr>\n",
       "    <tr>\n",
       "      <th>3</th>\n",
       "      <td>28.00</td>\n",
       "      <td>30.00</td>\n",
       "    </tr>\n",
       "    <tr>\n",
       "      <th>4</th>\n",
       "      <td>25.00</td>\n",
       "      <td>26.00</td>\n",
       "    </tr>\n",
       "    <tr>\n",
       "      <th>5</th>\n",
       "      <td>30.00</td>\n",
       "      <td>29.00</td>\n",
       "    </tr>\n",
       "    <tr>\n",
       "      <th>6</th>\n",
       "      <td>29.00</td>\n",
       "      <td>25.00</td>\n",
       "    </tr>\n",
       "    <tr>\n",
       "      <th>7</th>\n",
       "      <td>30.00</td>\n",
       "      <td>28.00</td>\n",
       "    </tr>\n",
       "    <tr>\n",
       "      <th>8</th>\n",
       "      <td>29.00</td>\n",
       "      <td>26.00</td>\n",
       "    </tr>\n",
       "    <tr>\n",
       "      <th>9</th>\n",
       "      <td>29.00</td>\n",
       "      <td>30.00</td>\n",
       "    </tr>\n",
       "    <tr>\n",
       "      <th>10</th>\n",
       "      <td>30.00</td>\n",
       "      <td>29.00</td>\n",
       "    </tr>\n",
       "    <tr>\n",
       "      <th>11</th>\n",
       "      <td>28.00</td>\n",
       "      <td>29.00</td>\n",
       "    </tr>\n",
       "    <tr>\n",
       "      <th>12</th>\n",
       "      <td>30.00</td>\n",
       "      <td>29.00</td>\n",
       "    </tr>\n",
       "    <tr>\n",
       "      <th>13</th>\n",
       "      <td>30.00</td>\n",
       "      <td>30.00</td>\n",
       "    </tr>\n",
       "    <tr>\n",
       "      <th>14</th>\n",
       "      <td>30.00</td>\n",
       "      <td>27.00</td>\n",
       "    </tr>\n",
       "    <tr>\n",
       "      <th>15</th>\n",
       "      <td>28.00</td>\n",
       "      <td>25.00</td>\n",
       "    </tr>\n",
       "  </tbody>\n",
       "</table>\n",
       "</div>"
      ],
      "text/plain": [
       "    RawScore_x  RawScore_y\n",
       "0        26.00       29.00\n",
       "1        30.00       30.00\n",
       "2        27.00       29.00\n",
       "3        28.00       30.00\n",
       "4        25.00       26.00\n",
       "5        30.00       29.00\n",
       "6        29.00       25.00\n",
       "7        30.00       28.00\n",
       "8        29.00       26.00\n",
       "9        29.00       30.00\n",
       "10       30.00       29.00\n",
       "11       28.00       29.00\n",
       "12       30.00       29.00\n",
       "13       30.00       30.00\n",
       "14       30.00       27.00\n",
       "15       28.00       25.00"
      ]
     },
     "execution_count": 170,
     "metadata": {},
     "output_type": "execute_result"
    }
   ],
   "source": [
    "combine(df, dfr, 'NIH Toolbox Dimensional Change Card Sort Test Ages 8-11 v2.1')"
   ]
  },
  {
   "cell_type": "code",
   "execution_count": 171,
   "metadata": {},
   "outputs": [
    {
     "data": {
      "text/html": [
       "<div>\n",
       "<style scoped>\n",
       "    .dataframe tbody tr th:only-of-type {\n",
       "        vertical-align: middle;\n",
       "    }\n",
       "\n",
       "    .dataframe tbody tr th {\n",
       "        vertical-align: top;\n",
       "    }\n",
       "\n",
       "    .dataframe thead th {\n",
       "        text-align: right;\n",
       "    }\n",
       "</style>\n",
       "<table border=\"1\" class=\"dataframe\">\n",
       "  <thead>\n",
       "    <tr style=\"text-align: right;\">\n",
       "      <th></th>\n",
       "      <th>RawScore_x</th>\n",
       "      <th>RawScore_y</th>\n",
       "    </tr>\n",
       "  </thead>\n",
       "  <tbody>\n",
       "    <tr>\n",
       "      <th>0</th>\n",
       "      <td>20.00</td>\n",
       "      <td>20.00</td>\n",
       "    </tr>\n",
       "    <tr>\n",
       "      <th>1</th>\n",
       "      <td>20.00</td>\n",
       "      <td>20.00</td>\n",
       "    </tr>\n",
       "    <tr>\n",
       "      <th>2</th>\n",
       "      <td>20.00</td>\n",
       "      <td>20.00</td>\n",
       "    </tr>\n",
       "    <tr>\n",
       "      <th>3</th>\n",
       "      <td>20.00</td>\n",
       "      <td>20.00</td>\n",
       "    </tr>\n",
       "    <tr>\n",
       "      <th>4</th>\n",
       "      <td>20.00</td>\n",
       "      <td>19.00</td>\n",
       "    </tr>\n",
       "    <tr>\n",
       "      <th>5</th>\n",
       "      <td>19.00</td>\n",
       "      <td>19.00</td>\n",
       "    </tr>\n",
       "    <tr>\n",
       "      <th>6</th>\n",
       "      <td>20.00</td>\n",
       "      <td>20.00</td>\n",
       "    </tr>\n",
       "    <tr>\n",
       "      <th>7</th>\n",
       "      <td>20.00</td>\n",
       "      <td>20.00</td>\n",
       "    </tr>\n",
       "    <tr>\n",
       "      <th>8</th>\n",
       "      <td>19.00</td>\n",
       "      <td>17.00</td>\n",
       "    </tr>\n",
       "    <tr>\n",
       "      <th>9</th>\n",
       "      <td>20.00</td>\n",
       "      <td>20.00</td>\n",
       "    </tr>\n",
       "    <tr>\n",
       "      <th>10</th>\n",
       "      <td>20.00</td>\n",
       "      <td>20.00</td>\n",
       "    </tr>\n",
       "    <tr>\n",
       "      <th>11</th>\n",
       "      <td>20.00</td>\n",
       "      <td>20.00</td>\n",
       "    </tr>\n",
       "    <tr>\n",
       "      <th>12</th>\n",
       "      <td>20.00</td>\n",
       "      <td>20.00</td>\n",
       "    </tr>\n",
       "    <tr>\n",
       "      <th>13</th>\n",
       "      <td>20.00</td>\n",
       "      <td>20.00</td>\n",
       "    </tr>\n",
       "    <tr>\n",
       "      <th>14</th>\n",
       "      <td>20.00</td>\n",
       "      <td>18.00</td>\n",
       "    </tr>\n",
       "    <tr>\n",
       "      <th>15</th>\n",
       "      <td>20.00</td>\n",
       "      <td>20.00</td>\n",
       "    </tr>\n",
       "  </tbody>\n",
       "</table>\n",
       "</div>"
      ],
      "text/plain": [
       "    RawScore_x  RawScore_y\n",
       "0        20.00       20.00\n",
       "1        20.00       20.00\n",
       "2        20.00       20.00\n",
       "3        20.00       20.00\n",
       "4        20.00       19.00\n",
       "5        19.00       19.00\n",
       "6        20.00       20.00\n",
       "7        20.00       20.00\n",
       "8        19.00       17.00\n",
       "9        20.00       20.00\n",
       "10       20.00       20.00\n",
       "11       20.00       20.00\n",
       "12       20.00       20.00\n",
       "13       20.00       20.00\n",
       "14       20.00       18.00\n",
       "15       20.00       20.00"
      ]
     },
     "execution_count": 171,
     "metadata": {},
     "output_type": "execute_result"
    }
   ],
   "source": [
    "combine(df, dfr, 'NIH Toolbox Flanker Inhibitory Control and Attention Test Ages 8-11 v2.1')"
   ]
  },
  {
   "cell_type": "code",
   "execution_count": 172,
   "metadata": {
    "colab": {
     "base_uri": "https://localhost:8080/",
     "height": 204
    },
    "id": "_5w5JDXW_KNO",
    "outputId": "d9b7cfd6-7f1f-44f5-a908-c67366e2432b"
   },
   "outputs": [
    {
     "data": {
      "text/html": [
       "<div>\n",
       "<style scoped>\n",
       "    .dataframe tbody tr th:only-of-type {\n",
       "        vertical-align: middle;\n",
       "    }\n",
       "\n",
       "    .dataframe tbody tr th {\n",
       "        vertical-align: top;\n",
       "    }\n",
       "\n",
       "    .dataframe thead th {\n",
       "        text-align: right;\n",
       "    }\n",
       "</style>\n",
       "<table border=\"1\" class=\"dataframe\">\n",
       "  <thead>\n",
       "    <tr style=\"text-align: right;\">\n",
       "      <th></th>\n",
       "      <th>PIN</th>\n",
       "      <th>Inst</th>\n",
       "      <th>Date</th>\n",
       "      <th>Time</th>\n",
       "      <th>Mode</th>\n",
       "    </tr>\n",
       "  </thead>\n",
       "  <tbody>\n",
       "    <tr>\n",
       "      <th>137</th>\n",
       "      <td>EPSF_01247_A</td>\n",
       "      <td>NIH Toolbox Dimensional Change Card Sort Test ...</td>\n",
       "      <td>2021-04-12</td>\n",
       "      <td>5.28</td>\n",
       "      <td>In Person</td>\n",
       "    </tr>\n",
       "    <tr>\n",
       "      <th>138</th>\n",
       "      <td>EPSF_01247_A</td>\n",
       "      <td>NIH Toolbox Flanker Inhibitory Control and Att...</td>\n",
       "      <td>2021-04-12</td>\n",
       "      <td>3.53</td>\n",
       "      <td>In Person</td>\n",
       "    </tr>\n",
       "    <tr>\n",
       "      <th>139</th>\n",
       "      <td>EPSF_01247_A</td>\n",
       "      <td>NIH Toolbox List Sorting Working Memory Test A...</td>\n",
       "      <td>2021-04-12</td>\n",
       "      <td>6.73</td>\n",
       "      <td>In Person</td>\n",
       "    </tr>\n",
       "    <tr>\n",
       "      <th>140</th>\n",
       "      <td>EPSF_01247_A</td>\n",
       "      <td>NIH Toolbox Oral Reading Recognition Test Age ...</td>\n",
       "      <td>2021-04-12</td>\n",
       "      <td>1.63</td>\n",
       "      <td>In Person</td>\n",
       "    </tr>\n",
       "    <tr>\n",
       "      <th>141</th>\n",
       "      <td>EPSF_01247_A</td>\n",
       "      <td>NIH Toolbox Pattern Comparison Processing Spee...</td>\n",
       "      <td>2021-04-12</td>\n",
       "      <td>1.73</td>\n",
       "      <td>In Person</td>\n",
       "    </tr>\n",
       "    <tr>\n",
       "      <th>142</th>\n",
       "      <td>EPSF_01247_A</td>\n",
       "      <td>NIH Toolbox Pattern Comparison Processing Spee...</td>\n",
       "      <td>2021-04-12</td>\n",
       "      <td>1.72</td>\n",
       "      <td>In Person</td>\n",
       "    </tr>\n",
       "    <tr>\n",
       "      <th>143</th>\n",
       "      <td>EPSF_01247_A</td>\n",
       "      <td>NIH Toolbox Picture Sequence Memory Test Age 8...</td>\n",
       "      <td>2021-04-12</td>\n",
       "      <td>7.22</td>\n",
       "      <td>In Person</td>\n",
       "    </tr>\n",
       "    <tr>\n",
       "      <th>144</th>\n",
       "      <td>EPSF_01247_A</td>\n",
       "      <td>NIH Toolbox Picture Vocabulary Test Age 3+ Pra...</td>\n",
       "      <td>2021-04-12</td>\n",
       "      <td>1.38</td>\n",
       "      <td>In Person</td>\n",
       "    </tr>\n",
       "    <tr>\n",
       "      <th>145</th>\n",
       "      <td>EPSF_01247_A</td>\n",
       "      <td>NIH Toolbox Picture Vocabulary Test Age 3+ v2.1</td>\n",
       "      <td>2021-04-12</td>\n",
       "      <td>1.80</td>\n",
       "      <td>In Person</td>\n",
       "    </tr>\n",
       "  </tbody>\n",
       "</table>\n",
       "</div>"
      ],
      "text/plain": [
       "              PIN                                               Inst  \\\n",
       "137  EPSF_01247_A  NIH Toolbox Dimensional Change Card Sort Test ...   \n",
       "138  EPSF_01247_A  NIH Toolbox Flanker Inhibitory Control and Att...   \n",
       "139  EPSF_01247_A  NIH Toolbox List Sorting Working Memory Test A...   \n",
       "140  EPSF_01247_A  NIH Toolbox Oral Reading Recognition Test Age ...   \n",
       "141  EPSF_01247_A  NIH Toolbox Pattern Comparison Processing Spee...   \n",
       "142  EPSF_01247_A  NIH Toolbox Pattern Comparison Processing Spee...   \n",
       "143  EPSF_01247_A  NIH Toolbox Picture Sequence Memory Test Age 8...   \n",
       "144  EPSF_01247_A  NIH Toolbox Picture Vocabulary Test Age 3+ Pra...   \n",
       "145  EPSF_01247_A    NIH Toolbox Picture Vocabulary Test Age 3+ v2.1   \n",
       "\n",
       "           Date  Time       Mode  \n",
       "137  2021-04-12  5.28  In Person  \n",
       "138  2021-04-12  3.53  In Person  \n",
       "139  2021-04-12  6.73  In Person  \n",
       "140  2021-04-12  1.63  In Person  \n",
       "141  2021-04-12  1.73  In Person  \n",
       "142  2021-04-12  1.72  In Person  \n",
       "143  2021-04-12  7.22  In Person  \n",
       "144  2021-04-12  1.38  In Person  \n",
       "145  2021-04-12  1.80  In Person  "
      ]
     },
     "execution_count": 172,
     "metadata": {},
     "output_type": "execute_result"
    }
   ],
   "source": [
    "time_breakdown[time_breakdown['PIN']=='EPSF_01247_A']"
   ]
  },
  {
   "cell_type": "code",
   "execution_count": 173,
   "metadata": {
    "id": "aYRQ3GZx2r4x"
   },
   "outputs": [],
   "source": [
    "rv =pd.merge(time_breakdown, all, how='outer',on=['PIN','Inst','Mode'])"
   ]
  },
  {
   "cell_type": "code",
   "execution_count": 174,
   "metadata": {
    "colab": {
     "base_uri": "https://localhost:8080/"
    },
    "id": "jKHrHKsI2-EG",
    "outputId": "82827e91-d6e2-419e-937c-b5131d41c3a0"
   },
   "outputs": [
    {
     "data": {
      "text/plain": [
       "(389, 16)"
      ]
     },
     "execution_count": 174,
     "metadata": {},
     "output_type": "execute_result"
    }
   ],
   "source": [
    "rv.shape"
   ]
  },
  {
   "cell_type": "code",
   "execution_count": 175,
   "metadata": {
    "id": "U7BnD7OT6RM-"
   },
   "outputs": [],
   "source": [
    "rv['Site'] = np.where(rv['PIN'].str.contains('SF'), 'Sioux Falls', 'Rapid City')"
   ]
  },
  {
   "cell_type": "code",
   "execution_count": 176,
   "metadata": {},
   "outputs": [],
   "source": [
    "rv.loc[(rv['PIN']=='EPRC_00173_A') & (rv['Mode']=='In Person'),'Date'] ='2021-03-31'\n",
    "rv.loc[(rv['PIN']=='EPRC_00173_A') & (rv['Mode']=='Remote'),'Date'] ='2021-04-08'"
   ]
  },
  {
   "cell_type": "code",
   "execution_count": 177,
   "metadata": {},
   "outputs": [
    {
     "data": {
      "text/plain": [
       "18"
      ]
     },
     "execution_count": 177,
     "metadata": {},
     "output_type": "execute_result"
    }
   ],
   "source": [
    "rv['PIN'].nunique()"
   ]
  },
  {
   "cell_type": "code",
   "execution_count": 178,
   "metadata": {},
   "outputs": [
    {
     "data": {
      "text/html": [
       "<div>\n",
       "<style scoped>\n",
       "    .dataframe tbody tr th:only-of-type {\n",
       "        vertical-align: middle;\n",
       "    }\n",
       "\n",
       "    .dataframe tbody tr th {\n",
       "        vertical-align: top;\n",
       "    }\n",
       "\n",
       "    .dataframe thead th {\n",
       "        text-align: right;\n",
       "    }\n",
       "</style>\n",
       "<table border=\"1\" class=\"dataframe\">\n",
       "  <thead>\n",
       "    <tr style=\"text-align: right;\">\n",
       "      <th></th>\n",
       "      <th>PIN</th>\n",
       "      <th>Mode</th>\n",
       "      <th>Date</th>\n",
       "    </tr>\n",
       "  </thead>\n",
       "  <tbody>\n",
       "    <tr>\n",
       "      <th>0</th>\n",
       "      <td>EPRC_00032_A</td>\n",
       "      <td>In Person</td>\n",
       "      <td>2021-03-30</td>\n",
       "    </tr>\n",
       "    <tr>\n",
       "      <th>1</th>\n",
       "      <td>EPRC_00032_A</td>\n",
       "      <td>Remote</td>\n",
       "      <td>2021-04-06</td>\n",
       "    </tr>\n",
       "    <tr>\n",
       "      <th>2</th>\n",
       "      <td>EPRC_00160_A</td>\n",
       "      <td>In Person</td>\n",
       "      <td>2021-04-23</td>\n",
       "    </tr>\n",
       "    <tr>\n",
       "      <th>3</th>\n",
       "      <td>EPRC_00160_A</td>\n",
       "      <td>Remote</td>\n",
       "      <td>2021-04-16</td>\n",
       "    </tr>\n",
       "    <tr>\n",
       "      <th>4</th>\n",
       "      <td>EPRC_00162_A</td>\n",
       "      <td>In Person</td>\n",
       "      <td>2021-04-07</td>\n",
       "    </tr>\n",
       "    <tr>\n",
       "      <th>5</th>\n",
       "      <td>EPRC_00162_A</td>\n",
       "      <td>Remote</td>\n",
       "      <td>2021-04-14</td>\n",
       "    </tr>\n",
       "    <tr>\n",
       "      <th>6</th>\n",
       "      <td>EPRC_00173_A</td>\n",
       "      <td>In Person</td>\n",
       "      <td>2021-03-31</td>\n",
       "    </tr>\n",
       "    <tr>\n",
       "      <th>7</th>\n",
       "      <td>EPRC_00173_A</td>\n",
       "      <td>Remote</td>\n",
       "      <td>2021-04-08</td>\n",
       "    </tr>\n",
       "    <tr>\n",
       "      <th>8</th>\n",
       "      <td>EPRC_00179_A</td>\n",
       "      <td>In Person</td>\n",
       "      <td>2021-04-27</td>\n",
       "    </tr>\n",
       "    <tr>\n",
       "      <th>9</th>\n",
       "      <td>EPRC_00179_A</td>\n",
       "      <td>Remote</td>\n",
       "      <td>2021-04-20</td>\n",
       "    </tr>\n",
       "    <tr>\n",
       "      <th>10</th>\n",
       "      <td>EPRC_00181_A</td>\n",
       "      <td>In Person</td>\n",
       "      <td>2021-04-20</td>\n",
       "    </tr>\n",
       "    <tr>\n",
       "      <th>11</th>\n",
       "      <td>EPRC_00181_A</td>\n",
       "      <td>Remote</td>\n",
       "      <td>2021-04-15</td>\n",
       "    </tr>\n",
       "    <tr>\n",
       "      <th>12</th>\n",
       "      <td>EPRC_00183_A</td>\n",
       "      <td>In Person</td>\n",
       "      <td>2021-04-22</td>\n",
       "    </tr>\n",
       "    <tr>\n",
       "      <th>13</th>\n",
       "      <td>EPRC_00183_A</td>\n",
       "      <td>Remote</td>\n",
       "      <td>2021-04-15</td>\n",
       "    </tr>\n",
       "    <tr>\n",
       "      <th>14</th>\n",
       "      <td>EPRC_00191_A</td>\n",
       "      <td>In Person</td>\n",
       "      <td>2021-05-06</td>\n",
       "    </tr>\n",
       "    <tr>\n",
       "      <th>15</th>\n",
       "      <td>EPRC_00191_A</td>\n",
       "      <td>Remote</td>\n",
       "      <td>2021-04-26</td>\n",
       "    </tr>\n",
       "    <tr>\n",
       "      <th>16</th>\n",
       "      <td>EPRC_00380_A</td>\n",
       "      <td>In Person</td>\n",
       "      <td>2021-04-19</td>\n",
       "    </tr>\n",
       "    <tr>\n",
       "      <th>17</th>\n",
       "      <td>EPRC_00380_A</td>\n",
       "      <td>Remote</td>\n",
       "      <td>2021-04-12</td>\n",
       "    </tr>\n",
       "    <tr>\n",
       "      <th>18</th>\n",
       "      <td>EPRC_00550_A</td>\n",
       "      <td>In Person</td>\n",
       "      <td>2021-04-12</td>\n",
       "    </tr>\n",
       "    <tr>\n",
       "      <th>19</th>\n",
       "      <td>EPRC_00550_A</td>\n",
       "      <td>Remote</td>\n",
       "      <td>2021-04-19</td>\n",
       "    </tr>\n",
       "    <tr>\n",
       "      <th>20</th>\n",
       "      <td>EPSF_00832_A</td>\n",
       "      <td>In Person</td>\n",
       "      <td>2021-04-13</td>\n",
       "    </tr>\n",
       "    <tr>\n",
       "      <th>21</th>\n",
       "      <td>EPSF_00832_A</td>\n",
       "      <td>Remote</td>\n",
       "      <td>2021-04-08</td>\n",
       "    </tr>\n",
       "    <tr>\n",
       "      <th>22</th>\n",
       "      <td>EPSF_00836_A</td>\n",
       "      <td>In Person</td>\n",
       "      <td>2021-04-13</td>\n",
       "    </tr>\n",
       "    <tr>\n",
       "      <th>23</th>\n",
       "      <td>EPSF_00836_A</td>\n",
       "      <td>Remote</td>\n",
       "      <td>2021-04-15</td>\n",
       "    </tr>\n",
       "    <tr>\n",
       "      <th>24</th>\n",
       "      <td>EPSF_00847_A</td>\n",
       "      <td>In Person</td>\n",
       "      <td>2021-04-12</td>\n",
       "    </tr>\n",
       "    <tr>\n",
       "      <th>25</th>\n",
       "      <td>EPSF_00847_A</td>\n",
       "      <td>Remote</td>\n",
       "      <td>2021-04-09</td>\n",
       "    </tr>\n",
       "    <tr>\n",
       "      <th>26</th>\n",
       "      <td>EPSF_00943_A</td>\n",
       "      <td>In Person</td>\n",
       "      <td>2021-04-09</td>\n",
       "    </tr>\n",
       "    <tr>\n",
       "      <th>27</th>\n",
       "      <td>EPSF_00944_A</td>\n",
       "      <td>In Person</td>\n",
       "      <td>2021-04-16</td>\n",
       "    </tr>\n",
       "    <tr>\n",
       "      <th>28</th>\n",
       "      <td>EPSF_00944_A</td>\n",
       "      <td>Remote</td>\n",
       "      <td>2021-04-09</td>\n",
       "    </tr>\n",
       "    <tr>\n",
       "      <th>29</th>\n",
       "      <td>EPSF_00944_B</td>\n",
       "      <td>In Person</td>\n",
       "      <td>2021-04-16</td>\n",
       "    </tr>\n",
       "    <tr>\n",
       "      <th>30</th>\n",
       "      <td>EPSF_00944_B</td>\n",
       "      <td>Remote</td>\n",
       "      <td>2021-04-09</td>\n",
       "    </tr>\n",
       "    <tr>\n",
       "      <th>31</th>\n",
       "      <td>EPSF_01247_A</td>\n",
       "      <td>In Person</td>\n",
       "      <td>2021-04-12</td>\n",
       "    </tr>\n",
       "    <tr>\n",
       "      <th>32</th>\n",
       "      <td>EPSF_01666_A</td>\n",
       "      <td>In Person</td>\n",
       "      <td>2021-04-12</td>\n",
       "    </tr>\n",
       "    <tr>\n",
       "      <th>33</th>\n",
       "      <td>EPSF_01666_A</td>\n",
       "      <td>Remote</td>\n",
       "      <td>2021-04-08</td>\n",
       "    </tr>\n",
       "  </tbody>\n",
       "</table>\n",
       "</div>"
      ],
      "text/plain": [
       "             PIN       Mode        Date\n",
       "0   EPRC_00032_A  In Person  2021-03-30\n",
       "1   EPRC_00032_A     Remote  2021-04-06\n",
       "2   EPRC_00160_A  In Person  2021-04-23\n",
       "3   EPRC_00160_A     Remote  2021-04-16\n",
       "4   EPRC_00162_A  In Person  2021-04-07\n",
       "5   EPRC_00162_A     Remote  2021-04-14\n",
       "6   EPRC_00173_A  In Person  2021-03-31\n",
       "7   EPRC_00173_A     Remote  2021-04-08\n",
       "8   EPRC_00179_A  In Person  2021-04-27\n",
       "9   EPRC_00179_A     Remote  2021-04-20\n",
       "10  EPRC_00181_A  In Person  2021-04-20\n",
       "11  EPRC_00181_A     Remote  2021-04-15\n",
       "12  EPRC_00183_A  In Person  2021-04-22\n",
       "13  EPRC_00183_A     Remote  2021-04-15\n",
       "14  EPRC_00191_A  In Person  2021-05-06\n",
       "15  EPRC_00191_A     Remote  2021-04-26\n",
       "16  EPRC_00380_A  In Person  2021-04-19\n",
       "17  EPRC_00380_A     Remote  2021-04-12\n",
       "18  EPRC_00550_A  In Person  2021-04-12\n",
       "19  EPRC_00550_A     Remote  2021-04-19\n",
       "20  EPSF_00832_A  In Person  2021-04-13\n",
       "21  EPSF_00832_A     Remote  2021-04-08\n",
       "22  EPSF_00836_A  In Person  2021-04-13\n",
       "23  EPSF_00836_A     Remote  2021-04-15\n",
       "24  EPSF_00847_A  In Person  2021-04-12\n",
       "25  EPSF_00847_A     Remote  2021-04-09\n",
       "26  EPSF_00943_A  In Person  2021-04-09\n",
       "27  EPSF_00944_A  In Person  2021-04-16\n",
       "28  EPSF_00944_A     Remote  2021-04-09\n",
       "29  EPSF_00944_B  In Person  2021-04-16\n",
       "30  EPSF_00944_B     Remote  2021-04-09\n",
       "31  EPSF_01247_A  In Person  2021-04-12\n",
       "32  EPSF_01666_A  In Person  2021-04-12\n",
       "33  EPSF_01666_A     Remote  2021-04-08"
      ]
     },
     "execution_count": 178,
     "metadata": {},
     "output_type": "execute_result"
    }
   ],
   "source": [
    "summary=rv.groupby(['PIN','Mode'])['Date'].last().reset_index()\n",
    "summary"
   ]
  },
  {
   "cell_type": "code",
   "execution_count": 179,
   "metadata": {},
   "outputs": [],
   "source": [
    "#with pd.ExcelWriter('C:/Users/tsb7592/Box/Avera NIHTB Data/summary1.xlsx') as writer:  \n",
    " #   summary.to_excel(writer,sheet_name='all',index= False)"
   ]
  },
  {
   "cell_type": "code",
   "execution_count": 180,
   "metadata": {
    "colab": {
     "base_uri": "https://localhost:8080/",
     "height": 595
    },
    "id": "PNpXp1sA_r0H",
    "outputId": "393f76cf-b4d8-48e6-dbe5-a9a7040720a8"
   },
   "outputs": [],
   "source": [
    "rv.to_csv('C:/Users/tsb7592/Box/Avera NIHTB Data/wide_format_data.csv', index=False)"
   ]
  },
  {
   "cell_type": "code",
   "execution_count": 181,
   "metadata": {
    "id": "yx--Qwdr1JJz"
   },
   "outputs": [],
   "source": [
    "long = rv.melt(id_vars=['PIN','Inst','Mode','Date','Time','Site'], \n",
    "        var_name=\"Scores\", \n",
    "        value_name=\"Value\")"
   ]
  },
  {
   "cell_type": "code",
   "execution_count": 182,
   "metadata": {
    "id": "m3uIZx2PHrbG"
   },
   "outputs": [],
   "source": [
    "long=long.dropna(thresh=6, axis=0)"
   ]
  },
  {
   "cell_type": "code",
   "execution_count": 183,
   "metadata": {},
   "outputs": [],
   "source": [
    "long=long.drop_duplicates()"
   ]
  },
  {
   "cell_type": "code",
   "execution_count": 184,
   "metadata": {
    "colab": {
     "base_uri": "https://localhost:8080/"
    },
    "id": "2htdbHuqCjCM",
    "outputId": "a8955a87-d761-47e0-b080-6611321da0c1"
   },
   "outputs": [
    {
     "data": {
      "text/plain": [
       "(3526, 8)"
      ]
     },
     "execution_count": 184,
     "metadata": {},
     "output_type": "execute_result"
    }
   ],
   "source": [
    "long.shape"
   ]
  },
  {
   "cell_type": "code",
   "execution_count": 185,
   "metadata": {
    "id": "gceEOcxf5XmR"
   },
   "outputs": [],
   "source": [
    "long.to_csv('C:/Users/tsb7592/Box/Avera NIHTB Data/long_format_data.csv', index=False)"
   ]
  },
  {
   "cell_type": "code",
   "execution_count": null,
   "metadata": {},
   "outputs": [],
   "source": []
  }
 ],
 "metadata": {
  "colab": {
   "collapsed_sections": [],
   "name": "In_person_vs_remote.ipynb",
   "provenance": []
  },
  "kernelspec": {
   "display_name": "Python 3",
   "language": "python",
   "name": "python3"
  },
  "language_info": {
   "codemirror_mode": {
    "name": "ipython",
    "version": 3
   },
   "file_extension": ".py",
   "mimetype": "text/x-python",
   "name": "python",
   "nbconvert_exporter": "python",
   "pygments_lexer": "ipython3",
   "version": "3.8.8"
  }
 },
 "nbformat": 4,
 "nbformat_minor": 1
}
