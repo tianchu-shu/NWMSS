{
 "cells": [
  {
   "cell_type": "code",
   "execution_count": 1,
   "metadata": {
    "id": "ynY1WcZyRZNL"
   },
   "outputs": [],
   "source": [
    "import numpy as np\n",
    "import pandas as pd\n",
    "import matplotlib.pyplot as plt\n",
    "import matplotlib.cm as cm\n",
    "\n",
    "from itertools import cycle\n",
    "\n",
    "from sklearn import svm, datasets\n",
    "from sklearn.metrics import *\n",
    "from sklearn.metrics import roc_curve, auc\n",
    "from sklearn.model_selection import train_test_split\n",
    "from sklearn.preprocessing import label_binarize\n",
    "from sklearn.linear_model import LogisticRegression\n",
    "from scipy import interp\n",
    "from sklearn.metrics import roc_auc_score"
   ]
  },
  {
   "cell_type": "code",
   "execution_count": 2,
   "metadata": {
    "id": "_ZTvZjNPZwli"
   },
   "outputs": [],
   "source": [
    "import warnings\n",
    "warnings.filterwarnings('ignore')"
   ]
  },
  {
   "cell_type": "code",
   "execution_count": 3,
   "metadata": {},
   "outputs": [],
   "source": [
    "#Set two decimal points for display\n",
    "pd.options.display.float_format = \"{:.2f}\".format"
   ]
  },
  {
   "cell_type": "markdown",
   "metadata": {
    "id": "dNBZgau7QvSC"
   },
   "source": [
    "# Load the Data"
   ]
  },
  {
   "cell_type": "code",
   "execution_count": 4,
   "metadata": {
    "colab": {
     "base_uri": "https://localhost:8080/"
    },
    "id": "ZavmAD7CjGfB",
    "outputId": "9d078ce1-e895-4264-8126-88859813acee"
   },
   "outputs": [
    {
     "data": {
      "text/plain": [
       "(1083, 189)"
      ]
     },
     "execution_count": 4,
     "metadata": {},
     "output_type": "execute_result"
    }
   ],
   "source": [
    "armada= pd.read_csv(\"C:/Users/tsb7592/Box/ARMADA Operations/Data and Analysis/May 2020 Interim Analysis Data for Manuscripts/ARMADA_TBSCORES_MAY2020.csv\")\n",
    "armada.shape"
   ]
  },
  {
   "cell_type": "code",
   "execution_count": 5,
   "metadata": {},
   "outputs": [
    {
     "data": {
      "text/plain": [
       "1    817\n",
       "2    266\n",
       "Name: assmnt, dtype: int64"
      ]
     },
     "execution_count": 5,
     "metadata": {},
     "output_type": "execute_result"
    }
   ],
   "source": [
    "armada.assmnt.value_counts()"
   ]
  },
  {
   "cell_type": "code",
   "execution_count": 6,
   "metadata": {},
   "outputs": [
    {
     "data": {
      "text/html": [
       "<div>\n",
       "<style scoped>\n",
       "    .dataframe tbody tr th:only-of-type {\n",
       "        vertical-align: middle;\n",
       "    }\n",
       "\n",
       "    .dataframe tbody tr th {\n",
       "        vertical-align: top;\n",
       "    }\n",
       "\n",
       "    .dataframe thead th {\n",
       "        text-align: right;\n",
       "    }\n",
       "</style>\n",
       "<table border=\"1\" class=\"dataframe\">\n",
       "  <thead>\n",
       "    <tr style=\"text-align: right;\">\n",
       "      <th></th>\n",
       "      <th>ptid</th>\n",
       "      <th>assmnt</th>\n",
       "      <th>site</th>\n",
       "      <th>cohort2</th>\n",
       "      <th>LANGUAGE</th>\n",
       "      <th>AGE</th>\n",
       "      <th>gender_rc</th>\n",
       "      <th>ethnicity_rc</th>\n",
       "      <th>race_tb_rc</th>\n",
       "      <th>racetb_w</th>\n",
       "      <th>...</th>\n",
       "      <th>VisualAc_FCTScore</th>\n",
       "      <th>VisualAc_Raw</th>\n",
       "      <th>VisualAc_svalogmar</th>\n",
       "      <th>VisualAc_svasnellen</th>\n",
       "      <th>VisualAc_UCSScore</th>\n",
       "      <th>WIN_Raw_L</th>\n",
       "      <th>WIN_Raw_R</th>\n",
       "      <th>WIN_Thresh_L</th>\n",
       "      <th>WIN_Thresh_R</th>\n",
       "      <th>race_summary</th>\n",
       "    </tr>\n",
       "  </thead>\n",
       "  <tbody>\n",
       "    <tr>\n",
       "      <th>0</th>\n",
       "      <td>1.45635</td>\n",
       "      <td>1</td>\n",
       "      <td>Emory</td>\n",
       "      <td>6</td>\n",
       "      <td>en-US</td>\n",
       "      <td>82</td>\n",
       "      <td>2</td>\n",
       "      <td>1</td>\n",
       "      <td>2</td>\n",
       "      <td>0</td>\n",
       "      <td>...</td>\n",
       "      <td>60.00</td>\n",
       "      <td>82.00</td>\n",
       "      <td>-0.04</td>\n",
       "      <td>20/16-3</td>\n",
       "      <td>95.00</td>\n",
       "      <td>20.00</td>\n",
       "      <td>18.00</td>\n",
       "      <td>10.00</td>\n",
       "      <td>11.60</td>\n",
       "      <td>2</td>\n",
       "    </tr>\n",
       "    <tr>\n",
       "      <th>1</th>\n",
       "      <td>1.46421</td>\n",
       "      <td>1</td>\n",
       "      <td>Emory</td>\n",
       "      <td>4</td>\n",
       "      <td>en-US</td>\n",
       "      <td>88</td>\n",
       "      <td>1</td>\n",
       "      <td>1</td>\n",
       "      <td>1</td>\n",
       "      <td>1</td>\n",
       "      <td>...</td>\n",
       "      <td>NaN</td>\n",
       "      <td>NaN</td>\n",
       "      <td>NaN</td>\n",
       "      <td>NaN</td>\n",
       "      <td>NaN</td>\n",
       "      <td>NaN</td>\n",
       "      <td>NaN</td>\n",
       "      <td>NaN</td>\n",
       "      <td>NaN</td>\n",
       "      <td>1</td>\n",
       "    </tr>\n",
       "    <tr>\n",
       "      <th>2</th>\n",
       "      <td>1.46421</td>\n",
       "      <td>2</td>\n",
       "      <td>Emory</td>\n",
       "      <td>4</td>\n",
       "      <td>en-US</td>\n",
       "      <td>89</td>\n",
       "      <td>1</td>\n",
       "      <td>1</td>\n",
       "      <td>1</td>\n",
       "      <td>1</td>\n",
       "      <td>...</td>\n",
       "      <td>NaN</td>\n",
       "      <td>76.00</td>\n",
       "      <td>0.08</td>\n",
       "      <td>20/20-4</td>\n",
       "      <td>82.00</td>\n",
       "      <td>0.00</td>\n",
       "      <td>0.00</td>\n",
       "      <td>26.00</td>\n",
       "      <td>26.00</td>\n",
       "      <td>1</td>\n",
       "    </tr>\n",
       "    <tr>\n",
       "      <th>3</th>\n",
       "      <td>1.46422</td>\n",
       "      <td>1</td>\n",
       "      <td>Emory</td>\n",
       "      <td>3</td>\n",
       "      <td>en-US</td>\n",
       "      <td>88</td>\n",
       "      <td>2</td>\n",
       "      <td>1</td>\n",
       "      <td>1</td>\n",
       "      <td>1</td>\n",
       "      <td>...</td>\n",
       "      <td>NaN</td>\n",
       "      <td>70.00</td>\n",
       "      <td>0.20</td>\n",
       "      <td>20/30</td>\n",
       "      <td>70.00</td>\n",
       "      <td>7.00</td>\n",
       "      <td>9.00</td>\n",
       "      <td>20.40</td>\n",
       "      <td>18.80</td>\n",
       "      <td>1</td>\n",
       "    </tr>\n",
       "    <tr>\n",
       "      <th>4</th>\n",
       "      <td>1.46422</td>\n",
       "      <td>2</td>\n",
       "      <td>Emory</td>\n",
       "      <td>3</td>\n",
       "      <td>en-US</td>\n",
       "      <td>89</td>\n",
       "      <td>2</td>\n",
       "      <td>1</td>\n",
       "      <td>1</td>\n",
       "      <td>1</td>\n",
       "      <td>...</td>\n",
       "      <td>NaN</td>\n",
       "      <td>77.00</td>\n",
       "      <td>0.06</td>\n",
       "      <td>20/20-3</td>\n",
       "      <td>84.00</td>\n",
       "      <td>5.00</td>\n",
       "      <td>8.00</td>\n",
       "      <td>22.00</td>\n",
       "      <td>19.60</td>\n",
       "      <td>1</td>\n",
       "    </tr>\n",
       "  </tbody>\n",
       "</table>\n",
       "<p>5 rows × 189 columns</p>\n",
       "</div>"
      ],
      "text/plain": [
       "      ptid  assmnt   site  cohort2 LANGUAGE  AGE  gender_rc  ethnicity_rc  \\\n",
       "0  1.45635       1  Emory        6    en-US   82          2             1   \n",
       "1  1.46421       1  Emory        4    en-US   88          1             1   \n",
       "2  1.46421       2  Emory        4    en-US   89          1             1   \n",
       "3  1.46422       1  Emory        3    en-US   88          2             1   \n",
       "4  1.46422       2  Emory        3    en-US   89          2             1   \n",
       "\n",
       "   race_tb_rc  racetb_w  ...  VisualAc_FCTScore  VisualAc_Raw  \\\n",
       "0           2         0  ...              60.00         82.00   \n",
       "1           1         1  ...                NaN           NaN   \n",
       "2           1         1  ...                NaN         76.00   \n",
       "3           1         1  ...                NaN         70.00   \n",
       "4           1         1  ...                NaN         77.00   \n",
       "\n",
       "   VisualAc_svalogmar  VisualAc_svasnellen  VisualAc_UCSScore  WIN_Raw_L  \\\n",
       "0               -0.04              20/16-3              95.00      20.00   \n",
       "1                 NaN                  NaN                NaN        NaN   \n",
       "2                0.08              20/20-4              82.00       0.00   \n",
       "3                0.20                20/30              70.00       7.00   \n",
       "4                0.06              20/20-3              84.00       5.00   \n",
       "\n",
       "   WIN_Raw_R  WIN_Thresh_L  WIN_Thresh_R  race_summary  \n",
       "0      18.00         10.00         11.60             2  \n",
       "1        NaN           NaN           NaN             1  \n",
       "2       0.00         26.00         26.00             1  \n",
       "3       9.00         20.40         18.80             1  \n",
       "4       8.00         22.00         19.60             1  \n",
       "\n",
       "[5 rows x 189 columns]"
      ]
     },
     "execution_count": 6,
     "metadata": {},
     "output_type": "execute_result"
    }
   ],
   "source": [
    "armada.head()"
   ]
  },
  {
   "cell_type": "code",
   "execution_count": 7,
   "metadata": {
    "id": "zBkF1XnvQ31K"
   },
   "outputs": [],
   "source": [
    "cohort ={1:\"Gen population healthy aging 85+\", 2:\"Gen population 65-85\", 3:\"Gen population MCI\",\n",
    "4:\"Gen population AD\", 5:\"African American mild cognitive impairment\",\n",
    "6:\"African American normal controls 65-85\", 7:\"Spanish Speaking mild cognitive impairment\",\n",
    "8:\"Spanish Speaking normal controls 65-85\", 9:\"Spanish Speaking AD\"}"
   ]
  },
  {
   "cell_type": "code",
   "execution_count": 8,
   "metadata": {
    "id": "SwKEJm7_RZs6"
   },
   "outputs": [],
   "source": [
    "#Rename the value under column cohort2\n",
    "armada['cohort2'] = armada['cohort2'].map(cohort)"
   ]
  },
  {
   "cell_type": "code",
   "execution_count": 9,
   "metadata": {},
   "outputs": [
    {
     "data": {
      "text/plain": [
       "Gen population 65-85                          266\n",
       "Gen population MCI                            140\n",
       "Gen population healthy aging 85+              138\n",
       "Spanish Speaking normal controls 65-85        130\n",
       "African American normal controls 65-85        128\n",
       "Spanish Speaking mild cognitive impairment    125\n",
       "Gen population AD                              85\n",
       "African American mild cognitive impairment     46\n",
       "Spanish Speaking AD                            25\n",
       "Name: cohort2, dtype: int64"
      ]
     },
     "execution_count": 9,
     "metadata": {},
     "output_type": "execute_result"
    }
   ],
   "source": [
    "armada.cohort2.value_counts()"
   ]
  },
  {
   "cell_type": "code",
   "execution_count": 10,
   "metadata": {},
   "outputs": [],
   "source": [
    "#filter by assmnt = 1\n",
    "armada = armada[armada.assmnt==1]"
   ]
  },
  {
   "cell_type": "code",
   "execution_count": 11,
   "metadata": {},
   "outputs": [],
   "source": [
    "edu={1:\"None\",\n",
    "2 :\"Less than HS\",\n",
    "3 :\"Less than HS\",\n",
    "4 :\"Less than HS\",\n",
    "5 :\"Less than HS\",\n",
    "6 :\"Less than HS\",\n",
    "7 :\"Less than HS\",\n",
    "8 :\"Less than HS\",\n",
    "9 :\"Less than HS\",\n",
    "10 :\"Less than HS\",\n",
    "11 :\"Less than HS\",\n",
    "12 :\"Less than HS\",\n",
    "13 :\"Less than HS\",\n",
    "14 :\"Less than HS\",\n",
    "16 :\"High School\",\n",
    "18 :\"Some College\",\n",
    "20 :\"Some College\",\n",
    "21 :\"College Degree\",\n",
    "22 :\"Graduate Degree\",\n",
    "23 :\"Graduate Degree\",\n",
    "24 :\"Graduate Degree\",\n",
    "25 :\"Some College\",\n",
    "26 :\"Some College\",\n",
    "27 :\"Some College\",\n",
    "28 :\"None\",\n",
    "999:\"Unknown\"}"
   ]
  },
  {
   "cell_type": "code",
   "execution_count": 12,
   "metadata": {},
   "outputs": [],
   "source": [
    "#genpop['EDUCATION'] = genpop['EDUCATION'].map(edu)"
   ]
  },
  {
   "cell_type": "markdown",
   "metadata": {
    "id": "aaCteT3SnxeC"
   },
   "source": [
    "# 85 Norm"
   ]
  },
  {
   "cell_type": "code",
   "execution_count": 13,
   "metadata": {},
   "outputs": [],
   "source": [
    "select = [ 'Gen population 65-85', 'Gen population healthy aging 85+']\n",
    "genpop = armada[armada.cohort2.isin(select)]"
   ]
  },
  {
   "cell_type": "markdown",
   "metadata": {},
   "source": [
    "# Raw to Scaled Score (ss) for use in Age-corrected Formulas\n",
    "\n",
    "##  Adults (18-85 years old) page2\n"
   ]
  },
  {
   "cell_type": "code",
   "execution_count": 14,
   "metadata": {},
   "outputs": [],
   "source": [
    "#Raw_to_ScaledScore\n",
    "cut_bins = [0, 1.55, 2.07, 2.18, 2.43, 3.78, 5.96, 6.68, 7.2, 7.59, 7.90, 8.18, 8.51, 8.76, 9.03, 9.31, 9.65, 9.87, 9.99, 100]\n",
    "genpop['DCCS_ss'] = pd.cut(genpop['DCCS_CScore'], bins=cut_bins, labels=list(range(19)))\n",
    "\n",
    "cut_bins = [0, 1.92, 4.18, 4.45, 5.11, 6.24, 6.93, 7.51, 7.9, 8.2, 8.45, 8.75, 8.96, 9.19, 9.4, 9.58, 9.72, 9.87,9.99,100]\n",
    "genpop['Flanker_ss'] = pd.cut(genpop['Flanker_CScore'], bins=cut_bins, labels=list(range(19)))\n",
    "\n",
    "cut_bins = [0, 2, 4, 5, 7, 9,11,12,14,15,16,17,18,19,20,21,22,24,25,26]\n",
    "genpop['LSWM_ss'] = pd.cut(genpop['LSWM_Raw'], bins=cut_bins, labels=list(range(19)))"
   ]
  },
  {
   "cell_type": "code",
   "execution_count": 15,
   "metadata": {},
   "outputs": [],
   "source": [
    "cut_bins = [200, 217.6, 257.35, 293.24, 303.79, 333.22, 352.61, 382.38, 415.59, 442.62, 481.43, 521.53, 552.56, 599.04, 625.89, 653.76, 677.94, 689.94, 700.89, 722.27, 778.57,800.00]\n",
    "genpop['PSM_ss'] = pd.cut(genpop['PSM_CScore'], bins=cut_bins, labels=list(range(21)))"
   ]
  },
  {
   "cell_type": "code",
   "execution_count": 16,
   "metadata": {},
   "outputs": [],
   "source": [
    "cut_bins = [0,16,24,27,29,33,38,42,46,49,53,57,61,64,68,72,75,78,81,84,97,130]\n",
    "genpop['PCPS_ss'] = pd.cut(genpop['PCPS_CScore'], bins=cut_bins, labels=list(range(21)))"
   ]
  },
  {
   "cell_type": "code",
   "execution_count": 17,
   "metadata": {},
   "outputs": [],
   "source": [
    "cut_bins = [-30,-12.19,-4.75,-3.69,-1.97,-1.05,-0.01,1.07,2.14,3.03,3.96,4.84,5.73,6.81,7.56,8.23,8.84,9.16,9.35,9.97,16.36,20.00]\n",
    "genpop['ORR_ss'] = pd.cut(genpop['ORR_Theta'], bins=cut_bins, labels=list(range(21)))"
   ]
  },
  {
   "cell_type": "code",
   "execution_count": 18,
   "metadata": {},
   "outputs": [],
   "source": [
    "cut_bins = [-15,-10.25,-4.78,-2.94,-0.84,0.46,1.39,2.18,3,3.74,4.42,4.95,5.57,6.25,7.15,7.95,8.77,9.57,9.92,10.62,12.73,15]\n",
    "genpop['TPVT_ss'] = pd.cut(genpop['TPVT_Theta'], bins=cut_bins, labels=list(range(21)))"
   ]
  },
  {
   "cell_type": "markdown",
   "metadata": {},
   "source": [
    "# Appendix 2.2 Scaled Scores to Age-corrected scores"
   ]
  },
  {
   "cell_type": "code",
   "execution_count": 19,
   "metadata": {},
   "outputs": [],
   "source": [
    "#DCCS\n",
    "def DAge_correct(ss, age):\n",
    "    rv =100 + 15 * ((ss-(14.82-9.83*(age/100)))/(2.17-0.62*(age/100)))/1.29\n",
    "    return rv"
   ]
  },
  {
   "cell_type": "code",
   "execution_count": 20,
   "metadata": {},
   "outputs": [],
   "source": [
    "genpop['DCCS_AC'] = genpop.apply(lambda x: DAge_correct(x.DCCS_ss, x.AGE), axis=1)"
   ]
  },
  {
   "cell_type": "code",
   "execution_count": 21,
   "metadata": {},
   "outputs": [],
   "source": [
    "genpop['DCCS_AC']=genpop['DCCS_AC'].clip(54, 146)"
   ]
  },
  {
   "cell_type": "code",
   "execution_count": 22,
   "metadata": {},
   "outputs": [],
   "source": [
    "genpop['DCCS_Diff']=genpop['DCCS_ACSScore']-genpop['DCCS_AC']"
   ]
  },
  {
   "cell_type": "code",
   "execution_count": 23,
   "metadata": {},
   "outputs": [
    {
     "data": {
      "text/html": [
       "<div>\n",
       "<style scoped>\n",
       "    .dataframe tbody tr th:only-of-type {\n",
       "        vertical-align: middle;\n",
       "    }\n",
       "\n",
       "    .dataframe tbody tr th {\n",
       "        vertical-align: top;\n",
       "    }\n",
       "\n",
       "    .dataframe thead th {\n",
       "        text-align: right;\n",
       "    }\n",
       "</style>\n",
       "<table border=\"1\" class=\"dataframe\">\n",
       "  <thead>\n",
       "    <tr style=\"text-align: right;\">\n",
       "      <th></th>\n",
       "      <th>ptid</th>\n",
       "      <th>site</th>\n",
       "      <th>AGE</th>\n",
       "      <th>DCCS_AC</th>\n",
       "      <th>DCCS_ACSScore</th>\n",
       "      <th>DCCS_Diff</th>\n",
       "    </tr>\n",
       "  </thead>\n",
       "  <tbody>\n",
       "    <tr>\n",
       "      <th>716</th>\n",
       "      <td>UM00001250</td>\n",
       "      <td>UMich</td>\n",
       "      <td>70</td>\n",
       "      <td>93.71</td>\n",
       "      <td>98.00</td>\n",
       "      <td>4.29</td>\n",
       "    </tr>\n",
       "    <tr>\n",
       "      <th>761</th>\n",
       "      <td>UM00001437</td>\n",
       "      <td>UMich</td>\n",
       "      <td>76</td>\n",
       "      <td>146.00</td>\n",
       "      <td>152.00</td>\n",
       "      <td>6.00</td>\n",
       "    </tr>\n",
       "  </tbody>\n",
       "</table>\n",
       "</div>"
      ],
      "text/plain": [
       "           ptid   site  AGE  DCCS_AC  DCCS_ACSScore  DCCS_Diff\n",
       "716  UM00001250  UMich   70    93.71          98.00       4.29\n",
       "761  UM00001437  UMich   76   146.00         152.00       6.00"
      ]
     },
     "execution_count": 23,
     "metadata": {},
     "output_type": "execute_result"
    }
   ],
   "source": [
    "genpop[genpop.DCCS_Diff>1][['ptid','site','AGE','DCCS_AC','DCCS_ACSScore','DCCS_Diff']]"
   ]
  },
  {
   "cell_type": "code",
   "execution_count": 24,
   "metadata": {},
   "outputs": [],
   "source": [
    "#Flanker\n",
    "def FAge_correct(ss, age):\n",
    "    rv =100 + 15 * ((ss-(14.38-8.92*(age/100)))/(2.28-0.63*(age/100)))/1.28\n",
    "    return rv"
   ]
  },
  {
   "cell_type": "code",
   "execution_count": 25,
   "metadata": {},
   "outputs": [],
   "source": [
    "genpop['Flanker_AC'] = genpop.apply(lambda x: FAge_correct(x.Flanker_ss, x.AGE), axis=1)"
   ]
  },
  {
   "cell_type": "code",
   "execution_count": 26,
   "metadata": {},
   "outputs": [],
   "source": [
    "genpop['Flanker_AC']=genpop['Flanker_AC'].clip(54, 146)"
   ]
  },
  {
   "cell_type": "code",
   "execution_count": 27,
   "metadata": {},
   "outputs": [],
   "source": [
    "genpop['Flanker_Diff']=genpop['Flanker_ACSScore']-genpop['Flanker_AC']"
   ]
  },
  {
   "cell_type": "code",
   "execution_count": 28,
   "metadata": {},
   "outputs": [
    {
     "data": {
      "text/html": [
       "<div>\n",
       "<style scoped>\n",
       "    .dataframe tbody tr th:only-of-type {\n",
       "        vertical-align: middle;\n",
       "    }\n",
       "\n",
       "    .dataframe tbody tr th {\n",
       "        vertical-align: top;\n",
       "    }\n",
       "\n",
       "    .dataframe thead th {\n",
       "        text-align: right;\n",
       "    }\n",
       "</style>\n",
       "<table border=\"1\" class=\"dataframe\">\n",
       "  <thead>\n",
       "    <tr style=\"text-align: right;\">\n",
       "      <th></th>\n",
       "      <th>ptid</th>\n",
       "      <th>site</th>\n",
       "      <th>AGE</th>\n",
       "      <th>Flanker_AC</th>\n",
       "      <th>Flanker_ACSScore</th>\n",
       "      <th>Flanker_Diff</th>\n",
       "    </tr>\n",
       "  </thead>\n",
       "  <tbody>\n",
       "    <tr>\n",
       "      <th>716</th>\n",
       "      <td>UM00001250</td>\n",
       "      <td>UMich</td>\n",
       "      <td>70</td>\n",
       "      <td>86.39</td>\n",
       "      <td>90.00</td>\n",
       "      <td>3.61</td>\n",
       "    </tr>\n",
       "  </tbody>\n",
       "</table>\n",
       "</div>"
      ],
      "text/plain": [
       "           ptid   site  AGE  Flanker_AC  Flanker_ACSScore  Flanker_Diff\n",
       "716  UM00001250  UMich   70       86.39             90.00          3.61"
      ]
     },
     "execution_count": 28,
     "metadata": {},
     "output_type": "execute_result"
    }
   ],
   "source": [
    "genpop[genpop.Flanker_Diff>1][['ptid','site','AGE','Flanker_AC','Flanker_ACSScore','Flanker_Diff']]"
   ]
  },
  {
   "cell_type": "code",
   "execution_count": 29,
   "metadata": {},
   "outputs": [],
   "source": [
    "#List Sort\n",
    "def LAge_correct(ss, age):\n",
    "    rv =100 + 15 *((ss-(11.98-7.37*(age/100)**2))/(2.36-0.34*(age/100)))/1.23\n",
    "    return rv"
   ]
  },
  {
   "cell_type": "code",
   "execution_count": 30,
   "metadata": {},
   "outputs": [],
   "source": [
    "genpop['LSWM_AC'] = genpop.apply(lambda x: FAge_correct(x.LSWM_ss, x.AGE), axis=1)"
   ]
  },
  {
   "cell_type": "code",
   "execution_count": 31,
   "metadata": {},
   "outputs": [],
   "source": [
    "genpop['LSWM_AC']=genpop['LSWM_AC'].clip(54, 146)"
   ]
  },
  {
   "cell_type": "code",
   "execution_count": 32,
   "metadata": {},
   "outputs": [],
   "source": [
    "genpop['LSWM_Diff']=genpop['LSWM_ACSScore']-genpop['LSWM_AC']"
   ]
  },
  {
   "cell_type": "code",
   "execution_count": 33,
   "metadata": {},
   "outputs": [
    {
     "data": {
      "text/html": [
       "<div>\n",
       "<style scoped>\n",
       "    .dataframe tbody tr th:only-of-type {\n",
       "        vertical-align: middle;\n",
       "    }\n",
       "\n",
       "    .dataframe tbody tr th {\n",
       "        vertical-align: top;\n",
       "    }\n",
       "\n",
       "    .dataframe thead th {\n",
       "        text-align: right;\n",
       "    }\n",
       "</style>\n",
       "<table border=\"1\" class=\"dataframe\">\n",
       "  <thead>\n",
       "    <tr style=\"text-align: right;\">\n",
       "      <th></th>\n",
       "      <th>ptid</th>\n",
       "      <th>site</th>\n",
       "      <th>AGE</th>\n",
       "      <th>LSWM_AC</th>\n",
       "      <th>LSWM_ACSScore</th>\n",
       "      <th>LSWM_Diff</th>\n",
       "    </tr>\n",
       "  </thead>\n",
       "  <tbody>\n",
       "    <tr>\n",
       "      <th>67</th>\n",
       "      <td>101151479</td>\n",
       "      <td>Mayo</td>\n",
       "      <td>80</td>\n",
       "      <td>91.79</td>\n",
       "      <td>93.00</td>\n",
       "      <td>1.21</td>\n",
       "    </tr>\n",
       "    <tr>\n",
       "      <th>81</th>\n",
       "      <td>15827182</td>\n",
       "      <td>Mayo</td>\n",
       "      <td>83</td>\n",
       "      <td>80.15</td>\n",
       "      <td>83.00</td>\n",
       "      <td>2.85</td>\n",
       "    </tr>\n",
       "    <tr>\n",
       "      <th>185</th>\n",
       "      <td>2274</td>\n",
       "      <td>NU</td>\n",
       "      <td>85</td>\n",
       "      <td>87.92</td>\n",
       "      <td>90.00</td>\n",
       "      <td>2.08</td>\n",
       "    </tr>\n",
       "    <tr>\n",
       "      <th>219</th>\n",
       "      <td>3487</td>\n",
       "      <td>UCSD</td>\n",
       "      <td>84</td>\n",
       "      <td>87.37</td>\n",
       "      <td>90.00</td>\n",
       "      <td>2.63</td>\n",
       "    </tr>\n",
       "    <tr>\n",
       "      <th>378</th>\n",
       "      <td>94-1666</td>\n",
       "      <td>Mass</td>\n",
       "      <td>70</td>\n",
       "      <td>146.00</td>\n",
       "      <td>155.00</td>\n",
       "      <td>9.00</td>\n",
       "    </tr>\n",
       "    <tr>\n",
       "      <th>458</th>\n",
       "      <td>ADRC00208</td>\n",
       "      <td>UWisc</td>\n",
       "      <td>81</td>\n",
       "      <td>79.11</td>\n",
       "      <td>82.00</td>\n",
       "      <td>2.89</td>\n",
       "    </tr>\n",
       "    <tr>\n",
       "      <th>536</th>\n",
       "      <td>ADRC00907</td>\n",
       "      <td>UWisc</td>\n",
       "      <td>72</td>\n",
       "      <td>74.61</td>\n",
       "      <td>76.00</td>\n",
       "      <td>1.39</td>\n",
       "    </tr>\n",
       "    <tr>\n",
       "      <th>716</th>\n",
       "      <td>UM00001250</td>\n",
       "      <td>UMich</td>\n",
       "      <td>70</td>\n",
       "      <td>105.51</td>\n",
       "      <td>107.00</td>\n",
       "      <td>1.49</td>\n",
       "    </tr>\n",
       "    <tr>\n",
       "      <th>747</th>\n",
       "      <td>UM00001407</td>\n",
       "      <td>UMich</td>\n",
       "      <td>85</td>\n",
       "      <td>94.64</td>\n",
       "      <td>96.00</td>\n",
       "      <td>1.36</td>\n",
       "    </tr>\n",
       "    <tr>\n",
       "      <th>822</th>\n",
       "      <td>UM00001679</td>\n",
       "      <td>UMich</td>\n",
       "      <td>83</td>\n",
       "      <td>86.82</td>\n",
       "      <td>89.00</td>\n",
       "      <td>2.18</td>\n",
       "    </tr>\n",
       "  </tbody>\n",
       "</table>\n",
       "</div>"
      ],
      "text/plain": [
       "           ptid   site  AGE  LSWM_AC  LSWM_ACSScore  LSWM_Diff\n",
       "67    101151479   Mayo   80    91.79          93.00       1.21\n",
       "81     15827182   Mayo   83    80.15          83.00       2.85\n",
       "185        2274     NU   85    87.92          90.00       2.08\n",
       "219        3487   UCSD   84    87.37          90.00       2.63\n",
       "378     94-1666   Mass   70   146.00         155.00       9.00\n",
       "458   ADRC00208  UWisc   81    79.11          82.00       2.89\n",
       "536   ADRC00907  UWisc   72    74.61          76.00       1.39\n",
       "716  UM00001250  UMich   70   105.51         107.00       1.49\n",
       "747  UM00001407  UMich   85    94.64          96.00       1.36\n",
       "822  UM00001679  UMich   83    86.82          89.00       2.18"
      ]
     },
     "execution_count": 33,
     "metadata": {},
     "output_type": "execute_result"
    }
   ],
   "source": [
    "genpop[genpop.LSWM_Diff>1][['ptid','site','AGE','LSWM_AC','LSWM_ACSScore','LSWM_Diff']]"
   ]
  },
  {
   "cell_type": "code",
   "execution_count": 34,
   "metadata": {},
   "outputs": [
    {
     "data": {
      "text/html": [
       "<div>\n",
       "<style scoped>\n",
       "    .dataframe tbody tr th:only-of-type {\n",
       "        vertical-align: middle;\n",
       "    }\n",
       "\n",
       "    .dataframe tbody tr th {\n",
       "        vertical-align: top;\n",
       "    }\n",
       "\n",
       "    .dataframe thead th {\n",
       "        text-align: right;\n",
       "    }\n",
       "</style>\n",
       "<table border=\"1\" class=\"dataframe\">\n",
       "  <thead>\n",
       "    <tr style=\"text-align: right;\">\n",
       "      <th></th>\n",
       "      <th>CTC_ACSScore</th>\n",
       "      <th>CCC_ACSScore</th>\n",
       "      <th>CFC_ACSScore</th>\n",
       "    </tr>\n",
       "  </thead>\n",
       "  <tbody>\n",
       "    <tr>\n",
       "      <th>count</th>\n",
       "      <td>584.00</td>\n",
       "      <td>683.00</td>\n",
       "      <td>585.00</td>\n",
       "    </tr>\n",
       "    <tr>\n",
       "      <th>mean</th>\n",
       "      <td>101.16</td>\n",
       "      <td>109.01</td>\n",
       "      <td>93.30</td>\n",
       "    </tr>\n",
       "    <tr>\n",
       "      <th>std</th>\n",
       "      <td>14.87</td>\n",
       "      <td>14.59</td>\n",
       "      <td>16.40</td>\n",
       "    </tr>\n",
       "    <tr>\n",
       "      <th>min</th>\n",
       "      <td>60.00</td>\n",
       "      <td>68.00</td>\n",
       "      <td>43.00</td>\n",
       "    </tr>\n",
       "    <tr>\n",
       "      <th>25%</th>\n",
       "      <td>91.00</td>\n",
       "      <td>100.00</td>\n",
       "      <td>81.00</td>\n",
       "    </tr>\n",
       "    <tr>\n",
       "      <th>50%</th>\n",
       "      <td>102.00</td>\n",
       "      <td>110.00</td>\n",
       "      <td>93.00</td>\n",
       "    </tr>\n",
       "    <tr>\n",
       "      <th>75%</th>\n",
       "      <td>112.00</td>\n",
       "      <td>119.50</td>\n",
       "      <td>104.00</td>\n",
       "    </tr>\n",
       "    <tr>\n",
       "      <th>max</th>\n",
       "      <td>139.00</td>\n",
       "      <td>146.00</td>\n",
       "      <td>144.00</td>\n",
       "    </tr>\n",
       "  </tbody>\n",
       "</table>\n",
       "</div>"
      ],
      "text/plain": [
       "       CTC_ACSScore  CCC_ACSScore  CFC_ACSScore\n",
       "count        584.00        683.00        585.00\n",
       "mean         101.16        109.01         93.30\n",
       "std           14.87         14.59         16.40\n",
       "min           60.00         68.00         43.00\n",
       "25%           91.00        100.00         81.00\n",
       "50%          102.00        110.00         93.00\n",
       "75%          112.00        119.50        104.00\n",
       "max          139.00        146.00        144.00"
      ]
     },
     "execution_count": 34,
     "metadata": {},
     "output_type": "execute_result"
    }
   ],
   "source": [
    "armada[['CTC_ACSScore','CCC_ACSScore', 'CFC_ACSScore']].describe()"
   ]
  },
  {
   "cell_type": "code",
   "execution_count": 35,
   "metadata": {},
   "outputs": [],
   "source": [
    "#Picture Sequence Memory\n",
    "def PSMAge_correct(ss, age):\n",
    "    rv =100 + 15*((ss-(14.06-8.48*(age/100)))/(2.43-0.72*(age/100)))/1.25\n",
    "    return rv"
   ]
  },
  {
   "cell_type": "code",
   "execution_count": 36,
   "metadata": {},
   "outputs": [],
   "source": [
    "genpop['PSM_AC'] = genpop.apply(lambda x: PSMAge_correct(x.PSM_ss, x.AGE), axis=1)"
   ]
  },
  {
   "cell_type": "code",
   "execution_count": 37,
   "metadata": {},
   "outputs": [],
   "source": [
    "genpop['PSM_AC']=genpop['PSM_AC'].clip(54, 146)"
   ]
  },
  {
   "cell_type": "code",
   "execution_count": 38,
   "metadata": {},
   "outputs": [],
   "source": [
    "genpop['PSM_Diff']=genpop['PSM_ACSScore']-genpop['PSM_AC']"
   ]
  },
  {
   "cell_type": "code",
   "execution_count": 39,
   "metadata": {},
   "outputs": [
    {
     "data": {
      "text/html": [
       "<div>\n",
       "<style scoped>\n",
       "    .dataframe tbody tr th:only-of-type {\n",
       "        vertical-align: middle;\n",
       "    }\n",
       "\n",
       "    .dataframe tbody tr th {\n",
       "        vertical-align: top;\n",
       "    }\n",
       "\n",
       "    .dataframe thead th {\n",
       "        text-align: right;\n",
       "    }\n",
       "</style>\n",
       "<table border=\"1\" class=\"dataframe\">\n",
       "  <thead>\n",
       "    <tr style=\"text-align: right;\">\n",
       "      <th></th>\n",
       "      <th>ptid</th>\n",
       "      <th>site</th>\n",
       "      <th>AGE</th>\n",
       "      <th>PSM_AC</th>\n",
       "      <th>PSM_ACSScore</th>\n",
       "      <th>PSM_Diff</th>\n",
       "    </tr>\n",
       "  </thead>\n",
       "  <tbody>\n",
       "    <tr>\n",
       "      <th>195</th>\n",
       "      <td>304325</td>\n",
       "      <td>Mass</td>\n",
       "      <td>78</td>\n",
       "      <td>146.00</td>\n",
       "      <td>149.00</td>\n",
       "      <td>3.00</td>\n",
       "    </tr>\n",
       "    <tr>\n",
       "      <th>716</th>\n",
       "      <td>UM00001250</td>\n",
       "      <td>UMich</td>\n",
       "      <td>70</td>\n",
       "      <td>80.54</td>\n",
       "      <td>83.00</td>\n",
       "      <td>2.46</td>\n",
       "    </tr>\n",
       "  </tbody>\n",
       "</table>\n",
       "</div>"
      ],
      "text/plain": [
       "           ptid   site  AGE  PSM_AC  PSM_ACSScore  PSM_Diff\n",
       "195      304325   Mass   78  146.00        149.00      3.00\n",
       "716  UM00001250  UMich   70   80.54         83.00      2.46"
      ]
     },
     "execution_count": 39,
     "metadata": {},
     "output_type": "execute_result"
    }
   ],
   "source": [
    "genpop[genpop.PSM_Diff>1][['ptid','site','AGE' ,'PSM_AC','PSM_ACSScore','PSM_Diff']]"
   ]
  },
  {
   "cell_type": "code",
   "execution_count": 40,
   "metadata": {},
   "outputs": [],
   "source": [
    "#Pattern comparison\n",
    "def PCAge_correct(ss, age):\n",
    "    rv =100 + 15 *((ss-(14.68-9.62*(age/100)))/(2.33-0.74*(age/100)))/1.24\n",
    "    return rv"
   ]
  },
  {
   "cell_type": "code",
   "execution_count": 41,
   "metadata": {},
   "outputs": [],
   "source": [
    "genpop['PCPS_AC'] = genpop.apply(lambda x: PCAge_correct(x.PCPS_ss, x.AGE), axis=1)"
   ]
  },
  {
   "cell_type": "code",
   "execution_count": 42,
   "metadata": {},
   "outputs": [],
   "source": [
    "genpop['PCPS_AC']=genpop['PCPS_AC'].clip(54, 146)"
   ]
  },
  {
   "cell_type": "code",
   "execution_count": 43,
   "metadata": {},
   "outputs": [],
   "source": [
    "genpop['PCPS_Diff']=genpop['PCPS_ACSScore']-genpop['PCPS_AC']"
   ]
  },
  {
   "cell_type": "code",
   "execution_count": 44,
   "metadata": {},
   "outputs": [],
   "source": [
    "#Oral Reading\n",
    "def OAge_correct(ss, age):\n",
    "    rv =100 + 15 * ((ss-(9.68+0.65*(age/100)))/(1.81+1.19*(age/100)))/1.26\n",
    "    return rv"
   ]
  },
  {
   "cell_type": "code",
   "execution_count": 45,
   "metadata": {},
   "outputs": [],
   "source": [
    "genpop['ORR_AC'] = genpop.apply(lambda x: OAge_correct(x.ORR_ss, x.AGE), axis=1)"
   ]
  },
  {
   "cell_type": "code",
   "execution_count": 46,
   "metadata": {},
   "outputs": [],
   "source": [
    "genpop['ORR_AC']=genpop['ORR_AC'].clip(54, 146)"
   ]
  },
  {
   "cell_type": "code",
   "execution_count": 47,
   "metadata": {},
   "outputs": [],
   "source": [
    "genpop['ORR_Diff']=genpop['ORR_ACSScore']-genpop['ORR_AC']"
   ]
  },
  {
   "cell_type": "code",
   "execution_count": 48,
   "metadata": {},
   "outputs": [],
   "source": [
    "#Pic Vocabulary\n",
    "def PVAge_correct(ss, age):\n",
    "    rv =100 + 15 * ((ss-(11.41-0.57*(age/100)**(-1)))/(1.86+1.12*(age/100)))/1.24\n",
    "    return rv"
   ]
  },
  {
   "cell_type": "code",
   "execution_count": 49,
   "metadata": {},
   "outputs": [],
   "source": [
    "genpop['TPVT_AC'] = genpop.apply(lambda x: OAge_correct(x.TPVT_ss, x.AGE), axis=1)"
   ]
  },
  {
   "cell_type": "code",
   "execution_count": 50,
   "metadata": {},
   "outputs": [],
   "source": [
    "genpop['TPVT_AC']=genpop['TPVT_AC'].clip(54, 146)"
   ]
  },
  {
   "cell_type": "code",
   "execution_count": 51,
   "metadata": {},
   "outputs": [],
   "source": [
    "genpop['TPVT_Diff']=genpop['TPVT_ACSScore']-genpop['TPVT_AC']"
   ]
  },
  {
   "cell_type": "code",
   "execution_count": 52,
   "metadata": {},
   "outputs": [],
   "source": [
    "#Fluid Composite\n",
    "#[((Mean of DCC, Flanker, List Sort, Pic Seq Mem, & Pattern Comparison Age-corrected Standard Scores) \n",
    "#– 100.15) / 10.10] \n",
    "def Fluid_composite(a, b, c, d, e):\n",
    "    avg = (a+b+c+d+e)/ 5\n",
    "    rv = 100+ 15*(avg-100.15)/10.10\n",
    "    return rv\n",
    "    "
   ]
  },
  {
   "cell_type": "code",
   "execution_count": 53,
   "metadata": {},
   "outputs": [],
   "source": [
    "genpop['CFC_AC'] = genpop.apply(lambda x: Fluid_composite(x.DCCS_AC, x.Flanker_AC, x.LSWM_AC, x.PSM_AC, x.PCPS_AC), axis=1)"
   ]
  },
  {
   "cell_type": "code",
   "execution_count": 54,
   "metadata": {},
   "outputs": [],
   "source": [
    "genpop['CFC_Diff']=genpop['CFC_ACSScore']-genpop['CFC_AC']"
   ]
  },
  {
   "cell_type": "code",
   "execution_count": 55,
   "metadata": {},
   "outputs": [
    {
     "data": {
      "text/html": [
       "<div>\n",
       "<style scoped>\n",
       "    .dataframe tbody tr th:only-of-type {\n",
       "        vertical-align: middle;\n",
       "    }\n",
       "\n",
       "    .dataframe tbody tr th {\n",
       "        vertical-align: top;\n",
       "    }\n",
       "\n",
       "    .dataframe thead th {\n",
       "        text-align: right;\n",
       "    }\n",
       "</style>\n",
       "<table border=\"1\" class=\"dataframe\">\n",
       "  <thead>\n",
       "    <tr style=\"text-align: right;\">\n",
       "      <th></th>\n",
       "      <th>CFC_ACSScore</th>\n",
       "      <th>CFC_AC</th>\n",
       "      <th>CFC_Diff</th>\n",
       "    </tr>\n",
       "  </thead>\n",
       "  <tbody>\n",
       "    <tr>\n",
       "      <th>13</th>\n",
       "      <td>93.00</td>\n",
       "      <td>93.75</td>\n",
       "      <td>-0.75</td>\n",
       "    </tr>\n",
       "    <tr>\n",
       "      <th>17</th>\n",
       "      <td>86.00</td>\n",
       "      <td>86.56</td>\n",
       "      <td>-0.56</td>\n",
       "    </tr>\n",
       "    <tr>\n",
       "      <th>19</th>\n",
       "      <td>NaN</td>\n",
       "      <td>111.39</td>\n",
       "      <td>NaN</td>\n",
       "    </tr>\n",
       "    <tr>\n",
       "      <th>25</th>\n",
       "      <td>NaN</td>\n",
       "      <td>91.72</td>\n",
       "      <td>NaN</td>\n",
       "    </tr>\n",
       "    <tr>\n",
       "      <th>37</th>\n",
       "      <td>NaN</td>\n",
       "      <td>94.50</td>\n",
       "      <td>NaN</td>\n",
       "    </tr>\n",
       "    <tr>\n",
       "      <th>...</th>\n",
       "      <td>...</td>\n",
       "      <td>...</td>\n",
       "      <td>...</td>\n",
       "    </tr>\n",
       "    <tr>\n",
       "      <th>812</th>\n",
       "      <td>96.00</td>\n",
       "      <td>96.51</td>\n",
       "      <td>-0.51</td>\n",
       "    </tr>\n",
       "    <tr>\n",
       "      <th>813</th>\n",
       "      <td>106.00</td>\n",
       "      <td>106.18</td>\n",
       "      <td>-0.18</td>\n",
       "    </tr>\n",
       "    <tr>\n",
       "      <th>817</th>\n",
       "      <td>106.00</td>\n",
       "      <td>106.51</td>\n",
       "      <td>-0.51</td>\n",
       "    </tr>\n",
       "    <tr>\n",
       "      <th>822</th>\n",
       "      <td>94.00</td>\n",
       "      <td>93.32</td>\n",
       "      <td>0.68</td>\n",
       "    </tr>\n",
       "    <tr>\n",
       "      <th>824</th>\n",
       "      <td>99.00</td>\n",
       "      <td>99.97</td>\n",
       "      <td>-0.97</td>\n",
       "    </tr>\n",
       "  </tbody>\n",
       "</table>\n",
       "<p>276 rows × 3 columns</p>\n",
       "</div>"
      ],
      "text/plain": [
       "     CFC_ACSScore  CFC_AC  CFC_Diff\n",
       "13          93.00   93.75     -0.75\n",
       "17          86.00   86.56     -0.56\n",
       "19            NaN  111.39       NaN\n",
       "25            NaN   91.72       NaN\n",
       "37            NaN   94.50       NaN\n",
       "..            ...     ...       ...\n",
       "812         96.00   96.51     -0.51\n",
       "813        106.00  106.18     -0.18\n",
       "817        106.00  106.51     -0.51\n",
       "822         94.00   93.32      0.68\n",
       "824         99.00   99.97     -0.97\n",
       "\n",
       "[276 rows x 3 columns]"
      ]
     },
     "execution_count": 55,
     "metadata": {},
     "output_type": "execute_result"
    }
   ],
   "source": [
    "genpop[['CFC_ACSScore','CFC_AC','CFC_Diff']]"
   ]
  },
  {
   "cell_type": "code",
   "execution_count": 56,
   "metadata": {},
   "outputs": [],
   "source": [
    "#Crystallized Composite\n",
    "#[((Mean of Oral Reading & Picture Vocabulary Age-corrected Standard  \n",
    "\n",
    "def Crystallized_composite(a, b):\n",
    "    avg = (a+b)/ 2\n",
    "    rv = 100+ 15*(avg-100.18)/13.64\n",
    "    return rv"
   ]
  },
  {
   "cell_type": "code",
   "execution_count": 57,
   "metadata": {},
   "outputs": [],
   "source": [
    "genpop['CCC_AC'] = genpop.apply(lambda x: Crystallized_composite(x.ORR_AC, x.TPVT_AC), axis=1)"
   ]
  },
  {
   "cell_type": "code",
   "execution_count": 58,
   "metadata": {},
   "outputs": [],
   "source": [
    "genpop['CCC_Diff']=genpop['CCC_ACSScore']-genpop['CCC_AC']"
   ]
  },
  {
   "cell_type": "code",
   "execution_count": 59,
   "metadata": {},
   "outputs": [
    {
     "data": {
      "text/html": [
       "<div>\n",
       "<style scoped>\n",
       "    .dataframe tbody tr th:only-of-type {\n",
       "        vertical-align: middle;\n",
       "    }\n",
       "\n",
       "    .dataframe tbody tr th {\n",
       "        vertical-align: top;\n",
       "    }\n",
       "\n",
       "    .dataframe thead th {\n",
       "        text-align: right;\n",
       "    }\n",
       "</style>\n",
       "<table border=\"1\" class=\"dataframe\">\n",
       "  <thead>\n",
       "    <tr style=\"text-align: right;\">\n",
       "      <th></th>\n",
       "      <th>CCC_ACSScore</th>\n",
       "      <th>CCC_AC</th>\n",
       "      <th>CCC_Diff</th>\n",
       "    </tr>\n",
       "  </thead>\n",
       "  <tbody>\n",
       "    <tr>\n",
       "      <th>13</th>\n",
       "      <td>101.00</td>\n",
       "      <td>101.69</td>\n",
       "      <td>-0.69</td>\n",
       "    </tr>\n",
       "    <tr>\n",
       "      <th>17</th>\n",
       "      <td>120.00</td>\n",
       "      <td>120.91</td>\n",
       "      <td>-0.91</td>\n",
       "    </tr>\n",
       "    <tr>\n",
       "      <th>19</th>\n",
       "      <td>NaN</td>\n",
       "      <td>114.41</td>\n",
       "      <td>NaN</td>\n",
       "    </tr>\n",
       "    <tr>\n",
       "      <th>25</th>\n",
       "      <td>NaN</td>\n",
       "      <td>107.94</td>\n",
       "      <td>NaN</td>\n",
       "    </tr>\n",
       "    <tr>\n",
       "      <th>37</th>\n",
       "      <td>NaN</td>\n",
       "      <td>103.27</td>\n",
       "      <td>NaN</td>\n",
       "    </tr>\n",
       "    <tr>\n",
       "      <th>...</th>\n",
       "      <td>...</td>\n",
       "      <td>...</td>\n",
       "      <td>...</td>\n",
       "    </tr>\n",
       "    <tr>\n",
       "      <th>812</th>\n",
       "      <td>108.00</td>\n",
       "      <td>109.11</td>\n",
       "      <td>-1.11</td>\n",
       "    </tr>\n",
       "    <tr>\n",
       "      <th>813</th>\n",
       "      <td>125.00</td>\n",
       "      <td>126.23</td>\n",
       "      <td>-1.23</td>\n",
       "    </tr>\n",
       "    <tr>\n",
       "      <th>817</th>\n",
       "      <td>115.00</td>\n",
       "      <td>115.84</td>\n",
       "      <td>-0.84</td>\n",
       "    </tr>\n",
       "    <tr>\n",
       "      <th>822</th>\n",
       "      <td>117.00</td>\n",
       "      <td>117.49</td>\n",
       "      <td>-0.49</td>\n",
       "    </tr>\n",
       "    <tr>\n",
       "      <th>824</th>\n",
       "      <td>117.00</td>\n",
       "      <td>118.37</td>\n",
       "      <td>-1.37</td>\n",
       "    </tr>\n",
       "  </tbody>\n",
       "</table>\n",
       "<p>276 rows × 3 columns</p>\n",
       "</div>"
      ],
      "text/plain": [
       "     CCC_ACSScore  CCC_AC  CCC_Diff\n",
       "13         101.00  101.69     -0.69\n",
       "17         120.00  120.91     -0.91\n",
       "19            NaN  114.41       NaN\n",
       "25            NaN  107.94       NaN\n",
       "37            NaN  103.27       NaN\n",
       "..            ...     ...       ...\n",
       "812        108.00  109.11     -1.11\n",
       "813        125.00  126.23     -1.23\n",
       "817        115.00  115.84     -0.84\n",
       "822        117.00  117.49     -0.49\n",
       "824        117.00  118.37     -1.37\n",
       "\n",
       "[276 rows x 3 columns]"
      ]
     },
     "execution_count": 59,
     "metadata": {},
     "output_type": "execute_result"
    }
   ],
   "source": [
    "genpop[['CCC_ACSScore','CCC_AC','CCC_Diff']]"
   ]
  },
  {
   "cell_type": "code",
   "execution_count": 60,
   "metadata": {},
   "outputs": [],
   "source": [
    "#Total cognition composite\n",
    "def Total_composite(a, b):\n",
    "    avg = (a+b)/ 2\n",
    "    rv = 100+ 15*(avg-100.02)/12.93\n",
    "    return rv"
   ]
  },
  {
   "cell_type": "code",
   "execution_count": 61,
   "metadata": {},
   "outputs": [],
   "source": [
    "genpop['CTC_AC'] = genpop.apply(lambda x: Crystallized_composite(x.CCC_AC, x.CFC_AC), axis=1)"
   ]
  },
  {
   "cell_type": "code",
   "execution_count": 62,
   "metadata": {},
   "outputs": [],
   "source": [
    "genpop['CTC_Diff']=genpop['CTC_ACSScore']-genpop['CTC_AC']"
   ]
  },
  {
   "cell_type": "code",
   "execution_count": 63,
   "metadata": {},
   "outputs": [
    {
     "data": {
      "text/html": [
       "<div>\n",
       "<style scoped>\n",
       "    .dataframe tbody tr th:only-of-type {\n",
       "        vertical-align: middle;\n",
       "    }\n",
       "\n",
       "    .dataframe tbody tr th {\n",
       "        vertical-align: top;\n",
       "    }\n",
       "\n",
       "    .dataframe thead th {\n",
       "        text-align: right;\n",
       "    }\n",
       "</style>\n",
       "<table border=\"1\" class=\"dataframe\">\n",
       "  <thead>\n",
       "    <tr style=\"text-align: right;\">\n",
       "      <th></th>\n",
       "      <th>CTC_AC</th>\n",
       "      <th>CTC_ACSScore</th>\n",
       "      <th>CTC_Diff</th>\n",
       "    </tr>\n",
       "  </thead>\n",
       "  <tbody>\n",
       "    <tr>\n",
       "      <th>13</th>\n",
       "      <td>97.29</td>\n",
       "      <td>96.00</td>\n",
       "      <td>-1.29</td>\n",
       "    </tr>\n",
       "    <tr>\n",
       "      <th>17</th>\n",
       "      <td>103.91</td>\n",
       "      <td>103.00</td>\n",
       "      <td>-0.91</td>\n",
       "    </tr>\n",
       "    <tr>\n",
       "      <th>19</th>\n",
       "      <td>113.99</td>\n",
       "      <td>NaN</td>\n",
       "      <td>NaN</td>\n",
       "    </tr>\n",
       "    <tr>\n",
       "      <th>25</th>\n",
       "      <td>99.61</td>\n",
       "      <td>NaN</td>\n",
       "      <td>NaN</td>\n",
       "    </tr>\n",
       "    <tr>\n",
       "      <th>37</th>\n",
       "      <td>98.58</td>\n",
       "      <td>NaN</td>\n",
       "      <td>NaN</td>\n",
       "    </tr>\n",
       "    <tr>\n",
       "      <th>...</th>\n",
       "      <td>...</td>\n",
       "      <td>...</td>\n",
       "      <td>...</td>\n",
       "    </tr>\n",
       "    <tr>\n",
       "      <th>812</th>\n",
       "      <td>102.89</td>\n",
       "      <td>103.00</td>\n",
       "      <td>0.11</td>\n",
       "    </tr>\n",
       "    <tr>\n",
       "      <th>813</th>\n",
       "      <td>117.62</td>\n",
       "      <td>118.00</td>\n",
       "      <td>0.38</td>\n",
       "    </tr>\n",
       "    <tr>\n",
       "      <th>817</th>\n",
       "      <td>112.09</td>\n",
       "      <td>112.00</td>\n",
       "      <td>-0.09</td>\n",
       "    </tr>\n",
       "    <tr>\n",
       "      <th>822</th>\n",
       "      <td>105.75</td>\n",
       "      <td>106.00</td>\n",
       "      <td>0.25</td>\n",
       "    </tr>\n",
       "    <tr>\n",
       "      <th>824</th>\n",
       "      <td>109.88</td>\n",
       "      <td>110.00</td>\n",
       "      <td>0.12</td>\n",
       "    </tr>\n",
       "  </tbody>\n",
       "</table>\n",
       "<p>276 rows × 3 columns</p>\n",
       "</div>"
      ],
      "text/plain": [
       "     CTC_AC  CTC_ACSScore  CTC_Diff\n",
       "13    97.29         96.00     -1.29\n",
       "17   103.91        103.00     -0.91\n",
       "19   113.99           NaN       NaN\n",
       "25    99.61           NaN       NaN\n",
       "37    98.58           NaN       NaN\n",
       "..      ...           ...       ...\n",
       "812  102.89        103.00      0.11\n",
       "813  117.62        118.00      0.38\n",
       "817  112.09        112.00     -0.09\n",
       "822  105.75        106.00      0.25\n",
       "824  109.88        110.00      0.12\n",
       "\n",
       "[276 rows x 3 columns]"
      ]
     },
     "execution_count": 63,
     "metadata": {},
     "output_type": "execute_result"
    }
   ],
   "source": [
    "genpop[['CTC_AC','CTC_ACSScore','CTC_Diff']]"
   ]
  },
  {
   "cell_type": "code",
   "execution_count": 64,
   "metadata": {},
   "outputs": [],
   "source": [
    "select=['ptid', 'assmnt', 'cohort2','EDUCATION','gender_rc','AGE','ethnicity_rc',\n",
    " 'CCC_ACSScore',\n",
    " 'CFC_ACSScore',\n",
    " 'CTC_ACSScore',\n",
    " 'DCCS_ACSScore',\n",
    " 'Flanker_ACSScore',\n",
    " 'LSWM_ACSScore',\n",
    " 'ORR_ACSScore',\n",
    " 'PCPS_ACSScore',\n",
    " 'PSM_ACSScore',\n",
    " 'TPVT_ACSScore',\n",
    " 'DCCS_ss',\n",
    " 'Flanker_ss',\n",
    " 'LSWM_ss',\n",
    " 'PSM_ss',\n",
    " 'PCPS_ss',\n",
    " 'ORR_ss',\n",
    " 'TPVT_ss',\n",
    " 'DCCS_AC',\n",
    " 'Flanker_AC',\n",
    " 'LSWM_AC',\n",
    " 'PSM_AC',\n",
    " 'PCPS_AC',\n",
    " 'ORR_AC',\n",
    " 'TPVT_AC',\n",
    " 'CFC_AC',\n",
    " 'CCC_AC',\n",
    " 'CTC_AC',\n",
    "'DCCS_Diff',\n",
    " 'Flanker_Diff',\n",
    " 'LSWM_Diff',\n",
    " 'PSM_Diff',\n",
    " 'PCPS_Diff',\n",
    " 'ORR_Diff',\n",
    " 'TPVT_Diff',\n",
    " 'CFC_Diff',\n",
    " 'CCC_Diff',\n",
    " 'CTC_Diff']"
   ]
  },
  {
   "cell_type": "code",
   "execution_count": 65,
   "metadata": {},
   "outputs": [],
   "source": [
    "measures =['DCCS',\n",
    " 'Flanker',\n",
    " 'LSWM',\n",
    " 'PSM',\n",
    " 'PCPS',\n",
    " 'ORR',\n",
    " 'TPVT']"
   ]
  },
  {
   "cell_type": "code",
   "execution_count": 66,
   "metadata": {},
   "outputs": [],
   "source": [
    "def process(df, col):\n",
    "    diff = col+'_Diff'\n",
    "    AC = col+'_AC'\n",
    "    ACSS = col+'_ACSScore'\n",
    "    \n",
    "    data = df[df[diff]>1][['ptid','site','AGE',AC, ACSS,diff]]\n",
    "    data['meas'] = col\n",
    "    data.columns = ['ptid','site','AGE','AC', 'ACSScore','diff','meas']\n",
    "    \n",
    "    return data"
   ]
  },
  {
   "cell_type": "code",
   "execution_count": 67,
   "metadata": {},
   "outputs": [
    {
     "data": {
      "text/html": [
       "<div>\n",
       "<style scoped>\n",
       "    .dataframe tbody tr th:only-of-type {\n",
       "        vertical-align: middle;\n",
       "    }\n",
       "\n",
       "    .dataframe tbody tr th {\n",
       "        vertical-align: top;\n",
       "    }\n",
       "\n",
       "    .dataframe thead th {\n",
       "        text-align: right;\n",
       "    }\n",
       "</style>\n",
       "<table border=\"1\" class=\"dataframe\">\n",
       "  <thead>\n",
       "    <tr style=\"text-align: right;\">\n",
       "      <th></th>\n",
       "      <th>ptid</th>\n",
       "      <th>site</th>\n",
       "      <th>AGE</th>\n",
       "      <th>AC</th>\n",
       "      <th>ACSScore</th>\n",
       "      <th>diff</th>\n",
       "      <th>meas</th>\n",
       "    </tr>\n",
       "  </thead>\n",
       "  <tbody>\n",
       "    <tr>\n",
       "      <th>716</th>\n",
       "      <td>UM00001250</td>\n",
       "      <td>UMich</td>\n",
       "      <td>70</td>\n",
       "      <td>93.71</td>\n",
       "      <td>98.00</td>\n",
       "      <td>4.29</td>\n",
       "      <td>DCCS</td>\n",
       "    </tr>\n",
       "    <tr>\n",
       "      <th>761</th>\n",
       "      <td>UM00001437</td>\n",
       "      <td>UMich</td>\n",
       "      <td>76</td>\n",
       "      <td>146.00</td>\n",
       "      <td>152.00</td>\n",
       "      <td>6.00</td>\n",
       "      <td>DCCS</td>\n",
       "    </tr>\n",
       "  </tbody>\n",
       "</table>\n",
       "</div>"
      ],
      "text/plain": [
       "           ptid   site  AGE     AC  ACSScore  diff  meas\n",
       "716  UM00001250  UMich   70  93.71     98.00  4.29  DCCS\n",
       "761  UM00001437  UMich   76 146.00    152.00  6.00  DCCS"
      ]
     },
     "metadata": {},
     "output_type": "display_data"
    },
    {
     "data": {
      "text/html": [
       "<div>\n",
       "<style scoped>\n",
       "    .dataframe tbody tr th:only-of-type {\n",
       "        vertical-align: middle;\n",
       "    }\n",
       "\n",
       "    .dataframe tbody tr th {\n",
       "        vertical-align: top;\n",
       "    }\n",
       "\n",
       "    .dataframe thead th {\n",
       "        text-align: right;\n",
       "    }\n",
       "</style>\n",
       "<table border=\"1\" class=\"dataframe\">\n",
       "  <thead>\n",
       "    <tr style=\"text-align: right;\">\n",
       "      <th></th>\n",
       "      <th>ptid</th>\n",
       "      <th>site</th>\n",
       "      <th>AGE</th>\n",
       "      <th>AC</th>\n",
       "      <th>ACSScore</th>\n",
       "      <th>diff</th>\n",
       "      <th>meas</th>\n",
       "    </tr>\n",
       "  </thead>\n",
       "  <tbody>\n",
       "    <tr>\n",
       "      <th>716</th>\n",
       "      <td>UM00001250</td>\n",
       "      <td>UMich</td>\n",
       "      <td>70</td>\n",
       "      <td>86.39</td>\n",
       "      <td>90.00</td>\n",
       "      <td>3.61</td>\n",
       "      <td>Flanker</td>\n",
       "    </tr>\n",
       "  </tbody>\n",
       "</table>\n",
       "</div>"
      ],
      "text/plain": [
       "           ptid   site  AGE    AC  ACSScore  diff     meas\n",
       "716  UM00001250  UMich   70 86.39     90.00  3.61  Flanker"
      ]
     },
     "metadata": {},
     "output_type": "display_data"
    },
    {
     "data": {
      "text/html": [
       "<div>\n",
       "<style scoped>\n",
       "    .dataframe tbody tr th:only-of-type {\n",
       "        vertical-align: middle;\n",
       "    }\n",
       "\n",
       "    .dataframe tbody tr th {\n",
       "        vertical-align: top;\n",
       "    }\n",
       "\n",
       "    .dataframe thead th {\n",
       "        text-align: right;\n",
       "    }\n",
       "</style>\n",
       "<table border=\"1\" class=\"dataframe\">\n",
       "  <thead>\n",
       "    <tr style=\"text-align: right;\">\n",
       "      <th></th>\n",
       "      <th>ptid</th>\n",
       "      <th>site</th>\n",
       "      <th>AGE</th>\n",
       "      <th>AC</th>\n",
       "      <th>ACSScore</th>\n",
       "      <th>diff</th>\n",
       "      <th>meas</th>\n",
       "    </tr>\n",
       "  </thead>\n",
       "  <tbody>\n",
       "    <tr>\n",
       "      <th>67</th>\n",
       "      <td>101151479</td>\n",
       "      <td>Mayo</td>\n",
       "      <td>80</td>\n",
       "      <td>91.79</td>\n",
       "      <td>93.00</td>\n",
       "      <td>1.21</td>\n",
       "      <td>LSWM</td>\n",
       "    </tr>\n",
       "    <tr>\n",
       "      <th>81</th>\n",
       "      <td>15827182</td>\n",
       "      <td>Mayo</td>\n",
       "      <td>83</td>\n",
       "      <td>80.15</td>\n",
       "      <td>83.00</td>\n",
       "      <td>2.85</td>\n",
       "      <td>LSWM</td>\n",
       "    </tr>\n",
       "    <tr>\n",
       "      <th>185</th>\n",
       "      <td>2274</td>\n",
       "      <td>NU</td>\n",
       "      <td>85</td>\n",
       "      <td>87.92</td>\n",
       "      <td>90.00</td>\n",
       "      <td>2.08</td>\n",
       "      <td>LSWM</td>\n",
       "    </tr>\n",
       "    <tr>\n",
       "      <th>219</th>\n",
       "      <td>3487</td>\n",
       "      <td>UCSD</td>\n",
       "      <td>84</td>\n",
       "      <td>87.37</td>\n",
       "      <td>90.00</td>\n",
       "      <td>2.63</td>\n",
       "      <td>LSWM</td>\n",
       "    </tr>\n",
       "    <tr>\n",
       "      <th>378</th>\n",
       "      <td>94-1666</td>\n",
       "      <td>Mass</td>\n",
       "      <td>70</td>\n",
       "      <td>146.00</td>\n",
       "      <td>155.00</td>\n",
       "      <td>9.00</td>\n",
       "      <td>LSWM</td>\n",
       "    </tr>\n",
       "    <tr>\n",
       "      <th>458</th>\n",
       "      <td>ADRC00208</td>\n",
       "      <td>UWisc</td>\n",
       "      <td>81</td>\n",
       "      <td>79.11</td>\n",
       "      <td>82.00</td>\n",
       "      <td>2.89</td>\n",
       "      <td>LSWM</td>\n",
       "    </tr>\n",
       "    <tr>\n",
       "      <th>536</th>\n",
       "      <td>ADRC00907</td>\n",
       "      <td>UWisc</td>\n",
       "      <td>72</td>\n",
       "      <td>74.61</td>\n",
       "      <td>76.00</td>\n",
       "      <td>1.39</td>\n",
       "      <td>LSWM</td>\n",
       "    </tr>\n",
       "    <tr>\n",
       "      <th>716</th>\n",
       "      <td>UM00001250</td>\n",
       "      <td>UMich</td>\n",
       "      <td>70</td>\n",
       "      <td>105.51</td>\n",
       "      <td>107.00</td>\n",
       "      <td>1.49</td>\n",
       "      <td>LSWM</td>\n",
       "    </tr>\n",
       "    <tr>\n",
       "      <th>747</th>\n",
       "      <td>UM00001407</td>\n",
       "      <td>UMich</td>\n",
       "      <td>85</td>\n",
       "      <td>94.64</td>\n",
       "      <td>96.00</td>\n",
       "      <td>1.36</td>\n",
       "      <td>LSWM</td>\n",
       "    </tr>\n",
       "    <tr>\n",
       "      <th>822</th>\n",
       "      <td>UM00001679</td>\n",
       "      <td>UMich</td>\n",
       "      <td>83</td>\n",
       "      <td>86.82</td>\n",
       "      <td>89.00</td>\n",
       "      <td>2.18</td>\n",
       "      <td>LSWM</td>\n",
       "    </tr>\n",
       "  </tbody>\n",
       "</table>\n",
       "</div>"
      ],
      "text/plain": [
       "           ptid   site  AGE     AC  ACSScore  diff  meas\n",
       "67    101151479   Mayo   80  91.79     93.00  1.21  LSWM\n",
       "81     15827182   Mayo   83  80.15     83.00  2.85  LSWM\n",
       "185        2274     NU   85  87.92     90.00  2.08  LSWM\n",
       "219        3487   UCSD   84  87.37     90.00  2.63  LSWM\n",
       "378     94-1666   Mass   70 146.00    155.00  9.00  LSWM\n",
       "458   ADRC00208  UWisc   81  79.11     82.00  2.89  LSWM\n",
       "536   ADRC00907  UWisc   72  74.61     76.00  1.39  LSWM\n",
       "716  UM00001250  UMich   70 105.51    107.00  1.49  LSWM\n",
       "747  UM00001407  UMich   85  94.64     96.00  1.36  LSWM\n",
       "822  UM00001679  UMich   83  86.82     89.00  2.18  LSWM"
      ]
     },
     "metadata": {},
     "output_type": "display_data"
    },
    {
     "data": {
      "text/html": [
       "<div>\n",
       "<style scoped>\n",
       "    .dataframe tbody tr th:only-of-type {\n",
       "        vertical-align: middle;\n",
       "    }\n",
       "\n",
       "    .dataframe tbody tr th {\n",
       "        vertical-align: top;\n",
       "    }\n",
       "\n",
       "    .dataframe thead th {\n",
       "        text-align: right;\n",
       "    }\n",
       "</style>\n",
       "<table border=\"1\" class=\"dataframe\">\n",
       "  <thead>\n",
       "    <tr style=\"text-align: right;\">\n",
       "      <th></th>\n",
       "      <th>ptid</th>\n",
       "      <th>site</th>\n",
       "      <th>AGE</th>\n",
       "      <th>AC</th>\n",
       "      <th>ACSScore</th>\n",
       "      <th>diff</th>\n",
       "      <th>meas</th>\n",
       "    </tr>\n",
       "  </thead>\n",
       "  <tbody>\n",
       "    <tr>\n",
       "      <th>195</th>\n",
       "      <td>304325</td>\n",
       "      <td>Mass</td>\n",
       "      <td>78</td>\n",
       "      <td>146.00</td>\n",
       "      <td>149.00</td>\n",
       "      <td>3.00</td>\n",
       "      <td>PSM</td>\n",
       "    </tr>\n",
       "    <tr>\n",
       "      <th>716</th>\n",
       "      <td>UM00001250</td>\n",
       "      <td>UMich</td>\n",
       "      <td>70</td>\n",
       "      <td>80.54</td>\n",
       "      <td>83.00</td>\n",
       "      <td>2.46</td>\n",
       "      <td>PSM</td>\n",
       "    </tr>\n",
       "  </tbody>\n",
       "</table>\n",
       "</div>"
      ],
      "text/plain": [
       "           ptid   site  AGE     AC  ACSScore  diff meas\n",
       "195      304325   Mass   78 146.00    149.00  3.00  PSM\n",
       "716  UM00001250  UMich   70  80.54     83.00  2.46  PSM"
      ]
     },
     "metadata": {},
     "output_type": "display_data"
    },
    {
     "data": {
      "text/html": [
       "<div>\n",
       "<style scoped>\n",
       "    .dataframe tbody tr th:only-of-type {\n",
       "        vertical-align: middle;\n",
       "    }\n",
       "\n",
       "    .dataframe tbody tr th {\n",
       "        vertical-align: top;\n",
       "    }\n",
       "\n",
       "    .dataframe thead th {\n",
       "        text-align: right;\n",
       "    }\n",
       "</style>\n",
       "<table border=\"1\" class=\"dataframe\">\n",
       "  <thead>\n",
       "    <tr style=\"text-align: right;\">\n",
       "      <th></th>\n",
       "      <th>ptid</th>\n",
       "      <th>site</th>\n",
       "      <th>AGE</th>\n",
       "      <th>AC</th>\n",
       "      <th>ACSScore</th>\n",
       "      <th>diff</th>\n",
       "      <th>meas</th>\n",
       "    </tr>\n",
       "  </thead>\n",
       "  <tbody>\n",
       "    <tr>\n",
       "      <th>716</th>\n",
       "      <td>UM00001250</td>\n",
       "      <td>UMich</td>\n",
       "      <td>70</td>\n",
       "      <td>66.98</td>\n",
       "      <td>70.00</td>\n",
       "      <td>3.02</td>\n",
       "      <td>PCPS</td>\n",
       "    </tr>\n",
       "  </tbody>\n",
       "</table>\n",
       "</div>"
      ],
      "text/plain": [
       "           ptid   site  AGE    AC  ACSScore  diff  meas\n",
       "716  UM00001250  UMich   70 66.98     70.00  3.02  PCPS"
      ]
     },
     "metadata": {},
     "output_type": "display_data"
    },
    {
     "data": {
      "text/html": [
       "<div>\n",
       "<style scoped>\n",
       "    .dataframe tbody tr th:only-of-type {\n",
       "        vertical-align: middle;\n",
       "    }\n",
       "\n",
       "    .dataframe tbody tr th {\n",
       "        vertical-align: top;\n",
       "    }\n",
       "\n",
       "    .dataframe thead th {\n",
       "        text-align: right;\n",
       "    }\n",
       "</style>\n",
       "<table border=\"1\" class=\"dataframe\">\n",
       "  <thead>\n",
       "    <tr style=\"text-align: right;\">\n",
       "      <th></th>\n",
       "      <th>ptid</th>\n",
       "      <th>site</th>\n",
       "      <th>AGE</th>\n",
       "      <th>AC</th>\n",
       "      <th>ACSScore</th>\n",
       "      <th>diff</th>\n",
       "      <th>meas</th>\n",
       "    </tr>\n",
       "  </thead>\n",
       "  <tbody>\n",
       "  </tbody>\n",
       "</table>\n",
       "</div>"
      ],
      "text/plain": [
       "Empty DataFrame\n",
       "Columns: [ptid, site, AGE, AC, ACSScore, diff, meas]\n",
       "Index: []"
      ]
     },
     "metadata": {},
     "output_type": "display_data"
    },
    {
     "data": {
      "text/html": [
       "<div>\n",
       "<style scoped>\n",
       "    .dataframe tbody tr th:only-of-type {\n",
       "        vertical-align: middle;\n",
       "    }\n",
       "\n",
       "    .dataframe tbody tr th {\n",
       "        vertical-align: top;\n",
       "    }\n",
       "\n",
       "    .dataframe thead th {\n",
       "        text-align: right;\n",
       "    }\n",
       "</style>\n",
       "<table border=\"1\" class=\"dataframe\">\n",
       "  <thead>\n",
       "    <tr style=\"text-align: right;\">\n",
       "      <th></th>\n",
       "      <th>ptid</th>\n",
       "      <th>site</th>\n",
       "      <th>AGE</th>\n",
       "      <th>AC</th>\n",
       "      <th>ACSScore</th>\n",
       "      <th>diff</th>\n",
       "      <th>meas</th>\n",
       "    </tr>\n",
       "  </thead>\n",
       "  <tbody>\n",
       "  </tbody>\n",
       "</table>\n",
       "</div>"
      ],
      "text/plain": [
       "Empty DataFrame\n",
       "Columns: [ptid, site, AGE, AC, ACSScore, diff, meas]\n",
       "Index: []"
      ]
     },
     "metadata": {},
     "output_type": "display_data"
    }
   ],
   "source": [
    "rv = []\n",
    "for col in measures:\n",
    "    data =process(genpop, col)\n",
    "    display(data)\n",
    "    rv.append(data)\n",
    "    \n",
    "g1= pd.concat(rv)"
   ]
  },
  {
   "cell_type": "code",
   "execution_count": 68,
   "metadata": {},
   "outputs": [],
   "source": [
    "g1.to_csv('C:/Users/tsb7592/Box/ARMADA Operations/Data and Analysis/85 Norms/inconsistencies.csv', index=False)"
   ]
  },
  {
   "cell_type": "code",
   "execution_count": 69,
   "metadata": {},
   "outputs": [],
   "source": [
    "cd=['DCCS_Diff',\n",
    " 'Flanker_Diff',\n",
    " 'LSWM_Diff',\n",
    " 'PSM_Diff',\n",
    " 'PCPS_Diff',\n",
    " 'ORR_Diff',\n",
    " 'TPVT_Diff',\n",
    " 'CFC_Diff',\n",
    " 'CCC_Diff',\n",
    " 'CTC_Diff']"
   ]
  },
  {
   "cell_type": "markdown",
   "metadata": {},
   "source": [
    "# Hist, Scatter plot"
   ]
  },
  {
   "cell_type": "code",
   "execution_count": 70,
   "metadata": {
    "scrolled": false
   },
   "outputs": [
    {
     "data": {
      "image/png": "[encoded data removed]",
      "text/plain": [
       "<Figure size 432x288 with 1 Axes>"
      ]
     },
     "metadata": {
      "needs_background": "light"
     },
     "output_type": "display_data"
    },
    {
     "data": {
      "image/png": "[encoded data removed]",
      "text/plain": [
       "<Figure size 432x288 with 1 Axes>"
      ]
     },
     "metadata": {
      "needs_background": "light"
     },
     "output_type": "display_data"
    },
    {
     "data": {
      "image/png": "[encoded data removed]",
      "text/plain": [
       "<Figure size 432x288 with 1 Axes>"
      ]
     },
     "metadata": {
      "needs_background": "light"
     },
     "output_type": "display_data"
    },
    {
     "data": {
      "image/png": "[encoded data removed]",
      "text/plain": [
       "<Figure size 432x288 with 1 Axes>"
      ]
     },
     "metadata": {
      "needs_background": "light"
     },
     "output_type": "display_data"
    },
    {
     "data": {
      "image/png": "[encoded data removed]",
      "text/plain": [
       "<Figure size 432x288 with 1 Axes>"
      ]
     },
     "metadata": {
      "needs_background": "light"
     },
     "output_type": "display_data"
    },
    {
     "data": {
      "image/png": "[encoded data removed]",
      "text/plain": [
       "<Figure size 432x288 with 1 Axes>"
      ]
     },
     "metadata": {
      "needs_background": "light"
     },
     "output_type": "display_data"
    },
    {
     "data": {
      "image/png": "[encoded data removed]",
      "text/plain": [
       "<Figure size 432x288 with 1 Axes>"
      ]
     },
     "metadata": {
      "needs_background": "light"
     },
     "output_type": "display_data"
    },
    {
     "data": {
      "image/png": "[encoded data removed]",
      "text/plain": [
       "<Figure size 432x288 with 1 Axes>"
      ]
     },
     "metadata": {
      "needs_background": "light"
     },
     "output_type": "display_data"
    },
    {
     "data": {
      "image/png": "[encoded data removed]",
      "text/plain": [
       "<Figure size 432x288 with 1 Axes>"
      ]
     },
     "metadata": {
      "needs_background": "light"
     },
     "output_type": "display_data"
    },
    {
     "data": {
      "image/png": "[encoded data removed]",
      "text/plain": [
       "<Figure size 432x288 with 1 Axes>"
      ]
     },
     "metadata": {
      "needs_background": "light"
     },
     "output_type": "display_data"
    }
   ],
   "source": [
    "for diff in cd:\n",
    "    genpop.hist(column=diff)"
   ]
  },
  {
   "cell_type": "code",
   "execution_count": 71,
   "metadata": {},
   "outputs": [
    {
     "data": {
      "image/png": "[encoded data removed]",
      "text/plain": [
       "<Figure size 576x432 with 1 Axes>"
      ]
     },
     "metadata": {
      "needs_background": "light"
     },
     "output_type": "display_data"
    },
    {
     "data": {
      "image/png": "[encoded data removed]",
      "text/plain": [
       "<Figure size 576x432 with 1 Axes>"
      ]
     },
     "metadata": {
      "needs_background": "light"
     },
     "output_type": "display_data"
    },
    {
     "data": {
      "image/png": "[encoded data removed]",
      "text/plain": [
       "<Figure size 576x432 with 1 Axes>"
      ]
     },
     "metadata": {
      "needs_background": "light"
     },
     "output_type": "display_data"
    },
    {
     "data": {
      "image/png": "[encoded data removed]",
      "text/plain": [
       "<Figure size 576x432 with 1 Axes>"
      ]
     },
     "metadata": {
      "needs_background": "light"
     },
     "output_type": "display_data"
    },
    {
     "data": {
      "image/png": "[encoded data removed]",
      "text/plain": [
       "<Figure size 576x432 with 1 Axes>"
      ]
     },
     "metadata": {
      "needs_background": "light"
     },
     "output_type": "display_data"
    },
    {
     "data": {
      "image/png": "[encoded data removed]",
      "text/plain": [
       "<Figure size 576x432 with 1 Axes>"
      ]
     },
     "metadata": {
      "needs_background": "light"
     },
     "output_type": "display_data"
    },
    {
     "data": {
      "image/png": "[encoded data removed]",
      "text/plain": [
       "<Figure size 576x432 with 1 Axes>"
      ]
     },
     "metadata": {
      "needs_background": "light"
     },
     "output_type": "display_data"
    }
   ],
   "source": [
    "%matplotlib inline\n",
    "import matplotlib.pyplot as plt\n",
    "import pandas as pd\n",
    "\n",
    "for col in measures:\n",
    "    AC = col+'_AC'\n",
    "    g1 = genpop[genpop.cohort2=='Gen population 65-85']\n",
    "    g2 = genpop[genpop.cohort2=='Gen population healthy aging 85+']\n",
    "    plt.figure(figsize=(8,6))\n",
    "    plt.hist(g1[AC], bins=30, alpha=0.5, label='Gen population 65-85')\n",
    "    plt.hist(g2[AC], bins=30, alpha=0.5, label= 'Gen population healthy aging 85+')\n",
    "    plt.xlabel('Data', size=14)\n",
    "    plt.ylabel('Count', size=14)\n",
    "    plt.title(col)\n",
    "    plt.legend(loc='upper right')\n",
    "\n",
    "    "
   ]
  },
  {
   "cell_type": "code",
   "execution_count": 72,
   "metadata": {},
   "outputs": [
    {
     "data": {
      "image/png": "[encoded data removed]",
      "text/plain": [
       "<Figure size 720x576 with 1 Axes>"
      ]
     },
     "metadata": {
      "needs_background": "light"
     },
     "output_type": "display_data"
    },
    {
     "data": {
      "image/png": "[encoded data removed]",
      "text/plain": [
       "<Figure size 720x576 with 1 Axes>"
      ]
     },
     "metadata": {
      "needs_background": "light"
     },
     "output_type": "display_data"
    },
    {
     "data": {
      "image/png": "[encoded data removed]",
      "text/plain": [
       "<Figure size 720x576 with 1 Axes>"
      ]
     },
     "metadata": {
      "needs_background": "light"
     },
     "output_type": "display_data"
    },
    {
     "data": {
      "image/png": "[encoded data removed]",
      "text/plain": [
       "<Figure size 720x576 with 1 Axes>"
      ]
     },
     "metadata": {
      "needs_background": "light"
     },
     "output_type": "display_data"
    },
    {
     "data": {
      "image/png": "[encoded data removed]",
      "text/plain": [
       "<Figure size 720x576 with 1 Axes>"
      ]
     },
     "metadata": {
      "needs_background": "light"
     },
     "output_type": "display_data"
    },
    {
     "data": {
      "image/png": "[encoded data removed]",
      "text/plain": [
       "<Figure size 720x576 with 1 Axes>"
      ]
     },
     "metadata": {
      "needs_background": "light"
     },
     "output_type": "display_data"
    },
    {
     "data": {
      "image/png": "[encoded data removed]",
      "text/plain": [
       "<Figure size 720x576 with 1 Axes>"
      ]
     },
     "metadata": {
      "needs_background": "light"
     },
     "output_type": "display_data"
    }
   ],
   "source": [
    "import seaborn as sns\n",
    "for col in measures:\n",
    "    plt.figure(figsize=(10,8))\n",
    "    AC = col+'_AC'\n",
    "    sns.scatterplot(x=\"AGE\",  y=AC, hue='cohort2', data=genpop)"
   ]
  },
  {
   "cell_type": "code",
   "execution_count": 77,
   "metadata": {},
   "outputs": [
    {
     "name": "stdout",
     "output_type": "stream",
     "text": [
      "DCCS t-stat =  -0.11, pvalue =   0.91\n",
      "\n",
      "Flanker t-stat =  -3.03, pvalue =   0.00\n",
      "\n",
      "LSWM t-stat =   0.94, pvalue =   0.35\n",
      "\n",
      "PSM t-stat =   2.20, pvalue =   0.03\n",
      "\n",
      "PCPS t-stat =   1.65, pvalue =   0.10\n",
      "\n",
      "ORR t-stat =   0.45, pvalue =   0.65\n",
      "\n",
      "TPVT t-stat =   5.76, pvalue =   0.00\n",
      "\n"
     ]
    }
   ],
   "source": [
    "import numpy as np\n",
    "import scipy.stats as stats\n",
    "for col in measures:\n",
    "    AC = col+'_AC'\n",
    "    g1 = genpop[genpop.cohort2=='Gen population 65-85'][AC]\n",
    "    g2 = genpop[genpop.cohort2=='Gen population healthy aging 85+'][AC]\n",
    "    print(col, 't-stat = %6.2f, pvalue = %6.2f' % stats.ttest_ind(g1.dropna(), g2.dropna(), equal_var=False))\n",
    "    print('')"
   ]
  },
  {
   "cell_type": "code",
   "execution_count": 78,
   "metadata": {},
   "outputs": [],
   "source": [
    "genpop[select].to_csv('C:/Users/tsb7592/Box/ARMADA Operations/Data and Analysis/85 Norms/age_corrected_data.csv', index=False)"
   ]
  },
  {
   "cell_type": "code",
   "execution_count": null,
   "metadata": {},
   "outputs": [],
   "source": []
  }
 ],
 "metadata": {
  "colab": {
   "authorship_tag": "ABX9TyOjJC/8uEK6GS7o05/Lerxy",
   "collapsed_sections": [],
   "include_colab_link": true,
   "name": "Classification of MCI.ipynb",
   "provenance": []
  },
  "kernelspec": {
   "display_name": "Python 3",
   "language": "python",
   "name": "python3"
  },
  "language_info": {
   "codemirror_mode": {
    "name": "ipython",
    "version": 3
   },
   "file_extension": ".py",
   "mimetype": "text/x-python",
   "name": "python",
   "nbconvert_exporter": "python",
   "pygments_lexer": "ipython3",
   "version": "3.8.8"
  }
 },
 "nbformat": 4,
 "nbformat_minor": 1
}
