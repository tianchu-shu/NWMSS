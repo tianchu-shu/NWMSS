{
 "cells": [
  {
   "cell_type": "code",
   "execution_count": 1,
   "metadata": {
    "id": "ynY1WcZyRZNL"
   },
   "outputs": [],
   "source": [
    "import numpy as np\n",
    "import pandas as pd\n",
    "import matplotlib.pyplot as plt\n",
    "import matplotlib.cm as cm\n",
    "\n",
    "from itertools import cycle\n",
    "\n",
    "from sklearn import svm, datasets\n",
    "from sklearn.metrics import *\n",
    "from sklearn.metrics import roc_curve, auc\n",
    "from sklearn.model_selection import train_test_split\n",
    "from sklearn.preprocessing import label_binarize\n",
    "from sklearn.linear_model import LogisticRegression\n",
    "from scipy import interp\n",
    "from sklearn.metrics import roc_auc_score"
   ]
  },
  {
   "cell_type": "code",
   "execution_count": 2,
   "metadata": {
    "id": "_ZTvZjNPZwli"
   },
   "outputs": [],
   "source": [
    "import warnings\n",
    "warnings.filterwarnings('ignore')"
   ]
  },
  {
   "cell_type": "code",
   "execution_count": 3,
   "metadata": {},
   "outputs": [],
   "source": [
    "#Set two decimal points for display\n",
    "pd.options.display.float_format = \"{:.2f}\".format"
   ]
  },
  {
   "cell_type": "markdown",
   "metadata": {
    "id": "dNBZgau7QvSC"
   },
   "source": [
    "# Load the Data"
   ]
  },
  {
   "cell_type": "code",
   "execution_count": 4,
   "metadata": {},
   "outputs": [
    {
     "data": {
      "text/plain": [
       "(1046, 652)"
      ]
     },
     "execution_count": 4,
     "metadata": {},
     "output_type": "execute_result"
    }
   ],
   "source": [
    "import pyreadstat\n",
    "uds, meta = pyreadstat.read_sas7bdat(\"C:/Users/tsb7592/Downloads/armada_uds_sep21_di.sas7bdat\")\n",
    "uds.shape"
   ]
  },
  {
   "cell_type": "code",
   "execution_count": 5,
   "metadata": {},
   "outputs": [],
   "source": [
    "uds =uds[uds.assmnt ==1]"
   ]
  },
  {
   "cell_type": "code",
   "execution_count": 25,
   "metadata": {},
   "outputs": [
    {
     "data": {
      "text/plain": [
       "array(['Emory', 'Mayo', 'Northwestern',\n",
       "       'University of Pittsburgh - ARMADA', 'U California, San Diego',\n",
       "       'Massachusetts - ARMADA', 'U Wisconsin', 'U Michigan ADC',\n",
       "       'Columbia WHICAP'], dtype=object)"
      ]
     },
     "execution_count": 25,
     "metadata": {},
     "output_type": "execute_result"
    }
   ],
   "source": [
    "uds.ADCNAME.unique()"
   ]
  },
  {
   "cell_type": "code",
   "execution_count": 31,
   "metadata": {},
   "outputs": [
    {
     "data": {
      "text/plain": [
       "array(['University of Pittsburgh - ARMADA', 'Massachusetts - ARMADA',\n",
       "       'U Wisconsin', 'U California, San Diego', 'Columbia WHICAP'],\n",
       "      dtype=object)"
      ]
     },
     "execution_count": 31,
     "metadata": {},
     "output_type": "execute_result"
    }
   ],
   "source": [
    "uds[uds.NACCMOCA.isnull()]['ADCNAME'].unique()"
   ]
  },
  {
   "cell_type": "code",
   "execution_count": 32,
   "metadata": {},
   "outputs": [
    {
     "data": {
      "text/plain": [
       "count   57.00\n",
       "mean    22.88\n",
       "std      6.61\n",
       "min     -4.00\n",
       "25%     21.00\n",
       "50%     24.00\n",
       "75%     27.00\n",
       "max     29.00\n",
       "Name: MOCATOTS, dtype: float64"
      ]
     },
     "execution_count": 32,
     "metadata": {},
     "output_type": "execute_result"
    }
   ],
   "source": [
    "uds[uds.ADCNAME=='Emory']['MOCATOTS'].describe()"
   ]
  },
  {
   "cell_type": "code",
   "execution_count": 33,
   "metadata": {},
   "outputs": [
    {
     "data": {
      "text/plain": [
       "count   110.00\n",
       "mean     24.17\n",
       "std       8.43\n",
       "min      -4.00\n",
       "25%      22.00\n",
       "50%      25.00\n",
       "75%      28.00\n",
       "max      88.00\n",
       "Name: MOCATOTS, dtype: float64"
      ]
     },
     "execution_count": 33,
     "metadata": {},
     "output_type": "execute_result"
    }
   ],
   "source": [
    "uds[uds.ADCNAME=='U Wisconsin']['MOCATOTS'].describe()"
   ]
  },
  {
   "cell_type": "code",
   "execution_count": 34,
   "metadata": {},
   "outputs": [
    {
     "data": {
      "text/html": [
       "<div>\n",
       "<style scoped>\n",
       "    .dataframe tbody tr th:only-of-type {\n",
       "        vertical-align: middle;\n",
       "    }\n",
       "\n",
       "    .dataframe tbody tr th {\n",
       "        vertical-align: top;\n",
       "    }\n",
       "\n",
       "    .dataframe thead th {\n",
       "        text-align: right;\n",
       "    }\n",
       "</style>\n",
       "<table border=\"1\" class=\"dataframe\">\n",
       "  <thead>\n",
       "    <tr style=\"text-align: right;\">\n",
       "      <th></th>\n",
       "      <th>ptid</th>\n",
       "      <th>assmnt</th>\n",
       "      <th>ADCNAME</th>\n",
       "      <th>MOCATOTS</th>\n",
       "      <th>NACCMOCA</th>\n",
       "    </tr>\n",
       "  </thead>\n",
       "  <tbody>\n",
       "    <tr>\n",
       "      <th>10</th>\n",
       "      <td>1.48786</td>\n",
       "      <td>1.00</td>\n",
       "      <td>Emory</td>\n",
       "      <td>-4.00</td>\n",
       "      <td>-4.00</td>\n",
       "    </tr>\n",
       "    <tr>\n",
       "      <th>44</th>\n",
       "      <td>101149492</td>\n",
       "      <td>1.00</td>\n",
       "      <td>Mayo</td>\n",
       "      <td>88.00</td>\n",
       "      <td>88.00</td>\n",
       "    </tr>\n",
       "    <tr>\n",
       "      <th>70</th>\n",
       "      <td>142</td>\n",
       "      <td>1.00</td>\n",
       "      <td>University of Pittsburgh - ARMADA</td>\n",
       "      <td>NaN</td>\n",
       "      <td>NaN</td>\n",
       "    </tr>\n",
       "    <tr>\n",
       "      <th>101</th>\n",
       "      <td>2</td>\n",
       "      <td>1.00</td>\n",
       "      <td>University of Pittsburgh - ARMADA</td>\n",
       "      <td>NaN</td>\n",
       "      <td>NaN</td>\n",
       "    </tr>\n",
       "    <tr>\n",
       "      <th>136</th>\n",
       "      <td>2090</td>\n",
       "      <td>1.00</td>\n",
       "      <td>Northwestern</td>\n",
       "      <td>-4.00</td>\n",
       "      <td>-4.00</td>\n",
       "    </tr>\n",
       "  </tbody>\n",
       "</table>\n",
       "</div>"
      ],
      "text/plain": [
       "          ptid  assmnt                            ADCNAME  MOCATOTS  NACCMOCA\n",
       "10     1.48786    1.00                              Emory     -4.00     -4.00\n",
       "44   101149492    1.00                               Mayo     88.00     88.00\n",
       "70         142    1.00  University of Pittsburgh - ARMADA       NaN       NaN\n",
       "101          2    1.00  University of Pittsburgh - ARMADA       NaN       NaN\n",
       "136       2090    1.00                       Northwestern     -4.00     -4.00"
      ]
     },
     "execution_count": 34,
     "metadata": {},
     "output_type": "execute_result"
    }
   ],
   "source": [
    "missing = uds[(uds.MOCATOTS==-4)|(uds.MOCATOTS==88)|(uds.MOCATOTS.isnull())|(uds.NACCMOCA==-4)|(uds.NACCMOCA==88)|(uds.NACCMOCA.isnull())]\n",
    "missing[['ptid','ADCNAME','MOCATOTS','NACCMOCA']].head()"
   ]
  },
  {
   "cell_type": "code",
   "execution_count": 41,
   "metadata": {},
   "outputs": [
    {
     "data": {
      "text/plain": [
       "ADCNAME\n",
       "Columbia WHICAP                       0\n",
       "Emory                                 0\n",
       "Massachusetts - ARMADA                0\n",
       "Mayo                                  0\n",
       "Northwestern                          0\n",
       "U California, San Diego               0\n",
       "U Wisconsin                           1\n",
       "University of Pittsburgh - ARMADA    14\n",
       "Name: MOCATOTS, dtype: int32"
      ]
     },
     "execution_count": 41,
     "metadata": {},
     "output_type": "execute_result"
    }
   ],
   "source": [
    "missing.MOCATOTS.isnull().groupby(missing['ADCNAME']).sum().astype(int)"
   ]
  },
  {
   "cell_type": "code",
   "execution_count": 45,
   "metadata": {},
   "outputs": [
    {
     "data": {
      "text/plain": [
       "ADCNAME\n",
       "Columbia WHICAP                      180\n",
       "Emory                                  0\n",
       "Massachusetts - ARMADA               105\n",
       "Mayo                                   0\n",
       "Northwestern                           0\n",
       "U California, San Diego               30\n",
       "U Wisconsin                           25\n",
       "University of Pittsburgh - ARMADA     36\n",
       "Name: NACCMOCA, dtype: int32"
      ]
     },
     "execution_count": 45,
     "metadata": {},
     "output_type": "execute_result"
    }
   ],
   "source": [
    "missing.NACCMOCA.isnull().groupby(missing['ADCNAME']).sum().astype(int)"
   ]
  },
  {
   "cell_type": "code",
   "execution_count": 48,
   "metadata": {},
   "outputs": [],
   "source": [
    "# Create a Pandas Excel writer using XlsxWriter as the engine.\n",
    "writer = pd.ExcelWriter('C:/Users/tsb7592/Downloads/MISSING_MOCA.xlsx', engine='xlsxwriter')\n",
    "\n",
    "#a. rows with missing moca\n",
    "missing[['ptid','ADCNAME','MOCATOTS','NACCMOCA']].to_excel(writer, sheet_name='Missing_data', index=False)\n",
    "\n",
    "#b. summary of missing MOCATOTS\n",
    "missing.MOCATOTS.isnull().groupby(missing['ADCNAME']).sum().astype(int).to_excel(writer, sheet_name='missing_counts_MOCATOTS')\n",
    "\n",
    "#c. summary of missing NACCMOCA\n",
    "missing.NACCMOCA.isnull().groupby(missing['ADCNAME']).sum().astype(int).to_excel(writer, sheet_name='missing_counts_NACCMOCA')\n",
    "\n",
    "# Close the Pandas Excel writer and output the Excel file.\n",
    "writer.save()"
   ]
  },
  {
   "cell_type": "code",
   "execution_count": null,
   "metadata": {},
   "outputs": [],
   "source": []
  },
  {
   "cell_type": "code",
   "execution_count": 36,
   "metadata": {},
   "outputs": [],
   "source": [
    "#load the missing info\n",
    "mdf = pd.read_csv(\"C:/Users/tsb7592/Downloads/UDS_MOCA_MISSING2[72153].csv\")"
   ]
  },
  {
   "cell_type": "code",
   "execution_count": 37,
   "metadata": {},
   "outputs": [
    {
     "data": {
      "text/plain": [
       "(277, 5)"
      ]
     },
     "execution_count": 37,
     "metadata": {},
     "output_type": "execute_result"
    }
   ],
   "source": [
    "mdf.shape"
   ]
  },
  {
   "cell_type": "code",
   "execution_count": 38,
   "metadata": {},
   "outputs": [],
   "source": [
    "mdf.columns=['ADCID', 'ptid', 'MOCATOTS', 'Reason', 'ADCNAME']"
   ]
  },
  {
   "cell_type": "code",
   "execution_count": 39,
   "metadata": {},
   "outputs": [],
   "source": [
    "df = pd.merge(mdf,uds[['ptid','ADCID','MOCATOTS','MMSECOMP','NACCMMSE']], on=['ptid','ADCID'],how='left')"
   ]
  },
  {
   "cell_type": "code",
   "execution_count": 41,
   "metadata": {},
   "outputs": [
    {
     "data": {
      "text/plain": [
       "(277, 8)"
      ]
     },
     "execution_count": 41,
     "metadata": {},
     "output_type": "execute_result"
    }
   ],
   "source": [
    "df.shape"
   ]
  },
  {
   "cell_type": "markdown",
   "metadata": {},
   "source": [
    "# 2. Verify that all the ptids are indeed missing: that is, all the missing IDs that are listed have the values -4, 88, or NA"
   ]
  },
  {
   "cell_type": "code",
   "execution_count": 31,
   "metadata": {
    "scrolled": true
   },
   "outputs": [
    {
     "data": {
      "text/html": [
       "<div>\n",
       "<style scoped>\n",
       "    .dataframe tbody tr th:only-of-type {\n",
       "        vertical-align: middle;\n",
       "    }\n",
       "\n",
       "    .dataframe tbody tr th {\n",
       "        vertical-align: top;\n",
       "    }\n",
       "\n",
       "    .dataframe thead th {\n",
       "        text-align: right;\n",
       "    }\n",
       "</style>\n",
       "<table border=\"1\" class=\"dataframe\">\n",
       "  <thead>\n",
       "    <tr style=\"text-align: right;\">\n",
       "      <th></th>\n",
       "      <th>ADCID</th>\n",
       "      <th>ptid</th>\n",
       "      <th>MOCATOTS_x</th>\n",
       "      <th>Reason</th>\n",
       "      <th>ADCNAME</th>\n",
       "      <th>MOCATOTS_y</th>\n",
       "      <th>MMSECOMP</th>\n",
       "      <th>NACCMMSE</th>\n",
       "    </tr>\n",
       "  </thead>\n",
       "  <tbody>\n",
       "    <tr>\n",
       "      <th>0</th>\n",
       "      <td>6</td>\n",
       "      <td>1.46421</td>\n",
       "      <td>-4.00</td>\n",
       "      <td>Telephone packet</td>\n",
       "      <td>Emory</td>\n",
       "      <td>10.00</td>\n",
       "      <td>-4.00</td>\n",
       "      <td>-4.00</td>\n",
       "    </tr>\n",
       "    <tr>\n",
       "      <th>1</th>\n",
       "      <td>6</td>\n",
       "      <td>1.46422</td>\n",
       "      <td>-4.00</td>\n",
       "      <td>Telephone packet</td>\n",
       "      <td>Emory</td>\n",
       "      <td>22.00</td>\n",
       "      <td>-4.00</td>\n",
       "      <td>-4.00</td>\n",
       "    </tr>\n",
       "    <tr>\n",
       "      <th>3</th>\n",
       "      <td>6</td>\n",
       "      <td>713886</td>\n",
       "      <td>-4.00</td>\n",
       "      <td>Telephone packet</td>\n",
       "      <td>Emory</td>\n",
       "      <td>21.00</td>\n",
       "      <td>-4.00</td>\n",
       "      <td>-4.00</td>\n",
       "    </tr>\n",
       "    <tr>\n",
       "      <th>9</th>\n",
       "      <td>37</td>\n",
       "      <td>ARMADA007</td>\n",
       "      <td>NaN</td>\n",
       "      <td>Matches data submitted</td>\n",
       "      <td>U Wisconsin</td>\n",
       "      <td>NaN</td>\n",
       "      <td>-4.00</td>\n",
       "      <td>-4.00</td>\n",
       "    </tr>\n",
       "    <tr>\n",
       "      <th>10</th>\n",
       "      <td>43</td>\n",
       "      <td>UM00000700</td>\n",
       "      <td>-4.00</td>\n",
       "      <td>Telephone packet</td>\n",
       "      <td>U Michigan ADC</td>\n",
       "      <td>20.00</td>\n",
       "      <td>-4.00</td>\n",
       "      <td>-4.00</td>\n",
       "    </tr>\n",
       "    <tr>\n",
       "      <th>11</th>\n",
       "      <td>43</td>\n",
       "      <td>UM00001444</td>\n",
       "      <td>-4.00</td>\n",
       "      <td>Telephone packet</td>\n",
       "      <td>U Michigan ADC</td>\n",
       "      <td>30.00</td>\n",
       "      <td>-4.00</td>\n",
       "      <td>-4.00</td>\n",
       "    </tr>\n",
       "    <tr>\n",
       "      <th>12</th>\n",
       "      <td>73</td>\n",
       "      <td>142</td>\n",
       "      <td>NaN</td>\n",
       "      <td>Center does not upload C2</td>\n",
       "      <td>University of Pittsburgh - ARMADA</td>\n",
       "      <td>NaN</td>\n",
       "      <td>-4.00</td>\n",
       "      <td>-4.00</td>\n",
       "    </tr>\n",
       "    <tr>\n",
       "      <th>13</th>\n",
       "      <td>73</td>\n",
       "      <td>2</td>\n",
       "      <td>NaN</td>\n",
       "      <td>Center does not upload C2</td>\n",
       "      <td>University of Pittsburgh - ARMADA</td>\n",
       "      <td>NaN</td>\n",
       "      <td>-4.00</td>\n",
       "      <td>-4.00</td>\n",
       "    </tr>\n",
       "    <tr>\n",
       "      <th>14</th>\n",
       "      <td>73</td>\n",
       "      <td>2177</td>\n",
       "      <td>NaN</td>\n",
       "      <td>Center does not upload C2</td>\n",
       "      <td>University of Pittsburgh - ARMADA</td>\n",
       "      <td>NaN</td>\n",
       "      <td>-4.00</td>\n",
       "      <td>-4.00</td>\n",
       "    </tr>\n",
       "    <tr>\n",
       "      <th>15</th>\n",
       "      <td>73</td>\n",
       "      <td>2188</td>\n",
       "      <td>NaN</td>\n",
       "      <td>Center does not upload C2</td>\n",
       "      <td>University of Pittsburgh - ARMADA</td>\n",
       "      <td>NaN</td>\n",
       "      <td>-4.00</td>\n",
       "      <td>-4.00</td>\n",
       "    </tr>\n",
       "    <tr>\n",
       "      <th>16</th>\n",
       "      <td>73</td>\n",
       "      <td>2447</td>\n",
       "      <td>NaN</td>\n",
       "      <td>Center does not upload C2</td>\n",
       "      <td>University of Pittsburgh - ARMADA</td>\n",
       "      <td>NaN</td>\n",
       "      <td>-4.00</td>\n",
       "      <td>-4.00</td>\n",
       "    </tr>\n",
       "    <tr>\n",
       "      <th>18</th>\n",
       "      <td>73</td>\n",
       "      <td>3692</td>\n",
       "      <td>-4.00</td>\n",
       "      <td>Center does not upload C2</td>\n",
       "      <td>University of Pittsburgh - ARMADA</td>\n",
       "      <td>NaN</td>\n",
       "      <td>NaN</td>\n",
       "      <td>NaN</td>\n",
       "    </tr>\n",
       "    <tr>\n",
       "      <th>19</th>\n",
       "      <td>73</td>\n",
       "      <td>4254</td>\n",
       "      <td>NaN</td>\n",
       "      <td>Center does not upload C2</td>\n",
       "      <td>University of Pittsburgh - ARMADA</td>\n",
       "      <td>NaN</td>\n",
       "      <td>-4.00</td>\n",
       "      <td>-4.00</td>\n",
       "    </tr>\n",
       "    <tr>\n",
       "      <th>20</th>\n",
       "      <td>73</td>\n",
       "      <td>4500</td>\n",
       "      <td>NaN</td>\n",
       "      <td>Center does not upload C2</td>\n",
       "      <td>University of Pittsburgh - ARMADA</td>\n",
       "      <td>NaN</td>\n",
       "      <td>-4.00</td>\n",
       "      <td>-4.00</td>\n",
       "    </tr>\n",
       "    <tr>\n",
       "      <th>21</th>\n",
       "      <td>73</td>\n",
       "      <td>4920</td>\n",
       "      <td>NaN</td>\n",
       "      <td>Center does not upload C2</td>\n",
       "      <td>University of Pittsburgh - ARMADA</td>\n",
       "      <td>NaN</td>\n",
       "      <td>-4.00</td>\n",
       "      <td>-4.00</td>\n",
       "    </tr>\n",
       "    <tr>\n",
       "      <th>23</th>\n",
       "      <td>73</td>\n",
       "      <td>5286</td>\n",
       "      <td>NaN</td>\n",
       "      <td>Center does not upload C2</td>\n",
       "      <td>University of Pittsburgh - ARMADA</td>\n",
       "      <td>NaN</td>\n",
       "      <td>-4.00</td>\n",
       "      <td>-4.00</td>\n",
       "    </tr>\n",
       "    <tr>\n",
       "      <th>30</th>\n",
       "      <td>73</td>\n",
       "      <td>723</td>\n",
       "      <td>NaN</td>\n",
       "      <td>Center does not upload C2</td>\n",
       "      <td>University of Pittsburgh - ARMADA</td>\n",
       "      <td>NaN</td>\n",
       "      <td>-4.00</td>\n",
       "      <td>-4.00</td>\n",
       "    </tr>\n",
       "    <tr>\n",
       "      <th>51</th>\n",
       "      <td>73</td>\n",
       "      <td>861</td>\n",
       "      <td>NaN</td>\n",
       "      <td>Center does not upload C2</td>\n",
       "      <td>University of Pittsburgh - ARMADA</td>\n",
       "      <td>NaN</td>\n",
       "      <td>-4.00</td>\n",
       "      <td>-4.00</td>\n",
       "    </tr>\n",
       "    <tr>\n",
       "      <th>52</th>\n",
       "      <td>73</td>\n",
       "      <td>899</td>\n",
       "      <td>NaN</td>\n",
       "      <td>Center does not upload C2</td>\n",
       "      <td>University of Pittsburgh - ARMADA</td>\n",
       "      <td>NaN</td>\n",
       "      <td>-4.00</td>\n",
       "      <td>-4.00</td>\n",
       "    </tr>\n",
       "    <tr>\n",
       "      <th>53</th>\n",
       "      <td>73</td>\n",
       "      <td>923</td>\n",
       "      <td>NaN</td>\n",
       "      <td>Center does not upload C2</td>\n",
       "      <td>University of Pittsburgh - ARMADA</td>\n",
       "      <td>NaN</td>\n",
       "      <td>-4.00</td>\n",
       "      <td>-4.00</td>\n",
       "    </tr>\n",
       "    <tr>\n",
       "      <th>54</th>\n",
       "      <td>73</td>\n",
       "      <td>931</td>\n",
       "      <td>NaN</td>\n",
       "      <td>Center does not upload C2</td>\n",
       "      <td>University of Pittsburgh - ARMADA</td>\n",
       "      <td>NaN</td>\n",
       "      <td>-4.00</td>\n",
       "      <td>-4.00</td>\n",
       "    </tr>\n",
       "  </tbody>\n",
       "</table>\n",
       "</div>"
      ],
      "text/plain": [
       "    ADCID        ptid  MOCATOTS_x                     Reason  \\\n",
       "0       6     1.46421       -4.00           Telephone packet   \n",
       "1       6     1.46422       -4.00           Telephone packet   \n",
       "3       6      713886       -4.00           Telephone packet   \n",
       "9      37   ARMADA007         NaN     Matches data submitted   \n",
       "10     43  UM00000700       -4.00           Telephone packet   \n",
       "11     43  UM00001444       -4.00           Telephone packet   \n",
       "12     73         142         NaN  Center does not upload C2   \n",
       "13     73           2         NaN  Center does not upload C2   \n",
       "14     73        2177         NaN  Center does not upload C2   \n",
       "15     73        2188         NaN  Center does not upload C2   \n",
       "16     73        2447         NaN  Center does not upload C2   \n",
       "18     73        3692       -4.00  Center does not upload C2   \n",
       "19     73        4254         NaN  Center does not upload C2   \n",
       "20     73        4500         NaN  Center does not upload C2   \n",
       "21     73        4920         NaN  Center does not upload C2   \n",
       "23     73        5286         NaN  Center does not upload C2   \n",
       "30     73         723         NaN  Center does not upload C2   \n",
       "51     73         861         NaN  Center does not upload C2   \n",
       "52     73         899         NaN  Center does not upload C2   \n",
       "53     73         923         NaN  Center does not upload C2   \n",
       "54     73         931         NaN  Center does not upload C2   \n",
       "\n",
       "                              ADCNAME  MOCATOTS_y  MMSECOMP  NACCMMSE  \n",
       "0                               Emory       10.00     -4.00     -4.00  \n",
       "1                               Emory       22.00     -4.00     -4.00  \n",
       "3                               Emory       21.00     -4.00     -4.00  \n",
       "9                         U Wisconsin         NaN     -4.00     -4.00  \n",
       "10                     U Michigan ADC       20.00     -4.00     -4.00  \n",
       "11                     U Michigan ADC       30.00     -4.00     -4.00  \n",
       "12  University of Pittsburgh - ARMADA         NaN     -4.00     -4.00  \n",
       "13  University of Pittsburgh - ARMADA         NaN     -4.00     -4.00  \n",
       "14  University of Pittsburgh - ARMADA         NaN     -4.00     -4.00  \n",
       "15  University of Pittsburgh - ARMADA         NaN     -4.00     -4.00  \n",
       "16  University of Pittsburgh - ARMADA         NaN     -4.00     -4.00  \n",
       "18  University of Pittsburgh - ARMADA         NaN       NaN       NaN  \n",
       "19  University of Pittsburgh - ARMADA         NaN     -4.00     -4.00  \n",
       "20  University of Pittsburgh - ARMADA         NaN     -4.00     -4.00  \n",
       "21  University of Pittsburgh - ARMADA         NaN     -4.00     -4.00  \n",
       "23  University of Pittsburgh - ARMADA         NaN     -4.00     -4.00  \n",
       "30  University of Pittsburgh - ARMADA         NaN     -4.00     -4.00  \n",
       "51  University of Pittsburgh - ARMADA         NaN     -4.00     -4.00  \n",
       "52  University of Pittsburgh - ARMADA         NaN     -4.00     -4.00  \n",
       "53  University of Pittsburgh - ARMADA         NaN     -4.00     -4.00  \n",
       "54  University of Pittsburgh - ARMADA         NaN     -4.00     -4.00  "
      ]
     },
     "execution_count": 31,
     "metadata": {},
     "output_type": "execute_result"
    }
   ],
   "source": [
    "#Inconsistancy in MOCATOTS\n",
    "df[df.MOCATOTS_x != df.MOCATOTS_y]"
   ]
  },
  {
   "cell_type": "markdown",
   "metadata": {},
   "source": [
    "# 3. For these ptids, look at their values for MMSECOMP. What is their value? (should only have values 0, 1, or -4). Please provide a table of counts by cohort\n",
    "\n",
    "# 4. For these ptids, look at their value for NACCMMSE. What is their value? Please provide a table of counts by cohort (can submit in the email)."
   ]
  },
  {
   "cell_type": "code",
   "execution_count": 33,
   "metadata": {},
   "outputs": [
    {
     "data": {
      "text/plain": [
       "-4.00    276\n",
       "Name: MMSECOMP, dtype: int64"
      ]
     },
     "execution_count": 33,
     "metadata": {},
     "output_type": "execute_result"
    }
   ],
   "source": [
    "df.MMSECOMP.value_counts()"
   ]
  },
  {
   "cell_type": "code",
   "execution_count": 34,
   "metadata": {},
   "outputs": [
    {
     "data": {
      "text/plain": [
       "-4.00    276\n",
       "Name: NACCMMSE, dtype: int64"
      ]
     },
     "execution_count": 34,
     "metadata": {},
     "output_type": "execute_result"
    }
   ],
   "source": [
    "df.NACCMMSE.value_counts()"
   ]
  },
  {
   "cell_type": "code",
   "execution_count": 42,
   "metadata": {},
   "outputs": [],
   "source": [
    "df.to_csv('C:/Users/tsb7592/Downloads/UDS_MOCA_MISSING2_new.csv', index=False)"
   ]
  },
  {
   "cell_type": "code",
   "execution_count": 103,
   "metadata": {},
   "outputs": [],
   "source": [
    "marital ={1:\"Married\", 2:\"Widowed\", 3:\"Divorced\",\n",
    "4:\"Separated\", 5:\"Never married (or marriage was annulled) \",\n",
    "6:\"Living as married/domestic partner\", 9:\"Other  or  unknown\"}"
   ]
  },
  {
   "cell_type": "code",
   "execution_count": 104,
   "metadata": {},
   "outputs": [],
   "source": [
    "#Rename the value under column cohort2\n",
    "uds.MARISTAT = uds.MARISTAT.map(marital)"
   ]
  }
 ],
 "metadata": {
  "colab": {
   "authorship_tag": "ABX9TyOjJC/8uEK6GS7o05/Lerxy",
   "collapsed_sections": [],
   "include_colab_link": true,
   "name": "Classification of MCI.ipynb",
   "provenance": []
  },
  "kernelspec": {
   "display_name": "Python 3",
   "language": "python",
   "name": "python3"
  },
  "language_info": {
   "codemirror_mode": {
    "name": "ipython",
    "version": 3
   },
   "file_extension": ".py",
   "mimetype": "text/x-python",
   "name": "python",
   "nbconvert_exporter": "python",
   "pygments_lexer": "ipython3",
   "version": "3.8.8"
  }
 },
 "nbformat": 4,
 "nbformat_minor": 1
}
