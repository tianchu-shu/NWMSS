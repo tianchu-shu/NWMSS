{
 "cells": [
  {
   "cell_type": "code",
   "execution_count": null,
   "metadata": {},
   "outputs": [],
   "source": [
    "import sys \n",
    "\n",
    "stdoutOrigin=sys.stdout \n",
    "sys.stdout = open(\"C:/Users/tsb7592/Box/ARMADA Operations/Data and Analysis/poster.txt\", \"w\")"
   ]
  },
  {
   "cell_type": "code",
   "execution_count": 6,
   "metadata": {
    "id": "ynY1WcZyRZNL"
   },
   "outputs": [],
   "source": [
    "import numpy as np\n",
    "import pandas as pd\n",
    "import matplotlib.pyplot as plt\n",
    "import matplotlib.cm as cm\n",
    "\n",
    "from itertools import cycle\n",
    "\n",
    "from sklearn import svm, datasets\n",
    "from sklearn.metrics import *\n",
    "from sklearn.metrics import roc_curve, auc\n",
    "from sklearn.model_selection import train_test_split\n",
    "from sklearn.preprocessing import label_binarize\n",
    "from sklearn.linear_model import LogisticRegression\n",
    "from scipy import interp\n",
    "from sklearn.metrics import roc_auc_score"
   ]
  },
  {
   "cell_type": "code",
   "execution_count": 7,
   "metadata": {
    "id": "_ZTvZjNPZwli"
   },
   "outputs": [],
   "source": [
    "import warnings\n",
    "warnings.filterwarnings('ignore')"
   ]
  },
  {
   "cell_type": "code",
   "execution_count": 8,
   "metadata": {},
   "outputs": [],
   "source": [
    "#Set two decimal points for display\n",
    "pd.options.display.float_format = \"{:.2f}\".format"
   ]
  },
  {
   "cell_type": "markdown",
   "metadata": {
    "id": "dNBZgau7QvSC"
   },
   "source": [
    "# Load the Data"
   ]
  },
  {
   "cell_type": "code",
   "execution_count": 9,
   "metadata": {
    "colab": {
     "base_uri": "https://localhost:8080/"
    },
    "id": "ZavmAD7CjGfB",
    "outputId": "9d078ce1-e895-4264-8126-88859813acee"
   },
   "outputs": [
    {
     "data": {
      "text/plain": [
       "(1083, 189)"
      ]
     },
     "execution_count": 9,
     "metadata": {},
     "output_type": "execute_result"
    }
   ],
   "source": [
    "armada= pd.read_csv(\"C:/Users/tsb7592/Box/ARMADA Operations/Data and Analysis/May 2020 Interim Analysis Data for Manuscripts/ARMADA_TBSCORES_MAY2020.csv\")\n",
    "armada.shape"
   ]
  },
  {
   "cell_type": "code",
   "execution_count": 10,
   "metadata": {},
   "outputs": [
    {
     "data": {
      "text/plain": [
       "1    817\n",
       "2    266\n",
       "Name: assmnt, dtype: int64"
      ]
     },
     "execution_count": 10,
     "metadata": {},
     "output_type": "execute_result"
    }
   ],
   "source": [
    "armada.assmnt.value_counts()"
   ]
  },
  {
   "cell_type": "code",
   "execution_count": 11,
   "metadata": {
    "id": "zBkF1XnvQ31K"
   },
   "outputs": [],
   "source": [
    "cohort ={1:\"Gen population healthy aging 85+\", 2:\"Gen population 65-85\", 3:\"Gen population MCI\",\n",
    "4:\"Gen population AD\", 5:\"African American mild cognitive impairment\",\n",
    "6:\"African American normal controls 65-85\", 7:\"Spanish Speaking mild cognitive impairment\",\n",
    "8:\"Spanish Speaking normal controls 65-85\", 9:\"Spanish Speaking AD\"}"
   ]
  },
  {
   "cell_type": "code",
   "execution_count": 12,
   "metadata": {
    "id": "SwKEJm7_RZs6"
   },
   "outputs": [],
   "source": [
    "#Rename the value under column cohort2\n",
    "armada['cohort2'] = armada['cohort2'].map(cohort)"
   ]
  },
  {
   "cell_type": "code",
   "execution_count": 13,
   "metadata": {},
   "outputs": [
    {
     "data": {
      "text/plain": [
       "Gen population 65-85                          266\n",
       "Gen population MCI                            140\n",
       "Gen population healthy aging 85+              138\n",
       "Spanish Speaking normal controls 65-85        130\n",
       "African American normal controls 65-85        128\n",
       "Spanish Speaking mild cognitive impairment    125\n",
       "Gen population AD                              85\n",
       "African American mild cognitive impairment     46\n",
       "Spanish Speaking AD                            25\n",
       "Name: cohort2, dtype: int64"
      ]
     },
     "execution_count": 13,
     "metadata": {},
     "output_type": "execute_result"
    }
   ],
   "source": [
    "armada.cohort2.value_counts()"
   ]
  },
  {
   "cell_type": "code",
   "execution_count": 14,
   "metadata": {},
   "outputs": [],
   "source": [
    "#filter by assmnt = 1\n",
    "armada = armada[armada.assmnt==1]"
   ]
  },
  {
   "cell_type": "code",
   "execution_count": 15,
   "metadata": {},
   "outputs": [],
   "source": [
    "edu={1:\"None\",\n",
    "2 :\"Less than HS\",\n",
    "3 :\"Less than HS\",\n",
    "4 :\"Less than HS\",\n",
    "5 :\"Less than HS\",\n",
    "6 :\"Less than HS\",\n",
    "7 :\"Less than HS\",\n",
    "8 :\"Less than HS\",\n",
    "9 :\"Less than HS\",\n",
    "10 :\"Less than HS\",\n",
    "11 :\"Less than HS\",\n",
    "12 :\"Less than HS\",\n",
    "13 :\"Less than HS\",\n",
    "14 :\"Less than HS\",\n",
    "16 :\"High School\",\n",
    "18 :\"Some College\",\n",
    "20 :\"Some College\",\n",
    "21 :\"College Degree\",\n",
    "22 :\"Graduate Degree\",\n",
    "23 :\"Graduate Degree\",\n",
    "24 :\"Graduate Degree\",\n",
    "25 :\"Some College\",\n",
    "26 :\"Some College\",\n",
    "27 :\"Some College\",\n",
    "28 :\"None\",\n",
    "999:\"Unknown\"}"
   ]
  },
  {
   "cell_type": "markdown",
   "metadata": {
    "id": "aaCteT3SnxeC"
   },
   "source": [
    "# Poster Updates"
   ]
  },
  {
   "cell_type": "code",
   "execution_count": 16,
   "metadata": {},
   "outputs": [],
   "source": [
    "select = [ 'Gen population 65-85', 'Gen population MCI','Gen population AD']"
   ]
  },
  {
   "cell_type": "code",
   "execution_count": 17,
   "metadata": {},
   "outputs": [],
   "source": [
    "genpop = armada[armada.cohort2.isin(select)]"
   ]
  },
  {
   "cell_type": "code",
   "execution_count": 18,
   "metadata": {},
   "outputs": [],
   "source": [
    "genpop['EDUCATION'] = genpop['EDUCATION'].map(edu)"
   ]
  },
  {
   "cell_type": "code",
   "execution_count": 19,
   "metadata": {},
   "outputs": [],
   "source": [
    "co = {'Gen population 65-85':'3_Gen population 65-85', 'Gen population MCI': '2_Gen population MCI','Gen population AD': '1_Gen population AD'}"
   ]
  },
  {
   "cell_type": "code",
   "execution_count": 20,
   "metadata": {},
   "outputs": [],
   "source": [
    "genpop['cohort'] = genpop['cohort2'].map(co)"
   ]
  },
  {
   "cell_type": "code",
   "execution_count": 21,
   "metadata": {},
   "outputs": [],
   "source": [
    "co2 = {'Gen population 65-85':'1_Gen population 65-85', 'Gen population MCI': '2_Gen population MCI','Gen population AD': '3_Gen population AD'}"
   ]
  },
  {
   "cell_type": "code",
   "execution_count": 22,
   "metadata": {},
   "outputs": [],
   "source": [
    "genpop['cohort2'] = genpop['cohort2'].map(co2)"
   ]
  },
  {
   "cell_type": "code",
   "execution_count": 23,
   "metadata": {},
   "outputs": [],
   "source": [
    "select=[ '1_Gen population 65-85','2_Gen population MCI', '3_Gen population AD']"
   ]
  },
  {
   "cell_type": "code",
   "execution_count": 24,
   "metadata": {},
   "outputs": [
    {
     "name": "stdout",
     "output_type": "stream",
     "text": [
      "                        mean  min  max\n",
      "cohort2                               \n",
      "1_Gen population 65-85 72.72   65   84\n",
      "2_Gen population MCI   76.85   64   99\n",
      "3_Gen population AD    75.46   62   92\n",
      "\n"
     ]
    }
   ],
   "source": [
    "print(genpop.groupby('cohort2')['AGE'].agg(['mean', 'min', 'max']))\n",
    "print('')"
   ]
  },
  {
   "cell_type": "code",
   "execution_count": 25,
   "metadata": {},
   "outputs": [
    {
     "name": "stdout",
     "output_type": "stream",
     "text": [
      "1_Gen population 65-85    161\n",
      "2_Gen population MCI      104\n",
      "3_Gen population AD        71\n",
      "Name: cohort2, dtype: int64\n",
      "\n"
     ]
    }
   ],
   "source": [
    "print(genpop.cohort2.value_counts())\n",
    "print('')"
   ]
  },
  {
   "cell_type": "code",
   "execution_count": 26,
   "metadata": {},
   "outputs": [
    {
     "data": {
      "text/plain": [
       "cohort2                 gender_rc\n",
       "1_Gen population 65-85  2           0.67\n",
       "                        1           0.33\n",
       "2_Gen population MCI    1           0.59\n",
       "                        2           0.41\n",
       "3_Gen population AD     1           0.58\n",
       "                        2           0.42\n",
       "Name: gender_rc, dtype: float64"
      ]
     },
     "execution_count": 26,
     "metadata": {},
     "output_type": "execute_result"
    }
   ],
   "source": [
    "genpop.groupby('cohort2')['gender_rc'].value_counts(normalize=True)"
   ]
  },
  {
   "cell_type": "code",
   "execution_count": 27,
   "metadata": {
    "scrolled": true
   },
   "outputs": [
    {
     "name": "stdout",
     "output_type": "stream",
     "text": [
      "gender_rc                1    2\n",
      "cohort2                        \n",
      "1_Gen population 65-85  53  108\n",
      "2_Gen population MCI    61   43\n",
      "3_Gen population AD     41   30\n",
      "gender_rc                 1    2\n",
      "cohort2                         \n",
      "1_Gen population 65-85 0.33 0.67\n",
      "2_Gen population MCI   0.59 0.41\n",
      "3_Gen population AD    0.58 0.42\n",
      "\n",
      "ethnicity_rc              1  2\n",
      "cohort2                       \n",
      "1_Gen population 65-85  157  4\n",
      "2_Gen population MCI    100  4\n",
      "3_Gen population AD      68  3\n",
      "ethnicity_rc              1    2\n",
      "cohort2                         \n",
      "1_Gen population 65-85 0.98 0.02\n",
      "2_Gen population MCI   0.96 0.04\n",
      "3_Gen population AD    0.96 0.04\n",
      "\n",
      "racetb_w                 0    1\n",
      "cohort2                        \n",
      "1_Gen population 65-85  28  133\n",
      "2_Gen population MCI    16   88\n",
      "3_Gen population AD      7   64\n",
      "racetb_w                  0    1\n",
      "cohort2                         \n",
      "1_Gen population 65-85 0.17 0.83\n",
      "2_Gen population MCI   0.15 0.85\n",
      "3_Gen population AD    0.10 0.90\n",
      "\n",
      "EDUCATION                 cohort2  College Degree  Graduate Degree  \\\n",
      "0          1_Gen population 65-85           45.00            90.00   \n",
      "1            2_Gen population MCI           29.00            43.00   \n",
      "2             3_Gen population AD           26.00            22.00   \n",
      "\n",
      "EDUCATION  High School  Less than HS  None  Some College  \n",
      "0                 5.00          1.00  5.00         15.00  \n",
      "1                 5.00          1.00  5.00         21.00  \n",
      "2                 8.00           NaN  1.00         14.00  \n",
      "EDUCATION                 cohort2  College Degree  Graduate Degree  \\\n",
      "0          1_Gen population 65-85            0.28             0.56   \n",
      "1            2_Gen population MCI            0.28             0.41   \n",
      "2             3_Gen population AD            0.37             0.31   \n",
      "\n",
      "EDUCATION  High School  Less than HS  None  Some College  \n",
      "0                 0.03          0.01  0.03          0.09  \n",
      "1                 0.05          0.01  0.05          0.20  \n",
      "2                 0.11           NaN  0.01          0.20  \n",
      "\n",
      "HANDEDNESS                1   2\n",
      "cohort2                        \n",
      "1_Gen population 65-85  146  15\n",
      "2_Gen population MCI     91  13\n",
      "3_Gen population AD      63   8\n",
      "HANDEDNESS                1    2\n",
      "cohort2                         \n",
      "1_Gen population 65-85 0.91 0.09\n",
      "2_Gen population MCI   0.88 0.12\n",
      "3_Gen population AD    0.89 0.11\n",
      "\n"
     ]
    }
   ],
   "source": [
    "#female =2\n",
    "print(genpop.groupby('cohort2')['gender_rc'].value_counts().unstack())\n",
    "print(genpop.groupby('cohort2')['gender_rc'].value_counts(normalize=True).unstack())\n",
    "print('')\n",
    "#2=hispanic\n",
    "print(genpop.groupby('cohort2')['ethnicity_rc'].value_counts().unstack())\n",
    "print(genpop.groupby('cohort2')['ethnicity_rc'].value_counts(normalize=True).unstack())\n",
    "print('')\n",
    "print(genpop.groupby('cohort2')['racetb_w'].value_counts().unstack())\n",
    "print(genpop.groupby('cohort2')['racetb_w'].value_counts(normalize=True).unstack())\n",
    "print('')\n",
    "print(genpop.groupby('cohort2')['EDUCATION'].value_counts().unstack().reset_index())\n",
    "print(genpop.groupby('cohort2')['EDUCATION'].value_counts(normalize=True).unstack().reset_index())\n",
    "print('')\n",
    "#1=Right\n",
    "print(genpop.groupby('cohort2')['HANDEDNESS'].value_counts().unstack())\n",
    "print(genpop.groupby('cohort2')['HANDEDNESS'].value_counts(normalize=True).unstack())\n",
    "print('')"
   ]
  },
  {
   "cell_type": "code",
   "execution_count": 28,
   "metadata": {},
   "outputs": [],
   "source": [
    "cog = ['CCC_FCTScore','CFC_FCTScore', 'CTC_FCTScore', 'DCCS_FCTScore', 'Flanker_FCTScore', 'LSWM_FCTScore', 'ORR_FCTScore', 'PCPS_FCTScore', 'PSM_FCTScore', 'TPVT_FCTScore']"
   ]
  },
  {
   "cell_type": "code",
   "execution_count": 29,
   "metadata": {},
   "outputs": [],
   "source": [
    "motor = ['Balance_FCTScore', 'Grip_fctd','Grip_fctnd','Peg9h_fctd','Peg9h_fctnd','Walk2Min_FCTScore', 'Walk4M_CScore']"
   ]
  },
  {
   "cell_type": "code",
   "execution_count": 30,
   "metadata": {},
   "outputs": [],
   "source": [
    "sen =['Odor_FCTScore','VisualAc_FCTScore','WIN_Raw_L','WIN_Raw_R','PainInt_TScore']"
   ]
  },
  {
   "cell_type": "code",
   "execution_count": 31,
   "metadata": {},
   "outputs": [],
   "source": [
    "emotion =['AngerAff_TScore','AngerHost_TScore', 'AngerPhysAg_TScore','EmoSup_TScore','FearAff_TScore','FearSom_TScore','Friend_TScore','GenLS_TScore','InstSup_TScore','Lone_TScore','MeanP_TScore','PHost_TScore','PosAff_TScore','PReject_TScore','PStress_TScore','Sad_TScore','SelfEff_TScore']"
   ]
  },
  {
   "cell_type": "code",
   "execution_count": 32,
   "metadata": {},
   "outputs": [
    {
     "data": {
      "text/html": [
       "<div>\n",
       "<style scoped>\n",
       "    .dataframe tbody tr th:only-of-type {\n",
       "        vertical-align: middle;\n",
       "    }\n",
       "\n",
       "    .dataframe tbody tr th {\n",
       "        vertical-align: top;\n",
       "    }\n",
       "\n",
       "    .dataframe thead th {\n",
       "        text-align: right;\n",
       "    }\n",
       "</style>\n",
       "<table border=\"1\" class=\"dataframe\">\n",
       "  <thead>\n",
       "    <tr style=\"text-align: right;\">\n",
       "      <th>cohort2</th>\n",
       "      <th>1_Gen population 65-85</th>\n",
       "      <th>2_Gen population MCI</th>\n",
       "      <th>3_Gen population AD</th>\n",
       "    </tr>\n",
       "    <tr>\n",
       "      <th>level_0</th>\n",
       "      <th></th>\n",
       "      <th></th>\n",
       "      <th></th>\n",
       "    </tr>\n",
       "  </thead>\n",
       "  <tbody>\n",
       "    <tr>\n",
       "      <th>CCC_FCTScore</th>\n",
       "      <td>159</td>\n",
       "      <td>87</td>\n",
       "      <td>63</td>\n",
       "    </tr>\n",
       "    <tr>\n",
       "      <th>CFC_FCTScore</th>\n",
       "      <td>159</td>\n",
       "      <td>79</td>\n",
       "      <td>41</td>\n",
       "    </tr>\n",
       "    <tr>\n",
       "      <th>CTC_FCTScore</th>\n",
       "      <td>159</td>\n",
       "      <td>79</td>\n",
       "      <td>41</td>\n",
       "    </tr>\n",
       "    <tr>\n",
       "      <th>DCCS_FCTScore</th>\n",
       "      <td>159</td>\n",
       "      <td>87</td>\n",
       "      <td>63</td>\n",
       "    </tr>\n",
       "    <tr>\n",
       "      <th>Flanker_FCTScore</th>\n",
       "      <td>159</td>\n",
       "      <td>87</td>\n",
       "      <td>62</td>\n",
       "    </tr>\n",
       "    <tr>\n",
       "      <th>LSWM_FCTScore</th>\n",
       "      <td>159</td>\n",
       "      <td>86</td>\n",
       "      <td>51</td>\n",
       "    </tr>\n",
       "    <tr>\n",
       "      <th>ORR_FCTScore</th>\n",
       "      <td>159</td>\n",
       "      <td>87</td>\n",
       "      <td>63</td>\n",
       "    </tr>\n",
       "    <tr>\n",
       "      <th>PCPS_FCTScore</th>\n",
       "      <td>159</td>\n",
       "      <td>87</td>\n",
       "      <td>64</td>\n",
       "    </tr>\n",
       "    <tr>\n",
       "      <th>PSM_FCTScore</th>\n",
       "      <td>159</td>\n",
       "      <td>79</td>\n",
       "      <td>46</td>\n",
       "    </tr>\n",
       "    <tr>\n",
       "      <th>TPVT_FCTScore</th>\n",
       "      <td>159</td>\n",
       "      <td>87</td>\n",
       "      <td>64</td>\n",
       "    </tr>\n",
       "  </tbody>\n",
       "</table>\n",
       "</div>"
      ],
      "text/plain": [
       "cohort2           1_Gen population 65-85  2_Gen population MCI  \\\n",
       "level_0                                                          \n",
       "CCC_FCTScore                         159                    87   \n",
       "CFC_FCTScore                         159                    79   \n",
       "CTC_FCTScore                         159                    79   \n",
       "DCCS_FCTScore                        159                    87   \n",
       "Flanker_FCTScore                     159                    87   \n",
       "LSWM_FCTScore                        159                    86   \n",
       "ORR_FCTScore                         159                    87   \n",
       "PCPS_FCTScore                        159                    87   \n",
       "PSM_FCTScore                         159                    79   \n",
       "TPVT_FCTScore                        159                    87   \n",
       "\n",
       "cohort2           3_Gen population AD  \n",
       "level_0                                \n",
       "CCC_FCTScore                       63  \n",
       "CFC_FCTScore                       41  \n",
       "CTC_FCTScore                       41  \n",
       "DCCS_FCTScore                      63  \n",
       "Flanker_FCTScore                   62  \n",
       "LSWM_FCTScore                      51  \n",
       "ORR_FCTScore                       63  \n",
       "PCPS_FCTScore                      64  \n",
       "PSM_FCTScore                       46  \n",
       "TPVT_FCTScore                      64  "
      ]
     },
     "execution_count": 32,
     "metadata": {},
     "output_type": "execute_result"
    }
   ],
   "source": [
    "genpop.groupby('cohort2')[cog].count().unstack().reset_index().pivot(index='level_0', columns='cohort2', values=0)"
   ]
  },
  {
   "cell_type": "code",
   "execution_count": 33,
   "metadata": {},
   "outputs": [
    {
     "name": "stdout",
     "output_type": "stream",
     "text": [
      "cohort2           1_Gen population 65-85  2_Gen population MCI  \\\n",
      "level_0                                                          \n",
      "CCC_FCTScore                       58.20                 52.69   \n",
      "CFC_FCTScore                       51.22                 41.49   \n",
      "CTC_FCTScore                       55.54                 46.78   \n",
      "DCCS_FCTScore                      55.16                 49.53   \n",
      "Flanker_FCTScore                   45.56                 41.98   \n",
      "LSWM_FCTScore                      53.65                 44.53   \n",
      "ORR_FCTScore                       55.38                 51.93   \n",
      "PCPS_FCTScore                      48.13                 42.24   \n",
      "PSM_FCTScore                       52.06                 42.43   \n",
      "TPVT_FCTScore                      59.52                 53.06   \n",
      "\n",
      "cohort2           3_Gen population AD  \n",
      "level_0                                \n",
      "CCC_FCTScore                    49.73  \n",
      "CFC_FCTScore                    30.39  \n",
      "CTC_FCTScore                    38.46  \n",
      "DCCS_FCTScore                   42.00  \n",
      "Flanker_FCTScore                33.21  \n",
      "LSWM_FCTScore                   35.45  \n",
      "ORR_FCTScore                    49.10  \n",
      "PCPS_FCTScore                   30.80  \n",
      "PSM_FCTScore                    36.04  \n",
      "TPVT_FCTScore                   50.36  \n"
     ]
    }
   ],
   "source": [
    "print(genpop.groupby('cohort2')[cog].mean().unstack().reset_index().pivot(index='level_0', columns='cohort2', values=0))"
   ]
  },
  {
   "cell_type": "code",
   "execution_count": 34,
   "metadata": {},
   "outputs": [
    {
     "name": "stdout",
     "output_type": "stream",
     "text": [
      "cohort2           1_Gen population 65-85  2_Gen population MCI  \\\n",
      "level_0                                                          \n",
      "CCC_FCTScore                        6.64                  7.31   \n",
      "CFC_FCTScore                        8.87                  9.55   \n",
      "CTC_FCTScore                        6.87                  7.72   \n",
      "DCCS_FCTScore                      10.16                  9.36   \n",
      "Flanker_FCTScore                    6.63                  6.93   \n",
      "LSWM_FCTScore                       8.17                  9.65   \n",
      "ORR_FCTScore                        6.53                  7.61   \n",
      "PCPS_FCTScore                      12.55                 12.06   \n",
      "PSM_FCTScore                       10.74                  8.63   \n",
      "TPVT_FCTScore                       7.10                  7.84   \n",
      "\n",
      "cohort2           3_Gen population AD  \n",
      "level_0                                \n",
      "CCC_FCTScore                     9.78  \n",
      "CFC_FCTScore                    10.95  \n",
      "CTC_FCTScore                    10.15  \n",
      "DCCS_FCTScore                   11.87  \n",
      "Flanker_FCTScore                10.39  \n",
      "LSWM_FCTScore                    9.23  \n",
      "ORR_FCTScore                     9.16  \n",
      "PCPS_FCTScore                   13.59  \n",
      "PSM_FCTScore                     6.08  \n",
      "TPVT_FCTScore                   10.78  \n",
      "\n"
     ]
    }
   ],
   "source": [
    "print(genpop.groupby('cohort2')[cog].std().unstack().reset_index().pivot(index='level_0', columns='cohort2', values=0))\n",
    "print('')                                                                  "
   ]
  },
  {
   "cell_type": "code",
   "execution_count": 35,
   "metadata": {},
   "outputs": [
    {
     "name": "stdout",
     "output_type": "stream",
     "text": [
      "cohort2            1_Gen population 65-85  2_Gen population MCI  \\\n",
      "level_0                                                           \n",
      "Balance_FCTScore                    49.54                 48.51   \n",
      "Grip_fctd                           52.48                 49.92   \n",
      "Grip_fctnd                          52.19                 49.79   \n",
      "Peg9h_fctd                          48.57                 46.58   \n",
      "Peg9h_fctnd                         49.40                 46.70   \n",
      "Walk2Min_FCTScore                   49.70                 48.05   \n",
      "Walk4M_CScore                        1.14                  1.10   \n",
      "\n",
      "cohort2            3_Gen population AD  \n",
      "level_0                                 \n",
      "Balance_FCTScore                 47.28  \n",
      "Grip_fctd                        48.48  \n",
      "Grip_fctnd                       48.27  \n",
      "Peg9h_fctd                       41.49  \n",
      "Peg9h_fctnd                      41.48  \n",
      "Walk2Min_FCTScore                40.48  \n",
      "Walk4M_CScore                     1.01  \n"
     ]
    }
   ],
   "source": [
    "print(genpop.groupby('cohort2')[motor].mean().unstack().reset_index().pivot(index='level_0', columns='cohort2', values=0))"
   ]
  },
  {
   "cell_type": "code",
   "execution_count": 36,
   "metadata": {},
   "outputs": [
    {
     "name": "stdout",
     "output_type": "stream",
     "text": [
      "cohort2            1_Gen population 65-85  2_Gen population MCI  \\\n",
      "level_0                                                           \n",
      "Balance_FCTScore                     9.58                 11.12   \n",
      "Grip_fctd                            9.22                 10.12   \n",
      "Grip_fctnd                           8.57                  9.97   \n",
      "Peg9h_fctd                           9.09                  9.64   \n",
      "Peg9h_fctnd                          9.57                  8.61   \n",
      "Walk2Min_FCTScore                    8.77                  8.09   \n",
      "Walk4M_CScore                        0.25                  0.25   \n",
      "\n",
      "cohort2            3_Gen population AD  \n",
      "level_0                                 \n",
      "Balance_FCTScore                  9.52  \n",
      "Grip_fctd                        10.07  \n",
      "Grip_fctnd                        9.87  \n",
      "Peg9h_fctd                       11.74  \n",
      "Peg9h_fctnd                       9.38  \n",
      "Walk2Min_FCTScore                10.32  \n",
      "Walk4M_CScore                     0.25  \n",
      "\n"
     ]
    }
   ],
   "source": [
    "print(genpop.groupby('cohort2')[motor].std().unstack().reset_index().pivot(index='level_0', columns='cohort2', values=0))\n",
    "print(\"\")"
   ]
  },
  {
   "cell_type": "code",
   "execution_count": 37,
   "metadata": {},
   "outputs": [
    {
     "name": "stdout",
     "output_type": "stream",
     "text": [
      "cohort2            1_Gen population 65-85  2_Gen population MCI  \\\n",
      "level_0                                                           \n",
      "Odor_FCTScore                       50.83                 43.40   \n",
      "PainInt_TScore                      49.97                 50.56   \n",
      "VisualAc_FCTScore                   52.56                 53.15   \n",
      "WIN_Raw_L                           17.36                 12.95   \n",
      "WIN_Raw_R                           18.56                 14.76   \n",
      "\n",
      "cohort2            3_Gen population AD  \n",
      "level_0                                 \n",
      "Odor_FCTScore                    36.77  \n",
      "PainInt_TScore                   49.04  \n",
      "VisualAc_FCTScore                54.43  \n",
      "WIN_Raw_L                        13.64  \n",
      "WIN_Raw_R                        14.67  \n"
     ]
    }
   ],
   "source": [
    "print(genpop.groupby('cohort2')[sen].mean().unstack().reset_index().pivot(index='level_0', columns='cohort2', values=0))"
   ]
  },
  {
   "cell_type": "code",
   "execution_count": 38,
   "metadata": {},
   "outputs": [
    {
     "name": "stdout",
     "output_type": "stream",
     "text": [
      "cohort2            1_Gen population 65-85  2_Gen population MCI  \\\n",
      "level_0                                                           \n",
      "Odor_FCTScore                       10.56                 11.05   \n",
      "PainInt_TScore                       8.18                  8.72   \n",
      "VisualAc_FCTScore                    8.98                 10.04   \n",
      "WIN_Raw_L                            6.13                  7.72   \n",
      "WIN_Raw_R                            6.02                  7.53   \n",
      "\n",
      "cohort2            3_Gen population AD  \n",
      "level_0                                 \n",
      "Odor_FCTScore                     8.67  \n",
      "PainInt_TScore                    6.88  \n",
      "VisualAc_FCTScore                10.20  \n",
      "WIN_Raw_L                         7.95  \n",
      "WIN_Raw_R                         8.31  \n",
      "\n"
     ]
    }
   ],
   "source": [
    "print(genpop.groupby('cohort2')[sen].std().unstack().reset_index().pivot(index='level_0', columns='cohort2', values=0))\n",
    "print('')                                                          "
   ]
  },
  {
   "cell_type": "code",
   "execution_count": 39,
   "metadata": {
    "scrolled": true
   },
   "outputs": [
    {
     "name": "stdout",
     "output_type": "stream",
     "text": [
      "cohort2             1_Gen population 65-85  2_Gen population MCI  \\\n",
      "level_0                                                            \n",
      "AngerAff_TScore                      47.16                 46.96   \n",
      "AngerHost_TScore                     42.69                 44.58   \n",
      "AngerPhysAg_TScore                   44.61                 45.17   \n",
      "EmoSup_TScore                        47.80                 46.84   \n",
      "FearAff_TScore                       49.26                 50.49   \n",
      "FearSom_TScore                       47.48                 47.37   \n",
      "Friend_TScore                        51.02                 50.46   \n",
      "GenLS_TScore                         56.35                 53.76   \n",
      "InstSup_TScore                       49.80                 51.40   \n",
      "Lone_TScore                          49.84                 49.61   \n",
      "MeanP_TScore                         50.26                 49.04   \n",
      "PHost_TScore                         48.89                 49.25   \n",
      "PReject_TScore                       47.88                 48.51   \n",
      "PStress_TScore                       45.19                 46.28   \n",
      "PosAff_TScore                        48.69                 48.12   \n",
      "Sad_TScore                           47.27                 48.69   \n",
      "SelfEff_TScore                       52.02                 50.92   \n",
      "\n",
      "cohort2             3_Gen population AD  \n",
      "level_0                                  \n",
      "AngerAff_TScore                   48.45  \n",
      "AngerHost_TScore                  43.04  \n",
      "AngerPhysAg_TScore                47.01  \n",
      "EmoSup_TScore                     46.92  \n",
      "FearAff_TScore                    50.96  \n",
      "FearSom_TScore                    47.57  \n",
      "Friend_TScore                     49.19  \n",
      "GenLS_TScore                      54.23  \n",
      "InstSup_TScore                    53.20  \n",
      "Lone_TScore                       51.68  \n",
      "MeanP_TScore                      48.45  \n",
      "PHost_TScore                      48.55  \n",
      "PReject_TScore                    48.26  \n",
      "PStress_TScore                    47.33  \n",
      "PosAff_TScore                     47.63  \n",
      "Sad_TScore                        49.99  \n",
      "SelfEff_TScore                    48.41  \n"
     ]
    }
   ],
   "source": [
    "print(genpop.groupby('cohort2')[emotion].mean().unstack().reset_index().pivot(index='level_0', columns='cohort2', values=0))"
   ]
  },
  {
   "cell_type": "code",
   "execution_count": 40,
   "metadata": {},
   "outputs": [
    {
     "name": "stdout",
     "output_type": "stream",
     "text": [
      "cohort2             1_Gen population 65-85  2_Gen population MCI  \\\n",
      "level_0                                                            \n",
      "AngerAff_TScore                       8.30                  9.58   \n",
      "AngerHost_TScore                      7.49                  8.59   \n",
      "AngerPhysAg_TScore                    5.16                  6.67   \n",
      "EmoSup_TScore                         8.51                  8.21   \n",
      "FearAff_TScore                        8.76                  9.72   \n",
      "FearSom_TScore                        7.91                  9.29   \n",
      "Friend_TScore                         9.69                  8.28   \n",
      "GenLS_TScore                          8.86                  9.30   \n",
      "InstSup_TScore                       10.37                  9.26   \n",
      "Lone_TScore                           9.18                  9.35   \n",
      "MeanP_TScore                          8.76                  8.95   \n",
      "PHost_TScore                          7.79                  8.25   \n",
      "PReject_TScore                        8.59                  9.19   \n",
      "PStress_TScore                        8.10                  9.59   \n",
      "PosAff_TScore                         7.44                  7.88   \n",
      "Sad_TScore                           10.14                  9.30   \n",
      "SelfEff_TScore                        8.34                  8.59   \n",
      "\n",
      "cohort2             3_Gen population AD  \n",
      "level_0                                  \n",
      "AngerAff_TScore                   10.67  \n",
      "AngerHost_TScore                   8.44  \n",
      "AngerPhysAg_TScore                 8.73  \n",
      "EmoSup_TScore                      7.70  \n",
      "FearAff_TScore                    10.21  \n",
      "FearSom_TScore                    10.48  \n",
      "Friend_TScore                      8.18  \n",
      "GenLS_TScore                      10.34  \n",
      "InstSup_TScore                     7.55  \n",
      "Lone_TScore                       10.12  \n",
      "MeanP_TScore                       8.48  \n",
      "PHost_TScore                       8.61  \n",
      "PReject_TScore                     9.82  \n",
      "PStress_TScore                    10.44  \n",
      "PosAff_TScore                      7.55  \n",
      "Sad_TScore                        10.50  \n",
      "SelfEff_TScore                     9.45  \n",
      "\n"
     ]
    }
   ],
   "source": [
    "print(genpop.groupby('cohort2')[emotion].std().unstack().reset_index().pivot(index='level_0', columns='cohort2', values=0))\n",
    "print('')"
   ]
  },
  {
   "cell_type": "code",
   "execution_count": 41,
   "metadata": {},
   "outputs": [
    {
     "ename": "NameError",
     "evalue": "name 'sys' is not defined",
     "output_type": "error",
     "traceback": [
      "\u001b[1;31m---------------------------------------------------------------------------\u001b[0m",
      "\u001b[1;31mNameError\u001b[0m                                 Traceback (most recent call last)",
      "\u001b[1;32m<ipython-input-41-7c58696d9253>\u001b[0m in \u001b[0;36m<module>\u001b[1;34m\u001b[0m\n\u001b[1;32m----> 1\u001b[1;33m \u001b[0msys\u001b[0m\u001b[1;33m.\u001b[0m\u001b[0mstdout\u001b[0m\u001b[1;33m.\u001b[0m\u001b[0mclose\u001b[0m\u001b[1;33m(\u001b[0m\u001b[1;33m)\u001b[0m\u001b[1;33m\u001b[0m\u001b[1;33m\u001b[0m\u001b[0m\n\u001b[0m\u001b[0;32m      2\u001b[0m \u001b[0msys\u001b[0m\u001b[1;33m.\u001b[0m\u001b[0mstdout\u001b[0m\u001b[1;33m=\u001b[0m\u001b[0mstdoutOrigin\u001b[0m\u001b[1;33m\u001b[0m\u001b[1;33m\u001b[0m\u001b[0m\n",
      "\u001b[1;31mNameError\u001b[0m: name 'sys' is not defined"
     ]
    }
   ],
   "source": [
    "sys.stdout.close()\n",
    "sys.stdout=stdoutOrigin"
   ]
  },
  {
   "cell_type": "code",
   "execution_count": 42,
   "metadata": {},
   "outputs": [],
   "source": [
    "# calculate the Cohen's d between two samples\n",
    "from numpy.random import randn\n",
    "from numpy.random import seed\n",
    "from numpy import mean\n",
    "from numpy import var\n",
    "from math import sqrt\n",
    " \n",
    "# function to calculate Cohen's d for independent samples\n",
    "def cohend(d1, d2):\n",
    "    # calculate the size of samples\n",
    "    n1, n2 = len(d1), len(d2)\n",
    "    # calculate the variance of the samples\n",
    "    s1, s2 = var(d1, ddof=1), var(d2, ddof=1)\n",
    "    # calculate the pooled standard deviation\n",
    "    s = sqrt(((n1 - 1) * s1 + (n2 - 1) * s2) / (n1 + n2 - 2))\n",
    "    # calculate the means of the samples\n",
    "    u1, u2 = mean(d1), mean(d2)\n",
    "    # calculate the effect size\n",
    "    return (u1 - u2) / s\n"
   ]
  },
  {
   "cell_type": "code",
   "execution_count": 43,
   "metadata": {},
   "outputs": [],
   "source": [
    "def tukey_test(df, var):\n",
    "    df =df[['cohort', var]].dropna()\n",
    "    tukey = pairwise_tukeyhsd(endog=df[var],\n",
    "                          groups=df['cohort'],\n",
    "                          alpha=0.05)\n",
    "\n",
    "    return(tukey)\n",
    "    "
   ]
  },
  {
   "cell_type": "code",
   "execution_count": 44,
   "metadata": {},
   "outputs": [],
   "source": [
    "def get_list(li, element):\n",
    "    list_of_numbers = []\n",
    "    list_of_numbers.append(element)\n",
    "    for tup in li:\n",
    "        try:\n",
    "            list_of_numbers.append(round(float(tup),2))\n",
    "        except ValueError:\n",
    "            pass\n",
    "        \n",
    "    del list_of_numbers[2]\n",
    "    \n",
    "    CI = '['+str(list_of_numbers[2]) + ', ' + str(list_of_numbers[3])+']'\n",
    "    list_of_numbers = list_of_numbers[:2]\n",
    "    list_of_numbers.append(CI)\n",
    "    list_of_numbers.append(li[-1])\n",
    "    \n",
    "    \n",
    "    \n",
    "    return list_of_numbers"
   ]
  },
  {
   "cell_type": "code",
   "execution_count": 51,
   "metadata": {},
   "outputs": [],
   "source": [
    "from scipy.stats import f_oneway\n",
    "from statsmodels.stats.multicomp import pairwise_tukeyhsd\n",
    "\n",
    "def anova_one_var(data, var):\n",
    "    #Test age\n",
    "    li =[]\n",
    "    for cohort in select:\n",
    "        \n",
    "        li.append(data[data.cohort2== cohort][var].dropna())\n",
    "\n",
    "    F, p =f_oneway(li[0], li[1],li[2])\n",
    "    N = len(li[0]+li[1]+li[2])\n",
    "    print(var, ': degree of freedom', N-3)\n",
    "    print('F statistic = {:5.2f} and probability p = {:5.2f}'.format(F, p))\n",
    "    \n",
    "    # calculate cohen's d\n",
    "    d1 = round(cohend(li[0], li[1]),2)\n",
    "    #print('Cohens d: %.2f (' % d1, select[0],'vs ',select[1], \")\")\n",
    "    d2 = round(cohend(li[0], li[2]),2)\n",
    "    #print('Cohens d: %.2f (' % d2,select[0],'vs ',select[2],')')\n",
    "    d3 = round(cohend(li[1], li[2]),2)\n",
    "    #print('Cohens d: %.2f (' % d3, select[1],'vs ',select[2],\")\")\n",
    "    coh = [[d3, d2, d1]]\n",
    "    \n",
    "    rdf = pd.DataFrame(coh, columns =['AD vs. MCI','AD vs. 65-85','MCI vs 65-85'], dtype = float)\n",
    "    \n",
    "    \n",
    "    if p <= 0.05:\n",
    "        rv = tukey_test(data, var)\n",
    "        rv = str(rv) \n",
    "        \n",
    "        l1 = rv.split('\\n')[4].split(' ')\n",
    "        l2 = rv.split('\\n')[5].split(' ')\n",
    "        l3 = rv.split('\\n')[6].split(' ')\n",
    "        \n",
    "        a1 =get_list(l1, d3)\n",
    "        a2 =get_list(l2, d2)\n",
    "        a3 =get_list(l3, d1)\n",
    "        print(\"\")\n",
    "        \n",
    "        rdf = pd.DataFrame(list(zip(a1,a2, a3)), index =[ \"Cohen's d\", 'T-value diff', '95% CI', 'Tukey p<0.05'],\n",
    "                                              columns =['AD vs. MCI','AD vs. 65-85','MCI vs 65-85'])\n",
    "        \n",
    "   \n",
    "    display(rdf)\n",
    "    #return rdf\n",
    "    print('')"
   ]
  },
  {
   "cell_type": "code",
   "execution_count": 46,
   "metadata": {},
   "outputs": [],
   "source": [
    "\n",
    "from reportlab.lib import colors\n",
    "from reportlab.lib.pagesizes import letter\n",
    "from reportlab.lib.pagesizes import letter, inch\n",
    "from reportlab.platypus import SimpleDocTemplate, Table, TableStyle\n",
    "#doc = SimpleDocTemplate(\"C:/Users/tsb7592/Downloads/simple_table.pdf\", pagesize=letter,\n",
    "                        rightMargin=72,leftMargin=72,\n",
    "                        topMargin=72,bottomMargin=18)\n",
    "\n"
   ]
  },
  {
   "cell_type": "code",
   "execution_count": 52,
   "metadata": {},
   "outputs": [
    {
     "name": "stdout",
     "output_type": "stream",
     "text": [
      "CCC_FCTScore : degree of freedom 306\n",
      "F statistic = 33.59 and probability p =  0.00\n",
      "\n"
     ]
    },
    {
     "data": {
      "text/html": [
       "<div>\n",
       "<style scoped>\n",
       "    .dataframe tbody tr th:only-of-type {\n",
       "        vertical-align: middle;\n",
       "    }\n",
       "\n",
       "    .dataframe tbody tr th {\n",
       "        vertical-align: top;\n",
       "    }\n",
       "\n",
       "    .dataframe thead th {\n",
       "        text-align: right;\n",
       "    }\n",
       "</style>\n",
       "<table border=\"1\" class=\"dataframe\">\n",
       "  <thead>\n",
       "    <tr style=\"text-align: right;\">\n",
       "      <th></th>\n",
       "      <th>AD vs. MCI</th>\n",
       "      <th>AD vs. 65-85</th>\n",
       "      <th>MCI vs 65-85</th>\n",
       "    </tr>\n",
       "  </thead>\n",
       "  <tbody>\n",
       "    <tr>\n",
       "      <th>Cohen's d</th>\n",
       "      <td>0.35</td>\n",
       "      <td>1.11</td>\n",
       "      <td>0.80</td>\n",
       "    </tr>\n",
       "    <tr>\n",
       "      <th>T-value diff</th>\n",
       "      <td>2.96</td>\n",
       "      <td>8.47</td>\n",
       "      <td>5.51</td>\n",
       "    </tr>\n",
       "    <tr>\n",
       "      <th>95% CI</th>\n",
       "      <td>[0.01, 5.91]</td>\n",
       "      <td>[5.82, 11.12]</td>\n",
       "      <td>[3.14, 7.89]</td>\n",
       "    </tr>\n",
       "    <tr>\n",
       "      <th>Tukey p&lt;0.05</th>\n",
       "      <td>True</td>\n",
       "      <td>True</td>\n",
       "      <td>True</td>\n",
       "    </tr>\n",
       "  </tbody>\n",
       "</table>\n",
       "</div>"
      ],
      "text/plain": [
       "                AD vs. MCI   AD vs. 65-85  MCI vs 65-85\n",
       "Cohen's d             0.35           1.11          0.80\n",
       "T-value diff          2.96           8.47          5.51\n",
       "95% CI        [0.01, 5.91]  [5.82, 11.12]  [3.14, 7.89]\n",
       "Tukey p<0.05          True           True          True"
      ]
     },
     "metadata": {},
     "output_type": "display_data"
    },
    {
     "name": "stdout",
     "output_type": "stream",
     "text": [
      "\n",
      "CFC_FCTScore : degree of freedom 276\n",
      "F statistic = 89.72 and probability p =  0.00\n",
      "\n"
     ]
    },
    {
     "data": {
      "text/html": [
       "<div>\n",
       "<style scoped>\n",
       "    .dataframe tbody tr th:only-of-type {\n",
       "        vertical-align: middle;\n",
       "    }\n",
       "\n",
       "    .dataframe tbody tr th {\n",
       "        vertical-align: top;\n",
       "    }\n",
       "\n",
       "    .dataframe thead th {\n",
       "        text-align: right;\n",
       "    }\n",
       "</style>\n",
       "<table border=\"1\" class=\"dataframe\">\n",
       "  <thead>\n",
       "    <tr style=\"text-align: right;\">\n",
       "      <th></th>\n",
       "      <th>AD vs. MCI</th>\n",
       "      <th>AD vs. 65-85</th>\n",
       "      <th>MCI vs 65-85</th>\n",
       "    </tr>\n",
       "  </thead>\n",
       "  <tbody>\n",
       "    <tr>\n",
       "      <th>Cohen's d</th>\n",
       "      <td>1.11</td>\n",
       "      <td>2.23</td>\n",
       "      <td>1.07</td>\n",
       "    </tr>\n",
       "    <tr>\n",
       "      <th>T-value diff</th>\n",
       "      <td>11.10</td>\n",
       "      <td>20.83</td>\n",
       "      <td>9.73</td>\n",
       "    </tr>\n",
       "    <tr>\n",
       "      <th>95% CI</th>\n",
       "      <td>[6.84, 15.36]</td>\n",
       "      <td>[16.95, 24.71]</td>\n",
       "      <td>[6.68, 12.77]</td>\n",
       "    </tr>\n",
       "    <tr>\n",
       "      <th>Tukey p&lt;0.05</th>\n",
       "      <td>True</td>\n",
       "      <td>True</td>\n",
       "      <td>True</td>\n",
       "    </tr>\n",
       "  </tbody>\n",
       "</table>\n",
       "</div>"
      ],
      "text/plain": [
       "                 AD vs. MCI    AD vs. 65-85   MCI vs 65-85\n",
       "Cohen's d              1.11            2.23           1.07\n",
       "T-value diff          11.10           20.83           9.73\n",
       "95% CI        [6.84, 15.36]  [16.95, 24.71]  [6.68, 12.77]\n",
       "Tukey p<0.05           True            True           True"
      ]
     },
     "metadata": {},
     "output_type": "display_data"
    },
    {
     "name": "stdout",
     "output_type": "stream",
     "text": [
      "\n",
      "CTC_FCTScore : degree of freedom 276\n",
      "F statistic = 94.11 and probability p =  0.00\n",
      "\n"
     ]
    },
    {
     "data": {
      "text/html": [
       "<div>\n",
       "<style scoped>\n",
       "    .dataframe tbody tr th:only-of-type {\n",
       "        vertical-align: middle;\n",
       "    }\n",
       "\n",
       "    .dataframe tbody tr th {\n",
       "        vertical-align: top;\n",
       "    }\n",
       "\n",
       "    .dataframe thead th {\n",
       "        text-align: right;\n",
       "    }\n",
       "</style>\n",
       "<table border=\"1\" class=\"dataframe\">\n",
       "  <thead>\n",
       "    <tr style=\"text-align: right;\">\n",
       "      <th></th>\n",
       "      <th>AD vs. MCI</th>\n",
       "      <th>AD vs. 65-85</th>\n",
       "      <th>MCI vs 65-85</th>\n",
       "    </tr>\n",
       "  </thead>\n",
       "  <tbody>\n",
       "    <tr>\n",
       "      <th>Cohen's d</th>\n",
       "      <td>0.97</td>\n",
       "      <td>2.23</td>\n",
       "      <td>1.22</td>\n",
       "    </tr>\n",
       "    <tr>\n",
       "      <th>T-value diff</th>\n",
       "      <td>8.32</td>\n",
       "      <td>17.08</td>\n",
       "      <td>8.76</td>\n",
       "    </tr>\n",
       "    <tr>\n",
       "      <th>95% CI</th>\n",
       "      <td>[4.84, 11.8]</td>\n",
       "      <td>[13.91, 20.24]</td>\n",
       "      <td>[6.27, 11.24]</td>\n",
       "    </tr>\n",
       "    <tr>\n",
       "      <th>Tukey p&lt;0.05</th>\n",
       "      <td>True</td>\n",
       "      <td>True</td>\n",
       "      <td>True</td>\n",
       "    </tr>\n",
       "  </tbody>\n",
       "</table>\n",
       "</div>"
      ],
      "text/plain": [
       "                AD vs. MCI    AD vs. 65-85   MCI vs 65-85\n",
       "Cohen's d             0.97            2.23           1.22\n",
       "T-value diff          8.32           17.08           8.76\n",
       "95% CI        [4.84, 11.8]  [13.91, 20.24]  [6.27, 11.24]\n",
       "Tukey p<0.05          True            True           True"
      ]
     },
     "metadata": {},
     "output_type": "display_data"
    },
    {
     "name": "stdout",
     "output_type": "stream",
     "text": [
      "\n",
      "DCCS_FCTScore : degree of freedom 306\n",
      "F statistic = 37.79 and probability p =  0.00\n",
      "\n"
     ]
    },
    {
     "data": {
      "text/html": [
       "<div>\n",
       "<style scoped>\n",
       "    .dataframe tbody tr th:only-of-type {\n",
       "        vertical-align: middle;\n",
       "    }\n",
       "\n",
       "    .dataframe tbody tr th {\n",
       "        vertical-align: top;\n",
       "    }\n",
       "\n",
       "    .dataframe thead th {\n",
       "        text-align: right;\n",
       "    }\n",
       "</style>\n",
       "<table border=\"1\" class=\"dataframe\">\n",
       "  <thead>\n",
       "    <tr style=\"text-align: right;\">\n",
       "      <th></th>\n",
       "      <th>AD vs. MCI</th>\n",
       "      <th>AD vs. 65-85</th>\n",
       "      <th>MCI vs 65-85</th>\n",
       "    </tr>\n",
       "  </thead>\n",
       "  <tbody>\n",
       "    <tr>\n",
       "      <th>Cohen's d</th>\n",
       "      <td>0.72</td>\n",
       "      <td>1.23</td>\n",
       "      <td>0.57</td>\n",
       "    </tr>\n",
       "    <tr>\n",
       "      <th>T-value diff</th>\n",
       "      <td>7.53</td>\n",
       "      <td>13.16</td>\n",
       "      <td>5.63</td>\n",
       "    </tr>\n",
       "    <tr>\n",
       "      <th>95% CI</th>\n",
       "      <td>[3.51, 11.55]</td>\n",
       "      <td>[9.55, 16.78]</td>\n",
       "      <td>[2.39, 8.88]</td>\n",
       "    </tr>\n",
       "    <tr>\n",
       "      <th>Tukey p&lt;0.05</th>\n",
       "      <td>True</td>\n",
       "      <td>True</td>\n",
       "      <td>True</td>\n",
       "    </tr>\n",
       "  </tbody>\n",
       "</table>\n",
       "</div>"
      ],
      "text/plain": [
       "                 AD vs. MCI   AD vs. 65-85  MCI vs 65-85\n",
       "Cohen's d              0.72           1.23          0.57\n",
       "T-value diff           7.53          13.16          5.63\n",
       "95% CI        [3.51, 11.55]  [9.55, 16.78]  [2.39, 8.88]\n",
       "Tukey p<0.05           True           True          True"
      ]
     },
     "metadata": {},
     "output_type": "display_data"
    },
    {
     "name": "stdout",
     "output_type": "stream",
     "text": [
      "\n",
      "Flanker_FCTScore : degree of freedom 305\n",
      "F statistic = 58.77 and probability p =  0.00\n",
      "\n"
     ]
    },
    {
     "data": {
      "text/html": [
       "<div>\n",
       "<style scoped>\n",
       "    .dataframe tbody tr th:only-of-type {\n",
       "        vertical-align: middle;\n",
       "    }\n",
       "\n",
       "    .dataframe tbody tr th {\n",
       "        vertical-align: top;\n",
       "    }\n",
       "\n",
       "    .dataframe thead th {\n",
       "        text-align: right;\n",
       "    }\n",
       "</style>\n",
       "<table border=\"1\" class=\"dataframe\">\n",
       "  <thead>\n",
       "    <tr style=\"text-align: right;\">\n",
       "      <th></th>\n",
       "      <th>AD vs. MCI</th>\n",
       "      <th>AD vs. 65-85</th>\n",
       "      <th>MCI vs 65-85</th>\n",
       "    </tr>\n",
       "  </thead>\n",
       "  <tbody>\n",
       "    <tr>\n",
       "      <th>Cohen's d</th>\n",
       "      <td>1.03</td>\n",
       "      <td>1.57</td>\n",
       "      <td>0.53</td>\n",
       "    </tr>\n",
       "    <tr>\n",
       "      <th>T-value diff</th>\n",
       "      <td>8.77</td>\n",
       "      <td>12.35</td>\n",
       "      <td>3.58</td>\n",
       "    </tr>\n",
       "    <tr>\n",
       "      <th>95% CI</th>\n",
       "      <td>[5.79, 11.75]</td>\n",
       "      <td>[9.67, 15.03]</td>\n",
       "      <td>[1.19, 5.97]</td>\n",
       "    </tr>\n",
       "    <tr>\n",
       "      <th>Tukey p&lt;0.05</th>\n",
       "      <td>True</td>\n",
       "      <td>True</td>\n",
       "      <td>True</td>\n",
       "    </tr>\n",
       "  </tbody>\n",
       "</table>\n",
       "</div>"
      ],
      "text/plain": [
       "                 AD vs. MCI   AD vs. 65-85  MCI vs 65-85\n",
       "Cohen's d              1.03           1.57          0.53\n",
       "T-value diff           8.77          12.35          3.58\n",
       "95% CI        [5.79, 11.75]  [9.67, 15.03]  [1.19, 5.97]\n",
       "Tukey p<0.05           True           True          True"
      ]
     },
     "metadata": {},
     "output_type": "display_data"
    },
    {
     "name": "stdout",
     "output_type": "stream",
     "text": [
      "\n",
      "LSWM_FCTScore : degree of freedom 293\n",
      "F statistic = 91.16 and probability p =  0.00\n",
      "\n"
     ]
    },
    {
     "data": {
      "text/html": [
       "<div>\n",
       "<style scoped>\n",
       "    .dataframe tbody tr th:only-of-type {\n",
       "        vertical-align: middle;\n",
       "    }\n",
       "\n",
       "    .dataframe tbody tr th {\n",
       "        vertical-align: top;\n",
       "    }\n",
       "\n",
       "    .dataframe thead th {\n",
       "        text-align: right;\n",
       "    }\n",
       "</style>\n",
       "<table border=\"1\" class=\"dataframe\">\n",
       "  <thead>\n",
       "    <tr style=\"text-align: right;\">\n",
       "      <th></th>\n",
       "      <th>AD vs. MCI</th>\n",
       "      <th>AD vs. 65-85</th>\n",
       "      <th>MCI vs 65-85</th>\n",
       "    </tr>\n",
       "  </thead>\n",
       "  <tbody>\n",
       "    <tr>\n",
       "      <th>Cohen's d</th>\n",
       "      <td>0.96</td>\n",
       "      <td>2.16</td>\n",
       "      <td>1.05</td>\n",
       "    </tr>\n",
       "    <tr>\n",
       "      <th>T-value diff</th>\n",
       "      <td>9.08</td>\n",
       "      <td>18.20</td>\n",
       "      <td>9.11</td>\n",
       "    </tr>\n",
       "    <tr>\n",
       "      <th>95% CI</th>\n",
       "      <td>[5.42, 12.75]</td>\n",
       "      <td>[14.86, 21.53]</td>\n",
       "      <td>[6.34, 11.89]</td>\n",
       "    </tr>\n",
       "    <tr>\n",
       "      <th>Tukey p&lt;0.05</th>\n",
       "      <td>True</td>\n",
       "      <td>True</td>\n",
       "      <td>True</td>\n",
       "    </tr>\n",
       "  </tbody>\n",
       "</table>\n",
       "</div>"
      ],
      "text/plain": [
       "                 AD vs. MCI    AD vs. 65-85   MCI vs 65-85\n",
       "Cohen's d              0.96            2.16           1.05\n",
       "T-value diff           9.08           18.20           9.11\n",
       "95% CI        [5.42, 12.75]  [14.86, 21.53]  [6.34, 11.89]\n",
       "Tukey p<0.05           True            True           True"
      ]
     },
     "metadata": {},
     "output_type": "display_data"
    },
    {
     "name": "stdout",
     "output_type": "stream",
     "text": [
      "\n",
      "ORR_FCTScore : degree of freedom 306\n",
      "F statistic = 17.70 and probability p =  0.00\n",
      "\n"
     ]
    },
    {
     "data": {
      "text/html": [
       "<div>\n",
       "<style scoped>\n",
       "    .dataframe tbody tr th:only-of-type {\n",
       "        vertical-align: middle;\n",
       "    }\n",
       "\n",
       "    .dataframe tbody tr th {\n",
       "        vertical-align: top;\n",
       "    }\n",
       "\n",
       "    .dataframe thead th {\n",
       "        text-align: right;\n",
       "    }\n",
       "</style>\n",
       "<table border=\"1\" class=\"dataframe\">\n",
       "  <thead>\n",
       "    <tr style=\"text-align: right;\">\n",
       "      <th></th>\n",
       "      <th>AD vs. MCI</th>\n",
       "      <th>AD vs. 65-85</th>\n",
       "      <th>MCI vs 65-85</th>\n",
       "    </tr>\n",
       "  </thead>\n",
       "  <tbody>\n",
       "    <tr>\n",
       "      <th>Cohen's d</th>\n",
       "      <td>0.34</td>\n",
       "      <td>0.85</td>\n",
       "      <td>0.50</td>\n",
       "    </tr>\n",
       "    <tr>\n",
       "      <th>T-value diff</th>\n",
       "      <td>2.84</td>\n",
       "      <td>6.29</td>\n",
       "      <td>3.45</td>\n",
       "    </tr>\n",
       "    <tr>\n",
       "      <th>95% CI</th>\n",
       "      <td>[-0.06, 5.73]</td>\n",
       "      <td>[3.68, 8.9]</td>\n",
       "      <td>[1.12, 5.79]</td>\n",
       "    </tr>\n",
       "    <tr>\n",
       "      <th>Tukey p&lt;0.05</th>\n",
       "      <td>False</td>\n",
       "      <td>True</td>\n",
       "      <td>True</td>\n",
       "    </tr>\n",
       "  </tbody>\n",
       "</table>\n",
       "</div>"
      ],
      "text/plain": [
       "                 AD vs. MCI AD vs. 65-85  MCI vs 65-85\n",
       "Cohen's d              0.34         0.85          0.50\n",
       "T-value diff           2.84         6.29          3.45\n",
       "95% CI        [-0.06, 5.73]  [3.68, 8.9]  [1.12, 5.79]\n",
       "Tukey p<0.05          False         True          True"
      ]
     },
     "metadata": {},
     "output_type": "display_data"
    },
    {
     "name": "stdout",
     "output_type": "stream",
     "text": [
      "\n",
      "PCPS_FCTScore : degree of freedom 307\n",
      "F statistic = 43.07 and probability p =  0.00\n",
      "\n"
     ]
    },
    {
     "data": {
      "text/html": [
       "<div>\n",
       "<style scoped>\n",
       "    .dataframe tbody tr th:only-of-type {\n",
       "        vertical-align: middle;\n",
       "    }\n",
       "\n",
       "    .dataframe tbody tr th {\n",
       "        vertical-align: top;\n",
       "    }\n",
       "\n",
       "    .dataframe thead th {\n",
       "        text-align: right;\n",
       "    }\n",
       "</style>\n",
       "<table border=\"1\" class=\"dataframe\">\n",
       "  <thead>\n",
       "    <tr style=\"text-align: right;\">\n",
       "      <th></th>\n",
       "      <th>AD vs. MCI</th>\n",
       "      <th>AD vs. 65-85</th>\n",
       "      <th>MCI vs 65-85</th>\n",
       "    </tr>\n",
       "  </thead>\n",
       "  <tbody>\n",
       "    <tr>\n",
       "      <th>Cohen's d</th>\n",
       "      <td>0.90</td>\n",
       "      <td>1.35</td>\n",
       "      <td>0.48</td>\n",
       "    </tr>\n",
       "    <tr>\n",
       "      <th>T-value diff</th>\n",
       "      <td>11.44</td>\n",
       "      <td>17.33</td>\n",
       "      <td>5.88</td>\n",
       "    </tr>\n",
       "    <tr>\n",
       "      <th>95% CI</th>\n",
       "      <td>[6.54, 16.35]</td>\n",
       "      <td>[12.92, 21.73]</td>\n",
       "      <td>[1.92, 9.85]</td>\n",
       "    </tr>\n",
       "    <tr>\n",
       "      <th>Tukey p&lt;0.05</th>\n",
       "      <td>True</td>\n",
       "      <td>True</td>\n",
       "      <td>True</td>\n",
       "    </tr>\n",
       "  </tbody>\n",
       "</table>\n",
       "</div>"
      ],
      "text/plain": [
       "                 AD vs. MCI    AD vs. 65-85  MCI vs 65-85\n",
       "Cohen's d              0.90            1.35          0.48\n",
       "T-value diff          11.44           17.33          5.88\n",
       "95% CI        [6.54, 16.35]  [12.92, 21.73]  [1.92, 9.85]\n",
       "Tukey p<0.05           True            True          True"
      ]
     },
     "metadata": {},
     "output_type": "display_data"
    },
    {
     "name": "stdout",
     "output_type": "stream",
     "text": [
      "\n",
      "PSM_FCTScore : degree of freedom 281\n",
      "F statistic = 61.40 and probability p =  0.00\n",
      "\n"
     ]
    },
    {
     "data": {
      "text/html": [
       "<div>\n",
       "<style scoped>\n",
       "    .dataframe tbody tr th:only-of-type {\n",
       "        vertical-align: middle;\n",
       "    }\n",
       "\n",
       "    .dataframe tbody tr th {\n",
       "        vertical-align: top;\n",
       "    }\n",
       "\n",
       "    .dataframe thead th {\n",
       "        text-align: right;\n",
       "    }\n",
       "</style>\n",
       "<table border=\"1\" class=\"dataframe\">\n",
       "  <thead>\n",
       "    <tr style=\"text-align: right;\">\n",
       "      <th></th>\n",
       "      <th>AD vs. MCI</th>\n",
       "      <th>AD vs. 65-85</th>\n",
       "      <th>MCI vs 65-85</th>\n",
       "    </tr>\n",
       "  </thead>\n",
       "  <tbody>\n",
       "    <tr>\n",
       "      <th>Cohen's d</th>\n",
       "      <td>0.82</td>\n",
       "      <td>1.62</td>\n",
       "      <td>0.95</td>\n",
       "    </tr>\n",
       "    <tr>\n",
       "      <th>T-value diff</th>\n",
       "      <td>6.39</td>\n",
       "      <td>16.01</td>\n",
       "      <td>9.63</td>\n",
       "    </tr>\n",
       "    <tr>\n",
       "      <th>95% CI</th>\n",
       "      <td>[2.21, 10.57]</td>\n",
       "      <td>[12.24, 19.78]</td>\n",
       "      <td>[6.53, 12.73]</td>\n",
       "    </tr>\n",
       "    <tr>\n",
       "      <th>Tukey p&lt;0.05</th>\n",
       "      <td>True</td>\n",
       "      <td>True</td>\n",
       "      <td>True</td>\n",
       "    </tr>\n",
       "  </tbody>\n",
       "</table>\n",
       "</div>"
      ],
      "text/plain": [
       "                 AD vs. MCI    AD vs. 65-85   MCI vs 65-85\n",
       "Cohen's d              0.82            1.62           0.95\n",
       "T-value diff           6.39           16.01           9.63\n",
       "95% CI        [2.21, 10.57]  [12.24, 19.78]  [6.53, 12.73]\n",
       "Tukey p<0.05           True            True           True"
      ]
     },
     "metadata": {},
     "output_type": "display_data"
    },
    {
     "name": "stdout",
     "output_type": "stream",
     "text": [
      "\n",
      "TPVT_FCTScore : degree of freedom 307\n",
      "F statistic = 35.45 and probability p =  0.00\n",
      "\n"
     ]
    },
    {
     "data": {
      "text/html": [
       "<div>\n",
       "<style scoped>\n",
       "    .dataframe tbody tr th:only-of-type {\n",
       "        vertical-align: middle;\n",
       "    }\n",
       "\n",
       "    .dataframe tbody tr th {\n",
       "        vertical-align: top;\n",
       "    }\n",
       "\n",
       "    .dataframe thead th {\n",
       "        text-align: right;\n",
       "    }\n",
       "</style>\n",
       "<table border=\"1\" class=\"dataframe\">\n",
       "  <thead>\n",
       "    <tr style=\"text-align: right;\">\n",
       "      <th></th>\n",
       "      <th>AD vs. MCI</th>\n",
       "      <th>AD vs. 65-85</th>\n",
       "      <th>MCI vs 65-85</th>\n",
       "    </tr>\n",
       "  </thead>\n",
       "  <tbody>\n",
       "    <tr>\n",
       "      <th>Cohen's d</th>\n",
       "      <td>0.29</td>\n",
       "      <td>1.10</td>\n",
       "      <td>0.88</td>\n",
       "    </tr>\n",
       "    <tr>\n",
       "      <th>T-value diff</th>\n",
       "      <td>2.70</td>\n",
       "      <td>9.16</td>\n",
       "      <td>6.46</td>\n",
       "    </tr>\n",
       "    <tr>\n",
       "      <th>95% CI</th>\n",
       "      <td>[-0.48, 5.87]</td>\n",
       "      <td>[6.31, 12.02]</td>\n",
       "      <td>[3.89, 9.04]</td>\n",
       "    </tr>\n",
       "    <tr>\n",
       "      <th>Tukey p&lt;0.05</th>\n",
       "      <td>False</td>\n",
       "      <td>True</td>\n",
       "      <td>True</td>\n",
       "    </tr>\n",
       "  </tbody>\n",
       "</table>\n",
       "</div>"
      ],
      "text/plain": [
       "                 AD vs. MCI   AD vs. 65-85  MCI vs 65-85\n",
       "Cohen's d              0.29           1.10          0.88\n",
       "T-value diff           2.70           9.16          6.46\n",
       "95% CI        [-0.48, 5.87]  [6.31, 12.02]  [3.89, 9.04]\n",
       "Tukey p<0.05          False           True          True"
      ]
     },
     "metadata": {},
     "output_type": "display_data"
    },
    {
     "name": "stdout",
     "output_type": "stream",
     "text": [
      "\n"
     ]
    }
   ],
   "source": [
    "\n",
    "for col in cog:\n",
    "    data = anova_one_var( genpop, col)\n",
    "    #t=Table(data,5*[0.4*inch], 4*[0.4*inch])\n",
    "    #elements.append(t)\n",
    "    \n",
    "\n",
    "# write the document to disk\n",
    "#doc.build(elements)"
   ]
  },
  {
   "cell_type": "code",
   "execution_count": 53,
   "metadata": {
    "scrolled": false
   },
   "outputs": [
    {
     "name": "stdout",
     "output_type": "stream",
     "text": [
      "Balance_FCTScore : degree of freedom 240\n",
      "F statistic =  0.93 and probability p =  0.40\n"
     ]
    },
    {
     "data": {
      "text/html": [
       "<div>\n",
       "<style scoped>\n",
       "    .dataframe tbody tr th:only-of-type {\n",
       "        vertical-align: middle;\n",
       "    }\n",
       "\n",
       "    .dataframe tbody tr th {\n",
       "        vertical-align: top;\n",
       "    }\n",
       "\n",
       "    .dataframe thead th {\n",
       "        text-align: right;\n",
       "    }\n",
       "</style>\n",
       "<table border=\"1\" class=\"dataframe\">\n",
       "  <thead>\n",
       "    <tr style=\"text-align: right;\">\n",
       "      <th></th>\n",
       "      <th>AD vs. MCI</th>\n",
       "      <th>AD vs. 65-85</th>\n",
       "      <th>MCI vs 65-85</th>\n",
       "    </tr>\n",
       "  </thead>\n",
       "  <tbody>\n",
       "    <tr>\n",
       "      <th>0</th>\n",
       "      <td>0.12</td>\n",
       "      <td>0.24</td>\n",
       "      <td>0.10</td>\n",
       "    </tr>\n",
       "  </tbody>\n",
       "</table>\n",
       "</div>"
      ],
      "text/plain": [
       "   AD vs. MCI  AD vs. 65-85  MCI vs 65-85\n",
       "0        0.12          0.24          0.10"
      ]
     },
     "metadata": {},
     "output_type": "display_data"
    },
    {
     "name": "stdout",
     "output_type": "stream",
     "text": [
      "\n",
      "Grip_fctd : degree of freedom 306\n",
      "F statistic =  4.57 and probability p =  0.01\n",
      "\n"
     ]
    },
    {
     "data": {
      "text/html": [
       "<div>\n",
       "<style scoped>\n",
       "    .dataframe tbody tr th:only-of-type {\n",
       "        vertical-align: middle;\n",
       "    }\n",
       "\n",
       "    .dataframe tbody tr th {\n",
       "        vertical-align: top;\n",
       "    }\n",
       "\n",
       "    .dataframe thead th {\n",
       "        text-align: right;\n",
       "    }\n",
       "</style>\n",
       "<table border=\"1\" class=\"dataframe\">\n",
       "  <thead>\n",
       "    <tr style=\"text-align: right;\">\n",
       "      <th></th>\n",
       "      <th>AD vs. MCI</th>\n",
       "      <th>AD vs. 65-85</th>\n",
       "      <th>MCI vs 65-85</th>\n",
       "    </tr>\n",
       "  </thead>\n",
       "  <tbody>\n",
       "    <tr>\n",
       "      <th>Cohen's d</th>\n",
       "      <td>0.14</td>\n",
       "      <td>0.42</td>\n",
       "      <td>0.27</td>\n",
       "    </tr>\n",
       "    <tr>\n",
       "      <th>T-value diff</th>\n",
       "      <td>1.43</td>\n",
       "      <td>3.99</td>\n",
       "      <td>2.56</td>\n",
       "    </tr>\n",
       "    <tr>\n",
       "      <th>95% CI</th>\n",
       "      <td>[-2.32, 5.19]</td>\n",
       "      <td>[0.63, 7.36]</td>\n",
       "      <td>[-0.48, 5.6]</td>\n",
       "    </tr>\n",
       "    <tr>\n",
       "      <th>Tukey p&lt;0.05</th>\n",
       "      <td>False</td>\n",
       "      <td>True</td>\n",
       "      <td>False</td>\n",
       "    </tr>\n",
       "  </tbody>\n",
       "</table>\n",
       "</div>"
      ],
      "text/plain": [
       "                 AD vs. MCI  AD vs. 65-85  MCI vs 65-85\n",
       "Cohen's d              0.14          0.42          0.27\n",
       "T-value diff           1.43          3.99          2.56\n",
       "95% CI        [-2.32, 5.19]  [0.63, 7.36]  [-0.48, 5.6]\n",
       "Tukey p<0.05          False          True         False"
      ]
     },
     "metadata": {},
     "output_type": "display_data"
    },
    {
     "name": "stdout",
     "output_type": "stream",
     "text": [
      "\n",
      "Grip_fctnd : degree of freedom 306\n",
      "F statistic =  4.71 and probability p =  0.01\n",
      "\n"
     ]
    },
    {
     "data": {
      "text/html": [
       "<div>\n",
       "<style scoped>\n",
       "    .dataframe tbody tr th:only-of-type {\n",
       "        vertical-align: middle;\n",
       "    }\n",
       "\n",
       "    .dataframe tbody tr th {\n",
       "        vertical-align: top;\n",
       "    }\n",
       "\n",
       "    .dataframe thead th {\n",
       "        text-align: right;\n",
       "    }\n",
       "</style>\n",
       "<table border=\"1\" class=\"dataframe\">\n",
       "  <thead>\n",
       "    <tr style=\"text-align: right;\">\n",
       "      <th></th>\n",
       "      <th>AD vs. MCI</th>\n",
       "      <th>AD vs. 65-85</th>\n",
       "      <th>MCI vs 65-85</th>\n",
       "    </tr>\n",
       "  </thead>\n",
       "  <tbody>\n",
       "    <tr>\n",
       "      <th>Cohen's d</th>\n",
       "      <td>0.15</td>\n",
       "      <td>0.44</td>\n",
       "      <td>0.26</td>\n",
       "    </tr>\n",
       "    <tr>\n",
       "      <th>T-value diff</th>\n",
       "      <td>1.53</td>\n",
       "      <td>3.93</td>\n",
       "      <td>2.40</td>\n",
       "    </tr>\n",
       "    <tr>\n",
       "      <th>95% CI</th>\n",
       "      <td>[-2.07, 5.12]</td>\n",
       "      <td>[0.7, 7.16]</td>\n",
       "      <td>[-0.51, 5.32]</td>\n",
       "    </tr>\n",
       "    <tr>\n",
       "      <th>Tukey p&lt;0.05</th>\n",
       "      <td>False</td>\n",
       "      <td>True</td>\n",
       "      <td>False</td>\n",
       "    </tr>\n",
       "  </tbody>\n",
       "</table>\n",
       "</div>"
      ],
      "text/plain": [
       "                 AD vs. MCI AD vs. 65-85   MCI vs 65-85\n",
       "Cohen's d              0.15         0.44           0.26\n",
       "T-value diff           1.53         3.93           2.40\n",
       "95% CI        [-2.07, 5.12]  [0.7, 7.16]  [-0.51, 5.32]\n",
       "Tukey p<0.05          False         True          False"
      ]
     },
     "metadata": {},
     "output_type": "display_data"
    },
    {
     "name": "stdout",
     "output_type": "stream",
     "text": [
      "\n",
      "Peg9h_fctd : degree of freedom 303\n",
      "F statistic = 11.66 and probability p =  0.00\n",
      "\n"
     ]
    },
    {
     "data": {
      "text/html": [
       "<div>\n",
       "<style scoped>\n",
       "    .dataframe tbody tr th:only-of-type {\n",
       "        vertical-align: middle;\n",
       "    }\n",
       "\n",
       "    .dataframe tbody tr th {\n",
       "        vertical-align: top;\n",
       "    }\n",
       "\n",
       "    .dataframe thead th {\n",
       "        text-align: right;\n",
       "    }\n",
       "</style>\n",
       "<table border=\"1\" class=\"dataframe\">\n",
       "  <thead>\n",
       "    <tr style=\"text-align: right;\">\n",
       "      <th></th>\n",
       "      <th>AD vs. MCI</th>\n",
       "      <th>AD vs. 65-85</th>\n",
       "      <th>MCI vs 65-85</th>\n",
       "    </tr>\n",
       "  </thead>\n",
       "  <tbody>\n",
       "    <tr>\n",
       "      <th>Cohen's d</th>\n",
       "      <td>0.48</td>\n",
       "      <td>0.71</td>\n",
       "      <td>0.21</td>\n",
       "    </tr>\n",
       "    <tr>\n",
       "      <th>T-value diff</th>\n",
       "      <td>5.09</td>\n",
       "      <td>7.07</td>\n",
       "      <td>1.98</td>\n",
       "    </tr>\n",
       "    <tr>\n",
       "      <th>95% CI</th>\n",
       "      <td>[1.23, 8.95]</td>\n",
       "      <td>[3.62, 10.52]</td>\n",
       "      <td>[-1.14, 5.11]</td>\n",
       "    </tr>\n",
       "    <tr>\n",
       "      <th>Tukey p&lt;0.05</th>\n",
       "      <td>True</td>\n",
       "      <td>True</td>\n",
       "      <td>False</td>\n",
       "    </tr>\n",
       "  </tbody>\n",
       "</table>\n",
       "</div>"
      ],
      "text/plain": [
       "                AD vs. MCI   AD vs. 65-85   MCI vs 65-85\n",
       "Cohen's d             0.48           0.71           0.21\n",
       "T-value diff          5.09           7.07           1.98\n",
       "95% CI        [1.23, 8.95]  [3.62, 10.52]  [-1.14, 5.11]\n",
       "Tukey p<0.05          True           True          False"
      ]
     },
     "metadata": {},
     "output_type": "display_data"
    },
    {
     "name": "stdout",
     "output_type": "stream",
     "text": [
      "\n",
      "Peg9h_fctnd : degree of freedom 303\n",
      "F statistic = 16.55 and probability p =  0.00\n",
      "\n"
     ]
    },
    {
     "data": {
      "text/html": [
       "<div>\n",
       "<style scoped>\n",
       "    .dataframe tbody tr th:only-of-type {\n",
       "        vertical-align: middle;\n",
       "    }\n",
       "\n",
       "    .dataframe tbody tr th {\n",
       "        vertical-align: top;\n",
       "    }\n",
       "\n",
       "    .dataframe thead th {\n",
       "        text-align: right;\n",
       "    }\n",
       "</style>\n",
       "<table border=\"1\" class=\"dataframe\">\n",
       "  <thead>\n",
       "    <tr style=\"text-align: right;\">\n",
       "      <th></th>\n",
       "      <th>AD vs. MCI</th>\n",
       "      <th>AD vs. 65-85</th>\n",
       "      <th>MCI vs 65-85</th>\n",
       "    </tr>\n",
       "  </thead>\n",
       "  <tbody>\n",
       "    <tr>\n",
       "      <th>Cohen's d</th>\n",
       "      <td>0.58</td>\n",
       "      <td>0.83</td>\n",
       "      <td>0.29</td>\n",
       "    </tr>\n",
       "    <tr>\n",
       "      <th>T-value diff</th>\n",
       "      <td>5.23</td>\n",
       "      <td>7.93</td>\n",
       "      <td>2.70</td>\n",
       "    </tr>\n",
       "    <tr>\n",
       "      <th>95% CI</th>\n",
       "      <td>[1.59, 8.87]</td>\n",
       "      <td>[4.67, 11.18]</td>\n",
       "      <td>[-0.25, 5.65]</td>\n",
       "    </tr>\n",
       "    <tr>\n",
       "      <th>Tukey p&lt;0.05</th>\n",
       "      <td>True</td>\n",
       "      <td>True</td>\n",
       "      <td>False</td>\n",
       "    </tr>\n",
       "  </tbody>\n",
       "</table>\n",
       "</div>"
      ],
      "text/plain": [
       "                AD vs. MCI   AD vs. 65-85   MCI vs 65-85\n",
       "Cohen's d             0.58           0.83           0.29\n",
       "T-value diff          5.23           7.93           2.70\n",
       "95% CI        [1.59, 8.87]  [4.67, 11.18]  [-0.25, 5.65]\n",
       "Tukey p<0.05          True           True          False"
      ]
     },
     "metadata": {},
     "output_type": "display_data"
    },
    {
     "name": "stdout",
     "output_type": "stream",
     "text": [
      "\n",
      "Walk2Min_FCTScore : degree of freedom 273\n",
      "F statistic = 20.84 and probability p =  0.00\n",
      "\n"
     ]
    },
    {
     "data": {
      "text/html": [
       "<div>\n",
       "<style scoped>\n",
       "    .dataframe tbody tr th:only-of-type {\n",
       "        vertical-align: middle;\n",
       "    }\n",
       "\n",
       "    .dataframe tbody tr th {\n",
       "        vertical-align: top;\n",
       "    }\n",
       "\n",
       "    .dataframe thead th {\n",
       "        text-align: right;\n",
       "    }\n",
       "</style>\n",
       "<table border=\"1\" class=\"dataframe\">\n",
       "  <thead>\n",
       "    <tr style=\"text-align: right;\">\n",
       "      <th></th>\n",
       "      <th>AD vs. MCI</th>\n",
       "      <th>AD vs. 65-85</th>\n",
       "      <th>MCI vs 65-85</th>\n",
       "    </tr>\n",
       "  </thead>\n",
       "  <tbody>\n",
       "    <tr>\n",
       "      <th>Cohen's d</th>\n",
       "      <td>0.84</td>\n",
       "      <td>1.00</td>\n",
       "      <td>0.19</td>\n",
       "    </tr>\n",
       "    <tr>\n",
       "      <th>T-value diff</th>\n",
       "      <td>7.57</td>\n",
       "      <td>9.22</td>\n",
       "      <td>1.64</td>\n",
       "    </tr>\n",
       "    <tr>\n",
       "      <th>95% CI</th>\n",
       "      <td>[3.79, 11.36]</td>\n",
       "      <td>[5.84, 12.6]</td>\n",
       "      <td>[-1.33, 4.62]</td>\n",
       "    </tr>\n",
       "    <tr>\n",
       "      <th>Tukey p&lt;0.05</th>\n",
       "      <td>True</td>\n",
       "      <td>True</td>\n",
       "      <td>False</td>\n",
       "    </tr>\n",
       "  </tbody>\n",
       "</table>\n",
       "</div>"
      ],
      "text/plain": [
       "                 AD vs. MCI  AD vs. 65-85   MCI vs 65-85\n",
       "Cohen's d              0.84          1.00           0.19\n",
       "T-value diff           7.57          9.22           1.64\n",
       "95% CI        [3.79, 11.36]  [5.84, 12.6]  [-1.33, 4.62]\n",
       "Tukey p<0.05           True          True          False"
      ]
     },
     "metadata": {},
     "output_type": "display_data"
    },
    {
     "name": "stdout",
     "output_type": "stream",
     "text": [
      "\n",
      "Walk4M_CScore : degree of freedom 295\n",
      "F statistic =  5.83 and probability p =  0.00\n",
      "\n"
     ]
    },
    {
     "data": {
      "text/html": [
       "<div>\n",
       "<style scoped>\n",
       "    .dataframe tbody tr th:only-of-type {\n",
       "        vertical-align: middle;\n",
       "    }\n",
       "\n",
       "    .dataframe tbody tr th {\n",
       "        vertical-align: top;\n",
       "    }\n",
       "\n",
       "    .dataframe thead th {\n",
       "        text-align: right;\n",
       "    }\n",
       "</style>\n",
       "<table border=\"1\" class=\"dataframe\">\n",
       "  <thead>\n",
       "    <tr style=\"text-align: right;\">\n",
       "      <th></th>\n",
       "      <th>AD vs. MCI</th>\n",
       "      <th>AD vs. 65-85</th>\n",
       "      <th>MCI vs 65-85</th>\n",
       "    </tr>\n",
       "  </thead>\n",
       "  <tbody>\n",
       "    <tr>\n",
       "      <th>Cohen's d</th>\n",
       "      <td>0.37</td>\n",
       "      <td>0.53</td>\n",
       "      <td>0.16</td>\n",
       "    </tr>\n",
       "    <tr>\n",
       "      <th>T-value diff</th>\n",
       "      <td>0.09</td>\n",
       "      <td>0.13</td>\n",
       "      <td>0.04</td>\n",
       "    </tr>\n",
       "    <tr>\n",
       "      <th>95% CI</th>\n",
       "      <td>[-0.01, 0.19]</td>\n",
       "      <td>[0.04, 0.23]</td>\n",
       "      <td>[-0.04, 0.12]</td>\n",
       "    </tr>\n",
       "    <tr>\n",
       "      <th>Tukey p&lt;0.05</th>\n",
       "      <td>False</td>\n",
       "      <td>True</td>\n",
       "      <td>False</td>\n",
       "    </tr>\n",
       "  </tbody>\n",
       "</table>\n",
       "</div>"
      ],
      "text/plain": [
       "                 AD vs. MCI  AD vs. 65-85   MCI vs 65-85\n",
       "Cohen's d              0.37          0.53           0.16\n",
       "T-value diff           0.09          0.13           0.04\n",
       "95% CI        [-0.01, 0.19]  [0.04, 0.23]  [-0.04, 0.12]\n",
       "Tukey p<0.05          False          True          False"
      ]
     },
     "metadata": {},
     "output_type": "display_data"
    },
    {
     "name": "stdout",
     "output_type": "stream",
     "text": [
      "\n"
     ]
    }
   ],
   "source": [
    "#The one-way ANOVA tests the null hypothesis that 3 genpop groups have the same population mean for motor vars\n",
    "for col in motor:\n",
    "    anova_one_var(genpop, col)\n"
   ]
  },
  {
   "cell_type": "code",
   "execution_count": 54,
   "metadata": {},
   "outputs": [
    {
     "name": "stdout",
     "output_type": "stream",
     "text": [
      "Odor_FCTScore\n",
      "Odor_FCTScore : degree of freedom 302\n",
      "F statistic = 44.20 and probability p =  0.00\n",
      "\n"
     ]
    },
    {
     "data": {
      "text/html": [
       "<div>\n",
       "<style scoped>\n",
       "    .dataframe tbody tr th:only-of-type {\n",
       "        vertical-align: middle;\n",
       "    }\n",
       "\n",
       "    .dataframe tbody tr th {\n",
       "        vertical-align: top;\n",
       "    }\n",
       "\n",
       "    .dataframe thead th {\n",
       "        text-align: right;\n",
       "    }\n",
       "</style>\n",
       "<table border=\"1\" class=\"dataframe\">\n",
       "  <thead>\n",
       "    <tr style=\"text-align: right;\">\n",
       "      <th></th>\n",
       "      <th>AD vs. MCI</th>\n",
       "      <th>AD vs. 65-85</th>\n",
       "      <th>MCI vs 65-85</th>\n",
       "    </tr>\n",
       "  </thead>\n",
       "  <tbody>\n",
       "    <tr>\n",
       "      <th>Cohen's d</th>\n",
       "      <td>0.65</td>\n",
       "      <td>1.40</td>\n",
       "      <td>0.69</td>\n",
       "    </tr>\n",
       "    <tr>\n",
       "      <th>T-value diff</th>\n",
       "      <td>6.63</td>\n",
       "      <td>14.06</td>\n",
       "      <td>7.43</td>\n",
       "    </tr>\n",
       "    <tr>\n",
       "      <th>95% CI</th>\n",
       "      <td>[2.54, 10.72]</td>\n",
       "      <td>[10.39, 17.73]</td>\n",
       "      <td>[4.15, 10.71]</td>\n",
       "    </tr>\n",
       "    <tr>\n",
       "      <th>Tukey p&lt;0.05</th>\n",
       "      <td>True</td>\n",
       "      <td>True</td>\n",
       "      <td>True</td>\n",
       "    </tr>\n",
       "  </tbody>\n",
       "</table>\n",
       "</div>"
      ],
      "text/plain": [
       "                 AD vs. MCI    AD vs. 65-85   MCI vs 65-85\n",
       "Cohen's d              0.65            1.40           0.69\n",
       "T-value diff           6.63           14.06           7.43\n",
       "95% CI        [2.54, 10.72]  [10.39, 17.73]  [4.15, 10.71]\n",
       "Tukey p<0.05           True            True           True"
      ]
     },
     "metadata": {},
     "output_type": "display_data"
    },
    {
     "name": "stdout",
     "output_type": "stream",
     "text": [
      "\n",
      "VisualAc_FCTScore\n",
      "VisualAc_FCTScore : degree of freedom 305\n",
      "F statistic =  0.87 and probability p =  0.42\n"
     ]
    },
    {
     "data": {
      "text/html": [
       "<div>\n",
       "<style scoped>\n",
       "    .dataframe tbody tr th:only-of-type {\n",
       "        vertical-align: middle;\n",
       "    }\n",
       "\n",
       "    .dataframe tbody tr th {\n",
       "        vertical-align: top;\n",
       "    }\n",
       "\n",
       "    .dataframe thead th {\n",
       "        text-align: right;\n",
       "    }\n",
       "</style>\n",
       "<table border=\"1\" class=\"dataframe\">\n",
       "  <thead>\n",
       "    <tr style=\"text-align: right;\">\n",
       "      <th></th>\n",
       "      <th>AD vs. MCI</th>\n",
       "      <th>AD vs. 65-85</th>\n",
       "      <th>MCI vs 65-85</th>\n",
       "    </tr>\n",
       "  </thead>\n",
       "  <tbody>\n",
       "    <tr>\n",
       "      <th>0</th>\n",
       "      <td>-0.13</td>\n",
       "      <td>-0.20</td>\n",
       "      <td>-0.06</td>\n",
       "    </tr>\n",
       "  </tbody>\n",
       "</table>\n",
       "</div>"
      ],
      "text/plain": [
       "   AD vs. MCI  AD vs. 65-85  MCI vs 65-85\n",
       "0       -0.13         -0.20         -0.06"
      ]
     },
     "metadata": {},
     "output_type": "display_data"
    },
    {
     "name": "stdout",
     "output_type": "stream",
     "text": [
      "\n",
      "WIN_Raw_L\n",
      "WIN_Raw_L : degree of freedom 324\n",
      "F statistic = 14.34 and probability p =  0.00\n",
      "\n"
     ]
    },
    {
     "data": {
      "text/html": [
       "<div>\n",
       "<style scoped>\n",
       "    .dataframe tbody tr th:only-of-type {\n",
       "        vertical-align: middle;\n",
       "    }\n",
       "\n",
       "    .dataframe tbody tr th {\n",
       "        vertical-align: top;\n",
       "    }\n",
       "\n",
       "    .dataframe thead th {\n",
       "        text-align: right;\n",
       "    }\n",
       "</style>\n",
       "<table border=\"1\" class=\"dataframe\">\n",
       "  <thead>\n",
       "    <tr style=\"text-align: right;\">\n",
       "      <th></th>\n",
       "      <th>AD vs. MCI</th>\n",
       "      <th>AD vs. 65-85</th>\n",
       "      <th>MCI vs 65-85</th>\n",
       "    </tr>\n",
       "  </thead>\n",
       "  <tbody>\n",
       "    <tr>\n",
       "      <th>Cohen's d</th>\n",
       "      <td>-0.09</td>\n",
       "      <td>0.56</td>\n",
       "      <td>0.65</td>\n",
       "    </tr>\n",
       "    <tr>\n",
       "      <th>T-value diff</th>\n",
       "      <td>-0.69</td>\n",
       "      <td>3.73</td>\n",
       "      <td>4.41</td>\n",
       "    </tr>\n",
       "    <tr>\n",
       "      <th>95% CI</th>\n",
       "      <td>[-3.31, 1.94]</td>\n",
       "      <td>[1.3, 6.15]</td>\n",
       "      <td>[2.31, 6.52]</td>\n",
       "    </tr>\n",
       "    <tr>\n",
       "      <th>Tukey p&lt;0.05</th>\n",
       "      <td>False</td>\n",
       "      <td>True</td>\n",
       "      <td>True</td>\n",
       "    </tr>\n",
       "  </tbody>\n",
       "</table>\n",
       "</div>"
      ],
      "text/plain": [
       "                 AD vs. MCI AD vs. 65-85  MCI vs 65-85\n",
       "Cohen's d             -0.09         0.56          0.65\n",
       "T-value diff          -0.69         3.73          4.41\n",
       "95% CI        [-3.31, 1.94]  [1.3, 6.15]  [2.31, 6.52]\n",
       "Tukey p<0.05          False         True          True"
      ]
     },
     "metadata": {},
     "output_type": "display_data"
    },
    {
     "name": "stdout",
     "output_type": "stream",
     "text": [
      "\n",
      "WIN_Raw_R\n",
      "WIN_Raw_R : degree of freedom 324\n",
      "F statistic = 12.26 and probability p =  0.00\n",
      "\n"
     ]
    },
    {
     "data": {
      "text/html": [
       "<div>\n",
       "<style scoped>\n",
       "    .dataframe tbody tr th:only-of-type {\n",
       "        vertical-align: middle;\n",
       "    }\n",
       "\n",
       "    .dataframe tbody tr th {\n",
       "        vertical-align: top;\n",
       "    }\n",
       "\n",
       "    .dataframe thead th {\n",
       "        text-align: right;\n",
       "    }\n",
       "</style>\n",
       "<table border=\"1\" class=\"dataframe\">\n",
       "  <thead>\n",
       "    <tr style=\"text-align: right;\">\n",
       "      <th></th>\n",
       "      <th>AD vs. MCI</th>\n",
       "      <th>AD vs. 65-85</th>\n",
       "      <th>MCI vs 65-85</th>\n",
       "    </tr>\n",
       "  </thead>\n",
       "  <tbody>\n",
       "    <tr>\n",
       "      <th>Cohen's d</th>\n",
       "      <td>0.01</td>\n",
       "      <td>0.58</td>\n",
       "      <td>0.57</td>\n",
       "    </tr>\n",
       "    <tr>\n",
       "      <th>T-value diff</th>\n",
       "      <td>0.10</td>\n",
       "      <td>3.90</td>\n",
       "      <td>3.80</td>\n",
       "    </tr>\n",
       "    <tr>\n",
       "      <th>95% CI</th>\n",
       "      <td>[-2.52, 2.71]</td>\n",
       "      <td>[1.48, 6.31]</td>\n",
       "      <td>[1.7, 5.9]</td>\n",
       "    </tr>\n",
       "    <tr>\n",
       "      <th>Tukey p&lt;0.05</th>\n",
       "      <td>False</td>\n",
       "      <td>True</td>\n",
       "      <td>True</td>\n",
       "    </tr>\n",
       "  </tbody>\n",
       "</table>\n",
       "</div>"
      ],
      "text/plain": [
       "                 AD vs. MCI  AD vs. 65-85 MCI vs 65-85\n",
       "Cohen's d              0.01          0.58         0.57\n",
       "T-value diff           0.10          3.90         3.80\n",
       "95% CI        [-2.52, 2.71]  [1.48, 6.31]   [1.7, 5.9]\n",
       "Tukey p<0.05          False          True         True"
      ]
     },
     "metadata": {},
     "output_type": "display_data"
    },
    {
     "name": "stdout",
     "output_type": "stream",
     "text": [
      "\n",
      "PainInt_TScore\n",
      "PainInt_TScore : degree of freedom 332\n",
      "F statistic =  0.74 and probability p =  0.48\n"
     ]
    },
    {
     "data": {
      "text/html": [
       "<div>\n",
       "<style scoped>\n",
       "    .dataframe tbody tr th:only-of-type {\n",
       "        vertical-align: middle;\n",
       "    }\n",
       "\n",
       "    .dataframe tbody tr th {\n",
       "        vertical-align: top;\n",
       "    }\n",
       "\n",
       "    .dataframe thead th {\n",
       "        text-align: right;\n",
       "    }\n",
       "</style>\n",
       "<table border=\"1\" class=\"dataframe\">\n",
       "  <thead>\n",
       "    <tr style=\"text-align: right;\">\n",
       "      <th></th>\n",
       "      <th>AD vs. MCI</th>\n",
       "      <th>AD vs. 65-85</th>\n",
       "      <th>MCI vs 65-85</th>\n",
       "    </tr>\n",
       "  </thead>\n",
       "  <tbody>\n",
       "    <tr>\n",
       "      <th>0</th>\n",
       "      <td>0.19</td>\n",
       "      <td>0.12</td>\n",
       "      <td>-0.07</td>\n",
       "    </tr>\n",
       "  </tbody>\n",
       "</table>\n",
       "</div>"
      ],
      "text/plain": [
       "   AD vs. MCI  AD vs. 65-85  MCI vs 65-85\n",
       "0        0.19          0.12         -0.07"
      ]
     },
     "metadata": {},
     "output_type": "display_data"
    },
    {
     "name": "stdout",
     "output_type": "stream",
     "text": [
      "\n"
     ]
    }
   ],
   "source": [
    "#The one-way ANOVA tests the null hypothesis that 3 genpop groups have the same population mean for sensation vars\n",
    "for col in sen:\n",
    "    print(col)\n",
    "    anova_one_var(genpop, col)"
   ]
  },
  {
   "cell_type": "code",
   "execution_count": 55,
   "metadata": {},
   "outputs": [
    {
     "name": "stdout",
     "output_type": "stream",
     "text": [
      "AngerAff_TScore\n",
      "AngerAff_TScore : degree of freedom 331\n",
      "F statistic =  0.62 and probability p =  0.54\n"
     ]
    },
    {
     "data": {
      "text/html": [
       "<div>\n",
       "<style scoped>\n",
       "    .dataframe tbody tr th:only-of-type {\n",
       "        vertical-align: middle;\n",
       "    }\n",
       "\n",
       "    .dataframe tbody tr th {\n",
       "        vertical-align: top;\n",
       "    }\n",
       "\n",
       "    .dataframe thead th {\n",
       "        text-align: right;\n",
       "    }\n",
       "</style>\n",
       "<table border=\"1\" class=\"dataframe\">\n",
       "  <thead>\n",
       "    <tr style=\"text-align: right;\">\n",
       "      <th></th>\n",
       "      <th>AD vs. MCI</th>\n",
       "      <th>AD vs. 65-85</th>\n",
       "      <th>MCI vs 65-85</th>\n",
       "    </tr>\n",
       "  </thead>\n",
       "  <tbody>\n",
       "    <tr>\n",
       "      <th>0</th>\n",
       "      <td>-0.15</td>\n",
       "      <td>-0.14</td>\n",
       "      <td>0.02</td>\n",
       "    </tr>\n",
       "  </tbody>\n",
       "</table>\n",
       "</div>"
      ],
      "text/plain": [
       "   AD vs. MCI  AD vs. 65-85  MCI vs 65-85\n",
       "0       -0.15         -0.14          0.02"
      ]
     },
     "metadata": {},
     "output_type": "display_data"
    },
    {
     "name": "stdout",
     "output_type": "stream",
     "text": [
      "\n",
      "AngerHost_TScore\n",
      "AngerHost_TScore : degree of freedom 331\n",
      "F statistic =  1.80 and probability p =  0.17\n"
     ]
    },
    {
     "data": {
      "text/html": [
       "<div>\n",
       "<style scoped>\n",
       "    .dataframe tbody tr th:only-of-type {\n",
       "        vertical-align: middle;\n",
       "    }\n",
       "\n",
       "    .dataframe tbody tr th {\n",
       "        vertical-align: top;\n",
       "    }\n",
       "\n",
       "    .dataframe thead th {\n",
       "        text-align: right;\n",
       "    }\n",
       "</style>\n",
       "<table border=\"1\" class=\"dataframe\">\n",
       "  <thead>\n",
       "    <tr style=\"text-align: right;\">\n",
       "      <th></th>\n",
       "      <th>AD vs. MCI</th>\n",
       "      <th>AD vs. 65-85</th>\n",
       "      <th>MCI vs 65-85</th>\n",
       "    </tr>\n",
       "  </thead>\n",
       "  <tbody>\n",
       "    <tr>\n",
       "      <th>0</th>\n",
       "      <td>0.18</td>\n",
       "      <td>-0.05</td>\n",
       "      <td>-0.24</td>\n",
       "    </tr>\n",
       "  </tbody>\n",
       "</table>\n",
       "</div>"
      ],
      "text/plain": [
       "   AD vs. MCI  AD vs. 65-85  MCI vs 65-85\n",
       "0        0.18         -0.05         -0.24"
      ]
     },
     "metadata": {},
     "output_type": "display_data"
    },
    {
     "name": "stdout",
     "output_type": "stream",
     "text": [
      "\n",
      "AngerPhysAg_TScore\n",
      "AngerPhysAg_TScore : degree of freedom 331\n",
      "F statistic =  3.30 and probability p =  0.04\n",
      "\n"
     ]
    },
    {
     "data": {
      "text/html": [
       "<div>\n",
       "<style scoped>\n",
       "    .dataframe tbody tr th:only-of-type {\n",
       "        vertical-align: middle;\n",
       "    }\n",
       "\n",
       "    .dataframe tbody tr th {\n",
       "        vertical-align: top;\n",
       "    }\n",
       "\n",
       "    .dataframe thead th {\n",
       "        text-align: right;\n",
       "    }\n",
       "</style>\n",
       "<table border=\"1\" class=\"dataframe\">\n",
       "  <thead>\n",
       "    <tr style=\"text-align: right;\">\n",
       "      <th></th>\n",
       "      <th>AD vs. MCI</th>\n",
       "      <th>AD vs. 65-85</th>\n",
       "      <th>MCI vs 65-85</th>\n",
       "    </tr>\n",
       "  </thead>\n",
       "  <tbody>\n",
       "    <tr>\n",
       "      <th>Cohen's d</th>\n",
       "      <td>-0.24</td>\n",
       "      <td>-0.37</td>\n",
       "      <td>-0.10</td>\n",
       "    </tr>\n",
       "    <tr>\n",
       "      <th>T-value diff</th>\n",
       "      <td>-1.84</td>\n",
       "      <td>-2.40</td>\n",
       "      <td>-0.56</td>\n",
       "    </tr>\n",
       "    <tr>\n",
       "      <th>95% CI</th>\n",
       "      <td>[-4.22, 0.54]</td>\n",
       "      <td>[-4.61, -0.19]</td>\n",
       "      <td>[-2.49, 1.37]</td>\n",
       "    </tr>\n",
       "    <tr>\n",
       "      <th>Tukey p&lt;0.05</th>\n",
       "      <td>False</td>\n",
       "      <td>True</td>\n",
       "      <td>False</td>\n",
       "    </tr>\n",
       "  </tbody>\n",
       "</table>\n",
       "</div>"
      ],
      "text/plain": [
       "                 AD vs. MCI    AD vs. 65-85   MCI vs 65-85\n",
       "Cohen's d             -0.24           -0.37          -0.10\n",
       "T-value diff          -1.84           -2.40          -0.56\n",
       "95% CI        [-4.22, 0.54]  [-4.61, -0.19]  [-2.49, 1.37]\n",
       "Tukey p<0.05          False            True          False"
      ]
     },
     "metadata": {},
     "output_type": "display_data"
    },
    {
     "name": "stdout",
     "output_type": "stream",
     "text": [
      "\n",
      "EmoSup_TScore\n",
      "EmoSup_TScore : degree of freedom 333\n",
      "F statistic =  0.54 and probability p =  0.58\n"
     ]
    },
    {
     "data": {
      "text/html": [
       "<div>\n",
       "<style scoped>\n",
       "    .dataframe tbody tr th:only-of-type {\n",
       "        vertical-align: middle;\n",
       "    }\n",
       "\n",
       "    .dataframe tbody tr th {\n",
       "        vertical-align: top;\n",
       "    }\n",
       "\n",
       "    .dataframe thead th {\n",
       "        text-align: right;\n",
       "    }\n",
       "</style>\n",
       "<table border=\"1\" class=\"dataframe\">\n",
       "  <thead>\n",
       "    <tr style=\"text-align: right;\">\n",
       "      <th></th>\n",
       "      <th>AD vs. MCI</th>\n",
       "      <th>AD vs. 65-85</th>\n",
       "      <th>MCI vs 65-85</th>\n",
       "    </tr>\n",
       "  </thead>\n",
       "  <tbody>\n",
       "    <tr>\n",
       "      <th>0</th>\n",
       "      <td>-0.01</td>\n",
       "      <td>0.11</td>\n",
       "      <td>0.11</td>\n",
       "    </tr>\n",
       "  </tbody>\n",
       "</table>\n",
       "</div>"
      ],
      "text/plain": [
       "   AD vs. MCI  AD vs. 65-85  MCI vs 65-85\n",
       "0       -0.01          0.11          0.11"
      ]
     },
     "metadata": {},
     "output_type": "display_data"
    },
    {
     "name": "stdout",
     "output_type": "stream",
     "text": [
      "\n",
      "FearAff_TScore\n",
      "FearAff_TScore : degree of freedom 331\n",
      "F statistic =  1.00 and probability p =  0.37\n"
     ]
    },
    {
     "data": {
      "text/html": [
       "<div>\n",
       "<style scoped>\n",
       "    .dataframe tbody tr th:only-of-type {\n",
       "        vertical-align: middle;\n",
       "    }\n",
       "\n",
       "    .dataframe tbody tr th {\n",
       "        vertical-align: top;\n",
       "    }\n",
       "\n",
       "    .dataframe thead th {\n",
       "        text-align: right;\n",
       "    }\n",
       "</style>\n",
       "<table border=\"1\" class=\"dataframe\">\n",
       "  <thead>\n",
       "    <tr style=\"text-align: right;\">\n",
       "      <th></th>\n",
       "      <th>AD vs. MCI</th>\n",
       "      <th>AD vs. 65-85</th>\n",
       "      <th>MCI vs 65-85</th>\n",
       "    </tr>\n",
       "  </thead>\n",
       "  <tbody>\n",
       "    <tr>\n",
       "      <th>0</th>\n",
       "      <td>-0.05</td>\n",
       "      <td>-0.18</td>\n",
       "      <td>-0.13</td>\n",
       "    </tr>\n",
       "  </tbody>\n",
       "</table>\n",
       "</div>"
      ],
      "text/plain": [
       "   AD vs. MCI  AD vs. 65-85  MCI vs 65-85\n",
       "0       -0.05         -0.18         -0.13"
      ]
     },
     "metadata": {},
     "output_type": "display_data"
    },
    {
     "name": "stdout",
     "output_type": "stream",
     "text": [
      "\n",
      "FearSom_TScore\n",
      "FearSom_TScore : degree of freedom 331\n",
      "F statistic =  0.01 and probability p =  0.99\n"
     ]
    },
    {
     "data": {
      "text/html": [
       "<div>\n",
       "<style scoped>\n",
       "    .dataframe tbody tr th:only-of-type {\n",
       "        vertical-align: middle;\n",
       "    }\n",
       "\n",
       "    .dataframe tbody tr th {\n",
       "        vertical-align: top;\n",
       "    }\n",
       "\n",
       "    .dataframe thead th {\n",
       "        text-align: right;\n",
       "    }\n",
       "</style>\n",
       "<table border=\"1\" class=\"dataframe\">\n",
       "  <thead>\n",
       "    <tr style=\"text-align: right;\">\n",
       "      <th></th>\n",
       "      <th>AD vs. MCI</th>\n",
       "      <th>AD vs. 65-85</th>\n",
       "      <th>MCI vs 65-85</th>\n",
       "    </tr>\n",
       "  </thead>\n",
       "  <tbody>\n",
       "    <tr>\n",
       "      <th>0</th>\n",
       "      <td>-0.02</td>\n",
       "      <td>-0.01</td>\n",
       "      <td>0.01</td>\n",
       "    </tr>\n",
       "  </tbody>\n",
       "</table>\n",
       "</div>"
      ],
      "text/plain": [
       "   AD vs. MCI  AD vs. 65-85  MCI vs 65-85\n",
       "0       -0.02         -0.01          0.01"
      ]
     },
     "metadata": {},
     "output_type": "display_data"
    },
    {
     "name": "stdout",
     "output_type": "stream",
     "text": [
      "\n",
      "Friend_TScore\n",
      "Friend_TScore : degree of freedom 331\n",
      "F statistic =  1.01 and probability p =  0.36\n"
     ]
    },
    {
     "data": {
      "text/html": [
       "<div>\n",
       "<style scoped>\n",
       "    .dataframe tbody tr th:only-of-type {\n",
       "        vertical-align: middle;\n",
       "    }\n",
       "\n",
       "    .dataframe tbody tr th {\n",
       "        vertical-align: top;\n",
       "    }\n",
       "\n",
       "    .dataframe thead th {\n",
       "        text-align: right;\n",
       "    }\n",
       "</style>\n",
       "<table border=\"1\" class=\"dataframe\">\n",
       "  <thead>\n",
       "    <tr style=\"text-align: right;\">\n",
       "      <th></th>\n",
       "      <th>AD vs. MCI</th>\n",
       "      <th>AD vs. 65-85</th>\n",
       "      <th>MCI vs 65-85</th>\n",
       "    </tr>\n",
       "  </thead>\n",
       "  <tbody>\n",
       "    <tr>\n",
       "      <th>0</th>\n",
       "      <td>0.15</td>\n",
       "      <td>0.20</td>\n",
       "      <td>0.06</td>\n",
       "    </tr>\n",
       "  </tbody>\n",
       "</table>\n",
       "</div>"
      ],
      "text/plain": [
       "   AD vs. MCI  AD vs. 65-85  MCI vs 65-85\n",
       "0        0.15          0.20          0.06"
      ]
     },
     "metadata": {},
     "output_type": "display_data"
    },
    {
     "name": "stdout",
     "output_type": "stream",
     "text": [
      "\n",
      "GenLS_TScore\n",
      "GenLS_TScore : degree of freedom 333\n",
      "F statistic =  2.84 and probability p =  0.06\n"
     ]
    },
    {
     "data": {
      "text/html": [
       "<div>\n",
       "<style scoped>\n",
       "    .dataframe tbody tr th:only-of-type {\n",
       "        vertical-align: middle;\n",
       "    }\n",
       "\n",
       "    .dataframe tbody tr th {\n",
       "        vertical-align: top;\n",
       "    }\n",
       "\n",
       "    .dataframe thead th {\n",
       "        text-align: right;\n",
       "    }\n",
       "</style>\n",
       "<table border=\"1\" class=\"dataframe\">\n",
       "  <thead>\n",
       "    <tr style=\"text-align: right;\">\n",
       "      <th></th>\n",
       "      <th>AD vs. MCI</th>\n",
       "      <th>AD vs. 65-85</th>\n",
       "      <th>MCI vs 65-85</th>\n",
       "    </tr>\n",
       "  </thead>\n",
       "  <tbody>\n",
       "    <tr>\n",
       "      <th>0</th>\n",
       "      <td>-0.05</td>\n",
       "      <td>0.23</td>\n",
       "      <td>0.29</td>\n",
       "    </tr>\n",
       "  </tbody>\n",
       "</table>\n",
       "</div>"
      ],
      "text/plain": [
       "   AD vs. MCI  AD vs. 65-85  MCI vs 65-85\n",
       "0       -0.05          0.23          0.29"
      ]
     },
     "metadata": {},
     "output_type": "display_data"
    },
    {
     "name": "stdout",
     "output_type": "stream",
     "text": [
      "\n",
      "InstSup_TScore\n",
      "InstSup_TScore : degree of freedom 333\n",
      "F statistic =  3.29 and probability p =  0.04\n",
      "\n"
     ]
    },
    {
     "data": {
      "text/html": [
       "<div>\n",
       "<style scoped>\n",
       "    .dataframe tbody tr th:only-of-type {\n",
       "        vertical-align: middle;\n",
       "    }\n",
       "\n",
       "    .dataframe tbody tr th {\n",
       "        vertical-align: top;\n",
       "    }\n",
       "\n",
       "    .dataframe thead th {\n",
       "        text-align: right;\n",
       "    }\n",
       "</style>\n",
       "<table border=\"1\" class=\"dataframe\">\n",
       "  <thead>\n",
       "    <tr style=\"text-align: right;\">\n",
       "      <th></th>\n",
       "      <th>AD vs. MCI</th>\n",
       "      <th>AD vs. 65-85</th>\n",
       "      <th>MCI vs 65-85</th>\n",
       "    </tr>\n",
       "  </thead>\n",
       "  <tbody>\n",
       "    <tr>\n",
       "      <th>Cohen's d</th>\n",
       "      <td>-0.21</td>\n",
       "      <td>-0.35</td>\n",
       "      <td>-0.16</td>\n",
       "    </tr>\n",
       "    <tr>\n",
       "      <th>T-value diff</th>\n",
       "      <td>-1.79</td>\n",
       "      <td>-3.40</td>\n",
       "      <td>-1.61</td>\n",
       "    </tr>\n",
       "    <tr>\n",
       "      <th>95% CI</th>\n",
       "      <td>[-5.24, 1.65]</td>\n",
       "      <td>[-6.59, -0.22]</td>\n",
       "      <td>[-4.42, 1.2]</td>\n",
       "    </tr>\n",
       "    <tr>\n",
       "      <th>Tukey p&lt;0.05</th>\n",
       "      <td>False</td>\n",
       "      <td>True</td>\n",
       "      <td>False</td>\n",
       "    </tr>\n",
       "  </tbody>\n",
       "</table>\n",
       "</div>"
      ],
      "text/plain": [
       "                 AD vs. MCI    AD vs. 65-85  MCI vs 65-85\n",
       "Cohen's d             -0.21           -0.35         -0.16\n",
       "T-value diff          -1.79           -3.40         -1.61\n",
       "95% CI        [-5.24, 1.65]  [-6.59, -0.22]  [-4.42, 1.2]\n",
       "Tukey p<0.05          False            True         False"
      ]
     },
     "metadata": {},
     "output_type": "display_data"
    },
    {
     "name": "stdout",
     "output_type": "stream",
     "text": [
      "\n",
      "Lone_TScore\n",
      "Lone_TScore : degree of freedom 331\n",
      "F statistic =  1.17 and probability p =  0.31\n"
     ]
    },
    {
     "data": {
      "text/html": [
       "<div>\n",
       "<style scoped>\n",
       "    .dataframe tbody tr th:only-of-type {\n",
       "        vertical-align: middle;\n",
       "    }\n",
       "\n",
       "    .dataframe tbody tr th {\n",
       "        vertical-align: top;\n",
       "    }\n",
       "\n",
       "    .dataframe thead th {\n",
       "        text-align: right;\n",
       "    }\n",
       "</style>\n",
       "<table border=\"1\" class=\"dataframe\">\n",
       "  <thead>\n",
       "    <tr style=\"text-align: right;\">\n",
       "      <th></th>\n",
       "      <th>AD vs. MCI</th>\n",
       "      <th>AD vs. 65-85</th>\n",
       "      <th>MCI vs 65-85</th>\n",
       "    </tr>\n",
       "  </thead>\n",
       "  <tbody>\n",
       "    <tr>\n",
       "      <th>0</th>\n",
       "      <td>-0.21</td>\n",
       "      <td>-0.19</td>\n",
       "      <td>0.03</td>\n",
       "    </tr>\n",
       "  </tbody>\n",
       "</table>\n",
       "</div>"
      ],
      "text/plain": [
       "   AD vs. MCI  AD vs. 65-85  MCI vs 65-85\n",
       "0       -0.21         -0.19          0.03"
      ]
     },
     "metadata": {},
     "output_type": "display_data"
    },
    {
     "name": "stdout",
     "output_type": "stream",
     "text": [
      "\n",
      "MeanP_TScore\n",
      "MeanP_TScore : degree of freedom 333\n",
      "F statistic =  1.26 and probability p =  0.29\n"
     ]
    },
    {
     "data": {
      "text/html": [
       "<div>\n",
       "<style scoped>\n",
       "    .dataframe tbody tr th:only-of-type {\n",
       "        vertical-align: middle;\n",
       "    }\n",
       "\n",
       "    .dataframe tbody tr th {\n",
       "        vertical-align: top;\n",
       "    }\n",
       "\n",
       "    .dataframe thead th {\n",
       "        text-align: right;\n",
       "    }\n",
       "</style>\n",
       "<table border=\"1\" class=\"dataframe\">\n",
       "  <thead>\n",
       "    <tr style=\"text-align: right;\">\n",
       "      <th></th>\n",
       "      <th>AD vs. MCI</th>\n",
       "      <th>AD vs. 65-85</th>\n",
       "      <th>MCI vs 65-85</th>\n",
       "    </tr>\n",
       "  </thead>\n",
       "  <tbody>\n",
       "    <tr>\n",
       "      <th>0</th>\n",
       "      <td>0.07</td>\n",
       "      <td>0.21</td>\n",
       "      <td>0.14</td>\n",
       "    </tr>\n",
       "  </tbody>\n",
       "</table>\n",
       "</div>"
      ],
      "text/plain": [
       "   AD vs. MCI  AD vs. 65-85  MCI vs 65-85\n",
       "0        0.07          0.21          0.14"
      ]
     },
     "metadata": {},
     "output_type": "display_data"
    },
    {
     "name": "stdout",
     "output_type": "stream",
     "text": [
      "\n",
      "PHost_TScore\n",
      "PHost_TScore : degree of freedom 331\n",
      "F statistic =  0.16 and probability p =  0.85\n"
     ]
    },
    {
     "data": {
      "text/html": [
       "<div>\n",
       "<style scoped>\n",
       "    .dataframe tbody tr th:only-of-type {\n",
       "        vertical-align: middle;\n",
       "    }\n",
       "\n",
       "    .dataframe tbody tr th {\n",
       "        vertical-align: top;\n",
       "    }\n",
       "\n",
       "    .dataframe thead th {\n",
       "        text-align: right;\n",
       "    }\n",
       "</style>\n",
       "<table border=\"1\" class=\"dataframe\">\n",
       "  <thead>\n",
       "    <tr style=\"text-align: right;\">\n",
       "      <th></th>\n",
       "      <th>AD vs. MCI</th>\n",
       "      <th>AD vs. 65-85</th>\n",
       "      <th>MCI vs 65-85</th>\n",
       "    </tr>\n",
       "  </thead>\n",
       "  <tbody>\n",
       "    <tr>\n",
       "      <th>0</th>\n",
       "      <td>0.08</td>\n",
       "      <td>0.04</td>\n",
       "      <td>-0.04</td>\n",
       "    </tr>\n",
       "  </tbody>\n",
       "</table>\n",
       "</div>"
      ],
      "text/plain": [
       "   AD vs. MCI  AD vs. 65-85  MCI vs 65-85\n",
       "0        0.08          0.04         -0.04"
      ]
     },
     "metadata": {},
     "output_type": "display_data"
    },
    {
     "name": "stdout",
     "output_type": "stream",
     "text": [
      "\n",
      "PosAff_TScore\n",
      "PosAff_TScore : degree of freedom 333\n",
      "F statistic =  0.51 and probability p =  0.60\n"
     ]
    },
    {
     "data": {
      "text/html": [
       "<div>\n",
       "<style scoped>\n",
       "    .dataframe tbody tr th:only-of-type {\n",
       "        vertical-align: middle;\n",
       "    }\n",
       "\n",
       "    .dataframe tbody tr th {\n",
       "        vertical-align: top;\n",
       "    }\n",
       "\n",
       "    .dataframe thead th {\n",
       "        text-align: right;\n",
       "    }\n",
       "</style>\n",
       "<table border=\"1\" class=\"dataframe\">\n",
       "  <thead>\n",
       "    <tr style=\"text-align: right;\">\n",
       "      <th></th>\n",
       "      <th>AD vs. MCI</th>\n",
       "      <th>AD vs. 65-85</th>\n",
       "      <th>MCI vs 65-85</th>\n",
       "    </tr>\n",
       "  </thead>\n",
       "  <tbody>\n",
       "    <tr>\n",
       "      <th>0</th>\n",
       "      <td>0.06</td>\n",
       "      <td>0.14</td>\n",
       "      <td>0.08</td>\n",
       "    </tr>\n",
       "  </tbody>\n",
       "</table>\n",
       "</div>"
      ],
      "text/plain": [
       "   AD vs. MCI  AD vs. 65-85  MCI vs 65-85\n",
       "0        0.06          0.14          0.08"
      ]
     },
     "metadata": {},
     "output_type": "display_data"
    },
    {
     "name": "stdout",
     "output_type": "stream",
     "text": [
      "\n",
      "PReject_TScore\n",
      "PReject_TScore : degree of freedom 331\n",
      "F statistic =  0.16 and probability p =  0.85\n"
     ]
    },
    {
     "data": {
      "text/html": [
       "<div>\n",
       "<style scoped>\n",
       "    .dataframe tbody tr th:only-of-type {\n",
       "        vertical-align: middle;\n",
       "    }\n",
       "\n",
       "    .dataframe tbody tr th {\n",
       "        vertical-align: top;\n",
       "    }\n",
       "\n",
       "    .dataframe thead th {\n",
       "        text-align: right;\n",
       "    }\n",
       "</style>\n",
       "<table border=\"1\" class=\"dataframe\">\n",
       "  <thead>\n",
       "    <tr style=\"text-align: right;\">\n",
       "      <th></th>\n",
       "      <th>AD vs. MCI</th>\n",
       "      <th>AD vs. 65-85</th>\n",
       "      <th>MCI vs 65-85</th>\n",
       "    </tr>\n",
       "  </thead>\n",
       "  <tbody>\n",
       "    <tr>\n",
       "      <th>0</th>\n",
       "      <td>0.03</td>\n",
       "      <td>-0.04</td>\n",
       "      <td>-0.07</td>\n",
       "    </tr>\n",
       "  </tbody>\n",
       "</table>\n",
       "</div>"
      ],
      "text/plain": [
       "   AD vs. MCI  AD vs. 65-85  MCI vs 65-85\n",
       "0        0.03         -0.04         -0.07"
      ]
     },
     "metadata": {},
     "output_type": "display_data"
    },
    {
     "name": "stdout",
     "output_type": "stream",
     "text": [
      "\n",
      "PStress_TScore\n",
      "PStress_TScore : degree of freedom 331\n",
      "F statistic =  1.42 and probability p =  0.24\n"
     ]
    },
    {
     "data": {
      "text/html": [
       "<div>\n",
       "<style scoped>\n",
       "    .dataframe tbody tr th:only-of-type {\n",
       "        vertical-align: middle;\n",
       "    }\n",
       "\n",
       "    .dataframe tbody tr th {\n",
       "        vertical-align: top;\n",
       "    }\n",
       "\n",
       "    .dataframe thead th {\n",
       "        text-align: right;\n",
       "    }\n",
       "</style>\n",
       "<table border=\"1\" class=\"dataframe\">\n",
       "  <thead>\n",
       "    <tr style=\"text-align: right;\">\n",
       "      <th></th>\n",
       "      <th>AD vs. MCI</th>\n",
       "      <th>AD vs. 65-85</th>\n",
       "      <th>MCI vs 65-85</th>\n",
       "    </tr>\n",
       "  </thead>\n",
       "  <tbody>\n",
       "    <tr>\n",
       "      <th>0</th>\n",
       "      <td>-0.11</td>\n",
       "      <td>-0.24</td>\n",
       "      <td>-0.12</td>\n",
       "    </tr>\n",
       "  </tbody>\n",
       "</table>\n",
       "</div>"
      ],
      "text/plain": [
       "   AD vs. MCI  AD vs. 65-85  MCI vs 65-85\n",
       "0       -0.11         -0.24         -0.12"
      ]
     },
     "metadata": {},
     "output_type": "display_data"
    },
    {
     "name": "stdout",
     "output_type": "stream",
     "text": [
      "\n",
      "Sad_TScore\n",
      "Sad_TScore : degree of freedom 331\n",
      "F statistic =  1.93 and probability p =  0.15\n"
     ]
    },
    {
     "data": {
      "text/html": [
       "<div>\n",
       "<style scoped>\n",
       "    .dataframe tbody tr th:only-of-type {\n",
       "        vertical-align: middle;\n",
       "    }\n",
       "\n",
       "    .dataframe tbody tr th {\n",
       "        vertical-align: top;\n",
       "    }\n",
       "\n",
       "    .dataframe thead th {\n",
       "        text-align: right;\n",
       "    }\n",
       "</style>\n",
       "<table border=\"1\" class=\"dataframe\">\n",
       "  <thead>\n",
       "    <tr style=\"text-align: right;\">\n",
       "      <th></th>\n",
       "      <th>AD vs. MCI</th>\n",
       "      <th>AD vs. 65-85</th>\n",
       "      <th>MCI vs 65-85</th>\n",
       "    </tr>\n",
       "  </thead>\n",
       "  <tbody>\n",
       "    <tr>\n",
       "      <th>0</th>\n",
       "      <td>-0.13</td>\n",
       "      <td>-0.27</td>\n",
       "      <td>-0.15</td>\n",
       "    </tr>\n",
       "  </tbody>\n",
       "</table>\n",
       "</div>"
      ],
      "text/plain": [
       "   AD vs. MCI  AD vs. 65-85  MCI vs 65-85\n",
       "0       -0.13         -0.27         -0.15"
      ]
     },
     "metadata": {},
     "output_type": "display_data"
    },
    {
     "name": "stdout",
     "output_type": "stream",
     "text": [
      "\n",
      "SelfEff_TScore\n",
      "SelfEff_TScore : degree of freedom 331\n",
      "F statistic =  4.21 and probability p =  0.02\n",
      "\n"
     ]
    },
    {
     "data": {
      "text/html": [
       "<div>\n",
       "<style scoped>\n",
       "    .dataframe tbody tr th:only-of-type {\n",
       "        vertical-align: middle;\n",
       "    }\n",
       "\n",
       "    .dataframe tbody tr th {\n",
       "        vertical-align: top;\n",
       "    }\n",
       "\n",
       "    .dataframe thead th {\n",
       "        text-align: right;\n",
       "    }\n",
       "</style>\n",
       "<table border=\"1\" class=\"dataframe\">\n",
       "  <thead>\n",
       "    <tr style=\"text-align: right;\">\n",
       "      <th></th>\n",
       "      <th>AD vs. MCI</th>\n",
       "      <th>AD vs. 65-85</th>\n",
       "      <th>MCI vs 65-85</th>\n",
       "    </tr>\n",
       "  </thead>\n",
       "  <tbody>\n",
       "    <tr>\n",
       "      <th>Cohen's d</th>\n",
       "      <td>0.28</td>\n",
       "      <td>0.42</td>\n",
       "      <td>0.13</td>\n",
       "    </tr>\n",
       "    <tr>\n",
       "      <th>T-value diff</th>\n",
       "      <td>2.52</td>\n",
       "      <td>3.61</td>\n",
       "      <td>1.10</td>\n",
       "    </tr>\n",
       "    <tr>\n",
       "      <th>95% CI</th>\n",
       "      <td>[-0.65, 5.68]</td>\n",
       "      <td>[0.68, 6.54]</td>\n",
       "      <td>[-1.47, 3.66]</td>\n",
       "    </tr>\n",
       "    <tr>\n",
       "      <th>Tukey p&lt;0.05</th>\n",
       "      <td>False</td>\n",
       "      <td>True</td>\n",
       "      <td>False</td>\n",
       "    </tr>\n",
       "  </tbody>\n",
       "</table>\n",
       "</div>"
      ],
      "text/plain": [
       "                 AD vs. MCI  AD vs. 65-85   MCI vs 65-85\n",
       "Cohen's d              0.28          0.42           0.13\n",
       "T-value diff           2.52          3.61           1.10\n",
       "95% CI        [-0.65, 5.68]  [0.68, 6.54]  [-1.47, 3.66]\n",
       "Tukey p<0.05          False          True          False"
      ]
     },
     "metadata": {},
     "output_type": "display_data"
    },
    {
     "name": "stdout",
     "output_type": "stream",
     "text": [
      "\n"
     ]
    }
   ],
   "source": [
    "#The one-way ANOVA tests the null hypothesis that 3 genpop groups have the same population mean for emotion vars\n",
    "for col in emotion:\n",
    "    print(col) \n",
    "    anova_one_var(genpop, col)\n"
   ]
  },
  {
   "cell_type": "markdown",
   "metadata": {
    "id": "aaCteT3SnxeC"
   },
   "source": [
    "# Merging uds"
   ]
  },
  {
   "cell_type": "code",
   "execution_count": 66,
   "metadata": {},
   "outputs": [],
   "source": [
    "pain = []\n",
    "for col in armada.columns:\n",
    "    if 'Pain' in col:\n",
    "        pain.append(col)"
   ]
  },
  {
   "cell_type": "code",
   "execution_count": 67,
   "metadata": {
    "id": "SPKdLsF0Rg36"
   },
   "outputs": [],
   "source": [
    "#Data saved in csv/excel\n",
    "import glob, os\n",
    "\n",
    "data_dir= \"C:/Users/tsb7592/Box/ARMADA Operations/Data and Analysis/Mar 2021 UDS data (deidentified)\"\n",
    "os.chdir(data_dir)"
   ]
  },
  {
   "cell_type": "code",
   "execution_count": 68,
   "metadata": {
    "scrolled": true
   },
   "outputs": [
    {
     "data": {
      "text/plain": [
       "(1046, 618)"
      ]
     },
     "execution_count": 68,
     "metadata": {},
     "output_type": "execute_result"
    }
   ],
   "source": [
    "uds= pd.read_csv(\"ARMADA_UDS_MAR21_DI.CSV\")\n",
    "uds.shape"
   ]
  },
  {
   "cell_type": "code",
   "execution_count": null,
   "metadata": {
    "id": "POZdawOEPg5J"
   },
   "outputs": [],
   "source": [
    "#Combine ARMADA with this UDS left join\n",
    "df = pd.merge(armada,uds, how=\"left\", on=['ptid','assmnt'])"
   ]
  },
  {
   "cell_type": "code",
   "execution_count": null,
   "metadata": {},
   "outputs": [],
   "source": [
    "#MEMORY through comport (so total of 9 variables)\n",
    "keep = ['MEMORY', 'ORIENT', 'JUDGMENT', 'COMMUN', 'HOMEHOBB', 'PERSCARE',\n",
    "       'CDRSUM', 'CDRGLOB', 'COMPORT']"
   ]
  },
  {
   "cell_type": "code",
   "execution_count": null,
   "metadata": {},
   "outputs": [],
   "source": [
    "#Only keep the rows with a valid MINDATEDIFF\n",
    "df =df[df.MINDATEDIFF.notnull()]"
   ]
  },
  {
   "cell_type": "code",
   "execution_count": null,
   "metadata": {},
   "outputs": [],
   "source": [
    "genpop = df[df.cohort2.isin(select)]"
   ]
  },
  {
   "cell_type": "markdown",
   "metadata": {},
   "source": [
    "# 1) Count for each variable across all 3 gen pop groups "
   ]
  },
  {
   "cell_type": "code",
   "execution_count": null,
   "metadata": {},
   "outputs": [],
   "source": [
    "counts  = genpop.groupby('cohort2')[keep].count().unstack().reset_index().pivot(index='level_0', columns='cohort2', values=0)"
   ]
  },
  {
   "cell_type": "code",
   "execution_count": null,
   "metadata": {},
   "outputs": [],
   "source": [
    "counts =counts.reindex(keep)[select]\n",
    "print(counts)\n",
    "print(\"\")"
   ]
  },
  {
   "cell_type": "markdown",
   "metadata": {},
   "source": [
    "# 2) ANOVA & Tukey’s Test ('CDRSUM', 'CDRGLOB')"
   ]
  },
  {
   "cell_type": "markdown",
   "metadata": {},
   "source": [
    "https://www.statology.org/tukey-test-python/\n",
    "http://pytolearn.csd.auth.gr/d1-hyptest/12/anova-one.html"
   ]
  },
  {
   "cell_type": "code",
   "execution_count": null,
   "metadata": {},
   "outputs": [],
   "source": [
    "genpop_melt = pd.melt(genpop[keep[6:8]].reset_index(), id_vars=['index'], value_vars=keep[6:8])\n",
    "# replace column namesg\n",
    "genpop_melt.columns = ['index', 'col', 'value']"
   ]
  },
  {
   "cell_type": "code",
   "execution_count": null,
   "metadata": {},
   "outputs": [],
   "source": [
    "genpop_melt=genpop_melt.dropna()"
   ]
  },
  {
   "cell_type": "code",
   "execution_count": null,
   "metadata": {},
   "outputs": [],
   "source": [
    "genpop_melt"
   ]
  },
  {
   "cell_type": "code",
   "execution_count": null,
   "metadata": {},
   "outputs": [],
   "source": [
    "# perform Tukey's test\n",
    "tukey = pairwise_tukeyhsd(endog=genpop_melt['value'],\n",
    "                          groups=genpop_melt['col'],\n",
    "                          alpha=0.05)\n",
    "\n",
    "#display results\n",
    "print(tukey)\n",
    "print('')"
   ]
  },
  {
   "cell_type": "markdown",
   "metadata": {},
   "source": [
    "# 3)  NACCFAM counts per group"
   ]
  },
  {
   "cell_type": "code",
   "execution_count": null,
   "metadata": {},
   "outputs": [],
   "source": [
    "df.NACCFAM.value_counts()"
   ]
  },
  {
   "cell_type": "code",
   "execution_count": null,
   "metadata": {},
   "outputs": [],
   "source": [
    "#Drop the unknown NACCFAM \n",
    "Ncounts  = genpop[genpop.NACCFAM !=9 ].groupby('NACCFAM')['cohort2'].value_counts().unstack()\n",
    "#Ncounts.to_excel('C:/Users/tsb7592/Downloads/NACCFAM.xlsx')"
   ]
  },
  {
   "cell_type": "code",
   "execution_count": null,
   "metadata": {
    "scrolled": true
   },
   "outputs": [],
   "source": [
    "print(Ncounts)"
   ]
  },
  {
   "cell_type": "code",
   "execution_count": null,
   "metadata": {},
   "outputs": [],
   "source": [
    "#Chi square results got from R\n",
    "\n",
    "#Pearson's Chi-squared test\n",
    "print('X-squared = 2.7786, df = 2, p-value = 0.2493')\n",
    "print(\"\")"
   ]
  },
  {
   "cell_type": "markdown",
   "metadata": {},
   "source": [
    "# 4) HYPERT counts per group"
   ]
  },
  {
   "cell_type": "code",
   "execution_count": null,
   "metadata": {},
   "outputs": [],
   "source": [
    "df.HYPERTEN.unique()"
   ]
  },
  {
   "cell_type": "code",
   "execution_count": null,
   "metadata": {},
   "outputs": [],
   "source": [
    "df.HYPERCHO.value_counts()"
   ]
  },
  {
   "cell_type": "code",
   "execution_count": null,
   "metadata": {},
   "outputs": [],
   "source": [
    "h1=genpop[(genpop.HYPERTEN != 9 )&(genpop.HYPERTEN !=-4)].groupby('HYPERTEN')['cohort2'].value_counts().unstack().fillna(0)\n",
    "print(h1)"
   ]
  },
  {
   "cell_type": "code",
   "execution_count": null,
   "metadata": {},
   "outputs": [],
   "source": [
    "#Pearson's Chi-squared test\n",
    "\n",
    "print(\"X-squared = 10.077, df = 4, p-value = 0.03916\")\n",
    "print(\"\")"
   ]
  },
  {
   "cell_type": "code",
   "execution_count": null,
   "metadata": {},
   "outputs": [],
   "source": [
    "h2=genpop[(genpop.HYPERCHO != 9 )&(genpop.HYPERCHO !=-4)].groupby('HYPERCHO')['cohort2'].value_counts().unstack().fillna(0)\n",
    "print(h2)"
   ]
  },
  {
   "cell_type": "code",
   "execution_count": null,
   "metadata": {},
   "outputs": [],
   "source": [
    "#Pearson's Chi-squared test\n",
    "\n",
    "#data:  h2\n",
    "print(\"X-squared = 4.9095, df = 4, p-value = 0.2967\")\n"
   ]
  },
  {
   "cell_type": "markdown",
   "metadata": {},
   "source": [
    "# Armada Pain\n",
    "For each of the four Odor variables:\n",
    "Compare them by cohort (so there should be nine in total)"
   ]
  },
  {
   "cell_type": "code",
   "execution_count": null,
   "metadata": {},
   "outputs": [],
   "source": [
    "Odor =[]\n",
    "for val in armada.columns:\n",
    "    if 'Odor' in val:\n",
    "        Odor.append(val)\n",
    "    if 'Pain' in val:\n",
    "        print(val)"
   ]
  },
  {
   "cell_type": "code",
   "execution_count": null,
   "metadata": {},
   "outputs": [],
   "source": [
    "armada.cohort2.unique()"
   ]
  },
  {
   "cell_type": "code",
   "execution_count": null,
   "metadata": {},
   "outputs": [],
   "source": [
    "odor = armada.groupby('cohort2')[Odor].count().unstack().reset_index().pivot(index='level_0', columns='cohort2', values=0)\n",
    "odor"
   ]
  },
  {
   "cell_type": "markdown",
   "metadata": {},
   "source": [
    "# Histogram (9)\n",
    "Boxplot (nine boxplots)\n",
    "Table with Ns, Min, Median, Mean, Max, and SD\n",
    "One row for all data\n",
    "Nine rows for each of the cohorts\n",
    "Table of 10 x 6"
   ]
  },
  {
   "cell_type": "code",
   "execution_count": null,
   "metadata": {},
   "outputs": [],
   "source": [
    "#Data saved in csv/excel\n",
    "import glob, os\n",
    "\n",
    "data_dir= \"C:/Users/tsb7592/Box/ARMADA Operations/Data and Analysis\"\n",
    "os.chdir(data_dir)"
   ]
  },
  {
   "cell_type": "code",
   "execution_count": null,
   "metadata": {},
   "outputs": [],
   "source": [
    "Odor"
   ]
  },
  {
   "cell_type": "code",
   "execution_count": null,
   "metadata": {},
   "outputs": [],
   "source": [
    "import matplotlib.pyplot as plt\n",
    "import seaborn as sns\n",
    "\n",
    "for var in Odor:\n",
    "    sns.set() \n",
    "    plt.figure(figsize=(8, 6))\n",
    "    g = sns.FacetGrid(armada, col=\"cohort2\" ,hue=\"cohort2\",size=4, aspect=1,col_wrap=3)\n",
    "    g.fig.suptitle(var)\n",
    "    g.map(sns.histplot, var)\n",
    "    plt.savefig(str(var)+'_hist.png')"
   ]
  },
  {
   "cell_type": "code",
   "execution_count": null,
   "metadata": {},
   "outputs": [],
   "source": [
    " \n",
    "for var in Odor:\n",
    "    g = sns.factorplot('cohort2', var,  data=armada, kind=\"box\",size=4, aspect=2)\n",
    "    g.fig.suptitle(var)\n",
    "    \n",
    "    for axes in g.axes.flat:\n",
    "        _ = axes.set_xticklabels(axes.get_xticklabels(), rotation=30, horizontalalignment='right')\n",
    "    \n",
    "    plt.savefig(str(var)+'_boxplot.png',bbox_inches='tight')"
   ]
  },
  {
   "cell_type": "code",
   "execution_count": null,
   "metadata": {},
   "outputs": [],
   "source": [
    "amelt = pd.melt(armada.reset_index(), id_vars=['index', 'cohort2'], value_vars=Odor)\n",
    "# replace column namesg\n",
    "amelt.columns = ['index','cohort2', 'col', 'value']"
   ]
  },
  {
   "cell_type": "code",
   "execution_count": null,
   "metadata": {},
   "outputs": [],
   "source": [
    "amelt = amelt.dropna()"
   ]
  },
  {
   "cell_type": "code",
   "execution_count": null,
   "metadata": {},
   "outputs": [],
   "source": [
    "ALL =amelt.groupby('cohort2')['value'].describe().iloc[:,[1,2]].round(2)"
   ]
  },
  {
   "cell_type": "code",
   "execution_count": null,
   "metadata": {
    "scrolled": true
   },
   "outputs": [],
   "source": [
    "ALL"
   ]
  },
  {
   "cell_type": "code",
   "execution_count": null,
   "metadata": {},
   "outputs": [],
   "source": [
    "# Create a Pandas Excel writer using XlsxWriter as the engine.\n",
    "writer = pd.ExcelWriter('C:/Users/tsb7592/Box/ARMADA Operations/Data and Analysis/odor_tables.xlsx', engine='xlsxwriter')\n",
    "\n",
    "# Write each dataframe to a different worksheet.\n",
    "odor.to_excel(writer, sheet_name='by_cohort')\n",
    "\n",
    "for var in Odor:\n",
    "    ta =armada.groupby('cohort2')[var].describe().unstack().reset_index().pivot(index='level_0', columns='cohort2', values=0)\n",
    "    ta= ta.iloc[[3,6,1,5,7,4],:].round(2)\n",
    "    ta.index =['N', 'min', 'median', 'mean', 'std', 'max']\n",
    "    ta.to_excel(writer, sheet_name=var)\n",
    "    display(ta)\n",
    "\n",
    "ALL.to_excel(writer, sheet_name='all')   \n",
    "# Close the Pandas Excel writer and output the Excel file.\n",
    "writer.save()"
   ]
  },
  {
   "cell_type": "code",
   "execution_count": null,
   "metadata": {},
   "outputs": [],
   "source": []
  },
  {
   "cell_type": "code",
   "execution_count": null,
   "metadata": {},
   "outputs": [],
   "source": []
  }
 ],
 "metadata": {
  "colab": {
   "authorship_tag": "ABX9TyOjJC/8uEK6GS7o05/Lerxy",
   "collapsed_sections": [],
   "include_colab_link": true,
   "name": "Classification of MCI.ipynb",
   "provenance": []
  },
  "kernelspec": {
   "display_name": "Python 3",
   "language": "python",
   "name": "python3"
  },
  "language_info": {
   "codemirror_mode": {
    "name": "ipython",
    "version": 3
   },
   "file_extension": ".py",
   "mimetype": "text/x-python",
   "name": "python",
   "nbconvert_exporter": "python",
   "pygments_lexer": "ipython3",
   "version": "3.8.8"
  }
 },
 "nbformat": 4,
 "nbformat_minor": 1
}
