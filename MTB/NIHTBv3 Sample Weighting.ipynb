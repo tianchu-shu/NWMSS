{
 "cells": [
  {
   "cell_type": "code",
   "execution_count": 146,
   "id": "7d8e89f7",
   "metadata": {},
   "outputs": [],
   "source": [
    "#Data saved in csv/excel\n",
    "import glob, os\n",
    "import pandas as pd\n",
    "import warnings\n",
    "warnings.filterwarnings('ignore')"
   ]
  },
  {
   "cell_type": "code",
   "execution_count": 147,
   "id": "fbb7a019",
   "metadata": {},
   "outputs": [],
   "source": [
    "#Set two decimal points for display\n",
    "pd.options.display.float_format = \"{:.4f}\".format"
   ]
  },
  {
   "cell_type": "code",
   "execution_count": 148,
   "id": "b3c1c7ab",
   "metadata": {},
   "outputs": [
    {
     "name": "stdout",
     "output_type": "stream",
     "text": [
      "(3904, 77)\n"
     ]
    }
   ],
   "source": [
    "raw = pd.read_csv('C:\\\\Users\\\\tsb7592\\\\Downloads\\\\ForJulyWeighting\\\\NIHTBv3_demos.csv')\n",
    "print(raw.shape)"
   ]
  },
  {
   "cell_type": "code",
   "execution_count": 149,
   "id": "d92b2f1f",
   "metadata": {},
   "outputs": [],
   "source": [
    "raw['hispanic'].fillna(1, inplace=True)"
   ]
  },
  {
   "cell_type": "markdown",
   "id": "5e2fa3fd",
   "metadata": {},
   "source": [
    "# Recode Parental Education and Self Education"
   ]
  },
  {
   "cell_type": "code",
   "execution_count": 150,
   "id": "7a286113",
   "metadata": {},
   "outputs": [],
   "source": [
    "parental_edu={1:\"less than high school graduate\", 2:\"high school graduate\", 3:\"some college\",\n",
    "4:\"four year or higher degree\", 5:'four year or higher degree' }\n",
    "\n",
    "self_edu={1:\"less than high school graduate\", 2:\"high school graduate\", 3:\"some college\",\n",
    "4:\"Bachelors/4-year degree\", 5:'Advanced Degree'}"
   ]
  },
  {
   "cell_type": "code",
   "execution_count": 151,
   "id": "04e8fbb0",
   "metadata": {},
   "outputs": [],
   "source": [
    "df1=raw[raw.age< 18].replace({\"highestEdu\": parental_edu})"
   ]
  },
  {
   "cell_type": "code",
   "execution_count": 152,
   "id": "214da3f8",
   "metadata": {},
   "outputs": [
    {
     "data": {
      "text/plain": [
       "(2248, 77)"
      ]
     },
     "execution_count": 152,
     "metadata": {},
     "output_type": "execute_result"
    }
   ],
   "source": [
    "df1.shape"
   ]
  },
  {
   "cell_type": "code",
   "execution_count": 153,
   "id": "1952f541",
   "metadata": {},
   "outputs": [
    {
     "data": {
      "text/plain": [
       "four year or higher degree        907\n",
       "some college                      721\n",
       "high school graduate              561\n",
       "less than high school graduate     58\n",
       "Name: highestEdu, dtype: int64"
      ]
     },
     "execution_count": 153,
     "metadata": {},
     "output_type": "execute_result"
    }
   ],
   "source": [
    "df1['highestEdu'].value_counts()"
   ]
  },
  {
   "cell_type": "code",
   "execution_count": 154,
   "id": "3d59bcfc",
   "metadata": {},
   "outputs": [],
   "source": [
    "df1['highestEdu'].fillna('four year or higher degree', inplace=True)"
   ]
  },
  {
   "cell_type": "code",
   "execution_count": 155,
   "id": "95c2933c",
   "metadata": {},
   "outputs": [],
   "source": [
    "#Recode Edu to norming value\n",
    "df2= raw[raw.age>=18]['highestEdu'].map(self_edu)"
   ]
  },
  {
   "cell_type": "code",
   "execution_count": 156,
   "id": "74a60769",
   "metadata": {},
   "outputs": [],
   "source": [
    "edulabel =df1['highestEdu'].append(df2)"
   ]
  },
  {
   "cell_type": "code",
   "execution_count": 157,
   "id": "6cc20f6e",
   "metadata": {},
   "outputs": [],
   "source": [
    "raw=raw.drop(columns=['highestEdu'])"
   ]
  },
  {
   "cell_type": "code",
   "execution_count": 158,
   "id": "68c6e195",
   "metadata": {
    "scrolled": false
   },
   "outputs": [],
   "source": [
    "df =pd.merge(raw,edulabel,left_index=True, right_index=True)"
   ]
  },
  {
   "cell_type": "code",
   "execution_count": 159,
   "id": "eff99c25",
   "metadata": {},
   "outputs": [
    {
     "data": {
      "text/plain": [
       "(3904, 77)"
      ]
     },
     "execution_count": 159,
     "metadata": {},
     "output_type": "execute_result"
    }
   ],
   "source": [
    "df.shape"
   ]
  },
  {
   "cell_type": "code",
   "execution_count": 160,
   "id": "f54930dd",
   "metadata": {},
   "outputs": [
    {
     "data": {
      "text/plain": [
       "3    1436\n",
       "4     940\n",
       "2     866\n",
       "1     662\n",
       "Name: region, dtype: int64"
      ]
     },
     "execution_count": 160,
     "metadata": {},
     "output_type": "execute_result"
    }
   ],
   "source": [
    "df.region.value_counts()"
   ]
  },
  {
   "cell_type": "code",
   "execution_count": 161,
   "id": "ec9c1388",
   "metadata": {},
   "outputs": [],
   "source": [
    "keep =['FinalPIN','region', 'age','sex', 'highestEdu', 'hispanic', 'race_AmericanIndian', 'race_Asian',\n",
    "       'race_Black', 'race_MiddleEast', 'race_Hawaiian',\n",
    "       'race_OtherPacificIsl', 'race_White', 'race_unknwnNoAns']"
   ]
  },
  {
   "cell_type": "code",
   "execution_count": 162,
   "id": "40760843",
   "metadata": {},
   "outputs": [],
   "source": [
    "df=df[keep]"
   ]
  },
  {
   "cell_type": "code",
   "execution_count": 163,
   "id": "50c49ad4",
   "metadata": {},
   "outputs": [
    {
     "data": {
      "text/html": [
       "<div>\n",
       "<style scoped>\n",
       "    .dataframe tbody tr th:only-of-type {\n",
       "        vertical-align: middle;\n",
       "    }\n",
       "\n",
       "    .dataframe tbody tr th {\n",
       "        vertical-align: top;\n",
       "    }\n",
       "\n",
       "    .dataframe thead th {\n",
       "        text-align: right;\n",
       "    }\n",
       "</style>\n",
       "<table border=\"1\" class=\"dataframe\">\n",
       "  <thead>\n",
       "    <tr style=\"text-align: right;\">\n",
       "      <th></th>\n",
       "      <th>FinalPIN</th>\n",
       "      <th>region</th>\n",
       "      <th>age</th>\n",
       "      <th>sex</th>\n",
       "      <th>highestEdu</th>\n",
       "      <th>hispanic</th>\n",
       "      <th>race_AmericanIndian</th>\n",
       "      <th>race_Asian</th>\n",
       "      <th>race_Black</th>\n",
       "      <th>race_MiddleEast</th>\n",
       "      <th>race_Hawaiian</th>\n",
       "      <th>race_OtherPacificIsl</th>\n",
       "      <th>race_White</th>\n",
       "      <th>race_unknwnNoAns</th>\n",
       "    </tr>\n",
       "  </thead>\n",
       "  <tbody>\n",
       "  </tbody>\n",
       "</table>\n",
       "</div>"
      ],
      "text/plain": [
       "Empty DataFrame\n",
       "Columns: [FinalPIN, region, age, sex, highestEdu, hispanic, race_AmericanIndian, race_Asian, race_Black, race_MiddleEast, race_Hawaiian, race_OtherPacificIsl, race_White, race_unknwnNoAns]\n",
       "Index: []"
      ]
     },
     "execution_count": 163,
     "metadata": {},
     "output_type": "execute_result"
    }
   ],
   "source": [
    "df[df.isna().any(axis=1)]"
   ]
  },
  {
   "cell_type": "markdown",
   "id": "df1e812d",
   "metadata": {},
   "source": [
    "# Label race/ethnicity"
   ]
  },
  {
   "cell_type": "code",
   "execution_count": 165,
   "id": "554f6044",
   "metadata": {},
   "outputs": [
    {
     "data": {
      "text/plain": [
       "(3904, 14)"
      ]
     },
     "execution_count": 165,
     "metadata": {},
     "output_type": "execute_result"
    }
   ],
   "source": [
    "df.shape"
   ]
  },
  {
   "cell_type": "code",
   "execution_count": 166,
   "id": "5c1335ab",
   "metadata": {},
   "outputs": [],
   "source": [
    "def label_race (row):\n",
    "    #hispanic field does not equal 0 or 1\n",
    "    if row['hispanic'] > 1 :\n",
    "        return 'Hispanic'\n",
    "    \n",
    "    #hispanic=0 or 1, race_White=1 and/or race_MiddleEast=1, all other fields with prefix `race_` =0)\n",
    "    elif row['race_White'] + row['race_MiddleEast'] >= 1 and row['race_AmericanIndian'] + row['race_Asian'] +row['race_Black'] + row['race_Hawaiian']+ row['race_OtherPacificIsl'] +row['race_unknwnNoAns']==0:\n",
    "        return 'White'\n",
    "    \n",
    "    #race_Black=1, all other fields with prefix `race_` =0\n",
    "    elif row['race_Black'] ==1  and row['race_White'] + row['race_MiddleEast'] + row['race_AmericanIndian'] + row['race_Asian'] + row['race_Hawaiian']+ row['race_OtherPacificIsl'] +row['race_unknwnNoAns']==0:\n",
    "        return 'Black'\n",
    "    \n",
    "    #race_Asian=1, all other fields with prefix `race_` =0\n",
    "    elif  row['race_Asian'] ==1  and row['race_White'] + row['race_MiddleEast'] + row['race_AmericanIndian'] + row['race_Black'] + row['race_Hawaiian']+ row['race_OtherPacificIsl'] +row['race_unknwnNoAns']==0:\n",
    "        return 'AsianAmerican'\n",
    "    \n",
    "    else:\n",
    "        return 'Other'    \n"
   ]
  },
  {
   "cell_type": "code",
   "execution_count": 167,
   "id": "280880b3",
   "metadata": {},
   "outputs": [],
   "source": [
    "df['Race/ethnicity'] =df.apply (lambda row: label_race(row), axis=1)"
   ]
  },
  {
   "cell_type": "code",
   "execution_count": 168,
   "id": "5cedec88",
   "metadata": {},
   "outputs": [
    {
     "data": {
      "text/plain": [
       "White            2163\n",
       "Hispanic          800\n",
       "Black             579\n",
       "AsianAmerican     193\n",
       "Other             169\n",
       "Name: Race/ethnicity, dtype: int64"
      ]
     },
     "execution_count": 168,
     "metadata": {},
     "output_type": "execute_result"
    }
   ],
   "source": [
    "df['Race/ethnicity'].value_counts()"
   ]
  },
  {
   "cell_type": "markdown",
   "id": "664b4da7",
   "metadata": {},
   "source": [
    "# Recode Region– Race/Ethnicity\n",
    "there should be 20 race/ethnicity-by-region categories all together"
   ]
  },
  {
   "cell_type": "code",
   "execution_count": 169,
   "id": "1af7ceb2",
   "metadata": {},
   "outputs": [],
   "source": [
    "df['region-race'] = df.region.map(str) + \"-\" + df['Race/ethnicity']"
   ]
  },
  {
   "cell_type": "code",
   "execution_count": 170,
   "id": "1af0e045",
   "metadata": {},
   "outputs": [
    {
     "data": {
      "text/plain": [
       "array(['2-White', '2-Other', '2-Black', '2-Hispanic', '1-White',\n",
       "       '2-AsianAmerican', '1-Black', '1-Hispanic', '1-Other',\n",
       "       '1-AsianAmerican', '3-White', '3-Hispanic', '3-Black', '3-Other',\n",
       "       '3-AsianAmerican', '4-Hispanic', '4-Black', '4-Other', '4-White',\n",
       "       '4-AsianAmerican'], dtype=object)"
      ]
     },
     "execution_count": 170,
     "metadata": {},
     "output_type": "execute_result"
    }
   ],
   "source": [
    "df['region-race'].unique()"
   ]
  },
  {
   "cell_type": "code",
   "execution_count": 171,
   "id": "db79d252",
   "metadata": {},
   "outputs": [
    {
     "data": {
      "text/html": [
       "<div>\n",
       "<style scoped>\n",
       "    .dataframe tbody tr th:only-of-type {\n",
       "        vertical-align: middle;\n",
       "    }\n",
       "\n",
       "    .dataframe tbody tr th {\n",
       "        vertical-align: top;\n",
       "    }\n",
       "\n",
       "    .dataframe thead th {\n",
       "        text-align: right;\n",
       "    }\n",
       "</style>\n",
       "<table border=\"1\" class=\"dataframe\">\n",
       "  <thead>\n",
       "    <tr style=\"text-align: right;\">\n",
       "      <th></th>\n",
       "      <th>FinalPIN</th>\n",
       "      <th>region</th>\n",
       "      <th>age</th>\n",
       "      <th>sex</th>\n",
       "      <th>highestEdu</th>\n",
       "      <th>hispanic</th>\n",
       "      <th>race_AmericanIndian</th>\n",
       "      <th>race_Asian</th>\n",
       "      <th>race_Black</th>\n",
       "      <th>race_MiddleEast</th>\n",
       "      <th>race_Hawaiian</th>\n",
       "      <th>race_OtherPacificIsl</th>\n",
       "      <th>race_White</th>\n",
       "      <th>race_unknwnNoAns</th>\n",
       "      <th>Race/ethnicity</th>\n",
       "      <th>region-race</th>\n",
       "    </tr>\n",
       "  </thead>\n",
       "  <tbody>\n",
       "    <tr>\n",
       "      <th>0</th>\n",
       "      <td>MAP03001</td>\n",
       "      <td>2</td>\n",
       "      <td>3</td>\n",
       "      <td>2</td>\n",
       "      <td>high school graduate</td>\n",
       "      <td>1.0000</td>\n",
       "      <td>0</td>\n",
       "      <td>0</td>\n",
       "      <td>0</td>\n",
       "      <td>0</td>\n",
       "      <td>0</td>\n",
       "      <td>0</td>\n",
       "      <td>1</td>\n",
       "      <td>0</td>\n",
       "      <td>White</td>\n",
       "      <td>2-White</td>\n",
       "    </tr>\n",
       "    <tr>\n",
       "      <th>1</th>\n",
       "      <td>MAP03002</td>\n",
       "      <td>2</td>\n",
       "      <td>3</td>\n",
       "      <td>1</td>\n",
       "      <td>some college</td>\n",
       "      <td>1.0000</td>\n",
       "      <td>0</td>\n",
       "      <td>0</td>\n",
       "      <td>0</td>\n",
       "      <td>0</td>\n",
       "      <td>0</td>\n",
       "      <td>0</td>\n",
       "      <td>1</td>\n",
       "      <td>0</td>\n",
       "      <td>White</td>\n",
       "      <td>2-White</td>\n",
       "    </tr>\n",
       "    <tr>\n",
       "      <th>2</th>\n",
       "      <td>MAP03003</td>\n",
       "      <td>2</td>\n",
       "      <td>3</td>\n",
       "      <td>2</td>\n",
       "      <td>some college</td>\n",
       "      <td>1.0000</td>\n",
       "      <td>0</td>\n",
       "      <td>0</td>\n",
       "      <td>0</td>\n",
       "      <td>0</td>\n",
       "      <td>0</td>\n",
       "      <td>0</td>\n",
       "      <td>1</td>\n",
       "      <td>0</td>\n",
       "      <td>White</td>\n",
       "      <td>2-White</td>\n",
       "    </tr>\n",
       "    <tr>\n",
       "      <th>3</th>\n",
       "      <td>MAP03004</td>\n",
       "      <td>2</td>\n",
       "      <td>3</td>\n",
       "      <td>2</td>\n",
       "      <td>some college</td>\n",
       "      <td>1.0000</td>\n",
       "      <td>0</td>\n",
       "      <td>0</td>\n",
       "      <td>0</td>\n",
       "      <td>0</td>\n",
       "      <td>0</td>\n",
       "      <td>0</td>\n",
       "      <td>1</td>\n",
       "      <td>0</td>\n",
       "      <td>White</td>\n",
       "      <td>2-White</td>\n",
       "    </tr>\n",
       "    <tr>\n",
       "      <th>4</th>\n",
       "      <td>MAP03005</td>\n",
       "      <td>2</td>\n",
       "      <td>3</td>\n",
       "      <td>2</td>\n",
       "      <td>high school graduate</td>\n",
       "      <td>1.0000</td>\n",
       "      <td>0</td>\n",
       "      <td>0</td>\n",
       "      <td>0</td>\n",
       "      <td>0</td>\n",
       "      <td>0</td>\n",
       "      <td>0</td>\n",
       "      <td>1</td>\n",
       "      <td>0</td>\n",
       "      <td>White</td>\n",
       "      <td>2-White</td>\n",
       "    </tr>\n",
       "  </tbody>\n",
       "</table>\n",
       "</div>"
      ],
      "text/plain": [
       "   FinalPIN  region  age  sex            highestEdu  hispanic  \\\n",
       "0  MAP03001       2    3    2  high school graduate    1.0000   \n",
       "1  MAP03002       2    3    1          some college    1.0000   \n",
       "2  MAP03003       2    3    2          some college    1.0000   \n",
       "3  MAP03004       2    3    2          some college    1.0000   \n",
       "4  MAP03005       2    3    2  high school graduate    1.0000   \n",
       "\n",
       "   race_AmericanIndian  race_Asian  race_Black  race_MiddleEast  \\\n",
       "0                    0           0           0                0   \n",
       "1                    0           0           0                0   \n",
       "2                    0           0           0                0   \n",
       "3                    0           0           0                0   \n",
       "4                    0           0           0                0   \n",
       "\n",
       "   race_Hawaiian  race_OtherPacificIsl  race_White  race_unknwnNoAns  \\\n",
       "0              0                     0           1                 0   \n",
       "1              0                     0           1                 0   \n",
       "2              0                     0           1                 0   \n",
       "3              0                     0           1                 0   \n",
       "4              0                     0           1                 0   \n",
       "\n",
       "  Race/ethnicity region-race  \n",
       "0          White     2-White  \n",
       "1          White     2-White  \n",
       "2          White     2-White  \n",
       "3          White     2-White  \n",
       "4          White     2-White  "
      ]
     },
     "execution_count": 171,
     "metadata": {},
     "output_type": "execute_result"
    }
   ],
   "source": [
    "df.head()"
   ]
  },
  {
   "cell_type": "code",
   "execution_count": 172,
   "id": "718998ee",
   "metadata": {},
   "outputs": [],
   "source": [
    "def crosstab(df):\n",
    "    a =df.groupby(['region','Race/ethnicity'])['age'].count().reset_index()\n",
    "    a.columns=['region','Race/ethnicity','count']\n",
    "    aa =a.pivot_table(values=['count'], index=['region'], columns=['Race/ethnicity'])\n",
    "    aa=aa.fillna(0)\n",
    "    aa.loc['Total',:]= aa.sum(axis=0)\n",
    "    aa[\"sum\"] = aa.sum(axis=1)\n",
    "    \n",
    "    return aa"
   ]
  },
  {
   "cell_type": "code",
   "execution_count": 173,
   "id": "2b6ef8e8",
   "metadata": {},
   "outputs": [
    {
     "data": {
      "text/html": [
       "<div>\n",
       "<style scoped>\n",
       "    .dataframe tbody tr th:only-of-type {\n",
       "        vertical-align: middle;\n",
       "    }\n",
       "\n",
       "    .dataframe tbody tr th {\n",
       "        vertical-align: top;\n",
       "    }\n",
       "\n",
       "    .dataframe thead tr th {\n",
       "        text-align: left;\n",
       "    }\n",
       "\n",
       "    .dataframe thead tr:last-of-type th {\n",
       "        text-align: right;\n",
       "    }\n",
       "</style>\n",
       "<table border=\"1\" class=\"dataframe\">\n",
       "  <thead>\n",
       "    <tr>\n",
       "      <th></th>\n",
       "      <th colspan=\"5\" halign=\"left\">count</th>\n",
       "      <th>sum</th>\n",
       "    </tr>\n",
       "    <tr>\n",
       "      <th>Race/ethnicity</th>\n",
       "      <th>AsianAmerican</th>\n",
       "      <th>Black</th>\n",
       "      <th>Hispanic</th>\n",
       "      <th>Other</th>\n",
       "      <th>White</th>\n",
       "      <th></th>\n",
       "    </tr>\n",
       "    <tr>\n",
       "      <th>region</th>\n",
       "      <th></th>\n",
       "      <th></th>\n",
       "      <th></th>\n",
       "      <th></th>\n",
       "      <th></th>\n",
       "      <th></th>\n",
       "    </tr>\n",
       "  </thead>\n",
       "  <tbody>\n",
       "    <tr>\n",
       "      <th>1</th>\n",
       "      <td>37.0000</td>\n",
       "      <td>89.0000</td>\n",
       "      <td>103.0000</td>\n",
       "      <td>21.0000</td>\n",
       "      <td>412.0000</td>\n",
       "      <td>662.0000</td>\n",
       "    </tr>\n",
       "    <tr>\n",
       "      <th>2</th>\n",
       "      <td>21.0000</td>\n",
       "      <td>110.0000</td>\n",
       "      <td>76.0000</td>\n",
       "      <td>31.0000</td>\n",
       "      <td>628.0000</td>\n",
       "      <td>866.0000</td>\n",
       "    </tr>\n",
       "    <tr>\n",
       "      <th>3</th>\n",
       "      <td>58.0000</td>\n",
       "      <td>329.0000</td>\n",
       "      <td>272.0000</td>\n",
       "      <td>67.0000</td>\n",
       "      <td>710.0000</td>\n",
       "      <td>1436.0000</td>\n",
       "    </tr>\n",
       "    <tr>\n",
       "      <th>4</th>\n",
       "      <td>77.0000</td>\n",
       "      <td>51.0000</td>\n",
       "      <td>349.0000</td>\n",
       "      <td>50.0000</td>\n",
       "      <td>413.0000</td>\n",
       "      <td>940.0000</td>\n",
       "    </tr>\n",
       "    <tr>\n",
       "      <th>Total</th>\n",
       "      <td>193.0000</td>\n",
       "      <td>579.0000</td>\n",
       "      <td>800.0000</td>\n",
       "      <td>169.0000</td>\n",
       "      <td>2163.0000</td>\n",
       "      <td>3904.0000</td>\n",
       "    </tr>\n",
       "  </tbody>\n",
       "</table>\n",
       "</div>"
      ],
      "text/plain": [
       "                       count                                            sum\n",
       "Race/ethnicity AsianAmerican    Black Hispanic    Other     White          \n",
       "region                                                                     \n",
       "1                    37.0000  89.0000 103.0000  21.0000  412.0000  662.0000\n",
       "2                    21.0000 110.0000  76.0000  31.0000  628.0000  866.0000\n",
       "3                    58.0000 329.0000 272.0000  67.0000  710.0000 1436.0000\n",
       "4                    77.0000  51.0000 349.0000  50.0000  413.0000  940.0000\n",
       "Total               193.0000 579.0000 800.0000 169.0000 2163.0000 3904.0000"
      ]
     },
     "execution_count": 173,
     "metadata": {},
     "output_type": "execute_result"
    }
   ],
   "source": [
    "dfr =crosstab(df)\n",
    "dfr"
   ]
  },
  {
   "cell_type": "markdown",
   "id": "3844cdf1",
   "metadata": {},
   "source": [
    "# Recode Sex assigned at birth\n",
    "there should be 8 sex-by-region categories all together"
   ]
  },
  {
   "cell_type": "code",
   "execution_count": 174,
   "id": "9804f561",
   "metadata": {},
   "outputs": [],
   "source": [
    "df[\"sex\"].replace({1:'Male', 2:'Female'}, inplace=True)"
   ]
  },
  {
   "cell_type": "code",
   "execution_count": 175,
   "id": "97df84d1",
   "metadata": {},
   "outputs": [],
   "source": [
    "df['region-sex'] = df.region.map(str) + \"-\" + df['sex']"
   ]
  },
  {
   "cell_type": "code",
   "execution_count": 176,
   "id": "9e417d87",
   "metadata": {},
   "outputs": [
    {
     "data": {
      "text/plain": [
       "array(['2-Female', '2-Male', '1-Female', '1-Male', '3-Male', '3-Female',\n",
       "       '4-Male', '4-Female'], dtype=object)"
      ]
     },
     "execution_count": 176,
     "metadata": {},
     "output_type": "execute_result"
    }
   ],
   "source": [
    "df['region-sex'].unique()"
   ]
  },
  {
   "cell_type": "markdown",
   "id": "e7357e51",
   "metadata": {},
   "source": [
    "# Split Age into 4 subests:ages 3-17, ages 18-24, ages 25-59, and ages 60+"
   ]
  },
  {
   "cell_type": "code",
   "execution_count": 177,
   "id": "04ffe648",
   "metadata": {},
   "outputs": [
    {
     "data": {
      "text/plain": [
       "(3904, 17)"
      ]
     },
     "execution_count": 177,
     "metadata": {},
     "output_type": "execute_result"
    }
   ],
   "source": [
    "df.shape"
   ]
  },
  {
   "cell_type": "code",
   "execution_count": 178,
   "id": "c7e2f71c",
   "metadata": {},
   "outputs": [],
   "source": [
    "bins= [0,18,25,60, 200]\n",
    "labels = ['Child','YoungAdult','MiddleAdult','OlderAdult']\n",
    "df['age'] = pd.to_numeric(df['age'])\n",
    "df['agegroup'] = pd.cut(df['age'], bins=bins, labels=labels, right=False)"
   ]
  },
  {
   "cell_type": "code",
   "execution_count": 179,
   "id": "e2a57f8c",
   "metadata": {},
   "outputs": [
    {
     "data": {
      "text/plain": [
       "four year or higher degree        908\n",
       "some college                      721\n",
       "high school graduate              561\n",
       "less than high school graduate     58\n",
       "Name: highestEdu, dtype: int64"
      ]
     },
     "execution_count": 179,
     "metadata": {},
     "output_type": "execute_result"
    }
   ],
   "source": [
    "Child= df[df['agegroup']=='Child']\n",
    "Child.highestEdu.value_counts()"
   ]
  },
  {
   "cell_type": "code",
   "execution_count": 180,
   "id": "24f8c349",
   "metadata": {},
   "outputs": [
    {
     "data": {
      "text/plain": [
       "(2248, 18)"
      ]
     },
     "execution_count": 180,
     "metadata": {},
     "output_type": "execute_result"
    }
   ],
   "source": [
    "Child.shape"
   ]
  },
  {
   "cell_type": "code",
   "execution_count": 181,
   "id": "560f2000",
   "metadata": {},
   "outputs": [
    {
     "data": {
      "text/plain": [
       "\"\\n# Create a Pandas Excel writer using XlsxWriter as the engine.\\nwriter = pd.ExcelWriter('C:/Users/tsb7592/Downloads/NIHTB_counts_July.xlsx', engine='xlsxwriter')\\n\\n# Write each dataframe to a different worksheet.\\naa.to_excel(writer, sheet_name='adults')\\nkk.to_excel(writer, sheet_name='kids')  \\nad['highestEd'].value_counts().to_excel(writer, sheet_name='ad_edu') \\nkd['highestEd'].value_counts().to_excel(writer, sheet_name='kids_edu') \\n# Close the Pandas Excel writer and output the Excel file.\\nwriter.save()\\n\""
      ]
     },
     "execution_count": 181,
     "metadata": {},
     "output_type": "execute_result"
    }
   ],
   "source": [
    "'''\n",
    "# Create a Pandas Excel writer using XlsxWriter as the engine.\n",
    "writer = pd.ExcelWriter('C:/Users/tsb7592/Downloads/NIHTB_counts_July.xlsx', engine='xlsxwriter')\n",
    "\n",
    "# Write each dataframe to a different worksheet.\n",
    "aa.to_excel(writer, sheet_name='adults')\n",
    "kk.to_excel(writer, sheet_name='kids')  \n",
    "ad['highestEd'].value_counts().to_excel(writer, sheet_name='ad_edu') \n",
    "kd['highestEd'].value_counts().to_excel(writer, sheet_name='kids_edu') \n",
    "# Close the Pandas Excel writer and output the Excel file.\n",
    "writer.save()\n",
    "'''"
   ]
  },
  {
   "cell_type": "markdown",
   "id": "6a9739d0",
   "metadata": {},
   "source": [
    "# Save for R code"
   ]
  },
  {
   "cell_type": "code",
   "execution_count": 182,
   "id": "bc3b46d9",
   "metadata": {},
   "outputs": [],
   "source": [
    "final =['FinalPIN','region', 'age', 'sex', 'highestEdu','region-race','region-sex','agegroup']"
   ]
  },
  {
   "cell_type": "code",
   "execution_count": 183,
   "id": "bfa82721",
   "metadata": {},
   "outputs": [
    {
     "data": {
      "text/html": [
       "<div>\n",
       "<style scoped>\n",
       "    .dataframe tbody tr th:only-of-type {\n",
       "        vertical-align: middle;\n",
       "    }\n",
       "\n",
       "    .dataframe tbody tr th {\n",
       "        vertical-align: top;\n",
       "    }\n",
       "\n",
       "    .dataframe thead th {\n",
       "        text-align: right;\n",
       "    }\n",
       "</style>\n",
       "<table border=\"1\" class=\"dataframe\">\n",
       "  <thead>\n",
       "    <tr style=\"text-align: right;\">\n",
       "      <th></th>\n",
       "      <th>FinalPIN</th>\n",
       "      <th>region</th>\n",
       "      <th>age</th>\n",
       "      <th>sex</th>\n",
       "      <th>highestEdu</th>\n",
       "      <th>region-race</th>\n",
       "      <th>region-sex</th>\n",
       "      <th>agegroup</th>\n",
       "    </tr>\n",
       "  </thead>\n",
       "  <tbody>\n",
       "    <tr>\n",
       "      <th>3899</th>\n",
       "      <td>MSL04001</td>\n",
       "      <td>2</td>\n",
       "      <td>4</td>\n",
       "      <td>Male</td>\n",
       "      <td>less than high school graduate</td>\n",
       "      <td>2-White</td>\n",
       "      <td>2-Male</td>\n",
       "      <td>Child</td>\n",
       "    </tr>\n",
       "    <tr>\n",
       "      <th>3900</th>\n",
       "      <td>MSL11012</td>\n",
       "      <td>2</td>\n",
       "      <td>11</td>\n",
       "      <td>Male</td>\n",
       "      <td>less than high school graduate</td>\n",
       "      <td>2-Black</td>\n",
       "      <td>2-Male</td>\n",
       "      <td>Child</td>\n",
       "    </tr>\n",
       "    <tr>\n",
       "      <th>3901</th>\n",
       "      <td>MSL12001</td>\n",
       "      <td>2</td>\n",
       "      <td>12</td>\n",
       "      <td>Female</td>\n",
       "      <td>less than high school graduate</td>\n",
       "      <td>2-Black</td>\n",
       "      <td>2-Female</td>\n",
       "      <td>Child</td>\n",
       "    </tr>\n",
       "    <tr>\n",
       "      <th>3902</th>\n",
       "      <td>MSL09013</td>\n",
       "      <td>2</td>\n",
       "      <td>9</td>\n",
       "      <td>Male</td>\n",
       "      <td>less than high school graduate</td>\n",
       "      <td>2-White</td>\n",
       "      <td>2-Male</td>\n",
       "      <td>Child</td>\n",
       "    </tr>\n",
       "    <tr>\n",
       "      <th>3903</th>\n",
       "      <td>MSL70106</td>\n",
       "      <td>2</td>\n",
       "      <td>74</td>\n",
       "      <td>Male</td>\n",
       "      <td>Bachelors/4-year degree</td>\n",
       "      <td>2-White</td>\n",
       "      <td>2-Male</td>\n",
       "      <td>OlderAdult</td>\n",
       "    </tr>\n",
       "  </tbody>\n",
       "</table>\n",
       "</div>"
      ],
      "text/plain": [
       "      FinalPIN  region  age     sex                      highestEdu  \\\n",
       "3899  MSL04001       2    4    Male  less than high school graduate   \n",
       "3900  MSL11012       2   11    Male  less than high school graduate   \n",
       "3901  MSL12001       2   12  Female  less than high school graduate   \n",
       "3902  MSL09013       2    9    Male  less than high school graduate   \n",
       "3903  MSL70106       2   74    Male         Bachelors/4-year degree   \n",
       "\n",
       "     region-race region-sex    agegroup  \n",
       "3899     2-White     2-Male       Child  \n",
       "3900     2-Black     2-Male       Child  \n",
       "3901     2-Black   2-Female       Child  \n",
       "3902     2-White     2-Male       Child  \n",
       "3903     2-White     2-Male  OlderAdult  "
      ]
     },
     "execution_count": 183,
     "metadata": {},
     "output_type": "execute_result"
    }
   ],
   "source": [
    "df[final].tail()"
   ]
  },
  {
   "cell_type": "code",
   "execution_count": 184,
   "id": "09abe1c9",
   "metadata": {},
   "outputs": [
    {
     "data": {
      "text/plain": [
       "agegroup\n",
       "Child          20\n",
       "YoungAdult     20\n",
       "MiddleAdult    19\n",
       "OlderAdult     18\n",
       "Name: region-race, dtype: int64"
      ]
     },
     "execution_count": 184,
     "metadata": {},
     "output_type": "execute_result"
    }
   ],
   "source": [
    "df.groupby('agegroup')['region-race'].nunique()"
   ]
  },
  {
   "cell_type": "code",
   "execution_count": 185,
   "id": "856043d2",
   "metadata": {},
   "outputs": [
    {
     "data": {
      "text/plain": [
       "array(['2-White', '2-Black', '2-Other', '2-Hispanic', '2-AsianAmerican',\n",
       "       '1-Black', '1-AsianAmerican', '1-Hispanic', '1-White', '3-White',\n",
       "       '3-Hispanic', '3-AsianAmerican', '3-Black', '3-Other', '4-Black',\n",
       "       '4-Hispanic', '4-White', '4-AsianAmerican', '4-Other'],\n",
       "      dtype=object)"
      ]
     },
     "execution_count": 185,
     "metadata": {},
     "output_type": "execute_result"
    }
   ],
   "source": [
    "df[df.agegroup=='MiddleAdult']['region-race'].unique()"
   ]
  },
  {
   "cell_type": "code",
   "execution_count": 186,
   "id": "97b09854",
   "metadata": {},
   "outputs": [
    {
     "data": {
      "text/plain": [
       "array(['2-White', '2-Hispanic', '2-Black', '2-AsianAmerican', '1-White',\n",
       "       '1-Black', '1-Hispanic', '1-AsianAmerican', '3-White', '3-Black',\n",
       "       '3-Other', '3-AsianAmerican', '3-Hispanic', '4-Black', '4-White',\n",
       "       '4-Hispanic', '4-AsianAmerican', '4-Other'], dtype=object)"
      ]
     },
     "execution_count": 186,
     "metadata": {},
     "output_type": "execute_result"
    }
   ],
   "source": [
    "df[df.agegroup=='OlderAdult']['region-race'].unique()"
   ]
  },
  {
   "cell_type": "code",
   "execution_count": 187,
   "id": "822e4507",
   "metadata": {},
   "outputs": [],
   "source": [
    "df[final].to_csv('C:/Users/tsb7592/Downloads/NIHTB_demoFinal_July.csv', index=False)"
   ]
  },
  {
   "cell_type": "markdown",
   "id": "91aed9cd",
   "metadata": {},
   "source": [
    "# Validate (After running the Rcode)"
   ]
  },
  {
   "cell_type": "code",
   "execution_count": 239,
   "id": "bd1332e8",
   "metadata": {},
   "outputs": [],
   "source": [
    "pedu={'less_HS_prop':\"less than high school graduate\", 'HS_GED_prop':\"high school graduate\", 'SomeCollege_prop':\"some college\",\n",
    "'BA_more_prop':'four year or higher degree' }\n",
    "\n",
    "sedu={'LessHS_prop':\"less than high school graduate\", 'HSgrad_prop':\"high school graduate\", 'College_prop':\"some college\",\n",
    "'Bachelors_prop':\"Bachelors/4-year degree\", 'Advanced_prop':'Advanced Degree'}"
   ]
  },
  {
   "cell_type": "code",
   "execution_count": 240,
   "id": "0222b923",
   "metadata": {},
   "outputs": [],
   "source": [
    "#Read the output files from R code\n",
    "child = pd.read_csv('C:/Users/tsb7592/Downloads/child_weights.csv')\n",
    "yadult = pd.read_csv('C:/Users/tsb7592/Downloads/youngadults_weights.csv')\n",
    "madult = pd.read_csv('C:/Users/tsb7592/Downloads/middleadults_weights.csv')\n",
    "oadult = pd.read_csv('C:/Users/tsb7592/Downloads/olderadults_weights.csv')"
   ]
  },
  {
   "cell_type": "code",
   "execution_count": 220,
   "id": "3b84e133",
   "metadata": {},
   "outputs": [],
   "source": [
    "rv = child.append(yadult)\n",
    "rv = rv.append(madult)\n",
    "rv= rv.append(oadult)"
   ]
  },
  {
   "cell_type": "code",
   "execution_count": 221,
   "id": "44816f0e",
   "metadata": {
    "scrolled": true
   },
   "outputs": [],
   "source": [
    "rv.to_csv('C:/Users/tsb7592/Downloads/all_weights.csv', index= False)"
   ]
  },
  {
   "cell_type": "code",
   "execution_count": 264,
   "id": "3d683ed2",
   "metadata": {},
   "outputs": [
    {
     "data": {
      "text/plain": [
       "<AxesSubplot:ylabel='Frequency'>"
      ]
     },
     "execution_count": 264,
     "metadata": {},
     "output_type": "execute_result"
    },
    {
     "data": {
      "image/png": "[encoded data removed]",
      "text/plain": [
       "<Figure size 432x288 with 1 Axes>"
      ]
     },
     "metadata": {
      "needs_background": "light"
     },
     "output_type": "display_data"
    }
   ],
   "source": [
    "child[['weights4','weights10']].plot.hist(bins=16, alpha=0.5)"
   ]
  },
  {
   "cell_type": "code",
   "execution_count": 260,
   "id": "d475a573",
   "metadata": {},
   "outputs": [
    {
     "data": {
      "text/plain": [
       "array([[<AxesSubplot:title={'center':'weights10'}>,\n",
       "        <AxesSubplot:title={'center':'weights4'}>]], dtype=object)"
      ]
     },
     "execution_count": 260,
     "metadata": {},
     "output_type": "execute_result"
    },
    {
     "data": {
      "image/png": "[encoded data removed]",
      "text/plain": [
       "<Figure size 864x576 with 2 Axes>"
      ]
     },
     "metadata": {
      "needs_background": "light"
     },
     "output_type": "display_data"
    }
   ],
   "source": [
    "child.hist(column=['weights10','weights4'], bins=16, grid=False, figsize=(12,8), color='#e24a33', zorder=2, rwidth=0.9)"
   ]
  },
  {
   "cell_type": "code",
   "execution_count": 255,
   "id": "c960181e",
   "metadata": {},
   "outputs": [],
   "source": [
    "import matplotlib.pyplot as plt\n",
    "\n",
    "def histogram(df, label, col):\n",
    "    # 16 = 4 * (1/.0.25)\n",
    "    if col =='weights10':\n",
    "        ax = df.hist(column='weights10', bins=16, grid=False, figsize=(12,8), color='#e24a33', zorder=2, rwidth=0.9)\n",
    "    else:\n",
    "        ax = df.hist(column='weights4', bins=16, grid=False, figsize=(12,8), color='#86bf91', zorder=2, rwidth=0.9)\n",
    "        \n",
    "    ax = ax[0]\n",
    "    for x in ax:\n",
    "\n",
    "        # Despine\n",
    "        x.spines['right'].set_visible(False)\n",
    "        x.spines['top'].set_visible(False)\n",
    "        x.spines['left'].set_visible(False)\n",
    "\n",
    "        # Switch off ticks\n",
    "        x.tick_params(axis=\"both\", which=\"both\", bottom=\"off\", top=\"off\", labelbottom=\"on\", left=\"off\", right=\"off\", labelleft=\"on\")\n",
    "\n",
    "        # Draw horizontal axis lines\n",
    "        vals = x.get_yticks()\n",
    "        for tick in vals:\n",
    "            x.axhline(y=tick, linestyle='dashed', alpha=0.4, color='#eeeeee', zorder=1)\n",
    "\n",
    "        # Remove title\n",
    "        x.set_title(label + col)\n",
    "\n",
    "        # Set x-axis label\n",
    "        x.set_xlabel(\"Weights\", labelpad=20, weight='bold', size=12)\n",
    "\n",
    "        # Set y-axis label\n",
    "        x.set_ylabel(\"Count\", labelpad=20, weight='bold', size=12)\n",
    "\n",
    "\n",
    "\n"
   ]
  },
  {
   "cell_type": "code",
   "execution_count": 256,
   "id": "b9f99bde",
   "metadata": {},
   "outputs": [
    {
     "data": {
      "image/png": "[encoded data removed]",
      "text/plain": [
       "<Figure size 864x576 with 1 Axes>"
      ]
     },
     "metadata": {
      "needs_background": "light"
     },
     "output_type": "display_data"
    }
   ],
   "source": [
    "histogram(child, 'Child','weights10')"
   ]
  },
  {
   "cell_type": "code",
   "execution_count": 257,
   "id": "8e4b913e",
   "metadata": {},
   "outputs": [
    {
     "data": {
      "image/png": "[encoded data removed]",
      "text/plain": [
       "<Figure size 864x576 with 1 Axes>"
      ]
     },
     "metadata": {
      "needs_background": "light"
     },
     "output_type": "display_data"
    }
   ],
   "source": [
    "histogram(yadult, 'Young Adults','weights10')"
   ]
  },
  {
   "cell_type": "code",
   "execution_count": 258,
   "id": "343b8dba",
   "metadata": {},
   "outputs": [
    {
     "data": {
      "image/png": "[encoded data removed]",
      "text/plain": [
       "<Figure size 864x576 with 1 Axes>"
      ]
     },
     "metadata": {
      "needs_background": "light"
     },
     "output_type": "display_data"
    }
   ],
   "source": [
    "histogram(madult, 'Middle Adults','weights10')"
   ]
  },
  {
   "cell_type": "code",
   "execution_count": 259,
   "id": "36be96b9",
   "metadata": {},
   "outputs": [
    {
     "data": {
      "image/png": "[encoded data removed]",
      "text/plain": [
       "<Figure size 864x576 with 1 Axes>"
      ]
     },
     "metadata": {
      "needs_background": "light"
     },
     "output_type": "display_data"
    }
   ],
   "source": [
    "histogram(oadult, 'Older Adults','weights10')"
   ]
  },
  {
   "cell_type": "code",
   "execution_count": 265,
   "id": "3bcea732",
   "metadata": {},
   "outputs": [
    {
     "data": {
      "image/png": "[encoded data removed]",
      "text/plain": [
       "<Figure size 864x576 with 1 Axes>"
      ]
     },
     "metadata": {
      "needs_background": "light"
     },
     "output_type": "display_data"
    }
   ],
   "source": [
    "histogram(child, 'Child','weights4')"
   ]
  },
  {
   "cell_type": "code",
   "execution_count": 268,
   "id": "1e49a979",
   "metadata": {},
   "outputs": [
    {
     "data": {
      "image/png": "[encoded data removed]",
      "text/plain": [
       "<Figure size 864x576 with 1 Axes>"
      ]
     },
     "metadata": {
      "needs_background": "light"
     },
     "output_type": "display_data"
    }
   ],
   "source": [
    "histogram(yadult, 'Young Adults','weights4')"
   ]
  },
  {
   "cell_type": "code",
   "execution_count": 267,
   "id": "ba8813c9",
   "metadata": {},
   "outputs": [
    {
     "data": {
      "image/png": "[encoded data removed]",
      "text/plain": [
       "<Figure size 864x576 with 1 Axes>"
      ]
     },
     "metadata": {
      "needs_background": "light"
     },
     "output_type": "display_data"
    }
   ],
   "source": [
    "histogram(madult, 'Middle Adults','weights4')"
   ]
  },
  {
   "cell_type": "code",
   "execution_count": 266,
   "id": "cbba5bba",
   "metadata": {},
   "outputs": [
    {
     "data": {
      "image/png": "[encoded data removed]",
      "text/plain": [
       "<Figure size 864x576 with 1 Axes>"
      ]
     },
     "metadata": {
      "needs_background": "light"
     },
     "output_type": "display_data"
    }
   ],
   "source": [
    "histogram(oadult, 'Older Adults','weights4')"
   ]
  },
  {
   "cell_type": "code",
   "execution_count": 241,
   "id": "e651f381",
   "metadata": {},
   "outputs": [],
   "source": [
    "tar = pd.read_csv('C:\\\\Users\\\\tsb7592\\\\Downloads\\\\ForJulyWeighting\\\\ChildTargets.csv')\n",
    "ytar = pd.read_csv('C:\\\\Users\\\\tsb7592\\\\Downloads\\\\ForJulyWeighting\\\\YoungAdultTargets.csv')\n",
    "mtar = pd.read_csv('C:\\\\Users\\\\tsb7592\\\\Downloads\\\\ForJulyWeighting\\\\MiddleAdultTargets.csv')\n",
    "otar = pd.read_csv('C:\\\\Users\\\\tsb7592\\\\Downloads\\\\ForJulyWeighting\\\\OlderAdultTargets.csv')"
   ]
  },
  {
   "cell_type": "code",
   "execution_count": 243,
   "id": "943fcc6f",
   "metadata": {},
   "outputs": [],
   "source": [
    "import numpy as np\n",
    "\n",
    "def obtained_weighted(data, target, edu):\n",
    "    '''\n",
    "    Fill the obtained N for race, sex and edu\n",
    "    Use the raw counts to fill in the “unweighted_N” \n",
    "    \n",
    "    '''\n",
    "    total = data.shape[0]\n",
    "    target = target.replace({\"Target\": edu})\n",
    "    \n",
    "    target['name'] = target.REGION.map(str) + \"-\" + target['Target']\n",
    "    rr = data.groupby('region.race')['FinalPIN'].count().reset_index()\n",
    "    rs = data.groupby('region.sex')['FinalPIN'].count().reset_index()\n",
    "    re = data.groupby('highestEdu')['FinalPIN'].count().reset_index()\n",
    "    \n",
    "    comb = pd.merge(target, rr, left_on='name', right_on='region.race', how='left')\n",
    "    comb['Obtained_N'].fillna(comb['FinalPIN'],inplace=True)\n",
    "    \n",
    "    comb = pd.merge(comb, rs, left_on='name', right_on='region.sex', how='left')\n",
    "    comb['Obtained_N'].fillna(comb['FinalPIN_y'],inplace=True)\n",
    "    \n",
    "    comb = pd.merge(comb, re, left_on='Target', right_on='highestEdu', how='left')\n",
    "    comb['Obtained_N'].fillna(comb['FinalPIN'],inplace=True)\n",
    "    \n",
    "    comb['Unweighted_Proportion' ] = comb['Obtained_N']/total\n",
    "    #display(target)\n",
    "    #“unweighted_proportion” is the unweighted_N divided by the sum of the unweighted_n grouped-by characteristic. \n",
    "    rr = data.groupby('region.race')['weights4'].sum().reset_index()\n",
    "    rs = data.groupby('region.sex')['weights4'].sum().reset_index()\n",
    "    re = data.groupby('highestEdu')['weights4'].sum().reset_index()\n",
    "    \n",
    "    comb = pd.merge(comb, rr, left_on='name', right_on='region.race', how='left')\n",
    "    comb['Weighted_Proportion'].fillna(comb['weights4'],inplace=True)\n",
    "    \n",
    "    comb = pd.merge(comb, rs, left_on='name', right_on='region.sex', how='left')\n",
    "    comb['Weighted_Proportion'].fillna(comb['weights4_y'],inplace=True)\n",
    "    \n",
    "    comb = pd.merge(comb, re, left_on='Target', right_on='highestEdu', how='left')\n",
    "    comb['Weighted_Proportion'].fillna(comb['weights4'],inplace=True)    \n",
    "    \n",
    "    comb['Weighted_Proportion' ] =comb['Weighted_Proportion' ] /total\n",
    "    \n",
    "    \n",
    "    comb['Unweighted_Difference'] = comb['Unweighted_Proportion'] - comb['Proportion']\n",
    "    comb['Weighted_Difference'] = comb['Weighted_Proportion'] - comb['Proportion']\n",
    "    return comb.iloc[:,:10]"
   ]
  },
  {
   "cell_type": "code",
   "execution_count": 244,
   "id": "107f1df1",
   "metadata": {
    "scrolled": true
   },
   "outputs": [
    {
     "data": {
      "text/html": [
       "<div>\n",
       "<style scoped>\n",
       "    .dataframe tbody tr th:only-of-type {\n",
       "        vertical-align: middle;\n",
       "    }\n",
       "\n",
       "    .dataframe tbody tr th {\n",
       "        vertical-align: top;\n",
       "    }\n",
       "\n",
       "    .dataframe thead th {\n",
       "        text-align: right;\n",
       "    }\n",
       "</style>\n",
       "<table border=\"1\" class=\"dataframe\">\n",
       "  <thead>\n",
       "    <tr style=\"text-align: right;\">\n",
       "      <th></th>\n",
       "      <th>ageCat</th>\n",
       "      <th>REGION</th>\n",
       "      <th>Characteristic</th>\n",
       "      <th>Target</th>\n",
       "      <th>Proportion</th>\n",
       "      <th>Obtained_N</th>\n",
       "      <th>Unweighted_Proportion</th>\n",
       "      <th>Weighted_Proportion</th>\n",
       "      <th>Unweighted_Difference</th>\n",
       "      <th>Weighted_Difference</th>\n",
       "    </tr>\n",
       "  </thead>\n",
       "  <tbody>\n",
       "    <tr>\n",
       "      <th>27</th>\n",
       "      <td>1</td>\n",
       "      <td>4</td>\n",
       "      <td>SEX</td>\n",
       "      <td>Male</td>\n",
       "      <td>0.1235</td>\n",
       "      <td>271.0000</td>\n",
       "      <td>0.1206</td>\n",
       "      <td>0.1235</td>\n",
       "      <td>-0.0029</td>\n",
       "      <td>-0.0000</td>\n",
       "    </tr>\n",
       "    <tr>\n",
       "      <th>28</th>\n",
       "      <td>1</td>\n",
       "      <td>0</td>\n",
       "      <td>ParentalEd</td>\n",
       "      <td>less than high school graduate</td>\n",
       "      <td>0.0895</td>\n",
       "      <td>58.0000</td>\n",
       "      <td>0.0258</td>\n",
       "      <td>0.0895</td>\n",
       "      <td>-0.0637</td>\n",
       "      <td>0.0000</td>\n",
       "    </tr>\n",
       "    <tr>\n",
       "      <th>29</th>\n",
       "      <td>1</td>\n",
       "      <td>0</td>\n",
       "      <td>ParentalEd</td>\n",
       "      <td>high school graduate</td>\n",
       "      <td>0.2418</td>\n",
       "      <td>561.0000</td>\n",
       "      <td>0.2496</td>\n",
       "      <td>0.2418</td>\n",
       "      <td>0.0078</td>\n",
       "      <td>0.0000</td>\n",
       "    </tr>\n",
       "    <tr>\n",
       "      <th>30</th>\n",
       "      <td>1</td>\n",
       "      <td>0</td>\n",
       "      <td>ParentalEd</td>\n",
       "      <td>some college</td>\n",
       "      <td>0.2506</td>\n",
       "      <td>721.0000</td>\n",
       "      <td>0.3207</td>\n",
       "      <td>0.2506</td>\n",
       "      <td>0.0701</td>\n",
       "      <td>-0.0000</td>\n",
       "    </tr>\n",
       "    <tr>\n",
       "      <th>31</th>\n",
       "      <td>1</td>\n",
       "      <td>0</td>\n",
       "      <td>ParentalEd</td>\n",
       "      <td>four year or higher degree</td>\n",
       "      <td>0.4181</td>\n",
       "      <td>908.0000</td>\n",
       "      <td>0.4039</td>\n",
       "      <td>0.4181</td>\n",
       "      <td>-0.0142</td>\n",
       "      <td>0.0000</td>\n",
       "    </tr>\n",
       "  </tbody>\n",
       "</table>\n",
       "</div>"
      ],
      "text/plain": [
       "    ageCat  REGION Characteristic                          Target  Proportion  \\\n",
       "27       1       4            SEX                            Male      0.1235   \n",
       "28       1       0     ParentalEd  less than high school graduate      0.0895   \n",
       "29       1       0     ParentalEd            high school graduate      0.2418   \n",
       "30       1       0     ParentalEd                    some college      0.2506   \n",
       "31       1       0     ParentalEd      four year or higher degree      0.4181   \n",
       "\n",
       "    Obtained_N  Unweighted_Proportion  Weighted_Proportion  \\\n",
       "27    271.0000                 0.1206               0.1235   \n",
       "28     58.0000                 0.0258               0.0895   \n",
       "29    561.0000                 0.2496               0.2418   \n",
       "30    721.0000                 0.3207               0.2506   \n",
       "31    908.0000                 0.4039               0.4181   \n",
       "\n",
       "    Unweighted_Difference  Weighted_Difference  \n",
       "27                -0.0029              -0.0000  \n",
       "28                -0.0637               0.0000  \n",
       "29                 0.0078               0.0000  \n",
       "30                 0.0701              -0.0000  \n",
       "31                -0.0142               0.0000  "
      ]
     },
     "execution_count": 244,
     "metadata": {},
     "output_type": "execute_result"
    }
   ],
   "source": [
    "ctar =obtained_weighted(child, tar, pedu)\n",
    "ctar.tail()"
   ]
  },
  {
   "cell_type": "code",
   "execution_count": 245,
   "id": "fe71b09c",
   "metadata": {},
   "outputs": [
    {
     "data": {
      "text/html": [
       "<div>\n",
       "<style scoped>\n",
       "    .dataframe tbody tr th:only-of-type {\n",
       "        vertical-align: middle;\n",
       "    }\n",
       "\n",
       "    .dataframe tbody tr th {\n",
       "        vertical-align: top;\n",
       "    }\n",
       "\n",
       "    .dataframe thead th {\n",
       "        text-align: right;\n",
       "    }\n",
       "</style>\n",
       "<table border=\"1\" class=\"dataframe\">\n",
       "  <thead>\n",
       "    <tr style=\"text-align: right;\">\n",
       "      <th></th>\n",
       "      <th>ageCat</th>\n",
       "      <th>REGION</th>\n",
       "      <th>Characteristic</th>\n",
       "      <th>Target</th>\n",
       "      <th>Proportion</th>\n",
       "      <th>Obtained_N</th>\n",
       "      <th>Unweighted_Proportion</th>\n",
       "      <th>Weighted_Proportion</th>\n",
       "      <th>Unweighted_Difference</th>\n",
       "      <th>Weighted_Difference</th>\n",
       "    </tr>\n",
       "  </thead>\n",
       "  <tbody>\n",
       "    <tr>\n",
       "      <th>28</th>\n",
       "      <td>2</td>\n",
       "      <td>0</td>\n",
       "      <td>SelfEd</td>\n",
       "      <td>less than high school graduate</td>\n",
       "      <td>0.1485</td>\n",
       "      <td>9.0000</td>\n",
       "      <td>0.0189</td>\n",
       "      <td>0.0755</td>\n",
       "      <td>-0.1296</td>\n",
       "      <td>-0.0730</td>\n",
       "    </tr>\n",
       "    <tr>\n",
       "      <th>29</th>\n",
       "      <td>2</td>\n",
       "      <td>0</td>\n",
       "      <td>SelfEd</td>\n",
       "      <td>high school graduate</td>\n",
       "      <td>0.3188</td>\n",
       "      <td>221.0000</td>\n",
       "      <td>0.4633</td>\n",
       "      <td>0.3461</td>\n",
       "      <td>0.1445</td>\n",
       "      <td>0.0273</td>\n",
       "    </tr>\n",
       "    <tr>\n",
       "      <th>30</th>\n",
       "      <td>2</td>\n",
       "      <td>0</td>\n",
       "      <td>SelfEd</td>\n",
       "      <td>some college</td>\n",
       "      <td>0.4042</td>\n",
       "      <td>224.0000</td>\n",
       "      <td>0.4696</td>\n",
       "      <td>0.4389</td>\n",
       "      <td>0.0654</td>\n",
       "      <td>0.0347</td>\n",
       "    </tr>\n",
       "    <tr>\n",
       "      <th>31</th>\n",
       "      <td>2</td>\n",
       "      <td>0</td>\n",
       "      <td>SelfEd</td>\n",
       "      <td>Bachelors/4-year degree</td>\n",
       "      <td>0.1197</td>\n",
       "      <td>19.0000</td>\n",
       "      <td>0.0398</td>\n",
       "      <td>0.1300</td>\n",
       "      <td>-0.0799</td>\n",
       "      <td>0.0103</td>\n",
       "    </tr>\n",
       "    <tr>\n",
       "      <th>32</th>\n",
       "      <td>2</td>\n",
       "      <td>0</td>\n",
       "      <td>SelfEd</td>\n",
       "      <td>Advanced Degree</td>\n",
       "      <td>0.0088</td>\n",
       "      <td>4.0000</td>\n",
       "      <td>0.0084</td>\n",
       "      <td>0.0096</td>\n",
       "      <td>-0.0004</td>\n",
       "      <td>0.0008</td>\n",
       "    </tr>\n",
       "  </tbody>\n",
       "</table>\n",
       "</div>"
      ],
      "text/plain": [
       "    ageCat  REGION Characteristic                          Target  Proportion  \\\n",
       "28       2       0         SelfEd  less than high school graduate      0.1485   \n",
       "29       2       0         SelfEd            high school graduate      0.3188   \n",
       "30       2       0         SelfEd                    some college      0.4042   \n",
       "31       2       0         SelfEd         Bachelors/4-year degree      0.1197   \n",
       "32       2       0         SelfEd                 Advanced Degree      0.0088   \n",
       "\n",
       "    Obtained_N  Unweighted_Proportion  Weighted_Proportion  \\\n",
       "28      9.0000                 0.0189               0.0755   \n",
       "29    221.0000                 0.4633               0.3461   \n",
       "30    224.0000                 0.4696               0.4389   \n",
       "31     19.0000                 0.0398               0.1300   \n",
       "32      4.0000                 0.0084               0.0096   \n",
       "\n",
       "    Unweighted_Difference  Weighted_Difference  \n",
       "28                -0.1296              -0.0730  \n",
       "29                 0.1445               0.0273  \n",
       "30                 0.0654               0.0347  \n",
       "31                -0.0799               0.0103  \n",
       "32                -0.0004               0.0008  "
      ]
     },
     "execution_count": 245,
     "metadata": {},
     "output_type": "execute_result"
    }
   ],
   "source": [
    "ytar =obtained_weighted(yadult, ytar, sedu)\n",
    "ytar.tail()"
   ]
  },
  {
   "cell_type": "code",
   "execution_count": 246,
   "id": "41f20043",
   "metadata": {},
   "outputs": [
    {
     "data": {
      "text/html": [
       "<div>\n",
       "<style scoped>\n",
       "    .dataframe tbody tr th:only-of-type {\n",
       "        vertical-align: middle;\n",
       "    }\n",
       "\n",
       "    .dataframe tbody tr th {\n",
       "        vertical-align: top;\n",
       "    }\n",
       "\n",
       "    .dataframe thead th {\n",
       "        text-align: right;\n",
       "    }\n",
       "</style>\n",
       "<table border=\"1\" class=\"dataframe\">\n",
       "  <thead>\n",
       "    <tr style=\"text-align: right;\">\n",
       "      <th></th>\n",
       "      <th>ageCat</th>\n",
       "      <th>REGION</th>\n",
       "      <th>Characteristic</th>\n",
       "      <th>Target</th>\n",
       "      <th>Proportion</th>\n",
       "      <th>Obtained_N</th>\n",
       "      <th>Unweighted_Proportion</th>\n",
       "      <th>Weighted_Proportion</th>\n",
       "      <th>Unweighted_Difference</th>\n",
       "      <th>Weighted_Difference</th>\n",
       "    </tr>\n",
       "  </thead>\n",
       "  <tbody>\n",
       "    <tr>\n",
       "      <th>25</th>\n",
       "      <td>3</td>\n",
       "      <td>0</td>\n",
       "      <td>SelfEd</td>\n",
       "      <td>less than high school graduate</td>\n",
       "      <td>0.0815</td>\n",
       "      <td>15.0000</td>\n",
       "      <td>0.0243</td>\n",
       "      <td>0.0815</td>\n",
       "      <td>-0.0572</td>\n",
       "      <td>0.0000</td>\n",
       "    </tr>\n",
       "    <tr>\n",
       "      <th>26</th>\n",
       "      <td>3</td>\n",
       "      <td>0</td>\n",
       "      <td>SelfEd</td>\n",
       "      <td>high school graduate</td>\n",
       "      <td>0.2610</td>\n",
       "      <td>170.0000</td>\n",
       "      <td>0.2751</td>\n",
       "      <td>0.2610</td>\n",
       "      <td>0.0141</td>\n",
       "      <td>0.0000</td>\n",
       "    </tr>\n",
       "    <tr>\n",
       "      <th>27</th>\n",
       "      <td>3</td>\n",
       "      <td>0</td>\n",
       "      <td>SelfEd</td>\n",
       "      <td>some college</td>\n",
       "      <td>0.2532</td>\n",
       "      <td>191.0000</td>\n",
       "      <td>0.3091</td>\n",
       "      <td>0.2532</td>\n",
       "      <td>0.0559</td>\n",
       "      <td>0.0000</td>\n",
       "    </tr>\n",
       "    <tr>\n",
       "      <th>28</th>\n",
       "      <td>3</td>\n",
       "      <td>0</td>\n",
       "      <td>SelfEd</td>\n",
       "      <td>Bachelors/4-year degree</td>\n",
       "      <td>0.2576</td>\n",
       "      <td>159.0000</td>\n",
       "      <td>0.2573</td>\n",
       "      <td>0.2576</td>\n",
       "      <td>-0.0003</td>\n",
       "      <td>-0.0000</td>\n",
       "    </tr>\n",
       "    <tr>\n",
       "      <th>29</th>\n",
       "      <td>3</td>\n",
       "      <td>0</td>\n",
       "      <td>SelfEd</td>\n",
       "      <td>Advanced Degree</td>\n",
       "      <td>0.1467</td>\n",
       "      <td>83.0000</td>\n",
       "      <td>0.1343</td>\n",
       "      <td>0.1467</td>\n",
       "      <td>-0.0124</td>\n",
       "      <td>-0.0000</td>\n",
       "    </tr>\n",
       "  </tbody>\n",
       "</table>\n",
       "</div>"
      ],
      "text/plain": [
       "    ageCat REGION Characteristic                          Target  Proportion  \\\n",
       "25       3      0         SelfEd  less than high school graduate      0.0815   \n",
       "26       3      0         SelfEd            high school graduate      0.2610   \n",
       "27       3      0         SelfEd                    some college      0.2532   \n",
       "28       3      0         SelfEd         Bachelors/4-year degree      0.2576   \n",
       "29       3      0         SelfEd                 Advanced Degree      0.1467   \n",
       "\n",
       "    Obtained_N  Unweighted_Proportion  Weighted_Proportion  \\\n",
       "25     15.0000                 0.0243               0.0815   \n",
       "26    170.0000                 0.2751               0.2610   \n",
       "27    191.0000                 0.3091               0.2532   \n",
       "28    159.0000                 0.2573               0.2576   \n",
       "29     83.0000                 0.1343               0.1467   \n",
       "\n",
       "    Unweighted_Difference  Weighted_Difference  \n",
       "25                -0.0572               0.0000  \n",
       "26                 0.0141               0.0000  \n",
       "27                 0.0559               0.0000  \n",
       "28                -0.0003              -0.0000  \n",
       "29                -0.0124              -0.0000  "
      ]
     },
     "execution_count": 246,
     "metadata": {},
     "output_type": "execute_result"
    }
   ],
   "source": [
    "mtar =obtained_weighted(madult, mtar, sedu)\n",
    "mtar.tail()"
   ]
  },
  {
   "cell_type": "code",
   "execution_count": 248,
   "id": "7ea425eb",
   "metadata": {},
   "outputs": [
    {
     "data": {
      "text/html": [
       "<div>\n",
       "<style scoped>\n",
       "    .dataframe tbody tr th:only-of-type {\n",
       "        vertical-align: middle;\n",
       "    }\n",
       "\n",
       "    .dataframe tbody tr th {\n",
       "        vertical-align: top;\n",
       "    }\n",
       "\n",
       "    .dataframe thead th {\n",
       "        text-align: right;\n",
       "    }\n",
       "</style>\n",
       "<table border=\"1\" class=\"dataframe\">\n",
       "  <thead>\n",
       "    <tr style=\"text-align: right;\">\n",
       "      <th></th>\n",
       "      <th>ageCat</th>\n",
       "      <th>REGION</th>\n",
       "      <th>Characteristic</th>\n",
       "      <th>Target</th>\n",
       "      <th>Proportion</th>\n",
       "      <th>Obtained_N</th>\n",
       "      <th>Unweighted_Proportion</th>\n",
       "      <th>Weighted_Proportion</th>\n",
       "      <th>Unweighted_Difference</th>\n",
       "      <th>Weighted_Difference</th>\n",
       "    </tr>\n",
       "  </thead>\n",
       "  <tbody>\n",
       "    <tr>\n",
       "      <th>25</th>\n",
       "      <td>4</td>\n",
       "      <td>0</td>\n",
       "      <td>SelfEd</td>\n",
       "      <td>less than high school graduate</td>\n",
       "      <td>0.1043</td>\n",
       "      <td>7.0000</td>\n",
       "      <td>0.0125</td>\n",
       "      <td>0.0499</td>\n",
       "      <td>-0.0918</td>\n",
       "      <td>-0.0544</td>\n",
       "    </tr>\n",
       "    <tr>\n",
       "      <th>26</th>\n",
       "      <td>4</td>\n",
       "      <td>0</td>\n",
       "      <td>SelfEd</td>\n",
       "      <td>high school graduate</td>\n",
       "      <td>0.3121</td>\n",
       "      <td>182.0000</td>\n",
       "      <td>0.3244</td>\n",
       "      <td>0.3490</td>\n",
       "      <td>0.0123</td>\n",
       "      <td>0.0369</td>\n",
       "    </tr>\n",
       "    <tr>\n",
       "      <th>27</th>\n",
       "      <td>4</td>\n",
       "      <td>0</td>\n",
       "      <td>SelfEd</td>\n",
       "      <td>some college</td>\n",
       "      <td>0.2542</td>\n",
       "      <td>147.0000</td>\n",
       "      <td>0.2620</td>\n",
       "      <td>0.2734</td>\n",
       "      <td>0.0078</td>\n",
       "      <td>0.0192</td>\n",
       "    </tr>\n",
       "    <tr>\n",
       "      <th>28</th>\n",
       "      <td>4</td>\n",
       "      <td>0</td>\n",
       "      <td>SelfEd</td>\n",
       "      <td>Bachelors/4-year degree</td>\n",
       "      <td>0.1921</td>\n",
       "      <td>129.0000</td>\n",
       "      <td>0.2299</td>\n",
       "      <td>0.1926</td>\n",
       "      <td>0.0378</td>\n",
       "      <td>0.0005</td>\n",
       "    </tr>\n",
       "    <tr>\n",
       "      <th>29</th>\n",
       "      <td>4</td>\n",
       "      <td>0</td>\n",
       "      <td>SelfEd</td>\n",
       "      <td>Advanced Degree</td>\n",
       "      <td>0.1374</td>\n",
       "      <td>96.0000</td>\n",
       "      <td>0.1711</td>\n",
       "      <td>0.1350</td>\n",
       "      <td>0.0337</td>\n",
       "      <td>-0.0024</td>\n",
       "    </tr>\n",
       "  </tbody>\n",
       "</table>\n",
       "</div>"
      ],
      "text/plain": [
       "    ageCat REGION Characteristic                          Target  Proportion  \\\n",
       "25       4      0         SelfEd  less than high school graduate      0.1043   \n",
       "26       4      0         SelfEd            high school graduate      0.3121   \n",
       "27       4      0         SelfEd                    some college      0.2542   \n",
       "28       4      0         SelfEd         Bachelors/4-year degree      0.1921   \n",
       "29       4      0         SelfEd                 Advanced Degree      0.1374   \n",
       "\n",
       "    Obtained_N  Unweighted_Proportion  Weighted_Proportion  \\\n",
       "25      7.0000                 0.0125               0.0499   \n",
       "26    182.0000                 0.3244               0.3490   \n",
       "27    147.0000                 0.2620               0.2734   \n",
       "28    129.0000                 0.2299               0.1926   \n",
       "29     96.0000                 0.1711               0.1350   \n",
       "\n",
       "    Unweighted_Difference  Weighted_Difference  \n",
       "25                -0.0918              -0.0544  \n",
       "26                 0.0123               0.0369  \n",
       "27                 0.0078               0.0192  \n",
       "28                 0.0378               0.0005  \n",
       "29                 0.0337              -0.0024  "
      ]
     },
     "execution_count": 248,
     "metadata": {},
     "output_type": "execute_result"
    }
   ],
   "source": [
    "otar =obtained_weighted(oadult, otar, sedu)\n",
    "otar.tail()"
   ]
  },
  {
   "cell_type": "code",
   "execution_count": 249,
   "id": "bfacbbfd",
   "metadata": {},
   "outputs": [],
   "source": [
    "ctar.to_csv('C:\\\\Users\\\\tsb7592\\\\Downloads\\\\ChildTargets.csv', index=False)\n",
    "ytar.to_csv('C:\\\\Users\\\\tsb7592\\\\Downloads\\\\YoungAdultTargets.csv', index=False)\n",
    "mtar.to_csv('C:\\\\Users\\\\tsb7592\\\\Downloads\\\\MiddleAdultTargets.csv', index=False)\n",
    "otar.to_csv('C:\\\\Users\\\\tsb7592\\\\Downloads\\\\OlderAdultTargets.csv' ,index=False)"
   ]
  },
  {
   "cell_type": "code",
   "execution_count": null,
   "id": "4e0d8039",
   "metadata": {},
   "outputs": [],
   "source": []
  },
  {
   "cell_type": "code",
   "execution_count": null,
   "id": "3e416789",
   "metadata": {},
   "outputs": [],
   "source": []
  },
  {
   "cell_type": "code",
   "execution_count": null,
   "id": "91c602fd",
   "metadata": {},
   "outputs": [],
   "source": []
  }
 ],
 "metadata": {
  "kernelspec": {
   "display_name": "Python 3",
   "language": "python",
   "name": "python3"
  },
  "language_info": {
   "codemirror_mode": {
    "name": "ipython",
    "version": 3
   },
   "file_extension": ".py",
   "mimetype": "text/x-python",
   "name": "python",
   "nbconvert_exporter": "python",
   "pygments_lexer": "ipython3",
   "version": "3.8.8"
  }
 },
 "nbformat": 4,
 "nbformat_minor": 5
}
