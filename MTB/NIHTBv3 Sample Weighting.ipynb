{
 "cells": [
  {
   "cell_type": "code",
   "execution_count": 1,
   "id": "7d8e89f7",
   "metadata": {},
   "outputs": [],
   "source": [
    "#Data saved in csv/excel\n",
    "import glob, os\n",
    "import pandas as pd\n",
    "import warnings\n",
    "warnings.filterwarnings('ignore')"
   ]
  },
  {
   "cell_type": "code",
   "execution_count": 2,
   "id": "fbb7a019",
   "metadata": {},
   "outputs": [],
   "source": [
    "#Set two decimal points for display\n",
    "pd.options.display.float_format = \"{:.4f}\".format"
   ]
  },
  {
   "cell_type": "code",
   "execution_count": 3,
   "id": "b3c1c7ab",
   "metadata": {},
   "outputs": [
    {
     "name": "stdout",
     "output_type": "stream",
     "text": [
      "(3904, 77)\n"
     ]
    }
   ],
   "source": [
    "df = pd.read_csv('C:\\\\Users\\\\tsb7592\\\\Downloads\\\\ForJulyWeighting\\\\NIHTBv3_demos.csv')\n",
    "print(df.shape)"
   ]
  },
  {
   "cell_type": "code",
   "execution_count": 4,
   "id": "89fc3759",
   "metadata": {},
   "outputs": [
    {
     "data": {
      "text/plain": [
       "Index(['FinalPIN', 'inPersonWillingLoc', 'region', '18yrsPlus', 'sex', 'age',\n",
       "       'highestEd', 'hispanic', 'race_AmericanIndian', 'race_Asian',\n",
       "       'race_Black', 'race_MiddleEast', 'race_Hawaiian',\n",
       "       'race_OtherPacificIsl', 'race_White', 'race_unknwnNoAns', 'asian_Chin',\n",
       "       'asian_Indian', 'asian_Filip', 'asian_Viet', 'asian_Korea',\n",
       "       'asian_Japan', 'asian_OtherSpec', 'race_ethnicity', 'reg_Age',\n",
       "       'reg_Education_l', 'reg_MothersEducation_l', 'reg_FathersEducation_l',\n",
       "       'reg_GuardiansEducation', 'reg_StartingLevelOverride', 'reg_Gender_l',\n",
       "       'reg_Handedness_l', 'reg_Race_l', 'reg_Ethnicity_l',\n",
       "       'reg_multiple_data', 'reg_age_months', 'sex_l', '18yrsPlus_l',\n",
       "       'highestEd_l', 'inPersonWillingLoc_l', 'hispanic_l',\n",
       "       'race_AmericanIndian_l', 'race_Asian_l', 'race_Black_l',\n",
       "       'race_MiddleEast_l', 'race_Hawaiian_l', 'race_OtherPacificIsl_l',\n",
       "       'race_White_l', 'race_unknwnNoAns_l', 'asian_Chin_l', 'asian_Indian_l',\n",
       "       'asian_Filip_l', 'asian_Viet_l', 'asian_Korea_l', 'asian_Japan_l',\n",
       "       'asian_OtherSpec_l', 'race_ethnicity_l', 'reg_Gender', 'reg_Handedness',\n",
       "       'reg_Race', 'reg_Ethnicity', 'reg_Education', 'reg_MothersEducation',\n",
       "       'reg_FathersEducation', 'gender', 'ethnicity', 'highestEdu', 'race_sg',\n",
       "       'race_sg_l', 'asian_type_sg', 'asian_type_sg_l', 'race', 'race_l',\n",
       "       'gender_l', 'ethnicity_l', 'highestEdu_l', 'NIHTB+MyCog'],\n",
       "      dtype='object')"
      ]
     },
     "execution_count": 4,
     "metadata": {},
     "output_type": "execute_result"
    }
   ],
   "source": [
    "df.columns"
   ]
  },
  {
   "cell_type": "markdown",
   "id": "5e2fa3fd",
   "metadata": {},
   "source": [
    "# Recode Parental Education and Self Education"
   ]
  },
  {
   "cell_type": "code",
   "execution_count": 5,
   "id": "7a286113",
   "metadata": {},
   "outputs": [],
   "source": [
    "parental_edu={1:\"less than high school graduate\", 2:\"high school graduate\", 3:\"some college\",\n",
    "4:\"four year or higher degree\", 5:'four year or higher degree' }\n",
    "\n",
    "self_edu={1:\"less than high school graduate\", 2:\"high school graduate\", 3:\"some college\",\n",
    "4:\"Bachelors/4-year degree\", 5:'Advanced Degree'}"
   ]
  },
  {
   "cell_type": "code",
   "execution_count": 6,
   "id": "04e8fbb0",
   "metadata": {},
   "outputs": [],
   "source": [
    "df1=df[df.age< 18].replace({\"highestEdu\": parental_edu})"
   ]
  },
  {
   "cell_type": "code",
   "execution_count": 7,
   "id": "1952f541",
   "metadata": {},
   "outputs": [
    {
     "data": {
      "text/plain": [
       "0                 high school graduate\n",
       "1                         some college\n",
       "2                         some college\n",
       "3                         some college\n",
       "4                 high school graduate\n",
       "                     ...              \n",
       "3897    less than high school graduate\n",
       "3899    less than high school graduate\n",
       "3900    less than high school graduate\n",
       "3901    less than high school graduate\n",
       "3902    less than high school graduate\n",
       "Name: highestEdu, Length: 2248, dtype: object"
      ]
     },
     "execution_count": 7,
     "metadata": {},
     "output_type": "execute_result"
    }
   ],
   "source": [
    "df1['highestEdu']"
   ]
  },
  {
   "cell_type": "code",
   "execution_count": 8,
   "id": "95c2933c",
   "metadata": {},
   "outputs": [],
   "source": [
    "#Recode Edu to norming value\n",
    "df2= df[df.age>=18]['highestEdu'].map(self_edu)"
   ]
  },
  {
   "cell_type": "code",
   "execution_count": 9,
   "id": "74a60769",
   "metadata": {},
   "outputs": [],
   "source": [
    "edulabel =df1['highestEdu'].append(df2)"
   ]
  },
  {
   "cell_type": "code",
   "execution_count": 10,
   "id": "6cc20f6e",
   "metadata": {},
   "outputs": [],
   "source": [
    "df=df.drop(columns=['highestEdu'])"
   ]
  },
  {
   "cell_type": "code",
   "execution_count": 11,
   "id": "68c6e195",
   "metadata": {
    "scrolled": false
   },
   "outputs": [],
   "source": [
    "df =pd.merge(df,edulabel,left_index=True, right_index=True)"
   ]
  },
  {
   "cell_type": "code",
   "execution_count": 12,
   "id": "eff99c25",
   "metadata": {},
   "outputs": [
    {
     "data": {
      "text/html": [
       "<div>\n",
       "<style scoped>\n",
       "    .dataframe tbody tr th:only-of-type {\n",
       "        vertical-align: middle;\n",
       "    }\n",
       "\n",
       "    .dataframe tbody tr th {\n",
       "        vertical-align: top;\n",
       "    }\n",
       "\n",
       "    .dataframe thead th {\n",
       "        text-align: right;\n",
       "    }\n",
       "</style>\n",
       "<table border=\"1\" class=\"dataframe\">\n",
       "  <thead>\n",
       "    <tr style=\"text-align: right;\">\n",
       "      <th></th>\n",
       "      <th>FinalPIN</th>\n",
       "      <th>inPersonWillingLoc</th>\n",
       "      <th>region</th>\n",
       "      <th>18yrsPlus</th>\n",
       "      <th>sex</th>\n",
       "      <th>age</th>\n",
       "      <th>highestEd</th>\n",
       "      <th>hispanic</th>\n",
       "      <th>race_AmericanIndian</th>\n",
       "      <th>race_Asian</th>\n",
       "      <th>...</th>\n",
       "      <th>race_sg_l</th>\n",
       "      <th>asian_type_sg</th>\n",
       "      <th>asian_type_sg_l</th>\n",
       "      <th>race</th>\n",
       "      <th>race_l</th>\n",
       "      <th>gender_l</th>\n",
       "      <th>ethnicity_l</th>\n",
       "      <th>highestEdu_l</th>\n",
       "      <th>NIHTB+MyCog</th>\n",
       "      <th>highestEdu</th>\n",
       "    </tr>\n",
       "  </thead>\n",
       "  <tbody>\n",
       "    <tr>\n",
       "      <th>3894</th>\n",
       "      <td>WPX40108</td>\n",
       "      <td>12</td>\n",
       "      <td>4</td>\n",
       "      <td>1</td>\n",
       "      <td>2</td>\n",
       "      <td>49</td>\n",
       "      <td>3.0000</td>\n",
       "      <td>1.0000</td>\n",
       "      <td>0</td>\n",
       "      <td>0</td>\n",
       "      <td>...</td>\n",
       "      <td>White or Caucasian</td>\n",
       "      <td>NaN</td>\n",
       "      <td>NaN</td>\n",
       "      <td>1</td>\n",
       "      <td>White</td>\n",
       "      <td>Female</td>\n",
       "      <td>Not Hispanic</td>\n",
       "      <td>Some college</td>\n",
       "      <td>NaN</td>\n",
       "      <td>some college</td>\n",
       "    </tr>\n",
       "    <tr>\n",
       "      <th>3895</th>\n",
       "      <td>MSL09006</td>\n",
       "      <td>1</td>\n",
       "      <td>2</td>\n",
       "      <td>2</td>\n",
       "      <td>1</td>\n",
       "      <td>9</td>\n",
       "      <td>1.0000</td>\n",
       "      <td>1.0000</td>\n",
       "      <td>0</td>\n",
       "      <td>0</td>\n",
       "      <td>...</td>\n",
       "      <td>White or Caucasian</td>\n",
       "      <td>NaN</td>\n",
       "      <td>NaN</td>\n",
       "      <td>1</td>\n",
       "      <td>White</td>\n",
       "      <td>Male</td>\n",
       "      <td>Not Hispanic</td>\n",
       "      <td>Less than highschool</td>\n",
       "      <td>NaN</td>\n",
       "      <td>less than high school graduate</td>\n",
       "    </tr>\n",
       "    <tr>\n",
       "      <th>3896</th>\n",
       "      <td>MSL16003</td>\n",
       "      <td>1</td>\n",
       "      <td>2</td>\n",
       "      <td>2</td>\n",
       "      <td>2</td>\n",
       "      <td>16</td>\n",
       "      <td>1.0000</td>\n",
       "      <td>1.0000</td>\n",
       "      <td>0</td>\n",
       "      <td>0</td>\n",
       "      <td>...</td>\n",
       "      <td>White or Caucasian</td>\n",
       "      <td>NaN</td>\n",
       "      <td>NaN</td>\n",
       "      <td>1</td>\n",
       "      <td>White</td>\n",
       "      <td>Female</td>\n",
       "      <td>Not Hispanic</td>\n",
       "      <td>Less than highschool</td>\n",
       "      <td>NaN</td>\n",
       "      <td>less than high school graduate</td>\n",
       "    </tr>\n",
       "    <tr>\n",
       "      <th>3897</th>\n",
       "      <td>MSL08013</td>\n",
       "      <td>1</td>\n",
       "      <td>2</td>\n",
       "      <td>2</td>\n",
       "      <td>1</td>\n",
       "      <td>8</td>\n",
       "      <td>1.0000</td>\n",
       "      <td>1.0000</td>\n",
       "      <td>0</td>\n",
       "      <td>0</td>\n",
       "      <td>...</td>\n",
       "      <td>White or Caucasian</td>\n",
       "      <td>NaN</td>\n",
       "      <td>NaN</td>\n",
       "      <td>1</td>\n",
       "      <td>White</td>\n",
       "      <td>Male</td>\n",
       "      <td>Not Hispanic</td>\n",
       "      <td>Less than highschool</td>\n",
       "      <td>NaN</td>\n",
       "      <td>less than high school graduate</td>\n",
       "    </tr>\n",
       "    <tr>\n",
       "      <th>3898</th>\n",
       "      <td>MSL85001</td>\n",
       "      <td>1</td>\n",
       "      <td>2</td>\n",
       "      <td>1</td>\n",
       "      <td>2</td>\n",
       "      <td>90</td>\n",
       "      <td>4.0000</td>\n",
       "      <td>1.0000</td>\n",
       "      <td>0</td>\n",
       "      <td>0</td>\n",
       "      <td>...</td>\n",
       "      <td>White or Caucasian</td>\n",
       "      <td>NaN</td>\n",
       "      <td>NaN</td>\n",
       "      <td>1</td>\n",
       "      <td>White</td>\n",
       "      <td>Female</td>\n",
       "      <td>Not Hispanic</td>\n",
       "      <td>College</td>\n",
       "      <td>NaN</td>\n",
       "      <td>Bachelors/4-year degree</td>\n",
       "    </tr>\n",
       "    <tr>\n",
       "      <th>3899</th>\n",
       "      <td>MSL04001</td>\n",
       "      <td>1</td>\n",
       "      <td>2</td>\n",
       "      <td>2</td>\n",
       "      <td>1</td>\n",
       "      <td>4</td>\n",
       "      <td>1.0000</td>\n",
       "      <td>1.0000</td>\n",
       "      <td>0</td>\n",
       "      <td>0</td>\n",
       "      <td>...</td>\n",
       "      <td>White or Caucasian</td>\n",
       "      <td>NaN</td>\n",
       "      <td>NaN</td>\n",
       "      <td>1</td>\n",
       "      <td>White</td>\n",
       "      <td>Male</td>\n",
       "      <td>Not Hispanic</td>\n",
       "      <td>Less than highschool</td>\n",
       "      <td>NaN</td>\n",
       "      <td>less than high school graduate</td>\n",
       "    </tr>\n",
       "    <tr>\n",
       "      <th>3900</th>\n",
       "      <td>MSL11012</td>\n",
       "      <td>1</td>\n",
       "      <td>2</td>\n",
       "      <td>2</td>\n",
       "      <td>1</td>\n",
       "      <td>11</td>\n",
       "      <td>1.0000</td>\n",
       "      <td>1.0000</td>\n",
       "      <td>0</td>\n",
       "      <td>0</td>\n",
       "      <td>...</td>\n",
       "      <td>Black or African-American</td>\n",
       "      <td>NaN</td>\n",
       "      <td>NaN</td>\n",
       "      <td>2</td>\n",
       "      <td>Black</td>\n",
       "      <td>Male</td>\n",
       "      <td>Not Hispanic</td>\n",
       "      <td>Less than highschool</td>\n",
       "      <td>NaN</td>\n",
       "      <td>less than high school graduate</td>\n",
       "    </tr>\n",
       "    <tr>\n",
       "      <th>3901</th>\n",
       "      <td>MSL12001</td>\n",
       "      <td>1</td>\n",
       "      <td>2</td>\n",
       "      <td>2</td>\n",
       "      <td>2</td>\n",
       "      <td>12</td>\n",
       "      <td>1.0000</td>\n",
       "      <td>1.0000</td>\n",
       "      <td>0</td>\n",
       "      <td>0</td>\n",
       "      <td>...</td>\n",
       "      <td>Black or African-American</td>\n",
       "      <td>NaN</td>\n",
       "      <td>NaN</td>\n",
       "      <td>2</td>\n",
       "      <td>Black</td>\n",
       "      <td>Female</td>\n",
       "      <td>Not Hispanic</td>\n",
       "      <td>Less than highschool</td>\n",
       "      <td>NaN</td>\n",
       "      <td>less than high school graduate</td>\n",
       "    </tr>\n",
       "    <tr>\n",
       "      <th>3902</th>\n",
       "      <td>MSL09013</td>\n",
       "      <td>1</td>\n",
       "      <td>2</td>\n",
       "      <td>2</td>\n",
       "      <td>1</td>\n",
       "      <td>9</td>\n",
       "      <td>1.0000</td>\n",
       "      <td>1.0000</td>\n",
       "      <td>0</td>\n",
       "      <td>0</td>\n",
       "      <td>...</td>\n",
       "      <td>White or Caucasian</td>\n",
       "      <td>NaN</td>\n",
       "      <td>NaN</td>\n",
       "      <td>1</td>\n",
       "      <td>White</td>\n",
       "      <td>Male</td>\n",
       "      <td>Not Hispanic</td>\n",
       "      <td>Less than highschool</td>\n",
       "      <td>NaN</td>\n",
       "      <td>less than high school graduate</td>\n",
       "    </tr>\n",
       "    <tr>\n",
       "      <th>3903</th>\n",
       "      <td>MSL70106</td>\n",
       "      <td>1</td>\n",
       "      <td>2</td>\n",
       "      <td>1</td>\n",
       "      <td>1</td>\n",
       "      <td>74</td>\n",
       "      <td>4.0000</td>\n",
       "      <td>1.0000</td>\n",
       "      <td>0</td>\n",
       "      <td>0</td>\n",
       "      <td>...</td>\n",
       "      <td>White or Caucasian</td>\n",
       "      <td>NaN</td>\n",
       "      <td>NaN</td>\n",
       "      <td>1</td>\n",
       "      <td>White</td>\n",
       "      <td>Male</td>\n",
       "      <td>Not Hispanic</td>\n",
       "      <td>College</td>\n",
       "      <td>NaN</td>\n",
       "      <td>Bachelors/4-year degree</td>\n",
       "    </tr>\n",
       "  </tbody>\n",
       "</table>\n",
       "<p>10 rows × 77 columns</p>\n",
       "</div>"
      ],
      "text/plain": [
       "      FinalPIN  inPersonWillingLoc  region  18yrsPlus  sex  age  highestEd  \\\n",
       "3894  WPX40108                  12       4          1    2   49     3.0000   \n",
       "3895  MSL09006                   1       2          2    1    9     1.0000   \n",
       "3896  MSL16003                   1       2          2    2   16     1.0000   \n",
       "3897  MSL08013                   1       2          2    1    8     1.0000   \n",
       "3898  MSL85001                   1       2          1    2   90     4.0000   \n",
       "3899  MSL04001                   1       2          2    1    4     1.0000   \n",
       "3900  MSL11012                   1       2          2    1   11     1.0000   \n",
       "3901  MSL12001                   1       2          2    2   12     1.0000   \n",
       "3902  MSL09013                   1       2          2    1    9     1.0000   \n",
       "3903  MSL70106                   1       2          1    1   74     4.0000   \n",
       "\n",
       "      hispanic  race_AmericanIndian  race_Asian  ...  \\\n",
       "3894    1.0000                    0           0  ...   \n",
       "3895    1.0000                    0           0  ...   \n",
       "3896    1.0000                    0           0  ...   \n",
       "3897    1.0000                    0           0  ...   \n",
       "3898    1.0000                    0           0  ...   \n",
       "3899    1.0000                    0           0  ...   \n",
       "3900    1.0000                    0           0  ...   \n",
       "3901    1.0000                    0           0  ...   \n",
       "3902    1.0000                    0           0  ...   \n",
       "3903    1.0000                    0           0  ...   \n",
       "\n",
       "                      race_sg_l  asian_type_sg  asian_type_sg_l  race  race_l  \\\n",
       "3894         White or Caucasian            NaN              NaN     1   White   \n",
       "3895         White or Caucasian            NaN              NaN     1   White   \n",
       "3896         White or Caucasian            NaN              NaN     1   White   \n",
       "3897         White or Caucasian            NaN              NaN     1   White   \n",
       "3898         White or Caucasian            NaN              NaN     1   White   \n",
       "3899         White or Caucasian            NaN              NaN     1   White   \n",
       "3900  Black or African-American            NaN              NaN     2   Black   \n",
       "3901  Black or African-American            NaN              NaN     2   Black   \n",
       "3902         White or Caucasian            NaN              NaN     1   White   \n",
       "3903         White or Caucasian            NaN              NaN     1   White   \n",
       "\n",
       "      gender_l   ethnicity_l          highestEdu_l  NIHTB+MyCog  \\\n",
       "3894    Female  Not Hispanic          Some college          NaN   \n",
       "3895      Male  Not Hispanic  Less than highschool          NaN   \n",
       "3896    Female  Not Hispanic  Less than highschool          NaN   \n",
       "3897      Male  Not Hispanic  Less than highschool          NaN   \n",
       "3898    Female  Not Hispanic               College          NaN   \n",
       "3899      Male  Not Hispanic  Less than highschool          NaN   \n",
       "3900      Male  Not Hispanic  Less than highschool          NaN   \n",
       "3901    Female  Not Hispanic  Less than highschool          NaN   \n",
       "3902      Male  Not Hispanic  Less than highschool          NaN   \n",
       "3903      Male  Not Hispanic               College          NaN   \n",
       "\n",
       "                          highestEdu  \n",
       "3894                    some college  \n",
       "3895  less than high school graduate  \n",
       "3896  less than high school graduate  \n",
       "3897  less than high school graduate  \n",
       "3898         Bachelors/4-year degree  \n",
       "3899  less than high school graduate  \n",
       "3900  less than high school graduate  \n",
       "3901  less than high school graduate  \n",
       "3902  less than high school graduate  \n",
       "3903         Bachelors/4-year degree  \n",
       "\n",
       "[10 rows x 77 columns]"
      ]
     },
     "execution_count": 12,
     "metadata": {},
     "output_type": "execute_result"
    }
   ],
   "source": [
    "df.tail(10)"
   ]
  },
  {
   "cell_type": "code",
   "execution_count": 13,
   "id": "f54930dd",
   "metadata": {},
   "outputs": [
    {
     "data": {
      "text/plain": [
       "3    1436\n",
       "4     940\n",
       "2     866\n",
       "1     662\n",
       "Name: region, dtype: int64"
      ]
     },
     "execution_count": 13,
     "metadata": {},
     "output_type": "execute_result"
    }
   ],
   "source": [
    "df.region.value_counts()"
   ]
  },
  {
   "cell_type": "code",
   "execution_count": 14,
   "id": "ec9c1388",
   "metadata": {},
   "outputs": [],
   "source": [
    "keep =['FinalPIN','region', 'age','sex', 'highestEdu', 'hispanic', 'race_AmericanIndian', 'race_Asian',\n",
    "       'race_Black', 'race_MiddleEast', 'race_Hawaiian',\n",
    "       'race_OtherPacificIsl', 'race_White', 'race_unknwnNoAns']"
   ]
  },
  {
   "cell_type": "code",
   "execution_count": 15,
   "id": "40760843",
   "metadata": {},
   "outputs": [],
   "source": [
    "df=df[keep].dropna()"
   ]
  },
  {
   "cell_type": "markdown",
   "id": "df1e812d",
   "metadata": {},
   "source": [
    "# Label race/ethnicity"
   ]
  },
  {
   "cell_type": "code",
   "execution_count": 16,
   "id": "ffd91289",
   "metadata": {},
   "outputs": [
    {
     "data": {
      "text/html": [
       "<div>\n",
       "<style scoped>\n",
       "    .dataframe tbody tr th:only-of-type {\n",
       "        vertical-align: middle;\n",
       "    }\n",
       "\n",
       "    .dataframe tbody tr th {\n",
       "        vertical-align: top;\n",
       "    }\n",
       "\n",
       "    .dataframe thead th {\n",
       "        text-align: right;\n",
       "    }\n",
       "</style>\n",
       "<table border=\"1\" class=\"dataframe\">\n",
       "  <thead>\n",
       "    <tr style=\"text-align: right;\">\n",
       "      <th></th>\n",
       "      <th>FinalPIN</th>\n",
       "      <th>region</th>\n",
       "      <th>age</th>\n",
       "      <th>sex</th>\n",
       "      <th>highestEdu</th>\n",
       "      <th>hispanic</th>\n",
       "      <th>race_AmericanIndian</th>\n",
       "      <th>race_Asian</th>\n",
       "      <th>race_Black</th>\n",
       "      <th>race_MiddleEast</th>\n",
       "      <th>race_Hawaiian</th>\n",
       "      <th>race_OtherPacificIsl</th>\n",
       "      <th>race_White</th>\n",
       "      <th>race_unknwnNoAns</th>\n",
       "    </tr>\n",
       "  </thead>\n",
       "  <tbody>\n",
       "    <tr>\n",
       "      <th>0</th>\n",
       "      <td>MAP03001</td>\n",
       "      <td>2</td>\n",
       "      <td>3</td>\n",
       "      <td>2</td>\n",
       "      <td>high school graduate</td>\n",
       "      <td>1.0000</td>\n",
       "      <td>0</td>\n",
       "      <td>0</td>\n",
       "      <td>0</td>\n",
       "      <td>0</td>\n",
       "      <td>0</td>\n",
       "      <td>0</td>\n",
       "      <td>1</td>\n",
       "      <td>0</td>\n",
       "    </tr>\n",
       "    <tr>\n",
       "      <th>1</th>\n",
       "      <td>MAP03002</td>\n",
       "      <td>2</td>\n",
       "      <td>3</td>\n",
       "      <td>1</td>\n",
       "      <td>some college</td>\n",
       "      <td>1.0000</td>\n",
       "      <td>0</td>\n",
       "      <td>0</td>\n",
       "      <td>0</td>\n",
       "      <td>0</td>\n",
       "      <td>0</td>\n",
       "      <td>0</td>\n",
       "      <td>1</td>\n",
       "      <td>0</td>\n",
       "    </tr>\n",
       "    <tr>\n",
       "      <th>2</th>\n",
       "      <td>MAP03003</td>\n",
       "      <td>2</td>\n",
       "      <td>3</td>\n",
       "      <td>2</td>\n",
       "      <td>some college</td>\n",
       "      <td>1.0000</td>\n",
       "      <td>0</td>\n",
       "      <td>0</td>\n",
       "      <td>0</td>\n",
       "      <td>0</td>\n",
       "      <td>0</td>\n",
       "      <td>0</td>\n",
       "      <td>1</td>\n",
       "      <td>0</td>\n",
       "    </tr>\n",
       "    <tr>\n",
       "      <th>3</th>\n",
       "      <td>MAP03004</td>\n",
       "      <td>2</td>\n",
       "      <td>3</td>\n",
       "      <td>2</td>\n",
       "      <td>some college</td>\n",
       "      <td>1.0000</td>\n",
       "      <td>0</td>\n",
       "      <td>0</td>\n",
       "      <td>0</td>\n",
       "      <td>0</td>\n",
       "      <td>0</td>\n",
       "      <td>0</td>\n",
       "      <td>1</td>\n",
       "      <td>0</td>\n",
       "    </tr>\n",
       "    <tr>\n",
       "      <th>4</th>\n",
       "      <td>MAP03005</td>\n",
       "      <td>2</td>\n",
       "      <td>3</td>\n",
       "      <td>2</td>\n",
       "      <td>high school graduate</td>\n",
       "      <td>1.0000</td>\n",
       "      <td>0</td>\n",
       "      <td>0</td>\n",
       "      <td>0</td>\n",
       "      <td>0</td>\n",
       "      <td>0</td>\n",
       "      <td>0</td>\n",
       "      <td>1</td>\n",
       "      <td>0</td>\n",
       "    </tr>\n",
       "  </tbody>\n",
       "</table>\n",
       "</div>"
      ],
      "text/plain": [
       "   FinalPIN  region  age  sex            highestEdu  hispanic  \\\n",
       "0  MAP03001       2    3    2  high school graduate    1.0000   \n",
       "1  MAP03002       2    3    1          some college    1.0000   \n",
       "2  MAP03003       2    3    2          some college    1.0000   \n",
       "3  MAP03004       2    3    2          some college    1.0000   \n",
       "4  MAP03005       2    3    2  high school graduate    1.0000   \n",
       "\n",
       "   race_AmericanIndian  race_Asian  race_Black  race_MiddleEast  \\\n",
       "0                    0           0           0                0   \n",
       "1                    0           0           0                0   \n",
       "2                    0           0           0                0   \n",
       "3                    0           0           0                0   \n",
       "4                    0           0           0                0   \n",
       "\n",
       "   race_Hawaiian  race_OtherPacificIsl  race_White  race_unknwnNoAns  \n",
       "0              0                     0           1                 0  \n",
       "1              0                     0           1                 0  \n",
       "2              0                     0           1                 0  \n",
       "3              0                     0           1                 0  \n",
       "4              0                     0           1                 0  "
      ]
     },
     "execution_count": 16,
     "metadata": {},
     "output_type": "execute_result"
    }
   ],
   "source": [
    "df.head()"
   ]
  },
  {
   "cell_type": "code",
   "execution_count": 17,
   "id": "554f6044",
   "metadata": {},
   "outputs": [
    {
     "data": {
      "text/plain": [
       "1.0000    3096\n",
       "2.0000     484\n",
       "5.0000     222\n",
       "3.0000      81\n",
       "4.0000      13\n",
       "0.0000       6\n",
       "Name: hispanic, dtype: int64"
      ]
     },
     "execution_count": 17,
     "metadata": {},
     "output_type": "execute_result"
    }
   ],
   "source": [
    "df.hispanic.value_counts()"
   ]
  },
  {
   "cell_type": "code",
   "execution_count": 18,
   "id": "5c1335ab",
   "metadata": {},
   "outputs": [],
   "source": [
    "def label_race (row):\n",
    "    #hispanic field does not equal 0 or 1\n",
    "    if row['hispanic'] > 1 :\n",
    "        return 'Hispanic'\n",
    "    \n",
    "    #hispanic=0 or 1, race_White=1 and/or race_MiddleEast=1, all other fields with prefix `race_` =0)\n",
    "    elif row['race_White'] + row['race_MiddleEast'] >= 1 and row['race_AmericanIndian'] + row['race_Asian'] +row['race_Black'] + row['race_Hawaiian']+ row['race_OtherPacificIsl'] +row['race_unknwnNoAns']==0:\n",
    "        return 'White'\n",
    "    \n",
    "    #race_Black=1, all other fields with prefix `race_` =0\n",
    "    elif row['race_Black'] ==1  and row['race_White'] + row['race_MiddleEast'] + row['race_AmericanIndian'] + row['race_Asian'] + row['race_Hawaiian']+ row['race_OtherPacificIsl'] +row['race_unknwnNoAns']==0:\n",
    "        return 'Black'\n",
    "    \n",
    "    #race_Asian=1, all other fields with prefix `race_` =0\n",
    "    elif  row['race_Asian'] ==1  and row['race_White'] + row['race_MiddleEast'] + row['race_AmericanIndian'] + row['race_Black'] + row['race_Hawaiian']+ row['race_OtherPacificIsl'] +row['race_unknwnNoAns']==0:\n",
    "        return 'AsianAmerican'\n",
    "    \n",
    "    else:\n",
    "        return 'Other'    \n"
   ]
  },
  {
   "cell_type": "code",
   "execution_count": 19,
   "id": "280880b3",
   "metadata": {},
   "outputs": [],
   "source": [
    "df['Race/ethnicity'] =df.apply (lambda row: label_race(row), axis=1)"
   ]
  },
  {
   "cell_type": "code",
   "execution_count": 20,
   "id": "5cedec88",
   "metadata": {},
   "outputs": [
    {
     "data": {
      "text/plain": [
       "White            2162\n",
       "Hispanic          800\n",
       "Black             578\n",
       "AsianAmerican     193\n",
       "Other             169\n",
       "Name: Race/ethnicity, dtype: int64"
      ]
     },
     "execution_count": 20,
     "metadata": {},
     "output_type": "execute_result"
    }
   ],
   "source": [
    "df['Race/ethnicity'].value_counts()"
   ]
  },
  {
   "cell_type": "markdown",
   "id": "664b4da7",
   "metadata": {},
   "source": [
    "# Recode Region– Race/Ethnicity\n",
    "there should be 20 race/ethnicity-by-region categories all together"
   ]
  },
  {
   "cell_type": "code",
   "execution_count": 21,
   "id": "1af7ceb2",
   "metadata": {},
   "outputs": [],
   "source": [
    "df['region-race'] = df.region.map(str) + \"-\" + df['Race/ethnicity']"
   ]
  },
  {
   "cell_type": "code",
   "execution_count": 22,
   "id": "1af0e045",
   "metadata": {},
   "outputs": [
    {
     "data": {
      "text/plain": [
       "array(['2-White', '2-Other', '2-Black', '2-Hispanic', '1-White',\n",
       "       '2-AsianAmerican', '1-Black', '1-Hispanic', '1-Other',\n",
       "       '1-AsianAmerican', '3-White', '3-Hispanic', '3-Black', '3-Other',\n",
       "       '3-AsianAmerican', '4-Hispanic', '4-Black', '4-Other', '4-White',\n",
       "       '4-AsianAmerican'], dtype=object)"
      ]
     },
     "execution_count": 22,
     "metadata": {},
     "output_type": "execute_result"
    }
   ],
   "source": [
    "df['region-race'].unique()"
   ]
  },
  {
   "cell_type": "code",
   "execution_count": 23,
   "id": "db79d252",
   "metadata": {},
   "outputs": [
    {
     "data": {
      "text/html": [
       "<div>\n",
       "<style scoped>\n",
       "    .dataframe tbody tr th:only-of-type {\n",
       "        vertical-align: middle;\n",
       "    }\n",
       "\n",
       "    .dataframe tbody tr th {\n",
       "        vertical-align: top;\n",
       "    }\n",
       "\n",
       "    .dataframe thead th {\n",
       "        text-align: right;\n",
       "    }\n",
       "</style>\n",
       "<table border=\"1\" class=\"dataframe\">\n",
       "  <thead>\n",
       "    <tr style=\"text-align: right;\">\n",
       "      <th></th>\n",
       "      <th>FinalPIN</th>\n",
       "      <th>region</th>\n",
       "      <th>age</th>\n",
       "      <th>sex</th>\n",
       "      <th>highestEdu</th>\n",
       "      <th>hispanic</th>\n",
       "      <th>race_AmericanIndian</th>\n",
       "      <th>race_Asian</th>\n",
       "      <th>race_Black</th>\n",
       "      <th>race_MiddleEast</th>\n",
       "      <th>race_Hawaiian</th>\n",
       "      <th>race_OtherPacificIsl</th>\n",
       "      <th>race_White</th>\n",
       "      <th>race_unknwnNoAns</th>\n",
       "      <th>Race/ethnicity</th>\n",
       "      <th>region-race</th>\n",
       "    </tr>\n",
       "  </thead>\n",
       "  <tbody>\n",
       "    <tr>\n",
       "      <th>0</th>\n",
       "      <td>MAP03001</td>\n",
       "      <td>2</td>\n",
       "      <td>3</td>\n",
       "      <td>2</td>\n",
       "      <td>high school graduate</td>\n",
       "      <td>1.0000</td>\n",
       "      <td>0</td>\n",
       "      <td>0</td>\n",
       "      <td>0</td>\n",
       "      <td>0</td>\n",
       "      <td>0</td>\n",
       "      <td>0</td>\n",
       "      <td>1</td>\n",
       "      <td>0</td>\n",
       "      <td>White</td>\n",
       "      <td>2-White</td>\n",
       "    </tr>\n",
       "    <tr>\n",
       "      <th>1</th>\n",
       "      <td>MAP03002</td>\n",
       "      <td>2</td>\n",
       "      <td>3</td>\n",
       "      <td>1</td>\n",
       "      <td>some college</td>\n",
       "      <td>1.0000</td>\n",
       "      <td>0</td>\n",
       "      <td>0</td>\n",
       "      <td>0</td>\n",
       "      <td>0</td>\n",
       "      <td>0</td>\n",
       "      <td>0</td>\n",
       "      <td>1</td>\n",
       "      <td>0</td>\n",
       "      <td>White</td>\n",
       "      <td>2-White</td>\n",
       "    </tr>\n",
       "    <tr>\n",
       "      <th>2</th>\n",
       "      <td>MAP03003</td>\n",
       "      <td>2</td>\n",
       "      <td>3</td>\n",
       "      <td>2</td>\n",
       "      <td>some college</td>\n",
       "      <td>1.0000</td>\n",
       "      <td>0</td>\n",
       "      <td>0</td>\n",
       "      <td>0</td>\n",
       "      <td>0</td>\n",
       "      <td>0</td>\n",
       "      <td>0</td>\n",
       "      <td>1</td>\n",
       "      <td>0</td>\n",
       "      <td>White</td>\n",
       "      <td>2-White</td>\n",
       "    </tr>\n",
       "    <tr>\n",
       "      <th>3</th>\n",
       "      <td>MAP03004</td>\n",
       "      <td>2</td>\n",
       "      <td>3</td>\n",
       "      <td>2</td>\n",
       "      <td>some college</td>\n",
       "      <td>1.0000</td>\n",
       "      <td>0</td>\n",
       "      <td>0</td>\n",
       "      <td>0</td>\n",
       "      <td>0</td>\n",
       "      <td>0</td>\n",
       "      <td>0</td>\n",
       "      <td>1</td>\n",
       "      <td>0</td>\n",
       "      <td>White</td>\n",
       "      <td>2-White</td>\n",
       "    </tr>\n",
       "    <tr>\n",
       "      <th>4</th>\n",
       "      <td>MAP03005</td>\n",
       "      <td>2</td>\n",
       "      <td>3</td>\n",
       "      <td>2</td>\n",
       "      <td>high school graduate</td>\n",
       "      <td>1.0000</td>\n",
       "      <td>0</td>\n",
       "      <td>0</td>\n",
       "      <td>0</td>\n",
       "      <td>0</td>\n",
       "      <td>0</td>\n",
       "      <td>0</td>\n",
       "      <td>1</td>\n",
       "      <td>0</td>\n",
       "      <td>White</td>\n",
       "      <td>2-White</td>\n",
       "    </tr>\n",
       "  </tbody>\n",
       "</table>\n",
       "</div>"
      ],
      "text/plain": [
       "   FinalPIN  region  age  sex            highestEdu  hispanic  \\\n",
       "0  MAP03001       2    3    2  high school graduate    1.0000   \n",
       "1  MAP03002       2    3    1          some college    1.0000   \n",
       "2  MAP03003       2    3    2          some college    1.0000   \n",
       "3  MAP03004       2    3    2          some college    1.0000   \n",
       "4  MAP03005       2    3    2  high school graduate    1.0000   \n",
       "\n",
       "   race_AmericanIndian  race_Asian  race_Black  race_MiddleEast  \\\n",
       "0                    0           0           0                0   \n",
       "1                    0           0           0                0   \n",
       "2                    0           0           0                0   \n",
       "3                    0           0           0                0   \n",
       "4                    0           0           0                0   \n",
       "\n",
       "   race_Hawaiian  race_OtherPacificIsl  race_White  race_unknwnNoAns  \\\n",
       "0              0                     0           1                 0   \n",
       "1              0                     0           1                 0   \n",
       "2              0                     0           1                 0   \n",
       "3              0                     0           1                 0   \n",
       "4              0                     0           1                 0   \n",
       "\n",
       "  Race/ethnicity region-race  \n",
       "0          White     2-White  \n",
       "1          White     2-White  \n",
       "2          White     2-White  \n",
       "3          White     2-White  \n",
       "4          White     2-White  "
      ]
     },
     "execution_count": 23,
     "metadata": {},
     "output_type": "execute_result"
    }
   ],
   "source": [
    "df.head()"
   ]
  },
  {
   "cell_type": "code",
   "execution_count": 24,
   "id": "718998ee",
   "metadata": {},
   "outputs": [],
   "source": [
    "def crosstab(df):\n",
    "    a =df.groupby(['region','Race/ethnicity'])['age'].count().reset_index()\n",
    "    a.columns=['region','Race/ethnicity','count']\n",
    "    aa =a.pivot_table(values=['count'], index=['region'], columns=['Race/ethnicity'])\n",
    "    aa=aa.fillna(0)\n",
    "    aa.loc['Total',:]= aa.sum(axis=0)\n",
    "    aa[\"sum\"] = aa.sum(axis=1)\n",
    "    \n",
    "    return aa"
   ]
  },
  {
   "cell_type": "code",
   "execution_count": 25,
   "id": "2b6ef8e8",
   "metadata": {},
   "outputs": [
    {
     "data": {
      "text/html": [
       "<div>\n",
       "<style scoped>\n",
       "    .dataframe tbody tr th:only-of-type {\n",
       "        vertical-align: middle;\n",
       "    }\n",
       "\n",
       "    .dataframe tbody tr th {\n",
       "        vertical-align: top;\n",
       "    }\n",
       "\n",
       "    .dataframe thead tr th {\n",
       "        text-align: left;\n",
       "    }\n",
       "\n",
       "    .dataframe thead tr:last-of-type th {\n",
       "        text-align: right;\n",
       "    }\n",
       "</style>\n",
       "<table border=\"1\" class=\"dataframe\">\n",
       "  <thead>\n",
       "    <tr>\n",
       "      <th></th>\n",
       "      <th colspan=\"5\" halign=\"left\">count</th>\n",
       "      <th>sum</th>\n",
       "    </tr>\n",
       "    <tr>\n",
       "      <th>Race/ethnicity</th>\n",
       "      <th>AsianAmerican</th>\n",
       "      <th>Black</th>\n",
       "      <th>Hispanic</th>\n",
       "      <th>Other</th>\n",
       "      <th>White</th>\n",
       "      <th></th>\n",
       "    </tr>\n",
       "    <tr>\n",
       "      <th>region</th>\n",
       "      <th></th>\n",
       "      <th></th>\n",
       "      <th></th>\n",
       "      <th></th>\n",
       "      <th></th>\n",
       "      <th></th>\n",
       "    </tr>\n",
       "  </thead>\n",
       "  <tbody>\n",
       "    <tr>\n",
       "      <th>1</th>\n",
       "      <td>37.0000</td>\n",
       "      <td>89.0000</td>\n",
       "      <td>103.0000</td>\n",
       "      <td>21.0000</td>\n",
       "      <td>411.0000</td>\n",
       "      <td>661.0000</td>\n",
       "    </tr>\n",
       "    <tr>\n",
       "      <th>2</th>\n",
       "      <td>21.0000</td>\n",
       "      <td>109.0000</td>\n",
       "      <td>76.0000</td>\n",
       "      <td>31.0000</td>\n",
       "      <td>628.0000</td>\n",
       "      <td>865.0000</td>\n",
       "    </tr>\n",
       "    <tr>\n",
       "      <th>3</th>\n",
       "      <td>58.0000</td>\n",
       "      <td>329.0000</td>\n",
       "      <td>272.0000</td>\n",
       "      <td>67.0000</td>\n",
       "      <td>710.0000</td>\n",
       "      <td>1436.0000</td>\n",
       "    </tr>\n",
       "    <tr>\n",
       "      <th>4</th>\n",
       "      <td>77.0000</td>\n",
       "      <td>51.0000</td>\n",
       "      <td>349.0000</td>\n",
       "      <td>50.0000</td>\n",
       "      <td>413.0000</td>\n",
       "      <td>940.0000</td>\n",
       "    </tr>\n",
       "    <tr>\n",
       "      <th>Total</th>\n",
       "      <td>193.0000</td>\n",
       "      <td>578.0000</td>\n",
       "      <td>800.0000</td>\n",
       "      <td>169.0000</td>\n",
       "      <td>2162.0000</td>\n",
       "      <td>3902.0000</td>\n",
       "    </tr>\n",
       "  </tbody>\n",
       "</table>\n",
       "</div>"
      ],
      "text/plain": [
       "                       count                                            sum\n",
       "Race/ethnicity AsianAmerican    Black Hispanic    Other     White          \n",
       "region                                                                     \n",
       "1                    37.0000  89.0000 103.0000  21.0000  411.0000  661.0000\n",
       "2                    21.0000 109.0000  76.0000  31.0000  628.0000  865.0000\n",
       "3                    58.0000 329.0000 272.0000  67.0000  710.0000 1436.0000\n",
       "4                    77.0000  51.0000 349.0000  50.0000  413.0000  940.0000\n",
       "Total               193.0000 578.0000 800.0000 169.0000 2162.0000 3902.0000"
      ]
     },
     "execution_count": 25,
     "metadata": {},
     "output_type": "execute_result"
    }
   ],
   "source": [
    "dfr =crosstab(df)\n",
    "dfr"
   ]
  },
  {
   "cell_type": "markdown",
   "id": "3844cdf1",
   "metadata": {},
   "source": [
    "# Recode Sex assigned at birth\n",
    "there should be 8 sex-by-region categories all together"
   ]
  },
  {
   "cell_type": "code",
   "execution_count": 26,
   "id": "9804f561",
   "metadata": {},
   "outputs": [],
   "source": [
    "df[\"sex\"].replace({1:'Male', 2:'Female'}, inplace=True)"
   ]
  },
  {
   "cell_type": "code",
   "execution_count": 27,
   "id": "97df84d1",
   "metadata": {},
   "outputs": [],
   "source": [
    "df['region-sex'] = df.region.map(str) + \"-\" + df['sex']"
   ]
  },
  {
   "cell_type": "code",
   "execution_count": 28,
   "id": "9e417d87",
   "metadata": {},
   "outputs": [
    {
     "data": {
      "text/plain": [
       "array(['2-Female', '2-Male', '1-Female', '1-Male', '3-Male', '3-Female',\n",
       "       '4-Male', '4-Female'], dtype=object)"
      ]
     },
     "execution_count": 28,
     "metadata": {},
     "output_type": "execute_result"
    }
   ],
   "source": [
    "df['region-sex'].unique()"
   ]
  },
  {
   "cell_type": "markdown",
   "id": "e7357e51",
   "metadata": {},
   "source": [
    "# Split Age into 4 subests:ages 3-17, ages 18-24, ages 25-59, and ages 60+"
   ]
  },
  {
   "cell_type": "code",
   "execution_count": 29,
   "id": "c7e2f71c",
   "metadata": {},
   "outputs": [],
   "source": [
    "bins= [3,18,25,60, 200]\n",
    "labels = ['Child','YoungAdult','MiddleAdult','OlderAdult']\n",
    "df['agegroup'] = pd.cut(df['age'], bins=bins, labels=labels, right=False)"
   ]
  },
  {
   "cell_type": "code",
   "execution_count": 30,
   "id": "e2a57f8c",
   "metadata": {},
   "outputs": [
    {
     "data": {
      "text/plain": [
       "four year or higher degree        907\n",
       "some college                      721\n",
       "high school graduate              560\n",
       "less than high school graduate     58\n",
       "Name: highestEdu, dtype: int64"
      ]
     },
     "execution_count": 30,
     "metadata": {},
     "output_type": "execute_result"
    }
   ],
   "source": [
    "Child= df[df['agegroup']=='Child']\n",
    "Child.highestEdu.value_counts()"
   ]
  },
  {
   "cell_type": "code",
   "execution_count": 31,
   "id": "560f2000",
   "metadata": {},
   "outputs": [
    {
     "data": {
      "text/plain": [
       "\"\\n# Create a Pandas Excel writer using XlsxWriter as the engine.\\nwriter = pd.ExcelWriter('C:/Users/tsb7592/Downloads/NIHTB_counts_July.xlsx', engine='xlsxwriter')\\n\\n# Write each dataframe to a different worksheet.\\naa.to_excel(writer, sheet_name='adults')\\nkk.to_excel(writer, sheet_name='kids')  \\nad['highestEd'].value_counts().to_excel(writer, sheet_name='ad_edu') \\nkd['highestEd'].value_counts().to_excel(writer, sheet_name='kids_edu') \\n# Close the Pandas Excel writer and output the Excel file.\\nwriter.save()\\n\""
      ]
     },
     "execution_count": 31,
     "metadata": {},
     "output_type": "execute_result"
    }
   ],
   "source": [
    "'''\n",
    "# Create a Pandas Excel writer using XlsxWriter as the engine.\n",
    "writer = pd.ExcelWriter('C:/Users/tsb7592/Downloads/NIHTB_counts_July.xlsx', engine='xlsxwriter')\n",
    "\n",
    "# Write each dataframe to a different worksheet.\n",
    "aa.to_excel(writer, sheet_name='adults')\n",
    "kk.to_excel(writer, sheet_name='kids')  \n",
    "ad['highestEd'].value_counts().to_excel(writer, sheet_name='ad_edu') \n",
    "kd['highestEd'].value_counts().to_excel(writer, sheet_name='kids_edu') \n",
    "# Close the Pandas Excel writer and output the Excel file.\n",
    "writer.save()\n",
    "'''"
   ]
  },
  {
   "cell_type": "markdown",
   "id": "6a9739d0",
   "metadata": {},
   "source": [
    "# Save for R code"
   ]
  },
  {
   "cell_type": "code",
   "execution_count": 32,
   "id": "bc3b46d9",
   "metadata": {},
   "outputs": [],
   "source": [
    "final =['FinalPIN','region', 'age', 'sex', 'highestEdu','region-race','region-sex','agegroup']"
   ]
  },
  {
   "cell_type": "code",
   "execution_count": 33,
   "id": "bfa82721",
   "metadata": {},
   "outputs": [
    {
     "data": {
      "text/html": [
       "<div>\n",
       "<style scoped>\n",
       "    .dataframe tbody tr th:only-of-type {\n",
       "        vertical-align: middle;\n",
       "    }\n",
       "\n",
       "    .dataframe tbody tr th {\n",
       "        vertical-align: top;\n",
       "    }\n",
       "\n",
       "    .dataframe thead th {\n",
       "        text-align: right;\n",
       "    }\n",
       "</style>\n",
       "<table border=\"1\" class=\"dataframe\">\n",
       "  <thead>\n",
       "    <tr style=\"text-align: right;\">\n",
       "      <th></th>\n",
       "      <th>FinalPIN</th>\n",
       "      <th>region</th>\n",
       "      <th>age</th>\n",
       "      <th>sex</th>\n",
       "      <th>highestEdu</th>\n",
       "      <th>region-race</th>\n",
       "      <th>region-sex</th>\n",
       "      <th>agegroup</th>\n",
       "    </tr>\n",
       "  </thead>\n",
       "  <tbody>\n",
       "    <tr>\n",
       "      <th>3899</th>\n",
       "      <td>MSL04001</td>\n",
       "      <td>2</td>\n",
       "      <td>4</td>\n",
       "      <td>Male</td>\n",
       "      <td>less than high school graduate</td>\n",
       "      <td>2-White</td>\n",
       "      <td>2-Male</td>\n",
       "      <td>Child</td>\n",
       "    </tr>\n",
       "    <tr>\n",
       "      <th>3900</th>\n",
       "      <td>MSL11012</td>\n",
       "      <td>2</td>\n",
       "      <td>11</td>\n",
       "      <td>Male</td>\n",
       "      <td>less than high school graduate</td>\n",
       "      <td>2-Black</td>\n",
       "      <td>2-Male</td>\n",
       "      <td>Child</td>\n",
       "    </tr>\n",
       "    <tr>\n",
       "      <th>3901</th>\n",
       "      <td>MSL12001</td>\n",
       "      <td>2</td>\n",
       "      <td>12</td>\n",
       "      <td>Female</td>\n",
       "      <td>less than high school graduate</td>\n",
       "      <td>2-Black</td>\n",
       "      <td>2-Female</td>\n",
       "      <td>Child</td>\n",
       "    </tr>\n",
       "    <tr>\n",
       "      <th>3902</th>\n",
       "      <td>MSL09013</td>\n",
       "      <td>2</td>\n",
       "      <td>9</td>\n",
       "      <td>Male</td>\n",
       "      <td>less than high school graduate</td>\n",
       "      <td>2-White</td>\n",
       "      <td>2-Male</td>\n",
       "      <td>Child</td>\n",
       "    </tr>\n",
       "    <tr>\n",
       "      <th>3903</th>\n",
       "      <td>MSL70106</td>\n",
       "      <td>2</td>\n",
       "      <td>74</td>\n",
       "      <td>Male</td>\n",
       "      <td>Bachelors/4-year degree</td>\n",
       "      <td>2-White</td>\n",
       "      <td>2-Male</td>\n",
       "      <td>OlderAdult</td>\n",
       "    </tr>\n",
       "  </tbody>\n",
       "</table>\n",
       "</div>"
      ],
      "text/plain": [
       "      FinalPIN  region  age     sex                      highestEdu  \\\n",
       "3899  MSL04001       2    4    Male  less than high school graduate   \n",
       "3900  MSL11012       2   11    Male  less than high school graduate   \n",
       "3901  MSL12001       2   12  Female  less than high school graduate   \n",
       "3902  MSL09013       2    9    Male  less than high school graduate   \n",
       "3903  MSL70106       2   74    Male         Bachelors/4-year degree   \n",
       "\n",
       "     region-race region-sex    agegroup  \n",
       "3899     2-White     2-Male       Child  \n",
       "3900     2-Black     2-Male       Child  \n",
       "3901     2-Black   2-Female       Child  \n",
       "3902     2-White     2-Male       Child  \n",
       "3903     2-White     2-Male  OlderAdult  "
      ]
     },
     "execution_count": 33,
     "metadata": {},
     "output_type": "execute_result"
    }
   ],
   "source": [
    "df[final].tail()"
   ]
  },
  {
   "cell_type": "code",
   "execution_count": 35,
   "id": "783f13ff",
   "metadata": {},
   "outputs": [
    {
     "data": {
      "text/plain": [
       "agegroup\n",
       "Child          20\n",
       "YoungAdult     20\n",
       "MiddleAdult    19\n",
       "OlderAdult     18\n",
       "Name: region-race, dtype: int64"
      ]
     },
     "execution_count": 35,
     "metadata": {},
     "output_type": "execute_result"
    }
   ],
   "source": [
    "df.groupby('agegroup')['region-race'].nunique()"
   ]
  },
  {
   "cell_type": "code",
   "execution_count": 38,
   "id": "4fc30d33",
   "metadata": {},
   "outputs": [
    {
     "data": {
      "text/plain": [
       "array(['2-White', '2-Black', '2-Other', '2-Hispanic', '2-AsianAmerican',\n",
       "       '1-Black', '1-AsianAmerican', '1-Hispanic', '1-White', '3-White',\n",
       "       '3-Hispanic', '3-AsianAmerican', '3-Black', '3-Other', '4-Black',\n",
       "       '4-Hispanic', '4-White', '4-AsianAmerican', '4-Other'],\n",
       "      dtype=object)"
      ]
     },
     "execution_count": 38,
     "metadata": {},
     "output_type": "execute_result"
    }
   ],
   "source": [
    "df[df.agegroup=='MiddleAdult']['region-race'].unique()"
   ]
  },
  {
   "cell_type": "code",
   "execution_count": 37,
   "id": "dd4beb5e",
   "metadata": {},
   "outputs": [
    {
     "data": {
      "text/plain": [
       "array(['2-White', '2-Hispanic', '2-Black', '2-AsianAmerican', '1-White',\n",
       "       '1-Black', '1-Hispanic', '1-AsianAmerican', '3-White', '3-Black',\n",
       "       '3-Other', '3-AsianAmerican', '3-Hispanic', '4-Black', '4-White',\n",
       "       '4-Hispanic', '4-AsianAmerican', '4-Other'], dtype=object)"
      ]
     },
     "execution_count": 37,
     "metadata": {},
     "output_type": "execute_result"
    }
   ],
   "source": [
    "df[df.agegroup=='OlderAdult']['region-race'].unique()"
   ]
  },
  {
   "cell_type": "code",
   "execution_count": 115,
   "id": "822e4507",
   "metadata": {},
   "outputs": [],
   "source": [
    "df[final].to_csv('C:/Users/tsb7592/Downloads/NIHTB_demoFinal_July.csv', index=False)"
   ]
  },
  {
   "cell_type": "markdown",
   "id": "91aed9cd",
   "metadata": {},
   "source": [
    "# Validate (After running the Rcode)"
   ]
  },
  {
   "cell_type": "code",
   "execution_count": 49,
   "id": "bd1332e8",
   "metadata": {},
   "outputs": [],
   "source": [
    "pedu={'less_HS_prop':\"less than high school graduate\", 'HS_GED_prop':\"high school graduate\", 'SomeCollege_prop':\"some college\",\n",
    "'BA_more_prop':'four year or higher degree' }\n",
    "\n",
    "sedu={'less_HS_prop':\"less than high school graduate\", 'HS_GED_prop':\"high school graduate\", 'SomeCollege_prop':\"some college\",\n",
    "'Bachelors_prop':\"Bachelors/4-year degree\", 'Advanced_prop':'Advanced Degree'}"
   ]
  },
  {
   "cell_type": "code",
   "execution_count": 44,
   "id": "0222b923",
   "metadata": {},
   "outputs": [],
   "source": [
    "#Read the output files from R code\n",
    "child = pd.read_csv('C:/Users/tsb7592/Downloads/child_weights.csv')\n",
    "yadult = pd.read_csv('C:/Users/tsb7592/Downloads/youngadults_weights.csv')\n",
    "madult = pd.read_csv('C:/Users/tsb7592/Downloads/middleadults_weights.csv')\n",
    "oadult = pd.read_csv('C:/Users/tsb7592/Downloads/olderadults_weights.csv')"
   ]
  },
  {
   "cell_type": "code",
   "execution_count": 94,
   "id": "1ef56dfc",
   "metadata": {},
   "outputs": [],
   "source": [
    "rv = child.append(yadult)\n",
    "rv = rv.append(madult)\n",
    "rv= rv.append(oadult)"
   ]
  },
  {
   "cell_type": "code",
   "execution_count": 98,
   "id": "9552666a",
   "metadata": {
    "scrolled": true
   },
   "outputs": [],
   "source": [
    "rv.to_csv('C:/Users/tsb7592/Downloads/all_weights.csv', index= False)"
   ]
  },
  {
   "cell_type": "code",
   "execution_count": 83,
   "id": "a6696eb9",
   "metadata": {},
   "outputs": [],
   "source": [
    "import matplotlib.pyplot as plt\n",
    "\n",
    "def histogram(df, label):\n",
    "    # 16 = 4 * (1/.0.25)\n",
    "    ax = df.hist(column='weights4', bins=16, grid=False, figsize=(12,8), color='#86bf91', zorder=2, rwidth=0.9)\n",
    "\n",
    "    ax = ax[0]\n",
    "    for x in ax:\n",
    "\n",
    "        # Despine\n",
    "        x.spines['right'].set_visible(False)\n",
    "        x.spines['top'].set_visible(False)\n",
    "        x.spines['left'].set_visible(False)\n",
    "\n",
    "        # Switch off ticks\n",
    "        x.tick_params(axis=\"both\", which=\"both\", bottom=\"off\", top=\"off\", labelbottom=\"on\", left=\"off\", right=\"off\", labelleft=\"on\")\n",
    "\n",
    "        # Draw horizontal axis lines\n",
    "        vals = x.get_yticks()\n",
    "        for tick in vals:\n",
    "            x.axhline(y=tick, linestyle='dashed', alpha=0.4, color='#eeeeee', zorder=1)\n",
    "\n",
    "        # Remove title\n",
    "        x.set_title(label)\n",
    "\n",
    "        # Set x-axis label\n",
    "        x.set_xlabel(\"Weights\", labelpad=20, weight='bold', size=12)\n",
    "\n",
    "        # Set y-axis label\n",
    "        x.set_ylabel(\"Count\", labelpad=20, weight='bold', size=12)\n",
    "\n",
    "\n",
    "\n"
   ]
  },
  {
   "cell_type": "code",
   "execution_count": 84,
   "id": "8229d662",
   "metadata": {},
   "outputs": [
    {
     "data": {
      "image/png": "[encoded data removed]",
      "text/plain": [
       "<Figure size 864x576 with 1 Axes>"
      ]
     },
     "metadata": {
      "needs_background": "light"
     },
     "output_type": "display_data"
    }
   ],
   "source": [
    "histogram(child, 'Child')"
   ]
  },
  {
   "cell_type": "code",
   "execution_count": 85,
   "id": "5b1ed106",
   "metadata": {},
   "outputs": [
    {
     "data": {
      "image/png": "[encoded data removed]",
      "text/plain": [
       "<Figure size 864x576 with 1 Axes>"
      ]
     },
     "metadata": {
      "needs_background": "light"
     },
     "output_type": "display_data"
    }
   ],
   "source": [
    "histogram(yadult, 'Young Adults')"
   ]
  },
  {
   "cell_type": "code",
   "execution_count": 86,
   "id": "66cef0ea",
   "metadata": {},
   "outputs": [
    {
     "data": {
      "image/png": "[encoded data removed]",
      "text/plain": [
       "<Figure size 864x576 with 1 Axes>"
      ]
     },
     "metadata": {
      "needs_background": "light"
     },
     "output_type": "display_data"
    }
   ],
   "source": [
    "histogram(madult, 'Middle Adults')"
   ]
  },
  {
   "cell_type": "code",
   "execution_count": 87,
   "id": "1f112a1c",
   "metadata": {},
   "outputs": [
    {
     "data": {
      "image/png": "[encoded data removed]",
      "text/plain": [
       "<Figure size 864x576 with 1 Axes>"
      ]
     },
     "metadata": {
      "needs_background": "light"
     },
     "output_type": "display_data"
    }
   ],
   "source": [
    "histogram(oadult, 'Older Adults')"
   ]
  },
  {
   "cell_type": "code",
   "execution_count": 89,
   "id": "e651f381",
   "metadata": {},
   "outputs": [],
   "source": [
    "tar = pd.read_csv('C:\\\\Users\\\\tsb7592\\\\Downloads\\\\ForJulyWeighting\\\\ChildTargets.csv')\n",
    "ytar = pd.read_csv('C:\\\\Users\\\\tsb7592\\\\Downloads\\\\ForJulyWeighting\\\\YoungAdultTargets.csv')\n",
    "mtar = pd.read_csv('C:\\\\Users\\\\tsb7592\\\\Downloads\\\\ForJulyWeighting\\\\MiddleAdultTargets.csv')\n",
    "otar = pd.read_csv('C:\\\\Users\\\\tsb7592\\\\Downloads\\\\ForJulyWeighting\\\\OlderAdultTargets.csv')"
   ]
  },
  {
   "cell_type": "code",
   "execution_count": 51,
   "id": "943fcc6f",
   "metadata": {},
   "outputs": [],
   "source": [
    "import numpy as np\n",
    "\n",
    "def obtained_weighted(data, target, edu):\n",
    "    '''\n",
    "    Fill the obtained N for race, sex and edu\n",
    "    Use the raw counts to fill in the “unweighted_N” \n",
    "    \n",
    "    '''\n",
    "    total = data.shape[0]\n",
    "    target = target.replace({\"Target\": edu})\n",
    "    target['name'] = target.REGION.map(str) + \"-\" + target['Target']\n",
    "    rr = data.groupby('region.race')['FinalPIN'].count().reset_index()\n",
    "    rs = data.groupby('region.sex')['FinalPIN'].count().reset_index()\n",
    "    re = data.groupby('highestEdu')['FinalPIN'].count().reset_index()\n",
    "    \n",
    "    comb = pd.merge(target, rr, left_on='name', right_on='region.race', how='left')\n",
    "    comb['Obtained_N'].fillna(comb['FinalPIN'],inplace=True)\n",
    "    \n",
    "    comb = pd.merge(comb, rs, left_on='name', right_on='region.sex', how='left')\n",
    "    comb['Obtained_N'].fillna(comb['FinalPIN_y'],inplace=True)\n",
    "    \n",
    "    comb = pd.merge(comb, re, left_on='Target', right_on='highestEdu', how='left')\n",
    "    comb['Obtained_N'].fillna(comb['FinalPIN'],inplace=True)\n",
    "    \n",
    "    comb['Unweighted_Proportion' ] = comb['Obtained_N']/total\n",
    "    #“unweighted_proportion” is the unweighted_N divided by the sum of the unweighted_n grouped-by characteristic. \n",
    "    rr = data.groupby('region.race')['weights4'].sum().reset_index()\n",
    "    rs = data.groupby('region.sex')['weights4'].sum().reset_index()\n",
    "    re = data.groupby('highestEdu')['weights4'].sum().reset_index()\n",
    "    \n",
    "    comb = pd.merge(comb, rr, left_on='name', right_on='region.race', how='left')\n",
    "    comb['Weighted_Proportion'].fillna(comb['weights4'],inplace=True)\n",
    "    \n",
    "    comb = pd.merge(comb, rs, left_on='name', right_on='region.sex', how='left')\n",
    "    comb['Weighted_Proportion'].fillna(comb['weights4_y'],inplace=True)\n",
    "    \n",
    "    comb = pd.merge(comb, re, left_on='Target', right_on='highestEdu', how='left')\n",
    "    comb['Weighted_Proportion'].fillna(comb['weights4'],inplace=True)    \n",
    "    \n",
    "    comb['Weighted_Proportion' ] =comb['Weighted_Proportion' ] /total\n",
    "    \n",
    "    \n",
    "    comb['Unweighted_Difference'] = comb['Unweighted_Proportion'] - comb['Proportion']\n",
    "    comb['Weighted_Difference'] = comb['Weighted_Proportion'] - comb['Proportion']\n",
    "    return comb.iloc[:,:10]"
   ]
  },
  {
   "cell_type": "code",
   "execution_count": 101,
   "id": "107f1df1",
   "metadata": {
    "scrolled": true
   },
   "outputs": [
    {
     "data": {
      "text/html": [
       "<div>\n",
       "<style scoped>\n",
       "    .dataframe tbody tr th:only-of-type {\n",
       "        vertical-align: middle;\n",
       "    }\n",
       "\n",
       "    .dataframe tbody tr th {\n",
       "        vertical-align: top;\n",
       "    }\n",
       "\n",
       "    .dataframe thead th {\n",
       "        text-align: right;\n",
       "    }\n",
       "</style>\n",
       "<table border=\"1\" class=\"dataframe\">\n",
       "  <thead>\n",
       "    <tr style=\"text-align: right;\">\n",
       "      <th></th>\n",
       "      <th>ageCat</th>\n",
       "      <th>REGION</th>\n",
       "      <th>Characteristic</th>\n",
       "      <th>Target</th>\n",
       "      <th>Proportion</th>\n",
       "      <th>Obtained_N</th>\n",
       "      <th>Unweighted_Proportion</th>\n",
       "      <th>Weighted_Proportion</th>\n",
       "      <th>Unweighted_Difference</th>\n",
       "      <th>Weighted_Difference</th>\n",
       "    </tr>\n",
       "  </thead>\n",
       "  <tbody>\n",
       "    <tr>\n",
       "      <th>0</th>\n",
       "      <td>1</td>\n",
       "      <td>1</td>\n",
       "      <td>raceEth</td>\n",
       "      <td>AsianAmerican</td>\n",
       "      <td>0.0114</td>\n",
       "      <td>19.0000</td>\n",
       "      <td>0.0085</td>\n",
       "      <td>0.0114</td>\n",
       "      <td>-0.0029</td>\n",
       "      <td>0.0000</td>\n",
       "    </tr>\n",
       "    <tr>\n",
       "      <th>1</th>\n",
       "      <td>1</td>\n",
       "      <td>1</td>\n",
       "      <td>raceEth</td>\n",
       "      <td>Black</td>\n",
       "      <td>0.0199</td>\n",
       "      <td>52.0000</td>\n",
       "      <td>0.0232</td>\n",
       "      <td>0.0199</td>\n",
       "      <td>0.0033</td>\n",
       "      <td>0.0000</td>\n",
       "    </tr>\n",
       "    <tr>\n",
       "      <th>2</th>\n",
       "      <td>1</td>\n",
       "      <td>1</td>\n",
       "      <td>raceEth</td>\n",
       "      <td>Hispanic</td>\n",
       "      <td>0.0333</td>\n",
       "      <td>69.0000</td>\n",
       "      <td>0.0307</td>\n",
       "      <td>0.0333</td>\n",
       "      <td>-0.0026</td>\n",
       "      <td>0.0000</td>\n",
       "    </tr>\n",
       "    <tr>\n",
       "      <th>3</th>\n",
       "      <td>1</td>\n",
       "      <td>1</td>\n",
       "      <td>raceEth</td>\n",
       "      <td>Other</td>\n",
       "      <td>0.0066</td>\n",
       "      <td>20.0000</td>\n",
       "      <td>0.0089</td>\n",
       "      <td>0.0066</td>\n",
       "      <td>0.0023</td>\n",
       "      <td>0.0000</td>\n",
       "    </tr>\n",
       "    <tr>\n",
       "      <th>4</th>\n",
       "      <td>1</td>\n",
       "      <td>1</td>\n",
       "      <td>raceEth</td>\n",
       "      <td>White</td>\n",
       "      <td>0.0893</td>\n",
       "      <td>188.0000</td>\n",
       "      <td>0.0837</td>\n",
       "      <td>0.0893</td>\n",
       "      <td>-0.0056</td>\n",
       "      <td>0.0000</td>\n",
       "    </tr>\n",
       "  </tbody>\n",
       "</table>\n",
       "</div>"
      ],
      "text/plain": [
       "   ageCat  REGION Characteristic         Target  Proportion  Obtained_N  \\\n",
       "0       1       1        raceEth  AsianAmerican      0.0114     19.0000   \n",
       "1       1       1        raceEth          Black      0.0199     52.0000   \n",
       "2       1       1        raceEth       Hispanic      0.0333     69.0000   \n",
       "3       1       1        raceEth          Other      0.0066     20.0000   \n",
       "4       1       1        raceEth          White      0.0893    188.0000   \n",
       "\n",
       "   Unweighted_Proportion  Weighted_Proportion  Unweighted_Difference  \\\n",
       "0                 0.0085               0.0114                -0.0029   \n",
       "1                 0.0232               0.0199                 0.0033   \n",
       "2                 0.0307               0.0333                -0.0026   \n",
       "3                 0.0089               0.0066                 0.0023   \n",
       "4                 0.0837               0.0893                -0.0056   \n",
       "\n",
       "   Weighted_Difference  \n",
       "0               0.0000  \n",
       "1               0.0000  \n",
       "2               0.0000  \n",
       "3               0.0000  \n",
       "4               0.0000  "
      ]
     },
     "execution_count": 101,
     "metadata": {},
     "output_type": "execute_result"
    }
   ],
   "source": [
    "ctar =obtained_weighted(child, tar, pedu)\n",
    "ctar.head()"
   ]
  },
  {
   "cell_type": "code",
   "execution_count": 102,
   "id": "26516323",
   "metadata": {},
   "outputs": [
    {
     "data": {
      "text/html": [
       "<div>\n",
       "<style scoped>\n",
       "    .dataframe tbody tr th:only-of-type {\n",
       "        vertical-align: middle;\n",
       "    }\n",
       "\n",
       "    .dataframe tbody tr th {\n",
       "        vertical-align: top;\n",
       "    }\n",
       "\n",
       "    .dataframe thead th {\n",
       "        text-align: right;\n",
       "    }\n",
       "</style>\n",
       "<table border=\"1\" class=\"dataframe\">\n",
       "  <thead>\n",
       "    <tr style=\"text-align: right;\">\n",
       "      <th></th>\n",
       "      <th>ageCat</th>\n",
       "      <th>REGION</th>\n",
       "      <th>Characteristic</th>\n",
       "      <th>Target</th>\n",
       "      <th>Proportion</th>\n",
       "      <th>Obtained_N</th>\n",
       "      <th>Unweighted_Proportion</th>\n",
       "      <th>Weighted_Proportion</th>\n",
       "      <th>Unweighted_Difference</th>\n",
       "      <th>Weighted_Difference</th>\n",
       "    </tr>\n",
       "  </thead>\n",
       "  <tbody>\n",
       "    <tr>\n",
       "      <th>0</th>\n",
       "      <td>2</td>\n",
       "      <td>1</td>\n",
       "      <td>raceEth</td>\n",
       "      <td>AsianAmerican</td>\n",
       "      <td>0.0122</td>\n",
       "      <td>9.0000</td>\n",
       "      <td>0.0189</td>\n",
       "      <td>0.0122</td>\n",
       "      <td>0.0067</td>\n",
       "      <td>0.0000</td>\n",
       "    </tr>\n",
       "    <tr>\n",
       "      <th>1</th>\n",
       "      <td>2</td>\n",
       "      <td>1</td>\n",
       "      <td>raceEth</td>\n",
       "      <td>Black</td>\n",
       "      <td>0.0216</td>\n",
       "      <td>13.0000</td>\n",
       "      <td>0.0273</td>\n",
       "      <td>0.0216</td>\n",
       "      <td>0.0057</td>\n",
       "      <td>0.0000</td>\n",
       "    </tr>\n",
       "    <tr>\n",
       "      <th>2</th>\n",
       "      <td>2</td>\n",
       "      <td>1</td>\n",
       "      <td>raceEth</td>\n",
       "      <td>Hispanic</td>\n",
       "      <td>0.0307</td>\n",
       "      <td>20.0000</td>\n",
       "      <td>0.0419</td>\n",
       "      <td>0.0307</td>\n",
       "      <td>0.0112</td>\n",
       "      <td>0.0000</td>\n",
       "    </tr>\n",
       "    <tr>\n",
       "      <th>3</th>\n",
       "      <td>2</td>\n",
       "      <td>1</td>\n",
       "      <td>raceEth</td>\n",
       "      <td>Other</td>\n",
       "      <td>0.0051</td>\n",
       "      <td>1.0000</td>\n",
       "      <td>0.0021</td>\n",
       "      <td>0.0051</td>\n",
       "      <td>-0.0030</td>\n",
       "      <td>0.0000</td>\n",
       "    </tr>\n",
       "    <tr>\n",
       "      <th>4</th>\n",
       "      <td>2</td>\n",
       "      <td>1</td>\n",
       "      <td>raceEth</td>\n",
       "      <td>White</td>\n",
       "      <td>0.1017</td>\n",
       "      <td>54.0000</td>\n",
       "      <td>0.1132</td>\n",
       "      <td>0.1017</td>\n",
       "      <td>0.0115</td>\n",
       "      <td>0.0000</td>\n",
       "    </tr>\n",
       "  </tbody>\n",
       "</table>\n",
       "</div>"
      ],
      "text/plain": [
       "   ageCat  REGION Characteristic         Target  Proportion  Obtained_N  \\\n",
       "0       2       1        raceEth  AsianAmerican      0.0122      9.0000   \n",
       "1       2       1        raceEth          Black      0.0216     13.0000   \n",
       "2       2       1        raceEth       Hispanic      0.0307     20.0000   \n",
       "3       2       1        raceEth          Other      0.0051      1.0000   \n",
       "4       2       1        raceEth          White      0.1017     54.0000   \n",
       "\n",
       "   Unweighted_Proportion  Weighted_Proportion  Unweighted_Difference  \\\n",
       "0                 0.0189               0.0122                 0.0067   \n",
       "1                 0.0273               0.0216                 0.0057   \n",
       "2                 0.0419               0.0307                 0.0112   \n",
       "3                 0.0021               0.0051                -0.0030   \n",
       "4                 0.1132               0.1017                 0.0115   \n",
       "\n",
       "   Weighted_Difference  \n",
       "0               0.0000  \n",
       "1               0.0000  \n",
       "2               0.0000  \n",
       "3               0.0000  \n",
       "4               0.0000  "
      ]
     },
     "execution_count": 102,
     "metadata": {},
     "output_type": "execute_result"
    }
   ],
   "source": [
    "ytar =obtained_weighted(yadult, ytar, sedu)\n",
    "ytar.head()"
   ]
  },
  {
   "cell_type": "code",
   "execution_count": 103,
   "id": "41f20043",
   "metadata": {},
   "outputs": [
    {
     "data": {
      "text/html": [
       "<div>\n",
       "<style scoped>\n",
       "    .dataframe tbody tr th:only-of-type {\n",
       "        vertical-align: middle;\n",
       "    }\n",
       "\n",
       "    .dataframe tbody tr th {\n",
       "        vertical-align: top;\n",
       "    }\n",
       "\n",
       "    .dataframe thead th {\n",
       "        text-align: right;\n",
       "    }\n",
       "</style>\n",
       "<table border=\"1\" class=\"dataframe\">\n",
       "  <thead>\n",
       "    <tr style=\"text-align: right;\">\n",
       "      <th></th>\n",
       "      <th>ageCat</th>\n",
       "      <th>REGION</th>\n",
       "      <th>Characteristic</th>\n",
       "      <th>Target</th>\n",
       "      <th>Proportion</th>\n",
       "      <th>Obtained_N</th>\n",
       "      <th>Unweighted_Proportion</th>\n",
       "      <th>Weighted_Proportion</th>\n",
       "      <th>Unweighted_Difference</th>\n",
       "      <th>Weighted_Difference</th>\n",
       "    </tr>\n",
       "  </thead>\n",
       "  <tbody>\n",
       "    <tr>\n",
       "      <th>0</th>\n",
       "      <td>2</td>\n",
       "      <td>1</td>\n",
       "      <td>raceEth</td>\n",
       "      <td>AsianAmerican</td>\n",
       "      <td>0.0122</td>\n",
       "      <td>8.0000</td>\n",
       "      <td>0.0129</td>\n",
       "      <td>0.0000</td>\n",
       "      <td>0.0007</td>\n",
       "      <td>-0.0122</td>\n",
       "    </tr>\n",
       "    <tr>\n",
       "      <th>1</th>\n",
       "      <td>2</td>\n",
       "      <td>1</td>\n",
       "      <td>raceEth</td>\n",
       "      <td>Black</td>\n",
       "      <td>0.0216</td>\n",
       "      <td>16.0000</td>\n",
       "      <td>0.0259</td>\n",
       "      <td>0.0000</td>\n",
       "      <td>0.0043</td>\n",
       "      <td>-0.0216</td>\n",
       "    </tr>\n",
       "    <tr>\n",
       "      <th>2</th>\n",
       "      <td>2</td>\n",
       "      <td>1</td>\n",
       "      <td>raceEth</td>\n",
       "      <td>Hispanic</td>\n",
       "      <td>0.0307</td>\n",
       "      <td>12.0000</td>\n",
       "      <td>0.0194</td>\n",
       "      <td>0.0000</td>\n",
       "      <td>-0.0113</td>\n",
       "      <td>-0.0307</td>\n",
       "    </tr>\n",
       "    <tr>\n",
       "      <th>3</th>\n",
       "      <td>2</td>\n",
       "      <td>all</td>\n",
       "      <td>raceEth</td>\n",
       "      <td>Other</td>\n",
       "      <td>0.0430</td>\n",
       "      <td>13.0000</td>\n",
       "      <td>0.0210</td>\n",
       "      <td>0.0001</td>\n",
       "      <td>-0.0220</td>\n",
       "      <td>-0.0429</td>\n",
       "    </tr>\n",
       "    <tr>\n",
       "      <th>4</th>\n",
       "      <td>2</td>\n",
       "      <td>1</td>\n",
       "      <td>raceEth</td>\n",
       "      <td>White</td>\n",
       "      <td>0.1017</td>\n",
       "      <td>71.0000</td>\n",
       "      <td>0.1149</td>\n",
       "      <td>0.0002</td>\n",
       "      <td>0.0132</td>\n",
       "      <td>-0.1015</td>\n",
       "    </tr>\n",
       "  </tbody>\n",
       "</table>\n",
       "</div>"
      ],
      "text/plain": [
       "   ageCat REGION Characteristic         Target  Proportion  Obtained_N  \\\n",
       "0       2      1        raceEth  AsianAmerican      0.0122      8.0000   \n",
       "1       2      1        raceEth          Black      0.0216     16.0000   \n",
       "2       2      1        raceEth       Hispanic      0.0307     12.0000   \n",
       "3       2    all        raceEth          Other      0.0430     13.0000   \n",
       "4       2      1        raceEth          White      0.1017     71.0000   \n",
       "\n",
       "   Unweighted_Proportion  Weighted_Proportion  Unweighted_Difference  \\\n",
       "0                 0.0129               0.0000                 0.0007   \n",
       "1                 0.0259               0.0000                 0.0043   \n",
       "2                 0.0194               0.0000                -0.0113   \n",
       "3                 0.0210               0.0001                -0.0220   \n",
       "4                 0.1149               0.0002                 0.0132   \n",
       "\n",
       "   Weighted_Difference  \n",
       "0              -0.0122  \n",
       "1              -0.0216  \n",
       "2              -0.0307  \n",
       "3              -0.0429  \n",
       "4              -0.1015  "
      ]
     },
     "execution_count": 103,
     "metadata": {},
     "output_type": "execute_result"
    }
   ],
   "source": [
    "mtar =obtained_weighted(madult, mtar, sedu)\n",
    "mtar.head()"
   ]
  },
  {
   "cell_type": "code",
   "execution_count": 104,
   "id": "7ea425eb",
   "metadata": {},
   "outputs": [
    {
     "data": {
      "text/html": [
       "<div>\n",
       "<style scoped>\n",
       "    .dataframe tbody tr th:only-of-type {\n",
       "        vertical-align: middle;\n",
       "    }\n",
       "\n",
       "    .dataframe tbody tr th {\n",
       "        vertical-align: top;\n",
       "    }\n",
       "\n",
       "    .dataframe thead th {\n",
       "        text-align: right;\n",
       "    }\n",
       "</style>\n",
       "<table border=\"1\" class=\"dataframe\">\n",
       "  <thead>\n",
       "    <tr style=\"text-align: right;\">\n",
       "      <th></th>\n",
       "      <th>ageCat</th>\n",
       "      <th>REGION</th>\n",
       "      <th>Characteristic</th>\n",
       "      <th>Target</th>\n",
       "      <th>Proportion</th>\n",
       "      <th>Obtained_N</th>\n",
       "      <th>Unweighted_Proportion</th>\n",
       "      <th>Weighted_Proportion</th>\n",
       "      <th>Unweighted_Difference</th>\n",
       "      <th>Weighted_Difference</th>\n",
       "    </tr>\n",
       "  </thead>\n",
       "  <tbody>\n",
       "    <tr>\n",
       "      <th>0</th>\n",
       "      <td>2</td>\n",
       "      <td>1</td>\n",
       "      <td>raceEth</td>\n",
       "      <td>AsianAmerican</td>\n",
       "      <td>0.0122</td>\n",
       "      <td>1.0000</td>\n",
       "      <td>0.0018</td>\n",
       "      <td>0.0000</td>\n",
       "      <td>-0.0104</td>\n",
       "      <td>-0.0122</td>\n",
       "    </tr>\n",
       "    <tr>\n",
       "      <th>1</th>\n",
       "      <td>2</td>\n",
       "      <td>1</td>\n",
       "      <td>raceEth</td>\n",
       "      <td>Black</td>\n",
       "      <td>0.0216</td>\n",
       "      <td>8.0000</td>\n",
       "      <td>0.0143</td>\n",
       "      <td>0.0000</td>\n",
       "      <td>-0.0073</td>\n",
       "      <td>-0.0216</td>\n",
       "    </tr>\n",
       "    <tr>\n",
       "      <th>2</th>\n",
       "      <td>2</td>\n",
       "      <td>1</td>\n",
       "      <td>raceEth</td>\n",
       "      <td>Hispanic</td>\n",
       "      <td>0.0307</td>\n",
       "      <td>2.0000</td>\n",
       "      <td>0.0036</td>\n",
       "      <td>0.0000</td>\n",
       "      <td>-0.0271</td>\n",
       "      <td>-0.0307</td>\n",
       "    </tr>\n",
       "    <tr>\n",
       "      <th>3</th>\n",
       "      <td>2</td>\n",
       "      <td>all</td>\n",
       "      <td>raceEth</td>\n",
       "      <td>Other</td>\n",
       "      <td>0.0430</td>\n",
       "      <td>3.0000</td>\n",
       "      <td>0.0053</td>\n",
       "      <td>0.0000</td>\n",
       "      <td>-0.0377</td>\n",
       "      <td>-0.0430</td>\n",
       "    </tr>\n",
       "    <tr>\n",
       "      <th>4</th>\n",
       "      <td>2</td>\n",
       "      <td>1</td>\n",
       "      <td>raceEth</td>\n",
       "      <td>White</td>\n",
       "      <td>0.1017</td>\n",
       "      <td>98.0000</td>\n",
       "      <td>0.1747</td>\n",
       "      <td>0.0002</td>\n",
       "      <td>0.0730</td>\n",
       "      <td>-0.1015</td>\n",
       "    </tr>\n",
       "  </tbody>\n",
       "</table>\n",
       "</div>"
      ],
      "text/plain": [
       "   ageCat REGION Characteristic         Target  Proportion  Obtained_N  \\\n",
       "0       2      1        raceEth  AsianAmerican      0.0122      1.0000   \n",
       "1       2      1        raceEth          Black      0.0216      8.0000   \n",
       "2       2      1        raceEth       Hispanic      0.0307      2.0000   \n",
       "3       2    all        raceEth          Other      0.0430      3.0000   \n",
       "4       2      1        raceEth          White      0.1017     98.0000   \n",
       "\n",
       "   Unweighted_Proportion  Weighted_Proportion  Unweighted_Difference  \\\n",
       "0                 0.0018               0.0000                -0.0104   \n",
       "1                 0.0143               0.0000                -0.0073   \n",
       "2                 0.0036               0.0000                -0.0271   \n",
       "3                 0.0053               0.0000                -0.0377   \n",
       "4                 0.1747               0.0002                 0.0730   \n",
       "\n",
       "   Weighted_Difference  \n",
       "0              -0.0122  \n",
       "1              -0.0216  \n",
       "2              -0.0307  \n",
       "3              -0.0430  \n",
       "4              -0.1015  "
      ]
     },
     "execution_count": 104,
     "metadata": {},
     "output_type": "execute_result"
    }
   ],
   "source": [
    "otar =obtained_weighted(oadult, otar, sedu)\n",
    "otar.head()"
   ]
  },
  {
   "cell_type": "code",
   "execution_count": 105,
   "id": "ebed878c",
   "metadata": {},
   "outputs": [],
   "source": [
    "ctar.to_csv('C:\\\\Users\\\\tsb7592\\\\Downloads\\\\ChildTargets.csv', index=False)\n",
    "ytar.to_csv('C:\\\\Users\\\\tsb7592\\\\Downloads\\\\YoungAdultTargets.csv', index=False)\n",
    "mtar.to_csv('C:\\\\Users\\\\tsb7592\\\\Downloads\\\\MiddleAdultTargets.csv', index=False)\n",
    "otar.to_csv('C:\\\\Users\\\\tsb7592\\\\Downloads\\\\OlderAdultTargets.csv' ,index=False)"
   ]
  },
  {
   "cell_type": "code",
   "execution_count": null,
   "id": "921ecfe7",
   "metadata": {},
   "outputs": [],
   "source": []
  },
  {
   "cell_type": "code",
   "execution_count": null,
   "id": "a37ac1be",
   "metadata": {},
   "outputs": [],
   "source": []
  },
  {
   "cell_type": "code",
   "execution_count": null,
   "id": "f30a4855",
   "metadata": {},
   "outputs": [],
   "source": []
  },
  {
   "cell_type": "code",
   "execution_count": null,
   "id": "4331ef80",
   "metadata": {},
   "outputs": [],
   "source": [
    "kp = crosstab(kids)\n",
    "kp"
   ]
  },
  {
   "cell_type": "code",
   "execution_count": null,
   "id": "c866ef82",
   "metadata": {},
   "outputs": [],
   "source": [
    "ap = crosstab(adults,'weights.7a')\n",
    "ap"
   ]
  },
  {
   "cell_type": "code",
   "execution_count": null,
   "id": "5509d3e1",
   "metadata": {},
   "outputs": [],
   "source": [
    "def crosstab_w(df, col='weights'):\n",
    "    a =(df.groupby(['region','race'])[col].sum()/df[col].sum()).reset_index()\n",
    "    a.columns=['region','race','Sum']\n",
    "    aa =a.pivot_table(values=['Sum'], index=['region'], columns=['race'])\n",
    "    return aa"
   ]
  },
  {
   "cell_type": "code",
   "execution_count": null,
   "id": "6d6ca0bf",
   "metadata": {},
   "outputs": [],
   "source": [
    "k7 = crosstab_w(kids)\n",
    "k7"
   ]
  },
  {
   "cell_type": "code",
   "execution_count": null,
   "id": "48236650",
   "metadata": {},
   "outputs": [],
   "source": [
    "a7=crosstab_w(adults, 'weights.7a')\n",
    "a7"
   ]
  },
  {
   "cell_type": "code",
   "execution_count": null,
   "id": "ce84da55",
   "metadata": {},
   "outputs": [],
   "source": [
    "b7 =(adults.groupby(['region'])['weights.7b'].count()/adults['weights.7b'].sum()).reset_index()\n",
    "b7.columns=['region','Sum']\n",
    "b77 =b7.pivot_table(values=['Sum'], index=['region'])\n",
    "b77"
   ]
  },
  {
   "cell_type": "code",
   "execution_count": null,
   "id": "23ad72cc",
   "metadata": {},
   "outputs": [],
   "source": [
    "# Create a Pandas Excel writer using XlsxWriter as the engine.\n",
    "writer = pd.ExcelWriter('C:/Users/tsb7592/Downloads/NIHTB_weights_output_April.xlsx', engine='xlsxwriter')\n",
    "\n",
    "# Write each dataframe to a different worksheet.\n",
    "kp.to_excel(writer, sheet_name='kids_unweighted')\n",
    "ap.to_excel(writer, sheet_name='adults_unweighted')\n",
    "k7.to_excel(writer, sheet_name='kids_obtained_weighted')\n",
    "a7.to_excel(writer, sheet_name='adults_obtained_weighted_7a') \n",
    "b77.to_excel(writer, sheet_name='adults_obtained_weighted_7b') \n",
    "\n",
    "# Close the Pandas Excel writer and output the Excel file.\n",
    "writer.save()"
   ]
  },
  {
   "cell_type": "code",
   "execution_count": null,
   "id": "a63f60ca",
   "metadata": {},
   "outputs": [],
   "source": []
  }
 ],
 "metadata": {
  "kernelspec": {
   "display_name": "Python 3",
   "language": "python",
   "name": "python3"
  },
  "language_info": {
   "codemirror_mode": {
    "name": "ipython",
    "version": 3
   },
   "file_extension": ".py",
   "mimetype": "text/x-python",
   "name": "python",
   "nbconvert_exporter": "python",
   "pygments_lexer": "ipython3",
   "version": "3.8.8"
  }
 },
 "nbformat": 4,
 "nbformat_minor": 5
}
