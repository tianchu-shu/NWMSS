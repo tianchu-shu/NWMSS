{
 "cells": [
  {
   "cell_type": "code",
   "execution_count": 1,
   "metadata": {
    "id": "SPKdLsF0Rg36"
   },
   "outputs": [],
   "source": [
    "#Data saved in csv/excel\n",
    "import glob, os\n",
    "import pandas as pd\n",
    "import json\n",
    "import warnings\n",
    "warnings.filterwarnings('ignore')\n",
    "\n",
    "data_dir=\"C:/Users/tsb7592/OneDrive - Northwestern University/V3 Person Ability Estimates\"\n",
    "os.chdir(data_dir)"
   ]
  },
  {
   "cell_type": "code",
   "execution_count": 2,
   "metadata": {
    "colab": {
     "base_uri": "https://localhost:8080/",
     "height": 666
    },
    "id": "pMEIOTwTin-_",
    "outputId": "3773d420-bccb-45ff-b95a-36dbde272331"
   },
   "outputs": [],
   "source": [
    "#Set two decimal points for display\n",
    "pd.options.display.float_format = \"{:.2f}\".format"
   ]
  },
  {
   "cell_type": "code",
   "execution_count": 3,
   "metadata": {},
   "outputs": [],
   "source": [
    "ad = pd.read_csv(\"C:/Users/tsb7592/Downloads/adults_April.csv\")\n",
    "kid = pd.read_csv(\"C:/Users/tsb7592/Downloads/kids_April.csv\")"
   ]
  },
  {
   "cell_type": "code",
   "execution_count": 4,
   "metadata": {},
   "outputs": [],
   "source": [
    "kid.columns=['FinalPIN', 'region', 'age', 'sex', 'highestEd', 'Race.ethnicity',\n",
    "       'region.race.c', 'weights.7a']"
   ]
  },
  {
   "cell_type": "code",
   "execution_count": 5,
   "metadata": {},
   "outputs": [],
   "source": [
    "weights = ad.append(kid)"
   ]
  },
  {
   "cell_type": "code",
   "execution_count": 6,
   "metadata": {},
   "outputs": [
    {
     "data": {
      "text/html": [
       "<div>\n",
       "<style scoped>\n",
       "    .dataframe tbody tr th:only-of-type {\n",
       "        vertical-align: middle;\n",
       "    }\n",
       "\n",
       "    .dataframe tbody tr th {\n",
       "        vertical-align: top;\n",
       "    }\n",
       "\n",
       "    .dataframe thead th {\n",
       "        text-align: right;\n",
       "    }\n",
       "</style>\n",
       "<table border=\"1\" class=\"dataframe\">\n",
       "  <thead>\n",
       "    <tr style=\"text-align: right;\">\n",
       "      <th></th>\n",
       "      <th>FinalPIN</th>\n",
       "      <th>region</th>\n",
       "      <th>age</th>\n",
       "      <th>sex</th>\n",
       "      <th>highestEd</th>\n",
       "      <th>Race.ethnicity</th>\n",
       "      <th>region.race.c</th>\n",
       "      <th>weights.7a</th>\n",
       "      <th>weights.7b</th>\n",
       "    </tr>\n",
       "  </thead>\n",
       "  <tbody>\n",
       "    <tr>\n",
       "      <th>0</th>\n",
       "      <td>MAP18001</td>\n",
       "      <td>2</td>\n",
       "      <td>18</td>\n",
       "      <td>1.0</td>\n",
       "      <td>high school graduate</td>\n",
       "      <td>Non-Hispanic White</td>\n",
       "      <td>2.0-Non-Hispanic White</td>\n",
       "      <td>0.67</td>\n",
       "      <td>0.95</td>\n",
       "    </tr>\n",
       "    <tr>\n",
       "      <th>1</th>\n",
       "      <td>MAP18002</td>\n",
       "      <td>2</td>\n",
       "      <td>18</td>\n",
       "      <td>2.0</td>\n",
       "      <td>high school graduate</td>\n",
       "      <td>Non-Hispanic White</td>\n",
       "      <td>2.0-Non-Hispanic White</td>\n",
       "      <td>0.60</td>\n",
       "      <td>0.95</td>\n",
       "    </tr>\n",
       "    <tr>\n",
       "      <th>2</th>\n",
       "      <td>MAP18003</td>\n",
       "      <td>2</td>\n",
       "      <td>18</td>\n",
       "      <td>1.0</td>\n",
       "      <td>high school graduate</td>\n",
       "      <td>Non-Hispanic White</td>\n",
       "      <td>2.0-Non-Hispanic White</td>\n",
       "      <td>0.67</td>\n",
       "      <td>0.95</td>\n",
       "    </tr>\n",
       "    <tr>\n",
       "      <th>3</th>\n",
       "      <td>MAP18004</td>\n",
       "      <td>2</td>\n",
       "      <td>18</td>\n",
       "      <td>1.0</td>\n",
       "      <td>high school graduate</td>\n",
       "      <td>Non-Hispanic White</td>\n",
       "      <td>2.0-Non-Hispanic White</td>\n",
       "      <td>0.67</td>\n",
       "      <td>0.95</td>\n",
       "    </tr>\n",
       "    <tr>\n",
       "      <th>4</th>\n",
       "      <td>MAP18005</td>\n",
       "      <td>2</td>\n",
       "      <td>18</td>\n",
       "      <td>2.0</td>\n",
       "      <td>high school graduate</td>\n",
       "      <td>Non-Hispanic White</td>\n",
       "      <td>2.0-Non-Hispanic White</td>\n",
       "      <td>0.60</td>\n",
       "      <td>0.95</td>\n",
       "    </tr>\n",
       "    <tr>\n",
       "      <th>...</th>\n",
       "      <td>...</td>\n",
       "      <td>...</td>\n",
       "      <td>...</td>\n",
       "      <td>...</td>\n",
       "      <td>...</td>\n",
       "      <td>...</td>\n",
       "      <td>...</td>\n",
       "      <td>...</td>\n",
       "      <td>...</td>\n",
       "    </tr>\n",
       "    <tr>\n",
       "      <th>3895</th>\n",
       "      <td>MSL08013</td>\n",
       "      <td>2</td>\n",
       "      <td>8</td>\n",
       "      <td>1.00</td>\n",
       "      <td>less than high school graduate</td>\n",
       "      <td>Non-Hispanic White</td>\n",
       "      <td>2.0-Non-Hispanic White</td>\n",
       "      <td>4.00</td>\n",
       "      <td>NaN</td>\n",
       "    </tr>\n",
       "    <tr>\n",
       "      <th>3896</th>\n",
       "      <td>MSL04001</td>\n",
       "      <td>2</td>\n",
       "      <td>4</td>\n",
       "      <td>1.00</td>\n",
       "      <td>less than high school graduate</td>\n",
       "      <td>Non-Hispanic White</td>\n",
       "      <td>2.0-Non-Hispanic White</td>\n",
       "      <td>4.00</td>\n",
       "      <td>NaN</td>\n",
       "    </tr>\n",
       "    <tr>\n",
       "      <th>3897</th>\n",
       "      <td>MSL11012</td>\n",
       "      <td>2</td>\n",
       "      <td>11</td>\n",
       "      <td>1.00</td>\n",
       "      <td>less than high school graduate</td>\n",
       "      <td>Non-Hispanic Black</td>\n",
       "      <td>2.0-Non-Hispanic Black</td>\n",
       "      <td>4.00</td>\n",
       "      <td>NaN</td>\n",
       "    </tr>\n",
       "    <tr>\n",
       "      <th>3898</th>\n",
       "      <td>MSL12001</td>\n",
       "      <td>2</td>\n",
       "      <td>12</td>\n",
       "      <td>2.00</td>\n",
       "      <td>less than high school graduate</td>\n",
       "      <td>Non-Hispanic Black</td>\n",
       "      <td>2.0-Non-Hispanic Black</td>\n",
       "      <td>4.00</td>\n",
       "      <td>NaN</td>\n",
       "    </tr>\n",
       "    <tr>\n",
       "      <th>3899</th>\n",
       "      <td>MSL09013</td>\n",
       "      <td>2</td>\n",
       "      <td>9</td>\n",
       "      <td>1.00</td>\n",
       "      <td>less than high school graduate</td>\n",
       "      <td>Non-Hispanic White</td>\n",
       "      <td>2.0-Non-Hispanic White</td>\n",
       "      <td>4.00</td>\n",
       "      <td>NaN</td>\n",
       "    </tr>\n",
       "  </tbody>\n",
       "</table>\n",
       "<p>3900 rows × 9 columns</p>\n",
       "</div>"
      ],
      "text/plain": [
       "      FinalPIN  region  age  sex                       highestEd  \\\n",
       "0     MAP18001       2   18  1.0            high school graduate   \n",
       "1     MAP18002       2   18  2.0            high school graduate   \n",
       "2     MAP18003       2   18  1.0            high school graduate   \n",
       "3     MAP18004       2   18  1.0            high school graduate   \n",
       "4     MAP18005       2   18  2.0            high school graduate   \n",
       "...        ...     ...  ...  ...                             ...   \n",
       "3895  MSL08013       2    8 1.00  less than high school graduate   \n",
       "3896  MSL04001       2    4 1.00  less than high school graduate   \n",
       "3897  MSL11012       2   11 1.00  less than high school graduate   \n",
       "3898  MSL12001       2   12 2.00  less than high school graduate   \n",
       "3899  MSL09013       2    9 1.00  less than high school graduate   \n",
       "\n",
       "          Race.ethnicity           region.race.c  weights.7a  weights.7b  \n",
       "0     Non-Hispanic White  2.0-Non-Hispanic White        0.67        0.95  \n",
       "1     Non-Hispanic White  2.0-Non-Hispanic White        0.60        0.95  \n",
       "2     Non-Hispanic White  2.0-Non-Hispanic White        0.67        0.95  \n",
       "3     Non-Hispanic White  2.0-Non-Hispanic White        0.67        0.95  \n",
       "4     Non-Hispanic White  2.0-Non-Hispanic White        0.60        0.95  \n",
       "...                  ...                     ...         ...         ...  \n",
       "3895  Non-Hispanic White  2.0-Non-Hispanic White        4.00         NaN  \n",
       "3896  Non-Hispanic White  2.0-Non-Hispanic White        4.00         NaN  \n",
       "3897  Non-Hispanic Black  2.0-Non-Hispanic Black        4.00         NaN  \n",
       "3898  Non-Hispanic Black  2.0-Non-Hispanic Black        4.00         NaN  \n",
       "3899  Non-Hispanic White  2.0-Non-Hispanic White        4.00         NaN  \n",
       "\n",
       "[3900 rows x 9 columns]"
      ]
     },
     "execution_count": 6,
     "metadata": {},
     "output_type": "execute_result"
    }
   ],
   "source": [
    "weights=weights.reset_index(drop=['index'])\n",
    "weights"
   ]
  },
  {
   "cell_type": "markdown",
   "metadata": {
    "id": "Ryp-FuHZLWyT"
   },
   "source": [
    "# DCCS"
   ]
  },
  {
   "cell_type": "code",
   "execution_count": 7,
   "metadata": {},
   "outputs": [],
   "source": [
    "df = pd.read_csv(data_dir+'/DCCS/dccs_scored_final.csv')"
   ]
  },
  {
   "cell_type": "code",
   "execution_count": 8,
   "metadata": {},
   "outputs": [],
   "source": [
    "df=df.rename(columns = {'finalpin':'FinalPIN'})"
   ]
  },
  {
   "cell_type": "code",
   "execution_count": 9,
   "metadata": {},
   "outputs": [],
   "source": [
    "keep=['FinalPIN', 'has_min_resp_all', 'prop_correct2_all',\n",
    "       'prop_correct2_repeated', 'prop_correct2_switched', 'median_rt',\n",
    "       'median_rt2', 'median_c_rt_all', 'median_c_rt_repeated',\n",
    "       'median_c_rt_switched', 'median_e_rt_all', 'median_e_rt_switched',\n",
    "       'median_e_rt_repeated', 'RCS1_REPEATED', 'RCS1_SWITCHED',\n",
    "       'rcs1_diff_switched', 'rcs1_raito_switched', 'RCS1_ALL',\n",
    "       'RCS2_REPEATED', 'RCS2_SWITCHED', 'rcs2_diff_switched',\n",
    "       'rcs2_raito_switched', 'RCS2_ALL', 'lisas_all', 'lisas_repeated',\n",
    "       'lisas_switched', 'lisas_diff', 'lisas_ratio', 'dccs_v2_nondom',\n",
    "       'dccs_v2_switched']"
   ]
  },
  {
   "cell_type": "code",
   "execution_count": 10,
   "metadata": {},
   "outputs": [],
   "source": [
    "df=df[keep]"
   ]
  },
  {
   "cell_type": "code",
   "execution_count": 11,
   "metadata": {},
   "outputs": [],
   "source": [
    "df =df.rename({col:'dccs_'+ col for col in keep[1:-2]}, axis=1)"
   ]
  },
  {
   "cell_type": "code",
   "execution_count": 12,
   "metadata": {},
   "outputs": [],
   "source": [
    "data =pd.merge(weights, df, how='left',on='FinalPIN')"
   ]
  },
  {
   "cell_type": "code",
   "execution_count": 17,
   "metadata": {},
   "outputs": [
    {
     "data": {
      "text/html": [
       "<div>\n",
       "<style scoped>\n",
       "    .dataframe tbody tr th:only-of-type {\n",
       "        vertical-align: middle;\n",
       "    }\n",
       "\n",
       "    .dataframe tbody tr th {\n",
       "        vertical-align: top;\n",
       "    }\n",
       "\n",
       "    .dataframe thead th {\n",
       "        text-align: right;\n",
       "    }\n",
       "</style>\n",
       "<table border=\"1\" class=\"dataframe\">\n",
       "  <thead>\n",
       "    <tr style=\"text-align: right;\">\n",
       "      <th></th>\n",
       "      <th>FinalPIN</th>\n",
       "      <th>dccs_has_min_resp_all</th>\n",
       "      <th>dccs_prop_correct2_all</th>\n",
       "      <th>dccs_prop_correct2_repeated</th>\n",
       "      <th>dccs_prop_correct2_switched</th>\n",
       "      <th>dccs_median_rt</th>\n",
       "      <th>dccs_median_rt2</th>\n",
       "      <th>dccs_median_c_rt_all</th>\n",
       "      <th>dccs_median_c_rt_repeated</th>\n",
       "      <th>dccs_median_c_rt_switched</th>\n",
       "      <th>...</th>\n",
       "      <th>dccs_rcs2_diff_switched</th>\n",
       "      <th>dccs_rcs2_raito_switched</th>\n",
       "      <th>dccs_RCS2_ALL</th>\n",
       "      <th>dccs_lisas_all</th>\n",
       "      <th>dccs_lisas_repeated</th>\n",
       "      <th>dccs_lisas_switched</th>\n",
       "      <th>dccs_lisas_diff</th>\n",
       "      <th>dccs_lisas_ratio</th>\n",
       "      <th>dccs_v2_nondom</th>\n",
       "      <th>dccs_v2_switched</th>\n",
       "    </tr>\n",
       "  </thead>\n",
       "  <tbody>\n",
       "    <tr>\n",
       "      <th>835</th>\n",
       "      <td>MSL40104</td>\n",
       "      <td>1</td>\n",
       "      <td>0.96</td>\n",
       "      <td>1.00</td>\n",
       "      <td>0.92</td>\n",
       "      <td>313.75</td>\n",
       "      <td>290.65</td>\n",
       "      <td>288.20</td>\n",
       "      <td>274.40</td>\n",
       "      <td>444.70</td>\n",
       "      <td>...</td>\n",
       "      <td>-0.49</td>\n",
       "      <td>1.45</td>\n",
       "      <td>2.67</td>\n",
       "      <td>319.71</td>\n",
       "      <td>305.91</td>\n",
       "      <td>476.21</td>\n",
       "      <td>170.30</td>\n",
       "      <td>1.56</td>\n",
       "      <td>10.00</td>\n",
       "      <td>10.00</td>\n",
       "    </tr>\n",
       "    <tr>\n",
       "      <th>836</th>\n",
       "      <td>MSL40104</td>\n",
       "      <td>1</td>\n",
       "      <td>0.96</td>\n",
       "      <td>1.00</td>\n",
       "      <td>0.92</td>\n",
       "      <td>313.75</td>\n",
       "      <td>290.65</td>\n",
       "      <td>371.50</td>\n",
       "      <td>274.40</td>\n",
       "      <td>444.70</td>\n",
       "      <td>...</td>\n",
       "      <td>-0.49</td>\n",
       "      <td>1.45</td>\n",
       "      <td>2.67</td>\n",
       "      <td>371.50</td>\n",
       "      <td>305.91</td>\n",
       "      <td>476.21</td>\n",
       "      <td>170.30</td>\n",
       "      <td>1.56</td>\n",
       "      <td>9.88</td>\n",
       "      <td>9.88</td>\n",
       "    </tr>\n",
       "  </tbody>\n",
       "</table>\n",
       "<p>2 rows × 30 columns</p>\n",
       "</div>"
      ],
      "text/plain": [
       "     FinalPIN  dccs_has_min_resp_all  dccs_prop_correct2_all  \\\n",
       "835  MSL40104                      1                    0.96   \n",
       "836  MSL40104                      1                    0.96   \n",
       "\n",
       "     dccs_prop_correct2_repeated  dccs_prop_correct2_switched  dccs_median_rt  \\\n",
       "835                         1.00                         0.92          313.75   \n",
       "836                         1.00                         0.92          313.75   \n",
       "\n",
       "     dccs_median_rt2  dccs_median_c_rt_all  dccs_median_c_rt_repeated  \\\n",
       "835           290.65                288.20                     274.40   \n",
       "836           290.65                371.50                     274.40   \n",
       "\n",
       "     dccs_median_c_rt_switched  ...  dccs_rcs2_diff_switched  \\\n",
       "835                     444.70  ...                    -0.49   \n",
       "836                     444.70  ...                    -0.49   \n",
       "\n",
       "     dccs_rcs2_raito_switched  dccs_RCS2_ALL  dccs_lisas_all  \\\n",
       "835                      1.45           2.67          319.71   \n",
       "836                      1.45           2.67          371.50   \n",
       "\n",
       "     dccs_lisas_repeated  dccs_lisas_switched  dccs_lisas_diff  \\\n",
       "835               305.91               476.21           170.30   \n",
       "836               305.91               476.21           170.30   \n",
       "\n",
       "     dccs_lisas_ratio  dccs_v2_nondom  dccs_v2_switched  \n",
       "835              1.56           10.00             10.00  \n",
       "836              1.56            9.88              9.88  \n",
       "\n",
       "[2 rows x 30 columns]"
      ]
     },
     "execution_count": 17,
     "metadata": {},
     "output_type": "execute_result"
    }
   ],
   "source": [
    "df[df.FinalPIN=='MSL40104']"
   ]
  },
  {
   "cell_type": "code",
   "execution_count": 13,
   "metadata": {},
   "outputs": [
    {
     "data": {
      "text/plain": [
       "(3903, 38)"
      ]
     },
     "execution_count": 13,
     "metadata": {},
     "output_type": "execute_result"
    }
   ],
   "source": [
    "data.shape"
   ]
  },
  {
   "cell_type": "markdown",
   "metadata": {
    "id": "Ryp-FuHZLWyT"
   },
   "source": [
    "# Flanker"
   ]
  },
  {
   "cell_type": "code",
   "execution_count": null,
   "metadata": {},
   "outputs": [],
   "source": [
    "df = pd.read_csv(data_dir+'/Flanker/flanker_scored_final.csv')\n",
    "df=df.rename(columns = {'finalpin':'FinalPIN'})"
   ]
  },
  {
   "cell_type": "code",
   "execution_count": null,
   "metadata": {},
   "outputs": [],
   "source": [
    "keep =['FinalPIN', 'has_min_resp_all', 'prop_correct2_all',\n",
    "       'prop_correct2_cong', 'prop_correct2_incong', 'median_c_rt_cong',\n",
    "       'median_c_rt_incong', 'median_c_rt_all', 'rcs1_cong', 'rcs2_cong',\n",
    "       'rcs1_incong', 'rcs2_incong', 'rcs1_diff', 'rcs2_diff', 'rcs1_ratio',\n",
    "       'rcs2_ratio', 'rcs1_all', 'rcs2_all', 'lisas_cong', 'lisas_incong',\n",
    "       'lisas_diff', 'lisas_ratio', 'lisas_all', \n",
    "       'median_rt', 'median_rt2','flanker_v2_incong']"
   ]
  },
  {
   "cell_type": "code",
   "execution_count": null,
   "metadata": {},
   "outputs": [],
   "source": [
    "df=df[keep]"
   ]
  },
  {
   "cell_type": "code",
   "execution_count": null,
   "metadata": {},
   "outputs": [],
   "source": [
    "df =df.rename({col:'flanker_'+ col for col in keep[1:-1]}, axis=1)"
   ]
  },
  {
   "cell_type": "code",
   "execution_count": null,
   "metadata": {},
   "outputs": [],
   "source": [
    "data =pd.merge(data, df, how='left',on='FinalPIN')"
   ]
  },
  {
   "cell_type": "code",
   "execution_count": null,
   "metadata": {},
   "outputs": [],
   "source": [
    "data.head()"
   ]
  },
  {
   "cell_type": "markdown",
   "metadata": {
    "id": "Ryp-FuHZLWyT"
   },
   "source": [
    "# FNAME"
   ]
  },
  {
   "cell_type": "code",
   "execution_count": null,
   "metadata": {},
   "outputs": [],
   "source": [
    "df = pd.read_csv(data_dir+'/FNAME/fname_personability.csv')"
   ]
  },
  {
   "cell_type": "code",
   "execution_count": null,
   "metadata": {},
   "outputs": [],
   "source": [
    "df =df.rename({col:'fname_'+ col for col in df.columns[1:]}, axis=1)"
   ]
  },
  {
   "cell_type": "code",
   "execution_count": null,
   "metadata": {},
   "outputs": [],
   "source": [
    "data =pd.merge(data, df, how='left',on='FinalPIN')"
   ]
  },
  {
   "cell_type": "code",
   "execution_count": null,
   "metadata": {
    "scrolled": true
   },
   "outputs": [],
   "source": [
    "data.head()"
   ]
  },
  {
   "cell_type": "markdown",
   "metadata": {
    "id": "Ryp-FuHZLWyT"
   },
   "source": [
    "# LSWM"
   ]
  },
  {
   "cell_type": "code",
   "execution_count": null,
   "metadata": {},
   "outputs": [],
   "source": [
    "df = pd.read_excel(data_dir+'/LSWM/PFILE_LSWM_AllNorming 042122.xls', index_col=0)"
   ]
  },
  {
   "cell_type": "code",
   "execution_count": null,
   "metadata": {},
   "outputs": [],
   "source": [
    "df=df.rename(columns = {'Examinee ID':'FinalPIN'})"
   ]
  },
  {
   "cell_type": "code",
   "execution_count": null,
   "metadata": {
    "colab": {
     "base_uri": "https://localhost:8080/"
    },
    "id": "yonYmaEjXXnY",
    "outputId": "56b987c9-fff8-44b1-cb71-e06c5e7135c9"
   },
   "outputs": [],
   "source": [
    "df =df.rename({col:'LSWM_'+ col for col in df.columns[1:-1]}, axis=1)"
   ]
  },
  {
   "cell_type": "code",
   "execution_count": null,
   "metadata": {},
   "outputs": [],
   "source": [
    "data =pd.merge(data, df.iloc[:,:-1], how='left',on='FinalPIN')"
   ]
  },
  {
   "cell_type": "markdown",
   "metadata": {},
   "source": [
    "# Oral Reading"
   ]
  },
  {
   "cell_type": "code",
   "execution_count": null,
   "metadata": {},
   "outputs": [],
   "source": [
    "df = pd.read_excel(data_dir+'/Oral Reading/PFILE_OR_V3FinalForNorms_041922.xlsx', index_col=0)\n",
    "df=df.rename(columns = {'Examinee ID':'FinalPIN'})"
   ]
  },
  {
   "cell_type": "code",
   "execution_count": null,
   "metadata": {},
   "outputs": [],
   "source": [
    "df =df.rename({col:'OR_'+ col for col in df.columns[1:-2]}, axis=1)"
   ]
  },
  {
   "cell_type": "code",
   "execution_count": null,
   "metadata": {},
   "outputs": [],
   "source": [
    "data =pd.merge(data, df.iloc[:,:-2], how='left',on='FinalPIN')"
   ]
  },
  {
   "cell_type": "code",
   "execution_count": null,
   "metadata": {},
   "outputs": [],
   "source": [
    "data.head()"
   ]
  },
  {
   "cell_type": "markdown",
   "metadata": {},
   "source": [
    "# OSD"
   ]
  },
  {
   "cell_type": "code",
   "execution_count": null,
   "metadata": {},
   "outputs": [],
   "source": [
    "df = pd.read_csv(data_dir+'/OSD/OSD_FinalEstimates.csv', index_col=0)\n",
    "df=df.rename(columns = {'PIN':'FinalPIN'})"
   ]
  },
  {
   "cell_type": "code",
   "execution_count": null,
   "metadata": {},
   "outputs": [],
   "source": [
    "df =df.rename({col:'OSD_'+ col for col in df.columns[1:]}, axis=1)"
   ]
  },
  {
   "cell_type": "code",
   "execution_count": null,
   "metadata": {},
   "outputs": [],
   "source": [
    "data =pd.merge(data, df, how='left',on='FinalPIN')"
   ]
  },
  {
   "cell_type": "code",
   "execution_count": null,
   "metadata": {
    "scrolled": true
   },
   "outputs": [],
   "source": [
    "data.head()"
   ]
  },
  {
   "cell_type": "markdown",
   "metadata": {
    "id": "Ryp-FuHZLWyT"
   },
   "source": [
    "# Pattern Comparison"
   ]
  },
  {
   "cell_type": "code",
   "execution_count": null,
   "metadata": {},
   "outputs": [],
   "source": [
    "df = pd.read_csv(data_dir+'/Pattern Comparison/pc_ability_est_80.csv')"
   ]
  },
  {
   "cell_type": "code",
   "execution_count": null,
   "metadata": {},
   "outputs": [],
   "source": [
    "del df['age']"
   ]
  },
  {
   "cell_type": "code",
   "execution_count": null,
   "metadata": {},
   "outputs": [],
   "source": [
    "df =df.rename({col:'pc_'+ col for col in df.columns[1:]}, axis=1)"
   ]
  },
  {
   "cell_type": "code",
   "execution_count": null,
   "metadata": {},
   "outputs": [],
   "source": [
    "data =pd.merge(data, df, how='left',on='FinalPIN')\n",
    "\n",
    "data.head()"
   ]
  },
  {
   "cell_type": "markdown",
   "metadata": {},
   "source": [
    "# Picture Sequence Memory"
   ]
  },
  {
   "cell_type": "code",
   "execution_count": null,
   "metadata": {},
   "outputs": [],
   "source": [
    "df = pd.read_excel(data_dir+'/Picture Sequence Memory/PFILE_PSM_Final for Norms 041822.xlsx', index_col=0)\n",
    "df=df.rename(columns = {'NIHTB Norming ID':'FinalPIN'})"
   ]
  },
  {
   "cell_type": "code",
   "execution_count": null,
   "metadata": {},
   "outputs": [],
   "source": [
    "df =df.rename({col:'psm_'+ col for col in df.columns[1:]}, axis=1)"
   ]
  },
  {
   "cell_type": "code",
   "execution_count": null,
   "metadata": {},
   "outputs": [],
   "source": [
    "data =pd.merge(data, df, how='left',on='FinalPIN')\n",
    "\n",
    "data.head()"
   ]
  },
  {
   "cell_type": "markdown",
   "metadata": {},
   "source": [
    "# Picture Vocabulary"
   ]
  },
  {
   "cell_type": "code",
   "execution_count": null,
   "metadata": {},
   "outputs": [],
   "source": [
    "df = pd.read_excel(data_dir+'/Picture Vocabulary/PFILE_PV_V3Final.xls', index_col=0)\n",
    "df=df.rename(columns = {'NAME':'FinalPIN'})"
   ]
  },
  {
   "cell_type": "code",
   "execution_count": null,
   "metadata": {},
   "outputs": [],
   "source": [
    "df['FinalPIN'] = df['FinalPIN'].str[:8]\n",
    "df.head()"
   ]
  },
  {
   "cell_type": "code",
   "execution_count": null,
   "metadata": {},
   "outputs": [],
   "source": [
    "df =df.rename({col:'pv_'+ col for col in df.columns[:-1]}, axis=1)"
   ]
  },
  {
   "cell_type": "code",
   "execution_count": null,
   "metadata": {},
   "outputs": [],
   "source": [
    "data =pd.merge(data, df, how='left',on='FinalPIN')\n",
    "\n",
    "data.head()"
   ]
  },
  {
   "cell_type": "markdown",
   "metadata": {},
   "source": [
    "# RAVLT"
   ]
  },
  {
   "cell_type": "code",
   "execution_count": null,
   "metadata": {},
   "outputs": [],
   "source": [
    "df = pd.read_csv(data_dir+'/RAVLT/Rey_Delay_FinalEstimates.csv', index_col=0)\n",
    "df=df.rename(columns = {'PIN':'FinalPIN'})"
   ]
  },
  {
   "cell_type": "code",
   "execution_count": null,
   "metadata": {},
   "outputs": [],
   "source": [
    "df =df.rename({col:'Rey_Delay_'+ col for col in df.columns[1:]}, axis=1)\n",
    "\n",
    "data =pd.merge(data, df, how='left',on='FinalPIN')\n",
    "data.head()"
   ]
  },
  {
   "cell_type": "code",
   "execution_count": null,
   "metadata": {},
   "outputs": [],
   "source": [
    "df = pd.read_csv(data_dir+'/RAVLT/Rey_Immediate_FinalEstimates.csv', index_col=0)\n",
    "df=df.rename(columns = {'PIN':'FinalPIN'})"
   ]
  },
  {
   "cell_type": "code",
   "execution_count": null,
   "metadata": {},
   "outputs": [],
   "source": [
    "df =df.rename({col:'Rey_Immediate_'+ col for col in df.columns[1:]}, axis=1)\n",
    "\n",
    "data =pd.merge(data, df, how='left',on='FinalPIN')\n",
    "data.head()"
   ]
  },
  {
   "cell_type": "markdown",
   "metadata": {},
   "source": [
    "# Speed matching"
   ]
  },
  {
   "cell_type": "code",
   "execution_count": null,
   "metadata": {},
   "outputs": [],
   "source": [
    "df = pd.read_csv(data_dir+'/Speeded Matching/Estimates.csv', index_col=0)\n",
    "df=df.rename(columns = {'sm_df_0_dmg.PIN':'FinalPIN'})"
   ]
  },
  {
   "cell_type": "code",
   "execution_count": null,
   "metadata": {},
   "outputs": [],
   "source": [
    "df =df.rename({col:'SM_'+ col for col in df.columns[1:]}, axis=1)\n",
    "\n",
    "data =pd.merge(data, df, how='left',on='FinalPIN')\n",
    "data.head()"
   ]
  },
  {
   "cell_type": "markdown",
   "metadata": {},
   "source": [
    "# Visual Reasoning"
   ]
  },
  {
   "cell_type": "code",
   "execution_count": null,
   "metadata": {},
   "outputs": [],
   "source": [
    "df = pd.read_csv(data_dir+'/Visual Reasoning/VR_ability.csv')\n",
    "df=df.rename(columns = {'finalpin':'FinalPIN'})"
   ]
  },
  {
   "cell_type": "code",
   "execution_count": null,
   "metadata": {},
   "outputs": [],
   "source": [
    "df =df.rename({col:'VR_'+ col for col in df.columns[[0,2,3]]}, axis=1)"
   ]
  },
  {
   "cell_type": "code",
   "execution_count": null,
   "metadata": {},
   "outputs": [],
   "source": [
    "data =pd.merge(data, df, how='left',on='FinalPIN')\n",
    "data.head()"
   ]
  },
  {
   "cell_type": "code",
   "execution_count": null,
   "metadata": {},
   "outputs": [],
   "source": [
    "data.shape"
   ]
  },
  {
   "cell_type": "code",
   "execution_count": null,
   "metadata": {},
   "outputs": [],
   "source": [
    "data.to_csv('merged_data.csv', index=False)"
   ]
  }
 ],
 "metadata": {
  "colab": {
   "collapsed_sections": [],
   "name": "In_person_vs_remote.ipynb",
   "provenance": []
  },
  "kernelspec": {
   "display_name": "Python 3",
   "language": "python",
   "name": "python3"
  },
  "language_info": {
   "codemirror_mode": {
    "name": "ipython",
    "version": 3
   },
   "file_extension": ".py",
   "mimetype": "text/x-python",
   "name": "python",
   "nbconvert_exporter": "python",
   "pygments_lexer": "ipython3",
   "version": "3.8.8"
  }
 },
 "nbformat": 4,
 "nbformat_minor": 1
}
