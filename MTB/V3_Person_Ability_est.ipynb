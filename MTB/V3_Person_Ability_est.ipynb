{
 "cells": [
  {
   "cell_type": "code",
   "execution_count": 1,
   "metadata": {
    "id": "SPKdLsF0Rg36"
   },
   "outputs": [],
   "source": [
    "#Data saved in csv/excel\n",
    "import glob, os\n",
    "import pandas as pd\n",
    "import json\n",
    "import warnings\n",
    "warnings.filterwarnings('ignore')\n",
    "\n",
    "data_dir=\"C:/Users/tsb7592/OneDrive - Northwestern University/V3 Person Ability Estimates\"\n",
    "os.chdir(data_dir)"
   ]
  },
  {
   "cell_type": "code",
   "execution_count": 2,
   "metadata": {
    "colab": {
     "base_uri": "https://localhost:8080/",
     "height": 666
    },
    "id": "pMEIOTwTin-_",
    "outputId": "3773d420-bccb-45ff-b95a-36dbde272331"
   },
   "outputs": [],
   "source": [
    "#Set two decimal points for display\n",
    "pd.options.display.float_format = \"{:.2f}\".format"
   ]
  },
  {
   "cell_type": "code",
   "execution_count": 3,
   "metadata": {},
   "outputs": [],
   "source": [
    "weights = pd.read_csv('C:/Users/tsb7592/Downloads/all_weights.csv')"
   ]
  },
  {
   "cell_type": "code",
   "execution_count": 6,
   "metadata": {},
   "outputs": [],
   "source": [
    "weights.columns = weights.columns.str.upper()"
   ]
  },
  {
   "cell_type": "code",
   "execution_count": 18,
   "metadata": {},
   "outputs": [
    {
     "data": {
      "text/plain": [
       "(3902, 10)"
      ]
     },
     "execution_count": 18,
     "metadata": {},
     "output_type": "execute_result"
    }
   ],
   "source": [
    "weights.shape"
   ]
  },
  {
   "cell_type": "code",
   "execution_count": 8,
   "metadata": {},
   "outputs": [
    {
     "data": {
      "text/plain": [
       "Series([], Name: FINALPIN, dtype: int64)"
      ]
     },
     "execution_count": 8,
     "metadata": {},
     "output_type": "execute_result"
    }
   ],
   "source": [
    "s =weights.FINALPIN.value_counts()\n",
    "s[s>1]"
   ]
  },
  {
   "cell_type": "markdown",
   "metadata": {
    "id": "Ryp-FuHZLWyT"
   },
   "source": [
    "# DCCS"
   ]
  },
  {
   "cell_type": "code",
   "execution_count": 9,
   "metadata": {},
   "outputs": [],
   "source": [
    "df = pd.read_csv(data_dir+'/DCCS/dccs_scored_final.csv')"
   ]
  },
  {
   "cell_type": "code",
   "execution_count": 10,
   "metadata": {},
   "outputs": [],
   "source": [
    "keep =['FINALPIN', 'HAS_MIN_RESP_ALL', 'PROP_CORRECT2_ALL',\n",
    "       'PROP_CORRECT2_REPEATED', 'PROP_CORRECT2_SWITCHED', 'MEDIAN_RT',\n",
    "       'MEDIAN_RT2', 'MEDIAN_C_RT_ALL', 'MEDIAN_C_RT_REPEATED',\n",
    "       'MEDIAN_C_RT_SWITCHED', 'MEDIAN_E_RT_ALL', 'MEDIAN_E_RT_SWITCHED',\n",
    "       'MEDIAN_E_RT_REPEATED', 'RCS1_REPEATED', 'RCS1_SWITCHED',\n",
    "       'RCS1_DIFF_SWITCHED', 'RCS1_RAITO_SWITCHED', 'RCS1_ALL',\n",
    "       'RCS2_REPEATED', 'RCS2_SWITCHED', 'RCS2_DIFF_SWITCHED',\n",
    "       'RCS2_RAITO_SWITCHED', 'RCS2_ALL', 'LISAS_ALL', 'LISAS_REPEATED',\n",
    "       'LISAS_SWITCHED', 'LISAS_DIFF', 'LISAS_RATIO', 'DCCS_V2_NONDOM',\n",
    "       'DCCS_V2_SWITCHED']"
   ]
  },
  {
   "cell_type": "code",
   "execution_count": 11,
   "metadata": {},
   "outputs": [
    {
     "data": {
      "text/plain": [
       "Index(['FINALPIN', 'REGISTRATIONID', 'SEX', 'AGE', 'HIGHESTED', 'HIGHESTEDU_L',\n",
       "       'HISPANIC', 'RACE', 'RACE_L', 'HAS_MIN_RESP_ALL', 'PROP_CORRECT2_ALL',\n",
       "       'PROP_CORRECT2_REPEATED', 'PROP_CORRECT2_SWITCHED', 'MEDIAN_RT',\n",
       "       'MEDIAN_RT2', 'MEDIAN_C_RT_ALL', 'MEDIAN_C_RT_REPEATED',\n",
       "       'MEDIAN_C_RT_SWITCHED', 'MEDIAN_E_RT_ALL', 'MEDIAN_E_RT_SWITCHED',\n",
       "       'MEDIAN_E_RT_REPEATED', 'RCS1_REPEATED', 'RCS1_SWITCHED',\n",
       "       'RCS1_DIFF_SWITCHED', 'RCS1_RAITO_SWITCHED', 'RCS1_ALL',\n",
       "       'RCS2_REPEATED', 'RCS2_SWITCHED', 'RCS2_DIFF_SWITCHED',\n",
       "       'RCS2_RAITO_SWITCHED', 'RCS2_ALL', 'LISAS_ALL', 'LISAS_REPEATED',\n",
       "       'LISAS_SWITCHED', 'LISAS_DIFF', 'LISAS_RATIO', 'DCCS_V2_NONDOM',\n",
       "       'DCCS_V2_SWITCHED'],\n",
       "      dtype='object')"
      ]
     },
     "execution_count": 11,
     "metadata": {},
     "output_type": "execute_result"
    }
   ],
   "source": [
    "df.columns"
   ]
  },
  {
   "cell_type": "code",
   "execution_count": 12,
   "metadata": {},
   "outputs": [],
   "source": [
    "df=df[keep]"
   ]
  },
  {
   "cell_type": "code",
   "execution_count": 13,
   "metadata": {},
   "outputs": [],
   "source": [
    "df =df.rename({col:'dccs_'+ col for col in keep[1:-2]}, axis=1)"
   ]
  },
  {
   "cell_type": "code",
   "execution_count": 14,
   "metadata": {},
   "outputs": [
    {
     "data": {
      "text/plain": [
       "Index([], dtype='object')"
      ]
     },
     "execution_count": 14,
     "metadata": {},
     "output_type": "execute_result"
    }
   ],
   "source": [
    "s =df.FINALPIN.value_counts()\n",
    "s[s>1].index"
   ]
  },
  {
   "cell_type": "code",
   "execution_count": 15,
   "metadata": {},
   "outputs": [],
   "source": [
    "data =pd.merge(weights, df, how='left',on='FINALPIN')"
   ]
  },
  {
   "cell_type": "code",
   "execution_count": 16,
   "metadata": {},
   "outputs": [
    {
     "data": {
      "text/plain": [
       "(3902, 39)"
      ]
     },
     "execution_count": 16,
     "metadata": {},
     "output_type": "execute_result"
    }
   ],
   "source": [
    "data.shape"
   ]
  },
  {
   "cell_type": "markdown",
   "metadata": {
    "id": "Ryp-FuHZLWyT"
   },
   "source": [
    "# Flanker"
   ]
  },
  {
   "cell_type": "code",
   "execution_count": 19,
   "metadata": {},
   "outputs": [],
   "source": [
    "df = pd.read_csv(data_dir+'/Flanker/flanker_scored_final.csv')"
   ]
  },
  {
   "cell_type": "code",
   "execution_count": 20,
   "metadata": {},
   "outputs": [
    {
     "data": {
      "text/plain": [
       "Index(['FINALPIN', 'REGISTRATIONID', 'SEX', 'AGE', 'HIGHESTED', 'HIGHESTEDU_L',\n",
       "       'HISPANIC', 'RACE', 'RACE_L', 'HAS_MIN_RESP_ALL', 'PROP_CORRECT2_ALL',\n",
       "       'PROP_CORRECT2_CONG', 'PROP_CORRECT2_INCONG', 'MEDIAN_C_RT_CONG',\n",
       "       'MEDIAN_C_RT_INCONG', 'MEDIAN_C_RT_ALL', 'RCS1_CONG', 'RCS2_CONG',\n",
       "       'RCS1_INCONG', 'RCS2_INCONG', 'RCS1_DIFF', 'RCS2_DIFF', 'RCS1_RATIO',\n",
       "       'RCS2_RATIO', 'RCS1_ALL', 'RCS2_ALL', 'LISAS_CONG', 'LISAS_INCONG',\n",
       "       'LISAS_DIFF', 'LISAS_RATIO', 'LISAS_ALL', 'FLANKER_V2_INCONG',\n",
       "       'MEDIAN_RT', 'MEDIAN_RT2'],\n",
       "      dtype='object')"
      ]
     },
     "execution_count": 20,
     "metadata": {},
     "output_type": "execute_result"
    }
   ],
   "source": [
    "df.columns"
   ]
  },
  {
   "cell_type": "code",
   "execution_count": 21,
   "metadata": {},
   "outputs": [],
   "source": [
    "keep =['FINALPIN',  'HAS_MIN_RESP_ALL', 'PROP_CORRECT2_ALL',\n",
    "       'PROP_CORRECT2_CONG', 'PROP_CORRECT2_INCONG', 'MEDIAN_C_RT_CONG',\n",
    "       'MEDIAN_C_RT_INCONG', 'MEDIAN_C_RT_ALL', 'RCS1_CONG', 'RCS2_CONG',\n",
    "       'RCS1_INCONG', 'RCS2_INCONG', 'RCS1_DIFF', 'RCS2_DIFF', 'RCS1_RATIO',\n",
    "       'RCS2_RATIO', 'RCS1_ALL', 'RCS2_ALL', 'LISAS_CONG', 'LISAS_INCONG',\n",
    "       'LISAS_DIFF', 'LISAS_RATIO', 'LISAS_ALL', 'FLANKER_V2_INCONG',\n",
    "       'MEDIAN_RT', 'MEDIAN_RT2']"
   ]
  },
  {
   "cell_type": "code",
   "execution_count": 22,
   "metadata": {},
   "outputs": [],
   "source": [
    "df=df[keep]"
   ]
  },
  {
   "cell_type": "code",
   "execution_count": 23,
   "metadata": {},
   "outputs": [],
   "source": [
    "df =df.rename({col:'flanker_'+ col for col in keep[1:-1]}, axis=1)"
   ]
  },
  {
   "cell_type": "code",
   "execution_count": 24,
   "metadata": {},
   "outputs": [],
   "source": [
    "data =pd.merge(data, df, how='left',on='FINALPIN')"
   ]
  },
  {
   "cell_type": "code",
   "execution_count": 25,
   "metadata": {},
   "outputs": [
    {
     "data": {
      "text/plain": [
       "(3902, 64)"
      ]
     },
     "execution_count": 25,
     "metadata": {},
     "output_type": "execute_result"
    }
   ],
   "source": [
    "data.shape"
   ]
  },
  {
   "cell_type": "markdown",
   "metadata": {
    "id": "Ryp-FuHZLWyT"
   },
   "source": [
    "# FNAME"
   ]
  },
  {
   "cell_type": "code",
   "execution_count": 26,
   "metadata": {},
   "outputs": [],
   "source": [
    "df = pd.read_csv(data_dir+'/FNAME/fname_personability.csv')"
   ]
  },
  {
   "cell_type": "code",
   "execution_count": 27,
   "metadata": {},
   "outputs": [],
   "source": [
    "df=df.rename(columns = {'FinalPIN':'FINALPIN'})"
   ]
  },
  {
   "cell_type": "code",
   "execution_count": 28,
   "metadata": {},
   "outputs": [
    {
     "data": {
      "text/plain": [
       "Index([], dtype='object')"
      ]
     },
     "execution_count": 28,
     "metadata": {},
     "output_type": "execute_result"
    }
   ],
   "source": [
    "s =df.FINALPIN.value_counts()\n",
    "s[s>1].index"
   ]
  },
  {
   "cell_type": "code",
   "execution_count": 29,
   "metadata": {},
   "outputs": [],
   "source": [
    "df =df.rename({col:'fname_'+ col for col in df.columns[1:]}, axis=1)"
   ]
  },
  {
   "cell_type": "code",
   "execution_count": 30,
   "metadata": {},
   "outputs": [],
   "source": [
    "data =pd.merge(data, df, how='left',on='FINALPIN')"
   ]
  },
  {
   "cell_type": "code",
   "execution_count": 31,
   "metadata": {
    "scrolled": true
   },
   "outputs": [
    {
     "data": {
      "text/plain": [
       "(3902, 66)"
      ]
     },
     "execution_count": 31,
     "metadata": {},
     "output_type": "execute_result"
    }
   ],
   "source": [
    "data.shape"
   ]
  },
  {
   "cell_type": "markdown",
   "metadata": {
    "id": "Ryp-FuHZLWyT"
   },
   "source": [
    "# LSWM"
   ]
  },
  {
   "cell_type": "code",
   "execution_count": 32,
   "metadata": {},
   "outputs": [],
   "source": [
    "df = pd.read_excel(data_dir+'/LSWM/PFILE_LSWM_Rescore 062122.xlsx', index_col=0)"
   ]
  },
  {
   "cell_type": "code",
   "execution_count": 33,
   "metadata": {},
   "outputs": [
    {
     "data": {
      "text/html": [
       "<div>\n",
       "<style scoped>\n",
       "    .dataframe tbody tr th:only-of-type {\n",
       "        vertical-align: middle;\n",
       "    }\n",
       "\n",
       "    .dataframe tbody tr th {\n",
       "        vertical-align: top;\n",
       "    }\n",
       "\n",
       "    .dataframe thead th {\n",
       "        text-align: right;\n",
       "    }\n",
       "</style>\n",
       "<table border=\"1\" class=\"dataframe\">\n",
       "  <thead>\n",
       "    <tr style=\"text-align: right;\">\n",
       "      <th></th>\n",
       "      <th>MEASURE</th>\n",
       "      <th>STATUS</th>\n",
       "      <th>COUNT</th>\n",
       "      <th>SCORE</th>\n",
       "      <th>MODLSE</th>\n",
       "      <th>IN.MSQ</th>\n",
       "      <th>IN.ZEMP</th>\n",
       "      <th>OUT.MSQ</th>\n",
       "      <th>OUT.ZEMP</th>\n",
       "      <th>DISPLACE</th>\n",
       "      <th>...</th>\n",
       "      <th>WEIGHT</th>\n",
       "      <th>OBSMATCH</th>\n",
       "      <th>EXPMATCH</th>\n",
       "      <th>PTMA-E</th>\n",
       "      <th>RMSR</th>\n",
       "      <th>WMLE</th>\n",
       "      <th>INDF</th>\n",
       "      <th>OUTDF</th>\n",
       "      <th>Final PIN</th>\n",
       "      <th>Old PIN</th>\n",
       "    </tr>\n",
       "    <tr>\n",
       "      <th>ENTRY</th>\n",
       "      <th></th>\n",
       "      <th></th>\n",
       "      <th></th>\n",
       "      <th></th>\n",
       "      <th></th>\n",
       "      <th></th>\n",
       "      <th></th>\n",
       "      <th></th>\n",
       "      <th></th>\n",
       "      <th></th>\n",
       "      <th></th>\n",
       "      <th></th>\n",
       "      <th></th>\n",
       "      <th></th>\n",
       "      <th></th>\n",
       "      <th></th>\n",
       "      <th></th>\n",
       "      <th></th>\n",
       "      <th></th>\n",
       "      <th></th>\n",
       "      <th></th>\n",
       "    </tr>\n",
       "  </thead>\n",
       "  <tbody>\n",
       "    <tr>\n",
       "      <th>1</th>\n",
       "      <td>1.03</td>\n",
       "      <td>1</td>\n",
       "      <td>24</td>\n",
       "      <td>14</td>\n",
       "      <td>0.80</td>\n",
       "      <td>0.41</td>\n",
       "      <td>-1.38</td>\n",
       "      <td>0.13</td>\n",
       "      <td>-0.60</td>\n",
       "      <td>0.00</td>\n",
       "      <td>...</td>\n",
       "      <td>1</td>\n",
       "      <td>100.00</td>\n",
       "      <td>90.86</td>\n",
       "      <td>0.81</td>\n",
       "      <td>0.16</td>\n",
       "      <td>1.00</td>\n",
       "      <td>9.67</td>\n",
       "      <td>1.00</td>\n",
       "      <td>WPX40006</td>\n",
       "      <td>WPX40006</td>\n",
       "    </tr>\n",
       "    <tr>\n",
       "      <th>2</th>\n",
       "      <td>-2.00</td>\n",
       "      <td>1</td>\n",
       "      <td>24</td>\n",
       "      <td>9</td>\n",
       "      <td>0.80</td>\n",
       "      <td>0.75</td>\n",
       "      <td>-0.39</td>\n",
       "      <td>0.27</td>\n",
       "      <td>-0.30</td>\n",
       "      <td>0.00</td>\n",
       "      <td>...</td>\n",
       "      <td>1</td>\n",
       "      <td>95.83</td>\n",
       "      <td>90.86</td>\n",
       "      <td>0.77</td>\n",
       "      <td>0.22</td>\n",
       "      <td>-1.98</td>\n",
       "      <td>9.20</td>\n",
       "      <td>1.00</td>\n",
       "      <td>WPX17024</td>\n",
       "      <td>WPX17024</td>\n",
       "    </tr>\n",
       "    <tr>\n",
       "      <th>3</th>\n",
       "      <td>3.11</td>\n",
       "      <td>1</td>\n",
       "      <td>24</td>\n",
       "      <td>17</td>\n",
       "      <td>0.84</td>\n",
       "      <td>1.21</td>\n",
       "      <td>0.52</td>\n",
       "      <td>0.43</td>\n",
       "      <td>-0.08</td>\n",
       "      <td>0.00</td>\n",
       "      <td>...</td>\n",
       "      <td>1</td>\n",
       "      <td>87.50</td>\n",
       "      <td>91.87</td>\n",
       "      <td>0.76</td>\n",
       "      <td>0.27</td>\n",
       "      <td>3.11</td>\n",
       "      <td>9.14</td>\n",
       "      <td>1.04</td>\n",
       "      <td>WPX20126</td>\n",
       "      <td>WPX20126</td>\n",
       "    </tr>\n",
       "    <tr>\n",
       "      <th>4</th>\n",
       "      <td>0.40</td>\n",
       "      <td>1</td>\n",
       "      <td>24</td>\n",
       "      <td>13</td>\n",
       "      <td>0.78</td>\n",
       "      <td>0.40</td>\n",
       "      <td>-1.55</td>\n",
       "      <td>0.14</td>\n",
       "      <td>-0.59</td>\n",
       "      <td>0.00</td>\n",
       "      <td>...</td>\n",
       "      <td>1</td>\n",
       "      <td>100.00</td>\n",
       "      <td>90.44</td>\n",
       "      <td>0.81</td>\n",
       "      <td>0.16</td>\n",
       "      <td>0.38</td>\n",
       "      <td>11.08</td>\n",
       "      <td>1.00</td>\n",
       "      <td>WPX30014</td>\n",
       "      <td>WPX30014</td>\n",
       "    </tr>\n",
       "    <tr>\n",
       "      <th>5</th>\n",
       "      <td>-8.67</td>\n",
       "      <td>-1</td>\n",
       "      <td>24</td>\n",
       "      <td>0</td>\n",
       "      <td>1.54</td>\n",
       "      <td>1.00</td>\n",
       "      <td>0.00</td>\n",
       "      <td>1.00</td>\n",
       "      <td>0.00</td>\n",
       "      <td>0.00</td>\n",
       "      <td>...</td>\n",
       "      <td>1</td>\n",
       "      <td>100.00</td>\n",
       "      <td>100.00</td>\n",
       "      <td>0.00</td>\n",
       "      <td>0.00</td>\n",
       "      <td>-8.67</td>\n",
       "      <td>0.00</td>\n",
       "      <td>0.00</td>\n",
       "      <td>WPX06023</td>\n",
       "      <td>WPX06023</td>\n",
       "    </tr>\n",
       "  </tbody>\n",
       "</table>\n",
       "<p>5 rows × 21 columns</p>\n",
       "</div>"
      ],
      "text/plain": [
       "       MEASURE  STATUS  COUNT  SCORE  MODLSE  IN.MSQ  IN.ZEMP  OUT.MSQ  \\\n",
       "ENTRY                                                                    \n",
       "1         1.03       1     24     14    0.80    0.41    -1.38     0.13   \n",
       "2        -2.00       1     24      9    0.80    0.75    -0.39     0.27   \n",
       "3         3.11       1     24     17    0.84    1.21     0.52     0.43   \n",
       "4         0.40       1     24     13    0.78    0.40    -1.55     0.14   \n",
       "5        -8.67      -1     24      0    1.54    1.00     0.00     1.00   \n",
       "\n",
       "       OUT.ZEMP  DISPLACE  ...  WEIGHT  OBSMATCH  EXPMATCH  PTMA-E  RMSR  \\\n",
       "ENTRY                      ...                                             \n",
       "1         -0.60      0.00  ...       1    100.00     90.86    0.81  0.16   \n",
       "2         -0.30      0.00  ...       1     95.83     90.86    0.77  0.22   \n",
       "3         -0.08      0.00  ...       1     87.50     91.87    0.76  0.27   \n",
       "4         -0.59      0.00  ...       1    100.00     90.44    0.81  0.16   \n",
       "5          0.00      0.00  ...       1    100.00    100.00    0.00  0.00   \n",
       "\n",
       "       WMLE  INDF  OUTDF  Final PIN   Old PIN  \n",
       "ENTRY                                          \n",
       "1      1.00  9.67   1.00   WPX40006  WPX40006  \n",
       "2     -1.98  9.20   1.00   WPX17024  WPX17024  \n",
       "3      3.11  9.14   1.04   WPX20126  WPX20126  \n",
       "4      0.38 11.08   1.00   WPX30014  WPX30014  \n",
       "5     -8.67  0.00   0.00   WPX06023  WPX06023  \n",
       "\n",
       "[5 rows x 21 columns]"
      ]
     },
     "execution_count": 33,
     "metadata": {},
     "output_type": "execute_result"
    }
   ],
   "source": [
    "df.head()"
   ]
  },
  {
   "cell_type": "code",
   "execution_count": 34,
   "metadata": {},
   "outputs": [],
   "source": [
    "df=df.rename(columns = {'Final PIN':'FINALPIN'})"
   ]
  },
  {
   "cell_type": "code",
   "execution_count": 35,
   "metadata": {},
   "outputs": [
    {
     "data": {
      "text/plain": [
       "Index([], dtype='object')"
      ]
     },
     "execution_count": 35,
     "metadata": {},
     "output_type": "execute_result"
    }
   ],
   "source": [
    "s =df.FINALPIN.value_counts()\n",
    "s[s>1].index"
   ]
  },
  {
   "cell_type": "code",
   "execution_count": 36,
   "metadata": {
    "colab": {
     "base_uri": "https://localhost:8080/"
    },
    "id": "yonYmaEjXXnY",
    "outputId": "56b987c9-fff8-44b1-cb71-e06c5e7135c9"
   },
   "outputs": [],
   "source": [
    "df =df.rename({col:'LSWM_'+ col for col in df.columns[:-2]}, axis=1)"
   ]
  },
  {
   "cell_type": "code",
   "execution_count": 37,
   "metadata": {},
   "outputs": [],
   "source": [
    "data =pd.merge(data, df.iloc[:,:-1], how='left',on='FINALPIN')"
   ]
  },
  {
   "cell_type": "code",
   "execution_count": 38,
   "metadata": {},
   "outputs": [
    {
     "data": {
      "text/plain": [
       "(3902, 85)"
      ]
     },
     "execution_count": 38,
     "metadata": {},
     "output_type": "execute_result"
    }
   ],
   "source": [
    "data.shape"
   ]
  },
  {
   "cell_type": "markdown",
   "metadata": {},
   "source": [
    "# Oral Reading"
   ]
  },
  {
   "cell_type": "code",
   "execution_count": 39,
   "metadata": {},
   "outputs": [],
   "source": [
    "df = pd.read_excel(data_dir+'/Oral Reading/PFILE_OR_RESCORE_062122.xlsx', index_col=0)\n",
    "df=df.rename(columns = {'Final PIN':'FINALPIN'})"
   ]
  },
  {
   "cell_type": "code",
   "execution_count": 40,
   "metadata": {},
   "outputs": [],
   "source": [
    "df =df.iloc[:,:-3]"
   ]
  },
  {
   "cell_type": "code",
   "execution_count": 41,
   "metadata": {},
   "outputs": [
    {
     "data": {
      "text/plain": [
       "Index([], dtype='object')"
      ]
     },
     "execution_count": 41,
     "metadata": {},
     "output_type": "execute_result"
    }
   ],
   "source": [
    "s =df.FINALPIN.value_counts()\n",
    "s[s>1].index"
   ]
  },
  {
   "cell_type": "code",
   "execution_count": 42,
   "metadata": {},
   "outputs": [],
   "source": [
    "df =df.rename({col:'OR_'+ col for col in df.columns[:-1]}, axis=1)"
   ]
  },
  {
   "cell_type": "code",
   "execution_count": 43,
   "metadata": {},
   "outputs": [],
   "source": [
    "data =pd.merge(data, df, how='left',on='FINALPIN')"
   ]
  },
  {
   "cell_type": "code",
   "execution_count": 44,
   "metadata": {},
   "outputs": [
    {
     "data": {
      "text/plain": [
       "(3902, 104)"
      ]
     },
     "execution_count": 44,
     "metadata": {},
     "output_type": "execute_result"
    }
   ],
   "source": [
    "data.shape"
   ]
  },
  {
   "cell_type": "markdown",
   "metadata": {},
   "source": [
    "# OSD"
   ]
  },
  {
   "cell_type": "code",
   "execution_count": 45,
   "metadata": {},
   "outputs": [],
   "source": [
    "df = pd.read_csv(data_dir+'/OSD/OSD_FinalEstimates.csv', index_col=0)\n",
    "df=df.rename(columns = {'PIN':'FINALPIN'})"
   ]
  },
  {
   "cell_type": "code",
   "execution_count": 46,
   "metadata": {},
   "outputs": [
    {
     "data": {
      "text/plain": [
       "Index([], dtype='object')"
      ]
     },
     "execution_count": 46,
     "metadata": {},
     "output_type": "execute_result"
    }
   ],
   "source": [
    "s =df.FINALPIN.value_counts()\n",
    "s[s>1].index"
   ]
  },
  {
   "cell_type": "code",
   "execution_count": 47,
   "metadata": {},
   "outputs": [],
   "source": [
    "df =df.rename({col:'OSD_'+ col for col in df.columns[1:]}, axis=1)"
   ]
  },
  {
   "cell_type": "code",
   "execution_count": 48,
   "metadata": {},
   "outputs": [],
   "source": [
    "data =pd.merge(data, df, how='left',on='FINALPIN')"
   ]
  },
  {
   "cell_type": "code",
   "execution_count": 49,
   "metadata": {
    "scrolled": true
   },
   "outputs": [
    {
     "data": {
      "text/plain": [
       "(3902, 106)"
      ]
     },
     "execution_count": 49,
     "metadata": {},
     "output_type": "execute_result"
    }
   ],
   "source": [
    "data.shape"
   ]
  },
  {
   "cell_type": "markdown",
   "metadata": {
    "id": "Ryp-FuHZLWyT"
   },
   "source": [
    "# Pattern Comparison"
   ]
  },
  {
   "cell_type": "code",
   "execution_count": 50,
   "metadata": {},
   "outputs": [],
   "source": [
    "df = pd.read_csv(data_dir+'/Pattern Comparison/pc_ability_est_80.csv')\n",
    "df=df.rename(columns = {'FinalPIN':'FINALPIN'})"
   ]
  },
  {
   "cell_type": "code",
   "execution_count": 51,
   "metadata": {},
   "outputs": [
    {
     "data": {
      "text/html": [
       "<div>\n",
       "<style scoped>\n",
       "    .dataframe tbody tr th:only-of-type {\n",
       "        vertical-align: middle;\n",
       "    }\n",
       "\n",
       "    .dataframe tbody tr th {\n",
       "        vertical-align: top;\n",
       "    }\n",
       "\n",
       "    .dataframe thead th {\n",
       "        text-align: right;\n",
       "    }\n",
       "</style>\n",
       "<table border=\"1\" class=\"dataframe\">\n",
       "  <thead>\n",
       "    <tr style=\"text-align: right;\">\n",
       "      <th></th>\n",
       "      <th>FINALPIN</th>\n",
       "      <th>age</th>\n",
       "      <th>sum_score80</th>\n",
       "      <th>theta80</th>\n",
       "      <th>SE80</th>\n",
       "      <th>eap</th>\n",
       "    </tr>\n",
       "  </thead>\n",
       "  <tbody>\n",
       "    <tr>\n",
       "      <th>0</th>\n",
       "      <td>MAP05001</td>\n",
       "      <td>5.00</td>\n",
       "      <td>45</td>\n",
       "      <td>-4.08</td>\n",
       "      <td>0.35</td>\n",
       "      <td>-4.02</td>\n",
       "    </tr>\n",
       "    <tr>\n",
       "      <th>1</th>\n",
       "      <td>MAP05003</td>\n",
       "      <td>5.00</td>\n",
       "      <td>19</td>\n",
       "      <td>-6.80</td>\n",
       "      <td>0.32</td>\n",
       "      <td>-6.73</td>\n",
       "    </tr>\n",
       "    <tr>\n",
       "      <th>2</th>\n",
       "      <td>MAP05004</td>\n",
       "      <td>5.00</td>\n",
       "      <td>50</td>\n",
       "      <td>-3.45</td>\n",
       "      <td>0.36</td>\n",
       "      <td>-3.40</td>\n",
       "    </tr>\n",
       "    <tr>\n",
       "      <th>3</th>\n",
       "      <td>MAP05005</td>\n",
       "      <td>5.00</td>\n",
       "      <td>32</td>\n",
       "      <td>-5.51</td>\n",
       "      <td>0.32</td>\n",
       "      <td>-5.44</td>\n",
       "    </tr>\n",
       "    <tr>\n",
       "      <th>4</th>\n",
       "      <td>MAP05006</td>\n",
       "      <td>5.00</td>\n",
       "      <td>15</td>\n",
       "      <td>-7.24</td>\n",
       "      <td>0.34</td>\n",
       "      <td>-7.16</td>\n",
       "    </tr>\n",
       "  </tbody>\n",
       "</table>\n",
       "</div>"
      ],
      "text/plain": [
       "   FINALPIN  age  sum_score80  theta80  SE80   eap\n",
       "0  MAP05001 5.00           45    -4.08  0.35 -4.02\n",
       "1  MAP05003 5.00           19    -6.80  0.32 -6.73\n",
       "2  MAP05004 5.00           50    -3.45  0.36 -3.40\n",
       "3  MAP05005 5.00           32    -5.51  0.32 -5.44\n",
       "4  MAP05006 5.00           15    -7.24  0.34 -7.16"
      ]
     },
     "execution_count": 51,
     "metadata": {},
     "output_type": "execute_result"
    }
   ],
   "source": [
    "df.head()"
   ]
  },
  {
   "cell_type": "code",
   "execution_count": 52,
   "metadata": {},
   "outputs": [
    {
     "data": {
      "text/plain": [
       "Series([], Name: FINALPIN, dtype: int64)"
      ]
     },
     "execution_count": 52,
     "metadata": {},
     "output_type": "execute_result"
    }
   ],
   "source": [
    "s =df.FINALPIN.value_counts()\n",
    "s[s>1]"
   ]
  },
  {
   "cell_type": "code",
   "execution_count": 53,
   "metadata": {},
   "outputs": [],
   "source": [
    "del df['age']"
   ]
  },
  {
   "cell_type": "code",
   "execution_count": 54,
   "metadata": {},
   "outputs": [],
   "source": [
    "df =df.rename({col:'pc_'+ col for col in df.columns[1:]}, axis=1)"
   ]
  },
  {
   "cell_type": "code",
   "execution_count": 55,
   "metadata": {},
   "outputs": [
    {
     "data": {
      "text/html": [
       "<div>\n",
       "<style scoped>\n",
       "    .dataframe tbody tr th:only-of-type {\n",
       "        vertical-align: middle;\n",
       "    }\n",
       "\n",
       "    .dataframe tbody tr th {\n",
       "        vertical-align: top;\n",
       "    }\n",
       "\n",
       "    .dataframe thead th {\n",
       "        text-align: right;\n",
       "    }\n",
       "</style>\n",
       "<table border=\"1\" class=\"dataframe\">\n",
       "  <thead>\n",
       "    <tr style=\"text-align: right;\">\n",
       "      <th></th>\n",
       "      <th>FINALPIN</th>\n",
       "      <th>REGION</th>\n",
       "      <th>AGE</th>\n",
       "      <th>SEX</th>\n",
       "      <th>HIGHESTEDU</th>\n",
       "      <th>REGION.RACE</th>\n",
       "      <th>REGION.SEX</th>\n",
       "      <th>AGEGROUP</th>\n",
       "      <th>WEIGHTS4</th>\n",
       "      <th>WEIGHTS10</th>\n",
       "      <th>...</th>\n",
       "      <th>OR_RMSR</th>\n",
       "      <th>OR_WMLE</th>\n",
       "      <th>OR_INDF</th>\n",
       "      <th>OR_OUTDF</th>\n",
       "      <th>OSD_Theta</th>\n",
       "      <th>OSD_Theta SE</th>\n",
       "      <th>pc_sum_score80</th>\n",
       "      <th>pc_theta80</th>\n",
       "      <th>pc_SE80</th>\n",
       "      <th>pc_eap</th>\n",
       "    </tr>\n",
       "  </thead>\n",
       "  <tbody>\n",
       "    <tr>\n",
       "      <th>0</th>\n",
       "      <td>MAP03001</td>\n",
       "      <td>2</td>\n",
       "      <td>3</td>\n",
       "      <td>Female</td>\n",
       "      <td>high school graduate</td>\n",
       "      <td>2-White</td>\n",
       "      <td>2-Female</td>\n",
       "      <td>Child</td>\n",
       "      <td>0.91</td>\n",
       "      <td>0.91</td>\n",
       "      <td>...</td>\n",
       "      <td>NaN</td>\n",
       "      <td>NaN</td>\n",
       "      <td>NaN</td>\n",
       "      <td>NaN</td>\n",
       "      <td>NaN</td>\n",
       "      <td>NaN</td>\n",
       "      <td>NaN</td>\n",
       "      <td>NaN</td>\n",
       "      <td>NaN</td>\n",
       "      <td>NaN</td>\n",
       "    </tr>\n",
       "    <tr>\n",
       "      <th>1</th>\n",
       "      <td>MAP03002</td>\n",
       "      <td>2</td>\n",
       "      <td>3</td>\n",
       "      <td>Male</td>\n",
       "      <td>some college</td>\n",
       "      <td>2-White</td>\n",
       "      <td>2-Male</td>\n",
       "      <td>Child</td>\n",
       "      <td>0.70</td>\n",
       "      <td>0.70</td>\n",
       "      <td>...</td>\n",
       "      <td>NaN</td>\n",
       "      <td>NaN</td>\n",
       "      <td>NaN</td>\n",
       "      <td>NaN</td>\n",
       "      <td>NaN</td>\n",
       "      <td>NaN</td>\n",
       "      <td>NaN</td>\n",
       "      <td>NaN</td>\n",
       "      <td>NaN</td>\n",
       "      <td>NaN</td>\n",
       "    </tr>\n",
       "    <tr>\n",
       "      <th>2</th>\n",
       "      <td>MAP03003</td>\n",
       "      <td>2</td>\n",
       "      <td>3</td>\n",
       "      <td>Female</td>\n",
       "      <td>some college</td>\n",
       "      <td>2-White</td>\n",
       "      <td>2-Female</td>\n",
       "      <td>Child</td>\n",
       "      <td>0.74</td>\n",
       "      <td>0.74</td>\n",
       "      <td>...</td>\n",
       "      <td>NaN</td>\n",
       "      <td>NaN</td>\n",
       "      <td>NaN</td>\n",
       "      <td>NaN</td>\n",
       "      <td>NaN</td>\n",
       "      <td>NaN</td>\n",
       "      <td>NaN</td>\n",
       "      <td>NaN</td>\n",
       "      <td>NaN</td>\n",
       "      <td>NaN</td>\n",
       "    </tr>\n",
       "    <tr>\n",
       "      <th>3</th>\n",
       "      <td>MAP03004</td>\n",
       "      <td>2</td>\n",
       "      <td>3</td>\n",
       "      <td>Female</td>\n",
       "      <td>some college</td>\n",
       "      <td>2-White</td>\n",
       "      <td>2-Female</td>\n",
       "      <td>Child</td>\n",
       "      <td>0.74</td>\n",
       "      <td>0.74</td>\n",
       "      <td>...</td>\n",
       "      <td>NaN</td>\n",
       "      <td>NaN</td>\n",
       "      <td>NaN</td>\n",
       "      <td>NaN</td>\n",
       "      <td>NaN</td>\n",
       "      <td>NaN</td>\n",
       "      <td>NaN</td>\n",
       "      <td>NaN</td>\n",
       "      <td>NaN</td>\n",
       "      <td>NaN</td>\n",
       "    </tr>\n",
       "    <tr>\n",
       "      <th>4</th>\n",
       "      <td>MAP03005</td>\n",
       "      <td>2</td>\n",
       "      <td>3</td>\n",
       "      <td>Female</td>\n",
       "      <td>high school graduate</td>\n",
       "      <td>2-White</td>\n",
       "      <td>2-Female</td>\n",
       "      <td>Child</td>\n",
       "      <td>0.91</td>\n",
       "      <td>0.91</td>\n",
       "      <td>...</td>\n",
       "      <td>NaN</td>\n",
       "      <td>NaN</td>\n",
       "      <td>NaN</td>\n",
       "      <td>NaN</td>\n",
       "      <td>NaN</td>\n",
       "      <td>NaN</td>\n",
       "      <td>NaN</td>\n",
       "      <td>NaN</td>\n",
       "      <td>NaN</td>\n",
       "      <td>NaN</td>\n",
       "    </tr>\n",
       "  </tbody>\n",
       "</table>\n",
       "<p>5 rows × 110 columns</p>\n",
       "</div>"
      ],
      "text/plain": [
       "   FINALPIN  REGION  AGE     SEX            HIGHESTEDU REGION.RACE REGION.SEX  \\\n",
       "0  MAP03001       2    3  Female  high school graduate     2-White   2-Female   \n",
       "1  MAP03002       2    3    Male          some college     2-White     2-Male   \n",
       "2  MAP03003       2    3  Female          some college     2-White   2-Female   \n",
       "3  MAP03004       2    3  Female          some college     2-White   2-Female   \n",
       "4  MAP03005       2    3  Female  high school graduate     2-White   2-Female   \n",
       "\n",
       "  AGEGROUP  WEIGHTS4  WEIGHTS10  ...  OR_RMSR  OR_WMLE  OR_INDF  OR_OUTDF  \\\n",
       "0    Child      0.91       0.91  ...      NaN      NaN      NaN       NaN   \n",
       "1    Child      0.70       0.70  ...      NaN      NaN      NaN       NaN   \n",
       "2    Child      0.74       0.74  ...      NaN      NaN      NaN       NaN   \n",
       "3    Child      0.74       0.74  ...      NaN      NaN      NaN       NaN   \n",
       "4    Child      0.91       0.91  ...      NaN      NaN      NaN       NaN   \n",
       "\n",
       "   OSD_Theta  OSD_Theta SE  pc_sum_score80  pc_theta80  pc_SE80  pc_eap  \n",
       "0        NaN           NaN             NaN         NaN      NaN     NaN  \n",
       "1        NaN           NaN             NaN         NaN      NaN     NaN  \n",
       "2        NaN           NaN             NaN         NaN      NaN     NaN  \n",
       "3        NaN           NaN             NaN         NaN      NaN     NaN  \n",
       "4        NaN           NaN             NaN         NaN      NaN     NaN  \n",
       "\n",
       "[5 rows x 110 columns]"
      ]
     },
     "execution_count": 55,
     "metadata": {},
     "output_type": "execute_result"
    }
   ],
   "source": [
    "data =pd.merge(data, df, how='left',on='FINALPIN')\n",
    "\n",
    "data.head()"
   ]
  },
  {
   "cell_type": "code",
   "execution_count": 56,
   "metadata": {},
   "outputs": [
    {
     "data": {
      "text/plain": [
       "(3902, 110)"
      ]
     },
     "execution_count": 56,
     "metadata": {},
     "output_type": "execute_result"
    }
   ],
   "source": [
    "data.shape"
   ]
  },
  {
   "cell_type": "markdown",
   "metadata": {},
   "source": [
    "# Picture Sequence Memory"
   ]
  },
  {
   "cell_type": "code",
   "execution_count": 57,
   "metadata": {},
   "outputs": [],
   "source": [
    "df = pd.read_excel(data_dir+'/Picture Sequence Memory/PFILE_Rescored 062522.xlsx', index_col=0)\n",
    "df=df.rename(columns = {'New PIN':'FINALPIN'})"
   ]
  },
  {
   "cell_type": "code",
   "execution_count": 58,
   "metadata": {},
   "outputs": [
    {
     "data": {
      "text/html": [
       "<div>\n",
       "<style scoped>\n",
       "    .dataframe tbody tr th:only-of-type {\n",
       "        vertical-align: middle;\n",
       "    }\n",
       "\n",
       "    .dataframe tbody tr th {\n",
       "        vertical-align: top;\n",
       "    }\n",
       "\n",
       "    .dataframe thead th {\n",
       "        text-align: right;\n",
       "    }\n",
       "</style>\n",
       "<table border=\"1\" class=\"dataframe\">\n",
       "  <thead>\n",
       "    <tr style=\"text-align: right;\">\n",
       "      <th></th>\n",
       "      <th>MEASURE</th>\n",
       "      <th>STATUS</th>\n",
       "      <th>COUNT</th>\n",
       "      <th>SCORE</th>\n",
       "      <th>MODLSE</th>\n",
       "      <th>IN.MSQ</th>\n",
       "      <th>IN.ZEMP</th>\n",
       "      <th>OUT.MSQ</th>\n",
       "      <th>OUT.ZEMP</th>\n",
       "      <th>DISPLACE</th>\n",
       "      <th>...</th>\n",
       "      <th>OBSMATCH</th>\n",
       "      <th>EXPMATCH</th>\n",
       "      <th>PTMA-E</th>\n",
       "      <th>RMSR</th>\n",
       "      <th>WMLE</th>\n",
       "      <th>INDF</th>\n",
       "      <th>OUTDF</th>\n",
       "      <th>Group</th>\n",
       "      <th>FINALPIN</th>\n",
       "      <th>Old PIN</th>\n",
       "    </tr>\n",
       "    <tr>\n",
       "      <th>ENTRY</th>\n",
       "      <th></th>\n",
       "      <th></th>\n",
       "      <th></th>\n",
       "      <th></th>\n",
       "      <th></th>\n",
       "      <th></th>\n",
       "      <th></th>\n",
       "      <th></th>\n",
       "      <th></th>\n",
       "      <th></th>\n",
       "      <th></th>\n",
       "      <th></th>\n",
       "      <th></th>\n",
       "      <th></th>\n",
       "      <th></th>\n",
       "      <th></th>\n",
       "      <th></th>\n",
       "      <th></th>\n",
       "      <th></th>\n",
       "      <th></th>\n",
       "      <th></th>\n",
       "    </tr>\n",
       "  </thead>\n",
       "  <tbody>\n",
       "    <tr>\n",
       "      <th>1</th>\n",
       "      <td>-6.80</td>\n",
       "      <td>1</td>\n",
       "      <td>2</td>\n",
       "      <td>2</td>\n",
       "      <td>0.85</td>\n",
       "      <td>0.81</td>\n",
       "      <td>-0.08</td>\n",
       "      <td>0.81</td>\n",
       "      <td>-0.02</td>\n",
       "      <td>0.00</td>\n",
       "      <td>...</td>\n",
       "      <td>0</td>\n",
       "      <td>23.86</td>\n",
       "      <td>0</td>\n",
       "      <td>0.75</td>\n",
       "      <td>-6.81</td>\n",
       "      <td>6.62</td>\n",
       "      <td>6.60</td>\n",
       "      <td>Group 1</td>\n",
       "      <td>WPX03003</td>\n",
       "      <td>WPX03003</td>\n",
       "    </tr>\n",
       "    <tr>\n",
       "      <th>2</th>\n",
       "      <td>-7.58</td>\n",
       "      <td>1</td>\n",
       "      <td>2</td>\n",
       "      <td>1</td>\n",
       "      <td>0.97</td>\n",
       "      <td>0.21</td>\n",
       "      <td>-0.42</td>\n",
       "      <td>0.23</td>\n",
       "      <td>-0.09</td>\n",
       "      <td>0.00</td>\n",
       "      <td>...</td>\n",
       "      <td>100</td>\n",
       "      <td>47.47</td>\n",
       "      <td>0</td>\n",
       "      <td>0.34</td>\n",
       "      <td>-7.24</td>\n",
       "      <td>2.56</td>\n",
       "      <td>1.86</td>\n",
       "      <td>Group 1</td>\n",
       "      <td>NBS05020</td>\n",
       "      <td>NBS05020</td>\n",
       "    </tr>\n",
       "    <tr>\n",
       "      <th>3</th>\n",
       "      <td>-6.80</td>\n",
       "      <td>1</td>\n",
       "      <td>2</td>\n",
       "      <td>2</td>\n",
       "      <td>0.85</td>\n",
       "      <td>0.81</td>\n",
       "      <td>-0.08</td>\n",
       "      <td>0.81</td>\n",
       "      <td>-0.02</td>\n",
       "      <td>0.00</td>\n",
       "      <td>...</td>\n",
       "      <td>0</td>\n",
       "      <td>23.86</td>\n",
       "      <td>0</td>\n",
       "      <td>0.75</td>\n",
       "      <td>-6.81</td>\n",
       "      <td>6.62</td>\n",
       "      <td>6.60</td>\n",
       "      <td>Group 1</td>\n",
       "      <td>MCH04009</td>\n",
       "      <td>MCH04009</td>\n",
       "    </tr>\n",
       "    <tr>\n",
       "      <th>4</th>\n",
       "      <td>-6.80</td>\n",
       "      <td>1</td>\n",
       "      <td>2</td>\n",
       "      <td>2</td>\n",
       "      <td>0.85</td>\n",
       "      <td>0.81</td>\n",
       "      <td>-0.08</td>\n",
       "      <td>0.81</td>\n",
       "      <td>-0.02</td>\n",
       "      <td>0.00</td>\n",
       "      <td>...</td>\n",
       "      <td>0</td>\n",
       "      <td>23.86</td>\n",
       "      <td>0</td>\n",
       "      <td>0.75</td>\n",
       "      <td>-6.81</td>\n",
       "      <td>6.62</td>\n",
       "      <td>6.60</td>\n",
       "      <td>Group 1</td>\n",
       "      <td>MAP03007</td>\n",
       "      <td>MAP03007</td>\n",
       "    </tr>\n",
       "    <tr>\n",
       "      <th>5</th>\n",
       "      <td>-6.80</td>\n",
       "      <td>1</td>\n",
       "      <td>2</td>\n",
       "      <td>2</td>\n",
       "      <td>0.85</td>\n",
       "      <td>0.81</td>\n",
       "      <td>-0.08</td>\n",
       "      <td>0.81</td>\n",
       "      <td>-0.02</td>\n",
       "      <td>0.00</td>\n",
       "      <td>...</td>\n",
       "      <td>0</td>\n",
       "      <td>23.86</td>\n",
       "      <td>0</td>\n",
       "      <td>0.75</td>\n",
       "      <td>-6.81</td>\n",
       "      <td>6.62</td>\n",
       "      <td>6.60</td>\n",
       "      <td>Group 1</td>\n",
       "      <td>SBM03009</td>\n",
       "      <td>SBM03009</td>\n",
       "    </tr>\n",
       "  </tbody>\n",
       "</table>\n",
       "<p>5 rows × 22 columns</p>\n",
       "</div>"
      ],
      "text/plain": [
       "       MEASURE  STATUS  COUNT  SCORE  MODLSE  IN.MSQ  IN.ZEMP  OUT.MSQ  \\\n",
       "ENTRY                                                                    \n",
       "1        -6.80       1      2      2    0.85    0.81    -0.08     0.81   \n",
       "2        -7.58       1      2      1    0.97    0.21    -0.42     0.23   \n",
       "3        -6.80       1      2      2    0.85    0.81    -0.08     0.81   \n",
       "4        -6.80       1      2      2    0.85    0.81    -0.08     0.81   \n",
       "5        -6.80       1      2      2    0.85    0.81    -0.08     0.81   \n",
       "\n",
       "       OUT.ZEMP  DISPLACE  ...  OBSMATCH  EXPMATCH  PTMA-E  RMSR  WMLE  INDF  \\\n",
       "ENTRY                      ...                                                 \n",
       "1         -0.02      0.00  ...         0     23.86       0  0.75 -6.81  6.62   \n",
       "2         -0.09      0.00  ...       100     47.47       0  0.34 -7.24  2.56   \n",
       "3         -0.02      0.00  ...         0     23.86       0  0.75 -6.81  6.62   \n",
       "4         -0.02      0.00  ...         0     23.86       0  0.75 -6.81  6.62   \n",
       "5         -0.02      0.00  ...         0     23.86       0  0.75 -6.81  6.62   \n",
       "\n",
       "       OUTDF    Group  FINALPIN   Old PIN  \n",
       "ENTRY                                      \n",
       "1       6.60  Group 1  WPX03003  WPX03003  \n",
       "2       1.86  Group 1  NBS05020  NBS05020  \n",
       "3       6.60  Group 1  MCH04009  MCH04009  \n",
       "4       6.60  Group 1  MAP03007  MAP03007  \n",
       "5       6.60  Group 1  SBM03009  SBM03009  \n",
       "\n",
       "[5 rows x 22 columns]"
      ]
     },
     "execution_count": 58,
     "metadata": {},
     "output_type": "execute_result"
    }
   ],
   "source": [
    "df.head()"
   ]
  },
  {
   "cell_type": "code",
   "execution_count": 59,
   "metadata": {},
   "outputs": [
    {
     "data": {
      "text/plain": [
       "Index([], dtype='object')"
      ]
     },
     "execution_count": 59,
     "metadata": {},
     "output_type": "execute_result"
    }
   ],
   "source": [
    "s =df.FINALPIN.value_counts()\n",
    "s[s>1].index"
   ]
  },
  {
   "cell_type": "code",
   "execution_count": 60,
   "metadata": {},
   "outputs": [],
   "source": [
    "df =df.rename({col:'psm_'+ col for col in df.columns[:-2]}, axis=1)"
   ]
  },
  {
   "cell_type": "code",
   "execution_count": 61,
   "metadata": {},
   "outputs": [],
   "source": [
    "del df['Old PIN']"
   ]
  },
  {
   "cell_type": "code",
   "execution_count": 62,
   "metadata": {},
   "outputs": [
    {
     "data": {
      "text/html": [
       "<div>\n",
       "<style scoped>\n",
       "    .dataframe tbody tr th:only-of-type {\n",
       "        vertical-align: middle;\n",
       "    }\n",
       "\n",
       "    .dataframe tbody tr th {\n",
       "        vertical-align: top;\n",
       "    }\n",
       "\n",
       "    .dataframe thead th {\n",
       "        text-align: right;\n",
       "    }\n",
       "</style>\n",
       "<table border=\"1\" class=\"dataframe\">\n",
       "  <thead>\n",
       "    <tr style=\"text-align: right;\">\n",
       "      <th></th>\n",
       "      <th>FINALPIN</th>\n",
       "      <th>REGION</th>\n",
       "      <th>AGE</th>\n",
       "      <th>SEX</th>\n",
       "      <th>HIGHESTEDU</th>\n",
       "      <th>REGION.RACE</th>\n",
       "      <th>REGION.SEX</th>\n",
       "      <th>AGEGROUP</th>\n",
       "      <th>WEIGHTS4</th>\n",
       "      <th>WEIGHTS10</th>\n",
       "      <th>...</th>\n",
       "      <th>psm_PTMA</th>\n",
       "      <th>psm_WEIGHT</th>\n",
       "      <th>psm_OBSMATCH</th>\n",
       "      <th>psm_EXPMATCH</th>\n",
       "      <th>psm_PTMA-E</th>\n",
       "      <th>psm_RMSR</th>\n",
       "      <th>psm_WMLE</th>\n",
       "      <th>psm_INDF</th>\n",
       "      <th>psm_OUTDF</th>\n",
       "      <th>psm_Group</th>\n",
       "    </tr>\n",
       "  </thead>\n",
       "  <tbody>\n",
       "    <tr>\n",
       "      <th>0</th>\n",
       "      <td>MAP03001</td>\n",
       "      <td>2</td>\n",
       "      <td>3</td>\n",
       "      <td>Female</td>\n",
       "      <td>high school graduate</td>\n",
       "      <td>2-White</td>\n",
       "      <td>2-Female</td>\n",
       "      <td>Child</td>\n",
       "      <td>0.91</td>\n",
       "      <td>0.91</td>\n",
       "      <td>...</td>\n",
       "      <td>NaN</td>\n",
       "      <td>NaN</td>\n",
       "      <td>NaN</td>\n",
       "      <td>NaN</td>\n",
       "      <td>NaN</td>\n",
       "      <td>NaN</td>\n",
       "      <td>NaN</td>\n",
       "      <td>NaN</td>\n",
       "      <td>NaN</td>\n",
       "      <td>NaN</td>\n",
       "    </tr>\n",
       "    <tr>\n",
       "      <th>1</th>\n",
       "      <td>MAP03002</td>\n",
       "      <td>2</td>\n",
       "      <td>3</td>\n",
       "      <td>Male</td>\n",
       "      <td>some college</td>\n",
       "      <td>2-White</td>\n",
       "      <td>2-Male</td>\n",
       "      <td>Child</td>\n",
       "      <td>0.70</td>\n",
       "      <td>0.70</td>\n",
       "      <td>...</td>\n",
       "      <td>0.00</td>\n",
       "      <td>1.00</td>\n",
       "      <td>100.00</td>\n",
       "      <td>33.36</td>\n",
       "      <td>0.00</td>\n",
       "      <td>0.02</td>\n",
       "      <td>-4.22</td>\n",
       "      <td>7.99</td>\n",
       "      <td>7.95</td>\n",
       "      <td>Group 2</td>\n",
       "    </tr>\n",
       "    <tr>\n",
       "      <th>2</th>\n",
       "      <td>MAP03003</td>\n",
       "      <td>2</td>\n",
       "      <td>3</td>\n",
       "      <td>Female</td>\n",
       "      <td>some college</td>\n",
       "      <td>2-White</td>\n",
       "      <td>2-Female</td>\n",
       "      <td>Child</td>\n",
       "      <td>0.74</td>\n",
       "      <td>0.74</td>\n",
       "      <td>...</td>\n",
       "      <td>0.00</td>\n",
       "      <td>1.00</td>\n",
       "      <td>100.00</td>\n",
       "      <td>100.00</td>\n",
       "      <td>0.00</td>\n",
       "      <td>0.00</td>\n",
       "      <td>-6.20</td>\n",
       "      <td>0.00</td>\n",
       "      <td>0.00</td>\n",
       "      <td>Group 1</td>\n",
       "    </tr>\n",
       "    <tr>\n",
       "      <th>3</th>\n",
       "      <td>MAP03004</td>\n",
       "      <td>2</td>\n",
       "      <td>3</td>\n",
       "      <td>Female</td>\n",
       "      <td>some college</td>\n",
       "      <td>2-White</td>\n",
       "      <td>2-Female</td>\n",
       "      <td>Child</td>\n",
       "      <td>0.74</td>\n",
       "      <td>0.74</td>\n",
       "      <td>...</td>\n",
       "      <td>0.00</td>\n",
       "      <td>1.00</td>\n",
       "      <td>0.00</td>\n",
       "      <td>58.75</td>\n",
       "      <td>0.00</td>\n",
       "      <td>0.64</td>\n",
       "      <td>-2.79</td>\n",
       "      <td>1.60</td>\n",
       "      <td>1.53</td>\n",
       "      <td>Group 2</td>\n",
       "    </tr>\n",
       "    <tr>\n",
       "      <th>4</th>\n",
       "      <td>MAP03005</td>\n",
       "      <td>2</td>\n",
       "      <td>3</td>\n",
       "      <td>Female</td>\n",
       "      <td>high school graduate</td>\n",
       "      <td>2-White</td>\n",
       "      <td>2-Female</td>\n",
       "      <td>Child</td>\n",
       "      <td>0.91</td>\n",
       "      <td>0.91</td>\n",
       "      <td>...</td>\n",
       "      <td>0.00</td>\n",
       "      <td>1.00</td>\n",
       "      <td>0.00</td>\n",
       "      <td>47.44</td>\n",
       "      <td>0.00</td>\n",
       "      <td>0.55</td>\n",
       "      <td>-4.48</td>\n",
       "      <td>2.20</td>\n",
       "      <td>2.19</td>\n",
       "      <td>Group 1</td>\n",
       "    </tr>\n",
       "  </tbody>\n",
       "</table>\n",
       "<p>5 rows × 130 columns</p>\n",
       "</div>"
      ],
      "text/plain": [
       "   FINALPIN  REGION  AGE     SEX            HIGHESTEDU REGION.RACE REGION.SEX  \\\n",
       "0  MAP03001       2    3  Female  high school graduate     2-White   2-Female   \n",
       "1  MAP03002       2    3    Male          some college     2-White     2-Male   \n",
       "2  MAP03003       2    3  Female          some college     2-White   2-Female   \n",
       "3  MAP03004       2    3  Female          some college     2-White   2-Female   \n",
       "4  MAP03005       2    3  Female  high school graduate     2-White   2-Female   \n",
       "\n",
       "  AGEGROUP  WEIGHTS4  WEIGHTS10  ...  psm_PTMA  psm_WEIGHT  psm_OBSMATCH  \\\n",
       "0    Child      0.91       0.91  ...       NaN         NaN           NaN   \n",
       "1    Child      0.70       0.70  ...      0.00        1.00        100.00   \n",
       "2    Child      0.74       0.74  ...      0.00        1.00        100.00   \n",
       "3    Child      0.74       0.74  ...      0.00        1.00          0.00   \n",
       "4    Child      0.91       0.91  ...      0.00        1.00          0.00   \n",
       "\n",
       "   psm_EXPMATCH  psm_PTMA-E  psm_RMSR  psm_WMLE  psm_INDF  psm_OUTDF  \\\n",
       "0           NaN         NaN       NaN       NaN       NaN        NaN   \n",
       "1         33.36        0.00      0.02     -4.22      7.99       7.95   \n",
       "2        100.00        0.00      0.00     -6.20      0.00       0.00   \n",
       "3         58.75        0.00      0.64     -2.79      1.60       1.53   \n",
       "4         47.44        0.00      0.55     -4.48      2.20       2.19   \n",
       "\n",
       "   psm_Group  \n",
       "0        NaN  \n",
       "1    Group 2  \n",
       "2    Group 1  \n",
       "3    Group 2  \n",
       "4    Group 1  \n",
       "\n",
       "[5 rows x 130 columns]"
      ]
     },
     "execution_count": 62,
     "metadata": {},
     "output_type": "execute_result"
    }
   ],
   "source": [
    "data =pd.merge(data, df, how='left',on='FINALPIN')\n",
    "\n",
    "data.head()"
   ]
  },
  {
   "cell_type": "code",
   "execution_count": 63,
   "metadata": {},
   "outputs": [
    {
     "data": {
      "text/plain": [
       "(3902, 130)"
      ]
     },
     "execution_count": 63,
     "metadata": {},
     "output_type": "execute_result"
    }
   ],
   "source": [
    "data.shape"
   ]
  },
  {
   "cell_type": "markdown",
   "metadata": {},
   "source": [
    "# Picture Vocabulary"
   ]
  },
  {
   "cell_type": "code",
   "execution_count": 76,
   "metadata": {},
   "outputs": [],
   "source": [
    "df = pd.read_excel(data_dir+'/Picture Vocabulary/PFILE_PV_Fixed070722.xlsx', index_col=0)\n",
    "df=df.rename(columns = {'New PIN':'FINALPIN'})"
   ]
  },
  {
   "cell_type": "code",
   "execution_count": 77,
   "metadata": {},
   "outputs": [
    {
     "data": {
      "text/html": [
       "<div>\n",
       "<style scoped>\n",
       "    .dataframe tbody tr th:only-of-type {\n",
       "        vertical-align: middle;\n",
       "    }\n",
       "\n",
       "    .dataframe tbody tr th {\n",
       "        vertical-align: top;\n",
       "    }\n",
       "\n",
       "    .dataframe thead th {\n",
       "        text-align: right;\n",
       "    }\n",
       "</style>\n",
       "<table border=\"1\" class=\"dataframe\">\n",
       "  <thead>\n",
       "    <tr style=\"text-align: right;\">\n",
       "      <th></th>\n",
       "      <th>MEASURE</th>\n",
       "      <th>STATUS</th>\n",
       "      <th>COUNT</th>\n",
       "      <th>SCORE</th>\n",
       "      <th>MODLSE</th>\n",
       "      <th>IN.MSQ</th>\n",
       "      <th>IN.ZEMP</th>\n",
       "      <th>OUT.MSQ</th>\n",
       "      <th>OUT.ZEMP</th>\n",
       "      <th>DISPLACE</th>\n",
       "      <th>...</th>\n",
       "      <th>OBSMATCH</th>\n",
       "      <th>EXPMATCH</th>\n",
       "      <th>PTMA-E</th>\n",
       "      <th>RMSR</th>\n",
       "      <th>WMLE</th>\n",
       "      <th>INDF</th>\n",
       "      <th>OUTDF</th>\n",
       "      <th>FINALPIN</th>\n",
       "      <th>Old PIN</th>\n",
       "      <th>Age in Months</th>\n",
       "    </tr>\n",
       "    <tr>\n",
       "      <th>ENTRY</th>\n",
       "      <th></th>\n",
       "      <th></th>\n",
       "      <th></th>\n",
       "      <th></th>\n",
       "      <th></th>\n",
       "      <th></th>\n",
       "      <th></th>\n",
       "      <th></th>\n",
       "      <th></th>\n",
       "      <th></th>\n",
       "      <th></th>\n",
       "      <th></th>\n",
       "      <th></th>\n",
       "      <th></th>\n",
       "      <th></th>\n",
       "      <th></th>\n",
       "      <th></th>\n",
       "      <th></th>\n",
       "      <th></th>\n",
       "      <th></th>\n",
       "      <th></th>\n",
       "    </tr>\n",
       "  </thead>\n",
       "  <tbody>\n",
       "    <tr>\n",
       "      <th>295</th>\n",
       "      <td>6.28</td>\n",
       "      <td>1</td>\n",
       "      <td>25</td>\n",
       "      <td>21</td>\n",
       "      <td>0.60</td>\n",
       "      <td>0.61</td>\n",
       "      <td>-1.21</td>\n",
       "      <td>0.32</td>\n",
       "      <td>-0.46</td>\n",
       "      <td>0.00</td>\n",
       "      <td>...</td>\n",
       "      <td>88.00</td>\n",
       "      <td>84.24</td>\n",
       "      <td>0.39</td>\n",
       "      <td>0.26</td>\n",
       "      <td>6.20</td>\n",
       "      <td>18.72</td>\n",
       "      <td>1.51</td>\n",
       "      <td>SNA70117</td>\n",
       "      <td>SNA70178</td>\n",
       "      <td>97.69</td>\n",
       "    </tr>\n",
       "    <tr>\n",
       "      <th>743</th>\n",
       "      <td>6.09</td>\n",
       "      <td>1</td>\n",
       "      <td>24</td>\n",
       "      <td>19</td>\n",
       "      <td>0.58</td>\n",
       "      <td>1.68</td>\n",
       "      <td>1.94</td>\n",
       "      <td>2.89</td>\n",
       "      <td>1.61</td>\n",
       "      <td>0.00</td>\n",
       "      <td>...</td>\n",
       "      <td>70.83</td>\n",
       "      <td>81.70</td>\n",
       "      <td>0.45</td>\n",
       "      <td>0.46</td>\n",
       "      <td>6.04</td>\n",
       "      <td>23.29</td>\n",
       "      <td>1.80</td>\n",
       "      <td>MSL85107</td>\n",
       "      <td>MSL85107</td>\n",
       "      <td>1041.27</td>\n",
       "    </tr>\n",
       "    <tr>\n",
       "      <th>1596</th>\n",
       "      <td>5.94</td>\n",
       "      <td>1</td>\n",
       "      <td>25</td>\n",
       "      <td>20</td>\n",
       "      <td>0.56</td>\n",
       "      <td>1.63</td>\n",
       "      <td>1.87</td>\n",
       "      <td>8.95</td>\n",
       "      <td>3.80</td>\n",
       "      <td>0.00</td>\n",
       "      <td>...</td>\n",
       "      <td>76.00</td>\n",
       "      <td>81.64</td>\n",
       "      <td>0.42</td>\n",
       "      <td>0.45</td>\n",
       "      <td>5.88</td>\n",
       "      <td>24.75</td>\n",
       "      <td>2.16</td>\n",
       "      <td>SAT85111</td>\n",
       "      <td>SAT85111</td>\n",
       "      <td>116.05</td>\n",
       "    </tr>\n",
       "    <tr>\n",
       "      <th>2484</th>\n",
       "      <td>5.77</td>\n",
       "      <td>1</td>\n",
       "      <td>24</td>\n",
       "      <td>18</td>\n",
       "      <td>0.55</td>\n",
       "      <td>0.65</td>\n",
       "      <td>-1.31</td>\n",
       "      <td>0.44</td>\n",
       "      <td>-0.53</td>\n",
       "      <td>0.00</td>\n",
       "      <td>...</td>\n",
       "      <td>91.67</td>\n",
       "      <td>79.98</td>\n",
       "      <td>0.48</td>\n",
       "      <td>0.30</td>\n",
       "      <td>5.74</td>\n",
       "      <td>27.40</td>\n",
       "      <td>2.51</td>\n",
       "      <td>NBS85108</td>\n",
       "      <td>NBS85108</td>\n",
       "      <td>1064.50</td>\n",
       "    </tr>\n",
       "    <tr>\n",
       "      <th>739</th>\n",
       "      <td>5.63</td>\n",
       "      <td>1</td>\n",
       "      <td>25</td>\n",
       "      <td>19</td>\n",
       "      <td>0.54</td>\n",
       "      <td>0.90</td>\n",
       "      <td>-0.31</td>\n",
       "      <td>0.73</td>\n",
       "      <td>-0.10</td>\n",
       "      <td>0.00</td>\n",
       "      <td>...</td>\n",
       "      <td>80.00</td>\n",
       "      <td>79.37</td>\n",
       "      <td>0.46</td>\n",
       "      <td>0.35</td>\n",
       "      <td>5.59</td>\n",
       "      <td>29.79</td>\n",
       "      <td>2.98</td>\n",
       "      <td>MSL85103</td>\n",
       "      <td>MSL85103</td>\n",
       "      <td>1065.62</td>\n",
       "    </tr>\n",
       "  </tbody>\n",
       "</table>\n",
       "<p>5 rows × 22 columns</p>\n",
       "</div>"
      ],
      "text/plain": [
       "       MEASURE  STATUS  COUNT  SCORE  MODLSE  IN.MSQ  IN.ZEMP  OUT.MSQ  \\\n",
       "ENTRY                                                                    \n",
       "295       6.28       1     25     21    0.60    0.61    -1.21     0.32   \n",
       "743       6.09       1     24     19    0.58    1.68     1.94     2.89   \n",
       "1596      5.94       1     25     20    0.56    1.63     1.87     8.95   \n",
       "2484      5.77       1     24     18    0.55    0.65    -1.31     0.44   \n",
       "739       5.63       1     25     19    0.54    0.90    -0.31     0.73   \n",
       "\n",
       "       OUT.ZEMP  DISPLACE  ...  OBSMATCH  EXPMATCH  PTMA-E  RMSR  WMLE  INDF  \\\n",
       "ENTRY                      ...                                                 \n",
       "295       -0.46      0.00  ...     88.00     84.24    0.39  0.26  6.20 18.72   \n",
       "743        1.61      0.00  ...     70.83     81.70    0.45  0.46  6.04 23.29   \n",
       "1596       3.80      0.00  ...     76.00     81.64    0.42  0.45  5.88 24.75   \n",
       "2484      -0.53      0.00  ...     91.67     79.98    0.48  0.30  5.74 27.40   \n",
       "739       -0.10      0.00  ...     80.00     79.37    0.46  0.35  5.59 29.79   \n",
       "\n",
       "       OUTDF  FINALPIN   Old PIN Age in Months  \n",
       "ENTRY                                           \n",
       "295     1.51  SNA70117  SNA70178         97.69  \n",
       "743     1.80  MSL85107  MSL85107       1041.27  \n",
       "1596    2.16  SAT85111  SAT85111        116.05  \n",
       "2484    2.51  NBS85108  NBS85108       1064.50  \n",
       "739     2.98  MSL85103  MSL85103       1065.62  \n",
       "\n",
       "[5 rows x 22 columns]"
      ]
     },
     "execution_count": 77,
     "metadata": {},
     "output_type": "execute_result"
    }
   ],
   "source": [
    "df['FINALPIN'] = df['FINALPIN'].str[:8]\n",
    "df.head()"
   ]
  },
  {
   "cell_type": "code",
   "execution_count": 78,
   "metadata": {},
   "outputs": [],
   "source": [
    "df =df.rename({col:'pv_'+ col for col in df.columns[:-3]}, axis=1)"
   ]
  },
  {
   "cell_type": "code",
   "execution_count": 82,
   "metadata": {},
   "outputs": [
    {
     "data": {
      "text/html": [
       "<div>\n",
       "<style scoped>\n",
       "    .dataframe tbody tr th:only-of-type {\n",
       "        vertical-align: middle;\n",
       "    }\n",
       "\n",
       "    .dataframe tbody tr th {\n",
       "        vertical-align: top;\n",
       "    }\n",
       "\n",
       "    .dataframe thead th {\n",
       "        text-align: right;\n",
       "    }\n",
       "</style>\n",
       "<table border=\"1\" class=\"dataframe\">\n",
       "  <thead>\n",
       "    <tr style=\"text-align: right;\">\n",
       "      <th></th>\n",
       "      <th>pv_MEASURE</th>\n",
       "      <th>pv_STATUS</th>\n",
       "      <th>pv_COUNT</th>\n",
       "      <th>pv_SCORE</th>\n",
       "      <th>pv_MODLSE</th>\n",
       "      <th>pv_IN.MSQ</th>\n",
       "      <th>pv_IN.ZEMP</th>\n",
       "      <th>pv_OUT.MSQ</th>\n",
       "      <th>pv_OUT.ZEMP</th>\n",
       "      <th>pv_DISPLACE</th>\n",
       "      <th>pv_PTMA</th>\n",
       "      <th>pv_WEIGHT</th>\n",
       "      <th>pv_OBSMATCH</th>\n",
       "      <th>pv_EXPMATCH</th>\n",
       "      <th>pv_PTMA-E</th>\n",
       "      <th>pv_RMSR</th>\n",
       "      <th>pv_WMLE</th>\n",
       "      <th>pv_INDF</th>\n",
       "      <th>pv_OUTDF</th>\n",
       "      <th>FINALPIN</th>\n",
       "    </tr>\n",
       "    <tr>\n",
       "      <th>ENTRY</th>\n",
       "      <th></th>\n",
       "      <th></th>\n",
       "      <th></th>\n",
       "      <th></th>\n",
       "      <th></th>\n",
       "      <th></th>\n",
       "      <th></th>\n",
       "      <th></th>\n",
       "      <th></th>\n",
       "      <th></th>\n",
       "      <th></th>\n",
       "      <th></th>\n",
       "      <th></th>\n",
       "      <th></th>\n",
       "      <th></th>\n",
       "      <th></th>\n",
       "      <th></th>\n",
       "      <th></th>\n",
       "      <th></th>\n",
       "      <th></th>\n",
       "    </tr>\n",
       "  </thead>\n",
       "  <tbody>\n",
       "    <tr>\n",
       "      <th>295</th>\n",
       "      <td>6.28</td>\n",
       "      <td>1</td>\n",
       "      <td>25</td>\n",
       "      <td>21</td>\n",
       "      <td>0.60</td>\n",
       "      <td>0.61</td>\n",
       "      <td>-1.21</td>\n",
       "      <td>0.32</td>\n",
       "      <td>-0.46</td>\n",
       "      <td>0.00</td>\n",
       "      <td>0.59</td>\n",
       "      <td>1</td>\n",
       "      <td>88.00</td>\n",
       "      <td>84.24</td>\n",
       "      <td>0.39</td>\n",
       "      <td>0.26</td>\n",
       "      <td>6.20</td>\n",
       "      <td>18.72</td>\n",
       "      <td>1.51</td>\n",
       "      <td>SNA70117</td>\n",
       "    </tr>\n",
       "    <tr>\n",
       "      <th>743</th>\n",
       "      <td>6.09</td>\n",
       "      <td>1</td>\n",
       "      <td>24</td>\n",
       "      <td>19</td>\n",
       "      <td>0.58</td>\n",
       "      <td>1.68</td>\n",
       "      <td>1.94</td>\n",
       "      <td>2.89</td>\n",
       "      <td>1.61</td>\n",
       "      <td>0.00</td>\n",
       "      <td>0.02</td>\n",
       "      <td>1</td>\n",
       "      <td>70.83</td>\n",
       "      <td>81.70</td>\n",
       "      <td>0.45</td>\n",
       "      <td>0.46</td>\n",
       "      <td>6.04</td>\n",
       "      <td>23.29</td>\n",
       "      <td>1.80</td>\n",
       "      <td>MSL85107</td>\n",
       "    </tr>\n",
       "    <tr>\n",
       "      <th>1596</th>\n",
       "      <td>5.94</td>\n",
       "      <td>1</td>\n",
       "      <td>25</td>\n",
       "      <td>20</td>\n",
       "      <td>0.56</td>\n",
       "      <td>1.63</td>\n",
       "      <td>1.87</td>\n",
       "      <td>8.95</td>\n",
       "      <td>3.80</td>\n",
       "      <td>0.00</td>\n",
       "      <td>-0.15</td>\n",
       "      <td>1</td>\n",
       "      <td>76.00</td>\n",
       "      <td>81.64</td>\n",
       "      <td>0.42</td>\n",
       "      <td>0.45</td>\n",
       "      <td>5.88</td>\n",
       "      <td>24.75</td>\n",
       "      <td>2.16</td>\n",
       "      <td>SAT85111</td>\n",
       "    </tr>\n",
       "    <tr>\n",
       "      <th>2484</th>\n",
       "      <td>5.77</td>\n",
       "      <td>1</td>\n",
       "      <td>24</td>\n",
       "      <td>18</td>\n",
       "      <td>0.55</td>\n",
       "      <td>0.65</td>\n",
       "      <td>-1.31</td>\n",
       "      <td>0.44</td>\n",
       "      <td>-0.53</td>\n",
       "      <td>0.00</td>\n",
       "      <td>0.65</td>\n",
       "      <td>1</td>\n",
       "      <td>91.67</td>\n",
       "      <td>79.98</td>\n",
       "      <td>0.48</td>\n",
       "      <td>0.30</td>\n",
       "      <td>5.74</td>\n",
       "      <td>27.40</td>\n",
       "      <td>2.51</td>\n",
       "      <td>NBS85108</td>\n",
       "    </tr>\n",
       "    <tr>\n",
       "      <th>739</th>\n",
       "      <td>5.63</td>\n",
       "      <td>1</td>\n",
       "      <td>25</td>\n",
       "      <td>19</td>\n",
       "      <td>0.54</td>\n",
       "      <td>0.90</td>\n",
       "      <td>-0.31</td>\n",
       "      <td>0.73</td>\n",
       "      <td>-0.10</td>\n",
       "      <td>0.00</td>\n",
       "      <td>0.51</td>\n",
       "      <td>1</td>\n",
       "      <td>80.00</td>\n",
       "      <td>79.37</td>\n",
       "      <td>0.46</td>\n",
       "      <td>0.35</td>\n",
       "      <td>5.59</td>\n",
       "      <td>29.79</td>\n",
       "      <td>2.98</td>\n",
       "      <td>MSL85103</td>\n",
       "    </tr>\n",
       "    <tr>\n",
       "      <th>...</th>\n",
       "      <td>...</td>\n",
       "      <td>...</td>\n",
       "      <td>...</td>\n",
       "      <td>...</td>\n",
       "      <td>...</td>\n",
       "      <td>...</td>\n",
       "      <td>...</td>\n",
       "      <td>...</td>\n",
       "      <td>...</td>\n",
       "      <td>...</td>\n",
       "      <td>...</td>\n",
       "      <td>...</td>\n",
       "      <td>...</td>\n",
       "      <td>...</td>\n",
       "      <td>...</td>\n",
       "      <td>...</td>\n",
       "      <td>...</td>\n",
       "      <td>...</td>\n",
       "      <td>...</td>\n",
       "      <td>...</td>\n",
       "    </tr>\n",
       "    <tr>\n",
       "      <th>572</th>\n",
       "      <td>8.00</td>\n",
       "      <td>1</td>\n",
       "      <td>25</td>\n",
       "      <td>24</td>\n",
       "      <td>1.05</td>\n",
       "      <td>0.92</td>\n",
       "      <td>0.18</td>\n",
       "      <td>0.30</td>\n",
       "      <td>-0.24</td>\n",
       "      <td>0.00</td>\n",
       "      <td>0.28</td>\n",
       "      <td>1</td>\n",
       "      <td>96.00</td>\n",
       "      <td>96.01</td>\n",
       "      <td>0.20</td>\n",
       "      <td>0.18</td>\n",
       "      <td>7.54</td>\n",
       "      <td>2.66</td>\n",
       "      <td>1.00</td>\n",
       "      <td>WPX30108</td>\n",
       "    </tr>\n",
       "    <tr>\n",
       "      <th>576</th>\n",
       "      <td>8.00</td>\n",
       "      <td>1</td>\n",
       "      <td>25</td>\n",
       "      <td>24</td>\n",
       "      <td>1.05</td>\n",
       "      <td>1.02</td>\n",
       "      <td>0.30</td>\n",
       "      <td>0.47</td>\n",
       "      <td>0.00</td>\n",
       "      <td>0.00</td>\n",
       "      <td>0.22</td>\n",
       "      <td>1</td>\n",
       "      <td>96.00</td>\n",
       "      <td>96.01</td>\n",
       "      <td>0.20</td>\n",
       "      <td>0.19</td>\n",
       "      <td>7.54</td>\n",
       "      <td>2.66</td>\n",
       "      <td>1.00</td>\n",
       "      <td>WPX80106</td>\n",
       "    </tr>\n",
       "    <tr>\n",
       "      <th>2979</th>\n",
       "      <td>8.00</td>\n",
       "      <td>1</td>\n",
       "      <td>25</td>\n",
       "      <td>24</td>\n",
       "      <td>1.05</td>\n",
       "      <td>1.21</td>\n",
       "      <td>0.49</td>\n",
       "      <td>9.90</td>\n",
       "      <td>4.06</td>\n",
       "      <td>0.00</td>\n",
       "      <td>-0.27</td>\n",
       "      <td>1</td>\n",
       "      <td>96.00</td>\n",
       "      <td>96.01</td>\n",
       "      <td>0.20</td>\n",
       "      <td>0.21</td>\n",
       "      <td>7.54</td>\n",
       "      <td>2.66</td>\n",
       "      <td>1.00</td>\n",
       "      <td>MCB70112</td>\n",
       "    </tr>\n",
       "    <tr>\n",
       "      <th>1719</th>\n",
       "      <td>8.01</td>\n",
       "      <td>1</td>\n",
       "      <td>24</td>\n",
       "      <td>23</td>\n",
       "      <td>1.08</td>\n",
       "      <td>0.70</td>\n",
       "      <td>-0.13</td>\n",
       "      <td>0.14</td>\n",
       "      <td>-0.55</td>\n",
       "      <td>-0.01</td>\n",
       "      <td>0.29</td>\n",
       "      <td>1</td>\n",
       "      <td>95.83</td>\n",
       "      <td>95.87</td>\n",
       "      <td>0.21</td>\n",
       "      <td>0.16</td>\n",
       "      <td>7.57</td>\n",
       "      <td>2.94</td>\n",
       "      <td>1.00</td>\n",
       "      <td>SAT80106</td>\n",
       "    </tr>\n",
       "    <tr>\n",
       "      <th>454</th>\n",
       "      <td>8.74</td>\n",
       "      <td>0</td>\n",
       "      <td>25</td>\n",
       "      <td>25</td>\n",
       "      <td>1.45</td>\n",
       "      <td>1.00</td>\n",
       "      <td>0.00</td>\n",
       "      <td>1.00</td>\n",
       "      <td>0.00</td>\n",
       "      <td>0.00</td>\n",
       "      <td>0.00</td>\n",
       "      <td>1</td>\n",
       "      <td>100.00</td>\n",
       "      <td>100.00</td>\n",
       "      <td>0.00</td>\n",
       "      <td>0.00</td>\n",
       "      <td>8.74</td>\n",
       "      <td>0.00</td>\n",
       "      <td>0.00</td>\n",
       "      <td>NNJ40107</td>\n",
       "    </tr>\n",
       "  </tbody>\n",
       "</table>\n",
       "<p>3857 rows × 20 columns</p>\n",
       "</div>"
      ],
      "text/plain": [
       "       pv_MEASURE  pv_STATUS  pv_COUNT  pv_SCORE  pv_MODLSE  pv_IN.MSQ  \\\n",
       "ENTRY                                                                    \n",
       "295          6.28          1        25        21       0.60       0.61   \n",
       "743          6.09          1        24        19       0.58       1.68   \n",
       "1596         5.94          1        25        20       0.56       1.63   \n",
       "2484         5.77          1        24        18       0.55       0.65   \n",
       "739          5.63          1        25        19       0.54       0.90   \n",
       "...           ...        ...       ...       ...        ...        ...   \n",
       "572          8.00          1        25        24       1.05       0.92   \n",
       "576          8.00          1        25        24       1.05       1.02   \n",
       "2979         8.00          1        25        24       1.05       1.21   \n",
       "1719         8.01          1        24        23       1.08       0.70   \n",
       "454          8.74          0        25        25       1.45       1.00   \n",
       "\n",
       "       pv_IN.ZEMP  pv_OUT.MSQ  pv_OUT.ZEMP  pv_DISPLACE  pv_PTMA  pv_WEIGHT  \\\n",
       "ENTRY                                                                         \n",
       "295         -1.21        0.32        -0.46         0.00     0.59          1   \n",
       "743          1.94        2.89         1.61         0.00     0.02          1   \n",
       "1596         1.87        8.95         3.80         0.00    -0.15          1   \n",
       "2484        -1.31        0.44        -0.53         0.00     0.65          1   \n",
       "739         -0.31        0.73        -0.10         0.00     0.51          1   \n",
       "...           ...         ...          ...          ...      ...        ...   \n",
       "572          0.18        0.30        -0.24         0.00     0.28          1   \n",
       "576          0.30        0.47         0.00         0.00     0.22          1   \n",
       "2979         0.49        9.90         4.06         0.00    -0.27          1   \n",
       "1719        -0.13        0.14        -0.55        -0.01     0.29          1   \n",
       "454          0.00        1.00         0.00         0.00     0.00          1   \n",
       "\n",
       "       pv_OBSMATCH  pv_EXPMATCH  pv_PTMA-E  pv_RMSR  pv_WMLE  pv_INDF  \\\n",
       "ENTRY                                                                   \n",
       "295          88.00        84.24       0.39     0.26     6.20    18.72   \n",
       "743          70.83        81.70       0.45     0.46     6.04    23.29   \n",
       "1596         76.00        81.64       0.42     0.45     5.88    24.75   \n",
       "2484         91.67        79.98       0.48     0.30     5.74    27.40   \n",
       "739          80.00        79.37       0.46     0.35     5.59    29.79   \n",
       "...            ...          ...        ...      ...      ...      ...   \n",
       "572          96.00        96.01       0.20     0.18     7.54     2.66   \n",
       "576          96.00        96.01       0.20     0.19     7.54     2.66   \n",
       "2979         96.00        96.01       0.20     0.21     7.54     2.66   \n",
       "1719         95.83        95.87       0.21     0.16     7.57     2.94   \n",
       "454         100.00       100.00       0.00     0.00     8.74     0.00   \n",
       "\n",
       "       pv_OUTDF  FINALPIN  \n",
       "ENTRY                      \n",
       "295        1.51  SNA70117  \n",
       "743        1.80  MSL85107  \n",
       "1596       2.16  SAT85111  \n",
       "2484       2.51  NBS85108  \n",
       "739        2.98  MSL85103  \n",
       "...         ...       ...  \n",
       "572        1.00  WPX30108  \n",
       "576        1.00  WPX80106  \n",
       "2979       1.00  MCB70112  \n",
       "1719       1.00  SAT80106  \n",
       "454        0.00  NNJ40107  \n",
       "\n",
       "[3857 rows x 20 columns]"
      ]
     },
     "execution_count": 82,
     "metadata": {},
     "output_type": "execute_result"
    }
   ],
   "source": [
    "df.iloc[:,:-2]"
   ]
  },
  {
   "cell_type": "code",
   "execution_count": 83,
   "metadata": {
    "scrolled": true
   },
   "outputs": [
    {
     "data": {
      "text/plain": [
       "Index([], dtype='object')"
      ]
     },
     "execution_count": 83,
     "metadata": {},
     "output_type": "execute_result"
    }
   ],
   "source": [
    "s =df.FINALPIN.value_counts()\n",
    "s[s>1].index"
   ]
  },
  {
   "cell_type": "code",
   "execution_count": 84,
   "metadata": {},
   "outputs": [
    {
     "data": {
      "text/plain": [
       "(3902, 149)"
      ]
     },
     "execution_count": 84,
     "metadata": {},
     "output_type": "execute_result"
    }
   ],
   "source": [
    "data =pd.merge(data, df.iloc[:,:-2], how='left',on='FINALPIN')\n",
    "data.shape"
   ]
  },
  {
   "cell_type": "markdown",
   "metadata": {},
   "source": [
    "# RAVLT"
   ]
  },
  {
   "cell_type": "code",
   "execution_count": 85,
   "metadata": {},
   "outputs": [],
   "source": [
    "df = pd.read_csv(data_dir+'/RAVLT/Rey_Delay_FinalEstimates-ML.csv', index_col=0)\n",
    "df=df.rename(columns = {'PIN':'FINALPIN'})"
   ]
  },
  {
   "cell_type": "code",
   "execution_count": 86,
   "metadata": {},
   "outputs": [
    {
     "data": {
      "text/plain": [
       "Index([], dtype='object')"
      ]
     },
     "execution_count": 86,
     "metadata": {},
     "output_type": "execute_result"
    }
   ],
   "source": [
    "s =df.FINALPIN.value_counts()\n",
    "s[s>1].index"
   ]
  },
  {
   "cell_type": "code",
   "execution_count": 87,
   "metadata": {},
   "outputs": [],
   "source": [
    "df =df.rename({col:'Rey_Delay_'+ col for col in df.columns[1:]}, axis=1)\n",
    "\n",
    "data =pd.merge(data, df, how='left',on='FINALPIN')"
   ]
  },
  {
   "cell_type": "code",
   "execution_count": 88,
   "metadata": {},
   "outputs": [
    {
     "data": {
      "text/html": [
       "<div>\n",
       "<style scoped>\n",
       "    .dataframe tbody tr th:only-of-type {\n",
       "        vertical-align: middle;\n",
       "    }\n",
       "\n",
       "    .dataframe tbody tr th {\n",
       "        vertical-align: top;\n",
       "    }\n",
       "\n",
       "    .dataframe thead th {\n",
       "        text-align: right;\n",
       "    }\n",
       "</style>\n",
       "<table border=\"1\" class=\"dataframe\">\n",
       "  <thead>\n",
       "    <tr style=\"text-align: right;\">\n",
       "      <th></th>\n",
       "      <th>FINALPIN</th>\n",
       "      <th>REGION</th>\n",
       "      <th>AGE</th>\n",
       "      <th>SEX</th>\n",
       "      <th>HIGHESTEDU</th>\n",
       "      <th>REGION.RACE</th>\n",
       "      <th>REGION.SEX</th>\n",
       "      <th>AGEGROUP</th>\n",
       "      <th>WEIGHTS4</th>\n",
       "      <th>WEIGHTS10</th>\n",
       "      <th>...</th>\n",
       "      <th>pv_WEIGHT</th>\n",
       "      <th>pv_OBSMATCH</th>\n",
       "      <th>pv_EXPMATCH</th>\n",
       "      <th>pv_PTMA-E</th>\n",
       "      <th>pv_RMSR</th>\n",
       "      <th>pv_WMLE</th>\n",
       "      <th>pv_INDF</th>\n",
       "      <th>pv_OUTDF</th>\n",
       "      <th>Rey_Delay_Theta</th>\n",
       "      <th>Rey_Delay_Theta SE</th>\n",
       "    </tr>\n",
       "  </thead>\n",
       "  <tbody>\n",
       "    <tr>\n",
       "      <th>0</th>\n",
       "      <td>MAP03001</td>\n",
       "      <td>2</td>\n",
       "      <td>3</td>\n",
       "      <td>Female</td>\n",
       "      <td>high school graduate</td>\n",
       "      <td>2-White</td>\n",
       "      <td>2-Female</td>\n",
       "      <td>Child</td>\n",
       "      <td>0.91</td>\n",
       "      <td>0.91</td>\n",
       "      <td>...</td>\n",
       "      <td>1.00</td>\n",
       "      <td>88.00</td>\n",
       "      <td>73.60</td>\n",
       "      <td>0.51</td>\n",
       "      <td>0.37</td>\n",
       "      <td>-3.62</td>\n",
       "      <td>43.09</td>\n",
       "      <td>21.77</td>\n",
       "      <td>NaN</td>\n",
       "      <td>NaN</td>\n",
       "    </tr>\n",
       "    <tr>\n",
       "      <th>1</th>\n",
       "      <td>MAP03002</td>\n",
       "      <td>2</td>\n",
       "      <td>3</td>\n",
       "      <td>Male</td>\n",
       "      <td>some college</td>\n",
       "      <td>2-White</td>\n",
       "      <td>2-Male</td>\n",
       "      <td>Child</td>\n",
       "      <td>0.70</td>\n",
       "      <td>0.70</td>\n",
       "      <td>...</td>\n",
       "      <td>1.00</td>\n",
       "      <td>72.00</td>\n",
       "      <td>71.23</td>\n",
       "      <td>0.48</td>\n",
       "      <td>0.43</td>\n",
       "      <td>-3.75</td>\n",
       "      <td>54.08</td>\n",
       "      <td>28.58</td>\n",
       "      <td>NaN</td>\n",
       "      <td>NaN</td>\n",
       "    </tr>\n",
       "    <tr>\n",
       "      <th>2</th>\n",
       "      <td>MAP03003</td>\n",
       "      <td>2</td>\n",
       "      <td>3</td>\n",
       "      <td>Female</td>\n",
       "      <td>some college</td>\n",
       "      <td>2-White</td>\n",
       "      <td>2-Female</td>\n",
       "      <td>Child</td>\n",
       "      <td>0.74</td>\n",
       "      <td>0.74</td>\n",
       "      <td>...</td>\n",
       "      <td>1.00</td>\n",
       "      <td>84.00</td>\n",
       "      <td>72.00</td>\n",
       "      <td>0.44</td>\n",
       "      <td>0.40</td>\n",
       "      <td>-4.57</td>\n",
       "      <td>51.17</td>\n",
       "      <td>16.27</td>\n",
       "      <td>NaN</td>\n",
       "      <td>NaN</td>\n",
       "    </tr>\n",
       "    <tr>\n",
       "      <th>3</th>\n",
       "      <td>MAP03004</td>\n",
       "      <td>2</td>\n",
       "      <td>3</td>\n",
       "      <td>Female</td>\n",
       "      <td>some college</td>\n",
       "      <td>2-White</td>\n",
       "      <td>2-Female</td>\n",
       "      <td>Child</td>\n",
       "      <td>0.74</td>\n",
       "      <td>0.74</td>\n",
       "      <td>...</td>\n",
       "      <td>1.00</td>\n",
       "      <td>64.00</td>\n",
       "      <td>76.62</td>\n",
       "      <td>0.55</td>\n",
       "      <td>0.46</td>\n",
       "      <td>-3.60</td>\n",
       "      <td>33.35</td>\n",
       "      <td>14.80</td>\n",
       "      <td>NaN</td>\n",
       "      <td>NaN</td>\n",
       "    </tr>\n",
       "    <tr>\n",
       "      <th>4</th>\n",
       "      <td>MAP03005</td>\n",
       "      <td>2</td>\n",
       "      <td>3</td>\n",
       "      <td>Female</td>\n",
       "      <td>high school graduate</td>\n",
       "      <td>2-White</td>\n",
       "      <td>2-Female</td>\n",
       "      <td>Child</td>\n",
       "      <td>0.91</td>\n",
       "      <td>0.91</td>\n",
       "      <td>...</td>\n",
       "      <td>1.00</td>\n",
       "      <td>68.00</td>\n",
       "      <td>77.23</td>\n",
       "      <td>0.55</td>\n",
       "      <td>0.44</td>\n",
       "      <td>-3.36</td>\n",
       "      <td>31.28</td>\n",
       "      <td>12.53</td>\n",
       "      <td>NaN</td>\n",
       "      <td>NaN</td>\n",
       "    </tr>\n",
       "  </tbody>\n",
       "</table>\n",
       "<p>5 rows × 151 columns</p>\n",
       "</div>"
      ],
      "text/plain": [
       "   FINALPIN  REGION  AGE     SEX            HIGHESTEDU REGION.RACE REGION.SEX  \\\n",
       "0  MAP03001       2    3  Female  high school graduate     2-White   2-Female   \n",
       "1  MAP03002       2    3    Male          some college     2-White     2-Male   \n",
       "2  MAP03003       2    3  Female          some college     2-White   2-Female   \n",
       "3  MAP03004       2    3  Female          some college     2-White   2-Female   \n",
       "4  MAP03005       2    3  Female  high school graduate     2-White   2-Female   \n",
       "\n",
       "  AGEGROUP  WEIGHTS4  WEIGHTS10  ...  pv_WEIGHT  pv_OBSMATCH  pv_EXPMATCH  \\\n",
       "0    Child      0.91       0.91  ...       1.00        88.00        73.60   \n",
       "1    Child      0.70       0.70  ...       1.00        72.00        71.23   \n",
       "2    Child      0.74       0.74  ...       1.00        84.00        72.00   \n",
       "3    Child      0.74       0.74  ...       1.00        64.00        76.62   \n",
       "4    Child      0.91       0.91  ...       1.00        68.00        77.23   \n",
       "\n",
       "   pv_PTMA-E  pv_RMSR  pv_WMLE  pv_INDF  pv_OUTDF  Rey_Delay_Theta  \\\n",
       "0       0.51     0.37    -3.62    43.09     21.77              NaN   \n",
       "1       0.48     0.43    -3.75    54.08     28.58              NaN   \n",
       "2       0.44     0.40    -4.57    51.17     16.27              NaN   \n",
       "3       0.55     0.46    -3.60    33.35     14.80              NaN   \n",
       "4       0.55     0.44    -3.36    31.28     12.53              NaN   \n",
       "\n",
       "   Rey_Delay_Theta SE  \n",
       "0                 NaN  \n",
       "1                 NaN  \n",
       "2                 NaN  \n",
       "3                 NaN  \n",
       "4                 NaN  \n",
       "\n",
       "[5 rows x 151 columns]"
      ]
     },
     "execution_count": 88,
     "metadata": {},
     "output_type": "execute_result"
    }
   ],
   "source": [
    "data.head()"
   ]
  },
  {
   "cell_type": "code",
   "execution_count": 89,
   "metadata": {},
   "outputs": [],
   "source": [
    "df = pd.read_csv(data_dir+'/RAVLT/Rey_Immediate_FinalEstimates-ML.csv', index_col=0)\n",
    "df=df.rename(columns = {'PIN':'FINALPIN'})"
   ]
  },
  {
   "cell_type": "code",
   "execution_count": 90,
   "metadata": {},
   "outputs": [
    {
     "data": {
      "text/plain": [
       "Index([], dtype='object')"
      ]
     },
     "execution_count": 90,
     "metadata": {},
     "output_type": "execute_result"
    }
   ],
   "source": [
    "s =df.FINALPIN.value_counts()\n",
    "s[s>1].index"
   ]
  },
  {
   "cell_type": "code",
   "execution_count": 91,
   "metadata": {},
   "outputs": [
    {
     "data": {
      "text/html": [
       "<div>\n",
       "<style scoped>\n",
       "    .dataframe tbody tr th:only-of-type {\n",
       "        vertical-align: middle;\n",
       "    }\n",
       "\n",
       "    .dataframe tbody tr th {\n",
       "        vertical-align: top;\n",
       "    }\n",
       "\n",
       "    .dataframe thead th {\n",
       "        text-align: right;\n",
       "    }\n",
       "</style>\n",
       "<table border=\"1\" class=\"dataframe\">\n",
       "  <thead>\n",
       "    <tr style=\"text-align: right;\">\n",
       "      <th></th>\n",
       "      <th>FINALPIN</th>\n",
       "      <th>REGION</th>\n",
       "      <th>AGE</th>\n",
       "      <th>SEX</th>\n",
       "      <th>HIGHESTEDU</th>\n",
       "      <th>REGION.RACE</th>\n",
       "      <th>REGION.SEX</th>\n",
       "      <th>AGEGROUP</th>\n",
       "      <th>WEIGHTS4</th>\n",
       "      <th>WEIGHTS10</th>\n",
       "      <th>...</th>\n",
       "      <th>pv_EXPMATCH</th>\n",
       "      <th>pv_PTMA-E</th>\n",
       "      <th>pv_RMSR</th>\n",
       "      <th>pv_WMLE</th>\n",
       "      <th>pv_INDF</th>\n",
       "      <th>pv_OUTDF</th>\n",
       "      <th>Rey_Delay_Theta</th>\n",
       "      <th>Rey_Delay_Theta SE</th>\n",
       "      <th>Rey_Immediate_Theta</th>\n",
       "      <th>Rey_Immediate_Theta SE</th>\n",
       "    </tr>\n",
       "  </thead>\n",
       "  <tbody>\n",
       "    <tr>\n",
       "      <th>0</th>\n",
       "      <td>MAP03001</td>\n",
       "      <td>2</td>\n",
       "      <td>3</td>\n",
       "      <td>Female</td>\n",
       "      <td>high school graduate</td>\n",
       "      <td>2-White</td>\n",
       "      <td>2-Female</td>\n",
       "      <td>Child</td>\n",
       "      <td>0.91</td>\n",
       "      <td>0.91</td>\n",
       "      <td>...</td>\n",
       "      <td>73.60</td>\n",
       "      <td>0.51</td>\n",
       "      <td>0.37</td>\n",
       "      <td>-3.62</td>\n",
       "      <td>43.09</td>\n",
       "      <td>21.77</td>\n",
       "      <td>NaN</td>\n",
       "      <td>NaN</td>\n",
       "      <td>NaN</td>\n",
       "      <td>NaN</td>\n",
       "    </tr>\n",
       "    <tr>\n",
       "      <th>1</th>\n",
       "      <td>MAP03002</td>\n",
       "      <td>2</td>\n",
       "      <td>3</td>\n",
       "      <td>Male</td>\n",
       "      <td>some college</td>\n",
       "      <td>2-White</td>\n",
       "      <td>2-Male</td>\n",
       "      <td>Child</td>\n",
       "      <td>0.70</td>\n",
       "      <td>0.70</td>\n",
       "      <td>...</td>\n",
       "      <td>71.23</td>\n",
       "      <td>0.48</td>\n",
       "      <td>0.43</td>\n",
       "      <td>-3.75</td>\n",
       "      <td>54.08</td>\n",
       "      <td>28.58</td>\n",
       "      <td>NaN</td>\n",
       "      <td>NaN</td>\n",
       "      <td>NaN</td>\n",
       "      <td>NaN</td>\n",
       "    </tr>\n",
       "    <tr>\n",
       "      <th>2</th>\n",
       "      <td>MAP03003</td>\n",
       "      <td>2</td>\n",
       "      <td>3</td>\n",
       "      <td>Female</td>\n",
       "      <td>some college</td>\n",
       "      <td>2-White</td>\n",
       "      <td>2-Female</td>\n",
       "      <td>Child</td>\n",
       "      <td>0.74</td>\n",
       "      <td>0.74</td>\n",
       "      <td>...</td>\n",
       "      <td>72.00</td>\n",
       "      <td>0.44</td>\n",
       "      <td>0.40</td>\n",
       "      <td>-4.57</td>\n",
       "      <td>51.17</td>\n",
       "      <td>16.27</td>\n",
       "      <td>NaN</td>\n",
       "      <td>NaN</td>\n",
       "      <td>NaN</td>\n",
       "      <td>NaN</td>\n",
       "    </tr>\n",
       "    <tr>\n",
       "      <th>3</th>\n",
       "      <td>MAP03004</td>\n",
       "      <td>2</td>\n",
       "      <td>3</td>\n",
       "      <td>Female</td>\n",
       "      <td>some college</td>\n",
       "      <td>2-White</td>\n",
       "      <td>2-Female</td>\n",
       "      <td>Child</td>\n",
       "      <td>0.74</td>\n",
       "      <td>0.74</td>\n",
       "      <td>...</td>\n",
       "      <td>76.62</td>\n",
       "      <td>0.55</td>\n",
       "      <td>0.46</td>\n",
       "      <td>-3.60</td>\n",
       "      <td>33.35</td>\n",
       "      <td>14.80</td>\n",
       "      <td>NaN</td>\n",
       "      <td>NaN</td>\n",
       "      <td>NaN</td>\n",
       "      <td>NaN</td>\n",
       "    </tr>\n",
       "    <tr>\n",
       "      <th>4</th>\n",
       "      <td>MAP03005</td>\n",
       "      <td>2</td>\n",
       "      <td>3</td>\n",
       "      <td>Female</td>\n",
       "      <td>high school graduate</td>\n",
       "      <td>2-White</td>\n",
       "      <td>2-Female</td>\n",
       "      <td>Child</td>\n",
       "      <td>0.91</td>\n",
       "      <td>0.91</td>\n",
       "      <td>...</td>\n",
       "      <td>77.23</td>\n",
       "      <td>0.55</td>\n",
       "      <td>0.44</td>\n",
       "      <td>-3.36</td>\n",
       "      <td>31.28</td>\n",
       "      <td>12.53</td>\n",
       "      <td>NaN</td>\n",
       "      <td>NaN</td>\n",
       "      <td>NaN</td>\n",
       "      <td>NaN</td>\n",
       "    </tr>\n",
       "  </tbody>\n",
       "</table>\n",
       "<p>5 rows × 153 columns</p>\n",
       "</div>"
      ],
      "text/plain": [
       "   FINALPIN  REGION  AGE     SEX            HIGHESTEDU REGION.RACE REGION.SEX  \\\n",
       "0  MAP03001       2    3  Female  high school graduate     2-White   2-Female   \n",
       "1  MAP03002       2    3    Male          some college     2-White     2-Male   \n",
       "2  MAP03003       2    3  Female          some college     2-White   2-Female   \n",
       "3  MAP03004       2    3  Female          some college     2-White   2-Female   \n",
       "4  MAP03005       2    3  Female  high school graduate     2-White   2-Female   \n",
       "\n",
       "  AGEGROUP  WEIGHTS4  WEIGHTS10  ...  pv_EXPMATCH  pv_PTMA-E  pv_RMSR  \\\n",
       "0    Child      0.91       0.91  ...        73.60       0.51     0.37   \n",
       "1    Child      0.70       0.70  ...        71.23       0.48     0.43   \n",
       "2    Child      0.74       0.74  ...        72.00       0.44     0.40   \n",
       "3    Child      0.74       0.74  ...        76.62       0.55     0.46   \n",
       "4    Child      0.91       0.91  ...        77.23       0.55     0.44   \n",
       "\n",
       "   pv_WMLE  pv_INDF  pv_OUTDF  Rey_Delay_Theta  Rey_Delay_Theta SE  \\\n",
       "0    -3.62    43.09     21.77              NaN                 NaN   \n",
       "1    -3.75    54.08     28.58              NaN                 NaN   \n",
       "2    -4.57    51.17     16.27              NaN                 NaN   \n",
       "3    -3.60    33.35     14.80              NaN                 NaN   \n",
       "4    -3.36    31.28     12.53              NaN                 NaN   \n",
       "\n",
       "   Rey_Immediate_Theta  Rey_Immediate_Theta SE  \n",
       "0                  NaN                     NaN  \n",
       "1                  NaN                     NaN  \n",
       "2                  NaN                     NaN  \n",
       "3                  NaN                     NaN  \n",
       "4                  NaN                     NaN  \n",
       "\n",
       "[5 rows x 153 columns]"
      ]
     },
     "execution_count": 91,
     "metadata": {},
     "output_type": "execute_result"
    }
   ],
   "source": [
    "df =df.rename({col:'Rey_Immediate_'+ col for col in df.columns[1:]}, axis=1)\n",
    "\n",
    "data =pd.merge(data, df, how='left',on='FINALPIN')\n",
    "data.head()"
   ]
  },
  {
   "cell_type": "code",
   "execution_count": 92,
   "metadata": {},
   "outputs": [
    {
     "data": {
      "text/plain": [
       "(3902, 153)"
      ]
     },
     "execution_count": 92,
     "metadata": {},
     "output_type": "execute_result"
    }
   ],
   "source": [
    "data.shape"
   ]
  },
  {
   "cell_type": "markdown",
   "metadata": {},
   "source": [
    "# Speed matching"
   ]
  },
  {
   "cell_type": "code",
   "execution_count": 93,
   "metadata": {},
   "outputs": [],
   "source": [
    "df = pd.read_csv(data_dir+'/Speeded Matching/Estimates.csv', index_col=0)\n",
    "df=df.rename(columns = {'sm_df_0_dmg.PIN':'FINALPIN'})"
   ]
  },
  {
   "cell_type": "code",
   "execution_count": 94,
   "metadata": {},
   "outputs": [
    {
     "data": {
      "text/plain": [
       "Series([], Name: FINALPIN, dtype: int64)"
      ]
     },
     "execution_count": 94,
     "metadata": {},
     "output_type": "execute_result"
    }
   ],
   "source": [
    "s =df.FINALPIN.value_counts()\n",
    "s[s>1]"
   ]
  },
  {
   "cell_type": "code",
   "execution_count": 95,
   "metadata": {},
   "outputs": [
    {
     "data": {
      "text/html": [
       "<div>\n",
       "<style scoped>\n",
       "    .dataframe tbody tr th:only-of-type {\n",
       "        vertical-align: middle;\n",
       "    }\n",
       "\n",
       "    .dataframe tbody tr th {\n",
       "        vertical-align: top;\n",
       "    }\n",
       "\n",
       "    .dataframe thead th {\n",
       "        text-align: right;\n",
       "    }\n",
       "</style>\n",
       "<table border=\"1\" class=\"dataframe\">\n",
       "  <thead>\n",
       "    <tr style=\"text-align: right;\">\n",
       "      <th></th>\n",
       "      <th>FINALPIN</th>\n",
       "      <th>REGION</th>\n",
       "      <th>AGE</th>\n",
       "      <th>SEX</th>\n",
       "      <th>HIGHESTEDU</th>\n",
       "      <th>REGION.RACE</th>\n",
       "      <th>REGION.SEX</th>\n",
       "      <th>AGEGROUP</th>\n",
       "      <th>WEIGHTS4</th>\n",
       "      <th>WEIGHTS10</th>\n",
       "      <th>...</th>\n",
       "      <th>pv_RMSR</th>\n",
       "      <th>pv_WMLE</th>\n",
       "      <th>pv_INDF</th>\n",
       "      <th>pv_OUTDF</th>\n",
       "      <th>Rey_Delay_Theta</th>\n",
       "      <th>Rey_Delay_Theta SE</th>\n",
       "      <th>Rey_Immediate_Theta</th>\n",
       "      <th>Rey_Immediate_Theta SE</th>\n",
       "      <th>SM_F1</th>\n",
       "      <th>SM_SE_F1</th>\n",
       "    </tr>\n",
       "  </thead>\n",
       "  <tbody>\n",
       "    <tr>\n",
       "      <th>0</th>\n",
       "      <td>MAP03001</td>\n",
       "      <td>2</td>\n",
       "      <td>3</td>\n",
       "      <td>Female</td>\n",
       "      <td>high school graduate</td>\n",
       "      <td>2-White</td>\n",
       "      <td>2-Female</td>\n",
       "      <td>Child</td>\n",
       "      <td>0.91</td>\n",
       "      <td>0.91</td>\n",
       "      <td>...</td>\n",
       "      <td>0.37</td>\n",
       "      <td>-3.62</td>\n",
       "      <td>43.09</td>\n",
       "      <td>21.77</td>\n",
       "      <td>NaN</td>\n",
       "      <td>NaN</td>\n",
       "      <td>NaN</td>\n",
       "      <td>NaN</td>\n",
       "      <td>-5.81</td>\n",
       "      <td>0.43</td>\n",
       "    </tr>\n",
       "    <tr>\n",
       "      <th>1</th>\n",
       "      <td>MAP03002</td>\n",
       "      <td>2</td>\n",
       "      <td>3</td>\n",
       "      <td>Male</td>\n",
       "      <td>some college</td>\n",
       "      <td>2-White</td>\n",
       "      <td>2-Male</td>\n",
       "      <td>Child</td>\n",
       "      <td>0.70</td>\n",
       "      <td>0.70</td>\n",
       "      <td>...</td>\n",
       "      <td>0.43</td>\n",
       "      <td>-3.75</td>\n",
       "      <td>54.08</td>\n",
       "      <td>28.58</td>\n",
       "      <td>NaN</td>\n",
       "      <td>NaN</td>\n",
       "      <td>NaN</td>\n",
       "      <td>NaN</td>\n",
       "      <td>-3.90</td>\n",
       "      <td>0.40</td>\n",
       "    </tr>\n",
       "    <tr>\n",
       "      <th>2</th>\n",
       "      <td>MAP03003</td>\n",
       "      <td>2</td>\n",
       "      <td>3</td>\n",
       "      <td>Female</td>\n",
       "      <td>some college</td>\n",
       "      <td>2-White</td>\n",
       "      <td>2-Female</td>\n",
       "      <td>Child</td>\n",
       "      <td>0.74</td>\n",
       "      <td>0.74</td>\n",
       "      <td>...</td>\n",
       "      <td>0.40</td>\n",
       "      <td>-4.57</td>\n",
       "      <td>51.17</td>\n",
       "      <td>16.27</td>\n",
       "      <td>NaN</td>\n",
       "      <td>NaN</td>\n",
       "      <td>NaN</td>\n",
       "      <td>NaN</td>\n",
       "      <td>-3.57</td>\n",
       "      <td>0.41</td>\n",
       "    </tr>\n",
       "    <tr>\n",
       "      <th>3</th>\n",
       "      <td>MAP03004</td>\n",
       "      <td>2</td>\n",
       "      <td>3</td>\n",
       "      <td>Female</td>\n",
       "      <td>some college</td>\n",
       "      <td>2-White</td>\n",
       "      <td>2-Female</td>\n",
       "      <td>Child</td>\n",
       "      <td>0.74</td>\n",
       "      <td>0.74</td>\n",
       "      <td>...</td>\n",
       "      <td>0.46</td>\n",
       "      <td>-3.60</td>\n",
       "      <td>33.35</td>\n",
       "      <td>14.80</td>\n",
       "      <td>NaN</td>\n",
       "      <td>NaN</td>\n",
       "      <td>NaN</td>\n",
       "      <td>NaN</td>\n",
       "      <td>-4.52</td>\n",
       "      <td>0.39</td>\n",
       "    </tr>\n",
       "    <tr>\n",
       "      <th>4</th>\n",
       "      <td>MAP03005</td>\n",
       "      <td>2</td>\n",
       "      <td>3</td>\n",
       "      <td>Female</td>\n",
       "      <td>high school graduate</td>\n",
       "      <td>2-White</td>\n",
       "      <td>2-Female</td>\n",
       "      <td>Child</td>\n",
       "      <td>0.91</td>\n",
       "      <td>0.91</td>\n",
       "      <td>...</td>\n",
       "      <td>0.44</td>\n",
       "      <td>-3.36</td>\n",
       "      <td>31.28</td>\n",
       "      <td>12.53</td>\n",
       "      <td>NaN</td>\n",
       "      <td>NaN</td>\n",
       "      <td>NaN</td>\n",
       "      <td>NaN</td>\n",
       "      <td>-4.68</td>\n",
       "      <td>0.39</td>\n",
       "    </tr>\n",
       "  </tbody>\n",
       "</table>\n",
       "<p>5 rows × 155 columns</p>\n",
       "</div>"
      ],
      "text/plain": [
       "   FINALPIN  REGION  AGE     SEX            HIGHESTEDU REGION.RACE REGION.SEX  \\\n",
       "0  MAP03001       2    3  Female  high school graduate     2-White   2-Female   \n",
       "1  MAP03002       2    3    Male          some college     2-White     2-Male   \n",
       "2  MAP03003       2    3  Female          some college     2-White   2-Female   \n",
       "3  MAP03004       2    3  Female          some college     2-White   2-Female   \n",
       "4  MAP03005       2    3  Female  high school graduate     2-White   2-Female   \n",
       "\n",
       "  AGEGROUP  WEIGHTS4  WEIGHTS10  ...  pv_RMSR  pv_WMLE  pv_INDF  pv_OUTDF  \\\n",
       "0    Child      0.91       0.91  ...     0.37    -3.62    43.09     21.77   \n",
       "1    Child      0.70       0.70  ...     0.43    -3.75    54.08     28.58   \n",
       "2    Child      0.74       0.74  ...     0.40    -4.57    51.17     16.27   \n",
       "3    Child      0.74       0.74  ...     0.46    -3.60    33.35     14.80   \n",
       "4    Child      0.91       0.91  ...     0.44    -3.36    31.28     12.53   \n",
       "\n",
       "   Rey_Delay_Theta  Rey_Delay_Theta SE  Rey_Immediate_Theta  \\\n",
       "0              NaN                 NaN                  NaN   \n",
       "1              NaN                 NaN                  NaN   \n",
       "2              NaN                 NaN                  NaN   \n",
       "3              NaN                 NaN                  NaN   \n",
       "4              NaN                 NaN                  NaN   \n",
       "\n",
       "   Rey_Immediate_Theta SE  SM_F1  SM_SE_F1  \n",
       "0                     NaN  -5.81      0.43  \n",
       "1                     NaN  -3.90      0.40  \n",
       "2                     NaN  -3.57      0.41  \n",
       "3                     NaN  -4.52      0.39  \n",
       "4                     NaN  -4.68      0.39  \n",
       "\n",
       "[5 rows x 155 columns]"
      ]
     },
     "execution_count": 95,
     "metadata": {},
     "output_type": "execute_result"
    }
   ],
   "source": [
    "df =df.rename({col:'SM_'+ col for col in df.columns[1:]}, axis=1)\n",
    "\n",
    "data =pd.merge(data, df, how='left',on='FINALPIN')\n",
    "data.head()"
   ]
  },
  {
   "cell_type": "markdown",
   "metadata": {},
   "source": [
    "# Visual Reasoning"
   ]
  },
  {
   "cell_type": "code",
   "execution_count": 96,
   "metadata": {},
   "outputs": [],
   "source": [
    "df = pd.read_csv(data_dir+'/Visual Reasoning/VR_ability.csv')\n",
    "df=df.rename(columns = {'FinalPIN':'FINALPIN'})"
   ]
  },
  {
   "cell_type": "code",
   "execution_count": 97,
   "metadata": {},
   "outputs": [
    {
     "data": {
      "text/plain": [
       "Series([], Name: FINALPIN, dtype: int64)"
      ]
     },
     "execution_count": 97,
     "metadata": {},
     "output_type": "execute_result"
    }
   ],
   "source": [
    "s =df.FINALPIN.value_counts()\n",
    "s[s>1]"
   ]
  },
  {
   "cell_type": "code",
   "execution_count": 98,
   "metadata": {},
   "outputs": [],
   "source": [
    "df =df.rename({col:'VR_'+ col for col in df.columns[[0,2,3]]}, axis=1)"
   ]
  },
  {
   "cell_type": "code",
   "execution_count": 99,
   "metadata": {},
   "outputs": [
    {
     "data": {
      "text/html": [
       "<div>\n",
       "<style scoped>\n",
       "    .dataframe tbody tr th:only-of-type {\n",
       "        vertical-align: middle;\n",
       "    }\n",
       "\n",
       "    .dataframe tbody tr th {\n",
       "        vertical-align: top;\n",
       "    }\n",
       "\n",
       "    .dataframe thead th {\n",
       "        text-align: right;\n",
       "    }\n",
       "</style>\n",
       "<table border=\"1\" class=\"dataframe\">\n",
       "  <thead>\n",
       "    <tr style=\"text-align: right;\">\n",
       "      <th></th>\n",
       "      <th>FINALPIN</th>\n",
       "      <th>REGION</th>\n",
       "      <th>AGE</th>\n",
       "      <th>SEX</th>\n",
       "      <th>HIGHESTEDU</th>\n",
       "      <th>REGION.RACE</th>\n",
       "      <th>REGION.SEX</th>\n",
       "      <th>AGEGROUP</th>\n",
       "      <th>WEIGHTS4</th>\n",
       "      <th>WEIGHTS10</th>\n",
       "      <th>...</th>\n",
       "      <th>pv_OUTDF</th>\n",
       "      <th>Rey_Delay_Theta</th>\n",
       "      <th>Rey_Delay_Theta SE</th>\n",
       "      <th>Rey_Immediate_Theta</th>\n",
       "      <th>Rey_Immediate_Theta SE</th>\n",
       "      <th>SM_F1</th>\n",
       "      <th>SM_SE_F1</th>\n",
       "      <th>VR_Form</th>\n",
       "      <th>VR_ML_mg</th>\n",
       "      <th>VR_ML_mgSE</th>\n",
       "    </tr>\n",
       "  </thead>\n",
       "  <tbody>\n",
       "    <tr>\n",
       "      <th>0</th>\n",
       "      <td>MAP03001</td>\n",
       "      <td>2</td>\n",
       "      <td>3</td>\n",
       "      <td>Female</td>\n",
       "      <td>high school graduate</td>\n",
       "      <td>2-White</td>\n",
       "      <td>2-Female</td>\n",
       "      <td>Child</td>\n",
       "      <td>0.91</td>\n",
       "      <td>0.91</td>\n",
       "      <td>...</td>\n",
       "      <td>21.77</td>\n",
       "      <td>NaN</td>\n",
       "      <td>NaN</td>\n",
       "      <td>NaN</td>\n",
       "      <td>NaN</td>\n",
       "      <td>-5.81</td>\n",
       "      <td>0.43</td>\n",
       "      <td>1.00</td>\n",
       "      <td>-3.36</td>\n",
       "      <td>0.48</td>\n",
       "    </tr>\n",
       "    <tr>\n",
       "      <th>1</th>\n",
       "      <td>MAP03002</td>\n",
       "      <td>2</td>\n",
       "      <td>3</td>\n",
       "      <td>Male</td>\n",
       "      <td>some college</td>\n",
       "      <td>2-White</td>\n",
       "      <td>2-Male</td>\n",
       "      <td>Child</td>\n",
       "      <td>0.70</td>\n",
       "      <td>0.70</td>\n",
       "      <td>...</td>\n",
       "      <td>28.58</td>\n",
       "      <td>NaN</td>\n",
       "      <td>NaN</td>\n",
       "      <td>NaN</td>\n",
       "      <td>NaN</td>\n",
       "      <td>-3.90</td>\n",
       "      <td>0.40</td>\n",
       "      <td>1.00</td>\n",
       "      <td>-2.68</td>\n",
       "      <td>0.42</td>\n",
       "    </tr>\n",
       "    <tr>\n",
       "      <th>2</th>\n",
       "      <td>MAP03003</td>\n",
       "      <td>2</td>\n",
       "      <td>3</td>\n",
       "      <td>Female</td>\n",
       "      <td>some college</td>\n",
       "      <td>2-White</td>\n",
       "      <td>2-Female</td>\n",
       "      <td>Child</td>\n",
       "      <td>0.74</td>\n",
       "      <td>0.74</td>\n",
       "      <td>...</td>\n",
       "      <td>16.27</td>\n",
       "      <td>NaN</td>\n",
       "      <td>NaN</td>\n",
       "      <td>NaN</td>\n",
       "      <td>NaN</td>\n",
       "      <td>-3.57</td>\n",
       "      <td>0.41</td>\n",
       "      <td>1.00</td>\n",
       "      <td>-3.36</td>\n",
       "      <td>0.49</td>\n",
       "    </tr>\n",
       "    <tr>\n",
       "      <th>3</th>\n",
       "      <td>MAP03004</td>\n",
       "      <td>2</td>\n",
       "      <td>3</td>\n",
       "      <td>Female</td>\n",
       "      <td>some college</td>\n",
       "      <td>2-White</td>\n",
       "      <td>2-Female</td>\n",
       "      <td>Child</td>\n",
       "      <td>0.74</td>\n",
       "      <td>0.74</td>\n",
       "      <td>...</td>\n",
       "      <td>14.80</td>\n",
       "      <td>NaN</td>\n",
       "      <td>NaN</td>\n",
       "      <td>NaN</td>\n",
       "      <td>NaN</td>\n",
       "      <td>-4.52</td>\n",
       "      <td>0.39</td>\n",
       "      <td>NaN</td>\n",
       "      <td>NaN</td>\n",
       "      <td>NaN</td>\n",
       "    </tr>\n",
       "    <tr>\n",
       "      <th>4</th>\n",
       "      <td>MAP03005</td>\n",
       "      <td>2</td>\n",
       "      <td>3</td>\n",
       "      <td>Female</td>\n",
       "      <td>high school graduate</td>\n",
       "      <td>2-White</td>\n",
       "      <td>2-Female</td>\n",
       "      <td>Child</td>\n",
       "      <td>0.91</td>\n",
       "      <td>0.91</td>\n",
       "      <td>...</td>\n",
       "      <td>12.53</td>\n",
       "      <td>NaN</td>\n",
       "      <td>NaN</td>\n",
       "      <td>NaN</td>\n",
       "      <td>NaN</td>\n",
       "      <td>-4.68</td>\n",
       "      <td>0.39</td>\n",
       "      <td>1.00</td>\n",
       "      <td>-1.81</td>\n",
       "      <td>0.40</td>\n",
       "    </tr>\n",
       "  </tbody>\n",
       "</table>\n",
       "<p>5 rows × 158 columns</p>\n",
       "</div>"
      ],
      "text/plain": [
       "   FINALPIN  REGION  AGE     SEX            HIGHESTEDU REGION.RACE REGION.SEX  \\\n",
       "0  MAP03001       2    3  Female  high school graduate     2-White   2-Female   \n",
       "1  MAP03002       2    3    Male          some college     2-White     2-Male   \n",
       "2  MAP03003       2    3  Female          some college     2-White   2-Female   \n",
       "3  MAP03004       2    3  Female          some college     2-White   2-Female   \n",
       "4  MAP03005       2    3  Female  high school graduate     2-White   2-Female   \n",
       "\n",
       "  AGEGROUP  WEIGHTS4  WEIGHTS10  ...  pv_OUTDF  Rey_Delay_Theta  \\\n",
       "0    Child      0.91       0.91  ...     21.77              NaN   \n",
       "1    Child      0.70       0.70  ...     28.58              NaN   \n",
       "2    Child      0.74       0.74  ...     16.27              NaN   \n",
       "3    Child      0.74       0.74  ...     14.80              NaN   \n",
       "4    Child      0.91       0.91  ...     12.53              NaN   \n",
       "\n",
       "   Rey_Delay_Theta SE  Rey_Immediate_Theta  Rey_Immediate_Theta SE  SM_F1  \\\n",
       "0                 NaN                  NaN                     NaN  -5.81   \n",
       "1                 NaN                  NaN                     NaN  -3.90   \n",
       "2                 NaN                  NaN                     NaN  -3.57   \n",
       "3                 NaN                  NaN                     NaN  -4.52   \n",
       "4                 NaN                  NaN                     NaN  -4.68   \n",
       "\n",
       "   SM_SE_F1  VR_Form  VR_ML_mg  VR_ML_mgSE  \n",
       "0      0.43     1.00     -3.36        0.48  \n",
       "1      0.40     1.00     -2.68        0.42  \n",
       "2      0.41     1.00     -3.36        0.49  \n",
       "3      0.39      NaN       NaN         NaN  \n",
       "4      0.39     1.00     -1.81        0.40  \n",
       "\n",
       "[5 rows x 158 columns]"
      ]
     },
     "execution_count": 99,
     "metadata": {},
     "output_type": "execute_result"
    }
   ],
   "source": [
    "data =pd.merge(data, df, how='left',on='FINALPIN')\n",
    "data.head()"
   ]
  },
  {
   "cell_type": "code",
   "execution_count": 100,
   "metadata": {},
   "outputs": [
    {
     "data": {
      "text/plain": [
       "(3902, 158)"
      ]
     },
     "execution_count": 100,
     "metadata": {},
     "output_type": "execute_result"
    }
   ],
   "source": [
    "data.shape"
   ]
  },
  {
   "cell_type": "code",
   "execution_count": 101,
   "metadata": {},
   "outputs": [
    {
     "data": {
      "text/plain": [
       "Series([], Name: FINALPIN, dtype: int64)"
      ]
     },
     "execution_count": 101,
     "metadata": {},
     "output_type": "execute_result"
    }
   ],
   "source": [
    "s =data.FINALPIN.value_counts()\n",
    "s[s>1]"
   ]
  },
  {
   "cell_type": "code",
   "execution_count": 102,
   "metadata": {},
   "outputs": [],
   "source": [
    "data.to_csv('C:/Users/tsb7592/Downloads/merged_data_714.csv', index=False)"
   ]
  },
  {
   "cell_type": "code",
   "execution_count": null,
   "metadata": {},
   "outputs": [],
   "source": []
  }
 ],
 "metadata": {
  "colab": {
   "collapsed_sections": [],
   "name": "In_person_vs_remote.ipynb",
   "provenance": []
  },
  "kernelspec": {
   "display_name": "Python 3",
   "language": "python",
   "name": "python3"
  },
  "language_info": {
   "codemirror_mode": {
    "name": "ipython",
    "version": 3
   },
   "file_extension": ".py",
   "mimetype": "text/x-python",
   "name": "python",
   "nbconvert_exporter": "python",
   "pygments_lexer": "ipython3",
   "version": "3.8.8"
  }
 },
 "nbformat": 4,
 "nbformat_minor": 1
}
