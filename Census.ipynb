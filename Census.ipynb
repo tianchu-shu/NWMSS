{
 "cells": [
  {
   "cell_type": "code",
   "execution_count": 1,
   "id": "928c25ee",
   "metadata": {},
   "outputs": [],
   "source": [
    "#Data saved in csv/excel\n",
    "import glob, os\n",
    "import pandas as pd\n",
    "import warnings\n",
    "warnings.filterwarnings('ignore')"
   ]
  },
  {
   "cell_type": "code",
   "execution_count": 222,
   "id": "25cf0d41",
   "metadata": {},
   "outputs": [],
   "source": [
    "df = pd.read_csv('C:/Users/tsb7592/OneDrive - Northwestern University/Documents/sum_by_region.csv', index_col=0)"
   ]
  },
  {
   "cell_type": "code",
   "execution_count": 223,
   "id": "00892824",
   "metadata": {},
   "outputs": [
    {
     "data": {
      "text/html": [
       "<div>\n",
       "<style scoped>\n",
       "    .dataframe tbody tr th:only-of-type {\n",
       "        vertical-align: middle;\n",
       "    }\n",
       "\n",
       "    .dataframe tbody tr th {\n",
       "        vertical-align: top;\n",
       "    }\n",
       "\n",
       "    .dataframe thead th {\n",
       "        text-align: right;\n",
       "    }\n",
       "</style>\n",
       "<table border=\"1\" class=\"dataframe\">\n",
       "  <thead>\n",
       "    <tr style=\"text-align: right;\">\n",
       "      <th></th>\n",
       "      <th>P0010001</th>\n",
       "      <th>P0010002</th>\n",
       "      <th>P0010003</th>\n",
       "      <th>P0010004</th>\n",
       "      <th>P0010005</th>\n",
       "      <th>P0010006</th>\n",
       "      <th>P0010007</th>\n",
       "      <th>P0010008</th>\n",
       "      <th>P0010009</th>\n",
       "      <th>P0010010</th>\n",
       "      <th>...</th>\n",
       "      <th>P0040064</th>\n",
       "      <th>P0040065</th>\n",
       "      <th>P0040066</th>\n",
       "      <th>P0040067</th>\n",
       "      <th>P0040068</th>\n",
       "      <th>P0040069</th>\n",
       "      <th>P0040070</th>\n",
       "      <th>P0040071</th>\n",
       "      <th>P0040072</th>\n",
       "      <th>P0040073</th>\n",
       "    </tr>\n",
       "    <tr>\n",
       "      <th>REGION</th>\n",
       "      <th></th>\n",
       "      <th></th>\n",
       "      <th></th>\n",
       "      <th></th>\n",
       "      <th></th>\n",
       "      <th></th>\n",
       "      <th></th>\n",
       "      <th></th>\n",
       "      <th></th>\n",
       "      <th></th>\n",
       "      <th></th>\n",
       "      <th></th>\n",
       "      <th></th>\n",
       "      <th></th>\n",
       "      <th></th>\n",
       "      <th></th>\n",
       "      <th></th>\n",
       "      <th></th>\n",
       "      <th></th>\n",
       "      <th></th>\n",
       "      <th></th>\n",
       "    </tr>\n",
       "  </thead>\n",
       "  <tbody>\n",
       "    <tr>\n",
       "      <th>1</th>\n",
       "      <td>57609148</td>\n",
       "      <td>52940664</td>\n",
       "      <td>37111396</td>\n",
       "      <td>6628896</td>\n",
       "      <td>292587</td>\n",
       "      <td>4177286</td>\n",
       "      <td>24136</td>\n",
       "      <td>4706363</td>\n",
       "      <td>4668484</td>\n",
       "      <td>4376995</td>\n",
       "      <td>...</td>\n",
       "      <td>37</td>\n",
       "      <td>1027</td>\n",
       "      <td>576</td>\n",
       "      <td>339</td>\n",
       "      <td>31</td>\n",
       "      <td>30</td>\n",
       "      <td>24</td>\n",
       "      <td>27</td>\n",
       "      <td>149</td>\n",
       "      <td>149</td>\n",
       "    </tr>\n",
       "    <tr>\n",
       "      <th>2</th>\n",
       "      <td>68985454</td>\n",
       "      <td>64276073</td>\n",
       "      <td>51353019</td>\n",
       "      <td>7228615</td>\n",
       "      <td>559397</td>\n",
       "      <td>2405457</td>\n",
       "      <td>42741</td>\n",
       "      <td>2686844</td>\n",
       "      <td>4709381</td>\n",
       "      <td>4453530</td>\n",
       "      <td>...</td>\n",
       "      <td>22</td>\n",
       "      <td>1003</td>\n",
       "      <td>605</td>\n",
       "      <td>279</td>\n",
       "      <td>29</td>\n",
       "      <td>39</td>\n",
       "      <td>20</td>\n",
       "      <td>31</td>\n",
       "      <td>153</td>\n",
       "      <td>153</td>\n",
       "    </tr>\n",
       "    <tr>\n",
       "      <th>3</th>\n",
       "      <td>126266107</td>\n",
       "      <td>112400612</td>\n",
       "      <td>73886732</td>\n",
       "      <td>23582989</td>\n",
       "      <td>1145140</td>\n",
       "      <td>4818076</td>\n",
       "      <td>115582</td>\n",
       "      <td>8852093</td>\n",
       "      <td>13865495</td>\n",
       "      <td>13247383</td>\n",
       "      <td>...</td>\n",
       "      <td>33</td>\n",
       "      <td>2377</td>\n",
       "      <td>1221</td>\n",
       "      <td>819</td>\n",
       "      <td>94</td>\n",
       "      <td>103</td>\n",
       "      <td>47</td>\n",
       "      <td>93</td>\n",
       "      <td>284</td>\n",
       "      <td>284</td>\n",
       "    </tr>\n",
       "    <tr>\n",
       "      <th>4</th>\n",
       "      <td>78588572</td>\n",
       "      <td>67982989</td>\n",
       "      <td>41926126</td>\n",
       "      <td>3663700</td>\n",
       "      <td>1730011</td>\n",
       "      <td>8485230</td>\n",
       "      <td>507507</td>\n",
       "      <td>11670415</td>\n",
       "      <td>10605583</td>\n",
       "      <td>9812431</td>\n",
       "      <td>...</td>\n",
       "      <td>32</td>\n",
       "      <td>1978</td>\n",
       "      <td>1173</td>\n",
       "      <td>527</td>\n",
       "      <td>84</td>\n",
       "      <td>93</td>\n",
       "      <td>79</td>\n",
       "      <td>22</td>\n",
       "      <td>222</td>\n",
       "      <td>222</td>\n",
       "    </tr>\n",
       "  </tbody>\n",
       "</table>\n",
       "<p>4 rows × 288 columns</p>\n",
       "</div>"
      ],
      "text/plain": [
       "         P0010001   P0010002  P0010003  P0010004  P0010005  P0010006  \\\n",
       "REGION                                                                 \n",
       "1        57609148   52940664  37111396   6628896    292587   4177286   \n",
       "2        68985454   64276073  51353019   7228615    559397   2405457   \n",
       "3       126266107  112400612  73886732  23582989   1145140   4818076   \n",
       "4        78588572   67982989  41926126   3663700   1730011   8485230   \n",
       "\n",
       "        P0010007  P0010008  P0010009  P0010010  ...  P0040064  P0040065  \\\n",
       "REGION                                          ...                       \n",
       "1          24136   4706363   4668484   4376995  ...        37      1027   \n",
       "2          42741   2686844   4709381   4453530  ...        22      1003   \n",
       "3         115582   8852093  13865495  13247383  ...        33      2377   \n",
       "4         507507  11670415  10605583   9812431  ...        32      1978   \n",
       "\n",
       "        P0040066  P0040067  P0040068  P0040069  P0040070  P0040071  P0040072  \\\n",
       "REGION                                                                         \n",
       "1            576       339        31        30        24        27       149   \n",
       "2            605       279        29        39        20        31       153   \n",
       "3           1221       819        94       103        47        93       284   \n",
       "4           1173       527        84        93        79        22       222   \n",
       "\n",
       "        P0040073  \n",
       "REGION            \n",
       "1            149  \n",
       "2            153  \n",
       "3            284  \n",
       "4            222  \n",
       "\n",
       "[4 rows x 288 columns]"
      ]
     },
     "execution_count": 223,
     "metadata": {},
     "output_type": "execute_result"
    }
   ],
   "source": [
    "df.head()"
   ]
  },
  {
   "cell_type": "markdown",
   "id": "62285d79",
   "metadata": {},
   "source": [
    "# Fully-Adjusted norms (adults only)"
   ]
  },
  {
   "cell_type": "code",
   "execution_count": 224,
   "id": "97238f84",
   "metadata": {},
   "outputs": [],
   "source": [
    "df['OtherSingleRace']=df['P0040003']-df['P0040005']-df['P0040006']-df['P0040008']"
   ]
  },
  {
   "cell_type": "code",
   "execution_count": 225,
   "id": "a32697a0",
   "metadata": {},
   "outputs": [
    {
     "data": {
      "text/plain": [
       "REGION\n",
       "1     940307\n",
       "2    1179465\n",
       "3    2166743\n",
       "4    1570264\n",
       "Name: Multi, dtype: int64"
      ]
     },
     "execution_count": 225,
     "metadata": {},
     "output_type": "execute_result"
    }
   ],
   "source": [
    "#P0040011  P4-11: Population of two or more races\n",
    "df['Multi']=df['P0040011']-df['P0040013']-df['P0040015']-df['P0040019']\n",
    "df['Multi']"
   ]
  },
  {
   "cell_type": "code",
   "execution_count": 226,
   "id": "b623eb19",
   "metadata": {},
   "outputs": [],
   "source": [
    "perc = ['P0030001','P0040002','P0040005','P0040006','P0040008','OtherSingleRace','P0040013','P0040015','P0040019','Multi']"
   ]
  },
  {
   "cell_type": "code",
   "execution_count": 227,
   "id": "d50f5566",
   "metadata": {},
   "outputs": [],
   "source": [
    "li = []\n",
    "for col in perc:\n",
    "    li.append(df[col]/df[col].sum())"
   ]
  },
  {
   "cell_type": "code",
   "execution_count": 228,
   "id": "c47f470e",
   "metadata": {},
   "outputs": [],
   "source": [
    "ad = pd.concat(li, axis =1)"
   ]
  },
  {
   "cell_type": "code",
   "execution_count": 229,
   "id": "6e704786",
   "metadata": {},
   "outputs": [],
   "source": [
    "ad.columns =['Total', 'Hispanic', 'White', 'Black', 'Asian',\n",
    "       'OtherSingleRace', 'White/Black', 'White/Asian', 'Black/Asian', 'Multi']"
   ]
  },
  {
   "cell_type": "markdown",
   "id": "3de0fbd4",
   "metadata": {},
   "source": [
    "# Age-based norms(separate weights for kids and adults given self- vs. parent-education)"
   ]
  },
  {
   "cell_type": "code",
   "execution_count": 230,
   "id": "698ccb8a",
   "metadata": {},
   "outputs": [],
   "source": [
    "df['kids']=df['P0010001']-df['P0030001']"
   ]
  },
  {
   "cell_type": "code",
   "execution_count": 231,
   "id": "69587f83",
   "metadata": {},
   "outputs": [
    {
     "data": {
      "text/plain": [
       "REGION\n",
       "1    0.160183\n",
       "2    0.211657\n",
       "3    0.387954\n",
       "4    0.240205\n",
       "Name: kids, dtype: float64"
      ]
     },
     "execution_count": 231,
     "metadata": {},
     "output_type": "execute_result"
    }
   ],
   "source": [
    "df['kids']/df['kids'].sum()"
   ]
  },
  {
   "cell_type": "code",
   "execution_count": 232,
   "id": "515531a8",
   "metadata": {},
   "outputs": [],
   "source": [
    "perc18 = ['P0010001','P0020002','P0020005','P0020006','P0020008','AllSingleRace','P0020013','P0020015','P0020019','AllMulti']"
   ]
  },
  {
   "cell_type": "code",
   "execution_count": 233,
   "id": "343c850b",
   "metadata": {},
   "outputs": [],
   "source": [
    "df['AllSingleRace']=df['P0020003']-df['P0020005']-df['P0020006']-df['P0020008']"
   ]
  },
  {
   "cell_type": "code",
   "execution_count": 234,
   "id": "99e0665d",
   "metadata": {},
   "outputs": [
    {
     "data": {
      "text/plain": [
       "REGION\n",
       "1    1267149\n",
       "2    1646414\n",
       "3    2940600\n",
       "4    2167008\n",
       "Name: AllMulti, dtype: int64"
      ]
     },
     "execution_count": 234,
     "metadata": {},
     "output_type": "execute_result"
    }
   ],
   "source": [
    "#P0040011  P4-11: Population of two or more races\n",
    "df['AllMulti']=df['P0020011']-df['P0020013']-df['P0020015']-df['P0020019']\n",
    "df['AllMulti']"
   ]
  },
  {
   "cell_type": "code",
   "execution_count": 235,
   "id": "0d508606",
   "metadata": {},
   "outputs": [],
   "source": [
    "kids =['Total', 'Hispanic', 'White', 'Black', 'Asian',\n",
    "       'OtherSingleRace', 'White/Black', 'White/Asian', 'Black/Asian', 'Multi']"
   ]
  },
  {
   "cell_type": "code",
   "execution_count": 236,
   "id": "10fce5a0",
   "metadata": {},
   "outputs": [],
   "source": [
    "kcol = []\n",
    "for i in kids:\n",
    "    i += '_kids'\n",
    "    kcol.append(i)"
   ]
  },
  {
   "cell_type": "code",
   "execution_count": 237,
   "id": "4d7fb716",
   "metadata": {},
   "outputs": [],
   "source": [
    "for i in range(len(perc)):\n",
    "    df[kcol[i]] = df[perc18[i]]-df[perc[i]] \n",
    "    df[kcol[i]] = df[kcol[i]]/df[kcol[i]].sum()\n",
    "    "
   ]
  },
  {
   "cell_type": "code",
   "execution_count": 238,
   "id": "c93572c7",
   "metadata": {},
   "outputs": [
    {
     "data": {
      "text/html": [
       "<div>\n",
       "<style scoped>\n",
       "    .dataframe tbody tr th:only-of-type {\n",
       "        vertical-align: middle;\n",
       "    }\n",
       "\n",
       "    .dataframe tbody tr th {\n",
       "        vertical-align: top;\n",
       "    }\n",
       "\n",
       "    .dataframe thead th {\n",
       "        text-align: right;\n",
       "    }\n",
       "</style>\n",
       "<table border=\"1\" class=\"dataframe\">\n",
       "  <thead>\n",
       "    <tr style=\"text-align: right;\">\n",
       "      <th></th>\n",
       "      <th>Total_kids</th>\n",
       "      <th>Hispanic_kids</th>\n",
       "      <th>White_kids</th>\n",
       "      <th>Black_kids</th>\n",
       "      <th>Asian_kids</th>\n",
       "      <th>OtherSingleRace_kids</th>\n",
       "      <th>White/Black_kids</th>\n",
       "      <th>White/Asian_kids</th>\n",
       "      <th>Black/Asian_kids</th>\n",
       "      <th>Multi_kids</th>\n",
       "    </tr>\n",
       "    <tr>\n",
       "      <th>REGION</th>\n",
       "      <th></th>\n",
       "      <th></th>\n",
       "      <th></th>\n",
       "      <th></th>\n",
       "      <th></th>\n",
       "      <th></th>\n",
       "      <th></th>\n",
       "      <th></th>\n",
       "      <th></th>\n",
       "      <th></th>\n",
       "    </tr>\n",
       "  </thead>\n",
       "  <tbody>\n",
       "    <tr>\n",
       "      <th>1</th>\n",
       "      <td>0.160183</td>\n",
       "      <td>0.132320</td>\n",
       "      <td>0.176652</td>\n",
       "      <td>0.143224</td>\n",
       "      <td>0.212634</td>\n",
       "      <td>0.146034</td>\n",
       "      <td>0.144743</td>\n",
       "      <td>0.156775</td>\n",
       "      <td>0.145408</td>\n",
       "      <td>0.151009</td>\n",
       "    </tr>\n",
       "    <tr>\n",
       "      <th>2</th>\n",
       "      <td>0.211657</td>\n",
       "      <td>0.108620</td>\n",
       "      <td>0.281456</td>\n",
       "      <td>0.192536</td>\n",
       "      <td>0.140705</td>\n",
       "      <td>0.208610</td>\n",
       "      <td>0.277068</td>\n",
       "      <td>0.171716</td>\n",
       "      <td>0.125354</td>\n",
       "      <td>0.215741</td>\n",
       "    </tr>\n",
       "    <tr>\n",
       "      <th>3</th>\n",
       "      <td>0.387954</td>\n",
       "      <td>0.380892</td>\n",
       "      <td>0.356975</td>\n",
       "      <td>0.586043</td>\n",
       "      <td>0.265625</td>\n",
       "      <td>0.350002</td>\n",
       "      <td>0.427417</td>\n",
       "      <td>0.275581</td>\n",
       "      <td>0.393078</td>\n",
       "      <td>0.357540</td>\n",
       "    </tr>\n",
       "    <tr>\n",
       "      <th>4</th>\n",
       "      <td>0.240205</td>\n",
       "      <td>0.378168</td>\n",
       "      <td>0.184917</td>\n",
       "      <td>0.078197</td>\n",
       "      <td>0.381035</td>\n",
       "      <td>0.295353</td>\n",
       "      <td>0.150772</td>\n",
       "      <td>0.395928</td>\n",
       "      <td>0.336160</td>\n",
       "      <td>0.275710</td>\n",
       "    </tr>\n",
       "  </tbody>\n",
       "</table>\n",
       "</div>"
      ],
      "text/plain": [
       "        Total_kids  Hispanic_kids  White_kids  Black_kids  Asian_kids  \\\n",
       "REGION                                                                  \n",
       "1         0.160183       0.132320    0.176652    0.143224    0.212634   \n",
       "2         0.211657       0.108620    0.281456    0.192536    0.140705   \n",
       "3         0.387954       0.380892    0.356975    0.586043    0.265625   \n",
       "4         0.240205       0.378168    0.184917    0.078197    0.381035   \n",
       "\n",
       "        OtherSingleRace_kids  White/Black_kids  White/Asian_kids  \\\n",
       "REGION                                                             \n",
       "1                   0.146034          0.144743          0.156775   \n",
       "2                   0.208610          0.277068          0.171716   \n",
       "3                   0.350002          0.427417          0.275581   \n",
       "4                   0.295353          0.150772          0.395928   \n",
       "\n",
       "        Black/Asian_kids  Multi_kids  \n",
       "REGION                                \n",
       "1               0.145408    0.151009  \n",
       "2               0.125354    0.215741  \n",
       "3               0.393078    0.357540  \n",
       "4               0.336160    0.275710  "
      ]
     },
     "execution_count": 238,
     "metadata": {},
     "output_type": "execute_result"
    }
   ],
   "source": [
    "df[kcol]"
   ]
  },
  {
   "cell_type": "code",
   "execution_count": 175,
   "id": "339d4f24",
   "metadata": {},
   "outputs": [],
   "source": [
    "sex =pd.read_csv('C:/Users/tsb7592/Downloads/ACSST1Y2019.S0101_2021-09-16T160659/ACSST1Y2019.S0101_data_with_overlays_2021-07-23T174043.csv', skiprows=1)"
   ]
  },
  {
   "cell_type": "code",
   "execution_count": 176,
   "id": "cd17a035",
   "metadata": {},
   "outputs": [
    {
     "data": {
      "text/html": [
       "<div>\n",
       "<style scoped>\n",
       "    .dataframe tbody tr th:only-of-type {\n",
       "        vertical-align: middle;\n",
       "    }\n",
       "\n",
       "    .dataframe tbody tr th {\n",
       "        vertical-align: top;\n",
       "    }\n",
       "\n",
       "    .dataframe thead th {\n",
       "        text-align: right;\n",
       "    }\n",
       "</style>\n",
       "<table border=\"1\" class=\"dataframe\">\n",
       "  <thead>\n",
       "    <tr style=\"text-align: right;\">\n",
       "      <th></th>\n",
       "      <th>id</th>\n",
       "      <th>Geographic Area Name</th>\n",
       "      <th>Estimate!!Total!!Total population</th>\n",
       "      <th>Margin of Error!!Total!!Total population</th>\n",
       "      <th>Estimate!!Total!!Total population!!AGE!!Under 5 years</th>\n",
       "      <th>Margin of Error!!Total!!Total population!!AGE!!Under 5 years</th>\n",
       "      <th>Estimate!!Total!!Total population!!AGE!!5 to 9 years</th>\n",
       "      <th>Margin of Error!!Total!!Total population!!AGE!!5 to 9 years</th>\n",
       "      <th>Estimate!!Total!!Total population!!AGE!!10 to 14 years</th>\n",
       "      <th>Margin of Error!!Total!!Total population!!AGE!!10 to 14 years</th>\n",
       "      <th>...</th>\n",
       "      <th>Estimate!!Percent Female!!Total population!!SUMMARY INDICATORS!!Age dependency ratio</th>\n",
       "      <th>Margin of Error!!Percent Female!!Total population!!SUMMARY INDICATORS!!Age dependency ratio</th>\n",
       "      <th>Estimate!!Percent Female!!Total population!!SUMMARY INDICATORS!!Old-age dependency ratio</th>\n",
       "      <th>Margin of Error!!Percent Female!!Total population!!SUMMARY INDICATORS!!Old-age dependency ratio</th>\n",
       "      <th>Estimate!!Percent Female!!Total population!!SUMMARY INDICATORS!!Child dependency ratio</th>\n",
       "      <th>Margin of Error!!Percent Female!!Total population!!SUMMARY INDICATORS!!Child dependency ratio</th>\n",
       "      <th>Estimate!!Percent Female!!Total population!!PERCENT ALLOCATED!!Sex</th>\n",
       "      <th>Margin of Error!!Percent Female!!Total population!!PERCENT ALLOCATED!!Sex</th>\n",
       "      <th>Estimate!!Percent Female!!Total population!!PERCENT ALLOCATED!!Age</th>\n",
       "      <th>Margin of Error!!Percent Female!!Total population!!PERCENT ALLOCATED!!Age</th>\n",
       "    </tr>\n",
       "  </thead>\n",
       "  <tbody>\n",
       "    <tr>\n",
       "      <th>0</th>\n",
       "      <td>0100000US</td>\n",
       "      <td>United States</td>\n",
       "      <td>328239523</td>\n",
       "      <td>*****</td>\n",
       "      <td>19404835</td>\n",
       "      <td>22314</td>\n",
       "      <td>19690437</td>\n",
       "      <td>69224</td>\n",
       "      <td>21423479</td>\n",
       "      <td>69779</td>\n",
       "      <td>...</td>\n",
       "      <td>(X)</td>\n",
       "      <td>(X)</td>\n",
       "      <td>(X)</td>\n",
       "      <td>(X)</td>\n",
       "      <td>(X)</td>\n",
       "      <td>(X)</td>\n",
       "      <td>(X)</td>\n",
       "      <td>(X)</td>\n",
       "      <td>(X)</td>\n",
       "      <td>(X)</td>\n",
       "    </tr>\n",
       "  </tbody>\n",
       "</table>\n",
       "<p>1 rows × 458 columns</p>\n",
       "</div>"
      ],
      "text/plain": [
       "          id Geographic Area Name  Estimate!!Total!!Total population  \\\n",
       "0  0100000US        United States                          328239523   \n",
       "\n",
       "  Margin of Error!!Total!!Total population  \\\n",
       "0                                    *****   \n",
       "\n",
       "   Estimate!!Total!!Total population!!AGE!!Under 5 years  \\\n",
       "0                                           19404835       \n",
       "\n",
       "   Margin of Error!!Total!!Total population!!AGE!!Under 5 years  \\\n",
       "0                                              22314              \n",
       "\n",
       "   Estimate!!Total!!Total population!!AGE!!5 to 9 years  \\\n",
       "0                                           19690437      \n",
       "\n",
       "   Margin of Error!!Total!!Total population!!AGE!!5 to 9 years  \\\n",
       "0                                              69224             \n",
       "\n",
       "   Estimate!!Total!!Total population!!AGE!!10 to 14 years  \\\n",
       "0                                           21423479        \n",
       "\n",
       "   Margin of Error!!Total!!Total population!!AGE!!10 to 14 years  ...  \\\n",
       "0                                              69779              ...   \n",
       "\n",
       "   Estimate!!Percent Female!!Total population!!SUMMARY INDICATORS!!Age dependency ratio  \\\n",
       "0                                                (X)                                      \n",
       "\n",
       "   Margin of Error!!Percent Female!!Total population!!SUMMARY INDICATORS!!Age dependency ratio  \\\n",
       "0                                                (X)                                             \n",
       "\n",
       "   Estimate!!Percent Female!!Total population!!SUMMARY INDICATORS!!Old-age dependency ratio  \\\n",
       "0                                                (X)                                          \n",
       "\n",
       "   Margin of Error!!Percent Female!!Total population!!SUMMARY INDICATORS!!Old-age dependency ratio  \\\n",
       "0                                                (X)                                                 \n",
       "\n",
       "   Estimate!!Percent Female!!Total population!!SUMMARY INDICATORS!!Child dependency ratio  \\\n",
       "0                                                (X)                                        \n",
       "\n",
       "   Margin of Error!!Percent Female!!Total population!!SUMMARY INDICATORS!!Child dependency ratio  \\\n",
       "0                                                (X)                                               \n",
       "\n",
       "   Estimate!!Percent Female!!Total population!!PERCENT ALLOCATED!!Sex  \\\n",
       "0                                                (X)                    \n",
       "\n",
       "   Margin of Error!!Percent Female!!Total population!!PERCENT ALLOCATED!!Sex  \\\n",
       "0                                                (X)                           \n",
       "\n",
       "   Estimate!!Percent Female!!Total population!!PERCENT ALLOCATED!!Age  \\\n",
       "0                                                (X)                    \n",
       "\n",
       "   Margin of Error!!Percent Female!!Total population!!PERCENT ALLOCATED!!Age  \n",
       "0                                                (X)                          \n",
       "\n",
       "[1 rows x 458 columns]"
      ]
     },
     "execution_count": 176,
     "metadata": {},
     "output_type": "execute_result"
    }
   ],
   "source": [
    "sex.head()"
   ]
  },
  {
   "cell_type": "code",
   "execution_count": 185,
   "id": "db4f4016",
   "metadata": {},
   "outputs": [],
   "source": [
    "male=['Estimate!!Male!!Total population!!SELECTED AGE CATEGORIES!!Under 18 years','Estimate!!Male!!Total population!!SELECTED AGE CATEGORIES!!18 years and over']\n",
    "female=['Estimate!!Female!!Total population!!SELECTED AGE CATEGORIES!!Under 18 years','Estimate!!Female!!Total population!!SELECTED AGE CATEGORIES!!18 years and over']\n"
   ]
  },
  {
   "cell_type": "code",
   "execution_count": 186,
   "id": "c34894b2",
   "metadata": {},
   "outputs": [
    {
     "data": {
      "text/html": [
       "<div>\n",
       "<style scoped>\n",
       "    .dataframe tbody tr th:only-of-type {\n",
       "        vertical-align: middle;\n",
       "    }\n",
       "\n",
       "    .dataframe tbody tr th {\n",
       "        vertical-align: top;\n",
       "    }\n",
       "\n",
       "    .dataframe thead th {\n",
       "        text-align: right;\n",
       "    }\n",
       "</style>\n",
       "<table border=\"1\" class=\"dataframe\">\n",
       "  <thead>\n",
       "    <tr style=\"text-align: right;\">\n",
       "      <th></th>\n",
       "      <th>kids</th>\n",
       "      <th>adults</th>\n",
       "    </tr>\n",
       "  </thead>\n",
       "  <tbody>\n",
       "    <tr>\n",
       "      <th>0</th>\n",
       "      <td>37321627</td>\n",
       "      <td>124267346</td>\n",
       "    </tr>\n",
       "  </tbody>\n",
       "</table>\n",
       "</div>"
      ],
      "text/plain": [
       "       kids     adults\n",
       "0  37321627  124267346"
      ]
     },
     "execution_count": 186,
     "metadata": {},
     "output_type": "execute_result"
    }
   ],
   "source": [
    "mdf = sex[male]\n",
    "mdf.columns=['kids', 'adults']\n",
    "mdf"
   ]
  },
  {
   "cell_type": "code",
   "execution_count": 187,
   "id": "b62d57ed",
   "metadata": {},
   "outputs": [
    {
     "data": {
      "text/html": [
       "<div>\n",
       "<style scoped>\n",
       "    .dataframe tbody tr th:only-of-type {\n",
       "        vertical-align: middle;\n",
       "    }\n",
       "\n",
       "    .dataframe tbody tr th {\n",
       "        vertical-align: top;\n",
       "    }\n",
       "\n",
       "    .dataframe thead th {\n",
       "        text-align: right;\n",
       "    }\n",
       "</style>\n",
       "<table border=\"1\" class=\"dataframe\">\n",
       "  <thead>\n",
       "    <tr style=\"text-align: right;\">\n",
       "      <th></th>\n",
       "      <th>kids</th>\n",
       "      <th>adults</th>\n",
       "    </tr>\n",
       "  </thead>\n",
       "  <tbody>\n",
       "    <tr>\n",
       "      <th>0</th>\n",
       "      <td>35646158</td>\n",
       "      <td>131004392</td>\n",
       "    </tr>\n",
       "  </tbody>\n",
       "</table>\n",
       "</div>"
      ],
      "text/plain": [
       "       kids     adults\n",
       "0  35646158  131004392"
      ]
     },
     "execution_count": 187,
     "metadata": {},
     "output_type": "execute_result"
    }
   ],
   "source": [
    "fdf = sex[female]\n",
    "fdf.columns=['kids', 'adults']\n",
    "fdf"
   ]
  },
  {
   "cell_type": "code",
   "execution_count": 217,
   "id": "6e7e0859",
   "metadata": {},
   "outputs": [],
   "source": [
    "gender = mdf.append(fdf)"
   ]
  },
  {
   "cell_type": "code",
   "execution_count": 218,
   "id": "99714251",
   "metadata": {},
   "outputs": [
    {
     "data": {
      "text/html": [
       "<div>\n",
       "<style scoped>\n",
       "    .dataframe tbody tr th:only-of-type {\n",
       "        vertical-align: middle;\n",
       "    }\n",
       "\n",
       "    .dataframe tbody tr th {\n",
       "        vertical-align: top;\n",
       "    }\n",
       "\n",
       "    .dataframe thead th {\n",
       "        text-align: right;\n",
       "    }\n",
       "</style>\n",
       "<table border=\"1\" class=\"dataframe\">\n",
       "  <thead>\n",
       "    <tr style=\"text-align: right;\">\n",
       "      <th></th>\n",
       "      <th>kids</th>\n",
       "      <th>adults</th>\n",
       "    </tr>\n",
       "  </thead>\n",
       "  <tbody>\n",
       "    <tr>\n",
       "      <th>0</th>\n",
       "      <td>37321627</td>\n",
       "      <td>124267346</td>\n",
       "    </tr>\n",
       "    <tr>\n",
       "      <th>0</th>\n",
       "      <td>35646158</td>\n",
       "      <td>131004392</td>\n",
       "    </tr>\n",
       "  </tbody>\n",
       "</table>\n",
       "</div>"
      ],
      "text/plain": [
       "       kids     adults\n",
       "0  37321627  124267346\n",
       "0  35646158  131004392"
      ]
     },
     "execution_count": 218,
     "metadata": {},
     "output_type": "execute_result"
    }
   ],
   "source": [
    "gender"
   ]
  },
  {
   "cell_type": "code",
   "execution_count": 313,
   "id": "68f8a9a0",
   "metadata": {},
   "outputs": [],
   "source": [
    "gender.kids =gender.kids/gender.kids.sum()"
   ]
  },
  {
   "cell_type": "code",
   "execution_count": 311,
   "id": "65c448f0",
   "metadata": {},
   "outputs": [],
   "source": [
    "gender.adults =gender.adults/gender.adults.sum()"
   ]
  },
  {
   "cell_type": "code",
   "execution_count": 314,
   "id": "f166b7de",
   "metadata": {},
   "outputs": [
    {
     "data": {
      "text/html": [
       "<div>\n",
       "<style scoped>\n",
       "    .dataframe tbody tr th:only-of-type {\n",
       "        vertical-align: middle;\n",
       "    }\n",
       "\n",
       "    .dataframe tbody tr th {\n",
       "        vertical-align: top;\n",
       "    }\n",
       "\n",
       "    .dataframe thead th {\n",
       "        text-align: right;\n",
       "    }\n",
       "</style>\n",
       "<table border=\"1\" class=\"dataframe\">\n",
       "  <thead>\n",
       "    <tr style=\"text-align: right;\">\n",
       "      <th></th>\n",
       "      <th>kids</th>\n",
       "      <th>adults</th>\n",
       "    </tr>\n",
       "  </thead>\n",
       "  <tbody>\n",
       "    <tr>\n",
       "      <th>male</th>\n",
       "      <td>0.511481</td>\n",
       "      <td>0.486804</td>\n",
       "    </tr>\n",
       "    <tr>\n",
       "      <th>female</th>\n",
       "      <td>0.488519</td>\n",
       "      <td>0.513196</td>\n",
       "    </tr>\n",
       "  </tbody>\n",
       "</table>\n",
       "</div>"
      ],
      "text/plain": [
       "            kids    adults\n",
       "male    0.511481  0.486804\n",
       "female  0.488519  0.513196"
      ]
     },
     "execution_count": 314,
     "metadata": {},
     "output_type": "execute_result"
    }
   ],
   "source": [
    "gender"
   ]
  },
  {
   "cell_type": "code",
   "execution_count": 219,
   "id": "675ba853",
   "metadata": {},
   "outputs": [],
   "source": [
    "gender.index=['male','female']"
   ]
  },
  {
   "cell_type": "code",
   "execution_count": 277,
   "id": "b7d7720b",
   "metadata": {},
   "outputs": [],
   "source": [
    "edu =pd.read_csv('C:/Users/tsb7592/Downloads/ACSST1Y2019.S1501_2021-09-16T160729/ACSST1Y2019.S1501_data_with_overlays_2021-07-27T205148.csv', skiprows=1)"
   ]
  },
  {
   "cell_type": "code",
   "execution_count": 278,
   "id": "2f8c3563",
   "metadata": {},
   "outputs": [
    {
     "data": {
      "text/html": [
       "<div>\n",
       "<style scoped>\n",
       "    .dataframe tbody tr th:only-of-type {\n",
       "        vertical-align: middle;\n",
       "    }\n",
       "\n",
       "    .dataframe tbody tr th {\n",
       "        vertical-align: top;\n",
       "    }\n",
       "\n",
       "    .dataframe thead th {\n",
       "        text-align: right;\n",
       "    }\n",
       "</style>\n",
       "<table border=\"1\" class=\"dataframe\">\n",
       "  <thead>\n",
       "    <tr style=\"text-align: right;\">\n",
       "      <th></th>\n",
       "      <th>id</th>\n",
       "      <th>Geographic Area Name</th>\n",
       "      <th>Estimate!!Total!!AGE BY EDUCATIONAL ATTAINMENT!!Population 18 to 24 years</th>\n",
       "      <th>Margin of Error!!Total!!AGE BY EDUCATIONAL ATTAINMENT!!Population 18 to 24 years</th>\n",
       "      <th>Estimate!!Total!!AGE BY EDUCATIONAL ATTAINMENT!!Population 18 to 24 years!!Less than high school graduate</th>\n",
       "      <th>Margin of Error!!Total!!AGE BY EDUCATIONAL ATTAINMENT!!Population 18 to 24 years!!Less than high school graduate</th>\n",
       "      <th>Estimate!!Total!!AGE BY EDUCATIONAL ATTAINMENT!!Population 18 to 24 years!!High school graduate (includes equivalency)</th>\n",
       "      <th>Margin of Error!!Total!!AGE BY EDUCATIONAL ATTAINMENT!!Population 18 to 24 years!!High school graduate (includes equivalency)</th>\n",
       "      <th>Estimate!!Total!!AGE BY EDUCATIONAL ATTAINMENT!!Population 18 to 24 years!!Some college or associate's degree</th>\n",
       "      <th>Margin of Error!!Total!!AGE BY EDUCATIONAL ATTAINMENT!!Population 18 to 24 years!!Some college or associate's degree</th>\n",
       "      <th>...</th>\n",
       "      <th>Margin of Error!!Total!!AGE BY EDUCATIONAL ATTAINMENT!!Population 25 years and over!!9th to 12th grade, no diploma</th>\n",
       "      <th>Estimate!!Total!!AGE BY EDUCATIONAL ATTAINMENT!!Population 25 years and over!!High school graduate (includes equivalency)</th>\n",
       "      <th>Margin of Error!!Total!!AGE BY EDUCATIONAL ATTAINMENT!!Population 25 years and over!!High school graduate (includes equivalency)</th>\n",
       "      <th>Estimate!!Total!!AGE BY EDUCATIONAL ATTAINMENT!!Population 25 years and over!!Some college, no degree</th>\n",
       "      <th>Margin of Error!!Total!!AGE BY EDUCATIONAL ATTAINMENT!!Population 25 years and over!!Some college, no degree</th>\n",
       "      <th>Estimate!!Total!!AGE BY EDUCATIONAL ATTAINMENT!!Population 25 years and over!!Associate's degree</th>\n",
       "      <th>Margin of Error!!Total!!AGE BY EDUCATIONAL ATTAINMENT!!Population 25 years and over!!Associate's degree</th>\n",
       "      <th>Estimate!!Total!!AGE BY EDUCATIONAL ATTAINMENT!!Population 25 years and over!!Bachelor's degree</th>\n",
       "      <th>Margin of Error!!Total!!AGE BY EDUCATIONAL ATTAINMENT!!Population 25 years and over!!Bachelor's degree</th>\n",
       "      <th>Estimate!!Total!!AGE BY EDUCATIONAL ATTAINMENT!!Population 25 years and over!!Graduate or professional degree</th>\n",
       "    </tr>\n",
       "  </thead>\n",
       "  <tbody>\n",
       "    <tr>\n",
       "      <th>0</th>\n",
       "      <td>0100000US</td>\n",
       "      <td>United States</td>\n",
       "      <td>30373170</td>\n",
       "      <td>42282</td>\n",
       "      <td>3662080</td>\n",
       "      <td>41512</td>\n",
       "      <td>9921331</td>\n",
       "      <td>56156</td>\n",
       "      <td>13168280</td>\n",
       "      <td>67371</td>\n",
       "      <td>...</td>\n",
       "      <td>83892</td>\n",
       "      <td>60482353</td>\n",
       "      <td>181247</td>\n",
       "      <td>44914086</td>\n",
       "      <td>111140</td>\n",
       "      <td>19381937</td>\n",
       "      <td>84109</td>\n",
       "      <td>45730479</td>\n",
       "      <td>155188</td>\n",
       "      <td>28771172</td>\n",
       "    </tr>\n",
       "  </tbody>\n",
       "</table>\n",
       "<p>1 rows × 27 columns</p>\n",
       "</div>"
      ],
      "text/plain": [
       "          id Geographic Area Name  \\\n",
       "0  0100000US        United States   \n",
       "\n",
       "   Estimate!!Total!!AGE BY EDUCATIONAL ATTAINMENT!!Population 18 to 24 years  \\\n",
       "0                                           30373170                           \n",
       "\n",
       "   Margin of Error!!Total!!AGE BY EDUCATIONAL ATTAINMENT!!Population 18 to 24 years  \\\n",
       "0                                              42282                                  \n",
       "\n",
       "   Estimate!!Total!!AGE BY EDUCATIONAL ATTAINMENT!!Population 18 to 24 years!!Less than high school graduate  \\\n",
       "0                                            3662080                                                           \n",
       "\n",
       "   Margin of Error!!Total!!AGE BY EDUCATIONAL ATTAINMENT!!Population 18 to 24 years!!Less than high school graduate  \\\n",
       "0                                              41512                                                                  \n",
       "\n",
       "   Estimate!!Total!!AGE BY EDUCATIONAL ATTAINMENT!!Population 18 to 24 years!!High school graduate (includes equivalency)  \\\n",
       "0                                            9921331                                                                        \n",
       "\n",
       "   Margin of Error!!Total!!AGE BY EDUCATIONAL ATTAINMENT!!Population 18 to 24 years!!High school graduate (includes equivalency)  \\\n",
       "0                                              56156                                                                               \n",
       "\n",
       "   Estimate!!Total!!AGE BY EDUCATIONAL ATTAINMENT!!Population 18 to 24 years!!Some college or associate's degree  \\\n",
       "0                                           13168280                                                               \n",
       "\n",
       "   Margin of Error!!Total!!AGE BY EDUCATIONAL ATTAINMENT!!Population 18 to 24 years!!Some college or associate's degree  \\\n",
       "0                                              67371                                                                      \n",
       "\n",
       "   ...  \\\n",
       "0  ...   \n",
       "\n",
       "   Margin of Error!!Total!!AGE BY EDUCATIONAL ATTAINMENT!!Population 25 years and over!!9th to 12th grade, no diploma  \\\n",
       "0                                              83892                                                                    \n",
       "\n",
       "   Estimate!!Total!!AGE BY EDUCATIONAL ATTAINMENT!!Population 25 years and over!!High school graduate (includes equivalency)  \\\n",
       "0                                           60482353                                                                           \n",
       "\n",
       "   Margin of Error!!Total!!AGE BY EDUCATIONAL ATTAINMENT!!Population 25 years and over!!High school graduate (includes equivalency)  \\\n",
       "0                                             181247                                                                                  \n",
       "\n",
       "   Estimate!!Total!!AGE BY EDUCATIONAL ATTAINMENT!!Population 25 years and over!!Some college, no degree  \\\n",
       "0                                           44914086                                                       \n",
       "\n",
       "   Margin of Error!!Total!!AGE BY EDUCATIONAL ATTAINMENT!!Population 25 years and over!!Some college, no degree  \\\n",
       "0                                             111140                                                              \n",
       "\n",
       "   Estimate!!Total!!AGE BY EDUCATIONAL ATTAINMENT!!Population 25 years and over!!Associate's degree  \\\n",
       "0                                           19381937                                                  \n",
       "\n",
       "   Margin of Error!!Total!!AGE BY EDUCATIONAL ATTAINMENT!!Population 25 years and over!!Associate's degree  \\\n",
       "0                                              84109                                                         \n",
       "\n",
       "   Estimate!!Total!!AGE BY EDUCATIONAL ATTAINMENT!!Population 25 years and over!!Bachelor's degree  \\\n",
       "0                                           45730479                                                 \n",
       "\n",
       "   Margin of Error!!Total!!AGE BY EDUCATIONAL ATTAINMENT!!Population 25 years and over!!Bachelor's degree  \\\n",
       "0                                             155188                                                        \n",
       "\n",
       "   Estimate!!Total!!AGE BY EDUCATIONAL ATTAINMENT!!Population 25 years and over!!Graduate or professional degree  \n",
       "0                                           28771172                                                              \n",
       "\n",
       "[1 rows x 27 columns]"
      ]
     },
     "execution_count": 278,
     "metadata": {},
     "output_type": "execute_result"
    }
   ],
   "source": [
    "edu =edu.iloc[:,:27]\n",
    "edu"
   ]
  },
  {
   "cell_type": "code",
   "execution_count": 279,
   "id": "6b10babc",
   "metadata": {},
   "outputs": [],
   "source": [
    "keep =[]\n",
    "for col in edu.columns:\n",
    "    if 'Estimate' in col:\n",
    "        keep.append(col)"
   ]
  },
  {
   "cell_type": "code",
   "execution_count": 280,
   "id": "8d4b2541",
   "metadata": {},
   "outputs": [],
   "source": [
    "edu= edu[keep]"
   ]
  },
  {
   "cell_type": "code",
   "execution_count": 281,
   "id": "e574a12b",
   "metadata": {},
   "outputs": [
    {
     "data": {
      "text/html": [
       "<div>\n",
       "<style scoped>\n",
       "    .dataframe tbody tr th:only-of-type {\n",
       "        vertical-align: middle;\n",
       "    }\n",
       "\n",
       "    .dataframe tbody tr th {\n",
       "        vertical-align: top;\n",
       "    }\n",
       "\n",
       "    .dataframe thead th {\n",
       "        text-align: right;\n",
       "    }\n",
       "</style>\n",
       "<table border=\"1\" class=\"dataframe\">\n",
       "  <thead>\n",
       "    <tr style=\"text-align: right;\">\n",
       "      <th></th>\n",
       "      <th>Estimate!!Total!!AGE BY EDUCATIONAL ATTAINMENT!!Population 18 to 24 years</th>\n",
       "      <th>Estimate!!Total!!AGE BY EDUCATIONAL ATTAINMENT!!Population 18 to 24 years!!Less than high school graduate</th>\n",
       "      <th>Estimate!!Total!!AGE BY EDUCATIONAL ATTAINMENT!!Population 18 to 24 years!!High school graduate (includes equivalency)</th>\n",
       "      <th>Estimate!!Total!!AGE BY EDUCATIONAL ATTAINMENT!!Population 18 to 24 years!!Some college or associate's degree</th>\n",
       "      <th>Estimate!!Total!!AGE BY EDUCATIONAL ATTAINMENT!!Population 18 to 24 years!!Bachelor's degree or higher</th>\n",
       "      <th>Estimate!!Total!!AGE BY EDUCATIONAL ATTAINMENT!!Population 25 years and over</th>\n",
       "      <th>Estimate!!Total!!AGE BY EDUCATIONAL ATTAINMENT!!Population 25 years and over!!Less than 9th grade</th>\n",
       "      <th>Estimate!!Total!!AGE BY EDUCATIONAL ATTAINMENT!!Population 25 years and over!!9th to 12th grade, no diploma</th>\n",
       "      <th>Estimate!!Total!!AGE BY EDUCATIONAL ATTAINMENT!!Population 25 years and over!!High school graduate (includes equivalency)</th>\n",
       "      <th>Estimate!!Total!!AGE BY EDUCATIONAL ATTAINMENT!!Population 25 years and over!!Some college, no degree</th>\n",
       "      <th>Estimate!!Total!!AGE BY EDUCATIONAL ATTAINMENT!!Population 25 years and over!!Associate's degree</th>\n",
       "      <th>Estimate!!Total!!AGE BY EDUCATIONAL ATTAINMENT!!Population 25 years and over!!Bachelor's degree</th>\n",
       "      <th>Estimate!!Total!!AGE BY EDUCATIONAL ATTAINMENT!!Population 25 years and over!!Graduate or professional degree</th>\n",
       "    </tr>\n",
       "  </thead>\n",
       "  <tbody>\n",
       "    <tr>\n",
       "      <th>0</th>\n",
       "      <td>30373170</td>\n",
       "      <td>3662080</td>\n",
       "      <td>9921331</td>\n",
       "      <td>13168280</td>\n",
       "      <td>3621479</td>\n",
       "      <td>224898568</td>\n",
       "      <td>10874685</td>\n",
       "      <td>14743856</td>\n",
       "      <td>60482353</td>\n",
       "      <td>44914086</td>\n",
       "      <td>19381937</td>\n",
       "      <td>45730479</td>\n",
       "      <td>28771172</td>\n",
       "    </tr>\n",
       "  </tbody>\n",
       "</table>\n",
       "</div>"
      ],
      "text/plain": [
       "   Estimate!!Total!!AGE BY EDUCATIONAL ATTAINMENT!!Population 18 to 24 years  \\\n",
       "0                                           30373170                           \n",
       "\n",
       "   Estimate!!Total!!AGE BY EDUCATIONAL ATTAINMENT!!Population 18 to 24 years!!Less than high school graduate  \\\n",
       "0                                            3662080                                                           \n",
       "\n",
       "   Estimate!!Total!!AGE BY EDUCATIONAL ATTAINMENT!!Population 18 to 24 years!!High school graduate (includes equivalency)  \\\n",
       "0                                            9921331                                                                        \n",
       "\n",
       "   Estimate!!Total!!AGE BY EDUCATIONAL ATTAINMENT!!Population 18 to 24 years!!Some college or associate's degree  \\\n",
       "0                                           13168280                                                               \n",
       "\n",
       "   Estimate!!Total!!AGE BY EDUCATIONAL ATTAINMENT!!Population 18 to 24 years!!Bachelor's degree or higher  \\\n",
       "0                                            3621479                                                        \n",
       "\n",
       "   Estimate!!Total!!AGE BY EDUCATIONAL ATTAINMENT!!Population 25 years and over  \\\n",
       "0                                          224898568                              \n",
       "\n",
       "   Estimate!!Total!!AGE BY EDUCATIONAL ATTAINMENT!!Population 25 years and over!!Less than 9th grade  \\\n",
       "0                                           10874685                                                   \n",
       "\n",
       "   Estimate!!Total!!AGE BY EDUCATIONAL ATTAINMENT!!Population 25 years and over!!9th to 12th grade, no diploma  \\\n",
       "0                                           14743856                                                             \n",
       "\n",
       "   Estimate!!Total!!AGE BY EDUCATIONAL ATTAINMENT!!Population 25 years and over!!High school graduate (includes equivalency)  \\\n",
       "0                                           60482353                                                                           \n",
       "\n",
       "   Estimate!!Total!!AGE BY EDUCATIONAL ATTAINMENT!!Population 25 years and over!!Some college, no degree  \\\n",
       "0                                           44914086                                                       \n",
       "\n",
       "   Estimate!!Total!!AGE BY EDUCATIONAL ATTAINMENT!!Population 25 years and over!!Associate's degree  \\\n",
       "0                                           19381937                                                  \n",
       "\n",
       "   Estimate!!Total!!AGE BY EDUCATIONAL ATTAINMENT!!Population 25 years and over!!Bachelor's degree  \\\n",
       "0                                           45730479                                                 \n",
       "\n",
       "   Estimate!!Total!!AGE BY EDUCATIONAL ATTAINMENT!!Population 25 years and over!!Graduate or professional degree  \n",
       "0                                           28771172                                                              "
      ]
     },
     "execution_count": 281,
     "metadata": {},
     "output_type": "execute_result"
    }
   ],
   "source": [
    "edu"
   ]
  },
  {
   "cell_type": "code",
   "execution_count": 282,
   "id": "711017ff",
   "metadata": {},
   "outputs": [
    {
     "data": {
      "text/plain": [
       "0    30373170\n",
       "dtype: int64"
      ]
     },
     "execution_count": 282,
     "metadata": {},
     "output_type": "execute_result"
    }
   ],
   "source": [
    "edu[keep[1:5]].sum(axis=1) "
   ]
  },
  {
   "cell_type": "code",
   "execution_count": 288,
   "id": "8785e079",
   "metadata": {},
   "outputs": [
    {
     "data": {
      "text/plain": [
       "0    224898568\n",
       "dtype: int64"
      ]
     },
     "execution_count": 288,
     "metadata": {},
     "output_type": "execute_result"
    }
   ],
   "source": [
    "edu[keep[6:]].sum(axis=1) "
   ]
  },
  {
   "cell_type": "code",
   "execution_count": 287,
   "id": "327f3f30",
   "metadata": {},
   "outputs": [
    {
     "data": {
      "text/plain": [
       "13"
      ]
     },
     "execution_count": 287,
     "metadata": {},
     "output_type": "execute_result"
    }
   ],
   "source": [
    "len(keep)"
   ]
  },
  {
   "cell_type": "code",
   "execution_count": 284,
   "id": "f387c5de",
   "metadata": {},
   "outputs": [
    {
     "data": {
      "text/plain": [
       "['Estimate!!Total!!AGE BY EDUCATIONAL ATTAINMENT!!Population 18 to 24 years',\n",
       " 'Estimate!!Total!!AGE BY EDUCATIONAL ATTAINMENT!!Population 18 to 24 years!!Less than high school graduate',\n",
       " 'Estimate!!Total!!AGE BY EDUCATIONAL ATTAINMENT!!Population 18 to 24 years!!High school graduate (includes equivalency)',\n",
       " \"Estimate!!Total!!AGE BY EDUCATIONAL ATTAINMENT!!Population 18 to 24 years!!Some college or associate's degree\",\n",
       " \"Estimate!!Total!!AGE BY EDUCATIONAL ATTAINMENT!!Population 18 to 24 years!!Bachelor's degree or higher\",\n",
       " 'Estimate!!Total!!AGE BY EDUCATIONAL ATTAINMENT!!Population 25 years and over',\n",
       " 'Estimate!!Total!!AGE BY EDUCATIONAL ATTAINMENT!!Population 25 years and over!!Less than 9th grade',\n",
       " 'Estimate!!Total!!AGE BY EDUCATIONAL ATTAINMENT!!Population 25 years and over!!9th to 12th grade, no diploma',\n",
       " 'Estimate!!Total!!AGE BY EDUCATIONAL ATTAINMENT!!Population 25 years and over!!High school graduate (includes equivalency)',\n",
       " 'Estimate!!Total!!AGE BY EDUCATIONAL ATTAINMENT!!Population 25 years and over!!Some college, no degree',\n",
       " \"Estimate!!Total!!AGE BY EDUCATIONAL ATTAINMENT!!Population 25 years and over!!Associate's degree\",\n",
       " \"Estimate!!Total!!AGE BY EDUCATIONAL ATTAINMENT!!Population 25 years and over!!Bachelor's degree\",\n",
       " 'Estimate!!Total!!AGE BY EDUCATIONAL ATTAINMENT!!Population 25 years and over!!Graduate or professional degree']"
      ]
     },
     "execution_count": 284,
     "metadata": {},
     "output_type": "execute_result"
    }
   ],
   "source": [
    "keep"
   ]
  },
  {
   "cell_type": "code",
   "execution_count": 289,
   "id": "d2f796fd",
   "metadata": {},
   "outputs": [],
   "source": [
    "dc ={'lessthanHS': ['Estimate!!Total!!AGE BY EDUCATIONAL ATTAINMENT!!Population 18 to 24 years!!Less than high school graduate',\n",
    " 'Estimate!!Total!!AGE BY EDUCATIONAL ATTAINMENT!!Population 25 years and over!!Less than 9th grade'],\n",
    "\n",
    "'someHS':['Estimate!!Total!!AGE BY EDUCATIONAL ATTAINMENT!!Population 25 years and over!!9th to 12th grade, no diploma'],\n",
    "\n",
    "\"HS\":['Estimate!!Total!!AGE BY EDUCATIONAL ATTAINMENT!!Population 18 to 24 years!!High school graduate (includes equivalency)',\n",
    "    'Estimate!!Total!!AGE BY EDUCATIONAL ATTAINMENT!!Population 25 years and over!!High school graduate (includes equivalency)'],\n",
    "\n",
    "'somecollege': [\"Estimate!!Total!!AGE BY EDUCATIONAL ATTAINMENT!!Population 18 to 24 years!!Some college or associate's degree\",\n",
    "              'Estimate!!Total!!AGE BY EDUCATIONAL ATTAINMENT!!Population 25 years and over!!Some college, no degree'],\n",
    "\n",
    "'twoyr':[\"Estimate!!Total!!AGE BY EDUCATIONAL ATTAINMENT!!Population 25 years and over!!Associate's degree\"],\n",
    "'fouryr':[\"Estimate!!Total!!AGE BY EDUCATIONAL ATTAINMENT!!Population 18 to 24 years!!Bachelor's degree or higher\",\n",
    "              \"Estimate!!Total!!AGE BY EDUCATIONAL ATTAINMENT!!Population 25 years and over!!Bachelor's degree\"],\n",
    "\n",
    "'advanced': ['Estimate!!Total!!AGE BY EDUCATIONAL ATTAINMENT!!Population 25 years and over!!Graduate or professional degree']}\n"
   ]
  },
  {
   "cell_type": "code",
   "execution_count": 307,
   "id": "b69da0f6",
   "metadata": {},
   "outputs": [
    {
     "data": {
      "text/plain": [
       "255271738"
      ]
     },
     "execution_count": 307,
     "metadata": {},
     "output_type": "execute_result"
    }
   ],
   "source": [
    "total = (edu[keep[0]]+edu[keep[5]])[0]\n",
    "total"
   ]
  },
  {
   "cell_type": "code",
   "execution_count": 308,
   "id": "bae5ac72",
   "metadata": {},
   "outputs": [],
   "source": [
    "for key in dc:\n",
    "    edu[key] = edu[dc[key]].sum(axis=1)[0]\n",
    "    edu[key]= edu[key]/total"
   ]
  },
  {
   "cell_type": "code",
   "execution_count": 309,
   "id": "d36e7d0d",
   "metadata": {},
   "outputs": [
    {
     "data": {
      "text/html": [
       "<div>\n",
       "<style scoped>\n",
       "    .dataframe tbody tr th:only-of-type {\n",
       "        vertical-align: middle;\n",
       "    }\n",
       "\n",
       "    .dataframe tbody tr th {\n",
       "        vertical-align: top;\n",
       "    }\n",
       "\n",
       "    .dataframe thead th {\n",
       "        text-align: right;\n",
       "    }\n",
       "</style>\n",
       "<table border=\"1\" class=\"dataframe\">\n",
       "  <thead>\n",
       "    <tr style=\"text-align: right;\">\n",
       "      <th></th>\n",
       "      <th>lessthanHS</th>\n",
       "      <th>someHS</th>\n",
       "      <th>HS</th>\n",
       "      <th>somecollege</th>\n",
       "      <th>twoyr</th>\n",
       "      <th>fouryr</th>\n",
       "      <th>advanced</th>\n",
       "    </tr>\n",
       "  </thead>\n",
       "  <tbody>\n",
       "    <tr>\n",
       "      <th>0</th>\n",
       "      <td>0.056946</td>\n",
       "      <td>0.057757</td>\n",
       "      <td>0.275799</td>\n",
       "      <td>0.227532</td>\n",
       "      <td>0.075927</td>\n",
       "      <td>0.193331</td>\n",
       "      <td>0.112708</td>\n",
       "    </tr>\n",
       "  </tbody>\n",
       "</table>\n",
       "</div>"
      ],
      "text/plain": [
       "   lessthanHS    someHS        HS  somecollege     twoyr    fouryr  advanced\n",
       "0    0.056946  0.057757  0.275799     0.227532  0.075927  0.193331  0.112708"
      ]
     },
     "execution_count": 309,
     "metadata": {},
     "output_type": "execute_result"
    }
   ],
   "source": [
    "edu[['lessthanHS', 'someHS', 'HS', 'somecollege', 'twoyr', 'fouryr', 'advanced']]\n",
    "#.sum(axis =1)[0]"
   ]
  },
  {
   "cell_type": "code",
   "execution_count": 315,
   "id": "a8d824b5",
   "metadata": {},
   "outputs": [],
   "source": [
    "# Create a Pandas Excel writer using XlsxWriter as the engine.\n",
    "writer = pd.ExcelWriter('C:/Users/tsb7592/Downloads/census_percentage.xlsx', engine='xlsxwriter')\n",
    "\n",
    "# Write each dataframe to a different worksheet.\n",
    "ad.to_excel(writer, sheet_name='adults')\n",
    "df[kcol].to_excel(writer, sheet_name='kids')  \n",
    "gender.to_excel(writer, sheet_name='sex_assigned_at_birth')\n",
    "edu[['lessthanHS', 'someHS', 'HS', 'somecollege', 'twoyr', 'fouryr', 'advanced']].to_excel(writer, sheet_name='self_edu')\n",
    "\n",
    "# Close the Pandas Excel writer and output the Excel file.\n",
    "writer.save()"
   ]
  },
  {
   "cell_type": "code",
   "execution_count": null,
   "id": "4f1ac05e",
   "metadata": {},
   "outputs": [],
   "source": []
  }
 ],
 "metadata": {
  "kernelspec": {
   "display_name": "Python 3",
   "language": "python",
   "name": "python3"
  },
  "language_info": {
   "codemirror_mode": {
    "name": "ipython",
    "version": 3
   },
   "file_extension": ".py",
   "mimetype": "text/x-python",
   "name": "python",
   "nbconvert_exporter": "python",
   "pygments_lexer": "ipython3",
   "version": "3.8.8"
  }
 },
 "nbformat": 4,
 "nbformat_minor": 5
}
