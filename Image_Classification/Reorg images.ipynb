{
 "cells": [
  {
   "cell_type": "code",
   "execution_count": 1,
   "metadata": {},
   "outputs": [],
   "source": [
    "#Data saved in csv/excel\n",
    "import glob, os\n",
    "import pandas as pd\n",
    "import warnings\n",
    "warnings.filterwarnings('ignore')"
   ]
  },
  {
   "cell_type": "markdown",
   "metadata": {},
   "source": [
    "# Organize all the unlabeled pics to a subfolder for inference\n"
   ]
  },
  {
   "cell_type": "code",
   "execution_count": 10,
   "metadata": {},
   "outputs": [
    {
     "name": "stdout",
     "output_type": "stream",
     "text": [
      "0BD1C1419FE0~2020-07-08 09.22.38  0BD1C1419FE0~2020-07-08 12.13.12\r\n",
      "0BD1C1419FE0~2020-07-08 10.09.47  0BD1C1419FE0~2020-07-08 12.59.30\r\n",
      "0BD1C1419FE0~2020-07-08 10.27.02  0BD1C1419FE0~2020-07-08 13.06.16\r\n",
      "0BD1C1419FE0~2020-07-08 10.37.23  0BD1C1419FE0~2020-07-08 16.43.21\r\n"
     ]
    }
   ],
   "source": [
    "!ls /projects/p31410/Gaze_Detection_Data/Baltimore_OB/"
   ]
  },
  {
   "cell_type": "code",
   "execution_count": 11,
   "metadata": {},
   "outputs": [
    {
     "name": "stdout",
     "output_type": "stream",
     "text": [
      "0568AE498717~2020-07-08 08.26.14  7731468A754E~2020-07-08 14.56.48\r\n",
      "0568AE498717~2020-07-08 10.37.10  7731468A754E~2020-07-08 16.48.28\r\n",
      "0568AE498717~2020-07-08 11.48.00  7731468A754E~2020-07-08 17.56.27\r\n",
      "0568AE498717~2020-07-08 13.01.32  7731468A754E~2020-07-09 08.59.17\r\n",
      "0568AE498717~2020-07-09 09.30.45  7731468A754E~2020-07-09 09.47.57\r\n",
      "0568AE498717~2020-07-09 10.36.38  7731468A754E~2020-07-09 11.18.17\r\n",
      "0568AE498717~2020-07-09 11.28.51  7731468A754E~2020-07-09 12.10.12\r\n",
      "0568AE498717~2020-07-09 12.25.48  7731468A754E~2020-07-09 13.11.21\r\n",
      "0568AE498717~2020-07-09 13.38.20  7731468A754E~2020-07-09 15.02.24\r\n",
      "0568AE498717~2020-07-09 17.10.12  7731468A754E~2020-07-09 15.52.54\r\n",
      "7731468A754E~2020-07-08 11.45.08  7731468A754E~2020-07-09 17.47.55\r\n",
      "7731468A754E~2020-07-08 12.13.10\r\n"
     ]
    }
   ],
   "source": [
    "!ls /projects/p31410/Gaze_Detection_Data/Phoenix_056or773/"
   ]
  },
  {
   "cell_type": "code",
   "execution_count": 14,
   "metadata": {},
   "outputs": [
    {
     "data": {
      "text/plain": [
       "23.099999999999998"
      ]
     },
     "execution_count": 14,
     "metadata": {},
     "output_type": "execute_result"
    }
   ],
   "source": [
    "#I am using phoenix as test, other three as train"
   ]
  },
  {
   "cell_type": "code",
   "execution_count": 12,
   "metadata": {},
   "outputs": [
    {
     "name": "stdout",
     "output_type": "stream",
     "text": [
      "33D6A217FDF9~2020-07-08 10.21.17  DCD78139C75B~2020-07-08 08.57.13\r\n",
      "33D6A217FDF9~2020-07-08 11.56.00  DCD78139C75B~2020-07-08 09.23.51\r\n",
      "33D6A217FDF9~2020-07-08 14.09.48  DCD78139C75B~2020-07-08 10.09.31\r\n",
      "33D6A217FDF9~2020-07-08 16.12.49  DCD78139C75B~2020-07-08 11.21.43\r\n",
      "33D6A217FDF9~2020-07-09 09.15.39  DCD78139C75B~2020-07-08 12.57.20\r\n",
      "33D6A217FDF9~2020-07-09 10.28.31  DCD78139C75B~2020-07-08 15.45.37\r\n",
      "33D6A217FDF9~2020-07-09 12.06.54  DCD78139C75B~2020-07-09 09.30.43\r\n",
      "33D6A217FDF9~2020-07-09 12.39.23  DCD78139C75B~2020-07-09 12.08.25\r\n",
      "33D6A217FDF9~2020-07-09 13.17.49  DCD78139C75B~2020-07-09 13.05.31\r\n",
      "33D6A217FDF9~2020-07-09 13.58.54  DCD78139C75B~2020-07-09 14.28.16\r\n",
      "33D6A217FDF9~2020-07-09 14.25.07  DCD78139C75B~2020-07-09 14.52.38\r\n",
      "33D6A217FDF9~2020-07-09 16.10.29  DCD78139C75B~2020-07-09 17.54.02\r\n"
     ]
    }
   ],
   "source": [
    "!ls /projects/p31410/Gaze_Detection_Data/Atlanta_33orDCD/"
   ]
  },
  {
   "cell_type": "code",
   "execution_count": 13,
   "metadata": {},
   "outputs": [
    {
     "name": "stdout",
     "output_type": "stream",
     "text": [
      "22ED80E09134~2020-07-08 12.24.16  A9E5A453C1C3~2020-07-08 18.46.15\r\n",
      "22ED80E09134~2020-07-08 12.58.17  A9E5A453C1C3~2020-07-09 10.23.16\r\n",
      "22ED80E09134~2020-07-08 14.07.00  A9E5A453C1C3~2020-07-09 10.34.48\r\n",
      "22ED80E09134~2020-07-08 14.18.46  A9E5A453C1C3~2020-07-09 11.05.28\r\n",
      "22ED80E09134~2020-07-08 14.28.57  A9E5A453C1C3~2020-07-09 12.05.52\r\n",
      "A9E5A453C1C3~2020-07-07 11.45.31  A9E5A453C1C3~2020-07-09 12.32.55\r\n",
      "A9E5A453C1C3~2020-07-08 09.09.29  A9E5A453C1C3~2020-07-09 13.31.28\r\n",
      "A9E5A453C1C3~2020-07-08 10.29.25  A9E5A453C1C3~2020-07-09 15.05.18\r\n",
      "A9E5A453C1C3~2020-07-08 16.55.08  A9E5A453C1C3~2020-07-09 16.26.34\r\n",
      "A9E5A453C1C3~2020-07-08 17.45.10  A9E5A453C1C3~2020-07-09 16.56.41\r\n",
      "A9E5A453C1C3~2020-07-08 18.36.44  A9E5A453C1C3~2020-07-09 17.15.56\r\n"
     ]
    }
   ],
   "source": [
    "!ls /projects/p31410/Gaze_Detection_Data/Dallas_A9or22/"
   ]
  },
  {
   "cell_type": "markdown",
   "metadata": {},
   "source": [
    "# Using the handcoded data to re-organzied the images into 3 different folders"
   ]
  },
  {
   "cell_type": "code",
   "execution_count": 2,
   "metadata": {
    "scrolled": false
   },
   "outputs": [
    {
     "name": "stdout",
     "output_type": "stream",
     "text": [
      "A9E5A453C1C3_2020-07-09 13.31.28_Handcoding_AB.xls\n",
      "22ED80E09134_2020-07-08 14.07.00_Handcoding_AB.xls\n",
      "22ED80E09134~2020-07-08 12.58.17~000.000000000_Handcoding_SP.xlsx\n",
      "A9E5A453C1C3_2020-07-09 16.26.34_Handcoding_AB.xlsx\n",
      "A9E5A453C1C3_2020-07-08 16.55.08_Handcoding_AB.xls\n",
      "A9E5A453C1C3_2020-07-09 10.34.48_Handcoding_AB.xls\n",
      "A9E5A453C1C3_2020-07-09 15.05.18_Handcoding_AB.xlsx\n",
      "A9E5A453C1C3_2020-07-09 16.56.41_000.000000000_Handcoding_SP.xlsx\n",
      "A9E5A453C1C3_2020-07-08 10.29.25_Handcoding_AB.xls\n",
      "22ED80E09134_2020-07-08 14.18.46_Handcoding_AB.xls\n",
      "A9E5A453C1C3_2020-07-08 17.45.10_Handcoding_AB.xls\n",
      "A9E5A453C1C3_2020-07-08 18.46.15_000.000000000_Handcoding_AB.xls\n",
      "A9E5A453C1C3_2020-07-08 09.09.29_Handcoding_AB.xls\n",
      "A9E5A453C1C3_2020-07-09 12.32.55_Handcoding_AB.xlsx\n",
      "A9E5A453C1C3_2020-07-08 18.36.44_Handcoding_AB.xls\n",
      "A9E5A453C1C3_2020-07-09 12.05.52_000.000000000_Handcoding_SP.xlsx\n",
      "A9E5A453C1C3_2020-07-09 10.23.16_Handcoding_AB.xls\n",
      "22ED80E09134_2020-07-08 12.24.16_Handcoding_AB.xls\n",
      "A9E5A453C1C3_2020-07-09 17.15.56_Handcoding_AB.xlsx\n",
      "A9E5A453C1C3_2020-07-09 11.05.28_Handcoding_AB.xls\n",
      "22ED80E09134_2020-07-08 14.28.57_Handcoding_AB.xls\n"
     ]
    }
   ],
   "source": [
    "locations= { 'TL':'1', 'TR':'2', 'away':'0', 'BL':'1', 'BR':'2',  'away':'0', 'Right':'2','Left':'1',\n",
    "       'right':'2', 'Away':'0'}\n",
    "\n",
    "\n",
    "doc =[]\n",
    "\n",
    "import shutil, os\n",
    "    \n",
    "for folder in glob.glob('/projects/p31410/Gaze_Detection_Data/Dallas_A9or22/*/*.xls*'):\n",
    "    if 'docx' in folder:\n",
    "        pass\n",
    "    elif 'SKJ' in folder:\n",
    "        pass\n",
    "    elif '_1.5s' in folder:\n",
    "        pass\n",
    "    elif 'and' in folder:\n",
    "        pass\n",
    "\n",
    "    \n",
    "\n",
    "        subf =folder.split('/')[-2]\n",
    "        print(folder.split(\"/\")[-1])\n",
    "        hc =pd.read_excel(folder)\n",
    "        data =hc.iloc[5:9,3:5]\n",
    "        df2 = {'dataKey': 'PIN', 'dataValue': subf}\n",
    "        df1 = data.append(df2, ignore_index = True)\n",
    "        df1=df1.transpose()\n",
    "        df1.columns = df1.iloc[0]\n",
    "    \n",
    "        doc.append(df1.iloc[1: , :])\n",
    "    \n",
    "        col = hc.filter(like='coding').columns[0]\n",
    "        #Rename the value under column cohort2\n",
    "        hc[col] = hc[col].map(locations)\n",
    "        hc =hc.loc[hc[col].isin(['1','2','0'])]\n",
    "        hc = hc[hc['cameraImageFilename'].notnull()]\n",
    "        labels = hc.groupby(col)['cameraImageFilename'].apply(list).to_dict()\n",
    "        print(len(hc[['cameraImageFilename']]))\n",
    "        for key in labels:\n",
    "            files = labels[key]\n",
    "            for f in files:\n",
    "                if not f:\n",
    "                    continue\n",
    "                else:\n",
    "                    try:\n",
    "                        f ='/projects/p31410/Gaze_Detection_Data/Dallas_A9or22/'+subf +'/' +f\n",
    "                        shutil.copy(f, '/projects/p31410/Gaze_Pytorch/Train/'+str(key))\n",
    "                    except:\n",
    "                        FileNotFoundError      \n",
    "        \n",
    "        "
   ]
  },
  {
   "cell_type": "code",
   "execution_count": 3,
   "metadata": {
    "scrolled": false
   },
   "outputs": [
    {
     "name": "stdout",
     "output_type": "stream",
     "text": [
      "DCD78139C75B~2020-07-09 12.08.25~000.000000000_Handcoding_SP.xlsx\n",
      "33D6A217FDF9~2020-07-09 10.28.31~000.000000000_Handcoding_SP.xlsx\n",
      "DCD78139C75B_2020-07-08 08.57.13_Handcoding_AB.xls\n",
      "33D6A217FDF9_2020-07-09 14.25.07_Handcoding_AB.xls\n",
      "33D6A217FDF9_2020-07-09 16.10.29_Handcoding_AB.xls\n",
      "DCD78139C75B~2020-07-08 11.21.43~000.000000000_Handcoding_SP.xlsx\n",
      "33D6A217FDF9_2020-07-09 13.58.54_000.000000000_Handcoding_SPandAB.xlsx\n",
      "33D6A217FDF9_2020-07-09 13.17.49_000.000000000_Handcoding_SPandAB.xlsx\n",
      "DCD78139C75B~2020-07-08 10.09.31~000.000000000_Handcoding_SP.xlsx\n",
      "DCD78139C75B~2020-07-09 09.30.43~000.000000000_Handcoding_SP.xlsx\n",
      "DCD78139C75B_2020-07-09 17.54.02_Handcoding-AB.xls\n",
      "33D6A217FDF9~2020-07-09 12.39.23~000.000000000_Handcoding_SP.xlsx\n",
      "33D6A217FDF9_2020-07-09 12.06.54_000.000000000_Handcoding_SPandAB.xlsx\n",
      "DCD78139C75B~2020-07-09 13.05.31~000.000000000_Handcoding_SP.xlsx\n",
      "DCD78139C75B~2020-07-09 14.28.16~000.000000000_Handcoding_SP.xlsx\n",
      "33D6A217FDF9_2020-07-08 11.56.00_Handcoding_AB.xls\n",
      "33D6A217FDF9~2020-07-09 09.15.39~000.000000000_Handcoding_SP.xlsx\n",
      "DCD78139C75B~2020-07-08 12.57.20~000.000000000_Handcoding_SP.xlsx\n",
      "33D6A217FDF9~2020-07-08 16.12.49~000.000000000_Handcoding_SP_AB.xlsx\n",
      "DCD78139C75B~2020-07-09 14.52.38~000.000000000_Handcoding_SP.xlsx\n",
      "DCD78139C75B~2020-07-08 09.23.51~000.000000000_Handcoding_SP.xlsm\n",
      "DCD78139C75B_2020-07-08 15.45.37_000.000000000_Handcoding_SP.xlsx\n",
      "33D6A217FDF9_2020-07-08 14.09.48_Handcoding_AB.xls\n",
      "33D6A217FDF9_2020-07-08 10.21.17_Handcoding_AB.xls\n"
     ]
    }
   ],
   "source": [
    "for folder in glob.glob('/projects/p31410/Gaze_Detection_Data/Atlanta_33orDCD/*/*.xls*'):\n",
    "    if 'docx' in folder:\n",
    "        pass\n",
    "    elif 'SKJ' in folder:\n",
    "        pass\n",
    "    elif '_1.5s' in folder:\n",
    "        pass\n",
    "    elif 'and' in folder:\n",
    "        pass\n",
    "    \n",
    "\n",
    "        subf =folder.split('/')[-2]\n",
    "        print(folder.split(\"/\")[-1])\n",
    "        hc =pd.read_excel(folder)\n",
    "        data =hc.iloc[5:9,3:5]\n",
    "        df2 = {'dataKey': 'PIN', 'dataValue': subf}\n",
    "        df1 = data.append(df2, ignore_index = True)\n",
    "        df1=df1.transpose()\n",
    "        df1.columns = df1.iloc[0]\n",
    "    \n",
    "        doc.append(df1.iloc[1: , :])\n",
    "        col = hc.filter(like='coding').columns[0]\n",
    "        #Rename the value under column cohort2\n",
    "        hc[col] = hc[col].map(locations)\n",
    "        hc =hc.loc[hc[col].isin(['1','2','0'])]\n",
    "        hc = hc[hc['cameraImageFilename'].notnull()]\n",
    "        labels = hc.groupby(col)['cameraImageFilename'].apply(list).to_dict()\n",
    "        print(len(hc[['cameraImageFilename']]))\n",
    "        for key in labels:\n",
    "            files = labels[key]\n",
    "            for f in files:\n",
    "                if not f:\n",
    "                    continue\n",
    "                else:\n",
    "                    try:\n",
    "                        f ='/projects/p31410/Gaze_Detection_Data/Atlanta_33orDCD/'+subf +'/' +f\n",
    "                        shutil.copy(f, '/projects/p31410/Gaze_Pytorch/Train/'+str(key))\n",
    "                    except:\n",
    "                        FileNotFoundError      \n",
    "        \n"
   ]
  },
  {
   "cell_type": "code",
   "execution_count": 4,
   "metadata": {
    "scrolled": false
   },
   "outputs": [
    {
     "name": "stdout",
     "output_type": "stream",
     "text": [
      "0BD1C1419FE0_2020-07-08 12.59.30_Handcoding_AB.xls\n",
      "0BD1C1419FE0_2020-07-08 13.06.16_000.000000000_Handcoding_SP.xlsx\n",
      "0BD1C1419FE0_2020-07-08 16.43.21_000.000000000_Handcoding_SP.xlsx\n",
      "0BD1C1419FE0~2020-07-08 10.37.23~000.000000000_Handcoding_SP.xlsx\n",
      "0BD1C1419FE0~2020-07-08 10.27.02~000.000000000_Handcoding_SP.xlsx\n",
      "0BD1C1419FE0~2020-07-08 12.13.12~000.000000000_Handcoding_SP.xlsx\n",
      "0BD1C1419FE0~2020-07-08 10.09.47~000.000000000_Handcoding_SP.xlsm\n",
      "0BD1C1419FE0~2020-07-08 09.22.38~000.000000000_Handcoding_SP.xlsx\n"
     ]
    }
   ],
   "source": [
    "for folder in glob.glob('/projects/p31410/Gaze_Detection_Data/Baltimore_OB/*/*.xls*'):\n",
    "    if 'docx' in folder:\n",
    "        pass\n",
    "    elif 'SKJ' in folder:\n",
    "        pass\n",
    "    elif '_1.5s' in folder:\n",
    "        pass\n",
    "    elif 'and' in folder:\n",
    "        pass\n",
    "    \n",
    "\n",
    "        subf =folder.split('/')[-2]\n",
    "        print(folder.split(\"/\")[-1])\n",
    "        hc =pd.read_excel(folder)\n",
    "        data =hc.iloc[5:9,3:5]\n",
    "        df2 = {'dataKey': 'PIN', 'dataValue': subf}\n",
    "        df1 = data.append(df2, ignore_index = True)\n",
    "        df1=df1.transpose()\n",
    "        df1.columns = df1.iloc[0]\n",
    "    \n",
    "        doc.append(df1.iloc[1: , :])\n",
    "    \n",
    "\n",
    "        col = hc.filter(like='coding').columns[0]\n",
    "        #Rename the value under column cohort2\n",
    "        hc[col] = hc[col].map(locations)\n",
    "        hc =hc.loc[hc[col].isin(['1','2','0'])]\n",
    "        hc = hc[hc['cameraImageFilename'].notnull()]\n",
    "        labels = hc.groupby(col)['cameraImageFilename'].apply(list).to_dict()\n",
    "        print(len(hc[['cameraImageFilename']]))\n",
    "        for key in labels:\n",
    "            files = labels[key]\n",
    "            for f in files:\n",
    "                \n",
    "                if not f:\n",
    "                    continue\n",
    "                else:\n",
    "                    try:\n",
    "                        f ='/projects/p31410/Gaze_Detection_Data/Baltimore_OB/'+subf +'/' +f\n",
    "                        shutil.copy(f, '/projects/p31410/Gaze_Pytorch/Train/'+str(key))\n",
    "                    except:\n",
    "                        FileNotFoundError\n",
    "                "
   ]
  },
  {
   "cell_type": "code",
   "execution_count": 5,
   "metadata": {
    "scrolled": false
   },
   "outputs": [
    {
     "name": "stdout",
     "output_type": "stream",
     "text": [
      "0568AE498717~2020-07-09 10.36.38~000.000000000_Handcoding_SP.xlsx\n",
      "0568AE498717~2020-07-08 11.48.00~000.000000000_Handcoding_SP.xlsx\n",
      "0568AE498717_2020-07-08 10.37.10_Handcoding_AB.xls\n",
      "0568AE498717_2020-07-08 08.26.14_Handcoding_AB.xls\n",
      "0568AE498717~2020-07-09 09.30.45~000.000000000_Handcoding_SP.xlsx\n",
      "0568AE498717_2020-07-09 11.28.51_Handcoding_AB.xls\n",
      "7731468A754E_2020-07-09 15.52.54_Handcoding_AB.xls\n",
      "0568AE498717~2020-07-08 13.01.32~000.000000000_Handcoding_SP.xlsx\n",
      "7731468A754E~2020-07-09 09.47.57~000.000000000_Handcoding_SP.xlsx\n",
      "7731468A754E~2020-07-08 17.56.27~000.000000000_Handcoding_SP.xlsx\n",
      "0568AE498717~2020-07-09 17.10.12~000.000000000_Handcoding_SP.xlsx\n",
      "7731468A754E~2020-07-08 16.48.28~000.000000000_Handcoding_SP.xlsx\n",
      "7731468A754E_2020-07-09 08.59.17_Handcoding_AB.xls\n",
      "0568AE498717_2020-07-09 13.38.20_Handcoding_AB.xls\n",
      "7731468A754E_2020-07-09 13.11.21_Handcoding_AB.xls\n",
      "7731468A754E~2020-07-08 14.56.48~000.000000000_Handcoding_SP.xlsx\n",
      "7731468A754E~2020-07-09 17.47.55~000.000000000_Handcoding_SP.xlsx\n",
      "7731468A754E_2020-07-09 12.10.12_Handcoding_AB.xls\n",
      "7731468A754E_2020-07-08 11.45.08_Handcoding_AB.xls\n",
      "7731468A754E~2020-07-08 12.13.10~000.000000000_Handcoding_SP.xlsx\n",
      "7731468A754E_2020-07-09 11.18.17_Handcoding_AB.xls\n",
      "7731468A754E~2020-07-09 15.02.24~000.000000000_Handcoding_SP.xlsx\n"
     ]
    }
   ],
   "source": [
    "for folder in glob.glob('/projects/p31410/Gaze_Detection_Data/Phoenix_056or773/*/*.xls*'):\n",
    "    if 'docx' in folder:\n",
    "        pass\n",
    "    elif 'SKJ' in folder:\n",
    "        pass\n",
    "    elif '_1.5s' in folder:\n",
    "        pass\n",
    "    elif 'and' in folder:\n",
    "        pass\n",
    "    \n",
    "\n",
    "        subf =folder.split('/')[-2]\n",
    "        print(folder.split(\"/\")[-1])\n",
    "        hc =pd.read_excel(folder)\n",
    "        data =hc.iloc[5:9,3:5]\n",
    "        df2 = {'dataKey': 'PIN', 'dataValue': subf}\n",
    "        df1 = data.append(df2, ignore_index = True)\n",
    "        df1=df1.transpose()\n",
    "        df1.columns = df1.iloc[0]\n",
    "    \n",
    "        doc.append(df1.iloc[1: , :])\n",
    "        \n",
    "        col = hc.filter(like='coding').columns[0]\n",
    "        #Rename the value under column cohort2\n",
    "        hc[col] = hc[col].map(locations)\n",
    "        hc =hc.loc[hc[col].isin(['1','2','0'])]\n",
    "        hc = hc[hc['cameraImageFilename'].notnull()]\n",
    "        labels = hc.groupby(col)['cameraImageFilename'].apply(list).to_dict()\n",
    "        print(len(hc[['cameraImageFilename']]))\n",
    "        for key in labels:\n",
    "            files = labels[key]\n",
    "            for f in files:\n",
    "                if not f:\n",
    "                    continue\n",
    "                else:\n",
    "                    try:\n",
    "                        f ='/projects/p31410/Gaze_Detection_Data/Phoenix_056or773/'+subf +'/' +f\n",
    "                        shutil.copy(f, '/projects/p31410/Gaze_Pytorch/Test/'+str(key))\n",
    "                    except:\n",
    "                        FileNotFoundError       \n"
   ]
  },
  {
   "cell_type": "code",
   "execution_count": null,
   "metadata": {},
   "outputs": [],
   "source": []
  },
  {
   "cell_type": "code",
   "execution_count": 6,
   "metadata": {},
   "outputs": [
    {
     "data": {
      "text/html": [
       "<div>\n",
       "<style scoped>\n",
       "    .dataframe tbody tr th:only-of-type {\n",
       "        vertical-align: middle;\n",
       "    }\n",
       "\n",
       "    .dataframe tbody tr th {\n",
       "        vertical-align: top;\n",
       "    }\n",
       "\n",
       "    .dataframe thead th {\n",
       "        text-align: right;\n",
       "    }\n",
       "</style>\n",
       "<table border=\"1\" class=\"dataframe\">\n",
       "  <thead>\n",
       "    <tr style=\"text-align: right;\">\n",
       "      <th>dataKey</th>\n",
       "      <th>gender</th>\n",
       "      <th>age</th>\n",
       "      <th>race</th>\n",
       "      <th>ethnicity</th>\n",
       "      <th>PIN</th>\n",
       "    </tr>\n",
       "  </thead>\n",
       "  <tbody>\n",
       "    <tr>\n",
       "      <th>dataValue</th>\n",
       "      <td>Female</td>\n",
       "      <td>2 Years 3 Months</td>\n",
       "      <td>Black Or African American</td>\n",
       "      <td>Not Hispanic Or Latino</td>\n",
       "      <td>A9E5A453C1C3~2020-07-09 13.31.28</td>\n",
       "    </tr>\n",
       "    <tr>\n",
       "      <th>dataValue</th>\n",
       "      <td>Female</td>\n",
       "      <td>0 Years 8 Months</td>\n",
       "      <td>Asian</td>\n",
       "      <td>Not Hispanic Or Latino</td>\n",
       "      <td>22ED80E09134~2020-07-08 14.07.00</td>\n",
       "    </tr>\n",
       "    <tr>\n",
       "      <th>dataValue</th>\n",
       "      <td>Male</td>\n",
       "      <td>1 Year 10 Months</td>\n",
       "      <td>Other</td>\n",
       "      <td>Not Hispanic Or Latino</td>\n",
       "      <td>22ED80E09134~2020-07-08 12.58.17</td>\n",
       "    </tr>\n",
       "    <tr>\n",
       "      <th>dataValue</th>\n",
       "      <td>Female</td>\n",
       "      <td>0 Years 8 Months</td>\n",
       "      <td>American Indian Or Alaskan Native</td>\n",
       "      <td>Not Hispanic Or Latino</td>\n",
       "      <td>A9E5A453C1C3~2020-07-09 16.26.34</td>\n",
       "    </tr>\n",
       "    <tr>\n",
       "      <th>dataValue</th>\n",
       "      <td>Male</td>\n",
       "      <td>1 Year 10 Months</td>\n",
       "      <td>Not Provided</td>\n",
       "      <td>Hispanic Or Latino</td>\n",
       "      <td>A9E5A453C1C3~2020-07-08 16.55.08</td>\n",
       "    </tr>\n",
       "  </tbody>\n",
       "</table>\n",
       "</div>"
      ],
      "text/plain": [
       "dataKey    gender               age                               race  \\\n",
       "dataValue  Female  2 Years 3 Months          Black Or African American   \n",
       "dataValue  Female  0 Years 8 Months                              Asian   \n",
       "dataValue    Male  1 Year 10 Months                              Other   \n",
       "dataValue  Female  0 Years 8 Months  American Indian Or Alaskan Native   \n",
       "dataValue    Male  1 Year 10 Months                       Not Provided   \n",
       "\n",
       "dataKey                 ethnicity                               PIN  \n",
       "dataValue  Not Hispanic Or Latino  A9E5A453C1C3~2020-07-09 13.31.28  \n",
       "dataValue  Not Hispanic Or Latino  22ED80E09134~2020-07-08 14.07.00  \n",
       "dataValue  Not Hispanic Or Latino  22ED80E09134~2020-07-08 12.58.17  \n",
       "dataValue  Not Hispanic Or Latino  A9E5A453C1C3~2020-07-09 16.26.34  \n",
       "dataValue      Hispanic Or Latino  A9E5A453C1C3~2020-07-08 16.55.08  "
      ]
     },
     "execution_count": 6,
     "metadata": {},
     "output_type": "execute_result"
    }
   ],
   "source": [
    "demo= pd.concat(doc)\n",
    "demo.head()"
   ]
  },
  {
   "cell_type": "code",
   "execution_count": 7,
   "metadata": {},
   "outputs": [
    {
     "data": {
      "text/plain": [
       "74"
      ]
     },
     "execution_count": 7,
     "metadata": {},
     "output_type": "execute_result"
    }
   ],
   "source": [
    "demo.PIN.nunique()"
   ]
  },
  {
   "cell_type": "code",
   "execution_count": 8,
   "metadata": {},
   "outputs": [
    {
     "data": {
      "text/plain": [
       "(75, 5)"
      ]
     },
     "execution_count": 8,
     "metadata": {},
     "output_type": "execute_result"
    }
   ],
   "source": [
    "demo.shape"
   ]
  },
  {
   "cell_type": "code",
   "execution_count": 9,
   "metadata": {},
   "outputs": [],
   "source": [
    "demo.to_csv('/home/tsb7592/Downloads/demographics.csv', index=False)"
   ]
  },
  {
   "cell_type": "code",
   "execution_count": 10,
   "metadata": {},
   "outputs": [
    {
     "data": {
      "text/plain": [
       "Male      48\n",
       "Female    27\n",
       "Name: gender, dtype: int64"
      ]
     },
     "execution_count": 10,
     "metadata": {},
     "output_type": "execute_result"
    }
   ],
   "source": [
    "demo.gender.value_counts()"
   ]
  },
  {
   "cell_type": "code",
   "execution_count": 11,
   "metadata": {},
   "outputs": [
    {
     "data": {
      "text/plain": [
       "Not Provided                         31\n",
       "Black Or African American            17\n",
       "Asian                                16\n",
       "Other                                10\n",
       "American Indian Or Alaskan Native     1\n",
       "Name: race, dtype: int64"
      ]
     },
     "execution_count": 11,
     "metadata": {},
     "output_type": "execute_result"
    }
   ],
   "source": [
    "demo.race.value_counts()"
   ]
  },
  {
   "cell_type": "code",
   "execution_count": 12,
   "metadata": {},
   "outputs": [
    {
     "data": {
      "text/plain": [
       "Not Hispanic Or Latino    54\n",
       "Hispanic Or Latino        21\n",
       "Name: ethnicity, dtype: int64"
      ]
     },
     "execution_count": 12,
     "metadata": {},
     "output_type": "execute_result"
    }
   ],
   "source": [
    "demo.ethnicity.value_counts()"
   ]
  },
  {
   "cell_type": "code",
   "execution_count": null,
   "metadata": {},
   "outputs": [],
   "source": []
  }
 ],
 "metadata": {
  "kernelspec": {
   "display_name": "Python 3",
   "language": "python",
   "name": "python3"
  },
  "language_info": {
   "codemirror_mode": {
    "name": "ipython",
    "version": 3
   },
   "file_extension": ".py",
   "mimetype": "text/x-python",
   "name": "python",
   "nbconvert_exporter": "python",
   "pygments_lexer": "ipython3",
   "version": "3.7.1"
  }
 },
 "nbformat": 4,
 "nbformat_minor": 5
}
