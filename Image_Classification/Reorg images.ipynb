{
 "cells": [
  {
   "cell_type": "markdown",
   "metadata": {},
   "source": [
    "# clean excels"
   ]
  },
  {
   "cell_type": "code",
   "execution_count": 2,
   "metadata": {},
   "outputs": [],
   "source": [
    "#Data saved in csv/excel\n",
    "import glob, os\n",
    "import pandas as pd\n",
    "import warnings\n",
    "warnings.filterwarnings('ignore')"
   ]
  },
  {
   "cell_type": "markdown",
   "metadata": {},
   "source": [
    "# Using the handcoded data to re-organzied the images into 3 different folders"
   ]
  },
  {
   "cell_type": "code",
   "execution_count": 4,
   "metadata": {
    "scrolled": false
   },
   "outputs": [
    {
     "name": "stdout",
     "output_type": "stream",
     "text": [
      "0568AE498717_2020-07-08 08.26.14_Handcoding_AB.xls\n",
      "781\n",
      "0568AE498717_2020-07-08 10.37.10_Handcoding_AB.xls\n",
      "847\n",
      "0568AE498717~2020-07-08 11.48.00~000.000000000_Handcoding_SP.xlsx\n",
      "1010\n",
      "0568AE498717~2020-07-08 13.01.32~000.000000000_Handcoding_SP.xlsx\n",
      "1035\n",
      "0568AE498717~2020-07-09 09.30.45~000.000000000_Handcoding_SP.xlsx\n",
      "137\n",
      "0568AE498717~2020-07-09 10.36.38~000.000000000_Handcoding_SP.xlsx\n",
      "835\n",
      "0568AE498717_2020-07-09 11.28.51_Handcoding_AB.xls\n",
      "121\n",
      "0568AE498717_2020-07-09 13.38.20_Handcoding_AB.xls\n",
      "980\n",
      "0568AE498717~2020-07-09 17.10.12~000.000000000_Handcoding_SP.xlsx\n",
      "874\n",
      "7731468A754E_2020-07-08 11.45.08_Handcoding_AB.xls\n",
      "652\n",
      "7731468A754E~2020-07-08 12.13.10~000.000000000_Handcoding_SP.xlsx\n",
      "950\n",
      "7731468A754E~2020-07-08 14.56.48~000.000000000_Handcoding_SP.xlsx\n",
      "781\n",
      "7731468A754E~2020-07-08 16.48.28~000.000000000_Handcoding_SP.xlsx\n",
      "727\n",
      "7731468A754E~2020-07-08 17.56.27~000.000000000_Handcoding_SP.xlsx\n",
      "756\n",
      "7731468A754E_2020-07-09 08.59.17_Handcoding_AB.xls\n",
      "691\n",
      "7731468A754E~2020-07-09 09.47.57~000.000000000_Handcoding_SP.xlsx\n",
      "134\n",
      "7731468A754E_2020-07-09 11.18.17_Handcoding_AB.xls\n",
      "980\n",
      "7731468A754E_2020-07-09 12.10.12_Handcoding_AB.xls\n",
      "893\n",
      "7731468A754E_2020-07-09 13.11.21_Handcoding_AB.xls\n",
      "655\n",
      "7731468A754E~2020-07-09 15.02.24~000.000000000_Handcoding_SP.xlsx\n",
      "669\n",
      "7731468A754E_2020-07-09 15.52.54_Handcoding_AB.xls\n",
      "1068\n",
      "7731468A754E~2020-07-09 17.47.55~000.000000000_Handcoding_SP.xlsx\n",
      "1084\n"
     ]
    }
   ],
   "source": [
    "locations= { 'TL':'1', 'TR':'2', 'away':'0', 'BL':'1', 'BR':'2',  'away':'0', 'Right':'2','Left':'1',\n",
    "       'right':'2', 'Away':'0'}\n",
    "\n",
    "import shutil, os\n",
    "    \n",
    "for folder in glob.glob('/home/tsb7592/Downloads/Atlanta_33orDCD/*/*.xls*')  :\n",
    "    if 'docx' in folder:\n",
    "        pass\n",
    "    elif '1.5s' in folder:\n",
    "        pass\n",
    "    else:\n",
    "        subf =folder.split('\\\\')[1]\n",
    "        print(folder.split(\"\\\\\")[-1])\n",
    "        hc =pd.read_excel(folder)\n",
    "        col = hc.filter(like='Handcoding').columns[0]\n",
    "        #Rename the value under column cohort2\n",
    "        hc[col] = hc[col].map(locations)\n",
    "        hc =hc.loc[hc[col].isin(['1','2','0'])]\n",
    "        hc = hc[hc['cameraImageFilename'].notnull()]\n",
    "        labels = hc.groupby(col)['cameraImageFilename'].apply(list).to_dict()\n",
    "        print(len(hc[['cameraImageFilename']]))\n",
    "        for key in labels:\n",
    "            files = labels[key]\n",
    "            for f in files:\n",
    "                if not f:\n",
    "                    continue\n",
    "                else:\n",
    "                    f ='/home/tsb7592/Downloads/Atlanta_33orDCD/'+subf +'/' +f\n",
    "                    shutil.copy(f, '/projects/p31410/gaze/'+str(key))\n",
    "        "
   ]
  },
  {
   "cell_type": "code",
   "execution_count": 4,
   "metadata": {
    "scrolled": false
   },
   "outputs": [
    {
     "name": "stdout",
     "output_type": "stream",
     "text": [
      "0568AE498717_2020-07-08 08.26.14_Handcoding_AB.xls\n",
      "781\n",
      "0568AE498717_2020-07-08 10.37.10_Handcoding_AB.xls\n",
      "847\n",
      "0568AE498717~2020-07-08 11.48.00~000.000000000_Handcoding_SP.xlsx\n",
      "1010\n",
      "0568AE498717~2020-07-08 13.01.32~000.000000000_Handcoding_SP.xlsx\n",
      "1035\n",
      "0568AE498717~2020-07-09 09.30.45~000.000000000_Handcoding_SP.xlsx\n",
      "137\n",
      "0568AE498717~2020-07-09 10.36.38~000.000000000_Handcoding_SP.xlsx\n",
      "835\n",
      "0568AE498717_2020-07-09 11.28.51_Handcoding_AB.xls\n",
      "121\n",
      "0568AE498717_2020-07-09 13.38.20_Handcoding_AB.xls\n",
      "980\n",
      "0568AE498717~2020-07-09 17.10.12~000.000000000_Handcoding_SP.xlsx\n",
      "874\n",
      "7731468A754E_2020-07-08 11.45.08_Handcoding_AB.xls\n",
      "652\n",
      "7731468A754E~2020-07-08 12.13.10~000.000000000_Handcoding_SP.xlsx\n",
      "950\n",
      "7731468A754E~2020-07-08 14.56.48~000.000000000_Handcoding_SP.xlsx\n",
      "781\n",
      "7731468A754E~2020-07-08 16.48.28~000.000000000_Handcoding_SP.xlsx\n",
      "727\n",
      "7731468A754E~2020-07-08 17.56.27~000.000000000_Handcoding_SP.xlsx\n",
      "756\n",
      "7731468A754E_2020-07-09 08.59.17_Handcoding_AB.xls\n",
      "691\n",
      "7731468A754E~2020-07-09 09.47.57~000.000000000_Handcoding_SP.xlsx\n",
      "134\n",
      "7731468A754E_2020-07-09 11.18.17_Handcoding_AB.xls\n",
      "980\n",
      "7731468A754E_2020-07-09 12.10.12_Handcoding_AB.xls\n",
      "893\n",
      "7731468A754E_2020-07-09 13.11.21_Handcoding_AB.xls\n",
      "655\n",
      "7731468A754E~2020-07-09 15.02.24~000.000000000_Handcoding_SP.xlsx\n",
      "669\n",
      "7731468A754E_2020-07-09 15.52.54_Handcoding_AB.xls\n",
      "1068\n",
      "7731468A754E~2020-07-09 17.47.55~000.000000000_Handcoding_SP.xlsx\n",
      "1084\n"
     ]
    }
   ],
   "source": [
    "for folder in glob.glob('/home/tsb7592/Downloads/Baltimore_OB/*/*.xls*')  :\n",
    "    if 'docx' in folder:\n",
    "        pass\n",
    "    elif '1.5s' in folder:\n",
    "        pass\n",
    "    else:\n",
    "        subf =folder.split('\\\\')[1]\n",
    "        print(folder.split(\"\\\\\")[-1])\n",
    "        hc =pd.read_excel(folder)\n",
    "        col = hc.filter(like='Handcoding').columns[0]\n",
    "        #Rename the value under column cohort2\n",
    "        hc[col] = hc[col].map(locations)\n",
    "        hc =hc.loc[hc[col].isin(['1','2','0'])]\n",
    "        hc = hc[hc['cameraImageFilename'].notnull()]\n",
    "        labels = hc.groupby(col)['cameraImageFilename'].apply(list).to_dict()\n",
    "        print(len(hc[['cameraImageFilename']]))\n",
    "        for key in labels:\n",
    "            files = labels[key]\n",
    "            for f in files:\n",
    "                if not f:\n",
    "                    continue\n",
    "                else:\n",
    "                    f ='/home/tsb7592/Downloads/Baltimore_OB/'+subf +'/' +f\n",
    "                    shutil.copy(f, '/projects/p31410/gaze/'+str(key))\n",
    "        "
   ]
  },
  {
   "cell_type": "markdown",
   "metadata": {},
   "source": [
    "https://github.com/cfotache/pytorch_imageclassifier/blob/master/PyTorch_Image_Training.ipynb"
   ]
  },
  {
   "cell_type": "code",
   "execution_count": null,
   "metadata": {},
   "outputs": [],
   "source": []
  }
 ],
 "metadata": {
  "kernelspec": {
   "display_name": "Python 3",
   "language": "python",
   "name": "python3"
  },
  "language_info": {
   "codemirror_mode": {
    "name": "ipython",
    "version": 3
   },
   "file_extension": ".py",
   "mimetype": "text/x-python",
   "name": "python",
   "nbconvert_exporter": "python",
   "pygments_lexer": "ipython3",
   "version": "3.7.1"
  }
 },
 "nbformat": 4,
 "nbformat_minor": 5
}
