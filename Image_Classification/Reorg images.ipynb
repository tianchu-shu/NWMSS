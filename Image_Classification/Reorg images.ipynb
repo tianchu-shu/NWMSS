{
 "cells": [
  {
   "cell_type": "code",
   "execution_count": 5,
   "metadata": {},
   "outputs": [],
   "source": [
    "#Data saved in csv/excel\n",
    "import glob, os\n",
    "import pandas as pd\n",
    "import warnings\n",
    "warnings.filterwarnings('ignore')"
   ]
  },
  {
   "cell_type": "code",
   "execution_count": 39,
   "metadata": {},
   "outputs": [],
   "source": [
    "import os\n",
    "import glob\n",
    "\n",
    "def createFolder(directory):\n",
    "\n",
    "    try:\n",
    "        if not os.path.exists(directory):\n",
    "            os.makedirs(directory)\n",
    "    except OSError:\n",
    "        print ('Error: Creating directory. ' +  directory)\n",
    "        "
   ]
  },
  {
   "cell_type": "markdown",
   "metadata": {},
   "source": [
    "# Using the handcoded data to re-organzied the images into 3 different folders"
   ]
  },
  {
   "cell_type": "code",
   "execution_count": 29,
   "metadata": {
    "scrolled": false
   },
   "outputs": [],
   "source": [
    "locations= { 'TL':'1', 'TR':'2', 'away':'0', 'BL':'1', 'BR':'2',  'away':'0', 'Right':'2','Left':'1',\n",
    "       'right':'2', 'Away':'0'}\n",
    "\n",
    "\n",
    "import shutil, os\n",
    "\n",
    "def train_test():\n",
    "    doc =[]\n",
    "    home = '/projects/p31410/Gaze_Detection_Data/All/*/*.xls*' \n",
    "    cfolder =  '/projects/p31410/Gaze_Detection_Data/Allcrop/'\n",
    "\n",
    "    tally = 1  \n",
    "    for folder in glob.glob(home):\n",
    "        if 'docx' in folder:\n",
    "            pass\n",
    "        elif 'SKJ' in folder:\n",
    "            pass\n",
    "        elif '_1.5s' in folder:\n",
    "            pass\n",
    "        elif 'and' in folder:\n",
    "            pass\n",
    "\n",
    "            subf =folder.split('/')[-2]\n",
    "            print(folder.split(\"/\")[-1])\n",
    "            hc =pd.read_excel(folder)\n",
    "            data =hc.iloc[5:9,3:5]\n",
    "            df2 = {'dataKey': 'PIN', 'dataValue': subf}\n",
    "            df1 = data.append(df2, ignore_index = True)\n",
    "            df1=df1.transpose()\n",
    "            df1.columns = df1.iloc[0]\n",
    "            doc.append(df1.iloc[1: , :])  \n",
    "             \n",
    "            col = hc.filter(like='coding').columns[0]\n",
    "            #Rename the value under column cohort2\n",
    "            hc[col] = hc[col].map(locations)\n",
    "            hc =hc.loc[hc[col].isin(['1','2','0'])]\n",
    "            hc = hc[hc['cameraImageFilename'].notnull()]\n",
    "            labels = hc.groupby(col)['cameraImageFilename'].apply(list).to_dict()\n",
    "            print(tally, len(hc[['cameraImageFilename']]))\n",
    "            for key in labels:\n",
    "                files = labels[key]\n",
    "                for f in files:\n",
    "                    if not f:\n",
    "                        continue\n",
    "                    else:\n",
    "                        try:\n",
    "                            f =cfolder +subf +'/' +f\n",
    "                            if tally%4 == 0:\n",
    "                                shutil.copy(f, '/projects/p31410/Gaze_Pytorch/Test/'+str(key))\n",
    "                                if 'Female' in df1.gender.values:\n",
    "                                    shutil.copy(f, '/projects/p31410/Gaze_Pytorch/Test_female/'+str(key))\n",
    "                                else:\n",
    "                                    shutil.copy(f, '/projects/p31410/Gaze_Pytorch/Test_male/'+str(key))\n",
    "                                    \n",
    "                            else:\n",
    "                                shutil.copy(f, '/projects/p31410/Gaze_Pytorch/Train/'+str(key))\n",
    "                        except:\n",
    "                            FileNotFoundError      \n",
    "            tally+=1\n",
    "    return doc"
   ]
  },
  {
   "cell_type": "code",
   "execution_count": 30,
   "metadata": {},
   "outputs": [
    {
     "name": "stdout",
     "output_type": "stream",
     "text": [
      "DCD78139C75B~2020-07-09 12.08.25~000.000000000_Handcoding_SP.xlsx\n",
      "1 677\n",
      "33D6A217FDF9~2020-07-09 10.28.31~000.000000000_Handcoding_SP.xlsx\n",
      "2 593\n",
      "DCD78139C75B_2020-07-08 08.57.13_Handcoding_AB.xls\n",
      "3 1065\n",
      "A9E5A453C1C3_2020-07-09 13.31.28_Handcoding_AB.xls\n",
      "4 691\n",
      "0568AE498717~2020-07-09 10.36.38~000.000000000_Handcoding_SP.xlsx\n",
      "5 835\n",
      "33D6A217FDF9_2020-07-09 14.25.07_Handcoding_AB.xls\n",
      "6 934\n",
      "0568AE498717~2020-07-08 11.48.00~000.000000000_Handcoding_SP.xlsx\n",
      "7 1010\n",
      "33D6A217FDF9_2020-07-09 16.10.29_Handcoding_AB.xls\n",
      "8 949\n",
      "22ED80E09134_2020-07-08 14.07.00_Handcoding_AB.xls\n",
      "9 121\n",
      "0568AE498717_2020-07-08 10.37.10_Handcoding_AB.xls\n",
      "10 847\n",
      "0BD1C1419FE0_2020-07-08 12.59.30_Handcoding_AB.xls\n",
      "11 236\n",
      "22ED80E09134~2020-07-08 12.58.17~000.000000000_Handcoding_SP.xlsx\n",
      "12 134\n",
      "0BD1C1419FE0_2020-07-08 13.06.16_000.000000000_Handcoding_SP.xlsx\n",
      "13 1039\n",
      "DCD78139C75B~2020-07-08 11.21.43~000.000000000_Handcoding_SP.xlsx\n",
      "14 1103\n",
      "33D6A217FDF9_2020-07-09 13.58.54_000.000000000_Handcoding_SPandAB.xlsx\n",
      "15 824\n",
      "A9E5A453C1C3_2020-07-09 16.26.34_Handcoding_AB.xlsx\n",
      "16 916\n",
      "33D6A217FDF9_2020-07-09 13.17.49_000.000000000_Handcoding_SPandAB.xlsx\n",
      "17 855\n",
      "DCD78139C75B~2020-07-08 10.09.31~000.000000000_Handcoding_SP.xlsx\n",
      "18 766\n",
      "0568AE498717_2020-07-08 08.26.14_Handcoding_AB.xls\n",
      "19 781\n",
      "0BD1C1419FE0_2020-07-08 16.43.21_000.000000000_Handcoding_SP.xlsx\n",
      "20 1003\n",
      "DCD78139C75B~2020-07-09 09.30.43~000.000000000_Handcoding_SP.xlsx\n",
      "21 994\n",
      "0568AE498717~2020-07-09 09.30.45~000.000000000_Handcoding_SP.xlsx\n",
      "22 137\n",
      "0BD1C1419FE0~2020-07-08 10.37.23~000.000000000_Handcoding_SP.xlsx\n",
      "23 1143\n",
      "A9E5A453C1C3_2020-07-08 16.55.08_Handcoding_AB.xls\n",
      "24 120\n",
      "A9E5A453C1C3_2020-07-09 10.34.48_Handcoding_AB.xls\n",
      "25 577\n",
      "A9E5A453C1C3_2020-07-09 15.05.18_Handcoding_AB.xlsx\n",
      "26 787\n",
      "A9E5A453C1C3_2020-07-09 16.56.41_000.000000000_Handcoding_SP.xlsx\n",
      "27 933\n",
      "A9E5A453C1C3_2020-07-08 10.29.25_Handcoding_AB.xls\n",
      "28 821\n",
      "0568AE498717_2020-07-09 11.28.51_Handcoding_AB.xls\n",
      "29 121\n",
      "7731468A754E_2020-07-09 15.52.54_Handcoding_AB.xls\n",
      "30 1068\n",
      "0BD1C1419FE0~2020-07-08 10.27.02~000.000000000_Handcoding_SP.xlsx\n",
      "31 727\n",
      "DCD78139C75B_2020-07-09 17.54.02_Handcoding-AB.xls\n",
      "32 724\n",
      "0568AE498717~2020-07-08 13.01.32~000.000000000_Handcoding_SP.xlsx\n",
      "33 1035\n",
      "33D6A217FDF9~2020-07-09 12.39.23~000.000000000_Handcoding_SP.xlsx\n",
      "34 1037\n",
      "33D6A217FDF9_2020-07-09 12.06.54_000.000000000_Handcoding_SPandAB.xlsx\n",
      "35 955\n",
      "DCD78139C75B~2020-07-09 13.05.31~000.000000000_Handcoding_SP.xlsx\n",
      "36 1105\n",
      "DCD78139C75B~2020-07-09 14.28.16~000.000000000_Handcoding_SP.xlsx\n",
      "37 728\n",
      "7731468A754E~2020-07-09 09.47.57~000.000000000_Handcoding_SP.xlsx\n",
      "38 134\n",
      "7731468A754E~2020-07-08 17.56.27~000.000000000_Handcoding_SP.xlsx\n",
      "39 756\n",
      "22ED80E09134_2020-07-08 14.18.46_Handcoding_AB.xls\n",
      "40 788\n",
      "A9E5A453C1C3_2020-07-08 17.45.10_Handcoding_AB.xls\n",
      "41 981\n",
      "0568AE498717~2020-07-09 17.10.12~000.000000000_Handcoding_SP.xlsx\n",
      "42 874\n",
      "0BD1C1419FE0~2020-07-08 12.13.12~000.000000000_Handcoding_SP.xlsx\n",
      "43 1210\n",
      "A9E5A453C1C3_2020-07-08 18.46.15_000.000000000_Handcoding_AB.xls\n",
      "44 706\n",
      "33D6A217FDF9_2020-07-08 11.56.00_Handcoding_AB.xls\n",
      "45 422\n",
      "7731468A754E~2020-07-08 16.48.28~000.000000000_Handcoding_SP.xlsx\n",
      "46 727\n",
      "7731468A754E_2020-07-09 08.59.17_Handcoding_AB.xls\n",
      "47 691\n",
      "A9E5A453C1C3_2020-07-08 09.09.29_Handcoding_AB.xls\n",
      "48 906\n",
      "A9E5A453C1C3_2020-07-09 12.32.55_Handcoding_AB.xlsx\n",
      "49 871\n",
      "A9E5A453C1C3_2020-07-08 18.36.44_Handcoding_AB.xls\n",
      "50 971\n",
      "A9E5A453C1C3_2020-07-09 12.05.52_000.000000000_Handcoding_SP.xlsx\n",
      "51 839\n",
      "0BD1C1419FE0~2020-07-08 10.09.47~000.000000000_Handcoding_SP.xlsm\n",
      "52 888\n",
      "33D6A217FDF9~2020-07-09 09.15.39~000.000000000_Handcoding_SP.xlsx\n",
      "53 626\n",
      "0BD1C1419FE0~2020-07-08 09.22.38~000.000000000_Handcoding_SP.xlsx\n",
      "54 873\n",
      "0568AE498717_2020-07-09 13.38.20_Handcoding_AB.xls\n",
      "55 980\n",
      "DCD78139C75B~2020-07-08 12.57.20~000.000000000_Handcoding_SP.xlsx\n",
      "56 934\n",
      "7731468A754E_2020-07-09 13.11.21_Handcoding_AB.xls\n",
      "57 655\n",
      "7731468A754E~2020-07-08 14.56.48~000.000000000_Handcoding_SP.xlsx\n",
      "58 781\n",
      "7731468A754E~2020-07-09 17.47.55~000.000000000_Handcoding_SP.xlsx\n",
      "59 1084\n",
      "A9E5A453C1C3_2020-07-09 10.23.16_Handcoding_AB.xls\n",
      "60 626\n",
      "33D6A217FDF9~2020-07-08 16.12.49~000.000000000_Handcoding_SP_AB.xlsx\n",
      "61 880\n",
      "7731468A754E_2020-07-09 12.10.12_Handcoding_AB.xls\n",
      "62 893\n",
      "DCD78139C75B~2020-07-09 14.52.38~000.000000000_Handcoding_SP.xlsx\n",
      "63 869\n",
      "DCD78139C75B~2020-07-08 09.23.51~000.000000000_Handcoding_SP.xlsm\n",
      "64 881\n",
      "7731468A754E_2020-07-08 11.45.08_Handcoding_AB.xls\n",
      "65 652\n",
      "7731468A754E~2020-07-08 12.13.10~000.000000000_Handcoding_SP.xlsx\n",
      "66 950\n",
      "DCD78139C75B_2020-07-08 15.45.37_000.000000000_Handcoding_SP.xlsx\n",
      "67 871\n",
      "22ED80E09134_2020-07-08 12.24.16_Handcoding_AB.xls\n",
      "68 688\n",
      "A9E5A453C1C3_2020-07-09 17.15.56_Handcoding_AB.xlsx\n",
      "69 824\n",
      "7731468A754E_2020-07-09 11.18.17_Handcoding_AB.xls\n",
      "70 980\n",
      "A9E5A453C1C3_2020-07-09 11.05.28_Handcoding_AB.xls\n",
      "71 1019\n",
      "22ED80E09134_2020-07-08 14.28.57_Handcoding_AB.xls\n",
      "72 785\n",
      "7731468A754E~2020-07-09 15.02.24~000.000000000_Handcoding_SP.xlsx\n",
      "73 669\n",
      "33D6A217FDF9_2020-07-08 14.09.48_Handcoding_AB.xls\n",
      "74 801\n",
      "33D6A217FDF9_2020-07-08 10.21.17_Handcoding_AB.xls\n",
      "75 684\n"
     ]
    }
   ],
   "source": [
    "doc=train_test()"
   ]
  },
  {
   "cell_type": "code",
   "execution_count": 32,
   "metadata": {},
   "outputs": [
    {
     "data": {
      "text/html": [
       "<div>\n",
       "<style scoped>\n",
       "    .dataframe tbody tr th:only-of-type {\n",
       "        vertical-align: middle;\n",
       "    }\n",
       "\n",
       "    .dataframe tbody tr th {\n",
       "        vertical-align: top;\n",
       "    }\n",
       "\n",
       "    .dataframe thead th {\n",
       "        text-align: right;\n",
       "    }\n",
       "</style>\n",
       "<table border=\"1\" class=\"dataframe\">\n",
       "  <thead>\n",
       "    <tr style=\"text-align: right;\">\n",
       "      <th>dataKey</th>\n",
       "      <th>gender</th>\n",
       "      <th>age</th>\n",
       "      <th>race</th>\n",
       "      <th>ethnicity</th>\n",
       "      <th>PIN</th>\n",
       "    </tr>\n",
       "  </thead>\n",
       "  <tbody>\n",
       "    <tr>\n",
       "      <th>dataValue</th>\n",
       "      <td>Female</td>\n",
       "      <td>0 Years 6 Months</td>\n",
       "      <td>Asian</td>\n",
       "      <td>Not Hispanic Or Latino</td>\n",
       "      <td>DCD78139C75B~2020-07-09 12.08.25</td>\n",
       "    </tr>\n",
       "    <tr>\n",
       "      <th>dataValue</th>\n",
       "      <td>Female</td>\n",
       "      <td>1 Year 9 Months</td>\n",
       "      <td>Black Or African American</td>\n",
       "      <td>Not Hispanic Or Latino</td>\n",
       "      <td>33D6A217FDF9~2020-07-09 10.28.31</td>\n",
       "    </tr>\n",
       "    <tr>\n",
       "      <th>dataValue</th>\n",
       "      <td>Female</td>\n",
       "      <td>0 Years 8 Months</td>\n",
       "      <td>Black Or African American</td>\n",
       "      <td>Not Hispanic Or Latino</td>\n",
       "      <td>DCD78139C75B~2020-07-08 08.57.13</td>\n",
       "    </tr>\n",
       "    <tr>\n",
       "      <th>dataValue</th>\n",
       "      <td>Female</td>\n",
       "      <td>2 Years 3 Months</td>\n",
       "      <td>Black Or African American</td>\n",
       "      <td>Not Hispanic Or Latino</td>\n",
       "      <td>A9E5A453C1C3~2020-07-09 13.31.28</td>\n",
       "    </tr>\n",
       "    <tr>\n",
       "      <th>dataValue</th>\n",
       "      <td>Male</td>\n",
       "      <td>2 Years 5 Months</td>\n",
       "      <td>Not Provided</td>\n",
       "      <td>Not Hispanic Or Latino</td>\n",
       "      <td>0568AE498717~2020-07-09 10.36.38</td>\n",
       "    </tr>\n",
       "  </tbody>\n",
       "</table>\n",
       "</div>"
      ],
      "text/plain": [
       "dataKey    gender               age                       race  \\\n",
       "dataValue  Female  0 Years 6 Months                      Asian   \n",
       "dataValue  Female   1 Year 9 Months  Black Or African American   \n",
       "dataValue  Female  0 Years 8 Months  Black Or African American   \n",
       "dataValue  Female  2 Years 3 Months  Black Or African American   \n",
       "dataValue    Male  2 Years 5 Months               Not Provided   \n",
       "\n",
       "dataKey                 ethnicity                               PIN  \n",
       "dataValue  Not Hispanic Or Latino  DCD78139C75B~2020-07-09 12.08.25  \n",
       "dataValue  Not Hispanic Or Latino  33D6A217FDF9~2020-07-09 10.28.31  \n",
       "dataValue  Not Hispanic Or Latino  DCD78139C75B~2020-07-08 08.57.13  \n",
       "dataValue  Not Hispanic Or Latino  A9E5A453C1C3~2020-07-09 13.31.28  \n",
       "dataValue  Not Hispanic Or Latino  0568AE498717~2020-07-09 10.36.38  "
      ]
     },
     "execution_count": 32,
     "metadata": {},
     "output_type": "execute_result"
    }
   ],
   "source": [
    "demo= pd.concat(doc)\n",
    "demo.head()"
   ]
  },
  {
   "cell_type": "code",
   "execution_count": 33,
   "metadata": {},
   "outputs": [
    {
     "data": {
      "text/plain": [
       "74"
      ]
     },
     "execution_count": 33,
     "metadata": {},
     "output_type": "execute_result"
    }
   ],
   "source": [
    "demo.PIN.nunique()"
   ]
  },
  {
   "cell_type": "code",
   "execution_count": 34,
   "metadata": {},
   "outputs": [
    {
     "data": {
      "text/plain": [
       "(75, 5)"
      ]
     },
     "execution_count": 34,
     "metadata": {},
     "output_type": "execute_result"
    }
   ],
   "source": [
    "demo.shape"
   ]
  },
  {
   "cell_type": "code",
   "execution_count": 40,
   "metadata": {},
   "outputs": [],
   "source": [
    "demo.to_csv('/home/tsb7592/Downloads/demographics.csv', index=False)"
   ]
  },
  {
   "cell_type": "code",
   "execution_count": 35,
   "metadata": {},
   "outputs": [
    {
     "data": {
      "text/plain": [
       "Male      48\n",
       "Female    27\n",
       "Name: gender, dtype: int64"
      ]
     },
     "execution_count": 35,
     "metadata": {},
     "output_type": "execute_result"
    }
   ],
   "source": [
    "demo.gender.value_counts()"
   ]
  },
  {
   "cell_type": "code",
   "execution_count": 36,
   "metadata": {},
   "outputs": [
    {
     "data": {
      "text/plain": [
       "Not Provided                         31\n",
       "Black Or African American            17\n",
       "Asian                                16\n",
       "Other                                10\n",
       "American Indian Or Alaskan Native     1\n",
       "Name: race, dtype: int64"
      ]
     },
     "execution_count": 36,
     "metadata": {},
     "output_type": "execute_result"
    }
   ],
   "source": [
    "demo.race.value_counts()"
   ]
  },
  {
   "cell_type": "code",
   "execution_count": 37,
   "metadata": {},
   "outputs": [
    {
     "data": {
      "text/plain": [
       "Not Hispanic Or Latino    54\n",
       "Hispanic Or Latino        21\n",
       "Name: ethnicity, dtype: int64"
      ]
     },
     "execution_count": 37,
     "metadata": {},
     "output_type": "execute_result"
    }
   ],
   "source": [
    "demo.ethnicity.value_counts()"
   ]
  },
  {
   "cell_type": "code",
   "execution_count": 38,
   "metadata": {},
   "outputs": [
    {
     "data": {
      "text/plain": [
       "age\n",
       "0 Years 10 Months     3\n",
       "0 Years 5 Months     10\n",
       "0 Years 6 Months      7\n",
       "0 Years 7 Months      2\n",
       "0 Years 8 Months      4\n",
       "0 Years 9 Months      1\n",
       "1 Year 0 Months       4\n",
       "1 Year 10 Months      3\n",
       "1 Year 11 Months      5\n",
       "1 Year 2 Months       1\n",
       "1 Year 3 Months       6\n",
       "1 Year 4 Months       3\n",
       "1 Year 5 Months       1\n",
       "1 Year 7 Months       1\n",
       "1 Year 8 Months       3\n",
       "1 Year 9 Months       1\n",
       "2 Years 0 Months      2\n",
       "2 Years 1 Month       1\n",
       "2 Years 10 Months     2\n",
       "2 Years 11 Months     1\n",
       "2 Years 2 Months      3\n",
       "2 Years 3 Months      2\n",
       "2 Years 5 Months      2\n",
       "2 Years 6 Months      2\n",
       "2 Years 8 Months      2\n",
       "2 Years 9 Months      1\n",
       "3 Years 0 Months      2\n",
       "Name: race, dtype: int64"
      ]
     },
     "execution_count": 38,
     "metadata": {},
     "output_type": "execute_result"
    }
   ],
   "source": [
    "demo.groupby('age')['race'].count()"
   ]
  },
  {
   "cell_type": "code",
   "execution_count": null,
   "metadata": {},
   "outputs": [],
   "source": []
  }
 ],
 "metadata": {
  "kernelspec": {
   "display_name": "Python 3",
   "language": "python",
   "name": "python3"
  },
  "language_info": {
   "codemirror_mode": {
    "name": "ipython",
    "version": 3
   },
   "file_extension": ".py",
   "mimetype": "text/x-python",
   "name": "python",
   "nbconvert_exporter": "python",
   "pygments_lexer": "ipython3",
   "version": "3.7.1"
  }
 },
 "nbformat": 4,
 "nbformat_minor": 5
}
