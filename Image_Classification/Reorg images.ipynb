{
 "cells": [
  {
   "cell_type": "code",
   "execution_count": 1,
   "metadata": {},
   "outputs": [],
   "source": [
    "#Data saved in csv/excel\n",
    "import glob, os\n",
    "import pandas as pd\n",
    "import warnings\n",
    "warnings.filterwarnings('ignore')"
   ]
  },
  {
   "cell_type": "markdown",
   "metadata": {},
   "source": [
    "# Using the handcoded data to re-organzied the images into 3 different folders"
   ]
  },
  {
   "cell_type": "code",
   "execution_count": 8,
   "metadata": {},
   "outputs": [
    {
     "data": {
      "text/plain": [
       "'Hancoding_AB'"
      ]
     },
     "execution_count": 8,
     "metadata": {},
     "output_type": "execute_result"
    }
   ],
   "source": [
    "df.filter(like='coding').columns[0]"
   ]
  },
  {
   "cell_type": "code",
   "execution_count": 10,
   "metadata": {
    "scrolled": false
   },
   "outputs": [
    {
     "name": "stdout",
     "output_type": "stream",
     "text": [
      "DCD78139C75B~2020-07-09 12.08.25\n",
      "DCD78139C75B~2020-07-09 12.08.25~000.000000000_Handcoding_SP.xlsx\n",
      "677\n",
      "33D6A217FDF9~2020-07-09 10.28.31\n",
      "33D6A217FDF9~2020-07-09 10.28.31~000.000000000_Handcoding_SP.xlsx\n",
      "593\n",
      "DCD78139C75B~2020-07-08 08.57.13\n",
      "DCD78139C75B_2020-07-08 08.57.13_Handcoding_AB.xls\n",
      "1065\n",
      "33D6A217FDF9~2020-07-09 14.25.07\n",
      "33D6A217FDF9_2020-07-09 14.25.07_Handcoding_AB.xls\n",
      "934\n",
      "33D6A217FDF9~2020-07-09 16.10.29\n",
      "33D6A217FDF9_2020-07-09 16.10.29_Handcoding_AB.xls\n",
      "949\n",
      "DCD78139C75B~2020-07-08 11.21.43\n",
      "DCD78139C75B~2020-07-08 11.21.43~000.000000000_Handcoding_SP.xlsx\n",
      "1103\n",
      "33D6A217FDF9~2020-07-09 13.58.54\n",
      "33D6A217FDF9~2020-07-09 13.58.54~000.000000000_Handcoding_SP.xlsx\n",
      "137\n",
      "33D6A217FDF9~2020-07-09 13.58.54\n",
      "33D6A217FDF9_2020-07-09 13.58.54_000.000000000_Handcoding_SPandAB.xlsx\n",
      "824\n",
      "33D6A217FDF9~2020-07-09 13.17.49\n",
      "33D6A217FDF9~2020-07-09 13.17.49~000.000000000_Handcoding_SP.xlsx\n",
      "164\n",
      "33D6A217FDF9~2020-07-09 13.17.49\n",
      "33D6A217FDF9_2020-07-09 13.17.49_000.000000000_Handcoding_SPandAB.xlsx\n",
      "855\n",
      "DCD78139C75B~2020-07-08 10.09.31\n",
      "DCD78139C75B~2020-07-08 10.09.31~000.000000000_Handcoding_SP.xlsx\n",
      "766\n",
      "DCD78139C75B~2020-07-09 09.30.43\n",
      "DCD78139C75B~2020-07-09 09.30.43~000.000000000_Handcoding_SP.xlsx\n",
      "994\n",
      "DCD78139C75B~2020-07-09 17.54.02\n",
      "DCD78139C75B_2020-07-09 17.54.02_Handcoding-AB.xls\n",
      "724\n",
      "33D6A217FDF9~2020-07-09 12.39.23\n",
      "33D6A217FDF9~2020-07-09 12.39.23~000.000000000_Handcoding_SP.xlsx\n",
      "1037\n",
      "33D6A217FDF9~2020-07-09 12.06.54\n",
      "33D6A217FDF9_2020-07-09 12.06.54_000.000000000_Handcoding_SPandAB.xlsx\n",
      "955\n",
      "33D6A217FDF9~2020-07-09 12.06.54\n",
      "33D6A217FDF9~2020-07-09 12.06.54~000.000000000_Handcoding_SP.xlsx\n",
      "136\n",
      "DCD78139C75B~2020-07-09 13.05.31\n",
      "DCD78139C75B~2020-07-09 13.05.31~000.000000000_Handcoding_SP.xlsx\n",
      "1105\n",
      "DCD78139C75B~2020-07-09 14.28.16\n",
      "DCD78139C75B~2020-07-09 14.28.16~000.000000000_Handcoding_SP.xlsx\n",
      "728\n",
      "33D6A217FDF9~2020-07-08 11.56.00\n",
      "33D6A217FDF9_2020-07-08 11.56.00_Handcoding_AB.xls\n",
      "422\n",
      "33D6A217FDF9~2020-07-08 11.56.00\n",
      "33D6A217FDF9_2020-07-08 11.56.00_Handcoding_AB+SKJ.xlsx\n",
      "422\n",
      "33D6A217FDF9~2020-07-09 09.15.39\n",
      "33D6A217FDF9~2020-07-09 09.15.39~000.000000000_Handcoding_SP.xlsx\n",
      "626\n",
      "DCD78139C75B~2020-07-08 12.57.20\n",
      "DCD78139C75B~2020-07-08 12.57.20~000.000000000_Handcoding_SP.xlsx\n",
      "934\n",
      "33D6A217FDF9~2020-07-08 16.12.49\n",
      "33D6A217FDF9~2020-07-08 16.12.49~000.000000000_Handcoding_SP_AB.xlsx\n",
      "880\n",
      "33D6A217FDF9~2020-07-08 16.12.49\n",
      "33D6A217FDF9~2020-07-08 16.12.49~000.000000000_Handcoding_SP.xlsx\n",
      "135\n",
      "DCD78139C75B~2020-07-09 14.52.38\n",
      "DCD78139C75B~2020-07-09 14.52.38~000.000000000_Handcoding_SP.xlsx\n",
      "869\n",
      "DCD78139C75B~2020-07-08 09.23.51\n",
      "DCD78139C75B~2020-07-08 09.23.51~000.000000000_Handcoding_SP.xlsm\n",
      "881\n",
      "DCD78139C75B~2020-07-08 15.45.37\n",
      "DCD78139C75B~2020-07-08 15.45.37_000.000000000_Handcoding_SP.xlsx\n",
      "734\n",
      "DCD78139C75B~2020-07-08 15.45.37\n",
      "DCD78139C75B_2020-07-08 15.45.37_000.000000000_Handcoding_SP.xlsx\n",
      "871\n",
      "33D6A217FDF9~2020-07-08 14.09.48\n",
      "33D6A217FDF9_2020-07-08 14.09.48_Handcoding_AB.xls\n",
      "801\n",
      "33D6A217FDF9~2020-07-08 10.21.17\n",
      "33D6A217FDF9_2020-07-08 10.21.17_Handcoding_AB.xls\n",
      "684\n"
     ]
    }
   ],
   "source": [
    "locations= { 'TL':'1', 'TR':'2', 'away':'0', 'BL':'1', 'BR':'2',  'away':'0', 'Right':'2','Left':'1',\n",
    "       'right':'2', 'Away':'0'}\n",
    "\n",
    "import shutil, os\n",
    "    \n",
    "for folder in glob.glob('/home/tsb7592/Downloads/Atlanta_33orDCD/*/*.xls*')  :\n",
    "    if 'docx' in folder:\n",
    "        pass\n",
    "    elif '1.5s' in folder:\n",
    "        pass\n",
    "    elif 'and' in folder:\n",
    "        pass\n",
    "\n",
    "        \n",
    "        subf =folder.split('/')[-2]\n",
    "        print(subf)\n",
    "        print(folder.split(\"/\")[-1])\n",
    "        hc =pd.read_excel(folder)\n",
    "        col = hc.filter(like='coding').columns[0]\n",
    "        #Rename the value under column cohort2\n",
    "        hc[col] = hc[col].map(locations)\n",
    "        hc =hc.loc[hc[col].isin(['1','2','0'])]\n",
    "        hc = hc[hc['cameraImageFilename'].notnull()]\n",
    "        labels = hc.groupby(col)['cameraImageFilename'].apply(list).to_dict()\n",
    "        print(len(hc[['cameraImageFilename']]))\n",
    "        for key in labels:\n",
    "            files = labels[key]\n",
    "            for f in files:\n",
    "                if not f:\n",
    "                    continue\n",
    "                else:\n",
    "                    f ='/home/tsb7592/Downloads/Atlanta_33orDCD/'+subf +'/' +f\n",
    "                    shutil.copy(f, '/projects/p31410/gaze/'+str(key))\n",
    "        "
   ]
  },
  {
   "cell_type": "code",
   "execution_count": 11,
   "metadata": {
    "scrolled": false
   },
   "outputs": [
    {
     "name": "stdout",
     "output_type": "stream",
     "text": [
      "0BD1C1419FE0~2020-07-08 12.59.30\n",
      "0BD1C1419FE0_2020-07-08 12.59.30_Handcoding_AB.xls\n",
      "236\n",
      "0BD1C1419FE0~2020-07-08 12.59.30\n",
      "0BD1C1419FE0_2020-07-08 12.59.30_000.000000000_Handcoding_SP_SKJ_AB.xlsx\n",
      "150\n",
      "0BD1C1419FE0~2020-07-08 12.59.30\n",
      "0BD1C1419FE0~2020-07-08 12.59.30~000.000000000_Handcoding_SP.xlsx\n",
      "150\n",
      "0BD1C1419FE0~2020-07-08 13.06.16\n",
      "0BD1C1419FE0~2020-07-08 13.06.16~000.000000000_Handcoding_SP.xlsx\n",
      "903\n",
      "0BD1C1419FE0~2020-07-08 13.06.16\n",
      "0BD1C1419FE0_2020-07-08 13.06.16_000.000000000_Handcoding_SP.xlsx\n",
      "1039\n",
      "0BD1C1419FE0~2020-07-08 16.43.21\n",
      "0BD1C1419FE0_2020-07-08 16.43.21_000.000000000_Handcoding_SP.xlsx\n",
      "1003\n",
      "0BD1C1419FE0~2020-07-08 16.43.21\n",
      "0BD1C1419FE0~2020-07-08 16.43.21~000.000000000_Handcoding_SP.xlsx\n",
      "866\n",
      "0BD1C1419FE0~2020-07-08 10.37.23\n",
      "0BD1C1419FE0~2020-07-08 10.37.23~000.000000000_Handcoding_SP.xlsx\n",
      "1143\n",
      "0BD1C1419FE0~2020-07-08 10.27.02\n",
      "0BD1C1419FE0~2020-07-08 10.27.02~000.000000000_Handcoding_SP.xlsx\n",
      "727\n",
      "0BD1C1419FE0~2020-07-08 12.13.12\n",
      "0BD1C1419FE0~2020-07-08 12.13.12~000.000000000_Handcoding_SP.xlsx\n",
      "1210\n",
      "0BD1C1419FE0~2020-07-08 10.09.47\n",
      "0BD1C1419FE0~2020-07-08 10.09.47~000.000000000_Handcoding_SP.xlsm\n",
      "888\n",
      "0BD1C1419FE0~2020-07-08 09.22.38\n",
      "0BD1C1419FE0~2020-07-08 09.22.38~000.000000000_Handcoding_SP.xlsx\n",
      "873\n"
     ]
    }
   ],
   "source": [
    "for folder in glob.glob('/home/tsb7592/Downloads/Baltimore_OB/*/*.xls*')  :\n",
    "    if 'docx' in folder:\n",
    "        pass\n",
    "    elif '1.5s' in folder:\n",
    "        pass\n",
    "    elif 'and' in folder:\n",
    "        pass\n",
    "\n",
    "        \n",
    "        subf =folder.split('/')[-2]\n",
    "        print(subf)\n",
    "        print(folder.split(\"/\")[-1])\n",
    "        hc =pd.read_excel(folder)\n",
    "        #Rename the value under column cohort2\n",
    "        col = hc.filter(like='coding').columns[0]\n",
    "        hc[col] = hc[col].map(locations)\n",
    "        hc =hc.loc[hc[col].isin(['1','2','0'])]\n",
    "        hc = hc[hc['cameraImageFilename'].notnull()]\n",
    "        labels = hc.groupby(col)['cameraImageFilename'].apply(list).to_dict()\n",
    "        print(len(hc[['cameraImageFilename']]))\n",
    "        for key in labels:\n",
    "            files = labels[key]\n",
    "            for f in files:\n",
    "                if not f:\n",
    "                    continue\n",
    "                else:\n",
    "                    f ='/home/tsb7592/Downloads/Baltimore_OB/'+subf +'/' +f\n",
    "                    shutil.copy(f, '/projects/p31410/gaze/'+str(key))\n",
    "        "
   ]
  },
  {
   "cell_type": "markdown",
   "metadata": {},
   "source": [
    "https://github.com/cfotache/pytorch_imageclassifier/blob/master/PyTorch_Image_Training.ipynb"
   ]
  },
  {
   "cell_type": "code",
   "execution_count": null,
   "metadata": {},
   "outputs": [],
   "source": []
  }
 ],
 "metadata": {
  "kernelspec": {
   "display_name": "Python 3",
   "language": "python",
   "name": "python3"
  },
  "language_info": {
   "codemirror_mode": {
    "name": "ipython",
    "version": 3
   },
   "file_extension": ".py",
   "mimetype": "text/x-python",
   "name": "python",
   "nbconvert_exporter": "python",
   "pygments_lexer": "ipython3",
   "version": "3.7.1"
  }
 },
 "nbformat": 4,
 "nbformat_minor": 5
}
