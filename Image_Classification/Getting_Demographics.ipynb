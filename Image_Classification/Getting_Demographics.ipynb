{
 "cells": [
  {
   "cell_type": "code",
   "execution_count": 1,
   "metadata": {
    "id": "IgQge6h7AqDw"
   },
   "outputs": [],
   "source": [
    "import json\n",
    "import glob, os\n",
    "import pandas as pd\n",
    "\n",
    "import warnings\n",
    "warnings.filterwarnings(\"ignore\")"
   ]
  },
  {
   "cell_type": "code",
   "execution_count": 2,
   "metadata": {},
   "outputs": [],
   "source": [
    "data_dir=\"C:\\\\Users\\\\tsb7592\\\\Downloads\\\\Clean Excels\""
   ]
  },
  {
   "cell_type": "code",
   "execution_count": 3,
   "metadata": {},
   "outputs": [],
   "source": [
    "os.chdir(data_dir)"
   ]
  },
  {
   "cell_type": "code",
   "execution_count": 3,
   "metadata": {},
   "outputs": [],
   "source": [
    "all_files = glob.glob('C:\\\\Users\\\\tsb7592\\\\Downloads\\\\Clean Excels\\\\*')"
   ]
  },
  {
   "cell_type": "code",
   "execution_count": 128,
   "metadata": {},
   "outputs": [
    {
     "data": {
      "text/html": [
       "<div>\n",
       "<style scoped>\n",
       "    .dataframe tbody tr th:only-of-type {\n",
       "        vertical-align: middle;\n",
       "    }\n",
       "\n",
       "    .dataframe tbody tr th {\n",
       "        vertical-align: top;\n",
       "    }\n",
       "\n",
       "    .dataframe thead th {\n",
       "        text-align: right;\n",
       "    }\n",
       "</style>\n",
       "<table border=\"1\" class=\"dataframe\">\n",
       "  <thead>\n",
       "    <tr style=\"text-align: right;\">\n",
       "      <th></th>\n",
       "      <th>timeZone</th>\n",
       "      <th>America/Phoenix</th>\n",
       "    </tr>\n",
       "  </thead>\n",
       "  <tbody>\n",
       "    <tr>\n",
       "      <th>0</th>\n",
       "      <td>gender</td>\n",
       "      <td>Male</td>\n",
       "    </tr>\n",
       "    <tr>\n",
       "      <th>1</th>\n",
       "      <td>age</td>\n",
       "      <td>2 Years 6 Months</td>\n",
       "    </tr>\n",
       "    <tr>\n",
       "      <th>2</th>\n",
       "      <td>race</td>\n",
       "      <td>Not Provided</td>\n",
       "    </tr>\n",
       "    <tr>\n",
       "      <th>3</th>\n",
       "      <td>ethnicity</td>\n",
       "      <td>Not Hispanic Or Latino</td>\n",
       "    </tr>\n",
       "  </tbody>\n",
       "</table>\n",
       "</div>"
      ],
      "text/plain": [
       "    timeZone         America/Phoenix\n",
       "0     gender                    Male\n",
       "1        age        2 Years 6 Months\n",
       "2       race            Not Provided\n",
       "3  ethnicity  Not Hispanic Or Latino"
      ]
     },
     "execution_count": 128,
     "metadata": {},
     "output_type": "execute_result"
    }
   ],
   "source": [
    "data.iloc[:,3:5]"
   ]
  },
  {
   "cell_type": "code",
   "execution_count": 133,
   "metadata": {},
   "outputs": [
    {
     "name": "stdout",
     "output_type": "stream",
     "text": [
      "0\n",
      "1\n",
      "2\n",
      "3\n",
      "4\n",
      "5\n",
      "6\n",
      "7\n",
      "8\n",
      "9\n",
      "10\n",
      "11\n",
      "12\n",
      "13\n",
      "14\n",
      "15\n",
      "16\n",
      "17\n",
      "18\n",
      "19\n",
      "20\n",
      "21\n",
      "22\n",
      "23\n",
      "24\n",
      "25\n",
      "26\n",
      "27\n",
      "28\n",
      "29\n",
      "30\n",
      "31\n",
      "32\n",
      "33\n",
      "34\n",
      "35\n",
      "36\n",
      "37\n",
      "38\n",
      "39\n",
      "40\n",
      "41\n",
      "42\n",
      "43\n",
      "44\n",
      "45\n",
      "46\n",
      "47\n",
      "48\n",
      "49\n",
      "50\n",
      "51\n",
      "52\n",
      "53\n",
      "54\n",
      "55\n",
      "56\n",
      "57\n",
      "58\n",
      "59\n",
      "60\n",
      "61\n",
      "62\n",
      "63\n",
      "64\n",
      "65\n",
      "66\n",
      "67\n",
      "68\n",
      "69\n",
      "70\n",
      "71\n",
      "72\n",
      "73\n",
      "74\n",
      "75\n",
      "76\n",
      "77\n",
      "78\n",
      "79\n",
      "80\n",
      "81\n",
      "82\n",
      "83\n",
      "84\n",
      "85\n",
      "86\n",
      "87\n",
      "88\n",
      "89\n",
      "90\n",
      "91\n",
      "92\n"
     ]
    }
   ],
   "source": [
    "rows_to_keep = [5,6,7,8,9]\n",
    "doc =[]\n",
    "for i in range(len(all_files)):\n",
    "    data = pd.read_excel(all_files[i], header=0, skiprows = lambda x: x not in rows_to_keep)\n",
    "    data =data.iloc[:,3:5]\n",
    "    data.columns =['dataKey','dataValue']\n",
    "    names = all_files[i].split(\"\\\\\")[-1]\n",
    "    PIN = names.split(\"_\")[0]+'_'+ names.split(\"_\")[1]\n",
    "    df2 = {'dataKey': 'PIN', 'dataValue': PIN}\n",
    "    df1 = data.append(df2, ignore_index = True)\n",
    "    df1=df1.transpose()\n",
    "    df1.columns = df1.iloc[0]\n",
    "    \n",
    "    doc.append(df1.iloc[1: , :])\n",
    "    print(i)\n",
    "df = pd.concat(doc)"
   ]
  },
  {
   "cell_type": "code",
   "execution_count": 138,
   "metadata": {},
   "outputs": [
    {
     "data": {
      "text/html": [
       "<div>\n",
       "<style scoped>\n",
       "    .dataframe tbody tr th:only-of-type {\n",
       "        vertical-align: middle;\n",
       "    }\n",
       "\n",
       "    .dataframe tbody tr th {\n",
       "        vertical-align: top;\n",
       "    }\n",
       "\n",
       "    .dataframe thead th {\n",
       "        text-align: right;\n",
       "    }\n",
       "</style>\n",
       "<table border=\"1\" class=\"dataframe\">\n",
       "  <thead>\n",
       "    <tr style=\"text-align: right;\">\n",
       "      <th>dataKey</th>\n",
       "      <th>gender</th>\n",
       "      <th>age</th>\n",
       "      <th>race</th>\n",
       "      <th>ethnicity</th>\n",
       "      <th>PIN</th>\n",
       "    </tr>\n",
       "  </thead>\n",
       "  <tbody>\n",
       "    <tr>\n",
       "      <th>dataValue</th>\n",
       "      <td>Male</td>\n",
       "      <td>2 Years 6 Months</td>\n",
       "      <td>Not Provided</td>\n",
       "      <td>Not Hispanic Or Latino</td>\n",
       "      <td>0568AE498717_2020-07-08 08.26.14</td>\n",
       "    </tr>\n",
       "    <tr>\n",
       "      <th>dataValue</th>\n",
       "      <td>Male</td>\n",
       "      <td>0 Years 5 Months</td>\n",
       "      <td>Not Provided</td>\n",
       "      <td>Not Hispanic Or Latino</td>\n",
       "      <td>0568AE498717_2020-07-08 10.37.10</td>\n",
       "    </tr>\n",
       "    <tr>\n",
       "      <th>dataValue</th>\n",
       "      <td>Female</td>\n",
       "      <td>1 Year 8 Months</td>\n",
       "      <td>Other</td>\n",
       "      <td>Hispanic Or Latino</td>\n",
       "      <td>0568AE498717_2020-07-08 11.48.00</td>\n",
       "    </tr>\n",
       "    <tr>\n",
       "      <th>dataValue</th>\n",
       "      <td>Female</td>\n",
       "      <td>0 Years 6 Months</td>\n",
       "      <td>Not Provided</td>\n",
       "      <td>Hispanic Or Latino</td>\n",
       "      <td>0568AE498717_2020-07-08 13.01.32</td>\n",
       "    </tr>\n",
       "    <tr>\n",
       "      <th>dataValue</th>\n",
       "      <td>Male</td>\n",
       "      <td>2 Years 5 Months</td>\n",
       "      <td>Not Provided</td>\n",
       "      <td>Not Hispanic Or Latino</td>\n",
       "      <td>0568AE498717_2020-07-09 10.36.38</td>\n",
       "    </tr>\n",
       "  </tbody>\n",
       "</table>\n",
       "</div>"
      ],
      "text/plain": [
       "dataKey    gender               age          race               ethnicity  \\\n",
       "dataValue    Male  2 Years 6 Months  Not Provided  Not Hispanic Or Latino   \n",
       "dataValue    Male  0 Years 5 Months  Not Provided  Not Hispanic Or Latino   \n",
       "dataValue  Female   1 Year 8 Months         Other      Hispanic Or Latino   \n",
       "dataValue  Female  0 Years 6 Months  Not Provided      Hispanic Or Latino   \n",
       "dataValue    Male  2 Years 5 Months  Not Provided  Not Hispanic Or Latino   \n",
       "\n",
       "dataKey                                 PIN  \n",
       "dataValue  0568AE498717_2020-07-08 08.26.14  \n",
       "dataValue  0568AE498717_2020-07-08 10.37.10  \n",
       "dataValue  0568AE498717_2020-07-08 11.48.00  \n",
       "dataValue  0568AE498717_2020-07-08 13.01.32  \n",
       "dataValue  0568AE498717_2020-07-09 10.36.38  "
      ]
     },
     "execution_count": 138,
     "metadata": {},
     "output_type": "execute_result"
    }
   ],
   "source": [
    "df.head()"
   ]
  },
  {
   "cell_type": "code",
   "execution_count": 140,
   "metadata": {},
   "outputs": [],
   "source": [
    "df.to_csv('C:\\\\Users\\\\tsb7592\\\\Downloads\\\\Handcoded_demographics.csv', index=False)"
   ]
  },
  {
   "cell_type": "code",
   "execution_count": 137,
   "metadata": {},
   "outputs": [
    {
     "data": {
      "text/plain": [
       "Not Hispanic Or Latino    75\n",
       "Hispanic Or Latino        18\n",
       "Name: ethnicity, dtype: int64"
      ]
     },
     "execution_count": 137,
     "metadata": {},
     "output_type": "execute_result"
    }
   ],
   "source": [
    "df.ethnicity.value_counts()"
   ]
  },
  {
   "cell_type": "code",
   "execution_count": 136,
   "metadata": {},
   "outputs": [
    {
     "data": {
      "text/plain": [
       "Not Provided                         39\n",
       "Black Or African American            26\n",
       "Asian                                18\n",
       "Other                                 9\n",
       "American Indian Or Alaskan Native     1\n",
       "Name: race, dtype: int64"
      ]
     },
     "execution_count": 136,
     "metadata": {},
     "output_type": "execute_result"
    }
   ],
   "source": [
    "df.race.value_counts()"
   ]
  },
  {
   "cell_type": "code",
   "execution_count": 135,
   "metadata": {},
   "outputs": [
    {
     "data": {
      "text/plain": [
       "0 Years 6 Months     9\n",
       "1 Year 11 Months     8\n",
       "1 Year 3 Months      7\n",
       "0 Years 5 Months     7\n",
       "0 Years 8 Months     5\n",
       "2 Years 6 Months     4\n",
       "1 Year 4 Months      4\n",
       "1 Year 8 Months      4\n",
       "2 Years 8 Months     3\n",
       "1 Year 10 Months     3\n",
       "2 Years 2 Months     3\n",
       "2 Years 3 Months     3\n",
       "1 Year 6 Months      3\n",
       "1 Year 7 Months      3\n",
       "0 Years 10 Months    3\n",
       "1 Year 0 Months      3\n",
       "3 Years 0 Months     2\n",
       "2 Years 0 Months     2\n",
       "0 Years 9 Months     2\n",
       "0 Years 7 Months     2\n",
       "1 Year 9 Months      2\n",
       "2 Years 10 Months    2\n",
       "1 Year 5 Months      2\n",
       "2 Years 5 Months     2\n",
       "1 Year 2 Months      1\n",
       "2 Years 11 Months    1\n",
       "2 Years 9 Months     1\n",
       "2 Years 7 Months     1\n",
       "2 Years 1 Month      1\n",
       "Name: age, dtype: int64"
      ]
     },
     "execution_count": 135,
     "metadata": {},
     "output_type": "execute_result"
    }
   ],
   "source": [
    "df.age.value_counts()"
   ]
  },
  {
   "cell_type": "code",
   "execution_count": null,
   "metadata": {},
   "outputs": [],
   "source": []
  }
 ],
 "metadata": {
  "colab": {
   "collapsed_sections": [],
   "name": "gaze.ipynb",
   "provenance": []
  },
  "kernelspec": {
   "display_name": "Python 3",
   "language": "python",
   "name": "python3"
  },
  "language_info": {
   "codemirror_mode": {
    "name": "ipython",
    "version": 3
   },
   "file_extension": ".py",
   "mimetype": "text/x-python",
   "name": "python",
   "nbconvert_exporter": "python",
   "pygments_lexer": "ipython3",
   "version": "3.8.8"
  }
 },
 "nbformat": 4,
 "nbformat_minor": 1
}
