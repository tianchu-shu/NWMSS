{
 "cells": [
  {
   "cell_type": "code",
   "execution_count": 7,
   "id": "c496a498",
   "metadata": {},
   "outputs": [],
   "source": [
    "import cv2\n",
    "import glob  \n",
    "import matplotlib.pyplot as plt\n",
    "\n",
    "#https://www.geeksforgeeks.org/cropping-faces-from-images-using-opencv-python/\n",
    "data_dir ='C:/Users/tsb7592/Downloads/Phoenix_056or773/*/*.png'\n",
    "test ='C:/Users/tsb7592/OneDrive - Northwestern University/Pictures/Camera Roll/*.png'\n",
    "\n",
    "def crop_face(imgd):    \n",
    "    des ='C:/Users/tsb7592/Downloads/cropped/'\n",
    "    \n",
    "    face_cascade = cv2.CascadeClassifier(cv2.data.haarcascades + 'haarcascade_frontalface_alt.xml')\n",
    "    eye_cascade = cv2.CascadeClassifier(cv2.data.haarcascades + 'haarcascade_eye.xml')\n",
    "    # Load the cascade\n",
    "    # Read the input image\n",
    "    img = cv2.imread(imgd)\n",
    "    # Convert into grayscale\n",
    "    gray = cv2.cvtColor(img, cv2.COLOR_BGR2GRAY)\n",
    "     \n",
    "    fname =imgd.split('\\\\')[-1][:-4]\n",
    "    # Detect faces\n",
    "    faces = face_cascade.detectMultiScale(gray, 1.1, 4)\n",
    "\n",
    "    # Draw rectangle around the faces and crop the faces\n",
    "    for (x, y, w, h) in faces:\n",
    "        cv2.rectangle(img, (x, y), (x+w, y+h), (0, 0, 255), 2)\n",
    "        faces = img[y:y + h, x:x + w]\n",
    "        cv2.imwrite(des+fname+'.jpg', faces)\n",
    "      \n",
    "\n",
    "\n"
   ]
  },
  {
   "cell_type": "code",
   "execution_count": 9,
   "id": "26be87b9",
   "metadata": {
    "scrolled": false
   },
   "outputs": [],
   "source": [
    "for imgd in glob.glob(data_dir):\n",
    "    crop_face(imgd)\n",
    "        "
   ]
  },
  {
   "cell_type": "code",
   "execution_count": null,
   "id": "0fc8a05f",
   "metadata": {},
   "outputs": [],
   "source": []
  }
 ],
 "metadata": {
  "kernelspec": {
   "display_name": "Python 3",
   "language": "python",
   "name": "python3"
  },
  "language_info": {
   "codemirror_mode": {
    "name": "ipython",
    "version": 3
   },
   "file_extension": ".py",
   "mimetype": "text/x-python",
   "name": "python",
   "nbconvert_exporter": "python",
   "pygments_lexer": "ipython3",
   "version": "3.8.8"
  }
 },
 "nbformat": 4,
 "nbformat_minor": 5
}
