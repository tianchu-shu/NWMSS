{
 "cells": [
  {
   "cell_type": "code",
   "execution_count": 23,
   "metadata": {},
   "outputs": [
    {
     "name": "stdout",
     "output_type": "stream",
     "text": [
      "1.jpg  2.jpg  3.jpg  4.jpg\r\n"
     ]
    }
   ],
   "source": [
    "!ls '/home/tsb7592/Pictures/'"
   ]
  },
  {
   "cell_type": "code",
   "execution_count": 14,
   "metadata": {},
   "outputs": [],
   "source": [
    "import glob\n",
    "import cv2\n",
    "  \n",
    "import matplotlib.pyplot as plt\n",
    "#https://www.geeksforgeeks.org/cropping-faces-from-images-using-opencv-python/\n",
    "data_dir ='/projects/p31410/Gaze_Pytorch/Test/1/*.png'\n",
    "test ='/home/tsb7592/Pictures/*.jpg'\n",
    "\n",
    "def crop_face(imgd):    \n",
    "    des ='/projects/p31410/Gaze_Pytorch/Testc/1/'\n",
    "    \n",
    "    face_cascade = cv2.CascadeClassifier(cv2.data.haarcascades + 'haarcascade_frontalface_alt.xml')\n",
    "    eye_cascade = cv2.CascadeClassifier(cv2.data.haarcascades + 'haarcascade_eye.xml')\n",
    "    # Load the cascade\n",
    "    # Read the input image\n",
    "    img = cv2.imread(imgd)\n",
    "    gray =cv2.cvtColor(img, cv2.COLOR_BGR2GRAY)\n",
    "   \n",
    "    fname =imgd.split('/')[-1]\n",
    "    # Detect faces\n",
    "    faces = face_cascade.detectMultiScale(gray, 1.1, 4)\n",
    "\n",
    "    # Draw rectangle around the faces and crop the faces\n",
    "    for (x, y, w, h) in faces:\n",
    "        cv2.rectangle(img, (x, y), (x+w, y+h), (0, 0, 255), 2)\n",
    "        faces = img[y:y + h, x:x + w]\n",
    "        \n",
    "        cv2.imwrite(des+fname, faces)\n"
   ]
  },
  {
   "cell_type": "code",
   "execution_count": 5,
   "metadata": {},
   "outputs": [
    {
     "name": "stdout",
     "output_type": "stream",
     "text": [
      "20295 done\n"
     ]
    }
   ],
   "source": [
    "tally =0\n",
    "for imgd in glob.glob(data_dir):\n",
    "    crop_face(imgd)\n",
    "    tally+=1\n",
    "print(tally, \"done\")    "
   ]
  },
  {
   "cell_type": "code",
   "execution_count": 7,
   "metadata": {},
   "outputs": [
    {
     "name": "stdout",
     "output_type": "stream",
     "text": [
      "2017 done\n"
     ]
    }
   ],
   "source": [
    "tally =0\n",
    "for imgd in glob.glob(data_dir):\n",
    "    crop_face(imgd)\n",
    "    tally+=1\n",
    "print(tally, \"done\")  "
   ]
  },
  {
   "cell_type": "code",
   "execution_count": 9,
   "metadata": {},
   "outputs": [
    {
     "name": "stdout",
     "output_type": "stream",
     "text": [
      "20186 done\n"
     ]
    }
   ],
   "source": [
    "tally =0\n",
    "for imgd in glob.glob(data_dir):\n",
    "    crop_face(imgd)\n",
    "    tally+=1\n",
    "print(tally, \"done\")  "
   ]
  },
  {
   "cell_type": "code",
   "execution_count": 13,
   "metadata": {},
   "outputs": [
    {
     "name": "stdout",
     "output_type": "stream",
     "text": [
      "6709 done\n"
     ]
    }
   ],
   "source": [
    "tally =0\n",
    "for imgd in glob.glob(data_dir):\n",
    "    crop_face(imgd)\n",
    "    tally+=1\n",
    "print(tally, \"done\")  "
   ]
  },
  {
   "cell_type": "code",
   "execution_count": 15,
   "metadata": {},
   "outputs": [
    {
     "name": "stdout",
     "output_type": "stream",
     "text": [
      "1254 done\n"
     ]
    }
   ],
   "source": [
    "tally =0\n",
    "for imgd in glob.glob(data_dir):\n",
    "    crop_face(imgd)\n",
    "    tally+=1\n",
    "print(tally, \"done\")  "
   ]
  },
  {
   "cell_type": "code",
   "execution_count": 11,
   "metadata": {},
   "outputs": [
    {
     "name": "stdout",
     "output_type": "stream",
     "text": [
      "7941 done\n"
     ]
    }
   ],
   "source": [
    "tally =0\n",
    "for imgd in glob.glob(data_dir):\n",
    "    crop_face(imgd)\n",
    "    tally+=1\n",
    "print(tally, \"done\")  "
   ]
  },
  {
   "cell_type": "code",
   "execution_count": null,
   "metadata": {},
   "outputs": [],
   "source": []
  }
 ],
 "metadata": {
  "kernelspec": {
   "display_name": "Python(py38)",
   "language": "python",
   "name": "py38"
  },
  "language_info": {
   "codemirror_mode": {
    "name": "ipython",
    "version": 3
   },
   "file_extension": ".py",
   "mimetype": "text/x-python",
   "name": "python",
   "nbconvert_exporter": "python",
   "pygments_lexer": "ipython3",
   "version": "3.8.13"
  }
 },
 "nbformat": 4,
 "nbformat_minor": 2
}
