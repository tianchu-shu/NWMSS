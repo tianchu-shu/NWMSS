{
 "cells": [
  {
   "cell_type": "code",
   "execution_count": 1,
   "metadata": {
    "id": "IgQge6h7AqDw"
   },
   "outputs": [],
   "source": [
    "import json\n",
    "import os\n",
    "import pandas as pd"
   ]
  },
  {
   "cell_type": "code",
   "execution_count": 12,
   "metadata": {},
   "outputs": [],
   "source": [
    "data_dir=\"C:/Users/TEMP/Box/Baby Toolbox Operations/Domain Teams/Language/Tobii Pilot/Claire_LWL&EF\""
   ]
  },
  {
   "cell_type": "code",
   "execution_count": 13,
   "metadata": {},
   "outputs": [],
   "source": [
    "os.chdir(data_dir)"
   ]
  },
  {
   "cell_type": "code",
   "execution_count": 14,
   "metadata": {
    "colab": {
     "base_uri": "https://localhost:8080/"
    },
    "id": "e6NteNENFFl7",
    "outputId": "0a219d79-8f0e-41b3-f463-167bc67024fe"
   },
   "outputs": [
    {
     "name": "stderr",
     "output_type": "stream",
     "text": [
      "C:\\Users\\TEMP\\Anaconda3\\lib\\site-packages\\IPython\\core\\interactiveshell.py:3165: DtypeWarning: Columns (28,34,36) have mixed types.Specify dtype option on import or set low_memory=False.\n",
      "  has_raised = await self.run_ast_nodes(code_ast.body, cell_name,\n"
     ]
    }
   ],
   "source": [
    "tdf= pd.read_csv('Baby Toolbox_Data_Export.tsv', sep='\\t') "
   ]
  },
  {
   "cell_type": "code",
   "execution_count": 15,
   "metadata": {
    "colab": {
     "base_uri": "https://localhost:8080/"
    },
    "id": "4KY69VAKFMcI",
    "outputId": "c9b13d2a-64e5-4e1e-fce3-fbd168fba274"
   },
   "outputs": [
    {
     "data": {
      "text/plain": [
       "(107784, 380)"
      ]
     },
     "execution_count": 15,
     "metadata": {},
     "output_type": "execute_result"
    }
   ],
   "source": [
    "tdf.shape"
   ]
  },
  {
   "cell_type": "code",
   "execution_count": 38,
   "metadata": {},
   "outputs": [
    {
     "name": "stdout",
     "output_type": "stream",
     "text": [
      "['AOI[LeftStim_Shoulder]Hit', 'AOI[RightStim_Hose]Hit', 'AOI[WholeScreen]Hit.4', 'AOI[LeftStim_Ladder]Hit', 'AOI[RightStim_Melon]Hit', 'AOI[WholeScreen]Hit.5', 'AOI[LeftStim_Rooster]Hit', 'AOI[RightStim_Playground]Hit', 'AOI[WholeScreen]Hit.6', 'AOI[LeftStim_Bike]Hit', 'AOI[RightStim_Sneaker]Hit', 'AOI[WholeScreen]Hit.7', 'AOI[LeftStim]Hit', 'AOI[RightStim]Hit', 'AOI[WholeScreen]Hit.8', 'AOI[LeftStim]Hit.1', 'AOI[RightStim]Hit.1', 'AOI[WholeScreen]Hit.9', 'AOI[LeftStim]Hit.2', 'AOI[RightStim]Hit.2', 'AOI[WholeScreen]Hit.10', 'AOI[LeftStim]Hit.3', 'AOI[RightStim]Hit.3', 'AOI[WholeScreen]Hit.11', 'AOI[LeftStim]Hit.4', 'AOI[RightStim]Hit.4', 'AOI[WholeScreen]Hit.12', 'AOI[LeftStim]Hit.5', 'AOI[RightStim]Hit.5', 'AOI[WholeScreen]Hit.13', 'AOI[LeftStim]Hit.6', 'AOI[RightStim]Hit.6', 'AOI[WholeScreen]Hit.14', 'AOI[LeftStim]Hit.7', 'AOI[RightStim]Hit.7', 'AOI[WholeScreen]Hit.15', 'AOI[LeftStim]Hit.8', 'AOI[RightStim]Hit.8', 'AOI[WholeScreen]Hit.16', 'AOI[LeftStim]Hit.9', 'AOI[RightStim]Hit.9', 'AOI[WholeScreen]Hit.17', 'AOI[LeftStim]Hit.10', 'AOI[RightStim]Hit.10', 'AOI[WholeScreen]Hit.18', 'AOI[LeftStim]Hit.11', 'AOI[RightStim]Hit.11', 'AOI[WholeScreen]Hit.19', 'AOI[LeftStim]Hit.12', 'AOI[RightStim]Hit.12', 'AOI[WholeScreen]Hit.20', 'AOI[LeftStim]Hit.13', 'AOI[RightStim]Hit.13', 'AOI[WholeScreen]Hit.21', 'AOI[LeftStim]Hit.14', 'AOI[RightStim]Hit.14', 'AOI[WholeScreen]Hit.22', 'AOI[LeftStim]Hit.15', 'AOI[RightStim]Hit.15', 'AOI[WholeScreen]Hit.23', 'AOI[LeftStim]Hit.16', 'AOI[RightStim]Hit.16', 'AOI[WholeScreen]Hit.24', 'AOI[LeftStim]Hit.17', 'AOI[RightStim]Hit.17', 'AOI[WholeScreen]Hit.25', 'AOI[LeftStim]Hit.18', 'AOI[RightStim]Hit.18', 'AOI[WholeScreen]Hit.26', 'AOI[LeftStim]Hit.19', 'AOI[RightStim]Hit.19', 'AOI[WholeScreen]Hit.27', 'AOI[WholeScreen]Hit.28', 'AOI[WholeScreen]Hit.29', 'AOI[WholeScreen]Hit.30', 'AOI[WholeScreen]Hit.31', 'AOI[WholeScreen]Hit.32', 'AOI[WholeScreen]Hit.33', 'AOI[WholeScreen]Hit.34', 'AOI[WholeScreen]Hit.35', 'AOI[Dog]Hit', 'AOI[WholeScreen]Hit.36', 'AOI[Star]Hit', 'AOI[WholeScreen]Hit.37', 'AOI[Dog]Hit.1', 'AOI[WholeScreen]Hit.38', 'AOI[Star]Hit.1', 'AOI[WholeScreen]Hit.39', 'AOI[Dog]Hit.2', 'AOI[WholeScreen]Hit.40', 'AOI[Star]Hit.2', 'AOI[WholeScreen]Hit.41', 'AOI[Dog]Hit.3', 'AOI[WholeScreen]Hit.42', 'AOI[Star]Hit.3', 'AOI[WholeScreen]Hit.43', 'AOI[Dog]Hit.4', 'AOI[WholeScreen]Hit.44', 'AOI[Star]Hit.4', 'AOI[WholeScreen]Hit.45', 'AOI[Dog]Hit.5', 'AOI[WholeScreen]Hit.46', 'AOI[Star]Hit.5', 'AOI[WholeScreen]Hit.47', 'AOI[Dog]Hit.6', 'AOI[WholeScreen]Hit.48', 'AOI[Star]Hit.6', 'AOI[WholeScreen]Hit.49', 'AOI[Dog]Hit.7', 'AOI[WholeScreen]Hit.50', 'AOI[Star]Hit.7', 'AOI[WholeScreen]Hit.51', 'AOI[Dog]Hit.8', 'AOI[Cat]Hit', 'AOI[WholeScreen]Hit.52', 'AOI[Cat]Hit.1', 'AOI[Dog]Hit.9', 'AOI[WholeScreen]Hit.53', 'AOI[Left]Hit', 'AOI[Right]Hit', 'AOI[Center]Hit', 'AOI[WholeScreen]Hit.54', 'AOI[Left]Hit.1', 'AOI[Right]Hit.1', 'AOI[Center]Hit.1', 'AOI[WholeScreen]Hit.55', 'AOI[Left]Hit.2', 'AOI[Right]Hit.2', 'AOI[Center]Hit.2', 'AOI[WholeScreen]Hit.56', 'AOI[Left]Hit.3', 'AOI[Right]Hit.3', 'AOI[Center]Hit.3', 'AOI[WholeScreen]Hit.57', 'AOI[Left]Hit.4', 'AOI[Right]Hit.4', 'AOI[Center]Hit.4', 'AOI[WholeScreen]Hit.58', 'AOI[Left]Hit.5', 'AOI[Right]Hit.5', 'AOI[Center]Hit.5', 'AOI[WholeScreen]Hit.59', 'AOI[Left]Hit.6', 'AOI[Right]Hit.6', 'AOI[Center]Hit.6', 'AOI[WholeScreen]Hit.60', 'AOI[Left]Hit.7', 'AOI[Right]Hit.7', 'AOI[Center]Hit.7', 'AOI[WholeScreen]Hit.61', 'AOI[Left]Hit.8', 'AOI[Right]Hit.8', 'AOI[Center]Hit.8', 'AOI[WholeScreen]Hit.62', 'AOI[Left]Hit.9', 'AOI[Right]Hit.9', 'AOI[Center]Hit.9', 'AOI[WholeScreen]Hit.63', 'AOI[Left]Hit.10', 'AOI[Right]Hit.10', 'AOI[Center]Hit.10', 'AOI[WholeScreen]Hit.64', 'AOI[Left]Hit.11', 'AOI[Right]Hit.11', 'AOI[Center]Hit.11', 'AOI[WholeScreen]Hit.65', 'AOI[Left]Hit.12', 'AOI[Right]Hit.12', 'AOI[Center]Hit.12', 'AOI[WholeScreen]Hit.66', 'AOI[Left]Hit.13', 'AOI[Right]Hit.13', 'AOI[Center]Hit.13', 'AOI[WholeScreen]Hit.67', 'AOI[Left]Hit.14', 'AOI[Right]Hit.14', 'AOI[Center]Hit.14', 'AOI[WholeScreen]Hit.68', 'AOI[WholeScreen]Hit.69', 'AOI[WholeScreen]Hit.70', 'AOI[WholeScreen]Hit.71', 'AOI[WholeScreen]Hit.72', 'AOI[Pig]Hit', 'AOI[WholeScreen]Hit.73', 'AOI[Blue Star]Hit', 'AOI[WholeScreen]Hit.74', 'AOI[Pig]Hit.1', 'AOI[WholeScreen]Hit.75', 'AOI[Blue Star]Hit.1', 'AOI[WholeScreen]Hit.76', 'AOI[Pig]Hit.2', 'AOI[WholeScreen]Hit.77', 'AOI[Blue Star]Hit.2', 'AOI[WholeScreen]Hit.78', 'AOI[Pig]Hit.3', 'AOI[WholeScreen]Hit.79', 'AOI[Blue Star]Hit.3', 'AOI[WholeScreen]Hit.80', 'AOI[Pig]Hit.4', 'AOI[WholeScreen]Hit.81', 'AOI[Blue Star]Hit.4', 'AOI[WholeScreen]Hit.82', 'AOI[Pig]Hit.5', 'AOI[WholeScreen]Hit.83', 'AOI[Blue Star]Hit.5', 'AOI[WholeScreen]Hit.84', 'AOI[Pig]Hit.6', 'AOI[WholeScreen]Hit.85', 'AOI[Blue Star]Hit.6', 'AOI[WholeScreen]Hit.86', 'AOI[Pig]Hit.7', 'AOI[WholeScreen]Hit.87', 'AOI[Blue Star]Hit.7', 'AOI[WholeScreen]Hit.88', 'AOI[Pig]Hit.8', 'AOI[Bear]Hit', 'AOI[WholeScreen]Hit.89', 'AOI[Bear]Hit.1', 'AOI[Pig]Hit.9', 'AOI[WholeScreen]Hit.90', 'AOI[Left]Hit.15', 'AOI[Right]Hit.15', 'AOI[Center]Hit.15', 'AOI[WholeScreen]Hit.91', 'AOI[Left]Hit.16', 'AOI[Right]Hit.16', 'AOI[Center]Hit.16', 'AOI[WholeScreen]Hit.92', 'AOI[Left]Hit.17', 'AOI[Right]Hit.17', 'AOI[Center]Hit.17', 'AOI[WholeScreen]Hit.93', 'AOI[Left]Hit.18', 'AOI[Right]Hit.18', 'AOI[Center]Hit.18', 'AOI[WholeScreen]Hit.94', 'AOI[Left]Hit.19', 'AOI[Right]Hit.19', 'AOI[Center]Hit.19', 'AOI[WholeScreen]Hit.95', 'AOI[Left]Hit.20', 'AOI[Right]Hit.20', 'AOI[Center]Hit.20', 'AOI[WholeScreen]Hit.96', 'AOI[Left]Hit.21', 'AOI[Right]Hit.21', 'AOI[Center]Hit.21', 'AOI[WholeScreen]Hit.97', 'AOI[Left]Hit.22', 'AOI[Right]Hit.22', 'AOI[Center]Hit.22', 'AOI[WholeScreen]Hit.98', 'AOI[Left]Hit.23', 'AOI[Right]Hit.23', 'AOI[Center]Hit.23', 'AOI[WholeScreen]Hit.99', 'AOI[Left]Hit.24', 'AOI[Right]Hit.24', 'AOI[Center]Hit.24', 'AOI[WholeScreen]Hit.100', 'AOI[Left]Hit.25', 'AOI[Right]Hit.25', 'AOI[Center]Hit.25', 'AOI[WholeScreen]Hit.101', 'AOI[Left]Hit.26', 'AOI[Right]Hit.26', 'AOI[Center]Hit.26', 'AOI[WholeScreen]Hit.102', 'AOI[Dog]Hit.10', 'AOI[Cat]Hit.2', 'AOI[WholeScreen]Hit.103', 'AOI[Cat]Hit.3', 'AOI[Dog]Hit.11', 'AOI[WholeScreen]Hit.104']\n"
     ]
    }
   ],
   "source": [
    "keep = [col for col in tdf.columns if 'AOI' in col]\n",
    "keep = [col for col in keep if 'Calib' not in col]\n",
    "print(keep)"
   ]
  },
  {
   "cell_type": "code",
   "execution_count": 39,
   "metadata": {},
   "outputs": [
    {
     "data": {
      "text/plain": [
       "274"
      ]
     },
     "execution_count": 39,
     "metadata": {},
     "output_type": "execute_result"
    }
   ],
   "source": [
    "len(keep)"
   ]
  },
  {
   "cell_type": "code",
   "execution_count": 40,
   "metadata": {},
   "outputs": [],
   "source": [
    "tdf=tdf[keep]"
   ]
  },
  {
   "cell_type": "code",
   "execution_count": 41,
   "metadata": {},
   "outputs": [
    {
     "data": {
      "text/plain": [
       "{'AOI[LeftStim_Shoulder]Hit': 0.5192,\n",
       " 'AOI[RightStim_Hose]Hit': 0.3273,\n",
       " 'AOI[WholeScreen]Hit.4': 0.9376,\n",
       " 'AOI[LeftStim_Ladder]Hit': 0.1833,\n",
       " 'AOI[RightStim_Melon]Hit': 0.7927,\n",
       " 'AOI[WholeScreen]Hit.5': 0.976,\n",
       " 'AOI[LeftStim_Rooster]Hit': 0.5172,\n",
       " 'AOI[RightStim_Playground]Hit': 0.3267,\n",
       " 'AOI[WholeScreen]Hit.6': 0.8647,\n",
       " 'AOI[LeftStim_Bike]Hit': 0.7618,\n",
       " 'AOI[RightStim_Sneaker]Hit': 0.1239,\n",
       " 'AOI[WholeScreen]Hit.7': 0.9318,\n",
       " 'AOI[LeftStim]Hit': 0.3719,\n",
       " 'AOI[RightStim]Hit': 0.4531,\n",
       " 'AOI[WholeScreen]Hit.8': 0.8667,\n",
       " 'AOI[LeftStim]Hit.1': 0.4524,\n",
       " 'AOI[RightStim]Hit.1': 0.1931,\n",
       " 'AOI[WholeScreen]Hit.9': 0.7906,\n",
       " 'AOI[LeftStim]Hit.2': 0.2635,\n",
       " 'AOI[RightStim]Hit.2': 0.5712,\n",
       " 'AOI[WholeScreen]Hit.10': 0.9221,\n",
       " 'AOI[LeftStim]Hit.3': 0.6243,\n",
       " 'AOI[RightStim]Hit.3': 0.2393,\n",
       " 'AOI[WholeScreen]Hit.11': 0.8783,\n",
       " 'AOI[LeftStim]Hit.4': 0.3677,\n",
       " 'AOI[RightStim]Hit.4': 0.5094,\n",
       " 'AOI[WholeScreen]Hit.12': 0.9073,\n",
       " 'AOI[LeftStim]Hit.5': 0.5598,\n",
       " 'AOI[RightStim]Hit.5': 0.206,\n",
       " 'AOI[WholeScreen]Hit.13': 0.7773,\n",
       " 'AOI[LeftStim]Hit.6': 0.1691,\n",
       " 'AOI[RightStim]Hit.6': 0.7915,\n",
       " 'AOI[WholeScreen]Hit.14': 0.9606,\n",
       " 'AOI[LeftStim]Hit.7': 0.366,\n",
       " 'AOI[RightStim]Hit.7': 0.4227,\n",
       " 'AOI[WholeScreen]Hit.15': 0.8271,\n",
       " 'AOI[LeftStim]Hit.8': 0.6542,\n",
       " 'AOI[RightStim]Hit.8': 0.3055,\n",
       " 'AOI[WholeScreen]Hit.16': 0.9731,\n",
       " 'AOI[LeftStim]Hit.9': 0.2962,\n",
       " 'AOI[RightStim]Hit.9': 0.4644,\n",
       " 'AOI[WholeScreen]Hit.17': 0.8942,\n",
       " 'AOI[LeftStim]Hit.10': 0.6782,\n",
       " 'AOI[RightStim]Hit.10': 0.2344,\n",
       " 'AOI[WholeScreen]Hit.18': 0.9721,\n",
       " 'AOI[LeftStim]Hit.11': 0.8719,\n",
       " 'AOI[RightStim]Hit.11': 0.0656,\n",
       " 'AOI[WholeScreen]Hit.19': 0.9448,\n",
       " 'AOI[LeftStim]Hit.12': 0.6705,\n",
       " 'AOI[RightStim]Hit.12': 0.3004,\n",
       " 'AOI[WholeScreen]Hit.20': 0.9709,\n",
       " 'AOI[LeftStim]Hit.13': 0.6471,\n",
       " 'AOI[RightStim]Hit.13': 0.3163,\n",
       " 'AOI[WholeScreen]Hit.21': 0.9798,\n",
       " 'AOI[LeftStim]Hit.14': 0.7385,\n",
       " 'AOI[RightStim]Hit.14': 0.1865,\n",
       " 'AOI[WholeScreen]Hit.22': 0.95,\n",
       " 'AOI[LeftStim]Hit.15': 0.4797,\n",
       " 'AOI[RightStim]Hit.15': 0.3788,\n",
       " 'AOI[WholeScreen]Hit.23': 0.8647,\n",
       " 'AOI[LeftStim]Hit.16': 0.5221,\n",
       " 'AOI[RightStim]Hit.16': 0.4567,\n",
       " 'AOI[WholeScreen]Hit.24': 0.9788,\n",
       " 'AOI[LeftStim]Hit.17': 0.274,\n",
       " 'AOI[RightStim]Hit.17': 0.5952,\n",
       " 'AOI[WholeScreen]Hit.25': 0.9231,\n",
       " 'AOI[LeftStim]Hit.18': 0.35,\n",
       " 'AOI[RightStim]Hit.18': 0.3438,\n",
       " 'AOI[WholeScreen]Hit.26': 0.724,\n",
       " 'AOI[LeftStim]Hit.19': 0.7536,\n",
       " 'AOI[RightStim]Hit.19': 0.0728,\n",
       " 'AOI[WholeScreen]Hit.27': 0.8545,\n",
       " 'AOI[WholeScreen]Hit.28': 1.0,\n",
       " 'AOI[WholeScreen]Hit.29': 1.0,\n",
       " 'AOI[WholeScreen]Hit.30': 1.0,\n",
       " 'AOI[WholeScreen]Hit.31': 0.825,\n",
       " 'AOI[WholeScreen]Hit.32': 0.9156,\n",
       " 'AOI[WholeScreen]Hit.33': 1.0,\n",
       " 'AOI[WholeScreen]Hit.34': 0.8292,\n",
       " 'AOI[WholeScreen]Hit.35': 1.0,\n",
       " 'AOI[Dog]Hit': 0.9292,\n",
       " 'AOI[WholeScreen]Hit.36': 0.935,\n",
       " 'AOI[Star]Hit': 1.0,\n",
       " 'AOI[WholeScreen]Hit.37': 1.0,\n",
       " 'AOI[Dog]Hit.1': 0.8658,\n",
       " 'AOI[WholeScreen]Hit.38': 0.91,\n",
       " 'AOI[Star]Hit.1': 0.795,\n",
       " 'AOI[WholeScreen]Hit.39': 0.8075,\n",
       " 'AOI[Dog]Hit.2': 0.737,\n",
       " 'AOI[WholeScreen]Hit.40': 0.737,\n",
       " 'AOI[Star]Hit.2': 1.0,\n",
       " 'AOI[WholeScreen]Hit.41': 1.0,\n",
       " 'AOI[Dog]Hit.3': 0.945,\n",
       " 'AOI[WholeScreen]Hit.42': 0.945,\n",
       " 'AOI[Star]Hit.3': 0.9708,\n",
       " 'AOI[WholeScreen]Hit.43': 1.0,\n",
       " 'AOI[Dog]Hit.4': 0.8844,\n",
       " 'AOI[WholeScreen]Hit.44': 0.9039,\n",
       " 'AOI[Star]Hit.4': 0.975,\n",
       " 'AOI[WholeScreen]Hit.45': 0.9906,\n",
       " 'AOI[Dog]Hit.5': 0.3627,\n",
       " 'AOI[WholeScreen]Hit.46': 0.3627,\n",
       " 'AOI[Star]Hit.5': 0.5545,\n",
       " 'AOI[WholeScreen]Hit.47': 0.5545,\n",
       " 'AOI[Dog]Hit.6': 0.9308,\n",
       " 'AOI[WholeScreen]Hit.48': 0.9308,\n",
       " 'AOI[Star]Hit.6': 1.0,\n",
       " 'AOI[WholeScreen]Hit.49': 1.0,\n",
       " 'AOI[Dog]Hit.7': 0.1224,\n",
       " 'AOI[WholeScreen]Hit.50': 0.1224,\n",
       " 'AOI[Star]Hit.7': 0.4424,\n",
       " 'AOI[WholeScreen]Hit.51': 0.4424,\n",
       " 'AOI[Dog]Hit.8': 0.2339,\n",
       " 'AOI[Cat]Hit': 0.7661,\n",
       " 'AOI[WholeScreen]Hit.52': 1.0,\n",
       " 'AOI[Cat]Hit.1': 0.7469,\n",
       " 'AOI[Dog]Hit.9': 0.1922,\n",
       " 'AOI[WholeScreen]Hit.53': 0.9656,\n",
       " 'AOI[Left]Hit': 0.1529,\n",
       " 'AOI[Right]Hit': 0.3592,\n",
       " 'AOI[Center]Hit': 0.4417,\n",
       " 'AOI[WholeScreen]Hit.54': 0.9538,\n",
       " 'AOI[Left]Hit.1': 0.4837,\n",
       " 'AOI[Right]Hit.1': 0.0206,\n",
       " 'AOI[Center]Hit.1': 0.445,\n",
       " 'AOI[WholeScreen]Hit.55': 0.9597,\n",
       " 'AOI[Left]Hit.2': 0.1117,\n",
       " 'AOI[Right]Hit.2': 0.3922,\n",
       " 'AOI[Center]Hit.2': 0.4234,\n",
       " 'AOI[WholeScreen]Hit.56': 0.9473,\n",
       " 'AOI[Left]Hit.3': 0.0,\n",
       " 'AOI[Right]Hit.3': 0.385,\n",
       " 'AOI[Center]Hit.3': 0.5962,\n",
       " 'AOI[WholeScreen]Hit.57': 0.9812,\n",
       " 'AOI[Left]Hit.4': 0.1812,\n",
       " 'AOI[Right]Hit.4': 0.5125,\n",
       " 'AOI[Center]Hit.4': 0.2312,\n",
       " 'AOI[WholeScreen]Hit.58': 0.925,\n",
       " 'AOI[Left]Hit.5': 0.0,\n",
       " 'AOI[Right]Hit.5': 0.9594,\n",
       " 'AOI[Center]Hit.5': 0.0,\n",
       " 'AOI[WholeScreen]Hit.59': 1.0,\n",
       " 'AOI[Left]Hit.6': 0.0594,\n",
       " 'AOI[Right]Hit.6': 0.3229,\n",
       " 'AOI[Center]Hit.6': 0.525,\n",
       " 'AOI[WholeScreen]Hit.60': 0.95,\n",
       " 'AOI[Left]Hit.7': 0.1923,\n",
       " 'AOI[Right]Hit.7': 0.1174,\n",
       " 'AOI[Center]Hit.7': 0.3208,\n",
       " 'AOI[WholeScreen]Hit.61': 0.7466,\n",
       " 'AOI[Left]Hit.8': 0.0,\n",
       " 'AOI[Right]Hit.8': 0.7047,\n",
       " 'AOI[Center]Hit.8': 0.1203,\n",
       " 'AOI[WholeScreen]Hit.62': 0.8344,\n",
       " 'AOI[Left]Hit.9': 0.2375,\n",
       " 'AOI[Right]Hit.9': 0.125,\n",
       " 'AOI[Center]Hit.9': 0.6028,\n",
       " 'AOI[WholeScreen]Hit.63': 0.9653,\n",
       " 'AOI[Left]Hit.10': 0.1567,\n",
       " 'AOI[Right]Hit.10': 0.1054,\n",
       " 'AOI[Center]Hit.10': 0.2205,\n",
       " 'AOI[WholeScreen]Hit.64': 0.4827,\n",
       " 'AOI[Left]Hit.11': 0.7861,\n",
       " 'AOI[Right]Hit.11': 0.0431,\n",
       " 'AOI[Center]Hit.11': 0.0778,\n",
       " 'AOI[WholeScreen]Hit.65': 0.9153,\n",
       " 'AOI[Left]Hit.12': 0.1312,\n",
       " 'AOI[Right]Hit.12': 0.2438,\n",
       " 'AOI[Center]Hit.12': 0.625,\n",
       " 'AOI[WholeScreen]Hit.66': 1.0,\n",
       " 'AOI[Left]Hit.13': 0.0,\n",
       " 'AOI[Right]Hit.13': 0.8583,\n",
       " 'AOI[Center]Hit.13': 0.1417,\n",
       " 'AOI[WholeScreen]Hit.67': 1.0,\n",
       " 'AOI[Left]Hit.14': 0.0,\n",
       " 'AOI[Right]Hit.14': 0.7917,\n",
       " 'AOI[Center]Hit.14': 0.0583,\n",
       " 'AOI[WholeScreen]Hit.68': 0.8625,\n",
       " 'AOI[WholeScreen]Hit.69': 1.0,\n",
       " 'AOI[WholeScreen]Hit.70': 1.0,\n",
       " 'AOI[WholeScreen]Hit.71': 1.0,\n",
       " 'AOI[WholeScreen]Hit.72': 0.8938,\n",
       " 'AOI[Pig]Hit': 0.9092,\n",
       " 'AOI[WholeScreen]Hit.73': 0.9092,\n",
       " 'AOI[Blue Star]Hit': 1.0,\n",
       " 'AOI[WholeScreen]Hit.74': 1.0,\n",
       " 'AOI[Pig]Hit.1': 0.9286,\n",
       " 'AOI[WholeScreen]Hit.75': 0.9286,\n",
       " 'AOI[Blue Star]Hit.1': 1.0,\n",
       " 'AOI[WholeScreen]Hit.76': 1.0,\n",
       " 'AOI[Pig]Hit.2': 0.6818,\n",
       " 'AOI[WholeScreen]Hit.77': 0.6925,\n",
       " 'AOI[Blue Star]Hit.2': 0.9562,\n",
       " 'AOI[WholeScreen]Hit.78': 0.9562,\n",
       " 'AOI[Pig]Hit.3': 0.5852,\n",
       " 'AOI[WholeScreen]Hit.79': 0.6102,\n",
       " 'AOI[Blue Star]Hit.3': 1.0,\n",
       " 'AOI[WholeScreen]Hit.80': 1.0,\n",
       " 'AOI[Pig]Hit.4': 0.3289,\n",
       " 'AOI[WholeScreen]Hit.81': 0.4005,\n",
       " 'AOI[Blue Star]Hit.4': 0.8525,\n",
       " 'AOI[WholeScreen]Hit.82': 0.8525,\n",
       " 'AOI[Pig]Hit.5': 0.7394,\n",
       " 'AOI[WholeScreen]Hit.83': 0.7394,\n",
       " 'AOI[Blue Star]Hit.5': 1.0,\n",
       " 'AOI[WholeScreen]Hit.84': 1.0,\n",
       " 'AOI[Pig]Hit.6': 0.303,\n",
       " 'AOI[WholeScreen]Hit.85': 0.3084,\n",
       " 'AOI[Blue Star]Hit.6': 1.0,\n",
       " 'AOI[WholeScreen]Hit.86': 1.0,\n",
       " 'AOI[Pig]Hit.7': 0.1363,\n",
       " 'AOI[WholeScreen]Hit.87': 0.1405,\n",
       " 'AOI[Blue Star]Hit.7': 0.1963,\n",
       " 'AOI[WholeScreen]Hit.88': 0.1963,\n",
       " 'AOI[Pig]Hit.8': 0.1446,\n",
       " 'AOI[Bear]Hit': 0.8446,\n",
       " 'AOI[WholeScreen]Hit.89': 1.0,\n",
       " 'AOI[Bear]Hit.1': 0.7062,\n",
       " 'AOI[Pig]Hit.9': 0.2938,\n",
       " 'AOI[WholeScreen]Hit.90': 1.0,\n",
       " 'AOI[Left]Hit.15': 0.1856,\n",
       " 'AOI[Right]Hit.15': 0.225,\n",
       " 'AOI[Center]Hit.15': 0.5394,\n",
       " 'AOI[WholeScreen]Hit.91': 1.0,\n",
       " 'AOI[Left]Hit.16': 0.0625,\n",
       " 'AOI[Right]Hit.16': 0.8167,\n",
       " 'AOI[Center]Hit.16': 0.1208,\n",
       " 'AOI[WholeScreen]Hit.92': 1.0,\n",
       " 'AOI[Left]Hit.17': 0.1458,\n",
       " 'AOI[Right]Hit.17': 0.6583,\n",
       " 'AOI[Center]Hit.17': 0.1958,\n",
       " 'AOI[WholeScreen]Hit.93': 1.0,\n",
       " 'AOI[Left]Hit.18': 0.2043,\n",
       " 'AOI[Right]Hit.18': 0.0397,\n",
       " 'AOI[Center]Hit.18': 0.6345,\n",
       " 'AOI[WholeScreen]Hit.94': 0.9864,\n",
       " 'AOI[Left]Hit.19': 0.3725,\n",
       " 'AOI[Right]Hit.19': 0.066,\n",
       " 'AOI[Center]Hit.19': 0.4813,\n",
       " 'AOI[WholeScreen]Hit.95': 0.9626,\n",
       " 'AOI[Left]Hit.20': 0.7988,\n",
       " 'AOI[Right]Hit.20': 0.0,\n",
       " 'AOI[Center]Hit.20': 0.1938,\n",
       " 'AOI[WholeScreen]Hit.96': 1.0,\n",
       " 'AOI[Left]Hit.21': 0.1204,\n",
       " 'AOI[Right]Hit.21': 0.1552,\n",
       " 'AOI[Center]Hit.21': 0.6182,\n",
       " 'AOI[WholeScreen]Hit.97': 0.8938,\n",
       " 'AOI[Left]Hit.22': 0.3,\n",
       " 'AOI[Right]Hit.22': 0.2911,\n",
       " 'AOI[Center]Hit.22': 0.3714,\n",
       " 'AOI[WholeScreen]Hit.98': 0.9625,\n",
       " 'AOI[Left]Hit.23': 0.0541,\n",
       " 'AOI[Right]Hit.23': 0.5645,\n",
       " 'AOI[Center]Hit.23': 0.3093,\n",
       " 'AOI[WholeScreen]Hit.99': 1.0,\n",
       " 'AOI[Left]Hit.24': 0.0,\n",
       " 'AOI[Right]Hit.24': 0.2058,\n",
       " 'AOI[Center]Hit.24': 0.6875,\n",
       " 'AOI[WholeScreen]Hit.100': 0.8933,\n",
       " 'AOI[Left]Hit.25': 0.1181,\n",
       " 'AOI[Right]Hit.25': 0.4639,\n",
       " 'AOI[Center]Hit.25': 0.2556,\n",
       " 'AOI[WholeScreen]Hit.101': 0.8375,\n",
       " 'AOI[Left]Hit.26': 0.0766,\n",
       " 'AOI[Right]Hit.26': 0.6484,\n",
       " 'AOI[Center]Hit.26': 0.0078,\n",
       " 'AOI[WholeScreen]Hit.102': 0.775,\n",
       " 'AOI[Dog]Hit.10': 0.7,\n",
       " 'AOI[Cat]Hit.2': 0.2641,\n",
       " 'AOI[WholeScreen]Hit.103': 1.0,\n",
       " 'AOI[Cat]Hit.3': 0.5312,\n",
       " 'AOI[Dog]Hit.11': 0.4328,\n",
       " 'AOI[WholeScreen]Hit.104': 1.0}"
      ]
     },
     "execution_count": 41,
     "metadata": {},
     "output_type": "execute_result"
    }
   ],
   "source": [
    "round(tdf.mean(),4).to_dict()"
   ]
  },
  {
   "cell_type": "markdown",
   "metadata": {},
   "source": [
    "# json file"
   ]
  },
  {
   "cell_type": "code",
   "execution_count": 21,
   "metadata": {},
   "outputs": [],
   "source": [
    "data_dir=\"C:/Users/TEMP/Box/Baby Toolbox Operations/Domain Teams/Language/Tobii Pilot/Tobii Verbose Files/Claire/\""
   ]
  },
  {
   "cell_type": "code",
   "execution_count": 22,
   "metadata": {},
   "outputs": [],
   "source": [
    "os.chdir(data_dir)"
   ]
  },
  {
   "cell_type": "code",
   "execution_count": 22,
   "metadata": {},
   "outputs": [
    {
     "name": "stdout",
     "output_type": "stream",
     "text": [
      " Volume in drive C is Windows\n",
      " Volume Serial Number is 1E0A-261A\n",
      "\n",
      " Directory of C:\\Users\\TEMP\\Box\\Baby Toolbox Operations\\Domain Teams\\Language\\Tobii Pilot\\Tobii Verbose Files\\Claire\n",
      "\n",
      "05/24/2021  01:01 PM    <DIR>          .\n",
      "05/24/2021  01:01 PM    <DIR>          ..\n",
      "05/11/2021  05:11 PM      (70,162,558) 949BCA6A-D3D6-426C-9A94-E806F84E4E72@845BDD10-B9AF-4592-AA4E-0CCE76A0E8CD@00024@2021-05-11-22.11.48.356@LookListening@Claire@VerboseGazeData 2.json\n",
      "05/11/2021  05:11 PM        70,162,558 949BCA6A-D3D6-426C-9A94-E806F84E4E72@845BDD10-B9AF-4592-AA4E-0CCE76A0E8CD@00024@2021-05-11-22.11.48.356@LookListening@Claire@VerboseGazeData.json\n",
      "05/11/2021  05:11 PM       (4,921,354) 949BCA6A-D3D6-426C-9A94-E806F84E4E72@845BDD10-B9AF-4592-AA4E-0CCE76A0E8CD@00024@2021-05-11-22.11.53.662@LookListening@Claire@VerboseGazeData 2.csv\n",
      "05/11/2021  05:11 PM       (4,921,354) 949BCA6A-D3D6-426C-9A94-E806F84E4E72@845BDD10-B9AF-4592-AA4E-0CCE76A0E8CD@00024@2021-05-11-22.11.53.662@LookListening@Claire@VerboseGazeData.csv\n",
      "05/24/2021  12:36 PM    <DIR>          949BCA6A-D3D6-426C-9A94-E806F84E4E72@845BDD10-B9AF-4592-AA4E-0CCE76A0E8CD@00024@media\n",
      "05/11/2021  05:21 PM       144,958,835 949BCA6A-D3D6-426C-9A94-E806F84E4E72@845BDD10-B9AF-4592-AA4E-0CCE76A0E8CD@00025@2021-05-11-22.21.08.674@ExecutiveFunction@Claire@VerboseGazeData.json\n",
      "05/11/2021  05:21 PM      (10,194,317) 949BCA6A-D3D6-426C-9A94-E806F84E4E72@845BDD10-B9AF-4592-AA4E-0CCE76A0E8CD@00025@2021-05-11-22.21.19.618@ExecutiveFunction@Claire@VerboseGazeData.csv\n",
      "05/24/2021  01:01 PM    <DIR>          949BCA6A-D3D6-426C-9A94-E806F84E4E72@845BDD10-B9AF-4592-AA4E-0CCE76A0E8CD@00025@media\n",
      "05/11/2021  07:13 PM      (70,250,492) A87CEC62-214F-4B81-A3CB-45B1DA445644@845BDD10-B9AF-4592-AA4E-0CCE76A0E8CD@00026@2021-05-12-00.13.17.121@LookListening@Brian@VerboseGazeData.json\n",
      "05/11/2021  07:13 PM       (4,938,948) A87CEC62-214F-4B81-A3CB-45B1DA445644@845BDD10-B9AF-4592-AA4E-0CCE76A0E8CD@00026@2021-05-12-00.13.22.403@LookListening@Brian@VerboseGazeData.csv\n",
      "05/24/2021  12:36 PM    <DIR>          A87CEC62-214F-4B81-A3CB-45B1DA445644@845BDD10-B9AF-4592-AA4E-0CCE76A0E8CD@00026@media\n",
      "               8 File(s)    380,522,704 bytes\n",
      "               5 Dir(s)  178,519,314,432 bytes free\n"
     ]
    }
   ],
   "source": [
    "#!DIR"
   ]
  },
  {
   "cell_type": "code",
   "execution_count": 23,
   "metadata": {},
   "outputs": [],
   "source": [
    "newfile ='949BCA6A-D3D6-426C-9A94-E806F84E4E72@845BDD10-B9AF-4592-AA4E-0CCE76A0E8CD@00025@2021-05-11-22.21.08.674@ExecutiveFunction@Claire@VerboseGazeData.json'"
   ]
  },
  {
   "cell_type": "code",
   "execution_count": 25,
   "metadata": {},
   "outputs": [],
   "source": [
    "df=pd.read_json(newfile)"
   ]
  },
  {
   "cell_type": "code",
   "execution_count": 26,
   "metadata": {
    "id": "NMPx1zS1CQjM"
   },
   "outputs": [],
   "source": [
    "#df=pd.read_json('949BCA6A-D3D6-426C-9A94-E806F84E4E72@845BDD10-B9AF-4592-AA4E-0CCE76A0E8CD@00024@2021-05-11-22.11.48.356@LookListening@Claire@VerboseGazeData.json')"
   ]
  },
  {
   "cell_type": "code",
   "execution_count": 27,
   "metadata": {},
   "outputs": [],
   "source": [
    "cols=['itemID','eventName','gazeEngineState','gazeLocationName', 'gazeLocationOnScreen', 'gazeLocationPercentX',\n",
    " 'gazeLocationPercentY', 'lookAtPointX', 'lookAtPointY', 'gazeLocationZoneSet']"
   ]
  },
  {
   "cell_type": "code",
   "execution_count": 28,
   "metadata": {},
   "outputs": [],
   "source": [
    "df=df[cols]"
   ]
  },
  {
   "cell_type": "code",
   "execution_count": 29,
   "metadata": {},
   "outputs": [
    {
     "data": {
      "text/plain": [
       "array(['beganCalibration', 'data', 'beganCalibrationRound1',\n",
       "       'cameraImageCaptured', 'faceVerticesChanged',\n",
       "       'presentedCalibrationItem', 'lookDetected',\n",
       "       'completedCalibrationItem', 'calibrationAlignmentCheckPassed',\n",
       "       'completedCalibration', 'beganLiveTest', 'presentedLiveItem',\n",
       "       'beganLookDetection', 'gazeLocationChanged', 'endedLookDetection',\n",
       "       'completedLiveItem', 'presentedFillerScreen',\n",
       "       'removedFillerScreen', 'faceLeftScene', 'faceReturnedToScene',\n",
       "       'beganHideVideo', 'beganFindVideo', 'beganRevealVideo',\n",
       "       'beganDriftPresentationRound', 'presentedDriftCalibrationItem',\n",
       "       'completedDriftCalibrationItem', 'completedDriftPresentationRound',\n",
       "       'completedLiveTest', 'instrumentCompleted'], dtype=object)"
      ]
     },
     "execution_count": 29,
     "metadata": {},
     "output_type": "execute_result"
    }
   ],
   "source": [
    "df.eventName.unique()"
   ]
  },
  {
   "cell_type": "code",
   "execution_count": 30,
   "metadata": {},
   "outputs": [
    {
     "data": {
      "text/plain": [
       "array([nan, 'false', 'true'], dtype=object)"
      ]
     },
     "execution_count": 30,
     "metadata": {},
     "output_type": "execute_result"
    }
   ],
   "source": [
    "df.gazeLocationOnScreen.unique()"
   ]
  },
  {
   "cell_type": "code",
   "execution_count": 31,
   "metadata": {
    "scrolled": true
   },
   "outputs": [],
   "source": [
    "#Finding the index for presentLiveItem and completeLiveItem to subset the pieces we need for analysis\n",
    "begin =list(df[df['eventName'].str.contains('presentedLiveItem')].index)"
   ]
  },
  {
   "cell_type": "code",
   "execution_count": 32,
   "metadata": {
    "scrolled": true
   },
   "outputs": [],
   "source": [
    "end = list(df[df['eventName'].str.contains('completedLiveItem')].index)"
   ]
  },
  {
   "cell_type": "code",
   "execution_count": 33,
   "metadata": {},
   "outputs": [
    {
     "data": {
      "text/plain": [
       "33"
      ]
     },
     "execution_count": 33,
     "metadata": {},
     "output_type": "execute_result"
    }
   ],
   "source": [
    "len(end)"
   ]
  },
  {
   "cell_type": "code",
   "execution_count": 34,
   "metadata": {},
   "outputs": [
    {
     "name": "stdout",
     "output_type": "stream",
     "text": [
      "758\n",
      "['Hab_1.1' nan]\n",
      "true    100.0%\n",
      "Name: gazeLocationOnScreen, dtype: object\n",
      "center    98.84%\n",
      "away        1.0%\n",
      "left       0.17%\n",
      "Name: gazeLocationName, dtype: object\n",
      "\n",
      "762\n",
      "['Hab_1.2' nan]\n",
      "true     97.68%\n",
      "false     2.32%\n",
      "Name: gazeLocationOnScreen, dtype: object\n",
      "center    96.19%\n",
      "away       3.81%\n",
      "Name: gazeLocationName, dtype: object\n",
      "\n",
      "765\n",
      "['Hab_1.3' nan]\n",
      "true     91.36%\n",
      "false     8.64%\n",
      "Name: gazeLocationOnScreen, dtype: object\n",
      "center    70.76%\n",
      "away      29.24%\n",
      "Name: gazeLocationName, dtype: object\n",
      "\n",
      "758\n",
      "['Hab_1.4' nan]\n",
      "true    100.0%\n",
      "Name: gazeLocationOnScreen, dtype: object\n",
      "center    99.17%\n",
      "away       0.83%\n",
      "Name: gazeLocationName, dtype: object\n",
      "\n"
     ]
    }
   ],
   "source": [
    "doc =[]\n",
    "\n",
    "for i in range(4):\n",
    "    sub = df.iloc[begin[i]+1:end[i]]\n",
    "    doc.append(sub)\n",
    "    print(sub.shape[0])\n",
    "    print(sub.itemID.unique())\n",
    "    print(sub.gazeLocationOnScreen.value_counts(normalize=True).mul(100).round(2).astype(str) + '%')\n",
    "    print(sub.gazeLocationName.value_counts(normalize=True).mul(100).round(2).astype(str) + '%')\n",
    "    print('')\n",
    "new = pd.concat(doc)"
   ]
  },
  {
   "cell_type": "code",
   "execution_count": 35,
   "metadata": {},
   "outputs": [
    {
     "data": {
      "text/plain": [
       "array(['Hab_1.1', nan, 'Hab_1.2', 'Hab_1.3', 'Hab_1.4'], dtype=object)"
      ]
     },
     "execution_count": 35,
     "metadata": {},
     "output_type": "execute_result"
    }
   ],
   "source": [
    "new.itemID.unique()"
   ]
  },
  {
   "cell_type": "code",
   "execution_count": 61,
   "metadata": {},
   "outputs": [
    {
     "data": {
      "text/plain": [
       "{0: array([nan, 'Shoulder_Hose_G5'], dtype=object),\n",
       " 1: array([nan, 'Ladder_Melon_G5'], dtype=object),\n",
       " 2: array([nan, 'Rooster_Playground_G5'], dtype=object),\n",
       " 3: array([nan, 'Tricycle_Sneaker_G5'], dtype=object),\n",
       " 4: array([nan, 'Hose_Shoulder_G5'], dtype=object),\n",
       " 5: array([nan, 'Melon_Ladder_G5'], dtype=object),\n",
       " 6: array([nan, 'Playground_Rooster_G5'], dtype=object),\n",
       " 7: array([nan, 'Sneaker_Tricycle_G5'], dtype=object),\n",
       " 8: array([nan, 'Star_Moose_G6'], dtype=object),\n",
       " 9: array([nan, 'Turtle_Hammer_G6'], dtype=object),\n",
       " 10: array([nan, 'Cake_Bee_G6'], dtype=object),\n",
       " 11: array([nan, 'Lamp_Stove_G6'], dtype=object),\n",
       " 12: array([nan, 'Moose_Star_G6'], dtype=object),\n",
       " 13: array([nan, 'Hammer_Turtle_G6'], dtype=object),\n",
       " 14: array([nan, 'Bee_Cake_G6'], dtype=object),\n",
       " 15: array([nan, 'Stove_Lamp_G6'], dtype=object),\n",
       " 16: array([nan, 'Garden_Sweater_G7'], dtype=object),\n",
       " 17: array([nan, 'Ankle_Scissors_G7'], dtype=object),\n",
       " 18: array([nan, 'Woods_Tray_G7'], dtype=object),\n",
       " 19: array([nan, 'Bench_Rip_G7'], dtype=object),\n",
       " 20: array([nan, 'Sweater_Garden_G7'], dtype=object),\n",
       " 21: array([nan, 'Scissors_Ankle_G7'], dtype=object),\n",
       " 22: array([nan, 'Tray_Woods_G7'], dtype=object),\n",
       " 23: array([nan, 'Rip_Bench_G7'], dtype=object)}"
      ]
     },
     "execution_count": 61,
     "metadata": {},
     "output_type": "execute_result"
    }
   ],
   "source": [
    "# 0-7 are the ones with the 4 items we are interested in\n",
    "interest"
   ]
  },
  {
   "cell_type": "code",
   "execution_count": 64,
   "metadata": {},
   "outputs": [
    {
     "name": "stdout",
     "output_type": "stream",
     "text": [
      "[nan 'Shoulder_Hose_G5']\n",
      "true    100.0%\n",
      "Name: gazeLocationOnScreen, dtype: object\n",
      "left     65.28%\n",
      "right    17.46%\n",
      "away     17.26%\n",
      "Name: gazeLocationName, dtype: object\n",
      "\n",
      "[nan 'Hose_Shoulder_G5']\n",
      "true     90.66%\n",
      "false     9.34%\n",
      "Name: gazeLocationOnScreen, dtype: object\n",
      "right    54.36%\n",
      "left     33.61%\n",
      "away     12.03%\n",
      "Name: gazeLocationName, dtype: object\n",
      "\n"
     ]
    }
   ],
   "source": [
    "doc =[]\n",
    "for i in [0, 4]:\n",
    "    sub = df.iloc[begin[i]+1:end[i]]\n",
    "    print(sub.itemID.unique())\n",
    "    doc.append(sub)\n",
    "    print(sub.gazeLocationOnScreen.value_counts(normalize=True).mul(100).round(2).astype(str) + '%')\n",
    "    print(sub.gazeLocationName.value_counts(normalize=True).mul(100).round(2).astype(str) + '%')\n",
    "    print('')\n",
    "Shoulder_Hose = pd.concat(doc)"
   ]
  },
  {
   "cell_type": "code",
   "execution_count": 36,
   "metadata": {},
   "outputs": [
    {
     "data": {
      "text/html": [
       "<div>\n",
       "<style scoped>\n",
       "    .dataframe tbody tr th:only-of-type {\n",
       "        vertical-align: middle;\n",
       "    }\n",
       "\n",
       "    .dataframe tbody tr th {\n",
       "        vertical-align: top;\n",
       "    }\n",
       "\n",
       "    .dataframe thead th {\n",
       "        text-align: right;\n",
       "    }\n",
       "</style>\n",
       "<table border=\"1\" class=\"dataframe\">\n",
       "  <thead>\n",
       "    <tr style=\"text-align: right;\">\n",
       "      <th></th>\n",
       "      <th>AOI[LeftStim_Shoulder]Hit</th>\n",
       "      <th>AOI[RightStim_Hose]Hit</th>\n",
       "      <th>AOI[WholeScreen]Hit.4</th>\n",
       "      <th>AOI[LeftStim_Ladder]Hit</th>\n",
       "      <th>AOI[RightStim_Melon]Hit</th>\n",
       "      <th>AOI[WholeScreen]Hit.5</th>\n",
       "      <th>AOI[LeftStim_Rooster]Hit</th>\n",
       "      <th>AOI[RightStim_Playground]Hit</th>\n",
       "      <th>AOI[WholeScreen]Hit.6</th>\n",
       "      <th>AOI[LeftStim_Bike]Hit</th>\n",
       "      <th>...</th>\n",
       "      <th>AOI[Left]Hit.26</th>\n",
       "      <th>AOI[Right]Hit.26</th>\n",
       "      <th>AOI[Center]Hit.26</th>\n",
       "      <th>AOI[WholeScreen]Hit.102</th>\n",
       "      <th>AOI[Dog]Hit.10</th>\n",
       "      <th>AOI[Cat]Hit.2</th>\n",
       "      <th>AOI[WholeScreen]Hit.103</th>\n",
       "      <th>AOI[Cat]Hit.3</th>\n",
       "      <th>AOI[Dog]Hit.11</th>\n",
       "      <th>AOI[WholeScreen]Hit.104</th>\n",
       "    </tr>\n",
       "  </thead>\n",
       "  <tbody>\n",
       "    <tr>\n",
       "      <th>count</th>\n",
       "      <td>1042.000000</td>\n",
       "      <td>1042.000000</td>\n",
       "      <td>1042.000000</td>\n",
       "      <td>960.000000</td>\n",
       "      <td>960.000000</td>\n",
       "      <td>960.000000</td>\n",
       "      <td>961.000000</td>\n",
       "      <td>961.000000</td>\n",
       "      <td>961.000000</td>\n",
       "      <td>1041.000000</td>\n",
       "      <td>...</td>\n",
       "      <td>640.000000</td>\n",
       "      <td>640.000000</td>\n",
       "      <td>640.000000</td>\n",
       "      <td>640.000000</td>\n",
       "      <td>640.000000</td>\n",
       "      <td>640.000000</td>\n",
       "      <td>640.0</td>\n",
       "      <td>640.000000</td>\n",
       "      <td>640.000000</td>\n",
       "      <td>640.0</td>\n",
       "    </tr>\n",
       "    <tr>\n",
       "      <th>mean</th>\n",
       "      <td>0.519194</td>\n",
       "      <td>0.327255</td>\n",
       "      <td>0.937620</td>\n",
       "      <td>0.183333</td>\n",
       "      <td>0.792708</td>\n",
       "      <td>0.976042</td>\n",
       "      <td>0.517170</td>\n",
       "      <td>0.326743</td>\n",
       "      <td>0.864724</td>\n",
       "      <td>0.761768</td>\n",
       "      <td>...</td>\n",
       "      <td>0.076563</td>\n",
       "      <td>0.648438</td>\n",
       "      <td>0.007812</td>\n",
       "      <td>0.775000</td>\n",
       "      <td>0.700000</td>\n",
       "      <td>0.264062</td>\n",
       "      <td>1.0</td>\n",
       "      <td>0.531250</td>\n",
       "      <td>0.432812</td>\n",
       "      <td>1.0</td>\n",
       "    </tr>\n",
       "    <tr>\n",
       "      <th>std</th>\n",
       "      <td>0.499871</td>\n",
       "      <td>0.469437</td>\n",
       "      <td>0.241961</td>\n",
       "      <td>0.387141</td>\n",
       "      <td>0.405578</td>\n",
       "      <td>0.152999</td>\n",
       "      <td>0.499965</td>\n",
       "      <td>0.469267</td>\n",
       "      <td>0.342196</td>\n",
       "      <td>0.426207</td>\n",
       "      <td>...</td>\n",
       "      <td>0.266104</td>\n",
       "      <td>0.477832</td>\n",
       "      <td>0.088111</td>\n",
       "      <td>0.417909</td>\n",
       "      <td>0.458616</td>\n",
       "      <td>0.441178</td>\n",
       "      <td>0.0</td>\n",
       "      <td>0.499413</td>\n",
       "      <td>0.495853</td>\n",
       "      <td>0.0</td>\n",
       "    </tr>\n",
       "    <tr>\n",
       "      <th>min</th>\n",
       "      <td>0.000000</td>\n",
       "      <td>0.000000</td>\n",
       "      <td>0.000000</td>\n",
       "      <td>0.000000</td>\n",
       "      <td>0.000000</td>\n",
       "      <td>0.000000</td>\n",
       "      <td>0.000000</td>\n",
       "      <td>0.000000</td>\n",
       "      <td>0.000000</td>\n",
       "      <td>0.000000</td>\n",
       "      <td>...</td>\n",
       "      <td>0.000000</td>\n",
       "      <td>0.000000</td>\n",
       "      <td>0.000000</td>\n",
       "      <td>0.000000</td>\n",
       "      <td>0.000000</td>\n",
       "      <td>0.000000</td>\n",
       "      <td>1.0</td>\n",
       "      <td>0.000000</td>\n",
       "      <td>0.000000</td>\n",
       "      <td>1.0</td>\n",
       "    </tr>\n",
       "    <tr>\n",
       "      <th>25%</th>\n",
       "      <td>0.000000</td>\n",
       "      <td>0.000000</td>\n",
       "      <td>1.000000</td>\n",
       "      <td>0.000000</td>\n",
       "      <td>1.000000</td>\n",
       "      <td>1.000000</td>\n",
       "      <td>0.000000</td>\n",
       "      <td>0.000000</td>\n",
       "      <td>1.000000</td>\n",
       "      <td>1.000000</td>\n",
       "      <td>...</td>\n",
       "      <td>0.000000</td>\n",
       "      <td>0.000000</td>\n",
       "      <td>0.000000</td>\n",
       "      <td>1.000000</td>\n",
       "      <td>0.000000</td>\n",
       "      <td>0.000000</td>\n",
       "      <td>1.0</td>\n",
       "      <td>0.000000</td>\n",
       "      <td>0.000000</td>\n",
       "      <td>1.0</td>\n",
       "    </tr>\n",
       "    <tr>\n",
       "      <th>50%</th>\n",
       "      <td>1.000000</td>\n",
       "      <td>0.000000</td>\n",
       "      <td>1.000000</td>\n",
       "      <td>0.000000</td>\n",
       "      <td>1.000000</td>\n",
       "      <td>1.000000</td>\n",
       "      <td>1.000000</td>\n",
       "      <td>0.000000</td>\n",
       "      <td>1.000000</td>\n",
       "      <td>1.000000</td>\n",
       "      <td>...</td>\n",
       "      <td>0.000000</td>\n",
       "      <td>1.000000</td>\n",
       "      <td>0.000000</td>\n",
       "      <td>1.000000</td>\n",
       "      <td>1.000000</td>\n",
       "      <td>0.000000</td>\n",
       "      <td>1.0</td>\n",
       "      <td>1.000000</td>\n",
       "      <td>0.000000</td>\n",
       "      <td>1.0</td>\n",
       "    </tr>\n",
       "    <tr>\n",
       "      <th>75%</th>\n",
       "      <td>1.000000</td>\n",
       "      <td>1.000000</td>\n",
       "      <td>1.000000</td>\n",
       "      <td>0.000000</td>\n",
       "      <td>1.000000</td>\n",
       "      <td>1.000000</td>\n",
       "      <td>1.000000</td>\n",
       "      <td>1.000000</td>\n",
       "      <td>1.000000</td>\n",
       "      <td>1.000000</td>\n",
       "      <td>...</td>\n",
       "      <td>0.000000</td>\n",
       "      <td>1.000000</td>\n",
       "      <td>0.000000</td>\n",
       "      <td>1.000000</td>\n",
       "      <td>1.000000</td>\n",
       "      <td>1.000000</td>\n",
       "      <td>1.0</td>\n",
       "      <td>1.000000</td>\n",
       "      <td>1.000000</td>\n",
       "      <td>1.0</td>\n",
       "    </tr>\n",
       "    <tr>\n",
       "      <th>max</th>\n",
       "      <td>1.000000</td>\n",
       "      <td>1.000000</td>\n",
       "      <td>1.000000</td>\n",
       "      <td>1.000000</td>\n",
       "      <td>1.000000</td>\n",
       "      <td>1.000000</td>\n",
       "      <td>1.000000</td>\n",
       "      <td>1.000000</td>\n",
       "      <td>1.000000</td>\n",
       "      <td>1.000000</td>\n",
       "      <td>...</td>\n",
       "      <td>1.000000</td>\n",
       "      <td>1.000000</td>\n",
       "      <td>1.000000</td>\n",
       "      <td>1.000000</td>\n",
       "      <td>1.000000</td>\n",
       "      <td>1.000000</td>\n",
       "      <td>1.0</td>\n",
       "      <td>1.000000</td>\n",
       "      <td>1.000000</td>\n",
       "      <td>1.0</td>\n",
       "    </tr>\n",
       "  </tbody>\n",
       "</table>\n",
       "<p>8 rows × 286 columns</p>\n",
       "</div>"
      ],
      "text/plain": [
       "       AOI[LeftStim_Shoulder]Hit  AOI[RightStim_Hose]Hit  \\\n",
       "count                1042.000000             1042.000000   \n",
       "mean                    0.519194                0.327255   \n",
       "std                     0.499871                0.469437   \n",
       "min                     0.000000                0.000000   \n",
       "25%                     0.000000                0.000000   \n",
       "50%                     1.000000                0.000000   \n",
       "75%                     1.000000                1.000000   \n",
       "max                     1.000000                1.000000   \n",
       "\n",
       "       AOI[WholeScreen]Hit.4  AOI[LeftStim_Ladder]Hit  \\\n",
       "count            1042.000000               960.000000   \n",
       "mean                0.937620                 0.183333   \n",
       "std                 0.241961                 0.387141   \n",
       "min                 0.000000                 0.000000   \n",
       "25%                 1.000000                 0.000000   \n",
       "50%                 1.000000                 0.000000   \n",
       "75%                 1.000000                 0.000000   \n",
       "max                 1.000000                 1.000000   \n",
       "\n",
       "       AOI[RightStim_Melon]Hit  AOI[WholeScreen]Hit.5  \\\n",
       "count               960.000000             960.000000   \n",
       "mean                  0.792708               0.976042   \n",
       "std                   0.405578               0.152999   \n",
       "min                   0.000000               0.000000   \n",
       "25%                   1.000000               1.000000   \n",
       "50%                   1.000000               1.000000   \n",
       "75%                   1.000000               1.000000   \n",
       "max                   1.000000               1.000000   \n",
       "\n",
       "       AOI[LeftStim_Rooster]Hit  AOI[RightStim_Playground]Hit  \\\n",
       "count                961.000000                    961.000000   \n",
       "mean                   0.517170                      0.326743   \n",
       "std                    0.499965                      0.469267   \n",
       "min                    0.000000                      0.000000   \n",
       "25%                    0.000000                      0.000000   \n",
       "50%                    1.000000                      0.000000   \n",
       "75%                    1.000000                      1.000000   \n",
       "max                    1.000000                      1.000000   \n",
       "\n",
       "       AOI[WholeScreen]Hit.6  AOI[LeftStim_Bike]Hit  ...  AOI[Left]Hit.26  \\\n",
       "count             961.000000            1041.000000  ...       640.000000   \n",
       "mean                0.864724               0.761768  ...         0.076563   \n",
       "std                 0.342196               0.426207  ...         0.266104   \n",
       "min                 0.000000               0.000000  ...         0.000000   \n",
       "25%                 1.000000               1.000000  ...         0.000000   \n",
       "50%                 1.000000               1.000000  ...         0.000000   \n",
       "75%                 1.000000               1.000000  ...         0.000000   \n",
       "max                 1.000000               1.000000  ...         1.000000   \n",
       "\n",
       "       AOI[Right]Hit.26  AOI[Center]Hit.26  AOI[WholeScreen]Hit.102  \\\n",
       "count        640.000000         640.000000               640.000000   \n",
       "mean           0.648438           0.007812                 0.775000   \n",
       "std            0.477832           0.088111                 0.417909   \n",
       "min            0.000000           0.000000                 0.000000   \n",
       "25%            0.000000           0.000000                 1.000000   \n",
       "50%            1.000000           0.000000                 1.000000   \n",
       "75%            1.000000           0.000000                 1.000000   \n",
       "max            1.000000           1.000000                 1.000000   \n",
       "\n",
       "       AOI[Dog]Hit.10  AOI[Cat]Hit.2  AOI[WholeScreen]Hit.103  AOI[Cat]Hit.3  \\\n",
       "count      640.000000     640.000000                    640.0     640.000000   \n",
       "mean         0.700000       0.264062                      1.0       0.531250   \n",
       "std          0.458616       0.441178                      0.0       0.499413   \n",
       "min          0.000000       0.000000                      1.0       0.000000   \n",
       "25%          0.000000       0.000000                      1.0       0.000000   \n",
       "50%          1.000000       0.000000                      1.0       1.000000   \n",
       "75%          1.000000       1.000000                      1.0       1.000000   \n",
       "max          1.000000       1.000000                      1.0       1.000000   \n",
       "\n",
       "       AOI[Dog]Hit.11  AOI[WholeScreen]Hit.104  \n",
       "count      640.000000                    640.0  \n",
       "mean         0.432812                      1.0  \n",
       "std          0.495853                      0.0  \n",
       "min          0.000000                      1.0  \n",
       "25%          0.000000                      1.0  \n",
       "50%          0.000000                      1.0  \n",
       "75%          1.000000                      1.0  \n",
       "max          1.000000                      1.0  \n",
       "\n",
       "[8 rows x 286 columns]"
      ]
     },
     "execution_count": 36,
     "metadata": {},
     "output_type": "execute_result"
    }
   ],
   "source": [
    "tdf.describe()"
   ]
  },
  {
   "cell_type": "code",
   "execution_count": 34,
   "metadata": {},
   "outputs": [
    {
     "data": {
      "text/plain": [
       "true     92.38%\n",
       "false     7.62%\n",
       "Name: gazeLocationOnScreen, dtype: object"
      ]
     },
     "execution_count": 34,
     "metadata": {},
     "output_type": "execute_result"
    }
   ],
   "source": [
    "new.gazeLocationOnScreen.value_counts(normalize=True).mul(100).round(2).astype(str) + '%'"
   ]
  },
  {
   "cell_type": "code",
   "execution_count": 35,
   "metadata": {},
   "outputs": [
    {
     "data": {
      "text/plain": [
       "left     52.67%\n",
       "right    35.77%\n",
       "away     11.56%\n",
       "Name: gazeLocationName, dtype: object"
      ]
     },
     "execution_count": 35,
     "metadata": {},
     "output_type": "execute_result"
    }
   ],
   "source": [
    "new.gazeLocationName.value_counts(normalize=True).mul(100).round(2).astype(str) + '%'"
   ]
  },
  {
   "cell_type": "code",
   "execution_count": 65,
   "metadata": {},
   "outputs": [],
   "source": [
    "data =pd.read_csv('C:/Users/TEMP/OneDrive - Northwestern University/Documents/Gaze/Summary.csv',index_col=0)"
   ]
  },
  {
   "cell_type": "code",
   "execution_count": 66,
   "metadata": {},
   "outputs": [
    {
     "data": {
      "text/plain": [
       "Index(['LeftStim_Shoulder', 'RightStim_Hose', 'AOI[WholeScreen]Hit.4', 'away1',\n",
       "       'LeftStim_Ladder', 'RightStim_Melon', 'AOI[WholeScreen]Hit.5', 'away2',\n",
       "       'LeftStim_Rooster', 'RightStim_Playground', 'AOI[WholeScreen]Hit.6',\n",
       "       'away3', 'LeftStim_Bike', 'RightStim_Sneaker', 'AOI[WholeScreen]Hit.7',\n",
       "       'away4'],\n",
       "      dtype='object')"
      ]
     },
     "execution_count": 66,
     "metadata": {},
     "output_type": "execute_result"
    }
   ],
   "source": [
    "data.columns"
   ]
  },
  {
   "cell_type": "code",
   "execution_count": 67,
   "metadata": {},
   "outputs": [],
   "source": [
    "keep =['LeftStim_Shoulder', 'RightStim_Hose', 'away1',\n",
    "       'LeftStim_Ladder', 'RightStim_Melon',  'away2',\n",
    "       'LeftStim_Rooster', 'RightStim_Playground', \n",
    "       'away3', 'LeftStim_Bike', 'RightStim_Sneaker', \n",
    "       'away4']"
   ]
  },
  {
   "cell_type": "code",
   "execution_count": 68,
   "metadata": {},
   "outputs": [
    {
     "data": {
      "text/html": [
       "<div>\n",
       "<style scoped>\n",
       "    .dataframe tbody tr th:only-of-type {\n",
       "        vertical-align: middle;\n",
       "    }\n",
       "\n",
       "    .dataframe tbody tr th {\n",
       "        vertical-align: top;\n",
       "    }\n",
       "\n",
       "    .dataframe thead th {\n",
       "        text-align: right;\n",
       "    }\n",
       "</style>\n",
       "<table border=\"1\" class=\"dataframe\">\n",
       "  <thead>\n",
       "    <tr style=\"text-align: right;\">\n",
       "      <th></th>\n",
       "      <th>LeftStim_Shoulder</th>\n",
       "      <th>RightStim_Hose</th>\n",
       "      <th>away1</th>\n",
       "      <th>LeftStim_Ladder</th>\n",
       "      <th>RightStim_Melon</th>\n",
       "      <th>away2</th>\n",
       "      <th>LeftStim_Rooster</th>\n",
       "      <th>RightStim_Playground</th>\n",
       "      <th>away3</th>\n",
       "      <th>LeftStim_Bike</th>\n",
       "      <th>RightStim_Sneaker</th>\n",
       "      <th>away4</th>\n",
       "    </tr>\n",
       "  </thead>\n",
       "  <tbody>\n",
       "    <tr>\n",
       "      <th>tsv</th>\n",
       "      <td>0.5192</td>\n",
       "      <td>0.3273</td>\n",
       "      <td>0.1535</td>\n",
       "      <td>0.1833</td>\n",
       "      <td>0.7927</td>\n",
       "      <td>0.0240</td>\n",
       "      <td>0.5172</td>\n",
       "      <td>0.3267</td>\n",
       "      <td>0.1561</td>\n",
       "      <td>0.7618</td>\n",
       "      <td>0.1239</td>\n",
       "      <td>0.1143</td>\n",
       "    </tr>\n",
       "    <tr>\n",
       "      <th>json</th>\n",
       "      <td>0.6528</td>\n",
       "      <td>0.1746</td>\n",
       "      <td>0.1726</td>\n",
       "      <td>0.2261</td>\n",
       "      <td>0.7697</td>\n",
       "      <td>0.0041</td>\n",
       "      <td>0.6091</td>\n",
       "      <td>0.3306</td>\n",
       "      <td>0.0603</td>\n",
       "      <td>0.7854</td>\n",
       "      <td>0.1146</td>\n",
       "      <td>0.1000</td>\n",
       "    </tr>\n",
       "  </tbody>\n",
       "</table>\n",
       "</div>"
      ],
      "text/plain": [
       "      LeftStim_Shoulder  RightStim_Hose   away1  LeftStim_Ladder  \\\n",
       "tsv              0.5192          0.3273  0.1535           0.1833   \n",
       "json             0.6528          0.1746  0.1726           0.2261   \n",
       "\n",
       "      RightStim_Melon   away2  LeftStim_Rooster  RightStim_Playground   away3  \\\n",
       "tsv            0.7927  0.0240            0.5172                0.3267  0.1561   \n",
       "json           0.7697  0.0041            0.6091                0.3306  0.0603   \n",
       "\n",
       "      LeftStim_Bike  RightStim_Sneaker   away4  \n",
       "tsv          0.7618             0.1239  0.1143  \n",
       "json         0.7854             0.1146  0.1000  "
      ]
     },
     "execution_count": 68,
     "metadata": {},
     "output_type": "execute_result"
    }
   ],
   "source": [
    "data=data[keep]\n",
    "data"
   ]
  },
  {
   "cell_type": "code",
   "execution_count": 70,
   "metadata": {},
   "outputs": [
    {
     "name": "stdout",
     "output_type": "stream",
     "text": [
      "Index(['LeftStim_Bike', 'RightStim_Sneaker'], dtype='object')\n"
     ]
    }
   ],
   "source": [
    " print((data.columns[[3*i, 3*i+1]]))"
   ]
  },
  {
   "cell_type": "code",
   "execution_count": 74,
   "metadata": {},
   "outputs": [
    {
     "name": "stdout",
     "output_type": "stream",
     "text": [
      "LeftStim_Shoulder RightStim_Hose : stat=0.108, p=0.947\n",
      "LeftStim_Ladder RightStim_Melon : stat=0.027, p=0.987\n",
      "LeftStim_Rooster RightStim_Playground : stat=0.075, p=0.963\n",
      "LeftStim_Bike RightStim_Sneaker : stat=0.003, p=0.998\n"
     ]
    }
   ],
   "source": [
    "for i in range(4):\n",
    "    ob =  data.iloc[1,3*i:3*i+3]\n",
    "    ex = data.iloc[0,3*i:3*i+3]\n",
    "    stat, pv = chisquare(f_obs=ob, f_exp=ex)\n",
    "    print(keep[3*i],keep[3*i+1], ': stat=%.3f, p=%.3f' % (stat, pv))"
   ]
  },
  {
   "cell_type": "code",
   "execution_count": 7,
   "metadata": {},
   "outputs": [],
   "source": [
    "leftob= data.iloc[1,[0,4,8,12]].tolist()"
   ]
  },
  {
   "cell_type": "code",
   "execution_count": 8,
   "metadata": {},
   "outputs": [],
   "source": [
    "leftex= data.iloc[0,[0,4,8,12]].tolist()"
   ]
  },
  {
   "cell_type": "code",
   "execution_count": 11,
   "metadata": {},
   "outputs": [],
   "source": [
    "rightob= data.iloc[1,[1,5,9,13]].tolist()"
   ]
  },
  {
   "cell_type": "code",
   "execution_count": 12,
   "metadata": {},
   "outputs": [],
   "source": [
    "rightex= data.iloc[0,[1,5,9,13]].tolist()"
   ]
  },
  {
   "cell_type": "code",
   "execution_count": 15,
   "metadata": {},
   "outputs": [],
   "source": [
    "aob=data.iloc[1,[3,7,11,15]].tolist()"
   ]
  },
  {
   "cell_type": "code",
   "execution_count": 16,
   "metadata": {},
   "outputs": [],
   "source": [
    "aex=data.iloc[0,[3,7,11,15]].tolist()"
   ]
  },
  {
   "cell_type": "code",
   "execution_count": 17,
   "metadata": {
    "scrolled": false
   },
   "outputs": [
    {
     "name": "stdout",
     "output_type": "stream",
     "text": [
      "Left: stat=0.061, p=0.996\n"
     ]
    }
   ],
   "source": [
    "from scipy.stats import chisquare\n",
    "stat, pv = chisquare(f_obs=leftob, f_exp=leftex)\n",
    "print('Left: stat=%.3f, p=%.3f' % (stat, pv))"
   ]
  },
  {
   "cell_type": "code",
   "execution_count": 18,
   "metadata": {},
   "outputs": [
    {
     "name": "stdout",
     "output_type": "stream",
     "text": [
      "Right: stat=0.073, p=0.995\n"
     ]
    }
   ],
   "source": [
    "stat, pv = chisquare(f_obs=rightob, f_exp=rightex)\n",
    "print('Right: stat=%.3f, p=%.3f' % (stat, pv))"
   ]
  },
  {
   "cell_type": "code",
   "execution_count": 19,
   "metadata": {},
   "outputs": [
    {
     "name": "stdout",
     "output_type": "stream",
     "text": [
      "Away: stat=0.079, p=0.994\n"
     ]
    }
   ],
   "source": [
    "stat, pv = chisquare(f_obs=aob, f_exp=aex)\n",
    "print('Away: stat=%.3f, p=%.3f' % (stat, pv))"
   ]
  },
  {
   "cell_type": "code",
   "execution_count": 41,
   "metadata": {},
   "outputs": [
    {
     "name": "stdout",
     "output_type": "stream",
     "text": [
      "dof=15\n",
      "probability=0.950, critical=24.996, stat=0.138\n",
      "Independent (fail to reject H0)\n",
      "significance=0.050, p=1.000\n",
      "Independent (fail to reject H0)\n"
     ]
    }
   ],
   "source": [
    "from scipy.stats import chi2_contingency\n",
    "from scipy.stats import chi2\n",
    "# contingency table\n",
    "table = [ob,ex]\n",
    "\n",
    "stat, p, dof, expected = chi2_contingency(table)\n",
    "print('dof=%d' % dof)\n",
    "\n",
    "# interpret test-statistic\n",
    "prob = 0.95\n",
    "critical = chi2.ppf(prob, dof)\n",
    "print('probability=%.3f, critical=%.3f, stat=%.3f' % (prob, critical, stat))\n",
    "if abs(stat) >= critical:\n",
    "    print('Dependent (reject H0)')\n",
    "else:\n",
    "    print('Independent (fail to reject H0)')\n",
    "    \n",
    "# interpret p-value\n",
    "alpha = 1.0 - prob\n",
    "print('significance=%.3f, p=%.3f' % (alpha, p))\n",
    "if p <= alpha:\n",
    "    print('Dependent (reject H0)')\n",
    "else:\n",
    "    print('Independent (fail to reject H0)')"
   ]
  },
  {
   "cell_type": "code",
   "execution_count": null,
   "metadata": {},
   "outputs": [],
   "source": []
  }
 ],
 "metadata": {
  "colab": {
   "collapsed_sections": [],
   "name": "gaze.ipynb",
   "provenance": []
  },
  "kernelspec": {
   "display_name": "Python 3",
   "language": "python",
   "name": "python3"
  },
  "language_info": {
   "codemirror_mode": {
    "name": "ipython",
    "version": 3
   },
   "file_extension": ".py",
   "mimetype": "text/x-python",
   "name": "python",
   "nbconvert_exporter": "python",
   "pygments_lexer": "ipython3",
   "version": "3.8.8"
  }
 },
 "nbformat": 4,
 "nbformat_minor": 1
}
