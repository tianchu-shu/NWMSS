{
 "cells": [
  {
   "cell_type": "code",
   "execution_count": 1,
   "metadata": {
    "id": "IgQge6h7AqDw"
   },
   "outputs": [],
   "source": [
    "import json\n",
    "import os\n",
    "import pandas as pd"
   ]
  },
  {
   "cell_type": "code",
   "execution_count": 2,
   "metadata": {},
   "outputs": [],
   "source": [
    "data_dir=\"C:/Users/tsb7592/Box/Baby Toolbox Operations/Domain Teams/Language/Tobii Pilot/LWL & EF Tobii Data Export\""
   ]
  },
  {
   "cell_type": "code",
   "execution_count": 3,
   "metadata": {},
   "outputs": [],
   "source": [
    "os.chdir(data_dir)"
   ]
  },
  {
   "cell_type": "code",
   "execution_count": 66,
   "metadata": {
    "colab": {
     "base_uri": "https://localhost:8080/"
    },
    "id": "e6NteNENFFl7",
    "outputId": "0a219d79-8f0e-41b3-f463-167bc67024fe"
   },
   "outputs": [
    {
     "name": "stderr",
     "output_type": "stream",
     "text": [
      "C:\\Users\\tsb7592\\Anaconda3\\lib\\site-packages\\IPython\\core\\interactiveshell.py:3165: DtypeWarning: Columns (28,34,36) have mixed types.Specify dtype option on import or set low_memory=False.\n",
      "  has_raised = await self.run_ast_nodes(code_ast.body, cell_name,\n"
     ]
    }
   ],
   "source": [
    "tdf= pd.read_csv('Baby Toolbox_Data_Export_06_02_2021.tsv', sep='\\t') "
   ]
  },
  {
   "cell_type": "code",
   "execution_count": 67,
   "metadata": {
    "colab": {
     "base_uri": "https://localhost:8080/"
    },
    "id": "4KY69VAKFMcI",
    "outputId": "c9b13d2a-64e5-4e1e-fce3-fbd168fba274"
   },
   "outputs": [
    {
     "data": {
      "text/plain": [
       "(305387, 380)"
      ]
     },
     "execution_count": 67,
     "metadata": {},
     "output_type": "execute_result"
    }
   ],
   "source": [
    "tdf.shape"
   ]
  },
  {
   "cell_type": "code",
   "execution_count": 68,
   "metadata": {},
   "outputs": [],
   "source": [
    "keep = [col for col in tdf.columns if 'AOI' in col]\n",
    "keep = [col for col in keep if 'Calib' not in col]"
   ]
  },
  {
   "cell_type": "code",
   "execution_count": 69,
   "metadata": {},
   "outputs": [],
   "source": [
    "k24 = keep[4:76]"
   ]
  },
  {
   "cell_type": "code",
   "execution_count": 70,
   "metadata": {},
   "outputs": [
    {
     "name": "stdout",
     "output_type": "stream",
     "text": [
      "['AOI[LeftStim_Shoulder]Hit', 'AOI[RightStim_Hose]Hit', 'AOI[WholeScreen]Hit.4', 'AOI[LeftStim_Ladder]Hit', 'AOI[RightStim_Melon]Hit', 'AOI[WholeScreen]Hit.5', 'AOI[LeftStim_Rooster]Hit', 'AOI[RightStim_Playground]Hit', 'AOI[WholeScreen]Hit.6', 'AOI[LeftStim_Bike]Hit', 'AOI[RightStim_Sneaker]Hit', 'AOI[WholeScreen]Hit.7', 'AOI[LeftStim]Hit', 'AOI[RightStim]Hit', 'AOI[WholeScreen]Hit.8', 'AOI[LeftStim]Hit.1', 'AOI[RightStim]Hit.1', 'AOI[WholeScreen]Hit.9', 'AOI[LeftStim]Hit.2', 'AOI[RightStim]Hit.2', 'AOI[WholeScreen]Hit.10', 'AOI[LeftStim]Hit.3', 'AOI[RightStim]Hit.3', 'AOI[WholeScreen]Hit.11', 'AOI[LeftStim]Hit.4', 'AOI[RightStim]Hit.4', 'AOI[WholeScreen]Hit.12', 'AOI[LeftStim]Hit.5', 'AOI[RightStim]Hit.5', 'AOI[WholeScreen]Hit.13', 'AOI[LeftStim]Hit.6', 'AOI[RightStim]Hit.6', 'AOI[WholeScreen]Hit.14', 'AOI[LeftStim]Hit.7', 'AOI[RightStim]Hit.7', 'AOI[WholeScreen]Hit.15', 'AOI[LeftStim]Hit.8', 'AOI[RightStim]Hit.8', 'AOI[WholeScreen]Hit.16', 'AOI[LeftStim]Hit.9', 'AOI[RightStim]Hit.9', 'AOI[WholeScreen]Hit.17', 'AOI[LeftStim]Hit.10', 'AOI[RightStim]Hit.10', 'AOI[WholeScreen]Hit.18', 'AOI[LeftStim]Hit.11', 'AOI[RightStim]Hit.11', 'AOI[WholeScreen]Hit.19', 'AOI[LeftStim]Hit.12', 'AOI[RightStim]Hit.12', 'AOI[WholeScreen]Hit.20', 'AOI[LeftStim]Hit.13', 'AOI[RightStim]Hit.13', 'AOI[WholeScreen]Hit.21', 'AOI[LeftStim]Hit.14', 'AOI[RightStim]Hit.14', 'AOI[WholeScreen]Hit.22', 'AOI[LeftStim]Hit.15', 'AOI[RightStim]Hit.15', 'AOI[WholeScreen]Hit.23', 'AOI[LeftStim]Hit.16', 'AOI[RightStim]Hit.16', 'AOI[WholeScreen]Hit.24', 'AOI[LeftStim]Hit.17', 'AOI[RightStim]Hit.17', 'AOI[WholeScreen]Hit.25', 'AOI[LeftStim]Hit.18', 'AOI[RightStim]Hit.18', 'AOI[WholeScreen]Hit.26', 'AOI[LeftStim]Hit.19', 'AOI[RightStim]Hit.19', 'AOI[WholeScreen]Hit.27']\n"
     ]
    }
   ],
   "source": [
    "print(k24)"
   ]
  },
  {
   "cell_type": "code",
   "execution_count": 71,
   "metadata": {},
   "outputs": [],
   "source": [
    "tdf=tdf[k24]"
   ]
  },
  {
   "cell_type": "code",
   "execution_count": 72,
   "metadata": {},
   "outputs": [],
   "source": [
    "tdata = round(tdf.mean(),4).to_dict()"
   ]
  },
  {
   "cell_type": "code",
   "execution_count": 73,
   "metadata": {},
   "outputs": [],
   "source": [
    "left =[]\n",
    "right=[]\n",
    "away =[]\n",
    "onscreen = []\n",
    "i = 0\n",
    "for val in tdata:\n",
    "    if i%3 == 0:\n",
    "        rv = tdata[val]\n",
    "        left.append(tdata[val])\n",
    "    elif i%3 == 1:\n",
    "        rv += tdata[val]\n",
    "        right.append(tdata[val])\n",
    "    else:\n",
    "        rv = 1 - rv\n",
    "        away.append(rv)\n",
    "        onscreen.append(tdata[val])\n",
    "    i+=1"
   ]
  },
  {
   "cell_type": "code",
   "execution_count": 74,
   "metadata": {},
   "outputs": [
    {
     "data": {
      "text/plain": [
       "['AOI[LeftStim_Ladder]Hit', 'AOI[RightStim_Melon]Hit', 'AOI[WholeScreen]Hit.5']"
      ]
     },
     "execution_count": 74,
     "metadata": {},
     "output_type": "execute_result"
    }
   ],
   "source": [
    "k24[3:6]"
   ]
  },
  {
   "cell_type": "markdown",
   "metadata": {},
   "source": [
    "# json file"
   ]
  },
  {
   "cell_type": "code",
   "execution_count": 4,
   "metadata": {},
   "outputs": [],
   "source": [
    "data_dir=\"C:/Users/tsb7592/Box/Baby Toolbox Operations/Domain Teams/Language/Tobii Pilot/Tobii Verbose Files/Claire\""
   ]
  },
  {
   "cell_type": "code",
   "execution_count": 5,
   "metadata": {},
   "outputs": [],
   "source": [
    "os.chdir(data_dir)"
   ]
  },
  {
   "cell_type": "code",
   "execution_count": null,
   "metadata": {},
   "outputs": [],
   "source": [
    "#newfile ='949BCA6A-D3D6-426C-9A94-E806F84E4E72@845BDD10-B9AF-4592-AA4E-0CCE76A0E8CD@00025@2021-05-11-22.21.08.674@ExecutiveFunction@Claire@VerboseGazeData.json'"
   ]
  },
  {
   "cell_type": "code",
   "execution_count": null,
   "metadata": {},
   "outputs": [],
   "source": [
    "#df=pd.read_json(newfile)"
   ]
  },
  {
   "cell_type": "code",
   "execution_count": 6,
   "metadata": {
    "id": "NMPx1zS1CQjM"
   },
   "outputs": [],
   "source": [
    "df=pd.read_json('949BCA6A-D3D6-426C-9A94-E806F84E4E72@845BDD10-B9AF-4592-AA4E-0CCE76A0E8CD@00024@2021-05-11-22.11.48.356@LookListening@Claire@VerboseGazeData.json')"
   ]
  },
  {
   "cell_type": "code",
   "execution_count": 10,
   "metadata": {},
   "outputs": [],
   "source": [
    "cols=['itemID','eventName','gazeLocationName', 'gazeLocationOnScreen',\"lookAtPointX\", \"lookAtPointY\"]"
   ]
  },
  {
   "cell_type": "code",
   "execution_count": 11,
   "metadata": {},
   "outputs": [],
   "source": [
    "df=df[cols]"
   ]
  },
  {
   "cell_type": "code",
   "execution_count": null,
   "metadata": {},
   "outputs": [],
   "source": [
    "#Finding the index for presentLiveItem and completeLiveItem to subset the pieces we need for analysis\n",
    "begin =list(df[df['eventName'].str.contains('presentedLiveItem')].index)\n",
    "end = list(df[df['eventName'].str.contains('completedLiveItem')].index)"
   ]
  },
  {
   "cell_type": "code",
   "execution_count": 13,
   "metadata": {},
   "outputs": [
    {
     "data": {
      "text/plain": [
       "2"
      ]
     },
     "execution_count": 13,
     "metadata": {},
     "output_type": "execute_result"
    }
   ],
   "source": [
    "len(df.gazeLocationOnScreen.value_counts())"
   ]
  },
  {
   "cell_type": "code",
   "execution_count": null,
   "metadata": {
    "scrolled": true
   },
   "outputs": [],
   "source": [
    "expected = pd.DataFrame(\n",
    "    {'Left': left,\n",
    "     'Right': right,\n",
    "     'Away': away,'Onscreen':onscreen\n",
    "    })\n",
    "expected"
   ]
  },
  {
   "cell_type": "code",
   "execution_count": null,
   "metadata": {},
   "outputs": [],
   "source": [
    "len(end)"
   ]
  },
  {
   "cell_type": "markdown",
   "metadata": {},
   "source": [
    "# Fisher Exact Test "
   ]
  },
  {
   "cell_type": "code",
   "execution_count": null,
   "metadata": {},
   "outputs": [],
   "source": [
    "#tsv file\n",
    "exp = pd.DataFrame(columns=('left', 'right','onScreenAway','offScreenAway'))\n",
    "for i in range(24):\n",
    "    lcol,rcol,wcol = k24[3*i:3*i+3]\n",
    "    \n",
    "    subset = tdf[tdf[wcol].notnull()]\n",
    "    \n",
    "    a=subset[lcol].sum()\n",
    "    b=subset[rcol].sum()\n",
    "    d=subset[(subset[lcol]==0) & (subset[rcol]==0) &(subset[wcol]==1)].shape[0]\n",
    "    e=subset[(subset[lcol]==0) & (subset[rcol]==0) &(subset[wcol]==0)].shape[0]\n",
    "\n",
    "    exp.loc[i] = [a, b ,d, e]"
   ]
  },
  {
   "cell_type": "code",
   "execution_count": null,
   "metadata": {},
   "outputs": [],
   "source": [
    "#json file\n",
    "obs = pd.DataFrame(columns=('L', 'R','onScreenAway','offScreenAway'))\n",
    "items =[]\n",
    "for i in range(len(end)):\n",
    "    sub = df.iloc[begin[i]+1:end[i]]\n",
    "    items.extend(sub.itemID.dropna().unique())\n",
    "    a, b, c = sub.gazeLocationName.value_counts()[['left','right','away']].round(4) \n",
    "    if len(sub[sub['gazeLocationName'] == 'away'].gazeLocationOnScreen.value_counts()) == 2:\n",
    "        d,e = sub[sub['gazeLocationName'] == 'away'].gazeLocationOnScreen.value_counts()\n",
    "    else:\n",
    "        d = c\n",
    "        e = 0\n",
    "    obs.loc[i] = [a, b ,d, e]"
   ]
  },
  {
   "cell_type": "code",
   "execution_count": null,
   "metadata": {},
   "outputs": [],
   "source": [
    "exp"
   ]
  },
  {
   "cell_type": "code",
   "execution_count": null,
   "metadata": {},
   "outputs": [],
   "source": [
    "obs"
   ]
  },
  {
   "cell_type": "code",
   "execution_count": null,
   "metadata": {
    "scrolled": true
   },
   "outputs": [],
   "source": [
    "exp.to_csv('C:/Users/tsb7592/Box/Baby Toolbox Operations/Analysis/new_tsv_count.csv', index=False)"
   ]
  },
  {
   "cell_type": "code",
   "execution_count": null,
   "metadata": {},
   "outputs": [],
   "source": [
    "l1 =obs.to_numpy()\n",
    "l2= exp.to_numpy()"
   ]
  },
  {
   "cell_type": "code",
   "execution_count": null,
   "metadata": {},
   "outputs": [],
   "source": [
    "items"
   ]
  },
  {
   "cell_type": "code",
   "execution_count": null,
   "metadata": {},
   "outputs": [],
   "source": [
    "import scipy.stats as stats\n",
    "from scipy.stats import chi2_contingency\n",
    "from scipy.stats import chi2\n",
    "\n",
    "for i in range(24):\n",
    "    data = [l1[i], l2[2]]\n",
    "    \n",
    "    stat, p, dof, expected = chi2_contingency(data)\n",
    "    print(items[i])\n",
    "    \n",
    "    # interpret test-statistic\n",
    "    prob = 0.95\n",
    "    critical = chi2.ppf(prob, dof)\n",
    "    print('probability=%.3f, critical=%.3f, stat=%.3f' % (prob, critical, stat))\n",
    "    if abs(stat) >= critical:\n",
    "        print('Dependent (reject H0)')\n",
    "    else:\n",
    "        print('Independent (fail to reject H0)')\n",
    "\n",
    "    # interpret p-value\n",
    "    alpha = 1.0 - prob\n",
    "    print('significance=%.3f, p=%.3f' % (alpha, p))\n",
    "    if p <= alpha:\n",
    "        print('Dependent (reject H0)')\n",
    "    else:\n",
    "        print('Independent (fail to reject H0)')\n",
    "    print('')"
   ]
  },
  {
   "cell_type": "code",
   "execution_count": null,
   "metadata": {
    "scrolled": true
   },
   "outputs": [],
   "source": [
    "from scipy.stats import chisquare\n",
    "chisq = pd.DataFrame(columns=('items', 'stat','p'))\n",
    "for i in range(24):\n",
    "    ob = obs.iloc[i]\n",
    "    ex = expected.iloc[i]\n",
    "    stat, pv = chisquare(f_obs=ob, f_exp=ex)\n",
    "    chisq.loc[i] = [items[i], round(stat,3) ,round(pv,3)]\n"
   ]
  },
  {
   "cell_type": "code",
   "execution_count": null,
   "metadata": {},
   "outputs": [],
   "source": [
    "chisq.to_csv('C:/Users/TEMP/Box/Baby Toolbox Operations/Analysis/chisquare.csv', index=False)"
   ]
  },
  {
   "cell_type": "markdown",
   "metadata": {},
   "source": [
    "# Rewrite Lookalgorithm"
   ]
  },
  {
   "cell_type": "code",
   "execution_count": 1,
   "metadata": {},
   "outputs": [],
   "source": [
    "import json\n",
    "import os\n",
    "import pandas as pd"
   ]
  },
  {
   "cell_type": "code",
   "execution_count": 2,
   "metadata": {},
   "outputs": [],
   "source": [
    "data_dir=\"C:/Users/tsb7592/Box/Baby Toolbox Operations/Domain Teams/Language/Tobii Pilot/Tobii Verbose Files/Claire\""
   ]
  },
  {
   "cell_type": "code",
   "execution_count": 3,
   "metadata": {},
   "outputs": [],
   "source": [
    "os.chdir(data_dir)"
   ]
  },
  {
   "cell_type": "code",
   "execution_count": 4,
   "metadata": {
    "id": "NMPx1zS1CQjM"
   },
   "outputs": [],
   "source": [
    "df=pd.read_json('949BCA6A-D3D6-426C-9A94-E806F84E4E72@845BDD10-B9AF-4592-AA4E-0CCE76A0E8CD@00024@2021-05-11-22.11.48.356@LookListening@Claire@VerboseGazeData.json')"
   ]
  },
  {
   "cell_type": "code",
   "execution_count": 5,
   "metadata": {},
   "outputs": [],
   "source": [
    "cols=['itemID','eventName','gazeLocationName', 'gazeLocationOnScreen',\"lookAtPointX\", \"lookAtPointY\"]"
   ]
  },
  {
   "cell_type": "code",
   "execution_count": 6,
   "metadata": {},
   "outputs": [
    {
     "data": {
      "text/plain": [
       "Index(['calibrationPoint1AverageX', 'calibrationPoint1AverageY',\n",
       "       'calibrationPoint2AverageX', 'calibrationPoint2AverageY',\n",
       "       'calibrationPoint3AverageX', 'calibrationPoint3AverageY',\n",
       "       'calibrationPoint4AverageX', 'calibrationPoint4AverageY', 'elapsedTime',\n",
       "       'eventName', 'gazeEngineState', 'gazeLocationPercentX',\n",
       "       'gazeLocationPercentY', 'itemID', 'dataKey', 'dataValue',\n",
       "       'arEulerAngleFaceX', 'arEulerAngleFaceY', 'arEulerAngleFaceZ',\n",
       "       'arFaceAnchorTransformRow0Column0', 'arFaceAnchorTransformRow0Column1',\n",
       "       'arFaceAnchorTransformRow0Column2', 'arFaceAnchorTransformRow0Column3',\n",
       "       'arFaceAnchorTransformRow1Column0', 'arFaceAnchorTransformRow1Column1',\n",
       "       'arFaceAnchorTransformRow1Column2', 'arFaceAnchorTransformRow1Column3',\n",
       "       'arFaceAnchorTransformRow2Column0', 'arFaceAnchorTransformRow2Column1',\n",
       "       'arFaceAnchorTransformRow2Column2', 'arFaceAnchorTransformRow2Column3',\n",
       "       'arFaceAnchorTransformRow3Column0', 'arFaceAnchorTransformRow3Column1',\n",
       "       'arFaceAnchorTransformRow3Column2', 'arFaceAnchorTransformRow3Column3',\n",
       "       'arFacePositionX', 'arFacePositionY', 'arFacePositionZ',\n",
       "       'arHitTestLookAtPointPositionX', 'arHitTestLookAtPointPositionY',\n",
       "       'arHitTestLookAtPointVectorX', 'arHitTestLookAtPointVectorY',\n",
       "       'arLeftEyeTransformRow0Column0', 'arLeftEyeTransformRow0Column1',\n",
       "       'arLeftEyeTransformRow0Column2', 'arLeftEyeTransformRow0Column3',\n",
       "       'arLeftEyeTransformRow1Column0', 'arLeftEyeTransformRow1Column1',\n",
       "       'arLeftEyeTransformRow1Column2', 'arLeftEyeTransformRow1Column3',\n",
       "       'arLeftEyeTransformRow2Column0', 'arLeftEyeTransformRow2Column1',\n",
       "       'arLeftEyeTransformRow2Column2', 'arLeftEyeTransformRow2Column3',\n",
       "       'arLeftEyeTransformRow3Column0', 'arLeftEyeTransformRow3Column1',\n",
       "       'arLeftEyeTransformRow3Column2', 'arLeftEyeTransformRow3Column3',\n",
       "       'arMiddleEyeHitTestVectorX', 'arMiddleEyeHitTestVectorY',\n",
       "       'arNormalizedLeftEyeBlinkValue', 'arNormalizedRightEyeBlinkValue',\n",
       "       'arRawLookAtPointX', 'arRawLookAtPointY', 'arRawLookAtPointZ',\n",
       "       'arRightEyeTransformRow0Column0', 'arRightEyeTransformRow0Column1',\n",
       "       'arRightEyeTransformRow0Column2', 'arRightEyeTransformRow0Column3',\n",
       "       'arRightEyeTransformRow1Column0', 'arRightEyeTransformRow1Column1',\n",
       "       'arRightEyeTransformRow1Column2', 'arRightEyeTransformRow1Column3',\n",
       "       'arRightEyeTransformRow2Column0', 'arRightEyeTransformRow2Column1',\n",
       "       'arRightEyeTransformRow2Column2', 'arRightEyeTransformRow2Column3',\n",
       "       'arRightEyeTransformRow3Column0', 'arRightEyeTransformRow3Column1',\n",
       "       'arRightEyeTransformRow3Column2', 'arRightEyeTransformRow3Column3',\n",
       "       'calibrationLeftAverageX', 'calibrationRightAverageX', 'lookAtPointX',\n",
       "       'lookAtPointY', 'calibrationFocalPoint', 'mediaCenterPointPercentX',\n",
       "       'mediaCenterPointPercentY', 'cameraImageFilename', 'gazeLocationName',\n",
       "       'gazeLocationOnScreen', 'gazeLocationZoneSet',\n",
       "       'includePriorGazeLocationPoints'],\n",
       "      dtype='object')"
      ]
     },
     "execution_count": 6,
     "metadata": {},
     "output_type": "execute_result"
    }
   ],
   "source": [
    "df.columns"
   ]
  },
  {
   "cell_type": "code",
   "execution_count": 7,
   "metadata": {},
   "outputs": [
    {
     "data": {
      "text/html": [
       "<div>\n",
       "<style scoped>\n",
       "    .dataframe tbody tr th:only-of-type {\n",
       "        vertical-align: middle;\n",
       "    }\n",
       "\n",
       "    .dataframe tbody tr th {\n",
       "        vertical-align: top;\n",
       "    }\n",
       "\n",
       "    .dataframe thead th {\n",
       "        text-align: right;\n",
       "    }\n",
       "</style>\n",
       "<table border=\"1\" class=\"dataframe\">\n",
       "  <thead>\n",
       "    <tr style=\"text-align: right;\">\n",
       "      <th></th>\n",
       "      <th>calibrationPoint1AverageX</th>\n",
       "      <th>calibrationPoint1AverageY</th>\n",
       "      <th>calibrationPoint2AverageX</th>\n",
       "      <th>calibrationPoint2AverageY</th>\n",
       "      <th>calibrationPoint3AverageX</th>\n",
       "      <th>calibrationPoint3AverageY</th>\n",
       "      <th>calibrationPoint4AverageX</th>\n",
       "      <th>calibrationPoint4AverageY</th>\n",
       "      <th>elapsedTime</th>\n",
       "      <th>eventName</th>\n",
       "      <th>...</th>\n",
       "      <th>lookAtPointX</th>\n",
       "      <th>lookAtPointY</th>\n",
       "      <th>calibrationFocalPoint</th>\n",
       "      <th>mediaCenterPointPercentX</th>\n",
       "      <th>mediaCenterPointPercentY</th>\n",
       "      <th>cameraImageFilename</th>\n",
       "      <th>gazeLocationName</th>\n",
       "      <th>gazeLocationOnScreen</th>\n",
       "      <th>gazeLocationZoneSet</th>\n",
       "      <th>includePriorGazeLocationPoints</th>\n",
       "    </tr>\n",
       "  </thead>\n",
       "  <tbody>\n",
       "    <tr>\n",
       "      <th>0</th>\n",
       "      <td>0.0</td>\n",
       "      <td>0.0</td>\n",
       "      <td>0.0</td>\n",
       "      <td>0.0</td>\n",
       "      <td>0.0</td>\n",
       "      <td>0.0</td>\n",
       "      <td>0.0</td>\n",
       "      <td>0.0</td>\n",
       "      <td>0.000000</td>\n",
       "      <td>beganCalibration</td>\n",
       "      <td>...</td>\n",
       "      <td>NaN</td>\n",
       "      <td>NaN</td>\n",
       "      <td>NaN</td>\n",
       "      <td>NaN</td>\n",
       "      <td>NaN</td>\n",
       "      <td>NaN</td>\n",
       "      <td>NaN</td>\n",
       "      <td>NaN</td>\n",
       "      <td>NaN</td>\n",
       "      <td>NaN</td>\n",
       "    </tr>\n",
       "    <tr>\n",
       "      <th>1</th>\n",
       "      <td>0.0</td>\n",
       "      <td>0.0</td>\n",
       "      <td>0.0</td>\n",
       "      <td>0.0</td>\n",
       "      <td>0.0</td>\n",
       "      <td>0.0</td>\n",
       "      <td>0.0</td>\n",
       "      <td>0.0</td>\n",
       "      <td>0.000588</td>\n",
       "      <td>data</td>\n",
       "      <td>...</td>\n",
       "      <td>NaN</td>\n",
       "      <td>NaN</td>\n",
       "      <td>NaN</td>\n",
       "      <td>NaN</td>\n",
       "      <td>NaN</td>\n",
       "      <td>NaN</td>\n",
       "      <td>NaN</td>\n",
       "      <td>NaN</td>\n",
       "      <td>NaN</td>\n",
       "      <td>NaN</td>\n",
       "    </tr>\n",
       "    <tr>\n",
       "      <th>2</th>\n",
       "      <td>0.0</td>\n",
       "      <td>0.0</td>\n",
       "      <td>0.0</td>\n",
       "      <td>0.0</td>\n",
       "      <td>0.0</td>\n",
       "      <td>0.0</td>\n",
       "      <td>0.0</td>\n",
       "      <td>0.0</td>\n",
       "      <td>0.000630</td>\n",
       "      <td>data</td>\n",
       "      <td>...</td>\n",
       "      <td>NaN</td>\n",
       "      <td>NaN</td>\n",
       "      <td>NaN</td>\n",
       "      <td>NaN</td>\n",
       "      <td>NaN</td>\n",
       "      <td>NaN</td>\n",
       "      <td>NaN</td>\n",
       "      <td>NaN</td>\n",
       "      <td>NaN</td>\n",
       "      <td>NaN</td>\n",
       "    </tr>\n",
       "    <tr>\n",
       "      <th>3</th>\n",
       "      <td>0.0</td>\n",
       "      <td>0.0</td>\n",
       "      <td>0.0</td>\n",
       "      <td>0.0</td>\n",
       "      <td>0.0</td>\n",
       "      <td>0.0</td>\n",
       "      <td>0.0</td>\n",
       "      <td>0.0</td>\n",
       "      <td>0.000662</td>\n",
       "      <td>data</td>\n",
       "      <td>...</td>\n",
       "      <td>NaN</td>\n",
       "      <td>NaN</td>\n",
       "      <td>NaN</td>\n",
       "      <td>NaN</td>\n",
       "      <td>NaN</td>\n",
       "      <td>NaN</td>\n",
       "      <td>NaN</td>\n",
       "      <td>NaN</td>\n",
       "      <td>NaN</td>\n",
       "      <td>NaN</td>\n",
       "    </tr>\n",
       "    <tr>\n",
       "      <th>4</th>\n",
       "      <td>0.0</td>\n",
       "      <td>0.0</td>\n",
       "      <td>0.0</td>\n",
       "      <td>0.0</td>\n",
       "      <td>0.0</td>\n",
       "      <td>0.0</td>\n",
       "      <td>0.0</td>\n",
       "      <td>0.0</td>\n",
       "      <td>0.000689</td>\n",
       "      <td>data</td>\n",
       "      <td>...</td>\n",
       "      <td>NaN</td>\n",
       "      <td>NaN</td>\n",
       "      <td>NaN</td>\n",
       "      <td>NaN</td>\n",
       "      <td>NaN</td>\n",
       "      <td>NaN</td>\n",
       "      <td>NaN</td>\n",
       "      <td>NaN</td>\n",
       "      <td>NaN</td>\n",
       "      <td>NaN</td>\n",
       "    </tr>\n",
       "  </tbody>\n",
       "</table>\n",
       "<p>5 rows × 93 columns</p>\n",
       "</div>"
      ],
      "text/plain": [
       "   calibrationPoint1AverageX  calibrationPoint1AverageY  \\\n",
       "0                        0.0                        0.0   \n",
       "1                        0.0                        0.0   \n",
       "2                        0.0                        0.0   \n",
       "3                        0.0                        0.0   \n",
       "4                        0.0                        0.0   \n",
       "\n",
       "   calibrationPoint2AverageX  calibrationPoint2AverageY  \\\n",
       "0                        0.0                        0.0   \n",
       "1                        0.0                        0.0   \n",
       "2                        0.0                        0.0   \n",
       "3                        0.0                        0.0   \n",
       "4                        0.0                        0.0   \n",
       "\n",
       "   calibrationPoint3AverageX  calibrationPoint3AverageY  \\\n",
       "0                        0.0                        0.0   \n",
       "1                        0.0                        0.0   \n",
       "2                        0.0                        0.0   \n",
       "3                        0.0                        0.0   \n",
       "4                        0.0                        0.0   \n",
       "\n",
       "   calibrationPoint4AverageX  calibrationPoint4AverageY  elapsedTime  \\\n",
       "0                        0.0                        0.0     0.000000   \n",
       "1                        0.0                        0.0     0.000588   \n",
       "2                        0.0                        0.0     0.000630   \n",
       "3                        0.0                        0.0     0.000662   \n",
       "4                        0.0                        0.0     0.000689   \n",
       "\n",
       "          eventName  ... lookAtPointX  lookAtPointY  calibrationFocalPoint  \\\n",
       "0  beganCalibration  ...          NaN           NaN                    NaN   \n",
       "1              data  ...          NaN           NaN                    NaN   \n",
       "2              data  ...          NaN           NaN                    NaN   \n",
       "3              data  ...          NaN           NaN                    NaN   \n",
       "4              data  ...          NaN           NaN                    NaN   \n",
       "\n",
       "  mediaCenterPointPercentX mediaCenterPointPercentY cameraImageFilename  \\\n",
       "0                      NaN                      NaN                 NaN   \n",
       "1                      NaN                      NaN                 NaN   \n",
       "2                      NaN                      NaN                 NaN   \n",
       "3                      NaN                      NaN                 NaN   \n",
       "4                      NaN                      NaN                 NaN   \n",
       "\n",
       "   gazeLocationName  gazeLocationOnScreen  gazeLocationZoneSet  \\\n",
       "0               NaN                   NaN                  NaN   \n",
       "1               NaN                   NaN                  NaN   \n",
       "2               NaN                   NaN                  NaN   \n",
       "3               NaN                   NaN                  NaN   \n",
       "4               NaN                   NaN                  NaN   \n",
       "\n",
       "   includePriorGazeLocationPoints  \n",
       "0                             NaN  \n",
       "1                             NaN  \n",
       "2                             NaN  \n",
       "3                             NaN  \n",
       "4                             NaN  \n",
       "\n",
       "[5 rows x 93 columns]"
      ]
     },
     "execution_count": 7,
     "metadata": {},
     "output_type": "execute_result"
    }
   ],
   "source": [
    "df.head()"
   ]
  },
  {
   "cell_type": "code",
   "execution_count": 8,
   "metadata": {},
   "outputs": [],
   "source": [
    "import math\n",
    "import numpy as np\n",
    "\n",
    "def lookAlgorithm(df, usevals, searchTime=1.0167, margX=10, margY=15, alignX=30, alignY=30):\n",
    "    '''\n",
    "    Input: \n",
    "        df: the json file read to a pandas dataframe\n",
    "        usevals: a string of the column name\n",
    "    Output:\n",
    "         results in a pandas dataframe\n",
    "    '''\n",
    "    \n",
    "    if 'lookAtPoint' in usevals:\n",
    "        useX = \"lookAtPointX\"\n",
    "        useY = \"lookAtPointY\"\n",
    "    elif 'arHitTestLookAtPointPosition' in usevals:\n",
    "        useX = \"arHitTestLookAtPointPositionX\"\n",
    "        useY = \"arHitTestLookAtPointPositionY\"\n",
    "    \n",
    "    startRows =list(df[df['eventName'].str.contains('presentedCalibrationItem')].index)\n",
    "    endRows =list(df[df['eventName'].str.contains('completedCalibrationItem')].index)\n",
    "    \n",
    "    if len(startRows) != len(endRows):\n",
    "        print(\"Early-terminated Calibration\")\n",
    "        return\n",
    "    \n",
    "    RMs=[]\n",
    "    for i in range(len(startRows)):\n",
    "        rollingMeans = pd.DataFrame(columns=('Cali','calibFocal', 'rowIndex','rollingX','rollingY','props')) \n",
    "        sub = df.iloc[startRows[i]:endRows[i]+1]\n",
    "        firstCheck_time = df.iloc[startRows[i]]['elapsedTime'] + searchTime\n",
    "        firstCheck_row = sub[sub['elapsedTime'] <= firstCheck_time].index.max()\n",
    "       \n",
    "        for j in range(firstCheck_row, endRows[i]+1):\n",
    "            rollingMeans.loc[j] = [i,'tmp', j, -9999,-9999, -9999]\n",
    "            \n",
    "            useData =sub[(sub['elapsedTime'] >= df.iloc[j]['elapsedTime'] - searchTime) & (sub['elapsedTime'] <= df.iloc[j]['elapsedTime'])&(sub['elapsedTime'] >= df.iloc[startRows[i]]['elapsedTime'])]\n",
    "            useData = useData[~useData.eventName.str.contains('complet')]\n",
    "                              \n",
    "            rollingMeans.loc[j]['calibFocal']=useData['calibrationFocalPoint'].unique()[0]\n",
    "            rollingMeans.loc[j]['rollingX']=round(useData[useX].mean(),2)\n",
    "            rollingMeans.loc[j]['rollingY']=round(useData[useY].mean(),2)\n",
    "            rollingMeans.loc[j]['props']=round(100*(useData[(useData[useX] >= useData[useX].mean()- margX) & (useData[useX] <= useData[useX].mean()+ margX) & (useData[useY] >= useData[useY].mean()- margY) & (useData[useY] <= useData[useY].mean()+ margY)]).shape[0]/useData[useData[useY].notnull()].shape[0],2)\n",
    "          \n",
    "        RMs.append(rollingMeans)\n",
    "         \n",
    "    RMs = pd.concat(RMs, ignore_index=True)\n",
    "    \n",
    "    use=[]\n",
    "    for i in range(4):\n",
    "        ur = RMs[(RMs['props'] >= 80) & (RMs['Cali']==i)].head(1)\n",
    "        use.append(ur)\n",
    "    useRows = pd.concat(use)\n",
    "    useRows = useRows.reset_index()\n",
    "    \n",
    "    #if useRows.shape[0]>4:\n",
    "    useRows['calibrationSet'] =(useRows.index + 1)/4\n",
    "    useRows['calibrationSet'] =useRows['calibrationSet'].apply(np.ceil)\n",
    "        \n",
    "    tr = useRows[useRows['calibFocal']=='topRight']['rollingX'].values[0]\n",
    "    br = useRows[useRows['calibFocal']=='bottomRight']['rollingX'].values[0]\n",
    "    tl = useRows[useRows['calibFocal']=='topLeft']['rollingX'].values[0]\n",
    "    bl = useRows[useRows['calibFocal']=='bottomLeft']['rollingX'].values[0]    \n",
    "    \n",
    "    #save the 4 screenSide numbers to a dictionary \n",
    "    screenSide={}\n",
    "    if abs(tr- br) <= alignX:\n",
    "        screenSide['rightSide'] = max(tr, br)\n",
    "    else:\n",
    "        screenSide['rightSide'] = np.NaN\n",
    "    \n",
    "    if abs(tl- bl) <= alignX:\n",
    "        screenSide['leftSide']= min(tl, bl)\n",
    "    else:\n",
    "        screenSide['leftSide']= np.NaN\n",
    "    \n",
    "    tr = useRows[useRows['calibFocal']=='topRight']['rollingY'].values[0]\n",
    "    br = useRows[useRows['calibFocal']=='bottomRight']['rollingY'].values[0]\n",
    "    tl = useRows[useRows['calibFocal']=='topLeft']['rollingY'].values[0]\n",
    "    bl = useRows[useRows['calibFocal']=='bottomLeft']['rollingY'].values[0]\n",
    "    \n",
    "    if abs(tr- tl) <= alignY:\n",
    "        screenSide['topSide'] = round((tr+tl)/2,2)\n",
    "    else:\n",
    "        screenSide['topSide'] = np.NaN\n",
    "        \n",
    "    if abs(br- bl) <= alignY:\n",
    "        screenSide['bottomSide']= round((br+bl)/2,2)\n",
    "    else:\n",
    "        screenSide['bottomSide']= np.NaN   \n",
    "        \n",
    "    if useRows['calibFocal'].isnull().any():\n",
    "        screenSide['rightSide'] = np.NaN\n",
    "        screenSide['leftSide'] = np.NaN\n",
    "        screenSide['topSide'] = np.NaN\n",
    "        screenSide['bottomSide'] = np.NaN\n",
    " \n",
    "    return RMs,useRows,screenSide"
   ]
  },
  {
   "cell_type": "code",
   "execution_count": 9,
   "metadata": {},
   "outputs": [],
   "source": [
    "RM, lookDetected, ss=lookAlgorithm(df,'lookAtPoint')"
   ]
  },
  {
   "cell_type": "code",
   "execution_count": 10,
   "metadata": {
    "scrolled": true
   },
   "outputs": [
    {
     "data": {
      "text/html": [
       "<div>\n",
       "<style scoped>\n",
       "    .dataframe tbody tr th:only-of-type {\n",
       "        vertical-align: middle;\n",
       "    }\n",
       "\n",
       "    .dataframe tbody tr th {\n",
       "        vertical-align: top;\n",
       "    }\n",
       "\n",
       "    .dataframe thead th {\n",
       "        text-align: right;\n",
       "    }\n",
       "</style>\n",
       "<table border=\"1\" class=\"dataframe\">\n",
       "  <thead>\n",
       "    <tr style=\"text-align: right;\">\n",
       "      <th></th>\n",
       "      <th>Cali</th>\n",
       "      <th>calibFocal</th>\n",
       "      <th>rowIndex</th>\n",
       "      <th>rollingX</th>\n",
       "      <th>rollingY</th>\n",
       "      <th>props</th>\n",
       "    </tr>\n",
       "  </thead>\n",
       "  <tbody>\n",
       "    <tr>\n",
       "      <th>0</th>\n",
       "      <td>0</td>\n",
       "      <td>topLeft</td>\n",
       "      <td>89</td>\n",
       "      <td>32.1</td>\n",
       "      <td>10.86</td>\n",
       "      <td>35.48</td>\n",
       "    </tr>\n",
       "    <tr>\n",
       "      <th>1</th>\n",
       "      <td>0</td>\n",
       "      <td>topLeft</td>\n",
       "      <td>90</td>\n",
       "      <td>31.78</td>\n",
       "      <td>10.76</td>\n",
       "      <td>33.87</td>\n",
       "    </tr>\n",
       "    <tr>\n",
       "      <th>2</th>\n",
       "      <td>0</td>\n",
       "      <td>topLeft</td>\n",
       "      <td>91</td>\n",
       "      <td>31.61</td>\n",
       "      <td>10.48</td>\n",
       "      <td>35.0</td>\n",
       "    </tr>\n",
       "    <tr>\n",
       "      <th>3</th>\n",
       "      <td>0</td>\n",
       "      <td>topLeft</td>\n",
       "      <td>92</td>\n",
       "      <td>31.4</td>\n",
       "      <td>10.57</td>\n",
       "      <td>32.79</td>\n",
       "    </tr>\n",
       "    <tr>\n",
       "      <th>4</th>\n",
       "      <td>0</td>\n",
       "      <td>topLeft</td>\n",
       "      <td>93</td>\n",
       "      <td>31.07</td>\n",
       "      <td>10.51</td>\n",
       "      <td>32.79</td>\n",
       "    </tr>\n",
       "    <tr>\n",
       "      <th>...</th>\n",
       "      <td>...</td>\n",
       "      <td>...</td>\n",
       "      <td>...</td>\n",
       "      <td>...</td>\n",
       "      <td>...</td>\n",
       "      <td>...</td>\n",
       "    </tr>\n",
       "    <tr>\n",
       "      <th>275</th>\n",
       "      <td>3</td>\n",
       "      <td>topRight</td>\n",
       "      <td>594</td>\n",
       "      <td>114.78</td>\n",
       "      <td>0.84</td>\n",
       "      <td>100.0</td>\n",
       "    </tr>\n",
       "    <tr>\n",
       "      <th>276</th>\n",
       "      <td>3</td>\n",
       "      <td>topRight</td>\n",
       "      <td>595</td>\n",
       "      <td>114.66</td>\n",
       "      <td>0.66</td>\n",
       "      <td>100.0</td>\n",
       "    </tr>\n",
       "    <tr>\n",
       "      <th>277</th>\n",
       "      <td>3</td>\n",
       "      <td>topRight</td>\n",
       "      <td>596</td>\n",
       "      <td>114.57</td>\n",
       "      <td>0.46</td>\n",
       "      <td>100.0</td>\n",
       "    </tr>\n",
       "    <tr>\n",
       "      <th>278</th>\n",
       "      <td>3</td>\n",
       "      <td>topRight</td>\n",
       "      <td>597</td>\n",
       "      <td>114.47</td>\n",
       "      <td>0.39</td>\n",
       "      <td>100.0</td>\n",
       "    </tr>\n",
       "    <tr>\n",
       "      <th>279</th>\n",
       "      <td>3</td>\n",
       "      <td>topRight</td>\n",
       "      <td>598</td>\n",
       "      <td>114.47</td>\n",
       "      <td>0.39</td>\n",
       "      <td>100.0</td>\n",
       "    </tr>\n",
       "  </tbody>\n",
       "</table>\n",
       "<p>280 rows × 6 columns</p>\n",
       "</div>"
      ],
      "text/plain": [
       "    Cali calibFocal rowIndex rollingX rollingY  props\n",
       "0      0    topLeft       89     32.1    10.86  35.48\n",
       "1      0    topLeft       90    31.78    10.76  33.87\n",
       "2      0    topLeft       91    31.61    10.48   35.0\n",
       "3      0    topLeft       92     31.4    10.57  32.79\n",
       "4      0    topLeft       93    31.07    10.51  32.79\n",
       "..   ...        ...      ...      ...      ...    ...\n",
       "275    3   topRight      594   114.78     0.84  100.0\n",
       "276    3   topRight      595   114.66     0.66  100.0\n",
       "277    3   topRight      596   114.57     0.46  100.0\n",
       "278    3   topRight      597   114.47     0.39  100.0\n",
       "279    3   topRight      598   114.47     0.39  100.0\n",
       "\n",
       "[280 rows x 6 columns]"
      ]
     },
     "execution_count": 10,
     "metadata": {},
     "output_type": "execute_result"
    }
   ],
   "source": [
    "RM"
   ]
  },
  {
   "cell_type": "code",
   "execution_count": 11,
   "metadata": {},
   "outputs": [
    {
     "data": {
      "text/html": [
       "<div>\n",
       "<style scoped>\n",
       "    .dataframe tbody tr th:only-of-type {\n",
       "        vertical-align: middle;\n",
       "    }\n",
       "\n",
       "    .dataframe tbody tr th {\n",
       "        vertical-align: top;\n",
       "    }\n",
       "\n",
       "    .dataframe thead th {\n",
       "        text-align: right;\n",
       "    }\n",
       "</style>\n",
       "<table border=\"1\" class=\"dataframe\">\n",
       "  <thead>\n",
       "    <tr style=\"text-align: right;\">\n",
       "      <th></th>\n",
       "      <th>index</th>\n",
       "      <th>Cali</th>\n",
       "      <th>calibFocal</th>\n",
       "      <th>rowIndex</th>\n",
       "      <th>rollingX</th>\n",
       "      <th>rollingY</th>\n",
       "      <th>props</th>\n",
       "      <th>calibrationSet</th>\n",
       "    </tr>\n",
       "  </thead>\n",
       "  <tbody>\n",
       "    <tr>\n",
       "      <th>0</th>\n",
       "      <td>17</td>\n",
       "      <td>0</td>\n",
       "      <td>topLeft</td>\n",
       "      <td>106</td>\n",
       "      <td>25.33</td>\n",
       "      <td>9.66</td>\n",
       "      <td>83.33</td>\n",
       "      <td>1.0</td>\n",
       "    </tr>\n",
       "    <tr>\n",
       "      <th>1</th>\n",
       "      <td>100</td>\n",
       "      <td>1</td>\n",
       "      <td>bottomRight</td>\n",
       "      <td>266</td>\n",
       "      <td>113.45</td>\n",
       "      <td>14.3</td>\n",
       "      <td>85.25</td>\n",
       "      <td>1.0</td>\n",
       "    </tr>\n",
       "    <tr>\n",
       "      <th>2</th>\n",
       "      <td>167</td>\n",
       "      <td>2</td>\n",
       "      <td>bottomLeft</td>\n",
       "      <td>409</td>\n",
       "      <td>42.37</td>\n",
       "      <td>18.47</td>\n",
       "      <td>83.61</td>\n",
       "      <td>1.0</td>\n",
       "    </tr>\n",
       "    <tr>\n",
       "      <th>3</th>\n",
       "      <td>237</td>\n",
       "      <td>3</td>\n",
       "      <td>topRight</td>\n",
       "      <td>556</td>\n",
       "      <td>111.09</td>\n",
       "      <td>6.09</td>\n",
       "      <td>86.67</td>\n",
       "      <td>1.0</td>\n",
       "    </tr>\n",
       "  </tbody>\n",
       "</table>\n",
       "</div>"
      ],
      "text/plain": [
       "   index Cali   calibFocal rowIndex rollingX rollingY  props  calibrationSet\n",
       "0     17    0      topLeft      106    25.33     9.66  83.33             1.0\n",
       "1    100    1  bottomRight      266   113.45     14.3  85.25             1.0\n",
       "2    167    2   bottomLeft      409    42.37    18.47  83.61             1.0\n",
       "3    237    3     topRight      556   111.09     6.09  86.67             1.0"
      ]
     },
     "execution_count": 11,
     "metadata": {},
     "output_type": "execute_result"
    }
   ],
   "source": [
    "lookDetected"
   ]
  },
  {
   "cell_type": "code",
   "execution_count": 12,
   "metadata": {},
   "outputs": [
    {
     "data": {
      "text/plain": [
       "{'rightSide': 113.45, 'leftSide': 25.33, 'topSide': 7.88, 'bottomSide': 16.38}"
      ]
     },
     "execution_count": 12,
     "metadata": {},
     "output_type": "execute_result"
    }
   ],
   "source": [
    "ss"
   ]
  },
  {
   "cell_type": "code",
   "execution_count": 13,
   "metadata": {},
   "outputs": [],
   "source": [
    "def Modify_screenSide(ss, leftright= 25, topbottom=50, ratio= 0.4):\n",
    "    '''\n",
    "    Input: \n",
    "        ss: dictionary contains the four screensides\n",
    "        leftright: the margin to modify the left/right side\n",
    "        topbottom: the margin to modify the top/bottom side\n",
    "        ratio: the ratio to identify left and right side\n",
    "        \n",
    "    Output:\n",
    "         screenSide: the modified dictionary contains new four screensides\n",
    "    '''\n",
    "    \n",
    "    screenSide =ss.copy()\n",
    "    screenSide['rightSide'] += leftright\n",
    "    screenSide['leftSide'] -= leftright\n",
    "    screenSide['topSide'] -= topbottom\n",
    "    screenSide['bottomSide'] += topbottom\n",
    "    \n",
    "    leftM = (screenSide['rightSide']-screenSide['leftSide'])*ratio\n",
    "    rightM = (screenSide['rightSide']-screenSide['leftSide'])*(1-ratio)\n",
    "    print(leftM, rightM)\n",
    "    \n",
    "    return screenSide, leftM, rightM"
   ]
  },
  {
   "cell_type": "code",
   "execution_count": 14,
   "metadata": {},
   "outputs": [],
   "source": [
    "def Location(row):\n",
    "    if row['lookAtPointX'] > ss['leftSide'] and row['lookAtPointX'] <leftM  and row['lookAtPointY']>ss['topSide']and row['lookAtPointY']<ss['bottomSide'] :\n",
    "        return 'left'\n",
    "    elif row['lookAtPointX'] > rightM  and row['lookAtPointX'] <ss['rightSide'] and row['lookAtPointY']>ss['topSide']and row['lookAtPointY']<ss['bottomSide']:\n",
    "        return 'right'\n",
    "    else:\n",
    "        return 'away'"
   ]
  },
  {
   "cell_type": "code",
   "execution_count": 15,
   "metadata": {},
   "outputs": [],
   "source": [
    "def OnScreen(row):\n",
    "    if row['lookAtPointX'] >leftM and row['lookAtPointX']< rightM and row['lookAtPointY']<ss['bottomSide']and row['lookAtPointY']>ss['topSide'] :\n",
    "        return 'true'\n",
    "    else:\n",
    "        return 'false'"
   ]
  },
  {
   "cell_type": "code",
   "execution_count": 16,
   "metadata": {},
   "outputs": [
    {
     "name": "stdout",
     "output_type": "stream",
     "text": [
      "55.248000000000005 82.872\n"
     ]
    },
    {
     "data": {
      "text/plain": [
       "{'rightSide': 138.45,\n",
       " 'leftSide': 0.3299999999999983,\n",
       " 'topSide': -42.12,\n",
       " 'bottomSide': 66.38}"
      ]
     },
     "execution_count": 16,
     "metadata": {},
     "output_type": "execute_result"
    }
   ],
   "source": [
    "ss, leftM, rightM=Modify_screenSide(ss)\n",
    "ss"
   ]
  },
  {
   "cell_type": "code",
   "execution_count": 17,
   "metadata": {},
   "outputs": [],
   "source": [
    "#json file\n",
    "\n",
    "def ReProcess(df, ss, leftM, rightM):\n",
    "    '''\n",
    "    Input: \n",
    "        df: the json file read to a pandas dataframe\n",
    "        ss: the modified dictionary contains new four screensides\n",
    "        leftM(float): the left margin\n",
    "        rightM(float): the right margin\n",
    "        \n",
    "    Output:\n",
    "         new: the pandas dataframe contains the new count \n",
    "    '''\n",
    "    #Finding the index for presentLiveItem and completeLiveItem to subset the pieces we need for analysis\n",
    "    begin =list(df[df['eventName'].str.contains('presentedLiveItem')].index)\n",
    "    end = list(df[df['eventName'].str.contains('completedLiveItem')].index)\n",
    "    df['NewLocation'] = df.apply( lambda row : Location(row), axis = 1)\n",
    "    df['NewOnScreen'] = df.apply( lambda row : OnScreen(row), axis = 1)\n",
    "\n",
    "    new = pd.DataFrame(columns=('L', 'R','onScreenAway','offScreenAway'))\n",
    "    items =[]\n",
    "    for i in range(len(end)):\n",
    "        sub = df.iloc[begin[i]+1:end[i]]\n",
    "        items.extend(sub.itemID.dropna().unique())\n",
    "        #sub = sub[['gazeLocationName', 'gazeLocationOnScreen','lookAtPointX','lookAtPointY']].dropna()\n",
    "        a, b, c = sub.NewLocation.value_counts()[['left','right','away']].round(4) \n",
    "        if len(sub[sub['NewLocation'] == 'away'].NewOnScreen.value_counts()) == 2:\n",
    "            d,e = sub[sub['NewLocation'] == 'away'].NewOnScreen.value_counts()\n",
    "        else:\n",
    "            d = c\n",
    "            e = 0\n",
    "        new.loc[i] = [a, b ,d, e]\n",
    "        \n",
    "    return new"
   ]
  },
  {
   "cell_type": "code",
   "execution_count": 18,
   "metadata": {},
   "outputs": [],
   "source": [
    "newobs =ReProcess(df, ss, leftM, rightM)"
   ]
  },
  {
   "cell_type": "code",
   "execution_count": 19,
   "metadata": {},
   "outputs": [
    {
     "data": {
      "text/html": [
       "<div>\n",
       "<style scoped>\n",
       "    .dataframe tbody tr th:only-of-type {\n",
       "        vertical-align: middle;\n",
       "    }\n",
       "\n",
       "    .dataframe tbody tr th {\n",
       "        vertical-align: top;\n",
       "    }\n",
       "\n",
       "    .dataframe thead th {\n",
       "        text-align: right;\n",
       "    }\n",
       "</style>\n",
       "<table border=\"1\" class=\"dataframe\">\n",
       "  <thead>\n",
       "    <tr style=\"text-align: right;\">\n",
       "      <th></th>\n",
       "      <th>L</th>\n",
       "      <th>R</th>\n",
       "      <th>onScreenAway</th>\n",
       "      <th>offScreenAway</th>\n",
       "    </tr>\n",
       "  </thead>\n",
       "  <tbody>\n",
       "    <tr>\n",
       "      <th>0</th>\n",
       "      <td>280</td>\n",
       "      <td>62</td>\n",
       "      <td>160</td>\n",
       "      <td>129</td>\n",
       "    </tr>\n",
       "    <tr>\n",
       "      <th>1</th>\n",
       "      <td>108</td>\n",
       "      <td>277</td>\n",
       "      <td>228</td>\n",
       "      <td>4</td>\n",
       "    </tr>\n",
       "    <tr>\n",
       "      <th>2</th>\n",
       "      <td>200</td>\n",
       "      <td>159</td>\n",
       "      <td>257</td>\n",
       "      <td>9</td>\n",
       "    </tr>\n",
       "    <tr>\n",
       "      <th>3</th>\n",
       "      <td>240</td>\n",
       "      <td>48</td>\n",
       "      <td>303</td>\n",
       "      <td>29</td>\n",
       "    </tr>\n",
       "    <tr>\n",
       "      <th>4</th>\n",
       "      <td>186</td>\n",
       "      <td>248</td>\n",
       "      <td>146</td>\n",
       "      <td>46</td>\n",
       "    </tr>\n",
       "    <tr>\n",
       "      <th>5</th>\n",
       "      <td>260</td>\n",
       "      <td>113</td>\n",
       "      <td>204</td>\n",
       "      <td>46</td>\n",
       "    </tr>\n",
       "    <tr>\n",
       "      <th>6</th>\n",
       "      <td>118</td>\n",
       "      <td>307</td>\n",
       "      <td>143</td>\n",
       "      <td>54</td>\n",
       "    </tr>\n",
       "    <tr>\n",
       "      <th>7</th>\n",
       "      <td>235</td>\n",
       "      <td>145</td>\n",
       "      <td>233</td>\n",
       "      <td>8</td>\n",
       "    </tr>\n",
       "    <tr>\n",
       "      <th>8</th>\n",
       "      <td>145</td>\n",
       "      <td>240</td>\n",
       "      <td>213</td>\n",
       "      <td>31</td>\n",
       "    </tr>\n",
       "    <tr>\n",
       "      <th>9</th>\n",
       "      <td>271</td>\n",
       "      <td>141</td>\n",
       "      <td>198</td>\n",
       "      <td>14</td>\n",
       "    </tr>\n",
       "    <tr>\n",
       "      <th>10</th>\n",
       "      <td>77</td>\n",
       "      <td>330</td>\n",
       "      <td>156</td>\n",
       "      <td>73</td>\n",
       "    </tr>\n",
       "    <tr>\n",
       "      <th>11</th>\n",
       "      <td>147</td>\n",
       "      <td>170</td>\n",
       "      <td>238</td>\n",
       "      <td>83</td>\n",
       "    </tr>\n",
       "    <tr>\n",
       "      <th>12</th>\n",
       "      <td>308</td>\n",
       "      <td>153</td>\n",
       "      <td>143</td>\n",
       "      <td>20</td>\n",
       "    </tr>\n",
       "    <tr>\n",
       "      <th>13</th>\n",
       "      <td>122</td>\n",
       "      <td>159</td>\n",
       "      <td>295</td>\n",
       "      <td>46</td>\n",
       "    </tr>\n",
       "    <tr>\n",
       "      <th>14</th>\n",
       "      <td>352</td>\n",
       "      <td>84</td>\n",
       "      <td>140</td>\n",
       "      <td>44</td>\n",
       "    </tr>\n",
       "    <tr>\n",
       "      <th>15</th>\n",
       "      <td>410</td>\n",
       "      <td>30</td>\n",
       "      <td>161</td>\n",
       "      <td>12</td>\n",
       "    </tr>\n",
       "    <tr>\n",
       "      <th>16</th>\n",
       "      <td>332</td>\n",
       "      <td>113</td>\n",
       "      <td>169</td>\n",
       "      <td>12</td>\n",
       "    </tr>\n",
       "    <tr>\n",
       "      <th>17</th>\n",
       "      <td>262</td>\n",
       "      <td>133</td>\n",
       "      <td>200</td>\n",
       "      <td>25</td>\n",
       "    </tr>\n",
       "    <tr>\n",
       "      <th>18</th>\n",
       "      <td>359</td>\n",
       "      <td>98</td>\n",
       "      <td>151</td>\n",
       "      <td>18</td>\n",
       "    </tr>\n",
       "    <tr>\n",
       "      <th>19</th>\n",
       "      <td>138</td>\n",
       "      <td>182</td>\n",
       "      <td>227</td>\n",
       "      <td>76</td>\n",
       "    </tr>\n",
       "    <tr>\n",
       "      <th>20</th>\n",
       "      <td>257</td>\n",
       "      <td>209</td>\n",
       "      <td>141</td>\n",
       "      <td>14</td>\n",
       "    </tr>\n",
       "    <tr>\n",
       "      <th>21</th>\n",
       "      <td>127</td>\n",
       "      <td>273</td>\n",
       "      <td>182</td>\n",
       "      <td>39</td>\n",
       "    </tr>\n",
       "    <tr>\n",
       "      <th>22</th>\n",
       "      <td>228</td>\n",
       "      <td>183</td>\n",
       "      <td>143</td>\n",
       "      <td>69</td>\n",
       "    </tr>\n",
       "    <tr>\n",
       "      <th>23</th>\n",
       "      <td>314</td>\n",
       "      <td>32</td>\n",
       "      <td>217</td>\n",
       "      <td>17</td>\n",
       "    </tr>\n",
       "  </tbody>\n",
       "</table>\n",
       "</div>"
      ],
      "text/plain": [
       "      L    R onScreenAway offScreenAway\n",
       "0   280   62          160           129\n",
       "1   108  277          228             4\n",
       "2   200  159          257             9\n",
       "3   240   48          303            29\n",
       "4   186  248          146            46\n",
       "5   260  113          204            46\n",
       "6   118  307          143            54\n",
       "7   235  145          233             8\n",
       "8   145  240          213            31\n",
       "9   271  141          198            14\n",
       "10   77  330          156            73\n",
       "11  147  170          238            83\n",
       "12  308  153          143            20\n",
       "13  122  159          295            46\n",
       "14  352   84          140            44\n",
       "15  410   30          161            12\n",
       "16  332  113          169            12\n",
       "17  262  133          200            25\n",
       "18  359   98          151            18\n",
       "19  138  182          227            76\n",
       "20  257  209          141            14\n",
       "21  127  273          182            39\n",
       "22  228  183          143            69\n",
       "23  314   32          217            17"
      ]
     },
     "execution_count": 19,
     "metadata": {},
     "output_type": "execute_result"
    }
   ],
   "source": [
    "newobs"
   ]
  },
  {
   "cell_type": "code",
   "execution_count": 20,
   "metadata": {},
   "outputs": [],
   "source": [
    "newobs.to_csv('C:/Users/tsb7592/Box/Baby Toolbox Operations/Analysis/json_count.csv', index=False)"
   ]
  },
  {
   "cell_type": "code",
   "execution_count": 84,
   "metadata": {},
   "outputs": [
    {
     "data": {
      "text/plain": [
       "55.248000000000005"
      ]
     },
     "execution_count": 84,
     "metadata": {},
     "output_type": "execute_result"
    }
   ],
   "source": [
    "leftM"
   ]
  },
  {
   "cell_type": "code",
   "execution_count": 103,
   "metadata": {},
   "outputs": [
    {
     "data": {
      "text/html": [
       "<div>\n",
       "<style scoped>\n",
       "    .dataframe tbody tr th:only-of-type {\n",
       "        vertical-align: middle;\n",
       "    }\n",
       "\n",
       "    .dataframe tbody tr th {\n",
       "        vertical-align: top;\n",
       "    }\n",
       "\n",
       "    .dataframe thead th {\n",
       "        text-align: right;\n",
       "    }\n",
       "</style>\n",
       "<table border=\"1\" class=\"dataframe\">\n",
       "  <thead>\n",
       "    <tr style=\"text-align: right;\">\n",
       "      <th></th>\n",
       "      <th>gazeLocationName</th>\n",
       "      <th>gazeLocationOnScreen</th>\n",
       "      <th>lookAtPointX</th>\n",
       "      <th>lookAtPointY</th>\n",
       "      <th>NewLocation</th>\n",
       "      <th>NewOnScreen</th>\n",
       "    </tr>\n",
       "  </thead>\n",
       "  <tbody>\n",
       "    <tr>\n",
       "      <th>18140</th>\n",
       "      <td>left</td>\n",
       "      <td>true</td>\n",
       "      <td>47.572538</td>\n",
       "      <td>43.869741</td>\n",
       "      <td>left</td>\n",
       "      <td>true</td>\n",
       "    </tr>\n",
       "    <tr>\n",
       "      <th>18142</th>\n",
       "      <td>left</td>\n",
       "      <td>true</td>\n",
       "      <td>47.782235</td>\n",
       "      <td>43.375868</td>\n",
       "      <td>left</td>\n",
       "      <td>true</td>\n",
       "    </tr>\n",
       "    <tr>\n",
       "      <th>18143</th>\n",
       "      <td>left</td>\n",
       "      <td>true</td>\n",
       "      <td>47.929164</td>\n",
       "      <td>43.065842</td>\n",
       "      <td>left</td>\n",
       "      <td>true</td>\n",
       "    </tr>\n",
       "    <tr>\n",
       "      <th>18144</th>\n",
       "      <td>left</td>\n",
       "      <td>true</td>\n",
       "      <td>48.953816</td>\n",
       "      <td>44.536013</td>\n",
       "      <td>left</td>\n",
       "      <td>true</td>\n",
       "    </tr>\n",
       "    <tr>\n",
       "      <th>18145</th>\n",
       "      <td>left</td>\n",
       "      <td>true</td>\n",
       "      <td>51.134527</td>\n",
       "      <td>52.561805</td>\n",
       "      <td>left</td>\n",
       "      <td>true</td>\n",
       "    </tr>\n",
       "  </tbody>\n",
       "</table>\n",
       "</div>"
      ],
      "text/plain": [
       "      gazeLocationName gazeLocationOnScreen  lookAtPointX  lookAtPointY  \\\n",
       "18140             left                 true     47.572538     43.869741   \n",
       "18142             left                 true     47.782235     43.375868   \n",
       "18143             left                 true     47.929164     43.065842   \n",
       "18144             left                 true     48.953816     44.536013   \n",
       "18145             left                 true     51.134527     52.561805   \n",
       "\n",
       "      NewLocation NewOnScreen  \n",
       "18140        left        true  \n",
       "18142        left        true  \n",
       "18143        left        true  \n",
       "18144        left        true  \n",
       "18145        left        true  "
      ]
     },
     "execution_count": 103,
     "metadata": {},
     "output_type": "execute_result"
    }
   ],
   "source": [
    "test.head()"
   ]
  },
  {
   "cell_type": "code",
   "execution_count": 104,
   "metadata": {},
   "outputs": [
    {
     "data": {
      "text/html": [
       "<div>\n",
       "<style scoped>\n",
       "    .dataframe tbody tr th:only-of-type {\n",
       "        vertical-align: middle;\n",
       "    }\n",
       "\n",
       "    .dataframe tbody tr th {\n",
       "        vertical-align: top;\n",
       "    }\n",
       "\n",
       "    .dataframe thead th {\n",
       "        text-align: right;\n",
       "    }\n",
       "</style>\n",
       "<table border=\"1\" class=\"dataframe\">\n",
       "  <thead>\n",
       "    <tr style=\"text-align: right;\">\n",
       "      <th></th>\n",
       "      <th>gazeLocationName</th>\n",
       "      <th>gazeLocationOnScreen</th>\n",
       "      <th>lookAtPointX</th>\n",
       "      <th>lookAtPointY</th>\n",
       "      <th>NewLocation</th>\n",
       "      <th>NewOnScreen</th>\n",
       "    </tr>\n",
       "  </thead>\n",
       "  <tbody>\n",
       "    <tr>\n",
       "      <th>18711</th>\n",
       "      <td>away</td>\n",
       "      <td>false</td>\n",
       "      <td>57.141669</td>\n",
       "      <td>93.066797</td>\n",
       "      <td>away</td>\n",
       "      <td>false</td>\n",
       "    </tr>\n",
       "    <tr>\n",
       "      <th>18713</th>\n",
       "      <td>away</td>\n",
       "      <td>false</td>\n",
       "      <td>97.622260</td>\n",
       "      <td>106.235847</td>\n",
       "      <td>away</td>\n",
       "      <td>false</td>\n",
       "    </tr>\n",
       "    <tr>\n",
       "      <th>18714</th>\n",
       "      <td>away</td>\n",
       "      <td>false</td>\n",
       "      <td>122.532777</td>\n",
       "      <td>120.194435</td>\n",
       "      <td>away</td>\n",
       "      <td>false</td>\n",
       "    </tr>\n",
       "    <tr>\n",
       "      <th>18715</th>\n",
       "      <td>away</td>\n",
       "      <td>false</td>\n",
       "      <td>167.774871</td>\n",
       "      <td>148.304015</td>\n",
       "      <td>away</td>\n",
       "      <td>false</td>\n",
       "    </tr>\n",
       "    <tr>\n",
       "      <th>18716</th>\n",
       "      <td>away</td>\n",
       "      <td>false</td>\n",
       "      <td>238.047093</td>\n",
       "      <td>175.236925</td>\n",
       "      <td>away</td>\n",
       "      <td>false</td>\n",
       "    </tr>\n",
       "  </tbody>\n",
       "</table>\n",
       "</div>"
      ],
      "text/plain": [
       "      gazeLocationName gazeLocationOnScreen  lookAtPointX  lookAtPointY  \\\n",
       "18711             away                false     57.141669     93.066797   \n",
       "18713             away                false     97.622260    106.235847   \n",
       "18714             away                false    122.532777    120.194435   \n",
       "18715             away                false    167.774871    148.304015   \n",
       "18716             away                false    238.047093    175.236925   \n",
       "\n",
       "      NewLocation NewOnScreen  \n",
       "18711        away       false  \n",
       "18713        away       false  \n",
       "18714        away       false  \n",
       "18715        away       false  \n",
       "18716        away       false  "
      ]
     },
     "execution_count": 104,
     "metadata": {},
     "output_type": "execute_result"
    }
   ],
   "source": [
    "test.tail()"
   ]
  },
  {
   "cell_type": "code",
   "execution_count": 108,
   "metadata": {},
   "outputs": [
    {
     "data": {
      "image/png": "[encoded data removed]",
      "text/plain": [
       "<Figure size 432x288 with 1 Axes>"
      ]
     },
     "metadata": {
      "needs_background": "light"
     },
     "output_type": "display_data"
    }
   ],
   "source": [
    "import matplotlib.pyplot as plt\n",
    "# CREATING A BOUNDING BOX\n",
    "#top\n",
    "plt.axhline(y=7.88, xmin=0.25, xmax=0.402, linewidth=2, color = 'r')\n",
    "plt.axhline(y=-42, xmin=0.25, xmax=0.402, linewidth=2, color = 'g')\n",
    "# BOTTOM HORIZONTAL\n",
    "plt.axhline(y=16.38, xmin=0.25, xmax=0.402, linewidth=2, color = 'r')\n",
    "plt.axhline(y=66.38, xmin=0.25, xmax=0.402, linewidth=2, color = 'g')\n",
    "# RIGHT VERTICAL\n",
    "plt.axvline(x=113.45, ymin=0.4, ymax = 0.615, linewidth=2, color='r')\n",
    "plt.axvline(x=138.45, ymin=0.4, ymax = 0.615, linewidth=2, color='g')\n",
    "# LEFT VERTICAL\n",
    "plt.axvline(x=25.33, ymin=0.58, ymax = 0.79, linewidth=2, color='r')\n",
    "plt.axvline(x=0.33, ymin=0.4, ymax = 0.615, linewidth=2, color='g')\n",
    "plt.show()"
   ]
  },
  {
   "cell_type": "code",
   "execution_count": null,
   "metadata": {},
   "outputs": [],
   "source": []
  }
 ],
 "metadata": {
  "colab": {
   "collapsed_sections": [],
   "name": "gaze.ipynb",
   "provenance": []
  },
  "kernelspec": {
   "display_name": "Python 3",
   "language": "python",
   "name": "python3"
  },
  "language_info": {
   "codemirror_mode": {
    "name": "ipython",
    "version": 3
   },
   "file_extension": ".py",
   "mimetype": "text/x-python",
   "name": "python",
   "nbconvert_exporter": "python",
   "pygments_lexer": "ipython3",
   "version": "3.8.8"
  }
 },
 "nbformat": 4,
 "nbformat_minor": 1
}
