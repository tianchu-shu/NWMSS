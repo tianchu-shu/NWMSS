{
 "cells": [
  {
   "cell_type": "code",
   "execution_count": 1,
   "metadata": {
    "id": "IgQge6h7AqDw"
   },
   "outputs": [],
   "source": [
    "import json\n",
    "import os\n",
    "import pandas as pd"
   ]
  },
  {
   "cell_type": "code",
   "execution_count": 64,
   "metadata": {},
   "outputs": [],
   "source": [
    "data_dir=\"C:/Users/tsb7592/Box/Baby Toolbox Operations/Domain Teams/Language/Tobii Pilot/LWL & EF Tobii Data Export\""
   ]
  },
  {
   "cell_type": "code",
   "execution_count": 65,
   "metadata": {},
   "outputs": [],
   "source": [
    "os.chdir(data_dir)"
   ]
  },
  {
   "cell_type": "code",
   "execution_count": 66,
   "metadata": {
    "colab": {
     "base_uri": "https://localhost:8080/"
    },
    "id": "e6NteNENFFl7",
    "outputId": "0a219d79-8f0e-41b3-f463-167bc67024fe"
   },
   "outputs": [
    {
     "name": "stderr",
     "output_type": "stream",
     "text": [
      "C:\\Users\\tsb7592\\Anaconda3\\lib\\site-packages\\IPython\\core\\interactiveshell.py:3165: DtypeWarning: Columns (28,34,36) have mixed types.Specify dtype option on import or set low_memory=False.\n",
      "  has_raised = await self.run_ast_nodes(code_ast.body, cell_name,\n"
     ]
    }
   ],
   "source": [
    "tdf= pd.read_csv('Baby Toolbox_Data_Export_06_02_2021.tsv', sep='\\t') "
   ]
  },
  {
   "cell_type": "code",
   "execution_count": 67,
   "metadata": {
    "colab": {
     "base_uri": "https://localhost:8080/"
    },
    "id": "4KY69VAKFMcI",
    "outputId": "c9b13d2a-64e5-4e1e-fce3-fbd168fba274"
   },
   "outputs": [
    {
     "data": {
      "text/plain": [
       "(305387, 380)"
      ]
     },
     "execution_count": 67,
     "metadata": {},
     "output_type": "execute_result"
    }
   ],
   "source": [
    "tdf.shape"
   ]
  },
  {
   "cell_type": "code",
   "execution_count": 68,
   "metadata": {},
   "outputs": [],
   "source": [
    "keep = [col for col in tdf.columns if 'AOI' in col]\n",
    "keep = [col for col in keep if 'Calib' not in col]"
   ]
  },
  {
   "cell_type": "code",
   "execution_count": 69,
   "metadata": {},
   "outputs": [],
   "source": [
    "k24 = keep[4:76]"
   ]
  },
  {
   "cell_type": "code",
   "execution_count": 70,
   "metadata": {},
   "outputs": [
    {
     "name": "stdout",
     "output_type": "stream",
     "text": [
      "['AOI[LeftStim_Shoulder]Hit', 'AOI[RightStim_Hose]Hit', 'AOI[WholeScreen]Hit.4', 'AOI[LeftStim_Ladder]Hit', 'AOI[RightStim_Melon]Hit', 'AOI[WholeScreen]Hit.5', 'AOI[LeftStim_Rooster]Hit', 'AOI[RightStim_Playground]Hit', 'AOI[WholeScreen]Hit.6', 'AOI[LeftStim_Bike]Hit', 'AOI[RightStim_Sneaker]Hit', 'AOI[WholeScreen]Hit.7', 'AOI[LeftStim]Hit', 'AOI[RightStim]Hit', 'AOI[WholeScreen]Hit.8', 'AOI[LeftStim]Hit.1', 'AOI[RightStim]Hit.1', 'AOI[WholeScreen]Hit.9', 'AOI[LeftStim]Hit.2', 'AOI[RightStim]Hit.2', 'AOI[WholeScreen]Hit.10', 'AOI[LeftStim]Hit.3', 'AOI[RightStim]Hit.3', 'AOI[WholeScreen]Hit.11', 'AOI[LeftStim]Hit.4', 'AOI[RightStim]Hit.4', 'AOI[WholeScreen]Hit.12', 'AOI[LeftStim]Hit.5', 'AOI[RightStim]Hit.5', 'AOI[WholeScreen]Hit.13', 'AOI[LeftStim]Hit.6', 'AOI[RightStim]Hit.6', 'AOI[WholeScreen]Hit.14', 'AOI[LeftStim]Hit.7', 'AOI[RightStim]Hit.7', 'AOI[WholeScreen]Hit.15', 'AOI[LeftStim]Hit.8', 'AOI[RightStim]Hit.8', 'AOI[WholeScreen]Hit.16', 'AOI[LeftStim]Hit.9', 'AOI[RightStim]Hit.9', 'AOI[WholeScreen]Hit.17', 'AOI[LeftStim]Hit.10', 'AOI[RightStim]Hit.10', 'AOI[WholeScreen]Hit.18', 'AOI[LeftStim]Hit.11', 'AOI[RightStim]Hit.11', 'AOI[WholeScreen]Hit.19', 'AOI[LeftStim]Hit.12', 'AOI[RightStim]Hit.12', 'AOI[WholeScreen]Hit.20', 'AOI[LeftStim]Hit.13', 'AOI[RightStim]Hit.13', 'AOI[WholeScreen]Hit.21', 'AOI[LeftStim]Hit.14', 'AOI[RightStim]Hit.14', 'AOI[WholeScreen]Hit.22', 'AOI[LeftStim]Hit.15', 'AOI[RightStim]Hit.15', 'AOI[WholeScreen]Hit.23', 'AOI[LeftStim]Hit.16', 'AOI[RightStim]Hit.16', 'AOI[WholeScreen]Hit.24', 'AOI[LeftStim]Hit.17', 'AOI[RightStim]Hit.17', 'AOI[WholeScreen]Hit.25', 'AOI[LeftStim]Hit.18', 'AOI[RightStim]Hit.18', 'AOI[WholeScreen]Hit.26', 'AOI[LeftStim]Hit.19', 'AOI[RightStim]Hit.19', 'AOI[WholeScreen]Hit.27']\n"
     ]
    }
   ],
   "source": [
    "print(k24)"
   ]
  },
  {
   "cell_type": "code",
   "execution_count": 71,
   "metadata": {},
   "outputs": [],
   "source": [
    "tdf=tdf[k24]"
   ]
  },
  {
   "cell_type": "code",
   "execution_count": 72,
   "metadata": {},
   "outputs": [],
   "source": [
    "tdata = round(tdf.mean(),4).to_dict()"
   ]
  },
  {
   "cell_type": "code",
   "execution_count": 73,
   "metadata": {},
   "outputs": [],
   "source": [
    "left =[]\n",
    "right=[]\n",
    "away =[]\n",
    "onscreen = []\n",
    "i = 0\n",
    "for val in tdata:\n",
    "    if i%3 == 0:\n",
    "        rv = tdata[val]\n",
    "        left.append(tdata[val])\n",
    "    elif i%3 == 1:\n",
    "        rv += tdata[val]\n",
    "        right.append(tdata[val])\n",
    "    else:\n",
    "        rv = 1 - rv\n",
    "        away.append(rv)\n",
    "        onscreen.append(tdata[val])\n",
    "    i+=1"
   ]
  },
  {
   "cell_type": "code",
   "execution_count": 74,
   "metadata": {},
   "outputs": [
    {
     "data": {
      "text/plain": [
       "['AOI[LeftStim_Ladder]Hit', 'AOI[RightStim_Melon]Hit', 'AOI[WholeScreen]Hit.5']"
      ]
     },
     "execution_count": 74,
     "metadata": {},
     "output_type": "execute_result"
    }
   ],
   "source": [
    "k24[3:6]"
   ]
  },
  {
   "cell_type": "code",
   "execution_count": 75,
   "metadata": {},
   "outputs": [
    {
     "ename": "NameError",
     "evalue": "name 'test' is not defined",
     "output_type": "error",
     "traceback": [
      "\u001b[1;31m---------------------------------------------------------------------------\u001b[0m",
      "\u001b[1;31mNameError\u001b[0m                                 Traceback (most recent call last)",
      "\u001b[1;32m<ipython-input-75-e20b069f1f23>\u001b[0m in \u001b[0;36m<module>\u001b[1;34m\u001b[0m\n\u001b[1;32m----> 1\u001b[1;33m \u001b[0mtest\u001b[0m\u001b[1;33m[\u001b[0m\u001b[1;34m'AOI[LeftStim_Shoulder]Hit'\u001b[0m\u001b[1;33m]\u001b[0m\u001b[1;33m.\u001b[0m\u001b[0msum\u001b[0m\u001b[1;33m(\u001b[0m\u001b[1;33m)\u001b[0m\u001b[1;33m\u001b[0m\u001b[1;33m\u001b[0m\u001b[0m\n\u001b[0m",
      "\u001b[1;31mNameError\u001b[0m: name 'test' is not defined"
     ]
    }
   ],
   "source": [
    "test['AOI[LeftStim_Shoulder]Hit'].sum()"
   ]
  },
  {
   "cell_type": "markdown",
   "metadata": {},
   "source": [
    "# json file"
   ]
  },
  {
   "cell_type": "code",
   "execution_count": 2,
   "metadata": {},
   "outputs": [],
   "source": [
    "data_dir=\"C:/Users/tsb7592/Box/Baby Toolbox Operations/Domain Teams/Language/Tobii Pilot/Tobii Verbose Files/Claire\""
   ]
  },
  {
   "cell_type": "code",
   "execution_count": 3,
   "metadata": {},
   "outputs": [],
   "source": [
    "os.chdir(data_dir)"
   ]
  },
  {
   "cell_type": "code",
   "execution_count": null,
   "metadata": {},
   "outputs": [],
   "source": [
    "newfile ='949BCA6A-D3D6-426C-9A94-E806F84E4E72@845BDD10-B9AF-4592-AA4E-0CCE76A0E8CD@00025@2021-05-11-22.21.08.674@ExecutiveFunction@Claire@VerboseGazeData.json'"
   ]
  },
  {
   "cell_type": "code",
   "execution_count": null,
   "metadata": {},
   "outputs": [],
   "source": [
    "#df=pd.read_json(newfile)"
   ]
  },
  {
   "cell_type": "code",
   "execution_count": 5,
   "metadata": {
    "id": "NMPx1zS1CQjM"
   },
   "outputs": [],
   "source": [
    "df=pd.read_json('949BCA6A-D3D6-426C-9A94-E806F84E4E72@845BDD10-B9AF-4592-AA4E-0CCE76A0E8CD@00024@2021-05-11-22.11.48.356@LookListening@Claire@VerboseGazeData.json')"
   ]
  },
  {
   "cell_type": "code",
   "execution_count": null,
   "metadata": {},
   "outputs": [],
   "source": [
    "cols=['itemID','eventName','gazeLocationName', 'gazeLocationOnScreen']"
   ]
  },
  {
   "cell_type": "code",
   "execution_count": null,
   "metadata": {},
   "outputs": [],
   "source": [
    "df=df[cols]"
   ]
  },
  {
   "cell_type": "code",
   "execution_count": null,
   "metadata": {},
   "outputs": [],
   "source": [
    "df.eventName.unique()"
   ]
  },
  {
   "cell_type": "code",
   "execution_count": null,
   "metadata": {},
   "outputs": [],
   "source": [
    "len(df.gazeLocationOnScreen.value_counts())"
   ]
  },
  {
   "cell_type": "code",
   "execution_count": null,
   "metadata": {
    "scrolled": true
   },
   "outputs": [],
   "source": [
    "#Finding the index for presentLiveItem and completeLiveItem to subset the pieces we need for analysis\n",
    "begin =list(df[df['eventName'].str.contains('presentedLiveItem')].index)"
   ]
  },
  {
   "cell_type": "code",
   "execution_count": null,
   "metadata": {
    "scrolled": true
   },
   "outputs": [],
   "source": [
    "end = list(df[df['eventName'].str.contains('completedLiveItem')].index)"
   ]
  },
  {
   "cell_type": "code",
   "execution_count": null,
   "metadata": {
    "scrolled": true
   },
   "outputs": [],
   "source": [
    "expected = pd.DataFrame(\n",
    "    {'Left': left,\n",
    "     'Right': right,\n",
    "     'Away': away,'Onscreen':onscreen\n",
    "    })\n",
    "expected"
   ]
  },
  {
   "cell_type": "code",
   "execution_count": null,
   "metadata": {},
   "outputs": [],
   "source": [
    "len(end)"
   ]
  },
  {
   "cell_type": "markdown",
   "metadata": {},
   "source": [
    "# Fisher Exact Test "
   ]
  },
  {
   "cell_type": "code",
   "execution_count": null,
   "metadata": {},
   "outputs": [],
   "source": [
    "#tsv file\n",
    "exp = pd.DataFrame(columns=('left', 'right','onScreenAway','offScreenAway'))\n",
    "for i in range(24):\n",
    "    lcol,rcol,wcol = k24[3*i:3*i+3]\n",
    "    \n",
    "    subset = tdf[tdf[wcol].notnull()]\n",
    "    \n",
    "    a=subset[lcol].sum()\n",
    "    b=subset[rcol].sum()\n",
    "    d=subset[(subset[lcol]==0) & (subset[rcol]==0) &(subset[wcol]==1)].shape[0]\n",
    "    e=subset[(subset[lcol]==0) & (subset[rcol]==0) &(subset[wcol]==0)].shape[0]\n",
    "\n",
    "    exp.loc[i] = [a, b ,d, e]"
   ]
  },
  {
   "cell_type": "code",
   "execution_count": null,
   "metadata": {},
   "outputs": [],
   "source": [
    "#json file\n",
    "obs = pd.DataFrame(columns=('L', 'R','onScreenAway','offScreenAway'))\n",
    "items =[]\n",
    "for i in range(len(end)):\n",
    "    sub = df.iloc[begin[i]+1:end[i]]\n",
    "    items.extend(sub.itemID.dropna().unique())\n",
    "    a, b, c = sub.gazeLocationName.value_counts()[['left','right','away']].round(4) \n",
    "    if len(sub[sub['gazeLocationName'] == 'away'].gazeLocationOnScreen.value_counts()) == 2:\n",
    "        d,e = sub[sub['gazeLocationName'] == 'away'].gazeLocationOnScreen.value_counts()\n",
    "    else:\n",
    "        d = c\n",
    "        e = 0\n",
    "    obs.loc[i] = [a, b ,d, e]"
   ]
  },
  {
   "cell_type": "code",
   "execution_count": null,
   "metadata": {},
   "outputs": [],
   "source": [
    "exp"
   ]
  },
  {
   "cell_type": "code",
   "execution_count": null,
   "metadata": {},
   "outputs": [],
   "source": [
    "obs"
   ]
  },
  {
   "cell_type": "code",
   "execution_count": null,
   "metadata": {
    "scrolled": true
   },
   "outputs": [],
   "source": [
    "exp.to_csv('C:/Users/tsb7592/Box/Baby Toolbox Operations/Analysis/new_tsv_count.csv', index=False)"
   ]
  },
  {
   "cell_type": "code",
   "execution_count": null,
   "metadata": {},
   "outputs": [],
   "source": [
    "obs.to_csv('C:/Users/tsb7592/Box/Baby Toolbox Operations/Analysis/json_count.csv', index=False)"
   ]
  },
  {
   "cell_type": "code",
   "execution_count": null,
   "metadata": {},
   "outputs": [],
   "source": [
    "l1 =obs.to_numpy()\n",
    "l2= exp.to_numpy()"
   ]
  },
  {
   "cell_type": "code",
   "execution_count": null,
   "metadata": {},
   "outputs": [],
   "source": [
    "items"
   ]
  },
  {
   "cell_type": "code",
   "execution_count": null,
   "metadata": {},
   "outputs": [],
   "source": [
    "import scipy.stats as stats\n",
    "from scipy.stats import chi2_contingency\n",
    "from scipy.stats import chi2\n",
    "\n",
    "for i in range(24):\n",
    "    data = [l1[i], l2[2]]\n",
    "    \n",
    "    stat, p, dof, expected = chi2_contingency(data)\n",
    "    print(items[i])\n",
    "    \n",
    "    # interpret test-statistic\n",
    "    prob = 0.95\n",
    "    critical = chi2.ppf(prob, dof)\n",
    "    print('probability=%.3f, critical=%.3f, stat=%.3f' % (prob, critical, stat))\n",
    "    if abs(stat) >= critical:\n",
    "        print('Dependent (reject H0)')\n",
    "    else:\n",
    "        print('Independent (fail to reject H0)')\n",
    "\n",
    "    # interpret p-value\n",
    "    alpha = 1.0 - prob\n",
    "    print('significance=%.3f, p=%.3f' % (alpha, p))\n",
    "    if p <= alpha:\n",
    "        print('Dependent (reject H0)')\n",
    "    else:\n",
    "        print('Independent (fail to reject H0)')\n",
    "    print('')"
   ]
  },
  {
   "cell_type": "code",
   "execution_count": null,
   "metadata": {},
   "outputs": [],
   "source": [
    "l2"
   ]
  },
  {
   "cell_type": "code",
   "execution_count": null,
   "metadata": {},
   "outputs": [],
   "source": []
  },
  {
   "cell_type": "code",
   "execution_count": null,
   "metadata": {
    "scrolled": true
   },
   "outputs": [],
   "source": [
    "from scipy.stats import chisquare\n",
    "chisq = pd.DataFrame(columns=('items', 'stat','p'))\n",
    "for i in range(24):\n",
    "    ob = obs.iloc[i]\n",
    "    ex = expected.iloc[i]\n",
    "    stat, pv = chisquare(f_obs=ob, f_exp=ex)\n",
    "    chisq.loc[i] = [items[i], round(stat,3) ,round(pv,3)]\n"
   ]
  },
  {
   "cell_type": "code",
   "execution_count": null,
   "metadata": {},
   "outputs": [],
   "source": [
    "chisq.to_csv('C:/Users/TEMP/Box/Baby Toolbox Operations/Analysis/chisquare.csv', index=False)"
   ]
  },
  {
   "cell_type": "code",
   "execution_count": null,
   "metadata": {},
   "outputs": [],
   "source": [
    "startRows =list(df[df['eventName'].str.contains('presentedCalibrationItem')].index)\n",
    "endRows =list(df[df['eventName'].str.contains('completedCalibrationItem')].index)"
   ]
  },
  {
   "cell_type": "code",
   "execution_count": 76,
   "metadata": {},
   "outputs": [
    {
     "data": {
      "text/plain": [
       "[11, 149, 307, 451]"
      ]
     },
     "execution_count": 76,
     "metadata": {},
     "output_type": "execute_result"
    }
   ],
   "source": [
    "startRows"
   ]
  },
  {
   "cell_type": "code",
   "execution_count": 77,
   "metadata": {},
   "outputs": [
    {
     "data": {
      "text/plain": [
       "[148, 306, 450, 598]"
      ]
     },
     "execution_count": 77,
     "metadata": {},
     "output_type": "execute_result"
    }
   ],
   "source": [
    "endRows"
   ]
  },
  {
   "cell_type": "code",
   "execution_count": 37,
   "metadata": {},
   "outputs": [
    {
     "data": {
      "text/plain": [
       "1.036330125025287"
      ]
     },
     "execution_count": 37,
     "metadata": {},
     "output_type": "execute_result"
    }
   ],
   "source": [
    "firstCheck_time = df.iloc[11]['elapsedTime']+1.0167\n",
    "firstCheck_time "
   ]
  },
  {
   "cell_type": "code",
   "execution_count": 33,
   "metadata": {},
   "outputs": [],
   "source": [
    "sub = df.iloc[startRows[0]:endRows[0]]"
   ]
  },
  {
   "cell_type": "code",
   "execution_count": 78,
   "metadata": {},
   "outputs": [
    {
     "data": {
      "text/plain": [
       "Int64Index([11, 12, 13, 14, 15, 16, 17, 18, 19, 20, 21, 22, 23, 24, 25, 26, 27,\n",
       "            28, 29, 30, 31, 32, 33, 34, 35, 36, 37, 38, 39, 40, 41, 42, 43, 44,\n",
       "            45, 46, 47, 48, 49, 50, 51, 52, 53, 54, 55, 56, 57, 58, 59, 60, 61,\n",
       "            62, 63, 64, 65, 66, 67, 68, 69, 70, 71, 72, 73, 74, 75, 76, 77, 78,\n",
       "            79, 80, 81, 82, 83, 84, 85, 86, 87, 88, 89],\n",
       "           dtype='int64')"
      ]
     },
     "execution_count": 78,
     "metadata": {},
     "output_type": "execute_result"
    }
   ],
   "source": [
    "sub[sub['elapsedTime']<=firstCheck_time].index"
   ]
  },
  {
   "cell_type": "code",
   "execution_count": null,
   "metadata": {},
   "outputs": [],
   "source": [
    " itemVerbose$elapsedTime[startRows[i]] + searchTime"
   ]
  },
  {
   "cell_type": "code",
   "execution_count": 47,
   "metadata": {},
   "outputs": [
    {
     "name": "stdout",
     "output_type": "stream",
     "text": [
      "89\n",
      "90\n",
      "91\n",
      "92\n",
      "93\n",
      "94\n",
      "95\n",
      "96\n",
      "97\n",
      "98\n",
      "99\n",
      "100\n",
      "101\n",
      "102\n",
      "103\n",
      "104\n",
      "105\n",
      "106\n",
      "107\n",
      "108\n",
      "109\n",
      "110\n"
     ]
    }
   ],
   "source": [
    "for i in range(89,111):\n",
    "    print(i)"
   ]
  },
  {
   "cell_type": "code",
   "execution_count": 52,
   "metadata": {},
   "outputs": [
    {
     "data": {
      "text/plain": [
       "Index(['calibrationPoint1AverageX', 'calibrationPoint1AverageY',\n",
       "       'calibrationPoint2AverageX', 'calibrationPoint2AverageY',\n",
       "       'calibrationPoint3AverageX', 'calibrationPoint3AverageY',\n",
       "       'calibrationPoint4AverageX', 'calibrationPoint4AverageY', 'elapsedTime',\n",
       "       'eventName', 'gazeEngineState', 'gazeLocationPercentX',\n",
       "       'gazeLocationPercentY', 'itemID', 'dataKey', 'dataValue',\n",
       "       'arEulerAngleFaceX', 'arEulerAngleFaceY', 'arEulerAngleFaceZ',\n",
       "       'arFaceAnchorTransformRow0Column0', 'arFaceAnchorTransformRow0Column1',\n",
       "       'arFaceAnchorTransformRow0Column2', 'arFaceAnchorTransformRow0Column3',\n",
       "       'arFaceAnchorTransformRow1Column0', 'arFaceAnchorTransformRow1Column1',\n",
       "       'arFaceAnchorTransformRow1Column2', 'arFaceAnchorTransformRow1Column3',\n",
       "       'arFaceAnchorTransformRow2Column0', 'arFaceAnchorTransformRow2Column1',\n",
       "       'arFaceAnchorTransformRow2Column2', 'arFaceAnchorTransformRow2Column3',\n",
       "       'arFaceAnchorTransformRow3Column0', 'arFaceAnchorTransformRow3Column1',\n",
       "       'arFaceAnchorTransformRow3Column2', 'arFaceAnchorTransformRow3Column3',\n",
       "       'arFacePositionX', 'arFacePositionY', 'arFacePositionZ',\n",
       "       'arHitTestLookAtPointPositionX', 'arHitTestLookAtPointPositionY',\n",
       "       'arHitTestLookAtPointVectorX', 'arHitTestLookAtPointVectorY',\n",
       "       'arLeftEyeTransformRow0Column0', 'arLeftEyeTransformRow0Column1',\n",
       "       'arLeftEyeTransformRow0Column2', 'arLeftEyeTransformRow0Column3',\n",
       "       'arLeftEyeTransformRow1Column0', 'arLeftEyeTransformRow1Column1',\n",
       "       'arLeftEyeTransformRow1Column2', 'arLeftEyeTransformRow1Column3',\n",
       "       'arLeftEyeTransformRow2Column0', 'arLeftEyeTransformRow2Column1',\n",
       "       'arLeftEyeTransformRow2Column2', 'arLeftEyeTransformRow2Column3',\n",
       "       'arLeftEyeTransformRow3Column0', 'arLeftEyeTransformRow3Column1',\n",
       "       'arLeftEyeTransformRow3Column2', 'arLeftEyeTransformRow3Column3',\n",
       "       'arMiddleEyeHitTestVectorX', 'arMiddleEyeHitTestVectorY',\n",
       "       'arNormalizedLeftEyeBlinkValue', 'arNormalizedRightEyeBlinkValue',\n",
       "       'arRawLookAtPointX', 'arRawLookAtPointY', 'arRawLookAtPointZ',\n",
       "       'arRightEyeTransformRow0Column0', 'arRightEyeTransformRow0Column1',\n",
       "       'arRightEyeTransformRow0Column2', 'arRightEyeTransformRow0Column3',\n",
       "       'arRightEyeTransformRow1Column0', 'arRightEyeTransformRow1Column1',\n",
       "       'arRightEyeTransformRow1Column2', 'arRightEyeTransformRow1Column3',\n",
       "       'arRightEyeTransformRow2Column0', 'arRightEyeTransformRow2Column1',\n",
       "       'arRightEyeTransformRow2Column2', 'arRightEyeTransformRow2Column3',\n",
       "       'arRightEyeTransformRow3Column0', 'arRightEyeTransformRow3Column1',\n",
       "       'arRightEyeTransformRow3Column2', 'arRightEyeTransformRow3Column3',\n",
       "       'calibrationLeftAverageX', 'calibrationRightAverageX', 'lookAtPointX',\n",
       "       'lookAtPointY', 'calibrationFocalPoint', 'mediaCenterPointPercentX',\n",
       "       'mediaCenterPointPercentY', 'cameraImageFilename', 'gazeLocationName',\n",
       "       'gazeLocationOnScreen', 'gazeLocationZoneSet',\n",
       "       'includePriorGazeLocationPoints'],\n",
       "      dtype='object')"
      ]
     },
     "execution_count": 52,
     "metadata": {},
     "output_type": "execute_result"
    }
   ],
   "source": [
    "sub.columns"
   ]
  },
  {
   "cell_type": "code",
   "execution_count": 62,
   "metadata": {},
   "outputs": [
    {
     "data": {
      "text/plain": [
       "148             completedCalibrationItem\n",
       "306             completedCalibrationItem\n",
       "450             completedCalibrationItem\n",
       "598             completedCalibrationItem\n",
       "600                 completedCalibration\n",
       "1236                   completedLiveItem\n",
       "1916                   completedLiveItem\n",
       "2607                   completedLiveItem\n",
       "3292                   completedLiveItem\n",
       "4326                   completedLiveItem\n",
       "5014                   completedLiveItem\n",
       "5701                   completedLiveItem\n",
       "6389                   completedLiveItem\n",
       "7421                   completedLiveItem\n",
       "8115                   completedLiveItem\n",
       "8816                   completedLiveItem\n",
       "9518                   completedLiveItem\n",
       "10540                  completedLiveItem\n",
       "11224                  completedLiveItem\n",
       "11907                  completedLiveItem\n",
       "12583                  completedLiveItem\n",
       "13615                  completedLiveItem\n",
       "14299                  completedLiveItem\n",
       "14988                  completedLiveItem\n",
       "15675                  completedLiveItem\n",
       "16704                  completedLiveItem\n",
       "17390                  completedLiveItem\n",
       "18077                  completedLiveItem\n",
       "18720                  completedLiveItem\n",
       "19075                  completedLiveTest\n",
       "19228      completedDriftCalibrationItem\n",
       "19382      completedDriftCalibrationItem\n",
       "19524      completedDriftCalibrationItem\n",
       "19667      completedDriftCalibrationItem\n",
       "19669    completedDriftPresentationRound\n",
       "Name: eventName, dtype: object"
      ]
     },
     "execution_count": 62,
     "metadata": {},
     "output_type": "execute_result"
    }
   ],
   "source": [
    "df[df.eventName.str.contains('complet')]['eventName']"
   ]
  },
  {
   "cell_type": "markdown",
   "metadata": {},
   "source": [
    "# Rewrite Lookalgorithm"
   ]
  },
  {
   "cell_type": "code",
   "execution_count": 168,
   "metadata": {},
   "outputs": [],
   "source": [
    "import math\n",
    "import numpy as np\n",
    "\n",
    "def lookAlgorithm(df, usevals, searchTime=1.0167, margX=10, margY=15, alignX=30, alignY=30):\n",
    "    '''\n",
    "    Input: \n",
    "        df: the json file read to a pandas dataframe\n",
    "        usevals: a string of the column name\n",
    "    Output:\n",
    "         results in a pandas dataframe\n",
    "    '''\n",
    "    \n",
    "    if 'lookAtPoint' in usevals:\n",
    "        useX = \"lookAtPointX\"\n",
    "        useY = \"lookAtPointY\"\n",
    "    elif 'arHitTestLookAtPointPosition' in usevals:\n",
    "        useX = \"arHitTestLookAtPointPositionX\"\n",
    "        useY = \"arHitTestLookAtPointPositionY\"\n",
    "    \n",
    "    startRows =list(df[df['eventName'].str.contains('presentedCalibrationItem')].index)\n",
    "    endRows =list(df[df['eventName'].str.contains('completedCalibrationItem')].index)\n",
    "    \n",
    "    if len(startRows) != len(endRows):\n",
    "        print(\"Early-terminated Calibration\")\n",
    "        return\n",
    "    \n",
    "    RMs=[]\n",
    "    for i in range(len(startRows)):\n",
    "        rollingMeans = pd.DataFrame(columns=('Cali','calibFocal', 'rowIndex','rollingX','rollingY','props')) \n",
    "        sub = df.iloc[startRows[i]:endRows[i]+1]\n",
    "        firstCheck_time = df.iloc[startRows[i]]['elapsedTime'] + searchTime\n",
    "        firstCheck_row = sub[sub['elapsedTime'] <= firstCheck_time].index.max()\n",
    "       \n",
    "        for j in range(firstCheck_row, endRows[i]+1):\n",
    "            rollingMeans.loc[j] = [i,'tmp', j, -9999,-9999, -9999]\n",
    "            \n",
    "            useData =sub[(sub['elapsedTime'] >= df.iloc[j]['elapsedTime'] - searchTime) & (sub['elapsedTime'] <= df.iloc[j]['elapsedTime'])&(sub['elapsedTime'] >= df.iloc[startRows[i]]['elapsedTime'])]\n",
    "            useData = useData[~useData.eventName.str.contains('complet')]\n",
    "                              \n",
    "            rollingMeans.loc[j]['calibFocal']=useData['calibrationFocalPoint'].unique()[0]\n",
    "            rollingMeans.loc[j]['rollingX']=round(useData[useX].mean(),1)\n",
    "            rollingMeans.loc[j]['rollingY']=round(useData[useY].mean(),1)\n",
    "            rollingMeans.loc[j]['props']=round(100*(useData[(useData[useX] >= useData[useX].mean()- margX) & (useData[useX] <= useData[useX].mean()+ margX) & (useData[useY] >= useData[useY].mean()- margY) & (useData[useY] <= useData[useY].mean()+ margY)]).shape[0]/useData[useData[useY].notnull()].shape[0],2)\n",
    "          \n",
    "        RMs.append(rollingMeans)\n",
    "         \n",
    "    RMs = pd.concat(RMs, ignore_index=True)\n",
    "    \n",
    "    use=[]\n",
    "    for i in range(4):\n",
    "        ur = RMs[(RMs['props'] >= 80) & (RMs['Cali']==i)].head(1)\n",
    "        use.append(ur)\n",
    "    useRows = pd.concat(use)\n",
    "    useRows = useRows.reset_index()\n",
    "    \n",
    "    if useRows.shape[0]>4:\n",
    "        useRows['calibrationSet'] =(useRows.index + 1)/4\n",
    "        useRows['calibrationSet']=useRows['calibrationSet'].apply(np.ceil)\n",
    "        \n",
    "    tr = useRows[useRows['calibFocal']=='topRight']['rollingX'].values[0]\n",
    "    br = useRows[useRows['calibFocal']=='bottomRight']['rollingX'].values[0]\n",
    "    tl = useRows[useRows['calibFocal']=='topLeft']['rollingX'].values[0]\n",
    "    bl = useRows[useRows['calibFocal']=='bottomLeft']['rollingX'].values[0]    \n",
    "       \n",
    "    if abs(tr)- br <= alignX:\n",
    "        rightSide = max(tr, br)\n",
    "    else:\n",
    "        rightSide = np.NaN\n",
    "    \n",
    "    if abs(tl)- bl <= alignX:\n",
    "        leftSide = min(tl, bl)\n",
    "    else:\n",
    "        leftSide = np.NaN\n",
    "    \n",
    "    tr = useRows[useRows['calibFocal']=='topRight']['rollingY'].values[0]\n",
    "    br = useRows[useRows['calibFocal']=='bottomRight']['rollingY'].values[0]\n",
    "    tl = useRows[useRows['calibFocal']=='topLeft']['rollingY'].values[0]\n",
    "    bl = useRows[useRows['calibFocal']=='bottomLeft']['rollingY'].values[0]\n",
    "    \n",
    "    if abs(tr)- tl <= alignY:\n",
    "        topSide = round((tr+tl)/2,1)\n",
    "    else:\n",
    "        topSide = np.NaN\n",
    "        \n",
    "    if abs(br)- bl <= alignY:\n",
    "        bottomSide= round((br+bl)/2,1)\n",
    "    else:\n",
    "        bottomSide = np.NaN   \n",
    "        \n",
    "    if useRows['calibFocal'].isnull().any():\n",
    "        rightSide = np.NaN\n",
    "        leftSide = np.NaN\n",
    "        topSide = np.NaN\n",
    "        bottomSide = np.NaN\n",
    "    \n",
    "    screenSide={}\n",
    "    screenSide['rightSide']=rightSide\n",
    "    screenSide['leftSide']=leftSide\n",
    "    screenSide['topSide']=topSide\n",
    "    screenSide['bottomSide']= bottomSide   \n",
    " \n",
    "    return RMs,useRows,screenSide"
   ]
  },
  {
   "cell_type": "code",
   "execution_count": 173,
   "metadata": {},
   "outputs": [],
   "source": [
    "RM, lookDetected, ss=lookAlgorithm(df,'lookAtPoint')"
   ]
  },
  {
   "cell_type": "code",
   "execution_count": 170,
   "metadata": {
    "scrolled": true
   },
   "outputs": [
    {
     "data": {
      "text/html": [
       "<div>\n",
       "<style scoped>\n",
       "    .dataframe tbody tr th:only-of-type {\n",
       "        vertical-align: middle;\n",
       "    }\n",
       "\n",
       "    .dataframe tbody tr th {\n",
       "        vertical-align: top;\n",
       "    }\n",
       "\n",
       "    .dataframe thead th {\n",
       "        text-align: right;\n",
       "    }\n",
       "</style>\n",
       "<table border=\"1\" class=\"dataframe\">\n",
       "  <thead>\n",
       "    <tr style=\"text-align: right;\">\n",
       "      <th></th>\n",
       "      <th>Cali</th>\n",
       "      <th>calibFocal</th>\n",
       "      <th>rowIndex</th>\n",
       "      <th>rollingX</th>\n",
       "      <th>rollingY</th>\n",
       "      <th>props</th>\n",
       "    </tr>\n",
       "  </thead>\n",
       "  <tbody>\n",
       "    <tr>\n",
       "      <th>0</th>\n",
       "      <td>0</td>\n",
       "      <td>topLeft</td>\n",
       "      <td>89</td>\n",
       "      <td>32.1</td>\n",
       "      <td>10.9</td>\n",
       "      <td>35.48</td>\n",
       "    </tr>\n",
       "    <tr>\n",
       "      <th>1</th>\n",
       "      <td>0</td>\n",
       "      <td>topLeft</td>\n",
       "      <td>90</td>\n",
       "      <td>31.8</td>\n",
       "      <td>10.8</td>\n",
       "      <td>33.87</td>\n",
       "    </tr>\n",
       "    <tr>\n",
       "      <th>2</th>\n",
       "      <td>0</td>\n",
       "      <td>topLeft</td>\n",
       "      <td>91</td>\n",
       "      <td>31.6</td>\n",
       "      <td>10.5</td>\n",
       "      <td>35.0</td>\n",
       "    </tr>\n",
       "    <tr>\n",
       "      <th>3</th>\n",
       "      <td>0</td>\n",
       "      <td>topLeft</td>\n",
       "      <td>92</td>\n",
       "      <td>31.4</td>\n",
       "      <td>10.6</td>\n",
       "      <td>32.79</td>\n",
       "    </tr>\n",
       "    <tr>\n",
       "      <th>4</th>\n",
       "      <td>0</td>\n",
       "      <td>topLeft</td>\n",
       "      <td>93</td>\n",
       "      <td>31.1</td>\n",
       "      <td>10.5</td>\n",
       "      <td>32.79</td>\n",
       "    </tr>\n",
       "    <tr>\n",
       "      <th>...</th>\n",
       "      <td>...</td>\n",
       "      <td>...</td>\n",
       "      <td>...</td>\n",
       "      <td>...</td>\n",
       "      <td>...</td>\n",
       "      <td>...</td>\n",
       "    </tr>\n",
       "    <tr>\n",
       "      <th>275</th>\n",
       "      <td>3</td>\n",
       "      <td>topRight</td>\n",
       "      <td>594</td>\n",
       "      <td>114.8</td>\n",
       "      <td>0.8</td>\n",
       "      <td>100.0</td>\n",
       "    </tr>\n",
       "    <tr>\n",
       "      <th>276</th>\n",
       "      <td>3</td>\n",
       "      <td>topRight</td>\n",
       "      <td>595</td>\n",
       "      <td>114.7</td>\n",
       "      <td>0.7</td>\n",
       "      <td>100.0</td>\n",
       "    </tr>\n",
       "    <tr>\n",
       "      <th>277</th>\n",
       "      <td>3</td>\n",
       "      <td>topRight</td>\n",
       "      <td>596</td>\n",
       "      <td>114.6</td>\n",
       "      <td>0.5</td>\n",
       "      <td>100.0</td>\n",
       "    </tr>\n",
       "    <tr>\n",
       "      <th>278</th>\n",
       "      <td>3</td>\n",
       "      <td>topRight</td>\n",
       "      <td>597</td>\n",
       "      <td>114.5</td>\n",
       "      <td>0.4</td>\n",
       "      <td>100.0</td>\n",
       "    </tr>\n",
       "    <tr>\n",
       "      <th>279</th>\n",
       "      <td>3</td>\n",
       "      <td>topRight</td>\n",
       "      <td>598</td>\n",
       "      <td>114.5</td>\n",
       "      <td>0.4</td>\n",
       "      <td>100.0</td>\n",
       "    </tr>\n",
       "  </tbody>\n",
       "</table>\n",
       "<p>280 rows × 6 columns</p>\n",
       "</div>"
      ],
      "text/plain": [
       "    Cali calibFocal rowIndex rollingX rollingY  props\n",
       "0      0    topLeft       89     32.1     10.9  35.48\n",
       "1      0    topLeft       90     31.8     10.8  33.87\n",
       "2      0    topLeft       91     31.6     10.5   35.0\n",
       "3      0    topLeft       92     31.4     10.6  32.79\n",
       "4      0    topLeft       93     31.1     10.5  32.79\n",
       "..   ...        ...      ...      ...      ...    ...\n",
       "275    3   topRight      594    114.8      0.8  100.0\n",
       "276    3   topRight      595    114.7      0.7  100.0\n",
       "277    3   topRight      596    114.6      0.5  100.0\n",
       "278    3   topRight      597    114.5      0.4  100.0\n",
       "279    3   topRight      598    114.5      0.4  100.0\n",
       "\n",
       "[280 rows x 6 columns]"
      ]
     },
     "execution_count": 170,
     "metadata": {},
     "output_type": "execute_result"
    }
   ],
   "source": [
    "RM"
   ]
  },
  {
   "cell_type": "code",
   "execution_count": 174,
   "metadata": {},
   "outputs": [
    {
     "data": {
      "text/html": [
       "<div>\n",
       "<style scoped>\n",
       "    .dataframe tbody tr th:only-of-type {\n",
       "        vertical-align: middle;\n",
       "    }\n",
       "\n",
       "    .dataframe tbody tr th {\n",
       "        vertical-align: top;\n",
       "    }\n",
       "\n",
       "    .dataframe thead th {\n",
       "        text-align: right;\n",
       "    }\n",
       "</style>\n",
       "<table border=\"1\" class=\"dataframe\">\n",
       "  <thead>\n",
       "    <tr style=\"text-align: right;\">\n",
       "      <th></th>\n",
       "      <th>index</th>\n",
       "      <th>Cali</th>\n",
       "      <th>calibFocal</th>\n",
       "      <th>rowIndex</th>\n",
       "      <th>rollingX</th>\n",
       "      <th>rollingY</th>\n",
       "      <th>props</th>\n",
       "    </tr>\n",
       "  </thead>\n",
       "  <tbody>\n",
       "    <tr>\n",
       "      <th>0</th>\n",
       "      <td>17</td>\n",
       "      <td>0</td>\n",
       "      <td>topLeft</td>\n",
       "      <td>106</td>\n",
       "      <td>25.3</td>\n",
       "      <td>9.7</td>\n",
       "      <td>83.33</td>\n",
       "    </tr>\n",
       "    <tr>\n",
       "      <th>1</th>\n",
       "      <td>100</td>\n",
       "      <td>1</td>\n",
       "      <td>bottomRight</td>\n",
       "      <td>266</td>\n",
       "      <td>113.5</td>\n",
       "      <td>14.3</td>\n",
       "      <td>85.25</td>\n",
       "    </tr>\n",
       "    <tr>\n",
       "      <th>2</th>\n",
       "      <td>167</td>\n",
       "      <td>2</td>\n",
       "      <td>bottomLeft</td>\n",
       "      <td>409</td>\n",
       "      <td>42.4</td>\n",
       "      <td>18.5</td>\n",
       "      <td>83.61</td>\n",
       "    </tr>\n",
       "    <tr>\n",
       "      <th>3</th>\n",
       "      <td>237</td>\n",
       "      <td>3</td>\n",
       "      <td>topRight</td>\n",
       "      <td>556</td>\n",
       "      <td>111.1</td>\n",
       "      <td>6.1</td>\n",
       "      <td>86.67</td>\n",
       "    </tr>\n",
       "  </tbody>\n",
       "</table>\n",
       "</div>"
      ],
      "text/plain": [
       "   index Cali   calibFocal rowIndex rollingX rollingY  props\n",
       "0     17    0      topLeft      106     25.3      9.7  83.33\n",
       "1    100    1  bottomRight      266    113.5     14.3  85.25\n",
       "2    167    2   bottomLeft      409     42.4     18.5  83.61\n",
       "3    237    3     topRight      556    111.1      6.1  86.67"
      ]
     },
     "execution_count": 174,
     "metadata": {},
     "output_type": "execute_result"
    }
   ],
   "source": [
    "lookDetected"
   ]
  },
  {
   "cell_type": "code",
   "execution_count": 172,
   "metadata": {},
   "outputs": [
    {
     "data": {
      "text/plain": [
       "{'rightSide': 113.5, 'leftSide': 25.3, 'topSide': 7.9, 'bottomSide': 16.4}"
      ]
     },
     "execution_count": 172,
     "metadata": {},
     "output_type": "execute_result"
    }
   ],
   "source": [
    "ss"
   ]
  }
 ],
 "metadata": {
  "colab": {
   "collapsed_sections": [],
   "name": "gaze.ipynb",
   "provenance": []
  },
  "kernelspec": {
   "display_name": "Python 3",
   "language": "python",
   "name": "python3"
  },
  "language_info": {
   "codemirror_mode": {
    "name": "ipython",
    "version": 3
   },
   "file_extension": ".py",
   "mimetype": "text/x-python",
   "name": "python",
   "nbconvert_exporter": "python",
   "pygments_lexer": "ipython3",
   "version": "3.8.8"
  }
 },
 "nbformat": 4,
 "nbformat_minor": 1
}
