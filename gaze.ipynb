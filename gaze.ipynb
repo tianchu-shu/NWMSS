{
 "cells": [
  {
   "cell_type": "code",
   "execution_count": 3,
   "metadata": {
    "id": "IgQge6h7AqDw"
   },
   "outputs": [],
   "source": [
    "import json\n",
    "import os\n",
    "import pandas as pd"
   ]
  },
  {
   "cell_type": "code",
   "execution_count": 4,
   "metadata": {},
   "outputs": [],
   "source": [
    "data_dir=\"C:/Users/TEMP/Box/Baby Toolbox Operations/Domain Teams/Language/Tobii Pilot/Claire_LWL&EF\""
   ]
  },
  {
   "cell_type": "code",
   "execution_count": 5,
   "metadata": {},
   "outputs": [],
   "source": [
    "os.chdir(data_dir)"
   ]
  },
  {
   "cell_type": "code",
   "execution_count": 6,
   "metadata": {
    "colab": {
     "base_uri": "https://localhost:8080/"
    },
    "id": "e6NteNENFFl7",
    "outputId": "0a219d79-8f0e-41b3-f463-167bc67024fe"
   },
   "outputs": [
    {
     "name": "stderr",
     "output_type": "stream",
     "text": [
      "C:\\Users\\TEMP\\Anaconda3\\lib\\site-packages\\IPython\\core\\interactiveshell.py:3165: DtypeWarning: Columns (28,34,36) have mixed types.Specify dtype option on import or set low_memory=False.\n",
      "  has_raised = await self.run_ast_nodes(code_ast.body, cell_name,\n"
     ]
    }
   ],
   "source": [
    "tdf= pd.read_csv('Baby Toolbox_Data_Export.tsv', sep='\\t') "
   ]
  },
  {
   "cell_type": "code",
   "execution_count": 7,
   "metadata": {
    "colab": {
     "base_uri": "https://localhost:8080/"
    },
    "id": "4KY69VAKFMcI",
    "outputId": "c9b13d2a-64e5-4e1e-fce3-fbd168fba274"
   },
   "outputs": [
    {
     "data": {
      "text/plain": [
       "(107784, 380)"
      ]
     },
     "execution_count": 7,
     "metadata": {},
     "output_type": "execute_result"
    }
   ],
   "source": [
    "tdf.shape"
   ]
  },
  {
   "cell_type": "code",
   "execution_count": 8,
   "metadata": {},
   "outputs": [
    {
     "name": "stdout",
     "output_type": "stream",
     "text": [
      "['AOI[WholeScreen]Hit', 'AOI[WholeScreen]Hit.1', 'AOI[WholeScreen]Hit.2', 'AOI[WholeScreen]Hit.3', 'AOI[LeftStim_Shoulder]Hit', 'AOI[RightStim_Hose]Hit', 'AOI[WholeScreen]Hit.4', 'AOI[LeftStim_Ladder]Hit', 'AOI[RightStim_Melon]Hit', 'AOI[WholeScreen]Hit.5', 'AOI[LeftStim_Rooster]Hit', 'AOI[RightStim_Playground]Hit', 'AOI[WholeScreen]Hit.6', 'AOI[LeftStim_Bike]Hit', 'AOI[RightStim_Sneaker]Hit', 'AOI[WholeScreen]Hit.7', 'AOI[LeftStim]Hit', 'AOI[RightStim]Hit', 'AOI[WholeScreen]Hit.8', 'AOI[LeftStim]Hit.1', 'AOI[RightStim]Hit.1', 'AOI[WholeScreen]Hit.9', 'AOI[LeftStim]Hit.2', 'AOI[RightStim]Hit.2', 'AOI[WholeScreen]Hit.10', 'AOI[LeftStim]Hit.3', 'AOI[RightStim]Hit.3', 'AOI[WholeScreen]Hit.11', 'AOI[LeftStim]Hit.4', 'AOI[RightStim]Hit.4', 'AOI[WholeScreen]Hit.12', 'AOI[LeftStim]Hit.5', 'AOI[RightStim]Hit.5', 'AOI[WholeScreen]Hit.13', 'AOI[LeftStim]Hit.6', 'AOI[RightStim]Hit.6', 'AOI[WholeScreen]Hit.14', 'AOI[LeftStim]Hit.7', 'AOI[RightStim]Hit.7', 'AOI[WholeScreen]Hit.15', 'AOI[LeftStim]Hit.8', 'AOI[RightStim]Hit.8', 'AOI[WholeScreen]Hit.16', 'AOI[LeftStim]Hit.9', 'AOI[RightStim]Hit.9', 'AOI[WholeScreen]Hit.17', 'AOI[LeftStim]Hit.10', 'AOI[RightStim]Hit.10', 'AOI[WholeScreen]Hit.18', 'AOI[LeftStim]Hit.11', 'AOI[RightStim]Hit.11', 'AOI[WholeScreen]Hit.19', 'AOI[LeftStim]Hit.12', 'AOI[RightStim]Hit.12', 'AOI[WholeScreen]Hit.20', 'AOI[LeftStim]Hit.13', 'AOI[RightStim]Hit.13', 'AOI[WholeScreen]Hit.21', 'AOI[LeftStim]Hit.14', 'AOI[RightStim]Hit.14', 'AOI[WholeScreen]Hit.22', 'AOI[LeftStim]Hit.15', 'AOI[RightStim]Hit.15', 'AOI[WholeScreen]Hit.23', 'AOI[LeftStim]Hit.16', 'AOI[RightStim]Hit.16', 'AOI[WholeScreen]Hit.24', 'AOI[LeftStim]Hit.17', 'AOI[RightStim]Hit.17', 'AOI[WholeScreen]Hit.25', 'AOI[LeftStim]Hit.18', 'AOI[RightStim]Hit.18', 'AOI[WholeScreen]Hit.26', 'AOI[LeftStim]Hit.19', 'AOI[RightStim]Hit.19', 'AOI[WholeScreen]Hit.27', 'AOI[WholeScreen]Hit.28', 'AOI[WholeScreen]Hit.29', 'AOI[WholeScreen]Hit.30', 'AOI[WholeScreen]Hit.31', 'AOI[WholeScreen]Hit.32', 'AOI[WholeScreen]Hit.33', 'AOI[WholeScreen]Hit.34', 'AOI[WholeScreen]Hit.35', 'AOI[Dog]Hit', 'AOI[WholeScreen]Hit.36', 'AOI[Star]Hit', 'AOI[WholeScreen]Hit.37', 'AOI[Dog]Hit.1', 'AOI[WholeScreen]Hit.38', 'AOI[Star]Hit.1', 'AOI[WholeScreen]Hit.39', 'AOI[Dog]Hit.2', 'AOI[WholeScreen]Hit.40', 'AOI[Star]Hit.2', 'AOI[WholeScreen]Hit.41', 'AOI[Dog]Hit.3', 'AOI[WholeScreen]Hit.42', 'AOI[Star]Hit.3', 'AOI[WholeScreen]Hit.43', 'AOI[Dog]Hit.4', 'AOI[WholeScreen]Hit.44', 'AOI[Star]Hit.4', 'AOI[WholeScreen]Hit.45', 'AOI[Dog]Hit.5', 'AOI[WholeScreen]Hit.46', 'AOI[Star]Hit.5', 'AOI[WholeScreen]Hit.47', 'AOI[Dog]Hit.6', 'AOI[WholeScreen]Hit.48', 'AOI[Star]Hit.6', 'AOI[WholeScreen]Hit.49', 'AOI[Dog]Hit.7', 'AOI[WholeScreen]Hit.50', 'AOI[Star]Hit.7', 'AOI[WholeScreen]Hit.51', 'AOI[Dog]Hit.8', 'AOI[Cat]Hit', 'AOI[WholeScreen]Hit.52', 'AOI[Cat]Hit.1', 'AOI[Dog]Hit.9', 'AOI[WholeScreen]Hit.53', 'AOI[Left]Hit', 'AOI[Right]Hit', 'AOI[Center]Hit', 'AOI[WholeScreen]Hit.54', 'AOI[Left]Hit.1', 'AOI[Right]Hit.1', 'AOI[Center]Hit.1', 'AOI[WholeScreen]Hit.55', 'AOI[Left]Hit.2', 'AOI[Right]Hit.2', 'AOI[Center]Hit.2', 'AOI[WholeScreen]Hit.56', 'AOI[Left]Hit.3', 'AOI[Right]Hit.3', 'AOI[Center]Hit.3', 'AOI[WholeScreen]Hit.57', 'AOI[Left]Hit.4', 'AOI[Right]Hit.4', 'AOI[Center]Hit.4', 'AOI[WholeScreen]Hit.58', 'AOI[Left]Hit.5', 'AOI[Right]Hit.5', 'AOI[Center]Hit.5', 'AOI[WholeScreen]Hit.59', 'AOI[Left]Hit.6', 'AOI[Right]Hit.6', 'AOI[Center]Hit.6', 'AOI[WholeScreen]Hit.60', 'AOI[Left]Hit.7', 'AOI[Right]Hit.7', 'AOI[Center]Hit.7', 'AOI[WholeScreen]Hit.61', 'AOI[Left]Hit.8', 'AOI[Right]Hit.8', 'AOI[Center]Hit.8', 'AOI[WholeScreen]Hit.62', 'AOI[Left]Hit.9', 'AOI[Right]Hit.9', 'AOI[Center]Hit.9', 'AOI[WholeScreen]Hit.63', 'AOI[Left]Hit.10', 'AOI[Right]Hit.10', 'AOI[Center]Hit.10', 'AOI[WholeScreen]Hit.64', 'AOI[Left]Hit.11', 'AOI[Right]Hit.11', 'AOI[Center]Hit.11', 'AOI[WholeScreen]Hit.65', 'AOI[Left]Hit.12', 'AOI[Right]Hit.12', 'AOI[Center]Hit.12', 'AOI[WholeScreen]Hit.66', 'AOI[Left]Hit.13', 'AOI[Right]Hit.13', 'AOI[Center]Hit.13', 'AOI[WholeScreen]Hit.67', 'AOI[Left]Hit.14', 'AOI[Right]Hit.14', 'AOI[Center]Hit.14', 'AOI[WholeScreen]Hit.68', 'AOI[WholeScreen]Hit.69', 'AOI[WholeScreen]Hit.70', 'AOI[WholeScreen]Hit.71', 'AOI[WholeScreen]Hit.72', 'AOI[Pig]Hit', 'AOI[WholeScreen]Hit.73', 'AOI[Blue Star]Hit', 'AOI[WholeScreen]Hit.74', 'AOI[Pig]Hit.1', 'AOI[WholeScreen]Hit.75', 'AOI[Blue Star]Hit.1', 'AOI[WholeScreen]Hit.76', 'AOI[Pig]Hit.2', 'AOI[WholeScreen]Hit.77', 'AOI[Blue Star]Hit.2', 'AOI[WholeScreen]Hit.78', 'AOI[Pig]Hit.3', 'AOI[WholeScreen]Hit.79', 'AOI[Blue Star]Hit.3', 'AOI[WholeScreen]Hit.80', 'AOI[Pig]Hit.4', 'AOI[WholeScreen]Hit.81', 'AOI[Blue Star]Hit.4', 'AOI[WholeScreen]Hit.82', 'AOI[Pig]Hit.5', 'AOI[WholeScreen]Hit.83', 'AOI[Blue Star]Hit.5', 'AOI[WholeScreen]Hit.84', 'AOI[Pig]Hit.6', 'AOI[WholeScreen]Hit.85', 'AOI[Blue Star]Hit.6', 'AOI[WholeScreen]Hit.86', 'AOI[Pig]Hit.7', 'AOI[WholeScreen]Hit.87', 'AOI[Blue Star]Hit.7', 'AOI[WholeScreen]Hit.88', 'AOI[Pig]Hit.8', 'AOI[Bear]Hit', 'AOI[WholeScreen]Hit.89', 'AOI[Bear]Hit.1', 'AOI[Pig]Hit.9', 'AOI[WholeScreen]Hit.90', 'AOI[Left]Hit.15', 'AOI[Right]Hit.15', 'AOI[Center]Hit.15', 'AOI[WholeScreen]Hit.91', 'AOI[Left]Hit.16', 'AOI[Right]Hit.16', 'AOI[Center]Hit.16', 'AOI[WholeScreen]Hit.92', 'AOI[Left]Hit.17', 'AOI[Right]Hit.17', 'AOI[Center]Hit.17', 'AOI[WholeScreen]Hit.93', 'AOI[Left]Hit.18', 'AOI[Right]Hit.18', 'AOI[Center]Hit.18', 'AOI[WholeScreen]Hit.94', 'AOI[Left]Hit.19', 'AOI[Right]Hit.19', 'AOI[Center]Hit.19', 'AOI[WholeScreen]Hit.95', 'AOI[Left]Hit.20', 'AOI[Right]Hit.20', 'AOI[Center]Hit.20', 'AOI[WholeScreen]Hit.96', 'AOI[Left]Hit.21', 'AOI[Right]Hit.21', 'AOI[Center]Hit.21', 'AOI[WholeScreen]Hit.97', 'AOI[Left]Hit.22', 'AOI[Right]Hit.22', 'AOI[Center]Hit.22', 'AOI[WholeScreen]Hit.98', 'AOI[Left]Hit.23', 'AOI[Right]Hit.23', 'AOI[Center]Hit.23', 'AOI[WholeScreen]Hit.99', 'AOI[Left]Hit.24', 'AOI[Right]Hit.24', 'AOI[Center]Hit.24', 'AOI[WholeScreen]Hit.100', 'AOI[Left]Hit.25', 'AOI[Right]Hit.25', 'AOI[Center]Hit.25', 'AOI[WholeScreen]Hit.101', 'AOI[Left]Hit.26', 'AOI[Right]Hit.26', 'AOI[Center]Hit.26', 'AOI[WholeScreen]Hit.102', 'AOI[Dog]Hit.10', 'AOI[Cat]Hit.2', 'AOI[WholeScreen]Hit.103', 'AOI[Cat]Hit.3', 'AOI[Dog]Hit.11', 'AOI[WholeScreen]Hit.104']\n"
     ]
    }
   ],
   "source": [
    "keep = [col for col in tdf.columns if 'AOI' in col]\n",
    "keep = [col for col in keep if 'Calib' not in col]\n",
    "print(keep)"
   ]
  },
  {
   "cell_type": "code",
   "execution_count": 9,
   "metadata": {},
   "outputs": [],
   "source": [
    "k24 = keep[4:76]"
   ]
  },
  {
   "cell_type": "code",
   "execution_count": 10,
   "metadata": {},
   "outputs": [],
   "source": [
    "tdf=tdf[k24]"
   ]
  },
  {
   "cell_type": "code",
   "execution_count": 11,
   "metadata": {},
   "outputs": [],
   "source": [
    "tdata = round(tdf.mean(),4).to_dict()"
   ]
  },
  {
   "cell_type": "code",
   "execution_count": 12,
   "metadata": {},
   "outputs": [],
   "source": [
    "test = tdf[tdf['AOI[WholeScreen]Hit.4'].notnull()][['AOI[LeftStim_Shoulder]Hit',\n",
    " 'AOI[RightStim_Hose]Hit',\n",
    " 'AOI[WholeScreen]Hit.4']]"
   ]
  },
  {
   "cell_type": "code",
   "execution_count": 13,
   "metadata": {},
   "outputs": [],
   "source": [
    "left =[]\n",
    "right=[]\n",
    "away =[]\n",
    "onscreen = []\n",
    "i = 0\n",
    "for val in tdata:\n",
    "    if i%3 == 0:\n",
    "        rv = tdata[val]\n",
    "        left.append(tdata[val])\n",
    "    elif i%3 == 1:\n",
    "        rv += tdata[val]\n",
    "        right.append(tdata[val])\n",
    "    else:\n",
    "        rv = 1 - rv\n",
    "        away.append(rv)\n",
    "        onscreen.append(tdata[val])\n",
    "    i+=1"
   ]
  },
  {
   "cell_type": "code",
   "execution_count": 14,
   "metadata": {},
   "outputs": [
    {
     "data": {
      "text/plain": [
       "['AOI[LeftStim_Ladder]Hit', 'AOI[RightStim_Melon]Hit', 'AOI[WholeScreen]Hit.5']"
      ]
     },
     "execution_count": 14,
     "metadata": {},
     "output_type": "execute_result"
    }
   ],
   "source": [
    "k24[3:6]"
   ]
  },
  {
   "cell_type": "code",
   "execution_count": 15,
   "metadata": {},
   "outputs": [
    {
     "data": {
      "text/html": [
       "<div>\n",
       "<style scoped>\n",
       "    .dataframe tbody tr th:only-of-type {\n",
       "        vertical-align: middle;\n",
       "    }\n",
       "\n",
       "    .dataframe tbody tr th {\n",
       "        vertical-align: top;\n",
       "    }\n",
       "\n",
       "    .dataframe thead th {\n",
       "        text-align: right;\n",
       "    }\n",
       "</style>\n",
       "<table border=\"1\" class=\"dataframe\">\n",
       "  <thead>\n",
       "    <tr style=\"text-align: right;\">\n",
       "      <th></th>\n",
       "      <th>AOI[LeftStim_Shoulder]Hit</th>\n",
       "      <th>AOI[RightStim_Hose]Hit</th>\n",
       "      <th>AOI[WholeScreen]Hit.4</th>\n",
       "    </tr>\n",
       "  </thead>\n",
       "  <tbody>\n",
       "    <tr>\n",
       "      <th>3847</th>\n",
       "      <td>0.0</td>\n",
       "      <td>0.0</td>\n",
       "      <td>1.0</td>\n",
       "    </tr>\n",
       "    <tr>\n",
       "      <th>3848</th>\n",
       "      <td>0.0</td>\n",
       "      <td>0.0</td>\n",
       "      <td>1.0</td>\n",
       "    </tr>\n",
       "    <tr>\n",
       "      <th>3849</th>\n",
       "      <td>0.0</td>\n",
       "      <td>0.0</td>\n",
       "      <td>1.0</td>\n",
       "    </tr>\n",
       "    <tr>\n",
       "      <th>3850</th>\n",
       "      <td>0.0</td>\n",
       "      <td>0.0</td>\n",
       "      <td>1.0</td>\n",
       "    </tr>\n",
       "    <tr>\n",
       "      <th>3851</th>\n",
       "      <td>0.0</td>\n",
       "      <td>0.0</td>\n",
       "      <td>1.0</td>\n",
       "    </tr>\n",
       "    <tr>\n",
       "      <th>...</th>\n",
       "      <td>...</td>\n",
       "      <td>...</td>\n",
       "      <td>...</td>\n",
       "    </tr>\n",
       "    <tr>\n",
       "      <th>4884</th>\n",
       "      <td>1.0</td>\n",
       "      <td>0.0</td>\n",
       "      <td>1.0</td>\n",
       "    </tr>\n",
       "    <tr>\n",
       "      <th>4885</th>\n",
       "      <td>1.0</td>\n",
       "      <td>0.0</td>\n",
       "      <td>1.0</td>\n",
       "    </tr>\n",
       "    <tr>\n",
       "      <th>4886</th>\n",
       "      <td>1.0</td>\n",
       "      <td>0.0</td>\n",
       "      <td>1.0</td>\n",
       "    </tr>\n",
       "    <tr>\n",
       "      <th>4887</th>\n",
       "      <td>1.0</td>\n",
       "      <td>0.0</td>\n",
       "      <td>1.0</td>\n",
       "    </tr>\n",
       "    <tr>\n",
       "      <th>4888</th>\n",
       "      <td>1.0</td>\n",
       "      <td>0.0</td>\n",
       "      <td>1.0</td>\n",
       "    </tr>\n",
       "  </tbody>\n",
       "</table>\n",
       "<p>1042 rows × 3 columns</p>\n",
       "</div>"
      ],
      "text/plain": [
       "      AOI[LeftStim_Shoulder]Hit  AOI[RightStim_Hose]Hit  AOI[WholeScreen]Hit.4\n",
       "3847                        0.0                     0.0                    1.0\n",
       "3848                        0.0                     0.0                    1.0\n",
       "3849                        0.0                     0.0                    1.0\n",
       "3850                        0.0                     0.0                    1.0\n",
       "3851                        0.0                     0.0                    1.0\n",
       "...                         ...                     ...                    ...\n",
       "4884                        1.0                     0.0                    1.0\n",
       "4885                        1.0                     0.0                    1.0\n",
       "4886                        1.0                     0.0                    1.0\n",
       "4887                        1.0                     0.0                    1.0\n",
       "4888                        1.0                     0.0                    1.0\n",
       "\n",
       "[1042 rows x 3 columns]"
      ]
     },
     "execution_count": 15,
     "metadata": {},
     "output_type": "execute_result"
    }
   ],
   "source": [
    "test"
   ]
  },
  {
   "cell_type": "code",
   "execution_count": 16,
   "metadata": {},
   "outputs": [
    {
     "data": {
      "text/plain": [
       "541.0"
      ]
     },
     "execution_count": 16,
     "metadata": {},
     "output_type": "execute_result"
    }
   ],
   "source": [
    "test['AOI[LeftStim_Shoulder]Hit'].sum()"
   ]
  },
  {
   "cell_type": "code",
   "execution_count": 17,
   "metadata": {},
   "outputs": [
    {
     "data": {
      "text/html": [
       "<div>\n",
       "<style scoped>\n",
       "    .dataframe tbody tr th:only-of-type {\n",
       "        vertical-align: middle;\n",
       "    }\n",
       "\n",
       "    .dataframe tbody tr th {\n",
       "        vertical-align: top;\n",
       "    }\n",
       "\n",
       "    .dataframe thead th {\n",
       "        text-align: right;\n",
       "    }\n",
       "</style>\n",
       "<table border=\"1\" class=\"dataframe\">\n",
       "  <thead>\n",
       "    <tr style=\"text-align: right;\">\n",
       "      <th></th>\n",
       "      <th>AOI[LeftStim_Shoulder]Hit</th>\n",
       "      <th>AOI[RightStim_Hose]Hit</th>\n",
       "      <th>AOI[WholeScreen]Hit.4</th>\n",
       "    </tr>\n",
       "  </thead>\n",
       "  <tbody>\n",
       "    <tr>\n",
       "      <th>3847</th>\n",
       "      <td>0.0</td>\n",
       "      <td>0.0</td>\n",
       "      <td>1.0</td>\n",
       "    </tr>\n",
       "    <tr>\n",
       "      <th>3848</th>\n",
       "      <td>0.0</td>\n",
       "      <td>0.0</td>\n",
       "      <td>1.0</td>\n",
       "    </tr>\n",
       "    <tr>\n",
       "      <th>3849</th>\n",
       "      <td>0.0</td>\n",
       "      <td>0.0</td>\n",
       "      <td>1.0</td>\n",
       "    </tr>\n",
       "    <tr>\n",
       "      <th>3850</th>\n",
       "      <td>0.0</td>\n",
       "      <td>0.0</td>\n",
       "      <td>1.0</td>\n",
       "    </tr>\n",
       "    <tr>\n",
       "      <th>3851</th>\n",
       "      <td>0.0</td>\n",
       "      <td>0.0</td>\n",
       "      <td>1.0</td>\n",
       "    </tr>\n",
       "    <tr>\n",
       "      <th>...</th>\n",
       "      <td>...</td>\n",
       "      <td>...</td>\n",
       "      <td>...</td>\n",
       "    </tr>\n",
       "    <tr>\n",
       "      <th>4298</th>\n",
       "      <td>0.0</td>\n",
       "      <td>0.0</td>\n",
       "      <td>1.0</td>\n",
       "    </tr>\n",
       "    <tr>\n",
       "      <th>4299</th>\n",
       "      <td>0.0</td>\n",
       "      <td>0.0</td>\n",
       "      <td>1.0</td>\n",
       "    </tr>\n",
       "    <tr>\n",
       "      <th>4300</th>\n",
       "      <td>0.0</td>\n",
       "      <td>0.0</td>\n",
       "      <td>1.0</td>\n",
       "    </tr>\n",
       "    <tr>\n",
       "      <th>4301</th>\n",
       "      <td>0.0</td>\n",
       "      <td>0.0</td>\n",
       "      <td>1.0</td>\n",
       "    </tr>\n",
       "    <tr>\n",
       "      <th>4302</th>\n",
       "      <td>0.0</td>\n",
       "      <td>0.0</td>\n",
       "      <td>1.0</td>\n",
       "    </tr>\n",
       "  </tbody>\n",
       "</table>\n",
       "<p>95 rows × 3 columns</p>\n",
       "</div>"
      ],
      "text/plain": [
       "      AOI[LeftStim_Shoulder]Hit  AOI[RightStim_Hose]Hit  AOI[WholeScreen]Hit.4\n",
       "3847                        0.0                     0.0                    1.0\n",
       "3848                        0.0                     0.0                    1.0\n",
       "3849                        0.0                     0.0                    1.0\n",
       "3850                        0.0                     0.0                    1.0\n",
       "3851                        0.0                     0.0                    1.0\n",
       "...                         ...                     ...                    ...\n",
       "4298                        0.0                     0.0                    1.0\n",
       "4299                        0.0                     0.0                    1.0\n",
       "4300                        0.0                     0.0                    1.0\n",
       "4301                        0.0                     0.0                    1.0\n",
       "4302                        0.0                     0.0                    1.0\n",
       "\n",
       "[95 rows x 3 columns]"
      ]
     },
     "execution_count": 17,
     "metadata": {},
     "output_type": "execute_result"
    }
   ],
   "source": [
    "test[(test['AOI[LeftStim_Shoulder]Hit'] == 0) & (test['AOI[RightStim_Hose]Hit']==0)&(test['AOI[WholeScreen]Hit.4']==1)]"
   ]
  },
  {
   "cell_type": "code",
   "execution_count": null,
   "metadata": {},
   "outputs": [],
   "source": []
  },
  {
   "cell_type": "markdown",
   "metadata": {},
   "source": [
    "# json file"
   ]
  },
  {
   "cell_type": "code",
   "execution_count": 18,
   "metadata": {},
   "outputs": [],
   "source": [
    "data_dir=\"C:/Users/TEMP/Box/Baby Toolbox Operations/Domain Teams/Language/Tobii Pilot/Tobii Verbose Files/Claire/\""
   ]
  },
  {
   "cell_type": "code",
   "execution_count": 19,
   "metadata": {},
   "outputs": [],
   "source": [
    "os.chdir(data_dir)"
   ]
  },
  {
   "cell_type": "code",
   "execution_count": 20,
   "metadata": {},
   "outputs": [],
   "source": [
    "newfile ='949BCA6A-D3D6-426C-9A94-E806F84E4E72@845BDD10-B9AF-4592-AA4E-0CCE76A0E8CD@00025@2021-05-11-22.21.08.674@ExecutiveFunction@Claire@VerboseGazeData.json'"
   ]
  },
  {
   "cell_type": "code",
   "execution_count": 21,
   "metadata": {},
   "outputs": [],
   "source": [
    "#df=pd.read_json(newfile)"
   ]
  },
  {
   "cell_type": "code",
   "execution_count": 22,
   "metadata": {
    "id": "NMPx1zS1CQjM"
   },
   "outputs": [],
   "source": [
    "df=pd.read_json('949BCA6A-D3D6-426C-9A94-E806F84E4E72@845BDD10-B9AF-4592-AA4E-0CCE76A0E8CD@00024@2021-05-11-22.11.48.356@LookListening@Claire@VerboseGazeData.json')"
   ]
  },
  {
   "cell_type": "code",
   "execution_count": 23,
   "metadata": {},
   "outputs": [],
   "source": [
    "cols=['itemID','eventName','gazeLocationName', 'gazeLocationOnScreen']"
   ]
  },
  {
   "cell_type": "code",
   "execution_count": 24,
   "metadata": {},
   "outputs": [],
   "source": [
    "df=df[cols]"
   ]
  },
  {
   "cell_type": "code",
   "execution_count": 25,
   "metadata": {},
   "outputs": [
    {
     "data": {
      "text/plain": [
       "array(['beganCalibration', 'data', 'beganCalibrationRound1',\n",
       "       'faceVerticesChanged', 'presentedCalibrationItem',\n",
       "       'cameraImageCaptured', 'lookDetected', 'completedCalibrationItem',\n",
       "       'calibrationAlignmentCheckPassed', 'completedCalibration',\n",
       "       'beganLiveTest', 'presentedLiveItem', 'gazeLocationChanged',\n",
       "       'audioStarted', 'audioCompleted', 'beganLookDetection',\n",
       "       'endedLookDetection', 'completedLiveItem', 'presentedFillerScreen',\n",
       "       'removedFillerScreen', 'faceLeftScene', 'faceReturnedToScene',\n",
       "       'completedLiveTest', 'beganDriftPresentationRound',\n",
       "       'presentedDriftCalibrationItem', 'completedDriftCalibrationItem',\n",
       "       'completedDriftPresentationRound', 'instrumentCompleted'],\n",
       "      dtype=object)"
      ]
     },
     "execution_count": 25,
     "metadata": {},
     "output_type": "execute_result"
    }
   ],
   "source": [
    "df.eventName.unique()"
   ]
  },
  {
   "cell_type": "code",
   "execution_count": 26,
   "metadata": {},
   "outputs": [
    {
     "data": {
      "text/plain": [
       "2"
      ]
     },
     "execution_count": 26,
     "metadata": {},
     "output_type": "execute_result"
    }
   ],
   "source": [
    "len(df.gazeLocationOnScreen.value_counts())"
   ]
  },
  {
   "cell_type": "code",
   "execution_count": 27,
   "metadata": {
    "scrolled": true
   },
   "outputs": [],
   "source": [
    "#Finding the index for presentLiveItem and completeLiveItem to subset the pieces we need for analysis\n",
    "begin =list(df[df['eventName'].str.contains('presentedLiveItem')].index)"
   ]
  },
  {
   "cell_type": "code",
   "execution_count": 28,
   "metadata": {
    "scrolled": true
   },
   "outputs": [],
   "source": [
    "end = list(df[df['eventName'].str.contains('completedLiveItem')].index)"
   ]
  },
  {
   "cell_type": "code",
   "execution_count": 29,
   "metadata": {
    "scrolled": true
   },
   "outputs": [
    {
     "data": {
      "text/html": [
       "<div>\n",
       "<style scoped>\n",
       "    .dataframe tbody tr th:only-of-type {\n",
       "        vertical-align: middle;\n",
       "    }\n",
       "\n",
       "    .dataframe tbody tr th {\n",
       "        vertical-align: top;\n",
       "    }\n",
       "\n",
       "    .dataframe thead th {\n",
       "        text-align: right;\n",
       "    }\n",
       "</style>\n",
       "<table border=\"1\" class=\"dataframe\">\n",
       "  <thead>\n",
       "    <tr style=\"text-align: right;\">\n",
       "      <th></th>\n",
       "      <th>Left</th>\n",
       "      <th>Right</th>\n",
       "      <th>Away</th>\n",
       "      <th>Onscreen</th>\n",
       "    </tr>\n",
       "  </thead>\n",
       "  <tbody>\n",
       "    <tr>\n",
       "      <th>0</th>\n",
       "      <td>0.5192</td>\n",
       "      <td>0.3273</td>\n",
       "      <td>0.1535</td>\n",
       "      <td>0.9376</td>\n",
       "    </tr>\n",
       "    <tr>\n",
       "      <th>1</th>\n",
       "      <td>0.1833</td>\n",
       "      <td>0.7927</td>\n",
       "      <td>0.0240</td>\n",
       "      <td>0.9760</td>\n",
       "    </tr>\n",
       "    <tr>\n",
       "      <th>2</th>\n",
       "      <td>0.5172</td>\n",
       "      <td>0.3267</td>\n",
       "      <td>0.1561</td>\n",
       "      <td>0.8647</td>\n",
       "    </tr>\n",
       "    <tr>\n",
       "      <th>3</th>\n",
       "      <td>0.7618</td>\n",
       "      <td>0.1239</td>\n",
       "      <td>0.1143</td>\n",
       "      <td>0.9318</td>\n",
       "    </tr>\n",
       "    <tr>\n",
       "      <th>4</th>\n",
       "      <td>0.3719</td>\n",
       "      <td>0.4531</td>\n",
       "      <td>0.1750</td>\n",
       "      <td>0.8667</td>\n",
       "    </tr>\n",
       "    <tr>\n",
       "      <th>5</th>\n",
       "      <td>0.4524</td>\n",
       "      <td>0.1931</td>\n",
       "      <td>0.3545</td>\n",
       "      <td>0.7906</td>\n",
       "    </tr>\n",
       "    <tr>\n",
       "      <th>6</th>\n",
       "      <td>0.2635</td>\n",
       "      <td>0.5712</td>\n",
       "      <td>0.1653</td>\n",
       "      <td>0.9221</td>\n",
       "    </tr>\n",
       "    <tr>\n",
       "      <th>7</th>\n",
       "      <td>0.6243</td>\n",
       "      <td>0.2393</td>\n",
       "      <td>0.1364</td>\n",
       "      <td>0.8783</td>\n",
       "    </tr>\n",
       "    <tr>\n",
       "      <th>8</th>\n",
       "      <td>0.3677</td>\n",
       "      <td>0.5094</td>\n",
       "      <td>0.1229</td>\n",
       "      <td>0.9073</td>\n",
       "    </tr>\n",
       "    <tr>\n",
       "      <th>9</th>\n",
       "      <td>0.5598</td>\n",
       "      <td>0.2060</td>\n",
       "      <td>0.2342</td>\n",
       "      <td>0.7773</td>\n",
       "    </tr>\n",
       "    <tr>\n",
       "      <th>10</th>\n",
       "      <td>0.1691</td>\n",
       "      <td>0.7915</td>\n",
       "      <td>0.0394</td>\n",
       "      <td>0.9606</td>\n",
       "    </tr>\n",
       "    <tr>\n",
       "      <th>11</th>\n",
       "      <td>0.3660</td>\n",
       "      <td>0.4227</td>\n",
       "      <td>0.2113</td>\n",
       "      <td>0.8271</td>\n",
       "    </tr>\n",
       "    <tr>\n",
       "      <th>12</th>\n",
       "      <td>0.6542</td>\n",
       "      <td>0.3055</td>\n",
       "      <td>0.0403</td>\n",
       "      <td>0.9731</td>\n",
       "    </tr>\n",
       "    <tr>\n",
       "      <th>13</th>\n",
       "      <td>0.2962</td>\n",
       "      <td>0.4644</td>\n",
       "      <td>0.2394</td>\n",
       "      <td>0.8942</td>\n",
       "    </tr>\n",
       "    <tr>\n",
       "      <th>14</th>\n",
       "      <td>0.6782</td>\n",
       "      <td>0.2344</td>\n",
       "      <td>0.0874</td>\n",
       "      <td>0.9721</td>\n",
       "    </tr>\n",
       "    <tr>\n",
       "      <th>15</th>\n",
       "      <td>0.8719</td>\n",
       "      <td>0.0656</td>\n",
       "      <td>0.0625</td>\n",
       "      <td>0.9448</td>\n",
       "    </tr>\n",
       "    <tr>\n",
       "      <th>16</th>\n",
       "      <td>0.6705</td>\n",
       "      <td>0.3004</td>\n",
       "      <td>0.0291</td>\n",
       "      <td>0.9709</td>\n",
       "    </tr>\n",
       "    <tr>\n",
       "      <th>17</th>\n",
       "      <td>0.6471</td>\n",
       "      <td>0.3163</td>\n",
       "      <td>0.0366</td>\n",
       "      <td>0.9798</td>\n",
       "    </tr>\n",
       "    <tr>\n",
       "      <th>18</th>\n",
       "      <td>0.7385</td>\n",
       "      <td>0.1865</td>\n",
       "      <td>0.0750</td>\n",
       "      <td>0.9500</td>\n",
       "    </tr>\n",
       "    <tr>\n",
       "      <th>19</th>\n",
       "      <td>0.4797</td>\n",
       "      <td>0.3788</td>\n",
       "      <td>0.1415</td>\n",
       "      <td>0.8647</td>\n",
       "    </tr>\n",
       "    <tr>\n",
       "      <th>20</th>\n",
       "      <td>0.5221</td>\n",
       "      <td>0.4567</td>\n",
       "      <td>0.0212</td>\n",
       "      <td>0.9788</td>\n",
       "    </tr>\n",
       "    <tr>\n",
       "      <th>21</th>\n",
       "      <td>0.2740</td>\n",
       "      <td>0.5952</td>\n",
       "      <td>0.1308</td>\n",
       "      <td>0.9231</td>\n",
       "    </tr>\n",
       "    <tr>\n",
       "      <th>22</th>\n",
       "      <td>0.3500</td>\n",
       "      <td>0.3438</td>\n",
       "      <td>0.3062</td>\n",
       "      <td>0.7240</td>\n",
       "    </tr>\n",
       "    <tr>\n",
       "      <th>23</th>\n",
       "      <td>0.7536</td>\n",
       "      <td>0.0728</td>\n",
       "      <td>0.1736</td>\n",
       "      <td>0.8545</td>\n",
       "    </tr>\n",
       "  </tbody>\n",
       "</table>\n",
       "</div>"
      ],
      "text/plain": [
       "      Left   Right    Away  Onscreen\n",
       "0   0.5192  0.3273  0.1535    0.9376\n",
       "1   0.1833  0.7927  0.0240    0.9760\n",
       "2   0.5172  0.3267  0.1561    0.8647\n",
       "3   0.7618  0.1239  0.1143    0.9318\n",
       "4   0.3719  0.4531  0.1750    0.8667\n",
       "5   0.4524  0.1931  0.3545    0.7906\n",
       "6   0.2635  0.5712  0.1653    0.9221\n",
       "7   0.6243  0.2393  0.1364    0.8783\n",
       "8   0.3677  0.5094  0.1229    0.9073\n",
       "9   0.5598  0.2060  0.2342    0.7773\n",
       "10  0.1691  0.7915  0.0394    0.9606\n",
       "11  0.3660  0.4227  0.2113    0.8271\n",
       "12  0.6542  0.3055  0.0403    0.9731\n",
       "13  0.2962  0.4644  0.2394    0.8942\n",
       "14  0.6782  0.2344  0.0874    0.9721\n",
       "15  0.8719  0.0656  0.0625    0.9448\n",
       "16  0.6705  0.3004  0.0291    0.9709\n",
       "17  0.6471  0.3163  0.0366    0.9798\n",
       "18  0.7385  0.1865  0.0750    0.9500\n",
       "19  0.4797  0.3788  0.1415    0.8647\n",
       "20  0.5221  0.4567  0.0212    0.9788\n",
       "21  0.2740  0.5952  0.1308    0.9231\n",
       "22  0.3500  0.3438  0.3062    0.7240\n",
       "23  0.7536  0.0728  0.1736    0.8545"
      ]
     },
     "execution_count": 29,
     "metadata": {},
     "output_type": "execute_result"
    }
   ],
   "source": [
    "expected = pd.DataFrame(\n",
    "    {'Left': left,\n",
    "     'Right': right,\n",
    "     'Away': away,'Onscreen':onscreen\n",
    "    })\n",
    "expected"
   ]
  },
  {
   "cell_type": "code",
   "execution_count": 30,
   "metadata": {},
   "outputs": [
    {
     "data": {
      "text/plain": [
       "24"
      ]
     },
     "execution_count": 30,
     "metadata": {},
     "output_type": "execute_result"
    }
   ],
   "source": [
    "len(end)"
   ]
  },
  {
   "cell_type": "code",
   "execution_count": 31,
   "metadata": {},
   "outputs": [],
   "source": [
    "test = df.iloc[605:1236]"
   ]
  },
  {
   "cell_type": "code",
   "execution_count": 32,
   "metadata": {},
   "outputs": [
    {
     "data": {
      "text/plain": [
       "true    83\n",
       "Name: gazeLocationOnScreen, dtype: int64"
      ]
     },
     "execution_count": 32,
     "metadata": {},
     "output_type": "execute_result"
    }
   ],
   "source": [
    "test[test['gazeLocationName'] == 'away'].gazeLocationOnScreen.value_counts()"
   ]
  },
  {
   "cell_type": "markdown",
   "metadata": {},
   "source": [
    "# Fisher Exact Test "
   ]
  },
  {
   "cell_type": "code",
   "execution_count": 60,
   "metadata": {},
   "outputs": [],
   "source": [
    "#tsv file\n",
    "exp = pd.DataFrame(columns=('left', 'right','onScreenAway','offScreenAway'))\n",
    "for i in range(24):\n",
    "    lcol,rcol,wcol = k24[3*i:3*i+3]\n",
    "    \n",
    "    subset = tdf[tdf[wcol].notnull()]\n",
    "    \n",
    "    a=subset[lcol].sum()\n",
    "    b=subset[rcol].sum()\n",
    "    d=subset[(subset[lcol]==0) & (subset[rcol]==0) &(subset[wcol]==1)].shape[0]\n",
    "    e=subset[(subset[lcol]==0) & (subset[rcol]==0) &(subset[wcol]==0)].shape[0]\n",
    "\n",
    "    exp.loc[i] = [a, b ,d, e]"
   ]
  },
  {
   "cell_type": "code",
   "execution_count": 79,
   "metadata": {
    "scrolled": true
   },
   "outputs": [],
   "source": [
    "exp.to_csv('C:/Users/TEMP/Box/Baby Toolbox Operations/Analysis/tsv_count.csv', index=False)"
   ]
  },
  {
   "cell_type": "code",
   "execution_count": 80,
   "metadata": {},
   "outputs": [],
   "source": [
    "obs.to_csv('C:/Users/TEMP/Box/Baby Toolbox Operations/Analysis/json_count.csv', index=False)"
   ]
  },
  {
   "cell_type": "code",
   "execution_count": 35,
   "metadata": {},
   "outputs": [],
   "source": [
    "#json file\n",
    "obs = pd.DataFrame(columns=('L', 'R','onScreenAway','offScreenAway'))\n",
    "items =[]\n",
    "for i in range(len(end)):\n",
    "    sub = df.iloc[begin[i]+1:end[i]]\n",
    "    items.extend(sub.itemID.dropna().unique())\n",
    "    a, b, c = sub.gazeLocationName.value_counts()[['left','right','away']].round(4) \n",
    "    if len(sub[sub['gazeLocationName'] == 'away'].gazeLocationOnScreen.value_counts()) == 2:\n",
    "        d,e = sub[sub['gazeLocationName'] == 'away'].gazeLocationOnScreen.value_counts()\n",
    "    else:\n",
    "        d = c\n",
    "        e = 0\n",
    "    obs.loc[i] = [a, b ,d, e]"
   ]
  },
  {
   "cell_type": "code",
   "execution_count": 72,
   "metadata": {},
   "outputs": [],
   "source": [
    "l1 =obs.to_numpy()"
   ]
  },
  {
   "cell_type": "code",
   "execution_count": 76,
   "metadata": {},
   "outputs": [
    {
     "data": {
      "text/plain": [
       "['Shoulder_Hose_G5',\n",
       " 'Ladder_Melon_G5',\n",
       " 'Rooster_Playground_G5',\n",
       " 'Tricycle_Sneaker_G5',\n",
       " 'Hose_Shoulder_G5',\n",
       " 'Melon_Ladder_G5',\n",
       " 'Playground_Rooster_G5',\n",
       " 'Sneaker_Tricycle_G5',\n",
       " 'Star_Moose_G6',\n",
       " 'Turtle_Hammer_G6',\n",
       " 'Cake_Bee_G6',\n",
       " 'Lamp_Stove_G6',\n",
       " 'Moose_Star_G6',\n",
       " 'Hammer_Turtle_G6',\n",
       " 'Bee_Cake_G6',\n",
       " 'Stove_Lamp_G6',\n",
       " 'Garden_Sweater_G7',\n",
       " 'Ankle_Scissors_G7',\n",
       " 'Woods_Tray_G7',\n",
       " 'Bench_Rip_G7',\n",
       " 'Sweater_Garden_G7',\n",
       " 'Scissors_Ankle_G7',\n",
       " 'Tray_Woods_G7',\n",
       " 'Rip_Bench_G7']"
      ]
     },
     "execution_count": 76,
     "metadata": {},
     "output_type": "execute_result"
    }
   ],
   "source": [
    "items"
   ]
  },
  {
   "cell_type": "code",
   "execution_count": 77,
   "metadata": {},
   "outputs": [
    {
     "name": "stdout",
     "output_type": "stream",
     "text": [
      "Shoulder_Hose_G5\n",
      "probability=0.950, critical=7.815, stat=205.763\n",
      "Dependent (reject H0)\n",
      "significance=0.050, p=0.000\n",
      "Dependent (reject H0)\n",
      "\n",
      "Ladder_Melon_G5\n",
      "probability=0.950, critical=7.815, stat=268.473\n",
      "Dependent (reject H0)\n",
      "significance=0.050, p=0.000\n",
      "Dependent (reject H0)\n",
      "\n",
      "Rooster_Playground_G5\n",
      "probability=0.950, critical=7.815, stat=55.133\n",
      "Dependent (reject H0)\n",
      "significance=0.050, p=0.000\n",
      "Dependent (reject H0)\n",
      "\n",
      "Tricycle_Sneaker_G5\n",
      "probability=0.950, critical=7.815, stat=148.672\n",
      "Dependent (reject H0)\n",
      "significance=0.050, p=0.000\n",
      "Dependent (reject H0)\n",
      "\n",
      "Hose_Shoulder_G5\n",
      "probability=0.950, critical=7.815, stat=136.355\n",
      "Dependent (reject H0)\n",
      "significance=0.050, p=0.000\n",
      "Dependent (reject H0)\n",
      "\n",
      "Melon_Ladder_G5\n",
      "probability=0.950, critical=7.815, stat=183.149\n",
      "Dependent (reject H0)\n",
      "significance=0.050, p=0.000\n",
      "Dependent (reject H0)\n",
      "\n",
      "Playground_Rooster_G5\n",
      "probability=0.950, critical=7.815, stat=173.240\n",
      "Dependent (reject H0)\n",
      "significance=0.050, p=0.000\n",
      "Dependent (reject H0)\n",
      "\n",
      "Sneaker_Tricycle_G5\n",
      "probability=0.950, critical=7.815, stat=76.002\n",
      "Dependent (reject H0)\n",
      "significance=0.050, p=0.000\n",
      "Dependent (reject H0)\n",
      "\n",
      "Star_Moose_G6\n",
      "probability=0.950, critical=7.815, stat=125.728\n",
      "Dependent (reject H0)\n",
      "significance=0.050, p=0.000\n",
      "Dependent (reject H0)\n",
      "\n",
      "Turtle_Hammer_G6\n",
      "probability=0.950, critical=7.815, stat=122.953\n",
      "Dependent (reject H0)\n",
      "significance=0.050, p=0.000\n",
      "Dependent (reject H0)\n",
      "\n",
      "Cake_Bee_G6\n",
      "probability=0.950, critical=7.815, stat=265.667\n",
      "Dependent (reject H0)\n",
      "significance=0.050, p=0.000\n",
      "Dependent (reject H0)\n",
      "\n",
      "Lamp_Stove_G6\n",
      "probability=0.950, critical=7.815, stat=77.613\n",
      "Dependent (reject H0)\n",
      "significance=0.050, p=0.000\n",
      "Dependent (reject H0)\n",
      "\n",
      "Moose_Star_G6\n",
      "probability=0.950, critical=7.815, stat=75.622\n",
      "Dependent (reject H0)\n",
      "significance=0.050, p=0.000\n",
      "Dependent (reject H0)\n",
      "\n",
      "Hammer_Turtle_G6\n",
      "probability=0.950, critical=7.815, stat=338.139\n",
      "Dependent (reject H0)\n",
      "significance=0.050, p=0.000\n",
      "Dependent (reject H0)\n",
      "\n",
      "Bee_Cake_G6\n",
      "probability=0.950, critical=7.815, stat=148.283\n",
      "Dependent (reject H0)\n",
      "significance=0.050, p=0.000\n",
      "Dependent (reject H0)\n",
      "\n",
      "Stove_Lamp_G6\n",
      "probability=0.950, critical=7.815, stat=252.149\n",
      "Dependent (reject H0)\n",
      "significance=0.050, p=0.000\n",
      "Dependent (reject H0)\n",
      "\n",
      "Garden_Sweater_G7\n",
      "probability=0.950, critical=7.815, stat=78.322\n",
      "Dependent (reject H0)\n",
      "significance=0.050, p=0.000\n",
      "Dependent (reject H0)\n",
      "\n",
      "Ankle_Scissors_G7\n",
      "probability=0.950, critical=7.815, stat=159.638\n",
      "Dependent (reject H0)\n",
      "significance=0.050, p=0.000\n",
      "Dependent (reject H0)\n",
      "\n",
      "Woods_Tray_G7\n",
      "probability=0.950, critical=7.815, stat=91.883\n",
      "Dependent (reject H0)\n",
      "significance=0.050, p=0.000\n",
      "Dependent (reject H0)\n",
      "\n",
      "Bench_Rip_G7\n",
      "probability=0.950, critical=7.815, stat=212.093\n",
      "Dependent (reject H0)\n",
      "significance=0.050, p=0.000\n",
      "Dependent (reject H0)\n",
      "\n",
      "Sweater_Garden_G7\n",
      "probability=0.950, critical=7.815, stat=78.258\n",
      "Dependent (reject H0)\n",
      "significance=0.050, p=0.000\n",
      "Dependent (reject H0)\n",
      "\n",
      "Scissors_Ankle_G7\n",
      "probability=0.950, critical=7.815, stat=112.097\n",
      "Dependent (reject H0)\n",
      "significance=0.050, p=0.000\n",
      "Dependent (reject H0)\n",
      "\n",
      "Tray_Woods_G7\n",
      "probability=0.950, critical=7.815, stat=58.624\n",
      "Dependent (reject H0)\n",
      "significance=0.050, p=0.000\n",
      "Dependent (reject H0)\n",
      "\n",
      "Rip_Bench_G7\n",
      "probability=0.950, critical=7.815, stat=297.252\n",
      "Dependent (reject H0)\n",
      "significance=0.050, p=0.000\n",
      "Dependent (reject H0)\n",
      "\n"
     ]
    }
   ],
   "source": [
    "import scipy.stats as stats\n",
    "from scipy.stats import chi2_contingency\n",
    "from scipy.stats import chi2\n",
    "\n",
    "for i in range(24):\n",
    "    data = [l1[i], l2[2]]\n",
    "    \n",
    "    stat, p, dof, expected = chi2_contingency(data)\n",
    "    print(items[i])\n",
    "    \n",
    "    # interpret test-statistic\n",
    "    prob = 0.95\n",
    "    critical = chi2.ppf(prob, dof)\n",
    "    print('probability=%.3f, critical=%.3f, stat=%.3f' % (prob, critical, stat))\n",
    "    if abs(stat) >= critical:\n",
    "        print('Dependent (reject H0)')\n",
    "    else:\n",
    "        print('Independent (fail to reject H0)')\n",
    "\n",
    "    # interpret p-value\n",
    "    alpha = 1.0 - prob\n",
    "    print('significance=%.3f, p=%.3f' % (alpha, p))\n",
    "    if p <= alpha:\n",
    "        print('Dependent (reject H0)')\n",
    "    else:\n",
    "        print('Independent (fail to reject H0)')\n",
    "    print('')"
   ]
  },
  {
   "cell_type": "code",
   "execution_count": 66,
   "metadata": {},
   "outputs": [
    {
     "data": {
      "text/plain": [
       "array([[541., 341.,  95.,  65.],\n",
       "       [176., 761.,   0.,  23.],\n",
       "       [497., 314.,  20., 130.],\n",
       "       [793., 129.,  48.,  71.],\n",
       "       [357., 435.,  40., 128.],\n",
       "       [471., 201., 151., 218.],\n",
       "       [274., 594.,  91.,  81.],\n",
       "       [600., 230.,  14., 117.],\n",
       "       [353., 489.,  29.,  89.],\n",
       "       [538., 198.,  11., 214.],\n",
       "       [176., 824.,   0.,  41.],\n",
       "       [381., 440.,  40., 180.],\n",
       "       [681., 318.,  14.,  28.],\n",
       "       [308., 483., 139., 110.],\n",
       "       [706., 244.,  62.,  29.],\n",
       "       [837.,  63.,   7.,  53.],\n",
       "       [645., 289.,   0.,  28.],\n",
       "       [673., 329.,  17.,  21.],\n",
       "       [768., 194.,  26.,  52.],\n",
       "       [461., 364.,   6., 130.],\n",
       "       [543., 475.,   0.,  22.],\n",
       "       [285., 619.,  56.,  80.],\n",
       "       [336., 330.,  29., 265.],\n",
       "       [725.,  70.,  27., 140.]])"
      ]
     },
     "execution_count": 66,
     "metadata": {},
     "output_type": "execute_result"
    }
   ],
   "source": [
    "l2"
   ]
  },
  {
   "cell_type": "code",
   "execution_count": null,
   "metadata": {},
   "outputs": [],
   "source": []
  },
  {
   "cell_type": "code",
   "execution_count": 41,
   "metadata": {},
   "outputs": [
    {
     "name": "stdout",
     "output_type": "stream",
     "text": [
      "dof=15\n",
      "probability=0.950, critical=24.996, stat=0.138\n",
      "Independent (fail to reject H0)\n",
      "significance=0.050, p=1.000\n",
      "Independent (fail to reject H0)\n"
     ]
    }
   ],
   "source": [
    "from scipy.stats import chi2_contingency\n",
    "from scipy.stats import chi2\n",
    "# contingency table\n",
    "table = [ob,ex]\n",
    "\n",
    "stat, p, dof, expected = chi2_contingency(table)\n",
    "print('dof=%d' % dof)\n",
    "\n",
    "# interpret test-statistic\n",
    "prob = 0.95\n",
    "critical = chi2.ppf(prob, dof)\n",
    "print('probability=%.3f, critical=%.3f, stat=%.3f' % (prob, critical, stat))\n",
    "if abs(stat) >= critical:\n",
    "    print('Dependent (reject H0)')\n",
    "else:\n",
    "    print('Independent (fail to reject H0)')\n",
    "    \n",
    "# interpret p-value\n",
    "alpha = 1.0 - prob\n",
    "print('significance=%.3f, p=%.3f' % (alpha, p))\n",
    "if p <= alpha:\n",
    "    print('Dependent (reject H0)')\n",
    "else:\n",
    "    print('Independent (fail to reject H0)')"
   ]
  },
  {
   "cell_type": "code",
   "execution_count": 142,
   "metadata": {
    "scrolled": true
   },
   "outputs": [],
   "source": [
    "from scipy.stats import chisquare\n",
    "chisq = pd.DataFrame(columns=('items', 'stat','p'))\n",
    "for i in range(24):\n",
    "    ob = obs.iloc[i]\n",
    "    ex = expected.iloc[i]\n",
    "    stat, pv = chisquare(f_obs=ob, f_exp=ex)\n",
    "    chisq.loc[i] = [items[i], round(stat,3) ,round(pv,3)]\n"
   ]
  },
  {
   "cell_type": "code",
   "execution_count": 144,
   "metadata": {},
   "outputs": [],
   "source": [
    "chisq.to_csv('C:/Users/TEMP/Box/Baby Toolbox Operations/Analysis/chisquare.csv', index=False)"
   ]
  },
  {
   "cell_type": "code",
   "execution_count": 145,
   "metadata": {},
   "outputs": [
    {
     "name": "stdout",
     "output_type": "stream",
     "text": [
      " Volume in drive C is Windows\n",
      " Volume Serial Number is 1E0A-261A\n",
      "\n",
      " Directory of C:\\Users\\TEMP\\Box\\Baby Toolbox Operations\\Domain Teams\\Language\\Tobii Pilot\\Tobii Verbose Files\\Claire\n",
      "\n",
      "05/24/2021  01:01 PM    <DIR>          .\n",
      "05/24/2021  01:01 PM    <DIR>          ..\n",
      "05/11/2021  05:11 PM      (70,162,558) 949BCA6A-D3D6-426C-9A94-E806F84E4E72@845BDD10-B9AF-4592-AA4E-0CCE76A0E8CD@00024@2021-05-11-22.11.48.356@LookListening@Claire@VerboseGazeData 2.json\n",
      "05/11/2021  05:11 PM        70,162,558 949BCA6A-D3D6-426C-9A94-E806F84E4E72@845BDD10-B9AF-4592-AA4E-0CCE76A0E8CD@00024@2021-05-11-22.11.48.356@LookListening@Claire@VerboseGazeData.json\n",
      "05/11/2021  05:11 PM         4,921,354 949BCA6A-D3D6-426C-9A94-E806F84E4E72@845BDD10-B9AF-4592-AA4E-0CCE76A0E8CD@00024@2021-05-11-22.11.53.662@LookListening@Claire@VerboseGazeData 2.csv\n",
      "05/11/2021  05:11 PM       (4,921,354) 949BCA6A-D3D6-426C-9A94-E806F84E4E72@845BDD10-B9AF-4592-AA4E-0CCE76A0E8CD@00024@2021-05-11-22.11.53.662@LookListening@Claire@VerboseGazeData.csv\n",
      "05/24/2021  12:36 PM    <DIR>          949BCA6A-D3D6-426C-9A94-E806F84E4E72@845BDD10-B9AF-4592-AA4E-0CCE76A0E8CD@00024@media\n",
      "05/11/2021  05:21 PM       144,958,835 949BCA6A-D3D6-426C-9A94-E806F84E4E72@845BDD10-B9AF-4592-AA4E-0CCE76A0E8CD@00025@2021-05-11-22.21.08.674@ExecutiveFunction@Claire@VerboseGazeData.json\n",
      "05/11/2021  05:21 PM      (10,194,317) 949BCA6A-D3D6-426C-9A94-E806F84E4E72@845BDD10-B9AF-4592-AA4E-0CCE76A0E8CD@00025@2021-05-11-22.21.19.618@ExecutiveFunction@Claire@VerboseGazeData.csv\n",
      "05/24/2021  01:01 PM    <DIR>          949BCA6A-D3D6-426C-9A94-E806F84E4E72@845BDD10-B9AF-4592-AA4E-0CCE76A0E8CD@00025@media\n",
      "05/11/2021  07:13 PM      (70,250,492) A87CEC62-214F-4B81-A3CB-45B1DA445644@845BDD10-B9AF-4592-AA4E-0CCE76A0E8CD@00026@2021-05-12-00.13.17.121@LookListening@Brian@VerboseGazeData.json\n",
      "05/11/2021  07:13 PM       (4,938,948) A87CEC62-214F-4B81-A3CB-45B1DA445644@845BDD10-B9AF-4592-AA4E-0CCE76A0E8CD@00026@2021-05-12-00.13.22.403@LookListening@Brian@VerboseGazeData.csv\n",
      "05/24/2021  12:36 PM    <DIR>          A87CEC62-214F-4B81-A3CB-45B1DA445644@845BDD10-B9AF-4592-AA4E-0CCE76A0E8CD@00026@media\n",
      "06/01/2021  04:16 PM               714 chisquare.csv\n",
      "               9 File(s)    380,523,418 bytes\n",
      "               5 Dir(s)  177,100,279,808 bytes free\n"
     ]
    }
   ],
   "source": [
    "!DIR"
   ]
  },
  {
   "cell_type": "code",
   "execution_count": 147,
   "metadata": {},
   "outputs": [],
   "source": [
    "obs.to_csv('C:/Users/TEMP/Box/Baby Toolbox Operations/Analysis/summary.csv', index=False)"
   ]
  },
  {
   "cell_type": "code",
   "execution_count": null,
   "metadata": {},
   "outputs": [],
   "source": []
  }
 ],
 "metadata": {
  "colab": {
   "collapsed_sections": [],
   "name": "gaze.ipynb",
   "provenance": []
  },
  "kernelspec": {
   "display_name": "Python 3",
   "language": "python",
   "name": "python3"
  },
  "language_info": {
   "codemirror_mode": {
    "name": "ipython",
    "version": 3
   },
   "file_extension": ".py",
   "mimetype": "text/x-python",
   "name": "python",
   "nbconvert_exporter": "python",
   "pygments_lexer": "ipython3",
   "version": "3.8.8"
  }
 },
 "nbformat": 4,
 "nbformat_minor": 1
}
