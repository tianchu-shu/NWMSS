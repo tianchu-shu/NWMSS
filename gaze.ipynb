{
 "cells": [
  {
   "cell_type": "code",
   "execution_count": null,
   "metadata": {
    "id": "IgQge6h7AqDw"
   },
   "outputs": [],
   "source": [
    "import json\n",
    "import os\n",
    "import pandas as pd"
   ]
  },
  {
   "cell_type": "code",
   "execution_count": null,
   "metadata": {},
   "outputs": [],
   "source": [
    "data_dir=\"C:/Users/tsb7592/Box/Baby Toolbox Operations/Domain Teams/Language/Tobii Pilot/LWL & EF Tobii Data Export\""
   ]
  },
  {
   "cell_type": "code",
   "execution_count": null,
   "metadata": {},
   "outputs": [],
   "source": [
    "os.chdir(data_dir)"
   ]
  },
  {
   "cell_type": "code",
   "execution_count": null,
   "metadata": {
    "colab": {
     "base_uri": "https://localhost:8080/"
    },
    "id": "e6NteNENFFl7",
    "outputId": "0a219d79-8f0e-41b3-f463-167bc67024fe"
   },
   "outputs": [],
   "source": [
    "tdf= pd.read_csv('Baby Toolbox_Data_Export_06_02_2021.tsv', sep='\\t') "
   ]
  },
  {
   "cell_type": "code",
   "execution_count": null,
   "metadata": {
    "colab": {
     "base_uri": "https://localhost:8080/"
    },
    "id": "4KY69VAKFMcI",
    "outputId": "c9b13d2a-64e5-4e1e-fce3-fbd168fba274"
   },
   "outputs": [],
   "source": [
    "tdf.shape"
   ]
  },
  {
   "cell_type": "code",
   "execution_count": null,
   "metadata": {},
   "outputs": [],
   "source": [
    "keep = [col for col in tdf.columns if 'AOI' in col]\n",
    "keep = [col for col in keep if 'Calib' not in col]"
   ]
  },
  {
   "cell_type": "code",
   "execution_count": null,
   "metadata": {},
   "outputs": [],
   "source": [
    "k24 = keep[4:76]"
   ]
  },
  {
   "cell_type": "code",
   "execution_count": null,
   "metadata": {},
   "outputs": [],
   "source": [
    "print(k24)"
   ]
  },
  {
   "cell_type": "code",
   "execution_count": null,
   "metadata": {},
   "outputs": [],
   "source": [
    "tdf=tdf[k24]"
   ]
  },
  {
   "cell_type": "code",
   "execution_count": null,
   "metadata": {},
   "outputs": [],
   "source": [
    "tdata = round(tdf.mean(),4).to_dict()"
   ]
  },
  {
   "cell_type": "code",
   "execution_count": null,
   "metadata": {},
   "outputs": [],
   "source": [
    "left =[]\n",
    "right=[]\n",
    "away =[]\n",
    "onscreen = []\n",
    "i = 0\n",
    "for val in tdata:\n",
    "    if i%3 == 0:\n",
    "        rv = tdata[val]\n",
    "        left.append(tdata[val])\n",
    "    elif i%3 == 1:\n",
    "        rv += tdata[val]\n",
    "        right.append(tdata[val])\n",
    "    else:\n",
    "        rv = 1 - rv\n",
    "        away.append(rv)\n",
    "        onscreen.append(tdata[val])\n",
    "    i+=1"
   ]
  },
  {
   "cell_type": "code",
   "execution_count": null,
   "metadata": {},
   "outputs": [],
   "source": [
    "k24[3:6]"
   ]
  },
  {
   "cell_type": "markdown",
   "metadata": {},
   "source": [
    "# Read json file"
   ]
  },
  {
   "cell_type": "code",
   "execution_count": null,
   "metadata": {},
   "outputs": [],
   "source": [
    "data_dir=\"C:/Users/tsb7592/Box/Baby Toolbox Operations/Domain Teams/Language/Tobii Pilot/Tobii Verbose Files/Claire\""
   ]
  },
  {
   "cell_type": "code",
   "execution_count": null,
   "metadata": {},
   "outputs": [],
   "source": [
    "os.chdir(data_dir)"
   ]
  },
  {
   "cell_type": "code",
   "execution_count": null,
   "metadata": {
    "id": "NMPx1zS1CQjM"
   },
   "outputs": [],
   "source": [
    "df=pd.read_json('949BCA6A-D3D6-426C-9A94-E806F84E4E72@845BDD10-B9AF-4592-AA4E-0CCE76A0E8CD@00024@2021-05-11-22.11.48.356@LookListening@Claire@VerboseGazeData.json')"
   ]
  },
  {
   "cell_type": "code",
   "execution_count": null,
   "metadata": {},
   "outputs": [],
   "source": [
    "cols=['itemID','eventName','gazeLocationName', 'gazeLocationOnScreen',\"lookAtPointX\", \"lookAtPointY\"]"
   ]
  },
  {
   "cell_type": "code",
   "execution_count": null,
   "metadata": {},
   "outputs": [],
   "source": [
    "df=df[cols]"
   ]
  },
  {
   "cell_type": "code",
   "execution_count": null,
   "metadata": {},
   "outputs": [],
   "source": [
    "#Finding the index for presentLiveItem and completeLiveItem to subset the pieces we need for analysis\n",
    "begin =list(df[df['eventName'].str.contains('presentedLiveItem')].index)\n",
    "end = list(df[df['eventName'].str.contains('completedLiveItem')].index)"
   ]
  },
  {
   "cell_type": "code",
   "execution_count": null,
   "metadata": {},
   "outputs": [],
   "source": [
    "len(df.gazeLocationOnScreen.value_counts())"
   ]
  },
  {
   "cell_type": "code",
   "execution_count": null,
   "metadata": {
    "scrolled": true
   },
   "outputs": [],
   "source": [
    "expected = pd.DataFrame(\n",
    "    {'Left': left,\n",
    "     'Right': right,\n",
    "     'Away': away,'Onscreen':onscreen\n",
    "    })\n",
    "expected"
   ]
  },
  {
   "cell_type": "code",
   "execution_count": null,
   "metadata": {},
   "outputs": [],
   "source": [
    "len(end)"
   ]
  },
  {
   "cell_type": "markdown",
   "metadata": {},
   "source": [
    "# Getting the counts "
   ]
  },
  {
   "cell_type": "code",
   "execution_count": null,
   "metadata": {},
   "outputs": [],
   "source": [
    "#tsv file\n",
    "exp = pd.DataFrame(columns=('left', 'right','onScreenAway','offScreenAway'))\n",
    "for i in range(24):\n",
    "    lcol,rcol,wcol = k24[3*i:3*i+3]\n",
    "    \n",
    "    subset = tdf[tdf[wcol].notnull()]\n",
    "    \n",
    "    a=subset[lcol].sum()\n",
    "    b=subset[rcol].sum()\n",
    "    d=subset[(subset[lcol]==0) & (subset[rcol]==0) &(subset[wcol]==1)].shape[0]\n",
    "    e=subset[(subset[lcol]==0) & (subset[rcol]==0) &(subset[wcol]==0)].shape[0]\n",
    "\n",
    "    exp.loc[i] = [a, b ,d, e]"
   ]
  },
  {
   "cell_type": "code",
   "execution_count": null,
   "metadata": {},
   "outputs": [],
   "source": [
    "#json file\n",
    "obs = pd.DataFrame(columns=('L', 'R','onScreenAway','offScreenAway'))\n",
    "items =[]\n",
    "for i in range(len(end)):\n",
    "    sub = df.iloc[begin[i]+1:end[i]]\n",
    "    items.extend(sub.itemID.dropna().unique())\n",
    "    a, b, c = sub.gazeLocationName.value_counts()[['left','right','away']].round(4) \n",
    "    if len(sub[sub['gazeLocationName'] == 'away'].gazeLocationOnScreen.value_counts()) == 2:\n",
    "        d,e = sub[sub['gazeLocationName'] == 'away'].gazeLocationOnScreen.value_counts()\n",
    "    else:\n",
    "        d = c\n",
    "        e = 0\n",
    "    obs.loc[i] = [a, b ,d, e]"
   ]
  },
  {
   "cell_type": "markdown",
   "metadata": {},
   "source": [
    "# Rewrite Lookalgorithm"
   ]
  },
  {
   "cell_type": "code",
   "execution_count": 1,
   "metadata": {},
   "outputs": [],
   "source": [
    "import json\n",
    "import os\n",
    "import pandas as pd"
   ]
  },
  {
   "cell_type": "code",
   "execution_count": 2,
   "metadata": {},
   "outputs": [],
   "source": [
    "data_dir=\"C:/Users/tsb7592/Box/Baby Toolbox Operations/Domain Teams/Language/Tobii Pilot/Tobii Verbose Files/Claire\""
   ]
  },
  {
   "cell_type": "code",
   "execution_count": 3,
   "metadata": {},
   "outputs": [],
   "source": [
    "os.chdir(data_dir)"
   ]
  },
  {
   "cell_type": "code",
   "execution_count": 4,
   "metadata": {
    "id": "NMPx1zS1CQjM"
   },
   "outputs": [],
   "source": [
    "df=pd.read_json('949BCA6A-D3D6-426C-9A94-E806F84E4E72@845BDD10-B9AF-4592-AA4E-0CCE76A0E8CD@00024@2021-05-11-22.11.48.356@LookListening@Claire@VerboseGazeData.json')"
   ]
  },
  {
   "cell_type": "code",
   "execution_count": 5,
   "metadata": {},
   "outputs": [],
   "source": [
    "cols=['itemID','eventName','gazeLocationName', 'gazeLocationOnScreen',\"lookAtPointX\", \"lookAtPointY\"]"
   ]
  },
  {
   "cell_type": "code",
   "execution_count": 6,
   "metadata": {},
   "outputs": [
    {
     "data": {
      "text/plain": [
       "Index(['calibrationPoint1AverageX', 'calibrationPoint1AverageY',\n",
       "       'calibrationPoint2AverageX', 'calibrationPoint2AverageY',\n",
       "       'calibrationPoint3AverageX', 'calibrationPoint3AverageY',\n",
       "       'calibrationPoint4AverageX', 'calibrationPoint4AverageY', 'elapsedTime',\n",
       "       'eventName', 'gazeEngineState', 'gazeLocationPercentX',\n",
       "       'gazeLocationPercentY', 'itemID', 'dataKey', 'dataValue',\n",
       "       'arEulerAngleFaceX', 'arEulerAngleFaceY', 'arEulerAngleFaceZ',\n",
       "       'arFaceAnchorTransformRow0Column0', 'arFaceAnchorTransformRow0Column1',\n",
       "       'arFaceAnchorTransformRow0Column2', 'arFaceAnchorTransformRow0Column3',\n",
       "       'arFaceAnchorTransformRow1Column0', 'arFaceAnchorTransformRow1Column1',\n",
       "       'arFaceAnchorTransformRow1Column2', 'arFaceAnchorTransformRow1Column3',\n",
       "       'arFaceAnchorTransformRow2Column0', 'arFaceAnchorTransformRow2Column1',\n",
       "       'arFaceAnchorTransformRow2Column2', 'arFaceAnchorTransformRow2Column3',\n",
       "       'arFaceAnchorTransformRow3Column0', 'arFaceAnchorTransformRow3Column1',\n",
       "       'arFaceAnchorTransformRow3Column2', 'arFaceAnchorTransformRow3Column3',\n",
       "       'arFacePositionX', 'arFacePositionY', 'arFacePositionZ',\n",
       "       'arHitTestLookAtPointPositionX', 'arHitTestLookAtPointPositionY',\n",
       "       'arHitTestLookAtPointVectorX', 'arHitTestLookAtPointVectorY',\n",
       "       'arLeftEyeTransformRow0Column0', 'arLeftEyeTransformRow0Column1',\n",
       "       'arLeftEyeTransformRow0Column2', 'arLeftEyeTransformRow0Column3',\n",
       "       'arLeftEyeTransformRow1Column0', 'arLeftEyeTransformRow1Column1',\n",
       "       'arLeftEyeTransformRow1Column2', 'arLeftEyeTransformRow1Column3',\n",
       "       'arLeftEyeTransformRow2Column0', 'arLeftEyeTransformRow2Column1',\n",
       "       'arLeftEyeTransformRow2Column2', 'arLeftEyeTransformRow2Column3',\n",
       "       'arLeftEyeTransformRow3Column0', 'arLeftEyeTransformRow3Column1',\n",
       "       'arLeftEyeTransformRow3Column2', 'arLeftEyeTransformRow3Column3',\n",
       "       'arMiddleEyeHitTestVectorX', 'arMiddleEyeHitTestVectorY',\n",
       "       'arNormalizedLeftEyeBlinkValue', 'arNormalizedRightEyeBlinkValue',\n",
       "       'arRawLookAtPointX', 'arRawLookAtPointY', 'arRawLookAtPointZ',\n",
       "       'arRightEyeTransformRow0Column0', 'arRightEyeTransformRow0Column1',\n",
       "       'arRightEyeTransformRow0Column2', 'arRightEyeTransformRow0Column3',\n",
       "       'arRightEyeTransformRow1Column0', 'arRightEyeTransformRow1Column1',\n",
       "       'arRightEyeTransformRow1Column2', 'arRightEyeTransformRow1Column3',\n",
       "       'arRightEyeTransformRow2Column0', 'arRightEyeTransformRow2Column1',\n",
       "       'arRightEyeTransformRow2Column2', 'arRightEyeTransformRow2Column3',\n",
       "       'arRightEyeTransformRow3Column0', 'arRightEyeTransformRow3Column1',\n",
       "       'arRightEyeTransformRow3Column2', 'arRightEyeTransformRow3Column3',\n",
       "       'calibrationLeftAverageX', 'calibrationRightAverageX', 'lookAtPointX',\n",
       "       'lookAtPointY', 'calibrationFocalPoint', 'mediaCenterPointPercentX',\n",
       "       'mediaCenterPointPercentY', 'cameraImageFilename', 'gazeLocationName',\n",
       "       'gazeLocationOnScreen', 'gazeLocationZoneSet',\n",
       "       'includePriorGazeLocationPoints'],\n",
       "      dtype='object')"
      ]
     },
     "execution_count": 6,
     "metadata": {},
     "output_type": "execute_result"
    }
   ],
   "source": [
    "df.columns"
   ]
  },
  {
   "cell_type": "code",
   "execution_count": 7,
   "metadata": {},
   "outputs": [
    {
     "data": {
      "text/html": [
       "<div>\n",
       "<style scoped>\n",
       "    .dataframe tbody tr th:only-of-type {\n",
       "        vertical-align: middle;\n",
       "    }\n",
       "\n",
       "    .dataframe tbody tr th {\n",
       "        vertical-align: top;\n",
       "    }\n",
       "\n",
       "    .dataframe thead th {\n",
       "        text-align: right;\n",
       "    }\n",
       "</style>\n",
       "<table border=\"1\" class=\"dataframe\">\n",
       "  <thead>\n",
       "    <tr style=\"text-align: right;\">\n",
       "      <th></th>\n",
       "      <th>calibrationPoint1AverageX</th>\n",
       "      <th>calibrationPoint1AverageY</th>\n",
       "      <th>calibrationPoint2AverageX</th>\n",
       "      <th>calibrationPoint2AverageY</th>\n",
       "      <th>calibrationPoint3AverageX</th>\n",
       "      <th>calibrationPoint3AverageY</th>\n",
       "      <th>calibrationPoint4AverageX</th>\n",
       "      <th>calibrationPoint4AverageY</th>\n",
       "      <th>elapsedTime</th>\n",
       "      <th>eventName</th>\n",
       "      <th>...</th>\n",
       "      <th>lookAtPointX</th>\n",
       "      <th>lookAtPointY</th>\n",
       "      <th>calibrationFocalPoint</th>\n",
       "      <th>mediaCenterPointPercentX</th>\n",
       "      <th>mediaCenterPointPercentY</th>\n",
       "      <th>cameraImageFilename</th>\n",
       "      <th>gazeLocationName</th>\n",
       "      <th>gazeLocationOnScreen</th>\n",
       "      <th>gazeLocationZoneSet</th>\n",
       "      <th>includePriorGazeLocationPoints</th>\n",
       "    </tr>\n",
       "  </thead>\n",
       "  <tbody>\n",
       "    <tr>\n",
       "      <th>0</th>\n",
       "      <td>0.0</td>\n",
       "      <td>0.0</td>\n",
       "      <td>0.0</td>\n",
       "      <td>0.0</td>\n",
       "      <td>0.0</td>\n",
       "      <td>0.0</td>\n",
       "      <td>0.0</td>\n",
       "      <td>0.0</td>\n",
       "      <td>0.000000</td>\n",
       "      <td>beganCalibration</td>\n",
       "      <td>...</td>\n",
       "      <td>NaN</td>\n",
       "      <td>NaN</td>\n",
       "      <td>NaN</td>\n",
       "      <td>NaN</td>\n",
       "      <td>NaN</td>\n",
       "      <td>NaN</td>\n",
       "      <td>NaN</td>\n",
       "      <td>NaN</td>\n",
       "      <td>NaN</td>\n",
       "      <td>NaN</td>\n",
       "    </tr>\n",
       "    <tr>\n",
       "      <th>1</th>\n",
       "      <td>0.0</td>\n",
       "      <td>0.0</td>\n",
       "      <td>0.0</td>\n",
       "      <td>0.0</td>\n",
       "      <td>0.0</td>\n",
       "      <td>0.0</td>\n",
       "      <td>0.0</td>\n",
       "      <td>0.0</td>\n",
       "      <td>0.000588</td>\n",
       "      <td>data</td>\n",
       "      <td>...</td>\n",
       "      <td>NaN</td>\n",
       "      <td>NaN</td>\n",
       "      <td>NaN</td>\n",
       "      <td>NaN</td>\n",
       "      <td>NaN</td>\n",
       "      <td>NaN</td>\n",
       "      <td>NaN</td>\n",
       "      <td>NaN</td>\n",
       "      <td>NaN</td>\n",
       "      <td>NaN</td>\n",
       "    </tr>\n",
       "    <tr>\n",
       "      <th>2</th>\n",
       "      <td>0.0</td>\n",
       "      <td>0.0</td>\n",
       "      <td>0.0</td>\n",
       "      <td>0.0</td>\n",
       "      <td>0.0</td>\n",
       "      <td>0.0</td>\n",
       "      <td>0.0</td>\n",
       "      <td>0.0</td>\n",
       "      <td>0.000630</td>\n",
       "      <td>data</td>\n",
       "      <td>...</td>\n",
       "      <td>NaN</td>\n",
       "      <td>NaN</td>\n",
       "      <td>NaN</td>\n",
       "      <td>NaN</td>\n",
       "      <td>NaN</td>\n",
       "      <td>NaN</td>\n",
       "      <td>NaN</td>\n",
       "      <td>NaN</td>\n",
       "      <td>NaN</td>\n",
       "      <td>NaN</td>\n",
       "    </tr>\n",
       "    <tr>\n",
       "      <th>3</th>\n",
       "      <td>0.0</td>\n",
       "      <td>0.0</td>\n",
       "      <td>0.0</td>\n",
       "      <td>0.0</td>\n",
       "      <td>0.0</td>\n",
       "      <td>0.0</td>\n",
       "      <td>0.0</td>\n",
       "      <td>0.0</td>\n",
       "      <td>0.000662</td>\n",
       "      <td>data</td>\n",
       "      <td>...</td>\n",
       "      <td>NaN</td>\n",
       "      <td>NaN</td>\n",
       "      <td>NaN</td>\n",
       "      <td>NaN</td>\n",
       "      <td>NaN</td>\n",
       "      <td>NaN</td>\n",
       "      <td>NaN</td>\n",
       "      <td>NaN</td>\n",
       "      <td>NaN</td>\n",
       "      <td>NaN</td>\n",
       "    </tr>\n",
       "    <tr>\n",
       "      <th>4</th>\n",
       "      <td>0.0</td>\n",
       "      <td>0.0</td>\n",
       "      <td>0.0</td>\n",
       "      <td>0.0</td>\n",
       "      <td>0.0</td>\n",
       "      <td>0.0</td>\n",
       "      <td>0.0</td>\n",
       "      <td>0.0</td>\n",
       "      <td>0.000689</td>\n",
       "      <td>data</td>\n",
       "      <td>...</td>\n",
       "      <td>NaN</td>\n",
       "      <td>NaN</td>\n",
       "      <td>NaN</td>\n",
       "      <td>NaN</td>\n",
       "      <td>NaN</td>\n",
       "      <td>NaN</td>\n",
       "      <td>NaN</td>\n",
       "      <td>NaN</td>\n",
       "      <td>NaN</td>\n",
       "      <td>NaN</td>\n",
       "    </tr>\n",
       "  </tbody>\n",
       "</table>\n",
       "<p>5 rows × 93 columns</p>\n",
       "</div>"
      ],
      "text/plain": [
       "   calibrationPoint1AverageX  calibrationPoint1AverageY  \\\n",
       "0                        0.0                        0.0   \n",
       "1                        0.0                        0.0   \n",
       "2                        0.0                        0.0   \n",
       "3                        0.0                        0.0   \n",
       "4                        0.0                        0.0   \n",
       "\n",
       "   calibrationPoint2AverageX  calibrationPoint2AverageY  \\\n",
       "0                        0.0                        0.0   \n",
       "1                        0.0                        0.0   \n",
       "2                        0.0                        0.0   \n",
       "3                        0.0                        0.0   \n",
       "4                        0.0                        0.0   \n",
       "\n",
       "   calibrationPoint3AverageX  calibrationPoint3AverageY  \\\n",
       "0                        0.0                        0.0   \n",
       "1                        0.0                        0.0   \n",
       "2                        0.0                        0.0   \n",
       "3                        0.0                        0.0   \n",
       "4                        0.0                        0.0   \n",
       "\n",
       "   calibrationPoint4AverageX  calibrationPoint4AverageY  elapsedTime  \\\n",
       "0                        0.0                        0.0     0.000000   \n",
       "1                        0.0                        0.0     0.000588   \n",
       "2                        0.0                        0.0     0.000630   \n",
       "3                        0.0                        0.0     0.000662   \n",
       "4                        0.0                        0.0     0.000689   \n",
       "\n",
       "          eventName  ... lookAtPointX  lookAtPointY  calibrationFocalPoint  \\\n",
       "0  beganCalibration  ...          NaN           NaN                    NaN   \n",
       "1              data  ...          NaN           NaN                    NaN   \n",
       "2              data  ...          NaN           NaN                    NaN   \n",
       "3              data  ...          NaN           NaN                    NaN   \n",
       "4              data  ...          NaN           NaN                    NaN   \n",
       "\n",
       "  mediaCenterPointPercentX mediaCenterPointPercentY cameraImageFilename  \\\n",
       "0                      NaN                      NaN                 NaN   \n",
       "1                      NaN                      NaN                 NaN   \n",
       "2                      NaN                      NaN                 NaN   \n",
       "3                      NaN                      NaN                 NaN   \n",
       "4                      NaN                      NaN                 NaN   \n",
       "\n",
       "   gazeLocationName  gazeLocationOnScreen  gazeLocationZoneSet  \\\n",
       "0               NaN                   NaN                  NaN   \n",
       "1               NaN                   NaN                  NaN   \n",
       "2               NaN                   NaN                  NaN   \n",
       "3               NaN                   NaN                  NaN   \n",
       "4               NaN                   NaN                  NaN   \n",
       "\n",
       "   includePriorGazeLocationPoints  \n",
       "0                             NaN  \n",
       "1                             NaN  \n",
       "2                             NaN  \n",
       "3                             NaN  \n",
       "4                             NaN  \n",
       "\n",
       "[5 rows x 93 columns]"
      ]
     },
     "execution_count": 7,
     "metadata": {},
     "output_type": "execute_result"
    }
   ],
   "source": [
    "df.head()"
   ]
  },
  {
   "cell_type": "code",
   "execution_count": 8,
   "metadata": {},
   "outputs": [],
   "source": [
    "import math\n",
    "import numpy as np\n",
    "\n",
    "def lookAlgorithm(df, usevals, searchTime=1.0167, margX=10, margY=15, alignX=30, alignY=30):\n",
    "    '''\n",
    "    Input: \n",
    "        df: the json file read to a pandas dataframe\n",
    "        usevals: a string of the column name\n",
    "    Output:\n",
    "         results in a pandas dataframe\n",
    "    '''\n",
    "    \n",
    "    if 'lookAtPoint' in usevals:\n",
    "        useX = \"lookAtPointX\"\n",
    "        useY = \"lookAtPointY\"\n",
    "    elif 'arHitTestLookAtPointPosition' in usevals:\n",
    "        useX = \"arHitTestLookAtPointPositionX\"\n",
    "        useY = \"arHitTestLookAtPointPositionY\"\n",
    "    \n",
    "    startRows =list(df[df['eventName'].str.contains('presentedCalibrationItem')].index)\n",
    "    endRows =list(df[df['eventName'].str.contains('completedCalibrationItem')].index)\n",
    "    \n",
    "    if len(startRows) != len(endRows):\n",
    "        print(\"Early-terminated Calibration\")\n",
    "        return\n",
    "    \n",
    "    RMs=[]\n",
    "    for i in range(len(startRows)):\n",
    "        rollingMeans = pd.DataFrame(columns=('Cali','calibFocal', 'rowIndex','rollingX','rollingY','props')) \n",
    "        sub = df.iloc[startRows[i]:endRows[i]+1]\n",
    "        firstCheck_time = df.iloc[startRows[i]]['elapsedTime'] + searchTime\n",
    "        firstCheck_row = sub[sub['elapsedTime'] <= firstCheck_time].index.max()\n",
    "       \n",
    "        for j in range(firstCheck_row, endRows[i]+1):\n",
    "            rollingMeans.loc[j] = [i,'tmp', j, -9999,-9999, -9999]\n",
    "            \n",
    "            useData =sub[(sub['elapsedTime'] >= df.iloc[j]['elapsedTime'] - searchTime) & (sub['elapsedTime'] <= df.iloc[j]['elapsedTime'])&(sub['elapsedTime'] >= df.iloc[startRows[i]]['elapsedTime'])]\n",
    "            useData = useData[~useData.eventName.str.contains('complet')]\n",
    "                              \n",
    "            rollingMeans.loc[j]['calibFocal']=useData['calibrationFocalPoint'].unique()[0]\n",
    "            rollingMeans.loc[j]['rollingX']=round(useData[useX].mean(),2)\n",
    "            rollingMeans.loc[j]['rollingY']=round(useData[useY].mean(),2)\n",
    "            rollingMeans.loc[j]['props']=round(100*(useData[(useData[useX] >= useData[useX].mean()- margX) & (useData[useX] <= useData[useX].mean()+ margX) & (useData[useY] >= useData[useY].mean()- margY) & (useData[useY] <= useData[useY].mean()+ margY)]).shape[0]/useData[useData[useY].notnull()].shape[0],2)\n",
    "          \n",
    "        RMs.append(rollingMeans)\n",
    "         \n",
    "    RMs = pd.concat(RMs, ignore_index=True)\n",
    "    \n",
    "    use=[]\n",
    "    for i in range(4):\n",
    "        ur = RMs[(RMs['props'] >= 80) & (RMs['Cali']==i)].head(1)\n",
    "        use.append(ur)\n",
    "    useRows = pd.concat(use)\n",
    "    useRows = useRows.reset_index()\n",
    "    \n",
    "    #if useRows.shape[0]>4:\n",
    "    useRows['calibrationSet'] =(useRows.index + 1)/4\n",
    "    useRows['calibrationSet'] =useRows['calibrationSet'].apply(np.ceil)\n",
    "        \n",
    "    tr = useRows[useRows['calibFocal']=='topRight']['rollingX'].values[0]\n",
    "    br = useRows[useRows['calibFocal']=='bottomRight']['rollingX'].values[0]\n",
    "    tl = useRows[useRows['calibFocal']=='topLeft']['rollingX'].values[0]\n",
    "    bl = useRows[useRows['calibFocal']=='bottomLeft']['rollingX'].values[0]    \n",
    "    \n",
    "    #save the 4 screenSide numbers to a dictionary \n",
    "    screenSide={}\n",
    "    if abs(tr- br) <= alignX:\n",
    "        screenSide['rightSide'] = max(tr, br)\n",
    "    else:\n",
    "        screenSide['rightSide'] = np.NaN\n",
    "    \n",
    "    if abs(tl- bl) <= alignX:\n",
    "        screenSide['leftSide']= min(tl, bl)\n",
    "    else:\n",
    "        screenSide['leftSide']= np.NaN\n",
    "    \n",
    "    tr = useRows[useRows['calibFocal']=='topRight']['rollingY'].values[0]\n",
    "    br = useRows[useRows['calibFocal']=='bottomRight']['rollingY'].values[0]\n",
    "    tl = useRows[useRows['calibFocal']=='topLeft']['rollingY'].values[0]\n",
    "    bl = useRows[useRows['calibFocal']=='bottomLeft']['rollingY'].values[0]\n",
    "    \n",
    "    if abs(tr- tl) <= alignY:\n",
    "        screenSide['topSide'] = round((tr+tl)/2,2)\n",
    "    else:\n",
    "        screenSide['topSide'] = np.NaN\n",
    "        \n",
    "    if abs(br- bl) <= alignY:\n",
    "        screenSide['bottomSide']= round((br+bl)/2,2)\n",
    "    else:\n",
    "        screenSide['bottomSide']= np.NaN   \n",
    "        \n",
    "    if useRows['calibFocal'].isnull().any():\n",
    "        screenSide['rightSide'] = np.NaN\n",
    "        screenSide['leftSide'] = np.NaN\n",
    "        screenSide['topSide'] = np.NaN\n",
    "        screenSide['bottomSide'] = np.NaN\n",
    " \n",
    "    return RMs,useRows,screenSide"
   ]
  },
  {
   "cell_type": "code",
   "execution_count": 9,
   "metadata": {},
   "outputs": [],
   "source": [
    "RM, lookDetected, ss=lookAlgorithm(df,'lookAtPoint')"
   ]
  },
  {
   "cell_type": "code",
   "execution_count": 10,
   "metadata": {
    "scrolled": true
   },
   "outputs": [
    {
     "data": {
      "text/html": [
       "<div>\n",
       "<style scoped>\n",
       "    .dataframe tbody tr th:only-of-type {\n",
       "        vertical-align: middle;\n",
       "    }\n",
       "\n",
       "    .dataframe tbody tr th {\n",
       "        vertical-align: top;\n",
       "    }\n",
       "\n",
       "    .dataframe thead th {\n",
       "        text-align: right;\n",
       "    }\n",
       "</style>\n",
       "<table border=\"1\" class=\"dataframe\">\n",
       "  <thead>\n",
       "    <tr style=\"text-align: right;\">\n",
       "      <th></th>\n",
       "      <th>Cali</th>\n",
       "      <th>calibFocal</th>\n",
       "      <th>rowIndex</th>\n",
       "      <th>rollingX</th>\n",
       "      <th>rollingY</th>\n",
       "      <th>props</th>\n",
       "    </tr>\n",
       "  </thead>\n",
       "  <tbody>\n",
       "    <tr>\n",
       "      <th>0</th>\n",
       "      <td>0</td>\n",
       "      <td>topLeft</td>\n",
       "      <td>89</td>\n",
       "      <td>32.1</td>\n",
       "      <td>10.86</td>\n",
       "      <td>35.48</td>\n",
       "    </tr>\n",
       "    <tr>\n",
       "      <th>1</th>\n",
       "      <td>0</td>\n",
       "      <td>topLeft</td>\n",
       "      <td>90</td>\n",
       "      <td>31.78</td>\n",
       "      <td>10.76</td>\n",
       "      <td>33.87</td>\n",
       "    </tr>\n",
       "    <tr>\n",
       "      <th>2</th>\n",
       "      <td>0</td>\n",
       "      <td>topLeft</td>\n",
       "      <td>91</td>\n",
       "      <td>31.61</td>\n",
       "      <td>10.48</td>\n",
       "      <td>35.0</td>\n",
       "    </tr>\n",
       "    <tr>\n",
       "      <th>3</th>\n",
       "      <td>0</td>\n",
       "      <td>topLeft</td>\n",
       "      <td>92</td>\n",
       "      <td>31.4</td>\n",
       "      <td>10.57</td>\n",
       "      <td>32.79</td>\n",
       "    </tr>\n",
       "    <tr>\n",
       "      <th>4</th>\n",
       "      <td>0</td>\n",
       "      <td>topLeft</td>\n",
       "      <td>93</td>\n",
       "      <td>31.07</td>\n",
       "      <td>10.51</td>\n",
       "      <td>32.79</td>\n",
       "    </tr>\n",
       "    <tr>\n",
       "      <th>...</th>\n",
       "      <td>...</td>\n",
       "      <td>...</td>\n",
       "      <td>...</td>\n",
       "      <td>...</td>\n",
       "      <td>...</td>\n",
       "      <td>...</td>\n",
       "    </tr>\n",
       "    <tr>\n",
       "      <th>275</th>\n",
       "      <td>3</td>\n",
       "      <td>topRight</td>\n",
       "      <td>594</td>\n",
       "      <td>114.78</td>\n",
       "      <td>0.84</td>\n",
       "      <td>100.0</td>\n",
       "    </tr>\n",
       "    <tr>\n",
       "      <th>276</th>\n",
       "      <td>3</td>\n",
       "      <td>topRight</td>\n",
       "      <td>595</td>\n",
       "      <td>114.66</td>\n",
       "      <td>0.66</td>\n",
       "      <td>100.0</td>\n",
       "    </tr>\n",
       "    <tr>\n",
       "      <th>277</th>\n",
       "      <td>3</td>\n",
       "      <td>topRight</td>\n",
       "      <td>596</td>\n",
       "      <td>114.57</td>\n",
       "      <td>0.46</td>\n",
       "      <td>100.0</td>\n",
       "    </tr>\n",
       "    <tr>\n",
       "      <th>278</th>\n",
       "      <td>3</td>\n",
       "      <td>topRight</td>\n",
       "      <td>597</td>\n",
       "      <td>114.47</td>\n",
       "      <td>0.39</td>\n",
       "      <td>100.0</td>\n",
       "    </tr>\n",
       "    <tr>\n",
       "      <th>279</th>\n",
       "      <td>3</td>\n",
       "      <td>topRight</td>\n",
       "      <td>598</td>\n",
       "      <td>114.47</td>\n",
       "      <td>0.39</td>\n",
       "      <td>100.0</td>\n",
       "    </tr>\n",
       "  </tbody>\n",
       "</table>\n",
       "<p>280 rows × 6 columns</p>\n",
       "</div>"
      ],
      "text/plain": [
       "    Cali calibFocal rowIndex rollingX rollingY  props\n",
       "0      0    topLeft       89     32.1    10.86  35.48\n",
       "1      0    topLeft       90    31.78    10.76  33.87\n",
       "2      0    topLeft       91    31.61    10.48   35.0\n",
       "3      0    topLeft       92     31.4    10.57  32.79\n",
       "4      0    topLeft       93    31.07    10.51  32.79\n",
       "..   ...        ...      ...      ...      ...    ...\n",
       "275    3   topRight      594   114.78     0.84  100.0\n",
       "276    3   topRight      595   114.66     0.66  100.0\n",
       "277    3   topRight      596   114.57     0.46  100.0\n",
       "278    3   topRight      597   114.47     0.39  100.0\n",
       "279    3   topRight      598   114.47     0.39  100.0\n",
       "\n",
       "[280 rows x 6 columns]"
      ]
     },
     "execution_count": 10,
     "metadata": {},
     "output_type": "execute_result"
    }
   ],
   "source": [
    "RM"
   ]
  },
  {
   "cell_type": "code",
   "execution_count": 11,
   "metadata": {},
   "outputs": [
    {
     "data": {
      "text/plain": [
       "{'rightSide': 113.45, 'leftSide': 25.33, 'topSide': 7.88, 'bottomSide': 16.38}"
      ]
     },
     "execution_count": 11,
     "metadata": {},
     "output_type": "execute_result"
    }
   ],
   "source": [
    "ss"
   ]
  },
  {
   "cell_type": "code",
   "execution_count": null,
   "metadata": {},
   "outputs": [],
   "source": [
    "nss"
   ]
  },
  {
   "cell_type": "markdown",
   "metadata": {},
   "source": [
    "# Modify the numbers"
   ]
  },
  {
   "cell_type": "code",
   "execution_count": 13,
   "metadata": {},
   "outputs": [],
   "source": [
    "def Modify_screenSide(ss, ratio= 0.45, leftright= 25, topbottom=50):\n",
    "    '''\n",
    "    Input: \n",
    "        ss: dictionary contains the four screensides\n",
    "        leftright: the margin to modify the left/right side\n",
    "        topbottom: the margin to modify the top/bottom side\n",
    "        ratio: the ratio to identify left and right side\n",
    "        \n",
    "    Output:\n",
    "        screenSide: the modified dictionary contains new four screensides\n",
    "         \n",
    "    '''\n",
    "    \n",
    "    screenSide =ss.copy()\n",
    "    screenSide['rightSide'] += leftright\n",
    "    screenSide['leftSide'] -= leftright\n",
    "    screenSide['topSide'] -= topbottom\n",
    "    screenSide['bottomSide'] += topbottom\n",
    "    \n",
    "    leftM = (screenSide['rightSide']-screenSide['leftSide'])*ratio\n",
    "    rightM = (screenSide['rightSide']-screenSide['leftSide'])*(1-ratio)\n",
    "    print('Margin for ratio: ',ratio, leftM, rightM)\n",
    "    \n",
    "    return screenSide"
   ]
  },
  {
   "cell_type": "code",
   "execution_count": 14,
   "metadata": {},
   "outputs": [],
   "source": [
    "def Location(row, ss, ratio):\n",
    "    leftM = (ss['rightSide']-ss['leftSide'])*ratio\n",
    "    rightM = (ss['rightSide']-ss['leftSide'])*(1-ratio)\n",
    "    if row['lookAtPointX'] > ss['leftSide'] and row['lookAtPointX'] <leftM  and row['lookAtPointY']>ss['topSide']and row['lookAtPointY']<ss['bottomSide'] :\n",
    "        return 'left'\n",
    "    elif row['lookAtPointX'] > rightM  and row['lookAtPointX'] <ss['rightSide'] and row['lookAtPointY']>ss['topSide']and row['lookAtPointY']<ss['bottomSide']:\n",
    "        return 'right'\n",
    "    else:\n",
    "        return 'away'"
   ]
  },
  {
   "cell_type": "code",
   "execution_count": 15,
   "metadata": {},
   "outputs": [],
   "source": [
    "def OnScreen(row, ss, ratio):\n",
    "    leftM = (ss['rightSide']-ss['leftSide'])*ratio\n",
    "    rightM = (ss['rightSide']-ss['leftSide'])*(1-ratio)\n",
    "    if row['lookAtPointX'] >leftM and row['lookAtPointX']< rightM and row['lookAtPointY']<ss['bottomSide']and row['lookAtPointY']>ss['topSide'] :\n",
    "        return 'true'\n",
    "    else:\n",
    "        return 'false'"
   ]
  },
  {
   "cell_type": "code",
   "execution_count": 16,
   "metadata": {},
   "outputs": [],
   "source": [
    "begin =list(df[df['eventName'].str.contains('presentedLiveItem')].index)\n",
    "end = list(df[df['eventName'].str.contains('completedLiveItem')].index)"
   ]
  },
  {
   "cell_type": "code",
   "execution_count": 17,
   "metadata": {},
   "outputs": [],
   "source": [
    "test =df.iloc[begin[0]+1:end[0]]"
   ]
  },
  {
   "cell_type": "code",
   "execution_count": 20,
   "metadata": {},
   "outputs": [
    {
     "name": "stderr",
     "output_type": "stream",
     "text": [
      "<ipython-input-20-528abeccbc9e>:1: SettingWithCopyWarning: \n",
      "A value is trying to be set on a copy of a slice from a DataFrame.\n",
      "Try using .loc[row_indexer,col_indexer] = value instead\n",
      "\n",
      "See the caveats in the documentation: https://pandas.pydata.org/pandas-docs/stable/user_guide/indexing.html#returning-a-view-versus-a-copy\n",
      "  test['NewLocation'] =test.apply( lambda row : Location(row, ss, 0.4), axis = 1)\n",
      "<ipython-input-20-528abeccbc9e>:2: SettingWithCopyWarning: \n",
      "A value is trying to be set on a copy of a slice from a DataFrame.\n",
      "Try using .loc[row_indexer,col_indexer] = value instead\n",
      "\n",
      "See the caveats in the documentation: https://pandas.pydata.org/pandas-docs/stable/user_guide/indexing.html#returning-a-view-versus-a-copy\n",
      "  test['NewOnScreen'] = test.apply( lambda row : OnScreen(row, ss, 0.4), axis = 1)\n"
     ]
    }
   ],
   "source": [
    "test['NewLocation'] =test.apply( lambda row : Location(row, ss, 0.4), axis = 1)\n",
    "test['NewOnScreen'] = test.apply( lambda row : OnScreen(row, ss, 0.4), axis = 1)"
   ]
  },
  {
   "cell_type": "code",
   "execution_count": 22,
   "metadata": {},
   "outputs": [],
   "source": [
    "cols=['itemID',\n",
    " 'eventName',\n",
    " 'gazeLocationName',\n",
    " 'gazeLocationOnScreen',\n",
    " 'lookAtPointX',\n",
    " 'lookAtPointY','NewLocation','NewOnScreen']"
   ]
  },
  {
   "cell_type": "code",
   "execution_count": 38,
   "metadata": {},
   "outputs": [],
   "source": [
    "a =test[['gazeLocationName', 'gazeLocationOnScreen','lookAtPointX','lookAtPointY']].dropna().index"
   ]
  },
  {
   "cell_type": "code",
   "execution_count": 40,
   "metadata": {},
   "outputs": [
    {
     "data": {
      "text/html": [
       "<div>\n",
       "<style scoped>\n",
       "    .dataframe tbody tr th:only-of-type {\n",
       "        vertical-align: middle;\n",
       "    }\n",
       "\n",
       "    .dataframe tbody tr th {\n",
       "        vertical-align: top;\n",
       "    }\n",
       "\n",
       "    .dataframe thead th {\n",
       "        text-align: right;\n",
       "    }\n",
       "</style>\n",
       "<table border=\"1\" class=\"dataframe\">\n",
       "  <thead>\n",
       "    <tr style=\"text-align: right;\">\n",
       "      <th></th>\n",
       "      <th>itemID</th>\n",
       "      <th>eventName</th>\n",
       "      <th>gazeLocationName</th>\n",
       "      <th>gazeLocationOnScreen</th>\n",
       "      <th>lookAtPointX</th>\n",
       "      <th>lookAtPointY</th>\n",
       "      <th>NewLocation</th>\n",
       "      <th>NewOnScreen</th>\n",
       "    </tr>\n",
       "  </thead>\n",
       "  <tbody>\n",
       "    <tr>\n",
       "      <th>606</th>\n",
       "      <td>NaN</td>\n",
       "      <td>faceVerticesChanged</td>\n",
       "      <td>left</td>\n",
       "      <td>true</td>\n",
       "      <td>61.356951</td>\n",
       "      <td>1.107581</td>\n",
       "      <td>away</td>\n",
       "      <td>false</td>\n",
       "    </tr>\n",
       "    <tr>\n",
       "      <th>607</th>\n",
       "      <td>NaN</td>\n",
       "      <td>faceVerticesChanged</td>\n",
       "      <td>left</td>\n",
       "      <td>true</td>\n",
       "      <td>58.411147</td>\n",
       "      <td>1.416698</td>\n",
       "      <td>away</td>\n",
       "      <td>false</td>\n",
       "    </tr>\n",
       "    <tr>\n",
       "      <th>608</th>\n",
       "      <td>NaN</td>\n",
       "      <td>faceVerticesChanged</td>\n",
       "      <td>left</td>\n",
       "      <td>true</td>\n",
       "      <td>47.173716</td>\n",
       "      <td>1.709210</td>\n",
       "      <td>away</td>\n",
       "      <td>false</td>\n",
       "    </tr>\n",
       "    <tr>\n",
       "      <th>609</th>\n",
       "      <td>NaN</td>\n",
       "      <td>faceVerticesChanged</td>\n",
       "      <td>left</td>\n",
       "      <td>true</td>\n",
       "      <td>41.147843</td>\n",
       "      <td>1.947476</td>\n",
       "      <td>away</td>\n",
       "      <td>false</td>\n",
       "    </tr>\n",
       "    <tr>\n",
       "      <th>611</th>\n",
       "      <td>NaN</td>\n",
       "      <td>faceVerticesChanged</td>\n",
       "      <td>left</td>\n",
       "      <td>true</td>\n",
       "      <td>38.543832</td>\n",
       "      <td>3.449706</td>\n",
       "      <td>away</td>\n",
       "      <td>false</td>\n",
       "    </tr>\n",
       "    <tr>\n",
       "      <th>...</th>\n",
       "      <td>...</td>\n",
       "      <td>...</td>\n",
       "      <td>...</td>\n",
       "      <td>...</td>\n",
       "      <td>...</td>\n",
       "      <td>...</td>\n",
       "      <td>...</td>\n",
       "      <td>...</td>\n",
       "    </tr>\n",
       "    <tr>\n",
       "      <th>1230</th>\n",
       "      <td>NaN</td>\n",
       "      <td>faceVerticesChanged</td>\n",
       "      <td>left</td>\n",
       "      <td>true</td>\n",
       "      <td>36.122445</td>\n",
       "      <td>43.810263</td>\n",
       "      <td>away</td>\n",
       "      <td>false</td>\n",
       "    </tr>\n",
       "    <tr>\n",
       "      <th>1231</th>\n",
       "      <td>NaN</td>\n",
       "      <td>faceVerticesChanged</td>\n",
       "      <td>left</td>\n",
       "      <td>true</td>\n",
       "      <td>36.317568</td>\n",
       "      <td>44.471174</td>\n",
       "      <td>away</td>\n",
       "      <td>false</td>\n",
       "    </tr>\n",
       "    <tr>\n",
       "      <th>1232</th>\n",
       "      <td>NaN</td>\n",
       "      <td>faceVerticesChanged</td>\n",
       "      <td>left</td>\n",
       "      <td>true</td>\n",
       "      <td>35.782371</td>\n",
       "      <td>43.559000</td>\n",
       "      <td>away</td>\n",
       "      <td>false</td>\n",
       "    </tr>\n",
       "    <tr>\n",
       "      <th>1233</th>\n",
       "      <td>NaN</td>\n",
       "      <td>faceVerticesChanged</td>\n",
       "      <td>left</td>\n",
       "      <td>true</td>\n",
       "      <td>35.018556</td>\n",
       "      <td>42.924315</td>\n",
       "      <td>away</td>\n",
       "      <td>false</td>\n",
       "    </tr>\n",
       "    <tr>\n",
       "      <th>1235</th>\n",
       "      <td>NaN</td>\n",
       "      <td>faceVerticesChanged</td>\n",
       "      <td>left</td>\n",
       "      <td>true</td>\n",
       "      <td>35.337135</td>\n",
       "      <td>41.990891</td>\n",
       "      <td>away</td>\n",
       "      <td>false</td>\n",
       "    </tr>\n",
       "  </tbody>\n",
       "</table>\n",
       "<p>480 rows × 8 columns</p>\n",
       "</div>"
      ],
      "text/plain": [
       "     itemID            eventName gazeLocationName gazeLocationOnScreen  \\\n",
       "606     NaN  faceVerticesChanged             left                 true   \n",
       "607     NaN  faceVerticesChanged             left                 true   \n",
       "608     NaN  faceVerticesChanged             left                 true   \n",
       "609     NaN  faceVerticesChanged             left                 true   \n",
       "611     NaN  faceVerticesChanged             left                 true   \n",
       "...     ...                  ...              ...                  ...   \n",
       "1230    NaN  faceVerticesChanged             left                 true   \n",
       "1231    NaN  faceVerticesChanged             left                 true   \n",
       "1232    NaN  faceVerticesChanged             left                 true   \n",
       "1233    NaN  faceVerticesChanged             left                 true   \n",
       "1235    NaN  faceVerticesChanged             left                 true   \n",
       "\n",
       "      lookAtPointX  lookAtPointY NewLocation NewOnScreen  \n",
       "606      61.356951      1.107581        away       false  \n",
       "607      58.411147      1.416698        away       false  \n",
       "608      47.173716      1.709210        away       false  \n",
       "609      41.147843      1.947476        away       false  \n",
       "611      38.543832      3.449706        away       false  \n",
       "...            ...           ...         ...         ...  \n",
       "1230     36.122445     43.810263        away       false  \n",
       "1231     36.317568     44.471174        away       false  \n",
       "1232     35.782371     43.559000        away       false  \n",
       "1233     35.018556     42.924315        away       false  \n",
       "1235     35.337135     41.990891        away       false  \n",
       "\n",
       "[480 rows x 8 columns]"
      ]
     },
     "execution_count": 40,
     "metadata": {},
     "output_type": "execute_result"
    }
   ],
   "source": [
    "test.loc[a][cols]"
   ]
  },
  {
   "cell_type": "code",
   "execution_count": 23,
   "metadata": {},
   "outputs": [
    {
     "data": {
      "text/html": [
       "<div>\n",
       "<style scoped>\n",
       "    .dataframe tbody tr th:only-of-type {\n",
       "        vertical-align: middle;\n",
       "    }\n",
       "\n",
       "    .dataframe tbody tr th {\n",
       "        vertical-align: top;\n",
       "    }\n",
       "\n",
       "    .dataframe thead th {\n",
       "        text-align: right;\n",
       "    }\n",
       "</style>\n",
       "<table border=\"1\" class=\"dataframe\">\n",
       "  <thead>\n",
       "    <tr style=\"text-align: right;\">\n",
       "      <th></th>\n",
       "      <th>itemID</th>\n",
       "      <th>eventName</th>\n",
       "      <th>gazeLocationName</th>\n",
       "      <th>gazeLocationOnScreen</th>\n",
       "      <th>lookAtPointX</th>\n",
       "      <th>lookAtPointY</th>\n",
       "      <th>NewLocation</th>\n",
       "      <th>NewOnScreen</th>\n",
       "    </tr>\n",
       "  </thead>\n",
       "  <tbody>\n",
       "    <tr>\n",
       "      <th>605</th>\n",
       "      <td>NaN</td>\n",
       "      <td>cameraImageCaptured</td>\n",
       "      <td>NaN</td>\n",
       "      <td>NaN</td>\n",
       "      <td>NaN</td>\n",
       "      <td>NaN</td>\n",
       "      <td>away</td>\n",
       "      <td>false</td>\n",
       "    </tr>\n",
       "    <tr>\n",
       "      <th>606</th>\n",
       "      <td>NaN</td>\n",
       "      <td>faceVerticesChanged</td>\n",
       "      <td>left</td>\n",
       "      <td>true</td>\n",
       "      <td>61.356951</td>\n",
       "      <td>1.107581</td>\n",
       "      <td>away</td>\n",
       "      <td>false</td>\n",
       "    </tr>\n",
       "    <tr>\n",
       "      <th>607</th>\n",
       "      <td>NaN</td>\n",
       "      <td>faceVerticesChanged</td>\n",
       "      <td>left</td>\n",
       "      <td>true</td>\n",
       "      <td>58.411147</td>\n",
       "      <td>1.416698</td>\n",
       "      <td>away</td>\n",
       "      <td>false</td>\n",
       "    </tr>\n",
       "    <tr>\n",
       "      <th>608</th>\n",
       "      <td>NaN</td>\n",
       "      <td>faceVerticesChanged</td>\n",
       "      <td>left</td>\n",
       "      <td>true</td>\n",
       "      <td>47.173716</td>\n",
       "      <td>1.709210</td>\n",
       "      <td>away</td>\n",
       "      <td>false</td>\n",
       "    </tr>\n",
       "    <tr>\n",
       "      <th>609</th>\n",
       "      <td>NaN</td>\n",
       "      <td>faceVerticesChanged</td>\n",
       "      <td>left</td>\n",
       "      <td>true</td>\n",
       "      <td>41.147843</td>\n",
       "      <td>1.947476</td>\n",
       "      <td>away</td>\n",
       "      <td>false</td>\n",
       "    </tr>\n",
       "    <tr>\n",
       "      <th>...</th>\n",
       "      <td>...</td>\n",
       "      <td>...</td>\n",
       "      <td>...</td>\n",
       "      <td>...</td>\n",
       "      <td>...</td>\n",
       "      <td>...</td>\n",
       "      <td>...</td>\n",
       "      <td>...</td>\n",
       "    </tr>\n",
       "    <tr>\n",
       "      <th>1231</th>\n",
       "      <td>NaN</td>\n",
       "      <td>faceVerticesChanged</td>\n",
       "      <td>left</td>\n",
       "      <td>true</td>\n",
       "      <td>36.317568</td>\n",
       "      <td>44.471174</td>\n",
       "      <td>away</td>\n",
       "      <td>false</td>\n",
       "    </tr>\n",
       "    <tr>\n",
       "      <th>1232</th>\n",
       "      <td>NaN</td>\n",
       "      <td>faceVerticesChanged</td>\n",
       "      <td>left</td>\n",
       "      <td>true</td>\n",
       "      <td>35.782371</td>\n",
       "      <td>43.559000</td>\n",
       "      <td>away</td>\n",
       "      <td>false</td>\n",
       "    </tr>\n",
       "    <tr>\n",
       "      <th>1233</th>\n",
       "      <td>NaN</td>\n",
       "      <td>faceVerticesChanged</td>\n",
       "      <td>left</td>\n",
       "      <td>true</td>\n",
       "      <td>35.018556</td>\n",
       "      <td>42.924315</td>\n",
       "      <td>away</td>\n",
       "      <td>false</td>\n",
       "    </tr>\n",
       "    <tr>\n",
       "      <th>1234</th>\n",
       "      <td>NaN</td>\n",
       "      <td>cameraImageCaptured</td>\n",
       "      <td>NaN</td>\n",
       "      <td>NaN</td>\n",
       "      <td>NaN</td>\n",
       "      <td>NaN</td>\n",
       "      <td>away</td>\n",
       "      <td>false</td>\n",
       "    </tr>\n",
       "    <tr>\n",
       "      <th>1235</th>\n",
       "      <td>NaN</td>\n",
       "      <td>faceVerticesChanged</td>\n",
       "      <td>left</td>\n",
       "      <td>true</td>\n",
       "      <td>35.337135</td>\n",
       "      <td>41.990891</td>\n",
       "      <td>away</td>\n",
       "      <td>false</td>\n",
       "    </tr>\n",
       "  </tbody>\n",
       "</table>\n",
       "<p>631 rows × 8 columns</p>\n",
       "</div>"
      ],
      "text/plain": [
       "     itemID            eventName gazeLocationName gazeLocationOnScreen  \\\n",
       "605     NaN  cameraImageCaptured              NaN                  NaN   \n",
       "606     NaN  faceVerticesChanged             left                 true   \n",
       "607     NaN  faceVerticesChanged             left                 true   \n",
       "608     NaN  faceVerticesChanged             left                 true   \n",
       "609     NaN  faceVerticesChanged             left                 true   \n",
       "...     ...                  ...              ...                  ...   \n",
       "1231    NaN  faceVerticesChanged             left                 true   \n",
       "1232    NaN  faceVerticesChanged             left                 true   \n",
       "1233    NaN  faceVerticesChanged             left                 true   \n",
       "1234    NaN  cameraImageCaptured              NaN                  NaN   \n",
       "1235    NaN  faceVerticesChanged             left                 true   \n",
       "\n",
       "      lookAtPointX  lookAtPointY NewLocation NewOnScreen  \n",
       "605            NaN           NaN        away       false  \n",
       "606      61.356951      1.107581        away       false  \n",
       "607      58.411147      1.416698        away       false  \n",
       "608      47.173716      1.709210        away       false  \n",
       "609      41.147843      1.947476        away       false  \n",
       "...            ...           ...         ...         ...  \n",
       "1231     36.317568     44.471174        away       false  \n",
       "1232     35.782371     43.559000        away       false  \n",
       "1233     35.018556     42.924315        away       false  \n",
       "1234           NaN           NaN        away       false  \n",
       "1235     35.337135     41.990891        away       false  \n",
       "\n",
       "[631 rows x 8 columns]"
      ]
     },
     "execution_count": 23,
     "metadata": {},
     "output_type": "execute_result"
    }
   ],
   "source": [
    "test[cols]"
   ]
  },
  {
   "cell_type": "code",
   "execution_count": 57,
   "metadata": {},
   "outputs": [],
   "source": [
    "#json file\n",
    "\n",
    "def ReProcess(data, ss, ratio):\n",
    "    '''\n",
    "    Input: \n",
    "        df: the json file read to a pandas dataframe\n",
    "        ss: the modified dictionary contains new four screensides\n",
    "        ratio: the ratio to identify left and right side\n",
    "        \n",
    "    Output:\n",
    "         new: the pandas dataframe contains the new count \n",
    "         items: a list of the name of the N items\n",
    "    '''\n",
    "    #Finding the index for presentLiveItem and completeLiveItem to subset the pieces we need for analysis\n",
    "    df = data.copy()\n",
    "\n",
    "    df['NewLocation'] = df.apply( lambda row : Location(row, ss, ratio), axis = 1)\n",
    "    df['NewOnScreen'] = df.apply( lambda row : OnScreen(row, ss, ratio), axis = 1)\n",
    "    item_index = []\n",
    "\n",
    "    new = pd.DataFrame(columns=('L', 'R','onScreenAway','offScreenAway'))\n",
    "    items =[]\n",
    "    for i in range(len(end)):\n",
    "        sub = df.iloc[begin[i]+1:end[i]]\n",
    "        items.extend(sub.itemID.dropna().unique())\n",
    "        \n",
    "        lindex=sub[['gazeLocationName', 'gazeLocationOnScreen','lookAtPointX','lookAtPointY']].dropna().index\n",
    "        sub = sub.loc[lindex]\n",
    "        item_index.append(lindex)\n",
    "        \n",
    " \n",
    "        a, b, c = sub.NewLocation.value_counts()[['left','right','away']].round(4) \n",
    "        if len(sub[sub['NewLocation'] == 'away'].NewOnScreen.value_counts()) == 2:\n",
    "            d,e = sub[sub['NewLocation'] == 'away'].NewOnScreen.value_counts()\n",
    "        else:\n",
    "            d = c\n",
    "            e = 0\n",
    "        new.loc[i] = [a, b ,d, e]\n",
    "     \n",
    "    \n",
    "    return new, df, items, item_index"
   ]
  },
  {
   "cell_type": "code",
   "execution_count": 42,
   "metadata": {},
   "outputs": [
    {
     "name": "stdout",
     "output_type": "stream",
     "text": [
      "Margin for ratio:  0.4 55.248000000000005 82.872\n"
     ]
    },
    {
     "data": {
      "text/plain": [
       "{'rightSide': 138.45,\n",
       " 'leftSide': 0.3299999999999983,\n",
       " 'topSide': -42.12,\n",
       " 'bottomSide': 66.38}"
      ]
     },
     "execution_count": 42,
     "metadata": {},
     "output_type": "execute_result"
    }
   ],
   "source": [
    "nss= Modify_screenSide(ss, 0.40)\n",
    "nss"
   ]
  },
  {
   "cell_type": "code",
   "execution_count": 58,
   "metadata": {},
   "outputs": [],
   "source": [
    "new40, df40, items, index40 =ReProcess(df, nss, 0.4)"
   ]
  },
  {
   "cell_type": "code",
   "execution_count": 53,
   "metadata": {},
   "outputs": [
    {
     "data": {
      "text/plain": [
       "24"
      ]
     },
     "execution_count": 53,
     "metadata": {},
     "output_type": "execute_result"
    }
   ],
   "source": [
    "len(index40)"
   ]
  },
  {
   "cell_type": "code",
   "execution_count": 67,
   "metadata": {},
   "outputs": [
    {
     "name": "stdout",
     "output_type": "stream",
     "text": [
      "Margin for ratio:  0.425 58.701 79.419\n"
     ]
    }
   ],
   "source": [
    "nss425= Modify_screenSide(ss, 0.425)\n",
    "new425, df425, items, index425 =ReProcess(df, nss425, 0.425)"
   ]
  },
  {
   "cell_type": "code",
   "execution_count": 70,
   "metadata": {},
   "outputs": [
    {
     "name": "stdout",
     "output_type": "stream",
     "text": [
      "Margin for ratio:  0.45 62.154 75.96600000000001\n"
     ]
    }
   ],
   "source": [
    "nss45= Modify_screenSide(ss, 0.45)\n",
    "new45, df45, items, index45 =ReProcess(df, nss45, 0.45)"
   ]
  },
  {
   "cell_type": "code",
   "execution_count": 71,
   "metadata": {},
   "outputs": [
    {
     "data": {
      "text/html": [
       "<div>\n",
       "<style scoped>\n",
       "    .dataframe tbody tr th:only-of-type {\n",
       "        vertical-align: middle;\n",
       "    }\n",
       "\n",
       "    .dataframe tbody tr th {\n",
       "        vertical-align: top;\n",
       "    }\n",
       "\n",
       "    .dataframe thead th {\n",
       "        text-align: right;\n",
       "    }\n",
       "</style>\n",
       "<table border=\"1\" class=\"dataframe\">\n",
       "  <thead>\n",
       "    <tr style=\"text-align: right;\">\n",
       "      <th></th>\n",
       "      <th>L</th>\n",
       "      <th>R</th>\n",
       "      <th>onScreenAway</th>\n",
       "      <th>offScreenAway</th>\n",
       "    </tr>\n",
       "  </thead>\n",
       "  <tbody>\n",
       "    <tr>\n",
       "      <th>0</th>\n",
       "      <td>294</td>\n",
       "      <td>111</td>\n",
       "      <td>66</td>\n",
       "      <td>9</td>\n",
       "    </tr>\n",
       "    <tr>\n",
       "      <th>1</th>\n",
       "      <td>108</td>\n",
       "      <td>279</td>\n",
       "      <td>92</td>\n",
       "      <td>2</td>\n",
       "    </tr>\n",
       "    <tr>\n",
       "      <th>2</th>\n",
       "      <td>200</td>\n",
       "      <td>162</td>\n",
       "      <td>112</td>\n",
       "      <td>6</td>\n",
       "    </tr>\n",
       "    <tr>\n",
       "      <th>3</th>\n",
       "      <td>244</td>\n",
       "      <td>58</td>\n",
       "      <td>162</td>\n",
       "      <td>15</td>\n",
       "    </tr>\n",
       "    <tr>\n",
       "      <th>4</th>\n",
       "      <td>204</td>\n",
       "      <td>271</td>\n",
       "      <td>5</td>\n",
       "      <td>1</td>\n",
       "    </tr>\n",
       "    <tr>\n",
       "      <th>5</th>\n",
       "      <td>285</td>\n",
       "      <td>124</td>\n",
       "      <td>59</td>\n",
       "      <td>10</td>\n",
       "    </tr>\n",
       "    <tr>\n",
       "      <th>6</th>\n",
       "      <td>127</td>\n",
       "      <td>333</td>\n",
       "      <td>19</td>\n",
       "      <td>0</td>\n",
       "    </tr>\n",
       "    <tr>\n",
       "      <th>7</th>\n",
       "      <td>240</td>\n",
       "      <td>146</td>\n",
       "      <td>92</td>\n",
       "      <td>2</td>\n",
       "    </tr>\n",
       "    <tr>\n",
       "      <th>8</th>\n",
       "      <td>151</td>\n",
       "      <td>253</td>\n",
       "      <td>64</td>\n",
       "      <td>12</td>\n",
       "    </tr>\n",
       "    <tr>\n",
       "      <th>9</th>\n",
       "      <td>275</td>\n",
       "      <td>143</td>\n",
       "      <td>54</td>\n",
       "      <td>8</td>\n",
       "    </tr>\n",
       "    <tr>\n",
       "      <th>10</th>\n",
       "      <td>93</td>\n",
       "      <td>375</td>\n",
       "      <td>12</td>\n",
       "      <td>0</td>\n",
       "    </tr>\n",
       "    <tr>\n",
       "      <th>11</th>\n",
       "      <td>151</td>\n",
       "      <td>203</td>\n",
       "      <td>80</td>\n",
       "      <td>46</td>\n",
       "    </tr>\n",
       "    <tr>\n",
       "      <th>12</th>\n",
       "      <td>314</td>\n",
       "      <td>157</td>\n",
       "      <td>10</td>\n",
       "      <td>0</td>\n",
       "    </tr>\n",
       "    <tr>\n",
       "      <th>13</th>\n",
       "      <td>132</td>\n",
       "      <td>164</td>\n",
       "      <td>153</td>\n",
       "      <td>31</td>\n",
       "    </tr>\n",
       "    <tr>\n",
       "      <th>14</th>\n",
       "      <td>352</td>\n",
       "      <td>95</td>\n",
       "      <td>33</td>\n",
       "      <td>0</td>\n",
       "    </tr>\n",
       "    <tr>\n",
       "      <th>15</th>\n",
       "      <td>420</td>\n",
       "      <td>31</td>\n",
       "      <td>28</td>\n",
       "      <td>1</td>\n",
       "    </tr>\n",
       "    <tr>\n",
       "      <th>16</th>\n",
       "      <td>334</td>\n",
       "      <td>115</td>\n",
       "      <td>23</td>\n",
       "      <td>8</td>\n",
       "    </tr>\n",
       "    <tr>\n",
       "      <th>17</th>\n",
       "      <td>264</td>\n",
       "      <td>145</td>\n",
       "      <td>60</td>\n",
       "      <td>11</td>\n",
       "    </tr>\n",
       "    <tr>\n",
       "      <th>18</th>\n",
       "      <td>363</td>\n",
       "      <td>99</td>\n",
       "      <td>13</td>\n",
       "      <td>6</td>\n",
       "    </tr>\n",
       "    <tr>\n",
       "      <th>19</th>\n",
       "      <td>158</td>\n",
       "      <td>200</td>\n",
       "      <td>83</td>\n",
       "      <td>38</td>\n",
       "    </tr>\n",
       "    <tr>\n",
       "      <th>20</th>\n",
       "      <td>263</td>\n",
       "      <td>213</td>\n",
       "      <td>4</td>\n",
       "      <td>0</td>\n",
       "    </tr>\n",
       "    <tr>\n",
       "      <th>21</th>\n",
       "      <td>145</td>\n",
       "      <td>274</td>\n",
       "      <td>41</td>\n",
       "      <td>20</td>\n",
       "    </tr>\n",
       "    <tr>\n",
       "      <th>22</th>\n",
       "      <td>255</td>\n",
       "      <td>195</td>\n",
       "      <td>30</td>\n",
       "      <td>0</td>\n",
       "    </tr>\n",
       "    <tr>\n",
       "      <th>23</th>\n",
       "      <td>329</td>\n",
       "      <td>34</td>\n",
       "      <td>76</td>\n",
       "      <td>0</td>\n",
       "    </tr>\n",
       "  </tbody>\n",
       "</table>\n",
       "</div>"
      ],
      "text/plain": [
       "      L    R onScreenAway offScreenAway\n",
       "0   294  111           66             9\n",
       "1   108  279           92             2\n",
       "2   200  162          112             6\n",
       "3   244   58          162            15\n",
       "4   204  271            5             1\n",
       "5   285  124           59            10\n",
       "6   127  333           19             0\n",
       "7   240  146           92             2\n",
       "8   151  253           64            12\n",
       "9   275  143           54             8\n",
       "10   93  375           12             0\n",
       "11  151  203           80            46\n",
       "12  314  157           10             0\n",
       "13  132  164          153            31\n",
       "14  352   95           33             0\n",
       "15  420   31           28             1\n",
       "16  334  115           23             8\n",
       "17  264  145           60            11\n",
       "18  363   99           13             6\n",
       "19  158  200           83            38\n",
       "20  263  213            4             0\n",
       "21  145  274           41            20\n",
       "22  255  195           30             0\n",
       "23  329   34           76             0"
      ]
     },
     "execution_count": 71,
     "metadata": {},
     "output_type": "execute_result"
    }
   ],
   "source": [
    "new45"
   ]
  },
  {
   "cell_type": "code",
   "execution_count": 68,
   "metadata": {},
   "outputs": [
    {
     "data": {
      "text/html": [
       "<div>\n",
       "<style scoped>\n",
       "    .dataframe tbody tr th:only-of-type {\n",
       "        vertical-align: middle;\n",
       "    }\n",
       "\n",
       "    .dataframe tbody tr th {\n",
       "        vertical-align: top;\n",
       "    }\n",
       "\n",
       "    .dataframe thead th {\n",
       "        text-align: right;\n",
       "    }\n",
       "</style>\n",
       "<table border=\"1\" class=\"dataframe\">\n",
       "  <thead>\n",
       "    <tr style=\"text-align: right;\">\n",
       "      <th></th>\n",
       "      <th>L</th>\n",
       "      <th>R</th>\n",
       "      <th>onScreenAway</th>\n",
       "      <th>offScreenAway</th>\n",
       "    </tr>\n",
       "  </thead>\n",
       "  <tbody>\n",
       "    <tr>\n",
       "      <th>0</th>\n",
       "      <td>284</td>\n",
       "      <td>87</td>\n",
       "      <td>100</td>\n",
       "      <td>9</td>\n",
       "    </tr>\n",
       "    <tr>\n",
       "      <th>1</th>\n",
       "      <td>108</td>\n",
       "      <td>279</td>\n",
       "      <td>92</td>\n",
       "      <td>2</td>\n",
       "    </tr>\n",
       "    <tr>\n",
       "      <th>2</th>\n",
       "      <td>200</td>\n",
       "      <td>160</td>\n",
       "      <td>112</td>\n",
       "      <td>8</td>\n",
       "    </tr>\n",
       "    <tr>\n",
       "      <th>3</th>\n",
       "      <td>240</td>\n",
       "      <td>55</td>\n",
       "      <td>162</td>\n",
       "      <td>22</td>\n",
       "    </tr>\n",
       "    <tr>\n",
       "      <th>4</th>\n",
       "      <td>196</td>\n",
       "      <td>266</td>\n",
       "      <td>18</td>\n",
       "      <td>1</td>\n",
       "    </tr>\n",
       "    <tr>\n",
       "      <th>5</th>\n",
       "      <td>265</td>\n",
       "      <td>124</td>\n",
       "      <td>59</td>\n",
       "      <td>30</td>\n",
       "    </tr>\n",
       "    <tr>\n",
       "      <th>6</th>\n",
       "      <td>120</td>\n",
       "      <td>315</td>\n",
       "      <td>44</td>\n",
       "      <td>0</td>\n",
       "    </tr>\n",
       "    <tr>\n",
       "      <th>7</th>\n",
       "      <td>238</td>\n",
       "      <td>146</td>\n",
       "      <td>92</td>\n",
       "      <td>4</td>\n",
       "    </tr>\n",
       "    <tr>\n",
       "      <th>8</th>\n",
       "      <td>149</td>\n",
       "      <td>243</td>\n",
       "      <td>64</td>\n",
       "      <td>24</td>\n",
       "    </tr>\n",
       "    <tr>\n",
       "      <th>9</th>\n",
       "      <td>271</td>\n",
       "      <td>142</td>\n",
       "      <td>54</td>\n",
       "      <td>13</td>\n",
       "    </tr>\n",
       "    <tr>\n",
       "      <th>10</th>\n",
       "      <td>82</td>\n",
       "      <td>368</td>\n",
       "      <td>30</td>\n",
       "      <td>0</td>\n",
       "    </tr>\n",
       "    <tr>\n",
       "      <th>11</th>\n",
       "      <td>148</td>\n",
       "      <td>187</td>\n",
       "      <td>80</td>\n",
       "      <td>65</td>\n",
       "    </tr>\n",
       "    <tr>\n",
       "      <th>12</th>\n",
       "      <td>311</td>\n",
       "      <td>156</td>\n",
       "      <td>14</td>\n",
       "      <td>0</td>\n",
       "    </tr>\n",
       "    <tr>\n",
       "      <th>13</th>\n",
       "      <td>127</td>\n",
       "      <td>159</td>\n",
       "      <td>153</td>\n",
       "      <td>41</td>\n",
       "    </tr>\n",
       "    <tr>\n",
       "      <th>14</th>\n",
       "      <td>352</td>\n",
       "      <td>84</td>\n",
       "      <td>44</td>\n",
       "      <td>0</td>\n",
       "    </tr>\n",
       "    <tr>\n",
       "      <th>15</th>\n",
       "      <td>417</td>\n",
       "      <td>30</td>\n",
       "      <td>28</td>\n",
       "      <td>5</td>\n",
       "    </tr>\n",
       "    <tr>\n",
       "      <th>16</th>\n",
       "      <td>332</td>\n",
       "      <td>114</td>\n",
       "      <td>23</td>\n",
       "      <td>11</td>\n",
       "    </tr>\n",
       "    <tr>\n",
       "      <th>17</th>\n",
       "      <td>263</td>\n",
       "      <td>140</td>\n",
       "      <td>60</td>\n",
       "      <td>17</td>\n",
       "    </tr>\n",
       "    <tr>\n",
       "      <th>18</th>\n",
       "      <td>360</td>\n",
       "      <td>98</td>\n",
       "      <td>17</td>\n",
       "      <td>6</td>\n",
       "    </tr>\n",
       "    <tr>\n",
       "      <th>19</th>\n",
       "      <td>154</td>\n",
       "      <td>199</td>\n",
       "      <td>83</td>\n",
       "      <td>43</td>\n",
       "    </tr>\n",
       "    <tr>\n",
       "      <th>20</th>\n",
       "      <td>259</td>\n",
       "      <td>211</td>\n",
       "      <td>10</td>\n",
       "      <td>0</td>\n",
       "    </tr>\n",
       "    <tr>\n",
       "      <th>21</th>\n",
       "      <td>144</td>\n",
       "      <td>273</td>\n",
       "      <td>41</td>\n",
       "      <td>22</td>\n",
       "    </tr>\n",
       "    <tr>\n",
       "      <th>22</th>\n",
       "      <td>228</td>\n",
       "      <td>184</td>\n",
       "      <td>68</td>\n",
       "      <td>0</td>\n",
       "    </tr>\n",
       "    <tr>\n",
       "      <th>23</th>\n",
       "      <td>316</td>\n",
       "      <td>33</td>\n",
       "      <td>76</td>\n",
       "      <td>14</td>\n",
       "    </tr>\n",
       "  </tbody>\n",
       "</table>\n",
       "</div>"
      ],
      "text/plain": [
       "      L    R onScreenAway offScreenAway\n",
       "0   284   87          100             9\n",
       "1   108  279           92             2\n",
       "2   200  160          112             8\n",
       "3   240   55          162            22\n",
       "4   196  266           18             1\n",
       "5   265  124           59            30\n",
       "6   120  315           44             0\n",
       "7   238  146           92             4\n",
       "8   149  243           64            24\n",
       "9   271  142           54            13\n",
       "10   82  368           30             0\n",
       "11  148  187           80            65\n",
       "12  311  156           14             0\n",
       "13  127  159          153            41\n",
       "14  352   84           44             0\n",
       "15  417   30           28             5\n",
       "16  332  114           23            11\n",
       "17  263  140           60            17\n",
       "18  360   98           17             6\n",
       "19  154  199           83            43\n",
       "20  259  211           10             0\n",
       "21  144  273           41            22\n",
       "22  228  184           68             0\n",
       "23  316   33           76            14"
      ]
     },
     "execution_count": 68,
     "metadata": {},
     "output_type": "execute_result"
    }
   ],
   "source": [
    "new425"
   ]
  },
  {
   "cell_type": "code",
   "execution_count": 44,
   "metadata": {},
   "outputs": [
    {
     "data": {
      "text/html": [
       "<div>\n",
       "<style scoped>\n",
       "    .dataframe tbody tr th:only-of-type {\n",
       "        vertical-align: middle;\n",
       "    }\n",
       "\n",
       "    .dataframe tbody tr th {\n",
       "        vertical-align: top;\n",
       "    }\n",
       "\n",
       "    .dataframe thead th {\n",
       "        text-align: right;\n",
       "    }\n",
       "</style>\n",
       "<table border=\"1\" class=\"dataframe\">\n",
       "  <thead>\n",
       "    <tr style=\"text-align: right;\">\n",
       "      <th></th>\n",
       "      <th>L</th>\n",
       "      <th>R</th>\n",
       "      <th>onScreenAway</th>\n",
       "      <th>offScreenAway</th>\n",
       "    </tr>\n",
       "  </thead>\n",
       "  <tbody>\n",
       "    <tr>\n",
       "      <th>0</th>\n",
       "      <td>280</td>\n",
       "      <td>62</td>\n",
       "      <td>129</td>\n",
       "      <td>9</td>\n",
       "    </tr>\n",
       "    <tr>\n",
       "      <th>1</th>\n",
       "      <td>108</td>\n",
       "      <td>277</td>\n",
       "      <td>92</td>\n",
       "      <td>4</td>\n",
       "    </tr>\n",
       "    <tr>\n",
       "      <th>2</th>\n",
       "      <td>200</td>\n",
       "      <td>159</td>\n",
       "      <td>112</td>\n",
       "      <td>9</td>\n",
       "    </tr>\n",
       "    <tr>\n",
       "      <th>3</th>\n",
       "      <td>240</td>\n",
       "      <td>48</td>\n",
       "      <td>162</td>\n",
       "      <td>29</td>\n",
       "    </tr>\n",
       "    <tr>\n",
       "      <th>4</th>\n",
       "      <td>186</td>\n",
       "      <td>248</td>\n",
       "      <td>46</td>\n",
       "      <td>1</td>\n",
       "    </tr>\n",
       "    <tr>\n",
       "      <th>5</th>\n",
       "      <td>260</td>\n",
       "      <td>113</td>\n",
       "      <td>59</td>\n",
       "      <td>46</td>\n",
       "    </tr>\n",
       "    <tr>\n",
       "      <th>6</th>\n",
       "      <td>118</td>\n",
       "      <td>307</td>\n",
       "      <td>54</td>\n",
       "      <td>0</td>\n",
       "    </tr>\n",
       "    <tr>\n",
       "      <th>7</th>\n",
       "      <td>235</td>\n",
       "      <td>145</td>\n",
       "      <td>92</td>\n",
       "      <td>8</td>\n",
       "    </tr>\n",
       "    <tr>\n",
       "      <th>8</th>\n",
       "      <td>145</td>\n",
       "      <td>240</td>\n",
       "      <td>64</td>\n",
       "      <td>31</td>\n",
       "    </tr>\n",
       "    <tr>\n",
       "      <th>9</th>\n",
       "      <td>271</td>\n",
       "      <td>141</td>\n",
       "      <td>54</td>\n",
       "      <td>14</td>\n",
       "    </tr>\n",
       "    <tr>\n",
       "      <th>10</th>\n",
       "      <td>77</td>\n",
       "      <td>330</td>\n",
       "      <td>73</td>\n",
       "      <td>0</td>\n",
       "    </tr>\n",
       "    <tr>\n",
       "      <th>11</th>\n",
       "      <td>147</td>\n",
       "      <td>170</td>\n",
       "      <td>83</td>\n",
       "      <td>80</td>\n",
       "    </tr>\n",
       "    <tr>\n",
       "      <th>12</th>\n",
       "      <td>308</td>\n",
       "      <td>153</td>\n",
       "      <td>20</td>\n",
       "      <td>0</td>\n",
       "    </tr>\n",
       "    <tr>\n",
       "      <th>13</th>\n",
       "      <td>122</td>\n",
       "      <td>159</td>\n",
       "      <td>153</td>\n",
       "      <td>46</td>\n",
       "    </tr>\n",
       "    <tr>\n",
       "      <th>14</th>\n",
       "      <td>352</td>\n",
       "      <td>84</td>\n",
       "      <td>44</td>\n",
       "      <td>0</td>\n",
       "    </tr>\n",
       "    <tr>\n",
       "      <th>15</th>\n",
       "      <td>410</td>\n",
       "      <td>30</td>\n",
       "      <td>28</td>\n",
       "      <td>12</td>\n",
       "    </tr>\n",
       "    <tr>\n",
       "      <th>16</th>\n",
       "      <td>332</td>\n",
       "      <td>113</td>\n",
       "      <td>23</td>\n",
       "      <td>12</td>\n",
       "    </tr>\n",
       "    <tr>\n",
       "      <th>17</th>\n",
       "      <td>262</td>\n",
       "      <td>133</td>\n",
       "      <td>60</td>\n",
       "      <td>25</td>\n",
       "    </tr>\n",
       "    <tr>\n",
       "      <th>18</th>\n",
       "      <td>359</td>\n",
       "      <td>98</td>\n",
       "      <td>18</td>\n",
       "      <td>6</td>\n",
       "    </tr>\n",
       "    <tr>\n",
       "      <th>19</th>\n",
       "      <td>138</td>\n",
       "      <td>182</td>\n",
       "      <td>83</td>\n",
       "      <td>76</td>\n",
       "    </tr>\n",
       "    <tr>\n",
       "      <th>20</th>\n",
       "      <td>257</td>\n",
       "      <td>209</td>\n",
       "      <td>14</td>\n",
       "      <td>0</td>\n",
       "    </tr>\n",
       "    <tr>\n",
       "      <th>21</th>\n",
       "      <td>127</td>\n",
       "      <td>273</td>\n",
       "      <td>41</td>\n",
       "      <td>39</td>\n",
       "    </tr>\n",
       "    <tr>\n",
       "      <th>22</th>\n",
       "      <td>228</td>\n",
       "      <td>183</td>\n",
       "      <td>69</td>\n",
       "      <td>0</td>\n",
       "    </tr>\n",
       "    <tr>\n",
       "      <th>23</th>\n",
       "      <td>314</td>\n",
       "      <td>32</td>\n",
       "      <td>76</td>\n",
       "      <td>17</td>\n",
       "    </tr>\n",
       "  </tbody>\n",
       "</table>\n",
       "</div>"
      ],
      "text/plain": [
       "      L    R onScreenAway offScreenAway\n",
       "0   280   62          129             9\n",
       "1   108  277           92             4\n",
       "2   200  159          112             9\n",
       "3   240   48          162            29\n",
       "4   186  248           46             1\n",
       "5   260  113           59            46\n",
       "6   118  307           54             0\n",
       "7   235  145           92             8\n",
       "8   145  240           64            31\n",
       "9   271  141           54            14\n",
       "10   77  330           73             0\n",
       "11  147  170           83            80\n",
       "12  308  153           20             0\n",
       "13  122  159          153            46\n",
       "14  352   84           44             0\n",
       "15  410   30           28            12\n",
       "16  332  113           23            12\n",
       "17  262  133           60            25\n",
       "18  359   98           18             6\n",
       "19  138  182           83            76\n",
       "20  257  209           14             0\n",
       "21  127  273           41            39\n",
       "22  228  183           69             0\n",
       "23  314   32           76            17"
      ]
     },
     "execution_count": 44,
     "metadata": {},
     "output_type": "execute_result"
    }
   ],
   "source": [
    "new40"
   ]
  },
  {
   "cell_type": "code",
   "execution_count": 64,
   "metadata": {},
   "outputs": [],
   "source": [
    "new40.to_csv('C:/Users/tsb7592/Box/Baby Toolbox Operations/Analysis/json_count40.csv', index=False)"
   ]
  },
  {
   "cell_type": "code",
   "execution_count": 72,
   "metadata": {},
   "outputs": [],
   "source": [
    "new45.to_csv('C:/Users/tsb7592/Box/Baby Toolbox Operations/Analysis/json_count450.csv', index=False)"
   ]
  },
  {
   "cell_type": "code",
   "execution_count": 69,
   "metadata": {},
   "outputs": [],
   "source": [
    "new425.to_csv('C:/Users/tsb7592/Box/Baby Toolbox Operations/Analysis/json_count425.csv', index=False)"
   ]
  },
  {
   "cell_type": "code",
   "execution_count": 86,
   "metadata": {},
   "outputs": [],
   "source": [
    "import matplotlib.pyplot as plt\n",
    "import matplotlib.patches as patches\n",
    "%matplotlib inline\n",
    "\n",
    "\n",
    "def plot_dots(df, title, ss, nss, ratio=0.4):\n",
    "    leftM = (nss['rightSide']-nss['leftSide'])*ratio\n",
    "    rightM = (nss['rightSide']-nss['leftSide'])*(1-ratio)\n",
    "    \n",
    "    print(leftM, rightM)\n",
    "    width = ss['rightSide'] - ss['leftSide']\n",
    "    height = ss['bottomSide'] - ss['topSide']\n",
    "    \n",
    "    w1= leftM- nss['leftSide']\n",
    "    h1= nss['bottomSide']- nss['topSide']\n",
    "    \n",
    "    fig1 = plt.figure()\n",
    "    ax1 = fig1.add_subplot(111, aspect='equal')\n",
    "    \n",
    "    ax1.scatter(\n",
    "    x=df.lookAtPointX, y=df.lookAtPointY,alpha=0.9)\n",
    "\n",
    "    ax1.add_patch(patches.Rectangle((nss['leftSide'], nss['topSide']), w1, h1,color='red',fill=False))\n",
    "    ax1.add_patch(patches.Rectangle(( rightM, nss['topSide']), w1, h1,color='red',fill=False))\n",
    "    \n",
    "    ax1.add_patch( patches.Rectangle((ss['leftSide'], ss['topSide']), width, height, color='green', fill=False))\n",
    "    plt.title(title)\n",
    "    plt.ylim((70,-50))\n",
    "    plt.xlim((-10,150))\n",
    "    plt.show()"
   ]
  },
  {
   "cell_type": "code",
   "execution_count": 46,
   "metadata": {},
   "outputs": [
    {
     "data": {
      "text/html": [
       "<div>\n",
       "<style scoped>\n",
       "    .dataframe tbody tr th:only-of-type {\n",
       "        vertical-align: middle;\n",
       "    }\n",
       "\n",
       "    .dataframe tbody tr th {\n",
       "        vertical-align: top;\n",
       "    }\n",
       "\n",
       "    .dataframe thead th {\n",
       "        text-align: right;\n",
       "    }\n",
       "</style>\n",
       "<table border=\"1\" class=\"dataframe\">\n",
       "  <thead>\n",
       "    <tr style=\"text-align: right;\">\n",
       "      <th></th>\n",
       "      <th>calibrationPoint1AverageX</th>\n",
       "      <th>calibrationPoint1AverageY</th>\n",
       "      <th>calibrationPoint2AverageX</th>\n",
       "      <th>calibrationPoint2AverageY</th>\n",
       "      <th>calibrationPoint3AverageX</th>\n",
       "      <th>calibrationPoint3AverageY</th>\n",
       "      <th>calibrationPoint4AverageX</th>\n",
       "      <th>calibrationPoint4AverageY</th>\n",
       "      <th>elapsedTime</th>\n",
       "      <th>eventName</th>\n",
       "      <th>...</th>\n",
       "      <th>mediaCenterPointPercentX</th>\n",
       "      <th>mediaCenterPointPercentY</th>\n",
       "      <th>cameraImageFilename</th>\n",
       "      <th>gazeLocationName</th>\n",
       "      <th>gazeLocationOnScreen</th>\n",
       "      <th>gazeLocationZoneSet</th>\n",
       "      <th>includePriorGazeLocationPoints</th>\n",
       "      <th>NewLocation</th>\n",
       "      <th>NewOnScreen</th>\n",
       "      <th>item</th>\n",
       "    </tr>\n",
       "  </thead>\n",
       "  <tbody>\n",
       "    <tr>\n",
       "      <th>29</th>\n",
       "      <td>24.755497</td>\n",
       "      <td>9.730002</td>\n",
       "      <td>111.137718</td>\n",
       "      <td>5.978987</td>\n",
       "      <td>41.593045</td>\n",
       "      <td>18.595857</td>\n",
       "      <td>113.452027</td>\n",
       "      <td>14.302404</td>\n",
       "      <td>0.236268</td>\n",
       "      <td>faceVerticesChanged</td>\n",
       "      <td>...</td>\n",
       "      <td>0.089615</td>\n",
       "      <td>0.128297</td>\n",
       "      <td>NaN</td>\n",
       "      <td>NaN</td>\n",
       "      <td>NaN</td>\n",
       "      <td>NaN</td>\n",
       "      <td>NaN</td>\n",
       "      <td>away</td>\n",
       "      <td>true</td>\n",
       "      <td>None</td>\n",
       "    </tr>\n",
       "    <tr>\n",
       "      <th>182</th>\n",
       "      <td>24.755497</td>\n",
       "      <td>9.730002</td>\n",
       "      <td>111.137718</td>\n",
       "      <td>5.978987</td>\n",
       "      <td>41.593045</td>\n",
       "      <td>18.595857</td>\n",
       "      <td>113.452027</td>\n",
       "      <td>14.302404</td>\n",
       "      <td>2.222641</td>\n",
       "      <td>faceVerticesChanged</td>\n",
       "      <td>...</td>\n",
       "      <td>0.910385</td>\n",
       "      <td>0.871703</td>\n",
       "      <td>NaN</td>\n",
       "      <td>NaN</td>\n",
       "      <td>NaN</td>\n",
       "      <td>NaN</td>\n",
       "      <td>NaN</td>\n",
       "      <td>away</td>\n",
       "      <td>true</td>\n",
       "      <td>None</td>\n",
       "    </tr>\n",
       "    <tr>\n",
       "      <th>183</th>\n",
       "      <td>24.755497</td>\n",
       "      <td>9.730002</td>\n",
       "      <td>111.137718</td>\n",
       "      <td>5.978987</td>\n",
       "      <td>41.593045</td>\n",
       "      <td>18.595857</td>\n",
       "      <td>113.452027</td>\n",
       "      <td>14.302404</td>\n",
       "      <td>2.231294</td>\n",
       "      <td>faceVerticesChanged</td>\n",
       "      <td>...</td>\n",
       "      <td>0.910385</td>\n",
       "      <td>0.871703</td>\n",
       "      <td>NaN</td>\n",
       "      <td>NaN</td>\n",
       "      <td>NaN</td>\n",
       "      <td>NaN</td>\n",
       "      <td>NaN</td>\n",
       "      <td>away</td>\n",
       "      <td>true</td>\n",
       "      <td>None</td>\n",
       "    </tr>\n",
       "    <tr>\n",
       "      <th>184</th>\n",
       "      <td>24.755497</td>\n",
       "      <td>9.730002</td>\n",
       "      <td>111.137718</td>\n",
       "      <td>5.978987</td>\n",
       "      <td>41.593045</td>\n",
       "      <td>18.595857</td>\n",
       "      <td>113.452027</td>\n",
       "      <td>14.302404</td>\n",
       "      <td>2.247988</td>\n",
       "      <td>faceVerticesChanged</td>\n",
       "      <td>...</td>\n",
       "      <td>0.910385</td>\n",
       "      <td>0.871703</td>\n",
       "      <td>NaN</td>\n",
       "      <td>NaN</td>\n",
       "      <td>NaN</td>\n",
       "      <td>NaN</td>\n",
       "      <td>NaN</td>\n",
       "      <td>away</td>\n",
       "      <td>true</td>\n",
       "      <td>None</td>\n",
       "    </tr>\n",
       "    <tr>\n",
       "      <th>185</th>\n",
       "      <td>24.755497</td>\n",
       "      <td>9.730002</td>\n",
       "      <td>111.137718</td>\n",
       "      <td>5.978987</td>\n",
       "      <td>41.593045</td>\n",
       "      <td>18.595857</td>\n",
       "      <td>113.452027</td>\n",
       "      <td>14.302404</td>\n",
       "      <td>2.264602</td>\n",
       "      <td>faceVerticesChanged</td>\n",
       "      <td>...</td>\n",
       "      <td>0.910385</td>\n",
       "      <td>0.871703</td>\n",
       "      <td>NaN</td>\n",
       "      <td>NaN</td>\n",
       "      <td>NaN</td>\n",
       "      <td>NaN</td>\n",
       "      <td>NaN</td>\n",
       "      <td>away</td>\n",
       "      <td>true</td>\n",
       "      <td>None</td>\n",
       "    </tr>\n",
       "    <tr>\n",
       "      <th>...</th>\n",
       "      <td>...</td>\n",
       "      <td>...</td>\n",
       "      <td>...</td>\n",
       "      <td>...</td>\n",
       "      <td>...</td>\n",
       "      <td>...</td>\n",
       "      <td>...</td>\n",
       "      <td>...</td>\n",
       "      <td>...</td>\n",
       "      <td>...</td>\n",
       "      <td>...</td>\n",
       "      <td>...</td>\n",
       "      <td>...</td>\n",
       "      <td>...</td>\n",
       "      <td>...</td>\n",
       "      <td>...</td>\n",
       "      <td>...</td>\n",
       "      <td>...</td>\n",
       "      <td>...</td>\n",
       "      <td>...</td>\n",
       "      <td>...</td>\n",
       "    </tr>\n",
       "    <tr>\n",
       "      <th>19748</th>\n",
       "      <td>24.755497</td>\n",
       "      <td>9.730002</td>\n",
       "      <td>111.137718</td>\n",
       "      <td>5.978987</td>\n",
       "      <td>41.593045</td>\n",
       "      <td>18.595857</td>\n",
       "      <td>113.452027</td>\n",
       "      <td>14.302404</td>\n",
       "      <td>255.424652</td>\n",
       "      <td>faceVerticesChanged</td>\n",
       "      <td>...</td>\n",
       "      <td>NaN</td>\n",
       "      <td>NaN</td>\n",
       "      <td>NaN</td>\n",
       "      <td>away</td>\n",
       "      <td>true</td>\n",
       "      <td>NaN</td>\n",
       "      <td>NaN</td>\n",
       "      <td>away</td>\n",
       "      <td>true</td>\n",
       "      <td>None</td>\n",
       "    </tr>\n",
       "    <tr>\n",
       "      <th>19749</th>\n",
       "      <td>24.755497</td>\n",
       "      <td>9.730002</td>\n",
       "      <td>111.137718</td>\n",
       "      <td>5.978987</td>\n",
       "      <td>41.593045</td>\n",
       "      <td>18.595857</td>\n",
       "      <td>113.452027</td>\n",
       "      <td>14.302404</td>\n",
       "      <td>255.438757</td>\n",
       "      <td>faceVerticesChanged</td>\n",
       "      <td>...</td>\n",
       "      <td>NaN</td>\n",
       "      <td>NaN</td>\n",
       "      <td>NaN</td>\n",
       "      <td>away</td>\n",
       "      <td>true</td>\n",
       "      <td>NaN</td>\n",
       "      <td>NaN</td>\n",
       "      <td>away</td>\n",
       "      <td>true</td>\n",
       "      <td>None</td>\n",
       "    </tr>\n",
       "    <tr>\n",
       "      <th>19750</th>\n",
       "      <td>24.755497</td>\n",
       "      <td>9.730002</td>\n",
       "      <td>111.137718</td>\n",
       "      <td>5.978987</td>\n",
       "      <td>41.593045</td>\n",
       "      <td>18.595857</td>\n",
       "      <td>113.452027</td>\n",
       "      <td>14.302404</td>\n",
       "      <td>255.475062</td>\n",
       "      <td>faceVerticesChanged</td>\n",
       "      <td>...</td>\n",
       "      <td>NaN</td>\n",
       "      <td>NaN</td>\n",
       "      <td>NaN</td>\n",
       "      <td>away</td>\n",
       "      <td>true</td>\n",
       "      <td>NaN</td>\n",
       "      <td>NaN</td>\n",
       "      <td>away</td>\n",
       "      <td>true</td>\n",
       "      <td>None</td>\n",
       "    </tr>\n",
       "    <tr>\n",
       "      <th>19751</th>\n",
       "      <td>24.755497</td>\n",
       "      <td>9.730002</td>\n",
       "      <td>111.137718</td>\n",
       "      <td>5.978987</td>\n",
       "      <td>41.593045</td>\n",
       "      <td>18.595857</td>\n",
       "      <td>113.452027</td>\n",
       "      <td>14.302404</td>\n",
       "      <td>255.475860</td>\n",
       "      <td>faceVerticesChanged</td>\n",
       "      <td>...</td>\n",
       "      <td>NaN</td>\n",
       "      <td>NaN</td>\n",
       "      <td>NaN</td>\n",
       "      <td>away</td>\n",
       "      <td>true</td>\n",
       "      <td>NaN</td>\n",
       "      <td>NaN</td>\n",
       "      <td>away</td>\n",
       "      <td>true</td>\n",
       "      <td>None</td>\n",
       "    </tr>\n",
       "    <tr>\n",
       "      <th>19753</th>\n",
       "      <td>24.755497</td>\n",
       "      <td>9.730002</td>\n",
       "      <td>111.137718</td>\n",
       "      <td>5.978987</td>\n",
       "      <td>41.593045</td>\n",
       "      <td>18.595857</td>\n",
       "      <td>113.452027</td>\n",
       "      <td>14.302404</td>\n",
       "      <td>255.494005</td>\n",
       "      <td>faceVerticesChanged</td>\n",
       "      <td>...</td>\n",
       "      <td>NaN</td>\n",
       "      <td>NaN</td>\n",
       "      <td>NaN</td>\n",
       "      <td>away</td>\n",
       "      <td>true</td>\n",
       "      <td>NaN</td>\n",
       "      <td>NaN</td>\n",
       "      <td>away</td>\n",
       "      <td>true</td>\n",
       "      <td>None</td>\n",
       "    </tr>\n",
       "  </tbody>\n",
       "</table>\n",
       "<p>1635 rows × 96 columns</p>\n",
       "</div>"
      ],
      "text/plain": [
       "       calibrationPoint1AverageX  calibrationPoint1AverageY  \\\n",
       "29                     24.755497                   9.730002   \n",
       "182                    24.755497                   9.730002   \n",
       "183                    24.755497                   9.730002   \n",
       "184                    24.755497                   9.730002   \n",
       "185                    24.755497                   9.730002   \n",
       "...                          ...                        ...   \n",
       "19748                  24.755497                   9.730002   \n",
       "19749                  24.755497                   9.730002   \n",
       "19750                  24.755497                   9.730002   \n",
       "19751                  24.755497                   9.730002   \n",
       "19753                  24.755497                   9.730002   \n",
       "\n",
       "       calibrationPoint2AverageX  calibrationPoint2AverageY  \\\n",
       "29                    111.137718                   5.978987   \n",
       "182                   111.137718                   5.978987   \n",
       "183                   111.137718                   5.978987   \n",
       "184                   111.137718                   5.978987   \n",
       "185                   111.137718                   5.978987   \n",
       "...                          ...                        ...   \n",
       "19748                 111.137718                   5.978987   \n",
       "19749                 111.137718                   5.978987   \n",
       "19750                 111.137718                   5.978987   \n",
       "19751                 111.137718                   5.978987   \n",
       "19753                 111.137718                   5.978987   \n",
       "\n",
       "       calibrationPoint3AverageX  calibrationPoint3AverageY  \\\n",
       "29                     41.593045                  18.595857   \n",
       "182                    41.593045                  18.595857   \n",
       "183                    41.593045                  18.595857   \n",
       "184                    41.593045                  18.595857   \n",
       "185                    41.593045                  18.595857   \n",
       "...                          ...                        ...   \n",
       "19748                  41.593045                  18.595857   \n",
       "19749                  41.593045                  18.595857   \n",
       "19750                  41.593045                  18.595857   \n",
       "19751                  41.593045                  18.595857   \n",
       "19753                  41.593045                  18.595857   \n",
       "\n",
       "       calibrationPoint4AverageX  calibrationPoint4AverageY  elapsedTime  \\\n",
       "29                    113.452027                  14.302404     0.236268   \n",
       "182                   113.452027                  14.302404     2.222641   \n",
       "183                   113.452027                  14.302404     2.231294   \n",
       "184                   113.452027                  14.302404     2.247988   \n",
       "185                   113.452027                  14.302404     2.264602   \n",
       "...                          ...                        ...          ...   \n",
       "19748                 113.452027                  14.302404   255.424652   \n",
       "19749                 113.452027                  14.302404   255.438757   \n",
       "19750                 113.452027                  14.302404   255.475062   \n",
       "19751                 113.452027                  14.302404   255.475860   \n",
       "19753                 113.452027                  14.302404   255.494005   \n",
       "\n",
       "                 eventName  ... mediaCenterPointPercentX  \\\n",
       "29     faceVerticesChanged  ...                 0.089615   \n",
       "182    faceVerticesChanged  ...                 0.910385   \n",
       "183    faceVerticesChanged  ...                 0.910385   \n",
       "184    faceVerticesChanged  ...                 0.910385   \n",
       "185    faceVerticesChanged  ...                 0.910385   \n",
       "...                    ...  ...                      ...   \n",
       "19748  faceVerticesChanged  ...                      NaN   \n",
       "19749  faceVerticesChanged  ...                      NaN   \n",
       "19750  faceVerticesChanged  ...                      NaN   \n",
       "19751  faceVerticesChanged  ...                      NaN   \n",
       "19753  faceVerticesChanged  ...                      NaN   \n",
       "\n",
       "       mediaCenterPointPercentY  cameraImageFilename gazeLocationName  \\\n",
       "29                     0.128297                  NaN              NaN   \n",
       "182                    0.871703                  NaN              NaN   \n",
       "183                    0.871703                  NaN              NaN   \n",
       "184                    0.871703                  NaN              NaN   \n",
       "185                    0.871703                  NaN              NaN   \n",
       "...                         ...                  ...              ...   \n",
       "19748                       NaN                  NaN             away   \n",
       "19749                       NaN                  NaN             away   \n",
       "19750                       NaN                  NaN             away   \n",
       "19751                       NaN                  NaN             away   \n",
       "19753                       NaN                  NaN             away   \n",
       "\n",
       "      gazeLocationOnScreen gazeLocationZoneSet  \\\n",
       "29                     NaN                 NaN   \n",
       "182                    NaN                 NaN   \n",
       "183                    NaN                 NaN   \n",
       "184                    NaN                 NaN   \n",
       "185                    NaN                 NaN   \n",
       "...                    ...                 ...   \n",
       "19748                 true                 NaN   \n",
       "19749                 true                 NaN   \n",
       "19750                 true                 NaN   \n",
       "19751                 true                 NaN   \n",
       "19753                 true                 NaN   \n",
       "\n",
       "       includePriorGazeLocationPoints  NewLocation  NewOnScreen  item  \n",
       "29                                NaN         away         true  None  \n",
       "182                               NaN         away         true  None  \n",
       "183                               NaN         away         true  None  \n",
       "184                               NaN         away         true  None  \n",
       "185                               NaN         away         true  None  \n",
       "...                               ...          ...          ...   ...  \n",
       "19748                             NaN         away         true  None  \n",
       "19749                             NaN         away         true  None  \n",
       "19750                             NaN         away         true  None  \n",
       "19751                             NaN         away         true  None  \n",
       "19753                             NaN         away         true  None  \n",
       "\n",
       "[1635 rows x 96 columns]"
      ]
     },
     "execution_count": 46,
     "metadata": {},
     "output_type": "execute_result"
    }
   ],
   "source": [
    "df40[(df40['NewLocation'] == 'away') & (df40['NewOnScreen']=='true')]"
   ]
  },
  {
   "cell_type": "code",
   "execution_count": 85,
   "metadata": {},
   "outputs": [
    {
     "data": {
      "text/plain": [
       "{'rightSide': 113.45, 'leftSide': 25.33, 'topSide': 7.88, 'bottomSide': 16.38}"
      ]
     },
     "execution_count": 85,
     "metadata": {},
     "output_type": "execute_result"
    }
   ],
   "source": [
    "ss"
   ]
  },
  {
   "cell_type": "code",
   "execution_count": 83,
   "metadata": {},
   "outputs": [
    {
     "data": {
      "text/plain": [
       "{'rightSide': 138.45,\n",
       " 'leftSide': 0.3299999999999983,\n",
       " 'topSide': -42.12,\n",
       " 'bottomSide': 66.38}"
      ]
     },
     "execution_count": 83,
     "metadata": {},
     "output_type": "execute_result"
    }
   ],
   "source": [
    "nss"
   ]
  },
  {
   "cell_type": "code",
   "execution_count": 87,
   "metadata": {},
   "outputs": [
    {
     "name": "stdout",
     "output_type": "stream",
     "text": [
      "55.248000000000005 82.872\n"
     ]
    },
    {
     "data": {
      "image/png": "[encoded data removed]",
      "text/plain": [
       "<Figure size 432x288 with 1 Axes>"
      ]
     },
     "metadata": {
      "needs_background": "light"
     },
     "output_type": "display_data"
    },
    {
     "name": "stdout",
     "output_type": "stream",
     "text": [
      "55.248000000000005 82.872\n"
     ]
    },
    {
     "data": {
      "image/png": "[encoded data removed]",
      "text/plain": [
       "<Figure size 432x288 with 1 Axes>"
      ]
     },
     "metadata": {
      "needs_background": "light"
     },
     "output_type": "display_data"
    },
    {
     "name": "stdout",
     "output_type": "stream",
     "text": [
      "55.248000000000005 82.872\n"
     ]
    },
    {
     "data": {
      "image/png": "[encoded data removed]",
      "text/plain": [
       "<Figure size 432x288 with 1 Axes>"
      ]
     },
     "metadata": {
      "needs_background": "light"
     },
     "output_type": "display_data"
    },
    {
     "name": "stdout",
     "output_type": "stream",
     "text": [
      "55.248000000000005 82.872\n"
     ]
    },
    {
     "data": {
      "image/png": "[encoded data removed]",
      "text/plain": [
       "<Figure size 432x288 with 1 Axes>"
      ]
     },
     "metadata": {
      "needs_background": "light"
     },
     "output_type": "display_data"
    },
    {
     "name": "stdout",
     "output_type": "stream",
     "text": [
      "55.248000000000005 82.872\n"
     ]
    },
    {
     "data": {
      "image/png": "[encoded data removed]",
      "text/plain": [
       "<Figure size 432x288 with 1 Axes>"
      ]
     },
     "metadata": {
      "needs_background": "light"
     },
     "output_type": "display_data"
    },
    {
     "name": "stdout",
     "output_type": "stream",
     "text": [
      "55.248000000000005 82.872\n"
     ]
    },
    {
     "data": {
      "image/png": "[encoded data removed]",
      "text/plain": [
       "<Figure size 432x288 with 1 Axes>"
      ]
     },
     "metadata": {
      "needs_background": "light"
     },
     "output_type": "display_data"
    },
    {
     "name": "stdout",
     "output_type": "stream",
     "text": [
      "55.248000000000005 82.872\n"
     ]
    },
    {
     "data": {
      "image/png": "[encoded data removed]",
      "text/plain": [
       "<Figure size 432x288 with 1 Axes>"
      ]
     },
     "metadata": {
      "needs_background": "light"
     },
     "output_type": "display_data"
    },
    {
     "name": "stdout",
     "output_type": "stream",
     "text": [
      "55.248000000000005 82.872\n"
     ]
    },
    {
     "data": {
      "image/png": "[encoded data removed]",
      "text/plain": [
       "<Figure size 432x288 with 1 Axes>"
      ]
     },
     "metadata": {
      "needs_background": "light"
     },
     "output_type": "display_data"
    },
    {
     "name": "stdout",
     "output_type": "stream",
     "text": [
      "55.248000000000005 82.872\n"
     ]
    },
    {
     "data": {
      "image/png": "[encoded data removed]",
      "text/plain": [
       "<Figure size 432x288 with 1 Axes>"
      ]
     },
     "metadata": {
      "needs_background": "light"
     },
     "output_type": "display_data"
    },
    {
     "name": "stdout",
     "output_type": "stream",
     "text": [
      "55.248000000000005 82.872\n"
     ]
    },
    {
     "data": {
      "image/png": "[encoded data removed]",
      "text/plain": [
       "<Figure size 432x288 with 1 Axes>"
      ]
     },
     "metadata": {
      "needs_background": "light"
     },
     "output_type": "display_data"
    },
    {
     "name": "stdout",
     "output_type": "stream",
     "text": [
      "55.248000000000005 82.872\n"
     ]
    },
    {
     "data": {
      "image/png": "[encoded data removed]",
      "text/plain": [
       "<Figure size 432x288 with 1 Axes>"
      ]
     },
     "metadata": {
      "needs_background": "light"
     },
     "output_type": "display_data"
    },
    {
     "name": "stdout",
     "output_type": "stream",
     "text": [
      "55.248000000000005 82.872\n"
     ]
    },
    {
     "data": {
      "image/png": "[encoded data removed]",
      "text/plain": [
       "<Figure size 432x288 with 1 Axes>"
      ]
     },
     "metadata": {
      "needs_background": "light"
     },
     "output_type": "display_data"
    },
    {
     "name": "stdout",
     "output_type": "stream",
     "text": [
      "55.248000000000005 82.872\n"
     ]
    },
    {
     "data": {
      "image/png": "[encoded data removed]",
      "text/plain": [
       "<Figure size 432x288 with 1 Axes>"
      ]
     },
     "metadata": {
      "needs_background": "light"
     },
     "output_type": "display_data"
    },
    {
     "name": "stdout",
     "output_type": "stream",
     "text": [
      "55.248000000000005 82.872\n"
     ]
    },
    {
     "data": {
      "image/png": "[encoded data removed]",
      "text/plain": [
       "<Figure size 432x288 with 1 Axes>"
      ]
     },
     "metadata": {
      "needs_background": "light"
     },
     "output_type": "display_data"
    },
    {
     "name": "stdout",
     "output_type": "stream",
     "text": [
      "55.248000000000005 82.872\n"
     ]
    },
    {
     "data": {
      "image/png": "[encoded data removed]",
      "text/plain": [
       "<Figure size 432x288 with 1 Axes>"
      ]
     },
     "metadata": {
      "needs_background": "light"
     },
     "output_type": "display_data"
    },
    {
     "name": "stdout",
     "output_type": "stream",
     "text": [
      "55.248000000000005 82.872\n"
     ]
    },
    {
     "data": {
      "image/png": "[encoded data removed]",
      "text/plain": [
       "<Figure size 432x288 with 1 Axes>"
      ]
     },
     "metadata": {
      "needs_background": "light"
     },
     "output_type": "display_data"
    },
    {
     "name": "stdout",
     "output_type": "stream",
     "text": [
      "55.248000000000005 82.872\n"
     ]
    },
    {
     "data": {
      "image/png": "[encoded data removed]",
      "text/plain": [
       "<Figure size 432x288 with 1 Axes>"
      ]
     },
     "metadata": {
      "needs_background": "light"
     },
     "output_type": "display_data"
    },
    {
     "name": "stdout",
     "output_type": "stream",
     "text": [
      "55.248000000000005 82.872\n"
     ]
    },
    {
     "data": {
      "image/png": "[encoded data removed]",
      "text/plain": [
       "<Figure size 432x288 with 1 Axes>"
      ]
     },
     "metadata": {
      "needs_background": "light"
     },
     "output_type": "display_data"
    },
    {
     "name": "stdout",
     "output_type": "stream",
     "text": [
      "55.248000000000005 82.872\n"
     ]
    },
    {
     "data": {
      "image/png": "[encoded data removed]",
      "text/plain": [
       "<Figure size 432x288 with 1 Axes>"
      ]
     },
     "metadata": {
      "needs_background": "light"
     },
     "output_type": "display_data"
    },
    {
     "name": "stdout",
     "output_type": "stream",
     "text": [
      "55.248000000000005 82.872\n"
     ]
    },
    {
     "data": {
      "image/png": "[encoded data removed]",
      "text/plain": [
       "<Figure size 432x288 with 1 Axes>"
      ]
     },
     "metadata": {
      "needs_background": "light"
     },
     "output_type": "display_data"
    },
    {
     "name": "stdout",
     "output_type": "stream",
     "text": [
      "55.248000000000005 82.872\n"
     ]
    },
    {
     "data": {
      "image/png": "[encoded data removed]",
      "text/plain": [
       "<Figure size 432x288 with 1 Axes>"
      ]
     },
     "metadata": {
      "needs_background": "light"
     },
     "output_type": "display_data"
    },
    {
     "name": "stdout",
     "output_type": "stream",
     "text": [
      "55.248000000000005 82.872\n"
     ]
    },
    {
     "data": {
      "image/png": "[encoded data removed]",
      "text/plain": [
       "<Figure size 432x288 with 1 Axes>"
      ]
     },
     "metadata": {
      "needs_background": "light"
     },
     "output_type": "display_data"
    },
    {
     "name": "stdout",
     "output_type": "stream",
     "text": [
      "55.248000000000005 82.872\n"
     ]
    },
    {
     "data": {
      "image/png": "[encoded data removed]",
      "text/plain": [
       "<Figure size 432x288 with 1 Axes>"
      ]
     },
     "metadata": {
      "needs_background": "light"
     },
     "output_type": "display_data"
    },
    {
     "name": "stdout",
     "output_type": "stream",
     "text": [
      "55.248000000000005 82.872\n"
     ]
    },
    {
     "data": {
      "image/png": "[encoded data removed]",
      "text/plain": [
       "<Figure size 432x288 with 1 Axes>"
      ]
     },
     "metadata": {
      "needs_background": "light"
     },
     "output_type": "display_data"
    }
   ],
   "source": [
    "#40\n",
    "for i in range(24):\n",
    "    sub = df40.loc[index40[i]]\n",
    "    sub =sub[(sub['NewLocation'] == 'away') & (sub['NewOnScreen']=='true')]\n",
    "    plot_dots(sub, items[i], ss, nss, 0.4)\n",
    "    "
   ]
  },
  {
   "cell_type": "code",
   "execution_count": 88,
   "metadata": {},
   "outputs": [
    {
     "name": "stdout",
     "output_type": "stream",
     "text": [
      "58.701 79.419\n"
     ]
    },
    {
     "data": {
      "image/png": "[encoded data removed]",
      "text/plain": [
       "<Figure size 432x288 with 1 Axes>"
      ]
     },
     "metadata": {
      "needs_background": "light"
     },
     "output_type": "display_data"
    },
    {
     "name": "stdout",
     "output_type": "stream",
     "text": [
      "58.701 79.419\n"
     ]
    },
    {
     "data": {
      "image/png": "[encoded data removed]",
      "text/plain": [
       "<Figure size 432x288 with 1 Axes>"
      ]
     },
     "metadata": {
      "needs_background": "light"
     },
     "output_type": "display_data"
    },
    {
     "name": "stdout",
     "output_type": "stream",
     "text": [
      "58.701 79.419\n"
     ]
    },
    {
     "data": {
      "image/png": "[encoded data removed]",
      "text/plain": [
       "<Figure size 432x288 with 1 Axes>"
      ]
     },
     "metadata": {
      "needs_background": "light"
     },
     "output_type": "display_data"
    },
    {
     "name": "stdout",
     "output_type": "stream",
     "text": [
      "58.701 79.419\n"
     ]
    },
    {
     "data": {
      "image/png": "[encoded data removed]",
      "text/plain": [
       "<Figure size 432x288 with 1 Axes>"
      ]
     },
     "metadata": {
      "needs_background": "light"
     },
     "output_type": "display_data"
    },
    {
     "name": "stdout",
     "output_type": "stream",
     "text": [
      "58.701 79.419\n"
     ]
    },
    {
     "data": {
      "image/png": "[encoded data removed]",
      "text/plain": [
       "<Figure size 432x288 with 1 Axes>"
      ]
     },
     "metadata": {
      "needs_background": "light"
     },
     "output_type": "display_data"
    },
    {
     "name": "stdout",
     "output_type": "stream",
     "text": [
      "58.701 79.419\n"
     ]
    },
    {
     "data": {
      "image/png": "[encoded data removed]",
      "text/plain": [
       "<Figure size 432x288 with 1 Axes>"
      ]
     },
     "metadata": {
      "needs_background": "light"
     },
     "output_type": "display_data"
    },
    {
     "name": "stdout",
     "output_type": "stream",
     "text": [
      "58.701 79.419\n"
     ]
    },
    {
     "data": {
      "image/png": "[encoded data removed]",
      "text/plain": [
       "<Figure size 432x288 with 1 Axes>"
      ]
     },
     "metadata": {
      "needs_background": "light"
     },
     "output_type": "display_data"
    },
    {
     "name": "stdout",
     "output_type": "stream",
     "text": [
      "58.701 79.419\n"
     ]
    },
    {
     "data": {
      "image/png": "[encoded data removed]",
      "text/plain": [
       "<Figure size 432x288 with 1 Axes>"
      ]
     },
     "metadata": {
      "needs_background": "light"
     },
     "output_type": "display_data"
    },
    {
     "name": "stdout",
     "output_type": "stream",
     "text": [
      "58.701 79.419\n"
     ]
    },
    {
     "data": {
      "image/png": "[encoded data removed]",
      "text/plain": [
       "<Figure size 432x288 with 1 Axes>"
      ]
     },
     "metadata": {
      "needs_background": "light"
     },
     "output_type": "display_data"
    },
    {
     "name": "stdout",
     "output_type": "stream",
     "text": [
      "58.701 79.419\n"
     ]
    },
    {
     "data": {
      "image/png": "[encoded data removed]",
      "text/plain": [
       "<Figure size 432x288 with 1 Axes>"
      ]
     },
     "metadata": {
      "needs_background": "light"
     },
     "output_type": "display_data"
    },
    {
     "name": "stdout",
     "output_type": "stream",
     "text": [
      "58.701 79.419\n"
     ]
    },
    {
     "data": {
      "image/png": "[encoded data removed]",
      "text/plain": [
       "<Figure size 432x288 with 1 Axes>"
      ]
     },
     "metadata": {
      "needs_background": "light"
     },
     "output_type": "display_data"
    },
    {
     "name": "stdout",
     "output_type": "stream",
     "text": [
      "58.701 79.419\n"
     ]
    },
    {
     "data": {
      "image/png": "[encoded data removed]",
      "text/plain": [
       "<Figure size 432x288 with 1 Axes>"
      ]
     },
     "metadata": {
      "needs_background": "light"
     },
     "output_type": "display_data"
    },
    {
     "name": "stdout",
     "output_type": "stream",
     "text": [
      "58.701 79.419\n"
     ]
    },
    {
     "data": {
      "image/png": "[encoded data removed]",
      "text/plain": [
       "<Figure size 432x288 with 1 Axes>"
      ]
     },
     "metadata": {
      "needs_background": "light"
     },
     "output_type": "display_data"
    },
    {
     "name": "stdout",
     "output_type": "stream",
     "text": [
      "58.701 79.419\n"
     ]
    },
    {
     "data": {
      "image/png": "[encoded data removed]",
      "text/plain": [
       "<Figure size 432x288 with 1 Axes>"
      ]
     },
     "metadata": {
      "needs_background": "light"
     },
     "output_type": "display_data"
    },
    {
     "name": "stdout",
     "output_type": "stream",
     "text": [
      "58.701 79.419\n"
     ]
    },
    {
     "data": {
      "image/png": "[encoded data removed]",
      "text/plain": [
       "<Figure size 432x288 with 1 Axes>"
      ]
     },
     "metadata": {
      "needs_background": "light"
     },
     "output_type": "display_data"
    },
    {
     "name": "stdout",
     "output_type": "stream",
     "text": [
      "58.701 79.419\n"
     ]
    },
    {
     "data": {
      "image/png": "[encoded data removed]",
      "text/plain": [
       "<Figure size 432x288 with 1 Axes>"
      ]
     },
     "metadata": {
      "needs_background": "light"
     },
     "output_type": "display_data"
    },
    {
     "name": "stdout",
     "output_type": "stream",
     "text": [
      "58.701 79.419\n"
     ]
    },
    {
     "data": {
      "image/png": "[encoded data removed]",
      "text/plain": [
       "<Figure size 432x288 with 1 Axes>"
      ]
     },
     "metadata": {
      "needs_background": "light"
     },
     "output_type": "display_data"
    },
    {
     "name": "stdout",
     "output_type": "stream",
     "text": [
      "58.701 79.419\n"
     ]
    },
    {
     "data": {
      "image/png": "[encoded data removed]",
      "text/plain": [
       "<Figure size 432x288 with 1 Axes>"
      ]
     },
     "metadata": {
      "needs_background": "light"
     },
     "output_type": "display_data"
    },
    {
     "name": "stdout",
     "output_type": "stream",
     "text": [
      "58.701 79.419\n"
     ]
    },
    {
     "data": {
      "image/png": "[encoded data removed]",
      "text/plain": [
       "<Figure size 432x288 with 1 Axes>"
      ]
     },
     "metadata": {
      "needs_background": "light"
     },
     "output_type": "display_data"
    },
    {
     "name": "stdout",
     "output_type": "stream",
     "text": [
      "58.701 79.419\n"
     ]
    },
    {
     "data": {
      "image/png": "[encoded data removed]",
      "text/plain": [
       "<Figure size 432x288 with 1 Axes>"
      ]
     },
     "metadata": {
      "needs_background": "light"
     },
     "output_type": "display_data"
    },
    {
     "name": "stdout",
     "output_type": "stream",
     "text": [
      "58.701 79.419\n"
     ]
    },
    {
     "data": {
      "image/png": "[encoded data removed]",
      "text/plain": [
       "<Figure size 432x288 with 1 Axes>"
      ]
     },
     "metadata": {
      "needs_background": "light"
     },
     "output_type": "display_data"
    },
    {
     "name": "stdout",
     "output_type": "stream",
     "text": [
      "58.701 79.419\n"
     ]
    },
    {
     "data": {
      "image/png": "[encoded data removed]",
      "text/plain": [
       "<Figure size 432x288 with 1 Axes>"
      ]
     },
     "metadata": {
      "needs_background": "light"
     },
     "output_type": "display_data"
    },
    {
     "name": "stdout",
     "output_type": "stream",
     "text": [
      "58.701 79.419\n"
     ]
    },
    {
     "data": {
      "image/png": "[encoded data removed]",
      "text/plain": [
       "<Figure size 432x288 with 1 Axes>"
      ]
     },
     "metadata": {
      "needs_background": "light"
     },
     "output_type": "display_data"
    },
    {
     "name": "stdout",
     "output_type": "stream",
     "text": [
      "58.701 79.419\n"
     ]
    },
    {
     "data": {
      "image/png": "[encoded data removed]",
      "text/plain": [
       "<Figure size 432x288 with 1 Axes>"
      ]
     },
     "metadata": {
      "needs_background": "light"
     },
     "output_type": "display_data"
    }
   ],
   "source": [
    "#425\n",
    "\n",
    "for i in range(24):\n",
    "    sub = df425.loc[index425[i]]\n",
    "    sub =sub[(sub['NewLocation'] == 'away') & (sub['NewOnScreen']=='true')]\n",
    "    plot_dots(sub, items[i], ss, nss425, 0.425)    \n",
    "    "
   ]
  },
  {
   "cell_type": "code",
   "execution_count": 89,
   "metadata": {},
   "outputs": [
    {
     "name": "stdout",
     "output_type": "stream",
     "text": [
      "62.154 75.96600000000001\n"
     ]
    },
    {
     "data": {
      "image/png": "[encoded data removed]",
      "text/plain": [
       "<Figure size 432x288 with 1 Axes>"
      ]
     },
     "metadata": {
      "needs_background": "light"
     },
     "output_type": "display_data"
    },
    {
     "name": "stdout",
     "output_type": "stream",
     "text": [
      "62.154 75.96600000000001\n"
     ]
    },
    {
     "data": {
      "image/png": "[encoded data removed]",
      "text/plain": [
       "<Figure size 432x288 with 1 Axes>"
      ]
     },
     "metadata": {
      "needs_background": "light"
     },
     "output_type": "display_data"
    },
    {
     "name": "stdout",
     "output_type": "stream",
     "text": [
      "62.154 75.96600000000001\n"
     ]
    },
    {
     "data": {
      "image/png": "[encoded data removed]",
      "text/plain": [
       "<Figure size 432x288 with 1 Axes>"
      ]
     },
     "metadata": {
      "needs_background": "light"
     },
     "output_type": "display_data"
    },
    {
     "name": "stdout",
     "output_type": "stream",
     "text": [
      "62.154 75.96600000000001\n"
     ]
    },
    {
     "data": {
      "image/png": "[encoded data removed]",
      "text/plain": [
       "<Figure size 432x288 with 1 Axes>"
      ]
     },
     "metadata": {
      "needs_background": "light"
     },
     "output_type": "display_data"
    },
    {
     "name": "stdout",
     "output_type": "stream",
     "text": [
      "62.154 75.96600000000001\n"
     ]
    },
    {
     "data": {
      "image/png": "[encoded data removed]",
      "text/plain": [
       "<Figure size 432x288 with 1 Axes>"
      ]
     },
     "metadata": {
      "needs_background": "light"
     },
     "output_type": "display_data"
    },
    {
     "name": "stdout",
     "output_type": "stream",
     "text": [
      "62.154 75.96600000000001\n"
     ]
    },
    {
     "data": {
      "image/png": "[encoded data removed]",
      "text/plain": [
       "<Figure size 432x288 with 1 Axes>"
      ]
     },
     "metadata": {
      "needs_background": "light"
     },
     "output_type": "display_data"
    },
    {
     "name": "stdout",
     "output_type": "stream",
     "text": [
      "62.154 75.96600000000001\n"
     ]
    },
    {
     "data": {
      "image/png": "[encoded data removed]",
      "text/plain": [
       "<Figure size 432x288 with 1 Axes>"
      ]
     },
     "metadata": {
      "needs_background": "light"
     },
     "output_type": "display_data"
    },
    {
     "name": "stdout",
     "output_type": "stream",
     "text": [
      "62.154 75.96600000000001\n"
     ]
    },
    {
     "data": {
      "image/png": "[encoded data removed]",
      "text/plain": [
       "<Figure size 432x288 with 1 Axes>"
      ]
     },
     "metadata": {
      "needs_background": "light"
     },
     "output_type": "display_data"
    },
    {
     "name": "stdout",
     "output_type": "stream",
     "text": [
      "62.154 75.96600000000001\n"
     ]
    },
    {
     "data": {
      "image/png": "[encoded data removed]",
      "text/plain": [
       "<Figure size 432x288 with 1 Axes>"
      ]
     },
     "metadata": {
      "needs_background": "light"
     },
     "output_type": "display_data"
    },
    {
     "name": "stdout",
     "output_type": "stream",
     "text": [
      "62.154 75.96600000000001\n"
     ]
    },
    {
     "data": {
      "image/png": "[encoded data removed]",
      "text/plain": [
       "<Figure size 432x288 with 1 Axes>"
      ]
     },
     "metadata": {
      "needs_background": "light"
     },
     "output_type": "display_data"
    },
    {
     "name": "stdout",
     "output_type": "stream",
     "text": [
      "62.154 75.96600000000001\n"
     ]
    },
    {
     "data": {
      "image/png": "[encoded data removed]",
      "text/plain": [
       "<Figure size 432x288 with 1 Axes>"
      ]
     },
     "metadata": {
      "needs_background": "light"
     },
     "output_type": "display_data"
    },
    {
     "name": "stdout",
     "output_type": "stream",
     "text": [
      "62.154 75.96600000000001\n"
     ]
    },
    {
     "data": {
      "image/png": "[encoded data removed]",
      "text/plain": [
       "<Figure size 432x288 with 1 Axes>"
      ]
     },
     "metadata": {
      "needs_background": "light"
     },
     "output_type": "display_data"
    },
    {
     "name": "stdout",
     "output_type": "stream",
     "text": [
      "62.154 75.96600000000001\n"
     ]
    },
    {
     "data": {
      "image/png": "[encoded data removed]",
      "text/plain": [
       "<Figure size 432x288 with 1 Axes>"
      ]
     },
     "metadata": {
      "needs_background": "light"
     },
     "output_type": "display_data"
    },
    {
     "name": "stdout",
     "output_type": "stream",
     "text": [
      "62.154 75.96600000000001\n"
     ]
    },
    {
     "data": {
      "image/png": "[encoded data removed]",
      "text/plain": [
       "<Figure size 432x288 with 1 Axes>"
      ]
     },
     "metadata": {
      "needs_background": "light"
     },
     "output_type": "display_data"
    },
    {
     "name": "stdout",
     "output_type": "stream",
     "text": [
      "62.154 75.96600000000001\n"
     ]
    },
    {
     "data": {
      "image/png": "[encoded data removed]",
      "text/plain": [
       "<Figure size 432x288 with 1 Axes>"
      ]
     },
     "metadata": {
      "needs_background": "light"
     },
     "output_type": "display_data"
    },
    {
     "name": "stdout",
     "output_type": "stream",
     "text": [
      "62.154 75.96600000000001\n"
     ]
    },
    {
     "data": {
      "image/png": "[encoded data removed]",
      "text/plain": [
       "<Figure size 432x288 with 1 Axes>"
      ]
     },
     "metadata": {
      "needs_background": "light"
     },
     "output_type": "display_data"
    },
    {
     "name": "stdout",
     "output_type": "stream",
     "text": [
      "62.154 75.96600000000001\n"
     ]
    },
    {
     "data": {
      "image/png": "[encoded data removed]",
      "text/plain": [
       "<Figure size 432x288 with 1 Axes>"
      ]
     },
     "metadata": {
      "needs_background": "light"
     },
     "output_type": "display_data"
    },
    {
     "name": "stdout",
     "output_type": "stream",
     "text": [
      "62.154 75.96600000000001\n"
     ]
    },
    {
     "data": {
      "image/png": "[encoded data removed]",
      "text/plain": [
       "<Figure size 432x288 with 1 Axes>"
      ]
     },
     "metadata": {
      "needs_background": "light"
     },
     "output_type": "display_data"
    },
    {
     "name": "stdout",
     "output_type": "stream",
     "text": [
      "62.154 75.96600000000001\n"
     ]
    },
    {
     "data": {
      "image/png": "[encoded data removed]",
      "text/plain": [
       "<Figure size 432x288 with 1 Axes>"
      ]
     },
     "metadata": {
      "needs_background": "light"
     },
     "output_type": "display_data"
    },
    {
     "name": "stdout",
     "output_type": "stream",
     "text": [
      "62.154 75.96600000000001\n"
     ]
    },
    {
     "data": {
      "image/png": "[encoded data removed]",
      "text/plain": [
       "<Figure size 432x288 with 1 Axes>"
      ]
     },
     "metadata": {
      "needs_background": "light"
     },
     "output_type": "display_data"
    },
    {
     "name": "stdout",
     "output_type": "stream",
     "text": [
      "62.154 75.96600000000001\n"
     ]
    },
    {
     "data": {
      "image/png": "[encoded data removed]",
      "text/plain": [
       "<Figure size 432x288 with 1 Axes>"
      ]
     },
     "metadata": {
      "needs_background": "light"
     },
     "output_type": "display_data"
    },
    {
     "name": "stdout",
     "output_type": "stream",
     "text": [
      "62.154 75.96600000000001\n"
     ]
    },
    {
     "data": {
      "image/png": "[encoded data removed]",
      "text/plain": [
       "<Figure size 432x288 with 1 Axes>"
      ]
     },
     "metadata": {
      "needs_background": "light"
     },
     "output_type": "display_data"
    },
    {
     "name": "stdout",
     "output_type": "stream",
     "text": [
      "62.154 75.96600000000001\n"
     ]
    },
    {
     "data": {
      "image/png": "[encoded data removed]",
      "text/plain": [
       "<Figure size 432x288 with 1 Axes>"
      ]
     },
     "metadata": {
      "needs_background": "light"
     },
     "output_type": "display_data"
    },
    {
     "name": "stdout",
     "output_type": "stream",
     "text": [
      "62.154 75.96600000000001\n"
     ]
    },
    {
     "data": {
      "image/png": "[encoded data removed]",
      "text/plain": [
       "<Figure size 432x288 with 1 Axes>"
      ]
     },
     "metadata": {
      "needs_background": "light"
     },
     "output_type": "display_data"
    }
   ],
   "source": [
    "#45\n",
    "for i in range(24):\n",
    "    sub = df45.loc[index45[i]]\n",
    "    sub =sub[(sub['NewLocation'] == 'away') & (sub['NewOnScreen']=='true')]\n",
    "    plot_dots(sub, items[i], ss, nss45, 0.45)"
   ]
  },
  {
   "cell_type": "markdown",
   "metadata": {},
   "source": [
    "# Chi-square test of independence of variables in a contingency table. (for references)"
   ]
  },
  {
   "cell_type": "code",
   "execution_count": 75,
   "metadata": {},
   "outputs": [],
   "source": [
    "exp = pd.read_csv('C:/Users/tsb7592/Box/Baby Toolbox Operations/Analysis/count.csv')"
   ]
  },
  {
   "cell_type": "code",
   "execution_count": 76,
   "metadata": {},
   "outputs": [],
   "source": [
    "#Getting the tsv counts \n",
    "exp =exp.iloc[:,:4]"
   ]
  },
  {
   "cell_type": "code",
   "execution_count": 77,
   "metadata": {},
   "outputs": [],
   "source": [
    "l1 =new40.to_numpy()\n",
    "l2= exp.to_numpy()"
   ]
  },
  {
   "cell_type": "code",
   "execution_count": 78,
   "metadata": {},
   "outputs": [
    {
     "data": {
      "text/plain": [
       "array([[541., 341.,  95.,  65.],\n",
       "       [176., 761.,   0.,  23.],\n",
       "       [497., 314.,  20., 130.],\n",
       "       [793., 129.,  48.,  71.],\n",
       "       [357., 435.,  40., 128.],\n",
       "       [471., 201., 151., 218.],\n",
       "       [274., 594.,  91.,  81.],\n",
       "       [600., 230.,  14., 117.],\n",
       "       [353., 489.,  29.,  89.],\n",
       "       [538., 198.,  11., 214.],\n",
       "       [176., 824.,   0.,  41.],\n",
       "       [381., 440.,  40., 180.],\n",
       "       [681., 318.,  14.,  28.],\n",
       "       [308., 483., 139., 110.],\n",
       "       [706., 244.,  62.,  29.],\n",
       "       [837.,  63.,   7.,  53.],\n",
       "       [645., 289.,   0.,  28.],\n",
       "       [673., 329.,  17.,  21.],\n",
       "       [768., 194.,  26.,  52.],\n",
       "       [461., 364.,   6., 130.],\n",
       "       [543., 475.,   0.,  22.],\n",
       "       [285., 619.,  56.,  80.],\n",
       "       [336., 330.,  29., 265.],\n",
       "       [725.,  70.,  27., 140.]])"
      ]
     },
     "execution_count": 78,
     "metadata": {},
     "output_type": "execute_result"
    }
   ],
   "source": [
    "l2"
   ]
  },
  {
   "cell_type": "code",
   "execution_count": 79,
   "metadata": {},
   "outputs": [
    {
     "name": "stdout",
     "output_type": "stream",
     "text": [
      "Shoulder_Hose_G5\n",
      "probability=0.950, critical=7.815, stat=285.861\n",
      "Dependent (reject H0)\n",
      "significance=0.050, p=0.000\n",
      "Dependent (reject H0)\n",
      "\n",
      "Ladder_Melon_G5\n",
      "probability=0.950, critical=7.815, stat=289.496\n",
      "Dependent (reject H0)\n",
      "significance=0.050, p=0.000\n",
      "Dependent (reject H0)\n",
      "\n",
      "Rooster_Playground_G5\n",
      "probability=0.950, critical=7.815, stat=209.598\n",
      "Dependent (reject H0)\n",
      "significance=0.050, p=0.000\n",
      "Dependent (reject H0)\n",
      "\n",
      "Tricycle_Sneaker_G5\n",
      "probability=0.950, critical=7.815, stat=336.377\n",
      "Dependent (reject H0)\n",
      "significance=0.050, p=0.000\n",
      "Dependent (reject H0)\n",
      "\n",
      "Hose_Shoulder_G5\n",
      "probability=0.950, critical=7.815, stat=142.666\n",
      "Dependent (reject H0)\n",
      "significance=0.050, p=0.000\n",
      "Dependent (reject H0)\n",
      "\n",
      "Melon_Ladder_G5\n",
      "probability=0.950, critical=7.815, stat=74.425\n",
      "Dependent (reject H0)\n",
      "significance=0.050, p=0.000\n",
      "Dependent (reject H0)\n",
      "\n",
      "Playground_Rooster_G5\n",
      "probability=0.950, critical=7.815, stat=245.424\n",
      "Dependent (reject H0)\n",
      "significance=0.050, p=0.000\n",
      "Dependent (reject H0)\n",
      "\n",
      "Sneaker_Tricycle_G5\n",
      "probability=0.950, critical=7.815, stat=168.342\n",
      "Dependent (reject H0)\n",
      "significance=0.050, p=0.000\n",
      "Dependent (reject H0)\n",
      "\n",
      "Star_Moose_G6\n",
      "probability=0.950, critical=7.815, stat=142.079\n",
      "Dependent (reject H0)\n",
      "significance=0.050, p=0.000\n",
      "Dependent (reject H0)\n",
      "\n",
      "Turtle_Hammer_G6\n",
      "probability=0.950, critical=7.815, stat=90.924\n",
      "Dependent (reject H0)\n",
      "significance=0.050, p=0.000\n",
      "Dependent (reject H0)\n",
      "\n",
      "Cake_Bee_G6\n",
      "probability=0.950, critical=7.815, stat=345.904\n",
      "Dependent (reject H0)\n",
      "significance=0.050, p=0.000\n",
      "Dependent (reject H0)\n",
      "\n",
      "Lamp_Stove_G6\n",
      "probability=0.950, critical=7.815, stat=138.359\n",
      "Dependent (reject H0)\n",
      "significance=0.050, p=0.000\n",
      "Dependent (reject H0)\n",
      "\n",
      "Moose_Star_G6\n",
      "probability=0.950, critical=7.815, stat=78.837\n",
      "Dependent (reject H0)\n",
      "significance=0.050, p=0.000\n",
      "Dependent (reject H0)\n",
      "\n",
      "Hammer_Turtle_G6\n",
      "probability=0.950, critical=7.815, stat=292.329\n",
      "Dependent (reject H0)\n",
      "significance=0.050, p=0.000\n",
      "Dependent (reject H0)\n",
      "\n",
      "Bee_Cake_G6\n",
      "probability=0.950, critical=7.815, stat=153.192\n",
      "Dependent (reject H0)\n",
      "significance=0.050, p=0.000\n",
      "Dependent (reject H0)\n",
      "\n",
      "Stove_Lamp_G6\n",
      "probability=0.950, critical=7.815, stat=204.420\n",
      "Dependent (reject H0)\n",
      "significance=0.050, p=0.000\n",
      "Dependent (reject H0)\n",
      "\n",
      "Garden_Sweater_G7\n",
      "probability=0.950, critical=7.815, stat=73.338\n",
      "Dependent (reject H0)\n",
      "significance=0.050, p=0.000\n",
      "Dependent (reject H0)\n",
      "\n",
      "Ankle_Scissors_G7\n",
      "probability=0.950, critical=7.815, stat=86.232\n",
      "Dependent (reject H0)\n",
      "significance=0.050, p=0.000\n",
      "Dependent (reject H0)\n",
      "\n",
      "Woods_Tray_G7\n",
      "probability=0.950, critical=7.815, stat=99.951\n",
      "Dependent (reject H0)\n",
      "significance=0.050, p=0.000\n",
      "Dependent (reject H0)\n",
      "\n",
      "Bench_Rip_G7\n",
      "probability=0.950, critical=7.815, stat=145.777\n",
      "Dependent (reject H0)\n",
      "significance=0.050, p=0.000\n",
      "Dependent (reject H0)\n",
      "\n",
      "Sweater_Garden_G7\n",
      "probability=0.950, critical=7.815, stat=76.499\n",
      "Dependent (reject H0)\n",
      "significance=0.050, p=0.000\n",
      "Dependent (reject H0)\n",
      "\n",
      "Scissors_Ankle_G7\n",
      "probability=0.950, critical=7.815, stat=132.716\n",
      "Dependent (reject H0)\n",
      "significance=0.050, p=0.000\n",
      "Dependent (reject H0)\n",
      "\n",
      "Tray_Woods_G7\n",
      "probability=0.950, critical=7.815, stat=147.155\n",
      "Dependent (reject H0)\n",
      "significance=0.050, p=0.000\n",
      "Dependent (reject H0)\n",
      "\n",
      "Rip_Bench_G7\n",
      "probability=0.950, critical=7.815, stat=227.684\n",
      "Dependent (reject H0)\n",
      "significance=0.050, p=0.000\n",
      "Dependent (reject H0)\n",
      "\n"
     ]
    }
   ],
   "source": [
    "import scipy.stats as stats\n",
    "from scipy.stats import chi2_contingency\n",
    "from scipy.stats import chi2\n",
    "\n",
    "for i in range(24):\n",
    "    data = [l1[i], l2[2]]\n",
    "    \n",
    "    stat, p, dof, expected = chi2_contingency(data)\n",
    "    print(items[i])\n",
    "    \n",
    "    # interpret test-statistic\n",
    "    prob = 0.95\n",
    "    critical = chi2.ppf(prob, dof)\n",
    "    print('probability=%.3f, critical=%.3f, stat=%.3f' % (prob, critical, stat))\n",
    "    if abs(stat) >= critical:\n",
    "        print('Dependent (reject H0)')\n",
    "    else:\n",
    "        print('Independent (fail to reject H0)')\n",
    "\n",
    "    # interpret p-value\n",
    "    alpha = 1.0 - prob\n",
    "    print('significance=%.3f, p=%.3f' % (alpha, p))\n",
    "    if p <= alpha:\n",
    "        print('Dependent (reject H0)')\n",
    "    else:\n",
    "        print('Independent (fail to reject H0)')\n",
    "    print('')"
   ]
  },
  {
   "cell_type": "code",
   "execution_count": null,
   "metadata": {
    "scrolled": true
   },
   "outputs": [],
   "source": [
    "from scipy.stats import chisquare\n",
    "chisq = pd.DataFrame(columns=('items', 'stat','p'))\n",
    "for i in range(24):\n",
    "    ob = obs.iloc[i]\n",
    "    ex = expected.iloc[i]\n",
    "    stat, pv = chisquare(f_obs=ob, f_exp=ex)\n",
    "    chisq.loc[i] = [items[i], round(stat,3) ,round(pv,3)]\n"
   ]
  },
  {
   "cell_type": "code",
   "execution_count": null,
   "metadata": {},
   "outputs": [],
   "source": [
    "chisq.to_csv('C:/Users/TEMP/Box/Baby Toolbox Operations/Analysis/chisquare.csv', index=False)"
   ]
  }
 ],
 "metadata": {
  "colab": {
   "collapsed_sections": [],
   "name": "gaze.ipynb",
   "provenance": []
  },
  "kernelspec": {
   "display_name": "Python 3",
   "language": "python",
   "name": "python3"
  },
  "language_info": {
   "codemirror_mode": {
    "name": "ipython",
    "version": 3
   },
   "file_extension": ".py",
   "mimetype": "text/x-python",
   "name": "python",
   "nbconvert_exporter": "python",
   "pygments_lexer": "ipython3",
   "version": "3.8.8"
  }
 },
 "nbformat": 4,
 "nbformat_minor": 1
}
