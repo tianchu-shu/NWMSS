{
 "cells": [
  {
   "cell_type": "code",
   "execution_count": 353,
   "metadata": {
    "id": "SPKdLsF0Rg36"
   },
   "outputs": [],
   "source": [
    "#Data saved in csv/excel\n",
    "import glob, os\n",
    "import pandas as pd\n",
    "\n",
    "data_dir=\"C:/Users/tsb7592/Box/Avera NIHTB Data\"\n",
    "os.chdir(data_dir)"
   ]
  },
  {
   "cell_type": "code",
   "execution_count": 354,
   "metadata": {},
   "outputs": [],
   "source": [
    "import sys \n",
    "\n",
    "stdoutOrigin=sys.stdout \n",
    "sys.stdout = open(\"stat_output.txt\", \"w\")"
   ]
  },
  {
   "cell_type": "markdown",
   "metadata": {
    "id": "Ryp-FuHZLWyT"
   },
   "source": [
    "# Compute the Total response time in minutes"
   ]
  },
  {
   "cell_type": "code",
   "execution_count": 355,
   "metadata": {
    "colab": {
     "base_uri": "https://localhost:8080/"
    },
    "id": "yonYmaEjXXnY",
    "outputId": "56b987c9-fff8-44b1-cb71-e06c5e7135c9"
   },
   "outputs": [],
   "source": [
    "# get all files from all RC In-person subdirectories\n",
    "\n",
    "all_files = glob.glob('C:/Users/tsb7592/Box/Avera NIHTB Data/Rapid City/*/In Person/*CB_Data.csv')\n",
    "\n",
    "doc =[]\n",
    "for file in all_files:\n",
    "  data = pd.read_csv(file)\n",
    "  doc.append(data)\n",
    "\n",
    "# get all files from all SF\n",
    "all_files = glob.glob('C:/Users/tsb7592/Box/Avera NIHTB Data/Sioux Falls/*/In Person/*CB_Data.csv')\n",
    "for file in all_files:\n",
    "  data = pd.read_csv(file)\n",
    "  doc.append(data)\n",
    "\n",
    "all_files = glob.glob('C:/Users/tsb7592/Box/Avera NIHTB Data/Sioux Falls/*/In Person/*PVT_Data.csv')\n",
    "sep= []\n",
    "for file in all_files:\n",
    "  data = pd.read_csv(file)\n",
    "  if data.shape[1]!= 11:\n",
    "    doc.append(data)\n",
    "\n",
    "  else:\n",
    "    sep.append(data)\n",
    "df = pd.concat(doc)"
   ]
  },
  {
   "cell_type": "code",
   "execution_count": 356,
   "metadata": {
    "id": "hv9LEGi0fkbN"
   },
   "outputs": [],
   "source": [
    "sdf = pd.concat(sep)"
   ]
  },
  {
   "cell_type": "code",
   "execution_count": 357,
   "metadata": {
    "colab": {
     "base_uri": "https://localhost:8080/"
    },
    "id": "PgrHHaJtgcyq",
    "outputId": "5cc3260d-003f-43c4-d83c-3493c4da7914"
   },
   "outputs": [
    {
     "data": {
      "text/plain": [
       "(1209, 11)"
      ]
     },
     "execution_count": 357,
     "metadata": {},
     "output_type": "execute_result"
    }
   ],
   "source": [
    "sdf.shape"
   ]
  },
  {
   "cell_type": "code",
   "execution_count": 358,
   "metadata": {
    "colab": {
     "base_uri": "https://localhost:8080/",
     "height": 666
    },
    "id": "pMEIOTwTin-_",
    "outputId": "3773d420-bccb-45ff-b95a-36dbde272331"
   },
   "outputs": [
    {
     "data": {
      "text/html": [
       "<div>\n",
       "<style scoped>\n",
       "    .dataframe tbody tr th:only-of-type {\n",
       "        vertical-align: middle;\n",
       "    }\n",
       "\n",
       "    .dataframe tbody tr th {\n",
       "        vertical-align: top;\n",
       "    }\n",
       "\n",
       "    .dataframe thead th {\n",
       "        text-align: right;\n",
       "    }\n",
       "</style>\n",
       "<table border=\"1\" class=\"dataframe\">\n",
       "  <thead>\n",
       "    <tr style=\"text-align: right;\">\n",
       "      <th></th>\n",
       "      <th>PIN</th>\n",
       "      <th>DeviceID</th>\n",
       "      <th>Assessment Name</th>\n",
       "      <th>InstOrdr</th>\n",
       "      <th>InstSctn</th>\n",
       "      <th>ItmOrdr</th>\n",
       "      <th>Inst</th>\n",
       "      <th>Locale</th>\n",
       "      <th>ItemID</th>\n",
       "      <th>Response</th>\n",
       "      <th>...</th>\n",
       "      <th>SE</th>\n",
       "      <th>DataType</th>\n",
       "      <th>Position</th>\n",
       "      <th>ResponseTime</th>\n",
       "      <th>DateCreated</th>\n",
       "      <th>InstStarted</th>\n",
       "      <th>InstEnded</th>\n",
       "      <th>App Version</th>\n",
       "      <th>iPad Version</th>\n",
       "      <th>Firmware Version</th>\n",
       "    </tr>\n",
       "  </thead>\n",
       "  <tbody>\n",
       "    <tr>\n",
       "      <th>0</th>\n",
       "      <td>210330_EPRC_00032_A_8Y</td>\n",
       "      <td>DB9A19BF-F81C-4244-9C7F-D0BB4A39D394</td>\n",
       "      <td>Assessment 1</td>\n",
       "      <td>1</td>\n",
       "      <td>1</td>\n",
       "      <td>1</td>\n",
       "      <td>NIH Toolbox Picture Vocabulary Test Age 3+ Pra...</td>\n",
       "      <td>en-US</td>\n",
       "      <td>VOCAB_INTRO</td>\n",
       "      <td>NaN</td>\n",
       "      <td>...</td>\n",
       "      <td>NaN</td>\n",
       "      <td>informational</td>\n",
       "      <td>NaN</td>\n",
       "      <td>NaN</td>\n",
       "      <td>2021-03-30 09:43:19</td>\n",
       "      <td>2021-03-30 09:43:16</td>\n",
       "      <td>2021-03-30 09:44:46</td>\n",
       "      <td>1.23.4300</td>\n",
       "      <td>iPad Pro 1st Gen (10.5-inch) / iPad7,3</td>\n",
       "      <td>14.4.1</td>\n",
       "    </tr>\n",
       "    <tr>\n",
       "      <th>1</th>\n",
       "      <td>210330_EPRC_00032_A_8Y</td>\n",
       "      <td>DB9A19BF-F81C-4244-9C7F-D0BB4A39D394</td>\n",
       "      <td>Assessment 1</td>\n",
       "      <td>1</td>\n",
       "      <td>1</td>\n",
       "      <td>2</td>\n",
       "      <td>NIH Toolbox Picture Vocabulary Test Age 3+ Pra...</td>\n",
       "      <td>en-US</td>\n",
       "      <td>VOCAB_INSTR1</td>\n",
       "      <td>NaN</td>\n",
       "      <td>...</td>\n",
       "      <td>NaN</td>\n",
       "      <td>informational</td>\n",
       "      <td>NaN</td>\n",
       "      <td>NaN</td>\n",
       "      <td>2021-03-30 09:44:10</td>\n",
       "      <td>2021-03-30 09:43:16</td>\n",
       "      <td>2021-03-30 09:44:46</td>\n",
       "      <td>1.23.4300</td>\n",
       "      <td>iPad Pro 1st Gen (10.5-inch) / iPad7,3</td>\n",
       "      <td>14.4.1</td>\n",
       "    </tr>\n",
       "    <tr>\n",
       "      <th>2</th>\n",
       "      <td>210330_EPRC_00032_A_8Y</td>\n",
       "      <td>DB9A19BF-F81C-4244-9C7F-D0BB4A39D394</td>\n",
       "      <td>Assessment 1</td>\n",
       "      <td>1</td>\n",
       "      <td>1</td>\n",
       "      <td>3</td>\n",
       "      <td>NIH Toolbox Picture Vocabulary Test Age 3+ Pra...</td>\n",
       "      <td>en-US</td>\n",
       "      <td>VOCAB_PRACT1</td>\n",
       "      <td>4</td>\n",
       "      <td>...</td>\n",
       "      <td>NaN</td>\n",
       "      <td>integer</td>\n",
       "      <td>1.0</td>\n",
       "      <td>6.432752</td>\n",
       "      <td>2021-03-30 09:44:17</td>\n",
       "      <td>2021-03-30 09:43:16</td>\n",
       "      <td>2021-03-30 09:44:46</td>\n",
       "      <td>1.23.4300</td>\n",
       "      <td>iPad Pro 1st Gen (10.5-inch) / iPad7,3</td>\n",
       "      <td>14.4.1</td>\n",
       "    </tr>\n",
       "    <tr>\n",
       "      <th>3</th>\n",
       "      <td>210330_EPRC_00032_A_8Y</td>\n",
       "      <td>DB9A19BF-F81C-4244-9C7F-D0BB4A39D394</td>\n",
       "      <td>Assessment 1</td>\n",
       "      <td>1</td>\n",
       "      <td>1</td>\n",
       "      <td>4</td>\n",
       "      <td>NIH Toolbox Picture Vocabulary Test Age 3+ Pra...</td>\n",
       "      <td>en-US</td>\n",
       "      <td>VOCAB_PRACT2</td>\n",
       "      <td>3</td>\n",
       "      <td>...</td>\n",
       "      <td>NaN</td>\n",
       "      <td>integer</td>\n",
       "      <td>2.0</td>\n",
       "      <td>6.050304</td>\n",
       "      <td>2021-03-30 09:44:24</td>\n",
       "      <td>2021-03-30 09:43:16</td>\n",
       "      <td>2021-03-30 09:44:46</td>\n",
       "      <td>1.23.4300</td>\n",
       "      <td>iPad Pro 1st Gen (10.5-inch) / iPad7,3</td>\n",
       "      <td>14.4.1</td>\n",
       "    </tr>\n",
       "    <tr>\n",
       "      <th>4</th>\n",
       "      <td>210330_EPRC_00032_A_8Y</td>\n",
       "      <td>DB9A19BF-F81C-4244-9C7F-D0BB4A39D394</td>\n",
       "      <td>Assessment 1</td>\n",
       "      <td>1</td>\n",
       "      <td>1</td>\n",
       "      <td>5</td>\n",
       "      <td>NIH Toolbox Picture Vocabulary Test Age 3+ Pra...</td>\n",
       "      <td>en-US</td>\n",
       "      <td>VOCAB_INSTR2</td>\n",
       "      <td>NaN</td>\n",
       "      <td>...</td>\n",
       "      <td>NaN</td>\n",
       "      <td>informational</td>\n",
       "      <td>NaN</td>\n",
       "      <td>NaN</td>\n",
       "      <td>2021-03-30 09:44:46</td>\n",
       "      <td>2021-03-30 09:43:16</td>\n",
       "      <td>2021-03-30 09:44:46</td>\n",
       "      <td>1.23.4300</td>\n",
       "      <td>iPad Pro 1st Gen (10.5-inch) / iPad7,3</td>\n",
       "      <td>14.4.1</td>\n",
       "    </tr>\n",
       "  </tbody>\n",
       "</table>\n",
       "<p>5 rows × 23 columns</p>\n",
       "</div>"
      ],
      "text/plain": [
       "                      PIN                              DeviceID  \\\n",
       "0  210330_EPRC_00032_A_8Y  DB9A19BF-F81C-4244-9C7F-D0BB4A39D394   \n",
       "1  210330_EPRC_00032_A_8Y  DB9A19BF-F81C-4244-9C7F-D0BB4A39D394   \n",
       "2  210330_EPRC_00032_A_8Y  DB9A19BF-F81C-4244-9C7F-D0BB4A39D394   \n",
       "3  210330_EPRC_00032_A_8Y  DB9A19BF-F81C-4244-9C7F-D0BB4A39D394   \n",
       "4  210330_EPRC_00032_A_8Y  DB9A19BF-F81C-4244-9C7F-D0BB4A39D394   \n",
       "\n",
       "  Assessment Name  InstOrdr  InstSctn  ItmOrdr  \\\n",
       "0    Assessment 1         1         1        1   \n",
       "1    Assessment 1         1         1        2   \n",
       "2    Assessment 1         1         1        3   \n",
       "3    Assessment 1         1         1        4   \n",
       "4    Assessment 1         1         1        5   \n",
       "\n",
       "                                                Inst Locale        ItemID  \\\n",
       "0  NIH Toolbox Picture Vocabulary Test Age 3+ Pra...  en-US   VOCAB_INTRO   \n",
       "1  NIH Toolbox Picture Vocabulary Test Age 3+ Pra...  en-US  VOCAB_INSTR1   \n",
       "2  NIH Toolbox Picture Vocabulary Test Age 3+ Pra...  en-US  VOCAB_PRACT1   \n",
       "3  NIH Toolbox Picture Vocabulary Test Age 3+ Pra...  en-US  VOCAB_PRACT2   \n",
       "4  NIH Toolbox Picture Vocabulary Test Age 3+ Pra...  en-US  VOCAB_INSTR2   \n",
       "\n",
       "  Response  ...  SE       DataType  Position  ResponseTime  \\\n",
       "0      NaN  ... NaN  informational       NaN           NaN   \n",
       "1      NaN  ... NaN  informational       NaN           NaN   \n",
       "2        4  ... NaN        integer       1.0      6.432752   \n",
       "3        3  ... NaN        integer       2.0      6.050304   \n",
       "4      NaN  ... NaN  informational       NaN           NaN   \n",
       "\n",
       "           DateCreated          InstStarted            InstEnded App Version  \\\n",
       "0  2021-03-30 09:43:19  2021-03-30 09:43:16  2021-03-30 09:44:46   1.23.4300   \n",
       "1  2021-03-30 09:44:10  2021-03-30 09:43:16  2021-03-30 09:44:46   1.23.4300   \n",
       "2  2021-03-30 09:44:17  2021-03-30 09:43:16  2021-03-30 09:44:46   1.23.4300   \n",
       "3  2021-03-30 09:44:24  2021-03-30 09:43:16  2021-03-30 09:44:46   1.23.4300   \n",
       "4  2021-03-30 09:44:46  2021-03-30 09:43:16  2021-03-30 09:44:46   1.23.4300   \n",
       "\n",
       "                             iPad Version Firmware Version  \n",
       "0  iPad Pro 1st Gen (10.5-inch) / iPad7,3           14.4.1  \n",
       "1  iPad Pro 1st Gen (10.5-inch) / iPad7,3           14.4.1  \n",
       "2  iPad Pro 1st Gen (10.5-inch) / iPad7,3           14.4.1  \n",
       "3  iPad Pro 1st Gen (10.5-inch) / iPad7,3           14.4.1  \n",
       "4  iPad Pro 1st Gen (10.5-inch) / iPad7,3           14.4.1  \n",
       "\n",
       "[5 rows x 23 columns]"
      ]
     },
     "execution_count": 358,
     "metadata": {},
     "output_type": "execute_result"
    }
   ],
   "source": [
    "df.head()"
   ]
  },
  {
   "cell_type": "code",
   "execution_count": 359,
   "metadata": {},
   "outputs": [
    {
     "data": {
      "text/plain": [
       "Index(['PIN', 'DeviceID', 'Assessment Name', 'InstOrdr', 'InstSctn', 'ItmOrdr',\n",
       "       'Inst', 'Locale', 'ItemID', 'Response', 'Score', 'Theta', 'TScore',\n",
       "       'SE', 'DataType', 'Position', 'ResponseTime', 'DateCreated',\n",
       "       'InstStarted', 'InstEnded', 'App Version', 'iPad Version',\n",
       "       'Firmware Version'],\n",
       "      dtype='object')"
      ]
     },
     "execution_count": 359,
     "metadata": {},
     "output_type": "execute_result"
    }
   ],
   "source": [
    "df.columns"
   ]
  },
  {
   "cell_type": "code",
   "execution_count": 360,
   "metadata": {
    "id": "j7Uoq7LygW1V"
   },
   "outputs": [],
   "source": [
    "#Reshape the data for EPSF_00944 and EPSF_00943 from long to wide\n",
    "sdf=sdf.pivot_table(index=['PIN', 'DeviceID', 'AssessmentName', 'ResponseID', 'ItemID',\n",
    "       'InstrumentTitle', 'TestName', 'InstrumentID'], columns='Key', values='Value', aggfunc='first').reset_index()"
   ]
  },
  {
   "cell_type": "code",
   "execution_count": 361,
   "metadata": {
    "id": "nN2RXgoSqFn-"
   },
   "outputs": [],
   "source": [
    "sdf.columns=['PIN', 'DeviceID', 'Assessment Name', 'ResponseID', 'ItemID',\n",
    "       'Inst', 'TestName', 'InstrumentID', 'App Version', 'DataType',\n",
    "       'DateCreated', 'Firmware Version', 'InstEnded',\n",
    "      'InstOrdr', 'InstSctn', 'InstStarted',\n",
    "       'ItmOrdr', 'Locale', 'Position', 'Response', 'ResponseTime', 'SE',\n",
    "       'Score', 'Theta', 'iPad Version']"
   ]
  },
  {
   "cell_type": "code",
   "execution_count": 362,
   "metadata": {
    "id": "SRQvyDI1l3b1"
   },
   "outputs": [],
   "source": [
    "sdf =sdf.drop(columns=['ResponseID','TestName','InstrumentID'])"
   ]
  },
  {
   "cell_type": "code",
   "execution_count": 363,
   "metadata": {
    "id": "c5m78-52mONr"
   },
   "outputs": [],
   "source": [
    "sdf['Site'] = 'Sioux Falls'"
   ]
  },
  {
   "cell_type": "code",
   "execution_count": 364,
   "metadata": {
    "id": "H-UAtMUIkWAa"
   },
   "outputs": [],
   "source": [
    "#combine all the data for time calculation\n",
    "df = df.append(sdf)"
   ]
  },
  {
   "cell_type": "code",
   "execution_count": 365,
   "metadata": {
    "colab": {
     "base_uri": "https://localhost:8080/"
    },
    "id": "T9XiKDi8lZ0z",
    "outputId": "056edaf8-28b7-408f-bb7a-a89e008df8d7"
   },
   "outputs": [
    {
     "data": {
      "text/plain": [
       "(2904, 24)"
      ]
     },
     "execution_count": 365,
     "metadata": {},
     "output_type": "execute_result"
    }
   ],
   "source": [
    "df.shape"
   ]
  },
  {
   "cell_type": "code",
   "execution_count": 366,
   "metadata": {},
   "outputs": [
    {
     "data": {
      "text/plain": [
       "array(['210330_EPRC_00032_A_8Y', '210423_EPRC_00160_A_8Y',\n",
       "       '210407_EPRC_00162_A_8Y', '210331_EPRC_00173_A_8Y',\n",
       "       '210427_EPRC_00179_A_8Y', '210420_EPRC_00181_A_8Y',\n",
       "       '210419_EPRC_00380_A_8Y', '210412_EPRC_00550_A_8Y',\n",
       "       '210409_EPSF_00944_B_8Y', '210412_EPSF_01247_A_8Y',\n",
       "       '210412_EPSF_01666_A_8Y', '210413_EPSF_00832_A_8Y',\n",
       "       '210414_EPSF_01247_A_8Y', '210416_EPSF_00944_B_8Y',\n",
       "       '210416_EPSF_00944_A', '210408_EPSF_00832_A_8Y_M',\n",
       "       '210408_EPSF_01666_A_8Y_M', '210409_EPSF_00943_A_9.5Y_M',\n",
       "       '210409_EPSF_00944_A_8Y_M', '210409_EPSF_00944_B_8Y_M'],\n",
       "      dtype=object)"
      ]
     },
     "execution_count": 366,
     "metadata": {},
     "output_type": "execute_result"
    }
   ],
   "source": [
    "df['PIN'].unique()"
   ]
  },
  {
   "cell_type": "code",
   "execution_count": 367,
   "metadata": {
    "id": "vY67enVDXXne"
   },
   "outputs": [],
   "source": [
    "df['PIN'] = df['PIN'].str[7:19]"
   ]
  },
  {
   "cell_type": "code",
   "execution_count": 368,
   "metadata": {
    "id": "E5ZSa4DUXXne"
   },
   "outputs": [],
   "source": [
    "#Convert to datetime\n",
    "df['InstStarted']= pd.to_datetime(df['InstStarted'])\n",
    "df['InstEnded']= pd.to_datetime(df['InstEnded'])"
   ]
  },
  {
   "cell_type": "code",
   "execution_count": 369,
   "metadata": {
    "colab": {
     "base_uri": "https://localhost:8080/"
    },
    "id": "q09DIDy_XXng",
    "outputId": "bb2bc54c-9d51-4cfe-dac4-5642e4dda868"
   },
   "outputs": [
    {
     "name": "stderr",
     "output_type": "stream",
     "text": [
      "<ipython-input-369-343c5d240ab3>:2: FutureWarning: Indexing with multiple keys (implicitly converted to a tuple of keys) will be deprecated, use a list instead.\n",
      "  mni =df.groupby(['PIN','Inst'])['InstStarted','InstEnded'].first().reset_index()\n"
     ]
    }
   ],
   "source": [
    "#groupby PIN, Inst to calculate the time spent in each inst by each participant\n",
    "mni =df.groupby(['PIN','Inst'])['InstStarted','InstEnded'].first().reset_index()"
   ]
  },
  {
   "cell_type": "code",
   "execution_count": 370,
   "metadata": {
    "id": "AKYCyKHhXXng"
   },
   "outputs": [],
   "source": [
    "mni['Time']=mni['InstEnded']-mni['InstStarted']"
   ]
  },
  {
   "cell_type": "code",
   "execution_count": 371,
   "metadata": {
    "id": "I3Fr7g-eYvSZ"
   },
   "outputs": [],
   "source": [
    "mni=mni.drop(columns=['InstStarted'])"
   ]
  },
  {
   "cell_type": "code",
   "execution_count": 372,
   "metadata": {
    "colab": {
     "base_uri": "https://localhost:8080/"
    },
    "id": "1i87rXZjZnan",
    "outputId": "c2cdcd22-a397-4e4c-bd4f-5c7bd4a4af4d"
   },
   "outputs": [
    {
     "data": {
      "text/plain": [
       "(119, 4)"
      ]
     },
     "execution_count": 372,
     "metadata": {},
     "output_type": "execute_result"
    }
   ],
   "source": [
    "mni.shape"
   ]
  },
  {
   "cell_type": "code",
   "execution_count": 373,
   "metadata": {
    "id": "gQy-BDNzDh4p"
   },
   "outputs": [],
   "source": [
    "#drop 'NIH Toolbox List Sorting Working Memory Test Age 7+ v2.1' to calculate the time\n",
    "mni_c=mni[mni['Inst']!='NIH Toolbox List Sorting Working Memory Test Age 7+ v2.1']"
   ]
  },
  {
   "cell_type": "code",
   "execution_count": 374,
   "metadata": {
    "colab": {
     "base_uri": "https://localhost:8080/"
    },
    "id": "nr74b12mZog4",
    "outputId": "912d5526-02dc-456f-8f0c-6446e5de95d3"
   },
   "outputs": [
    {
     "data": {
      "text/plain": [
       "(106, 4)"
      ]
     },
     "execution_count": 374,
     "metadata": {},
     "output_type": "execute_result"
    }
   ],
   "source": [
    "mni_c.shape"
   ]
  },
  {
   "cell_type": "code",
   "execution_count": 375,
   "metadata": {
    "id": "BUmKDYpTXXnh"
   },
   "outputs": [],
   "source": [
    "#Using the corrected matched ones to calculate the total time spent by each participant\n",
    "IP =mni_c.groupby(['PIN'])['Time'].sum().reset_index()"
   ]
  },
  {
   "cell_type": "code",
   "execution_count": 376,
   "metadata": {
    "id": "BmnWLgBYXXnh"
   },
   "outputs": [],
   "source": [
    "#Convert to minute\n",
    "IP['Time']=round(IP['Time'].dt.total_seconds()/60,2)\n",
    "mni['Time']=round(mni['Time'].dt.total_seconds()/60,2)"
   ]
  },
  {
   "cell_type": "code",
   "execution_count": 377,
   "metadata": {
    "id": "oDTt-ymSwHPZ"
   },
   "outputs": [],
   "source": [
    "mni['Mode'] = 'In Person'"
   ]
  },
  {
   "cell_type": "code",
   "execution_count": 378,
   "metadata": {
    "id": "bqxJPDOTT7ag"
   },
   "outputs": [],
   "source": [
    "mni.InstEnded= mni.InstEnded.map(lambda x: x.strftime('%Y-%m-%d'))"
   ]
  },
  {
   "cell_type": "code",
   "execution_count": 379,
   "metadata": {
    "id": "6zlMD1z0DOwT"
   },
   "outputs": [],
   "source": [
    "mni.rename(columns={'InstEnded':'Date'}, inplace=True)"
   ]
  },
  {
   "cell_type": "code",
   "execution_count": 380,
   "metadata": {
    "colab": {
     "base_uri": "https://localhost:8080/",
     "height": 419
    },
    "id": "80ycQdp3zH3k",
    "outputId": "216677bc-6bde-4ece-cfa5-4781de2dfe63"
   },
   "outputs": [
    {
     "data": {
      "text/html": [
       "<div>\n",
       "<style scoped>\n",
       "    .dataframe tbody tr th:only-of-type {\n",
       "        vertical-align: middle;\n",
       "    }\n",
       "\n",
       "    .dataframe tbody tr th {\n",
       "        vertical-align: top;\n",
       "    }\n",
       "\n",
       "    .dataframe thead th {\n",
       "        text-align: right;\n",
       "    }\n",
       "</style>\n",
       "<table border=\"1\" class=\"dataframe\">\n",
       "  <thead>\n",
       "    <tr style=\"text-align: right;\">\n",
       "      <th></th>\n",
       "      <th>PIN</th>\n",
       "      <th>Inst</th>\n",
       "      <th>Date</th>\n",
       "      <th>Time</th>\n",
       "      <th>Mode</th>\n",
       "    </tr>\n",
       "  </thead>\n",
       "  <tbody>\n",
       "    <tr>\n",
       "      <th>0</th>\n",
       "      <td>EPRC_00032_A</td>\n",
       "      <td>NIH Toolbox Dimensional Change Card Sort Test ...</td>\n",
       "      <td>2021-03-30</td>\n",
       "      <td>5.30</td>\n",
       "      <td>In Person</td>\n",
       "    </tr>\n",
       "    <tr>\n",
       "      <th>1</th>\n",
       "      <td>EPRC_00032_A</td>\n",
       "      <td>NIH Toolbox Flanker Inhibitory Control and Att...</td>\n",
       "      <td>2021-03-30</td>\n",
       "      <td>3.97</td>\n",
       "      <td>In Person</td>\n",
       "    </tr>\n",
       "    <tr>\n",
       "      <th>2</th>\n",
       "      <td>EPRC_00032_A</td>\n",
       "      <td>NIH Toolbox List Sorting Working Memory Test A...</td>\n",
       "      <td>2021-03-30</td>\n",
       "      <td>10.60</td>\n",
       "      <td>In Person</td>\n",
       "    </tr>\n",
       "    <tr>\n",
       "      <th>3</th>\n",
       "      <td>EPRC_00032_A</td>\n",
       "      <td>NIH Toolbox Oral Reading Recognition Test Age ...</td>\n",
       "      <td>2021-03-30</td>\n",
       "      <td>1.43</td>\n",
       "      <td>In Person</td>\n",
       "    </tr>\n",
       "    <tr>\n",
       "      <th>4</th>\n",
       "      <td>EPRC_00032_A</td>\n",
       "      <td>NIH Toolbox Pattern Comparison Processing Spee...</td>\n",
       "      <td>2021-03-30</td>\n",
       "      <td>1.57</td>\n",
       "      <td>In Person</td>\n",
       "    </tr>\n",
       "    <tr>\n",
       "      <th>...</th>\n",
       "      <td>...</td>\n",
       "      <td>...</td>\n",
       "      <td>...</td>\n",
       "      <td>...</td>\n",
       "      <td>...</td>\n",
       "    </tr>\n",
       "    <tr>\n",
       "      <th>114</th>\n",
       "      <td>EPSF_01666_A</td>\n",
       "      <td>NIH Toolbox Pattern Comparison Processing Spee...</td>\n",
       "      <td>2021-04-12</td>\n",
       "      <td>1.82</td>\n",
       "      <td>In Person</td>\n",
       "    </tr>\n",
       "    <tr>\n",
       "      <th>115</th>\n",
       "      <td>EPSF_01666_A</td>\n",
       "      <td>NIH Toolbox Pattern Comparison Processing Spee...</td>\n",
       "      <td>2021-04-12</td>\n",
       "      <td>1.67</td>\n",
       "      <td>In Person</td>\n",
       "    </tr>\n",
       "    <tr>\n",
       "      <th>116</th>\n",
       "      <td>EPSF_01666_A</td>\n",
       "      <td>NIH Toolbox Picture Sequence Memory Test Age 8...</td>\n",
       "      <td>2021-04-12</td>\n",
       "      <td>6.47</td>\n",
       "      <td>In Person</td>\n",
       "    </tr>\n",
       "    <tr>\n",
       "      <th>117</th>\n",
       "      <td>EPSF_01666_A</td>\n",
       "      <td>NIH Toolbox Picture Vocabulary Test Age 3+ Pra...</td>\n",
       "      <td>2021-04-12</td>\n",
       "      <td>1.40</td>\n",
       "      <td>In Person</td>\n",
       "    </tr>\n",
       "    <tr>\n",
       "      <th>118</th>\n",
       "      <td>EPSF_01666_A</td>\n",
       "      <td>NIH Toolbox Picture Vocabulary Test Age 3+ v2.1</td>\n",
       "      <td>2021-04-12</td>\n",
       "      <td>3.67</td>\n",
       "      <td>In Person</td>\n",
       "    </tr>\n",
       "  </tbody>\n",
       "</table>\n",
       "<p>119 rows × 5 columns</p>\n",
       "</div>"
      ],
      "text/plain": [
       "              PIN                                               Inst  \\\n",
       "0    EPRC_00032_A  NIH Toolbox Dimensional Change Card Sort Test ...   \n",
       "1    EPRC_00032_A  NIH Toolbox Flanker Inhibitory Control and Att...   \n",
       "2    EPRC_00032_A  NIH Toolbox List Sorting Working Memory Test A...   \n",
       "3    EPRC_00032_A  NIH Toolbox Oral Reading Recognition Test Age ...   \n",
       "4    EPRC_00032_A  NIH Toolbox Pattern Comparison Processing Spee...   \n",
       "..            ...                                                ...   \n",
       "114  EPSF_01666_A  NIH Toolbox Pattern Comparison Processing Spee...   \n",
       "115  EPSF_01666_A  NIH Toolbox Pattern Comparison Processing Spee...   \n",
       "116  EPSF_01666_A  NIH Toolbox Picture Sequence Memory Test Age 8...   \n",
       "117  EPSF_01666_A  NIH Toolbox Picture Vocabulary Test Age 3+ Pra...   \n",
       "118  EPSF_01666_A    NIH Toolbox Picture Vocabulary Test Age 3+ v2.1   \n",
       "\n",
       "           Date   Time       Mode  \n",
       "0    2021-03-30   5.30  In Person  \n",
       "1    2021-03-30   3.97  In Person  \n",
       "2    2021-03-30  10.60  In Person  \n",
       "3    2021-03-30   1.43  In Person  \n",
       "4    2021-03-30   1.57  In Person  \n",
       "..          ...    ...        ...  \n",
       "114  2021-04-12   1.82  In Person  \n",
       "115  2021-04-12   1.67  In Person  \n",
       "116  2021-04-12   6.47  In Person  \n",
       "117  2021-04-12   1.40  In Person  \n",
       "118  2021-04-12   3.67  In Person  \n",
       "\n",
       "[119 rows x 5 columns]"
      ]
     },
     "execution_count": 380,
     "metadata": {},
     "output_type": "execute_result"
    }
   ],
   "source": [
    "#this one has the time breakdown for each participant spent on each inst \n",
    "mni"
   ]
  },
  {
   "cell_type": "code",
   "execution_count": 381,
   "metadata": {
    "colab": {
     "base_uri": "https://localhost:8080/"
    },
    "id": "GrkuVakYXXni",
    "outputId": "83293dbb-9b2c-442d-a24e-627a0471a4aa"
   },
   "outputs": [
    {
     "data": {
      "text/plain": [
       "24.450000000000006"
      ]
     },
     "execution_count": 381,
     "metadata": {},
     "output_type": "execute_result"
    }
   ],
   "source": [
    "#Average total time for in person\n",
    "IP['Time'].mean()"
   ]
  },
  {
   "cell_type": "code",
   "execution_count": 382,
   "metadata": {
    "id": "i5SFWprZWYEB"
   },
   "outputs": [],
   "source": [
    "# get all files from all RC Remote subdirectories\n",
    "\n",
    "all_files = glob.glob('C:/Users/tsb7592/Box/Avera NIHTB Data/Rapid City/*/Remote/*CB_Data_R.csv')\n",
    "\n",
    "\n",
    "doc =[]\n",
    "for file in all_files:\n",
    "  data = pd.read_csv(file)\n",
    "  doc.append(data)\n",
    "\n",
    "# get all files from all SF Remote subdirectories\n",
    "all_files = glob.glob('C:/Users/tsb7592/Box/Avera NIHTB Data/Sioux Falls/*/Remote/*CB_Data_R.csv')\n",
    "\n",
    "for file in all_files:\n",
    "  data = pd.read_csv(file)\n",
    "  doc.append(data)\n",
    "\n",
    "df = pd.concat(doc)"
   ]
  },
  {
   "cell_type": "code",
   "execution_count": 383,
   "metadata": {
    "colab": {
     "base_uri": "https://localhost:8080/",
     "height": 666
    },
    "id": "iHk1jo7075RY",
    "outputId": "5f331594-4f86-4e11-bd4d-dd088af91406"
   },
   "outputs": [
    {
     "data": {
      "text/html": [
       "<div>\n",
       "<style scoped>\n",
       "    .dataframe tbody tr th:only-of-type {\n",
       "        vertical-align: middle;\n",
       "    }\n",
       "\n",
       "    .dataframe tbody tr th {\n",
       "        vertical-align: top;\n",
       "    }\n",
       "\n",
       "    .dataframe thead th {\n",
       "        text-align: right;\n",
       "    }\n",
       "</style>\n",
       "<table border=\"1\" class=\"dataframe\">\n",
       "  <thead>\n",
       "    <tr style=\"text-align: right;\">\n",
       "      <th></th>\n",
       "      <th>PIN</th>\n",
       "      <th>DeviceID</th>\n",
       "      <th>Assessment Name</th>\n",
       "      <th>InstOrdr</th>\n",
       "      <th>InstSctn</th>\n",
       "      <th>ItmOrdr</th>\n",
       "      <th>Inst</th>\n",
       "      <th>Locale</th>\n",
       "      <th>ItemID</th>\n",
       "      <th>Response</th>\n",
       "      <th>...</th>\n",
       "      <th>Age</th>\n",
       "      <th>Education</th>\n",
       "      <th>MothersEducation</th>\n",
       "      <th>FathersEducation</th>\n",
       "      <th>GuardiansEducation</th>\n",
       "      <th>StartingLevelOverride</th>\n",
       "      <th>Gender</th>\n",
       "      <th>Handedness</th>\n",
       "      <th>Race</th>\n",
       "      <th>Ethnicity</th>\n",
       "    </tr>\n",
       "  </thead>\n",
       "  <tbody>\n",
       "    <tr>\n",
       "      <th>0</th>\n",
       "      <td>210406_EPRC_00032_A_8Y</td>\n",
       "      <td>4C0D4D8F-B79D-47C3-AF1A-4D100D11BF28</td>\n",
       "      <td>Assessment 1</td>\n",
       "      <td>1.0</td>\n",
       "      <td>1.0</td>\n",
       "      <td>1.0</td>\n",
       "      <td>NIH Toolbox Picture Vocabulary Test Age 3+ Pra...</td>\n",
       "      <td>en-US</td>\n",
       "      <td>VOCAB_INTRO</td>\n",
       "      <td>NaN</td>\n",
       "      <td>...</td>\n",
       "      <td>NaN</td>\n",
       "      <td>NaN</td>\n",
       "      <td>NaN</td>\n",
       "      <td>NaN</td>\n",
       "      <td>NaN</td>\n",
       "      <td>NaN</td>\n",
       "      <td>NaN</td>\n",
       "      <td>NaN</td>\n",
       "      <td>NaN</td>\n",
       "      <td>NaN</td>\n",
       "    </tr>\n",
       "    <tr>\n",
       "      <th>1</th>\n",
       "      <td>210406_EPRC_00032_A_8Y</td>\n",
       "      <td>4C0D4D8F-B79D-47C3-AF1A-4D100D11BF28</td>\n",
       "      <td>Assessment 1</td>\n",
       "      <td>1.0</td>\n",
       "      <td>1.0</td>\n",
       "      <td>2.0</td>\n",
       "      <td>NIH Toolbox Picture Vocabulary Test Age 3+ Pra...</td>\n",
       "      <td>en-US</td>\n",
       "      <td>VOCAB_INSTR1</td>\n",
       "      <td>NaN</td>\n",
       "      <td>...</td>\n",
       "      <td>NaN</td>\n",
       "      <td>NaN</td>\n",
       "      <td>NaN</td>\n",
       "      <td>NaN</td>\n",
       "      <td>NaN</td>\n",
       "      <td>NaN</td>\n",
       "      <td>NaN</td>\n",
       "      <td>NaN</td>\n",
       "      <td>NaN</td>\n",
       "      <td>NaN</td>\n",
       "    </tr>\n",
       "    <tr>\n",
       "      <th>2</th>\n",
       "      <td>210406_EPRC_00032_A_8Y</td>\n",
       "      <td>4C0D4D8F-B79D-47C3-AF1A-4D100D11BF28</td>\n",
       "      <td>Assessment 1</td>\n",
       "      <td>1.0</td>\n",
       "      <td>1.0</td>\n",
       "      <td>3.0</td>\n",
       "      <td>NIH Toolbox Picture Vocabulary Test Age 3+ Pra...</td>\n",
       "      <td>en-US</td>\n",
       "      <td>VOCAB_PRACT1</td>\n",
       "      <td>4</td>\n",
       "      <td>...</td>\n",
       "      <td>NaN</td>\n",
       "      <td>NaN</td>\n",
       "      <td>NaN</td>\n",
       "      <td>NaN</td>\n",
       "      <td>NaN</td>\n",
       "      <td>NaN</td>\n",
       "      <td>NaN</td>\n",
       "      <td>NaN</td>\n",
       "      <td>NaN</td>\n",
       "      <td>NaN</td>\n",
       "    </tr>\n",
       "    <tr>\n",
       "      <th>3</th>\n",
       "      <td>210406_EPRC_00032_A_8Y</td>\n",
       "      <td>4C0D4D8F-B79D-47C3-AF1A-4D100D11BF28</td>\n",
       "      <td>Assessment 1</td>\n",
       "      <td>1.0</td>\n",
       "      <td>1.0</td>\n",
       "      <td>4.0</td>\n",
       "      <td>NIH Toolbox Picture Vocabulary Test Age 3+ Pra...</td>\n",
       "      <td>en-US</td>\n",
       "      <td>VOCAB_PRACT2</td>\n",
       "      <td>3</td>\n",
       "      <td>...</td>\n",
       "      <td>NaN</td>\n",
       "      <td>NaN</td>\n",
       "      <td>NaN</td>\n",
       "      <td>NaN</td>\n",
       "      <td>NaN</td>\n",
       "      <td>NaN</td>\n",
       "      <td>NaN</td>\n",
       "      <td>NaN</td>\n",
       "      <td>NaN</td>\n",
       "      <td>NaN</td>\n",
       "    </tr>\n",
       "    <tr>\n",
       "      <th>4</th>\n",
       "      <td>210406_EPRC_00032_A_8Y</td>\n",
       "      <td>4C0D4D8F-B79D-47C3-AF1A-4D100D11BF28</td>\n",
       "      <td>Assessment 1</td>\n",
       "      <td>1.0</td>\n",
       "      <td>1.0</td>\n",
       "      <td>5.0</td>\n",
       "      <td>NIH Toolbox Picture Vocabulary Test Age 3+ Pra...</td>\n",
       "      <td>en-US</td>\n",
       "      <td>VOCAB_INSTR2</td>\n",
       "      <td>NaN</td>\n",
       "      <td>...</td>\n",
       "      <td>NaN</td>\n",
       "      <td>NaN</td>\n",
       "      <td>NaN</td>\n",
       "      <td>NaN</td>\n",
       "      <td>NaN</td>\n",
       "      <td>NaN</td>\n",
       "      <td>NaN</td>\n",
       "      <td>NaN</td>\n",
       "      <td>NaN</td>\n",
       "      <td>NaN</td>\n",
       "    </tr>\n",
       "  </tbody>\n",
       "</table>\n",
       "<p>5 rows × 34 columns</p>\n",
       "</div>"
      ],
      "text/plain": [
       "                      PIN                              DeviceID  \\\n",
       "0  210406_EPRC_00032_A_8Y  4C0D4D8F-B79D-47C3-AF1A-4D100D11BF28   \n",
       "1  210406_EPRC_00032_A_8Y  4C0D4D8F-B79D-47C3-AF1A-4D100D11BF28   \n",
       "2  210406_EPRC_00032_A_8Y  4C0D4D8F-B79D-47C3-AF1A-4D100D11BF28   \n",
       "3  210406_EPRC_00032_A_8Y  4C0D4D8F-B79D-47C3-AF1A-4D100D11BF28   \n",
       "4  210406_EPRC_00032_A_8Y  4C0D4D8F-B79D-47C3-AF1A-4D100D11BF28   \n",
       "\n",
       "  Assessment Name  InstOrdr  InstSctn  ItmOrdr  \\\n",
       "0    Assessment 1       1.0       1.0      1.0   \n",
       "1    Assessment 1       1.0       1.0      2.0   \n",
       "2    Assessment 1       1.0       1.0      3.0   \n",
       "3    Assessment 1       1.0       1.0      4.0   \n",
       "4    Assessment 1       1.0       1.0      5.0   \n",
       "\n",
       "                                                Inst Locale        ItemID  \\\n",
       "0  NIH Toolbox Picture Vocabulary Test Age 3+ Pra...  en-US   VOCAB_INTRO   \n",
       "1  NIH Toolbox Picture Vocabulary Test Age 3+ Pra...  en-US  VOCAB_INSTR1   \n",
       "2  NIH Toolbox Picture Vocabulary Test Age 3+ Pra...  en-US  VOCAB_PRACT1   \n",
       "3  NIH Toolbox Picture Vocabulary Test Age 3+ Pra...  en-US  VOCAB_PRACT2   \n",
       "4  NIH Toolbox Picture Vocabulary Test Age 3+ Pra...  en-US  VOCAB_INSTR2   \n",
       "\n",
       "  Response  ...  Age  Education  MothersEducation  FathersEducation  \\\n",
       "0      NaN  ...  NaN        NaN               NaN               NaN   \n",
       "1      NaN  ...  NaN        NaN               NaN               NaN   \n",
       "2        4  ...  NaN        NaN               NaN               NaN   \n",
       "3        3  ...  NaN        NaN               NaN               NaN   \n",
       "4      NaN  ...  NaN        NaN               NaN               NaN   \n",
       "\n",
       "  GuardiansEducation  StartingLevelOverride  Gender Handedness Race Ethnicity  \n",
       "0                NaN                    NaN     NaN        NaN  NaN       NaN  \n",
       "1                NaN                    NaN     NaN        NaN  NaN       NaN  \n",
       "2                NaN                    NaN     NaN        NaN  NaN       NaN  \n",
       "3                NaN                    NaN     NaN        NaN  NaN       NaN  \n",
       "4                NaN                    NaN     NaN        NaN  NaN       NaN  \n",
       "\n",
       "[5 rows x 34 columns]"
      ]
     },
     "execution_count": 383,
     "metadata": {},
     "output_type": "execute_result"
    }
   ],
   "source": [
    "df.head()"
   ]
  },
  {
   "cell_type": "code",
   "execution_count": 384,
   "metadata": {
    "id": "7RA9_WHRQ_NP"
   },
   "outputs": [],
   "source": [
    "df['PIN']=df['PIN'].replace(' ', '', regex=True)"
   ]
  },
  {
   "cell_type": "code",
   "execution_count": 385,
   "metadata": {
    "id": "lgBBimQlZAHH"
   },
   "outputs": [],
   "source": [
    "df['PIN'] = df['PIN'].str[7:19]"
   ]
  },
  {
   "cell_type": "code",
   "execution_count": 386,
   "metadata": {
    "colab": {
     "base_uri": "https://localhost:8080/"
    },
    "id": "Z6DLD3AMRClD",
    "outputId": "ec621fb6-0831-4013-a0a8-1f5605e71ad3"
   },
   "outputs": [
    {
     "data": {
      "text/plain": [
       "array(['EPRC_00032_A', 'EPRC_00160_A', 'EPRC_00173_A', 'EPRC_00179_A',\n",
       "       'EPRC_00181_A', 'EPRC_00183_A', 'EPRC_00191_A', 'EPRC_00380_A',\n",
       "       'EPSF_00832_A', 'EPSF_01666_A', 'EPSF_00847_A', 'EPSF_00944_A',\n",
       "       'EPSF_00836_A'], dtype=object)"
      ]
     },
     "execution_count": 386,
     "metadata": {},
     "output_type": "execute_result"
    }
   ],
   "source": [
    "df['PIN'].unique()"
   ]
  },
  {
   "cell_type": "code",
   "execution_count": 387,
   "metadata": {
    "id": "RB-LQSemb5w5"
   },
   "outputs": [],
   "source": [
    "df['InstStarted']= pd.to_datetime(df['InstStarted'])"
   ]
  },
  {
   "cell_type": "code",
   "execution_count": 388,
   "metadata": {
    "id": "AZTDjIpfdCkc"
   },
   "outputs": [],
   "source": [
    "df['InstEnded']= pd.to_datetime(df['InstEnded'])"
   ]
  },
  {
   "cell_type": "code",
   "execution_count": 389,
   "metadata": {
    "colab": {
     "base_uri": "https://localhost:8080/"
    },
    "id": "8luUtuGYaN0D",
    "outputId": "3e31c1f2-5781-42f5-e279-e5979c0de9d6"
   },
   "outputs": [
    {
     "name": "stderr",
     "output_type": "stream",
     "text": [
      "<ipython-input-389-36cef9752c8c>:1: FutureWarning: Indexing with multiple keys (implicitly converted to a tuple of keys) will be deprecated, use a list instead.\n",
      "  mnr =df.groupby(['PIN','Inst'])['InstStarted','InstEnded'].first().reset_index()\n"
     ]
    }
   ],
   "source": [
    "mnr =df.groupby(['PIN','Inst'])['InstStarted','InstEnded'].first().reset_index()"
   ]
  },
  {
   "cell_type": "code",
   "execution_count": 390,
   "metadata": {
    "id": "tL6eR_iddCH_"
   },
   "outputs": [],
   "source": [
    "mnr['Time']=mnr['InstEnded']-mnr['InstStarted']"
   ]
  },
  {
   "cell_type": "code",
   "execution_count": 391,
   "metadata": {
    "id": "Bqhea3lbjYl5"
   },
   "outputs": [],
   "source": [
    "mnr=mnr.drop(columns=['InstStarted'])"
   ]
  },
  {
   "cell_type": "code",
   "execution_count": 392,
   "metadata": {
    "id": "LqmUxt5NWHQs"
   },
   "outputs": [],
   "source": [
    "mnr.InstEnded= mnr.InstEnded.map(lambda x: x.strftime('%Y-%m-%d'))"
   ]
  },
  {
   "cell_type": "code",
   "execution_count": 393,
   "metadata": {
    "id": "-ssc72Z0tLxH"
   },
   "outputs": [],
   "source": [
    "RM =mnr.groupby(['PIN'])['Time'].sum().reset_index()"
   ]
  },
  {
   "cell_type": "code",
   "execution_count": 394,
   "metadata": {
    "id": "6IllucJ_u_7r"
   },
   "outputs": [],
   "source": [
    "RM['Time']=round(RM['Time'].dt.total_seconds()/60,2)"
   ]
  },
  {
   "cell_type": "code",
   "execution_count": 395,
   "metadata": {
    "id": "RboaYjYxDeaT"
   },
   "outputs": [],
   "source": [
    "mnr.rename(columns={'InstEnded':'Date'}, inplace=True)"
   ]
  },
  {
   "cell_type": "code",
   "execution_count": 396,
   "metadata": {},
   "outputs": [
    {
     "data": {
      "text/html": [
       "<div>\n",
       "<style scoped>\n",
       "    .dataframe tbody tr th:only-of-type {\n",
       "        vertical-align: middle;\n",
       "    }\n",
       "\n",
       "    .dataframe tbody tr th {\n",
       "        vertical-align: top;\n",
       "    }\n",
       "\n",
       "    .dataframe thead th {\n",
       "        text-align: right;\n",
       "    }\n",
       "</style>\n",
       "<table border=\"1\" class=\"dataframe\">\n",
       "  <thead>\n",
       "    <tr style=\"text-align: right;\">\n",
       "      <th></th>\n",
       "      <th>PIN</th>\n",
       "      <th>Inst</th>\n",
       "      <th>Date</th>\n",
       "      <th>Time</th>\n",
       "    </tr>\n",
       "  </thead>\n",
       "  <tbody>\n",
       "  </tbody>\n",
       "</table>\n",
       "</div>"
      ],
      "text/plain": [
       "Empty DataFrame\n",
       "Columns: [PIN, Inst, Date, Time]\n",
       "Index: []"
      ]
     },
     "execution_count": 396,
     "metadata": {},
     "output_type": "execute_result"
    }
   ],
   "source": [
    "mnr[mnr['PIN']=='EPSF_01247_A']"
   ]
  },
  {
   "cell_type": "code",
   "execution_count": 397,
   "metadata": {
    "colab": {
     "base_uri": "https://localhost:8080/",
     "height": 421
    },
    "id": "AOxXvZgUwsxa",
    "outputId": "fca19b85-ff30-4201-f6c0-ee6f1af11cb2"
   },
   "outputs": [
    {
     "data": {
      "text/html": [
       "<div>\n",
       "<style scoped>\n",
       "    .dataframe tbody tr th:only-of-type {\n",
       "        vertical-align: middle;\n",
       "    }\n",
       "\n",
       "    .dataframe tbody tr th {\n",
       "        vertical-align: top;\n",
       "    }\n",
       "\n",
       "    .dataframe thead th {\n",
       "        text-align: right;\n",
       "    }\n",
       "</style>\n",
       "<table border=\"1\" class=\"dataframe\">\n",
       "  <thead>\n",
       "    <tr style=\"text-align: right;\">\n",
       "      <th></th>\n",
       "      <th>PIN</th>\n",
       "      <th>Time</th>\n",
       "    </tr>\n",
       "  </thead>\n",
       "  <tbody>\n",
       "    <tr>\n",
       "      <th>0</th>\n",
       "      <td>EPRC_00032_A</td>\n",
       "      <td>27.20</td>\n",
       "    </tr>\n",
       "    <tr>\n",
       "      <th>1</th>\n",
       "      <td>EPRC_00160_A</td>\n",
       "      <td>31.40</td>\n",
       "    </tr>\n",
       "    <tr>\n",
       "      <th>2</th>\n",
       "      <td>EPRC_00179_A</td>\n",
       "      <td>27.92</td>\n",
       "    </tr>\n",
       "    <tr>\n",
       "      <th>3</th>\n",
       "      <td>EPRC_00181_A</td>\n",
       "      <td>27.35</td>\n",
       "    </tr>\n",
       "    <tr>\n",
       "      <th>4</th>\n",
       "      <td>EPRC_00183_A</td>\n",
       "      <td>23.12</td>\n",
       "    </tr>\n",
       "    <tr>\n",
       "      <th>5</th>\n",
       "      <td>EPRC_00191_A</td>\n",
       "      <td>28.25</td>\n",
       "    </tr>\n",
       "    <tr>\n",
       "      <th>6</th>\n",
       "      <td>EPRC_00380_A</td>\n",
       "      <td>27.92</td>\n",
       "    </tr>\n",
       "    <tr>\n",
       "      <th>7</th>\n",
       "      <td>EPSF_00832_A</td>\n",
       "      <td>26.47</td>\n",
       "    </tr>\n",
       "    <tr>\n",
       "      <th>8</th>\n",
       "      <td>EPSF_00836_A</td>\n",
       "      <td>27.62</td>\n",
       "    </tr>\n",
       "    <tr>\n",
       "      <th>9</th>\n",
       "      <td>EPSF_00847_A</td>\n",
       "      <td>25.82</td>\n",
       "    </tr>\n",
       "    <tr>\n",
       "      <th>10</th>\n",
       "      <td>EPSF_00944_A</td>\n",
       "      <td>34.08</td>\n",
       "    </tr>\n",
       "    <tr>\n",
       "      <th>11</th>\n",
       "      <td>EPSF_01666_A</td>\n",
       "      <td>27.55</td>\n",
       "    </tr>\n",
       "  </tbody>\n",
       "</table>\n",
       "</div>"
      ],
      "text/plain": [
       "             PIN   Time\n",
       "0   EPRC_00032_A  27.20\n",
       "1   EPRC_00160_A  31.40\n",
       "2   EPRC_00179_A  27.92\n",
       "3   EPRC_00181_A  27.35\n",
       "4   EPRC_00183_A  23.12\n",
       "5   EPRC_00191_A  28.25\n",
       "6   EPRC_00380_A  27.92\n",
       "7   EPSF_00832_A  26.47\n",
       "8   EPSF_00836_A  27.62\n",
       "9   EPSF_00847_A  25.82\n",
       "10  EPSF_00944_A  34.08\n",
       "11  EPSF_01666_A  27.55"
      ]
     },
     "execution_count": 397,
     "metadata": {},
     "output_type": "execute_result"
    }
   ],
   "source": [
    "RM"
   ]
  },
  {
   "cell_type": "code",
   "execution_count": 398,
   "metadata": {
    "colab": {
     "base_uri": "https://localhost:8080/"
    },
    "id": "01O2uGiWvuhe",
    "outputId": "a351af56-2bff-4c0e-c740-917837971e59"
   },
   "outputs": [
    {
     "data": {
      "text/plain": [
       "27.89166666666667"
      ]
     },
     "execution_count": 398,
     "metadata": {},
     "output_type": "execute_result"
    }
   ],
   "source": [
    "RM['Time'].mean()"
   ]
  },
  {
   "cell_type": "code",
   "execution_count": 399,
   "metadata": {
    "id": "Ufaysbpljrds"
   },
   "outputs": [],
   "source": [
    "mnr['Time']=round(mnr['Time'].dt.total_seconds()/60,2)"
   ]
  },
  {
   "cell_type": "code",
   "execution_count": 400,
   "metadata": {
    "id": "0paxrlw6wj_6"
   },
   "outputs": [],
   "source": [
    "mnr['Mode'] ='Remote'"
   ]
  },
  {
   "cell_type": "code",
   "execution_count": 401,
   "metadata": {},
   "outputs": [
    {
     "data": {
      "text/html": [
       "<div>\n",
       "<style scoped>\n",
       "    .dataframe tbody tr th:only-of-type {\n",
       "        vertical-align: middle;\n",
       "    }\n",
       "\n",
       "    .dataframe tbody tr th {\n",
       "        vertical-align: top;\n",
       "    }\n",
       "\n",
       "    .dataframe thead th {\n",
       "        text-align: right;\n",
       "    }\n",
       "</style>\n",
       "<table border=\"1\" class=\"dataframe\">\n",
       "  <thead>\n",
       "    <tr style=\"text-align: right;\">\n",
       "      <th></th>\n",
       "      <th>PIN</th>\n",
       "      <th>Time</th>\n",
       "    </tr>\n",
       "  </thead>\n",
       "  <tbody>\n",
       "    <tr>\n",
       "      <th>0</th>\n",
       "      <td>EPRC_00032_A</td>\n",
       "      <td>25.73</td>\n",
       "    </tr>\n",
       "    <tr>\n",
       "      <th>1</th>\n",
       "      <td>EPRC_00160_A</td>\n",
       "      <td>25.63</td>\n",
       "    </tr>\n",
       "    <tr>\n",
       "      <th>2</th>\n",
       "      <td>EPRC_00162_A</td>\n",
       "      <td>27.25</td>\n",
       "    </tr>\n",
       "    <tr>\n",
       "      <th>3</th>\n",
       "      <td>EPRC_00173_A</td>\n",
       "      <td>29.70</td>\n",
       "    </tr>\n",
       "    <tr>\n",
       "      <th>4</th>\n",
       "      <td>EPRC_00179_A</td>\n",
       "      <td>21.40</td>\n",
       "    </tr>\n",
       "    <tr>\n",
       "      <th>5</th>\n",
       "      <td>EPRC_00181_A</td>\n",
       "      <td>24.33</td>\n",
       "    </tr>\n",
       "    <tr>\n",
       "      <th>6</th>\n",
       "      <td>EPRC_00380_A</td>\n",
       "      <td>24.33</td>\n",
       "    </tr>\n",
       "    <tr>\n",
       "      <th>7</th>\n",
       "      <td>EPRC_00550_A</td>\n",
       "      <td>30.62</td>\n",
       "    </tr>\n",
       "    <tr>\n",
       "      <th>8</th>\n",
       "      <td>EPSF_00832_A</td>\n",
       "      <td>23.53</td>\n",
       "    </tr>\n",
       "    <tr>\n",
       "      <th>9</th>\n",
       "      <td>EPSF_00943_A</td>\n",
       "      <td>2.00</td>\n",
       "    </tr>\n",
       "    <tr>\n",
       "      <th>10</th>\n",
       "      <td>EPSF_00944_A</td>\n",
       "      <td>23.88</td>\n",
       "    </tr>\n",
       "    <tr>\n",
       "      <th>11</th>\n",
       "      <td>EPSF_00944_B</td>\n",
       "      <td>34.43</td>\n",
       "    </tr>\n",
       "    <tr>\n",
       "      <th>12</th>\n",
       "      <td>EPSF_01247_A</td>\n",
       "      <td>24.30</td>\n",
       "    </tr>\n",
       "    <tr>\n",
       "      <th>13</th>\n",
       "      <td>EPSF_01666_A</td>\n",
       "      <td>25.17</td>\n",
       "    </tr>\n",
       "  </tbody>\n",
       "</table>\n",
       "</div>"
      ],
      "text/plain": [
       "             PIN   Time\n",
       "0   EPRC_00032_A  25.73\n",
       "1   EPRC_00160_A  25.63\n",
       "2   EPRC_00162_A  27.25\n",
       "3   EPRC_00173_A  29.70\n",
       "4   EPRC_00179_A  21.40\n",
       "5   EPRC_00181_A  24.33\n",
       "6   EPRC_00380_A  24.33\n",
       "7   EPRC_00550_A  30.62\n",
       "8   EPSF_00832_A  23.53\n",
       "9   EPSF_00943_A   2.00\n",
       "10  EPSF_00944_A  23.88\n",
       "11  EPSF_00944_B  34.43\n",
       "12  EPSF_01247_A  24.30\n",
       "13  EPSF_01666_A  25.17"
      ]
     },
     "execution_count": 401,
     "metadata": {},
     "output_type": "execute_result"
    }
   ],
   "source": [
    "IP"
   ]
  },
  {
   "cell_type": "code",
   "execution_count": 402,
   "metadata": {
    "id": "p-IQAUWxMl93"
   },
   "outputs": [],
   "source": [
    "#drop the outliers only have 2 inst for in person\n",
    "IP=IP[IP['PIN']!='EPSF_00943_A']"
   ]
  },
  {
   "cell_type": "code",
   "execution_count": 403,
   "metadata": {
    "id": "0OBAhrANzuH2"
   },
   "outputs": [],
   "source": [
    "times = pd.merge(IP, RM, how= 'inner', on='PIN')"
   ]
  },
  {
   "cell_type": "code",
   "execution_count": 404,
   "metadata": {
    "id": "TSDQUbPtYTs4"
   },
   "outputs": [],
   "source": [
    "times.columns =['PIN','Total_time', 'Total_time_R']"
   ]
  },
  {
   "cell_type": "code",
   "execution_count": 405,
   "metadata": {
    "colab": {
     "base_uri": "https://localhost:8080/",
     "height": 297
    },
    "id": "zLVZtuqVYC96",
    "outputId": "9cfb7382-a8f8-4161-94ed-7913c4932d6f"
   },
   "outputs": [
    {
     "data": {
      "text/html": [
       "<div>\n",
       "<style scoped>\n",
       "    .dataframe tbody tr th:only-of-type {\n",
       "        vertical-align: middle;\n",
       "    }\n",
       "\n",
       "    .dataframe tbody tr th {\n",
       "        vertical-align: top;\n",
       "    }\n",
       "\n",
       "    .dataframe thead th {\n",
       "        text-align: right;\n",
       "    }\n",
       "</style>\n",
       "<table border=\"1\" class=\"dataframe\">\n",
       "  <thead>\n",
       "    <tr style=\"text-align: right;\">\n",
       "      <th></th>\n",
       "      <th>PIN</th>\n",
       "      <th>Total_time</th>\n",
       "      <th>Total_time_R</th>\n",
       "    </tr>\n",
       "  </thead>\n",
       "  <tbody>\n",
       "    <tr>\n",
       "      <th>0</th>\n",
       "      <td>EPRC_00032_A</td>\n",
       "      <td>25.73</td>\n",
       "      <td>27.20</td>\n",
       "    </tr>\n",
       "    <tr>\n",
       "      <th>1</th>\n",
       "      <td>EPRC_00160_A</td>\n",
       "      <td>25.63</td>\n",
       "      <td>31.40</td>\n",
       "    </tr>\n",
       "    <tr>\n",
       "      <th>2</th>\n",
       "      <td>EPRC_00179_A</td>\n",
       "      <td>21.40</td>\n",
       "      <td>27.92</td>\n",
       "    </tr>\n",
       "    <tr>\n",
       "      <th>3</th>\n",
       "      <td>EPRC_00181_A</td>\n",
       "      <td>24.33</td>\n",
       "      <td>27.35</td>\n",
       "    </tr>\n",
       "    <tr>\n",
       "      <th>4</th>\n",
       "      <td>EPRC_00380_A</td>\n",
       "      <td>24.33</td>\n",
       "      <td>27.92</td>\n",
       "    </tr>\n",
       "    <tr>\n",
       "      <th>5</th>\n",
       "      <td>EPSF_00832_A</td>\n",
       "      <td>23.53</td>\n",
       "      <td>26.47</td>\n",
       "    </tr>\n",
       "    <tr>\n",
       "      <th>6</th>\n",
       "      <td>EPSF_00944_A</td>\n",
       "      <td>23.88</td>\n",
       "      <td>34.08</td>\n",
       "    </tr>\n",
       "    <tr>\n",
       "      <th>7</th>\n",
       "      <td>EPSF_01666_A</td>\n",
       "      <td>25.17</td>\n",
       "      <td>27.55</td>\n",
       "    </tr>\n",
       "  </tbody>\n",
       "</table>\n",
       "</div>"
      ],
      "text/plain": [
       "            PIN  Total_time  Total_time_R\n",
       "0  EPRC_00032_A       25.73         27.20\n",
       "1  EPRC_00160_A       25.63         31.40\n",
       "2  EPRC_00179_A       21.40         27.92\n",
       "3  EPRC_00181_A       24.33         27.35\n",
       "4  EPRC_00380_A       24.33         27.92\n",
       "5  EPSF_00832_A       23.53         26.47\n",
       "6  EPSF_00944_A       23.88         34.08\n",
       "7  EPSF_01666_A       25.17         27.55"
      ]
     },
     "execution_count": 405,
     "metadata": {},
     "output_type": "execute_result"
    }
   ],
   "source": [
    "times"
   ]
  },
  {
   "cell_type": "code",
   "execution_count": 406,
   "metadata": {
    "colab": {
     "base_uri": "https://localhost:8080/"
    },
    "id": "B7dU4zWXfI_Z",
    "outputId": "b35e843a-d59d-407c-f49b-c2637743222a"
   },
   "outputs": [
    {
     "data": {
      "text/plain": [
       "array(['EPRC_00032_A', 'EPRC_00160_A', 'EPRC_00162_A', 'EPRC_00173_A',\n",
       "       'EPRC_00179_A', 'EPRC_00181_A', 'EPRC_00380_A', 'EPRC_00550_A',\n",
       "       'EPSF_00832_A', 'EPSF_00944_A', 'EPSF_00944_B', 'EPSF_01247_A',\n",
       "       'EPSF_01666_A'], dtype=object)"
      ]
     },
     "execution_count": 406,
     "metadata": {},
     "output_type": "execute_result"
    }
   ],
   "source": [
    "IP.PIN.unique()"
   ]
  },
  {
   "cell_type": "code",
   "execution_count": 407,
   "metadata": {
    "colab": {
     "base_uri": "https://localhost:8080/"
    },
    "id": "Y_IEkgG9fMBR",
    "outputId": "fb73f535-cdb8-468c-f39b-8aa16e489045"
   },
   "outputs": [
    {
     "data": {
      "text/plain": [
       "array(['EPRC_00032_A', 'EPRC_00160_A', 'EPRC_00179_A', 'EPRC_00181_A',\n",
       "       'EPRC_00183_A', 'EPRC_00191_A', 'EPRC_00380_A', 'EPSF_00832_A',\n",
       "       'EPSF_00836_A', 'EPSF_00847_A', 'EPSF_00944_A', 'EPSF_01666_A'],\n",
       "      dtype=object)"
      ]
     },
     "execution_count": 407,
     "metadata": {},
     "output_type": "execute_result"
    }
   ],
   "source": [
    "RM.PIN.unique()"
   ]
  },
  {
   "cell_type": "code",
   "execution_count": 408,
   "metadata": {},
   "outputs": [
    {
     "data": {
      "text/plain": [
       "Total_time      24.25\n",
       "Total_time_R    28.74\n",
       "dtype: float64"
      ]
     },
     "execution_count": 408,
     "metadata": {},
     "output_type": "execute_result"
    }
   ],
   "source": [
    "round(times.mean(),2)"
   ]
  },
  {
   "cell_type": "markdown",
   "metadata": {
    "id": "zXCPbUgXw4At"
   },
   "source": [
    "# 1. A matched t-test for those who have both in-person and remote - Total Time\n",
    "There are only 8 students both have in person and remote"
   ]
  },
  {
   "cell_type": "code",
   "execution_count": 409,
   "metadata": {},
   "outputs": [
    {
     "data": {
      "text/plain": [
       "Total_time      1.40\n",
       "Total_time_R    2.61\n",
       "dtype: float64"
      ]
     },
     "execution_count": 409,
     "metadata": {},
     "output_type": "execute_result"
    }
   ],
   "source": [
    "round(times.std(),2)"
   ]
  },
  {
   "cell_type": "code",
   "execution_count": 410,
   "metadata": {
    "colab": {
     "base_uri": "https://localhost:8080/"
    },
    "id": "U1_dTcFSqK5n",
    "outputId": "663a2e23-7f93-4ad6-8c5f-4d79e13c8c2e"
   },
   "outputs": [],
   "source": [
    "import numpy as np\n",
    "import scipy.stats as stats\n",
    "print('***A matched t-test for those who have both in-person and remote - Total Time***')\n",
    "print('t-statistic = %6.2f pvalue = %6.2f' % stats.ttest_ind(times.Total_time, times.Total_time_R, equal_var = False))"
   ]
  },
  {
   "cell_type": "code",
   "execution_count": 411,
   "metadata": {},
   "outputs": [],
   "source": [
    "import numpy as np, statsmodels.stats.api as sms\n",
    "\n",
    "X1, X2 = times['Total_time'], times['Total_time_R']\n",
    "\n",
    "cm = sms.CompareMeans(sms.DescrStatsW(X1), sms.DescrStatsW(X2))\n",
    "print('95 CI=[%6.2f,%6.2f]' %cm.tconfint_diff(usevar='unequal'))"
   ]
  },
  {
   "cell_type": "code",
   "execution_count": 412,
   "metadata": {
    "colab": {
     "base_uri": "https://localhost:8080/",
     "height": 377
    },
    "id": "GIiwJXfuLY0w",
    "outputId": "d8f32c7d-d669-4e88-befe-a4c8391e25bc"
   },
   "outputs": [
    {
     "data": {
      "image/png": "[encoded data removed]",
      "text/plain": [
       "<Figure size 576x432 with 1 Axes>"
      ]
     },
     "metadata": {},
     "output_type": "display_data"
    }
   ],
   "source": [
    "import matplotlib.pyplot as plt\n",
    "\n",
    "# Box plot of ACS In person vs. Remote\n",
    "plt.figure(figsize=(8, 6))\n",
    "times.boxplot(column=['Total_time', 'Total_time_R'])\n",
    "\n",
    "plt.show()"
   ]
  },
  {
   "cell_type": "markdown",
   "metadata": {
    "id": "_IxHYc-4eZxO"
   },
   "source": [
    "# 2.\tCorrelations between remote and in-person- Total Time\n",
    "There are only 8 students both have in person and remote"
   ]
  },
  {
   "cell_type": "code",
   "execution_count": 413,
   "metadata": {
    "colab": {
     "base_uri": "https://localhost:8080/"
    },
    "id": "kSl8M2iFd5b5",
    "outputId": "31d52992-c13a-4778-8e22-a347741aef4c"
   },
   "outputs": [],
   "source": [
    "import numpy as np\n",
    "import scipy.stats as stats\n",
    "print('')\n",
    "print('Correlation = %6.2f pvalue = %6.2f' % stats.pearsonr(times['Total_time'], times['Total_time_R']))    # Pearson's correlation coefficient and p-value "
   ]
  },
  {
   "cell_type": "code",
   "execution_count": 414,
   "metadata": {
    "id": "IzhIkmXLLPYo"
   },
   "outputs": [],
   "source": [
    "time_breakdown = pd.concat([mni,mnr]) "
   ]
  },
  {
   "cell_type": "code",
   "execution_count": 415,
   "metadata": {
    "colab": {
     "base_uri": "https://localhost:8080/"
    },
    "id": "IzPqS2jYZa3l",
    "outputId": "55944aa3-fcc1-4850-a014-0e2c651269d5"
   },
   "outputs": [],
   "source": [
    "#time_breakdown.to_csv('C:/Users/tsb7592/Box/Avera NIHTB Data/Subset/time_breakdown.csv', index=False)"
   ]
  },
  {
   "cell_type": "code",
   "execution_count": 416,
   "metadata": {
    "colab": {
     "base_uri": "https://localhost:8080/"
    },
    "id": "C_DarEYbJNSk",
    "outputId": "5820a30c-35d1-48a0-f12f-a4e6a453a7a1"
   },
   "outputs": [
    {
     "data": {
      "text/plain": [
       "PIN           Mode     \n",
       "EPRC_00032_A  In Person    9\n",
       "              Remote       8\n",
       "EPRC_00160_A  In Person    9\n",
       "              Remote       8\n",
       "EPRC_00162_A  In Person    9\n",
       "EPRC_00173_A  In Person    9\n",
       "EPRC_00179_A  In Person    9\n",
       "              Remote       8\n",
       "EPRC_00181_A  In Person    9\n",
       "              Remote       8\n",
       "EPRC_00183_A  Remote       6\n",
       "EPRC_00191_A  Remote       8\n",
       "EPRC_00380_A  In Person    9\n",
       "              Remote       8\n",
       "EPRC_00550_A  In Person    9\n",
       "EPSF_00832_A  In Person    9\n",
       "              Remote       8\n",
       "EPSF_00836_A  Remote       8\n",
       "EPSF_00847_A  Remote       8\n",
       "EPSF_00943_A  In Person    2\n",
       "EPSF_00944_A  In Person    9\n",
       "              Remote       8\n",
       "EPSF_00944_B  In Person    9\n",
       "EPSF_01247_A  In Person    9\n",
       "EPSF_01666_A  In Person    9\n",
       "              Remote       7\n",
       "Name: Inst, dtype: int64"
      ]
     },
     "execution_count": 416,
     "metadata": {},
     "output_type": "execute_result"
    }
   ],
   "source": [
    "time_breakdown.groupby(['PIN','Mode'])['Inst'].count()"
   ]
  },
  {
   "cell_type": "markdown",
   "metadata": {
    "id": "LGFMDZ39ptvO"
   },
   "source": [
    "# 3.\tDoes it take longer for remote vs. in-person? - Total Time\n"
   ]
  },
  {
   "cell_type": "code",
   "execution_count": 417,
   "metadata": {
    "colab": {
     "base_uri": "https://localhost:8080/"
    },
    "id": "kgvHz9sgZ3rE",
    "outputId": "714dd969-7caa-4a25-80ab-ed43809a4f7f"
   },
   "outputs": [],
   "source": [
    "print('')\n",
    "print('Does it take longer for remote vs. in-person? - Total Time')\n",
    "print('t-statistic = %6.3f pvalue = %6.3f' % stats.wilcoxon(times.Total_time, times.Total_time_R, alternative='two-sided'))"
   ]
  },
  {
   "cell_type": "code",
   "execution_count": 418,
   "metadata": {
    "colab": {
     "base_uri": "https://localhost:8080/",
     "height": 297
    },
    "id": "e1iXEHauvlSO",
    "outputId": "8c387777-2854-441a-fcd1-c13995229364"
   },
   "outputs": [],
   "source": [
    "times.to_csv('C:/Users/tsb7592/Box/Avera NIHTB Data/Subset/times.csv', index=False)"
   ]
  },
  {
   "cell_type": "markdown",
   "metadata": {
    "id": "lGdqiU1zablK"
   },
   "source": [
    "# 4.\tA student’s t-test for everyone \n"
   ]
  },
  {
   "cell_type": "code",
   "execution_count": 419,
   "metadata": {},
   "outputs": [
    {
     "data": {
      "text/plain": [
       "26.18"
      ]
     },
     "execution_count": 419,
     "metadata": {},
     "output_type": "execute_result"
    }
   ],
   "source": [
    "#in person mean time\n",
    "round(IP.Time.mean(),2)"
   ]
  },
  {
   "cell_type": "code",
   "execution_count": 420,
   "metadata": {},
   "outputs": [
    {
     "data": {
      "text/plain": [
       "27.89"
      ]
     },
     "execution_count": 420,
     "metadata": {},
     "output_type": "execute_result"
    }
   ],
   "source": [
    "#remote mean time\n",
    "round(RM.Time.mean(),2)"
   ]
  },
  {
   "cell_type": "code",
   "execution_count": 421,
   "metadata": {},
   "outputs": [
    {
     "data": {
      "text/html": [
       "<div>\n",
       "<style scoped>\n",
       "    .dataframe tbody tr th:only-of-type {\n",
       "        vertical-align: middle;\n",
       "    }\n",
       "\n",
       "    .dataframe tbody tr th {\n",
       "        vertical-align: top;\n",
       "    }\n",
       "\n",
       "    .dataframe thead th {\n",
       "        text-align: right;\n",
       "    }\n",
       "</style>\n",
       "<table border=\"1\" class=\"dataframe\">\n",
       "  <thead>\n",
       "    <tr style=\"text-align: right;\">\n",
       "      <th></th>\n",
       "      <th>PIN</th>\n",
       "      <th>Time</th>\n",
       "    </tr>\n",
       "  </thead>\n",
       "  <tbody>\n",
       "    <tr>\n",
       "      <th>0</th>\n",
       "      <td>EPRC_00032_A</td>\n",
       "      <td>27.20</td>\n",
       "    </tr>\n",
       "    <tr>\n",
       "      <th>1</th>\n",
       "      <td>EPRC_00160_A</td>\n",
       "      <td>31.40</td>\n",
       "    </tr>\n",
       "    <tr>\n",
       "      <th>2</th>\n",
       "      <td>EPRC_00179_A</td>\n",
       "      <td>27.92</td>\n",
       "    </tr>\n",
       "    <tr>\n",
       "      <th>3</th>\n",
       "      <td>EPRC_00181_A</td>\n",
       "      <td>27.35</td>\n",
       "    </tr>\n",
       "    <tr>\n",
       "      <th>4</th>\n",
       "      <td>EPRC_00183_A</td>\n",
       "      <td>23.12</td>\n",
       "    </tr>\n",
       "    <tr>\n",
       "      <th>5</th>\n",
       "      <td>EPRC_00191_A</td>\n",
       "      <td>28.25</td>\n",
       "    </tr>\n",
       "    <tr>\n",
       "      <th>6</th>\n",
       "      <td>EPRC_00380_A</td>\n",
       "      <td>27.92</td>\n",
       "    </tr>\n",
       "    <tr>\n",
       "      <th>7</th>\n",
       "      <td>EPSF_00832_A</td>\n",
       "      <td>26.47</td>\n",
       "    </tr>\n",
       "    <tr>\n",
       "      <th>8</th>\n",
       "      <td>EPSF_00836_A</td>\n",
       "      <td>27.62</td>\n",
       "    </tr>\n",
       "    <tr>\n",
       "      <th>9</th>\n",
       "      <td>EPSF_00847_A</td>\n",
       "      <td>25.82</td>\n",
       "    </tr>\n",
       "    <tr>\n",
       "      <th>10</th>\n",
       "      <td>EPSF_00944_A</td>\n",
       "      <td>34.08</td>\n",
       "    </tr>\n",
       "    <tr>\n",
       "      <th>11</th>\n",
       "      <td>EPSF_01666_A</td>\n",
       "      <td>27.55</td>\n",
       "    </tr>\n",
       "  </tbody>\n",
       "</table>\n",
       "</div>"
      ],
      "text/plain": [
       "             PIN   Time\n",
       "0   EPRC_00032_A  27.20\n",
       "1   EPRC_00160_A  31.40\n",
       "2   EPRC_00179_A  27.92\n",
       "3   EPRC_00181_A  27.35\n",
       "4   EPRC_00183_A  23.12\n",
       "5   EPRC_00191_A  28.25\n",
       "6   EPRC_00380_A  27.92\n",
       "7   EPSF_00832_A  26.47\n",
       "8   EPSF_00836_A  27.62\n",
       "9   EPSF_00847_A  25.82\n",
       "10  EPSF_00944_A  34.08\n",
       "11  EPSF_01666_A  27.55"
      ]
     },
     "execution_count": 421,
     "metadata": {},
     "output_type": "execute_result"
    }
   ],
   "source": [
    "RM"
   ]
  },
  {
   "cell_type": "code",
   "execution_count": 422,
   "metadata": {
    "colab": {
     "base_uri": "https://localhost:8080/"
    },
    "id": "AOGjshfCXXnh",
    "outputId": "47e27455-880c-47e4-f72a-0f03981949b9"
   },
   "outputs": [],
   "source": [
    "print('A student’s t-test for everyone - unmatched')\n",
    "print('t-statistic = %6.2f pvalue = %6.2f' % stats.ttest_ind(IP.Time, RM.Time, equal_var=False))"
   ]
  },
  {
   "cell_type": "code",
   "execution_count": 423,
   "metadata": {},
   "outputs": [],
   "source": [
    "X1, X2 = IP.Time, RM.Time\n",
    "#print(len(X1), len(X2))\n",
    "\n",
    "cm = sms.CompareMeans(sms.DescrStatsW(X1), sms.DescrStatsW(X2))\n",
    "print('95 CI=[%6.2f,%6.2f]' %cm.tconfint_diff(usevar='unequal'))"
   ]
  },
  {
   "cell_type": "markdown",
   "metadata": {
    "id": "Hg4pVBb0A_NF"
   },
   "source": [
    "# 5.\tPlot on x-axis remote scores for all the Inst, and plot on y-axis all the in-person "
   ]
  },
  {
   "cell_type": "code",
   "execution_count": 424,
   "metadata": {
    "colab": {
     "base_uri": "https://localhost:8080/",
     "height": 509
    },
    "id": "pQ3v5DU7F8mR",
    "outputId": "12180e71-ba5d-4e47-ee9c-be3ef4608ddf"
   },
   "outputs": [],
   "source": [
    "import seaborn as sns\n",
    "sns.set_theme(style=\"darkgrid\")\n",
    "\n",
    "#g = sns.jointplot(x=\"Total_time\", y=\"Total_time_R\", data=times,kind=\"reg\", truncate=False,  color=\"m\", height=7)"
   ]
  },
  {
   "cell_type": "code",
   "execution_count": 425,
   "metadata": {},
   "outputs": [
    {
     "data": {
      "text/plain": [
       "0      NIH Toolbox Dimensional Change Card Sort Test ...\n",
       "1      NIH Toolbox Flanker Inhibitory Control and Att...\n",
       "2      NIH Toolbox List Sorting Working Memory Test A...\n",
       "3      NIH Toolbox Oral Reading Recognition Test Age ...\n",
       "4      NIH Toolbox Pattern Comparison Processing Spee...\n",
       "                             ...                        \n",
       "114    NIH Toolbox Pattern Comparison Processing Spee...\n",
       "115    NIH Toolbox Pattern Comparison Processing Spee...\n",
       "116    NIH Toolbox Picture Sequence Memory Test Age 8...\n",
       "117    NIH Toolbox Picture Vocabulary Test Age 3+ Pra...\n",
       "118      NIH Toolbox Picture Vocabulary Test Age 3+ v2.1\n",
       "Name: Inst, Length: 119, dtype: object"
      ]
     },
     "execution_count": 425,
     "metadata": {},
     "output_type": "execute_result"
    }
   ],
   "source": [
    "mni.Inst"
   ]
  },
  {
   "cell_type": "code",
   "execution_count": 426,
   "metadata": {},
   "outputs": [],
   "source": [
    "time_anova=mni.append(mnr)"
   ]
  },
  {
   "cell_type": "code",
   "execution_count": 427,
   "metadata": {},
   "outputs": [],
   "source": [
    "time_anova[\"Inst\"].replace({'NIH Toolbox Picture Vocabulary Test Age 3+ Practice v2.1':'Pic_Vocabulary',\n",
    "                            'NIH Toolbox Picture Vocabulary Test Age 3+ v2.1':'Pic_Vocabulary',\n",
    "       'NIH Toolbox Flanker Inhibitory Control and Attention Test Ages 8-11 v2.1':'Flanker',\n",
    "       'NIH Toolbox List Sorting Working Memory Test Age 7+ v2.1':'List_Sorting',\n",
    "       'NIH Toolbox Dimensional Change Card Sort Test Ages 8-11 v2.1':'DCCS',\n",
    "       'NIH Toolbox Pattern Comparison Processing Speed Test Age 7+ Practice v2.1':'Pattern_Comp',\n",
    "       'NIH Toolbox Pattern Comparison Processing Speed Test Age 7+ v2.1':'Pattern_Comp',\n",
    "       'NIH Toolbox Picture Sequence Memory Test Age 8+ Form A v2.1':'Pic_Seq',\n",
    "       'NIH Toolbox Oral Reading Recognition Test Age 3+ v2.1':'Oral_Reading',\n",
    "       'NIH Toolbox Picture Sequence Memory Test Age 8+ Form B v2.1':'Pic_Seq',\n",
    "       'NIH Toolbox Oral Reading Recognition Test Age 3+ Instructions v2.1':'Oral_Reading_Inst'}, inplace=True)"
   ]
  },
  {
   "cell_type": "code",
   "execution_count": 428,
   "metadata": {},
   "outputs": [
    {
     "data": {
      "text/plain": [
       "Pic_Vocabulary    52\n",
       "Pattern_Comp      48\n",
       "Pic_Seq           25\n",
       "DCCS              25\n",
       "Flanker           25\n",
       "Oral_Reading      24\n",
       "List_Sorting      13\n",
       "Name: Inst, dtype: int64"
      ]
     },
     "execution_count": 428,
     "metadata": {},
     "output_type": "execute_result"
    }
   ],
   "source": [
    "time_anova.Inst.value_counts()"
   ]
  },
  {
   "cell_type": "code",
   "execution_count": 429,
   "metadata": {},
   "outputs": [],
   "source": [
    "mt=time_anova.pivot_table(index=['PIN', 'Mode'], columns='Inst', values='Time', aggfunc='first').reset_index()\n",
    "mt=mt.drop(columns=['List_Sorting'])\n",
    "mt =mt.dropna()"
   ]
  },
  {
   "cell_type": "code",
   "execution_count": 430,
   "metadata": {},
   "outputs": [
    {
     "data": {
      "text/html": [
       "<div>\n",
       "<style scoped>\n",
       "    .dataframe tbody tr th:only-of-type {\n",
       "        vertical-align: middle;\n",
       "    }\n",
       "\n",
       "    .dataframe tbody tr th {\n",
       "        vertical-align: top;\n",
       "    }\n",
       "\n",
       "    .dataframe thead th {\n",
       "        text-align: right;\n",
       "    }\n",
       "</style>\n",
       "<table border=\"1\" class=\"dataframe\">\n",
       "  <thead>\n",
       "    <tr style=\"text-align: right;\">\n",
       "      <th>Inst</th>\n",
       "      <th>PIN</th>\n",
       "      <th>Mode</th>\n",
       "      <th>DCCS</th>\n",
       "      <th>Flanker</th>\n",
       "      <th>Oral_Reading</th>\n",
       "      <th>Pattern_Comp</th>\n",
       "      <th>Pic_Seq</th>\n",
       "      <th>Pic_Vocabulary</th>\n",
       "    </tr>\n",
       "  </thead>\n",
       "  <tbody>\n",
       "    <tr>\n",
       "      <th>0</th>\n",
       "      <td>EPRC_00032_A</td>\n",
       "      <td>In Person</td>\n",
       "      <td>5.30</td>\n",
       "      <td>3.97</td>\n",
       "      <td>1.43</td>\n",
       "      <td>1.57</td>\n",
       "      <td>8.92</td>\n",
       "      <td>1.50</td>\n",
       "    </tr>\n",
       "    <tr>\n",
       "      <th>1</th>\n",
       "      <td>EPRC_00032_A</td>\n",
       "      <td>Remote</td>\n",
       "      <td>5.60</td>\n",
       "      <td>3.95</td>\n",
       "      <td>1.75</td>\n",
       "      <td>2.03</td>\n",
       "      <td>8.08</td>\n",
       "      <td>2.80</td>\n",
       "    </tr>\n",
       "    <tr>\n",
       "      <th>2</th>\n",
       "      <td>EPRC_00160_A</td>\n",
       "      <td>In Person</td>\n",
       "      <td>5.75</td>\n",
       "      <td>3.67</td>\n",
       "      <td>2.07</td>\n",
       "      <td>2.00</td>\n",
       "      <td>7.32</td>\n",
       "      <td>1.73</td>\n",
       "    </tr>\n",
       "    <tr>\n",
       "      <th>3</th>\n",
       "      <td>EPRC_00160_A</td>\n",
       "      <td>Remote</td>\n",
       "      <td>7.67</td>\n",
       "      <td>5.58</td>\n",
       "      <td>2.28</td>\n",
       "      <td>2.00</td>\n",
       "      <td>9.78</td>\n",
       "      <td>0.55</td>\n",
       "    </tr>\n",
       "    <tr>\n",
       "      <th>4</th>\n",
       "      <td>EPRC_00162_A</td>\n",
       "      <td>In Person</td>\n",
       "      <td>5.15</td>\n",
       "      <td>3.63</td>\n",
       "      <td>2.00</td>\n",
       "      <td>1.47</td>\n",
       "      <td>9.22</td>\n",
       "      <td>1.55</td>\n",
       "    </tr>\n",
       "    <tr>\n",
       "      <th>5</th>\n",
       "      <td>EPRC_00173_A</td>\n",
       "      <td>In Person</td>\n",
       "      <td>6.00</td>\n",
       "      <td>4.17</td>\n",
       "      <td>2.97</td>\n",
       "      <td>2.85</td>\n",
       "      <td>8.05</td>\n",
       "      <td>1.98</td>\n",
       "    </tr>\n",
       "    <tr>\n",
       "      <th>6</th>\n",
       "      <td>EPRC_00179_A</td>\n",
       "      <td>In Person</td>\n",
       "      <td>5.10</td>\n",
       "      <td>3.33</td>\n",
       "      <td>1.27</td>\n",
       "      <td>1.48</td>\n",
       "      <td>6.00</td>\n",
       "      <td>0.92</td>\n",
       "    </tr>\n",
       "    <tr>\n",
       "      <th>7</th>\n",
       "      <td>EPRC_00179_A</td>\n",
       "      <td>Remote</td>\n",
       "      <td>5.50</td>\n",
       "      <td>4.10</td>\n",
       "      <td>1.75</td>\n",
       "      <td>1.72</td>\n",
       "      <td>9.37</td>\n",
       "      <td>2.00</td>\n",
       "    </tr>\n",
       "    <tr>\n",
       "      <th>8</th>\n",
       "      <td>EPRC_00181_A</td>\n",
       "      <td>In Person</td>\n",
       "      <td>5.33</td>\n",
       "      <td>3.63</td>\n",
       "      <td>1.43</td>\n",
       "      <td>1.63</td>\n",
       "      <td>8.38</td>\n",
       "      <td>1.05</td>\n",
       "    </tr>\n",
       "    <tr>\n",
       "      <th>9</th>\n",
       "      <td>EPRC_00181_A</td>\n",
       "      <td>Remote</td>\n",
       "      <td>5.77</td>\n",
       "      <td>5.23</td>\n",
       "      <td>1.30</td>\n",
       "      <td>1.82</td>\n",
       "      <td>8.87</td>\n",
       "      <td>1.42</td>\n",
       "    </tr>\n",
       "    <tr>\n",
       "      <th>11</th>\n",
       "      <td>EPRC_00191_A</td>\n",
       "      <td>Remote</td>\n",
       "      <td>5.60</td>\n",
       "      <td>4.33</td>\n",
       "      <td>1.63</td>\n",
       "      <td>2.45</td>\n",
       "      <td>8.78</td>\n",
       "      <td>2.20</td>\n",
       "    </tr>\n",
       "    <tr>\n",
       "      <th>12</th>\n",
       "      <td>EPRC_00380_A</td>\n",
       "      <td>In Person</td>\n",
       "      <td>6.40</td>\n",
       "      <td>3.92</td>\n",
       "      <td>1.03</td>\n",
       "      <td>1.82</td>\n",
       "      <td>6.63</td>\n",
       "      <td>1.20</td>\n",
       "    </tr>\n",
       "    <tr>\n",
       "      <th>13</th>\n",
       "      <td>EPRC_00380_A</td>\n",
       "      <td>Remote</td>\n",
       "      <td>6.57</td>\n",
       "      <td>4.62</td>\n",
       "      <td>1.53</td>\n",
       "      <td>2.08</td>\n",
       "      <td>8.10</td>\n",
       "      <td>1.52</td>\n",
       "    </tr>\n",
       "    <tr>\n",
       "      <th>14</th>\n",
       "      <td>EPRC_00550_A</td>\n",
       "      <td>In Person</td>\n",
       "      <td>5.67</td>\n",
       "      <td>4.20</td>\n",
       "      <td>3.02</td>\n",
       "      <td>4.18</td>\n",
       "      <td>8.15</td>\n",
       "      <td>1.83</td>\n",
       "    </tr>\n",
       "    <tr>\n",
       "      <th>15</th>\n",
       "      <td>EPSF_00832_A</td>\n",
       "      <td>In Person</td>\n",
       "      <td>5.32</td>\n",
       "      <td>3.35</td>\n",
       "      <td>1.23</td>\n",
       "      <td>1.47</td>\n",
       "      <td>7.78</td>\n",
       "      <td>1.18</td>\n",
       "    </tr>\n",
       "    <tr>\n",
       "      <th>16</th>\n",
       "      <td>EPSF_00832_A</td>\n",
       "      <td>Remote</td>\n",
       "      <td>6.20</td>\n",
       "      <td>4.55</td>\n",
       "      <td>1.28</td>\n",
       "      <td>1.93</td>\n",
       "      <td>7.93</td>\n",
       "      <td>1.55</td>\n",
       "    </tr>\n",
       "    <tr>\n",
       "      <th>17</th>\n",
       "      <td>EPSF_00836_A</td>\n",
       "      <td>Remote</td>\n",
       "      <td>6.35</td>\n",
       "      <td>4.20</td>\n",
       "      <td>1.87</td>\n",
       "      <td>1.78</td>\n",
       "      <td>8.77</td>\n",
       "      <td>1.38</td>\n",
       "    </tr>\n",
       "    <tr>\n",
       "      <th>18</th>\n",
       "      <td>EPSF_00847_A</td>\n",
       "      <td>Remote</td>\n",
       "      <td>5.95</td>\n",
       "      <td>4.22</td>\n",
       "      <td>1.22</td>\n",
       "      <td>2.00</td>\n",
       "      <td>7.13</td>\n",
       "      <td>1.45</td>\n",
       "    </tr>\n",
       "    <tr>\n",
       "      <th>20</th>\n",
       "      <td>EPSF_00944_A</td>\n",
       "      <td>In Person</td>\n",
       "      <td>5.13</td>\n",
       "      <td>3.15</td>\n",
       "      <td>1.67</td>\n",
       "      <td>1.58</td>\n",
       "      <td>7.72</td>\n",
       "      <td>1.18</td>\n",
       "    </tr>\n",
       "    <tr>\n",
       "      <th>21</th>\n",
       "      <td>EPSF_00944_A</td>\n",
       "      <td>Remote</td>\n",
       "      <td>5.97</td>\n",
       "      <td>4.52</td>\n",
       "      <td>2.38</td>\n",
       "      <td>4.08</td>\n",
       "      <td>10.30</td>\n",
       "      <td>2.90</td>\n",
       "    </tr>\n",
       "    <tr>\n",
       "      <th>22</th>\n",
       "      <td>EPSF_00944_B</td>\n",
       "      <td>In Person</td>\n",
       "      <td>5.90</td>\n",
       "      <td>5.70</td>\n",
       "      <td>2.38</td>\n",
       "      <td>1.62</td>\n",
       "      <td>14.80</td>\n",
       "      <td>1.13</td>\n",
       "    </tr>\n",
       "    <tr>\n",
       "      <th>23</th>\n",
       "      <td>EPSF_01247_A</td>\n",
       "      <td>In Person</td>\n",
       "      <td>5.28</td>\n",
       "      <td>3.53</td>\n",
       "      <td>1.63</td>\n",
       "      <td>1.73</td>\n",
       "      <td>7.22</td>\n",
       "      <td>1.38</td>\n",
       "    </tr>\n",
       "    <tr>\n",
       "      <th>24</th>\n",
       "      <td>EPSF_01666_A</td>\n",
       "      <td>In Person</td>\n",
       "      <td>5.27</td>\n",
       "      <td>3.37</td>\n",
       "      <td>1.52</td>\n",
       "      <td>1.82</td>\n",
       "      <td>6.47</td>\n",
       "      <td>1.40</td>\n",
       "    </tr>\n",
       "  </tbody>\n",
       "</table>\n",
       "</div>"
      ],
      "text/plain": [
       "Inst           PIN       Mode  DCCS  Flanker  Oral_Reading  Pattern_Comp  \\\n",
       "0     EPRC_00032_A  In Person  5.30     3.97          1.43          1.57   \n",
       "1     EPRC_00032_A     Remote  5.60     3.95          1.75          2.03   \n",
       "2     EPRC_00160_A  In Person  5.75     3.67          2.07          2.00   \n",
       "3     EPRC_00160_A     Remote  7.67     5.58          2.28          2.00   \n",
       "4     EPRC_00162_A  In Person  5.15     3.63          2.00          1.47   \n",
       "5     EPRC_00173_A  In Person  6.00     4.17          2.97          2.85   \n",
       "6     EPRC_00179_A  In Person  5.10     3.33          1.27          1.48   \n",
       "7     EPRC_00179_A     Remote  5.50     4.10          1.75          1.72   \n",
       "8     EPRC_00181_A  In Person  5.33     3.63          1.43          1.63   \n",
       "9     EPRC_00181_A     Remote  5.77     5.23          1.30          1.82   \n",
       "11    EPRC_00191_A     Remote  5.60     4.33          1.63          2.45   \n",
       "12    EPRC_00380_A  In Person  6.40     3.92          1.03          1.82   \n",
       "13    EPRC_00380_A     Remote  6.57     4.62          1.53          2.08   \n",
       "14    EPRC_00550_A  In Person  5.67     4.20          3.02          4.18   \n",
       "15    EPSF_00832_A  In Person  5.32     3.35          1.23          1.47   \n",
       "16    EPSF_00832_A     Remote  6.20     4.55          1.28          1.93   \n",
       "17    EPSF_00836_A     Remote  6.35     4.20          1.87          1.78   \n",
       "18    EPSF_00847_A     Remote  5.95     4.22          1.22          2.00   \n",
       "20    EPSF_00944_A  In Person  5.13     3.15          1.67          1.58   \n",
       "21    EPSF_00944_A     Remote  5.97     4.52          2.38          4.08   \n",
       "22    EPSF_00944_B  In Person  5.90     5.70          2.38          1.62   \n",
       "23    EPSF_01247_A  In Person  5.28     3.53          1.63          1.73   \n",
       "24    EPSF_01666_A  In Person  5.27     3.37          1.52          1.82   \n",
       "\n",
       "Inst  Pic_Seq  Pic_Vocabulary  \n",
       "0        8.92            1.50  \n",
       "1        8.08            2.80  \n",
       "2        7.32            1.73  \n",
       "3        9.78            0.55  \n",
       "4        9.22            1.55  \n",
       "5        8.05            1.98  \n",
       "6        6.00            0.92  \n",
       "7        9.37            2.00  \n",
       "8        8.38            1.05  \n",
       "9        8.87            1.42  \n",
       "11       8.78            2.20  \n",
       "12       6.63            1.20  \n",
       "13       8.10            1.52  \n",
       "14       8.15            1.83  \n",
       "15       7.78            1.18  \n",
       "16       7.93            1.55  \n",
       "17       8.77            1.38  \n",
       "18       7.13            1.45  \n",
       "20       7.72            1.18  \n",
       "21      10.30            2.90  \n",
       "22      14.80            1.13  \n",
       "23       7.22            1.38  \n",
       "24       6.47            1.40  "
      ]
     },
     "execution_count": 430,
     "metadata": {},
     "output_type": "execute_result"
    }
   ],
   "source": [
    "mt"
   ]
  },
  {
   "cell_type": "code",
   "execution_count": 431,
   "metadata": {},
   "outputs": [],
   "source": [
    "# multiple ANOVA\n",
    "\n",
    "from statsmodels.multivariate.manova import MANOVA\n",
    "\n",
    "maovt = MANOVA.from_formula('DCCS+ Flanker + Oral_Reading + Pattern_Comp + Pic_Seq + Pic_Vocabulary ~ Mode', data=mt)\n",
    "print('***multiple ANOVA ---Time***')\n",
    "print(maovt.mv_test())"
   ]
  },
  {
   "cell_type": "markdown",
   "metadata": {
    "id": "Ryp-FuHZLWyT"
   },
   "source": [
    "# Get demographic data"
   ]
  },
  {
   "cell_type": "code",
   "execution_count": 432,
   "metadata": {
    "colab": {
     "base_uri": "https://localhost:8080/"
    },
    "id": "yonYmaEjXXnY",
    "outputId": "56b987c9-fff8-44b1-cb71-e06c5e7135c9"
   },
   "outputs": [],
   "source": [
    "# get all files from all RC In-person subdirectories\n",
    "\n",
    "all_files = glob.glob('C:/Users/tsb7592/Box/Avera NIHTB Data/Rapid City/*/In Person/*CB_Reg.csv')\n",
    "\n",
    "doc =[]\n",
    "for file in all_files:\n",
    "  data = pd.read_csv(file)\n",
    "  doc.append(data)\n",
    "    \n",
    "all_files = glob.glob('C:/Users/tsb7592/Box/Avera NIHTB Data/Rapid City/*/Remote/*Reg_R.csv')\n",
    "\n",
    "for file in all_files:\n",
    "  data = pd.read_csv(file)\n",
    "  doc.append(data)\n",
    "\n",
    "# get all files from all SF\n",
    "all_files = glob.glob('C:/Users/tsb7592/Box/Avera NIHTB Data/Sioux Falls/*/In Person/*CB_Reg.csv')\n",
    "for file in all_files:\n",
    "  data = pd.read_csv(file)\n",
    "  doc.append(data)\n",
    "\n",
    "# get all files from all SF\n",
    "all_files = glob.glob('C:/Users/tsb7592/Box/Avera NIHTB Data/Sioux Falls/*/In Person/*Reg_R.csv')\n",
    "for file in all_files:\n",
    "  data = pd.read_csv(file)\n",
    "  doc.append(data)\n",
    "\n",
    "ddf = pd.concat(doc)"
   ]
  },
  {
   "cell_type": "code",
   "execution_count": 433,
   "metadata": {},
   "outputs": [],
   "source": [
    "dcol =['PIN','Gender','Age','Race','Ethnicity']"
   ]
  },
  {
   "cell_type": "code",
   "execution_count": 434,
   "metadata": {},
   "outputs": [],
   "source": [
    "ddf['PIN'] = ddf['PIN'].str[7:19]"
   ]
  },
  {
   "cell_type": "code",
   "execution_count": 435,
   "metadata": {},
   "outputs": [],
   "source": [
    "ddf=ddf[dcol]"
   ]
  },
  {
   "cell_type": "code",
   "execution_count": 436,
   "metadata": {
    "scrolled": true
   },
   "outputs": [],
   "source": [
    "ddf=ddf.drop_duplicates()"
   ]
  },
  {
   "cell_type": "code",
   "execution_count": 437,
   "metadata": {},
   "outputs": [],
   "source": [
    "ddf=ddf.dropna()"
   ]
  },
  {
   "cell_type": "code",
   "execution_count": 438,
   "metadata": {},
   "outputs": [],
   "source": [
    "#Drop this duplicate \n",
    "#ddf= ddf[ddf['PIN']!='EPSF_01247_A']"
   ]
  },
  {
   "cell_type": "code",
   "execution_count": 439,
   "metadata": {
    "scrolled": true
   },
   "outputs": [
    {
     "data": {
      "text/html": [
       "<div>\n",
       "<style scoped>\n",
       "    .dataframe tbody tr th:only-of-type {\n",
       "        vertical-align: middle;\n",
       "    }\n",
       "\n",
       "    .dataframe tbody tr th {\n",
       "        vertical-align: top;\n",
       "    }\n",
       "\n",
       "    .dataframe thead th {\n",
       "        text-align: right;\n",
       "    }\n",
       "</style>\n",
       "<table border=\"1\" class=\"dataframe\">\n",
       "  <thead>\n",
       "    <tr style=\"text-align: right;\">\n",
       "      <th></th>\n",
       "      <th>index</th>\n",
       "      <th>PIN</th>\n",
       "      <th>Gender</th>\n",
       "      <th>Age</th>\n",
       "      <th>Race</th>\n",
       "      <th>Ethnicity</th>\n",
       "    </tr>\n",
       "  </thead>\n",
       "  <tbody>\n",
       "    <tr>\n",
       "      <th>0</th>\n",
       "      <td>0</td>\n",
       "      <td>EPRC_00032_A</td>\n",
       "      <td>2.0</td>\n",
       "      <td>8.0</td>\n",
       "      <td>1.0</td>\n",
       "      <td>1.0</td>\n",
       "    </tr>\n",
       "    <tr>\n",
       "      <th>1</th>\n",
       "      <td>0</td>\n",
       "      <td>EPRC_00160_A</td>\n",
       "      <td>2.0</td>\n",
       "      <td>8.0</td>\n",
       "      <td>1.0</td>\n",
       "      <td>1.0</td>\n",
       "    </tr>\n",
       "    <tr>\n",
       "      <th>2</th>\n",
       "      <td>0</td>\n",
       "      <td>EPRC_00162_A</td>\n",
       "      <td>1.0</td>\n",
       "      <td>8.0</td>\n",
       "      <td>1.0</td>\n",
       "      <td>1.0</td>\n",
       "    </tr>\n",
       "    <tr>\n",
       "      <th>3</th>\n",
       "      <td>0</td>\n",
       "      <td>EPRC_00173_A</td>\n",
       "      <td>1.0</td>\n",
       "      <td>8.0</td>\n",
       "      <td>8.0</td>\n",
       "      <td>1.0</td>\n",
       "    </tr>\n",
       "    <tr>\n",
       "      <th>4</th>\n",
       "      <td>0</td>\n",
       "      <td>EPRC_00179_A</td>\n",
       "      <td>1.0</td>\n",
       "      <td>8.0</td>\n",
       "      <td>1.0</td>\n",
       "      <td>2.0</td>\n",
       "    </tr>\n",
       "    <tr>\n",
       "      <th>5</th>\n",
       "      <td>0</td>\n",
       "      <td>EPRC_00181_A</td>\n",
       "      <td>2.0</td>\n",
       "      <td>8.0</td>\n",
       "      <td>1.0</td>\n",
       "      <td>1.0</td>\n",
       "    </tr>\n",
       "    <tr>\n",
       "      <th>6</th>\n",
       "      <td>0</td>\n",
       "      <td>EPRC_00380_A</td>\n",
       "      <td>2.0</td>\n",
       "      <td>8.0</td>\n",
       "      <td>1.0</td>\n",
       "      <td>1.0</td>\n",
       "    </tr>\n",
       "    <tr>\n",
       "      <th>7</th>\n",
       "      <td>0</td>\n",
       "      <td>EPRC_00550_A</td>\n",
       "      <td>1.0</td>\n",
       "      <td>8.0</td>\n",
       "      <td>1.0</td>\n",
       "      <td>1.0</td>\n",
       "    </tr>\n",
       "    <tr>\n",
       "      <th>8</th>\n",
       "      <td>0</td>\n",
       "      <td>EPRC_00183_A</td>\n",
       "      <td>2.0</td>\n",
       "      <td>8.0</td>\n",
       "      <td>1.0</td>\n",
       "      <td>1.0</td>\n",
       "    </tr>\n",
       "    <tr>\n",
       "      <th>9</th>\n",
       "      <td>0</td>\n",
       "      <td>EPRC_00191_A</td>\n",
       "      <td>1.0</td>\n",
       "      <td>8.0</td>\n",
       "      <td>1.0</td>\n",
       "      <td>1.0</td>\n",
       "    </tr>\n",
       "    <tr>\n",
       "      <th>10</th>\n",
       "      <td>0</td>\n",
       "      <td>EPSF_00944_B</td>\n",
       "      <td>2.0</td>\n",
       "      <td>8.0</td>\n",
       "      <td>1.0</td>\n",
       "      <td>1.0</td>\n",
       "    </tr>\n",
       "    <tr>\n",
       "      <th>11</th>\n",
       "      <td>0</td>\n",
       "      <td>EPSF_01247_A</td>\n",
       "      <td>2.0</td>\n",
       "      <td>8.0</td>\n",
       "      <td>1.0</td>\n",
       "      <td>1.0</td>\n",
       "    </tr>\n",
       "    <tr>\n",
       "      <th>12</th>\n",
       "      <td>0</td>\n",
       "      <td>EPSF_01666_A</td>\n",
       "      <td>1.0</td>\n",
       "      <td>8.0</td>\n",
       "      <td>1.0</td>\n",
       "      <td>1.0</td>\n",
       "    </tr>\n",
       "    <tr>\n",
       "      <th>13</th>\n",
       "      <td>0</td>\n",
       "      <td>EPSF_00832_A</td>\n",
       "      <td>2.0</td>\n",
       "      <td>8.0</td>\n",
       "      <td>1.0</td>\n",
       "      <td>1.0</td>\n",
       "    </tr>\n",
       "    <tr>\n",
       "      <th>14</th>\n",
       "      <td>0</td>\n",
       "      <td>EPSF_00944_A</td>\n",
       "      <td>1.0</td>\n",
       "      <td>8.0</td>\n",
       "      <td>1.0</td>\n",
       "      <td>1.0</td>\n",
       "    </tr>\n",
       "  </tbody>\n",
       "</table>\n",
       "</div>"
      ],
      "text/plain": [
       "    index           PIN  Gender  Age  Race  Ethnicity\n",
       "0       0  EPRC_00032_A     2.0  8.0   1.0        1.0\n",
       "1       0  EPRC_00160_A     2.0  8.0   1.0        1.0\n",
       "2       0  EPRC_00162_A     1.0  8.0   1.0        1.0\n",
       "3       0  EPRC_00173_A     1.0  8.0   8.0        1.0\n",
       "4       0  EPRC_00179_A     1.0  8.0   1.0        2.0\n",
       "5       0  EPRC_00181_A     2.0  8.0   1.0        1.0\n",
       "6       0  EPRC_00380_A     2.0  8.0   1.0        1.0\n",
       "7       0  EPRC_00550_A     1.0  8.0   1.0        1.0\n",
       "8       0  EPRC_00183_A     2.0  8.0   1.0        1.0\n",
       "9       0  EPRC_00191_A     1.0  8.0   1.0        1.0\n",
       "10      0  EPSF_00944_B     2.0  8.0   1.0        1.0\n",
       "11      0  EPSF_01247_A     2.0  8.0   1.0        1.0\n",
       "12      0  EPSF_01666_A     1.0  8.0   1.0        1.0\n",
       "13      0  EPSF_00832_A     2.0  8.0   1.0        1.0\n",
       "14      0  EPSF_00944_A     1.0  8.0   1.0        1.0"
      ]
     },
     "execution_count": 439,
     "metadata": {},
     "output_type": "execute_result"
    }
   ],
   "source": [
    "ddf.reset_index()"
   ]
  },
  {
   "cell_type": "code",
   "execution_count": 440,
   "metadata": {},
   "outputs": [],
   "source": [
    "ddf.to_csv('C:/Users/tsb7592/Box/Avera NIHTB Data/Subset/demographic_data.csv', index=False)"
   ]
  },
  {
   "cell_type": "code",
   "execution_count": 441,
   "metadata": {},
   "outputs": [
    {
     "data": {
      "text/plain": [
       "2.0    53.33%\n",
       "1.0    46.67%\n",
       "Name: Gender, dtype: object"
      ]
     },
     "execution_count": 441,
     "metadata": {},
     "output_type": "execute_result"
    }
   ],
   "source": [
    "ddf.Gender.value_counts(normalize=True).mul(100).round(2).astype(str) + '%'"
   ]
  },
  {
   "cell_type": "markdown",
   "metadata": {
    "id": "zKBH_U9Yd919"
   },
   "source": [
    "# Scores"
   ]
  },
  {
   "cell_type": "code",
   "execution_count": 442,
   "metadata": {
    "id": "3ayipuJLxYuG"
   },
   "outputs": [],
   "source": [
    "#  get all files from RC In-person subdirectories\n",
    "\n",
    "all_files = glob.glob('C:/Users/tsb7592/Box/Avera NIHTB Data//Rapid City/*/In Person/*CB_Scores.csv')\n",
    "\n",
    "\n",
    "doc =[]\n",
    "for file in all_files:\n",
    "  data = pd.read_csv(file)\n",
    "  doc.append(data)\n",
    "\n",
    "# get all files from all SF In_person subdirectories\n",
    "all_files = glob.glob('C:/Users/tsb7592/Box/Avera NIHTB Data/Sioux Falls/*/In Person/*CB_Scores.csv')\n",
    "\n",
    "for file in all_files:\n",
    "  data = pd.read_csv(file)\n",
    "  doc.append(data)\n",
    "\n",
    "df = pd.concat(doc)"
   ]
  },
  {
   "cell_type": "code",
   "execution_count": 443,
   "metadata": {
    "colab": {
     "base_uri": "https://localhost:8080/"
    },
    "id": "WOvk0V52xqfj",
    "outputId": "8fd94fc2-e9d6-436f-b07c-1c244e15fa5a"
   },
   "outputs": [
    {
     "data": {
      "text/plain": [
       "(162, 28)"
      ]
     },
     "execution_count": 443,
     "metadata": {},
     "output_type": "execute_result"
    }
   ],
   "source": [
    "df.shape"
   ]
  },
  {
   "cell_type": "code",
   "execution_count": 444,
   "metadata": {
    "id": "U_t0U6Q5x0Zl"
   },
   "outputs": [],
   "source": [
    "df['PIN'] = df['PIN'].str[7:19]"
   ]
  },
  {
   "cell_type": "code",
   "execution_count": 445,
   "metadata": {
    "id": "ei6DQb7S4vya"
   },
   "outputs": [],
   "source": [
    "keep =['PIN', 'Inst', 'RawScore', 'Theta', 'SE',\n",
    "       'ItmCnt', 'Computed Score',\n",
    "       'Uncorrected Standard Score', 'Age-Corrected Standard Score',\n",
    "       'National Percentile (age adjusted)', 'Fully-Corrected T-score',\n",
    "       'InstrumentBreakoff', 'InstrumentStatus2']"
   ]
  },
  {
   "cell_type": "code",
   "execution_count": 446,
   "metadata": {
    "id": "3Om5N5Ma56yQ"
   },
   "outputs": [],
   "source": [
    "df=df[keep]"
   ]
  },
  {
   "cell_type": "code",
   "execution_count": 447,
   "metadata": {
    "colab": {
     "base_uri": "https://localhost:8080/",
     "height": 359
    },
    "id": "_WFIOwUytaMY",
    "outputId": "e8f0342d-f2cd-4856-dbb9-0deb907e4731"
   },
   "outputs": [
    {
     "data": {
      "text/html": [
       "<div>\n",
       "<style scoped>\n",
       "    .dataframe tbody tr th:only-of-type {\n",
       "        vertical-align: middle;\n",
       "    }\n",
       "\n",
       "    .dataframe tbody tr th {\n",
       "        vertical-align: top;\n",
       "    }\n",
       "\n",
       "    .dataframe thead th {\n",
       "        text-align: right;\n",
       "    }\n",
       "</style>\n",
       "<table border=\"1\" class=\"dataframe\">\n",
       "  <thead>\n",
       "    <tr style=\"text-align: right;\">\n",
       "      <th></th>\n",
       "      <th>PIN</th>\n",
       "      <th>Total_time</th>\n",
       "      <th>Total_time_R</th>\n",
       "    </tr>\n",
       "  </thead>\n",
       "  <tbody>\n",
       "    <tr>\n",
       "      <th>0</th>\n",
       "      <td>EPRC_00032_A</td>\n",
       "      <td>25.73</td>\n",
       "      <td>27.20</td>\n",
       "    </tr>\n",
       "    <tr>\n",
       "      <th>1</th>\n",
       "      <td>EPRC_00160_A</td>\n",
       "      <td>25.63</td>\n",
       "      <td>31.40</td>\n",
       "    </tr>\n",
       "    <tr>\n",
       "      <th>2</th>\n",
       "      <td>EPRC_00179_A</td>\n",
       "      <td>21.40</td>\n",
       "      <td>27.92</td>\n",
       "    </tr>\n",
       "    <tr>\n",
       "      <th>3</th>\n",
       "      <td>EPRC_00181_A</td>\n",
       "      <td>24.33</td>\n",
       "      <td>27.35</td>\n",
       "    </tr>\n",
       "    <tr>\n",
       "      <th>4</th>\n",
       "      <td>EPRC_00380_A</td>\n",
       "      <td>24.33</td>\n",
       "      <td>27.92</td>\n",
       "    </tr>\n",
       "    <tr>\n",
       "      <th>5</th>\n",
       "      <td>EPSF_00832_A</td>\n",
       "      <td>23.53</td>\n",
       "      <td>26.47</td>\n",
       "    </tr>\n",
       "    <tr>\n",
       "      <th>6</th>\n",
       "      <td>EPSF_00944_A</td>\n",
       "      <td>23.88</td>\n",
       "      <td>34.08</td>\n",
       "    </tr>\n",
       "    <tr>\n",
       "      <th>7</th>\n",
       "      <td>EPSF_01666_A</td>\n",
       "      <td>25.17</td>\n",
       "      <td>27.55</td>\n",
       "    </tr>\n",
       "  </tbody>\n",
       "</table>\n",
       "</div>"
      ],
      "text/plain": [
       "            PIN  Total_time  Total_time_R\n",
       "0  EPRC_00032_A       25.73         27.20\n",
       "1  EPRC_00160_A       25.63         31.40\n",
       "2  EPRC_00179_A       21.40         27.92\n",
       "3  EPRC_00181_A       24.33         27.35\n",
       "4  EPRC_00380_A       24.33         27.92\n",
       "5  EPSF_00832_A       23.53         26.47\n",
       "6  EPSF_00944_A       23.88         34.08\n",
       "7  EPSF_01666_A       25.17         27.55"
      ]
     },
     "execution_count": 447,
     "metadata": {},
     "output_type": "execute_result"
    }
   ],
   "source": [
    "times"
   ]
  },
  {
   "cell_type": "code",
   "execution_count": 448,
   "metadata": {
    "id": "mfuZ4XcBDiTG"
   },
   "outputs": [],
   "source": [
    "#Differentiate the rows contain Composites\n",
    "comp =df[df['Inst'].str.contains(\"Composite\")]\n",
    "raw =df[~df['Inst'].str.contains(\"Composite\")]"
   ]
  },
  {
   "cell_type": "code",
   "execution_count": 449,
   "metadata": {
    "colab": {
     "base_uri": "https://localhost:8080/",
     "height": 510
    },
    "id": "a2U6puaP8P6R",
    "outputId": "87d7133d-d4ce-4f13-cb96-370e346f5db1"
   },
   "outputs": [
    {
     "data": {
      "text/html": [
       "<div>\n",
       "<style scoped>\n",
       "    .dataframe tbody tr th:only-of-type {\n",
       "        vertical-align: middle;\n",
       "    }\n",
       "\n",
       "    .dataframe tbody tr th {\n",
       "        vertical-align: top;\n",
       "    }\n",
       "\n",
       "    .dataframe thead th {\n",
       "        text-align: right;\n",
       "    }\n",
       "</style>\n",
       "<table border=\"1\" class=\"dataframe\">\n",
       "  <thead>\n",
       "    <tr style=\"text-align: right;\">\n",
       "      <th></th>\n",
       "      <th>PIN</th>\n",
       "      <th>Inst</th>\n",
       "      <th>RawScore</th>\n",
       "      <th>Theta</th>\n",
       "      <th>SE</th>\n",
       "      <th>ItmCnt</th>\n",
       "      <th>Computed Score</th>\n",
       "      <th>Uncorrected Standard Score</th>\n",
       "      <th>Age-Corrected Standard Score</th>\n",
       "      <th>National Percentile (age adjusted)</th>\n",
       "      <th>Fully-Corrected T-score</th>\n",
       "      <th>InstrumentBreakoff</th>\n",
       "      <th>InstrumentStatus2</th>\n",
       "    </tr>\n",
       "  </thead>\n",
       "  <tbody>\n",
       "    <tr>\n",
       "      <th>0</th>\n",
       "      <td>EPRC_00032_A</td>\n",
       "      <td>NIH Toolbox Picture Vocabulary Test Age 3+ v2.1</td>\n",
       "      <td>NaN</td>\n",
       "      <td>-2.411</td>\n",
       "      <td>0.475</td>\n",
       "      <td>20.0</td>\n",
       "      <td>NaN</td>\n",
       "      <td>71</td>\n",
       "      <td>95</td>\n",
       "      <td>36</td>\n",
       "      <td>36</td>\n",
       "      <td>2.0</td>\n",
       "      <td>3.0</td>\n",
       "    </tr>\n",
       "    <tr>\n",
       "      <th>1</th>\n",
       "      <td>EPRC_00032_A</td>\n",
       "      <td>NIH Toolbox Flanker Inhibitory Control and Att...</td>\n",
       "      <td>20.0</td>\n",
       "      <td>NaN</td>\n",
       "      <td>NaN</td>\n",
       "      <td>24.0</td>\n",
       "      <td>7.24</td>\n",
       "      <td>89</td>\n",
       "      <td>94</td>\n",
       "      <td>34</td>\n",
       "      <td>45</td>\n",
       "      <td>2.0</td>\n",
       "      <td>3.0</td>\n",
       "    </tr>\n",
       "    <tr>\n",
       "      <th>2</th>\n",
       "      <td>EPRC_00032_A</td>\n",
       "      <td>NIH Toolbox List Sorting Working Memory Test A...</td>\n",
       "      <td>16.0</td>\n",
       "      <td>NaN</td>\n",
       "      <td>NaN</td>\n",
       "      <td>15.0</td>\n",
       "      <td>NaN</td>\n",
       "      <td>97</td>\n",
       "      <td>108</td>\n",
       "      <td>69</td>\n",
       "      <td>48</td>\n",
       "      <td>2.0</td>\n",
       "      <td>3.0</td>\n",
       "    </tr>\n",
       "    <tr>\n",
       "      <th>3</th>\n",
       "      <td>EPRC_00032_A</td>\n",
       "      <td>NIH Toolbox Dimensional Change Card Sort Test ...</td>\n",
       "      <td>26.0</td>\n",
       "      <td>NaN</td>\n",
       "      <td>NaN</td>\n",
       "      <td>38.0</td>\n",
       "      <td>6.73</td>\n",
       "      <td>91</td>\n",
       "      <td>96</td>\n",
       "      <td>40</td>\n",
       "      <td>46</td>\n",
       "      <td>2.0</td>\n",
       "      <td>3.0</td>\n",
       "    </tr>\n",
       "    <tr>\n",
       "      <th>4</th>\n",
       "      <td>EPRC_00032_A</td>\n",
       "      <td>NIH Toolbox Pattern Comparison Processing Spee...</td>\n",
       "      <td>34.0</td>\n",
       "      <td>NaN</td>\n",
       "      <td>NaN</td>\n",
       "      <td>34.0</td>\n",
       "      <td>39.00</td>\n",
       "      <td>80</td>\n",
       "      <td>86</td>\n",
       "      <td>18</td>\n",
       "      <td>39</td>\n",
       "      <td>2.0</td>\n",
       "      <td>3.0</td>\n",
       "    </tr>\n",
       "  </tbody>\n",
       "</table>\n",
       "</div>"
      ],
      "text/plain": [
       "            PIN                                               Inst  RawScore  \\\n",
       "0  EPRC_00032_A    NIH Toolbox Picture Vocabulary Test Age 3+ v2.1       NaN   \n",
       "1  EPRC_00032_A  NIH Toolbox Flanker Inhibitory Control and Att...      20.0   \n",
       "2  EPRC_00032_A  NIH Toolbox List Sorting Working Memory Test A...      16.0   \n",
       "3  EPRC_00032_A  NIH Toolbox Dimensional Change Card Sort Test ...      26.0   \n",
       "4  EPRC_00032_A  NIH Toolbox Pattern Comparison Processing Spee...      34.0   \n",
       "\n",
       "   Theta     SE  ItmCnt  Computed Score  Uncorrected Standard Score  \\\n",
       "0 -2.411  0.475    20.0             NaN                          71   \n",
       "1    NaN    NaN    24.0            7.24                          89   \n",
       "2    NaN    NaN    15.0             NaN                          97   \n",
       "3    NaN    NaN    38.0            6.73                          91   \n",
       "4    NaN    NaN    34.0           39.00                          80   \n",
       "\n",
       "   Age-Corrected Standard Score  National Percentile (age adjusted)  \\\n",
       "0                            95                                  36   \n",
       "1                            94                                  34   \n",
       "2                           108                                  69   \n",
       "3                            96                                  40   \n",
       "4                            86                                  18   \n",
       "\n",
       "   Fully-Corrected T-score  InstrumentBreakoff  InstrumentStatus2  \n",
       "0                       36                 2.0                3.0  \n",
       "1                       45                 2.0                3.0  \n",
       "2                       48                 2.0                3.0  \n",
       "3                       46                 2.0                3.0  \n",
       "4                       39                 2.0                3.0  "
      ]
     },
     "execution_count": 449,
     "metadata": {},
     "output_type": "execute_result"
    }
   ],
   "source": [
    "raw=raw.dropna(axis=1, how='all')\n",
    "raw.head()"
   ]
  },
  {
   "cell_type": "code",
   "execution_count": 450,
   "metadata": {
    "colab": {
     "base_uri": "https://localhost:8080/",
     "height": 238
    },
    "id": "8kCxcBxu_Q-G",
    "outputId": "163b6e64-40b2-4bcb-af2a-f78891683c6f"
   },
   "outputs": [
    {
     "data": {
      "text/html": [
       "<div>\n",
       "<style scoped>\n",
       "    .dataframe tbody tr th:only-of-type {\n",
       "        vertical-align: middle;\n",
       "    }\n",
       "\n",
       "    .dataframe tbody tr th {\n",
       "        vertical-align: top;\n",
       "    }\n",
       "\n",
       "    .dataframe thead th {\n",
       "        text-align: right;\n",
       "    }\n",
       "</style>\n",
       "<table border=\"1\" class=\"dataframe\">\n",
       "  <thead>\n",
       "    <tr style=\"text-align: right;\">\n",
       "      <th></th>\n",
       "      <th>PIN</th>\n",
       "      <th>Inst</th>\n",
       "      <th>Uncorrected Standard Score</th>\n",
       "      <th>Age-Corrected Standard Score</th>\n",
       "      <th>National Percentile (age adjusted)</th>\n",
       "      <th>Fully-Corrected T-score</th>\n",
       "    </tr>\n",
       "  </thead>\n",
       "  <tbody>\n",
       "    <tr>\n",
       "      <th>7</th>\n",
       "      <td>EPRC_00032_A</td>\n",
       "      <td>Cognition Fluid Composite v1.1</td>\n",
       "      <td>93</td>\n",
       "      <td>103</td>\n",
       "      <td>59</td>\n",
       "      <td>48</td>\n",
       "    </tr>\n",
       "    <tr>\n",
       "      <th>8</th>\n",
       "      <td>EPRC_00032_A</td>\n",
       "      <td>Cognition Crystallized Composite v1.1</td>\n",
       "      <td>71</td>\n",
       "      <td>85</td>\n",
       "      <td>16</td>\n",
       "      <td>32</td>\n",
       "    </tr>\n",
       "    <tr>\n",
       "      <th>9</th>\n",
       "      <td>EPRC_00032_A</td>\n",
       "      <td>Cognition Total Composite Score v1.1</td>\n",
       "      <td>78</td>\n",
       "      <td>93</td>\n",
       "      <td>32</td>\n",
       "      <td>38</td>\n",
       "    </tr>\n",
       "    <tr>\n",
       "      <th>10</th>\n",
       "      <td>EPRC_00032_A</td>\n",
       "      <td>Cognition Early Childhood Composite v1.1</td>\n",
       "      <td>89</td>\n",
       "      <td>105</td>\n",
       "      <td>62</td>\n",
       "      <td>48</td>\n",
       "    </tr>\n",
       "    <tr>\n",
       "      <th>7</th>\n",
       "      <td>EPRC_00160_A</td>\n",
       "      <td>Cognition Fluid Composite v1.1</td>\n",
       "      <td>94</td>\n",
       "      <td>109</td>\n",
       "      <td>73</td>\n",
       "      <td>49</td>\n",
       "    </tr>\n",
       "  </tbody>\n",
       "</table>\n",
       "</div>"
      ],
      "text/plain": [
       "             PIN                                      Inst  \\\n",
       "7   EPRC_00032_A            Cognition Fluid Composite v1.1   \n",
       "8   EPRC_00032_A     Cognition Crystallized Composite v1.1   \n",
       "9   EPRC_00032_A      Cognition Total Composite Score v1.1   \n",
       "10  EPRC_00032_A  Cognition Early Childhood Composite v1.1   \n",
       "7   EPRC_00160_A            Cognition Fluid Composite v1.1   \n",
       "\n",
       "    Uncorrected Standard Score  Age-Corrected Standard Score  \\\n",
       "7                           93                           103   \n",
       "8                           71                            85   \n",
       "9                           78                            93   \n",
       "10                          89                           105   \n",
       "7                           94                           109   \n",
       "\n",
       "    National Percentile (age adjusted)  Fully-Corrected T-score  \n",
       "7                                   59                       48  \n",
       "8                                   16                       32  \n",
       "9                                   32                       38  \n",
       "10                                  62                       48  \n",
       "7                                   73                       49  "
      ]
     },
     "execution_count": 450,
     "metadata": {},
     "output_type": "execute_result"
    }
   ],
   "source": [
    "comp=comp.dropna(axis=1, how='all')\n",
    "comp.head()"
   ]
  },
  {
   "cell_type": "code",
   "execution_count": 451,
   "metadata": {
    "colab": {
     "base_uri": "https://localhost:8080/"
    },
    "id": "vKAwCqAMvx_Y",
    "outputId": "a8c05b7b-211d-41a7-b23a-3abb9c7818a9"
   },
   "outputs": [
    {
     "data": {
      "text/plain": [
       "array(['Cognition Fluid Composite v1.1',\n",
       "       'Cognition Crystallized Composite v1.1',\n",
       "       'Cognition Total Composite Score v1.1',\n",
       "       'Cognition Early Childhood Composite v1.1'], dtype=object)"
      ]
     },
     "execution_count": 451,
     "metadata": {},
     "output_type": "execute_result"
    }
   ],
   "source": [
    "comp.Inst.unique()"
   ]
  },
  {
   "cell_type": "code",
   "execution_count": 452,
   "metadata": {
    "id": "S8Zx8UGl87yb"
   },
   "outputs": [],
   "source": [
    "df['Mode'] ='In Person'"
   ]
  },
  {
   "cell_type": "code",
   "execution_count": 453,
   "metadata": {
    "id": "RY4vuD5yrnkW"
   },
   "outputs": [],
   "source": [
    "#  get all files from RC Remote subdirectories\n",
    "\n",
    "all_files = glob.glob('C:/Users/tsb7592/Box/Avera NIHTB Data/Rapid City/*/Remote/*CB_Scores_R.csv')\n",
    "\n",
    "doc =[]\n",
    "for file in all_files:\n",
    "  data = pd.read_csv(file)\n",
    "  doc.append(data)\n",
    "\n",
    "\n",
    "# get all files from all SF In_person subdirectories\n",
    "all_files = glob.glob('C:/Users/tsb7592/Box/Avera NIHTB Data/Sioux Falls/*/Remote/*CB_Scores_R.csv')\n",
    "\n",
    "for file in all_files:\n",
    "  data = pd.read_csv(file)\n",
    "  doc.append(data)\n",
    "\n",
    "\n",
    "dfr = pd.concat(doc)"
   ]
  },
  {
   "cell_type": "code",
   "execution_count": 454,
   "metadata": {
    "colab": {
     "base_uri": "https://localhost:8080/"
    },
    "id": "605OUi3TrnkY",
    "outputId": "d03fc93f-d622-4f07-de45-53776e2ab2d6"
   },
   "outputs": [
    {
     "data": {
      "text/plain": [
       "(94, 28)"
      ]
     },
     "execution_count": 454,
     "metadata": {},
     "output_type": "execute_result"
    }
   ],
   "source": [
    "dfr.shape"
   ]
  },
  {
   "cell_type": "code",
   "execution_count": 455,
   "metadata": {},
   "outputs": [
    {
     "data": {
      "text/plain": [
       "array(['210406_EPRC_00032_A_8Y', '210415_EPRC_00160_A_8Y',\n",
       "       '210408_EPRC_00173_A_8Y', '210420_EPRC_00179_A_8Y',\n",
       "       '210415_EPRC_00181_A_8Y', '210415_EPRC_00183_A_8Y',\n",
       "       '210426_EPRC_00191_A_8Y', '210408_EPSF_00832_A_8Y',\n",
       "       '210408_EPSF _01666_A_NT_CB', '210409_EPSF_00847_A_8Y',\n",
       "       '210409_EPSF_00944_A_8Y', '210415_EPSF_00836_A_8Y'], dtype=object)"
      ]
     },
     "execution_count": 455,
     "metadata": {},
     "output_type": "execute_result"
    }
   ],
   "source": [
    "dfr['PIN'].unique()"
   ]
  },
  {
   "cell_type": "code",
   "execution_count": 456,
   "metadata": {},
   "outputs": [],
   "source": [
    "dfr['PIN']=dfr['PIN'].replace(' ', '', regex=True)"
   ]
  },
  {
   "cell_type": "code",
   "execution_count": 457,
   "metadata": {
    "id": "LhE6D_sTrnkZ"
   },
   "outputs": [],
   "source": [
    "dfr['PIN'] = dfr['PIN'].str[7:19]"
   ]
  },
  {
   "cell_type": "code",
   "execution_count": 458,
   "metadata": {
    "id": "vLGCb_g_rnka"
   },
   "outputs": [],
   "source": [
    "dfr=dfr[keep]"
   ]
  },
  {
   "cell_type": "code",
   "execution_count": 459,
   "metadata": {
    "id": "XGF23MAQ2Dkw"
   },
   "outputs": [
    {
     "data": {
      "text/html": [
       "<div>\n",
       "<style scoped>\n",
       "    .dataframe tbody tr th:only-of-type {\n",
       "        vertical-align: middle;\n",
       "    }\n",
       "\n",
       "    .dataframe tbody tr th {\n",
       "        vertical-align: top;\n",
       "    }\n",
       "\n",
       "    .dataframe thead th {\n",
       "        text-align: right;\n",
       "    }\n",
       "</style>\n",
       "<table border=\"1\" class=\"dataframe\">\n",
       "  <thead>\n",
       "    <tr style=\"text-align: right;\">\n",
       "      <th></th>\n",
       "      <th>PIN</th>\n",
       "      <th>Inst</th>\n",
       "      <th>RawScore</th>\n",
       "      <th>Theta</th>\n",
       "      <th>SE</th>\n",
       "      <th>ItmCnt</th>\n",
       "      <th>Computed Score</th>\n",
       "      <th>Uncorrected Standard Score</th>\n",
       "      <th>Age-Corrected Standard Score</th>\n",
       "      <th>National Percentile (age adjusted)</th>\n",
       "      <th>Fully-Corrected T-score</th>\n",
       "      <th>InstrumentBreakoff</th>\n",
       "      <th>InstrumentStatus2</th>\n",
       "    </tr>\n",
       "  </thead>\n",
       "  <tbody>\n",
       "    <tr>\n",
       "      <th>0</th>\n",
       "      <td>EPRC_00032_A</td>\n",
       "      <td>NIH Toolbox Picture Vocabulary Test Age 3+ v2.1</td>\n",
       "      <td>NaN</td>\n",
       "      <td>-1.730</td>\n",
       "      <td>0.482</td>\n",
       "      <td>24.0</td>\n",
       "      <td>NaN</td>\n",
       "      <td>74.0</td>\n",
       "      <td>95.0</td>\n",
       "      <td>36.0</td>\n",
       "      <td>44.0</td>\n",
       "      <td>2.0</td>\n",
       "      <td>3.0</td>\n",
       "    </tr>\n",
       "    <tr>\n",
       "      <th>1</th>\n",
       "      <td>EPRC_00032_A</td>\n",
       "      <td>NIH Toolbox Oral Reading Recognition Test Age ...</td>\n",
       "      <td>NaN</td>\n",
       "      <td>-4.995</td>\n",
       "      <td>0.500</td>\n",
       "      <td>22.0</td>\n",
       "      <td>NaN</td>\n",
       "      <td>78.0</td>\n",
       "      <td>80.0</td>\n",
       "      <td>10.0</td>\n",
       "      <td>34.0</td>\n",
       "      <td>2.0</td>\n",
       "      <td>3.0</td>\n",
       "    </tr>\n",
       "    <tr>\n",
       "      <th>2</th>\n",
       "      <td>EPRC_00032_A</td>\n",
       "      <td>NIH Toolbox Pattern Comparison Processing Spee...</td>\n",
       "      <td>34.0</td>\n",
       "      <td>NaN</td>\n",
       "      <td>NaN</td>\n",
       "      <td>37.0</td>\n",
       "      <td>39.00</td>\n",
       "      <td>80.0</td>\n",
       "      <td>86.0</td>\n",
       "      <td>18.0</td>\n",
       "      <td>39.0</td>\n",
       "      <td>2.0</td>\n",
       "      <td>3.0</td>\n",
       "    </tr>\n",
       "    <tr>\n",
       "      <th>3</th>\n",
       "      <td>EPRC_00032_A</td>\n",
       "      <td>NIH Toolbox Picture Sequence Memory Test Age 8...</td>\n",
       "      <td>19.0</td>\n",
       "      <td>0.238</td>\n",
       "      <td>0.310</td>\n",
       "      <td>6.0</td>\n",
       "      <td>585.56</td>\n",
       "      <td>115.0</td>\n",
       "      <td>121.0</td>\n",
       "      <td>92.0</td>\n",
       "      <td>62.0</td>\n",
       "      <td>2.0</td>\n",
       "      <td>3.0</td>\n",
       "    </tr>\n",
       "    <tr>\n",
       "      <th>4</th>\n",
       "      <td>EPRC_00032_A</td>\n",
       "      <td>NIH Toolbox Flanker Inhibitory Control and Att...</td>\n",
       "      <td>20.0</td>\n",
       "      <td>NaN</td>\n",
       "      <td>NaN</td>\n",
       "      <td>24.0</td>\n",
       "      <td>6.79</td>\n",
       "      <td>85.0</td>\n",
       "      <td>83.0</td>\n",
       "      <td>13.0</td>\n",
       "      <td>38.0</td>\n",
       "      <td>2.0</td>\n",
       "      <td>3.0</td>\n",
       "    </tr>\n",
       "  </tbody>\n",
       "</table>\n",
       "</div>"
      ],
      "text/plain": [
       "            PIN                                               Inst  RawScore  \\\n",
       "0  EPRC_00032_A    NIH Toolbox Picture Vocabulary Test Age 3+ v2.1       NaN   \n",
       "1  EPRC_00032_A  NIH Toolbox Oral Reading Recognition Test Age ...       NaN   \n",
       "2  EPRC_00032_A  NIH Toolbox Pattern Comparison Processing Spee...      34.0   \n",
       "3  EPRC_00032_A  NIH Toolbox Picture Sequence Memory Test Age 8...      19.0   \n",
       "4  EPRC_00032_A  NIH Toolbox Flanker Inhibitory Control and Att...      20.0   \n",
       "\n",
       "   Theta     SE  ItmCnt  Computed Score  Uncorrected Standard Score  \\\n",
       "0 -1.730  0.482    24.0             NaN                        74.0   \n",
       "1 -4.995  0.500    22.0             NaN                        78.0   \n",
       "2    NaN    NaN    37.0           39.00                        80.0   \n",
       "3  0.238  0.310     6.0          585.56                       115.0   \n",
       "4    NaN    NaN    24.0            6.79                        85.0   \n",
       "\n",
       "   Age-Corrected Standard Score  National Percentile (age adjusted)  \\\n",
       "0                          95.0                                36.0   \n",
       "1                          80.0                                10.0   \n",
       "2                          86.0                                18.0   \n",
       "3                         121.0                                92.0   \n",
       "4                          83.0                                13.0   \n",
       "\n",
       "   Fully-Corrected T-score  InstrumentBreakoff  InstrumentStatus2  \n",
       "0                     44.0                 2.0                3.0  \n",
       "1                     34.0                 2.0                3.0  \n",
       "2                     39.0                 2.0                3.0  \n",
       "3                     62.0                 2.0                3.0  \n",
       "4                     38.0                 2.0                3.0  "
      ]
     },
     "execution_count": 459,
     "metadata": {},
     "output_type": "execute_result"
    }
   ],
   "source": [
    "dfr.head()"
   ]
  },
  {
   "cell_type": "code",
   "execution_count": 460,
   "metadata": {
    "id": "UFn7rcBbrnka"
   },
   "outputs": [],
   "source": [
    "#Differentiate the rows contain Composites\n",
    "comp_r =dfr[dfr['Inst'].str.contains(\"Composite\")]\n",
    "raw_r =dfr[~dfr['Inst'].str.contains(\"Composite\")]"
   ]
  },
  {
   "cell_type": "code",
   "execution_count": 461,
   "metadata": {
    "colab": {
     "base_uri": "https://localhost:8080/",
     "height": 306
    },
    "id": "jcCNLKaLrnkb",
    "outputId": "fef02920-ad59-4b50-9354-4e64e058321d"
   },
   "outputs": [
    {
     "data": {
      "text/html": [
       "<div>\n",
       "<style scoped>\n",
       "    .dataframe tbody tr th:only-of-type {\n",
       "        vertical-align: middle;\n",
       "    }\n",
       "\n",
       "    .dataframe tbody tr th {\n",
       "        vertical-align: top;\n",
       "    }\n",
       "\n",
       "    .dataframe thead th {\n",
       "        text-align: right;\n",
       "    }\n",
       "</style>\n",
       "<table border=\"1\" class=\"dataframe\">\n",
       "  <thead>\n",
       "    <tr style=\"text-align: right;\">\n",
       "      <th></th>\n",
       "      <th>PIN</th>\n",
       "      <th>Inst</th>\n",
       "      <th>Uncorrected Standard Score</th>\n",
       "      <th>Age-Corrected Standard Score</th>\n",
       "      <th>National Percentile (age adjusted)</th>\n",
       "      <th>Fully-Corrected T-score</th>\n",
       "    </tr>\n",
       "  </thead>\n",
       "  <tbody>\n",
       "    <tr>\n",
       "      <th>6</th>\n",
       "      <td>EPRC_00032_A</td>\n",
       "      <td>Cognition Crystallized Composite v1.1</td>\n",
       "      <td>74.0</td>\n",
       "      <td>85.0</td>\n",
       "      <td>16.0</td>\n",
       "      <td>38.0</td>\n",
       "    </tr>\n",
       "    <tr>\n",
       "      <th>7</th>\n",
       "      <td>EPRC_00032_A</td>\n",
       "      <td>Cognition Early Childhood Composite v1.1</td>\n",
       "      <td>85.0</td>\n",
       "      <td>98.0</td>\n",
       "      <td>44.0</td>\n",
       "      <td>43.0</td>\n",
       "    </tr>\n",
       "    <tr>\n",
       "      <th>6</th>\n",
       "      <td>EPRC_00160_A</td>\n",
       "      <td>Cognition Crystallized Composite v1.1</td>\n",
       "      <td>83.0</td>\n",
       "      <td>106.0</td>\n",
       "      <td>66.0</td>\n",
       "      <td>51.0</td>\n",
       "    </tr>\n",
       "    <tr>\n",
       "      <th>7</th>\n",
       "      <td>EPRC_00160_A</td>\n",
       "      <td>Cognition Early Childhood Composite v1.1</td>\n",
       "      <td>79.0</td>\n",
       "      <td>92.0</td>\n",
       "      <td>29.0</td>\n",
       "      <td>42.0</td>\n",
       "    </tr>\n",
       "    <tr>\n",
       "      <th>6</th>\n",
       "      <td>EPRC_00173_A</td>\n",
       "      <td>Cognition Crystallized Composite v1.1</td>\n",
       "      <td>63.0</td>\n",
       "      <td>72.0</td>\n",
       "      <td>3.0</td>\n",
       "      <td>39.0</td>\n",
       "    </tr>\n",
       "  </tbody>\n",
       "</table>\n",
       "</div>"
      ],
      "text/plain": [
       "            PIN                                      Inst  \\\n",
       "6  EPRC_00032_A     Cognition Crystallized Composite v1.1   \n",
       "7  EPRC_00032_A  Cognition Early Childhood Composite v1.1   \n",
       "6  EPRC_00160_A     Cognition Crystallized Composite v1.1   \n",
       "7  EPRC_00160_A  Cognition Early Childhood Composite v1.1   \n",
       "6  EPRC_00173_A     Cognition Crystallized Composite v1.1   \n",
       "\n",
       "   Uncorrected Standard Score  Age-Corrected Standard Score  \\\n",
       "6                        74.0                          85.0   \n",
       "7                        85.0                          98.0   \n",
       "6                        83.0                         106.0   \n",
       "7                        79.0                          92.0   \n",
       "6                        63.0                          72.0   \n",
       "\n",
       "   National Percentile (age adjusted)  Fully-Corrected T-score  \n",
       "6                                16.0                     38.0  \n",
       "7                                44.0                     43.0  \n",
       "6                                66.0                     51.0  \n",
       "7                                29.0                     42.0  \n",
       "6                                 3.0                     39.0  "
      ]
     },
     "execution_count": 461,
     "metadata": {},
     "output_type": "execute_result"
    }
   ],
   "source": [
    "comp_r=comp_r.dropna(axis=1, how='all')\n",
    "comp_r.head()"
   ]
  },
  {
   "cell_type": "code",
   "execution_count": 462,
   "metadata": {
    "id": "gkOBy6TrUUCI"
   },
   "outputs": [],
   "source": [
    "comp['Mode'] = 'In Person'\n",
    "comp_r['Mode'] = 'Remote'\n",
    "boxp = pd.concat([comp,comp_r]) "
   ]
  },
  {
   "cell_type": "code",
   "execution_count": 463,
   "metadata": {},
   "outputs": [
    {
     "data": {
      "text/html": [
       "<div>\n",
       "<style scoped>\n",
       "    .dataframe tbody tr th:only-of-type {\n",
       "        vertical-align: middle;\n",
       "    }\n",
       "\n",
       "    .dataframe tbody tr th {\n",
       "        vertical-align: top;\n",
       "    }\n",
       "\n",
       "    .dataframe thead th {\n",
       "        text-align: right;\n",
       "    }\n",
       "</style>\n",
       "<table border=\"1\" class=\"dataframe\">\n",
       "  <thead>\n",
       "    <tr style=\"text-align: right;\">\n",
       "      <th></th>\n",
       "      <th>PIN</th>\n",
       "      <th>Inst</th>\n",
       "      <th>RawScore</th>\n",
       "      <th>Theta</th>\n",
       "      <th>SE</th>\n",
       "      <th>ItmCnt</th>\n",
       "      <th>Computed Score</th>\n",
       "      <th>Uncorrected Standard Score</th>\n",
       "      <th>Age-Corrected Standard Score</th>\n",
       "      <th>National Percentile (age adjusted)</th>\n",
       "      <th>Fully-Corrected T-score</th>\n",
       "      <th>InstrumentBreakoff</th>\n",
       "      <th>InstrumentStatus2</th>\n",
       "    </tr>\n",
       "  </thead>\n",
       "  <tbody>\n",
       "    <tr>\n",
       "      <th>0</th>\n",
       "      <td>EPRC_00032_A</td>\n",
       "      <td>NIH Toolbox Picture Vocabulary Test Age 3+ v2.1</td>\n",
       "      <td>NaN</td>\n",
       "      <td>-1.730</td>\n",
       "      <td>0.482</td>\n",
       "      <td>24.0</td>\n",
       "      <td>NaN</td>\n",
       "      <td>74.0</td>\n",
       "      <td>95.0</td>\n",
       "      <td>36.0</td>\n",
       "      <td>44.0</td>\n",
       "      <td>2.0</td>\n",
       "      <td>3.0</td>\n",
       "    </tr>\n",
       "    <tr>\n",
       "      <th>1</th>\n",
       "      <td>EPRC_00032_A</td>\n",
       "      <td>NIH Toolbox Oral Reading Recognition Test Age ...</td>\n",
       "      <td>NaN</td>\n",
       "      <td>-4.995</td>\n",
       "      <td>0.500</td>\n",
       "      <td>22.0</td>\n",
       "      <td>NaN</td>\n",
       "      <td>78.0</td>\n",
       "      <td>80.0</td>\n",
       "      <td>10.0</td>\n",
       "      <td>34.0</td>\n",
       "      <td>2.0</td>\n",
       "      <td>3.0</td>\n",
       "    </tr>\n",
       "    <tr>\n",
       "      <th>2</th>\n",
       "      <td>EPRC_00032_A</td>\n",
       "      <td>NIH Toolbox Pattern Comparison Processing Spee...</td>\n",
       "      <td>34.0</td>\n",
       "      <td>NaN</td>\n",
       "      <td>NaN</td>\n",
       "      <td>37.0</td>\n",
       "      <td>39.00</td>\n",
       "      <td>80.0</td>\n",
       "      <td>86.0</td>\n",
       "      <td>18.0</td>\n",
       "      <td>39.0</td>\n",
       "      <td>2.0</td>\n",
       "      <td>3.0</td>\n",
       "    </tr>\n",
       "    <tr>\n",
       "      <th>3</th>\n",
       "      <td>EPRC_00032_A</td>\n",
       "      <td>NIH Toolbox Picture Sequence Memory Test Age 8...</td>\n",
       "      <td>19.0</td>\n",
       "      <td>0.238</td>\n",
       "      <td>0.310</td>\n",
       "      <td>6.0</td>\n",
       "      <td>585.56</td>\n",
       "      <td>115.0</td>\n",
       "      <td>121.0</td>\n",
       "      <td>92.0</td>\n",
       "      <td>62.0</td>\n",
       "      <td>2.0</td>\n",
       "      <td>3.0</td>\n",
       "    </tr>\n",
       "    <tr>\n",
       "      <th>4</th>\n",
       "      <td>EPRC_00032_A</td>\n",
       "      <td>NIH Toolbox Flanker Inhibitory Control and Att...</td>\n",
       "      <td>20.0</td>\n",
       "      <td>NaN</td>\n",
       "      <td>NaN</td>\n",
       "      <td>24.0</td>\n",
       "      <td>6.79</td>\n",
       "      <td>85.0</td>\n",
       "      <td>83.0</td>\n",
       "      <td>13.0</td>\n",
       "      <td>38.0</td>\n",
       "      <td>2.0</td>\n",
       "      <td>3.0</td>\n",
       "    </tr>\n",
       "  </tbody>\n",
       "</table>\n",
       "</div>"
      ],
      "text/plain": [
       "            PIN                                               Inst  RawScore  \\\n",
       "0  EPRC_00032_A    NIH Toolbox Picture Vocabulary Test Age 3+ v2.1       NaN   \n",
       "1  EPRC_00032_A  NIH Toolbox Oral Reading Recognition Test Age ...       NaN   \n",
       "2  EPRC_00032_A  NIH Toolbox Pattern Comparison Processing Spee...      34.0   \n",
       "3  EPRC_00032_A  NIH Toolbox Picture Sequence Memory Test Age 8...      19.0   \n",
       "4  EPRC_00032_A  NIH Toolbox Flanker Inhibitory Control and Att...      20.0   \n",
       "\n",
       "   Theta     SE  ItmCnt  Computed Score  Uncorrected Standard Score  \\\n",
       "0 -1.730  0.482    24.0             NaN                        74.0   \n",
       "1 -4.995  0.500    22.0             NaN                        78.0   \n",
       "2    NaN    NaN    37.0           39.00                        80.0   \n",
       "3  0.238  0.310     6.0          585.56                       115.0   \n",
       "4    NaN    NaN    24.0            6.79                        85.0   \n",
       "\n",
       "   Age-Corrected Standard Score  National Percentile (age adjusted)  \\\n",
       "0                          95.0                                36.0   \n",
       "1                          80.0                                10.0   \n",
       "2                          86.0                                18.0   \n",
       "3                         121.0                                92.0   \n",
       "4                          83.0                                13.0   \n",
       "\n",
       "   Fully-Corrected T-score  InstrumentBreakoff  InstrumentStatus2  \n",
       "0                     44.0                 2.0                3.0  \n",
       "1                     34.0                 2.0                3.0  \n",
       "2                     39.0                 2.0                3.0  \n",
       "3                     62.0                 2.0                3.0  \n",
       "4                     38.0                 2.0                3.0  "
      ]
     },
     "execution_count": 463,
     "metadata": {},
     "output_type": "execute_result"
    }
   ],
   "source": [
    "raw_r=raw_r.dropna(axis=1, how='all')\n",
    "raw_r.head()"
   ]
  },
  {
   "cell_type": "code",
   "execution_count": 464,
   "metadata": {
    "id": "vWHUmcRXWkAf"
   },
   "outputs": [],
   "source": [
    "comp_r=comp_r.drop(columns='Mode')"
   ]
  },
  {
   "cell_type": "code",
   "execution_count": 465,
   "metadata": {
    "id": "Q3OGmLOLWuE0"
   },
   "outputs": [],
   "source": [
    "comp=comp.drop(columns='Mode')"
   ]
  },
  {
   "cell_type": "code",
   "execution_count": 466,
   "metadata": {
    "id": "LcBmTt4fsJjP"
   },
   "outputs": [],
   "source": [
    "comp_r.columns =['PIN', 'Inst', 'Uncorrected Standard Score_r',\n",
    "       'Age-Corrected Standard Score_r', 'National Percentile (age adjusted)_r',\n",
    "       'Fully-Corrected T-score_r']"
   ]
  },
  {
   "cell_type": "code",
   "execution_count": 467,
   "metadata": {
    "id": "3X571ZspAkBI"
   },
   "outputs": [],
   "source": [
    "scores = pd.merge(comp, comp_r, on=[\"PIN\",'Inst'])"
   ]
  },
  {
   "cell_type": "code",
   "execution_count": 468,
   "metadata": {
    "id": "KWVTLHvJ1_RR"
   },
   "outputs": [],
   "source": [
    "dfr['Mode'] = 'Remote'"
   ]
  },
  {
   "cell_type": "markdown",
   "metadata": {
    "colab": {
     "base_uri": "https://localhost:8080/"
    },
    "id": "FFoV_Dz_AsY7",
    "outputId": "46ad728f-0846-4b6b-8273-698191e9bc14"
   },
   "source": [
    "# NIH toolbox "
   ]
  },
  {
   "cell_type": "code",
   "execution_count": 469,
   "metadata": {},
   "outputs": [],
   "source": [
    "raw['Mode'] = 'In Person'\n",
    "raw_r['Mode'] = 'Remote'\n",
    "boxr = pd.concat([raw,raw_r]) "
   ]
  },
  {
   "cell_type": "code",
   "execution_count": 470,
   "metadata": {},
   "outputs": [],
   "source": [
    "keep1=['PIN', 'Inst', 'Age-Corrected Standard Score',\n",
    "       'Fully-Corrected T-score']"
   ]
  },
  {
   "cell_type": "code",
   "execution_count": 471,
   "metadata": {},
   "outputs": [
    {
     "data": {
      "text/html": [
       "<div>\n",
       "<style scoped>\n",
       "    .dataframe tbody tr th:only-of-type {\n",
       "        vertical-align: middle;\n",
       "    }\n",
       "\n",
       "    .dataframe tbody tr th {\n",
       "        vertical-align: top;\n",
       "    }\n",
       "\n",
       "    .dataframe thead th {\n",
       "        text-align: right;\n",
       "    }\n",
       "</style>\n",
       "<table border=\"1\" class=\"dataframe\">\n",
       "  <thead>\n",
       "    <tr style=\"text-align: right;\">\n",
       "      <th></th>\n",
       "      <th>PIN</th>\n",
       "      <th>Inst</th>\n",
       "      <th>Age-Corrected Standard Score</th>\n",
       "      <th>Fully-Corrected T-score</th>\n",
       "      <th>Mode</th>\n",
       "    </tr>\n",
       "  </thead>\n",
       "  <tbody>\n",
       "    <tr>\n",
       "      <th>0</th>\n",
       "      <td>EPRC_00032_A</td>\n",
       "      <td>NIH Toolbox Picture Vocabulary Test Age 3+ v2.1</td>\n",
       "      <td>95.0</td>\n",
       "      <td>36.0</td>\n",
       "      <td>In Person</td>\n",
       "    </tr>\n",
       "    <tr>\n",
       "      <th>1</th>\n",
       "      <td>EPRC_00032_A</td>\n",
       "      <td>NIH Toolbox Flanker Inhibitory Control and Att...</td>\n",
       "      <td>94.0</td>\n",
       "      <td>45.0</td>\n",
       "      <td>In Person</td>\n",
       "    </tr>\n",
       "    <tr>\n",
       "      <th>2</th>\n",
       "      <td>EPRC_00032_A</td>\n",
       "      <td>NIH Toolbox List Sorting Working Memory Test A...</td>\n",
       "      <td>108.0</td>\n",
       "      <td>48.0</td>\n",
       "      <td>In Person</td>\n",
       "    </tr>\n",
       "    <tr>\n",
       "      <th>3</th>\n",
       "      <td>EPRC_00032_A</td>\n",
       "      <td>NIH Toolbox Dimensional Change Card Sort Test ...</td>\n",
       "      <td>96.0</td>\n",
       "      <td>46.0</td>\n",
       "      <td>In Person</td>\n",
       "    </tr>\n",
       "    <tr>\n",
       "      <th>4</th>\n",
       "      <td>EPRC_00032_A</td>\n",
       "      <td>NIH Toolbox Pattern Comparison Processing Spee...</td>\n",
       "      <td>86.0</td>\n",
       "      <td>39.0</td>\n",
       "      <td>In Person</td>\n",
       "    </tr>\n",
       "    <tr>\n",
       "      <th>...</th>\n",
       "      <td>...</td>\n",
       "      <td>...</td>\n",
       "      <td>...</td>\n",
       "      <td>...</td>\n",
       "      <td>...</td>\n",
       "    </tr>\n",
       "    <tr>\n",
       "      <th>1</th>\n",
       "      <td>EPSF_00836_A</td>\n",
       "      <td>NIH Toolbox Flanker Inhibitory Control and Att...</td>\n",
       "      <td>83.0</td>\n",
       "      <td>40.0</td>\n",
       "      <td>Remote</td>\n",
       "    </tr>\n",
       "    <tr>\n",
       "      <th>2</th>\n",
       "      <td>EPSF_00836_A</td>\n",
       "      <td>NIH Toolbox Dimensional Change Card Sort Test ...</td>\n",
       "      <td>87.0</td>\n",
       "      <td>42.0</td>\n",
       "      <td>Remote</td>\n",
       "    </tr>\n",
       "    <tr>\n",
       "      <th>3</th>\n",
       "      <td>EPSF_00836_A</td>\n",
       "      <td>NIH Toolbox Pattern Comparison Processing Spee...</td>\n",
       "      <td>95.0</td>\n",
       "      <td>48.0</td>\n",
       "      <td>Remote</td>\n",
       "    </tr>\n",
       "    <tr>\n",
       "      <th>4</th>\n",
       "      <td>EPSF_00836_A</td>\n",
       "      <td>NIH Toolbox Picture Sequence Memory Test Age 8...</td>\n",
       "      <td>99.0</td>\n",
       "      <td>57.0</td>\n",
       "      <td>Remote</td>\n",
       "    </tr>\n",
       "    <tr>\n",
       "      <th>5</th>\n",
       "      <td>EPSF_00836_A</td>\n",
       "      <td>NIH Toolbox Oral Reading Recognition Test Age ...</td>\n",
       "      <td>93.0</td>\n",
       "      <td>50.0</td>\n",
       "      <td>Remote</td>\n",
       "    </tr>\n",
       "  </tbody>\n",
       "</table>\n",
       "<p>177 rows × 5 columns</p>\n",
       "</div>"
      ],
      "text/plain": [
       "             PIN                                               Inst  \\\n",
       "0   EPRC_00032_A    NIH Toolbox Picture Vocabulary Test Age 3+ v2.1   \n",
       "1   EPRC_00032_A  NIH Toolbox Flanker Inhibitory Control and Att...   \n",
       "2   EPRC_00032_A  NIH Toolbox List Sorting Working Memory Test A...   \n",
       "3   EPRC_00032_A  NIH Toolbox Dimensional Change Card Sort Test ...   \n",
       "4   EPRC_00032_A  NIH Toolbox Pattern Comparison Processing Spee...   \n",
       "..           ...                                                ...   \n",
       "1   EPSF_00836_A  NIH Toolbox Flanker Inhibitory Control and Att...   \n",
       "2   EPSF_00836_A  NIH Toolbox Dimensional Change Card Sort Test ...   \n",
       "3   EPSF_00836_A  NIH Toolbox Pattern Comparison Processing Spee...   \n",
       "4   EPSF_00836_A  NIH Toolbox Picture Sequence Memory Test Age 8...   \n",
       "5   EPSF_00836_A  NIH Toolbox Oral Reading Recognition Test Age ...   \n",
       "\n",
       "    Age-Corrected Standard Score  Fully-Corrected T-score       Mode  \n",
       "0                           95.0                     36.0  In Person  \n",
       "1                           94.0                     45.0  In Person  \n",
       "2                          108.0                     48.0  In Person  \n",
       "3                           96.0                     46.0  In Person  \n",
       "4                           86.0                     39.0  In Person  \n",
       "..                           ...                      ...        ...  \n",
       "1                           83.0                     40.0     Remote  \n",
       "2                           87.0                     42.0     Remote  \n",
       "3                           95.0                     48.0     Remote  \n",
       "4                           99.0                     57.0     Remote  \n",
       "5                           93.0                     50.0     Remote  \n",
       "\n",
       "[177 rows x 5 columns]"
      ]
     },
     "execution_count": 471,
     "metadata": {},
     "output_type": "execute_result"
    }
   ],
   "source": [
    "boxr=boxr[['PIN', 'Inst', 'Age-Corrected Standard Score',\n",
    "       'Fully-Corrected T-score','Mode']]\n",
    "boxr"
   ]
  },
  {
   "cell_type": "code",
   "execution_count": 472,
   "metadata": {},
   "outputs": [
    {
     "data": {
      "text/plain": [
       "Index(['PIN', 'Inst', 'RawScore', 'Theta', 'SE', 'ItmCnt', 'Computed Score',\n",
       "       'Uncorrected Standard Score', 'Age-Corrected Standard Score',\n",
       "       'National Percentile (age adjusted)', 'Fully-Corrected T-score',\n",
       "       'InstrumentBreakoff', 'InstrumentStatus2', 'Mode'],\n",
       "      dtype='object')"
      ]
     },
     "execution_count": 472,
     "metadata": {},
     "output_type": "execute_result"
    }
   ],
   "source": [
    "raw.columns"
   ]
  },
  {
   "cell_type": "code",
   "execution_count": 473,
   "metadata": {},
   "outputs": [],
   "source": [
    "raw=raw[keep1]\n",
    "raw_r = raw_r[keep1]"
   ]
  },
  {
   "cell_type": "code",
   "execution_count": 474,
   "metadata": {},
   "outputs": [],
   "source": [
    "raw_r.columns =['PIN', 'Inst', 'Age-Corrected Standard Score_r',\n",
    "       'Fully-Corrected T-score_r']"
   ]
  },
  {
   "cell_type": "code",
   "execution_count": 475,
   "metadata": {},
   "outputs": [],
   "source": [
    "NIH = pd.merge(raw, raw_r, on=[\"PIN\",'Inst'])"
   ]
  },
  {
   "cell_type": "code",
   "execution_count": 476,
   "metadata": {},
   "outputs": [
    {
     "data": {
      "text/plain": [
       "(177, 5)"
      ]
     },
     "execution_count": 476,
     "metadata": {},
     "output_type": "execute_result"
    }
   ],
   "source": [
    "boxr.shape"
   ]
  },
  {
   "cell_type": "code",
   "execution_count": 477,
   "metadata": {},
   "outputs": [],
   "source": [
    "from statistics import mean, stdev\n",
    "from math import sqrt\n",
    "\n",
    "# Cohen’s d\n",
    "def chens_d(c0, c1):\n",
    "    cohens_d = (mean(c0) - mean(c1)) / (sqrt((stdev(c0) ** 2 + stdev(c1) ** 2) / 2))\n",
    "    return cohens_d"
   ]
  },
  {
   "cell_type": "code",
   "execution_count": 478,
   "metadata": {},
   "outputs": [
    {
     "data": {
      "text/plain": [
       "In Person    104\n",
       "Remote        73\n",
       "Name: Mode, dtype: int64"
      ]
     },
     "execution_count": 478,
     "metadata": {},
     "output_type": "execute_result"
    }
   ],
   "source": [
    "boxr.Mode.value_counts()"
   ]
  },
  {
   "cell_type": "code",
   "execution_count": 479,
   "metadata": {},
   "outputs": [],
   "source": [
    "boxr[\"Inst\"].replace({'NIH Toolbox Picture Vocabulary Test Age 3+ v2.1':'Pic_Vocabulary',\n",
    "       'NIH Toolbox Flanker Inhibitory Control and Attention Test Ages 8-11 v2.1':'Flanker',\n",
    "       'NIH Toolbox List Sorting Working Memory Test Age 7+ v2.1':'List_Sorting',\n",
    "       'NIH Toolbox Dimensional Change Card Sort Test Ages 8-11 v2.1':'DCCS',\n",
    "       'NIH Toolbox Pattern Comparison Processing Speed Test Age 7+ v2.1':'Pattern_Comp',\n",
    "       'NIH Toolbox Picture Sequence Memory Test Age 8+ Form A v2.1':'Pic_Seq',\n",
    "       'NIH Toolbox Oral Reading Recognition Test Age 3+ v2.1':'Oral_Reading',\n",
    "       'NIH Toolbox Picture Sequence Memory Test Age 8+ Form B v2.1':'Pic_Seq',\n",
    "       'NIH Toolbox Oral Reading Recognition Test Age 3+ Instructions v2.1':'Oral_Reading'}, inplace=True)"
   ]
  },
  {
   "cell_type": "code",
   "execution_count": 480,
   "metadata": {},
   "outputs": [],
   "source": [
    "boxr=boxr[~boxr.Inst.str.contains(\"List_Sorting\")]"
   ]
  },
  {
   "cell_type": "code",
   "execution_count": 481,
   "metadata": {},
   "outputs": [
    {
     "data": {
      "text/plain": [
       "[Text(0, 0, 'Pic_Vocabulary'),\n",
       " Text(1, 0, 'Flanker'),\n",
       " Text(2, 0, 'DCCS'),\n",
       " Text(3, 0, 'Pattern_Comp'),\n",
       " Text(4, 0, 'Pic_Seq'),\n",
       " Text(5, 0, 'Oral_Reading')]"
      ]
     },
     "execution_count": 481,
     "metadata": {},
     "output_type": "execute_result"
    },
    {
     "data": {
      "image/png": "[encoded data removed]",
      "text/plain": [
       "<Figure size 576x432 with 1 Axes>"
      ]
     },
     "metadata": {},
     "output_type": "display_data"
    }
   ],
   "source": [
    "plt.figure(figsize=(8, 6))\n",
    "chart =sns.boxplot(x = 'Inst', y = 'Age-Corrected Standard Score', hue='Mode',data = boxr)\n",
    "plt.title('Age-Corrected Standard score')\n",
    "chart.set_xticklabels(chart.get_xticklabels(), rotation=45, horizontalalignment='right')"
   ]
  },
  {
   "cell_type": "code",
   "execution_count": 482,
   "metadata": {
    "scrolled": true
   },
   "outputs": [
    {
     "data": {
      "text/plain": [
       "[Text(0, 0, 'Pic_Vocabulary'),\n",
       " Text(1, 0, 'Flanker'),\n",
       " Text(2, 0, 'DCCS'),\n",
       " Text(3, 0, 'Pattern_Comp'),\n",
       " Text(4, 0, 'Pic_Seq'),\n",
       " Text(5, 0, 'Oral_Reading')]"
      ]
     },
     "execution_count": 482,
     "metadata": {},
     "output_type": "execute_result"
    },
    {
     "data": {
      "image/png": "[encoded data removed]",
      "text/plain": [
       "<Figure size 576x432 with 1 Axes>"
      ]
     },
     "metadata": {},
     "output_type": "display_data"
    }
   ],
   "source": [
    "plt.figure(figsize=(8, 6))\n",
    "chart =sns.boxplot(x = 'Inst', y = 'Fully-Corrected T-score', hue='Mode',data = boxr)\n",
    "plt.title('Fully-Corrected T-score')\n",
    "chart.set_xticklabels(chart.get_xticklabels(), rotation=45, horizontalalignment='right')"
   ]
  },
  {
   "cell_type": "markdown",
   "metadata": {},
   "source": [
    "# multiple ANOVA\n",
    "https://www.marsja.se/python-manova-made-easy-using-statsmodels/"
   ]
  },
  {
   "cell_type": "code",
   "execution_count": 483,
   "metadata": {},
   "outputs": [],
   "source": [
    "from statsmodels.multivariate.manova import MANOVA"
   ]
  },
  {
   "cell_type": "code",
   "execution_count": 484,
   "metadata": {},
   "outputs": [],
   "source": [
    "#Drop this duplicate \n",
    "boxr= boxr[boxr['PIN']!='EPSF_01247_A']"
   ]
  },
  {
   "cell_type": "code",
   "execution_count": 485,
   "metadata": {},
   "outputs": [],
   "source": [
    "boxr.to_csv('C:/Users/tsb7592/Box/Avera NIHTB Data/Subset/ICC_data.csv', index=False)"
   ]
  },
  {
   "cell_type": "code",
   "execution_count": 486,
   "metadata": {},
   "outputs": [],
   "source": [
    "ma=boxr.pivot_table(index=['PIN', 'Mode'], columns='Inst', values='Age-Corrected Standard Score', aggfunc='first').reset_index()\n",
    "mf=boxr.pivot_table(index=['PIN', 'Mode'], columns='Inst', values='Fully-Corrected T-score', aggfunc='first').reset_index()"
   ]
  },
  {
   "cell_type": "code",
   "execution_count": 487,
   "metadata": {
    "scrolled": true
   },
   "outputs": [],
   "source": [
    "#ma=ma.drop(columns=['List_Sorting'])"
   ]
  },
  {
   "cell_type": "code",
   "execution_count": 488,
   "metadata": {},
   "outputs": [],
   "source": [
    "ma =ma.dropna()"
   ]
  },
  {
   "cell_type": "code",
   "execution_count": 489,
   "metadata": {},
   "outputs": [
    {
     "data": {
      "text/html": [
       "<div>\n",
       "<style scoped>\n",
       "    .dataframe tbody tr th:only-of-type {\n",
       "        vertical-align: middle;\n",
       "    }\n",
       "\n",
       "    .dataframe tbody tr th {\n",
       "        vertical-align: top;\n",
       "    }\n",
       "\n",
       "    .dataframe thead th {\n",
       "        text-align: right;\n",
       "    }\n",
       "</style>\n",
       "<table border=\"1\" class=\"dataframe\">\n",
       "  <thead>\n",
       "    <tr style=\"text-align: right;\">\n",
       "      <th>Inst</th>\n",
       "      <th>PIN</th>\n",
       "      <th>Mode</th>\n",
       "      <th>DCCS</th>\n",
       "      <th>Flanker</th>\n",
       "      <th>Oral_Reading</th>\n",
       "      <th>Pattern_Comp</th>\n",
       "      <th>Pic_Seq</th>\n",
       "      <th>Pic_Vocabulary</th>\n",
       "    </tr>\n",
       "  </thead>\n",
       "  <tbody>\n",
       "    <tr>\n",
       "      <th>0</th>\n",
       "      <td>EPRC_00032_A</td>\n",
       "      <td>In Person</td>\n",
       "      <td>96.0</td>\n",
       "      <td>94.0</td>\n",
       "      <td>80.0</td>\n",
       "      <td>86.0</td>\n",
       "      <td>128.0</td>\n",
       "      <td>95.0</td>\n",
       "    </tr>\n",
       "    <tr>\n",
       "      <th>1</th>\n",
       "      <td>EPRC_00032_A</td>\n",
       "      <td>Remote</td>\n",
       "      <td>96.0</td>\n",
       "      <td>83.0</td>\n",
       "      <td>80.0</td>\n",
       "      <td>86.0</td>\n",
       "      <td>121.0</td>\n",
       "      <td>95.0</td>\n",
       "    </tr>\n",
       "    <tr>\n",
       "      <th>2</th>\n",
       "      <td>EPRC_00160_A</td>\n",
       "      <td>In Person</td>\n",
       "      <td>96.0</td>\n",
       "      <td>94.0</td>\n",
       "      <td>93.0</td>\n",
       "      <td>104.0</td>\n",
       "      <td>121.0</td>\n",
       "      <td>106.0</td>\n",
       "    </tr>\n",
       "    <tr>\n",
       "      <th>3</th>\n",
       "      <td>EPRC_00160_A</td>\n",
       "      <td>Remote</td>\n",
       "      <td>87.0</td>\n",
       "      <td>83.0</td>\n",
       "      <td>93.0</td>\n",
       "      <td>104.0</td>\n",
       "      <td>92.0</td>\n",
       "      <td>118.0</td>\n",
       "    </tr>\n",
       "    <tr>\n",
       "      <th>4</th>\n",
       "      <td>EPRC_00162_A</td>\n",
       "      <td>In Person</td>\n",
       "      <td>96.0</td>\n",
       "      <td>104.0</td>\n",
       "      <td>93.0</td>\n",
       "      <td>104.0</td>\n",
       "      <td>85.0</td>\n",
       "      <td>106.0</td>\n",
       "    </tr>\n",
       "    <tr>\n",
       "      <th>5</th>\n",
       "      <td>EPRC_00173_A</td>\n",
       "      <td>In Person</td>\n",
       "      <td>87.0</td>\n",
       "      <td>104.0</td>\n",
       "      <td>80.0</td>\n",
       "      <td>123.0</td>\n",
       "      <td>99.0</td>\n",
       "      <td>95.0</td>\n",
       "    </tr>\n",
       "    <tr>\n",
       "      <th>7</th>\n",
       "      <td>EPRC_00179_A</td>\n",
       "      <td>In Person</td>\n",
       "      <td>106.0</td>\n",
       "      <td>104.0</td>\n",
       "      <td>93.0</td>\n",
       "      <td>95.0</td>\n",
       "      <td>114.0</td>\n",
       "      <td>118.0</td>\n",
       "    </tr>\n",
       "    <tr>\n",
       "      <th>9</th>\n",
       "      <td>EPRC_00181_A</td>\n",
       "      <td>In Person</td>\n",
       "      <td>87.0</td>\n",
       "      <td>94.0</td>\n",
       "      <td>105.0</td>\n",
       "      <td>95.0</td>\n",
       "      <td>92.0</td>\n",
       "      <td>95.0</td>\n",
       "    </tr>\n",
       "    <tr>\n",
       "      <th>10</th>\n",
       "      <td>EPRC_00181_A</td>\n",
       "      <td>Remote</td>\n",
       "      <td>96.0</td>\n",
       "      <td>83.0</td>\n",
       "      <td>105.0</td>\n",
       "      <td>104.0</td>\n",
       "      <td>99.0</td>\n",
       "      <td>95.0</td>\n",
       "    </tr>\n",
       "    <tr>\n",
       "      <th>12</th>\n",
       "      <td>EPRC_00191_A</td>\n",
       "      <td>Remote</td>\n",
       "      <td>96.0</td>\n",
       "      <td>94.0</td>\n",
       "      <td>80.0</td>\n",
       "      <td>95.0</td>\n",
       "      <td>85.0</td>\n",
       "      <td>106.0</td>\n",
       "    </tr>\n",
       "    <tr>\n",
       "      <th>13</th>\n",
       "      <td>EPRC_00380_A</td>\n",
       "      <td>In Person</td>\n",
       "      <td>87.0</td>\n",
       "      <td>94.0</td>\n",
       "      <td>80.0</td>\n",
       "      <td>68.0</td>\n",
       "      <td>85.0</td>\n",
       "      <td>106.0</td>\n",
       "    </tr>\n",
       "    <tr>\n",
       "      <th>14</th>\n",
       "      <td>EPRC_00550_A</td>\n",
       "      <td>In Person</td>\n",
       "      <td>106.0</td>\n",
       "      <td>94.0</td>\n",
       "      <td>105.0</td>\n",
       "      <td>77.0</td>\n",
       "      <td>99.0</td>\n",
       "      <td>106.0</td>\n",
       "    </tr>\n",
       "    <tr>\n",
       "      <th>15</th>\n",
       "      <td>EPSF_00832_A</td>\n",
       "      <td>In Person</td>\n",
       "      <td>87.0</td>\n",
       "      <td>94.0</td>\n",
       "      <td>117.0</td>\n",
       "      <td>86.0</td>\n",
       "      <td>121.0</td>\n",
       "      <td>118.0</td>\n",
       "    </tr>\n",
       "    <tr>\n",
       "      <th>16</th>\n",
       "      <td>EPSF_00832_A</td>\n",
       "      <td>Remote</td>\n",
       "      <td>96.0</td>\n",
       "      <td>94.0</td>\n",
       "      <td>105.0</td>\n",
       "      <td>95.0</td>\n",
       "      <td>99.0</td>\n",
       "      <td>118.0</td>\n",
       "    </tr>\n",
       "    <tr>\n",
       "      <th>17</th>\n",
       "      <td>EPSF_00836_A</td>\n",
       "      <td>Remote</td>\n",
       "      <td>87.0</td>\n",
       "      <td>83.0</td>\n",
       "      <td>93.0</td>\n",
       "      <td>95.0</td>\n",
       "      <td>99.0</td>\n",
       "      <td>95.0</td>\n",
       "    </tr>\n",
       "    <tr>\n",
       "      <th>18</th>\n",
       "      <td>EPSF_00847_A</td>\n",
       "      <td>Remote</td>\n",
       "      <td>115.0</td>\n",
       "      <td>94.0</td>\n",
       "      <td>93.0</td>\n",
       "      <td>77.0</td>\n",
       "      <td>114.0</td>\n",
       "      <td>106.0</td>\n",
       "    </tr>\n",
       "    <tr>\n",
       "      <th>19</th>\n",
       "      <td>EPSF_00944_A</td>\n",
       "      <td>In Person</td>\n",
       "      <td>96.0</td>\n",
       "      <td>104.0</td>\n",
       "      <td>80.0</td>\n",
       "      <td>123.0</td>\n",
       "      <td>92.0</td>\n",
       "      <td>106.0</td>\n",
       "    </tr>\n",
       "    <tr>\n",
       "      <th>20</th>\n",
       "      <td>EPSF_00944_A</td>\n",
       "      <td>Remote</td>\n",
       "      <td>96.0</td>\n",
       "      <td>94.0</td>\n",
       "      <td>80.0</td>\n",
       "      <td>114.0</td>\n",
       "      <td>77.0</td>\n",
       "      <td>106.0</td>\n",
       "    </tr>\n",
       "    <tr>\n",
       "      <th>21</th>\n",
       "      <td>EPSF_00944_B</td>\n",
       "      <td>In Person</td>\n",
       "      <td>106.0</td>\n",
       "      <td>94.0</td>\n",
       "      <td>80.0</td>\n",
       "      <td>132.0</td>\n",
       "      <td>92.0</td>\n",
       "      <td>95.0</td>\n",
       "    </tr>\n",
       "    <tr>\n",
       "      <th>22</th>\n",
       "      <td>EPSF_01666_A</td>\n",
       "      <td>In Person</td>\n",
       "      <td>96.0</td>\n",
       "      <td>114.0</td>\n",
       "      <td>93.0</td>\n",
       "      <td>95.0</td>\n",
       "      <td>106.0</td>\n",
       "      <td>95.0</td>\n",
       "    </tr>\n",
       "  </tbody>\n",
       "</table>\n",
       "</div>"
      ],
      "text/plain": [
       "Inst           PIN       Mode   DCCS  Flanker  Oral_Reading  Pattern_Comp  \\\n",
       "0     EPRC_00032_A  In Person   96.0     94.0          80.0          86.0   \n",
       "1     EPRC_00032_A     Remote   96.0     83.0          80.0          86.0   \n",
       "2     EPRC_00160_A  In Person   96.0     94.0          93.0         104.0   \n",
       "3     EPRC_00160_A     Remote   87.0     83.0          93.0         104.0   \n",
       "4     EPRC_00162_A  In Person   96.0    104.0          93.0         104.0   \n",
       "5     EPRC_00173_A  In Person   87.0    104.0          80.0         123.0   \n",
       "7     EPRC_00179_A  In Person  106.0    104.0          93.0          95.0   \n",
       "9     EPRC_00181_A  In Person   87.0     94.0         105.0          95.0   \n",
       "10    EPRC_00181_A     Remote   96.0     83.0         105.0         104.0   \n",
       "12    EPRC_00191_A     Remote   96.0     94.0          80.0          95.0   \n",
       "13    EPRC_00380_A  In Person   87.0     94.0          80.0          68.0   \n",
       "14    EPRC_00550_A  In Person  106.0     94.0         105.0          77.0   \n",
       "15    EPSF_00832_A  In Person   87.0     94.0         117.0          86.0   \n",
       "16    EPSF_00832_A     Remote   96.0     94.0         105.0          95.0   \n",
       "17    EPSF_00836_A     Remote   87.0     83.0          93.0          95.0   \n",
       "18    EPSF_00847_A     Remote  115.0     94.0          93.0          77.0   \n",
       "19    EPSF_00944_A  In Person   96.0    104.0          80.0         123.0   \n",
       "20    EPSF_00944_A     Remote   96.0     94.0          80.0         114.0   \n",
       "21    EPSF_00944_B  In Person  106.0     94.0          80.0         132.0   \n",
       "22    EPSF_01666_A  In Person   96.0    114.0          93.0          95.0   \n",
       "\n",
       "Inst  Pic_Seq  Pic_Vocabulary  \n",
       "0       128.0            95.0  \n",
       "1       121.0            95.0  \n",
       "2       121.0           106.0  \n",
       "3        92.0           118.0  \n",
       "4        85.0           106.0  \n",
       "5        99.0            95.0  \n",
       "7       114.0           118.0  \n",
       "9        92.0            95.0  \n",
       "10       99.0            95.0  \n",
       "12       85.0           106.0  \n",
       "13       85.0           106.0  \n",
       "14       99.0           106.0  \n",
       "15      121.0           118.0  \n",
       "16       99.0           118.0  \n",
       "17       99.0            95.0  \n",
       "18      114.0           106.0  \n",
       "19       92.0           106.0  \n",
       "20       77.0           106.0  \n",
       "21       92.0            95.0  \n",
       "22      106.0            95.0  "
      ]
     },
     "execution_count": 489,
     "metadata": {},
     "output_type": "execute_result"
    }
   ],
   "source": [
    "ma"
   ]
  },
  {
   "cell_type": "code",
   "execution_count": 490,
   "metadata": {},
   "outputs": [
    {
     "data": {
      "text/plain": [
       "Index(['PIN', 'Mode', 'DCCS', 'Flanker', 'Oral_Reading', 'Pattern_Comp',\n",
       "       'Pic_Seq', 'Pic_Vocabulary'],\n",
       "      dtype='object', name='Inst')"
      ]
     },
     "execution_count": 490,
     "metadata": {},
     "output_type": "execute_result"
    }
   ],
   "source": [
    "ma.columns"
   ]
  },
  {
   "cell_type": "code",
   "execution_count": 491,
   "metadata": {},
   "outputs": [],
   "source": [
    "maov = MANOVA.from_formula('DCCS+ Flanker +Oral_Reading+Pattern_Comp+Pic_Seq+Pic_Vocabulary~ Mode', data=ma)"
   ]
  },
  {
   "cell_type": "code",
   "execution_count": 492,
   "metadata": {},
   "outputs": [],
   "source": [
    "print('***multiple ANOVA ---Aged***')\n",
    "print(maov.mv_test())\n",
    "print('')"
   ]
  },
  {
   "cell_type": "code",
   "execution_count": 493,
   "metadata": {},
   "outputs": [],
   "source": [
    "mf =mf.dropna()"
   ]
  },
  {
   "cell_type": "code",
   "execution_count": 494,
   "metadata": {},
   "outputs": [],
   "source": [
    "maov1 = MANOVA.from_formula('DCCS+ Flanker +Oral_Reading+Pattern_Comp+Pic_Seq+Pic_Vocabulary~ Mode', data=mf)"
   ]
  },
  {
   "cell_type": "code",
   "execution_count": 495,
   "metadata": {},
   "outputs": [],
   "source": [
    "print('***multiple ANOVA ---Fully***')\n",
    "print(maov1.mv_test())\n",
    "print('')"
   ]
  },
  {
   "cell_type": "code",
   "execution_count": 496,
   "metadata": {},
   "outputs": [],
   "source": [
    "meas =['DCCS','Pic_Vocabulary',\n",
    " 'Flanker',\n",
    " 'Pattern_Comp',\n",
    " 'Pic_Seq',\n",
    " 'Oral_Reading']"
   ]
  },
  {
   "cell_type": "code",
   "execution_count": 497,
   "metadata": {},
   "outputs": [
    {
     "data": {
      "text/html": [
       "<div>\n",
       "<style scoped>\n",
       "    .dataframe tbody tr th:only-of-type {\n",
       "        vertical-align: middle;\n",
       "    }\n",
       "\n",
       "    .dataframe tbody tr th {\n",
       "        vertical-align: top;\n",
       "    }\n",
       "\n",
       "    .dataframe thead th {\n",
       "        text-align: right;\n",
       "    }\n",
       "</style>\n",
       "<table border=\"1\" class=\"dataframe\">\n",
       "  <thead>\n",
       "    <tr style=\"text-align: right;\">\n",
       "      <th></th>\n",
       "      <th>Type</th>\n",
       "      <th>Description</th>\n",
       "      <th>ICC</th>\n",
       "      <th>F</th>\n",
       "      <th>df1</th>\n",
       "      <th>df2</th>\n",
       "      <th>pval</th>\n",
       "      <th>CI95%</th>\n",
       "    </tr>\n",
       "  </thead>\n",
       "  <tbody>\n",
       "    <tr>\n",
       "      <th>3</th>\n",
       "      <td>ICC1k</td>\n",
       "      <td>Average raters absolute</td>\n",
       "      <td>0.415957</td>\n",
       "      <td>1.712203</td>\n",
       "      <td>7</td>\n",
       "      <td>8</td>\n",
       "      <td>0.233527</td>\n",
       "      <td>[-1.64, 0.88]</td>\n",
       "    </tr>\n",
       "    <tr>\n",
       "      <th>5</th>\n",
       "      <td>ICC3k</td>\n",
       "      <td>Average fixed raters</td>\n",
       "      <td>0.332766</td>\n",
       "      <td>1.498724</td>\n",
       "      <td>7</td>\n",
       "      <td>7</td>\n",
       "      <td>0.303326</td>\n",
       "      <td>[-2.33, 0.87]</td>\n",
       "    </tr>\n",
       "  </tbody>\n",
       "</table>\n",
       "</div>"
      ],
      "text/plain": [
       "    Type              Description       ICC         F  df1  df2      pval  \\\n",
       "3  ICC1k  Average raters absolute  0.415957  1.712203    7    8  0.233527   \n",
       "5  ICC3k     Average fixed raters  0.332766  1.498724    7    7  0.303326   \n",
       "\n",
       "           CI95%  \n",
       "3  [-1.64, 0.88]  \n",
       "5  [-2.33, 0.87]  "
      ]
     },
     "metadata": {},
     "output_type": "display_data"
    },
    {
     "data": {
      "text/html": [
       "<div>\n",
       "<style scoped>\n",
       "    .dataframe tbody tr th:only-of-type {\n",
       "        vertical-align: middle;\n",
       "    }\n",
       "\n",
       "    .dataframe tbody tr th {\n",
       "        vertical-align: top;\n",
       "    }\n",
       "\n",
       "    .dataframe thead th {\n",
       "        text-align: right;\n",
       "    }\n",
       "</style>\n",
       "<table border=\"1\" class=\"dataframe\">\n",
       "  <thead>\n",
       "    <tr style=\"text-align: right;\">\n",
       "      <th></th>\n",
       "      <th>Type</th>\n",
       "      <th>Description</th>\n",
       "      <th>ICC</th>\n",
       "      <th>F</th>\n",
       "      <th>df1</th>\n",
       "      <th>df2</th>\n",
       "      <th>pval</th>\n",
       "      <th>CI95%</th>\n",
       "    </tr>\n",
       "  </thead>\n",
       "  <tbody>\n",
       "    <tr>\n",
       "      <th>3</th>\n",
       "      <td>ICC1k</td>\n",
       "      <td>Average raters absolute</td>\n",
       "      <td>-0.028916</td>\n",
       "      <td>0.971897</td>\n",
       "      <td>7</td>\n",
       "      <td>8</td>\n",
       "      <td>0.508427</td>\n",
       "      <td>[-3.66, 0.79]</td>\n",
       "    </tr>\n",
       "    <tr>\n",
       "      <th>5</th>\n",
       "      <td>ICC3k</td>\n",
       "      <td>Average fixed raters</td>\n",
       "      <td>-0.175904</td>\n",
       "      <td>0.850410</td>\n",
       "      <td>7</td>\n",
       "      <td>7</td>\n",
       "      <td>0.581897</td>\n",
       "      <td>[-4.87, 0.76]</td>\n",
       "    </tr>\n",
       "  </tbody>\n",
       "</table>\n",
       "</div>"
      ],
      "text/plain": [
       "    Type              Description       ICC         F  df1  df2      pval  \\\n",
       "3  ICC1k  Average raters absolute -0.028916  0.971897    7    8  0.508427   \n",
       "5  ICC3k     Average fixed raters -0.175904  0.850410    7    7  0.581897   \n",
       "\n",
       "           CI95%  \n",
       "3  [-3.66, 0.79]  \n",
       "5  [-4.87, 0.76]  "
      ]
     },
     "metadata": {},
     "output_type": "display_data"
    },
    {
     "data": {
      "text/html": [
       "<div>\n",
       "<style scoped>\n",
       "    .dataframe tbody tr th:only-of-type {\n",
       "        vertical-align: middle;\n",
       "    }\n",
       "\n",
       "    .dataframe tbody tr th {\n",
       "        vertical-align: top;\n",
       "    }\n",
       "\n",
       "    .dataframe thead th {\n",
       "        text-align: right;\n",
       "    }\n",
       "</style>\n",
       "<table border=\"1\" class=\"dataframe\">\n",
       "  <thead>\n",
       "    <tr style=\"text-align: right;\">\n",
       "      <th></th>\n",
       "      <th>Type</th>\n",
       "      <th>Description</th>\n",
       "      <th>ICC</th>\n",
       "      <th>F</th>\n",
       "      <th>df1</th>\n",
       "      <th>df2</th>\n",
       "      <th>pval</th>\n",
       "      <th>CI95%</th>\n",
       "    </tr>\n",
       "  </thead>\n",
       "  <tbody>\n",
       "    <tr>\n",
       "      <th>3</th>\n",
       "      <td>ICC1k</td>\n",
       "      <td>Average raters absolute</td>\n",
       "      <td>0.860804</td>\n",
       "      <td>7.184127</td>\n",
       "      <td>7</td>\n",
       "      <td>8</td>\n",
       "      <td>0.006232</td>\n",
       "      <td>[0.37, 0.97]</td>\n",
       "    </tr>\n",
       "    <tr>\n",
       "      <th>5</th>\n",
       "      <td>ICC3k</td>\n",
       "      <td>Average fixed raters</td>\n",
       "      <td>0.844896</td>\n",
       "      <td>6.447293</td>\n",
       "      <td>7</td>\n",
       "      <td>7</td>\n",
       "      <td>0.012558</td>\n",
       "      <td>[0.23, 0.97]</td>\n",
       "    </tr>\n",
       "  </tbody>\n",
       "</table>\n",
       "</div>"
      ],
      "text/plain": [
       "    Type              Description       ICC         F  df1  df2      pval  \\\n",
       "3  ICC1k  Average raters absolute  0.860804  7.184127    7    8  0.006232   \n",
       "5  ICC3k     Average fixed raters  0.844896  6.447293    7    7  0.012558   \n",
       "\n",
       "          CI95%  \n",
       "3  [0.37, 0.97]  \n",
       "5  [0.23, 0.97]  "
      ]
     },
     "metadata": {},
     "output_type": "display_data"
    },
    {
     "data": {
      "text/html": [
       "<div>\n",
       "<style scoped>\n",
       "    .dataframe tbody tr th:only-of-type {\n",
       "        vertical-align: middle;\n",
       "    }\n",
       "\n",
       "    .dataframe tbody tr th {\n",
       "        vertical-align: top;\n",
       "    }\n",
       "\n",
       "    .dataframe thead th {\n",
       "        text-align: right;\n",
       "    }\n",
       "</style>\n",
       "<table border=\"1\" class=\"dataframe\">\n",
       "  <thead>\n",
       "    <tr style=\"text-align: right;\">\n",
       "      <th></th>\n",
       "      <th>Type</th>\n",
       "      <th>Description</th>\n",
       "      <th>ICC</th>\n",
       "      <th>F</th>\n",
       "      <th>df1</th>\n",
       "      <th>df2</th>\n",
       "      <th>pval</th>\n",
       "      <th>CI95%</th>\n",
       "    </tr>\n",
       "  </thead>\n",
       "  <tbody>\n",
       "    <tr>\n",
       "      <th>3</th>\n",
       "      <td>ICC1k</td>\n",
       "      <td>Average raters absolute</td>\n",
       "      <td>0.695866</td>\n",
       "      <td>3.288026</td>\n",
       "      <td>7</td>\n",
       "      <td>8</td>\n",
       "      <td>0.058579</td>\n",
       "      <td>[-0.38, 0.94]</td>\n",
       "    </tr>\n",
       "    <tr>\n",
       "      <th>5</th>\n",
       "      <td>ICC3k</td>\n",
       "      <td>Average fixed raters</td>\n",
       "      <td>0.654949</td>\n",
       "      <td>2.898126</td>\n",
       "      <td>7</td>\n",
       "      <td>7</td>\n",
       "      <td>0.091860</td>\n",
       "      <td>[-0.72, 0.93]</td>\n",
       "    </tr>\n",
       "  </tbody>\n",
       "</table>\n",
       "</div>"
      ],
      "text/plain": [
       "    Type              Description       ICC         F  df1  df2      pval  \\\n",
       "3  ICC1k  Average raters absolute  0.695866  3.288026    7    8  0.058579   \n",
       "5  ICC3k     Average fixed raters  0.654949  2.898126    7    7  0.091860   \n",
       "\n",
       "           CI95%  \n",
       "3  [-0.38, 0.94]  \n",
       "5  [-0.72, 0.93]  "
      ]
     },
     "metadata": {},
     "output_type": "display_data"
    },
    {
     "data": {
      "text/html": [
       "<div>\n",
       "<style scoped>\n",
       "    .dataframe tbody tr th:only-of-type {\n",
       "        vertical-align: middle;\n",
       "    }\n",
       "\n",
       "    .dataframe tbody tr th {\n",
       "        vertical-align: top;\n",
       "    }\n",
       "\n",
       "    .dataframe thead th {\n",
       "        text-align: right;\n",
       "    }\n",
       "</style>\n",
       "<table border=\"1\" class=\"dataframe\">\n",
       "  <thead>\n",
       "    <tr style=\"text-align: right;\">\n",
       "      <th></th>\n",
       "      <th>Type</th>\n",
       "      <th>Description</th>\n",
       "      <th>ICC</th>\n",
       "      <th>F</th>\n",
       "      <th>df1</th>\n",
       "      <th>df2</th>\n",
       "      <th>pval</th>\n",
       "      <th>CI95%</th>\n",
       "    </tr>\n",
       "  </thead>\n",
       "  <tbody>\n",
       "    <tr>\n",
       "      <th>3</th>\n",
       "      <td>ICC1k</td>\n",
       "      <td>Average raters absolute</td>\n",
       "      <td>0.325419</td>\n",
       "      <td>1.482402</td>\n",
       "      <td>7</td>\n",
       "      <td>8</td>\n",
       "      <td>0.295500</td>\n",
       "      <td>[-2.05, 0.86]</td>\n",
       "    </tr>\n",
       "    <tr>\n",
       "      <th>5</th>\n",
       "      <td>ICC3k</td>\n",
       "      <td>Average fixed raters</td>\n",
       "      <td>0.844972</td>\n",
       "      <td>6.450450</td>\n",
       "      <td>7</td>\n",
       "      <td>7</td>\n",
       "      <td>0.012541</td>\n",
       "      <td>[0.23, 0.97]</td>\n",
       "    </tr>\n",
       "  </tbody>\n",
       "</table>\n",
       "</div>"
      ],
      "text/plain": [
       "    Type              Description       ICC         F  df1  df2      pval  \\\n",
       "3  ICC1k  Average raters absolute  0.325419  1.482402    7    8  0.295500   \n",
       "5  ICC3k     Average fixed raters  0.844972  6.450450    7    7  0.012541   \n",
       "\n",
       "           CI95%  \n",
       "3  [-2.05, 0.86]  \n",
       "5   [0.23, 0.97]  "
      ]
     },
     "metadata": {},
     "output_type": "display_data"
    },
    {
     "data": {
      "text/html": [
       "<div>\n",
       "<style scoped>\n",
       "    .dataframe tbody tr th:only-of-type {\n",
       "        vertical-align: middle;\n",
       "    }\n",
       "\n",
       "    .dataframe tbody tr th {\n",
       "        vertical-align: top;\n",
       "    }\n",
       "\n",
       "    .dataframe thead th {\n",
       "        text-align: right;\n",
       "    }\n",
       "</style>\n",
       "<table border=\"1\" class=\"dataframe\">\n",
       "  <thead>\n",
       "    <tr style=\"text-align: right;\">\n",
       "      <th></th>\n",
       "      <th>Type</th>\n",
       "      <th>Description</th>\n",
       "      <th>ICC</th>\n",
       "      <th>F</th>\n",
       "      <th>df1</th>\n",
       "      <th>df2</th>\n",
       "      <th>pval</th>\n",
       "      <th>CI95%</th>\n",
       "    </tr>\n",
       "  </thead>\n",
       "  <tbody>\n",
       "    <tr>\n",
       "      <th>3</th>\n",
       "      <td>ICC1k</td>\n",
       "      <td>Average raters absolute</td>\n",
       "      <td>0.573339</td>\n",
       "      <td>2.343779</td>\n",
       "      <td>7</td>\n",
       "      <td>8</td>\n",
       "      <td>0.127883</td>\n",
       "      <td>[-0.93, 0.91]</td>\n",
       "    </tr>\n",
       "    <tr>\n",
       "      <th>5</th>\n",
       "      <td>ICC3k</td>\n",
       "      <td>Average fixed raters</td>\n",
       "      <td>0.843099</td>\n",
       "      <td>6.373434</td>\n",
       "      <td>7</td>\n",
       "      <td>7</td>\n",
       "      <td>0.012967</td>\n",
       "      <td>[0.22, 0.97]</td>\n",
       "    </tr>\n",
       "  </tbody>\n",
       "</table>\n",
       "</div>"
      ],
      "text/plain": [
       "    Type              Description       ICC         F  df1  df2      pval  \\\n",
       "3  ICC1k  Average raters absolute  0.573339  2.343779    7    8  0.127883   \n",
       "5  ICC3k     Average fixed raters  0.843099  6.373434    7    7  0.012967   \n",
       "\n",
       "           CI95%  \n",
       "3  [-0.93, 0.91]  \n",
       "5   [0.22, 0.97]  "
      ]
     },
     "metadata": {},
     "output_type": "display_data"
    },
    {
     "data": {
      "text/html": [
       "<div>\n",
       "<style scoped>\n",
       "    .dataframe tbody tr th:only-of-type {\n",
       "        vertical-align: middle;\n",
       "    }\n",
       "\n",
       "    .dataframe tbody tr th {\n",
       "        vertical-align: top;\n",
       "    }\n",
       "\n",
       "    .dataframe thead th {\n",
       "        text-align: right;\n",
       "    }\n",
       "</style>\n",
       "<table border=\"1\" class=\"dataframe\">\n",
       "  <thead>\n",
       "    <tr style=\"text-align: right;\">\n",
       "      <th></th>\n",
       "      <th>Type</th>\n",
       "      <th>Description</th>\n",
       "      <th>ICC</th>\n",
       "      <th>F</th>\n",
       "      <th>df1</th>\n",
       "      <th>df2</th>\n",
       "      <th>pval</th>\n",
       "      <th>CI95%</th>\n",
       "    </tr>\n",
       "  </thead>\n",
       "  <tbody>\n",
       "    <tr>\n",
       "      <th>3</th>\n",
       "      <td>ICC1k</td>\n",
       "      <td>Average raters absolute</td>\n",
       "      <td>0.899116</td>\n",
       "      <td>9.912404</td>\n",
       "      <td>7</td>\n",
       "      <td>8</td>\n",
       "      <td>0.002161</td>\n",
       "      <td>[0.54, 0.98]</td>\n",
       "    </tr>\n",
       "    <tr>\n",
       "      <th>5</th>\n",
       "      <td>ICC3k</td>\n",
       "      <td>Average fixed raters</td>\n",
       "      <td>0.886306</td>\n",
       "      <td>8.795514</td>\n",
       "      <td>7</td>\n",
       "      <td>7</td>\n",
       "      <td>0.005152</td>\n",
       "      <td>[0.43, 0.98]</td>\n",
       "    </tr>\n",
       "  </tbody>\n",
       "</table>\n",
       "</div>"
      ],
      "text/plain": [
       "    Type              Description       ICC         F  df1  df2      pval  \\\n",
       "3  ICC1k  Average raters absolute  0.899116  9.912404    7    8  0.002161   \n",
       "5  ICC3k     Average fixed raters  0.886306  8.795514    7    7  0.005152   \n",
       "\n",
       "          CI95%  \n",
       "3  [0.54, 0.98]  \n",
       "5  [0.43, 0.98]  "
      ]
     },
     "metadata": {},
     "output_type": "display_data"
    },
    {
     "data": {
      "text/html": [
       "<div>\n",
       "<style scoped>\n",
       "    .dataframe tbody tr th:only-of-type {\n",
       "        vertical-align: middle;\n",
       "    }\n",
       "\n",
       "    .dataframe tbody tr th {\n",
       "        vertical-align: top;\n",
       "    }\n",
       "\n",
       "    .dataframe thead th {\n",
       "        text-align: right;\n",
       "    }\n",
       "</style>\n",
       "<table border=\"1\" class=\"dataframe\">\n",
       "  <thead>\n",
       "    <tr style=\"text-align: right;\">\n",
       "      <th></th>\n",
       "      <th>Type</th>\n",
       "      <th>Description</th>\n",
       "      <th>ICC</th>\n",
       "      <th>F</th>\n",
       "      <th>df1</th>\n",
       "      <th>df2</th>\n",
       "      <th>pval</th>\n",
       "      <th>CI95%</th>\n",
       "    </tr>\n",
       "  </thead>\n",
       "  <tbody>\n",
       "    <tr>\n",
       "      <th>3</th>\n",
       "      <td>ICC1k</td>\n",
       "      <td>Average raters absolute</td>\n",
       "      <td>0.873067</td>\n",
       "      <td>7.878173</td>\n",
       "      <td>7</td>\n",
       "      <td>8</td>\n",
       "      <td>0.004631</td>\n",
       "      <td>[0.43, 0.97]</td>\n",
       "    </tr>\n",
       "    <tr>\n",
       "      <th>5</th>\n",
       "      <td>ICC3k</td>\n",
       "      <td>Average fixed raters</td>\n",
       "      <td>0.857879</td>\n",
       "      <td>7.036269</td>\n",
       "      <td>7</td>\n",
       "      <td>7</td>\n",
       "      <td>0.009826</td>\n",
       "      <td>[0.29, 0.97]</td>\n",
       "    </tr>\n",
       "  </tbody>\n",
       "</table>\n",
       "</div>"
      ],
      "text/plain": [
       "    Type              Description       ICC         F  df1  df2      pval  \\\n",
       "3  ICC1k  Average raters absolute  0.873067  7.878173    7    8  0.004631   \n",
       "5  ICC3k     Average fixed raters  0.857879  7.036269    7    7  0.009826   \n",
       "\n",
       "          CI95%  \n",
       "3  [0.43, 0.97]  \n",
       "5  [0.29, 0.97]  "
      ]
     },
     "metadata": {},
     "output_type": "display_data"
    },
    {
     "data": {
      "text/html": [
       "<div>\n",
       "<style scoped>\n",
       "    .dataframe tbody tr th:only-of-type {\n",
       "        vertical-align: middle;\n",
       "    }\n",
       "\n",
       "    .dataframe tbody tr th {\n",
       "        vertical-align: top;\n",
       "    }\n",
       "\n",
       "    .dataframe thead th {\n",
       "        text-align: right;\n",
       "    }\n",
       "</style>\n",
       "<table border=\"1\" class=\"dataframe\">\n",
       "  <thead>\n",
       "    <tr style=\"text-align: right;\">\n",
       "      <th></th>\n",
       "      <th>Type</th>\n",
       "      <th>Description</th>\n",
       "      <th>ICC</th>\n",
       "      <th>F</th>\n",
       "      <th>df1</th>\n",
       "      <th>df2</th>\n",
       "      <th>pval</th>\n",
       "      <th>CI95%</th>\n",
       "    </tr>\n",
       "  </thead>\n",
       "  <tbody>\n",
       "    <tr>\n",
       "      <th>3</th>\n",
       "      <td>ICC1k</td>\n",
       "      <td>Average raters absolute</td>\n",
       "      <td>0.554945</td>\n",
       "      <td>2.246912</td>\n",
       "      <td>5</td>\n",
       "      <td>6</td>\n",
       "      <td>0.176415</td>\n",
       "      <td>[-1.66, 0.94]</td>\n",
       "    </tr>\n",
       "    <tr>\n",
       "      <th>5</th>\n",
       "      <td>ICC3k</td>\n",
       "      <td>Average fixed raters</td>\n",
       "      <td>0.788444</td>\n",
       "      <td>4.726888</td>\n",
       "      <td>5</td>\n",
       "      <td>5</td>\n",
       "      <td>0.056717</td>\n",
       "      <td>[-0.51, 0.97]</td>\n",
       "    </tr>\n",
       "  </tbody>\n",
       "</table>\n",
       "</div>"
      ],
      "text/plain": [
       "    Type              Description       ICC         F  df1  df2      pval  \\\n",
       "3  ICC1k  Average raters absolute  0.554945  2.246912    5    6  0.176415   \n",
       "5  ICC3k     Average fixed raters  0.788444  4.726888    5    5  0.056717   \n",
       "\n",
       "           CI95%  \n",
       "3  [-1.66, 0.94]  \n",
       "5  [-0.51, 0.97]  "
      ]
     },
     "metadata": {},
     "output_type": "display_data"
    },
    {
     "data": {
      "text/html": [
       "<div>\n",
       "<style scoped>\n",
       "    .dataframe tbody tr th:only-of-type {\n",
       "        vertical-align: middle;\n",
       "    }\n",
       "\n",
       "    .dataframe tbody tr th {\n",
       "        vertical-align: top;\n",
       "    }\n",
       "\n",
       "    .dataframe thead th {\n",
       "        text-align: right;\n",
       "    }\n",
       "</style>\n",
       "<table border=\"1\" class=\"dataframe\">\n",
       "  <thead>\n",
       "    <tr style=\"text-align: right;\">\n",
       "      <th></th>\n",
       "      <th>Type</th>\n",
       "      <th>Description</th>\n",
       "      <th>ICC</th>\n",
       "      <th>F</th>\n",
       "      <th>df1</th>\n",
       "      <th>df2</th>\n",
       "      <th>pval</th>\n",
       "      <th>CI95%</th>\n",
       "    </tr>\n",
       "  </thead>\n",
       "  <tbody>\n",
       "    <tr>\n",
       "      <th>3</th>\n",
       "      <td>ICC1k</td>\n",
       "      <td>Average raters absolute</td>\n",
       "      <td>0.708887</td>\n",
       "      <td>3.435088</td>\n",
       "      <td>5</td>\n",
       "      <td>6</td>\n",
       "      <td>0.082495</td>\n",
       "      <td>[-0.74, 0.96]</td>\n",
       "    </tr>\n",
       "    <tr>\n",
       "      <th>5</th>\n",
       "      <td>ICC3k</td>\n",
       "      <td>Average fixed raters</td>\n",
       "      <td>0.838704</td>\n",
       "      <td>6.199770</td>\n",
       "      <td>5</td>\n",
       "      <td>5</td>\n",
       "      <td>0.033405</td>\n",
       "      <td>[-0.15, 0.98]</td>\n",
       "    </tr>\n",
       "  </tbody>\n",
       "</table>\n",
       "</div>"
      ],
      "text/plain": [
       "    Type              Description       ICC         F  df1  df2      pval  \\\n",
       "3  ICC1k  Average raters absolute  0.708887  3.435088    5    6  0.082495   \n",
       "5  ICC3k     Average fixed raters  0.838704  6.199770    5    5  0.033405   \n",
       "\n",
       "           CI95%  \n",
       "3  [-0.74, 0.96]  \n",
       "5  [-0.15, 0.98]  "
      ]
     },
     "metadata": {},
     "output_type": "display_data"
    },
    {
     "data": {
      "text/html": [
       "<div>\n",
       "<style scoped>\n",
       "    .dataframe tbody tr th:only-of-type {\n",
       "        vertical-align: middle;\n",
       "    }\n",
       "\n",
       "    .dataframe tbody tr th {\n",
       "        vertical-align: top;\n",
       "    }\n",
       "\n",
       "    .dataframe thead th {\n",
       "        text-align: right;\n",
       "    }\n",
       "</style>\n",
       "<table border=\"1\" class=\"dataframe\">\n",
       "  <thead>\n",
       "    <tr style=\"text-align: right;\">\n",
       "      <th></th>\n",
       "      <th>Type</th>\n",
       "      <th>Description</th>\n",
       "      <th>ICC</th>\n",
       "      <th>F</th>\n",
       "      <th>df1</th>\n",
       "      <th>df2</th>\n",
       "      <th>pval</th>\n",
       "      <th>CI95%</th>\n",
       "    </tr>\n",
       "  </thead>\n",
       "  <tbody>\n",
       "    <tr>\n",
       "      <th>3</th>\n",
       "      <td>ICC1k</td>\n",
       "      <td>Average raters absolute</td>\n",
       "      <td>0.938879</td>\n",
       "      <td>16.361111</td>\n",
       "      <td>6</td>\n",
       "      <td>7</td>\n",
       "      <td>0.000847</td>\n",
       "      <td>[0.69, 0.99]</td>\n",
       "    </tr>\n",
       "    <tr>\n",
       "      <th>5</th>\n",
       "      <td>ICC3k</td>\n",
       "      <td>Average fixed raters</td>\n",
       "      <td>0.928693</td>\n",
       "      <td>14.023810</td>\n",
       "      <td>6</td>\n",
       "      <td>6</td>\n",
       "      <td>0.002662</td>\n",
       "      <td>[0.59, 0.99]</td>\n",
       "    </tr>\n",
       "  </tbody>\n",
       "</table>\n",
       "</div>"
      ],
      "text/plain": [
       "    Type              Description       ICC          F  df1  df2      pval  \\\n",
       "3  ICC1k  Average raters absolute  0.938879  16.361111    6    7  0.000847   \n",
       "5  ICC3k     Average fixed raters  0.928693  14.023810    6    6  0.002662   \n",
       "\n",
       "          CI95%  \n",
       "3  [0.69, 0.99]  \n",
       "5  [0.59, 0.99]  "
      ]
     },
     "metadata": {},
     "output_type": "display_data"
    },
    {
     "data": {
      "text/html": [
       "<div>\n",
       "<style scoped>\n",
       "    .dataframe tbody tr th:only-of-type {\n",
       "        vertical-align: middle;\n",
       "    }\n",
       "\n",
       "    .dataframe tbody tr th {\n",
       "        vertical-align: top;\n",
       "    }\n",
       "\n",
       "    .dataframe thead th {\n",
       "        text-align: right;\n",
       "    }\n",
       "</style>\n",
       "<table border=\"1\" class=\"dataframe\">\n",
       "  <thead>\n",
       "    <tr style=\"text-align: right;\">\n",
       "      <th></th>\n",
       "      <th>Type</th>\n",
       "      <th>Description</th>\n",
       "      <th>ICC</th>\n",
       "      <th>F</th>\n",
       "      <th>df1</th>\n",
       "      <th>df2</th>\n",
       "      <th>pval</th>\n",
       "      <th>CI95%</th>\n",
       "    </tr>\n",
       "  </thead>\n",
       "  <tbody>\n",
       "    <tr>\n",
       "      <th>3</th>\n",
       "      <td>ICC1k</td>\n",
       "      <td>Average raters absolute</td>\n",
       "      <td>0.920755</td>\n",
       "      <td>12.619048</td>\n",
       "      <td>6</td>\n",
       "      <td>7</td>\n",
       "      <td>0.001905</td>\n",
       "      <td>[0.59, 0.99]</td>\n",
       "    </tr>\n",
       "    <tr>\n",
       "      <th>5</th>\n",
       "      <td>ICC3k</td>\n",
       "      <td>Average fixed raters</td>\n",
       "      <td>0.921411</td>\n",
       "      <td>12.724426</td>\n",
       "      <td>6</td>\n",
       "      <td>6</td>\n",
       "      <td>0.003458</td>\n",
       "      <td>[0.54, 0.99]</td>\n",
       "    </tr>\n",
       "  </tbody>\n",
       "</table>\n",
       "</div>"
      ],
      "text/plain": [
       "    Type              Description       ICC          F  df1  df2      pval  \\\n",
       "3  ICC1k  Average raters absolute  0.920755  12.619048    6    7  0.001905   \n",
       "5  ICC3k     Average fixed raters  0.921411  12.724426    6    6  0.003458   \n",
       "\n",
       "          CI95%  \n",
       "3  [0.59, 0.99]  \n",
       "5  [0.54, 0.99]  "
      ]
     },
     "metadata": {},
     "output_type": "display_data"
    }
   ],
   "source": [
    "import pingouin as pg\n",
    "for minst in meas:\n",
    "    subset=boxr.set_index('Inst').filter(like=minst, axis=0)\n",
    "    subset = subset.dropna()\n",
    "    icc = pg.intraclass_corr(data=subset, targets='PIN', raters='Mode',ratings='Age-Corrected Standard Score', nan_policy='omit')\n",
    "    icc2 = pg.intraclass_corr(data=subset, targets='PIN', raters='Mode',ratings='Fully-Corrected T-score', nan_policy='omit')\n",
    "    print('-',minst,'-')\n",
    "    print('Aged: ICC Average raters absolute', round(icc.loc[3]['ICC'],2), icc.loc[3]['CI95%'])\n",
    "    display(icc.loc[[3,5]])\n",
    "    print('Fully: ICC Average raters absolute', round(icc2.loc[3]['ICC'],2), icc2.loc[3]['CI95%'])\n",
    "    display(icc2.loc[[3,5]])"
   ]
  },
  {
   "cell_type": "code",
   "execution_count": 498,
   "metadata": {},
   "outputs": [],
   "source": [
    "from sklearn.metrics import cohen_kappa_score\n",
    "#cohen_kappa_score(labeler1, labeler2)"
   ]
  },
  {
   "cell_type": "code",
   "execution_count": 499,
   "metadata": {},
   "outputs": [],
   "source": [
    "matchcol = ['NIH Toolbox Dimensional Change Card Sort Test Ages 8-11 v2.1',\n",
    "             'NIH Toolbox Picture Vocabulary Test Age 3+ v2.1',\n",
    "       'NIH Toolbox Flanker Inhibitory Control and Attention Test Ages 8-11 v2.1',\n",
    "       'NIH Toolbox Pattern Comparison Processing Speed Test Age 7+ v2.1',\n",
    "       'NIH Toolbox Picture Sequence Memory Test Age 8+ Form A v2.1',\n",
    "       'NIH Toolbox Oral Reading Recognition Test Age 3+ v2.1']"
   ]
  },
  {
   "cell_type": "markdown",
   "metadata": {
    "id": "hhY6lrFT-q6a"
   },
   "source": [
    "# a.\tA matched t-test for those who have both in-person and remote "
   ]
  },
  {
   "cell_type": "code",
   "execution_count": 500,
   "metadata": {},
   "outputs": [],
   "source": [
    "def matched_ttest(data, match = None):\n",
    "    if not match:\n",
    "        match = list(data.Inst.unique())\n",
    "    for minst in match:\n",
    "        print('-',minst,'-')\n",
    "        subset=data.set_index('Inst').filter(like=minst, axis=0)\n",
    "        subset = subset.dropna()\n",
    "        a =np.array(subset['Age-Corrected Standard Score'])\n",
    "        b =np.array(subset['Age-Corrected Standard Score_r'])\n",
    "        c =np.array(subset['Fully-Corrected T-score'])\n",
    "        d =np.array(subset['Fully-Corrected T-score_r'])                \n",
    "            \n",
    "        #print(subset.describe())    \n",
    "        print('Age R:', round(b.mean(),2) , '(',round(stdev(b),2),')' )\n",
    "        print('Age:', round(a.mean(),2) , '(',round(stdev(a),2),')')\n",
    "        print('Fully R:', round(d.mean(),2) , '(',round(stdev(d),2),')')\n",
    "        print('Fully:', round(c.mean(),2) , '(',round(stdev(c),2),')')\n",
    "        print('')\n",
    "        print('Aged cohen %6.2f' % chens_d(a, b), 'Fully cohen %6.2f' % chens_d(c, d))\n",
    "        print('1. matched t-test:')\n",
    "        print('Aged: t-statistic = %6.2f, pvalue = %6.3f' %  stats.ttest_ind(a, b, equal_var = False))\n",
    "        print('Degree of freedom:', len(a)-1)\n",
    "        print('Fully: t-statistic = %6.2f, pvalue = %6.3f' % stats.ttest_ind(c, d, equal_var = False))\n",
    "        print('Degree of freedom:', len(c)-1)\n",
    "        print('')\n",
    "        print('2. Correlations between in person and remote:')\n",
    "        print('Aged: correlation = %6.2f, pvalue = %6.3f' % stats.pearsonr(a, b))\n",
    "        print('Fully: correlation = %6.2f, pvalue = %6.3f' %stats.pearsonr(c,d))\n",
    "        print('')  \n",
    "        print('3. Does it take longer for remote vs. in-person? two-sided test')\n",
    "        print('Aged: t-statistic = %6.2f pvalue = %6.3f' % stats.wilcoxon(a,b))\n",
    "        print('Fully: t-statistic = %6.2f pvalue = %6.3f' % stats.wilcoxon(c, d))\n",
    "        print('')\n",
    "       # g = sns.jointplot(x=\"Age-Corrected Standard Score\", y=\"Age-Corrected Standard Score_r\", data=subset, kind=\"reg\", truncate=False,color=\"y\", height=7)\n",
    "        #g.fig.suptitle(minst)\n",
    "        print('')\n",
    "        #g = sns.jointplot(x=\"Fully-Corrected T-score\", y=\"Fully-Corrected T-score_r\", data=subset, kind=\"reg\", truncate=False,color=\"r\", height=7)\n",
    "       # g.fig.suptitle(minst)\n",
    "        print('')\n",
    "    return"
   ]
  },
  {
   "cell_type": "code",
   "execution_count": 501,
   "metadata": {},
   "outputs": [],
   "source": [
    "NIH.to_csv('C:/Users/tsb7592/Box/Avera NIHTB Data/Subset/NIH.csv', index=False)"
   ]
  },
  {
   "cell_type": "code",
   "execution_count": 502,
   "metadata": {
    "scrolled": false
   },
   "outputs": [
    {
     "name": "stderr",
     "output_type": "stream",
     "text": [
      "C:\\Users\\tsb7592\\Anaconda3\\lib\\site-packages\\scipy\\stats\\morestats.py:2967: UserWarning: Exact p-value calculation does not work if there are ties. Switching to normal approximation.\n",
      "  warnings.warn(\"Exact p-value calculation does not work if there are \"\n",
      "C:\\Users\\tsb7592\\Anaconda3\\lib\\site-packages\\scipy\\stats\\morestats.py:2981: UserWarning: Sample size too small for normal approximation.\n",
      "  warnings.warn(\"Sample size too small for normal approximation.\")\n",
      "C:\\Users\\tsb7592\\Anaconda3\\lib\\site-packages\\scipy\\stats\\morestats.py:2967: UserWarning: Exact p-value calculation does not work if there are ties. Switching to normal approximation.\n",
      "  warnings.warn(\"Exact p-value calculation does not work if there are \"\n",
      "C:\\Users\\tsb7592\\Anaconda3\\lib\\site-packages\\scipy\\stats\\morestats.py:2981: UserWarning: Sample size too small for normal approximation.\n",
      "  warnings.warn(\"Sample size too small for normal approximation.\")\n",
      "C:\\Users\\tsb7592\\Anaconda3\\lib\\site-packages\\scipy\\stats\\morestats.py:2967: UserWarning: Exact p-value calculation does not work if there are ties. Switching to normal approximation.\n",
      "  warnings.warn(\"Exact p-value calculation does not work if there are \"\n",
      "C:\\Users\\tsb7592\\Anaconda3\\lib\\site-packages\\scipy\\stats\\morestats.py:2981: UserWarning: Sample size too small for normal approximation.\n",
      "  warnings.warn(\"Sample size too small for normal approximation.\")\n",
      "C:\\Users\\tsb7592\\Anaconda3\\lib\\site-packages\\scipy\\stats\\morestats.py:2967: UserWarning: Exact p-value calculation does not work if there are ties. Switching to normal approximation.\n",
      "  warnings.warn(\"Exact p-value calculation does not work if there are \"\n",
      "C:\\Users\\tsb7592\\Anaconda3\\lib\\site-packages\\scipy\\stats\\morestats.py:2981: UserWarning: Sample size too small for normal approximation.\n",
      "  warnings.warn(\"Sample size too small for normal approximation.\")\n",
      "C:\\Users\\tsb7592\\Anaconda3\\lib\\site-packages\\scipy\\stats\\morestats.py:2967: UserWarning: Exact p-value calculation does not work if there are ties. Switching to normal approximation.\n",
      "  warnings.warn(\"Exact p-value calculation does not work if there are \"\n",
      "C:\\Users\\tsb7592\\Anaconda3\\lib\\site-packages\\scipy\\stats\\morestats.py:2981: UserWarning: Sample size too small for normal approximation.\n",
      "  warnings.warn(\"Sample size too small for normal approximation.\")\n"
     ]
    }
   ],
   "source": [
    "print('***NIH: A matched t-test for those who have both in-person and remote***\\n')\n",
    "matched_ttest(NIH, matchcol)"
   ]
  },
  {
   "cell_type": "markdown",
   "metadata": {
    "id": "fn2Lwf_l_U-H"
   },
   "source": [
    "# 5.\tA student’s t-test for everyone "
   ]
  },
  {
   "cell_type": "code",
   "execution_count": 503,
   "metadata": {},
   "outputs": [],
   "source": [
    "def remove_nan(li):\n",
    "    array1 = np.array(li)\n",
    "\n",
    "    nan_array = np.isnan(array1)\n",
    "    not_nan_array = ~ nan_array\n",
    "    array2 = array1[not_nan_array]\n",
    "\n",
    "    return array2"
   ]
  },
  {
   "cell_type": "code",
   "execution_count": 504,
   "metadata": {},
   "outputs": [],
   "source": [
    "def unmatched_ttest(ip, rm, match=None):\n",
    "    if not match:\n",
    "        match = list(ip.Inst.unique())\n",
    "    \n",
    "    for minst in match:\n",
    "        \n",
    "        a =np.array(ip.set_index('Inst').filter(like=minst, axis=0)['Age-Corrected Standard Score'])\n",
    "        b =np.array(rm.set_index('Inst').filter(like=minst, axis=0)['Age-Corrected Standard Score_r'])\n",
    "        c =np.array(ip.set_index('Inst').filter(like=minst, axis=0)['Fully-Corrected T-score'])\n",
    "        d =np.array(rm.set_index('Inst').filter(like=minst, axis=0)['Fully-Corrected T-score_r'])\n",
    "        \n",
    "        a=remove_nan(a)\n",
    "        b=remove_nan(b)\n",
    "        c= remove_nan(c)\n",
    "        d= remove_nan(d)\n",
    "        if(len(a)*len(b)*len(c)*len(d))==0:\n",
    "            continue\n",
    "        print('-',minst,'-')\n",
    "            \n",
    "        print('Age R:', round(b.mean(),2) , '(',round(stdev(b),2),')' , 'N=',len(b))\n",
    "        print('Age:', round(a.mean(),2) , '(',round(stdev(a),2),')',  'N=',len(a))\n",
    "        print('Fully R:', round(d.mean(),2) , '(',round(stdev(d),2),')',  'N=',len(d))\n",
    "        print('Fully:', round(c.mean(),2) , '(',round(stdev(c),2),')',  'N=',len(c))\n",
    "        print('')\n",
    "        print('Aged cohen %6.2f' % chens_d(a, b), 'Fully cohen %6.2f' % chens_d(c, d))    \n",
    "        print('')\n",
    "        print('Aged: t-statistic = %6.2f, pvalue = %6.3f' % stats.ttest_ind(a,b, equal_var=False))\n",
    "        print('Fully: t-statistic = %6.2f, pvalue = %6.3f' % stats.ttest_ind(c,d, equal_var=False))\n",
    "        print('')\n",
    "    return "
   ]
  },
  {
   "cell_type": "code",
   "execution_count": 505,
   "metadata": {},
   "outputs": [],
   "source": [
    "print('***NIH: unmatched t-test for everyone***\\n')\n",
    "unmatched_ttest(raw, raw_r, matchcol)"
   ]
  },
  {
   "cell_type": "markdown",
   "metadata": {},
   "source": [
    "# Composite Scores"
   ]
  },
  {
   "cell_type": "markdown",
   "metadata": {
    "id": "hhY6lrFT-q6a"
   },
   "source": [
    "#1.\tA matched t-test for those who have both in-person and remote\n",
    "#2.\tCorrelations between remote and in-person\n",
    "#3.\tDoes it take longer for remote vs. in-person\n",
    "#4.\tPlot on x-axis remote scores for all the Inst, and plot on y-axis all the in-person "
   ]
  },
  {
   "cell_type": "code",
   "execution_count": 506,
   "metadata": {},
   "outputs": [],
   "source": [
    "import seaborn as sns\n",
    "sns.set_theme(style=\"darkgrid\")"
   ]
  },
  {
   "cell_type": "code",
   "execution_count": 507,
   "metadata": {},
   "outputs": [],
   "source": [
    "scores.to_csv('C:/Users/tsb7592/Box/Avera NIHTB Data/Subset/CompositeScores.csv', index=False)"
   ]
  },
  {
   "cell_type": "code",
   "execution_count": 508,
   "metadata": {},
   "outputs": [
    {
     "name": "stderr",
     "output_type": "stream",
     "text": [
      "C:\\Users\\tsb7592\\Anaconda3\\lib\\site-packages\\scipy\\stats\\morestats.py:2967: UserWarning: Exact p-value calculation does not work if there are ties. Switching to normal approximation.\n",
      "  warnings.warn(\"Exact p-value calculation does not work if there are \"\n",
      "C:\\Users\\tsb7592\\Anaconda3\\lib\\site-packages\\scipy\\stats\\morestats.py:2981: UserWarning: Sample size too small for normal approximation.\n",
      "  warnings.warn(\"Sample size too small for normal approximation.\")\n"
     ]
    }
   ],
   "source": [
    "print('***Composite: A matched t-test for those who have both in-person and remote***\\n')\n",
    "matched_ttest(scores)"
   ]
  },
  {
   "cell_type": "code",
   "execution_count": 509,
   "metadata": {
    "colab": {
     "base_uri": "https://localhost:8080/",
     "height": 204
    },
    "id": "0ozVVZZoUv7u",
    "outputId": "e489a9a5-0d45-4da8-c6c5-74adcaac2314"
   },
   "outputs": [
    {
     "data": {
      "text/html": [
       "<div>\n",
       "<style scoped>\n",
       "    .dataframe tbody tr th:only-of-type {\n",
       "        vertical-align: middle;\n",
       "    }\n",
       "\n",
       "    .dataframe tbody tr th {\n",
       "        vertical-align: top;\n",
       "    }\n",
       "\n",
       "    .dataframe thead th {\n",
       "        text-align: right;\n",
       "    }\n",
       "</style>\n",
       "<table border=\"1\" class=\"dataframe\">\n",
       "  <thead>\n",
       "    <tr style=\"text-align: right;\">\n",
       "      <th></th>\n",
       "      <th>PIN</th>\n",
       "      <th>Inst</th>\n",
       "      <th>Uncorrected Standard Score</th>\n",
       "      <th>Age-Corrected Standard Score</th>\n",
       "      <th>National Percentile (age adjusted)</th>\n",
       "      <th>Fully-Corrected T-score</th>\n",
       "      <th>Mode</th>\n",
       "    </tr>\n",
       "  </thead>\n",
       "  <tbody>\n",
       "    <tr>\n",
       "      <th>7</th>\n",
       "      <td>EPSF_00847_A</td>\n",
       "      <td>Cognition Early Childhood Composite v1.1</td>\n",
       "      <td>90.0</td>\n",
       "      <td>111.0</td>\n",
       "      <td>77.0</td>\n",
       "      <td>52.0</td>\n",
       "      <td>Remote</td>\n",
       "    </tr>\n",
       "    <tr>\n",
       "      <th>6</th>\n",
       "      <td>EPSF_00944_A</td>\n",
       "      <td>Cognition Crystallized Composite v1.1</td>\n",
       "      <td>76.0</td>\n",
       "      <td>92.0</td>\n",
       "      <td>30.0</td>\n",
       "      <td>47.0</td>\n",
       "      <td>Remote</td>\n",
       "    </tr>\n",
       "    <tr>\n",
       "      <th>7</th>\n",
       "      <td>EPSF_00944_A</td>\n",
       "      <td>Cognition Early Childhood Composite v1.1</td>\n",
       "      <td>77.0</td>\n",
       "      <td>89.0</td>\n",
       "      <td>24.0</td>\n",
       "      <td>39.0</td>\n",
       "      <td>Remote</td>\n",
       "    </tr>\n",
       "    <tr>\n",
       "      <th>6</th>\n",
       "      <td>EPSF_00836_A</td>\n",
       "      <td>Cognition Crystallized Composite v1.1</td>\n",
       "      <td>74.0</td>\n",
       "      <td>92.0</td>\n",
       "      <td>31.0</td>\n",
       "      <td>53.0</td>\n",
       "      <td>Remote</td>\n",
       "    </tr>\n",
       "    <tr>\n",
       "      <th>7</th>\n",
       "      <td>EPSF_00836_A</td>\n",
       "      <td>Cognition Early Childhood Composite v1.1</td>\n",
       "      <td>75.0</td>\n",
       "      <td>86.0</td>\n",
       "      <td>17.0</td>\n",
       "      <td>47.0</td>\n",
       "      <td>Remote</td>\n",
       "    </tr>\n",
       "  </tbody>\n",
       "</table>\n",
       "</div>"
      ],
      "text/plain": [
       "            PIN                                      Inst  \\\n",
       "7  EPSF_00847_A  Cognition Early Childhood Composite v1.1   \n",
       "6  EPSF_00944_A     Cognition Crystallized Composite v1.1   \n",
       "7  EPSF_00944_A  Cognition Early Childhood Composite v1.1   \n",
       "6  EPSF_00836_A     Cognition Crystallized Composite v1.1   \n",
       "7  EPSF_00836_A  Cognition Early Childhood Composite v1.1   \n",
       "\n",
       "   Uncorrected Standard Score  Age-Corrected Standard Score  \\\n",
       "7                        90.0                         111.0   \n",
       "6                        76.0                          92.0   \n",
       "7                        77.0                          89.0   \n",
       "6                        74.0                          92.0   \n",
       "7                        75.0                          86.0   \n",
       "\n",
       "   National Percentile (age adjusted)  Fully-Corrected T-score    Mode  \n",
       "7                                77.0                     52.0  Remote  \n",
       "6                                30.0                     47.0  Remote  \n",
       "7                                24.0                     39.0  Remote  \n",
       "6                                31.0                     53.0  Remote  \n",
       "7                                17.0                     47.0  Remote  "
      ]
     },
     "execution_count": 509,
     "metadata": {},
     "output_type": "execute_result"
    }
   ],
   "source": [
    "boxp.tail()"
   ]
  },
  {
   "cell_type": "code",
   "execution_count": 510,
   "metadata": {
    "id": "zbHFl_deVMyx"
   },
   "outputs": [],
   "source": [
    "boxp[\"Inst\"].replace({\"Cognition Fluid Composite v1.1\":'CFC','Cognition Crystallized Composite v1.1':'CCC', 'Cognition Total Composite Score v1.1':'CTC','Cognition Early Childhood Composite v1.1':'CECC'}, inplace=True)"
   ]
  },
  {
   "cell_type": "code",
   "execution_count": 511,
   "metadata": {
    "colab": {
     "base_uri": "https://localhost:8080/",
     "height": 427
    },
    "id": "8fltOtYCSs4h",
    "outputId": "669a04d0-cc59-47a8-8662-0373120df0ea"
   },
   "outputs": [
    {
     "data": {
      "text/plain": [
       "Text(0.5, 1.0, 'Age-Corrected Standard score')"
      ]
     },
     "execution_count": 511,
     "metadata": {},
     "output_type": "execute_result"
    },
    {
     "data": {
      "image/png": "[encoded data removed]",
      "text/plain": [
       "<Figure size 576x432 with 1 Axes>"
      ]
     },
     "metadata": {},
     "output_type": "display_data"
    }
   ],
   "source": [
    "plt.figure(figsize=(8, 6))\n",
    "sns.boxplot(x = 'Inst', y = 'Age-Corrected Standard Score', hue='Mode',data = boxp)\n",
    "plt.title('Age-Corrected Standard score')"
   ]
  },
  {
   "cell_type": "code",
   "execution_count": 512,
   "metadata": {
    "colab": {
     "base_uri": "https://localhost:8080/",
     "height": 410
    },
    "id": "EjWwK1cS_HY4",
    "outputId": "0804d615-5505-437c-e172-05160d07a506",
    "scrolled": true
   },
   "outputs": [
    {
     "data": {
      "image/png": "[encoded data removed]",
      "text/plain": [
       "<Figure size 576x432 with 1 Axes>"
      ]
     },
     "metadata": {},
     "output_type": "display_data"
    }
   ],
   "source": [
    "# Box plot of Fully In person vs. Remote\n",
    "plt.figure(figsize=(8, 6))\n",
    "sns.boxplot(x = 'Inst', y = 'Fully-Corrected T-score', hue='Mode',data = boxp)\n",
    "plt.title('Fully-Corrected T-score')\n",
    "plt.show()"
   ]
  },
  {
   "cell_type": "markdown",
   "metadata": {
    "id": "fn2Lwf_l_U-H"
   },
   "source": [
    "# 5.\tA student’s t-test for everyone "
   ]
  },
  {
   "cell_type": "code",
   "execution_count": 513,
   "metadata": {},
   "outputs": [],
   "source": [
    "print('***Composite: unmatched t-test for everyone***\\n')\n",
    "unmatched_ttest(comp, comp_r)"
   ]
  },
  {
   "cell_type": "code",
   "execution_count": 514,
   "metadata": {},
   "outputs": [],
   "source": [
    "sys.stdout.close()\n",
    "sys.stdout=stdoutOrigin"
   ]
  },
  {
   "cell_type": "markdown",
   "metadata": {
    "id": "02ViorSi1vK7"
   },
   "source": [
    "# Wide to Long"
   ]
  },
  {
   "cell_type": "code",
   "execution_count": 163,
   "metadata": {
    "id": "XoJbrwWn2oZb"
   },
   "outputs": [],
   "source": [
    "all = pd.concat([df,dfr]) "
   ]
  },
  {
   "cell_type": "code",
   "execution_count": 164,
   "metadata": {
    "colab": {
     "base_uri": "https://localhost:8080/",
     "height": 204
    },
    "id": "_5w5JDXW_KNO",
    "outputId": "d9b7cfd6-7f1f-44f5-a908-c67366e2432b"
   },
   "outputs": [
    {
     "data": {
      "text/html": [
       "<div>\n",
       "<style scoped>\n",
       "    .dataframe tbody tr th:only-of-type {\n",
       "        vertical-align: middle;\n",
       "    }\n",
       "\n",
       "    .dataframe tbody tr th {\n",
       "        vertical-align: top;\n",
       "    }\n",
       "\n",
       "    .dataframe thead th {\n",
       "        text-align: right;\n",
       "    }\n",
       "</style>\n",
       "<table border=\"1\" class=\"dataframe\">\n",
       "  <thead>\n",
       "    <tr style=\"text-align: right;\">\n",
       "      <th></th>\n",
       "      <th>PIN</th>\n",
       "      <th>Inst</th>\n",
       "      <th>Date</th>\n",
       "      <th>Time</th>\n",
       "      <th>Mode</th>\n",
       "    </tr>\n",
       "  </thead>\n",
       "  <tbody>\n",
       "    <tr>\n",
       "      <th>101</th>\n",
       "      <td>EPSF_01247_A</td>\n",
       "      <td>NIH Toolbox Dimensional Change Card Sort Test ...</td>\n",
       "      <td>2021-04-12</td>\n",
       "      <td>5.28</td>\n",
       "      <td>In Person</td>\n",
       "    </tr>\n",
       "    <tr>\n",
       "      <th>102</th>\n",
       "      <td>EPSF_01247_A</td>\n",
       "      <td>NIH Toolbox Flanker Inhibitory Control and Att...</td>\n",
       "      <td>2021-04-12</td>\n",
       "      <td>3.53</td>\n",
       "      <td>In Person</td>\n",
       "    </tr>\n",
       "    <tr>\n",
       "      <th>103</th>\n",
       "      <td>EPSF_01247_A</td>\n",
       "      <td>NIH Toolbox List Sorting Working Memory Test A...</td>\n",
       "      <td>2021-04-12</td>\n",
       "      <td>6.73</td>\n",
       "      <td>In Person</td>\n",
       "    </tr>\n",
       "    <tr>\n",
       "      <th>104</th>\n",
       "      <td>EPSF_01247_A</td>\n",
       "      <td>NIH Toolbox Oral Reading Recognition Test Age ...</td>\n",
       "      <td>2021-04-12</td>\n",
       "      <td>1.63</td>\n",
       "      <td>In Person</td>\n",
       "    </tr>\n",
       "    <tr>\n",
       "      <th>105</th>\n",
       "      <td>EPSF_01247_A</td>\n",
       "      <td>NIH Toolbox Pattern Comparison Processing Spee...</td>\n",
       "      <td>2021-04-12</td>\n",
       "      <td>1.73</td>\n",
       "      <td>In Person</td>\n",
       "    </tr>\n",
       "    <tr>\n",
       "      <th>106</th>\n",
       "      <td>EPSF_01247_A</td>\n",
       "      <td>NIH Toolbox Pattern Comparison Processing Spee...</td>\n",
       "      <td>2021-04-12</td>\n",
       "      <td>1.72</td>\n",
       "      <td>In Person</td>\n",
       "    </tr>\n",
       "    <tr>\n",
       "      <th>107</th>\n",
       "      <td>EPSF_01247_A</td>\n",
       "      <td>NIH Toolbox Picture Sequence Memory Test Age 8...</td>\n",
       "      <td>2021-04-12</td>\n",
       "      <td>7.22</td>\n",
       "      <td>In Person</td>\n",
       "    </tr>\n",
       "    <tr>\n",
       "      <th>108</th>\n",
       "      <td>EPSF_01247_A</td>\n",
       "      <td>NIH Toolbox Picture Vocabulary Test Age 3+ Pra...</td>\n",
       "      <td>2021-04-12</td>\n",
       "      <td>1.38</td>\n",
       "      <td>In Person</td>\n",
       "    </tr>\n",
       "    <tr>\n",
       "      <th>109</th>\n",
       "      <td>EPSF_01247_A</td>\n",
       "      <td>NIH Toolbox Picture Vocabulary Test Age 3+ v2.1</td>\n",
       "      <td>2021-04-12</td>\n",
       "      <td>1.80</td>\n",
       "      <td>In Person</td>\n",
       "    </tr>\n",
       "  </tbody>\n",
       "</table>\n",
       "</div>"
      ],
      "text/plain": [
       "              PIN                                               Inst  \\\n",
       "101  EPSF_01247_A  NIH Toolbox Dimensional Change Card Sort Test ...   \n",
       "102  EPSF_01247_A  NIH Toolbox Flanker Inhibitory Control and Att...   \n",
       "103  EPSF_01247_A  NIH Toolbox List Sorting Working Memory Test A...   \n",
       "104  EPSF_01247_A  NIH Toolbox Oral Reading Recognition Test Age ...   \n",
       "105  EPSF_01247_A  NIH Toolbox Pattern Comparison Processing Spee...   \n",
       "106  EPSF_01247_A  NIH Toolbox Pattern Comparison Processing Spee...   \n",
       "107  EPSF_01247_A  NIH Toolbox Picture Sequence Memory Test Age 8...   \n",
       "108  EPSF_01247_A  NIH Toolbox Picture Vocabulary Test Age 3+ Pra...   \n",
       "109  EPSF_01247_A    NIH Toolbox Picture Vocabulary Test Age 3+ v2.1   \n",
       "\n",
       "           Date  Time       Mode  \n",
       "101  2021-04-12  5.28  In Person  \n",
       "102  2021-04-12  3.53  In Person  \n",
       "103  2021-04-12  6.73  In Person  \n",
       "104  2021-04-12  1.63  In Person  \n",
       "105  2021-04-12  1.73  In Person  \n",
       "106  2021-04-12  1.72  In Person  \n",
       "107  2021-04-12  7.22  In Person  \n",
       "108  2021-04-12  1.38  In Person  \n",
       "109  2021-04-12  1.80  In Person  "
      ]
     },
     "execution_count": 164,
     "metadata": {},
     "output_type": "execute_result"
    }
   ],
   "source": [
    "time_breakdown[time_breakdown['PIN']=='EPSF_01247_A']"
   ]
  },
  {
   "cell_type": "code",
   "execution_count": 165,
   "metadata": {
    "id": "aYRQ3GZx2r4x"
   },
   "outputs": [],
   "source": [
    "rv =pd.merge(time_breakdown, all, how='outer',on=['PIN','Inst','Mode'])"
   ]
  },
  {
   "cell_type": "code",
   "execution_count": 166,
   "metadata": {
    "colab": {
     "base_uri": "https://localhost:8080/"
    },
    "id": "jKHrHKsI2-EG",
    "outputId": "82827e91-d6e2-419e-937c-b5131d41c3a0"
   },
   "outputs": [
    {
     "data": {
      "text/plain": [
       "(313, 16)"
      ]
     },
     "execution_count": 166,
     "metadata": {},
     "output_type": "execute_result"
    }
   ],
   "source": [
    "rv.shape"
   ]
  },
  {
   "cell_type": "code",
   "execution_count": 167,
   "metadata": {
    "id": "U7BnD7OT6RM-"
   },
   "outputs": [],
   "source": [
    "rv['Site'] = np.where(rv['PIN'].str.contains('SF'), 'Sioux Falls', 'Rapid City')"
   ]
  },
  {
   "cell_type": "code",
   "execution_count": 168,
   "metadata": {
    "colab": {
     "base_uri": "https://localhost:8080/",
     "height": 595
    },
    "id": "PNpXp1sA_r0H",
    "outputId": "393f76cf-b4d8-48e6-dbe5-a9a7040720a8"
   },
   "outputs": [],
   "source": [
    "rv.to_csv('C:/Users/tsb7592/Box/Avera NIHTB Data/wide_format_data.csv', index=False)"
   ]
  },
  {
   "cell_type": "code",
   "execution_count": 169,
   "metadata": {
    "id": "yx--Qwdr1JJz"
   },
   "outputs": [],
   "source": [
    "long = rv.melt(id_vars=['PIN','Inst','Mode','Date','Time','Site'], \n",
    "        var_name=\"Scores\", \n",
    "        value_name=\"Value\")"
   ]
  },
  {
   "cell_type": "code",
   "execution_count": 170,
   "metadata": {
    "id": "m3uIZx2PHrbG"
   },
   "outputs": [],
   "source": [
    "long=long.dropna(thresh=6, axis=0)"
   ]
  },
  {
   "cell_type": "code",
   "execution_count": 171,
   "metadata": {},
   "outputs": [],
   "source": [
    "long=long.drop_duplicates()"
   ]
  },
  {
   "cell_type": "code",
   "execution_count": 172,
   "metadata": {
    "colab": {
     "base_uri": "https://localhost:8080/"
    },
    "id": "2htdbHuqCjCM",
    "outputId": "a8955a87-d761-47e0-b080-6611321da0c1"
   },
   "outputs": [
    {
     "data": {
      "text/plain": [
       "(2769, 8)"
      ]
     },
     "execution_count": 172,
     "metadata": {},
     "output_type": "execute_result"
    }
   ],
   "source": [
    "long.shape"
   ]
  },
  {
   "cell_type": "code",
   "execution_count": 173,
   "metadata": {
    "id": "gceEOcxf5XmR"
   },
   "outputs": [],
   "source": [
    "long.to_csv('C:/Users/tsb7592/Box/Avera NIHTB Data/long_format_data.csv', index=False)"
   ]
  }
 ],
 "metadata": {
  "colab": {
   "collapsed_sections": [],
   "name": "In_person_vs_remote.ipynb",
   "provenance": []
  },
  "kernelspec": {
   "display_name": "Python 3",
   "language": "python",
   "name": "python3"
  },
  "language_info": {
   "codemirror_mode": {
    "name": "ipython",
    "version": 3
   },
   "file_extension": ".py",
   "mimetype": "text/x-python",
   "name": "python",
   "nbconvert_exporter": "python",
   "pygments_lexer": "ipython3",
   "version": "3.8.8"
  }
 },
 "nbformat": 4,
 "nbformat_minor": 1
}
