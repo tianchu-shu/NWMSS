{
  "nbformat": 4,
  "nbformat_minor": 0,
  "metadata": {
    "kernelspec": {
      "display_name": "Python 3",
      "language": "python",
      "name": "python3"
    },
    "language_info": {
      "codemirror_mode": {
        "name": "ipython",
        "version": 3
      },
      "file_extension": ".py",
      "mimetype": "text/x-python",
      "name": "python",
      "nbconvert_exporter": "python",
      "pygments_lexer": "ipython3",
      "version": "3.6.5"
    },
    "colab": {
      "name": "In_person_vs_remote.ipynb",
      "provenance": [],
      "collapsed_sections": [],
      "include_colab_link": true
    }
  },
  "cells": [
    {
      "cell_type": "markdown",
      "metadata": {
        "id": "view-in-github",
        "colab_type": "text"
      },
      "source": [
        "<a href=\"https://colab.research.google.com/github/tianchu-shu/NWMSS/blob/main/In_person_vs_remote.ipynb\" target=\"_parent\"><img src=\"https://colab.research.google.com/assets/colab-badge.svg\" alt=\"Open In Colab\"/></a>"
      ]
    },
    {
      "cell_type": "code",
      "metadata": {
        "id": "B5hl3HN8RfDn",
        "colab": {
          "base_uri": "https://localhost:8080/"
        },
        "outputId": "024f9bfe-0b41-4068-d155-be9bff43b1e8"
      },
      "source": [
        "from google.colab import drive\n",
        "drive.mount(\"/content/gdrive\", force_remount=True)"
      ],
      "execution_count": 223,
      "outputs": [
        {
          "output_type": "stream",
          "text": [
            "Mounted at /content/gdrive\n"
          ],
          "name": "stdout"
        }
      ]
    },
    {
      "cell_type": "code",
      "metadata": {
        "id": "SPKdLsF0Rg36"
      },
      "source": [
        "#Data saved in csv/excel\n",
        "import glob, os\n",
        "import pandas as pd\n",
        "\n",
        "data_dir= '/content/gdrive/My Drive/Avera/'\n",
        "os.chdir(data_dir)"
      ],
      "execution_count": 224,
      "outputs": []
    },
    {
      "cell_type": "code",
      "metadata": {
        "colab": {
          "base_uri": "https://localhost:8080/"
        },
        "id": "LnlbQxV5WIMo",
        "outputId": "0a78f4cc-3a18-4f8b-809c-a875ee1e53a1"
      },
      "source": [
        "!ls"
      ],
      "execution_count": 225,
      "outputs": [
        {
          "output_type": "stream",
          "text": [
            "'Rapid City'\n"
          ],
          "name": "stdout"
        }
      ]
    },
    {
      "cell_type": "code",
      "metadata": {
        "colab": {
          "base_uri": "https://localhost:8080/"
        },
        "id": "Bh_gobgwYajQ",
        "outputId": "b8f2c1e2-276c-43ad-8144-209bcef8fce6"
      },
      "source": [
        "!ls 'Rapid City'"
      ],
      "execution_count": 226,
      "outputs": [
        {
          "output_type": "stream",
          "text": [
            "EPRC_00032  EPRC_00162\tEPRC_00179  EPRC_00183\tEPRC_00380\n",
            "EPRC_00160  EPRC_00173\tEPRC_00181  EPRC_00191\tEPRC_00550\n"
          ],
          "name": "stdout"
        }
      ]
    },
    {
      "cell_type": "markdown",
      "metadata": {
        "id": "Ryp-FuHZLWyT"
      },
      "source": [
        "#Compute the Total response time in minutes"
      ]
    },
    {
      "cell_type": "code",
      "metadata": {
        "id": "yonYmaEjXXnY"
      },
      "source": [
        "# get all files from all In-person subdirectories\n",
        "\n",
        "all_files = glob.glob('/content/gdrive/My Drive/Avera/Rapid City/*/In Person/*CB_Data.csv')\n",
        "\n",
        "doc =[]\n",
        "for file in all_files:\n",
        "  data = pd.read_csv(file)\n",
        "  doc.append(data)\n",
        "\n",
        "\n",
        "df = pd.concat(doc)"
      ],
      "execution_count": 227,
      "outputs": []
    },
    {
      "cell_type": "code",
      "metadata": {
        "id": "vY67enVDXXne"
      },
      "source": [
        "df['PIN'] = df['PIN'].str[7:17]"
      ],
      "execution_count": 228,
      "outputs": []
    },
    {
      "cell_type": "code",
      "metadata": {
        "id": "E5ZSa4DUXXne"
      },
      "source": [
        "df['InstStarted']= pd.to_datetime(df['InstStarted'])"
      ],
      "execution_count": 229,
      "outputs": []
    },
    {
      "cell_type": "code",
      "metadata": {
        "id": "lumc7-HYXXnf"
      },
      "source": [
        "df['InstEnded']= pd.to_datetime(df['InstEnded'])"
      ],
      "execution_count": 230,
      "outputs": []
    },
    {
      "cell_type": "code",
      "metadata": {
        "colab": {
          "base_uri": "https://localhost:8080/",
          "height": 1000
        },
        "id": "RkM1KjN0XXnf",
        "outputId": "1b993612-ef9e-4d96-bc5a-911d56dfd912"
      },
      "source": [
        "df[df['PIN']=='EPRC_00162']"
      ],
      "execution_count": 231,
      "outputs": [
        {
          "output_type": "execute_result",
          "data": {
            "text/html": [
              "<div>\n",
              "<style scoped>\n",
              "    .dataframe tbody tr th:only-of-type {\n",
              "        vertical-align: middle;\n",
              "    }\n",
              "\n",
              "    .dataframe tbody tr th {\n",
              "        vertical-align: top;\n",
              "    }\n",
              "\n",
              "    .dataframe thead th {\n",
              "        text-align: right;\n",
              "    }\n",
              "</style>\n",
              "<table border=\"1\" class=\"dataframe\">\n",
              "  <thead>\n",
              "    <tr style=\"text-align: right;\">\n",
              "      <th></th>\n",
              "      <th>PIN</th>\n",
              "      <th>DeviceID</th>\n",
              "      <th>Assessment Name</th>\n",
              "      <th>InstOrdr</th>\n",
              "      <th>InstSctn</th>\n",
              "      <th>ItmOrdr</th>\n",
              "      <th>Inst</th>\n",
              "      <th>Locale</th>\n",
              "      <th>ItemID</th>\n",
              "      <th>Response</th>\n",
              "      <th>Score</th>\n",
              "      <th>Theta</th>\n",
              "      <th>TScore</th>\n",
              "      <th>SE</th>\n",
              "      <th>DataType</th>\n",
              "      <th>Position</th>\n",
              "      <th>ResponseTime</th>\n",
              "      <th>DateCreated</th>\n",
              "      <th>InstStarted</th>\n",
              "      <th>InstEnded</th>\n",
              "      <th>App Version</th>\n",
              "      <th>iPad Version</th>\n",
              "      <th>Firmware Version</th>\n",
              "    </tr>\n",
              "  </thead>\n",
              "  <tbody>\n",
              "    <tr>\n",
              "      <th>0</th>\n",
              "      <td>EPRC_00162</td>\n",
              "      <td>DB9A19BF-F81C-4244-9C7F-D0BB4A39D394</td>\n",
              "      <td>Assessment 1</td>\n",
              "      <td>1</td>\n",
              "      <td>1</td>\n",
              "      <td>1</td>\n",
              "      <td>NIH Toolbox Picture Vocabulary Test Age 3+ Pra...</td>\n",
              "      <td>en-US</td>\n",
              "      <td>VOCAB_INTRO</td>\n",
              "      <td>NaN</td>\n",
              "      <td>NaN</td>\n",
              "      <td>NaN</td>\n",
              "      <td>NaN</td>\n",
              "      <td>NaN</td>\n",
              "      <td>informational</td>\n",
              "      <td>NaN</td>\n",
              "      <td>NaN</td>\n",
              "      <td>2021-04-07 15:10:59</td>\n",
              "      <td>2021-04-07 15:10:58</td>\n",
              "      <td>2021-04-07 15:12:31</td>\n",
              "      <td>1.23.4300</td>\n",
              "      <td>iPad Pro 1st Gen (10.5-inch) / iPad7,3</td>\n",
              "      <td>14.4.2</td>\n",
              "    </tr>\n",
              "    <tr>\n",
              "      <th>1</th>\n",
              "      <td>EPRC_00162</td>\n",
              "      <td>DB9A19BF-F81C-4244-9C7F-D0BB4A39D394</td>\n",
              "      <td>Assessment 1</td>\n",
              "      <td>1</td>\n",
              "      <td>1</td>\n",
              "      <td>2</td>\n",
              "      <td>NIH Toolbox Picture Vocabulary Test Age 3+ Pra...</td>\n",
              "      <td>en-US</td>\n",
              "      <td>VOCAB_INSTR1</td>\n",
              "      <td>NaN</td>\n",
              "      <td>NaN</td>\n",
              "      <td>NaN</td>\n",
              "      <td>NaN</td>\n",
              "      <td>NaN</td>\n",
              "      <td>informational</td>\n",
              "      <td>NaN</td>\n",
              "      <td>NaN</td>\n",
              "      <td>2021-04-07 15:11:53</td>\n",
              "      <td>2021-04-07 15:10:58</td>\n",
              "      <td>2021-04-07 15:12:31</td>\n",
              "      <td>1.23.4300</td>\n",
              "      <td>iPad Pro 1st Gen (10.5-inch) / iPad7,3</td>\n",
              "      <td>14.4.2</td>\n",
              "    </tr>\n",
              "    <tr>\n",
              "      <th>2</th>\n",
              "      <td>EPRC_00162</td>\n",
              "      <td>DB9A19BF-F81C-4244-9C7F-D0BB4A39D394</td>\n",
              "      <td>Assessment 1</td>\n",
              "      <td>1</td>\n",
              "      <td>1</td>\n",
              "      <td>3</td>\n",
              "      <td>NIH Toolbox Picture Vocabulary Test Age 3+ Pra...</td>\n",
              "      <td>en-US</td>\n",
              "      <td>VOCAB_PRACT1</td>\n",
              "      <td>4</td>\n",
              "      <td>1.0</td>\n",
              "      <td>NaN</td>\n",
              "      <td>NaN</td>\n",
              "      <td>NaN</td>\n",
              "      <td>integer</td>\n",
              "      <td>1.0</td>\n",
              "      <td>7.200406</td>\n",
              "      <td>2021-04-07 15:12:02</td>\n",
              "      <td>2021-04-07 15:10:58</td>\n",
              "      <td>2021-04-07 15:12:31</td>\n",
              "      <td>1.23.4300</td>\n",
              "      <td>iPad Pro 1st Gen (10.5-inch) / iPad7,3</td>\n",
              "      <td>14.4.2</td>\n",
              "    </tr>\n",
              "    <tr>\n",
              "      <th>3</th>\n",
              "      <td>EPRC_00162</td>\n",
              "      <td>DB9A19BF-F81C-4244-9C7F-D0BB4A39D394</td>\n",
              "      <td>Assessment 1</td>\n",
              "      <td>1</td>\n",
              "      <td>1</td>\n",
              "      <td>4</td>\n",
              "      <td>NIH Toolbox Picture Vocabulary Test Age 3+ Pra...</td>\n",
              "      <td>en-US</td>\n",
              "      <td>VOCAB_PRACT2</td>\n",
              "      <td>3</td>\n",
              "      <td>1.0</td>\n",
              "      <td>NaN</td>\n",
              "      <td>NaN</td>\n",
              "      <td>NaN</td>\n",
              "      <td>integer</td>\n",
              "      <td>2.0</td>\n",
              "      <td>6.016031</td>\n",
              "      <td>2021-04-07 15:12:09</td>\n",
              "      <td>2021-04-07 15:10:58</td>\n",
              "      <td>2021-04-07 15:12:31</td>\n",
              "      <td>1.23.4300</td>\n",
              "      <td>iPad Pro 1st Gen (10.5-inch) / iPad7,3</td>\n",
              "      <td>14.4.2</td>\n",
              "    </tr>\n",
              "    <tr>\n",
              "      <th>4</th>\n",
              "      <td>EPRC_00162</td>\n",
              "      <td>DB9A19BF-F81C-4244-9C7F-D0BB4A39D394</td>\n",
              "      <td>Assessment 1</td>\n",
              "      <td>1</td>\n",
              "      <td>1</td>\n",
              "      <td>5</td>\n",
              "      <td>NIH Toolbox Picture Vocabulary Test Age 3+ Pra...</td>\n",
              "      <td>en-US</td>\n",
              "      <td>VOCAB_INSTR2</td>\n",
              "      <td>NaN</td>\n",
              "      <td>NaN</td>\n",
              "      <td>NaN</td>\n",
              "      <td>NaN</td>\n",
              "      <td>NaN</td>\n",
              "      <td>informational</td>\n",
              "      <td>NaN</td>\n",
              "      <td>NaN</td>\n",
              "      <td>2021-04-07 15:12:31</td>\n",
              "      <td>2021-04-07 15:10:58</td>\n",
              "      <td>2021-04-07 15:12:31</td>\n",
              "      <td>1.23.4300</td>\n",
              "      <td>iPad Pro 1st Gen (10.5-inch) / iPad7,3</td>\n",
              "      <td>14.4.2</td>\n",
              "    </tr>\n",
              "    <tr>\n",
              "      <th>...</th>\n",
              "      <td>...</td>\n",
              "      <td>...</td>\n",
              "      <td>...</td>\n",
              "      <td>...</td>\n",
              "      <td>...</td>\n",
              "      <td>...</td>\n",
              "      <td>...</td>\n",
              "      <td>...</td>\n",
              "      <td>...</td>\n",
              "      <td>...</td>\n",
              "      <td>...</td>\n",
              "      <td>...</td>\n",
              "      <td>...</td>\n",
              "      <td>...</td>\n",
              "      <td>...</td>\n",
              "      <td>...</td>\n",
              "      <td>...</td>\n",
              "      <td>...</td>\n",
              "      <td>...</td>\n",
              "      <td>...</td>\n",
              "      <td>...</td>\n",
              "      <td>...</td>\n",
              "      <td>...</td>\n",
              "    </tr>\n",
              "    <tr>\n",
              "      <th>170</th>\n",
              "      <td>EPRC_00162</td>\n",
              "      <td>DB9A19BF-F81C-4244-9C7F-D0BB4A39D394</td>\n",
              "      <td>Assessment 1</td>\n",
              "      <td>10</td>\n",
              "      <td>1</td>\n",
              "      <td>114</td>\n",
              "      <td>NIH Toolbox Oral Reading Recognition Test Age ...</td>\n",
              "      <td>en-US</td>\n",
              "      <td>LARE040</td>\n",
              "      <td>1</td>\n",
              "      <td>1.0</td>\n",
              "      <td>-2.580081</td>\n",
              "      <td>24.2</td>\n",
              "      <td>0.54</td>\n",
              "      <td>integer</td>\n",
              "      <td>16.0</td>\n",
              "      <td>0.000000</td>\n",
              "      <td>2021-04-07 15:45:27</td>\n",
              "      <td>2021-04-07 15:43:44</td>\n",
              "      <td>2021-04-07 15:45:44</td>\n",
              "      <td>1.23.4300</td>\n",
              "      <td>iPad Pro 1st Gen (10.5-inch) / iPad7,3</td>\n",
              "      <td>14.4.2</td>\n",
              "    </tr>\n",
              "    <tr>\n",
              "      <th>171</th>\n",
              "      <td>EPRC_00162</td>\n",
              "      <td>DB9A19BF-F81C-4244-9C7F-D0BB4A39D394</td>\n",
              "      <td>Assessment 1</td>\n",
              "      <td>10</td>\n",
              "      <td>1</td>\n",
              "      <td>300</td>\n",
              "      <td>NIH Toolbox Oral Reading Recognition Test Age ...</td>\n",
              "      <td>en-US</td>\n",
              "      <td>LARE092</td>\n",
              "      <td>2</td>\n",
              "      <td>0.0</td>\n",
              "      <td>-2.662047</td>\n",
              "      <td>23.4</td>\n",
              "      <td>0.52</td>\n",
              "      <td>integer</td>\n",
              "      <td>17.0</td>\n",
              "      <td>0.000000</td>\n",
              "      <td>2021-04-07 15:45:34</td>\n",
              "      <td>2021-04-07 15:43:44</td>\n",
              "      <td>2021-04-07 15:45:44</td>\n",
              "      <td>1.23.4300</td>\n",
              "      <td>iPad Pro 1st Gen (10.5-inch) / iPad7,3</td>\n",
              "      <td>14.4.2</td>\n",
              "    </tr>\n",
              "    <tr>\n",
              "      <th>172</th>\n",
              "      <td>EPRC_00162</td>\n",
              "      <td>DB9A19BF-F81C-4244-9C7F-D0BB4A39D394</td>\n",
              "      <td>Assessment 1</td>\n",
              "      <td>10</td>\n",
              "      <td>1</td>\n",
              "      <td>82</td>\n",
              "      <td>NIH Toolbox Oral Reading Recognition Test Age ...</td>\n",
              "      <td>en-US</td>\n",
              "      <td>LARE104</td>\n",
              "      <td>1</td>\n",
              "      <td>1.0</td>\n",
              "      <td>-2.636656</td>\n",
              "      <td>23.6</td>\n",
              "      <td>0.51</td>\n",
              "      <td>integer</td>\n",
              "      <td>18.0</td>\n",
              "      <td>0.000000</td>\n",
              "      <td>2021-04-07 15:45:37</td>\n",
              "      <td>2021-04-07 15:43:44</td>\n",
              "      <td>2021-04-07 15:45:44</td>\n",
              "      <td>1.23.4300</td>\n",
              "      <td>iPad Pro 1st Gen (10.5-inch) / iPad7,3</td>\n",
              "      <td>14.4.2</td>\n",
              "    </tr>\n",
              "    <tr>\n",
              "      <th>173</th>\n",
              "      <td>EPRC_00162</td>\n",
              "      <td>DB9A19BF-F81C-4244-9C7F-D0BB4A39D394</td>\n",
              "      <td>Assessment 1</td>\n",
              "      <td>10</td>\n",
              "      <td>1</td>\n",
              "      <td>27</td>\n",
              "      <td>NIH Toolbox Oral Reading Recognition Test Age ...</td>\n",
              "      <td>en-US</td>\n",
              "      <td>LARE063</td>\n",
              "      <td>1</td>\n",
              "      <td>1.0</td>\n",
              "      <td>-2.579644</td>\n",
              "      <td>24.2</td>\n",
              "      <td>0.50</td>\n",
              "      <td>integer</td>\n",
              "      <td>19.0</td>\n",
              "      <td>0.000000</td>\n",
              "      <td>2021-04-07 15:45:40</td>\n",
              "      <td>2021-04-07 15:43:44</td>\n",
              "      <td>2021-04-07 15:45:44</td>\n",
              "      <td>1.23.4300</td>\n",
              "      <td>iPad Pro 1st Gen (10.5-inch) / iPad7,3</td>\n",
              "      <td>14.4.2</td>\n",
              "    </tr>\n",
              "    <tr>\n",
              "      <th>174</th>\n",
              "      <td>EPRC_00162</td>\n",
              "      <td>DB9A19BF-F81C-4244-9C7F-D0BB4A39D394</td>\n",
              "      <td>Assessment 1</td>\n",
              "      <td>10</td>\n",
              "      <td>1</td>\n",
              "      <td>198</td>\n",
              "      <td>NIH Toolbox Oral Reading Recognition Test Age ...</td>\n",
              "      <td>en-US</td>\n",
              "      <td>LARE053</td>\n",
              "      <td>1</td>\n",
              "      <td>1.0</td>\n",
              "      <td>-2.560214</td>\n",
              "      <td>24.4</td>\n",
              "      <td>0.50</td>\n",
              "      <td>integer</td>\n",
              "      <td>20.0</td>\n",
              "      <td>0.000000</td>\n",
              "      <td>2021-04-07 15:45:44</td>\n",
              "      <td>2021-04-07 15:43:44</td>\n",
              "      <td>2021-04-07 15:45:44</td>\n",
              "      <td>1.23.4300</td>\n",
              "      <td>iPad Pro 1st Gen (10.5-inch) / iPad7,3</td>\n",
              "      <td>14.4.2</td>\n",
              "    </tr>\n",
              "  </tbody>\n",
              "</table>\n",
              "<p>175 rows × 23 columns</p>\n",
              "</div>"
            ],
            "text/plain": [
              "            PIN  ... Firmware Version\n",
              "0    EPRC_00162  ...           14.4.2\n",
              "1    EPRC_00162  ...           14.4.2\n",
              "2    EPRC_00162  ...           14.4.2\n",
              "3    EPRC_00162  ...           14.4.2\n",
              "4    EPRC_00162  ...           14.4.2\n",
              "..          ...  ...              ...\n",
              "170  EPRC_00162  ...           14.4.2\n",
              "171  EPRC_00162  ...           14.4.2\n",
              "172  EPRC_00162  ...           14.4.2\n",
              "173  EPRC_00162  ...           14.4.2\n",
              "174  EPRC_00162  ...           14.4.2\n",
              "\n",
              "[175 rows x 23 columns]"
            ]
          },
          "metadata": {
            "tags": []
          },
          "execution_count": 231
        }
      ]
    },
    {
      "cell_type": "code",
      "metadata": {
        "colab": {
          "base_uri": "https://localhost:8080/"
        },
        "id": "q09DIDy_XXng",
        "outputId": "2ef443ef-7087-47aa-a3ae-26330793f639"
      },
      "source": [
        "mni =df.groupby(['PIN','Inst'])['InstStarted','InstEnded'].first().reset_index()"
      ],
      "execution_count": 232,
      "outputs": [
        {
          "output_type": "stream",
          "text": [
            "/usr/local/lib/python3.7/dist-packages/ipykernel_launcher.py:1: FutureWarning: Indexing with multiple keys (implicitly converted to a tuple of keys) will be deprecated, use a list instead.\n",
            "  \"\"\"Entry point for launching an IPython kernel.\n"
          ],
          "name": "stderr"
        }
      ]
    },
    {
      "cell_type": "code",
      "metadata": {
        "id": "AKYCyKHhXXng"
      },
      "source": [
        "mni['Time']=mni['InstEnded']-mni['InstStarted']"
      ],
      "execution_count": 233,
      "outputs": []
    },
    {
      "cell_type": "code",
      "metadata": {
        "id": "I3Fr7g-eYvSZ"
      },
      "source": [
        "mni=mni.drop(columns=['InstStarted','InstEnded'])"
      ],
      "execution_count": 234,
      "outputs": []
    },
    {
      "cell_type": "code",
      "metadata": {
        "id": "BUmKDYpTXXnh"
      },
      "source": [
        "IP =mni.groupby(['PIN'])['Time'].sum().reset_index()"
      ],
      "execution_count": 235,
      "outputs": []
    },
    {
      "cell_type": "code",
      "metadata": {
        "id": "BmnWLgBYXXnh"
      },
      "source": [
        "IP['Time']=round(IP['Time'].dt.total_seconds()/60,2)"
      ],
      "execution_count": 236,
      "outputs": []
    },
    {
      "cell_type": "code",
      "metadata": {
        "id": "TaVkbMoAjUaW"
      },
      "source": [
        "mni['Time']=round(mni['Time'].dt.total_seconds()/60,2)"
      ],
      "execution_count": 237,
      "outputs": []
    },
    {
      "cell_type": "code",
      "metadata": {
        "id": "oDTt-ymSwHPZ"
      },
      "source": [
        "mni['Mode'] = 'In Person'"
      ],
      "execution_count": 238,
      "outputs": []
    },
    {
      "cell_type": "code",
      "metadata": {
        "colab": {
          "base_uri": "https://localhost:8080/",
          "height": 402
        },
        "id": "80ycQdp3zH3k",
        "outputId": "1804fe15-414a-4edb-bdef-c2a5882b2b3b"
      },
      "source": [
        "mni"
      ],
      "execution_count": 239,
      "outputs": [
        {
          "output_type": "execute_result",
          "data": {
            "text/html": [
              "<div>\n",
              "<style scoped>\n",
              "    .dataframe tbody tr th:only-of-type {\n",
              "        vertical-align: middle;\n",
              "    }\n",
              "\n",
              "    .dataframe tbody tr th {\n",
              "        vertical-align: top;\n",
              "    }\n",
              "\n",
              "    .dataframe thead th {\n",
              "        text-align: right;\n",
              "    }\n",
              "</style>\n",
              "<table border=\"1\" class=\"dataframe\">\n",
              "  <thead>\n",
              "    <tr style=\"text-align: right;\">\n",
              "      <th></th>\n",
              "      <th>PIN</th>\n",
              "      <th>Inst</th>\n",
              "      <th>Time</th>\n",
              "      <th>Mode</th>\n",
              "    </tr>\n",
              "  </thead>\n",
              "  <tbody>\n",
              "    <tr>\n",
              "      <th>0</th>\n",
              "      <td>EPRC_00032</td>\n",
              "      <td>NIH Toolbox Dimensional Change Card Sort Test ...</td>\n",
              "      <td>5.30</td>\n",
              "      <td>In Person</td>\n",
              "    </tr>\n",
              "    <tr>\n",
              "      <th>1</th>\n",
              "      <td>EPRC_00032</td>\n",
              "      <td>NIH Toolbox Flanker Inhibitory Control and Att...</td>\n",
              "      <td>3.97</td>\n",
              "      <td>In Person</td>\n",
              "    </tr>\n",
              "    <tr>\n",
              "      <th>2</th>\n",
              "      <td>EPRC_00032</td>\n",
              "      <td>NIH Toolbox List Sorting Working Memory Test A...</td>\n",
              "      <td>10.60</td>\n",
              "      <td>In Person</td>\n",
              "    </tr>\n",
              "    <tr>\n",
              "      <th>3</th>\n",
              "      <td>EPRC_00032</td>\n",
              "      <td>NIH Toolbox Oral Reading Recognition Test Age ...</td>\n",
              "      <td>1.43</td>\n",
              "      <td>In Person</td>\n",
              "    </tr>\n",
              "    <tr>\n",
              "      <th>4</th>\n",
              "      <td>EPRC_00032</td>\n",
              "      <td>NIH Toolbox Pattern Comparison Processing Spee...</td>\n",
              "      <td>1.57</td>\n",
              "      <td>In Person</td>\n",
              "    </tr>\n",
              "    <tr>\n",
              "      <th>...</th>\n",
              "      <td>...</td>\n",
              "      <td>...</td>\n",
              "      <td>...</td>\n",
              "      <td>...</td>\n",
              "    </tr>\n",
              "    <tr>\n",
              "      <th>67</th>\n",
              "      <td>EPRC_00550</td>\n",
              "      <td>NIH Toolbox Pattern Comparison Processing Spee...</td>\n",
              "      <td>4.18</td>\n",
              "      <td>In Person</td>\n",
              "    </tr>\n",
              "    <tr>\n",
              "      <th>68</th>\n",
              "      <td>EPRC_00550</td>\n",
              "      <td>NIH Toolbox Pattern Comparison Processing Spee...</td>\n",
              "      <td>1.63</td>\n",
              "      <td>In Person</td>\n",
              "    </tr>\n",
              "    <tr>\n",
              "      <th>69</th>\n",
              "      <td>EPRC_00550</td>\n",
              "      <td>NIH Toolbox Picture Sequence Memory Test Age 8...</td>\n",
              "      <td>8.15</td>\n",
              "      <td>In Person</td>\n",
              "    </tr>\n",
              "    <tr>\n",
              "      <th>70</th>\n",
              "      <td>EPRC_00550</td>\n",
              "      <td>NIH Toolbox Picture Vocabulary Test Age 3+ Pra...</td>\n",
              "      <td>1.83</td>\n",
              "      <td>In Person</td>\n",
              "    </tr>\n",
              "    <tr>\n",
              "      <th>71</th>\n",
              "      <td>EPRC_00550</td>\n",
              "      <td>NIH Toolbox Picture Vocabulary Test Age 3+ v2.1</td>\n",
              "      <td>1.93</td>\n",
              "      <td>In Person</td>\n",
              "    </tr>\n",
              "  </tbody>\n",
              "</table>\n",
              "<p>72 rows × 4 columns</p>\n",
              "</div>"
            ],
            "text/plain": [
              "           PIN  ...       Mode\n",
              "0   EPRC_00032  ...  In Person\n",
              "1   EPRC_00032  ...  In Person\n",
              "2   EPRC_00032  ...  In Person\n",
              "3   EPRC_00032  ...  In Person\n",
              "4   EPRC_00032  ...  In Person\n",
              "..         ...  ...        ...\n",
              "67  EPRC_00550  ...  In Person\n",
              "68  EPRC_00550  ...  In Person\n",
              "69  EPRC_00550  ...  In Person\n",
              "70  EPRC_00550  ...  In Person\n",
              "71  EPRC_00550  ...  In Person\n",
              "\n",
              "[72 rows x 4 columns]"
            ]
          },
          "metadata": {
            "tags": []
          },
          "execution_count": 239
        }
      ]
    },
    {
      "cell_type": "code",
      "metadata": {
        "colab": {
          "base_uri": "https://localhost:8080/"
        },
        "id": "GrkuVakYXXni",
        "outputId": "c3203b64-3f09-49d3-d050-fdc3dbb51da1"
      },
      "source": [
        "IP['Time'].mean()"
      ],
      "execution_count": 240,
      "outputs": [
        {
          "output_type": "execute_result",
          "data": {
            "text/plain": [
              "35.497499999999995"
            ]
          },
          "metadata": {
            "tags": []
          },
          "execution_count": 240
        }
      ]
    },
    {
      "cell_type": "code",
      "metadata": {
        "id": "i5SFWprZWYEB"
      },
      "source": [
        "# get all files from all Remote subdirectories\n",
        "\n",
        "all_files = glob.glob('/content/gdrive/My Drive/Avera/Rapid City/*/Remote/*CB_Data_R.csv')\n",
        "\n",
        "doc =[]\n",
        "for file in all_files:\n",
        "  data = pd.read_csv(file)\n",
        "  doc.append(data)\n",
        "\n",
        "df = pd.concat(doc)"
      ],
      "execution_count": 241,
      "outputs": []
    },
    {
      "cell_type": "code",
      "metadata": {
        "id": "lgBBimQlZAHH"
      },
      "source": [
        "df['PIN'] = df['PIN'].str[7:17]"
      ],
      "execution_count": 242,
      "outputs": []
    },
    {
      "cell_type": "code",
      "metadata": {
        "id": "RB-LQSemb5w5"
      },
      "source": [
        "df['InstStarted']= pd.to_datetime(df['InstStarted'])"
      ],
      "execution_count": 243,
      "outputs": []
    },
    {
      "cell_type": "code",
      "metadata": {
        "id": "AZTDjIpfdCkc"
      },
      "source": [
        "df['InstEnded']= pd.to_datetime(df['InstEnded'])"
      ],
      "execution_count": 244,
      "outputs": []
    },
    {
      "cell_type": "code",
      "metadata": {
        "colab": {
          "base_uri": "https://localhost:8080/",
          "height": 84
        },
        "id": "JKhEGAo73xPr",
        "outputId": "2bcd5c20-f042-40f9-9140-cb80c3aab6ce"
      },
      "source": [
        "df[df['PIN']=='EPRC_00162']"
      ],
      "execution_count": 245,
      "outputs": [
        {
          "output_type": "execute_result",
          "data": {
            "text/html": [
              "<div>\n",
              "<style scoped>\n",
              "    .dataframe tbody tr th:only-of-type {\n",
              "        vertical-align: middle;\n",
              "    }\n",
              "\n",
              "    .dataframe tbody tr th {\n",
              "        vertical-align: top;\n",
              "    }\n",
              "\n",
              "    .dataframe thead th {\n",
              "        text-align: right;\n",
              "    }\n",
              "</style>\n",
              "<table border=\"1\" class=\"dataframe\">\n",
              "  <thead>\n",
              "    <tr style=\"text-align: right;\">\n",
              "      <th></th>\n",
              "      <th>PIN</th>\n",
              "      <th>DeviceID</th>\n",
              "      <th>Assessment Name</th>\n",
              "      <th>InstOrdr</th>\n",
              "      <th>InstSctn</th>\n",
              "      <th>ItmOrdr</th>\n",
              "      <th>Inst</th>\n",
              "      <th>Locale</th>\n",
              "      <th>ItemID</th>\n",
              "      <th>Response</th>\n",
              "      <th>Score</th>\n",
              "      <th>Theta</th>\n",
              "      <th>TScore</th>\n",
              "      <th>SE</th>\n",
              "      <th>DataType</th>\n",
              "      <th>Position</th>\n",
              "      <th>ResponseTime</th>\n",
              "      <th>DateCreated</th>\n",
              "      <th>InstStarted</th>\n",
              "      <th>InstEnded</th>\n",
              "      <th>App Version</th>\n",
              "      <th>iPad Version</th>\n",
              "      <th>Firmware Version</th>\n",
              "      <th>Name</th>\n",
              "      <th>Age</th>\n",
              "      <th>Education</th>\n",
              "      <th>MothersEducation</th>\n",
              "      <th>FathersEducation</th>\n",
              "      <th>GuardiansEducation</th>\n",
              "      <th>StartingLevelOverride</th>\n",
              "      <th>Gender</th>\n",
              "      <th>Handedness</th>\n",
              "      <th>Race</th>\n",
              "      <th>Ethnicity</th>\n",
              "    </tr>\n",
              "  </thead>\n",
              "  <tbody>\n",
              "  </tbody>\n",
              "</table>\n",
              "</div>"
            ],
            "text/plain": [
              "Empty DataFrame\n",
              "Columns: [PIN, DeviceID, Assessment Name, InstOrdr, InstSctn, ItmOrdr, Inst, Locale, ItemID, Response, Score, Theta, TScore, SE, DataType, Position, ResponseTime, DateCreated, InstStarted, InstEnded, App Version, iPad Version, Firmware Version, Name, Age, Education, MothersEducation, FathersEducation, GuardiansEducation, StartingLevelOverride, Gender, Handedness, Race, Ethnicity]\n",
              "Index: []"
            ]
          },
          "metadata": {
            "tags": []
          },
          "execution_count": 245
        }
      ]
    },
    {
      "cell_type": "code",
      "metadata": {
        "colab": {
          "base_uri": "https://localhost:8080/"
        },
        "id": "8luUtuGYaN0D",
        "outputId": "a69110f1-a49e-4f18-f53b-0087b0a6ba7c"
      },
      "source": [
        "mnr =df.groupby(['PIN','Inst'])['InstStarted','InstEnded'].first().reset_index()"
      ],
      "execution_count": 246,
      "outputs": [
        {
          "output_type": "stream",
          "text": [
            "/usr/local/lib/python3.7/dist-packages/ipykernel_launcher.py:1: FutureWarning: Indexing with multiple keys (implicitly converted to a tuple of keys) will be deprecated, use a list instead.\n",
            "  \"\"\"Entry point for launching an IPython kernel.\n"
          ],
          "name": "stderr"
        }
      ]
    },
    {
      "cell_type": "code",
      "metadata": {
        "id": "tL6eR_iddCH_"
      },
      "source": [
        "mnr['Time']=mnr['InstEnded']-mnr['InstStarted']"
      ],
      "execution_count": 247,
      "outputs": []
    },
    {
      "cell_type": "code",
      "metadata": {
        "id": "Bqhea3lbjYl5"
      },
      "source": [
        "mnr=mnr.drop(columns=['InstStarted','InstEnded'])"
      ],
      "execution_count": 248,
      "outputs": []
    },
    {
      "cell_type": "code",
      "metadata": {
        "id": "-ssc72Z0tLxH"
      },
      "source": [
        "RM =mnr.groupby(['PIN'])['Time'].sum().reset_index()"
      ],
      "execution_count": 249,
      "outputs": []
    },
    {
      "cell_type": "code",
      "metadata": {
        "id": "6IllucJ_u_7r"
      },
      "source": [
        "RM['Time']=round(RM['Time'].dt.total_seconds()/60,2)"
      ],
      "execution_count": 250,
      "outputs": []
    },
    {
      "cell_type": "code",
      "metadata": {
        "colab": {
          "base_uri": "https://localhost:8080/",
          "height": 254
        },
        "id": "AOxXvZgUwsxa",
        "outputId": "dcd6140d-1ecb-4bf7-ed58-35d24fc43849"
      },
      "source": [
        "RM"
      ],
      "execution_count": 251,
      "outputs": [
        {
          "output_type": "execute_result",
          "data": {
            "text/html": [
              "<div>\n",
              "<style scoped>\n",
              "    .dataframe tbody tr th:only-of-type {\n",
              "        vertical-align: middle;\n",
              "    }\n",
              "\n",
              "    .dataframe tbody tr th {\n",
              "        vertical-align: top;\n",
              "    }\n",
              "\n",
              "    .dataframe thead th {\n",
              "        text-align: right;\n",
              "    }\n",
              "</style>\n",
              "<table border=\"1\" class=\"dataframe\">\n",
              "  <thead>\n",
              "    <tr style=\"text-align: right;\">\n",
              "      <th></th>\n",
              "      <th>PIN</th>\n",
              "      <th>Time</th>\n",
              "    </tr>\n",
              "  </thead>\n",
              "  <tbody>\n",
              "    <tr>\n",
              "      <th>0</th>\n",
              "      <td>EPRC_00032</td>\n",
              "      <td>27.20</td>\n",
              "    </tr>\n",
              "    <tr>\n",
              "      <th>1</th>\n",
              "      <td>EPRC_00160</td>\n",
              "      <td>31.40</td>\n",
              "    </tr>\n",
              "    <tr>\n",
              "      <th>2</th>\n",
              "      <td>EPRC_00179</td>\n",
              "      <td>27.92</td>\n",
              "    </tr>\n",
              "    <tr>\n",
              "      <th>3</th>\n",
              "      <td>EPRC_00181</td>\n",
              "      <td>27.35</td>\n",
              "    </tr>\n",
              "    <tr>\n",
              "      <th>4</th>\n",
              "      <td>EPRC_00183</td>\n",
              "      <td>23.12</td>\n",
              "    </tr>\n",
              "    <tr>\n",
              "      <th>5</th>\n",
              "      <td>EPRC_00191</td>\n",
              "      <td>28.25</td>\n",
              "    </tr>\n",
              "    <tr>\n",
              "      <th>6</th>\n",
              "      <td>EPRC_00380</td>\n",
              "      <td>27.92</td>\n",
              "    </tr>\n",
              "  </tbody>\n",
              "</table>\n",
              "</div>"
            ],
            "text/plain": [
              "          PIN   Time\n",
              "0  EPRC_00032  27.20\n",
              "1  EPRC_00160  31.40\n",
              "2  EPRC_00179  27.92\n",
              "3  EPRC_00181  27.35\n",
              "4  EPRC_00183  23.12\n",
              "5  EPRC_00191  28.25\n",
              "6  EPRC_00380  27.92"
            ]
          },
          "metadata": {
            "tags": []
          },
          "execution_count": 251
        }
      ]
    },
    {
      "cell_type": "code",
      "metadata": {
        "colab": {
          "base_uri": "https://localhost:8080/"
        },
        "id": "01O2uGiWvuhe",
        "outputId": "dd2b9449-fc25-4793-f816-edad1965ad01"
      },
      "source": [
        "RM['Time'].mean()"
      ],
      "execution_count": 204,
      "outputs": [
        {
          "output_type": "execute_result",
          "data": {
            "text/plain": [
              "27.594285714285718"
            ]
          },
          "metadata": {
            "tags": []
          },
          "execution_count": 204
        }
      ]
    },
    {
      "cell_type": "code",
      "metadata": {
        "id": "Ufaysbpljrds"
      },
      "source": [
        "mnr['Time']=round(mnr['Time'].dt.total_seconds()/60,2)"
      ],
      "execution_count": 205,
      "outputs": []
    },
    {
      "cell_type": "code",
      "metadata": {
        "id": "0paxrlw6wj_6"
      },
      "source": [
        "mnr['Mode'] ='Remote'"
      ],
      "execution_count": 220,
      "outputs": []
    },
    {
      "cell_type": "markdown",
      "metadata": {
        "id": "zXCPbUgXw4At"
      },
      "source": [
        "#a. A matched t-test for those who have both in-person and remote - Total Time\n",
        "There are only 5 students both have in person and remote"
      ]
    },
    {
      "cell_type": "code",
      "metadata": {
        "id": "0OBAhrANzuH2"
      },
      "source": [
        "times = pd.merge(IP, RM, how= 'inner', on='PIN')"
      ],
      "execution_count": 252,
      "outputs": []
    },
    {
      "cell_type": "code",
      "metadata": {
        "id": "TSDQUbPtYTs4"
      },
      "source": [
        "times.columns =['PIN','Total_time', 'Total_time_R']"
      ],
      "execution_count": 254,
      "outputs": []
    },
    {
      "cell_type": "code",
      "metadata": {
        "colab": {
          "base_uri": "https://localhost:8080/",
          "height": 195
        },
        "id": "E8UwDA2hz6LZ",
        "outputId": "d235168b-2fb8-454b-ea01-e5ddd5e4e6e5"
      },
      "source": [
        "times"
      ],
      "execution_count": 255,
      "outputs": [
        {
          "output_type": "execute_result",
          "data": {
            "text/html": [
              "<div>\n",
              "<style scoped>\n",
              "    .dataframe tbody tr th:only-of-type {\n",
              "        vertical-align: middle;\n",
              "    }\n",
              "\n",
              "    .dataframe tbody tr th {\n",
              "        vertical-align: top;\n",
              "    }\n",
              "\n",
              "    .dataframe thead th {\n",
              "        text-align: right;\n",
              "    }\n",
              "</style>\n",
              "<table border=\"1\" class=\"dataframe\">\n",
              "  <thead>\n",
              "    <tr style=\"text-align: right;\">\n",
              "      <th></th>\n",
              "      <th>PIN</th>\n",
              "      <th>Total_time</th>\n",
              "      <th>Total_time_R</th>\n",
              "    </tr>\n",
              "  </thead>\n",
              "  <tbody>\n",
              "    <tr>\n",
              "      <th>0</th>\n",
              "      <td>EPRC_00032</td>\n",
              "      <td>36.33</td>\n",
              "      <td>27.20</td>\n",
              "    </tr>\n",
              "    <tr>\n",
              "      <th>1</th>\n",
              "      <td>EPRC_00160</td>\n",
              "      <td>35.68</td>\n",
              "      <td>31.40</td>\n",
              "    </tr>\n",
              "    <tr>\n",
              "      <th>2</th>\n",
              "      <td>EPRC_00179</td>\n",
              "      <td>30.22</td>\n",
              "      <td>27.92</td>\n",
              "    </tr>\n",
              "    <tr>\n",
              "      <th>3</th>\n",
              "      <td>EPRC_00181</td>\n",
              "      <td>31.72</td>\n",
              "      <td>27.35</td>\n",
              "    </tr>\n",
              "    <tr>\n",
              "      <th>4</th>\n",
              "      <td>EPRC_00380</td>\n",
              "      <td>33.48</td>\n",
              "      <td>27.92</td>\n",
              "    </tr>\n",
              "  </tbody>\n",
              "</table>\n",
              "</div>"
            ],
            "text/plain": [
              "          PIN  Total_time  Total_time_R\n",
              "0  EPRC_00032       36.33         27.20\n",
              "1  EPRC_00160       35.68         31.40\n",
              "2  EPRC_00179       30.22         27.92\n",
              "3  EPRC_00181       31.72         27.35\n",
              "4  EPRC_00380       33.48         27.92"
            ]
          },
          "metadata": {
            "tags": []
          },
          "execution_count": 255
        }
      ]
    },
    {
      "cell_type": "code",
      "metadata": {
        "colab": {
          "base_uri": "https://localhost:8080/"
        },
        "id": "U1_dTcFSqK5n",
        "outputId": "74862597-ab59-4e53-8110-2dd23317a6ac"
      },
      "source": [
        "stats.ttest_ind(times.Total_time, times.Total_time_R, equal_var = False)"
      ],
      "execution_count": 120,
      "outputs": [
        {
          "output_type": "execute_result",
          "data": {
            "text/plain": [
              "Ttest_indResult(statistic=3.687300684769234, pvalue=0.0078014526066031)"
            ]
          },
          "metadata": {
            "tags": []
          },
          "execution_count": 120
        }
      ]
    },
    {
      "cell_type": "code",
      "metadata": {
        "colab": {
          "base_uri": "https://localhost:8080/",
          "height": 375
        },
        "id": "GIiwJXfuLY0w",
        "outputId": "b42e17bc-1d92-4785-d3e8-a761c52d9c23"
      },
      "source": [
        "import matplotlib.pyplot as plt\n",
        "\n",
        "# Box plot of ACS In person vs. Remote\n",
        "plt.figure(figsize=(8, 6))\n",
        "times.boxplot(column=['Total_time', 'Total_time_R'])\n",
        "\n",
        "plt.show()"
      ],
      "execution_count": 88,
      "outputs": [
        {
          "output_type": "display_data",
          "data": {
            "image/png": "[encoded data removed]",
            "text/plain": [
              "<Figure size 576x432 with 1 Axes>"
            ]
          },
          "metadata": {
            "tags": [],
            "needs_background": "light"
          }
        }
      ]
    },
    {
      "cell_type": "markdown",
      "metadata": {
        "id": "lGdqiU1zablK"
      },
      "source": [
        "# b.\tA student’s t-test for everyone \n",
        "8 has In-person, 7 has remote"
      ]
    },
    {
      "cell_type": "code",
      "metadata": {
        "colab": {
          "base_uri": "https://localhost:8080/"
        },
        "id": "AOGjshfCXXnh",
        "outputId": "5a833cf4-be08-45c6-ca17-93bf171bce4a"
      },
      "source": [
        "stats.ttest_ind(IP.Time, rv.Time, equal_var=False)"
      ],
      "execution_count": 119,
      "outputs": [
        {
          "output_type": "execute_result",
          "data": {
            "text/plain": [
              "Ttest_indResult(statistic=0.0, pvalue=1.0)"
            ]
          },
          "metadata": {
            "tags": []
          },
          "execution_count": 119
        }
      ]
    },
    {
      "cell_type": "code",
      "metadata": {
        "colab": {
          "base_uri": "https://localhost:8080/",
          "height": 0
        },
        "id": "niEC75o9cJu9",
        "outputId": "731eea20-4979-43de-e8e7-ea1fdfb7f114"
      },
      "source": [
        "pd.merge(IP, RM, how= 'outer', on='PIN')"
      ],
      "execution_count": 117,
      "outputs": [
        {
          "output_type": "execute_result",
          "data": {
            "text/html": [
              "<div>\n",
              "<style scoped>\n",
              "    .dataframe tbody tr th:only-of-type {\n",
              "        vertical-align: middle;\n",
              "    }\n",
              "\n",
              "    .dataframe tbody tr th {\n",
              "        vertical-align: top;\n",
              "    }\n",
              "\n",
              "    .dataframe thead th {\n",
              "        text-align: right;\n",
              "    }\n",
              "</style>\n",
              "<table border=\"1\" class=\"dataframe\">\n",
              "  <thead>\n",
              "    <tr style=\"text-align: right;\">\n",
              "      <th></th>\n",
              "      <th>PIN</th>\n",
              "      <th>Time</th>\n",
              "      <th>Time_R</th>\n",
              "    </tr>\n",
              "  </thead>\n",
              "  <tbody>\n",
              "    <tr>\n",
              "      <th>0</th>\n",
              "      <td>EPRC_00032</td>\n",
              "      <td>36.33</td>\n",
              "      <td>27.20</td>\n",
              "    </tr>\n",
              "    <tr>\n",
              "      <th>1</th>\n",
              "      <td>EPRC_00160</td>\n",
              "      <td>35.68</td>\n",
              "      <td>31.40</td>\n",
              "    </tr>\n",
              "    <tr>\n",
              "      <th>2</th>\n",
              "      <td>EPRC_00162</td>\n",
              "      <td>33.65</td>\n",
              "      <td>NaN</td>\n",
              "    </tr>\n",
              "    <tr>\n",
              "      <th>3</th>\n",
              "      <td>EPRC_00173</td>\n",
              "      <td>42.67</td>\n",
              "      <td>NaN</td>\n",
              "    </tr>\n",
              "    <tr>\n",
              "      <th>4</th>\n",
              "      <td>EPRC_00179</td>\n",
              "      <td>30.22</td>\n",
              "      <td>27.92</td>\n",
              "    </tr>\n",
              "    <tr>\n",
              "      <th>5</th>\n",
              "      <td>EPRC_00181</td>\n",
              "      <td>31.72</td>\n",
              "      <td>27.35</td>\n",
              "    </tr>\n",
              "    <tr>\n",
              "      <th>6</th>\n",
              "      <td>EPRC_00380</td>\n",
              "      <td>33.48</td>\n",
              "      <td>27.92</td>\n",
              "    </tr>\n",
              "    <tr>\n",
              "      <th>7</th>\n",
              "      <td>EPRC_00550</td>\n",
              "      <td>40.23</td>\n",
              "      <td>NaN</td>\n",
              "    </tr>\n",
              "    <tr>\n",
              "      <th>8</th>\n",
              "      <td>EPRC_00183</td>\n",
              "      <td>NaN</td>\n",
              "      <td>23.12</td>\n",
              "    </tr>\n",
              "    <tr>\n",
              "      <th>9</th>\n",
              "      <td>EPRC_00191</td>\n",
              "      <td>NaN</td>\n",
              "      <td>28.25</td>\n",
              "    </tr>\n",
              "  </tbody>\n",
              "</table>\n",
              "</div>"
            ],
            "text/plain": [
              "          PIN   Time  Time_R\n",
              "0  EPRC_00032  36.33   27.20\n",
              "1  EPRC_00160  35.68   31.40\n",
              "2  EPRC_00162  33.65     NaN\n",
              "3  EPRC_00173  42.67     NaN\n",
              "4  EPRC_00179  30.22   27.92\n",
              "5  EPRC_00181  31.72   27.35\n",
              "6  EPRC_00380  33.48   27.92\n",
              "7  EPRC_00550  40.23     NaN\n",
              "8  EPRC_00183    NaN   23.12\n",
              "9  EPRC_00191    NaN   28.25"
            ]
          },
          "metadata": {
            "tags": []
          },
          "execution_count": 117
        }
      ]
    },
    {
      "cell_type": "markdown",
      "metadata": {
        "id": "_IxHYc-4eZxO"
      },
      "source": [
        "#c.\tCorrelations between remote and in-person- Total Time\n",
        "There are only 5 students both have in person and remote"
      ]
    },
    {
      "cell_type": "code",
      "metadata": {
        "colab": {
          "base_uri": "https://localhost:8080/"
        },
        "id": "kSl8M2iFd5b5",
        "outputId": "86f83f7c-ef26-40cc-90a8-f59f6144d148"
      },
      "source": [
        "import numpy as np\n",
        "import scipy.stats\n",
        "\n",
        "scipy.stats.pearsonr(times['Total_time'], times['Total_time_R'])    # Pearson's r"
      ],
      "execution_count": 85,
      "outputs": [
        {
          "output_type": "execute_result",
          "data": {
            "text/plain": [
              "(0.36855989310448634, 0.5415865681550411)"
            ]
          },
          "metadata": {
            "tags": []
          },
          "execution_count": 85
        }
      ]
    },
    {
      "cell_type": "code",
      "metadata": {
        "colab": {
          "base_uri": "https://localhost:8080/"
        },
        "id": "_8_UqDMleyUn",
        "outputId": "44107f68-003d-46bc-b942-3af79ff236a6"
      },
      "source": [
        "scipy.stats.spearmanr(times['Total_time'], times['Total_time_R']).correlation    # Spearman's rho"
      ],
      "execution_count": 83,
      "outputs": [
        {
          "output_type": "execute_result",
          "data": {
            "text/plain": [
              "-0.20519567041703082"
            ]
          },
          "metadata": {
            "tags": []
          },
          "execution_count": 83
        }
      ]
    },
    {
      "cell_type": "code",
      "metadata": {
        "colab": {
          "base_uri": "https://localhost:8080/"
        },
        "id": "F6bQaOYHey8j",
        "outputId": "485ce133-45b5-4130-b7a0-2b61b869d6b2"
      },
      "source": [
        "scipy.stats.kendalltau(times['Total_time'], times['Total_time_R']).correlation    # Kendall's tau"
      ],
      "execution_count": 84,
      "outputs": [
        {
          "output_type": "execute_result",
          "data": {
            "text/plain": [
              "-0.10540925533894598"
            ]
          },
          "metadata": {
            "tags": []
          },
          "execution_count": 84
        }
      ]
    },
    {
      "cell_type": "code",
      "metadata": {
        "id": "IzhIkmXLLPYo"
      },
      "source": [
        "time_breakdown = pd.concat([mni,mnr]) "
      ],
      "execution_count": 221,
      "outputs": []
    },
    {
      "cell_type": "code",
      "metadata": {
        "colab": {
          "base_uri": "https://localhost:8080/",
          "height": 402
        },
        "id": "zhLXikMLjk3U",
        "outputId": "a968a715-12a4-42df-c870-78181705e6f1"
      },
      "source": [
        "time_breakdown"
      ],
      "execution_count": 222,
      "outputs": [
        {
          "output_type": "execute_result",
          "data": {
            "text/html": [
              "<div>\n",
              "<style scoped>\n",
              "    .dataframe tbody tr th:only-of-type {\n",
              "        vertical-align: middle;\n",
              "    }\n",
              "\n",
              "    .dataframe tbody tr th {\n",
              "        vertical-align: top;\n",
              "    }\n",
              "\n",
              "    .dataframe thead th {\n",
              "        text-align: right;\n",
              "    }\n",
              "</style>\n",
              "<table border=\"1\" class=\"dataframe\">\n",
              "  <thead>\n",
              "    <tr style=\"text-align: right;\">\n",
              "      <th></th>\n",
              "      <th>PIN</th>\n",
              "      <th>Inst</th>\n",
              "      <th>Time</th>\n",
              "      <th>Mode</th>\n",
              "    </tr>\n",
              "  </thead>\n",
              "  <tbody>\n",
              "    <tr>\n",
              "      <th>0</th>\n",
              "      <td>EPRC_00032</td>\n",
              "      <td>NIH Toolbox Dimensional Change Card Sort Test ...</td>\n",
              "      <td>5.30</td>\n",
              "      <td>In Person</td>\n",
              "    </tr>\n",
              "    <tr>\n",
              "      <th>1</th>\n",
              "      <td>EPRC_00032</td>\n",
              "      <td>NIH Toolbox Flanker Inhibitory Control and Att...</td>\n",
              "      <td>3.97</td>\n",
              "      <td>In Person</td>\n",
              "    </tr>\n",
              "    <tr>\n",
              "      <th>2</th>\n",
              "      <td>EPRC_00032</td>\n",
              "      <td>NIH Toolbox List Sorting Working Memory Test A...</td>\n",
              "      <td>10.60</td>\n",
              "      <td>In Person</td>\n",
              "    </tr>\n",
              "    <tr>\n",
              "      <th>3</th>\n",
              "      <td>EPRC_00032</td>\n",
              "      <td>NIH Toolbox Oral Reading Recognition Test Age ...</td>\n",
              "      <td>1.43</td>\n",
              "      <td>In Person</td>\n",
              "    </tr>\n",
              "    <tr>\n",
              "      <th>4</th>\n",
              "      <td>EPRC_00032</td>\n",
              "      <td>NIH Toolbox Pattern Comparison Processing Spee...</td>\n",
              "      <td>1.57</td>\n",
              "      <td>In Person</td>\n",
              "    </tr>\n",
              "    <tr>\n",
              "      <th>...</th>\n",
              "      <td>...</td>\n",
              "      <td>...</td>\n",
              "      <td>...</td>\n",
              "      <td>...</td>\n",
              "    </tr>\n",
              "    <tr>\n",
              "      <th>49</th>\n",
              "      <td>EPRC_00380</td>\n",
              "      <td>NIH Toolbox Pattern Comparison Processing Spee...</td>\n",
              "      <td>2.08</td>\n",
              "      <td>Remote</td>\n",
              "    </tr>\n",
              "    <tr>\n",
              "      <th>50</th>\n",
              "      <td>EPRC_00380</td>\n",
              "      <td>NIH Toolbox Pattern Comparison Processing Spee...</td>\n",
              "      <td>1.60</td>\n",
              "      <td>Remote</td>\n",
              "    </tr>\n",
              "    <tr>\n",
              "      <th>51</th>\n",
              "      <td>EPRC_00380</td>\n",
              "      <td>NIH Toolbox Picture Sequence Memory Test Age 8...</td>\n",
              "      <td>8.10</td>\n",
              "      <td>Remote</td>\n",
              "    </tr>\n",
              "    <tr>\n",
              "      <th>52</th>\n",
              "      <td>EPRC_00380</td>\n",
              "      <td>NIH Toolbox Picture Vocabulary Test Age 3+ Pra...</td>\n",
              "      <td>1.52</td>\n",
              "      <td>Remote</td>\n",
              "    </tr>\n",
              "    <tr>\n",
              "      <th>53</th>\n",
              "      <td>EPRC_00380</td>\n",
              "      <td>NIH Toolbox Picture Vocabulary Test Age 3+ v2.1</td>\n",
              "      <td>1.90</td>\n",
              "      <td>Remote</td>\n",
              "    </tr>\n",
              "  </tbody>\n",
              "</table>\n",
              "<p>126 rows × 4 columns</p>\n",
              "</div>"
            ],
            "text/plain": [
              "           PIN  ...       Mode\n",
              "0   EPRC_00032  ...  In Person\n",
              "1   EPRC_00032  ...  In Person\n",
              "2   EPRC_00032  ...  In Person\n",
              "3   EPRC_00032  ...  In Person\n",
              "4   EPRC_00032  ...  In Person\n",
              "..         ...  ...        ...\n",
              "49  EPRC_00380  ...     Remote\n",
              "50  EPRC_00380  ...     Remote\n",
              "51  EPRC_00380  ...     Remote\n",
              "52  EPRC_00380  ...     Remote\n",
              "53  EPRC_00380  ...     Remote\n",
              "\n",
              "[126 rows x 4 columns]"
            ]
          },
          "metadata": {
            "tags": []
          },
          "execution_count": 222
        }
      ]
    },
    {
      "cell_type": "code",
      "metadata": {
        "colab": {
          "base_uri": "https://localhost:8080/",
          "height": 391
        },
        "id": "5VebY_W6ixUE",
        "outputId": "e6a15f48-47fb-49da-97d1-c80b36418666"
      },
      "source": [
        "import seaborn as sns\n",
        "sns.pairplot(\n",
        "    time_breakdown,\n",
        "    x_vars=[\"Time\",\"Time_R\"],\n",
        "    y_vars=[\"Time\",\"Time_R\"],\n",
        "        plot_kws=dict(marker=\"+\", linewidth=1),\n",
        "    diag_kws=dict(fill=False),\n",
        ")\n"
      ],
      "execution_count": 116,
      "outputs": [
        {
          "output_type": "execute_result",
          "data": {
            "text/plain": [
              "<seaborn.axisgrid.PairGrid at 0x7f34a4449a10>"
            ]
          },
          "metadata": {
            "tags": []
          },
          "execution_count": 116
        },
        {
          "output_type": "display_data",
          "data": {
            "image/png": "[encoded data removed]",
            "text/plain": [
              "<Figure size 360x360 with 6 Axes>"
            ]
          },
          "metadata": {
            "tags": [],
            "needs_background": "light"
          }
        }
      ]
    },
    {
      "cell_type": "markdown",
      "metadata": {
        "id": "LGFMDZ39ptvO"
      },
      "source": [
        "#d.\tDoes it take longer for remote vs. in-person? - Total Time\n"
      ]
    },
    {
      "cell_type": "code",
      "metadata": {
        "colab": {
          "base_uri": "https://localhost:8080/"
        },
        "id": "kgvHz9sgZ3rE",
        "outputId": "d3365ee1-3385-4e8a-aca6-6966867a0867"
      },
      "source": [
        "stats.wilcoxon(times.Total_time, times.Total_time_R, alternative='greater')"
      ],
      "execution_count": null,
      "outputs": [
        {
          "output_type": "stream",
          "text": [
            "/usr/local/lib/python3.7/dist-packages/scipy/stats/morestats.py:2879: UserWarning: Sample size too small for normal approximation.\n",
            "  warnings.warn(\"Sample size too small for normal approximation.\")\n"
          ],
          "name": "stderr"
        },
        {
          "output_type": "execute_result",
          "data": {
            "text/plain": [
              "WilcoxonResult(statistic=15.0, pvalue=0.021557223391537678)"
            ]
          },
          "metadata": {
            "tags": []
          },
          "execution_count": 66
        }
      ]
    },
    {
      "cell_type": "markdown",
      "metadata": {
        "id": "zKBH_U9Yd919"
      },
      "source": [
        "#Composites (age-corrected and fully-corrected scores)Scores"
      ]
    },
    {
      "cell_type": "code",
      "metadata": {
        "id": "3ayipuJLxYuG"
      },
      "source": [
        "#  get all files from all In-person subdirectories\n",
        "\n",
        "all_files = glob.glob('/content/gdrive/My Drive/Avera/Rapid City/*/In Person/*CB_Scores.csv')\n",
        "#all_files = glob.glob('/content/gdrive/My Drive/Avera/Rapid City/*/Remote/*CB_Scores_R.csv')\n",
        "\n",
        "doc =[]\n",
        "for file in all_files:\n",
        "  data = pd.read_csv(file)\n",
        "  doc.append(data)\n",
        "\n",
        "df = pd.concat(doc)"
      ],
      "execution_count": 270,
      "outputs": []
    },
    {
      "cell_type": "code",
      "metadata": {
        "colab": {
          "base_uri": "https://localhost:8080/"
        },
        "id": "WOvk0V52xqfj",
        "outputId": "fc0720be-7512-4b3b-f4e3-102ec83376f3"
      },
      "source": [
        "df.shape"
      ],
      "execution_count": 272,
      "outputs": [
        {
          "output_type": "execute_result",
          "data": {
            "text/plain": [
              "(88, 28)"
            ]
          },
          "metadata": {
            "tags": []
          },
          "execution_count": 272
        }
      ]
    },
    {
      "cell_type": "code",
      "metadata": {
        "id": "U_t0U6Q5x0Zl"
      },
      "source": [
        "df['PIN'] = df['PIN'].str[7:17]"
      ],
      "execution_count": 273,
      "outputs": []
    },
    {
      "cell_type": "code",
      "metadata": {
        "id": "ei6DQb7S4vya"
      },
      "source": [
        "keep =['PIN', 'Inst', 'RawScore', 'Theta', 'SE',\n",
        "       'ItmCnt', 'Computed Score',\n",
        "       'Uncorrected Standard Score', 'Age-Corrected Standard Score',\n",
        "       'National Percentile (age adjusted)', 'Fully-Corrected T-score',\n",
        "       'InstrumentBreakoff', 'InstrumentStatus2']"
      ],
      "execution_count": 274,
      "outputs": []
    },
    {
      "cell_type": "code",
      "metadata": {
        "id": "3Om5N5Ma56yQ"
      },
      "source": [
        "df=df[keep]"
      ],
      "execution_count": 275,
      "outputs": []
    },
    {
      "cell_type": "code",
      "metadata": {
        "colab": {
          "base_uri": "https://localhost:8080/",
          "height": 195
        },
        "id": "_WFIOwUytaMY",
        "outputId": "7d83b741-8e06-4f9b-f12c-d7b206dc370c"
      },
      "source": [
        "times"
      ],
      "execution_count": 265,
      "outputs": [
        {
          "output_type": "execute_result",
          "data": {
            "text/html": [
              "<div>\n",
              "<style scoped>\n",
              "    .dataframe tbody tr th:only-of-type {\n",
              "        vertical-align: middle;\n",
              "    }\n",
              "\n",
              "    .dataframe tbody tr th {\n",
              "        vertical-align: top;\n",
              "    }\n",
              "\n",
              "    .dataframe thead th {\n",
              "        text-align: right;\n",
              "    }\n",
              "</style>\n",
              "<table border=\"1\" class=\"dataframe\">\n",
              "  <thead>\n",
              "    <tr style=\"text-align: right;\">\n",
              "      <th></th>\n",
              "      <th>PIN</th>\n",
              "      <th>Total_time</th>\n",
              "      <th>Total_time_R</th>\n",
              "    </tr>\n",
              "  </thead>\n",
              "  <tbody>\n",
              "    <tr>\n",
              "      <th>0</th>\n",
              "      <td>EPRC_00032</td>\n",
              "      <td>36.33</td>\n",
              "      <td>27.20</td>\n",
              "    </tr>\n",
              "    <tr>\n",
              "      <th>1</th>\n",
              "      <td>EPRC_00160</td>\n",
              "      <td>35.68</td>\n",
              "      <td>31.40</td>\n",
              "    </tr>\n",
              "    <tr>\n",
              "      <th>2</th>\n",
              "      <td>EPRC_00179</td>\n",
              "      <td>30.22</td>\n",
              "      <td>27.92</td>\n",
              "    </tr>\n",
              "    <tr>\n",
              "      <th>3</th>\n",
              "      <td>EPRC_00181</td>\n",
              "      <td>31.72</td>\n",
              "      <td>27.35</td>\n",
              "    </tr>\n",
              "    <tr>\n",
              "      <th>4</th>\n",
              "      <td>EPRC_00380</td>\n",
              "      <td>33.48</td>\n",
              "      <td>27.92</td>\n",
              "    </tr>\n",
              "  </tbody>\n",
              "</table>\n",
              "</div>"
            ],
            "text/plain": [
              "          PIN  Total_time  Total_time_R\n",
              "0  EPRC_00032       36.33         27.20\n",
              "1  EPRC_00160       35.68         31.40\n",
              "2  EPRC_00179       30.22         27.92\n",
              "3  EPRC_00181       31.72         27.35\n",
              "4  EPRC_00380       33.48         27.92"
            ]
          },
          "metadata": {
            "tags": []
          },
          "execution_count": 265
        }
      ]
    },
    {
      "cell_type": "code",
      "metadata": {
        "id": "mfuZ4XcBDiTG"
      },
      "source": [
        "#Differentiate the rows contain Composites\n",
        "comp =df[df['Inst'].str.contains(\"Composite\")]\n",
        "raw =df[~df['Inst'].str.contains(\"Composite\")]"
      ],
      "execution_count": 262,
      "outputs": []
    },
    {
      "cell_type": "code",
      "metadata": {
        "colab": {
          "base_uri": "https://localhost:8080/",
          "height": 346
        },
        "id": "a2U6puaP8P6R",
        "outputId": "812a20c7-c75a-4e64-cb3c-39beb40f269e"
      },
      "source": [
        "raw=raw.dropna(axis=1, how='all')\n",
        "raw.head()"
      ],
      "execution_count": 263,
      "outputs": [
        {
          "output_type": "execute_result",
          "data": {
            "text/html": [
              "<div>\n",
              "<style scoped>\n",
              "    .dataframe tbody tr th:only-of-type {\n",
              "        vertical-align: middle;\n",
              "    }\n",
              "\n",
              "    .dataframe tbody tr th {\n",
              "        vertical-align: top;\n",
              "    }\n",
              "\n",
              "    .dataframe thead th {\n",
              "        text-align: right;\n",
              "    }\n",
              "</style>\n",
              "<table border=\"1\" class=\"dataframe\">\n",
              "  <thead>\n",
              "    <tr style=\"text-align: right;\">\n",
              "      <th></th>\n",
              "      <th>PIN</th>\n",
              "      <th>Inst</th>\n",
              "      <th>RawScore</th>\n",
              "      <th>Theta</th>\n",
              "      <th>SE</th>\n",
              "      <th>ItmCnt</th>\n",
              "      <th>Computed Score</th>\n",
              "      <th>Uncorrected Standard Score</th>\n",
              "      <th>Age-Corrected Standard Score</th>\n",
              "      <th>National Percentile (age adjusted)</th>\n",
              "      <th>Fully-Corrected T-score</th>\n",
              "      <th>InstrumentBreakoff</th>\n",
              "      <th>InstrumentStatus2</th>\n",
              "    </tr>\n",
              "  </thead>\n",
              "  <tbody>\n",
              "    <tr>\n",
              "      <th>0</th>\n",
              "      <td>EPRC_00032</td>\n",
              "      <td>NIH Toolbox Picture Vocabulary Test Age 3+ v2.1</td>\n",
              "      <td>NaN</td>\n",
              "      <td>-2.411</td>\n",
              "      <td>0.475</td>\n",
              "      <td>20.0</td>\n",
              "      <td>NaN</td>\n",
              "      <td>71</td>\n",
              "      <td>95</td>\n",
              "      <td>36</td>\n",
              "      <td>36</td>\n",
              "      <td>2.0</td>\n",
              "      <td>3.0</td>\n",
              "    </tr>\n",
              "    <tr>\n",
              "      <th>1</th>\n",
              "      <td>EPRC_00032</td>\n",
              "      <td>NIH Toolbox Flanker Inhibitory Control and Att...</td>\n",
              "      <td>20.0</td>\n",
              "      <td>NaN</td>\n",
              "      <td>NaN</td>\n",
              "      <td>24.0</td>\n",
              "      <td>7.24</td>\n",
              "      <td>89</td>\n",
              "      <td>94</td>\n",
              "      <td>34</td>\n",
              "      <td>45</td>\n",
              "      <td>2.0</td>\n",
              "      <td>3.0</td>\n",
              "    </tr>\n",
              "    <tr>\n",
              "      <th>2</th>\n",
              "      <td>EPRC_00032</td>\n",
              "      <td>NIH Toolbox List Sorting Working Memory Test A...</td>\n",
              "      <td>16.0</td>\n",
              "      <td>NaN</td>\n",
              "      <td>NaN</td>\n",
              "      <td>15.0</td>\n",
              "      <td>NaN</td>\n",
              "      <td>97</td>\n",
              "      <td>108</td>\n",
              "      <td>69</td>\n",
              "      <td>48</td>\n",
              "      <td>2.0</td>\n",
              "      <td>3.0</td>\n",
              "    </tr>\n",
              "    <tr>\n",
              "      <th>3</th>\n",
              "      <td>EPRC_00032</td>\n",
              "      <td>NIH Toolbox Dimensional Change Card Sort Test ...</td>\n",
              "      <td>26.0</td>\n",
              "      <td>NaN</td>\n",
              "      <td>NaN</td>\n",
              "      <td>38.0</td>\n",
              "      <td>6.73</td>\n",
              "      <td>91</td>\n",
              "      <td>96</td>\n",
              "      <td>40</td>\n",
              "      <td>46</td>\n",
              "      <td>2.0</td>\n",
              "      <td>3.0</td>\n",
              "    </tr>\n",
              "    <tr>\n",
              "      <th>4</th>\n",
              "      <td>EPRC_00032</td>\n",
              "      <td>NIH Toolbox Pattern Comparison Processing Spee...</td>\n",
              "      <td>34.0</td>\n",
              "      <td>NaN</td>\n",
              "      <td>NaN</td>\n",
              "      <td>34.0</td>\n",
              "      <td>39.00</td>\n",
              "      <td>80</td>\n",
              "      <td>86</td>\n",
              "      <td>18</td>\n",
              "      <td>39</td>\n",
              "      <td>2.0</td>\n",
              "      <td>3.0</td>\n",
              "    </tr>\n",
              "  </tbody>\n",
              "</table>\n",
              "</div>"
            ],
            "text/plain": [
              "          PIN  ... InstrumentStatus2\n",
              "0  EPRC_00032  ...               3.0\n",
              "1  EPRC_00032  ...               3.0\n",
              "2  EPRC_00032  ...               3.0\n",
              "3  EPRC_00032  ...               3.0\n",
              "4  EPRC_00032  ...               3.0\n",
              "\n",
              "[5 rows x 13 columns]"
            ]
          },
          "metadata": {
            "tags": []
          },
          "execution_count": 263
        }
      ]
    },
    {
      "cell_type": "code",
      "metadata": {
        "colab": {
          "base_uri": "https://localhost:8080/",
          "height": 195
        },
        "id": "8kCxcBxu_Q-G",
        "outputId": "eef4709f-dfbb-4816-dc13-f3665e661b34"
      },
      "source": [
        "comp=comp.dropna(axis=1, how='all')\n",
        "comp.head()"
      ],
      "execution_count": 129,
      "outputs": [
        {
          "output_type": "execute_result",
          "data": {
            "text/html": [
              "<div>\n",
              "<style scoped>\n",
              "    .dataframe tbody tr th:only-of-type {\n",
              "        vertical-align: middle;\n",
              "    }\n",
              "\n",
              "    .dataframe tbody tr th {\n",
              "        vertical-align: top;\n",
              "    }\n",
              "\n",
              "    .dataframe thead th {\n",
              "        text-align: right;\n",
              "    }\n",
              "</style>\n",
              "<table border=\"1\" class=\"dataframe\">\n",
              "  <thead>\n",
              "    <tr style=\"text-align: right;\">\n",
              "      <th></th>\n",
              "      <th>PIN</th>\n",
              "      <th>Inst</th>\n",
              "      <th>Uncorrected Standard Score</th>\n",
              "      <th>Age-Corrected Standard Score</th>\n",
              "      <th>National Percentile (age adjusted)</th>\n",
              "      <th>Fully-Corrected T-score</th>\n",
              "    </tr>\n",
              "  </thead>\n",
              "  <tbody>\n",
              "    <tr>\n",
              "      <th>7</th>\n",
              "      <td>EPRC_00032</td>\n",
              "      <td>Cognition Fluid Composite v1.1</td>\n",
              "      <td>93</td>\n",
              "      <td>103</td>\n",
              "      <td>59</td>\n",
              "      <td>48</td>\n",
              "    </tr>\n",
              "    <tr>\n",
              "      <th>8</th>\n",
              "      <td>EPRC_00032</td>\n",
              "      <td>Cognition Crystallized Composite v1.1</td>\n",
              "      <td>71</td>\n",
              "      <td>85</td>\n",
              "      <td>16</td>\n",
              "      <td>32</td>\n",
              "    </tr>\n",
              "    <tr>\n",
              "      <th>9</th>\n",
              "      <td>EPRC_00032</td>\n",
              "      <td>Cognition Total Composite Score v1.1</td>\n",
              "      <td>78</td>\n",
              "      <td>93</td>\n",
              "      <td>32</td>\n",
              "      <td>38</td>\n",
              "    </tr>\n",
              "    <tr>\n",
              "      <th>10</th>\n",
              "      <td>EPRC_00032</td>\n",
              "      <td>Cognition Early Childhood Composite v1.1</td>\n",
              "      <td>89</td>\n",
              "      <td>105</td>\n",
              "      <td>62</td>\n",
              "      <td>48</td>\n",
              "    </tr>\n",
              "    <tr>\n",
              "      <th>7</th>\n",
              "      <td>EPRC_00160</td>\n",
              "      <td>Cognition Fluid Composite v1.1</td>\n",
              "      <td>94</td>\n",
              "      <td>109</td>\n",
              "      <td>73</td>\n",
              "      <td>49</td>\n",
              "    </tr>\n",
              "  </tbody>\n",
              "</table>\n",
              "</div>"
            ],
            "text/plain": [
              "           PIN  ... Fully-Corrected T-score\n",
              "7   EPRC_00032  ...                      48\n",
              "8   EPRC_00032  ...                      32\n",
              "9   EPRC_00032  ...                      38\n",
              "10  EPRC_00032  ...                      48\n",
              "7   EPRC_00160  ...                      49\n",
              "\n",
              "[5 rows x 6 columns]"
            ]
          },
          "metadata": {
            "tags": []
          },
          "execution_count": 129
        }
      ]
    },
    {
      "cell_type": "code",
      "metadata": {
        "id": "S8Zx8UGl87yb"
      },
      "source": [
        "df['Mode'] ='In Person'\n",
        "\n"
      ],
      "execution_count": 277,
      "outputs": []
    },
    {
      "cell_type": "code",
      "metadata": {
        "id": "RY4vuD5yrnkW"
      },
      "source": [
        "#  get all files from all Remote subdirectories\n",
        "\n",
        "all_files = glob.glob('/content/gdrive/My Drive/Avera/Rapid City/*/Remote/*CB_Scores_R.csv')\n",
        "\n",
        "doc =[]\n",
        "for file in all_files:\n",
        "  data = pd.read_csv(file)\n",
        "  doc.append(data)\n",
        "\n",
        "dfr = pd.concat(doc)"
      ],
      "execution_count": 301,
      "outputs": []
    },
    {
      "cell_type": "code",
      "metadata": {
        "colab": {
          "base_uri": "https://localhost:8080/"
        },
        "id": "605OUi3TrnkY",
        "outputId": "3b807b0d-3a91-467a-f3b6-61ad14344b3d"
      },
      "source": [
        "dfr.shape"
      ],
      "execution_count": 302,
      "outputs": [
        {
          "output_type": "execute_result",
          "data": {
            "text/plain": [
              "(54, 28)"
            ]
          },
          "metadata": {
            "tags": []
          },
          "execution_count": 302
        }
      ]
    },
    {
      "cell_type": "code",
      "metadata": {
        "id": "LhE6D_sTrnkZ"
      },
      "source": [
        "dfr['PIN'] = dfr['PIN'].str[7:17]"
      ],
      "execution_count": 303,
      "outputs": []
    },
    {
      "cell_type": "code",
      "metadata": {
        "id": "vLGCb_g_rnka"
      },
      "source": [
        "dfr=dfr[keep]"
      ],
      "execution_count": 312,
      "outputs": []
    },
    {
      "cell_type": "code",
      "metadata": {
        "colab": {
          "base_uri": "https://localhost:8080/",
          "height": 1000
        },
        "id": "XGF23MAQ2Dkw",
        "outputId": "492d3dc8-2b24-4c62-b2a6-95cd20f97af4"
      },
      "source": [
        "dfr"
      ],
      "execution_count": 313,
      "outputs": [
        {
          "output_type": "execute_result",
          "data": {
            "text/html": [
              "<div>\n",
              "<style scoped>\n",
              "    .dataframe tbody tr th:only-of-type {\n",
              "        vertical-align: middle;\n",
              "    }\n",
              "\n",
              "    .dataframe tbody tr th {\n",
              "        vertical-align: top;\n",
              "    }\n",
              "\n",
              "    .dataframe thead th {\n",
              "        text-align: right;\n",
              "    }\n",
              "</style>\n",
              "<table border=\"1\" class=\"dataframe\">\n",
              "  <thead>\n",
              "    <tr style=\"text-align: right;\">\n",
              "      <th></th>\n",
              "      <th>PIN</th>\n",
              "      <th>Inst</th>\n",
              "      <th>RawScore</th>\n",
              "      <th>Theta</th>\n",
              "      <th>SE</th>\n",
              "      <th>ItmCnt</th>\n",
              "      <th>Computed Score</th>\n",
              "      <th>Uncorrected Standard Score</th>\n",
              "      <th>Age-Corrected Standard Score</th>\n",
              "      <th>National Percentile (age adjusted)</th>\n",
              "      <th>Fully-Corrected T-score</th>\n",
              "      <th>InstrumentBreakoff</th>\n",
              "      <th>InstrumentStatus2</th>\n",
              "    </tr>\n",
              "  </thead>\n",
              "  <tbody>\n",
              "    <tr>\n",
              "      <th>0</th>\n",
              "      <td>EPRC_00032</td>\n",
              "      <td>NIH Toolbox Picture Vocabulary Test Age 3+ v2.1</td>\n",
              "      <td>NaN</td>\n",
              "      <td>-1.730</td>\n",
              "      <td>0.482</td>\n",
              "      <td>24.0</td>\n",
              "      <td>NaN</td>\n",
              "      <td>74.0</td>\n",
              "      <td>95.0</td>\n",
              "      <td>36.0</td>\n",
              "      <td>44.0</td>\n",
              "      <td>2.0</td>\n",
              "      <td>3.0</td>\n",
              "    </tr>\n",
              "    <tr>\n",
              "      <th>1</th>\n",
              "      <td>EPRC_00032</td>\n",
              "      <td>NIH Toolbox Oral Reading Recognition Test Age ...</td>\n",
              "      <td>NaN</td>\n",
              "      <td>-4.995</td>\n",
              "      <td>0.500</td>\n",
              "      <td>22.0</td>\n",
              "      <td>NaN</td>\n",
              "      <td>78.0</td>\n",
              "      <td>80.0</td>\n",
              "      <td>10.0</td>\n",
              "      <td>34.0</td>\n",
              "      <td>2.0</td>\n",
              "      <td>3.0</td>\n",
              "    </tr>\n",
              "    <tr>\n",
              "      <th>2</th>\n",
              "      <td>EPRC_00032</td>\n",
              "      <td>NIH Toolbox Pattern Comparison Processing Spee...</td>\n",
              "      <td>34.0</td>\n",
              "      <td>NaN</td>\n",
              "      <td>NaN</td>\n",
              "      <td>37.0</td>\n",
              "      <td>39.00</td>\n",
              "      <td>80.0</td>\n",
              "      <td>86.0</td>\n",
              "      <td>18.0</td>\n",
              "      <td>39.0</td>\n",
              "      <td>2.0</td>\n",
              "      <td>3.0</td>\n",
              "    </tr>\n",
              "    <tr>\n",
              "      <th>3</th>\n",
              "      <td>EPRC_00032</td>\n",
              "      <td>NIH Toolbox Picture Sequence Memory Test Age 8...</td>\n",
              "      <td>19.0</td>\n",
              "      <td>0.238</td>\n",
              "      <td>0.310</td>\n",
              "      <td>6.0</td>\n",
              "      <td>585.56</td>\n",
              "      <td>115.0</td>\n",
              "      <td>121.0</td>\n",
              "      <td>92.0</td>\n",
              "      <td>62.0</td>\n",
              "      <td>2.0</td>\n",
              "      <td>3.0</td>\n",
              "    </tr>\n",
              "    <tr>\n",
              "      <th>4</th>\n",
              "      <td>EPRC_00032</td>\n",
              "      <td>NIH Toolbox Flanker Inhibitory Control and Att...</td>\n",
              "      <td>20.0</td>\n",
              "      <td>NaN</td>\n",
              "      <td>NaN</td>\n",
              "      <td>24.0</td>\n",
              "      <td>6.79</td>\n",
              "      <td>85.0</td>\n",
              "      <td>83.0</td>\n",
              "      <td>13.0</td>\n",
              "      <td>38.0</td>\n",
              "      <td>2.0</td>\n",
              "      <td>3.0</td>\n",
              "    </tr>\n",
              "    <tr>\n",
              "      <th>5</th>\n",
              "      <td>EPRC_00032</td>\n",
              "      <td>NIH Toolbox Dimensional Change Card Sort Test ...</td>\n",
              "      <td>29.0</td>\n",
              "      <td>NaN</td>\n",
              "      <td>NaN</td>\n",
              "      <td>38.0</td>\n",
              "      <td>6.10</td>\n",
              "      <td>86.0</td>\n",
              "      <td>96.0</td>\n",
              "      <td>40.0</td>\n",
              "      <td>39.0</td>\n",
              "      <td>2.0</td>\n",
              "      <td>3.0</td>\n",
              "    </tr>\n",
              "    <tr>\n",
              "      <th>6</th>\n",
              "      <td>EPRC_00032</td>\n",
              "      <td>Cognition Crystallized Composite v1.1</td>\n",
              "      <td>NaN</td>\n",
              "      <td>NaN</td>\n",
              "      <td>NaN</td>\n",
              "      <td>NaN</td>\n",
              "      <td>NaN</td>\n",
              "      <td>74.0</td>\n",
              "      <td>85.0</td>\n",
              "      <td>16.0</td>\n",
              "      <td>38.0</td>\n",
              "      <td>NaN</td>\n",
              "      <td>NaN</td>\n",
              "    </tr>\n",
              "    <tr>\n",
              "      <th>7</th>\n",
              "      <td>EPRC_00032</td>\n",
              "      <td>Cognition Early Childhood Composite v1.1</td>\n",
              "      <td>NaN</td>\n",
              "      <td>NaN</td>\n",
              "      <td>NaN</td>\n",
              "      <td>NaN</td>\n",
              "      <td>NaN</td>\n",
              "      <td>85.0</td>\n",
              "      <td>98.0</td>\n",
              "      <td>44.0</td>\n",
              "      <td>43.0</td>\n",
              "      <td>NaN</td>\n",
              "      <td>NaN</td>\n",
              "    </tr>\n",
              "    <tr>\n",
              "      <th>0</th>\n",
              "      <td>EPRC_00160</td>\n",
              "      <td>NIH Toolbox Picture Vocabulary Test Age 3+ v2.1</td>\n",
              "      <td>NaN</td>\n",
              "      <td>0.708</td>\n",
              "      <td>0.489</td>\n",
              "      <td>20.0</td>\n",
              "      <td>NaN</td>\n",
              "      <td>86.0</td>\n",
              "      <td>118.0</td>\n",
              "      <td>89.0</td>\n",
              "      <td>61.0</td>\n",
              "      <td>2.0</td>\n",
              "      <td>3.0</td>\n",
              "    </tr>\n",
              "    <tr>\n",
              "      <th>1</th>\n",
              "      <td>EPRC_00160</td>\n",
              "      <td>NIH Toolbox Oral Reading Recognition Test Age ...</td>\n",
              "      <td>NaN</td>\n",
              "      <td>-2.976</td>\n",
              "      <td>0.490</td>\n",
              "      <td>21.0</td>\n",
              "      <td>NaN</td>\n",
              "      <td>83.0</td>\n",
              "      <td>93.0</td>\n",
              "      <td>31.0</td>\n",
              "      <td>41.0</td>\n",
              "      <td>2.0</td>\n",
              "      <td>3.0</td>\n",
              "    </tr>\n",
              "    <tr>\n",
              "      <th>2</th>\n",
              "      <td>EPRC_00160</td>\n",
              "      <td>NIH Toolbox Pattern Comparison Processing Spee...</td>\n",
              "      <td>38.0</td>\n",
              "      <td>NaN</td>\n",
              "      <td>NaN</td>\n",
              "      <td>40.0</td>\n",
              "      <td>46.00</td>\n",
              "      <td>88.0</td>\n",
              "      <td>104.0</td>\n",
              "      <td>62.0</td>\n",
              "      <td>45.0</td>\n",
              "      <td>2.0</td>\n",
              "      <td>3.0</td>\n",
              "    </tr>\n",
              "    <tr>\n",
              "      <th>3</th>\n",
              "      <td>EPRC_00160</td>\n",
              "      <td>NIH Toolbox Picture Sequence Memory Test Age 8...</td>\n",
              "      <td>7.0</td>\n",
              "      <td>-1.237</td>\n",
              "      <td>0.330</td>\n",
              "      <td>6.0</td>\n",
              "      <td>438.06</td>\n",
              "      <td>91.0</td>\n",
              "      <td>92.0</td>\n",
              "      <td>29.0</td>\n",
              "      <td>43.0</td>\n",
              "      <td>2.0</td>\n",
              "      <td>3.0</td>\n",
              "    </tr>\n",
              "    <tr>\n",
              "      <th>4</th>\n",
              "      <td>EPRC_00160</td>\n",
              "      <td>NIH Toolbox Flanker Inhibitory Control and Att...</td>\n",
              "      <td>20.0</td>\n",
              "      <td>NaN</td>\n",
              "      <td>NaN</td>\n",
              "      <td>24.0</td>\n",
              "      <td>6.48</td>\n",
              "      <td>82.0</td>\n",
              "      <td>83.0</td>\n",
              "      <td>13.0</td>\n",
              "      <td>38.0</td>\n",
              "      <td>2.0</td>\n",
              "      <td>3.0</td>\n",
              "    </tr>\n",
              "    <tr>\n",
              "      <th>5</th>\n",
              "      <td>EPRC_00160</td>\n",
              "      <td>NIH Toolbox Dimensional Change Card Sort Test ...</td>\n",
              "      <td>30.0</td>\n",
              "      <td>NaN</td>\n",
              "      <td>NaN</td>\n",
              "      <td>38.0</td>\n",
              "      <td>5.61</td>\n",
              "      <td>82.0</td>\n",
              "      <td>87.0</td>\n",
              "      <td>18.0</td>\n",
              "      <td>40.0</td>\n",
              "      <td>2.0</td>\n",
              "      <td>3.0</td>\n",
              "    </tr>\n",
              "    <tr>\n",
              "      <th>6</th>\n",
              "      <td>EPRC_00160</td>\n",
              "      <td>Cognition Crystallized Composite v1.1</td>\n",
              "      <td>NaN</td>\n",
              "      <td>NaN</td>\n",
              "      <td>NaN</td>\n",
              "      <td>NaN</td>\n",
              "      <td>NaN</td>\n",
              "      <td>83.0</td>\n",
              "      <td>106.0</td>\n",
              "      <td>66.0</td>\n",
              "      <td>51.0</td>\n",
              "      <td>NaN</td>\n",
              "      <td>NaN</td>\n",
              "    </tr>\n",
              "    <tr>\n",
              "      <th>7</th>\n",
              "      <td>EPRC_00160</td>\n",
              "      <td>Cognition Early Childhood Composite v1.1</td>\n",
              "      <td>NaN</td>\n",
              "      <td>NaN</td>\n",
              "      <td>NaN</td>\n",
              "      <td>NaN</td>\n",
              "      <td>NaN</td>\n",
              "      <td>79.0</td>\n",
              "      <td>92.0</td>\n",
              "      <td>29.0</td>\n",
              "      <td>42.0</td>\n",
              "      <td>NaN</td>\n",
              "      <td>NaN</td>\n",
              "    </tr>\n",
              "    <tr>\n",
              "      <th>0</th>\n",
              "      <td>EPRC_00173</td>\n",
              "      <td>NIH Toolbox Picture Vocabulary Test Age 3+ v2.1</td>\n",
              "      <td>NaN</td>\n",
              "      <td>-4.717</td>\n",
              "      <td>0.476</td>\n",
              "      <td>23.0</td>\n",
              "      <td>NaN</td>\n",
              "      <td>60.0</td>\n",
              "      <td>71.0</td>\n",
              "      <td>3.0</td>\n",
              "      <td>40.0</td>\n",
              "      <td>2.0</td>\n",
              "      <td>3.0</td>\n",
              "    </tr>\n",
              "    <tr>\n",
              "      <th>1</th>\n",
              "      <td>EPRC_00173</td>\n",
              "      <td>NIH Toolbox Flanker Inhibitory Control and Att...</td>\n",
              "      <td>20.0</td>\n",
              "      <td>NaN</td>\n",
              "      <td>NaN</td>\n",
              "      <td>24.0</td>\n",
              "      <td>7.37</td>\n",
              "      <td>91.0</td>\n",
              "      <td>94.0</td>\n",
              "      <td>34.0</td>\n",
              "      <td>53.0</td>\n",
              "      <td>2.0</td>\n",
              "      <td>3.0</td>\n",
              "    </tr>\n",
              "    <tr>\n",
              "      <th>2</th>\n",
              "      <td>EPRC_00173</td>\n",
              "      <td>NIH Toolbox Dimensional Change Card Sort Test ...</td>\n",
              "      <td>30.0</td>\n",
              "      <td>NaN</td>\n",
              "      <td>NaN</td>\n",
              "      <td>38.0</td>\n",
              "      <td>5.80</td>\n",
              "      <td>83.0</td>\n",
              "      <td>87.0</td>\n",
              "      <td>18.0</td>\n",
              "      <td>47.0</td>\n",
              "      <td>2.0</td>\n",
              "      <td>3.0</td>\n",
              "    </tr>\n",
              "    <tr>\n",
              "      <th>3</th>\n",
              "      <td>EPRC_00173</td>\n",
              "      <td>NIH Toolbox Pattern Comparison Processing Spee...</td>\n",
              "      <td>46.0</td>\n",
              "      <td>NaN</td>\n",
              "      <td>NaN</td>\n",
              "      <td>50.0</td>\n",
              "      <td>59.00</td>\n",
              "      <td>105.0</td>\n",
              "      <td>132.0</td>\n",
              "      <td>98.0</td>\n",
              "      <td>69.0</td>\n",
              "      <td>2.0</td>\n",
              "      <td>3.0</td>\n",
              "    </tr>\n",
              "    <tr>\n",
              "      <th>4</th>\n",
              "      <td>EPRC_00173</td>\n",
              "      <td>NIH Toolbox Picture Sequence Memory Test Age 8...</td>\n",
              "      <td>NaN</td>\n",
              "      <td>NaN</td>\n",
              "      <td>NaN</td>\n",
              "      <td>NaN</td>\n",
              "      <td>NaN</td>\n",
              "      <td>NaN</td>\n",
              "      <td>NaN</td>\n",
              "      <td>NaN</td>\n",
              "      <td>NaN</td>\n",
              "      <td>1.0</td>\n",
              "      <td>4.0</td>\n",
              "    </tr>\n",
              "    <tr>\n",
              "      <th>5</th>\n",
              "      <td>EPRC_00173</td>\n",
              "      <td>NIH Toolbox Oral Reading Recognition Test Age ...</td>\n",
              "      <td>NaN</td>\n",
              "      <td>-7.171</td>\n",
              "      <td>0.494</td>\n",
              "      <td>20.0</td>\n",
              "      <td>NaN</td>\n",
              "      <td>71.0</td>\n",
              "      <td>80.0</td>\n",
              "      <td>10.0</td>\n",
              "      <td>42.0</td>\n",
              "      <td>2.0</td>\n",
              "      <td>3.0</td>\n",
              "    </tr>\n",
              "    <tr>\n",
              "      <th>6</th>\n",
              "      <td>EPRC_00173</td>\n",
              "      <td>Cognition Crystallized Composite v1.1</td>\n",
              "      <td>NaN</td>\n",
              "      <td>NaN</td>\n",
              "      <td>NaN</td>\n",
              "      <td>NaN</td>\n",
              "      <td>NaN</td>\n",
              "      <td>63.0</td>\n",
              "      <td>72.0</td>\n",
              "      <td>3.0</td>\n",
              "      <td>39.0</td>\n",
              "      <td>NaN</td>\n",
              "      <td>NaN</td>\n",
              "    </tr>\n",
              "    <tr>\n",
              "      <th>0</th>\n",
              "      <td>EPRC_00179</td>\n",
              "      <td>NIH Toolbox Picture Vocabulary Test Age 3+ v2.1</td>\n",
              "      <td>NaN</td>\n",
              "      <td>0.214</td>\n",
              "      <td>0.476</td>\n",
              "      <td>21.0</td>\n",
              "      <td>NaN</td>\n",
              "      <td>83.0</td>\n",
              "      <td>118.0</td>\n",
              "      <td>89.0</td>\n",
              "      <td>55.0</td>\n",
              "      <td>2.0</td>\n",
              "      <td>3.0</td>\n",
              "    </tr>\n",
              "    <tr>\n",
              "      <th>1</th>\n",
              "      <td>EPRC_00179</td>\n",
              "      <td>NIH Toolbox Oral Reading Recognition Test Age ...</td>\n",
              "      <td>NaN</td>\n",
              "      <td>-0.658</td>\n",
              "      <td>0.483</td>\n",
              "      <td>21.0</td>\n",
              "      <td>NaN</td>\n",
              "      <td>90.0</td>\n",
              "      <td>105.0</td>\n",
              "      <td>63.0</td>\n",
              "      <td>52.0</td>\n",
              "      <td>2.0</td>\n",
              "      <td>3.0</td>\n",
              "    </tr>\n",
              "    <tr>\n",
              "      <th>2</th>\n",
              "      <td>EPRC_00179</td>\n",
              "      <td>NIH Toolbox Pattern Comparison Processing Spee...</td>\n",
              "      <td>30.0</td>\n",
              "      <td>NaN</td>\n",
              "      <td>NaN</td>\n",
              "      <td>30.0</td>\n",
              "      <td>33.00</td>\n",
              "      <td>71.0</td>\n",
              "      <td>77.0</td>\n",
              "      <td>7.0</td>\n",
              "      <td>38.0</td>\n",
              "      <td>2.0</td>\n",
              "      <td>3.0</td>\n",
              "    </tr>\n",
              "    <tr>\n",
              "      <th>3</th>\n",
              "      <td>EPRC_00179</td>\n",
              "      <td>NIH Toolbox Picture Sequence Memory Test Age 8...</td>\n",
              "      <td>NaN</td>\n",
              "      <td>NaN</td>\n",
              "      <td>NaN</td>\n",
              "      <td>2.0</td>\n",
              "      <td>NaN</td>\n",
              "      <td>NaN</td>\n",
              "      <td>NaN</td>\n",
              "      <td>NaN</td>\n",
              "      <td>NaN</td>\n",
              "      <td>1.0</td>\n",
              "      <td>4.0</td>\n",
              "    </tr>\n",
              "    <tr>\n",
              "      <th>4</th>\n",
              "      <td>EPRC_00179</td>\n",
              "      <td>NIH Toolbox Flanker Inhibitory Control and Att...</td>\n",
              "      <td>19.0</td>\n",
              "      <td>NaN</td>\n",
              "      <td>NaN</td>\n",
              "      <td>24.0</td>\n",
              "      <td>6.73</td>\n",
              "      <td>84.0</td>\n",
              "      <td>83.0</td>\n",
              "      <td>13.0</td>\n",
              "      <td>44.0</td>\n",
              "      <td>2.0</td>\n",
              "      <td>3.0</td>\n",
              "    </tr>\n",
              "    <tr>\n",
              "      <th>5</th>\n",
              "      <td>EPRC_00179</td>\n",
              "      <td>NIH Toolbox Dimensional Change Card Sort Test ...</td>\n",
              "      <td>26.0</td>\n",
              "      <td>NaN</td>\n",
              "      <td>NaN</td>\n",
              "      <td>38.0</td>\n",
              "      <td>6.75</td>\n",
              "      <td>92.0</td>\n",
              "      <td>96.0</td>\n",
              "      <td>40.0</td>\n",
              "      <td>45.0</td>\n",
              "      <td>2.0</td>\n",
              "      <td>3.0</td>\n",
              "    </tr>\n",
              "    <tr>\n",
              "      <th>6</th>\n",
              "      <td>EPRC_00179</td>\n",
              "      <td>Cognition Crystallized Composite v1.1</td>\n",
              "      <td>NaN</td>\n",
              "      <td>NaN</td>\n",
              "      <td>NaN</td>\n",
              "      <td>NaN</td>\n",
              "      <td>NaN</td>\n",
              "      <td>85.0</td>\n",
              "      <td>113.0</td>\n",
              "      <td>81.0</td>\n",
              "      <td>54.0</td>\n",
              "      <td>NaN</td>\n",
              "      <td>NaN</td>\n",
              "    </tr>\n",
              "    <tr>\n",
              "      <th>0</th>\n",
              "      <td>EPRC_00181</td>\n",
              "      <td>NIH Toolbox Picture Vocabulary Test Age 3+ v2.1</td>\n",
              "      <td>NaN</td>\n",
              "      <td>-2.105</td>\n",
              "      <td>0.479</td>\n",
              "      <td>20.0</td>\n",
              "      <td>NaN</td>\n",
              "      <td>72.0</td>\n",
              "      <td>95.0</td>\n",
              "      <td>36.0</td>\n",
              "      <td>37.0</td>\n",
              "      <td>2.0</td>\n",
              "      <td>3.0</td>\n",
              "    </tr>\n",
              "    <tr>\n",
              "      <th>1</th>\n",
              "      <td>EPRC_00181</td>\n",
              "      <td>NIH Toolbox Oral Reading Recognition Test Age ...</td>\n",
              "      <td>NaN</td>\n",
              "      <td>-1.660</td>\n",
              "      <td>0.491</td>\n",
              "      <td>22.0</td>\n",
              "      <td>NaN</td>\n",
              "      <td>87.0</td>\n",
              "      <td>105.0</td>\n",
              "      <td>63.0</td>\n",
              "      <td>41.0</td>\n",
              "      <td>2.0</td>\n",
              "      <td>3.0</td>\n",
              "    </tr>\n",
              "    <tr>\n",
              "      <th>2</th>\n",
              "      <td>EPRC_00181</td>\n",
              "      <td>NIH Toolbox Pattern Comparison Processing Spee...</td>\n",
              "      <td>40.0</td>\n",
              "      <td>NaN</td>\n",
              "      <td>NaN</td>\n",
              "      <td>40.0</td>\n",
              "      <td>49.00</td>\n",
              "      <td>92.0</td>\n",
              "      <td>104.0</td>\n",
              "      <td>62.0</td>\n",
              "      <td>51.0</td>\n",
              "      <td>2.0</td>\n",
              "      <td>3.0</td>\n",
              "    </tr>\n",
              "    <tr>\n",
              "      <th>3</th>\n",
              "      <td>EPRC_00181</td>\n",
              "      <td>NIH Toolbox Picture Sequence Memory Test Age 8...</td>\n",
              "      <td>11.0</td>\n",
              "      <td>-0.717</td>\n",
              "      <td>0.320</td>\n",
              "      <td>6.0</td>\n",
              "      <td>490.11</td>\n",
              "      <td>100.0</td>\n",
              "      <td>99.0</td>\n",
              "      <td>48.0</td>\n",
              "      <td>47.0</td>\n",
              "      <td>2.0</td>\n",
              "      <td>3.0</td>\n",
              "    </tr>\n",
              "    <tr>\n",
              "      <th>4</th>\n",
              "      <td>EPRC_00181</td>\n",
              "      <td>NIH Toolbox Flanker Inhibitory Control and Att...</td>\n",
              "      <td>19.0</td>\n",
              "      <td>NaN</td>\n",
              "      <td>NaN</td>\n",
              "      <td>24.0</td>\n",
              "      <td>5.29</td>\n",
              "      <td>70.0</td>\n",
              "      <td>83.0</td>\n",
              "      <td>13.0</td>\n",
              "      <td>31.0</td>\n",
              "      <td>2.0</td>\n",
              "      <td>3.0</td>\n",
              "    </tr>\n",
              "    <tr>\n",
              "      <th>5</th>\n",
              "      <td>EPRC_00181</td>\n",
              "      <td>NIH Toolbox Dimensional Change Card Sort Test ...</td>\n",
              "      <td>29.0</td>\n",
              "      <td>NaN</td>\n",
              "      <td>NaN</td>\n",
              "      <td>38.0</td>\n",
              "      <td>6.80</td>\n",
              "      <td>92.0</td>\n",
              "      <td>96.0</td>\n",
              "      <td>40.0</td>\n",
              "      <td>47.0</td>\n",
              "      <td>2.0</td>\n",
              "      <td>3.0</td>\n",
              "    </tr>\n",
              "    <tr>\n",
              "      <th>6</th>\n",
              "      <td>EPRC_00181</td>\n",
              "      <td>Cognition Crystallized Composite v1.1</td>\n",
              "      <td>NaN</td>\n",
              "      <td>NaN</td>\n",
              "      <td>NaN</td>\n",
              "      <td>NaN</td>\n",
              "      <td>NaN</td>\n",
              "      <td>78.0</td>\n",
              "      <td>100.0</td>\n",
              "      <td>49.0</td>\n",
              "      <td>37.0</td>\n",
              "      <td>NaN</td>\n",
              "      <td>NaN</td>\n",
              "    </tr>\n",
              "    <tr>\n",
              "      <th>7</th>\n",
              "      <td>EPRC_00181</td>\n",
              "      <td>Cognition Early Childhood Composite v1.1</td>\n",
              "      <td>NaN</td>\n",
              "      <td>NaN</td>\n",
              "      <td>NaN</td>\n",
              "      <td>NaN</td>\n",
              "      <td>NaN</td>\n",
              "      <td>76.0</td>\n",
              "      <td>89.0</td>\n",
              "      <td>24.0</td>\n",
              "      <td>34.0</td>\n",
              "      <td>NaN</td>\n",
              "      <td>NaN</td>\n",
              "    </tr>\n",
              "    <tr>\n",
              "      <th>0</th>\n",
              "      <td>EPRC_00183</td>\n",
              "      <td>NIH Toolbox Picture Vocabulary Test Age 3+ v2.1</td>\n",
              "      <td>NaN</td>\n",
              "      <td>0.533</td>\n",
              "      <td>0.510</td>\n",
              "      <td>30.0</td>\n",
              "      <td>NaN</td>\n",
              "      <td>85.0</td>\n",
              "      <td>118.0</td>\n",
              "      <td>89.0</td>\n",
              "      <td>62.0</td>\n",
              "      <td>2.0</td>\n",
              "      <td>3.0</td>\n",
              "    </tr>\n",
              "    <tr>\n",
              "      <th>1</th>\n",
              "      <td>EPRC_00183</td>\n",
              "      <td>NIH Toolbox Oral Reading Recognition Test Age ...</td>\n",
              "      <td>NaN</td>\n",
              "      <td>0.028</td>\n",
              "      <td>0.483</td>\n",
              "      <td>22.0</td>\n",
              "      <td>NaN</td>\n",
              "      <td>92.0</td>\n",
              "      <td>117.0</td>\n",
              "      <td>87.0</td>\n",
              "      <td>60.0</td>\n",
              "      <td>2.0</td>\n",
              "      <td>3.0</td>\n",
              "    </tr>\n",
              "    <tr>\n",
              "      <th>2</th>\n",
              "      <td>EPRC_00183</td>\n",
              "      <td>NIH Toolbox Picture Sequence Memory Test Age 8...</td>\n",
              "      <td>14.0</td>\n",
              "      <td>-0.149</td>\n",
              "      <td>0.350</td>\n",
              "      <td>6.0</td>\n",
              "      <td>546.89</td>\n",
              "      <td>109.0</td>\n",
              "      <td>114.0</td>\n",
              "      <td>82.0</td>\n",
              "      <td>57.0</td>\n",
              "      <td>2.0</td>\n",
              "      <td>3.0</td>\n",
              "    </tr>\n",
              "    <tr>\n",
              "      <th>3</th>\n",
              "      <td>EPRC_00183</td>\n",
              "      <td>NIH Toolbox Picture Sequence Memory Test Age 8...</td>\n",
              "      <td>NaN</td>\n",
              "      <td>NaN</td>\n",
              "      <td>NaN</td>\n",
              "      <td>NaN</td>\n",
              "      <td>NaN</td>\n",
              "      <td>NaN</td>\n",
              "      <td>NaN</td>\n",
              "      <td>NaN</td>\n",
              "      <td>NaN</td>\n",
              "      <td>1.0</td>\n",
              "      <td>4.0</td>\n",
              "    </tr>\n",
              "    <tr>\n",
              "      <th>4</th>\n",
              "      <td>EPRC_00183</td>\n",
              "      <td>NIH Toolbox Flanker Inhibitory Control and Att...</td>\n",
              "      <td>20.0</td>\n",
              "      <td>NaN</td>\n",
              "      <td>NaN</td>\n",
              "      <td>24.0</td>\n",
              "      <td>7.31</td>\n",
              "      <td>90.0</td>\n",
              "      <td>94.0</td>\n",
              "      <td>34.0</td>\n",
              "      <td>45.0</td>\n",
              "      <td>2.0</td>\n",
              "      <td>3.0</td>\n",
              "    </tr>\n",
              "    <tr>\n",
              "      <th>5</th>\n",
              "      <td>EPRC_00183</td>\n",
              "      <td>NIH Toolbox Dimensional Change Card Sort Test ...</td>\n",
              "      <td>25.0</td>\n",
              "      <td>NaN</td>\n",
              "      <td>NaN</td>\n",
              "      <td>38.0</td>\n",
              "      <td>5.68</td>\n",
              "      <td>82.0</td>\n",
              "      <td>87.0</td>\n",
              "      <td>18.0</td>\n",
              "      <td>39.0</td>\n",
              "      <td>2.0</td>\n",
              "      <td>3.0</td>\n",
              "    </tr>\n",
              "    <tr>\n",
              "      <th>6</th>\n",
              "      <td>EPRC_00183</td>\n",
              "      <td>Cognition Crystallized Composite v1.1</td>\n",
              "      <td>NaN</td>\n",
              "      <td>NaN</td>\n",
              "      <td>NaN</td>\n",
              "      <td>NaN</td>\n",
              "      <td>NaN</td>\n",
              "      <td>87.0</td>\n",
              "      <td>120.0</td>\n",
              "      <td>91.0</td>\n",
              "      <td>63.0</td>\n",
              "      <td>NaN</td>\n",
              "      <td>NaN</td>\n",
              "    </tr>\n",
              "    <tr>\n",
              "      <th>7</th>\n",
              "      <td>EPRC_00183</td>\n",
              "      <td>Cognition Early Childhood Composite v1.1</td>\n",
              "      <td>NaN</td>\n",
              "      <td>NaN</td>\n",
              "      <td>NaN</td>\n",
              "      <td>NaN</td>\n",
              "      <td>NaN</td>\n",
              "      <td>87.0</td>\n",
              "      <td>104.0</td>\n",
              "      <td>62.0</td>\n",
              "      <td>51.0</td>\n",
              "      <td>NaN</td>\n",
              "      <td>NaN</td>\n",
              "    </tr>\n",
              "    <tr>\n",
              "      <th>0</th>\n",
              "      <td>EPRC_00191</td>\n",
              "      <td>NIH Toolbox Picture Vocabulary Test Age 3+ v2.1</td>\n",
              "      <td>NaN</td>\n",
              "      <td>-0.632</td>\n",
              "      <td>0.468</td>\n",
              "      <td>20.0</td>\n",
              "      <td>NaN</td>\n",
              "      <td>79.0</td>\n",
              "      <td>106.0</td>\n",
              "      <td>66.0</td>\n",
              "      <td>51.0</td>\n",
              "      <td>2.0</td>\n",
              "      <td>3.0</td>\n",
              "    </tr>\n",
              "    <tr>\n",
              "      <th>1</th>\n",
              "      <td>EPRC_00191</td>\n",
              "      <td>NIH Toolbox Flanker Inhibitory Control and Att...</td>\n",
              "      <td>20.0</td>\n",
              "      <td>NaN</td>\n",
              "      <td>NaN</td>\n",
              "      <td>24.0</td>\n",
              "      <td>7.33</td>\n",
              "      <td>90.0</td>\n",
              "      <td>94.0</td>\n",
              "      <td>34.0</td>\n",
              "      <td>46.0</td>\n",
              "      <td>2.0</td>\n",
              "      <td>3.0</td>\n",
              "    </tr>\n",
              "    <tr>\n",
              "      <th>2</th>\n",
              "      <td>EPRC_00191</td>\n",
              "      <td>NIH Toolbox Dimensional Change Card Sort Test ...</td>\n",
              "      <td>28.0</td>\n",
              "      <td>NaN</td>\n",
              "      <td>NaN</td>\n",
              "      <td>38.0</td>\n",
              "      <td>6.71</td>\n",
              "      <td>91.0</td>\n",
              "      <td>96.0</td>\n",
              "      <td>40.0</td>\n",
              "      <td>47.0</td>\n",
              "      <td>2.0</td>\n",
              "      <td>3.0</td>\n",
              "    </tr>\n",
              "    <tr>\n",
              "      <th>3</th>\n",
              "      <td>EPRC_00191</td>\n",
              "      <td>NIH Toolbox Pattern Comparison Processing Spee...</td>\n",
              "      <td>37.0</td>\n",
              "      <td>NaN</td>\n",
              "      <td>NaN</td>\n",
              "      <td>37.0</td>\n",
              "      <td>44.00</td>\n",
              "      <td>86.0</td>\n",
              "      <td>95.0</td>\n",
              "      <td>38.0</td>\n",
              "      <td>47.0</td>\n",
              "      <td>2.0</td>\n",
              "      <td>3.0</td>\n",
              "    </tr>\n",
              "    <tr>\n",
              "      <th>4</th>\n",
              "      <td>EPRC_00191</td>\n",
              "      <td>NIH Toolbox Picture Sequence Memory Test Age 8...</td>\n",
              "      <td>5.0</td>\n",
              "      <td>-1.694</td>\n",
              "      <td>0.410</td>\n",
              "      <td>6.0</td>\n",
              "      <td>392.43</td>\n",
              "      <td>84.0</td>\n",
              "      <td>85.0</td>\n",
              "      <td>15.0</td>\n",
              "      <td>39.0</td>\n",
              "      <td>2.0</td>\n",
              "      <td>3.0</td>\n",
              "    </tr>\n",
              "    <tr>\n",
              "      <th>5</th>\n",
              "      <td>EPRC_00191</td>\n",
              "      <td>NIH Toolbox Oral Reading Recognition Test Age ...</td>\n",
              "      <td>NaN</td>\n",
              "      <td>-5.683</td>\n",
              "      <td>0.489</td>\n",
              "      <td>22.0</td>\n",
              "      <td>NaN</td>\n",
              "      <td>76.0</td>\n",
              "      <td>80.0</td>\n",
              "      <td>10.0</td>\n",
              "      <td>36.0</td>\n",
              "      <td>2.0</td>\n",
              "      <td>3.0</td>\n",
              "    </tr>\n",
              "    <tr>\n",
              "      <th>6</th>\n",
              "      <td>EPRC_00191</td>\n",
              "      <td>Cognition Crystallized Composite v1.1</td>\n",
              "      <td>NaN</td>\n",
              "      <td>NaN</td>\n",
              "      <td>NaN</td>\n",
              "      <td>NaN</td>\n",
              "      <td>NaN</td>\n",
              "      <td>75.0</td>\n",
              "      <td>92.0</td>\n",
              "      <td>30.0</td>\n",
              "      <td>43.0</td>\n",
              "      <td>NaN</td>\n",
              "      <td>NaN</td>\n",
              "    </tr>\n",
              "    <tr>\n",
              "      <th>7</th>\n",
              "      <td>EPRC_00191</td>\n",
              "      <td>Cognition Early Childhood Composite v1.1</td>\n",
              "      <td>NaN</td>\n",
              "      <td>NaN</td>\n",
              "      <td>NaN</td>\n",
              "      <td>NaN</td>\n",
              "      <td>NaN</td>\n",
              "      <td>80.0</td>\n",
              "      <td>92.0</td>\n",
              "      <td>30.0</td>\n",
              "      <td>43.0</td>\n",
              "      <td>NaN</td>\n",
              "      <td>NaN</td>\n",
              "    </tr>\n",
              "  </tbody>\n",
              "</table>\n",
              "</div>"
            ],
            "text/plain": [
              "          PIN  ... InstrumentStatus2\n",
              "0  EPRC_00032  ...               3.0\n",
              "1  EPRC_00032  ...               3.0\n",
              "2  EPRC_00032  ...               3.0\n",
              "3  EPRC_00032  ...               3.0\n",
              "4  EPRC_00032  ...               3.0\n",
              "5  EPRC_00032  ...               3.0\n",
              "6  EPRC_00032  ...               NaN\n",
              "7  EPRC_00032  ...               NaN\n",
              "0  EPRC_00160  ...               3.0\n",
              "1  EPRC_00160  ...               3.0\n",
              "2  EPRC_00160  ...               3.0\n",
              "3  EPRC_00160  ...               3.0\n",
              "4  EPRC_00160  ...               3.0\n",
              "5  EPRC_00160  ...               3.0\n",
              "6  EPRC_00160  ...               NaN\n",
              "7  EPRC_00160  ...               NaN\n",
              "0  EPRC_00173  ...               3.0\n",
              "1  EPRC_00173  ...               3.0\n",
              "2  EPRC_00173  ...               3.0\n",
              "3  EPRC_00173  ...               3.0\n",
              "4  EPRC_00173  ...               4.0\n",
              "5  EPRC_00173  ...               3.0\n",
              "6  EPRC_00173  ...               NaN\n",
              "0  EPRC_00179  ...               3.0\n",
              "1  EPRC_00179  ...               3.0\n",
              "2  EPRC_00179  ...               3.0\n",
              "3  EPRC_00179  ...               4.0\n",
              "4  EPRC_00179  ...               3.0\n",
              "5  EPRC_00179  ...               3.0\n",
              "6  EPRC_00179  ...               NaN\n",
              "0  EPRC_00181  ...               3.0\n",
              "1  EPRC_00181  ...               3.0\n",
              "2  EPRC_00181  ...               3.0\n",
              "3  EPRC_00181  ...               3.0\n",
              "4  EPRC_00181  ...               3.0\n",
              "5  EPRC_00181  ...               3.0\n",
              "6  EPRC_00181  ...               NaN\n",
              "7  EPRC_00181  ...               NaN\n",
              "0  EPRC_00183  ...               3.0\n",
              "1  EPRC_00183  ...               3.0\n",
              "2  EPRC_00183  ...               3.0\n",
              "3  EPRC_00183  ...               4.0\n",
              "4  EPRC_00183  ...               3.0\n",
              "5  EPRC_00183  ...               3.0\n",
              "6  EPRC_00183  ...               NaN\n",
              "7  EPRC_00183  ...               NaN\n",
              "0  EPRC_00191  ...               3.0\n",
              "1  EPRC_00191  ...               3.0\n",
              "2  EPRC_00191  ...               3.0\n",
              "3  EPRC_00191  ...               3.0\n",
              "4  EPRC_00191  ...               3.0\n",
              "5  EPRC_00191  ...               3.0\n",
              "6  EPRC_00191  ...               NaN\n",
              "7  EPRC_00191  ...               NaN\n",
              "\n",
              "[54 rows x 13 columns]"
            ]
          },
          "metadata": {
            "tags": []
          },
          "execution_count": 313
        }
      ]
    },
    {
      "cell_type": "code",
      "metadata": {
        "id": "UFn7rcBbrnka"
      },
      "source": [
        "#Differentiate the rows contain Composites\n",
        "comp_r =dfr[dfr['Inst'].str.contains(\"Composite\")]\n",
        "raw_r =dfr[~dfr['Inst'].str.contains(\"Composite\")]"
      ],
      "execution_count": 317,
      "outputs": []
    },
    {
      "cell_type": "code",
      "metadata": {
        "colab": {
          "base_uri": "https://localhost:8080/",
          "height": 363
        },
        "id": "uW-VGWOhrnkb",
        "outputId": "69ae9c67-a96f-4414-8258-1f47e9291fc7"
      },
      "source": [
        "raw_r=raw_r.dropna(axis=1, how='all')\n",
        "raw_r.head()"
      ],
      "execution_count": 318,
      "outputs": [
        {
          "output_type": "execute_result",
          "data": {
            "text/html": [
              "<div>\n",
              "<style scoped>\n",
              "    .dataframe tbody tr th:only-of-type {\n",
              "        vertical-align: middle;\n",
              "    }\n",
              "\n",
              "    .dataframe tbody tr th {\n",
              "        vertical-align: top;\n",
              "    }\n",
              "\n",
              "    .dataframe thead th {\n",
              "        text-align: right;\n",
              "    }\n",
              "</style>\n",
              "<table border=\"1\" class=\"dataframe\">\n",
              "  <thead>\n",
              "    <tr style=\"text-align: right;\">\n",
              "      <th></th>\n",
              "      <th>PIN</th>\n",
              "      <th>Inst</th>\n",
              "      <th>RawScore</th>\n",
              "      <th>Theta</th>\n",
              "      <th>SE</th>\n",
              "      <th>ItmCnt</th>\n",
              "      <th>Computed Score</th>\n",
              "      <th>Uncorrected Standard Score</th>\n",
              "      <th>Age-Corrected Standard Score</th>\n",
              "      <th>National Percentile (age adjusted)</th>\n",
              "      <th>Fully-Corrected T-score</th>\n",
              "      <th>InstrumentBreakoff</th>\n",
              "      <th>InstrumentStatus2</th>\n",
              "    </tr>\n",
              "  </thead>\n",
              "  <tbody>\n",
              "    <tr>\n",
              "      <th>0</th>\n",
              "      <td>EPRC_00032</td>\n",
              "      <td>NIH Toolbox Picture Vocabulary Test Age 3+ v2.1</td>\n",
              "      <td>NaN</td>\n",
              "      <td>-1.730</td>\n",
              "      <td>0.482</td>\n",
              "      <td>24.0</td>\n",
              "      <td>NaN</td>\n",
              "      <td>74.0</td>\n",
              "      <td>95.0</td>\n",
              "      <td>36.0</td>\n",
              "      <td>44.0</td>\n",
              "      <td>2.0</td>\n",
              "      <td>3.0</td>\n",
              "    </tr>\n",
              "    <tr>\n",
              "      <th>1</th>\n",
              "      <td>EPRC_00032</td>\n",
              "      <td>NIH Toolbox Oral Reading Recognition Test Age ...</td>\n",
              "      <td>NaN</td>\n",
              "      <td>-4.995</td>\n",
              "      <td>0.500</td>\n",
              "      <td>22.0</td>\n",
              "      <td>NaN</td>\n",
              "      <td>78.0</td>\n",
              "      <td>80.0</td>\n",
              "      <td>10.0</td>\n",
              "      <td>34.0</td>\n",
              "      <td>2.0</td>\n",
              "      <td>3.0</td>\n",
              "    </tr>\n",
              "    <tr>\n",
              "      <th>2</th>\n",
              "      <td>EPRC_00032</td>\n",
              "      <td>NIH Toolbox Pattern Comparison Processing Spee...</td>\n",
              "      <td>34.0</td>\n",
              "      <td>NaN</td>\n",
              "      <td>NaN</td>\n",
              "      <td>37.0</td>\n",
              "      <td>39.00</td>\n",
              "      <td>80.0</td>\n",
              "      <td>86.0</td>\n",
              "      <td>18.0</td>\n",
              "      <td>39.0</td>\n",
              "      <td>2.0</td>\n",
              "      <td>3.0</td>\n",
              "    </tr>\n",
              "    <tr>\n",
              "      <th>3</th>\n",
              "      <td>EPRC_00032</td>\n",
              "      <td>NIH Toolbox Picture Sequence Memory Test Age 8...</td>\n",
              "      <td>19.0</td>\n",
              "      <td>0.238</td>\n",
              "      <td>0.310</td>\n",
              "      <td>6.0</td>\n",
              "      <td>585.56</td>\n",
              "      <td>115.0</td>\n",
              "      <td>121.0</td>\n",
              "      <td>92.0</td>\n",
              "      <td>62.0</td>\n",
              "      <td>2.0</td>\n",
              "      <td>3.0</td>\n",
              "    </tr>\n",
              "    <tr>\n",
              "      <th>4</th>\n",
              "      <td>EPRC_00032</td>\n",
              "      <td>NIH Toolbox Flanker Inhibitory Control and Att...</td>\n",
              "      <td>20.0</td>\n",
              "      <td>NaN</td>\n",
              "      <td>NaN</td>\n",
              "      <td>24.0</td>\n",
              "      <td>6.79</td>\n",
              "      <td>85.0</td>\n",
              "      <td>83.0</td>\n",
              "      <td>13.0</td>\n",
              "      <td>38.0</td>\n",
              "      <td>2.0</td>\n",
              "      <td>3.0</td>\n",
              "    </tr>\n",
              "  </tbody>\n",
              "</table>\n",
              "</div>"
            ],
            "text/plain": [
              "          PIN  ... InstrumentStatus2\n",
              "0  EPRC_00032  ...               3.0\n",
              "1  EPRC_00032  ...               3.0\n",
              "2  EPRC_00032  ...               3.0\n",
              "3  EPRC_00032  ...               3.0\n",
              "4  EPRC_00032  ...               3.0\n",
              "\n",
              "[5 rows x 13 columns]"
            ]
          },
          "metadata": {
            "tags": []
          },
          "execution_count": 318
        }
      ]
    },
    {
      "cell_type": "code",
      "metadata": {
        "colab": {
          "base_uri": "https://localhost:8080/",
          "height": 195
        },
        "id": "jcCNLKaLrnkb",
        "outputId": "b2f290c4-930a-44a2-a638-247b7cc27d3a"
      },
      "source": [
        "comp_r=comp_r.dropna(axis=1, how='all')\n",
        "comp_r.head()"
      ],
      "execution_count": 319,
      "outputs": [
        {
          "output_type": "execute_result",
          "data": {
            "text/html": [
              "<div>\n",
              "<style scoped>\n",
              "    .dataframe tbody tr th:only-of-type {\n",
              "        vertical-align: middle;\n",
              "    }\n",
              "\n",
              "    .dataframe tbody tr th {\n",
              "        vertical-align: top;\n",
              "    }\n",
              "\n",
              "    .dataframe thead th {\n",
              "        text-align: right;\n",
              "    }\n",
              "</style>\n",
              "<table border=\"1\" class=\"dataframe\">\n",
              "  <thead>\n",
              "    <tr style=\"text-align: right;\">\n",
              "      <th></th>\n",
              "      <th>PIN</th>\n",
              "      <th>Inst</th>\n",
              "      <th>Uncorrected Standard Score</th>\n",
              "      <th>Age-Corrected Standard Score</th>\n",
              "      <th>National Percentile (age adjusted)</th>\n",
              "      <th>Fully-Corrected T-score</th>\n",
              "    </tr>\n",
              "  </thead>\n",
              "  <tbody>\n",
              "    <tr>\n",
              "      <th>6</th>\n",
              "      <td>EPRC_00032</td>\n",
              "      <td>Cognition Crystallized Composite v1.1</td>\n",
              "      <td>74.0</td>\n",
              "      <td>85.0</td>\n",
              "      <td>16.0</td>\n",
              "      <td>38.0</td>\n",
              "    </tr>\n",
              "    <tr>\n",
              "      <th>7</th>\n",
              "      <td>EPRC_00032</td>\n",
              "      <td>Cognition Early Childhood Composite v1.1</td>\n",
              "      <td>85.0</td>\n",
              "      <td>98.0</td>\n",
              "      <td>44.0</td>\n",
              "      <td>43.0</td>\n",
              "    </tr>\n",
              "    <tr>\n",
              "      <th>6</th>\n",
              "      <td>EPRC_00160</td>\n",
              "      <td>Cognition Crystallized Composite v1.1</td>\n",
              "      <td>83.0</td>\n",
              "      <td>106.0</td>\n",
              "      <td>66.0</td>\n",
              "      <td>51.0</td>\n",
              "    </tr>\n",
              "    <tr>\n",
              "      <th>7</th>\n",
              "      <td>EPRC_00160</td>\n",
              "      <td>Cognition Early Childhood Composite v1.1</td>\n",
              "      <td>79.0</td>\n",
              "      <td>92.0</td>\n",
              "      <td>29.0</td>\n",
              "      <td>42.0</td>\n",
              "    </tr>\n",
              "    <tr>\n",
              "      <th>6</th>\n",
              "      <td>EPRC_00173</td>\n",
              "      <td>Cognition Crystallized Composite v1.1</td>\n",
              "      <td>63.0</td>\n",
              "      <td>72.0</td>\n",
              "      <td>3.0</td>\n",
              "      <td>39.0</td>\n",
              "    </tr>\n",
              "  </tbody>\n",
              "</table>\n",
              "</div>"
            ],
            "text/plain": [
              "          PIN  ... Fully-Corrected T-score\n",
              "6  EPRC_00032  ...                    38.0\n",
              "7  EPRC_00032  ...                    43.0\n",
              "6  EPRC_00160  ...                    51.0\n",
              "7  EPRC_00160  ...                    42.0\n",
              "6  EPRC_00173  ...                    39.0\n",
              "\n",
              "[5 rows x 6 columns]"
            ]
          },
          "metadata": {
            "tags": []
          },
          "execution_count": 319
        }
      ]
    },
    {
      "cell_type": "code",
      "metadata": {
        "id": "LcBmTt4fsJjP"
      },
      "source": [
        "comp_r.columns =['PIN', 'Inst', 'Uncorrected Standard Score_r',\n",
        "       'Age-Corrected Standard Score_r', 'National Percentile (age adjusted)_r',\n",
        "       'Fully-Corrected T-score_r']"
      ],
      "execution_count": 320,
      "outputs": []
    },
    {
      "cell_type": "code",
      "metadata": {
        "id": "KWVTLHvJ1_RR"
      },
      "source": [
        "dfr['Mode'] = 'Remote'"
      ],
      "execution_count": 321,
      "outputs": []
    },
    {
      "cell_type": "code",
      "metadata": {
        "id": "3X571ZspAkBI"
      },
      "source": [
        "scores = pd.merge(comp, comp_r, on=[\"PIN\",'Inst'])"
      ],
      "execution_count": 322,
      "outputs": []
    },
    {
      "cell_type": "code",
      "metadata": {
        "id": "FFoV_Dz_AsY7",
        "colab": {
          "base_uri": "https://localhost:8080/"
        },
        "outputId": "fcf6fc9b-0719-4732-cb4b-a9411b743a5a"
      },
      "source": [
        "scores.PIN.unique()"
      ],
      "execution_count": 323,
      "outputs": [
        {
          "output_type": "execute_result",
          "data": {
            "text/plain": [
              "array(['EPRC_00032', 'EPRC_00160', 'EPRC_00173', 'EPRC_00179',\n",
              "       'EPRC_00181'], dtype=object)"
            ]
          },
          "metadata": {
            "tags": []
          },
          "execution_count": 323
        }
      ]
    },
    {
      "cell_type": "code",
      "metadata": {
        "colab": {
          "base_uri": "https://localhost:8080/",
          "height": 733
        },
        "id": "EjWwK1cS_HY4",
        "outputId": "ce0beb9d-70a6-43f2-a9a5-84bc406bb8e7"
      },
      "source": [
        "import matplotlib.pyplot as plt\n",
        "\n",
        "# Box plot of ACS In person vs. Remote\n",
        "plt.figure(figsize=(8, 6))\n",
        "scores.boxplot(column=['Age-Corrected Standard Score', 'Age-Corrected Standard Score_r'])\n",
        "\n",
        "plt.figure(figsize=(8, 6))\n",
        "scores.boxplot(column=['Fully-Corrected T-score', 'Fully-Corrected T-score_r'])\n",
        "\n",
        "\n",
        "plt.show()"
      ],
      "execution_count": 324,
      "outputs": [
        {
          "output_type": "display_data",
          "data": {
            "image/png": "[encoded data removed]",
            "text/plain": [
              "<Figure size 576x432 with 1 Axes>"
            ]
          },
          "metadata": {
            "tags": [],
            "needs_background": "light"
          }
        },
        {
          "output_type": "display_data",
          "data": {
            "image/png": "[encoded data removed]",
            "text/plain": [
              "<Figure size 576x432 with 1 Axes>"
            ]
          },
          "metadata": {
            "tags": [],
            "needs_background": "light"
          }
        }
      ]
    },
    {
      "cell_type": "code",
      "metadata": {
        "colab": {
          "base_uri": "https://localhost:8080/"
        },
        "id": "-3bvmq0N9t5V",
        "outputId": "1e3aaa04-df4c-4344-8aa5-a1e2de3d5fc7"
      },
      "source": [
        "stats.ttest_ind(comp['Age-Corrected Standard Score'], comp_r['Age-Corrected Standard Score_r'], equal_var=False)"
      ],
      "execution_count": 325,
      "outputs": [
        {
          "output_type": "execute_result",
          "data": {
            "text/plain": [
              "Ttest_indResult(statistic=0.07344449546920352, pvalue=0.9423596013653743)"
            ]
          },
          "metadata": {
            "tags": []
          },
          "execution_count": 325
        }
      ]
    },
    {
      "cell_type": "code",
      "metadata": {
        "colab": {
          "base_uri": "https://localhost:8080/"
        },
        "id": "aEd86wk29ZXW",
        "outputId": "874f8601-6af7-40e4-8def-446bec86d593"
      },
      "source": [
        "stats.ttest_ind(comp['Fully-Corrected T-score'], comp_r['Fully-Corrected T-score_r'], equal_var=False)"
      ],
      "execution_count": 326,
      "outputs": [
        {
          "output_type": "execute_result",
          "data": {
            "text/plain": [
              "Ttest_indResult(statistic=-0.3791891948572099, pvalue=0.7088454421322545)"
            ]
          },
          "metadata": {
            "tags": []
          },
          "execution_count": 326
        }
      ]
    },
    {
      "cell_type": "code",
      "metadata": {
        "colab": {
          "base_uri": "https://localhost:8080/"
        },
        "id": "SdFNQORH7o3N",
        "outputId": "c0c5f87b-bc05-4b0e-9586-16afc31fbc7d"
      },
      "source": [
        "scores.columns"
      ],
      "execution_count": 333,
      "outputs": [
        {
          "output_type": "execute_result",
          "data": {
            "text/plain": [
              "Index(['PIN', 'Inst', 'RawScore', 'Theta', 'SE', 'ItmCnt', 'Computed Score',\n",
              "       'Uncorrected Standard Score', 'Age-Corrected Standard Score',\n",
              "       'National Percentile (age adjusted)', 'Fully-Corrected T-score',\n",
              "       'InstrumentBreakoff', 'InstrumentStatus2',\n",
              "       'Uncorrected Standard Score_r', 'Age-Corrected Standard Score_r',\n",
              "       'National Percentile (age adjusted)_r', 'Fully-Corrected T-score_r'],\n",
              "      dtype='object')"
            ]
          },
          "metadata": {
            "tags": []
          },
          "execution_count": 333
        }
      ]
    },
    {
      "cell_type": "code",
      "metadata": {
        "colab": {
          "base_uri": "https://localhost:8080/",
          "height": 388
        },
        "id": "ZVCMyfjG8FX8",
        "outputId": "2d97db5f-e950-4007-fc80-cbd3c1d6ba0f"
      },
      "source": [
        "sns.pairplot(\n",
        "    scores,\n",
        "    x_vars=['Age-Corrected Standard Score','Age-Corrected Standard Score_r'],\n",
        "    y_vars=['Age-Corrected Standard Score','Age-Corrected Standard Score_r'],\n",
        "        plot_kws=dict(marker=\"+\", linewidth=1),\n",
        "    diag_kws=dict(fill=False),\n",
        ")\n"
      ],
      "execution_count": 336,
      "outputs": [
        {
          "output_type": "execute_result",
          "data": {
            "text/plain": [
              "<seaborn.axisgrid.PairGrid at 0x7f348ceed910>"
            ]
          },
          "metadata": {
            "tags": []
          },
          "execution_count": 336
        },
        {
          "output_type": "display_data",
          "data": {
            "image/png": "[encoded data removed]",
            "text/plain": [
              "<Figure size 360x360 with 6 Axes>"
            ]
          },
          "metadata": {
            "tags": [],
            "needs_background": "light"
          }
        }
      ]
    },
    {
      "cell_type": "code",
      "metadata": {
        "colab": {
          "base_uri": "https://localhost:8080/",
          "height": 391
        },
        "id": "gyi-dkGYsrQC",
        "outputId": "ff2d5f12-2e04-438b-ebca-8564f29f88c9"
      },
      "source": [
        "import seaborn as sns\n",
        "sns.pairplot(\n",
        "    scores,\n",
        "    x_vars=['Fully-Corrected T-score',\"Fully-Corrected T-score_r\"],\n",
        "    y_vars=['Fully-Corrected T-score','Fully-Corrected T-score_r'],\n",
        "        plot_kws=dict(marker=\"+\", linewidth=1),\n",
        "    diag_kws=dict(fill=False),\n",
        ")\n"
      ],
      "execution_count": 334,
      "outputs": [
        {
          "output_type": "execute_result",
          "data": {
            "text/plain": [
              "<seaborn.axisgrid.PairGrid at 0x7f348cf4e750>"
            ]
          },
          "metadata": {
            "tags": []
          },
          "execution_count": 334
        },
        {
          "output_type": "display_data",
          "data": {
            "image/png": "[encoded data removed]",
            "text/plain": [
              "<Figure size 360x360 with 6 Axes>"
            ]
          },
          "metadata": {
            "tags": [],
            "needs_background": "light"
          }
        }
      ]
    },
    {
      "cell_type": "markdown",
      "metadata": {
        "id": "02ViorSi1vK7"
      },
      "source": [
        "# Wide to Long"
      ]
    },
    {
      "cell_type": "code",
      "metadata": {
        "id": "XoJbrwWn2oZb"
      },
      "source": [
        "all = pd.concat([df,dfr]) "
      ],
      "execution_count": 327,
      "outputs": []
    },
    {
      "cell_type": "code",
      "metadata": {
        "id": "aYRQ3GZx2r4x"
      },
      "source": [
        "rv =pd.merge(time_breakdown, all, how='outer',on=['PIN','Inst','Mode'])"
      ],
      "execution_count": 291,
      "outputs": []
    },
    {
      "cell_type": "code",
      "metadata": {
        "colab": {
          "base_uri": "https://localhost:8080/"
        },
        "id": "jKHrHKsI2-EG",
        "outputId": "8f7be937-438b-47b3-d027-2833212de4f1"
      },
      "source": [
        "rv.shape"
      ],
      "execution_count": 337,
      "outputs": [
        {
          "output_type": "execute_result",
          "data": {
            "text/plain": [
              "(177, 15)"
            ]
          },
          "metadata": {
            "tags": []
          },
          "execution_count": 337
        }
      ]
    },
    {
      "cell_type": "code",
      "metadata": {
        "id": "yx--Qwdr1JJz"
      },
      "source": [
        "rv = rv.melt(id_vars=['PIN','Inst','Mode','Time'], \n",
        "        var_name=\"Scores\", \n",
        "        value_name=\"Value\")"
      ],
      "execution_count": 338,
      "outputs": []
    },
    {
      "cell_type": "code",
      "metadata": {
        "id": "U7BnD7OT6RM-"
      },
      "source": [
        "rv['Site'] = 'Rapid City'"
      ],
      "execution_count": 339,
      "outputs": []
    },
    {
      "cell_type": "code",
      "metadata": {
        "colab": {
          "base_uri": "https://localhost:8080/",
          "height": 402
        },
        "id": "gGVRTRwn8oD6",
        "outputId": "584f5e8c-2916-45ea-c79a-49d5a173ca8f"
      },
      "source": [
        "rv[rv['Value'].notna()]"
      ],
      "execution_count": 346,
      "outputs": [
        {
          "output_type": "execute_result",
          "data": {
            "text/html": [
              "<div>\n",
              "<style scoped>\n",
              "    .dataframe tbody tr th:only-of-type {\n",
              "        vertical-align: middle;\n",
              "    }\n",
              "\n",
              "    .dataframe tbody tr th {\n",
              "        vertical-align: top;\n",
              "    }\n",
              "\n",
              "    .dataframe thead th {\n",
              "        text-align: right;\n",
              "    }\n",
              "</style>\n",
              "<table border=\"1\" class=\"dataframe\">\n",
              "  <thead>\n",
              "    <tr style=\"text-align: right;\">\n",
              "      <th></th>\n",
              "      <th>PIN</th>\n",
              "      <th>Inst</th>\n",
              "      <th>Mode</th>\n",
              "      <th>Time</th>\n",
              "      <th>Scores</th>\n",
              "      <th>Value</th>\n",
              "      <th>Site</th>\n",
              "    </tr>\n",
              "  </thead>\n",
              "  <tbody>\n",
              "    <tr>\n",
              "      <th>0</th>\n",
              "      <td>EPRC_00032</td>\n",
              "      <td>NIH Toolbox Dimensional Change Card Sort Test ...</td>\n",
              "      <td>In Person</td>\n",
              "      <td>5.30</td>\n",
              "      <td>RawScore</td>\n",
              "      <td>26.0</td>\n",
              "      <td>Rapid City</td>\n",
              "    </tr>\n",
              "    <tr>\n",
              "      <th>1</th>\n",
              "      <td>EPRC_00032</td>\n",
              "      <td>NIH Toolbox Flanker Inhibitory Control and Att...</td>\n",
              "      <td>In Person</td>\n",
              "      <td>3.97</td>\n",
              "      <td>RawScore</td>\n",
              "      <td>20.0</td>\n",
              "      <td>Rapid City</td>\n",
              "    </tr>\n",
              "    <tr>\n",
              "      <th>2</th>\n",
              "      <td>EPRC_00032</td>\n",
              "      <td>NIH Toolbox List Sorting Working Memory Test A...</td>\n",
              "      <td>In Person</td>\n",
              "      <td>10.60</td>\n",
              "      <td>RawScore</td>\n",
              "      <td>16.0</td>\n",
              "      <td>Rapid City</td>\n",
              "    </tr>\n",
              "    <tr>\n",
              "      <th>5</th>\n",
              "      <td>EPRC_00032</td>\n",
              "      <td>NIH Toolbox Pattern Comparison Processing Spee...</td>\n",
              "      <td>In Person</td>\n",
              "      <td>1.65</td>\n",
              "      <td>RawScore</td>\n",
              "      <td>34.0</td>\n",
              "      <td>Rapid City</td>\n",
              "    </tr>\n",
              "    <tr>\n",
              "      <th>6</th>\n",
              "      <td>EPRC_00032</td>\n",
              "      <td>NIH Toolbox Picture Sequence Memory Test Age 8...</td>\n",
              "      <td>In Person</td>\n",
              "      <td>8.92</td>\n",
              "      <td>RawScore</td>\n",
              "      <td>22.0</td>\n",
              "      <td>Rapid City</td>\n",
              "    </tr>\n",
              "    <tr>\n",
              "      <th>...</th>\n",
              "      <td>...</td>\n",
              "      <td>...</td>\n",
              "      <td>...</td>\n",
              "      <td>...</td>\n",
              "      <td>...</td>\n",
              "      <td>...</td>\n",
              "      <td>...</td>\n",
              "    </tr>\n",
              "    <tr>\n",
              "      <th>1934</th>\n",
              "      <td>EPRC_00173</td>\n",
              "      <td>NIH Toolbox Dimensional Change Card Sort Test ...</td>\n",
              "      <td>Remote</td>\n",
              "      <td>NaN</td>\n",
              "      <td>InstrumentStatus2</td>\n",
              "      <td>3.0</td>\n",
              "      <td>Rapid City</td>\n",
              "    </tr>\n",
              "    <tr>\n",
              "      <th>1935</th>\n",
              "      <td>EPRC_00173</td>\n",
              "      <td>NIH Toolbox Pattern Comparison Processing Spee...</td>\n",
              "      <td>Remote</td>\n",
              "      <td>NaN</td>\n",
              "      <td>InstrumentStatus2</td>\n",
              "      <td>3.0</td>\n",
              "      <td>Rapid City</td>\n",
              "    </tr>\n",
              "    <tr>\n",
              "      <th>1936</th>\n",
              "      <td>EPRC_00173</td>\n",
              "      <td>NIH Toolbox Picture Sequence Memory Test Age 8...</td>\n",
              "      <td>Remote</td>\n",
              "      <td>NaN</td>\n",
              "      <td>InstrumentStatus2</td>\n",
              "      <td>4.0</td>\n",
              "      <td>Rapid City</td>\n",
              "    </tr>\n",
              "    <tr>\n",
              "      <th>1937</th>\n",
              "      <td>EPRC_00173</td>\n",
              "      <td>NIH Toolbox Oral Reading Recognition Test Age ...</td>\n",
              "      <td>Remote</td>\n",
              "      <td>NaN</td>\n",
              "      <td>InstrumentStatus2</td>\n",
              "      <td>3.0</td>\n",
              "      <td>Rapid City</td>\n",
              "    </tr>\n",
              "    <tr>\n",
              "      <th>1942</th>\n",
              "      <td>EPRC_00183</td>\n",
              "      <td>NIH Toolbox Picture Sequence Memory Test Age 8...</td>\n",
              "      <td>Remote</td>\n",
              "      <td>NaN</td>\n",
              "      <td>InstrumentStatus2</td>\n",
              "      <td>4.0</td>\n",
              "      <td>Rapid City</td>\n",
              "    </tr>\n",
              "  </tbody>\n",
              "</table>\n",
              "<p>1056 rows × 7 columns</p>\n",
              "</div>"
            ],
            "text/plain": [
              "             PIN  ...        Site\n",
              "0     EPRC_00032  ...  Rapid City\n",
              "1     EPRC_00032  ...  Rapid City\n",
              "2     EPRC_00032  ...  Rapid City\n",
              "5     EPRC_00032  ...  Rapid City\n",
              "6     EPRC_00032  ...  Rapid City\n",
              "...          ...  ...         ...\n",
              "1934  EPRC_00173  ...  Rapid City\n",
              "1935  EPRC_00173  ...  Rapid City\n",
              "1936  EPRC_00173  ...  Rapid City\n",
              "1937  EPRC_00173  ...  Rapid City\n",
              "1942  EPRC_00183  ...  Rapid City\n",
              "\n",
              "[1056 rows x 7 columns]"
            ]
          },
          "metadata": {
            "tags": []
          },
          "execution_count": 346
        }
      ]
    },
    {
      "cell_type": "code",
      "metadata": {
        "id": "gceEOcxf5XmR"
      },
      "source": [
        "rv.to_csv('long_format_data.csv', index=False)"
      ],
      "execution_count": 340,
      "outputs": []
    }
  ]
}