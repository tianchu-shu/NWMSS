{
  "nbformat": 4,
  "nbformat_minor": 0,
  "metadata": {
    "kernelspec": {
      "display_name": "Python 3",
      "language": "python",
      "name": "python3"
    },
    "language_info": {
      "codemirror_mode": {
        "name": "ipython",
        "version": 3
      },
      "file_extension": ".py",
      "mimetype": "text/x-python",
      "name": "python",
      "nbconvert_exporter": "python",
      "pygments_lexer": "ipython3",
      "version": "3.6.5"
    },
    "colab": {
      "name": "In_person_vs_remote.ipynb",
      "provenance": [],
      "collapsed_sections": [],
      "include_colab_link": true
    }
  },
  "cells": [
    {
      "cell_type": "markdown",
      "metadata": {
        "id": "view-in-github",
        "colab_type": "text"
      },
      "source": [
        "<a href=\"https://colab.research.google.com/github/tianchu-shu/NWMSS/blob/main/In_person_vs_remote.ipynb\" target=\"_parent\"><img src=\"https://colab.research.google.com/assets/colab-badge.svg\" alt=\"Open In Colab\"/></a>"
      ]
    },
    {
      "cell_type": "code",
      "metadata": {
        "id": "B5hl3HN8RfDn",
        "colab": {
          "base_uri": "https://localhost:8080/"
        },
        "outputId": "b0c6e20b-bd28-4024-aff9-7909a37f0d8a"
      },
      "source": [
        "from google.colab import drive\n",
        "drive.mount(\"/content/gdrive\", force_remount=True)"
      ],
      "execution_count": 1,
      "outputs": [
        {
          "output_type": "stream",
          "text": [
            "Mounted at /content/gdrive\n"
          ],
          "name": "stdout"
        }
      ]
    },
    {
      "cell_type": "code",
      "metadata": {
        "id": "SPKdLsF0Rg36"
      },
      "source": [
        "#Data saved in csv/excel\n",
        "import glob, os\n",
        "import pandas as pd\n",
        "\n",
        "data_dir= '/content/gdrive/My Drive/Avera/'\n",
        "os.chdir(data_dir)"
      ],
      "execution_count": 5,
      "outputs": []
    },
    {
      "cell_type": "code",
      "metadata": {
        "colab": {
          "base_uri": "https://localhost:8080/"
        },
        "id": "LnlbQxV5WIMo",
        "outputId": "e07ed800-be63-428c-a31a-7a9ca4b2d36b"
      },
      "source": [
        "!ls"
      ],
      "execution_count": 12,
      "outputs": [
        {
          "output_type": "stream",
          "text": [
            "'Rapid City'\n"
          ],
          "name": "stdout"
        }
      ]
    },
    {
      "cell_type": "code",
      "metadata": {
        "colab": {
          "base_uri": "https://localhost:8080/"
        },
        "id": "Bh_gobgwYajQ",
        "outputId": "f6667a0d-f82f-4598-d444-3cb212f46209"
      },
      "source": [
        "!ls 'Rapid City'"
      ],
      "execution_count": 20,
      "outputs": [
        {
          "output_type": "stream",
          "text": [
            "EPRC_00032  EPRC_00162\tEPRC_00179  EPRC_00183\tEPRC_00380\n",
            "EPRC_00160  EPRC_00173\tEPRC_00181  EPRC_00191\tEPRC_00550\n"
          ],
          "name": "stdout"
        }
      ]
    },
    {
      "cell_type": "markdown",
      "metadata": {
        "id": "Ryp-FuHZLWyT"
      },
      "source": [
        "#Compute the Total response time in minutes"
      ]
    },
    {
      "cell_type": "code",
      "metadata": {
        "id": "i5SFWprZWYEB"
      },
      "source": [
        "# get all y.txt files from all subdirectories\n",
        "\n",
        "all_files = glob.glob('/content/gdrive/My Drive/Avera/Rapid City/*/In Person/*CB_Data.csv')\n",
        "all_files = glob.glob('/content/gdrive/My Drive/Avera/Rapid City/*/Remote/*CB_Data_R.csv')\n",
        "\n",
        "doc =[]\n",
        "for file in all_files:\n",
        "  data = pd.read_csv(file)\n",
        "  doc.append(data)\n",
        "\n",
        "\n",
        "df = pd.concat(doc)"
      ],
      "execution_count": 166,
      "outputs": []
    },
    {
      "cell_type": "code",
      "metadata": {
        "id": "lgBBimQlZAHH"
      },
      "source": [
        "df['PIN'] = df['PIN'].str[7:17]"
      ],
      "execution_count": 167,
      "outputs": []
    },
    {
      "cell_type": "code",
      "metadata": {
        "id": "RB-LQSemb5w5"
      },
      "source": [
        "df['InstStarted']= pd.to_datetime(df['InstStarted'])"
      ],
      "execution_count": 192,
      "outputs": []
    },
    {
      "cell_type": "code",
      "metadata": {
        "id": "AZTDjIpfdCkc"
      },
      "source": [
        "df['InstEnded']= pd.to_datetime(df['InstEnded'])"
      ],
      "execution_count": 193,
      "outputs": []
    },
    {
      "cell_type": "code",
      "metadata": {
        "colab": {
          "base_uri": "https://localhost:8080/",
          "height": 84
        },
        "id": "JKhEGAo73xPr",
        "outputId": "0f6e540c-164b-444c-a3b9-c6106c4b9247"
      },
      "source": [
        "df[df['PIN']=='EPRC_00162']"
      ],
      "execution_count": 198,
      "outputs": [
        {
          "output_type": "execute_result",
          "data": {
            "text/html": [
              "<div>\n",
              "<style scoped>\n",
              "    .dataframe tbody tr th:only-of-type {\n",
              "        vertical-align: middle;\n",
              "    }\n",
              "\n",
              "    .dataframe tbody tr th {\n",
              "        vertical-align: top;\n",
              "    }\n",
              "\n",
              "    .dataframe thead th {\n",
              "        text-align: right;\n",
              "    }\n",
              "</style>\n",
              "<table border=\"1\" class=\"dataframe\">\n",
              "  <thead>\n",
              "    <tr style=\"text-align: right;\">\n",
              "      <th></th>\n",
              "      <th>PIN</th>\n",
              "      <th>DeviceID</th>\n",
              "      <th>Assessment Name</th>\n",
              "      <th>InstOrdr</th>\n",
              "      <th>InstSctn</th>\n",
              "      <th>ItmOrdr</th>\n",
              "      <th>Inst</th>\n",
              "      <th>Locale</th>\n",
              "      <th>ItemID</th>\n",
              "      <th>Response</th>\n",
              "      <th>Score</th>\n",
              "      <th>Theta</th>\n",
              "      <th>TScore</th>\n",
              "      <th>SE</th>\n",
              "      <th>DataType</th>\n",
              "      <th>Position</th>\n",
              "      <th>ResponseTime</th>\n",
              "      <th>DateCreated</th>\n",
              "      <th>InstStarted</th>\n",
              "      <th>InstEnded</th>\n",
              "      <th>App Version</th>\n",
              "      <th>iPad Version</th>\n",
              "      <th>Firmware Version</th>\n",
              "      <th>Name</th>\n",
              "      <th>Age</th>\n",
              "      <th>Education</th>\n",
              "      <th>MothersEducation</th>\n",
              "      <th>FathersEducation</th>\n",
              "      <th>GuardiansEducation</th>\n",
              "      <th>StartingLevelOverride</th>\n",
              "      <th>Gender</th>\n",
              "      <th>Handedness</th>\n",
              "      <th>Race</th>\n",
              "      <th>Ethnicity</th>\n",
              "    </tr>\n",
              "  </thead>\n",
              "  <tbody>\n",
              "  </tbody>\n",
              "</table>\n",
              "</div>"
            ],
            "text/plain": [
              "Empty DataFrame\n",
              "Columns: [PIN, DeviceID, Assessment Name, InstOrdr, InstSctn, ItmOrdr, Inst, Locale, ItemID, Response, Score, Theta, TScore, SE, DataType, Position, ResponseTime, DateCreated, InstStarted, InstEnded, App Version, iPad Version, Firmware Version, Name, Age, Education, MothersEducation, FathersEducation, GuardiansEducation, StartingLevelOverride, Gender, Handedness, Race, Ethnicity]\n",
              "Index: []"
            ]
          },
          "metadata": {
            "tags": []
          },
          "execution_count": 198
        }
      ]
    },
    {
      "cell_type": "code",
      "metadata": {
        "colab": {
          "base_uri": "https://localhost:8080/"
        },
        "id": "8luUtuGYaN0D",
        "outputId": "c8d7fe6b-d2f3-4a07-8b6e-d7b075f60a8a"
      },
      "source": [
        "mni =df.groupby(['PIN','Inst'])['InstStarted','InstEnded'].first().reset_index()"
      ],
      "execution_count": 195,
      "outputs": [
        {
          "output_type": "stream",
          "text": [
            "/usr/local/lib/python3.7/dist-packages/ipykernel_launcher.py:1: FutureWarning: Indexing with multiple keys (implicitly converted to a tuple of keys) will be deprecated, use a list instead.\n",
            "  \"\"\"Entry point for launching an IPython kernel.\n"
          ],
          "name": "stderr"
        }
      ]
    },
    {
      "cell_type": "code",
      "metadata": {
        "id": "tL6eR_iddCH_"
      },
      "source": [
        "mni['Time']=mni['InstEnded']-mni['InstStarted']"
      ],
      "execution_count": 171,
      "outputs": []
    },
    {
      "cell_type": "code",
      "metadata": {
        "id": "-ssc72Z0tLxH"
      },
      "source": [
        "rv =mni.groupby(['PIN'])['Time'].sum().reset_index()"
      ],
      "execution_count": 187,
      "outputs": []
    },
    {
      "cell_type": "code",
      "metadata": {
        "id": "6IllucJ_u_7r"
      },
      "source": [
        "rv['Time']=round(rv['Time'].dt.total_seconds()/60,2)"
      ],
      "execution_count": 188,
      "outputs": []
    },
    {
      "cell_type": "code",
      "metadata": {
        "colab": {
          "base_uri": "https://localhost:8080/",
          "height": 252
        },
        "id": "wSy1XFMz3Jod",
        "outputId": "af1a16db-0bf5-49a4-c812-c04545e57256"
      },
      "source": [
        "rv"
      ],
      "execution_count": 189,
      "outputs": [
        {
          "output_type": "execute_result",
          "data": {
            "text/html": [
              "<div>\n",
              "<style scoped>\n",
              "    .dataframe tbody tr th:only-of-type {\n",
              "        vertical-align: middle;\n",
              "    }\n",
              "\n",
              "    .dataframe tbody tr th {\n",
              "        vertical-align: top;\n",
              "    }\n",
              "\n",
              "    .dataframe thead th {\n",
              "        text-align: right;\n",
              "    }\n",
              "</style>\n",
              "<table border=\"1\" class=\"dataframe\">\n",
              "  <thead>\n",
              "    <tr style=\"text-align: right;\">\n",
              "      <th></th>\n",
              "      <th>PIN</th>\n",
              "      <th>Time</th>\n",
              "    </tr>\n",
              "  </thead>\n",
              "  <tbody>\n",
              "    <tr>\n",
              "      <th>0</th>\n",
              "      <td>EPRC_00032</td>\n",
              "      <td>27.20</td>\n",
              "    </tr>\n",
              "    <tr>\n",
              "      <th>1</th>\n",
              "      <td>EPRC_00160</td>\n",
              "      <td>31.40</td>\n",
              "    </tr>\n",
              "    <tr>\n",
              "      <th>2</th>\n",
              "      <td>EPRC_00179</td>\n",
              "      <td>27.92</td>\n",
              "    </tr>\n",
              "    <tr>\n",
              "      <th>3</th>\n",
              "      <td>EPRC_00181</td>\n",
              "      <td>27.35</td>\n",
              "    </tr>\n",
              "    <tr>\n",
              "      <th>4</th>\n",
              "      <td>EPRC_00183</td>\n",
              "      <td>23.12</td>\n",
              "    </tr>\n",
              "    <tr>\n",
              "      <th>5</th>\n",
              "      <td>EPRC_00191</td>\n",
              "      <td>28.25</td>\n",
              "    </tr>\n",
              "    <tr>\n",
              "      <th>6</th>\n",
              "      <td>EPRC_00380</td>\n",
              "      <td>27.92</td>\n",
              "    </tr>\n",
              "  </tbody>\n",
              "</table>\n",
              "</div>"
            ],
            "text/plain": [
              "          PIN   Time\n",
              "0  EPRC_00032  27.20\n",
              "1  EPRC_00160  31.40\n",
              "2  EPRC_00179  27.92\n",
              "3  EPRC_00181  27.35\n",
              "4  EPRC_00183  23.12\n",
              "5  EPRC_00191  28.25\n",
              "6  EPRC_00380  27.92"
            ]
          },
          "metadata": {
            "tags": []
          },
          "execution_count": 189
        }
      ]
    },
    {
      "cell_type": "code",
      "metadata": {
        "colab": {
          "base_uri": "https://localhost:8080/"
        },
        "id": "01O2uGiWvuhe",
        "outputId": "0f9faec8-1f11-4c9c-8629-ad0f50160d99"
      },
      "source": [
        "rv['Time'].mean()"
      ],
      "execution_count": 174,
      "outputs": [
        {
          "output_type": "execute_result",
          "data": {
            "text/plain": [
              "27.594285714285718"
            ]
          },
          "metadata": {
            "tags": []
          },
          "execution_count": 174
        }
      ]
    },
    {
      "cell_type": "code",
      "metadata": {
        "colab": {
          "base_uri": "https://localhost:8080/"
        },
        "id": "5Hpfi92NvkPu",
        "outputId": "37c7df45-9c66-438a-a0c5-7c8a4aa3db59"
      },
      "source": [
        "IP = rv\n",
        "IP['Time'].mean()"
      ],
      "execution_count": 165,
      "outputs": [
        {
          "output_type": "execute_result",
          "data": {
            "text/plain": [
              "35.497499999999995"
            ]
          },
          "metadata": {
            "tags": []
          },
          "execution_count": 165
        }
      ]
    },
    {
      "cell_type": "code",
      "metadata": {
        "colab": {
          "base_uri": "https://localhost:8080/"
        },
        "id": "tqddYd4k3FQN",
        "outputId": "0e1fafd3-fc00-48f0-9f6e-f87b6d2b9f95"
      },
      "source": [
        "IP.Time"
      ],
      "execution_count": 273,
      "outputs": [
        {
          "output_type": "execute_result",
          "data": {
            "text/plain": [
              "0    36.33\n",
              "1    35.68\n",
              "2    33.65\n",
              "3    42.67\n",
              "4    30.22\n",
              "5    31.72\n",
              "6    33.48\n",
              "7    40.23\n",
              "Name: Time, dtype: float64"
            ]
          },
          "metadata": {
            "tags": []
          },
          "execution_count": 273
        }
      ]
    },
    {
      "cell_type": "code",
      "metadata": {
        "id": "IzhIkmXLLPYo"
      },
      "source": [
        "times= pd.merge(IP, rv, on=[\"PIN\"])"
      ],
      "execution_count": 274,
      "outputs": []
    },
    {
      "cell_type": "code",
      "metadata": {
        "colab": {
          "base_uri": "https://localhost:8080/",
          "height": 377
        },
        "id": "GIiwJXfuLY0w",
        "outputId": "276380a0-b772-4ea2-8d49-7e8d95d4f53e"
      },
      "source": [
        "import matplotlib.pyplot as plt\n",
        "\n",
        "# Box plot of ACS In person vs. Remote\n",
        "plt.figure(figsize=(8, 6))\n",
        "times.boxplot(column=['Time_x', 'Time_y'])\n",
        "\n",
        "plt.show()"
      ],
      "execution_count": 276,
      "outputs": [
        {
          "output_type": "display_data",
          "data": {
            "image/png": "[encoded data removed]",
            "text/plain": [
              "<Figure size 576x432 with 1 Axes>"
            ]
          },
          "metadata": {
            "tags": []
          }
        }
      ]
    },
    {
      "cell_type": "markdown",
      "metadata": {
        "id": "zXCPbUgXw4At"
      },
      "source": [
        "#A matched t-test for those who have both in-person and remote - Total Time"
      ]
    },
    {
      "cell_type": "code",
      "metadata": {
        "colab": {
          "base_uri": "https://localhost:8080/"
        },
        "id": "g-icSu9MvtY5",
        "outputId": "df9cb9a9-3c8a-4c41-ee9c-74d46567264e"
      },
      "source": [
        "from scipy import stats\n",
        "stats.ttest_ind(IP.Time, rv.Time, equal_var=False)"
      ],
      "execution_count": 199,
      "outputs": [
        {
          "output_type": "execute_result",
          "data": {
            "text/plain": [
              "Ttest_indResult(statistic=4.518502487970915, pvalue=0.0007983802904864124)"
            ]
          },
          "metadata": {
            "tags": []
          },
          "execution_count": 199
        }
      ]
    },
    {
      "cell_type": "code",
      "metadata": {
        "id": "ICyDfZvk2K7z"
      },
      "source": [
        "stats.wilcoxon(IP.Time, rv.Time, alternative='greater')"
      ],
      "execution_count": null,
      "outputs": []
    },
    {
      "cell_type": "markdown",
      "metadata": {
        "id": "zKBH_U9Yd919"
      },
      "source": [
        "#Composites (age-corrected and fully-corrected scores)Scores"
      ]
    },
    {
      "cell_type": "code",
      "metadata": {
        "id": "3ayipuJLxYuG"
      },
      "source": [
        "# get all y.txt files from all subdirectories\n",
        "\n",
        "#all_files = glob.glob('/content/gdrive/My Drive/Avera/Rapid City/*/In Person/*CB_Scores.csv')\n",
        "all_files = glob.glob('/content/gdrive/My Drive/Avera/Rapid City/*/Remote/*CB_Scores_R.csv')\n",
        "\n",
        "doc =[]\n",
        "for file in all_files:\n",
        "  data = pd.read_csv(file)\n",
        "  doc.append(data)\n",
        "\n",
        "\n",
        "df = pd.concat(doc)"
      ],
      "execution_count": 227,
      "outputs": []
    },
    {
      "cell_type": "code",
      "metadata": {
        "colab": {
          "base_uri": "https://localhost:8080/"
        },
        "id": "WOvk0V52xqfj",
        "outputId": "ed7f6b25-0b7d-42d1-dc42-d25427f761b1"
      },
      "source": [
        "df.shape"
      ],
      "execution_count": 228,
      "outputs": [
        {
          "output_type": "execute_result",
          "data": {
            "text/plain": [
              "(54, 28)"
            ]
          },
          "metadata": {
            "tags": []
          },
          "execution_count": 228
        }
      ]
    },
    {
      "cell_type": "code",
      "metadata": {
        "id": "U_t0U6Q5x0Zl"
      },
      "source": [
        "df['PIN'] = df['PIN'].str[7:17]"
      ],
      "execution_count": 229,
      "outputs": []
    },
    {
      "cell_type": "code",
      "metadata": {
        "id": "1EZcVh-T7uVv"
      },
      "source": [
        "df=df.dropna(axis=1, how='all')"
      ],
      "execution_count": 230,
      "outputs": []
    },
    {
      "cell_type": "code",
      "metadata": {
        "colab": {
          "base_uri": "https://localhost:8080/",
          "height": 704
        },
        "id": "aqD_Hpt945b_",
        "outputId": "9286b4ba-3b98-4a09-cb7d-85920da9a280"
      },
      "source": [
        "df.head(5)"
      ],
      "execution_count": 231,
      "outputs": [
        {
          "output_type": "execute_result",
          "data": {
            "text/html": [
              "<div>\n",
              "<style scoped>\n",
              "    .dataframe tbody tr th:only-of-type {\n",
              "        vertical-align: middle;\n",
              "    }\n",
              "\n",
              "    .dataframe tbody tr th {\n",
              "        vertical-align: top;\n",
              "    }\n",
              "\n",
              "    .dataframe thead th {\n",
              "        text-align: right;\n",
              "    }\n",
              "</style>\n",
              "<table border=\"1\" class=\"dataframe\">\n",
              "  <thead>\n",
              "    <tr style=\"text-align: right;\">\n",
              "      <th></th>\n",
              "      <th>PIN</th>\n",
              "      <th>DeviceID</th>\n",
              "      <th>Assessment Name</th>\n",
              "      <th>Inst</th>\n",
              "      <th>RawScore</th>\n",
              "      <th>Theta</th>\n",
              "      <th>SE</th>\n",
              "      <th>ItmCnt</th>\n",
              "      <th>DateFinished</th>\n",
              "      <th>Language</th>\n",
              "      <th>Computed Score</th>\n",
              "      <th>Uncorrected Standard Score</th>\n",
              "      <th>Age-Corrected Standard Score</th>\n",
              "      <th>National Percentile (age adjusted)</th>\n",
              "      <th>Fully-Corrected T-score</th>\n",
              "      <th>InstrumentBreakoff</th>\n",
              "      <th>InstrumentStatus2</th>\n",
              "      <th>InstrumentRCReason</th>\n",
              "      <th>InstrumentRCReasonOther</th>\n",
              "      <th>App Version</th>\n",
              "      <th>iPad Version</th>\n",
              "      <th>Firmware Version</th>\n",
              "    </tr>\n",
              "  </thead>\n",
              "  <tbody>\n",
              "    <tr>\n",
              "      <th>0</th>\n",
              "      <td>EPRC_00032</td>\n",
              "      <td>4C0D4D8F-B79D-47C3-AF1A-4D100D11BF28</td>\n",
              "      <td>Assessment 1</td>\n",
              "      <td>NIH Toolbox Picture Vocabulary Test Age 3+ v2.1</td>\n",
              "      <td>NaN</td>\n",
              "      <td>-1.730</td>\n",
              "      <td>0.482</td>\n",
              "      <td>24.0</td>\n",
              "      <td>2021-04-06 16:00:45</td>\n",
              "      <td>en-US</td>\n",
              "      <td>NaN</td>\n",
              "      <td>74.0</td>\n",
              "      <td>95.0</td>\n",
              "      <td>36.0</td>\n",
              "      <td>44.0</td>\n",
              "      <td>2.0</td>\n",
              "      <td>3.0</td>\n",
              "      <td>NaN</td>\n",
              "      <td>NaN</td>\n",
              "      <td>1.23.4532 (Participant)</td>\n",
              "      <td>iPad Pro 1st Gen (10.5-inch) / iPad7,3</td>\n",
              "      <td>14.4.1</td>\n",
              "    </tr>\n",
              "    <tr>\n",
              "      <th>1</th>\n",
              "      <td>EPRC_00032</td>\n",
              "      <td>4C0D4D8F-B79D-47C3-AF1A-4D100D11BF28</td>\n",
              "      <td>Assessment 1</td>\n",
              "      <td>NIH Toolbox Oral Reading Recognition Test Age ...</td>\n",
              "      <td>NaN</td>\n",
              "      <td>-4.995</td>\n",
              "      <td>0.500</td>\n",
              "      <td>22.0</td>\n",
              "      <td>2021-04-06 16:03:04</td>\n",
              "      <td>en-US</td>\n",
              "      <td>NaN</td>\n",
              "      <td>78.0</td>\n",
              "      <td>80.0</td>\n",
              "      <td>10.0</td>\n",
              "      <td>34.0</td>\n",
              "      <td>2.0</td>\n",
              "      <td>3.0</td>\n",
              "      <td>NaN</td>\n",
              "      <td>NaN</td>\n",
              "      <td>1.23.4532 (Participant)</td>\n",
              "      <td>iPad Pro 1st Gen (10.5-inch) / iPad7,3</td>\n",
              "      <td>14.4.1</td>\n",
              "    </tr>\n",
              "    <tr>\n",
              "      <th>2</th>\n",
              "      <td>EPRC_00032</td>\n",
              "      <td>4C0D4D8F-B79D-47C3-AF1A-4D100D11BF28</td>\n",
              "      <td>Assessment 1</td>\n",
              "      <td>NIH Toolbox Pattern Comparison Processing Spee...</td>\n",
              "      <td>34.0</td>\n",
              "      <td>NaN</td>\n",
              "      <td>NaN</td>\n",
              "      <td>37.0</td>\n",
              "      <td>2021-04-06 16:06:44</td>\n",
              "      <td>en-US</td>\n",
              "      <td>39.00</td>\n",
              "      <td>80.0</td>\n",
              "      <td>86.0</td>\n",
              "      <td>18.0</td>\n",
              "      <td>39.0</td>\n",
              "      <td>2.0</td>\n",
              "      <td>3.0</td>\n",
              "      <td>NaN</td>\n",
              "      <td>NaN</td>\n",
              "      <td>1.23.4532 (Participant)</td>\n",
              "      <td>iPad Pro 1st Gen (10.5-inch) / iPad7,3</td>\n",
              "      <td>14.4.1</td>\n",
              "    </tr>\n",
              "    <tr>\n",
              "      <th>3</th>\n",
              "      <td>EPRC_00032</td>\n",
              "      <td>4C0D4D8F-B79D-47C3-AF1A-4D100D11BF28</td>\n",
              "      <td>Assessment 1</td>\n",
              "      <td>NIH Toolbox Picture Sequence Memory Test Age 8...</td>\n",
              "      <td>19.0</td>\n",
              "      <td>0.238</td>\n",
              "      <td>0.310</td>\n",
              "      <td>6.0</td>\n",
              "      <td>2021-04-06 16:14:56</td>\n",
              "      <td>en-US</td>\n",
              "      <td>585.56</td>\n",
              "      <td>115.0</td>\n",
              "      <td>121.0</td>\n",
              "      <td>92.0</td>\n",
              "      <td>62.0</td>\n",
              "      <td>2.0</td>\n",
              "      <td>3.0</td>\n",
              "      <td>NaN</td>\n",
              "      <td>NaN</td>\n",
              "      <td>1.23.4532 (Participant)</td>\n",
              "      <td>iPad Pro 1st Gen (10.5-inch) / iPad7,3</td>\n",
              "      <td>14.4.1</td>\n",
              "    </tr>\n",
              "    <tr>\n",
              "      <th>4</th>\n",
              "      <td>EPRC_00032</td>\n",
              "      <td>4C0D4D8F-B79D-47C3-AF1A-4D100D11BF28</td>\n",
              "      <td>Assessment 1</td>\n",
              "      <td>NIH Toolbox Flanker Inhibitory Control and Att...</td>\n",
              "      <td>20.0</td>\n",
              "      <td>NaN</td>\n",
              "      <td>NaN</td>\n",
              "      <td>24.0</td>\n",
              "      <td>2021-04-06 16:18:57</td>\n",
              "      <td>en-US</td>\n",
              "      <td>6.79</td>\n",
              "      <td>85.0</td>\n",
              "      <td>83.0</td>\n",
              "      <td>13.0</td>\n",
              "      <td>38.0</td>\n",
              "      <td>2.0</td>\n",
              "      <td>3.0</td>\n",
              "      <td>NaN</td>\n",
              "      <td>NaN</td>\n",
              "      <td>1.23.4532 (Participant)</td>\n",
              "      <td>iPad Pro 1st Gen (10.5-inch) / iPad7,3</td>\n",
              "      <td>14.4.1</td>\n",
              "    </tr>\n",
              "  </tbody>\n",
              "</table>\n",
              "</div>"
            ],
            "text/plain": [
              "          PIN  ... Firmware Version\n",
              "0  EPRC_00032  ...           14.4.1\n",
              "1  EPRC_00032  ...           14.4.1\n",
              "2  EPRC_00032  ...           14.4.1\n",
              "3  EPRC_00032  ...           14.4.1\n",
              "4  EPRC_00032  ...           14.4.1\n",
              "\n",
              "[5 rows x 22 columns]"
            ]
          },
          "metadata": {
            "tags": []
          },
          "execution_count": 231
        }
      ]
    },
    {
      "cell_type": "code",
      "metadata": {
        "id": "ei6DQb7S4vya"
      },
      "source": [
        "keep =['PIN', 'Inst', 'RawScore', 'Theta', 'SE',\n",
        "       'ItmCnt', 'Computed Score',\n",
        "       'Uncorrected Standard Score', 'Age-Corrected Standard Score',\n",
        "       'National Percentile (age adjusted)', 'Fully-Corrected T-score',\n",
        "       'InstrumentBreakoff', 'InstrumentStatus2']"
      ],
      "execution_count": 232,
      "outputs": []
    },
    {
      "cell_type": "code",
      "metadata": {
        "id": "3Om5N5Ma56yQ"
      },
      "source": [
        "df=df[keep]"
      ],
      "execution_count": 233,
      "outputs": []
    },
    {
      "cell_type": "code",
      "metadata": {
        "colab": {
          "base_uri": "https://localhost:8080/"
        },
        "id": "z672qYls6j4h",
        "outputId": "bbedaa16-3e4a-4c2e-9f94-7450baf68b60"
      },
      "source": [
        "df.Inst.unique()"
      ],
      "execution_count": 234,
      "outputs": [
        {
          "output_type": "execute_result",
          "data": {
            "text/plain": [
              "array(['NIH Toolbox Picture Vocabulary Test Age 3+ v2.1',\n",
              "       'NIH Toolbox Oral Reading Recognition Test Age 3+ v2.1',\n",
              "       'NIH Toolbox Pattern Comparison Processing Speed Test Age 7+ v2.1',\n",
              "       'NIH Toolbox Picture Sequence Memory Test Age 8+ Form A v2.1',\n",
              "       'NIH Toolbox Flanker Inhibitory Control and Attention Test Ages 8-11 v2.1',\n",
              "       'NIH Toolbox Dimensional Change Card Sort Test Ages 8-11 v2.1',\n",
              "       'Cognition Crystallized Composite v1.1',\n",
              "       'Cognition Early Childhood Composite v1.1',\n",
              "       'NIH Toolbox Picture Sequence Memory Test Age 8+ Form B v2.1'],\n",
              "      dtype=object)"
            ]
          },
          "metadata": {
            "tags": []
          },
          "execution_count": 234
        }
      ]
    },
    {
      "cell_type": "code",
      "metadata": {
        "id": "mfuZ4XcBDiTG"
      },
      "source": [
        "#Differentiate the rows contain Composites\n",
        "comp =df[df['Inst'].str.contains(\"Composite\")]\n",
        "raw =df[~df['Inst'].str.contains(\"Composite\")]"
      ],
      "execution_count": 235,
      "outputs": []
    },
    {
      "cell_type": "code",
      "metadata": {
        "colab": {
          "base_uri": "https://localhost:8080/",
          "height": 329
        },
        "id": "a2U6puaP8P6R",
        "outputId": "828cb6f4-70c9-475b-b7b8-3b357346189b"
      },
      "source": [
        "raw=raw.dropna(axis=1, how='all')\n",
        "raw.head()"
      ],
      "execution_count": 236,
      "outputs": [
        {
          "output_type": "execute_result",
          "data": {
            "text/html": [
              "<div>\n",
              "<style scoped>\n",
              "    .dataframe tbody tr th:only-of-type {\n",
              "        vertical-align: middle;\n",
              "    }\n",
              "\n",
              "    .dataframe tbody tr th {\n",
              "        vertical-align: top;\n",
              "    }\n",
              "\n",
              "    .dataframe thead th {\n",
              "        text-align: right;\n",
              "    }\n",
              "</style>\n",
              "<table border=\"1\" class=\"dataframe\">\n",
              "  <thead>\n",
              "    <tr style=\"text-align: right;\">\n",
              "      <th></th>\n",
              "      <th>PIN</th>\n",
              "      <th>Inst</th>\n",
              "      <th>RawScore</th>\n",
              "      <th>Theta</th>\n",
              "      <th>SE</th>\n",
              "      <th>ItmCnt</th>\n",
              "      <th>Language</th>\n",
              "      <th>Computed Score</th>\n",
              "      <th>Uncorrected Standard Score</th>\n",
              "      <th>Age-Corrected Standard Score</th>\n",
              "      <th>National Percentile (age adjusted)</th>\n",
              "      <th>Fully-Corrected T-score</th>\n",
              "      <th>InstrumentBreakoff</th>\n",
              "      <th>InstrumentStatus2</th>\n",
              "    </tr>\n",
              "  </thead>\n",
              "  <tbody>\n",
              "    <tr>\n",
              "      <th>0</th>\n",
              "      <td>EPRC_00032</td>\n",
              "      <td>NIH Toolbox Picture Vocabulary Test Age 3+ v2.1</td>\n",
              "      <td>NaN</td>\n",
              "      <td>-1.730</td>\n",
              "      <td>0.482</td>\n",
              "      <td>24.0</td>\n",
              "      <td>en-US</td>\n",
              "      <td>NaN</td>\n",
              "      <td>74.0</td>\n",
              "      <td>95.0</td>\n",
              "      <td>36.0</td>\n",
              "      <td>44.0</td>\n",
              "      <td>2.0</td>\n",
              "      <td>3.0</td>\n",
              "    </tr>\n",
              "    <tr>\n",
              "      <th>1</th>\n",
              "      <td>EPRC_00032</td>\n",
              "      <td>NIH Toolbox Oral Reading Recognition Test Age ...</td>\n",
              "      <td>NaN</td>\n",
              "      <td>-4.995</td>\n",
              "      <td>0.500</td>\n",
              "      <td>22.0</td>\n",
              "      <td>en-US</td>\n",
              "      <td>NaN</td>\n",
              "      <td>78.0</td>\n",
              "      <td>80.0</td>\n",
              "      <td>10.0</td>\n",
              "      <td>34.0</td>\n",
              "      <td>2.0</td>\n",
              "      <td>3.0</td>\n",
              "    </tr>\n",
              "    <tr>\n",
              "      <th>2</th>\n",
              "      <td>EPRC_00032</td>\n",
              "      <td>NIH Toolbox Pattern Comparison Processing Spee...</td>\n",
              "      <td>34.0</td>\n",
              "      <td>NaN</td>\n",
              "      <td>NaN</td>\n",
              "      <td>37.0</td>\n",
              "      <td>en-US</td>\n",
              "      <td>39.00</td>\n",
              "      <td>80.0</td>\n",
              "      <td>86.0</td>\n",
              "      <td>18.0</td>\n",
              "      <td>39.0</td>\n",
              "      <td>2.0</td>\n",
              "      <td>3.0</td>\n",
              "    </tr>\n",
              "    <tr>\n",
              "      <th>3</th>\n",
              "      <td>EPRC_00032</td>\n",
              "      <td>NIH Toolbox Picture Sequence Memory Test Age 8...</td>\n",
              "      <td>19.0</td>\n",
              "      <td>0.238</td>\n",
              "      <td>0.310</td>\n",
              "      <td>6.0</td>\n",
              "      <td>en-US</td>\n",
              "      <td>585.56</td>\n",
              "      <td>115.0</td>\n",
              "      <td>121.0</td>\n",
              "      <td>92.0</td>\n",
              "      <td>62.0</td>\n",
              "      <td>2.0</td>\n",
              "      <td>3.0</td>\n",
              "    </tr>\n",
              "    <tr>\n",
              "      <th>4</th>\n",
              "      <td>EPRC_00032</td>\n",
              "      <td>NIH Toolbox Flanker Inhibitory Control and Att...</td>\n",
              "      <td>20.0</td>\n",
              "      <td>NaN</td>\n",
              "      <td>NaN</td>\n",
              "      <td>24.0</td>\n",
              "      <td>en-US</td>\n",
              "      <td>6.79</td>\n",
              "      <td>85.0</td>\n",
              "      <td>83.0</td>\n",
              "      <td>13.0</td>\n",
              "      <td>38.0</td>\n",
              "      <td>2.0</td>\n",
              "      <td>3.0</td>\n",
              "    </tr>\n",
              "  </tbody>\n",
              "</table>\n",
              "</div>"
            ],
            "text/plain": [
              "          PIN  ... InstrumentStatus2\n",
              "0  EPRC_00032  ...               3.0\n",
              "1  EPRC_00032  ...               3.0\n",
              "2  EPRC_00032  ...               3.0\n",
              "3  EPRC_00032  ...               3.0\n",
              "4  EPRC_00032  ...               3.0\n",
              "\n",
              "[5 rows x 14 columns]"
            ]
          },
          "metadata": {
            "tags": []
          },
          "execution_count": 236
        }
      ]
    },
    {
      "cell_type": "code",
      "metadata": {
        "colab": {
          "base_uri": "https://localhost:8080/",
          "height": 194
        },
        "id": "8kCxcBxu_Q-G",
        "outputId": "d31e4d2f-bd65-4d09-a702-dfafaff64c0c"
      },
      "source": [
        "comp=comp.dropna(axis=1, how='all')\n",
        "comp.head()"
      ],
      "execution_count": 237,
      "outputs": [
        {
          "output_type": "execute_result",
          "data": {
            "text/html": [
              "<div>\n",
              "<style scoped>\n",
              "    .dataframe tbody tr th:only-of-type {\n",
              "        vertical-align: middle;\n",
              "    }\n",
              "\n",
              "    .dataframe tbody tr th {\n",
              "        vertical-align: top;\n",
              "    }\n",
              "\n",
              "    .dataframe thead th {\n",
              "        text-align: right;\n",
              "    }\n",
              "</style>\n",
              "<table border=\"1\" class=\"dataframe\">\n",
              "  <thead>\n",
              "    <tr style=\"text-align: right;\">\n",
              "      <th></th>\n",
              "      <th>PIN</th>\n",
              "      <th>Inst</th>\n",
              "      <th>Language</th>\n",
              "      <th>Uncorrected Standard Score</th>\n",
              "      <th>Age-Corrected Standard Score</th>\n",
              "      <th>National Percentile (age adjusted)</th>\n",
              "      <th>Fully-Corrected T-score</th>\n",
              "    </tr>\n",
              "  </thead>\n",
              "  <tbody>\n",
              "    <tr>\n",
              "      <th>6</th>\n",
              "      <td>EPRC_00032</td>\n",
              "      <td>Cognition Crystallized Composite v1.1</td>\n",
              "      <td>en-US</td>\n",
              "      <td>74.0</td>\n",
              "      <td>85.0</td>\n",
              "      <td>16.0</td>\n",
              "      <td>38.0</td>\n",
              "    </tr>\n",
              "    <tr>\n",
              "      <th>7</th>\n",
              "      <td>EPRC_00032</td>\n",
              "      <td>Cognition Early Childhood Composite v1.1</td>\n",
              "      <td>en-US</td>\n",
              "      <td>85.0</td>\n",
              "      <td>98.0</td>\n",
              "      <td>44.0</td>\n",
              "      <td>43.0</td>\n",
              "    </tr>\n",
              "    <tr>\n",
              "      <th>6</th>\n",
              "      <td>EPRC_00160</td>\n",
              "      <td>Cognition Crystallized Composite v1.1</td>\n",
              "      <td>en-US</td>\n",
              "      <td>83.0</td>\n",
              "      <td>106.0</td>\n",
              "      <td>66.0</td>\n",
              "      <td>51.0</td>\n",
              "    </tr>\n",
              "    <tr>\n",
              "      <th>7</th>\n",
              "      <td>EPRC_00160</td>\n",
              "      <td>Cognition Early Childhood Composite v1.1</td>\n",
              "      <td>en-US</td>\n",
              "      <td>79.0</td>\n",
              "      <td>92.0</td>\n",
              "      <td>29.0</td>\n",
              "      <td>42.0</td>\n",
              "    </tr>\n",
              "    <tr>\n",
              "      <th>6</th>\n",
              "      <td>EPRC_00173</td>\n",
              "      <td>Cognition Crystallized Composite v1.1</td>\n",
              "      <td>en-US</td>\n",
              "      <td>63.0</td>\n",
              "      <td>72.0</td>\n",
              "      <td>3.0</td>\n",
              "      <td>39.0</td>\n",
              "    </tr>\n",
              "  </tbody>\n",
              "</table>\n",
              "</div>"
            ],
            "text/plain": [
              "          PIN  ... Fully-Corrected T-score\n",
              "6  EPRC_00032  ...                    38.0\n",
              "7  EPRC_00032  ...                    43.0\n",
              "6  EPRC_00160  ...                    51.0\n",
              "7  EPRC_00160  ...                    42.0\n",
              "6  EPRC_00173  ...                    39.0\n",
              "\n",
              "[5 rows x 7 columns]"
            ]
          },
          "metadata": {
            "tags": []
          },
          "execution_count": 237
        }
      ]
    },
    {
      "cell_type": "code",
      "metadata": {
        "id": "S8Zx8UGl87yb"
      },
      "source": [
        ""
      ],
      "execution_count": null,
      "outputs": []
    },
    {
      "cell_type": "code",
      "metadata": {
        "id": "FMZDZuvx8-_m"
      },
      "source": [
        "comp_ip = comp\n",
        "raw_ip =raw"
      ],
      "execution_count": 226,
      "outputs": []
    },
    {
      "cell_type": "code",
      "metadata": {
        "id": "3X571ZspAkBI"
      },
      "source": [
        "scores = pd.merge(comp_ip, comp, on=[\"PIN\",'Inst'])"
      ],
      "execution_count": 254,
      "outputs": []
    },
    {
      "cell_type": "code",
      "metadata": {
        "id": "FFoV_Dz_AsY7"
      },
      "source": [
        "scores"
      ],
      "execution_count": null,
      "outputs": []
    },
    {
      "cell_type": "code",
      "metadata": {
        "colab": {
          "base_uri": "https://localhost:8080/",
          "height": 737
        },
        "id": "EjWwK1cS_HY4",
        "outputId": "8b6aed2a-524e-4891-dd8a-891f895f35df"
      },
      "source": [
        "import matplotlib.pyplot as plt\n",
        "\n",
        "# Box plot of ACS In person vs. Remote\n",
        "plt.figure(figsize=(8, 6))\n",
        "scores.boxplot(column=['Age-Corrected Standard Score_x', 'Age-Corrected Standard Score_y'])\n",
        "\n",
        "plt.figure(figsize=(8, 6))\n",
        "scores.boxplot(column=['Fully-Corrected T-score_x', 'Fully-Corrected T-score_y'])\n",
        "\n",
        "\n",
        "\n",
        "plt.show()"
      ],
      "execution_count": 272,
      "outputs": [
        {
          "output_type": "display_data",
          "data": {
            "image/png": "[encoded data removed]",
            "text/plain": [
              "<Figure size 576x432 with 1 Axes>"
            ]
          },
          "metadata": {
            "tags": []
          }
        },
        {
          "output_type": "display_data",
          "data": {
            "image/png": "[encoded data removed]",
            "text/plain": [
              "<Figure size 576x432 with 1 Axes>"
            ]
          },
          "metadata": {
            "tags": []
          }
        }
      ]
    },
    {
      "cell_type": "code",
      "metadata": {
        "colab": {
          "base_uri": "https://localhost:8080/"
        },
        "id": "-3bvmq0N9t5V",
        "outputId": "5134cf85-82a3-4fdd-eae2-d976f2304830"
      },
      "source": [
        "stats.ttest_ind(comp_ip['Age-Corrected Standard Score'], comp['Age-Corrected Standard Score'], equal_var=False)"
      ],
      "execution_count": 246,
      "outputs": [
        {
          "output_type": "execute_result",
          "data": {
            "text/plain": [
              "Ttest_indResult(statistic=0.07344449546920352, pvalue=0.9423596013653743)"
            ]
          },
          "metadata": {
            "tags": []
          },
          "execution_count": 246
        }
      ]
    },
    {
      "cell_type": "code",
      "metadata": {
        "colab": {
          "base_uri": "https://localhost:8080/"
        },
        "id": "aEd86wk29ZXW",
        "outputId": "f6a57024-9e2e-4e63-a899-093b99360146"
      },
      "source": [
        "stats.ttest_ind(comp_ip['Fully-Corrected T-score'], comp['Fully-Corrected T-score'], equal_var=False)"
      ],
      "execution_count": 239,
      "outputs": [
        {
          "output_type": "execute_result",
          "data": {
            "text/plain": [
              "Ttest_indResult(statistic=-0.3791891948572099, pvalue=0.7088454421322545)"
            ]
          },
          "metadata": {
            "tags": []
          },
          "execution_count": 239
        }
      ]
    }
  ]
}