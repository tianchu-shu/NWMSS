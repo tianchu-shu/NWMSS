{
 "cells": [
  {
   "cell_type": "code",
   "execution_count": 135,
   "metadata": {
    "id": "SPKdLsF0Rg36"
   },
   "outputs": [],
   "source": [
    "#Data saved in csv/excel\n",
    "import glob, os\n",
    "import pandas as pd\n",
    "\n",
    "data_dir=\"C:/Users/TEMP/Box/Avera NIHTB Data\"\n",
    "os.chdir(data_dir)"
   ]
  },
  {
   "cell_type": "markdown",
   "metadata": {
    "id": "Ryp-FuHZLWyT"
   },
   "source": [
    "#Compute the Total response time in minutes"
   ]
  },
  {
   "cell_type": "code",
   "execution_count": 136,
   "metadata": {
    "colab": {
     "base_uri": "https://localhost:8080/"
    },
    "id": "yonYmaEjXXnY",
    "outputId": "56b987c9-fff8-44b1-cb71-e06c5e7135c9"
   },
   "outputs": [
    {
     "name": "stdout",
     "output_type": "stream",
     "text": [
      "(25, 23)\n",
      "(26, 23)\n",
      "(29, 23)\n",
      "(403, 11)\n",
      "alls\\210409_EPSF_00943_A_9.5Y\\In Person\\210409_EPSF_00943_A_9.5Y_M_NT_NS_PVT_Data.csv\n",
      "(25, 23)\n",
      "(403, 11)\n",
      "alls\\210409_EPSF_00944_A_8Y\\In Person\\210409_EPSF_00944_A_M_NT_NS_PVT_Data.csv\n",
      "(25, 23)\n",
      "(403, 11)\n",
      "alls\\210409_EPSF_00944_B_8Y\\In Person\\210409_EPSF_00944_B_8Y_M_NT_NS_PVT_Data.csv\n",
      "(25, 23)\n",
      "(25, 23)\n",
      "(25, 23)\n"
     ]
    }
   ],
   "source": [
    "# get all files from all RC In-person subdirectories\n",
    "\n",
    "all_files = glob.glob('C:/Users/TEMP/Box/Avera NIHTB Data/Rapid City/*/In Person/*CB_Data.csv')\n",
    "\n",
    "doc =[]\n",
    "for file in all_files:\n",
    "  data = pd.read_csv(file)\n",
    "  doc.append(data)\n",
    "\n",
    "# get all files from all SF\n",
    "all_files = glob.glob('C:/Users/TEMP/Box/Avera NIHTB Data/Sioux Falls/*/In Person/*CB_Data.csv')\n",
    "for file in all_files:\n",
    "  data = pd.read_csv(file)\n",
    "  doc.append(data)\n",
    "\n",
    "all_files = glob.glob('C:/Users/TEMP/Box/Avera NIHTB Data/Sioux Falls/*/In Person/*PVT_Data.csv')\n",
    "sep= []\n",
    "for file in all_files:\n",
    "  data = pd.read_csv(file)\n",
    "  if data.shape[1]!= 11:\n",
    "    print(data.shape)\n",
    "    doc.append(data)\n",
    "\n",
    "  else:\n",
    "    sep.append(data)\n",
    "    print(data.shape)\n",
    "    print(file[42:])\n",
    "df = pd.concat(doc)"
   ]
  },
  {
   "cell_type": "code",
   "execution_count": 137,
   "metadata": {
    "id": "hv9LEGi0fkbN"
   },
   "outputs": [],
   "source": [
    "sdf = pd.concat(sep)"
   ]
  },
  {
   "cell_type": "code",
   "execution_count": 138,
   "metadata": {
    "colab": {
     "base_uri": "https://localhost:8080/"
    },
    "id": "PgrHHaJtgcyq",
    "outputId": "5cc3260d-003f-43c4-d83c-3493c4da7914"
   },
   "outputs": [
    {
     "data": {
      "text/plain": [
       "(1209, 11)"
      ]
     },
     "execution_count": 138,
     "metadata": {},
     "output_type": "execute_result"
    }
   ],
   "source": [
    "sdf.shape"
   ]
  },
  {
   "cell_type": "code",
   "execution_count": 139,
   "metadata": {
    "colab": {
     "base_uri": "https://localhost:8080/",
     "height": 666
    },
    "id": "pMEIOTwTin-_",
    "outputId": "3773d420-bccb-45ff-b95a-36dbde272331"
   },
   "outputs": [
    {
     "data": {
      "text/html": [
       "<div>\n",
       "<style scoped>\n",
       "    .dataframe tbody tr th:only-of-type {\n",
       "        vertical-align: middle;\n",
       "    }\n",
       "\n",
       "    .dataframe tbody tr th {\n",
       "        vertical-align: top;\n",
       "    }\n",
       "\n",
       "    .dataframe thead th {\n",
       "        text-align: right;\n",
       "    }\n",
       "</style>\n",
       "<table border=\"1\" class=\"dataframe\">\n",
       "  <thead>\n",
       "    <tr style=\"text-align: right;\">\n",
       "      <th></th>\n",
       "      <th>PIN</th>\n",
       "      <th>DeviceID</th>\n",
       "      <th>Assessment Name</th>\n",
       "      <th>InstOrdr</th>\n",
       "      <th>InstSctn</th>\n",
       "      <th>ItmOrdr</th>\n",
       "      <th>Inst</th>\n",
       "      <th>Locale</th>\n",
       "      <th>ItemID</th>\n",
       "      <th>Response</th>\n",
       "      <th>...</th>\n",
       "      <th>SE</th>\n",
       "      <th>DataType</th>\n",
       "      <th>Position</th>\n",
       "      <th>ResponseTime</th>\n",
       "      <th>DateCreated</th>\n",
       "      <th>InstStarted</th>\n",
       "      <th>InstEnded</th>\n",
       "      <th>App Version</th>\n",
       "      <th>iPad Version</th>\n",
       "      <th>Firmware Version</th>\n",
       "    </tr>\n",
       "  </thead>\n",
       "  <tbody>\n",
       "    <tr>\n",
       "      <th>0</th>\n",
       "      <td>210330_EPRC_00032_A_8Y</td>\n",
       "      <td>DB9A19BF-F81C-4244-9C7F-D0BB4A39D394</td>\n",
       "      <td>Assessment 1</td>\n",
       "      <td>1</td>\n",
       "      <td>1</td>\n",
       "      <td>1</td>\n",
       "      <td>NIH Toolbox Picture Vocabulary Test Age 3+ Pra...</td>\n",
       "      <td>en-US</td>\n",
       "      <td>VOCAB_INTRO</td>\n",
       "      <td>NaN</td>\n",
       "      <td>...</td>\n",
       "      <td>NaN</td>\n",
       "      <td>informational</td>\n",
       "      <td>NaN</td>\n",
       "      <td>NaN</td>\n",
       "      <td>2021-03-30 09:43:19</td>\n",
       "      <td>2021-03-30 09:43:16</td>\n",
       "      <td>2021-03-30 09:44:46</td>\n",
       "      <td>1.23.4300</td>\n",
       "      <td>iPad Pro 1st Gen (10.5-inch) / iPad7,3</td>\n",
       "      <td>14.4.1</td>\n",
       "    </tr>\n",
       "    <tr>\n",
       "      <th>1</th>\n",
       "      <td>210330_EPRC_00032_A_8Y</td>\n",
       "      <td>DB9A19BF-F81C-4244-9C7F-D0BB4A39D394</td>\n",
       "      <td>Assessment 1</td>\n",
       "      <td>1</td>\n",
       "      <td>1</td>\n",
       "      <td>2</td>\n",
       "      <td>NIH Toolbox Picture Vocabulary Test Age 3+ Pra...</td>\n",
       "      <td>en-US</td>\n",
       "      <td>VOCAB_INSTR1</td>\n",
       "      <td>NaN</td>\n",
       "      <td>...</td>\n",
       "      <td>NaN</td>\n",
       "      <td>informational</td>\n",
       "      <td>NaN</td>\n",
       "      <td>NaN</td>\n",
       "      <td>2021-03-30 09:44:10</td>\n",
       "      <td>2021-03-30 09:43:16</td>\n",
       "      <td>2021-03-30 09:44:46</td>\n",
       "      <td>1.23.4300</td>\n",
       "      <td>iPad Pro 1st Gen (10.5-inch) / iPad7,3</td>\n",
       "      <td>14.4.1</td>\n",
       "    </tr>\n",
       "    <tr>\n",
       "      <th>2</th>\n",
       "      <td>210330_EPRC_00032_A_8Y</td>\n",
       "      <td>DB9A19BF-F81C-4244-9C7F-D0BB4A39D394</td>\n",
       "      <td>Assessment 1</td>\n",
       "      <td>1</td>\n",
       "      <td>1</td>\n",
       "      <td>3</td>\n",
       "      <td>NIH Toolbox Picture Vocabulary Test Age 3+ Pra...</td>\n",
       "      <td>en-US</td>\n",
       "      <td>VOCAB_PRACT1</td>\n",
       "      <td>4</td>\n",
       "      <td>...</td>\n",
       "      <td>NaN</td>\n",
       "      <td>integer</td>\n",
       "      <td>1.0</td>\n",
       "      <td>6.432752</td>\n",
       "      <td>2021-03-30 09:44:17</td>\n",
       "      <td>2021-03-30 09:43:16</td>\n",
       "      <td>2021-03-30 09:44:46</td>\n",
       "      <td>1.23.4300</td>\n",
       "      <td>iPad Pro 1st Gen (10.5-inch) / iPad7,3</td>\n",
       "      <td>14.4.1</td>\n",
       "    </tr>\n",
       "    <tr>\n",
       "      <th>3</th>\n",
       "      <td>210330_EPRC_00032_A_8Y</td>\n",
       "      <td>DB9A19BF-F81C-4244-9C7F-D0BB4A39D394</td>\n",
       "      <td>Assessment 1</td>\n",
       "      <td>1</td>\n",
       "      <td>1</td>\n",
       "      <td>4</td>\n",
       "      <td>NIH Toolbox Picture Vocabulary Test Age 3+ Pra...</td>\n",
       "      <td>en-US</td>\n",
       "      <td>VOCAB_PRACT2</td>\n",
       "      <td>3</td>\n",
       "      <td>...</td>\n",
       "      <td>NaN</td>\n",
       "      <td>integer</td>\n",
       "      <td>2.0</td>\n",
       "      <td>6.050304</td>\n",
       "      <td>2021-03-30 09:44:24</td>\n",
       "      <td>2021-03-30 09:43:16</td>\n",
       "      <td>2021-03-30 09:44:46</td>\n",
       "      <td>1.23.4300</td>\n",
       "      <td>iPad Pro 1st Gen (10.5-inch) / iPad7,3</td>\n",
       "      <td>14.4.1</td>\n",
       "    </tr>\n",
       "    <tr>\n",
       "      <th>4</th>\n",
       "      <td>210330_EPRC_00032_A_8Y</td>\n",
       "      <td>DB9A19BF-F81C-4244-9C7F-D0BB4A39D394</td>\n",
       "      <td>Assessment 1</td>\n",
       "      <td>1</td>\n",
       "      <td>1</td>\n",
       "      <td>5</td>\n",
       "      <td>NIH Toolbox Picture Vocabulary Test Age 3+ Pra...</td>\n",
       "      <td>en-US</td>\n",
       "      <td>VOCAB_INSTR2</td>\n",
       "      <td>NaN</td>\n",
       "      <td>...</td>\n",
       "      <td>NaN</td>\n",
       "      <td>informational</td>\n",
       "      <td>NaN</td>\n",
       "      <td>NaN</td>\n",
       "      <td>2021-03-30 09:44:46</td>\n",
       "      <td>2021-03-30 09:43:16</td>\n",
       "      <td>2021-03-30 09:44:46</td>\n",
       "      <td>1.23.4300</td>\n",
       "      <td>iPad Pro 1st Gen (10.5-inch) / iPad7,3</td>\n",
       "      <td>14.4.1</td>\n",
       "    </tr>\n",
       "  </tbody>\n",
       "</table>\n",
       "<p>5 rows × 23 columns</p>\n",
       "</div>"
      ],
      "text/plain": [
       "                      PIN                              DeviceID  \\\n",
       "0  210330_EPRC_00032_A_8Y  DB9A19BF-F81C-4244-9C7F-D0BB4A39D394   \n",
       "1  210330_EPRC_00032_A_8Y  DB9A19BF-F81C-4244-9C7F-D0BB4A39D394   \n",
       "2  210330_EPRC_00032_A_8Y  DB9A19BF-F81C-4244-9C7F-D0BB4A39D394   \n",
       "3  210330_EPRC_00032_A_8Y  DB9A19BF-F81C-4244-9C7F-D0BB4A39D394   \n",
       "4  210330_EPRC_00032_A_8Y  DB9A19BF-F81C-4244-9C7F-D0BB4A39D394   \n",
       "\n",
       "  Assessment Name  InstOrdr  InstSctn  ItmOrdr  \\\n",
       "0    Assessment 1         1         1        1   \n",
       "1    Assessment 1         1         1        2   \n",
       "2    Assessment 1         1         1        3   \n",
       "3    Assessment 1         1         1        4   \n",
       "4    Assessment 1         1         1        5   \n",
       "\n",
       "                                                Inst Locale        ItemID  \\\n",
       "0  NIH Toolbox Picture Vocabulary Test Age 3+ Pra...  en-US   VOCAB_INTRO   \n",
       "1  NIH Toolbox Picture Vocabulary Test Age 3+ Pra...  en-US  VOCAB_INSTR1   \n",
       "2  NIH Toolbox Picture Vocabulary Test Age 3+ Pra...  en-US  VOCAB_PRACT1   \n",
       "3  NIH Toolbox Picture Vocabulary Test Age 3+ Pra...  en-US  VOCAB_PRACT2   \n",
       "4  NIH Toolbox Picture Vocabulary Test Age 3+ Pra...  en-US  VOCAB_INSTR2   \n",
       "\n",
       "  Response  ...  SE       DataType  Position  ResponseTime  \\\n",
       "0      NaN  ... NaN  informational       NaN           NaN   \n",
       "1      NaN  ... NaN  informational       NaN           NaN   \n",
       "2        4  ... NaN        integer       1.0      6.432752   \n",
       "3        3  ... NaN        integer       2.0      6.050304   \n",
       "4      NaN  ... NaN  informational       NaN           NaN   \n",
       "\n",
       "           DateCreated          InstStarted            InstEnded App Version  \\\n",
       "0  2021-03-30 09:43:19  2021-03-30 09:43:16  2021-03-30 09:44:46   1.23.4300   \n",
       "1  2021-03-30 09:44:10  2021-03-30 09:43:16  2021-03-30 09:44:46   1.23.4300   \n",
       "2  2021-03-30 09:44:17  2021-03-30 09:43:16  2021-03-30 09:44:46   1.23.4300   \n",
       "3  2021-03-30 09:44:24  2021-03-30 09:43:16  2021-03-30 09:44:46   1.23.4300   \n",
       "4  2021-03-30 09:44:46  2021-03-30 09:43:16  2021-03-30 09:44:46   1.23.4300   \n",
       "\n",
       "                             iPad Version Firmware Version  \n",
       "0  iPad Pro 1st Gen (10.5-inch) / iPad7,3           14.4.1  \n",
       "1  iPad Pro 1st Gen (10.5-inch) / iPad7,3           14.4.1  \n",
       "2  iPad Pro 1st Gen (10.5-inch) / iPad7,3           14.4.1  \n",
       "3  iPad Pro 1st Gen (10.5-inch) / iPad7,3           14.4.1  \n",
       "4  iPad Pro 1st Gen (10.5-inch) / iPad7,3           14.4.1  \n",
       "\n",
       "[5 rows x 23 columns]"
      ]
     },
     "execution_count": 139,
     "metadata": {},
     "output_type": "execute_result"
    }
   ],
   "source": [
    "df.head()"
   ]
  },
  {
   "cell_type": "code",
   "execution_count": 140,
   "metadata": {
    "colab": {
     "base_uri": "https://localhost:8080/"
    },
    "id": "tn5Zdkf1iMfw",
    "outputId": "5364985c-b5a9-4682-8c18-fd122d3800bc"
   },
   "outputs": [
    {
     "data": {
      "text/plain": [
       "Index(['PIN', 'DeviceID', 'Assessment Name', 'InstOrdr', 'InstSctn', 'ItmOrdr',\n",
       "       'Inst', 'Locale', 'ItemID', 'Response', 'Score', 'Theta', 'TScore',\n",
       "       'SE', 'DataType', 'Position', 'ResponseTime', 'DateCreated',\n",
       "       'InstStarted', 'InstEnded', 'App Version', 'iPad Version',\n",
       "       'Firmware Version'],\n",
       "      dtype='object')"
      ]
     },
     "execution_count": 140,
     "metadata": {},
     "output_type": "execute_result"
    }
   ],
   "source": [
    "df.columns"
   ]
  },
  {
   "cell_type": "code",
   "execution_count": 141,
   "metadata": {
    "id": "j7Uoq7LygW1V"
   },
   "outputs": [],
   "source": [
    "#Reshape the data for EPSF_00944 and EPSF_00943 from long to wide\n",
    "sdf=sdf.pivot_table(index=['PIN', 'DeviceID', 'AssessmentName', 'ResponseID', 'ItemID',\n",
    "       'InstrumentTitle', 'TestName', 'InstrumentID'], columns='Key', values='Value', aggfunc='first').reset_index()"
   ]
  },
  {
   "cell_type": "code",
   "execution_count": 142,
   "metadata": {
    "id": "nN2RXgoSqFn-"
   },
   "outputs": [],
   "source": [
    "sdf.columns=['PIN', 'DeviceID', 'Assessment Name', 'ResponseID', 'ItemID',\n",
    "       'Inst', 'TestName', 'InstrumentID', 'App Version', 'DataType',\n",
    "       'DateCreated', 'Firmware Version', 'InstEnded',\n",
    "      'InstOrdr', 'InstSctn', 'InstStarted',\n",
    "       'ItmOrdr', 'Locale', 'Position', 'Response', 'ResponseTime', 'SE',\n",
    "       'Score', 'Theta', 'iPad Version']"
   ]
  },
  {
   "cell_type": "code",
   "execution_count": 143,
   "metadata": {
    "id": "SRQvyDI1l3b1"
   },
   "outputs": [],
   "source": [
    "sdf =sdf.drop(columns=['ResponseID','TestName','InstrumentID'])"
   ]
  },
  {
   "cell_type": "code",
   "execution_count": 144,
   "metadata": {
    "id": "c5m78-52mONr"
   },
   "outputs": [],
   "source": [
    "sdf['Site'] = 'Sioux Falls'"
   ]
  },
  {
   "cell_type": "code",
   "execution_count": 145,
   "metadata": {
    "id": "H-UAtMUIkWAa"
   },
   "outputs": [],
   "source": [
    "df = df.append(sdf)"
   ]
  },
  {
   "cell_type": "code",
   "execution_count": 146,
   "metadata": {
    "colab": {
     "base_uri": "https://localhost:8080/"
    },
    "id": "T9XiKDi8lZ0z",
    "outputId": "056edaf8-28b7-408f-bb7a-a89e008df8d7"
   },
   "outputs": [
    {
     "data": {
      "text/plain": [
       "(2983, 24)"
      ]
     },
     "execution_count": 146,
     "metadata": {},
     "output_type": "execute_result"
    }
   ],
   "source": [
    "df.shape"
   ]
  },
  {
   "cell_type": "code",
   "execution_count": 147,
   "metadata": {
    "id": "vY67enVDXXne"
   },
   "outputs": [],
   "source": [
    "df['PIN'] = df['PIN'].str[7:17]"
   ]
  },
  {
   "cell_type": "code",
   "execution_count": 148,
   "metadata": {
    "id": "E5ZSa4DUXXne"
   },
   "outputs": [],
   "source": [
    "df['InstStarted']= pd.to_datetime(df['InstStarted'])"
   ]
  },
  {
   "cell_type": "code",
   "execution_count": 149,
   "metadata": {
    "id": "lumc7-HYXXnf"
   },
   "outputs": [],
   "source": [
    "df['InstEnded']= pd.to_datetime(df['InstEnded'])"
   ]
  },
  {
   "cell_type": "code",
   "execution_count": 150,
   "metadata": {
    "colab": {
     "base_uri": "https://localhost:8080/"
    },
    "id": "q09DIDy_XXng",
    "outputId": "bb2bc54c-9d51-4cfe-dac4-5642e4dda868"
   },
   "outputs": [
    {
     "name": "stderr",
     "output_type": "stream",
     "text": [
      "<ipython-input-150-d7dc69386f29>:1: FutureWarning: Indexing with multiple keys (implicitly converted to a tuple of keys) will be deprecated, use a list instead.\n",
      "  mni =df.groupby(['PIN','Inst'])['InstStarted','InstEnded'].first().reset_index()\n"
     ]
    }
   ],
   "source": [
    "mni =df.groupby(['PIN','Inst'])['InstStarted','InstEnded'].first().reset_index()"
   ]
  },
  {
   "cell_type": "code",
   "execution_count": 151,
   "metadata": {
    "id": "AKYCyKHhXXng"
   },
   "outputs": [],
   "source": [
    "mni['Time']=mni['InstEnded']-mni['InstStarted']"
   ]
  },
  {
   "cell_type": "code",
   "execution_count": 152,
   "metadata": {
    "id": "I3Fr7g-eYvSZ"
   },
   "outputs": [],
   "source": [
    "mni=mni.drop(columns=['InstStarted'])"
   ]
  },
  {
   "cell_type": "code",
   "execution_count": 153,
   "metadata": {
    "colab": {
     "base_uri": "https://localhost:8080/"
    },
    "id": "1i87rXZjZnan",
    "outputId": "c2cdcd22-a397-4e4c-bd4f-5c7bd4a4af4d"
   },
   "outputs": [
    {
     "data": {
      "text/plain": [
       "(114, 4)"
      ]
     },
     "execution_count": 153,
     "metadata": {},
     "output_type": "execute_result"
    }
   ],
   "source": [
    "mni.shape"
   ]
  },
  {
   "cell_type": "code",
   "execution_count": 154,
   "metadata": {
    "id": "gQy-BDNzDh4p"
   },
   "outputs": [],
   "source": [
    "#drop 'NIH Toolbox List Sorting Working Memory Test Age 7+ v2.1' to calculate the time\n",
    "mni=mni[mni['Inst']!='NIH Toolbox List Sorting Working Memory Test Age 7+ v2.1']"
   ]
  },
  {
   "cell_type": "code",
   "execution_count": 155,
   "metadata": {
    "colab": {
     "base_uri": "https://localhost:8080/"
    },
    "id": "nr74b12mZog4",
    "outputId": "912d5526-02dc-456f-8f0c-6446e5de95d3"
   },
   "outputs": [
    {
     "data": {
      "text/plain": [
       "(114, 4)"
      ]
     },
     "execution_count": 155,
     "metadata": {},
     "output_type": "execute_result"
    }
   ],
   "source": [
    "mni.shape"
   ]
  },
  {
   "cell_type": "code",
   "execution_count": 22,
   "metadata": {
    "id": "BUmKDYpTXXnh"
   },
   "outputs": [],
   "source": [
    "IP =mni.groupby(['PIN'])['Time'].sum().reset_index()"
   ]
  },
  {
   "cell_type": "code",
   "execution_count": 23,
   "metadata": {
    "id": "BmnWLgBYXXnh"
   },
   "outputs": [],
   "source": [
    "IP['Time']=round(IP['Time'].dt.total_seconds()/60,2)"
   ]
  },
  {
   "cell_type": "code",
   "execution_count": 24,
   "metadata": {
    "id": "TaVkbMoAjUaW"
   },
   "outputs": [],
   "source": [
    "mni['Time']=round(mni['Time'].dt.total_seconds()/60,2)"
   ]
  },
  {
   "cell_type": "code",
   "execution_count": 25,
   "metadata": {
    "id": "oDTt-ymSwHPZ"
   },
   "outputs": [],
   "source": [
    "mni['Mode'] = 'In Person'"
   ]
  },
  {
   "cell_type": "code",
   "execution_count": 26,
   "metadata": {
    "id": "bqxJPDOTT7ag"
   },
   "outputs": [],
   "source": [
    "mni.InstEnded= mni.InstEnded.map(lambda x: x.strftime('%Y-%m-%d'))"
   ]
  },
  {
   "cell_type": "code",
   "execution_count": 27,
   "metadata": {
    "id": "6zlMD1z0DOwT"
   },
   "outputs": [],
   "source": [
    "mni.rename(columns={'InstEnded':'Date'}, inplace=True)"
   ]
  },
  {
   "cell_type": "code",
   "execution_count": 28,
   "metadata": {
    "colab": {
     "base_uri": "https://localhost:8080/",
     "height": 419
    },
    "id": "80ycQdp3zH3k",
    "outputId": "216677bc-6bde-4ece-cfa5-4781de2dfe63"
   },
   "outputs": [
    {
     "data": {
      "text/html": [
       "<div>\n",
       "<style scoped>\n",
       "    .dataframe tbody tr th:only-of-type {\n",
       "        vertical-align: middle;\n",
       "    }\n",
       "\n",
       "    .dataframe tbody tr th {\n",
       "        vertical-align: top;\n",
       "    }\n",
       "\n",
       "    .dataframe thead th {\n",
       "        text-align: right;\n",
       "    }\n",
       "</style>\n",
       "<table border=\"1\" class=\"dataframe\">\n",
       "  <thead>\n",
       "    <tr style=\"text-align: right;\">\n",
       "      <th></th>\n",
       "      <th>PIN</th>\n",
       "      <th>Inst</th>\n",
       "      <th>Date</th>\n",
       "      <th>Time</th>\n",
       "      <th>Mode</th>\n",
       "    </tr>\n",
       "  </thead>\n",
       "  <tbody>\n",
       "    <tr>\n",
       "      <th>0</th>\n",
       "      <td>EPRC_00032</td>\n",
       "      <td>NIH Toolbox Dimensional Change Card Sort Test ...</td>\n",
       "      <td>2021-03-30</td>\n",
       "      <td>5.30</td>\n",
       "      <td>In Person</td>\n",
       "    </tr>\n",
       "    <tr>\n",
       "      <th>1</th>\n",
       "      <td>EPRC_00032</td>\n",
       "      <td>NIH Toolbox Flanker Inhibitory Control and Att...</td>\n",
       "      <td>2021-03-30</td>\n",
       "      <td>3.97</td>\n",
       "      <td>In Person</td>\n",
       "    </tr>\n",
       "    <tr>\n",
       "      <th>3</th>\n",
       "      <td>EPRC_00032</td>\n",
       "      <td>NIH Toolbox Oral Reading Recognition Test Age ...</td>\n",
       "      <td>2021-03-30</td>\n",
       "      <td>1.43</td>\n",
       "      <td>In Person</td>\n",
       "    </tr>\n",
       "    <tr>\n",
       "      <th>4</th>\n",
       "      <td>EPRC_00032</td>\n",
       "      <td>NIH Toolbox Pattern Comparison Processing Spee...</td>\n",
       "      <td>2021-03-30</td>\n",
       "      <td>1.57</td>\n",
       "      <td>In Person</td>\n",
       "    </tr>\n",
       "    <tr>\n",
       "      <th>5</th>\n",
       "      <td>EPRC_00032</td>\n",
       "      <td>NIH Toolbox Pattern Comparison Processing Spee...</td>\n",
       "      <td>2021-03-30</td>\n",
       "      <td>1.65</td>\n",
       "      <td>In Person</td>\n",
       "    </tr>\n",
       "    <tr>\n",
       "      <th>...</th>\n",
       "      <td>...</td>\n",
       "      <td>...</td>\n",
       "      <td>...</td>\n",
       "      <td>...</td>\n",
       "      <td>...</td>\n",
       "    </tr>\n",
       "    <tr>\n",
       "      <th>109</th>\n",
       "      <td>EPSF_01666</td>\n",
       "      <td>NIH Toolbox Pattern Comparison Processing Spee...</td>\n",
       "      <td>2021-04-12</td>\n",
       "      <td>1.82</td>\n",
       "      <td>In Person</td>\n",
       "    </tr>\n",
       "    <tr>\n",
       "      <th>110</th>\n",
       "      <td>EPSF_01666</td>\n",
       "      <td>NIH Toolbox Pattern Comparison Processing Spee...</td>\n",
       "      <td>2021-04-12</td>\n",
       "      <td>1.67</td>\n",
       "      <td>In Person</td>\n",
       "    </tr>\n",
       "    <tr>\n",
       "      <th>111</th>\n",
       "      <td>EPSF_01666</td>\n",
       "      <td>NIH Toolbox Picture Sequence Memory Test Age 8...</td>\n",
       "      <td>2021-04-12</td>\n",
       "      <td>6.47</td>\n",
       "      <td>In Person</td>\n",
       "    </tr>\n",
       "    <tr>\n",
       "      <th>112</th>\n",
       "      <td>EPSF_01666</td>\n",
       "      <td>NIH Toolbox Picture Vocabulary Test Age 3+ Pra...</td>\n",
       "      <td>2021-04-12</td>\n",
       "      <td>1.40</td>\n",
       "      <td>In Person</td>\n",
       "    </tr>\n",
       "    <tr>\n",
       "      <th>113</th>\n",
       "      <td>EPSF_01666</td>\n",
       "      <td>NIH Toolbox Picture Vocabulary Test Age 3+ v2.1</td>\n",
       "      <td>2021-04-12</td>\n",
       "      <td>3.67</td>\n",
       "      <td>In Person</td>\n",
       "    </tr>\n",
       "  </tbody>\n",
       "</table>\n",
       "<p>102 rows × 5 columns</p>\n",
       "</div>"
      ],
      "text/plain": [
       "            PIN                                               Inst  \\\n",
       "0    EPRC_00032  NIH Toolbox Dimensional Change Card Sort Test ...   \n",
       "1    EPRC_00032  NIH Toolbox Flanker Inhibitory Control and Att...   \n",
       "3    EPRC_00032  NIH Toolbox Oral Reading Recognition Test Age ...   \n",
       "4    EPRC_00032  NIH Toolbox Pattern Comparison Processing Spee...   \n",
       "5    EPRC_00032  NIH Toolbox Pattern Comparison Processing Spee...   \n",
       "..          ...                                                ...   \n",
       "109  EPSF_01666  NIH Toolbox Pattern Comparison Processing Spee...   \n",
       "110  EPSF_01666  NIH Toolbox Pattern Comparison Processing Spee...   \n",
       "111  EPSF_01666  NIH Toolbox Picture Sequence Memory Test Age 8...   \n",
       "112  EPSF_01666  NIH Toolbox Picture Vocabulary Test Age 3+ Pra...   \n",
       "113  EPSF_01666    NIH Toolbox Picture Vocabulary Test Age 3+ v2.1   \n",
       "\n",
       "           Date  Time       Mode  \n",
       "0    2021-03-30  5.30  In Person  \n",
       "1    2021-03-30  3.97  In Person  \n",
       "3    2021-03-30  1.43  In Person  \n",
       "4    2021-03-30  1.57  In Person  \n",
       "5    2021-03-30  1.65  In Person  \n",
       "..          ...   ...        ...  \n",
       "109  2021-04-12  1.82  In Person  \n",
       "110  2021-04-12  1.67  In Person  \n",
       "111  2021-04-12  6.47  In Person  \n",
       "112  2021-04-12  1.40  In Person  \n",
       "113  2021-04-12  3.67  In Person  \n",
       "\n",
       "[102 rows x 5 columns]"
      ]
     },
     "execution_count": 28,
     "metadata": {},
     "output_type": "execute_result"
    }
   ],
   "source": [
    "mni"
   ]
  },
  {
   "cell_type": "code",
   "execution_count": 156,
   "metadata": {
    "colab": {
     "base_uri": "https://localhost:8080/"
    },
    "id": "GrkuVakYXXni",
    "outputId": "83293dbb-9b2c-442d-a24e-627a0471a4aa"
   },
   "outputs": [
    {
     "data": {
      "text/plain": [
       "24.493846153846157"
      ]
     },
     "execution_count": 156,
     "metadata": {},
     "output_type": "execute_result"
    }
   ],
   "source": [
    "IP['Time'].mean()"
   ]
  },
  {
   "cell_type": "code",
   "execution_count": 157,
   "metadata": {
    "id": "i5SFWprZWYEB"
   },
   "outputs": [],
   "source": [
    "# get all files from all RC Remote subdirectories\n",
    "\n",
    "all_files = glob.glob('C:/Users/TEMP/Box/Avera NIHTB Data/Rapid City/*/Remote/*CB_Data_R.csv')\n",
    "\n",
    "\n",
    "doc =[]\n",
    "for file in all_files:\n",
    "  data = pd.read_csv(file)\n",
    "  doc.append(data)\n",
    "\n",
    "# get all files from all SF Remote subdirectories\n",
    "all_files = glob.glob('C:/Users/TEMP/Box/Avera NIHTB Data/Sioux Falls/*/Remote/*Data_R.csv')\n",
    "\n",
    "for file in all_files:\n",
    "  data = pd.read_csv(file)\n",
    "  doc.append(data)\n",
    "\n",
    "df = pd.concat(doc)"
   ]
  },
  {
   "cell_type": "code",
   "execution_count": 158,
   "metadata": {
    "colab": {
     "base_uri": "https://localhost:8080/",
     "height": 666
    },
    "id": "iHk1jo7075RY",
    "outputId": "5f331594-4f86-4e11-bd4d-dd088af91406"
   },
   "outputs": [
    {
     "data": {
      "text/html": [
       "<div>\n",
       "<style scoped>\n",
       "    .dataframe tbody tr th:only-of-type {\n",
       "        vertical-align: middle;\n",
       "    }\n",
       "\n",
       "    .dataframe tbody tr th {\n",
       "        vertical-align: top;\n",
       "    }\n",
       "\n",
       "    .dataframe thead th {\n",
       "        text-align: right;\n",
       "    }\n",
       "</style>\n",
       "<table border=\"1\" class=\"dataframe\">\n",
       "  <thead>\n",
       "    <tr style=\"text-align: right;\">\n",
       "      <th></th>\n",
       "      <th>PIN</th>\n",
       "      <th>DeviceID</th>\n",
       "      <th>Assessment Name</th>\n",
       "      <th>InstOrdr</th>\n",
       "      <th>InstSctn</th>\n",
       "      <th>ItmOrdr</th>\n",
       "      <th>Inst</th>\n",
       "      <th>Locale</th>\n",
       "      <th>ItemID</th>\n",
       "      <th>Response</th>\n",
       "      <th>...</th>\n",
       "      <th>Race</th>\n",
       "      <th>Ethnicity</th>\n",
       "      <th>RegistrationID</th>\n",
       "      <th>ResponseID</th>\n",
       "      <th>AssessmentName</th>\n",
       "      <th>InstrumentTitle</th>\n",
       "      <th>TestName</th>\n",
       "      <th>InstrumentID</th>\n",
       "      <th>Key</th>\n",
       "      <th>Value</th>\n",
       "    </tr>\n",
       "  </thead>\n",
       "  <tbody>\n",
       "    <tr>\n",
       "      <th>0</th>\n",
       "      <td>210406_EPRC_00032_A_8Y</td>\n",
       "      <td>4C0D4D8F-B79D-47C3-AF1A-4D100D11BF28</td>\n",
       "      <td>Assessment 1</td>\n",
       "      <td>1.0</td>\n",
       "      <td>1.0</td>\n",
       "      <td>1.0</td>\n",
       "      <td>NIH Toolbox Picture Vocabulary Test Age 3+ Pra...</td>\n",
       "      <td>en-US</td>\n",
       "      <td>VOCAB_INTRO</td>\n",
       "      <td>NaN</td>\n",
       "      <td>...</td>\n",
       "      <td>NaN</td>\n",
       "      <td>NaN</td>\n",
       "      <td>NaN</td>\n",
       "      <td>NaN</td>\n",
       "      <td>NaN</td>\n",
       "      <td>NaN</td>\n",
       "      <td>NaN</td>\n",
       "      <td>NaN</td>\n",
       "      <td>NaN</td>\n",
       "      <td>NaN</td>\n",
       "    </tr>\n",
       "    <tr>\n",
       "      <th>1</th>\n",
       "      <td>210406_EPRC_00032_A_8Y</td>\n",
       "      <td>4C0D4D8F-B79D-47C3-AF1A-4D100D11BF28</td>\n",
       "      <td>Assessment 1</td>\n",
       "      <td>1.0</td>\n",
       "      <td>1.0</td>\n",
       "      <td>2.0</td>\n",
       "      <td>NIH Toolbox Picture Vocabulary Test Age 3+ Pra...</td>\n",
       "      <td>en-US</td>\n",
       "      <td>VOCAB_INSTR1</td>\n",
       "      <td>NaN</td>\n",
       "      <td>...</td>\n",
       "      <td>NaN</td>\n",
       "      <td>NaN</td>\n",
       "      <td>NaN</td>\n",
       "      <td>NaN</td>\n",
       "      <td>NaN</td>\n",
       "      <td>NaN</td>\n",
       "      <td>NaN</td>\n",
       "      <td>NaN</td>\n",
       "      <td>NaN</td>\n",
       "      <td>NaN</td>\n",
       "    </tr>\n",
       "    <tr>\n",
       "      <th>2</th>\n",
       "      <td>210406_EPRC_00032_A_8Y</td>\n",
       "      <td>4C0D4D8F-B79D-47C3-AF1A-4D100D11BF28</td>\n",
       "      <td>Assessment 1</td>\n",
       "      <td>1.0</td>\n",
       "      <td>1.0</td>\n",
       "      <td>3.0</td>\n",
       "      <td>NIH Toolbox Picture Vocabulary Test Age 3+ Pra...</td>\n",
       "      <td>en-US</td>\n",
       "      <td>VOCAB_PRACT1</td>\n",
       "      <td>4</td>\n",
       "      <td>...</td>\n",
       "      <td>NaN</td>\n",
       "      <td>NaN</td>\n",
       "      <td>NaN</td>\n",
       "      <td>NaN</td>\n",
       "      <td>NaN</td>\n",
       "      <td>NaN</td>\n",
       "      <td>NaN</td>\n",
       "      <td>NaN</td>\n",
       "      <td>NaN</td>\n",
       "      <td>NaN</td>\n",
       "    </tr>\n",
       "    <tr>\n",
       "      <th>3</th>\n",
       "      <td>210406_EPRC_00032_A_8Y</td>\n",
       "      <td>4C0D4D8F-B79D-47C3-AF1A-4D100D11BF28</td>\n",
       "      <td>Assessment 1</td>\n",
       "      <td>1.0</td>\n",
       "      <td>1.0</td>\n",
       "      <td>4.0</td>\n",
       "      <td>NIH Toolbox Picture Vocabulary Test Age 3+ Pra...</td>\n",
       "      <td>en-US</td>\n",
       "      <td>VOCAB_PRACT2</td>\n",
       "      <td>3</td>\n",
       "      <td>...</td>\n",
       "      <td>NaN</td>\n",
       "      <td>NaN</td>\n",
       "      <td>NaN</td>\n",
       "      <td>NaN</td>\n",
       "      <td>NaN</td>\n",
       "      <td>NaN</td>\n",
       "      <td>NaN</td>\n",
       "      <td>NaN</td>\n",
       "      <td>NaN</td>\n",
       "      <td>NaN</td>\n",
       "    </tr>\n",
       "    <tr>\n",
       "      <th>4</th>\n",
       "      <td>210406_EPRC_00032_A_8Y</td>\n",
       "      <td>4C0D4D8F-B79D-47C3-AF1A-4D100D11BF28</td>\n",
       "      <td>Assessment 1</td>\n",
       "      <td>1.0</td>\n",
       "      <td>1.0</td>\n",
       "      <td>5.0</td>\n",
       "      <td>NIH Toolbox Picture Vocabulary Test Age 3+ Pra...</td>\n",
       "      <td>en-US</td>\n",
       "      <td>VOCAB_INSTR2</td>\n",
       "      <td>NaN</td>\n",
       "      <td>...</td>\n",
       "      <td>NaN</td>\n",
       "      <td>NaN</td>\n",
       "      <td>NaN</td>\n",
       "      <td>NaN</td>\n",
       "      <td>NaN</td>\n",
       "      <td>NaN</td>\n",
       "      <td>NaN</td>\n",
       "      <td>NaN</td>\n",
       "      <td>NaN</td>\n",
       "      <td>NaN</td>\n",
       "    </tr>\n",
       "  </tbody>\n",
       "</table>\n",
       "<p>5 rows × 42 columns</p>\n",
       "</div>"
      ],
      "text/plain": [
       "                      PIN                              DeviceID  \\\n",
       "0  210406_EPRC_00032_A_8Y  4C0D4D8F-B79D-47C3-AF1A-4D100D11BF28   \n",
       "1  210406_EPRC_00032_A_8Y  4C0D4D8F-B79D-47C3-AF1A-4D100D11BF28   \n",
       "2  210406_EPRC_00032_A_8Y  4C0D4D8F-B79D-47C3-AF1A-4D100D11BF28   \n",
       "3  210406_EPRC_00032_A_8Y  4C0D4D8F-B79D-47C3-AF1A-4D100D11BF28   \n",
       "4  210406_EPRC_00032_A_8Y  4C0D4D8F-B79D-47C3-AF1A-4D100D11BF28   \n",
       "\n",
       "  Assessment Name  InstOrdr  InstSctn  ItmOrdr  \\\n",
       "0    Assessment 1       1.0       1.0      1.0   \n",
       "1    Assessment 1       1.0       1.0      2.0   \n",
       "2    Assessment 1       1.0       1.0      3.0   \n",
       "3    Assessment 1       1.0       1.0      4.0   \n",
       "4    Assessment 1       1.0       1.0      5.0   \n",
       "\n",
       "                                                Inst Locale        ItemID  \\\n",
       "0  NIH Toolbox Picture Vocabulary Test Age 3+ Pra...  en-US   VOCAB_INTRO   \n",
       "1  NIH Toolbox Picture Vocabulary Test Age 3+ Pra...  en-US  VOCAB_INSTR1   \n",
       "2  NIH Toolbox Picture Vocabulary Test Age 3+ Pra...  en-US  VOCAB_PRACT1   \n",
       "3  NIH Toolbox Picture Vocabulary Test Age 3+ Pra...  en-US  VOCAB_PRACT2   \n",
       "4  NIH Toolbox Picture Vocabulary Test Age 3+ Pra...  en-US  VOCAB_INSTR2   \n",
       "\n",
       "  Response  ...  Race  Ethnicity  RegistrationID  ResponseID AssessmentName  \\\n",
       "0      NaN  ...   NaN        NaN             NaN         NaN            NaN   \n",
       "1      NaN  ...   NaN        NaN             NaN         NaN            NaN   \n",
       "2        4  ...   NaN        NaN             NaN         NaN            NaN   \n",
       "3        3  ...   NaN        NaN             NaN         NaN            NaN   \n",
       "4      NaN  ...   NaN        NaN             NaN         NaN            NaN   \n",
       "\n",
       "   InstrumentTitle  TestName InstrumentID  Key Value  \n",
       "0              NaN       NaN          NaN  NaN   NaN  \n",
       "1              NaN       NaN          NaN  NaN   NaN  \n",
       "2              NaN       NaN          NaN  NaN   NaN  \n",
       "3              NaN       NaN          NaN  NaN   NaN  \n",
       "4              NaN       NaN          NaN  NaN   NaN  \n",
       "\n",
       "[5 rows x 42 columns]"
      ]
     },
     "execution_count": 158,
     "metadata": {},
     "output_type": "execute_result"
    }
   ],
   "source": [
    "df.head()"
   ]
  },
  {
   "cell_type": "code",
   "execution_count": 159,
   "metadata": {
    "id": "7RA9_WHRQ_NP"
   },
   "outputs": [],
   "source": [
    "df['PIN']=df['PIN'].replace(' ', '', regex=True)"
   ]
  },
  {
   "cell_type": "code",
   "execution_count": 160,
   "metadata": {
    "id": "lgBBimQlZAHH"
   },
   "outputs": [],
   "source": [
    "df['PIN'] = df['PIN'].str[7:17]"
   ]
  },
  {
   "cell_type": "code",
   "execution_count": 161,
   "metadata": {
    "colab": {
     "base_uri": "https://localhost:8080/"
    },
    "id": "Z6DLD3AMRClD",
    "outputId": "ec621fb6-0831-4013-a0a8-1f5605e71ad3"
   },
   "outputs": [
    {
     "data": {
      "text/plain": [
       "array(['EPRC_00032', 'EPRC_00160', 'EPRC_00173', 'EPRC_00179',\n",
       "       'EPRC_00181', 'EPRC_00183', 'EPRC_00191', 'EPRC_00380',\n",
       "       'EPSF_00832', 'EPSF_01666', 'EPSF_00847', 'EPSF_00944',\n",
       "       'EPSF_00836'], dtype=object)"
      ]
     },
     "execution_count": 161,
     "metadata": {},
     "output_type": "execute_result"
    }
   ],
   "source": [
    "df['PIN'].unique()"
   ]
  },
  {
   "cell_type": "code",
   "execution_count": 162,
   "metadata": {
    "id": "RB-LQSemb5w5"
   },
   "outputs": [],
   "source": [
    "df['InstStarted']= pd.to_datetime(df['InstStarted'])"
   ]
  },
  {
   "cell_type": "code",
   "execution_count": 163,
   "metadata": {
    "id": "AZTDjIpfdCkc"
   },
   "outputs": [],
   "source": [
    "df['InstEnded']= pd.to_datetime(df['InstEnded'])"
   ]
  },
  {
   "cell_type": "code",
   "execution_count": 164,
   "metadata": {
    "colab": {
     "base_uri": "https://localhost:8080/"
    },
    "id": "8luUtuGYaN0D",
    "outputId": "3e31c1f2-5781-42f5-e279-e5979c0de9d6"
   },
   "outputs": [
    {
     "name": "stderr",
     "output_type": "stream",
     "text": [
      "<ipython-input-164-36cef9752c8c>:1: FutureWarning: Indexing with multiple keys (implicitly converted to a tuple of keys) will be deprecated, use a list instead.\n",
      "  mnr =df.groupby(['PIN','Inst'])['InstStarted','InstEnded'].first().reset_index()\n"
     ]
    }
   ],
   "source": [
    "mnr =df.groupby(['PIN','Inst'])['InstStarted','InstEnded'].first().reset_index()"
   ]
  },
  {
   "cell_type": "code",
   "execution_count": 165,
   "metadata": {
    "id": "tL6eR_iddCH_"
   },
   "outputs": [],
   "source": [
    "mnr['Time']=mnr['InstEnded']-mnr['InstStarted']"
   ]
  },
  {
   "cell_type": "code",
   "execution_count": 166,
   "metadata": {
    "id": "Bqhea3lbjYl5"
   },
   "outputs": [],
   "source": [
    "mnr=mnr.drop(columns=['InstStarted'])"
   ]
  },
  {
   "cell_type": "code",
   "execution_count": 167,
   "metadata": {
    "id": "LqmUxt5NWHQs"
   },
   "outputs": [],
   "source": [
    "mnr.InstEnded= mnr.InstEnded.map(lambda x: x.strftime('%Y-%m-%d'))"
   ]
  },
  {
   "cell_type": "code",
   "execution_count": 168,
   "metadata": {
    "id": "-ssc72Z0tLxH"
   },
   "outputs": [],
   "source": [
    "RM =mnr.groupby(['PIN'])['Time'].sum().reset_index()"
   ]
  },
  {
   "cell_type": "code",
   "execution_count": 169,
   "metadata": {
    "id": "6IllucJ_u_7r"
   },
   "outputs": [],
   "source": [
    "RM['Time']=round(RM['Time'].dt.total_seconds()/60,2)"
   ]
  },
  {
   "cell_type": "code",
   "execution_count": 170,
   "metadata": {
    "id": "RboaYjYxDeaT"
   },
   "outputs": [],
   "source": [
    "mnr.rename(columns={'InstEnded':'Date'}, inplace=True)"
   ]
  },
  {
   "cell_type": "code",
   "execution_count": 171,
   "metadata": {
    "colab": {
     "base_uri": "https://localhost:8080/",
     "height": 421
    },
    "id": "AOxXvZgUwsxa",
    "outputId": "fca19b85-ff30-4201-f6c0-ee6f1af11cb2"
   },
   "outputs": [
    {
     "data": {
      "text/html": [
       "<div>\n",
       "<style scoped>\n",
       "    .dataframe tbody tr th:only-of-type {\n",
       "        vertical-align: middle;\n",
       "    }\n",
       "\n",
       "    .dataframe tbody tr th {\n",
       "        vertical-align: top;\n",
       "    }\n",
       "\n",
       "    .dataframe thead th {\n",
       "        text-align: right;\n",
       "    }\n",
       "</style>\n",
       "<table border=\"1\" class=\"dataframe\">\n",
       "  <thead>\n",
       "    <tr style=\"text-align: right;\">\n",
       "      <th></th>\n",
       "      <th>PIN</th>\n",
       "      <th>Time</th>\n",
       "    </tr>\n",
       "  </thead>\n",
       "  <tbody>\n",
       "    <tr>\n",
       "      <th>0</th>\n",
       "      <td>EPRC_00032</td>\n",
       "      <td>27.20</td>\n",
       "    </tr>\n",
       "    <tr>\n",
       "      <th>1</th>\n",
       "      <td>EPRC_00160</td>\n",
       "      <td>31.40</td>\n",
       "    </tr>\n",
       "    <tr>\n",
       "      <th>2</th>\n",
       "      <td>EPRC_00179</td>\n",
       "      <td>27.92</td>\n",
       "    </tr>\n",
       "    <tr>\n",
       "      <th>3</th>\n",
       "      <td>EPRC_00181</td>\n",
       "      <td>27.35</td>\n",
       "    </tr>\n",
       "    <tr>\n",
       "      <th>4</th>\n",
       "      <td>EPRC_00183</td>\n",
       "      <td>23.12</td>\n",
       "    </tr>\n",
       "    <tr>\n",
       "      <th>5</th>\n",
       "      <td>EPRC_00191</td>\n",
       "      <td>28.25</td>\n",
       "    </tr>\n",
       "    <tr>\n",
       "      <th>6</th>\n",
       "      <td>EPRC_00380</td>\n",
       "      <td>27.92</td>\n",
       "    </tr>\n",
       "    <tr>\n",
       "      <th>7</th>\n",
       "      <td>EPSF_00832</td>\n",
       "      <td>26.47</td>\n",
       "    </tr>\n",
       "    <tr>\n",
       "      <th>8</th>\n",
       "      <td>EPSF_00836</td>\n",
       "      <td>27.62</td>\n",
       "    </tr>\n",
       "    <tr>\n",
       "      <th>9</th>\n",
       "      <td>EPSF_00847</td>\n",
       "      <td>25.82</td>\n",
       "    </tr>\n",
       "    <tr>\n",
       "      <th>10</th>\n",
       "      <td>EPSF_00944</td>\n",
       "      <td>34.08</td>\n",
       "    </tr>\n",
       "    <tr>\n",
       "      <th>11</th>\n",
       "      <td>EPSF_01666</td>\n",
       "      <td>27.55</td>\n",
       "    </tr>\n",
       "  </tbody>\n",
       "</table>\n",
       "</div>"
      ],
      "text/plain": [
       "           PIN   Time\n",
       "0   EPRC_00032  27.20\n",
       "1   EPRC_00160  31.40\n",
       "2   EPRC_00179  27.92\n",
       "3   EPRC_00181  27.35\n",
       "4   EPRC_00183  23.12\n",
       "5   EPRC_00191  28.25\n",
       "6   EPRC_00380  27.92\n",
       "7   EPSF_00832  26.47\n",
       "8   EPSF_00836  27.62\n",
       "9   EPSF_00847  25.82\n",
       "10  EPSF_00944  34.08\n",
       "11  EPSF_01666  27.55"
      ]
     },
     "execution_count": 171,
     "metadata": {},
     "output_type": "execute_result"
    }
   ],
   "source": [
    "RM"
   ]
  },
  {
   "cell_type": "code",
   "execution_count": 172,
   "metadata": {
    "colab": {
     "base_uri": "https://localhost:8080/"
    },
    "id": "01O2uGiWvuhe",
    "outputId": "a351af56-2bff-4c0e-c740-917837971e59"
   },
   "outputs": [
    {
     "data": {
      "text/plain": [
       "27.89166666666667"
      ]
     },
     "execution_count": 172,
     "metadata": {},
     "output_type": "execute_result"
    }
   ],
   "source": [
    "RM['Time'].mean()"
   ]
  },
  {
   "cell_type": "code",
   "execution_count": 173,
   "metadata": {
    "id": "Ufaysbpljrds"
   },
   "outputs": [],
   "source": [
    "mnr['Time']=round(mnr['Time'].dt.total_seconds()/60,2)"
   ]
  },
  {
   "cell_type": "code",
   "execution_count": 174,
   "metadata": {
    "id": "0paxrlw6wj_6"
   },
   "outputs": [],
   "source": [
    "mnr['Mode'] ='Remote'"
   ]
  },
  {
   "cell_type": "markdown",
   "metadata": {
    "id": "zXCPbUgXw4At"
   },
   "source": [
    "#a. A matched t-test for those who have both in-person and remote - Total Time\n",
    "There are only 8 students both have in person and remote"
   ]
  },
  {
   "cell_type": "code",
   "execution_count": 175,
   "metadata": {
    "id": "p-IQAUWxMl93"
   },
   "outputs": [],
   "source": [
    "IP =IP[IP['PIN']!='EPSF_00836']\n",
    "IP=IP[IP['PIN']!='EPSF_00847']"
   ]
  },
  {
   "cell_type": "code",
   "execution_count": 176,
   "metadata": {
    "id": "0OBAhrANzuH2"
   },
   "outputs": [],
   "source": [
    "times = pd.merge(IP, RM, how= 'inner', on='PIN')"
   ]
  },
  {
   "cell_type": "code",
   "execution_count": 177,
   "metadata": {
    "id": "TSDQUbPtYTs4"
   },
   "outputs": [],
   "source": [
    "times.columns =['PIN','Total_time', 'Total_time_R']"
   ]
  },
  {
   "cell_type": "code",
   "execution_count": 178,
   "metadata": {
    "colab": {
     "base_uri": "https://localhost:8080/",
     "height": 297
    },
    "id": "zLVZtuqVYC96",
    "outputId": "9cfb7382-a8f8-4161-94ed-7913c4932d6f"
   },
   "outputs": [
    {
     "data": {
      "text/html": [
       "<div>\n",
       "<style scoped>\n",
       "    .dataframe tbody tr th:only-of-type {\n",
       "        vertical-align: middle;\n",
       "    }\n",
       "\n",
       "    .dataframe tbody tr th {\n",
       "        vertical-align: top;\n",
       "    }\n",
       "\n",
       "    .dataframe thead th {\n",
       "        text-align: right;\n",
       "    }\n",
       "</style>\n",
       "<table border=\"1\" class=\"dataframe\">\n",
       "  <thead>\n",
       "    <tr style=\"text-align: right;\">\n",
       "      <th></th>\n",
       "      <th>PIN</th>\n",
       "      <th>Total_time</th>\n",
       "      <th>Total_time_R</th>\n",
       "    </tr>\n",
       "  </thead>\n",
       "  <tbody>\n",
       "    <tr>\n",
       "      <th>0</th>\n",
       "      <td>EPRC_00032</td>\n",
       "      <td>25.73</td>\n",
       "      <td>27.20</td>\n",
       "    </tr>\n",
       "    <tr>\n",
       "      <th>1</th>\n",
       "      <td>EPRC_00160</td>\n",
       "      <td>25.63</td>\n",
       "      <td>31.40</td>\n",
       "    </tr>\n",
       "    <tr>\n",
       "      <th>2</th>\n",
       "      <td>EPRC_00179</td>\n",
       "      <td>21.40</td>\n",
       "      <td>27.92</td>\n",
       "    </tr>\n",
       "    <tr>\n",
       "      <th>3</th>\n",
       "      <td>EPRC_00181</td>\n",
       "      <td>24.33</td>\n",
       "      <td>27.35</td>\n",
       "    </tr>\n",
       "    <tr>\n",
       "      <th>4</th>\n",
       "      <td>EPRC_00380</td>\n",
       "      <td>24.33</td>\n",
       "      <td>27.92</td>\n",
       "    </tr>\n",
       "    <tr>\n",
       "      <th>5</th>\n",
       "      <td>EPSF_00832</td>\n",
       "      <td>23.53</td>\n",
       "      <td>26.47</td>\n",
       "    </tr>\n",
       "    <tr>\n",
       "      <th>6</th>\n",
       "      <td>EPSF_00944</td>\n",
       "      <td>34.43</td>\n",
       "      <td>34.08</td>\n",
       "    </tr>\n",
       "    <tr>\n",
       "      <th>7</th>\n",
       "      <td>EPSF_01666</td>\n",
       "      <td>25.17</td>\n",
       "      <td>27.55</td>\n",
       "    </tr>\n",
       "  </tbody>\n",
       "</table>\n",
       "</div>"
      ],
      "text/plain": [
       "          PIN  Total_time  Total_time_R\n",
       "0  EPRC_00032       25.73         27.20\n",
       "1  EPRC_00160       25.63         31.40\n",
       "2  EPRC_00179       21.40         27.92\n",
       "3  EPRC_00181       24.33         27.35\n",
       "4  EPRC_00380       24.33         27.92\n",
       "5  EPSF_00832       23.53         26.47\n",
       "6  EPSF_00944       34.43         34.08\n",
       "7  EPSF_01666       25.17         27.55"
      ]
     },
     "execution_count": 178,
     "metadata": {},
     "output_type": "execute_result"
    }
   ],
   "source": [
    "times"
   ]
  },
  {
   "cell_type": "code",
   "execution_count": 53,
   "metadata": {
    "colab": {
     "base_uri": "https://localhost:8080/"
    },
    "id": "B7dU4zWXfI_Z",
    "outputId": "b35e843a-d59d-407c-f49b-c2637743222a"
   },
   "outputs": [
    {
     "data": {
      "text/plain": [
       "array(['EPRC_00032', 'EPRC_00160', 'EPRC_00162', 'EPRC_00173',\n",
       "       'EPRC_00179', 'EPRC_00181', 'EPRC_00380', 'EPRC_00550',\n",
       "       'EPSF_00832', 'EPSF_00943', 'EPSF_00944', 'EPSF_01247',\n",
       "       'EPSF_01666'], dtype=object)"
      ]
     },
     "execution_count": 53,
     "metadata": {},
     "output_type": "execute_result"
    }
   ],
   "source": [
    "IP.PIN.unique()"
   ]
  },
  {
   "cell_type": "code",
   "execution_count": 54,
   "metadata": {
    "colab": {
     "base_uri": "https://localhost:8080/",
     "height": 452
    },
    "id": "2JKzWiUMYdyx",
    "outputId": "b9cef8dc-5e84-4741-c993-a42ac9438df8"
   },
   "outputs": [
    {
     "data": {
      "text/html": [
       "<div>\n",
       "<style scoped>\n",
       "    .dataframe tbody tr th:only-of-type {\n",
       "        vertical-align: middle;\n",
       "    }\n",
       "\n",
       "    .dataframe tbody tr th {\n",
       "        vertical-align: top;\n",
       "    }\n",
       "\n",
       "    .dataframe thead th {\n",
       "        text-align: right;\n",
       "    }\n",
       "</style>\n",
       "<table border=\"1\" class=\"dataframe\">\n",
       "  <thead>\n",
       "    <tr style=\"text-align: right;\">\n",
       "      <th></th>\n",
       "      <th>PIN</th>\n",
       "      <th>Time</th>\n",
       "    </tr>\n",
       "  </thead>\n",
       "  <tbody>\n",
       "    <tr>\n",
       "      <th>0</th>\n",
       "      <td>EPRC_00032</td>\n",
       "      <td>25.73</td>\n",
       "    </tr>\n",
       "    <tr>\n",
       "      <th>1</th>\n",
       "      <td>EPRC_00160</td>\n",
       "      <td>25.63</td>\n",
       "    </tr>\n",
       "    <tr>\n",
       "      <th>2</th>\n",
       "      <td>EPRC_00162</td>\n",
       "      <td>27.25</td>\n",
       "    </tr>\n",
       "    <tr>\n",
       "      <th>3</th>\n",
       "      <td>EPRC_00173</td>\n",
       "      <td>29.70</td>\n",
       "    </tr>\n",
       "    <tr>\n",
       "      <th>4</th>\n",
       "      <td>EPRC_00179</td>\n",
       "      <td>21.40</td>\n",
       "    </tr>\n",
       "    <tr>\n",
       "      <th>5</th>\n",
       "      <td>EPRC_00181</td>\n",
       "      <td>24.33</td>\n",
       "    </tr>\n",
       "    <tr>\n",
       "      <th>6</th>\n",
       "      <td>EPRC_00380</td>\n",
       "      <td>24.33</td>\n",
       "    </tr>\n",
       "    <tr>\n",
       "      <th>7</th>\n",
       "      <td>EPRC_00550</td>\n",
       "      <td>30.62</td>\n",
       "    </tr>\n",
       "    <tr>\n",
       "      <th>8</th>\n",
       "      <td>EPSF_00832</td>\n",
       "      <td>23.53</td>\n",
       "    </tr>\n",
       "    <tr>\n",
       "      <th>11</th>\n",
       "      <td>EPSF_00943</td>\n",
       "      <td>2.00</td>\n",
       "    </tr>\n",
       "    <tr>\n",
       "      <th>12</th>\n",
       "      <td>EPSF_00944</td>\n",
       "      <td>34.43</td>\n",
       "    </tr>\n",
       "    <tr>\n",
       "      <th>13</th>\n",
       "      <td>EPSF_01247</td>\n",
       "      <td>24.30</td>\n",
       "    </tr>\n",
       "    <tr>\n",
       "      <th>14</th>\n",
       "      <td>EPSF_01666</td>\n",
       "      <td>25.17</td>\n",
       "    </tr>\n",
       "  </tbody>\n",
       "</table>\n",
       "</div>"
      ],
      "text/plain": [
       "           PIN   Time\n",
       "0   EPRC_00032  25.73\n",
       "1   EPRC_00160  25.63\n",
       "2   EPRC_00162  27.25\n",
       "3   EPRC_00173  29.70\n",
       "4   EPRC_00179  21.40\n",
       "5   EPRC_00181  24.33\n",
       "6   EPRC_00380  24.33\n",
       "7   EPRC_00550  30.62\n",
       "8   EPSF_00832  23.53\n",
       "11  EPSF_00943   2.00\n",
       "12  EPSF_00944  34.43\n",
       "13  EPSF_01247  24.30\n",
       "14  EPSF_01666  25.17"
      ]
     },
     "execution_count": 54,
     "metadata": {},
     "output_type": "execute_result"
    }
   ],
   "source": [
    "IP"
   ]
  },
  {
   "cell_type": "code",
   "execution_count": 55,
   "metadata": {
    "colab": {
     "base_uri": "https://localhost:8080/"
    },
    "id": "Y_IEkgG9fMBR",
    "outputId": "fb73f535-cdb8-468c-f39b-8aa16e489045"
   },
   "outputs": [
    {
     "data": {
      "text/plain": [
       "array(['EPRC_00032', 'EPRC_00160', 'EPRC_00179', 'EPRC_00181',\n",
       "       'EPRC_00183', 'EPRC_00191', 'EPRC_00380', 'EPSF_00832',\n",
       "       'EPSF_00836', 'EPSF_00847', 'EPSF_00944', 'EPSF_01666'],\n",
       "      dtype=object)"
      ]
     },
     "execution_count": 55,
     "metadata": {},
     "output_type": "execute_result"
    }
   ],
   "source": [
    "RM.PIN.unique()"
   ]
  },
  {
   "cell_type": "code",
   "execution_count": 56,
   "metadata": {
    "colab": {
     "base_uri": "https://localhost:8080/"
    },
    "id": "U1_dTcFSqK5n",
    "outputId": "663a2e23-7f93-4ad6-8c5f-4d79e13c8c2e"
   },
   "outputs": [
    {
     "name": "stdout",
     "output_type": "stream",
     "text": [
      "t-statistic = -1.928 pvalue = 0.0772\n"
     ]
    }
   ],
   "source": [
    "import numpy as np\n",
    "import scipy.stats as stats\n",
    "print('t-statistic = %6.3f pvalue = %6.4f' % stats.ttest_ind(times.Total_time, times.Total_time_R, equal_var = False))"
   ]
  },
  {
   "cell_type": "code",
   "execution_count": 57,
   "metadata": {
    "colab": {
     "base_uri": "https://localhost:8080/",
     "height": 377
    },
    "id": "GIiwJXfuLY0w",
    "outputId": "d8f32c7d-d669-4e88-befe-a4c8391e25bc"
   },
   "outputs": [
    {
     "data": {
      "image/png": "[encoded data removed]",
      "text/plain": [
       "<Figure size 576x432 with 1 Axes>"
      ]
     },
     "metadata": {
      "needs_background": "light"
     },
     "output_type": "display_data"
    }
   ],
   "source": [
    "import matplotlib.pyplot as plt\n",
    "\n",
    "# Box plot of ACS In person vs. Remote\n",
    "plt.figure(figsize=(8, 6))\n",
    "times.boxplot(column=['Total_time', 'Total_time_R'])\n",
    "\n",
    "plt.show()"
   ]
  },
  {
   "cell_type": "markdown",
   "metadata": {
    "id": "lGdqiU1zablK"
   },
   "source": [
    "# b.\tA student’s t-test for everyone \n",
    "15 has In-person, 12 has remote"
   ]
  },
  {
   "cell_type": "code",
   "execution_count": 58,
   "metadata": {
    "colab": {
     "base_uri": "https://localhost:8080/"
    },
    "id": "AOGjshfCXXnh",
    "outputId": "47e27455-880c-47e4-f72a-0f03981949b9"
   },
   "outputs": [
    {
     "name": "stdout",
     "output_type": "stream",
     "text": [
      "t-statistic = -1.513 pvalue = 0.1506\n"
     ]
    }
   ],
   "source": [
    "print('t-statistic = %6.3f pvalue = %6.4f' % stats.ttest_ind(IP.Time, RM.Time, equal_var=False))"
   ]
  },
  {
   "cell_type": "markdown",
   "metadata": {
    "id": "_IxHYc-4eZxO"
   },
   "source": [
    "#c.\tCorrelations between remote and in-person- Total Time\n",
    "There are only 5 students both have in person and remote"
   ]
  },
  {
   "cell_type": "code",
   "execution_count": 59,
   "metadata": {
    "colab": {
     "base_uri": "https://localhost:8080/"
    },
    "id": "kSl8M2iFd5b5",
    "outputId": "31d52992-c13a-4778-8e22-a347741aef4c"
   },
   "outputs": [
    {
     "name": "stdout",
     "output_type": "stream",
     "text": [
      "Correlation =  0.832 pvalue = 0.0104\n"
     ]
    }
   ],
   "source": [
    "import numpy as np\n",
    "import scipy.stats as stats\n",
    "\n",
    "print('Correlation = %6.3f pvalue = %6.4f' % stats.pearsonr(times['Total_time'], times['Total_time_R']))    # Pearson's correlation coefficient and p-value "
   ]
  },
  {
   "cell_type": "code",
   "execution_count": 181,
   "metadata": {
    "id": "IzhIkmXLLPYo"
   },
   "outputs": [],
   "source": [
    "time_breakdown = pd.concat([mni,mnr]) "
   ]
  },
  {
   "cell_type": "code",
   "execution_count": 61,
   "metadata": {
    "colab": {
     "base_uri": "https://localhost:8080/"
    },
    "id": "IzPqS2jYZa3l",
    "outputId": "55944aa3-fcc1-4850-a014-0e2c651269d5"
   },
   "outputs": [
    {
     "data": {
      "text/plain": [
       "array(['NIH Toolbox Dimensional Change Card Sort Test Ages 8-11 v2.1',\n",
       "       'NIH Toolbox Flanker Inhibitory Control and Attention Test Ages 8-11 v2.1',\n",
       "       'NIH Toolbox Oral Reading Recognition Test Age 3+ v2.1',\n",
       "       'NIH Toolbox Pattern Comparison Processing Speed Test Age 7+ Practice v2.1',\n",
       "       'NIH Toolbox Pattern Comparison Processing Speed Test Age 7+ v2.1',\n",
       "       'NIH Toolbox Picture Sequence Memory Test Age 8+ Form A v2.1',\n",
       "       'NIH Toolbox Picture Vocabulary Test Age 3+ Practice v2.1',\n",
       "       'NIH Toolbox Picture Vocabulary Test Age 3+ v2.1',\n",
       "       'NIH Toolbox Picture Sequence Memory Test Age 8+ Form B v2.1'],\n",
       "      dtype=object)"
      ]
     },
     "execution_count": 61,
     "metadata": {},
     "output_type": "execute_result"
    }
   ],
   "source": [
    "time_breakdown.Inst.unique()"
   ]
  },
  {
   "cell_type": "code",
   "execution_count": 62,
   "metadata": {
    "colab": {
     "base_uri": "https://localhost:8080/"
    },
    "id": "C_DarEYbJNSk",
    "outputId": "5820a30c-35d1-48a0-f12f-a4e6a453a7a1"
   },
   "outputs": [
    {
     "data": {
      "text/plain": [
       "PIN         Mode     \n",
       "EPRC_00032  In Person    8\n",
       "            Remote       8\n",
       "EPRC_00160  In Person    8\n",
       "            Remote       8\n",
       "EPRC_00162  In Person    8\n",
       "EPRC_00173  In Person    8\n",
       "EPRC_00179  In Person    8\n",
       "            Remote       8\n",
       "EPRC_00181  In Person    8\n",
       "            Remote       8\n",
       "EPRC_00183  Remote       6\n",
       "EPRC_00191  Remote       8\n",
       "EPRC_00380  In Person    8\n",
       "            Remote       8\n",
       "EPRC_00550  In Person    8\n",
       "EPSF_00832  In Person    8\n",
       "            Remote       8\n",
       "EPSF_00836  In Person    2\n",
       "            Remote       8\n",
       "EPSF_00847  In Person    2\n",
       "            Remote       8\n",
       "EPSF_00943  In Person    2\n",
       "EPSF_00944  In Person    8\n",
       "            Remote       8\n",
       "EPSF_01247  In Person    8\n",
       "EPSF_01666  In Person    8\n",
       "            Remote       7\n",
       "Name: Inst, dtype: int64"
      ]
     },
     "execution_count": 62,
     "metadata": {},
     "output_type": "execute_result"
    }
   ],
   "source": [
    "time_breakdown.groupby(['PIN','Mode'])['Inst'].count()"
   ]
  },
  {
   "cell_type": "markdown",
   "metadata": {
    "id": "5JPdownkvrfB"
   },
   "source": []
  },
  {
   "cell_type": "markdown",
   "metadata": {
    "id": "LGFMDZ39ptvO"
   },
   "source": [
    "#d.\tDoes it take longer for remote vs. in-person? - Total Time\n"
   ]
  },
  {
   "cell_type": "code",
   "execution_count": 63,
   "metadata": {
    "colab": {
     "base_uri": "https://localhost:8080/"
    },
    "id": "kgvHz9sgZ3rE",
    "outputId": "714dd969-7caa-4a25-80ab-ed43809a4f7f"
   },
   "outputs": [
    {
     "name": "stdout",
     "output_type": "stream",
     "text": [
      "t-statistic =  1.000 pvalue = 0.0156\n"
     ]
    }
   ],
   "source": [
    "print('t-statistic = %6.3f pvalue = %6.4f' % stats.wilcoxon(times.Total_time, times.Total_time_R, alternative='two-sided'))"
   ]
  },
  {
   "cell_type": "code",
   "execution_count": 64,
   "metadata": {
    "colab": {
     "base_uri": "https://localhost:8080/",
     "height": 297
    },
    "id": "e1iXEHauvlSO",
    "outputId": "8c387777-2854-441a-fcd1-c13995229364"
   },
   "outputs": [
    {
     "data": {
      "text/html": [
       "<div>\n",
       "<style scoped>\n",
       "    .dataframe tbody tr th:only-of-type {\n",
       "        vertical-align: middle;\n",
       "    }\n",
       "\n",
       "    .dataframe tbody tr th {\n",
       "        vertical-align: top;\n",
       "    }\n",
       "\n",
       "    .dataframe thead th {\n",
       "        text-align: right;\n",
       "    }\n",
       "</style>\n",
       "<table border=\"1\" class=\"dataframe\">\n",
       "  <thead>\n",
       "    <tr style=\"text-align: right;\">\n",
       "      <th></th>\n",
       "      <th>PIN</th>\n",
       "      <th>Total_time</th>\n",
       "      <th>Total_time_R</th>\n",
       "    </tr>\n",
       "  </thead>\n",
       "  <tbody>\n",
       "    <tr>\n",
       "      <th>0</th>\n",
       "      <td>EPRC_00032</td>\n",
       "      <td>25.73</td>\n",
       "      <td>27.20</td>\n",
       "    </tr>\n",
       "    <tr>\n",
       "      <th>1</th>\n",
       "      <td>EPRC_00160</td>\n",
       "      <td>25.63</td>\n",
       "      <td>31.40</td>\n",
       "    </tr>\n",
       "    <tr>\n",
       "      <th>2</th>\n",
       "      <td>EPRC_00179</td>\n",
       "      <td>21.40</td>\n",
       "      <td>27.92</td>\n",
       "    </tr>\n",
       "    <tr>\n",
       "      <th>3</th>\n",
       "      <td>EPRC_00181</td>\n",
       "      <td>24.33</td>\n",
       "      <td>27.35</td>\n",
       "    </tr>\n",
       "    <tr>\n",
       "      <th>4</th>\n",
       "      <td>EPRC_00380</td>\n",
       "      <td>24.33</td>\n",
       "      <td>27.92</td>\n",
       "    </tr>\n",
       "    <tr>\n",
       "      <th>5</th>\n",
       "      <td>EPSF_00832</td>\n",
       "      <td>23.53</td>\n",
       "      <td>26.47</td>\n",
       "    </tr>\n",
       "    <tr>\n",
       "      <th>6</th>\n",
       "      <td>EPSF_00944</td>\n",
       "      <td>34.43</td>\n",
       "      <td>34.08</td>\n",
       "    </tr>\n",
       "    <tr>\n",
       "      <th>7</th>\n",
       "      <td>EPSF_01666</td>\n",
       "      <td>25.17</td>\n",
       "      <td>27.55</td>\n",
       "    </tr>\n",
       "  </tbody>\n",
       "</table>\n",
       "</div>"
      ],
      "text/plain": [
       "          PIN  Total_time  Total_time_R\n",
       "0  EPRC_00032       25.73         27.20\n",
       "1  EPRC_00160       25.63         31.40\n",
       "2  EPRC_00179       21.40         27.92\n",
       "3  EPRC_00181       24.33         27.35\n",
       "4  EPRC_00380       24.33         27.92\n",
       "5  EPSF_00832       23.53         26.47\n",
       "6  EPSF_00944       34.43         34.08\n",
       "7  EPSF_01666       25.17         27.55"
      ]
     },
     "execution_count": 64,
     "metadata": {},
     "output_type": "execute_result"
    }
   ],
   "source": [
    "times"
   ]
  },
  {
   "cell_type": "markdown",
   "metadata": {
    "id": "Hg4pVBb0A_NF"
   },
   "source": [
    "# e.\tPlot on x-axis remote scores for all the Inst, and plot on y-axis all the in-person "
   ]
  },
  {
   "cell_type": "code",
   "execution_count": 65,
   "metadata": {
    "colab": {
     "base_uri": "https://localhost:8080/",
     "height": 509
    },
    "id": "pQ3v5DU7F8mR",
    "outputId": "12180e71-ba5d-4e47-ee9c-be3ef4608ddf"
   },
   "outputs": [
    {
     "data": {
      "image/png": "[encoded data removed]",
      "text/plain": [
       "<Figure size 504x504 with 3 Axes>"
      ]
     },
     "metadata": {},
     "output_type": "display_data"
    }
   ],
   "source": [
    "import seaborn as sns\n",
    "sns.set_theme(style=\"darkgrid\")\n",
    "\n",
    "g = sns.jointplot(x=\"Total_time\", y=\"Total_time_R\", data=times,\n",
    "                  kind=\"reg\", truncate=False,\n",
    "                  color=\"m\", height=7)"
   ]
  },
  {
   "cell_type": "markdown",
   "metadata": {
    "id": "zKBH_U9Yd919"
   },
   "source": [
    "#Composites (age-corrected and fully-corrected scores)Scores"
   ]
  },
  {
   "cell_type": "code",
   "execution_count": 66,
   "metadata": {
    "id": "3ayipuJLxYuG"
   },
   "outputs": [],
   "source": [
    "#  get all files from all In-person subdirectories\n",
    "\n",
    "all_files = glob.glob('C:/Users/TEMP/Box/Avera NIHTB Data//Rapid City/*/In Person/*CB_Scores.csv')\n",
    "\n",
    "\n",
    "doc =[]\n",
    "for file in all_files:\n",
    "  data = pd.read_csv(file)\n",
    "  doc.append(data)\n",
    "\n",
    "# get all files from all SF In_person subdirectories\n",
    "all_files = glob.glob('C:/Users/TEMP/Box/Avera NIHTB Data/Sioux Falls/*/In Person/*CB_Scores.csv')\n",
    "\n",
    "for file in all_files:\n",
    "  data = pd.read_csv(file)\n",
    "  doc.append(data)\n",
    "\n",
    "df = pd.concat(doc)"
   ]
  },
  {
   "cell_type": "code",
   "execution_count": 67,
   "metadata": {
    "colab": {
     "base_uri": "https://localhost:8080/"
    },
    "id": "WOvk0V52xqfj",
    "outputId": "8fd94fc2-e9d6-436f-b07c-1c244e15fa5a"
   },
   "outputs": [
    {
     "data": {
      "text/plain": [
       "(162, 28)"
      ]
     },
     "execution_count": 67,
     "metadata": {},
     "output_type": "execute_result"
    }
   ],
   "source": [
    "df.shape"
   ]
  },
  {
   "cell_type": "code",
   "execution_count": 68,
   "metadata": {
    "id": "U_t0U6Q5x0Zl"
   },
   "outputs": [],
   "source": [
    "df['PIN'] = df['PIN'].str[7:17]"
   ]
  },
  {
   "cell_type": "code",
   "execution_count": 69,
   "metadata": {
    "id": "ei6DQb7S4vya"
   },
   "outputs": [],
   "source": [
    "keep =['PIN', 'Inst', 'RawScore', 'Theta', 'SE',\n",
    "       'ItmCnt', 'Computed Score',\n",
    "       'Uncorrected Standard Score', 'Age-Corrected Standard Score',\n",
    "       'National Percentile (age adjusted)', 'Fully-Corrected T-score',\n",
    "       'InstrumentBreakoff', 'InstrumentStatus2']"
   ]
  },
  {
   "cell_type": "code",
   "execution_count": 70,
   "metadata": {
    "id": "3Om5N5Ma56yQ"
   },
   "outputs": [],
   "source": [
    "df=df[keep]"
   ]
  },
  {
   "cell_type": "code",
   "execution_count": 71,
   "metadata": {
    "colab": {
     "base_uri": "https://localhost:8080/",
     "height": 359
    },
    "id": "_WFIOwUytaMY",
    "outputId": "e8f0342d-f2cd-4856-dbb9-0deb907e4731"
   },
   "outputs": [
    {
     "data": {
      "text/html": [
       "<div>\n",
       "<style scoped>\n",
       "    .dataframe tbody tr th:only-of-type {\n",
       "        vertical-align: middle;\n",
       "    }\n",
       "\n",
       "    .dataframe tbody tr th {\n",
       "        vertical-align: top;\n",
       "    }\n",
       "\n",
       "    .dataframe thead th {\n",
       "        text-align: right;\n",
       "    }\n",
       "</style>\n",
       "<table border=\"1\" class=\"dataframe\">\n",
       "  <thead>\n",
       "    <tr style=\"text-align: right;\">\n",
       "      <th></th>\n",
       "      <th>PIN</th>\n",
       "      <th>Total_time</th>\n",
       "      <th>Total_time_R</th>\n",
       "    </tr>\n",
       "  </thead>\n",
       "  <tbody>\n",
       "    <tr>\n",
       "      <th>0</th>\n",
       "      <td>EPRC_00032</td>\n",
       "      <td>25.73</td>\n",
       "      <td>27.20</td>\n",
       "    </tr>\n",
       "    <tr>\n",
       "      <th>1</th>\n",
       "      <td>EPRC_00160</td>\n",
       "      <td>25.63</td>\n",
       "      <td>31.40</td>\n",
       "    </tr>\n",
       "    <tr>\n",
       "      <th>2</th>\n",
       "      <td>EPRC_00179</td>\n",
       "      <td>21.40</td>\n",
       "      <td>27.92</td>\n",
       "    </tr>\n",
       "    <tr>\n",
       "      <th>3</th>\n",
       "      <td>EPRC_00181</td>\n",
       "      <td>24.33</td>\n",
       "      <td>27.35</td>\n",
       "    </tr>\n",
       "    <tr>\n",
       "      <th>4</th>\n",
       "      <td>EPRC_00380</td>\n",
       "      <td>24.33</td>\n",
       "      <td>27.92</td>\n",
       "    </tr>\n",
       "    <tr>\n",
       "      <th>5</th>\n",
       "      <td>EPSF_00832</td>\n",
       "      <td>23.53</td>\n",
       "      <td>26.47</td>\n",
       "    </tr>\n",
       "    <tr>\n",
       "      <th>6</th>\n",
       "      <td>EPSF_00944</td>\n",
       "      <td>34.43</td>\n",
       "      <td>34.08</td>\n",
       "    </tr>\n",
       "    <tr>\n",
       "      <th>7</th>\n",
       "      <td>EPSF_01666</td>\n",
       "      <td>25.17</td>\n",
       "      <td>27.55</td>\n",
       "    </tr>\n",
       "  </tbody>\n",
       "</table>\n",
       "</div>"
      ],
      "text/plain": [
       "          PIN  Total_time  Total_time_R\n",
       "0  EPRC_00032       25.73         27.20\n",
       "1  EPRC_00160       25.63         31.40\n",
       "2  EPRC_00179       21.40         27.92\n",
       "3  EPRC_00181       24.33         27.35\n",
       "4  EPRC_00380       24.33         27.92\n",
       "5  EPSF_00832       23.53         26.47\n",
       "6  EPSF_00944       34.43         34.08\n",
       "7  EPSF_01666       25.17         27.55"
      ]
     },
     "execution_count": 71,
     "metadata": {},
     "output_type": "execute_result"
    }
   ],
   "source": [
    "times"
   ]
  },
  {
   "cell_type": "code",
   "execution_count": 72,
   "metadata": {
    "id": "mfuZ4XcBDiTG"
   },
   "outputs": [],
   "source": [
    "#Differentiate the rows contain Composites\n",
    "comp =df[df['Inst'].str.contains(\"Composite\")]\n",
    "raw =df[~df['Inst'].str.contains(\"Composite\")]"
   ]
  },
  {
   "cell_type": "code",
   "execution_count": 73,
   "metadata": {
    "colab": {
     "base_uri": "https://localhost:8080/",
     "height": 510
    },
    "id": "a2U6puaP8P6R",
    "outputId": "87d7133d-d4ce-4f13-cb96-370e346f5db1"
   },
   "outputs": [
    {
     "data": {
      "text/html": [
       "<div>\n",
       "<style scoped>\n",
       "    .dataframe tbody tr th:only-of-type {\n",
       "        vertical-align: middle;\n",
       "    }\n",
       "\n",
       "    .dataframe tbody tr th {\n",
       "        vertical-align: top;\n",
       "    }\n",
       "\n",
       "    .dataframe thead th {\n",
       "        text-align: right;\n",
       "    }\n",
       "</style>\n",
       "<table border=\"1\" class=\"dataframe\">\n",
       "  <thead>\n",
       "    <tr style=\"text-align: right;\">\n",
       "      <th></th>\n",
       "      <th>PIN</th>\n",
       "      <th>Inst</th>\n",
       "      <th>RawScore</th>\n",
       "      <th>Theta</th>\n",
       "      <th>SE</th>\n",
       "      <th>ItmCnt</th>\n",
       "      <th>Computed Score</th>\n",
       "      <th>Uncorrected Standard Score</th>\n",
       "      <th>Age-Corrected Standard Score</th>\n",
       "      <th>National Percentile (age adjusted)</th>\n",
       "      <th>Fully-Corrected T-score</th>\n",
       "      <th>InstrumentBreakoff</th>\n",
       "      <th>InstrumentStatus2</th>\n",
       "    </tr>\n",
       "  </thead>\n",
       "  <tbody>\n",
       "    <tr>\n",
       "      <th>0</th>\n",
       "      <td>EPRC_00032</td>\n",
       "      <td>NIH Toolbox Picture Vocabulary Test Age 3+ v2.1</td>\n",
       "      <td>NaN</td>\n",
       "      <td>-2.411</td>\n",
       "      <td>0.475</td>\n",
       "      <td>20.0</td>\n",
       "      <td>NaN</td>\n",
       "      <td>71</td>\n",
       "      <td>95</td>\n",
       "      <td>36</td>\n",
       "      <td>36</td>\n",
       "      <td>2.0</td>\n",
       "      <td>3.0</td>\n",
       "    </tr>\n",
       "    <tr>\n",
       "      <th>1</th>\n",
       "      <td>EPRC_00032</td>\n",
       "      <td>NIH Toolbox Flanker Inhibitory Control and Att...</td>\n",
       "      <td>20.0</td>\n",
       "      <td>NaN</td>\n",
       "      <td>NaN</td>\n",
       "      <td>24.0</td>\n",
       "      <td>7.24</td>\n",
       "      <td>89</td>\n",
       "      <td>94</td>\n",
       "      <td>34</td>\n",
       "      <td>45</td>\n",
       "      <td>2.0</td>\n",
       "      <td>3.0</td>\n",
       "    </tr>\n",
       "    <tr>\n",
       "      <th>2</th>\n",
       "      <td>EPRC_00032</td>\n",
       "      <td>NIH Toolbox List Sorting Working Memory Test A...</td>\n",
       "      <td>16.0</td>\n",
       "      <td>NaN</td>\n",
       "      <td>NaN</td>\n",
       "      <td>15.0</td>\n",
       "      <td>NaN</td>\n",
       "      <td>97</td>\n",
       "      <td>108</td>\n",
       "      <td>69</td>\n",
       "      <td>48</td>\n",
       "      <td>2.0</td>\n",
       "      <td>3.0</td>\n",
       "    </tr>\n",
       "    <tr>\n",
       "      <th>3</th>\n",
       "      <td>EPRC_00032</td>\n",
       "      <td>NIH Toolbox Dimensional Change Card Sort Test ...</td>\n",
       "      <td>26.0</td>\n",
       "      <td>NaN</td>\n",
       "      <td>NaN</td>\n",
       "      <td>38.0</td>\n",
       "      <td>6.73</td>\n",
       "      <td>91</td>\n",
       "      <td>96</td>\n",
       "      <td>40</td>\n",
       "      <td>46</td>\n",
       "      <td>2.0</td>\n",
       "      <td>3.0</td>\n",
       "    </tr>\n",
       "    <tr>\n",
       "      <th>4</th>\n",
       "      <td>EPRC_00032</td>\n",
       "      <td>NIH Toolbox Pattern Comparison Processing Spee...</td>\n",
       "      <td>34.0</td>\n",
       "      <td>NaN</td>\n",
       "      <td>NaN</td>\n",
       "      <td>34.0</td>\n",
       "      <td>39.00</td>\n",
       "      <td>80</td>\n",
       "      <td>86</td>\n",
       "      <td>18</td>\n",
       "      <td>39</td>\n",
       "      <td>2.0</td>\n",
       "      <td>3.0</td>\n",
       "    </tr>\n",
       "  </tbody>\n",
       "</table>\n",
       "</div>"
      ],
      "text/plain": [
       "          PIN                                               Inst  RawScore  \\\n",
       "0  EPRC_00032    NIH Toolbox Picture Vocabulary Test Age 3+ v2.1       NaN   \n",
       "1  EPRC_00032  NIH Toolbox Flanker Inhibitory Control and Att...      20.0   \n",
       "2  EPRC_00032  NIH Toolbox List Sorting Working Memory Test A...      16.0   \n",
       "3  EPRC_00032  NIH Toolbox Dimensional Change Card Sort Test ...      26.0   \n",
       "4  EPRC_00032  NIH Toolbox Pattern Comparison Processing Spee...      34.0   \n",
       "\n",
       "   Theta     SE  ItmCnt  Computed Score  Uncorrected Standard Score  \\\n",
       "0 -2.411  0.475    20.0             NaN                          71   \n",
       "1    NaN    NaN    24.0            7.24                          89   \n",
       "2    NaN    NaN    15.0             NaN                          97   \n",
       "3    NaN    NaN    38.0            6.73                          91   \n",
       "4    NaN    NaN    34.0           39.00                          80   \n",
       "\n",
       "   Age-Corrected Standard Score  National Percentile (age adjusted)  \\\n",
       "0                            95                                  36   \n",
       "1                            94                                  34   \n",
       "2                           108                                  69   \n",
       "3                            96                                  40   \n",
       "4                            86                                  18   \n",
       "\n",
       "   Fully-Corrected T-score  InstrumentBreakoff  InstrumentStatus2  \n",
       "0                       36                 2.0                3.0  \n",
       "1                       45                 2.0                3.0  \n",
       "2                       48                 2.0                3.0  \n",
       "3                       46                 2.0                3.0  \n",
       "4                       39                 2.0                3.0  "
      ]
     },
     "execution_count": 73,
     "metadata": {},
     "output_type": "execute_result"
    }
   ],
   "source": [
    "raw=raw.dropna(axis=1, how='all')\n",
    "raw.head()"
   ]
  },
  {
   "cell_type": "code",
   "execution_count": 74,
   "metadata": {
    "colab": {
     "base_uri": "https://localhost:8080/",
     "height": 238
    },
    "id": "8kCxcBxu_Q-G",
    "outputId": "163b6e64-40b2-4bcb-af2a-f78891683c6f"
   },
   "outputs": [
    {
     "data": {
      "text/html": [
       "<div>\n",
       "<style scoped>\n",
       "    .dataframe tbody tr th:only-of-type {\n",
       "        vertical-align: middle;\n",
       "    }\n",
       "\n",
       "    .dataframe tbody tr th {\n",
       "        vertical-align: top;\n",
       "    }\n",
       "\n",
       "    .dataframe thead th {\n",
       "        text-align: right;\n",
       "    }\n",
       "</style>\n",
       "<table border=\"1\" class=\"dataframe\">\n",
       "  <thead>\n",
       "    <tr style=\"text-align: right;\">\n",
       "      <th></th>\n",
       "      <th>PIN</th>\n",
       "      <th>Inst</th>\n",
       "      <th>Uncorrected Standard Score</th>\n",
       "      <th>Age-Corrected Standard Score</th>\n",
       "      <th>National Percentile (age adjusted)</th>\n",
       "      <th>Fully-Corrected T-score</th>\n",
       "    </tr>\n",
       "  </thead>\n",
       "  <tbody>\n",
       "    <tr>\n",
       "      <th>7</th>\n",
       "      <td>EPRC_00032</td>\n",
       "      <td>Cognition Fluid Composite v1.1</td>\n",
       "      <td>93</td>\n",
       "      <td>103</td>\n",
       "      <td>59</td>\n",
       "      <td>48</td>\n",
       "    </tr>\n",
       "    <tr>\n",
       "      <th>8</th>\n",
       "      <td>EPRC_00032</td>\n",
       "      <td>Cognition Crystallized Composite v1.1</td>\n",
       "      <td>71</td>\n",
       "      <td>85</td>\n",
       "      <td>16</td>\n",
       "      <td>32</td>\n",
       "    </tr>\n",
       "    <tr>\n",
       "      <th>9</th>\n",
       "      <td>EPRC_00032</td>\n",
       "      <td>Cognition Total Composite Score v1.1</td>\n",
       "      <td>78</td>\n",
       "      <td>93</td>\n",
       "      <td>32</td>\n",
       "      <td>38</td>\n",
       "    </tr>\n",
       "    <tr>\n",
       "      <th>10</th>\n",
       "      <td>EPRC_00032</td>\n",
       "      <td>Cognition Early Childhood Composite v1.1</td>\n",
       "      <td>89</td>\n",
       "      <td>105</td>\n",
       "      <td>62</td>\n",
       "      <td>48</td>\n",
       "    </tr>\n",
       "    <tr>\n",
       "      <th>7</th>\n",
       "      <td>EPRC_00160</td>\n",
       "      <td>Cognition Fluid Composite v1.1</td>\n",
       "      <td>94</td>\n",
       "      <td>109</td>\n",
       "      <td>73</td>\n",
       "      <td>49</td>\n",
       "    </tr>\n",
       "  </tbody>\n",
       "</table>\n",
       "</div>"
      ],
      "text/plain": [
       "           PIN                                      Inst  \\\n",
       "7   EPRC_00032            Cognition Fluid Composite v1.1   \n",
       "8   EPRC_00032     Cognition Crystallized Composite v1.1   \n",
       "9   EPRC_00032      Cognition Total Composite Score v1.1   \n",
       "10  EPRC_00032  Cognition Early Childhood Composite v1.1   \n",
       "7   EPRC_00160            Cognition Fluid Composite v1.1   \n",
       "\n",
       "    Uncorrected Standard Score  Age-Corrected Standard Score  \\\n",
       "7                           93                           103   \n",
       "8                           71                            85   \n",
       "9                           78                            93   \n",
       "10                          89                           105   \n",
       "7                           94                           109   \n",
       "\n",
       "    National Percentile (age adjusted)  Fully-Corrected T-score  \n",
       "7                                   59                       48  \n",
       "8                                   16                       32  \n",
       "9                                   32                       38  \n",
       "10                                  62                       48  \n",
       "7                                   73                       49  "
      ]
     },
     "execution_count": 74,
     "metadata": {},
     "output_type": "execute_result"
    }
   ],
   "source": [
    "comp=comp.dropna(axis=1, how='all')\n",
    "comp.head()"
   ]
  },
  {
   "cell_type": "code",
   "execution_count": 75,
   "metadata": {
    "colab": {
     "base_uri": "https://localhost:8080/"
    },
    "id": "vKAwCqAMvx_Y",
    "outputId": "a8c05b7b-211d-41a7-b23a-3abb9c7818a9"
   },
   "outputs": [
    {
     "data": {
      "text/plain": [
       "array(['Cognition Fluid Composite v1.1',\n",
       "       'Cognition Crystallized Composite v1.1',\n",
       "       'Cognition Total Composite Score v1.1',\n",
       "       'Cognition Early Childhood Composite v1.1'], dtype=object)"
      ]
     },
     "execution_count": 75,
     "metadata": {},
     "output_type": "execute_result"
    }
   ],
   "source": [
    "comp.Inst.unique()"
   ]
  },
  {
   "cell_type": "code",
   "execution_count": 76,
   "metadata": {
    "id": "S8Zx8UGl87yb"
   },
   "outputs": [],
   "source": [
    "df['Mode'] ='In Person'"
   ]
  },
  {
   "cell_type": "code",
   "execution_count": 77,
   "metadata": {
    "id": "RY4vuD5yrnkW"
   },
   "outputs": [],
   "source": [
    "#  get all files from all Remote subdirectories\n",
    "\n",
    "all_files = glob.glob('C:/Users/TEMP/Box/Avera NIHTB Data/Rapid City/*/Remote/*CB_Scores_R.csv')\n",
    "\n",
    "doc =[]\n",
    "for file in all_files:\n",
    "  data = pd.read_csv(file)\n",
    "  doc.append(data)\n",
    "\n",
    "\n",
    "# get all files from all SF In_person subdirectories\n",
    "all_files = glob.glob('C:/Users/TEMP/Box/Avera NIHTB Data/Sioux Falls/*/Remote/*CB_Scores_R.csv')\n",
    "\n",
    "for file in all_files:\n",
    "  data = pd.read_csv(file)\n",
    "  doc.append(data)\n",
    "\n",
    "\n",
    "dfr = pd.concat(doc)"
   ]
  },
  {
   "cell_type": "code",
   "execution_count": 78,
   "metadata": {
    "colab": {
     "base_uri": "https://localhost:8080/"
    },
    "id": "605OUi3TrnkY",
    "outputId": "d03fc93f-d622-4f07-de45-53776e2ab2d6"
   },
   "outputs": [
    {
     "data": {
      "text/plain": [
       "(102, 28)"
      ]
     },
     "execution_count": 78,
     "metadata": {},
     "output_type": "execute_result"
    }
   ],
   "source": [
    "dfr.shape"
   ]
  },
  {
   "cell_type": "code",
   "execution_count": 79,
   "metadata": {
    "id": "LhE6D_sTrnkZ"
   },
   "outputs": [],
   "source": [
    "dfr['PIN'] = dfr['PIN'].str[7:17]"
   ]
  },
  {
   "cell_type": "code",
   "execution_count": 80,
   "metadata": {
    "id": "vLGCb_g_rnka"
   },
   "outputs": [],
   "source": [
    "dfr=dfr[keep]"
   ]
  },
  {
   "cell_type": "code",
   "execution_count": 81,
   "metadata": {
    "id": "XGF23MAQ2Dkw"
   },
   "outputs": [
    {
     "data": {
      "text/html": [
       "<div>\n",
       "<style scoped>\n",
       "    .dataframe tbody tr th:only-of-type {\n",
       "        vertical-align: middle;\n",
       "    }\n",
       "\n",
       "    .dataframe tbody tr th {\n",
       "        vertical-align: top;\n",
       "    }\n",
       "\n",
       "    .dataframe thead th {\n",
       "        text-align: right;\n",
       "    }\n",
       "</style>\n",
       "<table border=\"1\" class=\"dataframe\">\n",
       "  <thead>\n",
       "    <tr style=\"text-align: right;\">\n",
       "      <th></th>\n",
       "      <th>PIN</th>\n",
       "      <th>Inst</th>\n",
       "      <th>RawScore</th>\n",
       "      <th>Theta</th>\n",
       "      <th>SE</th>\n",
       "      <th>ItmCnt</th>\n",
       "      <th>Computed Score</th>\n",
       "      <th>Uncorrected Standard Score</th>\n",
       "      <th>Age-Corrected Standard Score</th>\n",
       "      <th>National Percentile (age adjusted)</th>\n",
       "      <th>Fully-Corrected T-score</th>\n",
       "      <th>InstrumentBreakoff</th>\n",
       "      <th>InstrumentStatus2</th>\n",
       "    </tr>\n",
       "  </thead>\n",
       "  <tbody>\n",
       "    <tr>\n",
       "      <th>0</th>\n",
       "      <td>EPRC_00032</td>\n",
       "      <td>NIH Toolbox Picture Vocabulary Test Age 3+ v2.1</td>\n",
       "      <td>NaN</td>\n",
       "      <td>-1.730</td>\n",
       "      <td>0.482</td>\n",
       "      <td>24.0</td>\n",
       "      <td>NaN</td>\n",
       "      <td>74.0</td>\n",
       "      <td>95.0</td>\n",
       "      <td>36.0</td>\n",
       "      <td>44.0</td>\n",
       "      <td>2.0</td>\n",
       "      <td>3.0</td>\n",
       "    </tr>\n",
       "    <tr>\n",
       "      <th>1</th>\n",
       "      <td>EPRC_00032</td>\n",
       "      <td>NIH Toolbox Oral Reading Recognition Test Age ...</td>\n",
       "      <td>NaN</td>\n",
       "      <td>-4.995</td>\n",
       "      <td>0.500</td>\n",
       "      <td>22.0</td>\n",
       "      <td>NaN</td>\n",
       "      <td>78.0</td>\n",
       "      <td>80.0</td>\n",
       "      <td>10.0</td>\n",
       "      <td>34.0</td>\n",
       "      <td>2.0</td>\n",
       "      <td>3.0</td>\n",
       "    </tr>\n",
       "    <tr>\n",
       "      <th>2</th>\n",
       "      <td>EPRC_00032</td>\n",
       "      <td>NIH Toolbox Pattern Comparison Processing Spee...</td>\n",
       "      <td>34.0</td>\n",
       "      <td>NaN</td>\n",
       "      <td>NaN</td>\n",
       "      <td>37.0</td>\n",
       "      <td>39.00</td>\n",
       "      <td>80.0</td>\n",
       "      <td>86.0</td>\n",
       "      <td>18.0</td>\n",
       "      <td>39.0</td>\n",
       "      <td>2.0</td>\n",
       "      <td>3.0</td>\n",
       "    </tr>\n",
       "    <tr>\n",
       "      <th>3</th>\n",
       "      <td>EPRC_00032</td>\n",
       "      <td>NIH Toolbox Picture Sequence Memory Test Age 8...</td>\n",
       "      <td>19.0</td>\n",
       "      <td>0.238</td>\n",
       "      <td>0.310</td>\n",
       "      <td>6.0</td>\n",
       "      <td>585.56</td>\n",
       "      <td>115.0</td>\n",
       "      <td>121.0</td>\n",
       "      <td>92.0</td>\n",
       "      <td>62.0</td>\n",
       "      <td>2.0</td>\n",
       "      <td>3.0</td>\n",
       "    </tr>\n",
       "    <tr>\n",
       "      <th>4</th>\n",
       "      <td>EPRC_00032</td>\n",
       "      <td>NIH Toolbox Flanker Inhibitory Control and Att...</td>\n",
       "      <td>20.0</td>\n",
       "      <td>NaN</td>\n",
       "      <td>NaN</td>\n",
       "      <td>24.0</td>\n",
       "      <td>6.79</td>\n",
       "      <td>85.0</td>\n",
       "      <td>83.0</td>\n",
       "      <td>13.0</td>\n",
       "      <td>38.0</td>\n",
       "      <td>2.0</td>\n",
       "      <td>3.0</td>\n",
       "    </tr>\n",
       "  </tbody>\n",
       "</table>\n",
       "</div>"
      ],
      "text/plain": [
       "          PIN                                               Inst  RawScore  \\\n",
       "0  EPRC_00032    NIH Toolbox Picture Vocabulary Test Age 3+ v2.1       NaN   \n",
       "1  EPRC_00032  NIH Toolbox Oral Reading Recognition Test Age ...       NaN   \n",
       "2  EPRC_00032  NIH Toolbox Pattern Comparison Processing Spee...      34.0   \n",
       "3  EPRC_00032  NIH Toolbox Picture Sequence Memory Test Age 8...      19.0   \n",
       "4  EPRC_00032  NIH Toolbox Flanker Inhibitory Control and Att...      20.0   \n",
       "\n",
       "   Theta     SE  ItmCnt  Computed Score  Uncorrected Standard Score  \\\n",
       "0 -1.730  0.482    24.0             NaN                        74.0   \n",
       "1 -4.995  0.500    22.0             NaN                        78.0   \n",
       "2    NaN    NaN    37.0           39.00                        80.0   \n",
       "3  0.238  0.310     6.0          585.56                       115.0   \n",
       "4    NaN    NaN    24.0            6.79                        85.0   \n",
       "\n",
       "   Age-Corrected Standard Score  National Percentile (age adjusted)  \\\n",
       "0                          95.0                                36.0   \n",
       "1                          80.0                                10.0   \n",
       "2                          86.0                                18.0   \n",
       "3                         121.0                                92.0   \n",
       "4                          83.0                                13.0   \n",
       "\n",
       "   Fully-Corrected T-score  InstrumentBreakoff  InstrumentStatus2  \n",
       "0                     44.0                 2.0                3.0  \n",
       "1                     34.0                 2.0                3.0  \n",
       "2                     39.0                 2.0                3.0  \n",
       "3                     62.0                 2.0                3.0  \n",
       "4                     38.0                 2.0                3.0  "
      ]
     },
     "execution_count": 81,
     "metadata": {},
     "output_type": "execute_result"
    }
   ],
   "source": [
    "dfr.head()"
   ]
  },
  {
   "cell_type": "code",
   "execution_count": 82,
   "metadata": {
    "id": "UFn7rcBbrnka"
   },
   "outputs": [],
   "source": [
    "#Differentiate the rows contain Composites\n",
    "comp_r =dfr[dfr['Inst'].str.contains(\"Composite\")]\n",
    "raw_r =dfr[~dfr['Inst'].str.contains(\"Composite\")]"
   ]
  },
  {
   "cell_type": "code",
   "execution_count": 83,
   "metadata": {
    "colab": {
     "base_uri": "https://localhost:8080/",
     "height": 544
    },
    "id": "uW-VGWOhrnkb",
    "outputId": "80edfe92-5e8e-422b-a4fd-49cdbe01e892"
   },
   "outputs": [
    {
     "data": {
      "text/html": [
       "<div>\n",
       "<style scoped>\n",
       "    .dataframe tbody tr th:only-of-type {\n",
       "        vertical-align: middle;\n",
       "    }\n",
       "\n",
       "    .dataframe tbody tr th {\n",
       "        vertical-align: top;\n",
       "    }\n",
       "\n",
       "    .dataframe thead th {\n",
       "        text-align: right;\n",
       "    }\n",
       "</style>\n",
       "<table border=\"1\" class=\"dataframe\">\n",
       "  <thead>\n",
       "    <tr style=\"text-align: right;\">\n",
       "      <th></th>\n",
       "      <th>PIN</th>\n",
       "      <th>Inst</th>\n",
       "      <th>RawScore</th>\n",
       "      <th>Theta</th>\n",
       "      <th>SE</th>\n",
       "      <th>ItmCnt</th>\n",
       "      <th>Computed Score</th>\n",
       "      <th>Uncorrected Standard Score</th>\n",
       "      <th>Age-Corrected Standard Score</th>\n",
       "      <th>National Percentile (age adjusted)</th>\n",
       "      <th>Fully-Corrected T-score</th>\n",
       "      <th>InstrumentBreakoff</th>\n",
       "      <th>InstrumentStatus2</th>\n",
       "    </tr>\n",
       "  </thead>\n",
       "  <tbody>\n",
       "    <tr>\n",
       "      <th>0</th>\n",
       "      <td>EPRC_00032</td>\n",
       "      <td>NIH Toolbox Picture Vocabulary Test Age 3+ v2.1</td>\n",
       "      <td>NaN</td>\n",
       "      <td>-1.730</td>\n",
       "      <td>0.482</td>\n",
       "      <td>24.0</td>\n",
       "      <td>NaN</td>\n",
       "      <td>74.0</td>\n",
       "      <td>95.0</td>\n",
       "      <td>36.0</td>\n",
       "      <td>44.0</td>\n",
       "      <td>2.0</td>\n",
       "      <td>3.0</td>\n",
       "    </tr>\n",
       "    <tr>\n",
       "      <th>1</th>\n",
       "      <td>EPRC_00032</td>\n",
       "      <td>NIH Toolbox Oral Reading Recognition Test Age ...</td>\n",
       "      <td>NaN</td>\n",
       "      <td>-4.995</td>\n",
       "      <td>0.500</td>\n",
       "      <td>22.0</td>\n",
       "      <td>NaN</td>\n",
       "      <td>78.0</td>\n",
       "      <td>80.0</td>\n",
       "      <td>10.0</td>\n",
       "      <td>34.0</td>\n",
       "      <td>2.0</td>\n",
       "      <td>3.0</td>\n",
       "    </tr>\n",
       "    <tr>\n",
       "      <th>2</th>\n",
       "      <td>EPRC_00032</td>\n",
       "      <td>NIH Toolbox Pattern Comparison Processing Spee...</td>\n",
       "      <td>34.0</td>\n",
       "      <td>NaN</td>\n",
       "      <td>NaN</td>\n",
       "      <td>37.0</td>\n",
       "      <td>39.00</td>\n",
       "      <td>80.0</td>\n",
       "      <td>86.0</td>\n",
       "      <td>18.0</td>\n",
       "      <td>39.0</td>\n",
       "      <td>2.0</td>\n",
       "      <td>3.0</td>\n",
       "    </tr>\n",
       "    <tr>\n",
       "      <th>3</th>\n",
       "      <td>EPRC_00032</td>\n",
       "      <td>NIH Toolbox Picture Sequence Memory Test Age 8...</td>\n",
       "      <td>19.0</td>\n",
       "      <td>0.238</td>\n",
       "      <td>0.310</td>\n",
       "      <td>6.0</td>\n",
       "      <td>585.56</td>\n",
       "      <td>115.0</td>\n",
       "      <td>121.0</td>\n",
       "      <td>92.0</td>\n",
       "      <td>62.0</td>\n",
       "      <td>2.0</td>\n",
       "      <td>3.0</td>\n",
       "    </tr>\n",
       "    <tr>\n",
       "      <th>4</th>\n",
       "      <td>EPRC_00032</td>\n",
       "      <td>NIH Toolbox Flanker Inhibitory Control and Att...</td>\n",
       "      <td>20.0</td>\n",
       "      <td>NaN</td>\n",
       "      <td>NaN</td>\n",
       "      <td>24.0</td>\n",
       "      <td>6.79</td>\n",
       "      <td>85.0</td>\n",
       "      <td>83.0</td>\n",
       "      <td>13.0</td>\n",
       "      <td>38.0</td>\n",
       "      <td>2.0</td>\n",
       "      <td>3.0</td>\n",
       "    </tr>\n",
       "  </tbody>\n",
       "</table>\n",
       "</div>"
      ],
      "text/plain": [
       "          PIN                                               Inst  RawScore  \\\n",
       "0  EPRC_00032    NIH Toolbox Picture Vocabulary Test Age 3+ v2.1       NaN   \n",
       "1  EPRC_00032  NIH Toolbox Oral Reading Recognition Test Age ...       NaN   \n",
       "2  EPRC_00032  NIH Toolbox Pattern Comparison Processing Spee...      34.0   \n",
       "3  EPRC_00032  NIH Toolbox Picture Sequence Memory Test Age 8...      19.0   \n",
       "4  EPRC_00032  NIH Toolbox Flanker Inhibitory Control and Att...      20.0   \n",
       "\n",
       "   Theta     SE  ItmCnt  Computed Score  Uncorrected Standard Score  \\\n",
       "0 -1.730  0.482    24.0             NaN                        74.0   \n",
       "1 -4.995  0.500    22.0             NaN                        78.0   \n",
       "2    NaN    NaN    37.0           39.00                        80.0   \n",
       "3  0.238  0.310     6.0          585.56                       115.0   \n",
       "4    NaN    NaN    24.0            6.79                        85.0   \n",
       "\n",
       "   Age-Corrected Standard Score  National Percentile (age adjusted)  \\\n",
       "0                          95.0                                36.0   \n",
       "1                          80.0                                10.0   \n",
       "2                          86.0                                18.0   \n",
       "3                         121.0                                92.0   \n",
       "4                          83.0                                13.0   \n",
       "\n",
       "   Fully-Corrected T-score  InstrumentBreakoff  InstrumentStatus2  \n",
       "0                     44.0                 2.0                3.0  \n",
       "1                     34.0                 2.0                3.0  \n",
       "2                     39.0                 2.0                3.0  \n",
       "3                     62.0                 2.0                3.0  \n",
       "4                     38.0                 2.0                3.0  "
      ]
     },
     "execution_count": 83,
     "metadata": {},
     "output_type": "execute_result"
    }
   ],
   "source": [
    "raw_r=raw_r.dropna(axis=1, how='all')\n",
    "raw_r.head()"
   ]
  },
  {
   "cell_type": "code",
   "execution_count": 84,
   "metadata": {
    "colab": {
     "base_uri": "https://localhost:8080/",
     "height": 306
    },
    "id": "jcCNLKaLrnkb",
    "outputId": "fef02920-ad59-4b50-9354-4e64e058321d"
   },
   "outputs": [
    {
     "data": {
      "text/html": [
       "<div>\n",
       "<style scoped>\n",
       "    .dataframe tbody tr th:only-of-type {\n",
       "        vertical-align: middle;\n",
       "    }\n",
       "\n",
       "    .dataframe tbody tr th {\n",
       "        vertical-align: top;\n",
       "    }\n",
       "\n",
       "    .dataframe thead th {\n",
       "        text-align: right;\n",
       "    }\n",
       "</style>\n",
       "<table border=\"1\" class=\"dataframe\">\n",
       "  <thead>\n",
       "    <tr style=\"text-align: right;\">\n",
       "      <th></th>\n",
       "      <th>PIN</th>\n",
       "      <th>Inst</th>\n",
       "      <th>Uncorrected Standard Score</th>\n",
       "      <th>Age-Corrected Standard Score</th>\n",
       "      <th>National Percentile (age adjusted)</th>\n",
       "      <th>Fully-Corrected T-score</th>\n",
       "    </tr>\n",
       "  </thead>\n",
       "  <tbody>\n",
       "    <tr>\n",
       "      <th>6</th>\n",
       "      <td>EPRC_00032</td>\n",
       "      <td>Cognition Crystallized Composite v1.1</td>\n",
       "      <td>74.0</td>\n",
       "      <td>85.0</td>\n",
       "      <td>16.0</td>\n",
       "      <td>38.0</td>\n",
       "    </tr>\n",
       "    <tr>\n",
       "      <th>7</th>\n",
       "      <td>EPRC_00032</td>\n",
       "      <td>Cognition Early Childhood Composite v1.1</td>\n",
       "      <td>85.0</td>\n",
       "      <td>98.0</td>\n",
       "      <td>44.0</td>\n",
       "      <td>43.0</td>\n",
       "    </tr>\n",
       "    <tr>\n",
       "      <th>6</th>\n",
       "      <td>EPRC_00160</td>\n",
       "      <td>Cognition Crystallized Composite v1.1</td>\n",
       "      <td>83.0</td>\n",
       "      <td>106.0</td>\n",
       "      <td>66.0</td>\n",
       "      <td>51.0</td>\n",
       "    </tr>\n",
       "    <tr>\n",
       "      <th>7</th>\n",
       "      <td>EPRC_00160</td>\n",
       "      <td>Cognition Early Childhood Composite v1.1</td>\n",
       "      <td>79.0</td>\n",
       "      <td>92.0</td>\n",
       "      <td>29.0</td>\n",
       "      <td>42.0</td>\n",
       "    </tr>\n",
       "    <tr>\n",
       "      <th>6</th>\n",
       "      <td>EPRC_00173</td>\n",
       "      <td>Cognition Crystallized Composite v1.1</td>\n",
       "      <td>63.0</td>\n",
       "      <td>72.0</td>\n",
       "      <td>3.0</td>\n",
       "      <td>39.0</td>\n",
       "    </tr>\n",
       "  </tbody>\n",
       "</table>\n",
       "</div>"
      ],
      "text/plain": [
       "          PIN                                      Inst  \\\n",
       "6  EPRC_00032     Cognition Crystallized Composite v1.1   \n",
       "7  EPRC_00032  Cognition Early Childhood Composite v1.1   \n",
       "6  EPRC_00160     Cognition Crystallized Composite v1.1   \n",
       "7  EPRC_00160  Cognition Early Childhood Composite v1.1   \n",
       "6  EPRC_00173     Cognition Crystallized Composite v1.1   \n",
       "\n",
       "   Uncorrected Standard Score  Age-Corrected Standard Score  \\\n",
       "6                        74.0                          85.0   \n",
       "7                        85.0                          98.0   \n",
       "6                        83.0                         106.0   \n",
       "7                        79.0                          92.0   \n",
       "6                        63.0                          72.0   \n",
       "\n",
       "   National Percentile (age adjusted)  Fully-Corrected T-score  \n",
       "6                                16.0                     38.0  \n",
       "7                                44.0                     43.0  \n",
       "6                                66.0                     51.0  \n",
       "7                                29.0                     42.0  \n",
       "6                                 3.0                     39.0  "
      ]
     },
     "execution_count": 84,
     "metadata": {},
     "output_type": "execute_result"
    }
   ],
   "source": [
    "comp_r=comp_r.dropna(axis=1, how='all')\n",
    "comp_r.head()"
   ]
  },
  {
   "cell_type": "code",
   "execution_count": 85,
   "metadata": {
    "id": "gkOBy6TrUUCI"
   },
   "outputs": [],
   "source": [
    "comp['Mode'] = 'In Person'\n",
    "comp_r['Mode'] = 'Remote'\n",
    "boxp = pd.concat([comp,comp_r]) "
   ]
  },
  {
   "cell_type": "code",
   "execution_count": 86,
   "metadata": {
    "id": "vWHUmcRXWkAf"
   },
   "outputs": [],
   "source": [
    "comp_r=comp_r.drop(columns='Mode')"
   ]
  },
  {
   "cell_type": "code",
   "execution_count": 87,
   "metadata": {
    "id": "Q3OGmLOLWuE0"
   },
   "outputs": [],
   "source": [
    "comp=comp.drop(columns='Mode')"
   ]
  },
  {
   "cell_type": "code",
   "execution_count": 88,
   "metadata": {
    "id": "LcBmTt4fsJjP"
   },
   "outputs": [],
   "source": [
    "comp_r.columns =['PIN', 'Inst', 'Uncorrected Standard Score_r',\n",
    "       'Age-Corrected Standard Score_r', 'National Percentile (age adjusted)_r',\n",
    "       'Fully-Corrected T-score_r']"
   ]
  },
  {
   "cell_type": "code",
   "execution_count": 89,
   "metadata": {
    "id": "KWVTLHvJ1_RR"
   },
   "outputs": [],
   "source": [
    "dfr['Mode'] = 'Remote'"
   ]
  },
  {
   "cell_type": "code",
   "execution_count": 90,
   "metadata": {
    "id": "3X571ZspAkBI"
   },
   "outputs": [],
   "source": [
    "scores = pd.merge(comp, comp_r, on=[\"PIN\",'Inst'])"
   ]
  },
  {
   "cell_type": "code",
   "execution_count": 91,
   "metadata": {
    "colab": {
     "base_uri": "https://localhost:8080/"
    },
    "id": "FFoV_Dz_AsY7",
    "outputId": "46ad728f-0846-4b6b-8273-698191e9bc14"
   },
   "outputs": [
    {
     "data": {
      "text/plain": [
       "(16, 10)"
      ]
     },
     "execution_count": 91,
     "metadata": {},
     "output_type": "execute_result"
    }
   ],
   "source": [
    "scores.shape"
   ]
  },
  {
   "cell_type": "markdown",
   "metadata": {
    "id": "hhY6lrFT-q6a"
   },
   "source": [
    "# a.\tA matched t-test for those who have both in-person and remote "
   ]
  },
  {
   "cell_type": "code",
   "execution_count": 92,
   "metadata": {
    "colab": {
     "base_uri": "https://localhost:8080/"
    },
    "id": "IHj0uE4ywffo",
    "outputId": "c15665d2-66ba-4671-ae6e-d180fb46e982"
   },
   "outputs": [
    {
     "data": {
      "text/plain": [
       "array(['Cognition Crystallized Composite v1.1',\n",
       "       'Cognition Early Childhood Composite v1.1'], dtype=object)"
      ]
     },
     "execution_count": 92,
     "metadata": {},
     "output_type": "execute_result"
    }
   ],
   "source": [
    "#For matched ones there are only two composite\n",
    "scores.Inst.unique()"
   ]
  },
  {
   "cell_type": "code",
   "execution_count": 93,
   "metadata": {
    "id": "CybyaF1OusWp"
   },
   "outputs": [],
   "source": [
    "#Differentiate the rows contain Composites\n",
    "ccc =scores[scores['Inst'].str.contains('Cognition Crystallized Composite')]\n",
    "cecc =scores[scores['Inst'].str.contains('Cognition Early Childhood Composite')]"
   ]
  },
  {
   "cell_type": "code",
   "execution_count": 94,
   "metadata": {
    "id": "mT6jO2JX9XYa"
   },
   "outputs": [],
   "source": [
    "keep1=['PIN', 'Inst', \n",
    "       'Age-Corrected Standard Score', \n",
    "       'Fully-Corrected T-score',\n",
    "       'Age-Corrected Standard Score_r',\n",
    "   'Fully-Corrected T-score_r']"
   ]
  },
  {
   "cell_type": "code",
   "execution_count": 95,
   "metadata": {
    "colab": {
     "base_uri": "https://localhost:8080/",
     "height": 306
    },
    "id": "QXg6kc4hGoyc",
    "outputId": "4f27cfa1-7800-400e-a2b1-b652e4b49511"
   },
   "outputs": [
    {
     "data": {
      "text/html": [
       "<div>\n",
       "<style scoped>\n",
       "    .dataframe tbody tr th:only-of-type {\n",
       "        vertical-align: middle;\n",
       "    }\n",
       "\n",
       "    .dataframe tbody tr th {\n",
       "        vertical-align: top;\n",
       "    }\n",
       "\n",
       "    .dataframe thead th {\n",
       "        text-align: right;\n",
       "    }\n",
       "</style>\n",
       "<table border=\"1\" class=\"dataframe\">\n",
       "  <thead>\n",
       "    <tr style=\"text-align: right;\">\n",
       "      <th></th>\n",
       "      <th>PIN</th>\n",
       "      <th>Inst</th>\n",
       "      <th>Age-Corrected Standard Score</th>\n",
       "      <th>Fully-Corrected T-score</th>\n",
       "      <th>Age-Corrected Standard Score_r</th>\n",
       "      <th>Fully-Corrected T-score_r</th>\n",
       "    </tr>\n",
       "  </thead>\n",
       "  <tbody>\n",
       "    <tr>\n",
       "      <th>0</th>\n",
       "      <td>EPRC_00032</td>\n",
       "      <td>Cognition Crystallized Composite v1.1</td>\n",
       "      <td>85</td>\n",
       "      <td>32</td>\n",
       "      <td>85.0</td>\n",
       "      <td>38.0</td>\n",
       "    </tr>\n",
       "    <tr>\n",
       "      <th>2</th>\n",
       "      <td>EPRC_00160</td>\n",
       "      <td>Cognition Crystallized Composite v1.1</td>\n",
       "      <td>99</td>\n",
       "      <td>42</td>\n",
       "      <td>106.0</td>\n",
       "      <td>51.0</td>\n",
       "    </tr>\n",
       "    <tr>\n",
       "      <th>4</th>\n",
       "      <td>EPRC_00173</td>\n",
       "      <td>Cognition Crystallized Composite v1.1</td>\n",
       "      <td>85</td>\n",
       "      <td>45</td>\n",
       "      <td>72.0</td>\n",
       "      <td>39.0</td>\n",
       "    </tr>\n",
       "    <tr>\n",
       "      <th>5</th>\n",
       "      <td>EPRC_00179</td>\n",
       "      <td>Cognition Crystallized Composite v1.1</td>\n",
       "      <td>106</td>\n",
       "      <td>55</td>\n",
       "      <td>113.0</td>\n",
       "      <td>54.0</td>\n",
       "    </tr>\n",
       "    <tr>\n",
       "      <th>6</th>\n",
       "      <td>EPRC_00181</td>\n",
       "      <td>Cognition Crystallized Composite v1.1</td>\n",
       "      <td>100</td>\n",
       "      <td>46</td>\n",
       "      <td>100.0</td>\n",
       "      <td>37.0</td>\n",
       "    </tr>\n",
       "    <tr>\n",
       "      <th>8</th>\n",
       "      <td>EPSF_00944</td>\n",
       "      <td>Cognition Crystallized Composite v1.1</td>\n",
       "      <td>85</td>\n",
       "      <td>42</td>\n",
       "      <td>92.0</td>\n",
       "      <td>47.0</td>\n",
       "    </tr>\n",
       "    <tr>\n",
       "      <th>9</th>\n",
       "      <td>EPSF_00944</td>\n",
       "      <td>Cognition Crystallized Composite v1.1</td>\n",
       "      <td>99</td>\n",
       "      <td>48</td>\n",
       "      <td>92.0</td>\n",
       "      <td>47.0</td>\n",
       "    </tr>\n",
       "    <tr>\n",
       "      <th>10</th>\n",
       "      <td>EPSF_00944</td>\n",
       "      <td>Cognition Crystallized Composite v1.1</td>\n",
       "      <td>92</td>\n",
       "      <td>47</td>\n",
       "      <td>92.0</td>\n",
       "      <td>47.0</td>\n",
       "    </tr>\n",
       "    <tr>\n",
       "      <th>14</th>\n",
       "      <td>EPSF_00832</td>\n",
       "      <td>Cognition Crystallized Composite v1.1</td>\n",
       "      <td>120</td>\n",
       "      <td>64</td>\n",
       "      <td>113.0</td>\n",
       "      <td>59.0</td>\n",
       "    </tr>\n",
       "  </tbody>\n",
       "</table>\n",
       "</div>"
      ],
      "text/plain": [
       "           PIN                                   Inst  \\\n",
       "0   EPRC_00032  Cognition Crystallized Composite v1.1   \n",
       "2   EPRC_00160  Cognition Crystallized Composite v1.1   \n",
       "4   EPRC_00173  Cognition Crystallized Composite v1.1   \n",
       "5   EPRC_00179  Cognition Crystallized Composite v1.1   \n",
       "6   EPRC_00181  Cognition Crystallized Composite v1.1   \n",
       "8   EPSF_00944  Cognition Crystallized Composite v1.1   \n",
       "9   EPSF_00944  Cognition Crystallized Composite v1.1   \n",
       "10  EPSF_00944  Cognition Crystallized Composite v1.1   \n",
       "14  EPSF_00832  Cognition Crystallized Composite v1.1   \n",
       "\n",
       "    Age-Corrected Standard Score  Fully-Corrected T-score  \\\n",
       "0                             85                       32   \n",
       "2                             99                       42   \n",
       "4                             85                       45   \n",
       "5                            106                       55   \n",
       "6                            100                       46   \n",
       "8                             85                       42   \n",
       "9                             99                       48   \n",
       "10                            92                       47   \n",
       "14                           120                       64   \n",
       "\n",
       "    Age-Corrected Standard Score_r  Fully-Corrected T-score_r  \n",
       "0                             85.0                       38.0  \n",
       "2                            106.0                       51.0  \n",
       "4                             72.0                       39.0  \n",
       "5                            113.0                       54.0  \n",
       "6                            100.0                       37.0  \n",
       "8                             92.0                       47.0  \n",
       "9                             92.0                       47.0  \n",
       "10                            92.0                       47.0  \n",
       "14                           113.0                       59.0  "
      ]
     },
     "execution_count": 95,
     "metadata": {},
     "output_type": "execute_result"
    }
   ],
   "source": [
    "ccc[keep1]"
   ]
  },
  {
   "cell_type": "code",
   "execution_count": 96,
   "metadata": {
    "colab": {
     "base_uri": "https://localhost:8080/",
     "height": 210
    },
    "id": "WoYpufFOGcm_",
    "outputId": "5b647276-5143-4454-b23c-872f162d9fdc"
   },
   "outputs": [
    {
     "data": {
      "text/html": [
       "<div>\n",
       "<style scoped>\n",
       "    .dataframe tbody tr th:only-of-type {\n",
       "        vertical-align: middle;\n",
       "    }\n",
       "\n",
       "    .dataframe tbody tr th {\n",
       "        vertical-align: top;\n",
       "    }\n",
       "\n",
       "    .dataframe thead th {\n",
       "        text-align: right;\n",
       "    }\n",
       "</style>\n",
       "<table border=\"1\" class=\"dataframe\">\n",
       "  <thead>\n",
       "    <tr style=\"text-align: right;\">\n",
       "      <th></th>\n",
       "      <th>PIN</th>\n",
       "      <th>Inst</th>\n",
       "      <th>Age-Corrected Standard Score</th>\n",
       "      <th>Fully-Corrected T-score</th>\n",
       "      <th>Age-Corrected Standard Score_r</th>\n",
       "      <th>Fully-Corrected T-score_r</th>\n",
       "    </tr>\n",
       "  </thead>\n",
       "  <tbody>\n",
       "    <tr>\n",
       "      <th>1</th>\n",
       "      <td>EPRC_00032</td>\n",
       "      <td>Cognition Early Childhood Composite v1.1</td>\n",
       "      <td>105</td>\n",
       "      <td>48</td>\n",
       "      <td>98.0</td>\n",
       "      <td>43.0</td>\n",
       "    </tr>\n",
       "    <tr>\n",
       "      <th>3</th>\n",
       "      <td>EPRC_00160</td>\n",
       "      <td>Cognition Early Childhood Composite v1.1</td>\n",
       "      <td>106</td>\n",
       "      <td>43</td>\n",
       "      <td>92.0</td>\n",
       "      <td>42.0</td>\n",
       "    </tr>\n",
       "    <tr>\n",
       "      <th>7</th>\n",
       "      <td>EPRC_00181</td>\n",
       "      <td>Cognition Early Childhood Composite v1.1</td>\n",
       "      <td>87</td>\n",
       "      <td>36</td>\n",
       "      <td>89.0</td>\n",
       "      <td>34.0</td>\n",
       "    </tr>\n",
       "    <tr>\n",
       "      <th>11</th>\n",
       "      <td>EPSF_00944</td>\n",
       "      <td>Cognition Early Childhood Composite v1.1</td>\n",
       "      <td>94</td>\n",
       "      <td>44</td>\n",
       "      <td>89.0</td>\n",
       "      <td>39.0</td>\n",
       "    </tr>\n",
       "    <tr>\n",
       "      <th>12</th>\n",
       "      <td>EPSF_00944</td>\n",
       "      <td>Cognition Early Childhood Composite v1.1</td>\n",
       "      <td>105</td>\n",
       "      <td>51</td>\n",
       "      <td>89.0</td>\n",
       "      <td>39.0</td>\n",
       "    </tr>\n",
       "    <tr>\n",
       "      <th>13</th>\n",
       "      <td>EPSF_00944</td>\n",
       "      <td>Cognition Early Childhood Composite v1.1</td>\n",
       "      <td>99</td>\n",
       "      <td>49</td>\n",
       "      <td>89.0</td>\n",
       "      <td>39.0</td>\n",
       "    </tr>\n",
       "    <tr>\n",
       "      <th>15</th>\n",
       "      <td>EPSF_00832</td>\n",
       "      <td>Cognition Early Childhood Composite v1.1</td>\n",
       "      <td>107</td>\n",
       "      <td>52</td>\n",
       "      <td>102.0</td>\n",
       "      <td>48.0</td>\n",
       "    </tr>\n",
       "  </tbody>\n",
       "</table>\n",
       "</div>"
      ],
      "text/plain": [
       "           PIN                                      Inst  \\\n",
       "1   EPRC_00032  Cognition Early Childhood Composite v1.1   \n",
       "3   EPRC_00160  Cognition Early Childhood Composite v1.1   \n",
       "7   EPRC_00181  Cognition Early Childhood Composite v1.1   \n",
       "11  EPSF_00944  Cognition Early Childhood Composite v1.1   \n",
       "12  EPSF_00944  Cognition Early Childhood Composite v1.1   \n",
       "13  EPSF_00944  Cognition Early Childhood Composite v1.1   \n",
       "15  EPSF_00832  Cognition Early Childhood Composite v1.1   \n",
       "\n",
       "    Age-Corrected Standard Score  Fully-Corrected T-score  \\\n",
       "1                            105                       48   \n",
       "3                            106                       43   \n",
       "7                             87                       36   \n",
       "11                            94                       44   \n",
       "12                           105                       51   \n",
       "13                            99                       49   \n",
       "15                           107                       52   \n",
       "\n",
       "    Age-Corrected Standard Score_r  Fully-Corrected T-score_r  \n",
       "1                             98.0                       43.0  \n",
       "3                             92.0                       42.0  \n",
       "7                             89.0                       34.0  \n",
       "11                            89.0                       39.0  \n",
       "12                            89.0                       39.0  \n",
       "13                            89.0                       39.0  \n",
       "15                           102.0                       48.0  "
      ]
     },
     "execution_count": 96,
     "metadata": {},
     "output_type": "execute_result"
    }
   ],
   "source": [
    "cecc[keep1]"
   ]
  },
  {
   "cell_type": "code",
   "execution_count": 97,
   "metadata": {
    "colab": {
     "base_uri": "https://localhost:8080/"
    },
    "id": "EnbpBRLd-wLH",
    "outputId": "1cbbbe1b-be3c-4846-8102-87056113bf65"
   },
   "outputs": [
    {
     "name": "stdout",
     "output_type": "stream",
     "text": [
      "t-statistic =  0.113 pvalue = 0.9118\n"
     ]
    }
   ],
   "source": [
    "#Cognition Crystallized Composite \n",
    "print('t-statistic = %6.3f pvalue = %6.4f' %  stats.ttest_ind(ccc['Age-Corrected Standard Score'], ccc['Age-Corrected Standard Score_r'], equal_var = False))"
   ]
  },
  {
   "cell_type": "code",
   "execution_count": 98,
   "metadata": {
    "colab": {
     "base_uri": "https://localhost:8080/"
    },
    "id": "XjxOCbbgyLn1",
    "outputId": "f22a98bd-7515-42db-8a3b-2cd89048ca14"
   },
   "outputs": [
    {
     "name": "stdout",
     "output_type": "stream",
     "text": [
      "t-statistic =  2.256 pvalue = 0.0458\n"
     ]
    }
   ],
   "source": [
    "print('t-statistic = %6.3f pvalue = %6.4f' % stats.ttest_ind(cecc['Age-Corrected Standard Score'], cecc['Age-Corrected Standard Score_r'], equal_var = False))"
   ]
  },
  {
   "cell_type": "code",
   "execution_count": 99,
   "metadata": {
    "colab": {
     "base_uri": "https://localhost:8080/"
    },
    "id": "oi9GBdQA_FBh",
    "outputId": "7a9f4eea-6117-4d1b-d942-c2d730544bda"
   },
   "outputs": [
    {
     "name": "stdout",
     "output_type": "stream",
     "text": [
      "t-statistic =  0.057 pvalue = 0.9551\n"
     ]
    }
   ],
   "source": [
    "print('t-statistic = %6.3f pvalue = %6.4f' % stats.ttest_ind(ccc['Fully-Corrected T-score'], ccc['Fully-Corrected T-score_r'], equal_var = False))"
   ]
  },
  {
   "cell_type": "code",
   "execution_count": 100,
   "metadata": {
    "colab": {
     "base_uri": "https://localhost:8080/"
    },
    "id": "-3HH-Rk0yQnZ",
    "outputId": "edef0b91-c11c-4961-f36d-e7cdeafbcfa9"
   },
   "outputs": [
    {
     "name": "stdout",
     "output_type": "stream",
     "text": [
      "t-statistic =  2.083 pvalue = 0.0607\n"
     ]
    }
   ],
   "source": [
    "print('t-statistic = %6.3f pvalue = %6.4f' %  stats.ttest_ind(cecc['Fully-Corrected T-score'], cecc['Fully-Corrected T-score_r'], equal_var = False))"
   ]
  },
  {
   "cell_type": "code",
   "execution_count": 101,
   "metadata": {
    "colab": {
     "base_uri": "https://localhost:8080/",
     "height": 204
    },
    "id": "0ozVVZZoUv7u",
    "outputId": "e489a9a5-0d45-4da8-c6c5-74adcaac2314"
   },
   "outputs": [
    {
     "data": {
      "text/html": [
       "<div>\n",
       "<style scoped>\n",
       "    .dataframe tbody tr th:only-of-type {\n",
       "        vertical-align: middle;\n",
       "    }\n",
       "\n",
       "    .dataframe tbody tr th {\n",
       "        vertical-align: top;\n",
       "    }\n",
       "\n",
       "    .dataframe thead th {\n",
       "        text-align: right;\n",
       "    }\n",
       "</style>\n",
       "<table border=\"1\" class=\"dataframe\">\n",
       "  <thead>\n",
       "    <tr style=\"text-align: right;\">\n",
       "      <th></th>\n",
       "      <th>PIN</th>\n",
       "      <th>Inst</th>\n",
       "      <th>Uncorrected Standard Score</th>\n",
       "      <th>Age-Corrected Standard Score</th>\n",
       "      <th>National Percentile (age adjusted)</th>\n",
       "      <th>Fully-Corrected T-score</th>\n",
       "      <th>Mode</th>\n",
       "    </tr>\n",
       "  </thead>\n",
       "  <tbody>\n",
       "    <tr>\n",
       "      <th>7</th>\n",
       "      <td>EPSF_00944</td>\n",
       "      <td>Cognition Early Childhood Composite v1.1</td>\n",
       "      <td>77.0</td>\n",
       "      <td>89.0</td>\n",
       "      <td>24.0</td>\n",
       "      <td>39.0</td>\n",
       "      <td>Remote</td>\n",
       "    </tr>\n",
       "    <tr>\n",
       "      <th>6</th>\n",
       "      <td>EPSF_00836</td>\n",
       "      <td>Cognition Crystallized Composite v1.1</td>\n",
       "      <td>74.0</td>\n",
       "      <td>92.0</td>\n",
       "      <td>31.0</td>\n",
       "      <td>53.0</td>\n",
       "      <td>Remote</td>\n",
       "    </tr>\n",
       "    <tr>\n",
       "      <th>7</th>\n",
       "      <td>EPSF_00836</td>\n",
       "      <td>Cognition Early Childhood Composite v1.1</td>\n",
       "      <td>75.0</td>\n",
       "      <td>86.0</td>\n",
       "      <td>17.0</td>\n",
       "      <td>47.0</td>\n",
       "      <td>Remote</td>\n",
       "    </tr>\n",
       "    <tr>\n",
       "      <th>6</th>\n",
       "      <td>EPSF_00836</td>\n",
       "      <td>Cognition Crystallized Composite v1.1</td>\n",
       "      <td>74.0</td>\n",
       "      <td>92.0</td>\n",
       "      <td>31.0</td>\n",
       "      <td>53.0</td>\n",
       "      <td>Remote</td>\n",
       "    </tr>\n",
       "    <tr>\n",
       "      <th>7</th>\n",
       "      <td>EPSF_00836</td>\n",
       "      <td>Cognition Early Childhood Composite v1.1</td>\n",
       "      <td>75.0</td>\n",
       "      <td>86.0</td>\n",
       "      <td>17.0</td>\n",
       "      <td>47.0</td>\n",
       "      <td>Remote</td>\n",
       "    </tr>\n",
       "  </tbody>\n",
       "</table>\n",
       "</div>"
      ],
      "text/plain": [
       "          PIN                                      Inst  \\\n",
       "7  EPSF_00944  Cognition Early Childhood Composite v1.1   \n",
       "6  EPSF_00836     Cognition Crystallized Composite v1.1   \n",
       "7  EPSF_00836  Cognition Early Childhood Composite v1.1   \n",
       "6  EPSF_00836     Cognition Crystallized Composite v1.1   \n",
       "7  EPSF_00836  Cognition Early Childhood Composite v1.1   \n",
       "\n",
       "   Uncorrected Standard Score  Age-Corrected Standard Score  \\\n",
       "7                        77.0                          89.0   \n",
       "6                        74.0                          92.0   \n",
       "7                        75.0                          86.0   \n",
       "6                        74.0                          92.0   \n",
       "7                        75.0                          86.0   \n",
       "\n",
       "   National Percentile (age adjusted)  Fully-Corrected T-score    Mode  \n",
       "7                                24.0                     39.0  Remote  \n",
       "6                                31.0                     53.0  Remote  \n",
       "7                                17.0                     47.0  Remote  \n",
       "6                                31.0                     53.0  Remote  \n",
       "7                                17.0                     47.0  Remote  "
      ]
     },
     "execution_count": 101,
     "metadata": {},
     "output_type": "execute_result"
    }
   ],
   "source": [
    "boxp.tail()"
   ]
  },
  {
   "cell_type": "code",
   "execution_count": 102,
   "metadata": {
    "id": "zbHFl_deVMyx"
   },
   "outputs": [],
   "source": [
    "boxp[\"Inst\"].replace({\"Cognition Fluid Composite v1.1\":'CFC','Cognition Crystallized Composite v1.1':'CCC', 'Cognition Total Composite Score v1.1':'CTC','Cognition Early Childhood Composite v1.1':'CECC'}, inplace=True)"
   ]
  },
  {
   "cell_type": "code",
   "execution_count": 103,
   "metadata": {
    "colab": {
     "base_uri": "https://localhost:8080/",
     "height": 427
    },
    "id": "8fltOtYCSs4h",
    "outputId": "669a04d0-cc59-47a8-8662-0373120df0ea"
   },
   "outputs": [
    {
     "data": {
      "text/plain": [
       "Text(0.5, 1.0, 'Age-Corrected Standard score')"
      ]
     },
     "execution_count": 103,
     "metadata": {},
     "output_type": "execute_result"
    },
    {
     "data": {
      "image/png": "[encoded data removed]",
      "text/plain": [
       "<Figure size 576x432 with 1 Axes>"
      ]
     },
     "metadata": {},
     "output_type": "display_data"
    }
   ],
   "source": [
    "plt.figure(figsize=(8, 6))\n",
    "sns.boxplot(x = 'Inst', y = 'Age-Corrected Standard Score', hue='Mode',data = boxp)\n",
    "plt.title('Age-Corrected Standard score')"
   ]
  },
  {
   "cell_type": "code",
   "execution_count": 104,
   "metadata": {
    "colab": {
     "base_uri": "https://localhost:8080/",
     "height": 410
    },
    "id": "EjWwK1cS_HY4",
    "outputId": "0804d615-5505-437c-e172-05160d07a506"
   },
   "outputs": [
    {
     "data": {
      "image/png": "[encoded data removed]",
      "text/plain": [
       "<Figure size 576x432 with 1 Axes>"
      ]
     },
     "metadata": {},
     "output_type": "display_data"
    }
   ],
   "source": [
    "# Box plot of Fully In person vs. Remote\n",
    "plt.figure(figsize=(8, 6))\n",
    "sns.boxplot(x = 'Inst', y = 'Fully-Corrected T-score', hue='Mode',data = boxp)\n",
    "plt.title('Fully-Corrected T-score')\n",
    "plt.show()"
   ]
  },
  {
   "cell_type": "markdown",
   "metadata": {
    "id": "fn2Lwf_l_U-H"
   },
   "source": [
    "# b.\tA student’s t-test for everyone "
   ]
  },
  {
   "cell_type": "code",
   "execution_count": 105,
   "metadata": {
    "colab": {
     "base_uri": "https://localhost:8080/"
    },
    "id": "-3bvmq0N9t5V",
    "outputId": "0d26fb89-0ea4-40fd-c245-3b7e7d65956e"
   },
   "outputs": [
    {
     "name": "stdout",
     "output_type": "stream",
     "text": [
      "t-statistic =  0.029 pvalue = 0.9774\n"
     ]
    }
   ],
   "source": [
    "print('t-statistic = %6.3f pvalue = %6.4f' % stats.ttest_ind(comp[comp['Inst'].str.contains('Cognition Crystallized Composite')]['Age-Corrected Standard Score'],comp_r[comp_r['Inst'].str.contains('Cognition Crystallized Composite')]['Age-Corrected Standard Score_r'], equal_var=False))"
   ]
  },
  {
   "cell_type": "code",
   "execution_count": 106,
   "metadata": {
    "colab": {
     "base_uri": "https://localhost:8080/"
    },
    "id": "8Tp395HzQJSO",
    "outputId": "c14899fe-bdf2-484d-d233-0d0e3a099d18"
   },
   "outputs": [
    {
     "name": "stdout",
     "output_type": "stream",
     "text": [
      "t-statistic =  1.969 pvalue = 0.0620\n"
     ]
    }
   ],
   "source": [
    "print('t-statistic = %6.3f pvalue = %6.4f' % stats.ttest_ind(comp[comp['Inst'].str.contains('Cognition Early Childhood Composite')]['Age-Corrected Standard Score'], comp_r[comp_r['Inst'].str.contains('Cognition Early Childhood Composite')]['Age-Corrected Standard Score_r'], equal_var=False))"
   ]
  },
  {
   "cell_type": "code",
   "execution_count": 107,
   "metadata": {
    "colab": {
     "base_uri": "https://localhost:8080/"
    },
    "id": "gA8n-WXdQyQ9",
    "outputId": "ac4932a2-d529-4b95-ead5-8a85f0087af9"
   },
   "outputs": [
    {
     "name": "stdout",
     "output_type": "stream",
     "text": [
      "t-statistic = -1.070 pvalue = 0.2959\n"
     ]
    }
   ],
   "source": [
    "print('t-statistic = %6.3f pvalue = %6.4f' % stats.ttest_ind(comp[comp['Inst'].str.contains('Cognition Crystallized Composite')]['Fully-Corrected T-score'],comp_r[comp_r['Inst'].str.contains('Cognition Crystallized Composite')]['Fully-Corrected T-score_r'], equal_var=False))"
   ]
  },
  {
   "cell_type": "code",
   "execution_count": 108,
   "metadata": {
    "colab": {
     "base_uri": "https://localhost:8080/"
    },
    "id": "aEd86wk29ZXW",
    "outputId": "cfb786ae-71cb-43b5-a717-559d11d0390b"
   },
   "outputs": [
    {
     "name": "stdout",
     "output_type": "stream",
     "text": [
      "t-statistic =  1.028 pvalue = 0.3149\n"
     ]
    }
   ],
   "source": [
    "print('t-statistic = %6.3f pvalue = %6.4f' % stats.ttest_ind(comp[comp['Inst'].str.contains('Cognition Early Childhood Composite')]['Fully-Corrected T-score'], comp_r[comp_r['Inst'].str.contains('Cognition Early Childhood Composite')]['Fully-Corrected T-score_r'], equal_var=False))"
   ]
  },
  {
   "cell_type": "code",
   "execution_count": 109,
   "metadata": {
    "colab": {
     "base_uri": "https://localhost:8080/",
     "height": 306
    },
    "id": "DmjDf1te6CQo",
    "outputId": "09846ea9-6cfb-4543-a284-39d58fa0e1c0"
   },
   "outputs": [
    {
     "data": {
      "text/html": [
       "<div>\n",
       "<style scoped>\n",
       "    .dataframe tbody tr th:only-of-type {\n",
       "        vertical-align: middle;\n",
       "    }\n",
       "\n",
       "    .dataframe tbody tr th {\n",
       "        vertical-align: top;\n",
       "    }\n",
       "\n",
       "    .dataframe thead th {\n",
       "        text-align: right;\n",
       "    }\n",
       "</style>\n",
       "<table border=\"1\" class=\"dataframe\">\n",
       "  <thead>\n",
       "    <tr style=\"text-align: right;\">\n",
       "      <th></th>\n",
       "      <th>PIN</th>\n",
       "      <th>Inst</th>\n",
       "      <th>Age-Corrected Standard Score</th>\n",
       "      <th>Fully-Corrected T-score</th>\n",
       "      <th>Age-Corrected Standard Score_r</th>\n",
       "      <th>Fully-Corrected T-score_r</th>\n",
       "    </tr>\n",
       "  </thead>\n",
       "  <tbody>\n",
       "    <tr>\n",
       "      <th>0</th>\n",
       "      <td>EPRC_00032</td>\n",
       "      <td>Cognition Crystallized Composite v1.1</td>\n",
       "      <td>85</td>\n",
       "      <td>32</td>\n",
       "      <td>85.0</td>\n",
       "      <td>38.0</td>\n",
       "    </tr>\n",
       "    <tr>\n",
       "      <th>2</th>\n",
       "      <td>EPRC_00160</td>\n",
       "      <td>Cognition Crystallized Composite v1.1</td>\n",
       "      <td>99</td>\n",
       "      <td>42</td>\n",
       "      <td>106.0</td>\n",
       "      <td>51.0</td>\n",
       "    </tr>\n",
       "    <tr>\n",
       "      <th>4</th>\n",
       "      <td>EPRC_00173</td>\n",
       "      <td>Cognition Crystallized Composite v1.1</td>\n",
       "      <td>85</td>\n",
       "      <td>45</td>\n",
       "      <td>72.0</td>\n",
       "      <td>39.0</td>\n",
       "    </tr>\n",
       "    <tr>\n",
       "      <th>5</th>\n",
       "      <td>EPRC_00179</td>\n",
       "      <td>Cognition Crystallized Composite v1.1</td>\n",
       "      <td>106</td>\n",
       "      <td>55</td>\n",
       "      <td>113.0</td>\n",
       "      <td>54.0</td>\n",
       "    </tr>\n",
       "    <tr>\n",
       "      <th>6</th>\n",
       "      <td>EPRC_00181</td>\n",
       "      <td>Cognition Crystallized Composite v1.1</td>\n",
       "      <td>100</td>\n",
       "      <td>46</td>\n",
       "      <td>100.0</td>\n",
       "      <td>37.0</td>\n",
       "    </tr>\n",
       "    <tr>\n",
       "      <th>8</th>\n",
       "      <td>EPSF_00944</td>\n",
       "      <td>Cognition Crystallized Composite v1.1</td>\n",
       "      <td>85</td>\n",
       "      <td>42</td>\n",
       "      <td>92.0</td>\n",
       "      <td>47.0</td>\n",
       "    </tr>\n",
       "    <tr>\n",
       "      <th>9</th>\n",
       "      <td>EPSF_00944</td>\n",
       "      <td>Cognition Crystallized Composite v1.1</td>\n",
       "      <td>99</td>\n",
       "      <td>48</td>\n",
       "      <td>92.0</td>\n",
       "      <td>47.0</td>\n",
       "    </tr>\n",
       "    <tr>\n",
       "      <th>10</th>\n",
       "      <td>EPSF_00944</td>\n",
       "      <td>Cognition Crystallized Composite v1.1</td>\n",
       "      <td>92</td>\n",
       "      <td>47</td>\n",
       "      <td>92.0</td>\n",
       "      <td>47.0</td>\n",
       "    </tr>\n",
       "    <tr>\n",
       "      <th>14</th>\n",
       "      <td>EPSF_00832</td>\n",
       "      <td>Cognition Crystallized Composite v1.1</td>\n",
       "      <td>120</td>\n",
       "      <td>64</td>\n",
       "      <td>113.0</td>\n",
       "      <td>59.0</td>\n",
       "    </tr>\n",
       "  </tbody>\n",
       "</table>\n",
       "</div>"
      ],
      "text/plain": [
       "           PIN                                   Inst  \\\n",
       "0   EPRC_00032  Cognition Crystallized Composite v1.1   \n",
       "2   EPRC_00160  Cognition Crystallized Composite v1.1   \n",
       "4   EPRC_00173  Cognition Crystallized Composite v1.1   \n",
       "5   EPRC_00179  Cognition Crystallized Composite v1.1   \n",
       "6   EPRC_00181  Cognition Crystallized Composite v1.1   \n",
       "8   EPSF_00944  Cognition Crystallized Composite v1.1   \n",
       "9   EPSF_00944  Cognition Crystallized Composite v1.1   \n",
       "10  EPSF_00944  Cognition Crystallized Composite v1.1   \n",
       "14  EPSF_00832  Cognition Crystallized Composite v1.1   \n",
       "\n",
       "    Age-Corrected Standard Score  Fully-Corrected T-score  \\\n",
       "0                             85                       32   \n",
       "2                             99                       42   \n",
       "4                             85                       45   \n",
       "5                            106                       55   \n",
       "6                            100                       46   \n",
       "8                             85                       42   \n",
       "9                             99                       48   \n",
       "10                            92                       47   \n",
       "14                           120                       64   \n",
       "\n",
       "    Age-Corrected Standard Score_r  Fully-Corrected T-score_r  \n",
       "0                             85.0                       38.0  \n",
       "2                            106.0                       51.0  \n",
       "4                             72.0                       39.0  \n",
       "5                            113.0                       54.0  \n",
       "6                            100.0                       37.0  \n",
       "8                             92.0                       47.0  \n",
       "9                             92.0                       47.0  \n",
       "10                            92.0                       47.0  \n",
       "14                           113.0                       59.0  "
      ]
     },
     "execution_count": 109,
     "metadata": {},
     "output_type": "execute_result"
    }
   ],
   "source": [
    "ccc[keep1]"
   ]
  },
  {
   "cell_type": "code",
   "execution_count": 110,
   "metadata": {
    "colab": {
     "base_uri": "https://localhost:8080/",
     "height": 210
    },
    "id": "rVDPxHTU6SL_",
    "outputId": "118e09e6-2a19-46ad-b17f-c65237a69f5d"
   },
   "outputs": [
    {
     "data": {
      "text/html": [
       "<div>\n",
       "<style scoped>\n",
       "    .dataframe tbody tr th:only-of-type {\n",
       "        vertical-align: middle;\n",
       "    }\n",
       "\n",
       "    .dataframe tbody tr th {\n",
       "        vertical-align: top;\n",
       "    }\n",
       "\n",
       "    .dataframe thead th {\n",
       "        text-align: right;\n",
       "    }\n",
       "</style>\n",
       "<table border=\"1\" class=\"dataframe\">\n",
       "  <thead>\n",
       "    <tr style=\"text-align: right;\">\n",
       "      <th></th>\n",
       "      <th>PIN</th>\n",
       "      <th>Inst</th>\n",
       "      <th>Age-Corrected Standard Score</th>\n",
       "      <th>Fully-Corrected T-score</th>\n",
       "      <th>Age-Corrected Standard Score_r</th>\n",
       "      <th>Fully-Corrected T-score_r</th>\n",
       "    </tr>\n",
       "  </thead>\n",
       "  <tbody>\n",
       "    <tr>\n",
       "      <th>1</th>\n",
       "      <td>EPRC_00032</td>\n",
       "      <td>Cognition Early Childhood Composite v1.1</td>\n",
       "      <td>105</td>\n",
       "      <td>48</td>\n",
       "      <td>98.0</td>\n",
       "      <td>43.0</td>\n",
       "    </tr>\n",
       "    <tr>\n",
       "      <th>3</th>\n",
       "      <td>EPRC_00160</td>\n",
       "      <td>Cognition Early Childhood Composite v1.1</td>\n",
       "      <td>106</td>\n",
       "      <td>43</td>\n",
       "      <td>92.0</td>\n",
       "      <td>42.0</td>\n",
       "    </tr>\n",
       "    <tr>\n",
       "      <th>7</th>\n",
       "      <td>EPRC_00181</td>\n",
       "      <td>Cognition Early Childhood Composite v1.1</td>\n",
       "      <td>87</td>\n",
       "      <td>36</td>\n",
       "      <td>89.0</td>\n",
       "      <td>34.0</td>\n",
       "    </tr>\n",
       "    <tr>\n",
       "      <th>11</th>\n",
       "      <td>EPSF_00944</td>\n",
       "      <td>Cognition Early Childhood Composite v1.1</td>\n",
       "      <td>94</td>\n",
       "      <td>44</td>\n",
       "      <td>89.0</td>\n",
       "      <td>39.0</td>\n",
       "    </tr>\n",
       "    <tr>\n",
       "      <th>12</th>\n",
       "      <td>EPSF_00944</td>\n",
       "      <td>Cognition Early Childhood Composite v1.1</td>\n",
       "      <td>105</td>\n",
       "      <td>51</td>\n",
       "      <td>89.0</td>\n",
       "      <td>39.0</td>\n",
       "    </tr>\n",
       "    <tr>\n",
       "      <th>13</th>\n",
       "      <td>EPSF_00944</td>\n",
       "      <td>Cognition Early Childhood Composite v1.1</td>\n",
       "      <td>99</td>\n",
       "      <td>49</td>\n",
       "      <td>89.0</td>\n",
       "      <td>39.0</td>\n",
       "    </tr>\n",
       "    <tr>\n",
       "      <th>15</th>\n",
       "      <td>EPSF_00832</td>\n",
       "      <td>Cognition Early Childhood Composite v1.1</td>\n",
       "      <td>107</td>\n",
       "      <td>52</td>\n",
       "      <td>102.0</td>\n",
       "      <td>48.0</td>\n",
       "    </tr>\n",
       "  </tbody>\n",
       "</table>\n",
       "</div>"
      ],
      "text/plain": [
       "           PIN                                      Inst  \\\n",
       "1   EPRC_00032  Cognition Early Childhood Composite v1.1   \n",
       "3   EPRC_00160  Cognition Early Childhood Composite v1.1   \n",
       "7   EPRC_00181  Cognition Early Childhood Composite v1.1   \n",
       "11  EPSF_00944  Cognition Early Childhood Composite v1.1   \n",
       "12  EPSF_00944  Cognition Early Childhood Composite v1.1   \n",
       "13  EPSF_00944  Cognition Early Childhood Composite v1.1   \n",
       "15  EPSF_00832  Cognition Early Childhood Composite v1.1   \n",
       "\n",
       "    Age-Corrected Standard Score  Fully-Corrected T-score  \\\n",
       "1                            105                       48   \n",
       "3                            106                       43   \n",
       "7                             87                       36   \n",
       "11                            94                       44   \n",
       "12                           105                       51   \n",
       "13                            99                       49   \n",
       "15                           107                       52   \n",
       "\n",
       "    Age-Corrected Standard Score_r  Fully-Corrected T-score_r  \n",
       "1                             98.0                       43.0  \n",
       "3                             92.0                       42.0  \n",
       "7                             89.0                       34.0  \n",
       "11                            89.0                       39.0  \n",
       "12                            89.0                       39.0  \n",
       "13                            89.0                       39.0  \n",
       "15                           102.0                       48.0  "
      ]
     },
     "execution_count": 110,
     "metadata": {},
     "output_type": "execute_result"
    }
   ],
   "source": [
    "cecc[keep1]"
   ]
  },
  {
   "cell_type": "markdown",
   "metadata": {
    "id": "cz2a8UpLAVtI"
   },
   "source": [
    "# c.\tCorrelations between remote and in-person"
   ]
  },
  {
   "cell_type": "code",
   "execution_count": 111,
   "metadata": {
    "colab": {
     "base_uri": "https://localhost:8080/"
    },
    "id": "iR1FQuzOTwqm",
    "outputId": "f6c17fbb-f736-4ff8-ba0b-5b16b2f7491c"
   },
   "outputs": [
    {
     "name": "stdout",
     "output_type": "stream",
     "text": [
      "correlation =  0.846 pvalue = 0.0041\n"
     ]
    }
   ],
   "source": [
    "print('correlation = %6.3f pvalue = %6.4f' % stats.pearsonr(ccc['Age-Corrected Standard Score'], ccc['Age-Corrected Standard Score_r']))"
   ]
  },
  {
   "cell_type": "code",
   "execution_count": 112,
   "metadata": {
    "colab": {
     "base_uri": "https://localhost:8080/"
    },
    "id": "5sq7Z2J-Tx3o",
    "outputId": "7e45163b-f1cf-48df-e134-bf1efd1c20f0"
   },
   "outputs": [
    {
     "name": "stdout",
     "output_type": "stream",
     "text": [
      "correlation =  0.597 pvalue = 0.1572\n"
     ]
    }
   ],
   "source": [
    "print('correlation = %6.3f pvalue = %6.4f'% stats.pearsonr(cecc['Age-Corrected Standard Score'], cecc['Age-Corrected Standard Score_r']))"
   ]
  },
  {
   "cell_type": "code",
   "execution_count": 113,
   "metadata": {
    "colab": {
     "base_uri": "https://localhost:8080/"
    },
    "id": "wWSMTfFuAxq8",
    "outputId": "2d19ff00-83b4-4606-e27d-842e7ea27cea"
   },
   "outputs": [
    {
     "name": "stdout",
     "output_type": "stream",
     "text": [
      "correlation =  0.748 pvalue = 0.0206\n"
     ]
    }
   ],
   "source": [
    "print('correlation = %6.3f pvalue = %6.4f' %stats.pearsonr(ccc['Fully-Corrected T-score'], ccc['Fully-Corrected T-score_r']))"
   ]
  },
  {
   "cell_type": "code",
   "execution_count": 114,
   "metadata": {
    "colab": {
     "base_uri": "https://localhost:8080/"
    },
    "id": "-6iEWJjaBDXF",
    "outputId": "2b5c74ec-542b-48a1-d656-c2b4efdde427"
   },
   "outputs": [
    {
     "name": "stdout",
     "output_type": "stream",
     "text": [
      "correlation =  0.696 pvalue = 0.0825\n"
     ]
    }
   ],
   "source": [
    "print('correlation = %6.3f pvalue = %6.4f' % stats.pearsonr(cecc['Fully-Corrected T-score'], cecc['Fully-Corrected T-score_r']))"
   ]
  },
  {
   "cell_type": "markdown",
   "metadata": {
    "id": "MZsSaExCAavd"
   },
   "source": [
    "# d.\tDoes it take longer for remote vs. in-person? "
   ]
  },
  {
   "cell_type": "code",
   "execution_count": 115,
   "metadata": {
    "colab": {
     "base_uri": "https://localhost:8080/"
    },
    "id": "dln6vy8TDno1",
    "outputId": "d6893858-aefc-4d00-c2c6-c5e6955b4d6e"
   },
   "outputs": [
    {
     "name": "stdout",
     "output_type": "stream",
     "text": [
      "t-statistic =  9.000 pvalue = 0.7389\n"
     ]
    },
    {
     "name": "stderr",
     "output_type": "stream",
     "text": [
      "C:\\Users\\TEMP\\Anaconda3\\lib\\site-packages\\scipy\\stats\\morestats.py:2967: UserWarning: Exact p-value calculation does not work if there are ties. Switching to normal approximation.\n",
      "  warnings.warn(\"Exact p-value calculation does not work if there are \"\n",
      "C:\\Users\\TEMP\\Anaconda3\\lib\\site-packages\\scipy\\stats\\morestats.py:2981: UserWarning: Sample size too small for normal approximation.\n",
      "  warnings.warn(\"Sample size too small for normal approximation.\")\n"
     ]
    }
   ],
   "source": [
    "print('t-statistic = %6.3f pvalue = %6.4f' % stats.wilcoxon(ccc['Age-Corrected Standard Score'], ccc['Age-Corrected Standard Score_r']))"
   ]
  },
  {
   "cell_type": "code",
   "execution_count": 116,
   "metadata": {
    "colab": {
     "base_uri": "https://localhost:8080/"
    },
    "id": "b5T9upl0SFJk",
    "outputId": "9ba66e11-ad22-4ebc-edc8-87193bcf7ffa"
   },
   "outputs": [
    {
     "name": "stdout",
     "output_type": "stream",
     "text": [
      "t-statistic =  1.000 pvalue = 0.0312\n"
     ]
    }
   ],
   "source": [
    "print('t-statistic = %6.3f pvalue = %6.4f' % stats.wilcoxon(cecc['Age-Corrected Standard Score'], cecc['Age-Corrected Standard Score_r']))"
   ]
  },
  {
   "cell_type": "code",
   "execution_count": 117,
   "metadata": {
    "colab": {
     "base_uri": "https://localhost:8080/"
    },
    "id": "7QehDhSUSIZV",
    "outputId": "38f2a626-c77e-4061-9f72-a4e5e908ab21"
   },
   "outputs": [
    {
     "name": "stdout",
     "output_type": "stream",
     "text": [
      "t-statistic = 16.500 pvalue = 0.8328\n"
     ]
    }
   ],
   "source": [
    "print('t-statistic = %6.3f pvalue = %6.4f' % stats.wilcoxon(ccc['Fully-Corrected T-score'], ccc['Fully-Corrected T-score_r']))"
   ]
  },
  {
   "cell_type": "code",
   "execution_count": 118,
   "metadata": {
    "colab": {
     "base_uri": "https://localhost:8080/"
    },
    "id": "u4N3ryPgDilP",
    "outputId": "a916e244-5008-48e6-e518-ebfe49aa43c9"
   },
   "outputs": [
    {
     "name": "stdout",
     "output_type": "stream",
     "text": [
      "t-statistic =  0.000 pvalue = 0.0156\n"
     ]
    }
   ],
   "source": [
    "print('t-statistic = %6.3f pvalue = %6.4f' % stats.wilcoxon(cecc['Fully-Corrected T-score'], cecc['Fully-Corrected T-score_r']))"
   ]
  },
  {
   "cell_type": "markdown",
   "metadata": {
    "id": "SOwQH2y7AgGH"
   },
   "source": [
    "# e.\tPlot on x-axis remote scores for all the Inst, and plot on y-axis all the in-person "
   ]
  },
  {
   "cell_type": "code",
   "execution_count": 119,
   "metadata": {
    "colab": {
     "base_uri": "https://localhost:8080/",
     "height": 509
    },
    "id": "0w6jYpjSG4xB",
    "outputId": "597aab66-a491-450d-995c-5912d15d7d37"
   },
   "outputs": [
    {
     "data": {
      "image/png": "[encoded data removed]",
      "text/plain": [
       "<Figure size 504x504 with 3 Axes>"
      ]
     },
     "metadata": {},
     "output_type": "display_data"
    }
   ],
   "source": [
    "import seaborn as sns\n",
    "sns.set_theme(style=\"darkgrid\")\n",
    "\n",
    "g = sns.jointplot(x=\"Age-Corrected Standard Score\", y=\"Age-Corrected Standard Score_r\", data=ccc,\n",
    "                  kind=\"reg\", truncate=False,\n",
    "                  color=\"y\", height=7)"
   ]
  },
  {
   "cell_type": "code",
   "execution_count": 120,
   "metadata": {
    "colab": {
     "base_uri": "https://localhost:8080/",
     "height": 509
    },
    "id": "ZVCMyfjG8FX8",
    "outputId": "fb9cfeec-497b-4ed4-a626-1f8b4d25dcb2"
   },
   "outputs": [
    {
     "data": {
      "image/png": "[encoded data removed]",
      "text/plain": [
       "<Figure size 504x504 with 3 Axes>"
      ]
     },
     "metadata": {},
     "output_type": "display_data"
    }
   ],
   "source": [
    "g = sns.jointplot(x=\"Age-Corrected Standard Score\", y=\"Age-Corrected Standard Score_r\", data=cecc,\n",
    "                  kind=\"reg\", truncate=False,\n",
    "                  color=\"y\", height=7)"
   ]
  },
  {
   "cell_type": "code",
   "execution_count": 121,
   "metadata": {
    "colab": {
     "base_uri": "https://localhost:8080/",
     "height": 509
    },
    "id": "tzy8QBB6UKm0",
    "outputId": "6f3b94ce-ccfc-477e-b35e-ede305ead656"
   },
   "outputs": [
    {
     "data": {
      "image/png": "[encoded data removed]",
      "text/plain": [
       "<Figure size 504x504 with 3 Axes>"
      ]
     },
     "metadata": {},
     "output_type": "display_data"
    }
   ],
   "source": [
    "import seaborn as sns\n",
    "sns.set_theme(style=\"darkgrid\")\n",
    "\n",
    "g = sns.jointplot(x=\"Fully-Corrected T-score\", y=\"Fully-Corrected T-score_r\", data=ccc,\n",
    "                  kind=\"reg\", truncate=False,\n",
    "                  color=\"r\", height=7)"
   ]
  },
  {
   "cell_type": "code",
   "execution_count": 122,
   "metadata": {
    "colab": {
     "base_uri": "https://localhost:8080/",
     "height": 509
    },
    "id": "aLMBiaKHURxd",
    "outputId": "d4fda2bf-3f94-4d89-9ca8-895f4d9272ca"
   },
   "outputs": [
    {
     "data": {
      "image/png": "[encoded data removed]",
      "text/plain": [
       "<Figure size 504x504 with 3 Axes>"
      ]
     },
     "metadata": {},
     "output_type": "display_data"
    }
   ],
   "source": [
    "g = sns.jointplot(x=\"Fully-Corrected T-score\", y=\"Fully-Corrected T-score_r\", data=cecc,\n",
    "                  kind=\"reg\", truncate=False,\n",
    "                  color=\"r\", height=7)"
   ]
  },
  {
   "cell_type": "code",
   "execution_count": null,
   "metadata": {
    "id": "k7GxZ5n1aWCb"
   },
   "outputs": [],
   "source": []
  },
  {
   "cell_type": "code",
   "execution_count": null,
   "metadata": {
    "id": "zw3e9Vr0aWRZ"
   },
   "outputs": [],
   "source": []
  },
  {
   "cell_type": "code",
   "execution_count": null,
   "metadata": {
    "id": "1V5X9JdraWVZ"
   },
   "outputs": [],
   "source": []
  },
  {
   "cell_type": "code",
   "execution_count": null,
   "metadata": {
    "id": "KM9ZKYjOaWac"
   },
   "outputs": [],
   "source": []
  },
  {
   "cell_type": "markdown",
   "metadata": {
    "id": "02ViorSi1vK7"
   },
   "source": [
    "# Wide to Long"
   ]
  },
  {
   "cell_type": "code",
   "execution_count": 123,
   "metadata": {
    "id": "XoJbrwWn2oZb"
   },
   "outputs": [],
   "source": [
    "all = pd.concat([df,dfr]) "
   ]
  },
  {
   "cell_type": "code",
   "execution_count": 124,
   "metadata": {
    "colab": {
     "base_uri": "https://localhost:8080/",
     "height": 204
    },
    "id": "_5w5JDXW_KNO",
    "outputId": "d9b7cfd6-7f1f-44f5-a908-c67366e2432b"
   },
   "outputs": [
    {
     "data": {
      "text/html": [
       "<div>\n",
       "<style scoped>\n",
       "    .dataframe tbody tr th:only-of-type {\n",
       "        vertical-align: middle;\n",
       "    }\n",
       "\n",
       "    .dataframe tbody tr th {\n",
       "        vertical-align: top;\n",
       "    }\n",
       "\n",
       "    .dataframe thead th {\n",
       "        text-align: right;\n",
       "    }\n",
       "</style>\n",
       "<table border=\"1\" class=\"dataframe\">\n",
       "  <thead>\n",
       "    <tr style=\"text-align: right;\">\n",
       "      <th></th>\n",
       "      <th>PIN</th>\n",
       "      <th>Inst</th>\n",
       "      <th>Date</th>\n",
       "      <th>Time</th>\n",
       "      <th>Mode</th>\n",
       "    </tr>\n",
       "  </thead>\n",
       "  <tbody>\n",
       "    <tr>\n",
       "      <th>0</th>\n",
       "      <td>EPRC_00032</td>\n",
       "      <td>NIH Toolbox Dimensional Change Card Sort Test ...</td>\n",
       "      <td>2021-03-30</td>\n",
       "      <td>5.30</td>\n",
       "      <td>In Person</td>\n",
       "    </tr>\n",
       "    <tr>\n",
       "      <th>1</th>\n",
       "      <td>EPRC_00032</td>\n",
       "      <td>NIH Toolbox Flanker Inhibitory Control and Att...</td>\n",
       "      <td>2021-03-30</td>\n",
       "      <td>3.97</td>\n",
       "      <td>In Person</td>\n",
       "    </tr>\n",
       "    <tr>\n",
       "      <th>3</th>\n",
       "      <td>EPRC_00032</td>\n",
       "      <td>NIH Toolbox Oral Reading Recognition Test Age ...</td>\n",
       "      <td>2021-03-30</td>\n",
       "      <td>1.43</td>\n",
       "      <td>In Person</td>\n",
       "    </tr>\n",
       "    <tr>\n",
       "      <th>4</th>\n",
       "      <td>EPRC_00032</td>\n",
       "      <td>NIH Toolbox Pattern Comparison Processing Spee...</td>\n",
       "      <td>2021-03-30</td>\n",
       "      <td>1.57</td>\n",
       "      <td>In Person</td>\n",
       "    </tr>\n",
       "    <tr>\n",
       "      <th>5</th>\n",
       "      <td>EPRC_00032</td>\n",
       "      <td>NIH Toolbox Pattern Comparison Processing Spee...</td>\n",
       "      <td>2021-03-30</td>\n",
       "      <td>1.65</td>\n",
       "      <td>In Person</td>\n",
       "    </tr>\n",
       "  </tbody>\n",
       "</table>\n",
       "</div>"
      ],
      "text/plain": [
       "          PIN                                               Inst        Date  \\\n",
       "0  EPRC_00032  NIH Toolbox Dimensional Change Card Sort Test ...  2021-03-30   \n",
       "1  EPRC_00032  NIH Toolbox Flanker Inhibitory Control and Att...  2021-03-30   \n",
       "3  EPRC_00032  NIH Toolbox Oral Reading Recognition Test Age ...  2021-03-30   \n",
       "4  EPRC_00032  NIH Toolbox Pattern Comparison Processing Spee...  2021-03-30   \n",
       "5  EPRC_00032  NIH Toolbox Pattern Comparison Processing Spee...  2021-03-30   \n",
       "\n",
       "   Time       Mode  \n",
       "0  5.30  In Person  \n",
       "1  3.97  In Person  \n",
       "3  1.43  In Person  \n",
       "4  1.57  In Person  \n",
       "5  1.65  In Person  "
      ]
     },
     "execution_count": 124,
     "metadata": {},
     "output_type": "execute_result"
    }
   ],
   "source": [
    "time_breakdown.head()"
   ]
  },
  {
   "cell_type": "code",
   "execution_count": 182,
   "metadata": {
    "id": "aYRQ3GZx2r4x"
   },
   "outputs": [],
   "source": [
    "rv =pd.merge(time_breakdown, all, how='outer',on=['PIN','Inst','Mode'])"
   ]
  },
  {
   "cell_type": "code",
   "execution_count": 183,
   "metadata": {
    "colab": {
     "base_uri": "https://localhost:8080/"
    },
    "id": "jKHrHKsI2-EG",
    "outputId": "82827e91-d6e2-419e-937c-b5131d41c3a0"
   },
   "outputs": [
    {
     "data": {
      "text/plain": [
       "(412, 17)"
      ]
     },
     "execution_count": 183,
     "metadata": {},
     "output_type": "execute_result"
    }
   ],
   "source": [
    "rv.shape"
   ]
  },
  {
   "cell_type": "code",
   "execution_count": 184,
   "metadata": {
    "id": "U7BnD7OT6RM-"
   },
   "outputs": [],
   "source": [
    "rv['Site'] = np.where(rv['PIN'].str.contains('SF'), 'Sioux Falls', 'Rapid City')"
   ]
  },
  {
   "cell_type": "code",
   "execution_count": 185,
   "metadata": {
    "colab": {
     "base_uri": "https://localhost:8080/",
     "height": 595
    },
    "id": "PNpXp1sA_r0H",
    "outputId": "393f76cf-b4d8-48e6-dbe5-a9a7040720a8"
   },
   "outputs": [
    {
     "data": {
      "text/html": [
       "<div>\n",
       "<style scoped>\n",
       "    .dataframe tbody tr th:only-of-type {\n",
       "        vertical-align: middle;\n",
       "    }\n",
       "\n",
       "    .dataframe tbody tr th {\n",
       "        vertical-align: top;\n",
       "    }\n",
       "\n",
       "    .dataframe thead th {\n",
       "        text-align: right;\n",
       "    }\n",
       "</style>\n",
       "<table border=\"1\" class=\"dataframe\">\n",
       "  <thead>\n",
       "    <tr style=\"text-align: right;\">\n",
       "      <th></th>\n",
       "      <th>PIN</th>\n",
       "      <th>Inst</th>\n",
       "      <th>RawScore</th>\n",
       "      <th>Theta</th>\n",
       "      <th>SE</th>\n",
       "      <th>ItmCnt</th>\n",
       "      <th>Computed Score</th>\n",
       "      <th>Uncorrected Standard Score</th>\n",
       "      <th>Age-Corrected Standard Score</th>\n",
       "      <th>National Percentile (age adjusted)</th>\n",
       "      <th>Fully-Corrected T-score</th>\n",
       "      <th>InstrumentBreakoff</th>\n",
       "      <th>InstrumentStatus2</th>\n",
       "      <th>Mode</th>\n",
       "    </tr>\n",
       "  </thead>\n",
       "  <tbody>\n",
       "    <tr>\n",
       "      <th>0</th>\n",
       "      <td>EPRC_00032</td>\n",
       "      <td>NIH Toolbox Picture Vocabulary Test Age 3+ v2.1</td>\n",
       "      <td>NaN</td>\n",
       "      <td>-2.411</td>\n",
       "      <td>0.475</td>\n",
       "      <td>20.0</td>\n",
       "      <td>NaN</td>\n",
       "      <td>71.0</td>\n",
       "      <td>95.0</td>\n",
       "      <td>36.0</td>\n",
       "      <td>36.0</td>\n",
       "      <td>2.0</td>\n",
       "      <td>3.0</td>\n",
       "      <td>In Person</td>\n",
       "    </tr>\n",
       "    <tr>\n",
       "      <th>1</th>\n",
       "      <td>EPRC_00032</td>\n",
       "      <td>NIH Toolbox Flanker Inhibitory Control and Att...</td>\n",
       "      <td>20.0</td>\n",
       "      <td>NaN</td>\n",
       "      <td>NaN</td>\n",
       "      <td>24.0</td>\n",
       "      <td>7.24</td>\n",
       "      <td>89.0</td>\n",
       "      <td>94.0</td>\n",
       "      <td>34.0</td>\n",
       "      <td>45.0</td>\n",
       "      <td>2.0</td>\n",
       "      <td>3.0</td>\n",
       "      <td>In Person</td>\n",
       "    </tr>\n",
       "    <tr>\n",
       "      <th>2</th>\n",
       "      <td>EPRC_00032</td>\n",
       "      <td>NIH Toolbox List Sorting Working Memory Test A...</td>\n",
       "      <td>16.0</td>\n",
       "      <td>NaN</td>\n",
       "      <td>NaN</td>\n",
       "      <td>15.0</td>\n",
       "      <td>NaN</td>\n",
       "      <td>97.0</td>\n",
       "      <td>108.0</td>\n",
       "      <td>69.0</td>\n",
       "      <td>48.0</td>\n",
       "      <td>2.0</td>\n",
       "      <td>3.0</td>\n",
       "      <td>In Person</td>\n",
       "    </tr>\n",
       "    <tr>\n",
       "      <th>3</th>\n",
       "      <td>EPRC_00032</td>\n",
       "      <td>NIH Toolbox Dimensional Change Card Sort Test ...</td>\n",
       "      <td>26.0</td>\n",
       "      <td>NaN</td>\n",
       "      <td>NaN</td>\n",
       "      <td>38.0</td>\n",
       "      <td>6.73</td>\n",
       "      <td>91.0</td>\n",
       "      <td>96.0</td>\n",
       "      <td>40.0</td>\n",
       "      <td>46.0</td>\n",
       "      <td>2.0</td>\n",
       "      <td>3.0</td>\n",
       "      <td>In Person</td>\n",
       "    </tr>\n",
       "    <tr>\n",
       "      <th>4</th>\n",
       "      <td>EPRC_00032</td>\n",
       "      <td>NIH Toolbox Pattern Comparison Processing Spee...</td>\n",
       "      <td>34.0</td>\n",
       "      <td>NaN</td>\n",
       "      <td>NaN</td>\n",
       "      <td>34.0</td>\n",
       "      <td>39.00</td>\n",
       "      <td>80.0</td>\n",
       "      <td>86.0</td>\n",
       "      <td>18.0</td>\n",
       "      <td>39.0</td>\n",
       "      <td>2.0</td>\n",
       "      <td>3.0</td>\n",
       "      <td>In Person</td>\n",
       "    </tr>\n",
       "  </tbody>\n",
       "</table>\n",
       "</div>"
      ],
      "text/plain": [
       "          PIN                                               Inst  RawScore  \\\n",
       "0  EPRC_00032    NIH Toolbox Picture Vocabulary Test Age 3+ v2.1       NaN   \n",
       "1  EPRC_00032  NIH Toolbox Flanker Inhibitory Control and Att...      20.0   \n",
       "2  EPRC_00032  NIH Toolbox List Sorting Working Memory Test A...      16.0   \n",
       "3  EPRC_00032  NIH Toolbox Dimensional Change Card Sort Test ...      26.0   \n",
       "4  EPRC_00032  NIH Toolbox Pattern Comparison Processing Spee...      34.0   \n",
       "\n",
       "   Theta     SE  ItmCnt  Computed Score  Uncorrected Standard Score  \\\n",
       "0 -2.411  0.475    20.0             NaN                        71.0   \n",
       "1    NaN    NaN    24.0            7.24                        89.0   \n",
       "2    NaN    NaN    15.0             NaN                        97.0   \n",
       "3    NaN    NaN    38.0            6.73                        91.0   \n",
       "4    NaN    NaN    34.0           39.00                        80.0   \n",
       "\n",
       "   Age-Corrected Standard Score  National Percentile (age adjusted)  \\\n",
       "0                          95.0                                36.0   \n",
       "1                          94.0                                34.0   \n",
       "2                         108.0                                69.0   \n",
       "3                          96.0                                40.0   \n",
       "4                          86.0                                18.0   \n",
       "\n",
       "   Fully-Corrected T-score  InstrumentBreakoff  InstrumentStatus2       Mode  \n",
       "0                     36.0                 2.0                3.0  In Person  \n",
       "1                     45.0                 2.0                3.0  In Person  \n",
       "2                     48.0                 2.0                3.0  In Person  \n",
       "3                     46.0                 2.0                3.0  In Person  \n",
       "4                     39.0                 2.0                3.0  In Person  "
      ]
     },
     "execution_count": 185,
     "metadata": {},
     "output_type": "execute_result"
    }
   ],
   "source": [
    "all.head()"
   ]
  },
  {
   "cell_type": "code",
   "execution_count": 186,
   "metadata": {
    "id": "yx--Qwdr1JJz"
   },
   "outputs": [],
   "source": [
    "rv = rv.melt(id_vars=['PIN','Inst','Mode','Date','Time','Site'], \n",
    "        var_name=\"Scores\", \n",
    "        value_name=\"Value\")"
   ]
  },
  {
   "cell_type": "code",
   "execution_count": 187,
   "metadata": {
    "id": "m3uIZx2PHrbG"
   },
   "outputs": [],
   "source": [
    "rv=rv.dropna(thresh=6, axis=0)"
   ]
  },
  {
   "cell_type": "code",
   "execution_count": 188,
   "metadata": {
    "colab": {
     "base_uri": "https://localhost:8080/"
    },
    "id": "2htdbHuqCjCM",
    "outputId": "a8955a87-d761-47e0-b080-6611321da0c1"
   },
   "outputs": [
    {
     "data": {
      "text/plain": [
       "(2678, 8)"
      ]
     },
     "execution_count": 188,
     "metadata": {},
     "output_type": "execute_result"
    }
   ],
   "source": [
    "rv.shape"
   ]
  },
  {
   "cell_type": "code",
   "execution_count": 189,
   "metadata": {
    "id": "gceEOcxf5XmR"
   },
   "outputs": [],
   "source": [
    "#rv.to_csv('C:/Users/TEMP/Box/Avera NIHTB Data/long_format_data.csv', index=False)"
   ]
  },
  {
   "cell_type": "code",
   "execution_count": null,
   "metadata": {},
   "outputs": [],
   "source": []
  }
 ],
 "metadata": {
  "colab": {
   "collapsed_sections": [],
   "name": "In_person_vs_remote.ipynb",
   "provenance": []
  },
  "kernelspec": {
   "display_name": "Python 3",
   "language": "python",
   "name": "python3"
  },
  "language_info": {
   "codemirror_mode": {
    "name": "ipython",
    "version": 3
   },
   "file_extension": ".py",
   "mimetype": "text/x-python",
   "name": "python",
   "nbconvert_exporter": "python",
   "pygments_lexer": "ipython3",
   "version": "3.8.8"
  }
 },
 "nbformat": 4,
 "nbformat_minor": 1
}
