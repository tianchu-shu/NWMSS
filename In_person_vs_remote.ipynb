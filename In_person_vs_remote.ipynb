{
  "nbformat": 4,
  "nbformat_minor": 0,
  "metadata": {
    "kernelspec": {
      "display_name": "Python 3",
      "language": "python",
      "name": "python3"
    },
    "language_info": {
      "codemirror_mode": {
        "name": "ipython",
        "version": 3
      },
      "file_extension": ".py",
      "mimetype": "text/x-python",
      "name": "python",
      "nbconvert_exporter": "python",
      "pygments_lexer": "ipython3",
      "version": "3.6.5"
    },
    "colab": {
      "name": "In_person_vs_remote.ipynb",
      "provenance": [],
      "collapsed_sections": [],
      "include_colab_link": true
    }
  },
  "cells": [
    {
      "cell_type": "markdown",
      "metadata": {
        "id": "view-in-github",
        "colab_type": "text"
      },
      "source": [
        "<a href=\"https://colab.research.google.com/github/tianchu-shu/NWMSS/blob/main/In_person_vs_remote.ipynb\" target=\"_parent\"><img src=\"https://colab.research.google.com/assets/colab-badge.svg\" alt=\"Open In Colab\"/></a>"
      ]
    },
    {
      "cell_type": "code",
      "metadata": {
        "id": "B5hl3HN8RfDn",
        "colab": {
          "base_uri": "https://localhost:8080/"
        },
        "outputId": "dfc0103d-0851-49c6-c1a3-66f664b6bb1b"
      },
      "source": [
        "from google.colab import drive\n",
        "drive.mount(\"/content/gdrive\", force_remount=True)"
      ],
      "execution_count": null,
      "outputs": [
        {
          "output_type": "stream",
          "text": [
            "Mounted at /content/gdrive\n"
          ],
          "name": "stdout"
        }
      ]
    },
    {
      "cell_type": "code",
      "metadata": {
        "id": "SPKdLsF0Rg36"
      },
      "source": [
        "#Data saved in csv/excel\n",
        "import glob, os\n",
        "import pandas as pd\n",
        "\n",
        "data_dir= '/content/gdrive/My Drive/Avera/'\n",
        "os.chdir(data_dir)"
      ],
      "execution_count": null,
      "outputs": []
    },
    {
      "cell_type": "code",
      "metadata": {
        "colab": {
          "base_uri": "https://localhost:8080/"
        },
        "id": "LnlbQxV5WIMo",
        "outputId": "4bd84ee9-c588-4ed2-be69-e903ad8b5649"
      },
      "source": [
        "!ls"
      ],
      "execution_count": null,
      "outputs": [
        {
          "output_type": "stream",
          "text": [
            " long_format_data.csv  'Rapid City'  'Sioux Falls'\n"
          ],
          "name": "stdout"
        }
      ]
    },
    {
      "cell_type": "markdown",
      "metadata": {
        "id": "Ryp-FuHZLWyT"
      },
      "source": [
        "#Compute the Total response time in minutes"
      ]
    },
    {
      "cell_type": "code",
      "metadata": {
        "id": "yonYmaEjXXnY",
        "colab": {
          "base_uri": "https://localhost:8080/"
        },
        "outputId": "da8c0173-7c3a-4e86-e025-1f7ce92f0360"
      },
      "source": [
        "# get all files from all RC In-person subdirectories\n",
        "\n",
        "all_files = glob.glob('/content/gdrive/My Drive/Avera/Rapid City/*/In Person/*CB_Data.csv')\n",
        "\n",
        "doc =[]\n",
        "for file in all_files:\n",
        "  data = pd.read_csv(file)\n",
        "  doc.append(data)\n",
        "\n",
        "# get all files from all SF\n",
        "all_files = glob.glob('/content/gdrive/My Drive/Avera/Sioux Falls/*/*CB_Data.csv')\n",
        "for file in all_files:\n",
        "  data = pd.read_csv(file)\n",
        "  doc.append(data)\n",
        "\n",
        "all_files = glob.glob('/content/gdrive/My Drive/Avera/Sioux Falls/*/*PVT_Data.csv')\n",
        "sep= []\n",
        "for file in all_files:\n",
        "  data = pd.read_csv(file)\n",
        "  if data.shape[1]!= 11:\n",
        "    print(data.shape)\n",
        "    doc.append(data)\n",
        "\n",
        "  else:\n",
        "    sep.append(data)\n",
        "    print(data.shape)\n",
        "    print(file[42:])\n",
        "df = pd.concat(doc)"
      ],
      "execution_count": null,
      "outputs": [
        {
          "output_type": "stream",
          "text": [
            "(25, 24)\n",
            "(26, 24)\n",
            "(29, 24)\n",
            "(25, 24)\n",
            "(403, 11)\n",
            "/210409_EPSF_00943_A_9.5Y/210409_EPSF_00943_A_9.5Y_M_NT_NS_PVT_Data.csv\n",
            "(403, 11)\n",
            "/210409_EPSF_00944_A_8Y/210409_EPSF_00944_A_M_NT_NS_PVT_Data.csv\n",
            "(25, 24)\n",
            "(403, 11)\n",
            "/210409_EPSF_00944_B_8Y/210409_EPSF_00944_B_8Y_M_NT_NS_PVT_Data.csv\n",
            "(25, 24)\n",
            "(25, 24)\n",
            "(25, 24)\n"
          ],
          "name": "stdout"
        }
      ]
    },
    {
      "cell_type": "code",
      "metadata": {
        "id": "hv9LEGi0fkbN"
      },
      "source": [
        "sdf = pd.concat(sep)"
      ],
      "execution_count": null,
      "outputs": []
    },
    {
      "cell_type": "code",
      "metadata": {
        "colab": {
          "base_uri": "https://localhost:8080/"
        },
        "id": "PgrHHaJtgcyq",
        "outputId": "d4da9ce8-a01b-45b5-b965-b1214d20511c"
      },
      "source": [
        "sdf.shape"
      ],
      "execution_count": null,
      "outputs": [
        {
          "output_type": "execute_result",
          "data": {
            "text/plain": [
              "(1209, 11)"
            ]
          },
          "metadata": {
            "tags": []
          },
          "execution_count": 13
        }
      ]
    },
    {
      "cell_type": "code",
      "metadata": {
        "colab": {
          "base_uri": "https://localhost:8080/",
          "height": 653
        },
        "id": "pMEIOTwTin-_",
        "outputId": "563ea791-51ed-4ede-b090-c1a93fce0535"
      },
      "source": [
        "df.head()"
      ],
      "execution_count": null,
      "outputs": [
        {
          "output_type": "execute_result",
          "data": {
            "text/html": [
              "<div>\n",
              "<style scoped>\n",
              "    .dataframe tbody tr th:only-of-type {\n",
              "        vertical-align: middle;\n",
              "    }\n",
              "\n",
              "    .dataframe tbody tr th {\n",
              "        vertical-align: top;\n",
              "    }\n",
              "\n",
              "    .dataframe thead th {\n",
              "        text-align: right;\n",
              "    }\n",
              "</style>\n",
              "<table border=\"1\" class=\"dataframe\">\n",
              "  <thead>\n",
              "    <tr style=\"text-align: right;\">\n",
              "      <th></th>\n",
              "      <th>PIN</th>\n",
              "      <th>DeviceID</th>\n",
              "      <th>Assessment Name</th>\n",
              "      <th>InstOrdr</th>\n",
              "      <th>InstSctn</th>\n",
              "      <th>ItmOrdr</th>\n",
              "      <th>Inst</th>\n",
              "      <th>Locale</th>\n",
              "      <th>ItemID</th>\n",
              "      <th>Response</th>\n",
              "      <th>Score</th>\n",
              "      <th>Theta</th>\n",
              "      <th>TScore</th>\n",
              "      <th>SE</th>\n",
              "      <th>DataType</th>\n",
              "      <th>Position</th>\n",
              "      <th>ResponseTime</th>\n",
              "      <th>DateCreated</th>\n",
              "      <th>InstStarted</th>\n",
              "      <th>InstEnded</th>\n",
              "      <th>App Version</th>\n",
              "      <th>iPad Version</th>\n",
              "      <th>Firmware Version</th>\n",
              "      <th>Site</th>\n",
              "    </tr>\n",
              "  </thead>\n",
              "  <tbody>\n",
              "    <tr>\n",
              "      <th>0</th>\n",
              "      <td>210330_EPRC_00032_A_8Y</td>\n",
              "      <td>DB9A19BF-F81C-4244-9C7F-D0BB4A39D394</td>\n",
              "      <td>Assessment 1</td>\n",
              "      <td>1</td>\n",
              "      <td>1</td>\n",
              "      <td>1</td>\n",
              "      <td>NIH Toolbox Picture Vocabulary Test Age 3+ Pra...</td>\n",
              "      <td>en-US</td>\n",
              "      <td>VOCAB_INTRO</td>\n",
              "      <td>NaN</td>\n",
              "      <td>NaN</td>\n",
              "      <td>NaN</td>\n",
              "      <td>NaN</td>\n",
              "      <td>NaN</td>\n",
              "      <td>informational</td>\n",
              "      <td>NaN</td>\n",
              "      <td>NaN</td>\n",
              "      <td>2021-03-30 09:43:19</td>\n",
              "      <td>2021-03-30 09:43:16</td>\n",
              "      <td>2021-03-30 09:44:46</td>\n",
              "      <td>1.23.4300</td>\n",
              "      <td>iPad Pro 1st Gen (10.5-inch) / iPad7,3</td>\n",
              "      <td>14.4.1</td>\n",
              "      <td>Rapid City</td>\n",
              "    </tr>\n",
              "    <tr>\n",
              "      <th>1</th>\n",
              "      <td>210330_EPRC_00032_A_8Y</td>\n",
              "      <td>DB9A19BF-F81C-4244-9C7F-D0BB4A39D394</td>\n",
              "      <td>Assessment 1</td>\n",
              "      <td>1</td>\n",
              "      <td>1</td>\n",
              "      <td>2</td>\n",
              "      <td>NIH Toolbox Picture Vocabulary Test Age 3+ Pra...</td>\n",
              "      <td>en-US</td>\n",
              "      <td>VOCAB_INSTR1</td>\n",
              "      <td>NaN</td>\n",
              "      <td>NaN</td>\n",
              "      <td>NaN</td>\n",
              "      <td>NaN</td>\n",
              "      <td>NaN</td>\n",
              "      <td>informational</td>\n",
              "      <td>NaN</td>\n",
              "      <td>NaN</td>\n",
              "      <td>2021-03-30 09:44:10</td>\n",
              "      <td>2021-03-30 09:43:16</td>\n",
              "      <td>2021-03-30 09:44:46</td>\n",
              "      <td>1.23.4300</td>\n",
              "      <td>iPad Pro 1st Gen (10.5-inch) / iPad7,3</td>\n",
              "      <td>14.4.1</td>\n",
              "      <td>Rapid City</td>\n",
              "    </tr>\n",
              "    <tr>\n",
              "      <th>2</th>\n",
              "      <td>210330_EPRC_00032_A_8Y</td>\n",
              "      <td>DB9A19BF-F81C-4244-9C7F-D0BB4A39D394</td>\n",
              "      <td>Assessment 1</td>\n",
              "      <td>1</td>\n",
              "      <td>1</td>\n",
              "      <td>3</td>\n",
              "      <td>NIH Toolbox Picture Vocabulary Test Age 3+ Pra...</td>\n",
              "      <td>en-US</td>\n",
              "      <td>VOCAB_PRACT1</td>\n",
              "      <td>4</td>\n",
              "      <td>1.0</td>\n",
              "      <td>NaN</td>\n",
              "      <td>NaN</td>\n",
              "      <td>NaN</td>\n",
              "      <td>integer</td>\n",
              "      <td>1.0</td>\n",
              "      <td>6.432752</td>\n",
              "      <td>2021-03-30 09:44:17</td>\n",
              "      <td>2021-03-30 09:43:16</td>\n",
              "      <td>2021-03-30 09:44:46</td>\n",
              "      <td>1.23.4300</td>\n",
              "      <td>iPad Pro 1st Gen (10.5-inch) / iPad7,3</td>\n",
              "      <td>14.4.1</td>\n",
              "      <td>Rapid City</td>\n",
              "    </tr>\n",
              "    <tr>\n",
              "      <th>3</th>\n",
              "      <td>210330_EPRC_00032_A_8Y</td>\n",
              "      <td>DB9A19BF-F81C-4244-9C7F-D0BB4A39D394</td>\n",
              "      <td>Assessment 1</td>\n",
              "      <td>1</td>\n",
              "      <td>1</td>\n",
              "      <td>4</td>\n",
              "      <td>NIH Toolbox Picture Vocabulary Test Age 3+ Pra...</td>\n",
              "      <td>en-US</td>\n",
              "      <td>VOCAB_PRACT2</td>\n",
              "      <td>3</td>\n",
              "      <td>1.0</td>\n",
              "      <td>NaN</td>\n",
              "      <td>NaN</td>\n",
              "      <td>NaN</td>\n",
              "      <td>integer</td>\n",
              "      <td>2.0</td>\n",
              "      <td>6.050304</td>\n",
              "      <td>2021-03-30 09:44:24</td>\n",
              "      <td>2021-03-30 09:43:16</td>\n",
              "      <td>2021-03-30 09:44:46</td>\n",
              "      <td>1.23.4300</td>\n",
              "      <td>iPad Pro 1st Gen (10.5-inch) / iPad7,3</td>\n",
              "      <td>14.4.1</td>\n",
              "      <td>Rapid City</td>\n",
              "    </tr>\n",
              "    <tr>\n",
              "      <th>4</th>\n",
              "      <td>210330_EPRC_00032_A_8Y</td>\n",
              "      <td>DB9A19BF-F81C-4244-9C7F-D0BB4A39D394</td>\n",
              "      <td>Assessment 1</td>\n",
              "      <td>1</td>\n",
              "      <td>1</td>\n",
              "      <td>5</td>\n",
              "      <td>NIH Toolbox Picture Vocabulary Test Age 3+ Pra...</td>\n",
              "      <td>en-US</td>\n",
              "      <td>VOCAB_INSTR2</td>\n",
              "      <td>NaN</td>\n",
              "      <td>NaN</td>\n",
              "      <td>NaN</td>\n",
              "      <td>NaN</td>\n",
              "      <td>NaN</td>\n",
              "      <td>informational</td>\n",
              "      <td>NaN</td>\n",
              "      <td>NaN</td>\n",
              "      <td>2021-03-30 09:44:46</td>\n",
              "      <td>2021-03-30 09:43:16</td>\n",
              "      <td>2021-03-30 09:44:46</td>\n",
              "      <td>1.23.4300</td>\n",
              "      <td>iPad Pro 1st Gen (10.5-inch) / iPad7,3</td>\n",
              "      <td>14.4.1</td>\n",
              "      <td>Rapid City</td>\n",
              "    </tr>\n",
              "  </tbody>\n",
              "</table>\n",
              "</div>"
            ],
            "text/plain": [
              "                      PIN  ...        Site\n",
              "0  210330_EPRC_00032_A_8Y  ...  Rapid City\n",
              "1  210330_EPRC_00032_A_8Y  ...  Rapid City\n",
              "2  210330_EPRC_00032_A_8Y  ...  Rapid City\n",
              "3  210330_EPRC_00032_A_8Y  ...  Rapid City\n",
              "4  210330_EPRC_00032_A_8Y  ...  Rapid City\n",
              "\n",
              "[5 rows x 24 columns]"
            ]
          },
          "metadata": {
            "tags": []
          },
          "execution_count": 14
        }
      ]
    },
    {
      "cell_type": "code",
      "metadata": {
        "colab": {
          "base_uri": "https://localhost:8080/"
        },
        "id": "tn5Zdkf1iMfw",
        "outputId": "6c3d811f-2391-4d8b-fa74-d67463a292fa"
      },
      "source": [
        "df.columns"
      ],
      "execution_count": null,
      "outputs": [
        {
          "output_type": "execute_result",
          "data": {
            "text/plain": [
              "Index(['PIN', 'DeviceID', 'Assessment Name', 'InstOrdr', 'InstSctn', 'ItmOrdr',\n",
              "       'Inst', 'Locale', 'ItemID', 'Response', 'Score', 'Theta', 'TScore',\n",
              "       'SE', 'DataType', 'Position', 'ResponseTime', 'DateCreated',\n",
              "       'InstStarted', 'InstEnded', 'App Version', 'iPad Version',\n",
              "       'Firmware Version', 'Site'],\n",
              "      dtype='object')"
            ]
          },
          "metadata": {
            "tags": []
          },
          "execution_count": 15
        }
      ]
    },
    {
      "cell_type": "code",
      "metadata": {
        "id": "j7Uoq7LygW1V"
      },
      "source": [
        "#Reshape the data for EPSF_00944 and EPSF_00943 from long to wide\n",
        "sdf=sdf.pivot_table(index=['PIN', 'DeviceID', 'AssessmentName', 'ResponseID', 'ItemID',\n",
        "       'InstrumentTitle', 'TestName', 'InstrumentID'], columns='Key', values='Value', aggfunc='first').reset_index()"
      ],
      "execution_count": null,
      "outputs": []
    },
    {
      "cell_type": "code",
      "metadata": {
        "id": "nN2RXgoSqFn-"
      },
      "source": [
        "sdf.columns=['PIN', 'DeviceID', 'Assessment Name', 'ResponseID', 'ItemID',\n",
        "       'Inst', 'TestName', 'InstrumentID', 'App Version', 'DataType',\n",
        "       'DateCreated', 'Firmware Version', 'InstEnded',\n",
        "      'InstOrdr', 'InstSctn', 'InstStarted',\n",
        "       'ItmOrdr', 'Locale', 'Position', 'Response', 'ResponseTime', 'SE',\n",
        "       'Score', 'Theta', 'iPad Version']"
      ],
      "execution_count": null,
      "outputs": []
    },
    {
      "cell_type": "code",
      "metadata": {
        "id": "SRQvyDI1l3b1"
      },
      "source": [
        "sdf =sdf.drop(columns=['ResponseID','TestName','InstrumentID'])"
      ],
      "execution_count": null,
      "outputs": []
    },
    {
      "cell_type": "code",
      "metadata": {
        "id": "c5m78-52mONr"
      },
      "source": [
        "sdf['Site'] = 'Sioux Falls'"
      ],
      "execution_count": null,
      "outputs": []
    },
    {
      "cell_type": "code",
      "metadata": {
        "id": "H-UAtMUIkWAa"
      },
      "source": [
        "df = df.append(sdf)"
      ],
      "execution_count": null,
      "outputs": []
    },
    {
      "cell_type": "code",
      "metadata": {
        "colab": {
          "base_uri": "https://localhost:8080/"
        },
        "id": "T9XiKDi8lZ0z",
        "outputId": "3b1992d0-1611-45f2-e093-d4bc2dfddf17"
      },
      "source": [
        "df.shape"
      ],
      "execution_count": null,
      "outputs": [
        {
          "output_type": "execute_result",
          "data": {
            "text/plain": [
              "(2983, 24)"
            ]
          },
          "metadata": {
            "tags": []
          },
          "execution_count": 21
        }
      ]
    },
    {
      "cell_type": "code",
      "metadata": {
        "id": "vY67enVDXXne"
      },
      "source": [
        "df['PIN'] = df['PIN'].str[7:17]"
      ],
      "execution_count": null,
      "outputs": []
    },
    {
      "cell_type": "code",
      "metadata": {
        "id": "E5ZSa4DUXXne"
      },
      "source": [
        "df['InstStarted']= pd.to_datetime(df['InstStarted'])"
      ],
      "execution_count": null,
      "outputs": []
    },
    {
      "cell_type": "code",
      "metadata": {
        "id": "lumc7-HYXXnf"
      },
      "source": [
        "df['InstEnded']= pd.to_datetime(df['InstEnded'])"
      ],
      "execution_count": null,
      "outputs": []
    },
    {
      "cell_type": "code",
      "metadata": {
        "colab": {
          "base_uri": "https://localhost:8080/"
        },
        "id": "q09DIDy_XXng",
        "outputId": "a80a2474-1337-46d4-e4a7-0c608e2ffd05"
      },
      "source": [
        "mni =df.groupby(['PIN','Inst'])['InstStarted','InstEnded'].first().reset_index()"
      ],
      "execution_count": null,
      "outputs": [
        {
          "output_type": "stream",
          "text": [
            "/usr/local/lib/python3.7/dist-packages/ipykernel_launcher.py:1: FutureWarning: Indexing with multiple keys (implicitly converted to a tuple of keys) will be deprecated, use a list instead.\n",
            "  \"\"\"Entry point for launching an IPython kernel.\n"
          ],
          "name": "stderr"
        }
      ]
    },
    {
      "cell_type": "code",
      "metadata": {
        "id": "AKYCyKHhXXng"
      },
      "source": [
        "mni['Time']=mni['InstEnded']-mni['InstStarted']"
      ],
      "execution_count": null,
      "outputs": []
    },
    {
      "cell_type": "code",
      "metadata": {
        "id": "I3Fr7g-eYvSZ"
      },
      "source": [
        "mni=mni.drop(columns=['InstStarted'])"
      ],
      "execution_count": null,
      "outputs": []
    },
    {
      "cell_type": "code",
      "metadata": {
        "id": "BUmKDYpTXXnh"
      },
      "source": [
        "IP =mni.groupby(['PIN'])['Time'].sum().reset_index()"
      ],
      "execution_count": null,
      "outputs": []
    },
    {
      "cell_type": "code",
      "metadata": {
        "id": "BmnWLgBYXXnh"
      },
      "source": [
        "IP['Time']=round(IP['Time'].dt.total_seconds()/60,2)"
      ],
      "execution_count": null,
      "outputs": []
    },
    {
      "cell_type": "code",
      "metadata": {
        "id": "TaVkbMoAjUaW"
      },
      "source": [
        "mni['Time']=round(mni['Time'].dt.total_seconds()/60,2)"
      ],
      "execution_count": null,
      "outputs": []
    },
    {
      "cell_type": "code",
      "metadata": {
        "id": "oDTt-ymSwHPZ"
      },
      "source": [
        "mni['Mode'] = 'In Person'"
      ],
      "execution_count": null,
      "outputs": []
    },
    {
      "cell_type": "code",
      "metadata": {
        "id": "bqxJPDOTT7ag"
      },
      "source": [
        "mni.InstEnded= mni.InstEnded.map(lambda x: x.strftime('%Y-%m-%d'))"
      ],
      "execution_count": null,
      "outputs": []
    },
    {
      "cell_type": "code",
      "metadata": {
        "id": "6zlMD1z0DOwT"
      },
      "source": [
        "mni.rename(columns={'InstEnded':'Date'}, inplace=True)"
      ],
      "execution_count": null,
      "outputs": []
    },
    {
      "cell_type": "code",
      "metadata": {
        "colab": {
          "base_uri": "https://localhost:8080/",
          "height": 399
        },
        "id": "80ycQdp3zH3k",
        "outputId": "a21110c6-83d4-46c5-8a6c-fe48cdd053f9"
      },
      "source": [
        "mni"
      ],
      "execution_count": null,
      "outputs": [
        {
          "output_type": "execute_result",
          "data": {
            "text/html": [
              "<div>\n",
              "<style scoped>\n",
              "    .dataframe tbody tr th:only-of-type {\n",
              "        vertical-align: middle;\n",
              "    }\n",
              "\n",
              "    .dataframe tbody tr th {\n",
              "        vertical-align: top;\n",
              "    }\n",
              "\n",
              "    .dataframe thead th {\n",
              "        text-align: right;\n",
              "    }\n",
              "</style>\n",
              "<table border=\"1\" class=\"dataframe\">\n",
              "  <thead>\n",
              "    <tr style=\"text-align: right;\">\n",
              "      <th></th>\n",
              "      <th>PIN</th>\n",
              "      <th>Inst</th>\n",
              "      <th>Date</th>\n",
              "      <th>Time</th>\n",
              "      <th>Mode</th>\n",
              "    </tr>\n",
              "  </thead>\n",
              "  <tbody>\n",
              "    <tr>\n",
              "      <th>0</th>\n",
              "      <td>EPRC_00032</td>\n",
              "      <td>NIH Toolbox Dimensional Change Card Sort Test ...</td>\n",
              "      <td>2021-03-30</td>\n",
              "      <td>5.30</td>\n",
              "      <td>In Person</td>\n",
              "    </tr>\n",
              "    <tr>\n",
              "      <th>1</th>\n",
              "      <td>EPRC_00032</td>\n",
              "      <td>NIH Toolbox Flanker Inhibitory Control and Att...</td>\n",
              "      <td>2021-03-30</td>\n",
              "      <td>3.97</td>\n",
              "      <td>In Person</td>\n",
              "    </tr>\n",
              "    <tr>\n",
              "      <th>2</th>\n",
              "      <td>EPRC_00032</td>\n",
              "      <td>NIH Toolbox List Sorting Working Memory Test A...</td>\n",
              "      <td>2021-03-30</td>\n",
              "      <td>10.60</td>\n",
              "      <td>In Person</td>\n",
              "    </tr>\n",
              "    <tr>\n",
              "      <th>3</th>\n",
              "      <td>EPRC_00032</td>\n",
              "      <td>NIH Toolbox Oral Reading Recognition Test Age ...</td>\n",
              "      <td>2021-03-30</td>\n",
              "      <td>1.43</td>\n",
              "      <td>In Person</td>\n",
              "    </tr>\n",
              "    <tr>\n",
              "      <th>4</th>\n",
              "      <td>EPRC_00032</td>\n",
              "      <td>NIH Toolbox Pattern Comparison Processing Spee...</td>\n",
              "      <td>2021-03-30</td>\n",
              "      <td>1.57</td>\n",
              "      <td>In Person</td>\n",
              "    </tr>\n",
              "    <tr>\n",
              "      <th>...</th>\n",
              "      <td>...</td>\n",
              "      <td>...</td>\n",
              "      <td>...</td>\n",
              "      <td>...</td>\n",
              "      <td>...</td>\n",
              "    </tr>\n",
              "    <tr>\n",
              "      <th>109</th>\n",
              "      <td>EPSF_01666</td>\n",
              "      <td>NIH Toolbox Pattern Comparison Processing Spee...</td>\n",
              "      <td>2021-04-12</td>\n",
              "      <td>1.82</td>\n",
              "      <td>In Person</td>\n",
              "    </tr>\n",
              "    <tr>\n",
              "      <th>110</th>\n",
              "      <td>EPSF_01666</td>\n",
              "      <td>NIH Toolbox Pattern Comparison Processing Spee...</td>\n",
              "      <td>2021-04-12</td>\n",
              "      <td>1.67</td>\n",
              "      <td>In Person</td>\n",
              "    </tr>\n",
              "    <tr>\n",
              "      <th>111</th>\n",
              "      <td>EPSF_01666</td>\n",
              "      <td>NIH Toolbox Picture Sequence Memory Test Age 8...</td>\n",
              "      <td>2021-04-12</td>\n",
              "      <td>6.47</td>\n",
              "      <td>In Person</td>\n",
              "    </tr>\n",
              "    <tr>\n",
              "      <th>112</th>\n",
              "      <td>EPSF_01666</td>\n",
              "      <td>NIH Toolbox Picture Vocabulary Test Age 3+ Pra...</td>\n",
              "      <td>2021-04-12</td>\n",
              "      <td>1.40</td>\n",
              "      <td>In Person</td>\n",
              "    </tr>\n",
              "    <tr>\n",
              "      <th>113</th>\n",
              "      <td>EPSF_01666</td>\n",
              "      <td>NIH Toolbox Picture Vocabulary Test Age 3+ v2.1</td>\n",
              "      <td>2021-04-12</td>\n",
              "      <td>3.67</td>\n",
              "      <td>In Person</td>\n",
              "    </tr>\n",
              "  </tbody>\n",
              "</table>\n",
              "<p>114 rows × 5 columns</p>\n",
              "</div>"
            ],
            "text/plain": [
              "            PIN  ...       Mode\n",
              "0    EPRC_00032  ...  In Person\n",
              "1    EPRC_00032  ...  In Person\n",
              "2    EPRC_00032  ...  In Person\n",
              "3    EPRC_00032  ...  In Person\n",
              "4    EPRC_00032  ...  In Person\n",
              "..          ...  ...        ...\n",
              "109  EPSF_01666  ...  In Person\n",
              "110  EPSF_01666  ...  In Person\n",
              "111  EPSF_01666  ...  In Person\n",
              "112  EPSF_01666  ...  In Person\n",
              "113  EPSF_01666  ...  In Person\n",
              "\n",
              "[114 rows x 5 columns]"
            ]
          },
          "metadata": {
            "tags": []
          },
          "execution_count": 149
        }
      ]
    },
    {
      "cell_type": "code",
      "metadata": {
        "colab": {
          "base_uri": "https://localhost:8080/"
        },
        "id": "GrkuVakYXXni",
        "outputId": "235e2c35-f39d-4bd2-8dbe-5557cca15d48"
      },
      "source": [
        "IP['Time'].mean()"
      ],
      "execution_count": null,
      "outputs": [
        {
          "output_type": "execute_result",
          "data": {
            "text/plain": [
              "28.62266666666666"
            ]
          },
          "metadata": {
            "tags": []
          },
          "execution_count": 34
        }
      ]
    },
    {
      "cell_type": "code",
      "metadata": {
        "id": "i5SFWprZWYEB"
      },
      "source": [
        "# get all files from all RC Remote subdirectories\n",
        "\n",
        "all_files = glob.glob('/content/gdrive/My Drive/Avera/Rapid City/*/Remote/*CB_Data_R.csv')\n",
        "\n",
        "doc =[]\n",
        "for file in all_files:\n",
        "  data = pd.read_csv(file)\n",
        "  doc.append(data)\n",
        "\n",
        "# get all files from all SF Remote subdirectories\n",
        "all_files = glob.glob('/content/gdrive/My Drive/Avera/Sioux Falls/*/*Data_R.csv')\n",
        "\n",
        "for file in all_files:\n",
        "  data = pd.read_csv(file)\n",
        "  doc.append(data)\n",
        "\n",
        "df = pd.concat(doc)"
      ],
      "execution_count": null,
      "outputs": []
    },
    {
      "cell_type": "code",
      "metadata": {
        "colab": {
          "base_uri": "https://localhost:8080/",
          "height": 653
        },
        "id": "iHk1jo7075RY",
        "outputId": "ad019765-e6f5-46f5-fa83-c1ed5b5a40b8"
      },
      "source": [
        "df.head()"
      ],
      "execution_count": null,
      "outputs": [
        {
          "output_type": "execute_result",
          "data": {
            "text/html": [
              "<div>\n",
              "<style scoped>\n",
              "    .dataframe tbody tr th:only-of-type {\n",
              "        vertical-align: middle;\n",
              "    }\n",
              "\n",
              "    .dataframe tbody tr th {\n",
              "        vertical-align: top;\n",
              "    }\n",
              "\n",
              "    .dataframe thead th {\n",
              "        text-align: right;\n",
              "    }\n",
              "</style>\n",
              "<table border=\"1\" class=\"dataframe\">\n",
              "  <thead>\n",
              "    <tr style=\"text-align: right;\">\n",
              "      <th></th>\n",
              "      <th>PIN</th>\n",
              "      <th>DeviceID</th>\n",
              "      <th>Assessment Name</th>\n",
              "      <th>InstOrdr</th>\n",
              "      <th>InstSctn</th>\n",
              "      <th>ItmOrdr</th>\n",
              "      <th>Inst</th>\n",
              "      <th>Locale</th>\n",
              "      <th>ItemID</th>\n",
              "      <th>Response</th>\n",
              "      <th>Score</th>\n",
              "      <th>Theta</th>\n",
              "      <th>TScore</th>\n",
              "      <th>SE</th>\n",
              "      <th>DataType</th>\n",
              "      <th>Position</th>\n",
              "      <th>ResponseTime</th>\n",
              "      <th>DateCreated</th>\n",
              "      <th>InstStarted</th>\n",
              "      <th>InstEnded</th>\n",
              "      <th>App Version</th>\n",
              "      <th>iPad Version</th>\n",
              "      <th>Firmware Version</th>\n",
              "      <th>Site</th>\n",
              "      <th>Name</th>\n",
              "      <th>Age</th>\n",
              "      <th>Education</th>\n",
              "      <th>MothersEducation</th>\n",
              "      <th>FathersEducation</th>\n",
              "      <th>GuardiansEducation</th>\n",
              "      <th>StartingLevelOverride</th>\n",
              "      <th>Gender</th>\n",
              "      <th>Handedness</th>\n",
              "      <th>Race</th>\n",
              "      <th>Ethnicity</th>\n",
              "      <th>RegistrationID</th>\n",
              "      <th>ResponseID</th>\n",
              "      <th>AssessmentName</th>\n",
              "      <th>InstrumentTitle</th>\n",
              "      <th>TestName</th>\n",
              "      <th>InstrumentID</th>\n",
              "      <th>Key</th>\n",
              "      <th>Value</th>\n",
              "    </tr>\n",
              "  </thead>\n",
              "  <tbody>\n",
              "    <tr>\n",
              "      <th>0</th>\n",
              "      <td>210406_EPRC_00032_A_8Y</td>\n",
              "      <td>4C0D4D8F-B79D-47C3-AF1A-4D100D11BF28</td>\n",
              "      <td>Assessment 1</td>\n",
              "      <td>1.0</td>\n",
              "      <td>1.0</td>\n",
              "      <td>1.0</td>\n",
              "      <td>NIH Toolbox Picture Vocabulary Test Age 3+ Pra...</td>\n",
              "      <td>en-US</td>\n",
              "      <td>VOCAB_INTRO</td>\n",
              "      <td>NaN</td>\n",
              "      <td>NaN</td>\n",
              "      <td>NaN</td>\n",
              "      <td>NaN</td>\n",
              "      <td>NaN</td>\n",
              "      <td>informational</td>\n",
              "      <td>NaN</td>\n",
              "      <td>NaN</td>\n",
              "      <td>2021-04-06 15:56:38</td>\n",
              "      <td>2021-04-06 15:56:35</td>\n",
              "      <td>2021-04-06 15:59:23</td>\n",
              "      <td>1.23.4532 (Participant)</td>\n",
              "      <td>iPad Pro 1st Gen (10.5-inch) / iPad7,3</td>\n",
              "      <td>14.4.1</td>\n",
              "      <td>Rapid City</td>\n",
              "      <td>NaN</td>\n",
              "      <td>NaN</td>\n",
              "      <td>NaN</td>\n",
              "      <td>NaN</td>\n",
              "      <td>NaN</td>\n",
              "      <td>NaN</td>\n",
              "      <td>NaN</td>\n",
              "      <td>NaN</td>\n",
              "      <td>NaN</td>\n",
              "      <td>NaN</td>\n",
              "      <td>NaN</td>\n",
              "      <td>NaN</td>\n",
              "      <td>NaN</td>\n",
              "      <td>NaN</td>\n",
              "      <td>NaN</td>\n",
              "      <td>NaN</td>\n",
              "      <td>NaN</td>\n",
              "      <td>NaN</td>\n",
              "      <td>NaN</td>\n",
              "    </tr>\n",
              "    <tr>\n",
              "      <th>1</th>\n",
              "      <td>210406_EPRC_00032_A_8Y</td>\n",
              "      <td>4C0D4D8F-B79D-47C3-AF1A-4D100D11BF28</td>\n",
              "      <td>Assessment 1</td>\n",
              "      <td>1.0</td>\n",
              "      <td>1.0</td>\n",
              "      <td>2.0</td>\n",
              "      <td>NIH Toolbox Picture Vocabulary Test Age 3+ Pra...</td>\n",
              "      <td>en-US</td>\n",
              "      <td>VOCAB_INSTR1</td>\n",
              "      <td>NaN</td>\n",
              "      <td>NaN</td>\n",
              "      <td>NaN</td>\n",
              "      <td>NaN</td>\n",
              "      <td>NaN</td>\n",
              "      <td>informational</td>\n",
              "      <td>NaN</td>\n",
              "      <td>NaN</td>\n",
              "      <td>2021-04-06 15:58:23</td>\n",
              "      <td>2021-04-06 15:56:35</td>\n",
              "      <td>2021-04-06 15:59:23</td>\n",
              "      <td>1.23.4532 (Participant)</td>\n",
              "      <td>iPad Pro 1st Gen (10.5-inch) / iPad7,3</td>\n",
              "      <td>14.4.1</td>\n",
              "      <td>Rapid City</td>\n",
              "      <td>NaN</td>\n",
              "      <td>NaN</td>\n",
              "      <td>NaN</td>\n",
              "      <td>NaN</td>\n",
              "      <td>NaN</td>\n",
              "      <td>NaN</td>\n",
              "      <td>NaN</td>\n",
              "      <td>NaN</td>\n",
              "      <td>NaN</td>\n",
              "      <td>NaN</td>\n",
              "      <td>NaN</td>\n",
              "      <td>NaN</td>\n",
              "      <td>NaN</td>\n",
              "      <td>NaN</td>\n",
              "      <td>NaN</td>\n",
              "      <td>NaN</td>\n",
              "      <td>NaN</td>\n",
              "      <td>NaN</td>\n",
              "      <td>NaN</td>\n",
              "    </tr>\n",
              "    <tr>\n",
              "      <th>2</th>\n",
              "      <td>210406_EPRC_00032_A_8Y</td>\n",
              "      <td>4C0D4D8F-B79D-47C3-AF1A-4D100D11BF28</td>\n",
              "      <td>Assessment 1</td>\n",
              "      <td>1.0</td>\n",
              "      <td>1.0</td>\n",
              "      <td>3.0</td>\n",
              "      <td>NIH Toolbox Picture Vocabulary Test Age 3+ Pra...</td>\n",
              "      <td>en-US</td>\n",
              "      <td>VOCAB_PRACT1</td>\n",
              "      <td>4</td>\n",
              "      <td>1.0</td>\n",
              "      <td>NaN</td>\n",
              "      <td>NaN</td>\n",
              "      <td>NaN</td>\n",
              "      <td>integer</td>\n",
              "      <td>1.0</td>\n",
              "      <td>6.987060</td>\n",
              "      <td>2021-04-06 15:58:31</td>\n",
              "      <td>2021-04-06 15:56:35</td>\n",
              "      <td>2021-04-06 15:59:23</td>\n",
              "      <td>1.23.4532 (Participant)</td>\n",
              "      <td>iPad Pro 1st Gen (10.5-inch) / iPad7,3</td>\n",
              "      <td>14.4.1</td>\n",
              "      <td>Rapid City</td>\n",
              "      <td>NaN</td>\n",
              "      <td>NaN</td>\n",
              "      <td>NaN</td>\n",
              "      <td>NaN</td>\n",
              "      <td>NaN</td>\n",
              "      <td>NaN</td>\n",
              "      <td>NaN</td>\n",
              "      <td>NaN</td>\n",
              "      <td>NaN</td>\n",
              "      <td>NaN</td>\n",
              "      <td>NaN</td>\n",
              "      <td>NaN</td>\n",
              "      <td>NaN</td>\n",
              "      <td>NaN</td>\n",
              "      <td>NaN</td>\n",
              "      <td>NaN</td>\n",
              "      <td>NaN</td>\n",
              "      <td>NaN</td>\n",
              "      <td>NaN</td>\n",
              "    </tr>\n",
              "    <tr>\n",
              "      <th>3</th>\n",
              "      <td>210406_EPRC_00032_A_8Y</td>\n",
              "      <td>4C0D4D8F-B79D-47C3-AF1A-4D100D11BF28</td>\n",
              "      <td>Assessment 1</td>\n",
              "      <td>1.0</td>\n",
              "      <td>1.0</td>\n",
              "      <td>4.0</td>\n",
              "      <td>NIH Toolbox Picture Vocabulary Test Age 3+ Pra...</td>\n",
              "      <td>en-US</td>\n",
              "      <td>VOCAB_PRACT2</td>\n",
              "      <td>3</td>\n",
              "      <td>1.0</td>\n",
              "      <td>NaN</td>\n",
              "      <td>NaN</td>\n",
              "      <td>NaN</td>\n",
              "      <td>integer</td>\n",
              "      <td>2.0</td>\n",
              "      <td>7.224716</td>\n",
              "      <td>2021-04-06 15:58:40</td>\n",
              "      <td>2021-04-06 15:56:35</td>\n",
              "      <td>2021-04-06 15:59:23</td>\n",
              "      <td>1.23.4532 (Participant)</td>\n",
              "      <td>iPad Pro 1st Gen (10.5-inch) / iPad7,3</td>\n",
              "      <td>14.4.1</td>\n",
              "      <td>Rapid City</td>\n",
              "      <td>NaN</td>\n",
              "      <td>NaN</td>\n",
              "      <td>NaN</td>\n",
              "      <td>NaN</td>\n",
              "      <td>NaN</td>\n",
              "      <td>NaN</td>\n",
              "      <td>NaN</td>\n",
              "      <td>NaN</td>\n",
              "      <td>NaN</td>\n",
              "      <td>NaN</td>\n",
              "      <td>NaN</td>\n",
              "      <td>NaN</td>\n",
              "      <td>NaN</td>\n",
              "      <td>NaN</td>\n",
              "      <td>NaN</td>\n",
              "      <td>NaN</td>\n",
              "      <td>NaN</td>\n",
              "      <td>NaN</td>\n",
              "      <td>NaN</td>\n",
              "    </tr>\n",
              "    <tr>\n",
              "      <th>4</th>\n",
              "      <td>210406_EPRC_00032_A_8Y</td>\n",
              "      <td>4C0D4D8F-B79D-47C3-AF1A-4D100D11BF28</td>\n",
              "      <td>Assessment 1</td>\n",
              "      <td>1.0</td>\n",
              "      <td>1.0</td>\n",
              "      <td>5.0</td>\n",
              "      <td>NIH Toolbox Picture Vocabulary Test Age 3+ Pra...</td>\n",
              "      <td>en-US</td>\n",
              "      <td>VOCAB_INSTR2</td>\n",
              "      <td>NaN</td>\n",
              "      <td>NaN</td>\n",
              "      <td>NaN</td>\n",
              "      <td>NaN</td>\n",
              "      <td>NaN</td>\n",
              "      <td>informational</td>\n",
              "      <td>NaN</td>\n",
              "      <td>NaN</td>\n",
              "      <td>2021-04-06 15:59:23</td>\n",
              "      <td>2021-04-06 15:56:35</td>\n",
              "      <td>2021-04-06 15:59:23</td>\n",
              "      <td>1.23.4532 (Participant)</td>\n",
              "      <td>iPad Pro 1st Gen (10.5-inch) / iPad7,3</td>\n",
              "      <td>14.4.1</td>\n",
              "      <td>Rapid City</td>\n",
              "      <td>NaN</td>\n",
              "      <td>NaN</td>\n",
              "      <td>NaN</td>\n",
              "      <td>NaN</td>\n",
              "      <td>NaN</td>\n",
              "      <td>NaN</td>\n",
              "      <td>NaN</td>\n",
              "      <td>NaN</td>\n",
              "      <td>NaN</td>\n",
              "      <td>NaN</td>\n",
              "      <td>NaN</td>\n",
              "      <td>NaN</td>\n",
              "      <td>NaN</td>\n",
              "      <td>NaN</td>\n",
              "      <td>NaN</td>\n",
              "      <td>NaN</td>\n",
              "      <td>NaN</td>\n",
              "      <td>NaN</td>\n",
              "      <td>NaN</td>\n",
              "    </tr>\n",
              "  </tbody>\n",
              "</table>\n",
              "</div>"
            ],
            "text/plain": [
              "                      PIN                              DeviceID  ...  Key  Value\n",
              "0  210406_EPRC_00032_A_8Y  4C0D4D8F-B79D-47C3-AF1A-4D100D11BF28  ...  NaN    NaN\n",
              "1  210406_EPRC_00032_A_8Y  4C0D4D8F-B79D-47C3-AF1A-4D100D11BF28  ...  NaN    NaN\n",
              "2  210406_EPRC_00032_A_8Y  4C0D4D8F-B79D-47C3-AF1A-4D100D11BF28  ...  NaN    NaN\n",
              "3  210406_EPRC_00032_A_8Y  4C0D4D8F-B79D-47C3-AF1A-4D100D11BF28  ...  NaN    NaN\n",
              "4  210406_EPRC_00032_A_8Y  4C0D4D8F-B79D-47C3-AF1A-4D100D11BF28  ...  NaN    NaN\n",
              "\n",
              "[5 rows x 43 columns]"
            ]
          },
          "metadata": {
            "tags": []
          },
          "execution_count": 36
        }
      ]
    },
    {
      "cell_type": "code",
      "metadata": {
        "colab": {
          "base_uri": "https://localhost:8080/",
          "height": 1000
        },
        "id": "OOf3fmWnq4WT",
        "outputId": "65d6a8f4-18d0-4ced-8395-c70397a1e051"
      },
      "source": [
        "df.dropna(axis=1, how='all')\n"
      ],
      "execution_count": null,
      "outputs": [
        {
          "output_type": "execute_result",
          "data": {
            "text/html": [
              "<div>\n",
              "<style scoped>\n",
              "    .dataframe tbody tr th:only-of-type {\n",
              "        vertical-align: middle;\n",
              "    }\n",
              "\n",
              "    .dataframe tbody tr th {\n",
              "        vertical-align: top;\n",
              "    }\n",
              "\n",
              "    .dataframe thead th {\n",
              "        text-align: right;\n",
              "    }\n",
              "</style>\n",
              "<table border=\"1\" class=\"dataframe\">\n",
              "  <thead>\n",
              "    <tr style=\"text-align: right;\">\n",
              "      <th></th>\n",
              "      <th>PIN</th>\n",
              "      <th>DeviceID</th>\n",
              "      <th>Assessment Name</th>\n",
              "      <th>InstOrdr</th>\n",
              "      <th>InstSctn</th>\n",
              "      <th>ItmOrdr</th>\n",
              "      <th>Inst</th>\n",
              "      <th>Locale</th>\n",
              "      <th>ItemID</th>\n",
              "      <th>Response</th>\n",
              "      <th>Score</th>\n",
              "      <th>Theta</th>\n",
              "      <th>TScore</th>\n",
              "      <th>SE</th>\n",
              "      <th>DataType</th>\n",
              "      <th>Position</th>\n",
              "      <th>ResponseTime</th>\n",
              "      <th>DateCreated</th>\n",
              "      <th>InstStarted</th>\n",
              "      <th>InstEnded</th>\n",
              "      <th>App Version</th>\n",
              "      <th>iPad Version</th>\n",
              "      <th>Firmware Version</th>\n",
              "      <th>Site</th>\n",
              "      <th>Age</th>\n",
              "      <th>Education</th>\n",
              "      <th>MothersEducation</th>\n",
              "      <th>Gender</th>\n",
              "      <th>Handedness</th>\n",
              "      <th>Race</th>\n",
              "      <th>Ethnicity</th>\n",
              "      <th>RegistrationID</th>\n",
              "      <th>ResponseID</th>\n",
              "      <th>AssessmentName</th>\n",
              "      <th>InstrumentTitle</th>\n",
              "      <th>TestName</th>\n",
              "      <th>InstrumentID</th>\n",
              "      <th>Key</th>\n",
              "      <th>Value</th>\n",
              "    </tr>\n",
              "  </thead>\n",
              "  <tbody>\n",
              "    <tr>\n",
              "      <th>0</th>\n",
              "      <td>210406_EPRC_00032_A_8Y</td>\n",
              "      <td>4C0D4D8F-B79D-47C3-AF1A-4D100D11BF28</td>\n",
              "      <td>Assessment 1</td>\n",
              "      <td>1.0</td>\n",
              "      <td>1.0</td>\n",
              "      <td>1.0</td>\n",
              "      <td>NIH Toolbox Picture Vocabulary Test Age 3+ Pra...</td>\n",
              "      <td>en-US</td>\n",
              "      <td>VOCAB_INTRO</td>\n",
              "      <td>NaN</td>\n",
              "      <td>NaN</td>\n",
              "      <td>NaN</td>\n",
              "      <td>NaN</td>\n",
              "      <td>NaN</td>\n",
              "      <td>informational</td>\n",
              "      <td>NaN</td>\n",
              "      <td>NaN</td>\n",
              "      <td>2021-04-06 15:56:38</td>\n",
              "      <td>2021-04-06 15:56:35</td>\n",
              "      <td>2021-04-06 15:59:23</td>\n",
              "      <td>1.23.4532 (Participant)</td>\n",
              "      <td>iPad Pro 1st Gen (10.5-inch) / iPad7,3</td>\n",
              "      <td>14.4.1</td>\n",
              "      <td>Rapid City</td>\n",
              "      <td>NaN</td>\n",
              "      <td>NaN</td>\n",
              "      <td>NaN</td>\n",
              "      <td>NaN</td>\n",
              "      <td>NaN</td>\n",
              "      <td>NaN</td>\n",
              "      <td>NaN</td>\n",
              "      <td>NaN</td>\n",
              "      <td>NaN</td>\n",
              "      <td>NaN</td>\n",
              "      <td>NaN</td>\n",
              "      <td>NaN</td>\n",
              "      <td>NaN</td>\n",
              "      <td>NaN</td>\n",
              "      <td>NaN</td>\n",
              "    </tr>\n",
              "    <tr>\n",
              "      <th>1</th>\n",
              "      <td>210406_EPRC_00032_A_8Y</td>\n",
              "      <td>4C0D4D8F-B79D-47C3-AF1A-4D100D11BF28</td>\n",
              "      <td>Assessment 1</td>\n",
              "      <td>1.0</td>\n",
              "      <td>1.0</td>\n",
              "      <td>2.0</td>\n",
              "      <td>NIH Toolbox Picture Vocabulary Test Age 3+ Pra...</td>\n",
              "      <td>en-US</td>\n",
              "      <td>VOCAB_INSTR1</td>\n",
              "      <td>NaN</td>\n",
              "      <td>NaN</td>\n",
              "      <td>NaN</td>\n",
              "      <td>NaN</td>\n",
              "      <td>NaN</td>\n",
              "      <td>informational</td>\n",
              "      <td>NaN</td>\n",
              "      <td>NaN</td>\n",
              "      <td>2021-04-06 15:58:23</td>\n",
              "      <td>2021-04-06 15:56:35</td>\n",
              "      <td>2021-04-06 15:59:23</td>\n",
              "      <td>1.23.4532 (Participant)</td>\n",
              "      <td>iPad Pro 1st Gen (10.5-inch) / iPad7,3</td>\n",
              "      <td>14.4.1</td>\n",
              "      <td>Rapid City</td>\n",
              "      <td>NaN</td>\n",
              "      <td>NaN</td>\n",
              "      <td>NaN</td>\n",
              "      <td>NaN</td>\n",
              "      <td>NaN</td>\n",
              "      <td>NaN</td>\n",
              "      <td>NaN</td>\n",
              "      <td>NaN</td>\n",
              "      <td>NaN</td>\n",
              "      <td>NaN</td>\n",
              "      <td>NaN</td>\n",
              "      <td>NaN</td>\n",
              "      <td>NaN</td>\n",
              "      <td>NaN</td>\n",
              "      <td>NaN</td>\n",
              "    </tr>\n",
              "    <tr>\n",
              "      <th>2</th>\n",
              "      <td>210406_EPRC_00032_A_8Y</td>\n",
              "      <td>4C0D4D8F-B79D-47C3-AF1A-4D100D11BF28</td>\n",
              "      <td>Assessment 1</td>\n",
              "      <td>1.0</td>\n",
              "      <td>1.0</td>\n",
              "      <td>3.0</td>\n",
              "      <td>NIH Toolbox Picture Vocabulary Test Age 3+ Pra...</td>\n",
              "      <td>en-US</td>\n",
              "      <td>VOCAB_PRACT1</td>\n",
              "      <td>4</td>\n",
              "      <td>1.0</td>\n",
              "      <td>NaN</td>\n",
              "      <td>NaN</td>\n",
              "      <td>NaN</td>\n",
              "      <td>integer</td>\n",
              "      <td>1.0</td>\n",
              "      <td>6.987060</td>\n",
              "      <td>2021-04-06 15:58:31</td>\n",
              "      <td>2021-04-06 15:56:35</td>\n",
              "      <td>2021-04-06 15:59:23</td>\n",
              "      <td>1.23.4532 (Participant)</td>\n",
              "      <td>iPad Pro 1st Gen (10.5-inch) / iPad7,3</td>\n",
              "      <td>14.4.1</td>\n",
              "      <td>Rapid City</td>\n",
              "      <td>NaN</td>\n",
              "      <td>NaN</td>\n",
              "      <td>NaN</td>\n",
              "      <td>NaN</td>\n",
              "      <td>NaN</td>\n",
              "      <td>NaN</td>\n",
              "      <td>NaN</td>\n",
              "      <td>NaN</td>\n",
              "      <td>NaN</td>\n",
              "      <td>NaN</td>\n",
              "      <td>NaN</td>\n",
              "      <td>NaN</td>\n",
              "      <td>NaN</td>\n",
              "      <td>NaN</td>\n",
              "      <td>NaN</td>\n",
              "    </tr>\n",
              "    <tr>\n",
              "      <th>3</th>\n",
              "      <td>210406_EPRC_00032_A_8Y</td>\n",
              "      <td>4C0D4D8F-B79D-47C3-AF1A-4D100D11BF28</td>\n",
              "      <td>Assessment 1</td>\n",
              "      <td>1.0</td>\n",
              "      <td>1.0</td>\n",
              "      <td>4.0</td>\n",
              "      <td>NIH Toolbox Picture Vocabulary Test Age 3+ Pra...</td>\n",
              "      <td>en-US</td>\n",
              "      <td>VOCAB_PRACT2</td>\n",
              "      <td>3</td>\n",
              "      <td>1.0</td>\n",
              "      <td>NaN</td>\n",
              "      <td>NaN</td>\n",
              "      <td>NaN</td>\n",
              "      <td>integer</td>\n",
              "      <td>2.0</td>\n",
              "      <td>7.224716</td>\n",
              "      <td>2021-04-06 15:58:40</td>\n",
              "      <td>2021-04-06 15:56:35</td>\n",
              "      <td>2021-04-06 15:59:23</td>\n",
              "      <td>1.23.4532 (Participant)</td>\n",
              "      <td>iPad Pro 1st Gen (10.5-inch) / iPad7,3</td>\n",
              "      <td>14.4.1</td>\n",
              "      <td>Rapid City</td>\n",
              "      <td>NaN</td>\n",
              "      <td>NaN</td>\n",
              "      <td>NaN</td>\n",
              "      <td>NaN</td>\n",
              "      <td>NaN</td>\n",
              "      <td>NaN</td>\n",
              "      <td>NaN</td>\n",
              "      <td>NaN</td>\n",
              "      <td>NaN</td>\n",
              "      <td>NaN</td>\n",
              "      <td>NaN</td>\n",
              "      <td>NaN</td>\n",
              "      <td>NaN</td>\n",
              "      <td>NaN</td>\n",
              "      <td>NaN</td>\n",
              "    </tr>\n",
              "    <tr>\n",
              "      <th>4</th>\n",
              "      <td>210406_EPRC_00032_A_8Y</td>\n",
              "      <td>4C0D4D8F-B79D-47C3-AF1A-4D100D11BF28</td>\n",
              "      <td>Assessment 1</td>\n",
              "      <td>1.0</td>\n",
              "      <td>1.0</td>\n",
              "      <td>5.0</td>\n",
              "      <td>NIH Toolbox Picture Vocabulary Test Age 3+ Pra...</td>\n",
              "      <td>en-US</td>\n",
              "      <td>VOCAB_INSTR2</td>\n",
              "      <td>NaN</td>\n",
              "      <td>NaN</td>\n",
              "      <td>NaN</td>\n",
              "      <td>NaN</td>\n",
              "      <td>NaN</td>\n",
              "      <td>informational</td>\n",
              "      <td>NaN</td>\n",
              "      <td>NaN</td>\n",
              "      <td>2021-04-06 15:59:23</td>\n",
              "      <td>2021-04-06 15:56:35</td>\n",
              "      <td>2021-04-06 15:59:23</td>\n",
              "      <td>1.23.4532 (Participant)</td>\n",
              "      <td>iPad Pro 1st Gen (10.5-inch) / iPad7,3</td>\n",
              "      <td>14.4.1</td>\n",
              "      <td>Rapid City</td>\n",
              "      <td>NaN</td>\n",
              "      <td>NaN</td>\n",
              "      <td>NaN</td>\n",
              "      <td>NaN</td>\n",
              "      <td>NaN</td>\n",
              "      <td>NaN</td>\n",
              "      <td>NaN</td>\n",
              "      <td>NaN</td>\n",
              "      <td>NaN</td>\n",
              "      <td>NaN</td>\n",
              "      <td>NaN</td>\n",
              "      <td>NaN</td>\n",
              "      <td>NaN</td>\n",
              "      <td>NaN</td>\n",
              "      <td>NaN</td>\n",
              "    </tr>\n",
              "    <tr>\n",
              "      <th>...</th>\n",
              "      <td>...</td>\n",
              "      <td>...</td>\n",
              "      <td>...</td>\n",
              "      <td>...</td>\n",
              "      <td>...</td>\n",
              "      <td>...</td>\n",
              "      <td>...</td>\n",
              "      <td>...</td>\n",
              "      <td>...</td>\n",
              "      <td>...</td>\n",
              "      <td>...</td>\n",
              "      <td>...</td>\n",
              "      <td>...</td>\n",
              "      <td>...</td>\n",
              "      <td>...</td>\n",
              "      <td>...</td>\n",
              "      <td>...</td>\n",
              "      <td>...</td>\n",
              "      <td>...</td>\n",
              "      <td>...</td>\n",
              "      <td>...</td>\n",
              "      <td>...</td>\n",
              "      <td>...</td>\n",
              "      <td>...</td>\n",
              "      <td>...</td>\n",
              "      <td>...</td>\n",
              "      <td>...</td>\n",
              "      <td>...</td>\n",
              "      <td>...</td>\n",
              "      <td>...</td>\n",
              "      <td>...</td>\n",
              "      <td>...</td>\n",
              "      <td>...</td>\n",
              "      <td>...</td>\n",
              "      <td>...</td>\n",
              "      <td>...</td>\n",
              "      <td>...</td>\n",
              "      <td>...</td>\n",
              "      <td>...</td>\n",
              "    </tr>\n",
              "    <tr>\n",
              "      <th>2445</th>\n",
              "      <td>210415_EPSF_00836_A_8Y</td>\n",
              "      <td>D9185A72-5C4D-4B91-A6F1-50516C66E0DA</td>\n",
              "      <td>NaN</td>\n",
              "      <td>NaN</td>\n",
              "      <td>NaN</td>\n",
              "      <td>NaN</td>\n",
              "      <td>NaN</td>\n",
              "      <td>NaN</td>\n",
              "      <td>LARE068</td>\n",
              "      <td>NaN</td>\n",
              "      <td>NaN</td>\n",
              "      <td>NaN</td>\n",
              "      <td>NaN</td>\n",
              "      <td>NaN</td>\n",
              "      <td>NaN</td>\n",
              "      <td>NaN</td>\n",
              "      <td>NaN</td>\n",
              "      <td>NaN</td>\n",
              "      <td>NaN</td>\n",
              "      <td>NaN</td>\n",
              "      <td>NaN</td>\n",
              "      <td>NaN</td>\n",
              "      <td>NaN</td>\n",
              "      <td>Sioux Falls</td>\n",
              "      <td>NaN</td>\n",
              "      <td>NaN</td>\n",
              "      <td>NaN</td>\n",
              "      <td>NaN</td>\n",
              "      <td>NaN</td>\n",
              "      <td>NaN</td>\n",
              "      <td>NaN</td>\n",
              "      <td>802F58D6-421E-4C7B-90D3-7C8755B8C359</td>\n",
              "      <td>6C77952A-43C2-405A-812D-5B0AEF2E185E</td>\n",
              "      <td>Assessment 1</td>\n",
              "      <td>NIH Toolbox Oral Reading Recognition Test Age ...</td>\n",
              "      <td>OralRead_2</td>\n",
              "      <td>FE91F59E-2959-4ABE-AFE0-ADF8E23662C6</td>\n",
              "      <td>InstrumentStartedTimestamp</td>\n",
              "      <td>2021-04-15 11:41:48</td>\n",
              "    </tr>\n",
              "    <tr>\n",
              "      <th>2446</th>\n",
              "      <td>210415_EPSF_00836_A_8Y</td>\n",
              "      <td>D9185A72-5C4D-4B91-A6F1-50516C66E0DA</td>\n",
              "      <td>NaN</td>\n",
              "      <td>NaN</td>\n",
              "      <td>NaN</td>\n",
              "      <td>NaN</td>\n",
              "      <td>NaN</td>\n",
              "      <td>NaN</td>\n",
              "      <td>LARE068</td>\n",
              "      <td>NaN</td>\n",
              "      <td>NaN</td>\n",
              "      <td>NaN</td>\n",
              "      <td>NaN</td>\n",
              "      <td>NaN</td>\n",
              "      <td>NaN</td>\n",
              "      <td>NaN</td>\n",
              "      <td>NaN</td>\n",
              "      <td>NaN</td>\n",
              "      <td>NaN</td>\n",
              "      <td>NaN</td>\n",
              "      <td>NaN</td>\n",
              "      <td>NaN</td>\n",
              "      <td>NaN</td>\n",
              "      <td>Sioux Falls</td>\n",
              "      <td>NaN</td>\n",
              "      <td>NaN</td>\n",
              "      <td>NaN</td>\n",
              "      <td>NaN</td>\n",
              "      <td>NaN</td>\n",
              "      <td>NaN</td>\n",
              "      <td>NaN</td>\n",
              "      <td>802F58D6-421E-4C7B-90D3-7C8755B8C359</td>\n",
              "      <td>6C77952A-43C2-405A-812D-5B0AEF2E185E</td>\n",
              "      <td>Assessment 1</td>\n",
              "      <td>NIH Toolbox Oral Reading Recognition Test Age ...</td>\n",
              "      <td>OralRead_2</td>\n",
              "      <td>FE91F59E-2959-4ABE-AFE0-ADF8E23662C6</td>\n",
              "      <td>InstrumentEndedTimestamp</td>\n",
              "      <td>2021-04-15 11:43:40</td>\n",
              "    </tr>\n",
              "    <tr>\n",
              "      <th>2447</th>\n",
              "      <td>210415_EPSF_00836_A_8Y</td>\n",
              "      <td>D9185A72-5C4D-4B91-A6F1-50516C66E0DA</td>\n",
              "      <td>NaN</td>\n",
              "      <td>NaN</td>\n",
              "      <td>NaN</td>\n",
              "      <td>NaN</td>\n",
              "      <td>NaN</td>\n",
              "      <td>NaN</td>\n",
              "      <td>LARE068</td>\n",
              "      <td>NaN</td>\n",
              "      <td>NaN</td>\n",
              "      <td>NaN</td>\n",
              "      <td>NaN</td>\n",
              "      <td>NaN</td>\n",
              "      <td>NaN</td>\n",
              "      <td>NaN</td>\n",
              "      <td>NaN</td>\n",
              "      <td>NaN</td>\n",
              "      <td>NaN</td>\n",
              "      <td>NaN</td>\n",
              "      <td>NaN</td>\n",
              "      <td>NaN</td>\n",
              "      <td>NaN</td>\n",
              "      <td>Sioux Falls</td>\n",
              "      <td>NaN</td>\n",
              "      <td>NaN</td>\n",
              "      <td>NaN</td>\n",
              "      <td>NaN</td>\n",
              "      <td>NaN</td>\n",
              "      <td>NaN</td>\n",
              "      <td>NaN</td>\n",
              "      <td>802F58D6-421E-4C7B-90D3-7C8755B8C359</td>\n",
              "      <td>6C77952A-43C2-405A-812D-5B0AEF2E185E</td>\n",
              "      <td>Assessment 1</td>\n",
              "      <td>NIH Toolbox Oral Reading Recognition Test Age ...</td>\n",
              "      <td>OralRead_2</td>\n",
              "      <td>FE91F59E-2959-4ABE-AFE0-ADF8E23662C6</td>\n",
              "      <td>AppVersion</td>\n",
              "      <td>1.23.4532 (Participant)</td>\n",
              "    </tr>\n",
              "    <tr>\n",
              "      <th>2448</th>\n",
              "      <td>210415_EPSF_00836_A_8Y</td>\n",
              "      <td>D9185A72-5C4D-4B91-A6F1-50516C66E0DA</td>\n",
              "      <td>NaN</td>\n",
              "      <td>NaN</td>\n",
              "      <td>NaN</td>\n",
              "      <td>NaN</td>\n",
              "      <td>NaN</td>\n",
              "      <td>NaN</td>\n",
              "      <td>LARE068</td>\n",
              "      <td>NaN</td>\n",
              "      <td>NaN</td>\n",
              "      <td>NaN</td>\n",
              "      <td>NaN</td>\n",
              "      <td>NaN</td>\n",
              "      <td>NaN</td>\n",
              "      <td>NaN</td>\n",
              "      <td>NaN</td>\n",
              "      <td>NaN</td>\n",
              "      <td>NaN</td>\n",
              "      <td>NaN</td>\n",
              "      <td>NaN</td>\n",
              "      <td>NaN</td>\n",
              "      <td>NaN</td>\n",
              "      <td>Sioux Falls</td>\n",
              "      <td>NaN</td>\n",
              "      <td>NaN</td>\n",
              "      <td>NaN</td>\n",
              "      <td>NaN</td>\n",
              "      <td>NaN</td>\n",
              "      <td>NaN</td>\n",
              "      <td>NaN</td>\n",
              "      <td>802F58D6-421E-4C7B-90D3-7C8755B8C359</td>\n",
              "      <td>6C77952A-43C2-405A-812D-5B0AEF2E185E</td>\n",
              "      <td>Assessment 1</td>\n",
              "      <td>NIH Toolbox Oral Reading Recognition Test Age ...</td>\n",
              "      <td>OralRead_2</td>\n",
              "      <td>FE91F59E-2959-4ABE-AFE0-ADF8E23662C6</td>\n",
              "      <td>iPadVersion</td>\n",
              "      <td>iPad Pro 1st Gen (10.5-inch) / iPad7,3</td>\n",
              "    </tr>\n",
              "    <tr>\n",
              "      <th>2449</th>\n",
              "      <td>210415_EPSF_00836_A_8Y</td>\n",
              "      <td>D9185A72-5C4D-4B91-A6F1-50516C66E0DA</td>\n",
              "      <td>NaN</td>\n",
              "      <td>NaN</td>\n",
              "      <td>NaN</td>\n",
              "      <td>NaN</td>\n",
              "      <td>NaN</td>\n",
              "      <td>NaN</td>\n",
              "      <td>LARE068</td>\n",
              "      <td>NaN</td>\n",
              "      <td>NaN</td>\n",
              "      <td>NaN</td>\n",
              "      <td>NaN</td>\n",
              "      <td>NaN</td>\n",
              "      <td>NaN</td>\n",
              "      <td>NaN</td>\n",
              "      <td>NaN</td>\n",
              "      <td>NaN</td>\n",
              "      <td>NaN</td>\n",
              "      <td>NaN</td>\n",
              "      <td>NaN</td>\n",
              "      <td>NaN</td>\n",
              "      <td>NaN</td>\n",
              "      <td>Sioux Falls</td>\n",
              "      <td>NaN</td>\n",
              "      <td>NaN</td>\n",
              "      <td>NaN</td>\n",
              "      <td>NaN</td>\n",
              "      <td>NaN</td>\n",
              "      <td>NaN</td>\n",
              "      <td>NaN</td>\n",
              "      <td>802F58D6-421E-4C7B-90D3-7C8755B8C359</td>\n",
              "      <td>6C77952A-43C2-405A-812D-5B0AEF2E185E</td>\n",
              "      <td>Assessment 1</td>\n",
              "      <td>NIH Toolbox Oral Reading Recognition Test Age ...</td>\n",
              "      <td>OralRead_2</td>\n",
              "      <td>FE91F59E-2959-4ABE-AFE0-ADF8E23662C6</td>\n",
              "      <td>FirmwareVersion</td>\n",
              "      <td>14.4.2</td>\n",
              "    </tr>\n",
              "  </tbody>\n",
              "</table>\n",
              "<p>16532 rows × 39 columns</p>\n",
              "</div>"
            ],
            "text/plain": [
              "                         PIN  ...                                   Value\n",
              "0     210406_EPRC_00032_A_8Y  ...                                     NaN\n",
              "1     210406_EPRC_00032_A_8Y  ...                                     NaN\n",
              "2     210406_EPRC_00032_A_8Y  ...                                     NaN\n",
              "3     210406_EPRC_00032_A_8Y  ...                                     NaN\n",
              "4     210406_EPRC_00032_A_8Y  ...                                     NaN\n",
              "...                      ...  ...                                     ...\n",
              "2445  210415_EPSF_00836_A_8Y  ...                     2021-04-15 11:41:48\n",
              "2446  210415_EPSF_00836_A_8Y  ...                     2021-04-15 11:43:40\n",
              "2447  210415_EPSF_00836_A_8Y  ...                 1.23.4532 (Participant)\n",
              "2448  210415_EPSF_00836_A_8Y  ...  iPad Pro 1st Gen (10.5-inch) / iPad7,3\n",
              "2449  210415_EPSF_00836_A_8Y  ...                                  14.4.2\n",
              "\n",
              "[16532 rows x 39 columns]"
            ]
          },
          "metadata": {
            "tags": []
          },
          "execution_count": 37
        }
      ]
    },
    {
      "cell_type": "code",
      "metadata": {
        "id": "7RA9_WHRQ_NP"
      },
      "source": [
        "df['PIN']=df['PIN'].replace(' ', '', regex=True)"
      ],
      "execution_count": null,
      "outputs": []
    },
    {
      "cell_type": "code",
      "metadata": {
        "id": "lgBBimQlZAHH"
      },
      "source": [
        "df['PIN'] = df['PIN'].str[7:17]"
      ],
      "execution_count": null,
      "outputs": []
    },
    {
      "cell_type": "code",
      "metadata": {
        "colab": {
          "base_uri": "https://localhost:8080/"
        },
        "id": "Z6DLD3AMRClD",
        "outputId": "f40b908c-7849-4302-99dc-80da0c91187c"
      },
      "source": [
        "df['PIN'].unique()"
      ],
      "execution_count": null,
      "outputs": [
        {
          "output_type": "execute_result",
          "data": {
            "text/plain": [
              "array(['EPRC_00032', 'EPRC_00160', 'EPRC_00173', 'EPRC_00179',\n",
              "       'EPRC_00181', 'EPRC_00183', 'EPRC_00191', 'EPRC_00380',\n",
              "       'EPSF_00832', 'EPSF_01666', 'EPSF_00847', 'EPSF_00944',\n",
              "       'EPSF_00836'], dtype=object)"
            ]
          },
          "metadata": {
            "tags": []
          },
          "execution_count": 40
        }
      ]
    },
    {
      "cell_type": "code",
      "metadata": {
        "id": "RB-LQSemb5w5"
      },
      "source": [
        "df['InstStarted']= pd.to_datetime(df['InstStarted'])"
      ],
      "execution_count": null,
      "outputs": []
    },
    {
      "cell_type": "code",
      "metadata": {
        "id": "AZTDjIpfdCkc"
      },
      "source": [
        "df['InstEnded']= pd.to_datetime(df['InstEnded'])"
      ],
      "execution_count": null,
      "outputs": []
    },
    {
      "cell_type": "code",
      "metadata": {
        "colab": {
          "base_uri": "https://localhost:8080/"
        },
        "id": "8luUtuGYaN0D",
        "outputId": "6eda24e0-83a4-4033-848b-73be9bbf043d"
      },
      "source": [
        "mnr =df.groupby(['PIN','Inst'])['InstStarted','InstEnded'].first().reset_index()"
      ],
      "execution_count": null,
      "outputs": [
        {
          "output_type": "stream",
          "text": [
            "/usr/local/lib/python3.7/dist-packages/ipykernel_launcher.py:1: FutureWarning: Indexing with multiple keys (implicitly converted to a tuple of keys) will be deprecated, use a list instead.\n",
            "  \"\"\"Entry point for launching an IPython kernel.\n"
          ],
          "name": "stderr"
        }
      ]
    },
    {
      "cell_type": "code",
      "metadata": {
        "id": "tL6eR_iddCH_"
      },
      "source": [
        "mnr['Time']=mnr['InstEnded']-mnr['InstStarted']"
      ],
      "execution_count": null,
      "outputs": []
    },
    {
      "cell_type": "code",
      "metadata": {
        "id": "Bqhea3lbjYl5"
      },
      "source": [
        "mnr=mnr.drop(columns=['InstStarted'])"
      ],
      "execution_count": null,
      "outputs": []
    },
    {
      "cell_type": "code",
      "metadata": {
        "id": "LqmUxt5NWHQs"
      },
      "source": [
        "mnr.InstEnded= mnr.InstEnded.map(lambda x: x.strftime('%Y-%m-%d'))"
      ],
      "execution_count": null,
      "outputs": []
    },
    {
      "cell_type": "code",
      "metadata": {
        "id": "-ssc72Z0tLxH"
      },
      "source": [
        "RM =mnr.groupby(['PIN'])['Time'].sum().reset_index()"
      ],
      "execution_count": null,
      "outputs": []
    },
    {
      "cell_type": "code",
      "metadata": {
        "id": "6IllucJ_u_7r"
      },
      "source": [
        "RM['Time']=round(RM['Time'].dt.total_seconds()/60,2)"
      ],
      "execution_count": null,
      "outputs": []
    },
    {
      "cell_type": "code",
      "metadata": {
        "id": "RboaYjYxDeaT"
      },
      "source": [
        "mnr.rename(columns={'InstEnded':'Date'}, inplace=True)"
      ],
      "execution_count": null,
      "outputs": []
    },
    {
      "cell_type": "code",
      "metadata": {
        "colab": {
          "base_uri": "https://localhost:8080/",
          "height": 399
        },
        "id": "AOxXvZgUwsxa",
        "outputId": "abf2bedf-2ece-45c7-a9d7-6ee58ff3dca7"
      },
      "source": [
        "RM"
      ],
      "execution_count": null,
      "outputs": [
        {
          "output_type": "execute_result",
          "data": {
            "text/html": [
              "<div>\n",
              "<style scoped>\n",
              "    .dataframe tbody tr th:only-of-type {\n",
              "        vertical-align: middle;\n",
              "    }\n",
              "\n",
              "    .dataframe tbody tr th {\n",
              "        vertical-align: top;\n",
              "    }\n",
              "\n",
              "    .dataframe thead th {\n",
              "        text-align: right;\n",
              "    }\n",
              "</style>\n",
              "<table border=\"1\" class=\"dataframe\">\n",
              "  <thead>\n",
              "    <tr style=\"text-align: right;\">\n",
              "      <th></th>\n",
              "      <th>PIN</th>\n",
              "      <th>Time</th>\n",
              "    </tr>\n",
              "  </thead>\n",
              "  <tbody>\n",
              "    <tr>\n",
              "      <th>0</th>\n",
              "      <td>EPRC_00032</td>\n",
              "      <td>27.20</td>\n",
              "    </tr>\n",
              "    <tr>\n",
              "      <th>1</th>\n",
              "      <td>EPRC_00160</td>\n",
              "      <td>31.40</td>\n",
              "    </tr>\n",
              "    <tr>\n",
              "      <th>2</th>\n",
              "      <td>EPRC_00179</td>\n",
              "      <td>27.92</td>\n",
              "    </tr>\n",
              "    <tr>\n",
              "      <th>3</th>\n",
              "      <td>EPRC_00181</td>\n",
              "      <td>27.35</td>\n",
              "    </tr>\n",
              "    <tr>\n",
              "      <th>4</th>\n",
              "      <td>EPRC_00183</td>\n",
              "      <td>23.12</td>\n",
              "    </tr>\n",
              "    <tr>\n",
              "      <th>5</th>\n",
              "      <td>EPRC_00191</td>\n",
              "      <td>28.25</td>\n",
              "    </tr>\n",
              "    <tr>\n",
              "      <th>6</th>\n",
              "      <td>EPRC_00380</td>\n",
              "      <td>27.92</td>\n",
              "    </tr>\n",
              "    <tr>\n",
              "      <th>7</th>\n",
              "      <td>EPSF_00832</td>\n",
              "      <td>26.47</td>\n",
              "    </tr>\n",
              "    <tr>\n",
              "      <th>8</th>\n",
              "      <td>EPSF_00836</td>\n",
              "      <td>27.62</td>\n",
              "    </tr>\n",
              "    <tr>\n",
              "      <th>9</th>\n",
              "      <td>EPSF_00847</td>\n",
              "      <td>25.82</td>\n",
              "    </tr>\n",
              "    <tr>\n",
              "      <th>10</th>\n",
              "      <td>EPSF_00944</td>\n",
              "      <td>34.08</td>\n",
              "    </tr>\n",
              "    <tr>\n",
              "      <th>11</th>\n",
              "      <td>EPSF_01666</td>\n",
              "      <td>27.55</td>\n",
              "    </tr>\n",
              "  </tbody>\n",
              "</table>\n",
              "</div>"
            ],
            "text/plain": [
              "           PIN   Time\n",
              "0   EPRC_00032  27.20\n",
              "1   EPRC_00160  31.40\n",
              "2   EPRC_00179  27.92\n",
              "3   EPRC_00181  27.35\n",
              "4   EPRC_00183  23.12\n",
              "5   EPRC_00191  28.25\n",
              "6   EPRC_00380  27.92\n",
              "7   EPSF_00832  26.47\n",
              "8   EPSF_00836  27.62\n",
              "9   EPSF_00847  25.82\n",
              "10  EPSF_00944  34.08\n",
              "11  EPSF_01666  27.55"
            ]
          },
          "metadata": {
            "tags": []
          },
          "execution_count": 49
        }
      ]
    },
    {
      "cell_type": "code",
      "metadata": {
        "colab": {
          "base_uri": "https://localhost:8080/"
        },
        "id": "01O2uGiWvuhe",
        "outputId": "2c1b2aca-222a-456e-94de-b788a73827dc"
      },
      "source": [
        "RM['Time'].mean()"
      ],
      "execution_count": null,
      "outputs": [
        {
          "output_type": "execute_result",
          "data": {
            "text/plain": [
              "27.89166666666667"
            ]
          },
          "metadata": {
            "tags": []
          },
          "execution_count": 50
        }
      ]
    },
    {
      "cell_type": "code",
      "metadata": {
        "colab": {
          "base_uri": "https://localhost:8080/",
          "height": 399
        },
        "id": "gQy-BDNzDh4p",
        "outputId": "b78fb771-b96f-4251-b6cf-56ad04d01c15"
      },
      "source": [
        "mnr"
      ],
      "execution_count": null,
      "outputs": [
        {
          "output_type": "execute_result",
          "data": {
            "text/html": [
              "<div>\n",
              "<style scoped>\n",
              "    .dataframe tbody tr th:only-of-type {\n",
              "        vertical-align: middle;\n",
              "    }\n",
              "\n",
              "    .dataframe tbody tr th {\n",
              "        vertical-align: top;\n",
              "    }\n",
              "\n",
              "    .dataframe thead th {\n",
              "        text-align: right;\n",
              "    }\n",
              "</style>\n",
              "<table border=\"1\" class=\"dataframe\">\n",
              "  <thead>\n",
              "    <tr style=\"text-align: right;\">\n",
              "      <th></th>\n",
              "      <th>PIN</th>\n",
              "      <th>Inst</th>\n",
              "      <th>Date</th>\n",
              "      <th>Time</th>\n",
              "      <th>Mode</th>\n",
              "    </tr>\n",
              "  </thead>\n",
              "  <tbody>\n",
              "    <tr>\n",
              "      <th>0</th>\n",
              "      <td>EPRC_00032</td>\n",
              "      <td>NIH Toolbox Dimensional Change Card Sort Test ...</td>\n",
              "      <td>2021-04-06</td>\n",
              "      <td>5.60</td>\n",
              "      <td>Remote</td>\n",
              "    </tr>\n",
              "    <tr>\n",
              "      <th>1</th>\n",
              "      <td>EPRC_00032</td>\n",
              "      <td>NIH Toolbox Flanker Inhibitory Control and Att...</td>\n",
              "      <td>2021-04-06</td>\n",
              "      <td>3.95</td>\n",
              "      <td>Remote</td>\n",
              "    </tr>\n",
              "    <tr>\n",
              "      <th>2</th>\n",
              "      <td>EPRC_00032</td>\n",
              "      <td>NIH Toolbox Oral Reading Recognition Test Age ...</td>\n",
              "      <td>2021-04-06</td>\n",
              "      <td>1.75</td>\n",
              "      <td>Remote</td>\n",
              "    </tr>\n",
              "    <tr>\n",
              "      <th>3</th>\n",
              "      <td>EPRC_00032</td>\n",
              "      <td>NIH Toolbox Pattern Comparison Processing Spee...</td>\n",
              "      <td>2021-04-06</td>\n",
              "      <td>2.03</td>\n",
              "      <td>Remote</td>\n",
              "    </tr>\n",
              "    <tr>\n",
              "      <th>4</th>\n",
              "      <td>EPRC_00032</td>\n",
              "      <td>NIH Toolbox Pattern Comparison Processing Spee...</td>\n",
              "      <td>2021-04-06</td>\n",
              "      <td>1.62</td>\n",
              "      <td>Remote</td>\n",
              "    </tr>\n",
              "    <tr>\n",
              "      <th>...</th>\n",
              "      <td>...</td>\n",
              "      <td>...</td>\n",
              "      <td>...</td>\n",
              "      <td>...</td>\n",
              "      <td>...</td>\n",
              "    </tr>\n",
              "    <tr>\n",
              "      <th>88</th>\n",
              "      <td>EPSF_01666</td>\n",
              "      <td>NIH Toolbox Pattern Comparison Processing Spee...</td>\n",
              "      <td>2021-04-08</td>\n",
              "      <td>1.83</td>\n",
              "      <td>Remote</td>\n",
              "    </tr>\n",
              "    <tr>\n",
              "      <th>89</th>\n",
              "      <td>EPSF_01666</td>\n",
              "      <td>NIH Toolbox Pattern Comparison Processing Spee...</td>\n",
              "      <td>2021-04-08</td>\n",
              "      <td>1.67</td>\n",
              "      <td>Remote</td>\n",
              "    </tr>\n",
              "    <tr>\n",
              "      <th>90</th>\n",
              "      <td>EPSF_01666</td>\n",
              "      <td>NIH Toolbox Picture Sequence Memory Test Age 8...</td>\n",
              "      <td>2021-04-08</td>\n",
              "      <td>8.73</td>\n",
              "      <td>Remote</td>\n",
              "    </tr>\n",
              "    <tr>\n",
              "      <th>91</th>\n",
              "      <td>EPSF_01666</td>\n",
              "      <td>NIH Toolbox Picture Vocabulary Test Age 3+ Pra...</td>\n",
              "      <td>2021-04-08</td>\n",
              "      <td>1.73</td>\n",
              "      <td>Remote</td>\n",
              "    </tr>\n",
              "    <tr>\n",
              "      <th>92</th>\n",
              "      <td>EPSF_01666</td>\n",
              "      <td>NIH Toolbox Picture Vocabulary Test Age 3+ v2.1</td>\n",
              "      <td>2021-04-08</td>\n",
              "      <td>2.33</td>\n",
              "      <td>Remote</td>\n",
              "    </tr>\n",
              "  </tbody>\n",
              "</table>\n",
              "<p>93 rows × 5 columns</p>\n",
              "</div>"
            ],
            "text/plain": [
              "           PIN                                               Inst  ...  Time    Mode\n",
              "0   EPRC_00032  NIH Toolbox Dimensional Change Card Sort Test ...  ...  5.60  Remote\n",
              "1   EPRC_00032  NIH Toolbox Flanker Inhibitory Control and Att...  ...  3.95  Remote\n",
              "2   EPRC_00032  NIH Toolbox Oral Reading Recognition Test Age ...  ...  1.75  Remote\n",
              "3   EPRC_00032  NIH Toolbox Pattern Comparison Processing Spee...  ...  2.03  Remote\n",
              "4   EPRC_00032  NIH Toolbox Pattern Comparison Processing Spee...  ...  1.62  Remote\n",
              "..         ...                                                ...  ...   ...     ...\n",
              "88  EPSF_01666  NIH Toolbox Pattern Comparison Processing Spee...  ...  1.83  Remote\n",
              "89  EPSF_01666  NIH Toolbox Pattern Comparison Processing Spee...  ...  1.67  Remote\n",
              "90  EPSF_01666  NIH Toolbox Picture Sequence Memory Test Age 8...  ...  8.73  Remote\n",
              "91  EPSF_01666  NIH Toolbox Picture Vocabulary Test Age 3+ Pra...  ...  1.73  Remote\n",
              "92  EPSF_01666    NIH Toolbox Picture Vocabulary Test Age 3+ v2.1  ...  2.33  Remote\n",
              "\n",
              "[93 rows x 5 columns]"
            ]
          },
          "metadata": {
            "tags": []
          },
          "execution_count": 151
        }
      ]
    },
    {
      "cell_type": "code",
      "metadata": {
        "id": "Ufaysbpljrds"
      },
      "source": [
        "mnr['Time']=round(mnr['Time'].dt.total_seconds()/60,2)"
      ],
      "execution_count": null,
      "outputs": []
    },
    {
      "cell_type": "code",
      "metadata": {
        "id": "0paxrlw6wj_6"
      },
      "source": [
        "mnr['Mode'] ='Remote'"
      ],
      "execution_count": null,
      "outputs": []
    },
    {
      "cell_type": "markdown",
      "metadata": {
        "id": "zXCPbUgXw4At"
      },
      "source": [
        "#a. A matched t-test for those who have both in-person and remote - Total Time\n",
        "There are only 5 students both have in person and remote"
      ]
    },
    {
      "cell_type": "code",
      "metadata": {
        "id": "0OBAhrANzuH2"
      },
      "source": [
        "times = pd.merge(IP, RM, how= 'inner', on='PIN')"
      ],
      "execution_count": null,
      "outputs": []
    },
    {
      "cell_type": "code",
      "metadata": {
        "colab": {
          "base_uri": "https://localhost:8080/"
        },
        "id": "B7dU4zWXfI_Z",
        "outputId": "a7b446d6-80ad-4deb-f3f2-c169489742af"
      },
      "source": [
        "IP.PIN.unique()"
      ],
      "execution_count": null,
      "outputs": [
        {
          "output_type": "execute_result",
          "data": {
            "text/plain": [
              "array(['EPRC_00032', 'EPRC_00160', 'EPRC_00162', 'EPRC_00173',\n",
              "       'EPRC_00179', 'EPRC_00181', 'EPRC_00380', 'EPRC_00550',\n",
              "       'EPSF_00832', 'EPSF_00836', 'EPSF_00847', 'EPSF_00943',\n",
              "       'EPSF_00944', 'EPSF_01247', 'EPSF_01666'], dtype=object)"
            ]
          },
          "metadata": {
            "tags": []
          },
          "execution_count": 54
        }
      ]
    },
    {
      "cell_type": "code",
      "metadata": {
        "colab": {
          "base_uri": "https://localhost:8080/"
        },
        "id": "Y_IEkgG9fMBR",
        "outputId": "cb4ad424-0606-41be-8afa-b34878534218"
      },
      "source": [
        "RM.PIN.unique()"
      ],
      "execution_count": null,
      "outputs": [
        {
          "output_type": "execute_result",
          "data": {
            "text/plain": [
              "array(['EPRC_00032', 'EPRC_00160', 'EPRC_00179', 'EPRC_00181',\n",
              "       'EPRC_00183', 'EPRC_00191', 'EPRC_00380', 'EPSF_00832',\n",
              "       'EPSF_00836', 'EPSF_00847', 'EPSF_00944', 'EPSF_01666'],\n",
              "      dtype=object)"
            ]
          },
          "metadata": {
            "tags": []
          },
          "execution_count": 55
        }
      ]
    },
    {
      "cell_type": "code",
      "metadata": {
        "id": "TSDQUbPtYTs4"
      },
      "source": [
        "times.columns =['PIN','Total_time', 'Total_time_R']"
      ],
      "execution_count": null,
      "outputs": []
    },
    {
      "cell_type": "code",
      "metadata": {
        "colab": {
          "base_uri": "https://localhost:8080/",
          "height": 399
        },
        "id": "9sPTzsEDJqC3",
        "outputId": "97c1a5bf-05f2-4be1-ccd7-b80ee2043187"
      },
      "source": [
        "time_breakdown"
      ],
      "execution_count": 193,
      "outputs": [
        {
          "output_type": "execute_result",
          "data": {
            "text/html": [
              "<div>\n",
              "<style scoped>\n",
              "    .dataframe tbody tr th:only-of-type {\n",
              "        vertical-align: middle;\n",
              "    }\n",
              "\n",
              "    .dataframe tbody tr th {\n",
              "        vertical-align: top;\n",
              "    }\n",
              "\n",
              "    .dataframe thead th {\n",
              "        text-align: right;\n",
              "    }\n",
              "</style>\n",
              "<table border=\"1\" class=\"dataframe\">\n",
              "  <thead>\n",
              "    <tr style=\"text-align: right;\">\n",
              "      <th></th>\n",
              "      <th>PIN</th>\n",
              "      <th>Inst</th>\n",
              "      <th>Date</th>\n",
              "      <th>Time</th>\n",
              "      <th>Mode</th>\n",
              "    </tr>\n",
              "  </thead>\n",
              "  <tbody>\n",
              "    <tr>\n",
              "      <th>0</th>\n",
              "      <td>EPRC_00032</td>\n",
              "      <td>NIH Toolbox Dimensional Change Card Sort Test ...</td>\n",
              "      <td>2021-03-30</td>\n",
              "      <td>5.30</td>\n",
              "      <td>In Person</td>\n",
              "    </tr>\n",
              "    <tr>\n",
              "      <th>1</th>\n",
              "      <td>EPRC_00032</td>\n",
              "      <td>NIH Toolbox Flanker Inhibitory Control and Att...</td>\n",
              "      <td>2021-03-30</td>\n",
              "      <td>3.97</td>\n",
              "      <td>In Person</td>\n",
              "    </tr>\n",
              "    <tr>\n",
              "      <th>2</th>\n",
              "      <td>EPRC_00032</td>\n",
              "      <td>NIH Toolbox List Sorting Working Memory Test A...</td>\n",
              "      <td>2021-03-30</td>\n",
              "      <td>10.60</td>\n",
              "      <td>In Person</td>\n",
              "    </tr>\n",
              "    <tr>\n",
              "      <th>3</th>\n",
              "      <td>EPRC_00032</td>\n",
              "      <td>NIH Toolbox Oral Reading Recognition Test Age ...</td>\n",
              "      <td>2021-03-30</td>\n",
              "      <td>1.43</td>\n",
              "      <td>In Person</td>\n",
              "    </tr>\n",
              "    <tr>\n",
              "      <th>4</th>\n",
              "      <td>EPRC_00032</td>\n",
              "      <td>NIH Toolbox Pattern Comparison Processing Spee...</td>\n",
              "      <td>2021-03-30</td>\n",
              "      <td>1.57</td>\n",
              "      <td>In Person</td>\n",
              "    </tr>\n",
              "    <tr>\n",
              "      <th>...</th>\n",
              "      <td>...</td>\n",
              "      <td>...</td>\n",
              "      <td>...</td>\n",
              "      <td>...</td>\n",
              "      <td>...</td>\n",
              "    </tr>\n",
              "    <tr>\n",
              "      <th>88</th>\n",
              "      <td>EPSF_01666</td>\n",
              "      <td>NIH Toolbox Pattern Comparison Processing Spee...</td>\n",
              "      <td>2021-04-08</td>\n",
              "      <td>1.83</td>\n",
              "      <td>Remote</td>\n",
              "    </tr>\n",
              "    <tr>\n",
              "      <th>89</th>\n",
              "      <td>EPSF_01666</td>\n",
              "      <td>NIH Toolbox Pattern Comparison Processing Spee...</td>\n",
              "      <td>2021-04-08</td>\n",
              "      <td>1.67</td>\n",
              "      <td>Remote</td>\n",
              "    </tr>\n",
              "    <tr>\n",
              "      <th>90</th>\n",
              "      <td>EPSF_01666</td>\n",
              "      <td>NIH Toolbox Picture Sequence Memory Test Age 8...</td>\n",
              "      <td>2021-04-08</td>\n",
              "      <td>8.73</td>\n",
              "      <td>Remote</td>\n",
              "    </tr>\n",
              "    <tr>\n",
              "      <th>91</th>\n",
              "      <td>EPSF_01666</td>\n",
              "      <td>NIH Toolbox Picture Vocabulary Test Age 3+ Pra...</td>\n",
              "      <td>2021-04-08</td>\n",
              "      <td>1.73</td>\n",
              "      <td>Remote</td>\n",
              "    </tr>\n",
              "    <tr>\n",
              "      <th>92</th>\n",
              "      <td>EPSF_01666</td>\n",
              "      <td>NIH Toolbox Picture Vocabulary Test Age 3+ v2.1</td>\n",
              "      <td>2021-04-08</td>\n",
              "      <td>2.33</td>\n",
              "      <td>Remote</td>\n",
              "    </tr>\n",
              "  </tbody>\n",
              "</table>\n",
              "<p>207 rows × 5 columns</p>\n",
              "</div>"
            ],
            "text/plain": [
              "           PIN  ...       Mode\n",
              "0   EPRC_00032  ...  In Person\n",
              "1   EPRC_00032  ...  In Person\n",
              "2   EPRC_00032  ...  In Person\n",
              "3   EPRC_00032  ...  In Person\n",
              "4   EPRC_00032  ...  In Person\n",
              "..         ...  ...        ...\n",
              "88  EPSF_01666  ...     Remote\n",
              "89  EPSF_01666  ...     Remote\n",
              "90  EPSF_01666  ...     Remote\n",
              "91  EPSF_01666  ...     Remote\n",
              "92  EPSF_01666  ...     Remote\n",
              "\n",
              "[207 rows x 5 columns]"
            ]
          },
          "metadata": {
            "tags": []
          },
          "execution_count": 193
        }
      ]
    },
    {
      "cell_type": "code",
      "metadata": {
        "colab": {
          "base_uri": "https://localhost:8080/"
        },
        "id": "C_DarEYbJNSk",
        "outputId": "eaf64e99-0a51-4bcf-b8e2-d35a8e945491"
      },
      "source": [
        "time_breakdown.groupby(['PIN','Mode'])['Inst'].count()"
      ],
      "execution_count": 194,
      "outputs": [
        {
          "output_type": "execute_result",
          "data": {
            "text/plain": [
              "PIN         Mode     \n",
              "EPRC_00032  In Person    9\n",
              "            Remote       8\n",
              "EPRC_00160  In Person    9\n",
              "            Remote       8\n",
              "EPRC_00162  In Person    9\n",
              "EPRC_00173  In Person    9\n",
              "EPRC_00179  In Person    9\n",
              "            Remote       8\n",
              "EPRC_00181  In Person    9\n",
              "            Remote       8\n",
              "EPRC_00183  Remote       6\n",
              "EPRC_00191  Remote       8\n",
              "EPRC_00380  In Person    9\n",
              "            Remote       8\n",
              "EPRC_00550  In Person    9\n",
              "EPSF_00832  In Person    9\n",
              "            Remote       8\n",
              "EPSF_00836  In Person    2\n",
              "            Remote       8\n",
              "EPSF_00847  In Person    2\n",
              "            Remote       8\n",
              "EPSF_00943  In Person    2\n",
              "EPSF_00944  In Person    9\n",
              "            Remote       8\n",
              "EPSF_01247  In Person    9\n",
              "EPSF_01666  In Person    9\n",
              "            Remote       7\n",
              "Name: Inst, dtype: int64"
            ]
          },
          "metadata": {
            "tags": []
          },
          "execution_count": 194
        }
      ]
    },
    {
      "cell_type": "code",
      "metadata": {
        "colab": {
          "base_uri": "https://localhost:8080/",
          "height": 340
        },
        "id": "E8UwDA2hz6LZ",
        "outputId": "a16a5cee-1267-46d8-88f1-3945efff94e9"
      },
      "source": [
        "times"
      ],
      "execution_count": null,
      "outputs": [
        {
          "output_type": "execute_result",
          "data": {
            "text/html": [
              "<div>\n",
              "<style scoped>\n",
              "    .dataframe tbody tr th:only-of-type {\n",
              "        vertical-align: middle;\n",
              "    }\n",
              "\n",
              "    .dataframe tbody tr th {\n",
              "        vertical-align: top;\n",
              "    }\n",
              "\n",
              "    .dataframe thead th {\n",
              "        text-align: right;\n",
              "    }\n",
              "</style>\n",
              "<table border=\"1\" class=\"dataframe\">\n",
              "  <thead>\n",
              "    <tr style=\"text-align: right;\">\n",
              "      <th></th>\n",
              "      <th>PIN</th>\n",
              "      <th>Total_time</th>\n",
              "      <th>Total_time_R</th>\n",
              "    </tr>\n",
              "  </thead>\n",
              "  <tbody>\n",
              "    <tr>\n",
              "      <th>0</th>\n",
              "      <td>EPRC_00032</td>\n",
              "      <td>36.33</td>\n",
              "      <td>27.20</td>\n",
              "    </tr>\n",
              "    <tr>\n",
              "      <th>1</th>\n",
              "      <td>EPRC_00160</td>\n",
              "      <td>35.68</td>\n",
              "      <td>31.40</td>\n",
              "    </tr>\n",
              "    <tr>\n",
              "      <th>2</th>\n",
              "      <td>EPRC_00179</td>\n",
              "      <td>30.22</td>\n",
              "      <td>27.92</td>\n",
              "    </tr>\n",
              "    <tr>\n",
              "      <th>3</th>\n",
              "      <td>EPRC_00181</td>\n",
              "      <td>31.72</td>\n",
              "      <td>27.35</td>\n",
              "    </tr>\n",
              "    <tr>\n",
              "      <th>4</th>\n",
              "      <td>EPRC_00380</td>\n",
              "      <td>33.48</td>\n",
              "      <td>27.92</td>\n",
              "    </tr>\n",
              "    <tr>\n",
              "      <th>5</th>\n",
              "      <td>EPSF_00832</td>\n",
              "      <td>29.32</td>\n",
              "      <td>26.47</td>\n",
              "    </tr>\n",
              "    <tr>\n",
              "      <th>6</th>\n",
              "      <td>EPSF_00836</td>\n",
              "      <td>2.42</td>\n",
              "      <td>27.62</td>\n",
              "    </tr>\n",
              "    <tr>\n",
              "      <th>7</th>\n",
              "      <td>EPSF_00847</td>\n",
              "      <td>4.77</td>\n",
              "      <td>25.82</td>\n",
              "    </tr>\n",
              "    <tr>\n",
              "      <th>8</th>\n",
              "      <td>EPSF_00944</td>\n",
              "      <td>41.20</td>\n",
              "      <td>34.08</td>\n",
              "    </tr>\n",
              "    <tr>\n",
              "      <th>9</th>\n",
              "      <td>EPSF_01666</td>\n",
              "      <td>34.62</td>\n",
              "      <td>27.55</td>\n",
              "    </tr>\n",
              "  </tbody>\n",
              "</table>\n",
              "</div>"
            ],
            "text/plain": [
              "          PIN  Total_time  Total_time_R\n",
              "0  EPRC_00032       36.33         27.20\n",
              "1  EPRC_00160       35.68         31.40\n",
              "2  EPRC_00179       30.22         27.92\n",
              "3  EPRC_00181       31.72         27.35\n",
              "4  EPRC_00380       33.48         27.92\n",
              "5  EPSF_00832       29.32         26.47\n",
              "6  EPSF_00836        2.42         27.62\n",
              "7  EPSF_00847        4.77         25.82\n",
              "8  EPSF_00944       41.20         34.08\n",
              "9  EPSF_01666       34.62         27.55"
            ]
          },
          "metadata": {
            "tags": []
          },
          "execution_count": 57
        }
      ]
    },
    {
      "cell_type": "code",
      "metadata": {
        "colab": {
          "base_uri": "https://localhost:8080/"
        },
        "id": "U1_dTcFSqK5n",
        "outputId": "e94cbf44-b1b2-4150-c3e4-f04542cdd138"
      },
      "source": [
        "import numpy as np\n",
        "import scipy.stats as stats\n",
        "stats.ttest_ind(times.Total_time, times.Total_time_R, equal_var = False)"
      ],
      "execution_count": null,
      "outputs": [
        {
          "output_type": "execute_result",
          "data": {
            "text/plain": [
              "Ttest_indResult(statistic=-0.0834563847809027, pvalue=0.9351975495580158)"
            ]
          },
          "metadata": {
            "tags": []
          },
          "execution_count": 58
        }
      ]
    },
    {
      "cell_type": "code",
      "metadata": {
        "colab": {
          "base_uri": "https://localhost:8080/",
          "height": 375
        },
        "id": "GIiwJXfuLY0w",
        "outputId": "aaf98e59-fb2d-440f-c4c0-f8bea3c1494b"
      },
      "source": [
        "import matplotlib.pyplot as plt\n",
        "\n",
        "# Box plot of ACS In person vs. Remote\n",
        "plt.figure(figsize=(8, 6))\n",
        "times.boxplot(column=['Total_time', 'Total_time_R'])\n",
        "\n",
        "plt.show()"
      ],
      "execution_count": null,
      "outputs": [
        {
          "output_type": "display_data",
          "data": {
            "image/png": "[encoded data removed]",
            "text/plain": [
              "<Figure size 576x432 with 1 Axes>"
            ]
          },
          "metadata": {
            "tags": [],
            "needs_background": "light"
          }
        }
      ]
    },
    {
      "cell_type": "markdown",
      "metadata": {
        "id": "lGdqiU1zablK"
      },
      "source": [
        "# b.\tA student’s t-test for everyone \n",
        "15 has In-person, 12 has remote"
      ]
    },
    {
      "cell_type": "code",
      "metadata": {
        "colab": {
          "base_uri": "https://localhost:8080/"
        },
        "id": "AOGjshfCXXnh",
        "outputId": "fe049eca-982e-4f17-94b5-64f2740d2177"
      },
      "source": [
        "stats.ttest_ind(IP.Time, RM.Time, equal_var=False)"
      ],
      "execution_count": null,
      "outputs": [
        {
          "output_type": "execute_result",
          "data": {
            "text/plain": [
              "Ttest_indResult(statistic=0.20035278021433628, pvalue=0.8438373446453864)"
            ]
          },
          "metadata": {
            "tags": []
          },
          "execution_count": 60
        }
      ]
    },
    {
      "cell_type": "code",
      "metadata": {
        "colab": {
          "base_uri": "https://localhost:8080/",
          "height": 546
        },
        "id": "niEC75o9cJu9",
        "outputId": "13451a71-6066-4ef3-ca70-fb79b48236b0"
      },
      "source": [
        "pd.merge(IP, RM, how= 'outer', on='PIN')"
      ],
      "execution_count": null,
      "outputs": [
        {
          "output_type": "execute_result",
          "data": {
            "text/html": [
              "<div>\n",
              "<style scoped>\n",
              "    .dataframe tbody tr th:only-of-type {\n",
              "        vertical-align: middle;\n",
              "    }\n",
              "\n",
              "    .dataframe tbody tr th {\n",
              "        vertical-align: top;\n",
              "    }\n",
              "\n",
              "    .dataframe thead th {\n",
              "        text-align: right;\n",
              "    }\n",
              "</style>\n",
              "<table border=\"1\" class=\"dataframe\">\n",
              "  <thead>\n",
              "    <tr style=\"text-align: right;\">\n",
              "      <th></th>\n",
              "      <th>PIN</th>\n",
              "      <th>Time_x</th>\n",
              "      <th>Time_y</th>\n",
              "    </tr>\n",
              "  </thead>\n",
              "  <tbody>\n",
              "    <tr>\n",
              "      <th>0</th>\n",
              "      <td>EPRC_00032</td>\n",
              "      <td>36.33</td>\n",
              "      <td>27.20</td>\n",
              "    </tr>\n",
              "    <tr>\n",
              "      <th>1</th>\n",
              "      <td>EPRC_00160</td>\n",
              "      <td>35.68</td>\n",
              "      <td>31.40</td>\n",
              "    </tr>\n",
              "    <tr>\n",
              "      <th>2</th>\n",
              "      <td>EPRC_00162</td>\n",
              "      <td>33.65</td>\n",
              "      <td>NaN</td>\n",
              "    </tr>\n",
              "    <tr>\n",
              "      <th>3</th>\n",
              "      <td>EPRC_00173</td>\n",
              "      <td>42.67</td>\n",
              "      <td>NaN</td>\n",
              "    </tr>\n",
              "    <tr>\n",
              "      <th>4</th>\n",
              "      <td>EPRC_00179</td>\n",
              "      <td>30.22</td>\n",
              "      <td>27.92</td>\n",
              "    </tr>\n",
              "    <tr>\n",
              "      <th>5</th>\n",
              "      <td>EPRC_00181</td>\n",
              "      <td>31.72</td>\n",
              "      <td>27.35</td>\n",
              "    </tr>\n",
              "    <tr>\n",
              "      <th>6</th>\n",
              "      <td>EPRC_00380</td>\n",
              "      <td>33.48</td>\n",
              "      <td>27.92</td>\n",
              "    </tr>\n",
              "    <tr>\n",
              "      <th>7</th>\n",
              "      <td>EPRC_00550</td>\n",
              "      <td>40.23</td>\n",
              "      <td>NaN</td>\n",
              "    </tr>\n",
              "    <tr>\n",
              "      <th>8</th>\n",
              "      <td>EPSF_00832</td>\n",
              "      <td>29.32</td>\n",
              "      <td>26.47</td>\n",
              "    </tr>\n",
              "    <tr>\n",
              "      <th>9</th>\n",
              "      <td>EPSF_00836</td>\n",
              "      <td>2.42</td>\n",
              "      <td>27.62</td>\n",
              "    </tr>\n",
              "    <tr>\n",
              "      <th>10</th>\n",
              "      <td>EPSF_00847</td>\n",
              "      <td>4.77</td>\n",
              "      <td>25.82</td>\n",
              "    </tr>\n",
              "    <tr>\n",
              "      <th>11</th>\n",
              "      <td>EPSF_00943</td>\n",
              "      <td>2.00</td>\n",
              "      <td>NaN</td>\n",
              "    </tr>\n",
              "    <tr>\n",
              "      <th>12</th>\n",
              "      <td>EPSF_00944</td>\n",
              "      <td>41.20</td>\n",
              "      <td>34.08</td>\n",
              "    </tr>\n",
              "    <tr>\n",
              "      <th>13</th>\n",
              "      <td>EPSF_01247</td>\n",
              "      <td>31.03</td>\n",
              "      <td>NaN</td>\n",
              "    </tr>\n",
              "    <tr>\n",
              "      <th>14</th>\n",
              "      <td>EPSF_01666</td>\n",
              "      <td>34.62</td>\n",
              "      <td>27.55</td>\n",
              "    </tr>\n",
              "    <tr>\n",
              "      <th>15</th>\n",
              "      <td>EPRC_00183</td>\n",
              "      <td>NaN</td>\n",
              "      <td>23.12</td>\n",
              "    </tr>\n",
              "    <tr>\n",
              "      <th>16</th>\n",
              "      <td>EPRC_00191</td>\n",
              "      <td>NaN</td>\n",
              "      <td>28.25</td>\n",
              "    </tr>\n",
              "  </tbody>\n",
              "</table>\n",
              "</div>"
            ],
            "text/plain": [
              "           PIN  Time_x  Time_y\n",
              "0   EPRC_00032   36.33   27.20\n",
              "1   EPRC_00160   35.68   31.40\n",
              "2   EPRC_00162   33.65     NaN\n",
              "3   EPRC_00173   42.67     NaN\n",
              "4   EPRC_00179   30.22   27.92\n",
              "5   EPRC_00181   31.72   27.35\n",
              "6   EPRC_00380   33.48   27.92\n",
              "7   EPRC_00550   40.23     NaN\n",
              "8   EPSF_00832   29.32   26.47\n",
              "9   EPSF_00836    2.42   27.62\n",
              "10  EPSF_00847    4.77   25.82\n",
              "11  EPSF_00943    2.00     NaN\n",
              "12  EPSF_00944   41.20   34.08\n",
              "13  EPSF_01247   31.03     NaN\n",
              "14  EPSF_01666   34.62   27.55\n",
              "15  EPRC_00183     NaN   23.12\n",
              "16  EPRC_00191     NaN   28.25"
            ]
          },
          "metadata": {
            "tags": []
          },
          "execution_count": 61
        }
      ]
    },
    {
      "cell_type": "markdown",
      "metadata": {
        "id": "_IxHYc-4eZxO"
      },
      "source": [
        "#c.\tCorrelations between remote and in-person- Total Time\n",
        "There are only 5 students both have in person and remote"
      ]
    },
    {
      "cell_type": "code",
      "metadata": {
        "colab": {
          "base_uri": "https://localhost:8080/"
        },
        "id": "kSl8M2iFd5b5",
        "outputId": "ac8f9244-8dbd-4a5d-88f3-1ba0e6c882f4"
      },
      "source": [
        "import numpy as np\n",
        "import scipy.stats as stats\n",
        "\n",
        "stats.pearsonr(times['Total_time'], times['Total_time_R'])    # Pearson's correlation coefficient and p-value "
      ],
      "execution_count": null,
      "outputs": [
        {
          "output_type": "execute_result",
          "data": {
            "text/plain": [
              "(0.509924450288285, 0.1321358593288217)"
            ]
          },
          "metadata": {
            "tags": []
          },
          "execution_count": 62
        }
      ]
    },
    {
      "cell_type": "code",
      "metadata": {
        "id": "IzhIkmXLLPYo"
      },
      "source": [
        "time_breakdown = pd.concat([mni,mnr]) "
      ],
      "execution_count": null,
      "outputs": []
    },
    {
      "cell_type": "markdown",
      "metadata": {
        "id": "LGFMDZ39ptvO"
      },
      "source": [
        "#d.\tDoes it take longer for remote vs. in-person? - Total Time\n"
      ]
    },
    {
      "cell_type": "code",
      "metadata": {
        "colab": {
          "base_uri": "https://localhost:8080/"
        },
        "id": "kgvHz9sgZ3rE",
        "outputId": "fe9d3d4c-f6d1-4e63-e572-1e21c4a22798"
      },
      "source": [
        "stats.wilcoxon(times.Total_time, times.Total_time_R, alternative='two-sided')"
      ],
      "execution_count": null,
      "outputs": [
        {
          "output_type": "execute_result",
          "data": {
            "text/plain": [
              "WilcoxonResult(statistic=19.0, pvalue=0.3862707203664827)"
            ]
          },
          "metadata": {
            "tags": []
          },
          "execution_count": 64
        }
      ]
    },
    {
      "cell_type": "code",
      "metadata": {
        "colab": {
          "base_uri": "https://localhost:8080/",
          "height": 340
        },
        "id": "e1iXEHauvlSO",
        "outputId": "9edfd9a4-1c06-4477-a721-27cb86a03a04"
      },
      "source": [
        "times"
      ],
      "execution_count": null,
      "outputs": [
        {
          "output_type": "execute_result",
          "data": {
            "text/html": [
              "<div>\n",
              "<style scoped>\n",
              "    .dataframe tbody tr th:only-of-type {\n",
              "        vertical-align: middle;\n",
              "    }\n",
              "\n",
              "    .dataframe tbody tr th {\n",
              "        vertical-align: top;\n",
              "    }\n",
              "\n",
              "    .dataframe thead th {\n",
              "        text-align: right;\n",
              "    }\n",
              "</style>\n",
              "<table border=\"1\" class=\"dataframe\">\n",
              "  <thead>\n",
              "    <tr style=\"text-align: right;\">\n",
              "      <th></th>\n",
              "      <th>PIN</th>\n",
              "      <th>Total_time</th>\n",
              "      <th>Total_time_R</th>\n",
              "    </tr>\n",
              "  </thead>\n",
              "  <tbody>\n",
              "    <tr>\n",
              "      <th>0</th>\n",
              "      <td>EPRC_00032</td>\n",
              "      <td>36.33</td>\n",
              "      <td>27.20</td>\n",
              "    </tr>\n",
              "    <tr>\n",
              "      <th>1</th>\n",
              "      <td>EPRC_00160</td>\n",
              "      <td>35.68</td>\n",
              "      <td>31.40</td>\n",
              "    </tr>\n",
              "    <tr>\n",
              "      <th>2</th>\n",
              "      <td>EPRC_00179</td>\n",
              "      <td>30.22</td>\n",
              "      <td>27.92</td>\n",
              "    </tr>\n",
              "    <tr>\n",
              "      <th>3</th>\n",
              "      <td>EPRC_00181</td>\n",
              "      <td>31.72</td>\n",
              "      <td>27.35</td>\n",
              "    </tr>\n",
              "    <tr>\n",
              "      <th>4</th>\n",
              "      <td>EPRC_00380</td>\n",
              "      <td>33.48</td>\n",
              "      <td>27.92</td>\n",
              "    </tr>\n",
              "    <tr>\n",
              "      <th>5</th>\n",
              "      <td>EPSF_00832</td>\n",
              "      <td>29.32</td>\n",
              "      <td>26.47</td>\n",
              "    </tr>\n",
              "    <tr>\n",
              "      <th>6</th>\n",
              "      <td>EPSF_00836</td>\n",
              "      <td>2.42</td>\n",
              "      <td>27.62</td>\n",
              "    </tr>\n",
              "    <tr>\n",
              "      <th>7</th>\n",
              "      <td>EPSF_00847</td>\n",
              "      <td>4.77</td>\n",
              "      <td>25.82</td>\n",
              "    </tr>\n",
              "    <tr>\n",
              "      <th>8</th>\n",
              "      <td>EPSF_00944</td>\n",
              "      <td>41.20</td>\n",
              "      <td>34.08</td>\n",
              "    </tr>\n",
              "    <tr>\n",
              "      <th>9</th>\n",
              "      <td>EPSF_01666</td>\n",
              "      <td>34.62</td>\n",
              "      <td>27.55</td>\n",
              "    </tr>\n",
              "  </tbody>\n",
              "</table>\n",
              "</div>"
            ],
            "text/plain": [
              "          PIN  Total_time  Total_time_R\n",
              "0  EPRC_00032       36.33         27.20\n",
              "1  EPRC_00160       35.68         31.40\n",
              "2  EPRC_00179       30.22         27.92\n",
              "3  EPRC_00181       31.72         27.35\n",
              "4  EPRC_00380       33.48         27.92\n",
              "5  EPSF_00832       29.32         26.47\n",
              "6  EPSF_00836        2.42         27.62\n",
              "7  EPSF_00847        4.77         25.82\n",
              "8  EPSF_00944       41.20         34.08\n",
              "9  EPSF_01666       34.62         27.55"
            ]
          },
          "metadata": {
            "tags": []
          },
          "execution_count": 65
        }
      ]
    },
    {
      "cell_type": "markdown",
      "metadata": {
        "id": "Hg4pVBb0A_NF"
      },
      "source": [
        "# e.\tPlot on x-axis remote scores for all the Inst, and plot on y-axis all the in-person "
      ]
    },
    {
      "cell_type": "code",
      "metadata": {
        "colab": {
          "base_uri": "https://localhost:8080/",
          "height": 509
        },
        "id": "pQ3v5DU7F8mR",
        "outputId": "21c36bb5-9be9-4341-bd04-5f94b0f58f35"
      },
      "source": [
        "import seaborn as sns\n",
        "sns.set_theme(style=\"darkgrid\")\n",
        "\n",
        "g = sns.jointplot(x=\"Total_time\", y=\"Total_time_R\", data=times,\n",
        "                  kind=\"reg\", truncate=False,\n",
        "                  color=\"m\", height=7)"
      ],
      "execution_count": null,
      "outputs": [
        {
          "output_type": "display_data",
          "data": {
            "image/png": "[encoded data removed]",
            "text/plain": [
              "<Figure size 504x504 with 3 Axes>"
            ]
          },
          "metadata": {
            "tags": []
          }
        }
      ]
    },
    {
      "cell_type": "markdown",
      "metadata": {
        "id": "zKBH_U9Yd919"
      },
      "source": [
        "#Composites (age-corrected and fully-corrected scores)Scores"
      ]
    },
    {
      "cell_type": "code",
      "metadata": {
        "id": "3ayipuJLxYuG"
      },
      "source": [
        "#  get all files from all In-person subdirectories\n",
        "\n",
        "all_files = glob.glob('/content/gdrive/My Drive/Avera/Rapid City/*/In Person/*CB_Scores.csv')\n",
        "\n",
        "\n",
        "doc =[]\n",
        "for file in all_files:\n",
        "  data = pd.read_csv(file)\n",
        "  doc.append(data)\n",
        "\n",
        "df = pd.concat(doc)"
      ],
      "execution_count": null,
      "outputs": []
    },
    {
      "cell_type": "code",
      "metadata": {
        "colab": {
          "base_uri": "https://localhost:8080/"
        },
        "id": "WOvk0V52xqfj",
        "outputId": "a330b594-546e-4806-91b2-f81975f24e7f"
      },
      "source": [
        "df.shape"
      ],
      "execution_count": null,
      "outputs": [
        {
          "output_type": "execute_result",
          "data": {
            "text/plain": [
              "(88, 28)"
            ]
          },
          "metadata": {
            "tags": []
          },
          "execution_count": 68
        }
      ]
    },
    {
      "cell_type": "code",
      "metadata": {
        "id": "U_t0U6Q5x0Zl"
      },
      "source": [
        "df['PIN'] = df['PIN'].str[7:17]"
      ],
      "execution_count": null,
      "outputs": []
    },
    {
      "cell_type": "code",
      "metadata": {
        "id": "ei6DQb7S4vya"
      },
      "source": [
        "keep =['PIN', 'Inst', 'RawScore', 'Theta', 'SE',\n",
        "       'ItmCnt', 'Computed Score',\n",
        "       'Uncorrected Standard Score', 'Age-Corrected Standard Score',\n",
        "       'National Percentile (age adjusted)', 'Fully-Corrected T-score',\n",
        "       'InstrumentBreakoff', 'InstrumentStatus2']"
      ],
      "execution_count": null,
      "outputs": []
    },
    {
      "cell_type": "code",
      "metadata": {
        "id": "3Om5N5Ma56yQ"
      },
      "source": [
        "df=df[keep]"
      ],
      "execution_count": null,
      "outputs": []
    },
    {
      "cell_type": "code",
      "metadata": {
        "colab": {
          "base_uri": "https://localhost:8080/",
          "height": 340
        },
        "id": "_WFIOwUytaMY",
        "outputId": "9f741595-67d5-492f-f0bc-5dd20620e6c9"
      },
      "source": [
        "times"
      ],
      "execution_count": null,
      "outputs": [
        {
          "output_type": "execute_result",
          "data": {
            "text/html": [
              "<div>\n",
              "<style scoped>\n",
              "    .dataframe tbody tr th:only-of-type {\n",
              "        vertical-align: middle;\n",
              "    }\n",
              "\n",
              "    .dataframe tbody tr th {\n",
              "        vertical-align: top;\n",
              "    }\n",
              "\n",
              "    .dataframe thead th {\n",
              "        text-align: right;\n",
              "    }\n",
              "</style>\n",
              "<table border=\"1\" class=\"dataframe\">\n",
              "  <thead>\n",
              "    <tr style=\"text-align: right;\">\n",
              "      <th></th>\n",
              "      <th>PIN</th>\n",
              "      <th>Total_time</th>\n",
              "      <th>Total_time_R</th>\n",
              "    </tr>\n",
              "  </thead>\n",
              "  <tbody>\n",
              "    <tr>\n",
              "      <th>0</th>\n",
              "      <td>EPRC_00032</td>\n",
              "      <td>36.33</td>\n",
              "      <td>27.20</td>\n",
              "    </tr>\n",
              "    <tr>\n",
              "      <th>1</th>\n",
              "      <td>EPRC_00160</td>\n",
              "      <td>35.68</td>\n",
              "      <td>31.40</td>\n",
              "    </tr>\n",
              "    <tr>\n",
              "      <th>2</th>\n",
              "      <td>EPRC_00179</td>\n",
              "      <td>30.22</td>\n",
              "      <td>27.92</td>\n",
              "    </tr>\n",
              "    <tr>\n",
              "      <th>3</th>\n",
              "      <td>EPRC_00181</td>\n",
              "      <td>31.72</td>\n",
              "      <td>27.35</td>\n",
              "    </tr>\n",
              "    <tr>\n",
              "      <th>4</th>\n",
              "      <td>EPRC_00380</td>\n",
              "      <td>33.48</td>\n",
              "      <td>27.92</td>\n",
              "    </tr>\n",
              "    <tr>\n",
              "      <th>5</th>\n",
              "      <td>EPSF_00832</td>\n",
              "      <td>29.32</td>\n",
              "      <td>26.47</td>\n",
              "    </tr>\n",
              "    <tr>\n",
              "      <th>6</th>\n",
              "      <td>EPSF_00836</td>\n",
              "      <td>2.42</td>\n",
              "      <td>27.62</td>\n",
              "    </tr>\n",
              "    <tr>\n",
              "      <th>7</th>\n",
              "      <td>EPSF_00847</td>\n",
              "      <td>4.77</td>\n",
              "      <td>25.82</td>\n",
              "    </tr>\n",
              "    <tr>\n",
              "      <th>8</th>\n",
              "      <td>EPSF_00944</td>\n",
              "      <td>41.20</td>\n",
              "      <td>34.08</td>\n",
              "    </tr>\n",
              "    <tr>\n",
              "      <th>9</th>\n",
              "      <td>EPSF_01666</td>\n",
              "      <td>34.62</td>\n",
              "      <td>27.55</td>\n",
              "    </tr>\n",
              "  </tbody>\n",
              "</table>\n",
              "</div>"
            ],
            "text/plain": [
              "          PIN  Total_time  Total_time_R\n",
              "0  EPRC_00032       36.33         27.20\n",
              "1  EPRC_00160       35.68         31.40\n",
              "2  EPRC_00179       30.22         27.92\n",
              "3  EPRC_00181       31.72         27.35\n",
              "4  EPRC_00380       33.48         27.92\n",
              "5  EPSF_00832       29.32         26.47\n",
              "6  EPSF_00836        2.42         27.62\n",
              "7  EPSF_00847        4.77         25.82\n",
              "8  EPSF_00944       41.20         34.08\n",
              "9  EPSF_01666       34.62         27.55"
            ]
          },
          "metadata": {
            "tags": []
          },
          "execution_count": 72
        }
      ]
    },
    {
      "cell_type": "code",
      "metadata": {
        "id": "mfuZ4XcBDiTG"
      },
      "source": [
        "#Differentiate the rows contain Composites\n",
        "comp =df[df['Inst'].str.contains(\"Composite\")]\n",
        "raw =df[~df['Inst'].str.contains(\"Composite\")]"
      ],
      "execution_count": null,
      "outputs": []
    },
    {
      "cell_type": "code",
      "metadata": {
        "id": "a2U6puaP8P6R"
      },
      "source": [
        "raw=raw.dropna(axis=1, how='all')\n",
        "raw.head()"
      ],
      "execution_count": null,
      "outputs": []
    },
    {
      "cell_type": "code",
      "metadata": {
        "colab": {
          "base_uri": "https://localhost:8080/",
          "height": 194
        },
        "id": "8kCxcBxu_Q-G",
        "outputId": "4a3f4ea8-b583-4e26-8c2c-2d1b5c011885"
      },
      "source": [
        "comp=comp.dropna(axis=1, how='all')\n",
        "comp.head()"
      ],
      "execution_count": null,
      "outputs": [
        {
          "output_type": "execute_result",
          "data": {
            "text/html": [
              "<div>\n",
              "<style scoped>\n",
              "    .dataframe tbody tr th:only-of-type {\n",
              "        vertical-align: middle;\n",
              "    }\n",
              "\n",
              "    .dataframe tbody tr th {\n",
              "        vertical-align: top;\n",
              "    }\n",
              "\n",
              "    .dataframe thead th {\n",
              "        text-align: right;\n",
              "    }\n",
              "</style>\n",
              "<table border=\"1\" class=\"dataframe\">\n",
              "  <thead>\n",
              "    <tr style=\"text-align: right;\">\n",
              "      <th></th>\n",
              "      <th>PIN</th>\n",
              "      <th>Inst</th>\n",
              "      <th>Uncorrected Standard Score</th>\n",
              "      <th>Age-Corrected Standard Score</th>\n",
              "      <th>National Percentile (age adjusted)</th>\n",
              "      <th>Fully-Corrected T-score</th>\n",
              "    </tr>\n",
              "  </thead>\n",
              "  <tbody>\n",
              "    <tr>\n",
              "      <th>7</th>\n",
              "      <td>EPRC_00032</td>\n",
              "      <td>Cognition Fluid Composite v1.1</td>\n",
              "      <td>93</td>\n",
              "      <td>103</td>\n",
              "      <td>59</td>\n",
              "      <td>48</td>\n",
              "    </tr>\n",
              "    <tr>\n",
              "      <th>8</th>\n",
              "      <td>EPRC_00032</td>\n",
              "      <td>Cognition Crystallized Composite v1.1</td>\n",
              "      <td>71</td>\n",
              "      <td>85</td>\n",
              "      <td>16</td>\n",
              "      <td>32</td>\n",
              "    </tr>\n",
              "    <tr>\n",
              "      <th>9</th>\n",
              "      <td>EPRC_00032</td>\n",
              "      <td>Cognition Total Composite Score v1.1</td>\n",
              "      <td>78</td>\n",
              "      <td>93</td>\n",
              "      <td>32</td>\n",
              "      <td>38</td>\n",
              "    </tr>\n",
              "    <tr>\n",
              "      <th>10</th>\n",
              "      <td>EPRC_00032</td>\n",
              "      <td>Cognition Early Childhood Composite v1.1</td>\n",
              "      <td>89</td>\n",
              "      <td>105</td>\n",
              "      <td>62</td>\n",
              "      <td>48</td>\n",
              "    </tr>\n",
              "    <tr>\n",
              "      <th>7</th>\n",
              "      <td>EPRC_00160</td>\n",
              "      <td>Cognition Fluid Composite v1.1</td>\n",
              "      <td>94</td>\n",
              "      <td>109</td>\n",
              "      <td>73</td>\n",
              "      <td>49</td>\n",
              "    </tr>\n",
              "  </tbody>\n",
              "</table>\n",
              "</div>"
            ],
            "text/plain": [
              "           PIN  ... Fully-Corrected T-score\n",
              "7   EPRC_00032  ...                      48\n",
              "8   EPRC_00032  ...                      32\n",
              "9   EPRC_00032  ...                      38\n",
              "10  EPRC_00032  ...                      48\n",
              "7   EPRC_00160  ...                      49\n",
              "\n",
              "[5 rows x 6 columns]"
            ]
          },
          "metadata": {
            "tags": []
          },
          "execution_count": 75
        }
      ]
    },
    {
      "cell_type": "code",
      "metadata": {
        "colab": {
          "base_uri": "https://localhost:8080/"
        },
        "id": "vKAwCqAMvx_Y",
        "outputId": "a04edbce-3078-4e93-e2f0-2d1030b1fcd1"
      },
      "source": [
        "comp.Inst.unique()"
      ],
      "execution_count": null,
      "outputs": [
        {
          "output_type": "execute_result",
          "data": {
            "text/plain": [
              "array(['Cognition Fluid Composite v1.1',\n",
              "       'Cognition Crystallized Composite v1.1',\n",
              "       'Cognition Total Composite Score v1.1',\n",
              "       'Cognition Early Childhood Composite v1.1'], dtype=object)"
            ]
          },
          "metadata": {
            "tags": []
          },
          "execution_count": 76
        }
      ]
    },
    {
      "cell_type": "code",
      "metadata": {
        "id": "S8Zx8UGl87yb"
      },
      "source": [
        "df['Mode'] ='In Person'"
      ],
      "execution_count": null,
      "outputs": []
    },
    {
      "cell_type": "code",
      "metadata": {
        "id": "RY4vuD5yrnkW"
      },
      "source": [
        "#  get all files from all Remote subdirectories\n",
        "\n",
        "all_files = glob.glob('/content/gdrive/My Drive/Avera/Rapid City/*/Remote/*CB_Scores_R.csv')\n",
        "\n",
        "doc =[]\n",
        "for file in all_files:\n",
        "  data = pd.read_csv(file)\n",
        "  doc.append(data)\n",
        "\n",
        "dfr = pd.concat(doc)"
      ],
      "execution_count": null,
      "outputs": []
    },
    {
      "cell_type": "code",
      "metadata": {
        "colab": {
          "base_uri": "https://localhost:8080/"
        },
        "id": "605OUi3TrnkY",
        "outputId": "e85f383c-05c1-44dd-af29-5e0641993ba8"
      },
      "source": [
        "dfr.shape"
      ],
      "execution_count": null,
      "outputs": [
        {
          "output_type": "execute_result",
          "data": {
            "text/plain": [
              "(54, 28)"
            ]
          },
          "metadata": {
            "tags": []
          },
          "execution_count": 79
        }
      ]
    },
    {
      "cell_type": "code",
      "metadata": {
        "id": "LhE6D_sTrnkZ"
      },
      "source": [
        "dfr['PIN'] = dfr['PIN'].str[7:17]"
      ],
      "execution_count": null,
      "outputs": []
    },
    {
      "cell_type": "code",
      "metadata": {
        "id": "vLGCb_g_rnka"
      },
      "source": [
        "dfr=dfr[keep]"
      ],
      "execution_count": null,
      "outputs": []
    },
    {
      "cell_type": "code",
      "metadata": {
        "id": "XGF23MAQ2Dkw"
      },
      "source": [
        "dfr"
      ],
      "execution_count": null,
      "outputs": []
    },
    {
      "cell_type": "code",
      "metadata": {
        "id": "UFn7rcBbrnka"
      },
      "source": [
        "#Differentiate the rows contain Composites\n",
        "comp_r =dfr[dfr['Inst'].str.contains(\"Composite\")]\n",
        "raw_r =dfr[~dfr['Inst'].str.contains(\"Composite\")]"
      ],
      "execution_count": null,
      "outputs": []
    },
    {
      "cell_type": "code",
      "metadata": {
        "id": "uW-VGWOhrnkb"
      },
      "source": [
        "raw_r=raw_r.dropna(axis=1, how='all')\n",
        "raw_r.head()"
      ],
      "execution_count": null,
      "outputs": []
    },
    {
      "cell_type": "code",
      "metadata": {
        "id": "jcCNLKaLrnkb",
        "colab": {
          "base_uri": "https://localhost:8080/",
          "height": 194
        },
        "outputId": "17a40ae9-7e16-464b-8d17-20456a8a8f10"
      },
      "source": [
        "comp_r=comp_r.dropna(axis=1, how='all')\n",
        "comp_r.head()"
      ],
      "execution_count": null,
      "outputs": [
        {
          "output_type": "execute_result",
          "data": {
            "text/html": [
              "<div>\n",
              "<style scoped>\n",
              "    .dataframe tbody tr th:only-of-type {\n",
              "        vertical-align: middle;\n",
              "    }\n",
              "\n",
              "    .dataframe tbody tr th {\n",
              "        vertical-align: top;\n",
              "    }\n",
              "\n",
              "    .dataframe thead th {\n",
              "        text-align: right;\n",
              "    }\n",
              "</style>\n",
              "<table border=\"1\" class=\"dataframe\">\n",
              "  <thead>\n",
              "    <tr style=\"text-align: right;\">\n",
              "      <th></th>\n",
              "      <th>PIN</th>\n",
              "      <th>Inst</th>\n",
              "      <th>Uncorrected Standard Score</th>\n",
              "      <th>Age-Corrected Standard Score</th>\n",
              "      <th>National Percentile (age adjusted)</th>\n",
              "      <th>Fully-Corrected T-score</th>\n",
              "    </tr>\n",
              "  </thead>\n",
              "  <tbody>\n",
              "    <tr>\n",
              "      <th>6</th>\n",
              "      <td>EPRC_00032</td>\n",
              "      <td>Cognition Crystallized Composite v1.1</td>\n",
              "      <td>74.0</td>\n",
              "      <td>85.0</td>\n",
              "      <td>16.0</td>\n",
              "      <td>38.0</td>\n",
              "    </tr>\n",
              "    <tr>\n",
              "      <th>7</th>\n",
              "      <td>EPRC_00032</td>\n",
              "      <td>Cognition Early Childhood Composite v1.1</td>\n",
              "      <td>85.0</td>\n",
              "      <td>98.0</td>\n",
              "      <td>44.0</td>\n",
              "      <td>43.0</td>\n",
              "    </tr>\n",
              "    <tr>\n",
              "      <th>6</th>\n",
              "      <td>EPRC_00160</td>\n",
              "      <td>Cognition Crystallized Composite v1.1</td>\n",
              "      <td>83.0</td>\n",
              "      <td>106.0</td>\n",
              "      <td>66.0</td>\n",
              "      <td>51.0</td>\n",
              "    </tr>\n",
              "    <tr>\n",
              "      <th>7</th>\n",
              "      <td>EPRC_00160</td>\n",
              "      <td>Cognition Early Childhood Composite v1.1</td>\n",
              "      <td>79.0</td>\n",
              "      <td>92.0</td>\n",
              "      <td>29.0</td>\n",
              "      <td>42.0</td>\n",
              "    </tr>\n",
              "    <tr>\n",
              "      <th>6</th>\n",
              "      <td>EPRC_00173</td>\n",
              "      <td>Cognition Crystallized Composite v1.1</td>\n",
              "      <td>63.0</td>\n",
              "      <td>72.0</td>\n",
              "      <td>3.0</td>\n",
              "      <td>39.0</td>\n",
              "    </tr>\n",
              "  </tbody>\n",
              "</table>\n",
              "</div>"
            ],
            "text/plain": [
              "          PIN  ... Fully-Corrected T-score\n",
              "6  EPRC_00032  ...                    38.0\n",
              "7  EPRC_00032  ...                    43.0\n",
              "6  EPRC_00160  ...                    51.0\n",
              "7  EPRC_00160  ...                    42.0\n",
              "6  EPRC_00173  ...                    39.0\n",
              "\n",
              "[5 rows x 6 columns]"
            ]
          },
          "metadata": {
            "tags": []
          },
          "execution_count": 85
        }
      ]
    },
    {
      "cell_type": "code",
      "metadata": {
        "id": "LcBmTt4fsJjP"
      },
      "source": [
        "comp_r.columns =['PIN', 'Inst', 'Uncorrected Standard Score_r',\n",
        "       'Age-Corrected Standard Score_r', 'National Percentile (age adjusted)_r',\n",
        "       'Fully-Corrected T-score_r']"
      ],
      "execution_count": null,
      "outputs": []
    },
    {
      "cell_type": "code",
      "metadata": {
        "id": "KWVTLHvJ1_RR"
      },
      "source": [
        "dfr['Mode'] = 'Remote'"
      ],
      "execution_count": null,
      "outputs": []
    },
    {
      "cell_type": "code",
      "metadata": {
        "id": "3X571ZspAkBI"
      },
      "source": [
        "scores = pd.merge(comp, comp_r, on=[\"PIN\",'Inst'])"
      ],
      "execution_count": null,
      "outputs": []
    },
    {
      "cell_type": "code",
      "metadata": {
        "id": "FFoV_Dz_AsY7",
        "colab": {
          "base_uri": "https://localhost:8080/"
        },
        "outputId": "0ff15f26-def1-49cb-8f7d-c6faa2f0291e"
      },
      "source": [
        "scores.shape"
      ],
      "execution_count": null,
      "outputs": [
        {
          "output_type": "execute_result",
          "data": {
            "text/plain": [
              "(8, 10)"
            ]
          },
          "metadata": {
            "tags": []
          },
          "execution_count": 90
        }
      ]
    },
    {
      "cell_type": "markdown",
      "metadata": {
        "id": "hhY6lrFT-q6a"
      },
      "source": [
        "# a.\tA matched t-test for those who have both in-person and remote "
      ]
    },
    {
      "cell_type": "code",
      "metadata": {
        "colab": {
          "base_uri": "https://localhost:8080/"
        },
        "id": "dlu7MdtMuwVn",
        "outputId": "10a07da4-e4ad-4635-cf2c-ce4b70f09161"
      },
      "source": [
        "df.Inst.unique()"
      ],
      "execution_count": null,
      "outputs": [
        {
          "output_type": "execute_result",
          "data": {
            "text/plain": [
              "array(['NIH Toolbox Picture Vocabulary Test Age 3+ v2.1',\n",
              "       'NIH Toolbox Flanker Inhibitory Control and Attention Test Ages 8-11 v2.1',\n",
              "       'NIH Toolbox List Sorting Working Memory Test Age 7+ v2.1',\n",
              "       'NIH Toolbox Dimensional Change Card Sort Test Ages 8-11 v2.1',\n",
              "       'NIH Toolbox Pattern Comparison Processing Speed Test Age 7+ v2.1',\n",
              "       'NIH Toolbox Picture Sequence Memory Test Age 8+ Form A v2.1',\n",
              "       'NIH Toolbox Oral Reading Recognition Test Age 3+ v2.1',\n",
              "       'Cognition Fluid Composite v1.1',\n",
              "       'Cognition Crystallized Composite v1.1',\n",
              "       'Cognition Total Composite Score v1.1',\n",
              "       'Cognition Early Childhood Composite v1.1'], dtype=object)"
            ]
          },
          "metadata": {
            "tags": []
          },
          "execution_count": 91
        }
      ]
    },
    {
      "cell_type": "code",
      "metadata": {
        "colab": {
          "base_uri": "https://localhost:8080/"
        },
        "id": "IHj0uE4ywffo",
        "outputId": "5027a0fd-f627-437d-ae5f-9eff3bfb5966"
      },
      "source": [
        "#For matched ones there are only two composite\n",
        "scores.Inst.unique()"
      ],
      "execution_count": null,
      "outputs": [
        {
          "output_type": "execute_result",
          "data": {
            "text/plain": [
              "array(['Cognition Crystallized Composite v1.1',\n",
              "       'Cognition Early Childhood Composite v1.1'], dtype=object)"
            ]
          },
          "metadata": {
            "tags": []
          },
          "execution_count": 92
        }
      ]
    },
    {
      "cell_type": "code",
      "metadata": {
        "id": "CybyaF1OusWp"
      },
      "source": [
        "#Differentiate the rows contain Composites\n",
        "ccc =scores[scores['Inst'].str.contains('Cognition Crystallized Composite')]\n",
        "cecc =scores[scores['Inst'].str.contains('Cognition Early Childhood Composite')]"
      ],
      "execution_count": null,
      "outputs": []
    },
    {
      "cell_type": "code",
      "metadata": {
        "id": "mT6jO2JX9XYa"
      },
      "source": [
        "keep1=['PIN', 'Inst', \n",
        "       'Age-Corrected Standard Score', \n",
        "       'Fully-Corrected T-score',\n",
        "       'Age-Corrected Standard Score_r',\n",
        "   'Fully-Corrected T-score_r']"
      ],
      "execution_count": null,
      "outputs": []
    },
    {
      "cell_type": "code",
      "metadata": {
        "colab": {
          "base_uri": "https://localhost:8080/",
          "height": 194
        },
        "id": "QXg6kc4hGoyc",
        "outputId": "c487c923-33f1-4fdd-9a49-c09bdbd2dd04"
      },
      "source": [
        "ccc[keep1]"
      ],
      "execution_count": null,
      "outputs": [
        {
          "output_type": "execute_result",
          "data": {
            "text/html": [
              "<div>\n",
              "<style scoped>\n",
              "    .dataframe tbody tr th:only-of-type {\n",
              "        vertical-align: middle;\n",
              "    }\n",
              "\n",
              "    .dataframe tbody tr th {\n",
              "        vertical-align: top;\n",
              "    }\n",
              "\n",
              "    .dataframe thead th {\n",
              "        text-align: right;\n",
              "    }\n",
              "</style>\n",
              "<table border=\"1\" class=\"dataframe\">\n",
              "  <thead>\n",
              "    <tr style=\"text-align: right;\">\n",
              "      <th></th>\n",
              "      <th>PIN</th>\n",
              "      <th>Inst</th>\n",
              "      <th>Age-Corrected Standard Score</th>\n",
              "      <th>Fully-Corrected T-score</th>\n",
              "      <th>Age-Corrected Standard Score_r</th>\n",
              "      <th>Fully-Corrected T-score_r</th>\n",
              "    </tr>\n",
              "  </thead>\n",
              "  <tbody>\n",
              "    <tr>\n",
              "      <th>0</th>\n",
              "      <td>EPRC_00032</td>\n",
              "      <td>Cognition Crystallized Composite v1.1</td>\n",
              "      <td>85</td>\n",
              "      <td>32</td>\n",
              "      <td>85.0</td>\n",
              "      <td>38.0</td>\n",
              "    </tr>\n",
              "    <tr>\n",
              "      <th>2</th>\n",
              "      <td>EPRC_00160</td>\n",
              "      <td>Cognition Crystallized Composite v1.1</td>\n",
              "      <td>99</td>\n",
              "      <td>42</td>\n",
              "      <td>106.0</td>\n",
              "      <td>51.0</td>\n",
              "    </tr>\n",
              "    <tr>\n",
              "      <th>4</th>\n",
              "      <td>EPRC_00173</td>\n",
              "      <td>Cognition Crystallized Composite v1.1</td>\n",
              "      <td>85</td>\n",
              "      <td>45</td>\n",
              "      <td>72.0</td>\n",
              "      <td>39.0</td>\n",
              "    </tr>\n",
              "    <tr>\n",
              "      <th>5</th>\n",
              "      <td>EPRC_00179</td>\n",
              "      <td>Cognition Crystallized Composite v1.1</td>\n",
              "      <td>106</td>\n",
              "      <td>55</td>\n",
              "      <td>113.0</td>\n",
              "      <td>54.0</td>\n",
              "    </tr>\n",
              "    <tr>\n",
              "      <th>6</th>\n",
              "      <td>EPRC_00181</td>\n",
              "      <td>Cognition Crystallized Composite v1.1</td>\n",
              "      <td>100</td>\n",
              "      <td>46</td>\n",
              "      <td>100.0</td>\n",
              "      <td>37.0</td>\n",
              "    </tr>\n",
              "  </tbody>\n",
              "</table>\n",
              "</div>"
            ],
            "text/plain": [
              "          PIN  ... Fully-Corrected T-score_r\n",
              "0  EPRC_00032  ...                      38.0\n",
              "2  EPRC_00160  ...                      51.0\n",
              "4  EPRC_00173  ...                      39.0\n",
              "5  EPRC_00179  ...                      54.0\n",
              "6  EPRC_00181  ...                      37.0\n",
              "\n",
              "[5 rows x 6 columns]"
            ]
          },
          "metadata": {
            "tags": []
          },
          "execution_count": 173
        }
      ]
    },
    {
      "cell_type": "code",
      "metadata": {
        "colab": {
          "base_uri": "https://localhost:8080/",
          "height": 135
        },
        "id": "WoYpufFOGcm_",
        "outputId": "94799fe0-4469-40ab-9159-5674301a14d0"
      },
      "source": [
        "cecc[keep1]"
      ],
      "execution_count": null,
      "outputs": [
        {
          "output_type": "execute_result",
          "data": {
            "text/html": [
              "<div>\n",
              "<style scoped>\n",
              "    .dataframe tbody tr th:only-of-type {\n",
              "        vertical-align: middle;\n",
              "    }\n",
              "\n",
              "    .dataframe tbody tr th {\n",
              "        vertical-align: top;\n",
              "    }\n",
              "\n",
              "    .dataframe thead th {\n",
              "        text-align: right;\n",
              "    }\n",
              "</style>\n",
              "<table border=\"1\" class=\"dataframe\">\n",
              "  <thead>\n",
              "    <tr style=\"text-align: right;\">\n",
              "      <th></th>\n",
              "      <th>PIN</th>\n",
              "      <th>Inst</th>\n",
              "      <th>Age-Corrected Standard Score</th>\n",
              "      <th>Fully-Corrected T-score</th>\n",
              "      <th>Age-Corrected Standard Score_r</th>\n",
              "      <th>Fully-Corrected T-score_r</th>\n",
              "    </tr>\n",
              "  </thead>\n",
              "  <tbody>\n",
              "    <tr>\n",
              "      <th>1</th>\n",
              "      <td>EPRC_00032</td>\n",
              "      <td>Cognition Early Childhood Composite v1.1</td>\n",
              "      <td>105</td>\n",
              "      <td>48</td>\n",
              "      <td>98.0</td>\n",
              "      <td>43.0</td>\n",
              "    </tr>\n",
              "    <tr>\n",
              "      <th>3</th>\n",
              "      <td>EPRC_00160</td>\n",
              "      <td>Cognition Early Childhood Composite v1.1</td>\n",
              "      <td>106</td>\n",
              "      <td>43</td>\n",
              "      <td>92.0</td>\n",
              "      <td>42.0</td>\n",
              "    </tr>\n",
              "    <tr>\n",
              "      <th>7</th>\n",
              "      <td>EPRC_00181</td>\n",
              "      <td>Cognition Early Childhood Composite v1.1</td>\n",
              "      <td>87</td>\n",
              "      <td>36</td>\n",
              "      <td>89.0</td>\n",
              "      <td>34.0</td>\n",
              "    </tr>\n",
              "  </tbody>\n",
              "</table>\n",
              "</div>"
            ],
            "text/plain": [
              "          PIN  ... Fully-Corrected T-score_r\n",
              "1  EPRC_00032  ...                      43.0\n",
              "3  EPRC_00160  ...                      42.0\n",
              "7  EPRC_00181  ...                      34.0\n",
              "\n",
              "[3 rows x 6 columns]"
            ]
          },
          "metadata": {
            "tags": []
          },
          "execution_count": 172
        }
      ]
    },
    {
      "cell_type": "code",
      "metadata": {
        "colab": {
          "base_uri": "https://localhost:8080/"
        },
        "id": "EnbpBRLd-wLH",
        "outputId": "5b74c6d8-0b73-48d7-b78e-45d98902eba3"
      },
      "source": [
        "#Cognition Crystallized Composite \n",
        "stats.ttest_ind(ccc['Age-Corrected Standard Score'], ccc['Age-Corrected Standard Score_r'], equal_var = False)"
      ],
      "execution_count": null,
      "outputs": [
        {
          "output_type": "execute_result",
          "data": {
            "text/plain": [
              "Ttest_indResult(statistic=-0.023401818860045786, pvalue=0.982044921318919)"
            ]
          },
          "metadata": {
            "tags": []
          },
          "execution_count": 94
        }
      ]
    },
    {
      "cell_type": "code",
      "metadata": {
        "colab": {
          "base_uri": "https://localhost:8080/"
        },
        "id": "XjxOCbbgyLn1",
        "outputId": "1d0bb787-cb00-45e8-d65e-df9fb6dc7db0"
      },
      "source": [
        "stats.ttest_ind(cecc['Age-Corrected Standard Score'], cecc['Age-Corrected Standard Score_r'], equal_var = False)"
      ],
      "execution_count": null,
      "outputs": [
        {
          "output_type": "execute_result",
          "data": {
            "text/plain": [
              "Ttest_indResult(statistic=0.942954167272383, pvalue=0.42192821094451066)"
            ]
          },
          "metadata": {
            "tags": []
          },
          "execution_count": 96
        }
      ]
    },
    {
      "cell_type": "code",
      "metadata": {
        "colab": {
          "base_uri": "https://localhost:8080/"
        },
        "id": "oi9GBdQA_FBh",
        "outputId": "6341fa41-8873-4eb1-bc05-6b29dd3429b0"
      },
      "source": [
        "stats.ttest_ind(ccc['Fully-Corrected T-score'], ccc['Fully-Corrected T-score_r'], equal_var = False)"
      ],
      "execution_count": null,
      "outputs": [
        {
          "output_type": "execute_result",
          "data": {
            "text/plain": [
              "Ttest_indResult(statistic=0.03874921291460697, pvalue=0.9700406260552642)"
            ]
          },
          "metadata": {
            "tags": []
          },
          "execution_count": 97
        }
      ]
    },
    {
      "cell_type": "code",
      "metadata": {
        "colab": {
          "base_uri": "https://localhost:8080/"
        },
        "id": "-3HH-Rk0yQnZ",
        "outputId": "e079ea28-6df4-46b9-91bd-ef1b16b080d0"
      },
      "source": [
        "stats.ttest_ind(cecc['Fully-Corrected T-score'], cecc['Fully-Corrected T-score_r'], equal_var = False)"
      ],
      "execution_count": null,
      "outputs": [
        {
          "output_type": "execute_result",
          "data": {
            "text/plain": [
              "Ttest_indResult(statistic=0.5929994533288819, pvalue=0.586259799376224)"
            ]
          },
          "metadata": {
            "tags": []
          },
          "execution_count": 98
        }
      ]
    },
    {
      "cell_type": "code",
      "metadata": {
        "colab": {
          "base_uri": "https://localhost:8080/",
          "height": 765
        },
        "id": "SbV4nEX-yZiO",
        "outputId": "b6898c9d-1ec9-468c-8ec8-68111760eb17"
      },
      "source": [
        "import matplotlib.pyplot as plt\n",
        "# Box plot of ACS In person vs. Remote\n",
        "plt.figure(figsize=(8, 6))\n",
        "ccc.boxplot(column=['Age-Corrected Standard Score', 'Age-Corrected Standard Score_r'])\n",
        "plt.title('Cognition Crystallized Composite Age-Corrected Standard Score')\n",
        "\n",
        "plt.figure(figsize=(8, 6))\n",
        "ccc.boxplot(column=['Fully-Corrected T-score', 'Fully-Corrected T-score_r'])\n",
        "plt.title('Cognition Crystallized Composite Fully-Corrected T-score')\n",
        "\n",
        "plt.show()"
      ],
      "execution_count": null,
      "outputs": [
        {
          "output_type": "display_data",
          "data": {
            "image/png": "[encoded data removed]",
            "text/plain": [
              "<Figure size 576x432 with 1 Axes>"
            ]
          },
          "metadata": {
            "tags": [],
            "needs_background": "light"
          }
        },
        {
          "output_type": "display_data",
          "data": {
            "image/png": "[encoded data removed]",
            "text/plain": [
              "<Figure size 576x432 with 1 Axes>"
            ]
          },
          "metadata": {
            "tags": [],
            "needs_background": "light"
          }
        }
      ]
    },
    {
      "cell_type": "code",
      "metadata": {
        "colab": {
          "base_uri": "https://localhost:8080/",
          "height": 765
        },
        "id": "EjWwK1cS_HY4",
        "outputId": "981c197e-955c-49a4-96d8-ceb1beb0c144"
      },
      "source": [
        "\n",
        "\n",
        "# Box plot of CECC (age and fully)  In person vs. Remote\n",
        "plt.figure(figsize=(8, 6))\n",
        "cecc.boxplot(column=['Age-Corrected Standard Score', 'Age-Corrected Standard Score_r'])\n",
        "plt.title('Cognition Early Childhood Composite Age-Corrected Standard Score')\n",
        "\n",
        "plt.figure(figsize=(8, 6))\n",
        "cecc.boxplot(column=['Fully-Corrected T-score', 'Fully-Corrected T-score_r'])\n",
        "\n",
        "plt.title('Cognition Early Childhood Composite Fully-Corrected T-score')\n",
        "plt.show()"
      ],
      "execution_count": null,
      "outputs": [
        {
          "output_type": "display_data",
          "data": {
            "image/png": "[encoded data removed]",
            "text/plain": [
              "<Figure size 576x432 with 1 Axes>"
            ]
          },
          "metadata": {
            "tags": [],
            "needs_background": "light"
          }
        },
        {
          "output_type": "display_data",
          "data": {
            "image/png": "[encoded data removed]",
            "text/plain": [
              "<Figure size 576x432 with 1 Axes>"
            ]
          },
          "metadata": {
            "tags": [],
            "needs_background": "light"
          }
        }
      ]
    },
    {
      "cell_type": "markdown",
      "metadata": {
        "id": "fn2Lwf_l_U-H"
      },
      "source": [
        "# b.\tA student’s t-test for everyone "
      ]
    },
    {
      "cell_type": "code",
      "metadata": {
        "id": "HJNhn2g1ztcf"
      },
      "source": [
        "#Differentiate the rows contain Composites\n",
        "ccc =comp[comp['Inst'].str.contains('Cognition Crystallized Composite')]\n",
        "cecc =scores[scores['Inst'].str.contains('Cognition Early Childhood Composite')]"
      ],
      "execution_count": null,
      "outputs": []
    },
    {
      "cell_type": "code",
      "metadata": {
        "colab": {
          "base_uri": "https://localhost:8080/"
        },
        "id": "xi3ij9YI-J5R",
        "outputId": "63e83665-edce-4813-aebe-74cdcc4124e0"
      },
      "source": [
        "comp_r.Inst.unique()\n",
        "#Since remote data only has CCC and CECC"
      ],
      "execution_count": null,
      "outputs": [
        {
          "output_type": "execute_result",
          "data": {
            "text/plain": [
              "array(['Cognition Crystallized Composite v1.1',\n",
              "       'Cognition Early Childhood Composite v1.1'], dtype=object)"
            ]
          },
          "metadata": {
            "tags": []
          },
          "execution_count": 111
        }
      ]
    },
    {
      "cell_type": "code",
      "metadata": {
        "colab": {
          "base_uri": "https://localhost:8080/"
        },
        "id": "-3bvmq0N9t5V",
        "outputId": "71790860-c894-4e9e-b0a2-7e2af830f613"
      },
      "source": [
        "stats.ttest_ind(comp[comp['Inst'].str.contains('Cognition Crystallized Composite')]['Age-Corrected Standard Score'],comp_r[comp_r['Inst'].str.contains('Cognition Crystallized Composite')]['Age-Corrected Standard Score_r'], equal_var=False)"
      ],
      "execution_count": null,
      "outputs": [
        {
          "output_type": "execute_result",
          "data": {
            "text/plain": [
              "Ttest_indResult(statistic=-0.2571767857225991, pvalue=0.8030937233383489)"
            ]
          },
          "metadata": {
            "tags": []
          },
          "execution_count": 112
        }
      ]
    },
    {
      "cell_type": "code",
      "metadata": {
        "colab": {
          "base_uri": "https://localhost:8080/"
        },
        "id": "aEd86wk29ZXW",
        "outputId": "2fad98b9-979e-4a9b-8c94-db055ce12ba8"
      },
      "source": [
        "stats.ttest_ind(comp[comp['Inst'].str.contains('Cognition Early Childhood Composite')]['Fully-Corrected T-score'], comp_r[comp_r['Inst'].str.contains('Cognition Early Childhood Composite')]['Fully-Corrected T-score_r'], equal_var=False)"
      ],
      "execution_count": null,
      "outputs": [
        {
          "output_type": "execute_result",
          "data": {
            "text/plain": [
              "Ttest_indResult(statistic=0.616154154698851, pvalue=0.551845028333277)"
            ]
          },
          "metadata": {
            "tags": []
          },
          "execution_count": 113
        }
      ]
    },
    {
      "cell_type": "markdown",
      "metadata": {
        "id": "cz2a8UpLAVtI"
      },
      "source": [
        "# c.\tCorrelations between remote and in-person"
      ]
    },
    {
      "cell_type": "code",
      "metadata": {
        "colab": {
          "base_uri": "https://localhost:8080/"
        },
        "id": "wWSMTfFuAxq8",
        "outputId": "23ded394-3cb9-4802-b6ae-1c1e1dfff4e0"
      },
      "source": [
        "stats.pearsonr(ccc['Age-Corrected Standard Score'], ccc['Age-Corrected Standard Score_r'])"
      ],
      "execution_count": null,
      "outputs": [
        {
          "output_type": "execute_result",
          "data": {
            "text/plain": [
              "(0.946587402616624, 0.014699039823178852)"
            ]
          },
          "metadata": {
            "tags": []
          },
          "execution_count": 114
        }
      ]
    },
    {
      "cell_type": "code",
      "metadata": {
        "colab": {
          "base_uri": "https://localhost:8080/"
        },
        "id": "-6iEWJjaBDXF",
        "outputId": "926867da-e5c3-477c-f0d5-7f4e3aaf1928"
      },
      "source": [
        "stats.pearsonr(cecc['Fully-Corrected T-score'], cecc['Fully-Corrected T-score_r'])"
      ],
      "execution_count": null,
      "outputs": [
        {
          "output_type": "execute_result",
          "data": {
            "text/plain": [
              "(0.947287987151735, 0.20762342012113136)"
            ]
          },
          "metadata": {
            "tags": []
          },
          "execution_count": 115
        }
      ]
    },
    {
      "cell_type": "markdown",
      "metadata": {
        "id": "MZsSaExCAavd"
      },
      "source": [
        "# d.\tDoes it take longer for remote vs. in-person? "
      ]
    },
    {
      "cell_type": "code",
      "metadata": {
        "colab": {
          "base_uri": "https://localhost:8080/"
        },
        "id": "dln6vy8TDno1",
        "outputId": "53f3acf5-e155-4a6d-dd77-6d1bdc4e0cc1"
      },
      "source": [
        "stats.wilcoxon(ccc['Age-Corrected Standard Score'], ccc['Age-Corrected Standard Score_r'])"
      ],
      "execution_count": null,
      "outputs": [
        {
          "output_type": "stream",
          "text": [
            "/usr/local/lib/python3.7/dist-packages/scipy/stats/morestats.py:2879: UserWarning: Sample size too small for normal approximation.\n",
            "  warnings.warn(\"Sample size too small for normal approximation.\")\n"
          ],
          "name": "stderr"
        },
        {
          "output_type": "execute_result",
          "data": {
            "text/plain": [
              "WilcoxonResult(statistic=3.0, pvalue=1.0)"
            ]
          },
          "metadata": {
            "tags": []
          },
          "execution_count": 116
        }
      ]
    },
    {
      "cell_type": "code",
      "metadata": {
        "colab": {
          "base_uri": "https://localhost:8080/"
        },
        "id": "u4N3ryPgDilP",
        "outputId": "4e5a5482-b7ed-43b5-83c4-b758644439c3"
      },
      "source": [
        "stats.wilcoxon(cecc['Fully-Corrected T-score'], cecc['Fully-Corrected T-score_r'])"
      ],
      "execution_count": null,
      "outputs": [
        {
          "output_type": "stream",
          "text": [
            "/usr/local/lib/python3.7/dist-packages/scipy/stats/morestats.py:2879: UserWarning: Sample size too small for normal approximation.\n",
            "  warnings.warn(\"Sample size too small for normal approximation.\")\n"
          ],
          "name": "stderr"
        },
        {
          "output_type": "execute_result",
          "data": {
            "text/plain": [
              "WilcoxonResult(statistic=0.0, pvalue=0.10880943004054568)"
            ]
          },
          "metadata": {
            "tags": []
          },
          "execution_count": 117
        }
      ]
    },
    {
      "cell_type": "markdown",
      "metadata": {
        "id": "SOwQH2y7AgGH"
      },
      "source": [
        "# e.\tPlot on x-axis remote scores for all the Inst, and plot on y-axis all the in-person "
      ]
    },
    {
      "cell_type": "code",
      "metadata": {
        "id": "dpSw7jeQG4dP"
      },
      "source": [
        ""
      ],
      "execution_count": null,
      "outputs": []
    },
    {
      "cell_type": "code",
      "metadata": {
        "colab": {
          "base_uri": "https://localhost:8080/",
          "height": 509
        },
        "id": "0w6jYpjSG4xB",
        "outputId": "d2b9bb77-ca73-4c79-b90f-992a4009bb1f"
      },
      "source": [
        "import seaborn as sns\n",
        "sns.set_theme(style=\"darkgrid\")\n",
        "\n",
        "g = sns.jointplot(x=\"Age-Corrected Standard Score\", y=\"Age-Corrected Standard Score_r\", data=ccc,\n",
        "                  kind=\"reg\", truncate=False,\n",
        "                  color=\"m\", height=7)"
      ],
      "execution_count": null,
      "outputs": [
        {
          "output_type": "display_data",
          "data": {
            "image/png": "[encoded data removed]",
            "text/plain": [
              "<Figure size 504x504 with 3 Axes>"
            ]
          },
          "metadata": {
            "tags": []
          }
        }
      ]
    },
    {
      "cell_type": "code",
      "metadata": {
        "colab": {
          "base_uri": "https://localhost:8080/",
          "height": 509
        },
        "id": "ZVCMyfjG8FX8",
        "outputId": "fa6e0f9c-18b5-45a9-beb4-1876a3dbd662"
      },
      "source": [
        "\n",
        "g = sns.jointplot(x=\"Age-Corrected Standard Score\", y=\"Age-Corrected Standard Score_r\", data=cecc,\n",
        "                  kind=\"reg\", truncate=False,\n",
        "                  color=\"m\", height=7)"
      ],
      "execution_count": null,
      "outputs": [
        {
          "output_type": "display_data",
          "data": {
            "image/png": "[encoded data removed]",
            "text/plain": [
              "<Figure size 504x504 with 3 Axes>"
            ]
          },
          "metadata": {
            "tags": []
          }
        }
      ]
    },
    {
      "cell_type": "markdown",
      "metadata": {
        "id": "02ViorSi1vK7"
      },
      "source": [
        "# Wide to Long"
      ]
    },
    {
      "cell_type": "code",
      "metadata": {
        "id": "XoJbrwWn2oZb"
      },
      "source": [
        "all = pd.concat([df,dfr]) "
      ],
      "execution_count": null,
      "outputs": []
    },
    {
      "cell_type": "code",
      "metadata": {
        "colab": {
          "base_uri": "https://localhost:8080/",
          "height": 194
        },
        "id": "_5w5JDXW_KNO",
        "outputId": "d2603c9c-340f-41c1-e4ef-8429c159c44f"
      },
      "source": [
        "time_breakdown.head()"
      ],
      "execution_count": null,
      "outputs": [
        {
          "output_type": "execute_result",
          "data": {
            "text/html": [
              "<div>\n",
              "<style scoped>\n",
              "    .dataframe tbody tr th:only-of-type {\n",
              "        vertical-align: middle;\n",
              "    }\n",
              "\n",
              "    .dataframe tbody tr th {\n",
              "        vertical-align: top;\n",
              "    }\n",
              "\n",
              "    .dataframe thead th {\n",
              "        text-align: right;\n",
              "    }\n",
              "</style>\n",
              "<table border=\"1\" class=\"dataframe\">\n",
              "  <thead>\n",
              "    <tr style=\"text-align: right;\">\n",
              "      <th></th>\n",
              "      <th>PIN</th>\n",
              "      <th>Inst</th>\n",
              "      <th>Date</th>\n",
              "      <th>Time</th>\n",
              "      <th>Mode</th>\n",
              "    </tr>\n",
              "  </thead>\n",
              "  <tbody>\n",
              "    <tr>\n",
              "      <th>0</th>\n",
              "      <td>EPRC_00032</td>\n",
              "      <td>NIH Toolbox Dimensional Change Card Sort Test ...</td>\n",
              "      <td>2021-03-30</td>\n",
              "      <td>5.30</td>\n",
              "      <td>In Person</td>\n",
              "    </tr>\n",
              "    <tr>\n",
              "      <th>1</th>\n",
              "      <td>EPRC_00032</td>\n",
              "      <td>NIH Toolbox Flanker Inhibitory Control and Att...</td>\n",
              "      <td>2021-03-30</td>\n",
              "      <td>3.97</td>\n",
              "      <td>In Person</td>\n",
              "    </tr>\n",
              "    <tr>\n",
              "      <th>2</th>\n",
              "      <td>EPRC_00032</td>\n",
              "      <td>NIH Toolbox List Sorting Working Memory Test A...</td>\n",
              "      <td>2021-03-30</td>\n",
              "      <td>10.60</td>\n",
              "      <td>In Person</td>\n",
              "    </tr>\n",
              "    <tr>\n",
              "      <th>3</th>\n",
              "      <td>EPRC_00032</td>\n",
              "      <td>NIH Toolbox Oral Reading Recognition Test Age ...</td>\n",
              "      <td>2021-03-30</td>\n",
              "      <td>1.43</td>\n",
              "      <td>In Person</td>\n",
              "    </tr>\n",
              "    <tr>\n",
              "      <th>4</th>\n",
              "      <td>EPRC_00032</td>\n",
              "      <td>NIH Toolbox Pattern Comparison Processing Spee...</td>\n",
              "      <td>2021-03-30</td>\n",
              "      <td>1.57</td>\n",
              "      <td>In Person</td>\n",
              "    </tr>\n",
              "  </tbody>\n",
              "</table>\n",
              "</div>"
            ],
            "text/plain": [
              "          PIN  ...       Mode\n",
              "0  EPRC_00032  ...  In Person\n",
              "1  EPRC_00032  ...  In Person\n",
              "2  EPRC_00032  ...  In Person\n",
              "3  EPRC_00032  ...  In Person\n",
              "4  EPRC_00032  ...  In Person\n",
              "\n",
              "[5 rows x 5 columns]"
            ]
          },
          "metadata": {
            "tags": []
          },
          "execution_count": 153
        }
      ]
    },
    {
      "cell_type": "code",
      "metadata": {
        "id": "aYRQ3GZx2r4x"
      },
      "source": [
        "rv =pd.merge(time_breakdown, all, how='outer',on=['PIN','Inst','Mode'])"
      ],
      "execution_count": null,
      "outputs": []
    },
    {
      "cell_type": "code",
      "metadata": {
        "id": "jKHrHKsI2-EG",
        "colab": {
          "base_uri": "https://localhost:8080/"
        },
        "outputId": "6c7d4649-ae87-4962-d9e3-ea113cfe7fd0"
      },
      "source": [
        "rv.shape"
      ],
      "execution_count": null,
      "outputs": [
        {
          "output_type": "execute_result",
          "data": {
            "text/plain": [
              "(258, 16)"
            ]
          },
          "metadata": {
            "tags": []
          },
          "execution_count": 156
        }
      ]
    },
    {
      "cell_type": "code",
      "metadata": {
        "id": "U7BnD7OT6RM-"
      },
      "source": [
        "rv['Site'] = np.where(rv['PIN'].str.contains('SF'), 'Sioux Falls', 'Rapid City')"
      ],
      "execution_count": null,
      "outputs": []
    },
    {
      "cell_type": "code",
      "metadata": {
        "colab": {
          "base_uri": "https://localhost:8080/",
          "height": 329
        },
        "id": "PNpXp1sA_r0H",
        "outputId": "0fbf5921-26c7-41a5-c88a-6adf5d6ee303"
      },
      "source": [
        "all.head()"
      ],
      "execution_count": null,
      "outputs": [
        {
          "output_type": "execute_result",
          "data": {
            "text/html": [
              "<div>\n",
              "<style scoped>\n",
              "    .dataframe tbody tr th:only-of-type {\n",
              "        vertical-align: middle;\n",
              "    }\n",
              "\n",
              "    .dataframe tbody tr th {\n",
              "        vertical-align: top;\n",
              "    }\n",
              "\n",
              "    .dataframe thead th {\n",
              "        text-align: right;\n",
              "    }\n",
              "</style>\n",
              "<table border=\"1\" class=\"dataframe\">\n",
              "  <thead>\n",
              "    <tr style=\"text-align: right;\">\n",
              "      <th></th>\n",
              "      <th>PIN</th>\n",
              "      <th>Inst</th>\n",
              "      <th>RawScore</th>\n",
              "      <th>Theta</th>\n",
              "      <th>SE</th>\n",
              "      <th>ItmCnt</th>\n",
              "      <th>Computed Score</th>\n",
              "      <th>Uncorrected Standard Score</th>\n",
              "      <th>Age-Corrected Standard Score</th>\n",
              "      <th>National Percentile (age adjusted)</th>\n",
              "      <th>Fully-Corrected T-score</th>\n",
              "      <th>InstrumentBreakoff</th>\n",
              "      <th>InstrumentStatus2</th>\n",
              "      <th>Mode</th>\n",
              "    </tr>\n",
              "  </thead>\n",
              "  <tbody>\n",
              "    <tr>\n",
              "      <th>0</th>\n",
              "      <td>EPRC_00032</td>\n",
              "      <td>NIH Toolbox Picture Vocabulary Test Age 3+ v2.1</td>\n",
              "      <td>NaN</td>\n",
              "      <td>-2.411</td>\n",
              "      <td>0.475</td>\n",
              "      <td>20.0</td>\n",
              "      <td>NaN</td>\n",
              "      <td>71.0</td>\n",
              "      <td>95.0</td>\n",
              "      <td>36.0</td>\n",
              "      <td>36.0</td>\n",
              "      <td>2.0</td>\n",
              "      <td>3.0</td>\n",
              "      <td>In Person</td>\n",
              "    </tr>\n",
              "    <tr>\n",
              "      <th>1</th>\n",
              "      <td>EPRC_00032</td>\n",
              "      <td>NIH Toolbox Flanker Inhibitory Control and Att...</td>\n",
              "      <td>20.0</td>\n",
              "      <td>NaN</td>\n",
              "      <td>NaN</td>\n",
              "      <td>24.0</td>\n",
              "      <td>7.24</td>\n",
              "      <td>89.0</td>\n",
              "      <td>94.0</td>\n",
              "      <td>34.0</td>\n",
              "      <td>45.0</td>\n",
              "      <td>2.0</td>\n",
              "      <td>3.0</td>\n",
              "      <td>In Person</td>\n",
              "    </tr>\n",
              "    <tr>\n",
              "      <th>2</th>\n",
              "      <td>EPRC_00032</td>\n",
              "      <td>NIH Toolbox List Sorting Working Memory Test A...</td>\n",
              "      <td>16.0</td>\n",
              "      <td>NaN</td>\n",
              "      <td>NaN</td>\n",
              "      <td>15.0</td>\n",
              "      <td>NaN</td>\n",
              "      <td>97.0</td>\n",
              "      <td>108.0</td>\n",
              "      <td>69.0</td>\n",
              "      <td>48.0</td>\n",
              "      <td>2.0</td>\n",
              "      <td>3.0</td>\n",
              "      <td>In Person</td>\n",
              "    </tr>\n",
              "    <tr>\n",
              "      <th>3</th>\n",
              "      <td>EPRC_00032</td>\n",
              "      <td>NIH Toolbox Dimensional Change Card Sort Test ...</td>\n",
              "      <td>26.0</td>\n",
              "      <td>NaN</td>\n",
              "      <td>NaN</td>\n",
              "      <td>38.0</td>\n",
              "      <td>6.73</td>\n",
              "      <td>91.0</td>\n",
              "      <td>96.0</td>\n",
              "      <td>40.0</td>\n",
              "      <td>46.0</td>\n",
              "      <td>2.0</td>\n",
              "      <td>3.0</td>\n",
              "      <td>In Person</td>\n",
              "    </tr>\n",
              "    <tr>\n",
              "      <th>4</th>\n",
              "      <td>EPRC_00032</td>\n",
              "      <td>NIH Toolbox Pattern Comparison Processing Spee...</td>\n",
              "      <td>34.0</td>\n",
              "      <td>NaN</td>\n",
              "      <td>NaN</td>\n",
              "      <td>34.0</td>\n",
              "      <td>39.00</td>\n",
              "      <td>80.0</td>\n",
              "      <td>86.0</td>\n",
              "      <td>18.0</td>\n",
              "      <td>39.0</td>\n",
              "      <td>2.0</td>\n",
              "      <td>3.0</td>\n",
              "      <td>In Person</td>\n",
              "    </tr>\n",
              "  </tbody>\n",
              "</table>\n",
              "</div>"
            ],
            "text/plain": [
              "          PIN  ...       Mode\n",
              "0  EPRC_00032  ...  In Person\n",
              "1  EPRC_00032  ...  In Person\n",
              "2  EPRC_00032  ...  In Person\n",
              "3  EPRC_00032  ...  In Person\n",
              "4  EPRC_00032  ...  In Person\n",
              "\n",
              "[5 rows x 14 columns]"
            ]
          },
          "metadata": {
            "tags": []
          },
          "execution_count": 154
        }
      ]
    },
    {
      "cell_type": "code",
      "metadata": {
        "id": "yx--Qwdr1JJz"
      },
      "source": [
        "rv = rv.melt(id_vars=['PIN','Inst','Mode','Date','Time','Site'], \n",
        "        var_name=\"Scores\", \n",
        "        value_name=\"Value\")"
      ],
      "execution_count": null,
      "outputs": []
    },
    {
      "cell_type": "code",
      "metadata": {
        "id": "m3uIZx2PHrbG"
      },
      "source": [
        "rv=rv.dropna(thresh=6, axis=0)"
      ],
      "execution_count": null,
      "outputs": []
    },
    {
      "cell_type": "code",
      "metadata": {
        "colab": {
          "base_uri": "https://localhost:8080/"
        },
        "id": "2htdbHuqCjCM",
        "outputId": "1f478e82-f6a1-497e-d19a-8079c5d0e99b"
      },
      "source": [
        "rv.shape"
      ],
      "execution_count": null,
      "outputs": [
        {
          "output_type": "execute_result",
          "data": {
            "text/plain": [
              "(2502, 8)"
            ]
          },
          "metadata": {
            "tags": []
          },
          "execution_count": 187
        }
      ]
    },
    {
      "cell_type": "code",
      "metadata": {
        "id": "gceEOcxf5XmR"
      },
      "source": [
        "rv.to_csv('long_format_data.csv', index=False)"
      ],
      "execution_count": null,
      "outputs": []
    }
  ]
}