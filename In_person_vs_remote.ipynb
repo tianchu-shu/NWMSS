{
  "nbformat": 4,
  "nbformat_minor": 0,
  "metadata": {
    "kernelspec": {
      "display_name": "Python 3",
      "language": "python",
      "name": "python3"
    },
    "language_info": {
      "codemirror_mode": {
        "name": "ipython",
        "version": 3
      },
      "file_extension": ".py",
      "mimetype": "text/x-python",
      "name": "python",
      "nbconvert_exporter": "python",
      "pygments_lexer": "ipython3",
      "version": "3.6.5"
    },
    "colab": {
      "name": "In_person_vs_remote.ipynb",
      "provenance": [],
      "collapsed_sections": [],
      "include_colab_link": true
    }
  },
  "cells": [
    {
      "cell_type": "markdown",
      "metadata": {
        "id": "view-in-github",
        "colab_type": "text"
      },
      "source": [
        "<a href=\"https://colab.research.google.com/github/tianchu-shu/NWMSS/blob/main/In_person_vs_remote.ipynb\" target=\"_parent\"><img src=\"https://colab.research.google.com/assets/colab-badge.svg\" alt=\"Open In Colab\"/></a>"
      ]
    },
    {
      "cell_type": "code",
      "metadata": {
        "id": "B5hl3HN8RfDn",
        "colab": {
          "base_uri": "https://localhost:8080/"
        },
        "outputId": "353f6f53-8f5c-4946-b160-47aeb4962f64"
      },
      "source": [
        "from google.colab import drive\n",
        "drive.mount(\"/content/gdrive\", force_remount=True)"
      ],
      "execution_count": 415,
      "outputs": [
        {
          "output_type": "stream",
          "text": [
            "Mounted at /content/gdrive\n"
          ],
          "name": "stdout"
        }
      ]
    },
    {
      "cell_type": "code",
      "metadata": {
        "id": "SPKdLsF0Rg36"
      },
      "source": [
        "#Data saved in csv/excel\n",
        "import glob, os\n",
        "import pandas as pd\n",
        "\n",
        "data_dir= '/content/gdrive/My Drive/Avera/'\n",
        "os.chdir(data_dir)"
      ],
      "execution_count": 416,
      "outputs": []
    },
    {
      "cell_type": "code",
      "metadata": {
        "colab": {
          "base_uri": "https://localhost:8080/"
        },
        "id": "LnlbQxV5WIMo",
        "outputId": "d5080afc-159c-48bd-822e-006b8f552e6c"
      },
      "source": [
        "!ls"
      ],
      "execution_count": 417,
      "outputs": [
        {
          "output_type": "stream",
          "text": [
            " at.csv   long_format_data.csv\t'Rapid City'  'Sioux Falls'   times.csv\n"
          ],
          "name": "stdout"
        }
      ]
    },
    {
      "cell_type": "markdown",
      "metadata": {
        "id": "Ryp-FuHZLWyT"
      },
      "source": [
        "#Compute the Total response time in minutes"
      ]
    },
    {
      "cell_type": "code",
      "metadata": {
        "id": "yonYmaEjXXnY",
        "colab": {
          "base_uri": "https://localhost:8080/"
        },
        "outputId": "56b987c9-fff8-44b1-cb71-e06c5e7135c9"
      },
      "source": [
        "# get all files from all RC In-person subdirectories\n",
        "\n",
        "all_files = glob.glob('/content/gdrive/My Drive/Avera/Rapid City/*/In Person/*CB_Data.csv')\n",
        "\n",
        "doc =[]\n",
        "for file in all_files:\n",
        "  data = pd.read_csv(file)\n",
        "  doc.append(data)\n",
        "\n",
        "# get all files from all SF\n",
        "all_files = glob.glob('/content/gdrive/My Drive/Avera/Sioux Falls/*/*CB_Data.csv')\n",
        "for file in all_files:\n",
        "  data = pd.read_csv(file)\n",
        "  doc.append(data)\n",
        "\n",
        "all_files = glob.glob('/content/gdrive/My Drive/Avera/Sioux Falls/*/*PVT_Data.csv')\n",
        "sep= []\n",
        "for file in all_files:\n",
        "  data = pd.read_csv(file)\n",
        "  if data.shape[1]!= 11:\n",
        "    print(data.shape)\n",
        "    doc.append(data)\n",
        "\n",
        "  else:\n",
        "    sep.append(data)\n",
        "    print(data.shape)\n",
        "    print(file[42:])\n",
        "df = pd.concat(doc)"
      ],
      "execution_count": 418,
      "outputs": [
        {
          "output_type": "stream",
          "text": [
            "(25, 23)\n",
            "(26, 23)\n",
            "(29, 23)\n",
            "(25, 23)\n",
            "(403, 11)\n",
            "/210409_EPSF_00943_A_9.5Y/210409_EPSF_00943_A_9.5Y_M_NT_NS_PVT_Data.csv\n",
            "(403, 11)\n",
            "/210409_EPSF_00944_A_8Y/210409_EPSF_00944_A_M_NT_NS_PVT_Data.csv\n",
            "(25, 23)\n",
            "(403, 11)\n",
            "/210409_EPSF_00944_B_8Y/210409_EPSF_00944_B_8Y_M_NT_NS_PVT_Data.csv\n",
            "(25, 23)\n",
            "(25, 23)\n",
            "(25, 23)\n"
          ],
          "name": "stdout"
        }
      ]
    },
    {
      "cell_type": "code",
      "metadata": {
        "id": "hv9LEGi0fkbN"
      },
      "source": [
        "sdf = pd.concat(sep)"
      ],
      "execution_count": 419,
      "outputs": []
    },
    {
      "cell_type": "code",
      "metadata": {
        "colab": {
          "base_uri": "https://localhost:8080/"
        },
        "id": "PgrHHaJtgcyq",
        "outputId": "5cc3260d-003f-43c4-d83c-3493c4da7914"
      },
      "source": [
        "sdf.shape"
      ],
      "execution_count": 420,
      "outputs": [
        {
          "output_type": "execute_result",
          "data": {
            "text/plain": [
              "(1209, 11)"
            ]
          },
          "metadata": {
            "tags": []
          },
          "execution_count": 420
        }
      ]
    },
    {
      "cell_type": "code",
      "metadata": {
        "colab": {
          "base_uri": "https://localhost:8080/",
          "height": 666
        },
        "id": "pMEIOTwTin-_",
        "outputId": "3773d420-bccb-45ff-b95a-36dbde272331"
      },
      "source": [
        "df.head()"
      ],
      "execution_count": 421,
      "outputs": [
        {
          "output_type": "execute_result",
          "data": {
            "text/html": [
              "<div>\n",
              "<style scoped>\n",
              "    .dataframe tbody tr th:only-of-type {\n",
              "        vertical-align: middle;\n",
              "    }\n",
              "\n",
              "    .dataframe tbody tr th {\n",
              "        vertical-align: top;\n",
              "    }\n",
              "\n",
              "    .dataframe thead th {\n",
              "        text-align: right;\n",
              "    }\n",
              "</style>\n",
              "<table border=\"1\" class=\"dataframe\">\n",
              "  <thead>\n",
              "    <tr style=\"text-align: right;\">\n",
              "      <th></th>\n",
              "      <th>PIN</th>\n",
              "      <th>DeviceID</th>\n",
              "      <th>Assessment Name</th>\n",
              "      <th>InstOrdr</th>\n",
              "      <th>InstSctn</th>\n",
              "      <th>ItmOrdr</th>\n",
              "      <th>Inst</th>\n",
              "      <th>Locale</th>\n",
              "      <th>ItemID</th>\n",
              "      <th>Response</th>\n",
              "      <th>Score</th>\n",
              "      <th>Theta</th>\n",
              "      <th>TScore</th>\n",
              "      <th>SE</th>\n",
              "      <th>DataType</th>\n",
              "      <th>Position</th>\n",
              "      <th>ResponseTime</th>\n",
              "      <th>DateCreated</th>\n",
              "      <th>InstStarted</th>\n",
              "      <th>InstEnded</th>\n",
              "      <th>App Version</th>\n",
              "      <th>iPad Version</th>\n",
              "      <th>Firmware Version</th>\n",
              "    </tr>\n",
              "  </thead>\n",
              "  <tbody>\n",
              "    <tr>\n",
              "      <th>0</th>\n",
              "      <td>210330_EPRC_00032_A_8Y</td>\n",
              "      <td>DB9A19BF-F81C-4244-9C7F-D0BB4A39D394</td>\n",
              "      <td>Assessment 1</td>\n",
              "      <td>1</td>\n",
              "      <td>1</td>\n",
              "      <td>1</td>\n",
              "      <td>NIH Toolbox Picture Vocabulary Test Age 3+ Pra...</td>\n",
              "      <td>en-US</td>\n",
              "      <td>VOCAB_INTRO</td>\n",
              "      <td>NaN</td>\n",
              "      <td>NaN</td>\n",
              "      <td>NaN</td>\n",
              "      <td>NaN</td>\n",
              "      <td>NaN</td>\n",
              "      <td>informational</td>\n",
              "      <td>NaN</td>\n",
              "      <td>NaN</td>\n",
              "      <td>2021-03-30 09:43:19</td>\n",
              "      <td>2021-03-30 09:43:16</td>\n",
              "      <td>2021-03-30 09:44:46</td>\n",
              "      <td>1.23.4300</td>\n",
              "      <td>iPad Pro 1st Gen (10.5-inch) / iPad7,3</td>\n",
              "      <td>14.4.1</td>\n",
              "    </tr>\n",
              "    <tr>\n",
              "      <th>1</th>\n",
              "      <td>210330_EPRC_00032_A_8Y</td>\n",
              "      <td>DB9A19BF-F81C-4244-9C7F-D0BB4A39D394</td>\n",
              "      <td>Assessment 1</td>\n",
              "      <td>1</td>\n",
              "      <td>1</td>\n",
              "      <td>2</td>\n",
              "      <td>NIH Toolbox Picture Vocabulary Test Age 3+ Pra...</td>\n",
              "      <td>en-US</td>\n",
              "      <td>VOCAB_INSTR1</td>\n",
              "      <td>NaN</td>\n",
              "      <td>NaN</td>\n",
              "      <td>NaN</td>\n",
              "      <td>NaN</td>\n",
              "      <td>NaN</td>\n",
              "      <td>informational</td>\n",
              "      <td>NaN</td>\n",
              "      <td>NaN</td>\n",
              "      <td>2021-03-30 09:44:10</td>\n",
              "      <td>2021-03-30 09:43:16</td>\n",
              "      <td>2021-03-30 09:44:46</td>\n",
              "      <td>1.23.4300</td>\n",
              "      <td>iPad Pro 1st Gen (10.5-inch) / iPad7,3</td>\n",
              "      <td>14.4.1</td>\n",
              "    </tr>\n",
              "    <tr>\n",
              "      <th>2</th>\n",
              "      <td>210330_EPRC_00032_A_8Y</td>\n",
              "      <td>DB9A19BF-F81C-4244-9C7F-D0BB4A39D394</td>\n",
              "      <td>Assessment 1</td>\n",
              "      <td>1</td>\n",
              "      <td>1</td>\n",
              "      <td>3</td>\n",
              "      <td>NIH Toolbox Picture Vocabulary Test Age 3+ Pra...</td>\n",
              "      <td>en-US</td>\n",
              "      <td>VOCAB_PRACT1</td>\n",
              "      <td>4</td>\n",
              "      <td>1.0</td>\n",
              "      <td>NaN</td>\n",
              "      <td>NaN</td>\n",
              "      <td>NaN</td>\n",
              "      <td>integer</td>\n",
              "      <td>1.0</td>\n",
              "      <td>6.432752</td>\n",
              "      <td>2021-03-30 09:44:17</td>\n",
              "      <td>2021-03-30 09:43:16</td>\n",
              "      <td>2021-03-30 09:44:46</td>\n",
              "      <td>1.23.4300</td>\n",
              "      <td>iPad Pro 1st Gen (10.5-inch) / iPad7,3</td>\n",
              "      <td>14.4.1</td>\n",
              "    </tr>\n",
              "    <tr>\n",
              "      <th>3</th>\n",
              "      <td>210330_EPRC_00032_A_8Y</td>\n",
              "      <td>DB9A19BF-F81C-4244-9C7F-D0BB4A39D394</td>\n",
              "      <td>Assessment 1</td>\n",
              "      <td>1</td>\n",
              "      <td>1</td>\n",
              "      <td>4</td>\n",
              "      <td>NIH Toolbox Picture Vocabulary Test Age 3+ Pra...</td>\n",
              "      <td>en-US</td>\n",
              "      <td>VOCAB_PRACT2</td>\n",
              "      <td>3</td>\n",
              "      <td>1.0</td>\n",
              "      <td>NaN</td>\n",
              "      <td>NaN</td>\n",
              "      <td>NaN</td>\n",
              "      <td>integer</td>\n",
              "      <td>2.0</td>\n",
              "      <td>6.050304</td>\n",
              "      <td>2021-03-30 09:44:24</td>\n",
              "      <td>2021-03-30 09:43:16</td>\n",
              "      <td>2021-03-30 09:44:46</td>\n",
              "      <td>1.23.4300</td>\n",
              "      <td>iPad Pro 1st Gen (10.5-inch) / iPad7,3</td>\n",
              "      <td>14.4.1</td>\n",
              "    </tr>\n",
              "    <tr>\n",
              "      <th>4</th>\n",
              "      <td>210330_EPRC_00032_A_8Y</td>\n",
              "      <td>DB9A19BF-F81C-4244-9C7F-D0BB4A39D394</td>\n",
              "      <td>Assessment 1</td>\n",
              "      <td>1</td>\n",
              "      <td>1</td>\n",
              "      <td>5</td>\n",
              "      <td>NIH Toolbox Picture Vocabulary Test Age 3+ Pra...</td>\n",
              "      <td>en-US</td>\n",
              "      <td>VOCAB_INSTR2</td>\n",
              "      <td>NaN</td>\n",
              "      <td>NaN</td>\n",
              "      <td>NaN</td>\n",
              "      <td>NaN</td>\n",
              "      <td>NaN</td>\n",
              "      <td>informational</td>\n",
              "      <td>NaN</td>\n",
              "      <td>NaN</td>\n",
              "      <td>2021-03-30 09:44:46</td>\n",
              "      <td>2021-03-30 09:43:16</td>\n",
              "      <td>2021-03-30 09:44:46</td>\n",
              "      <td>1.23.4300</td>\n",
              "      <td>iPad Pro 1st Gen (10.5-inch) / iPad7,3</td>\n",
              "      <td>14.4.1</td>\n",
              "    </tr>\n",
              "  </tbody>\n",
              "</table>\n",
              "</div>"
            ],
            "text/plain": [
              "                      PIN  ... Firmware Version\n",
              "0  210330_EPRC_00032_A_8Y  ...           14.4.1\n",
              "1  210330_EPRC_00032_A_8Y  ...           14.4.1\n",
              "2  210330_EPRC_00032_A_8Y  ...           14.4.1\n",
              "3  210330_EPRC_00032_A_8Y  ...           14.4.1\n",
              "4  210330_EPRC_00032_A_8Y  ...           14.4.1\n",
              "\n",
              "[5 rows x 23 columns]"
            ]
          },
          "metadata": {
            "tags": []
          },
          "execution_count": 421
        }
      ]
    },
    {
      "cell_type": "code",
      "metadata": {
        "colab": {
          "base_uri": "https://localhost:8080/"
        },
        "id": "tn5Zdkf1iMfw",
        "outputId": "5364985c-b5a9-4682-8c18-fd122d3800bc"
      },
      "source": [
        "df.columns"
      ],
      "execution_count": 422,
      "outputs": [
        {
          "output_type": "execute_result",
          "data": {
            "text/plain": [
              "Index(['PIN', 'DeviceID', 'Assessment Name', 'InstOrdr', 'InstSctn', 'ItmOrdr',\n",
              "       'Inst', 'Locale', 'ItemID', 'Response', 'Score', 'Theta', 'TScore',\n",
              "       'SE', 'DataType', 'Position', 'ResponseTime', 'DateCreated',\n",
              "       'InstStarted', 'InstEnded', 'App Version', 'iPad Version',\n",
              "       'Firmware Version'],\n",
              "      dtype='object')"
            ]
          },
          "metadata": {
            "tags": []
          },
          "execution_count": 422
        }
      ]
    },
    {
      "cell_type": "code",
      "metadata": {
        "id": "j7Uoq7LygW1V"
      },
      "source": [
        "#Reshape the data for EPSF_00944 and EPSF_00943 from long to wide\n",
        "sdf=sdf.pivot_table(index=['PIN', 'DeviceID', 'AssessmentName', 'ResponseID', 'ItemID',\n",
        "       'InstrumentTitle', 'TestName', 'InstrumentID'], columns='Key', values='Value', aggfunc='first').reset_index()"
      ],
      "execution_count": 423,
      "outputs": []
    },
    {
      "cell_type": "code",
      "metadata": {
        "id": "nN2RXgoSqFn-"
      },
      "source": [
        "sdf.columns=['PIN', 'DeviceID', 'Assessment Name', 'ResponseID', 'ItemID',\n",
        "       'Inst', 'TestName', 'InstrumentID', 'App Version', 'DataType',\n",
        "       'DateCreated', 'Firmware Version', 'InstEnded',\n",
        "      'InstOrdr', 'InstSctn', 'InstStarted',\n",
        "       'ItmOrdr', 'Locale', 'Position', 'Response', 'ResponseTime', 'SE',\n",
        "       'Score', 'Theta', 'iPad Version']"
      ],
      "execution_count": 424,
      "outputs": []
    },
    {
      "cell_type": "code",
      "metadata": {
        "id": "SRQvyDI1l3b1"
      },
      "source": [
        "sdf =sdf.drop(columns=['ResponseID','TestName','InstrumentID'])"
      ],
      "execution_count": 425,
      "outputs": []
    },
    {
      "cell_type": "code",
      "metadata": {
        "id": "c5m78-52mONr"
      },
      "source": [
        "sdf['Site'] = 'Sioux Falls'"
      ],
      "execution_count": 426,
      "outputs": []
    },
    {
      "cell_type": "code",
      "metadata": {
        "id": "H-UAtMUIkWAa"
      },
      "source": [
        "df = df.append(sdf)"
      ],
      "execution_count": 427,
      "outputs": []
    },
    {
      "cell_type": "code",
      "metadata": {
        "colab": {
          "base_uri": "https://localhost:8080/"
        },
        "id": "T9XiKDi8lZ0z",
        "outputId": "056edaf8-28b7-408f-bb7a-a89e008df8d7"
      },
      "source": [
        "df.shape"
      ],
      "execution_count": 428,
      "outputs": [
        {
          "output_type": "execute_result",
          "data": {
            "text/plain": [
              "(2983, 24)"
            ]
          },
          "metadata": {
            "tags": []
          },
          "execution_count": 428
        }
      ]
    },
    {
      "cell_type": "code",
      "metadata": {
        "id": "vY67enVDXXne"
      },
      "source": [
        "df['PIN'] = df['PIN'].str[7:17]"
      ],
      "execution_count": 429,
      "outputs": []
    },
    {
      "cell_type": "code",
      "metadata": {
        "id": "E5ZSa4DUXXne"
      },
      "source": [
        "df['InstStarted']= pd.to_datetime(df['InstStarted'])"
      ],
      "execution_count": 430,
      "outputs": []
    },
    {
      "cell_type": "code",
      "metadata": {
        "id": "lumc7-HYXXnf"
      },
      "source": [
        "df['InstEnded']= pd.to_datetime(df['InstEnded'])"
      ],
      "execution_count": 431,
      "outputs": []
    },
    {
      "cell_type": "code",
      "metadata": {
        "colab": {
          "base_uri": "https://localhost:8080/"
        },
        "id": "q09DIDy_XXng",
        "outputId": "bb2bc54c-9d51-4cfe-dac4-5642e4dda868"
      },
      "source": [
        "mni =df.groupby(['PIN','Inst'])['InstStarted','InstEnded'].first().reset_index()"
      ],
      "execution_count": 432,
      "outputs": [
        {
          "output_type": "stream",
          "text": [
            "/usr/local/lib/python3.7/dist-packages/ipykernel_launcher.py:1: FutureWarning: Indexing with multiple keys (implicitly converted to a tuple of keys) will be deprecated, use a list instead.\n",
            "  \"\"\"Entry point for launching an IPython kernel.\n"
          ],
          "name": "stderr"
        }
      ]
    },
    {
      "cell_type": "code",
      "metadata": {
        "id": "AKYCyKHhXXng"
      },
      "source": [
        "mni['Time']=mni['InstEnded']-mni['InstStarted']"
      ],
      "execution_count": 433,
      "outputs": []
    },
    {
      "cell_type": "code",
      "metadata": {
        "id": "I3Fr7g-eYvSZ"
      },
      "source": [
        "mni=mni.drop(columns=['InstStarted'])"
      ],
      "execution_count": 434,
      "outputs": []
    },
    {
      "cell_type": "code",
      "metadata": {
        "colab": {
          "base_uri": "https://localhost:8080/"
        },
        "id": "1i87rXZjZnan",
        "outputId": "c2cdcd22-a397-4e4c-bd4f-5c7bd4a4af4d"
      },
      "source": [
        "mni.shape"
      ],
      "execution_count": 435,
      "outputs": [
        {
          "output_type": "execute_result",
          "data": {
            "text/plain": [
              "(114, 4)"
            ]
          },
          "metadata": {
            "tags": []
          },
          "execution_count": 435
        }
      ]
    },
    {
      "cell_type": "code",
      "metadata": {
        "id": "gQy-BDNzDh4p"
      },
      "source": [
        "#drop 'NIH Toolbox List Sorting Working Memory Test Age 7+ v2.1' to calculate the time\n",
        "mni=mni[mni['Inst']!='NIH Toolbox List Sorting Working Memory Test Age 7+ v2.1']"
      ],
      "execution_count": 436,
      "outputs": []
    },
    {
      "cell_type": "code",
      "metadata": {
        "colab": {
          "base_uri": "https://localhost:8080/"
        },
        "id": "nr74b12mZog4",
        "outputId": "912d5526-02dc-456f-8f0c-6446e5de95d3"
      },
      "source": [
        "mni.shape"
      ],
      "execution_count": 437,
      "outputs": [
        {
          "output_type": "execute_result",
          "data": {
            "text/plain": [
              "(102, 4)"
            ]
          },
          "metadata": {
            "tags": []
          },
          "execution_count": 437
        }
      ]
    },
    {
      "cell_type": "code",
      "metadata": {
        "id": "BUmKDYpTXXnh"
      },
      "source": [
        "IP =mni.groupby(['PIN'])['Time'].sum().reset_index()"
      ],
      "execution_count": 438,
      "outputs": []
    },
    {
      "cell_type": "code",
      "metadata": {
        "id": "BmnWLgBYXXnh"
      },
      "source": [
        "IP['Time']=round(IP['Time'].dt.total_seconds()/60,2)"
      ],
      "execution_count": 439,
      "outputs": []
    },
    {
      "cell_type": "code",
      "metadata": {
        "id": "TaVkbMoAjUaW"
      },
      "source": [
        "mni['Time']=round(mni['Time'].dt.total_seconds()/60,2)"
      ],
      "execution_count": 440,
      "outputs": []
    },
    {
      "cell_type": "code",
      "metadata": {
        "id": "oDTt-ymSwHPZ"
      },
      "source": [
        "mni['Mode'] = 'In Person'"
      ],
      "execution_count": 441,
      "outputs": []
    },
    {
      "cell_type": "code",
      "metadata": {
        "id": "bqxJPDOTT7ag"
      },
      "source": [
        "mni.InstEnded= mni.InstEnded.map(lambda x: x.strftime('%Y-%m-%d'))"
      ],
      "execution_count": 442,
      "outputs": []
    },
    {
      "cell_type": "code",
      "metadata": {
        "id": "6zlMD1z0DOwT"
      },
      "source": [
        "mni.rename(columns={'InstEnded':'Date'}, inplace=True)"
      ],
      "execution_count": 443,
      "outputs": []
    },
    {
      "cell_type": "code",
      "metadata": {
        "colab": {
          "base_uri": "https://localhost:8080/",
          "height": 419
        },
        "id": "80ycQdp3zH3k",
        "outputId": "216677bc-6bde-4ece-cfa5-4781de2dfe63"
      },
      "source": [
        "mni"
      ],
      "execution_count": 444,
      "outputs": [
        {
          "output_type": "execute_result",
          "data": {
            "text/html": [
              "<div>\n",
              "<style scoped>\n",
              "    .dataframe tbody tr th:only-of-type {\n",
              "        vertical-align: middle;\n",
              "    }\n",
              "\n",
              "    .dataframe tbody tr th {\n",
              "        vertical-align: top;\n",
              "    }\n",
              "\n",
              "    .dataframe thead th {\n",
              "        text-align: right;\n",
              "    }\n",
              "</style>\n",
              "<table border=\"1\" class=\"dataframe\">\n",
              "  <thead>\n",
              "    <tr style=\"text-align: right;\">\n",
              "      <th></th>\n",
              "      <th>PIN</th>\n",
              "      <th>Inst</th>\n",
              "      <th>Date</th>\n",
              "      <th>Time</th>\n",
              "      <th>Mode</th>\n",
              "    </tr>\n",
              "  </thead>\n",
              "  <tbody>\n",
              "    <tr>\n",
              "      <th>0</th>\n",
              "      <td>EPRC_00032</td>\n",
              "      <td>NIH Toolbox Dimensional Change Card Sort Test ...</td>\n",
              "      <td>2021-03-30</td>\n",
              "      <td>5.30</td>\n",
              "      <td>In Person</td>\n",
              "    </tr>\n",
              "    <tr>\n",
              "      <th>1</th>\n",
              "      <td>EPRC_00032</td>\n",
              "      <td>NIH Toolbox Flanker Inhibitory Control and Att...</td>\n",
              "      <td>2021-03-30</td>\n",
              "      <td>3.97</td>\n",
              "      <td>In Person</td>\n",
              "    </tr>\n",
              "    <tr>\n",
              "      <th>3</th>\n",
              "      <td>EPRC_00032</td>\n",
              "      <td>NIH Toolbox Oral Reading Recognition Test Age ...</td>\n",
              "      <td>2021-03-30</td>\n",
              "      <td>1.43</td>\n",
              "      <td>In Person</td>\n",
              "    </tr>\n",
              "    <tr>\n",
              "      <th>4</th>\n",
              "      <td>EPRC_00032</td>\n",
              "      <td>NIH Toolbox Pattern Comparison Processing Spee...</td>\n",
              "      <td>2021-03-30</td>\n",
              "      <td>1.57</td>\n",
              "      <td>In Person</td>\n",
              "    </tr>\n",
              "    <tr>\n",
              "      <th>5</th>\n",
              "      <td>EPRC_00032</td>\n",
              "      <td>NIH Toolbox Pattern Comparison Processing Spee...</td>\n",
              "      <td>2021-03-30</td>\n",
              "      <td>1.65</td>\n",
              "      <td>In Person</td>\n",
              "    </tr>\n",
              "    <tr>\n",
              "      <th>...</th>\n",
              "      <td>...</td>\n",
              "      <td>...</td>\n",
              "      <td>...</td>\n",
              "      <td>...</td>\n",
              "      <td>...</td>\n",
              "    </tr>\n",
              "    <tr>\n",
              "      <th>109</th>\n",
              "      <td>EPSF_01666</td>\n",
              "      <td>NIH Toolbox Pattern Comparison Processing Spee...</td>\n",
              "      <td>2021-04-12</td>\n",
              "      <td>1.82</td>\n",
              "      <td>In Person</td>\n",
              "    </tr>\n",
              "    <tr>\n",
              "      <th>110</th>\n",
              "      <td>EPSF_01666</td>\n",
              "      <td>NIH Toolbox Pattern Comparison Processing Spee...</td>\n",
              "      <td>2021-04-12</td>\n",
              "      <td>1.67</td>\n",
              "      <td>In Person</td>\n",
              "    </tr>\n",
              "    <tr>\n",
              "      <th>111</th>\n",
              "      <td>EPSF_01666</td>\n",
              "      <td>NIH Toolbox Picture Sequence Memory Test Age 8...</td>\n",
              "      <td>2021-04-12</td>\n",
              "      <td>6.47</td>\n",
              "      <td>In Person</td>\n",
              "    </tr>\n",
              "    <tr>\n",
              "      <th>112</th>\n",
              "      <td>EPSF_01666</td>\n",
              "      <td>NIH Toolbox Picture Vocabulary Test Age 3+ Pra...</td>\n",
              "      <td>2021-04-12</td>\n",
              "      <td>1.40</td>\n",
              "      <td>In Person</td>\n",
              "    </tr>\n",
              "    <tr>\n",
              "      <th>113</th>\n",
              "      <td>EPSF_01666</td>\n",
              "      <td>NIH Toolbox Picture Vocabulary Test Age 3+ v2.1</td>\n",
              "      <td>2021-04-12</td>\n",
              "      <td>3.67</td>\n",
              "      <td>In Person</td>\n",
              "    </tr>\n",
              "  </tbody>\n",
              "</table>\n",
              "<p>102 rows × 5 columns</p>\n",
              "</div>"
            ],
            "text/plain": [
              "            PIN  ...       Mode\n",
              "0    EPRC_00032  ...  In Person\n",
              "1    EPRC_00032  ...  In Person\n",
              "3    EPRC_00032  ...  In Person\n",
              "4    EPRC_00032  ...  In Person\n",
              "5    EPRC_00032  ...  In Person\n",
              "..          ...  ...        ...\n",
              "109  EPSF_01666  ...  In Person\n",
              "110  EPSF_01666  ...  In Person\n",
              "111  EPSF_01666  ...  In Person\n",
              "112  EPSF_01666  ...  In Person\n",
              "113  EPSF_01666  ...  In Person\n",
              "\n",
              "[102 rows x 5 columns]"
            ]
          },
          "metadata": {
            "tags": []
          },
          "execution_count": 444
        }
      ]
    },
    {
      "cell_type": "code",
      "metadata": {
        "colab": {
          "base_uri": "https://localhost:8080/"
        },
        "id": "GrkuVakYXXni",
        "outputId": "83293dbb-9b2c-442d-a24e-627a0471a4aa"
      },
      "source": [
        "IP['Time'].mean()"
      ],
      "execution_count": 445,
      "outputs": [
        {
          "output_type": "execute_result",
          "data": {
            "text/plain": [
              "21.707333333333334"
            ]
          },
          "metadata": {
            "tags": []
          },
          "execution_count": 445
        }
      ]
    },
    {
      "cell_type": "code",
      "metadata": {
        "id": "i5SFWprZWYEB"
      },
      "source": [
        "# get all files from all RC Remote subdirectories\n",
        "\n",
        "all_files = glob.glob('/content/gdrive/My Drive/Avera/Rapid City/*/Remote/*CB_Data_R.csv')\n",
        "\n",
        "doc =[]\n",
        "for file in all_files:\n",
        "  data = pd.read_csv(file)\n",
        "  doc.append(data)\n",
        "\n",
        "# get all files from all SF Remote subdirectories\n",
        "all_files = glob.glob('/content/gdrive/My Drive/Avera/Sioux Falls/*/*Data_R.csv')\n",
        "\n",
        "for file in all_files:\n",
        "  data = pd.read_csv(file)\n",
        "  doc.append(data)\n",
        "\n",
        "df = pd.concat(doc)"
      ],
      "execution_count": 446,
      "outputs": []
    },
    {
      "cell_type": "code",
      "metadata": {
        "colab": {
          "base_uri": "https://localhost:8080/",
          "height": 666
        },
        "id": "iHk1jo7075RY",
        "outputId": "5f331594-4f86-4e11-bd4d-dd088af91406"
      },
      "source": [
        "df.head()"
      ],
      "execution_count": 447,
      "outputs": [
        {
          "output_type": "execute_result",
          "data": {
            "text/html": [
              "<div>\n",
              "<style scoped>\n",
              "    .dataframe tbody tr th:only-of-type {\n",
              "        vertical-align: middle;\n",
              "    }\n",
              "\n",
              "    .dataframe tbody tr th {\n",
              "        vertical-align: top;\n",
              "    }\n",
              "\n",
              "    .dataframe thead th {\n",
              "        text-align: right;\n",
              "    }\n",
              "</style>\n",
              "<table border=\"1\" class=\"dataframe\">\n",
              "  <thead>\n",
              "    <tr style=\"text-align: right;\">\n",
              "      <th></th>\n",
              "      <th>PIN</th>\n",
              "      <th>DeviceID</th>\n",
              "      <th>Assessment Name</th>\n",
              "      <th>InstOrdr</th>\n",
              "      <th>InstSctn</th>\n",
              "      <th>ItmOrdr</th>\n",
              "      <th>Inst</th>\n",
              "      <th>Locale</th>\n",
              "      <th>ItemID</th>\n",
              "      <th>Response</th>\n",
              "      <th>Score</th>\n",
              "      <th>Theta</th>\n",
              "      <th>TScore</th>\n",
              "      <th>SE</th>\n",
              "      <th>DataType</th>\n",
              "      <th>Position</th>\n",
              "      <th>ResponseTime</th>\n",
              "      <th>DateCreated</th>\n",
              "      <th>InstStarted</th>\n",
              "      <th>InstEnded</th>\n",
              "      <th>App Version</th>\n",
              "      <th>iPad Version</th>\n",
              "      <th>Firmware Version</th>\n",
              "      <th>Name</th>\n",
              "      <th>Age</th>\n",
              "      <th>Education</th>\n",
              "      <th>MothersEducation</th>\n",
              "      <th>FathersEducation</th>\n",
              "      <th>GuardiansEducation</th>\n",
              "      <th>StartingLevelOverride</th>\n",
              "      <th>Gender</th>\n",
              "      <th>Handedness</th>\n",
              "      <th>Race</th>\n",
              "      <th>Ethnicity</th>\n",
              "      <th>RegistrationID</th>\n",
              "      <th>ResponseID</th>\n",
              "      <th>AssessmentName</th>\n",
              "      <th>InstrumentTitle</th>\n",
              "      <th>TestName</th>\n",
              "      <th>InstrumentID</th>\n",
              "      <th>Key</th>\n",
              "      <th>Value</th>\n",
              "    </tr>\n",
              "  </thead>\n",
              "  <tbody>\n",
              "    <tr>\n",
              "      <th>0</th>\n",
              "      <td>210406_EPRC_00032_A_8Y</td>\n",
              "      <td>4C0D4D8F-B79D-47C3-AF1A-4D100D11BF28</td>\n",
              "      <td>Assessment 1</td>\n",
              "      <td>1.0</td>\n",
              "      <td>1.0</td>\n",
              "      <td>1.0</td>\n",
              "      <td>NIH Toolbox Picture Vocabulary Test Age 3+ Pra...</td>\n",
              "      <td>en-US</td>\n",
              "      <td>VOCAB_INTRO</td>\n",
              "      <td>NaN</td>\n",
              "      <td>NaN</td>\n",
              "      <td>NaN</td>\n",
              "      <td>NaN</td>\n",
              "      <td>NaN</td>\n",
              "      <td>informational</td>\n",
              "      <td>NaN</td>\n",
              "      <td>NaN</td>\n",
              "      <td>2021-04-06 15:56:38</td>\n",
              "      <td>2021-04-06 15:56:35</td>\n",
              "      <td>2021-04-06 15:59:23</td>\n",
              "      <td>1.23.4532 (Participant)</td>\n",
              "      <td>iPad Pro 1st Gen (10.5-inch) / iPad7,3</td>\n",
              "      <td>14.4.1</td>\n",
              "      <td>NaN</td>\n",
              "      <td>NaN</td>\n",
              "      <td>NaN</td>\n",
              "      <td>NaN</td>\n",
              "      <td>NaN</td>\n",
              "      <td>NaN</td>\n",
              "      <td>NaN</td>\n",
              "      <td>NaN</td>\n",
              "      <td>NaN</td>\n",
              "      <td>NaN</td>\n",
              "      <td>NaN</td>\n",
              "      <td>NaN</td>\n",
              "      <td>NaN</td>\n",
              "      <td>NaN</td>\n",
              "      <td>NaN</td>\n",
              "      <td>NaN</td>\n",
              "      <td>NaN</td>\n",
              "      <td>NaN</td>\n",
              "      <td>NaN</td>\n",
              "    </tr>\n",
              "    <tr>\n",
              "      <th>1</th>\n",
              "      <td>210406_EPRC_00032_A_8Y</td>\n",
              "      <td>4C0D4D8F-B79D-47C3-AF1A-4D100D11BF28</td>\n",
              "      <td>Assessment 1</td>\n",
              "      <td>1.0</td>\n",
              "      <td>1.0</td>\n",
              "      <td>2.0</td>\n",
              "      <td>NIH Toolbox Picture Vocabulary Test Age 3+ Pra...</td>\n",
              "      <td>en-US</td>\n",
              "      <td>VOCAB_INSTR1</td>\n",
              "      <td>NaN</td>\n",
              "      <td>NaN</td>\n",
              "      <td>NaN</td>\n",
              "      <td>NaN</td>\n",
              "      <td>NaN</td>\n",
              "      <td>informational</td>\n",
              "      <td>NaN</td>\n",
              "      <td>NaN</td>\n",
              "      <td>2021-04-06 15:58:23</td>\n",
              "      <td>2021-04-06 15:56:35</td>\n",
              "      <td>2021-04-06 15:59:23</td>\n",
              "      <td>1.23.4532 (Participant)</td>\n",
              "      <td>iPad Pro 1st Gen (10.5-inch) / iPad7,3</td>\n",
              "      <td>14.4.1</td>\n",
              "      <td>NaN</td>\n",
              "      <td>NaN</td>\n",
              "      <td>NaN</td>\n",
              "      <td>NaN</td>\n",
              "      <td>NaN</td>\n",
              "      <td>NaN</td>\n",
              "      <td>NaN</td>\n",
              "      <td>NaN</td>\n",
              "      <td>NaN</td>\n",
              "      <td>NaN</td>\n",
              "      <td>NaN</td>\n",
              "      <td>NaN</td>\n",
              "      <td>NaN</td>\n",
              "      <td>NaN</td>\n",
              "      <td>NaN</td>\n",
              "      <td>NaN</td>\n",
              "      <td>NaN</td>\n",
              "      <td>NaN</td>\n",
              "      <td>NaN</td>\n",
              "    </tr>\n",
              "    <tr>\n",
              "      <th>2</th>\n",
              "      <td>210406_EPRC_00032_A_8Y</td>\n",
              "      <td>4C0D4D8F-B79D-47C3-AF1A-4D100D11BF28</td>\n",
              "      <td>Assessment 1</td>\n",
              "      <td>1.0</td>\n",
              "      <td>1.0</td>\n",
              "      <td>3.0</td>\n",
              "      <td>NIH Toolbox Picture Vocabulary Test Age 3+ Pra...</td>\n",
              "      <td>en-US</td>\n",
              "      <td>VOCAB_PRACT1</td>\n",
              "      <td>4</td>\n",
              "      <td>1.0</td>\n",
              "      <td>NaN</td>\n",
              "      <td>NaN</td>\n",
              "      <td>NaN</td>\n",
              "      <td>integer</td>\n",
              "      <td>1.0</td>\n",
              "      <td>6.987060</td>\n",
              "      <td>2021-04-06 15:58:31</td>\n",
              "      <td>2021-04-06 15:56:35</td>\n",
              "      <td>2021-04-06 15:59:23</td>\n",
              "      <td>1.23.4532 (Participant)</td>\n",
              "      <td>iPad Pro 1st Gen (10.5-inch) / iPad7,3</td>\n",
              "      <td>14.4.1</td>\n",
              "      <td>NaN</td>\n",
              "      <td>NaN</td>\n",
              "      <td>NaN</td>\n",
              "      <td>NaN</td>\n",
              "      <td>NaN</td>\n",
              "      <td>NaN</td>\n",
              "      <td>NaN</td>\n",
              "      <td>NaN</td>\n",
              "      <td>NaN</td>\n",
              "      <td>NaN</td>\n",
              "      <td>NaN</td>\n",
              "      <td>NaN</td>\n",
              "      <td>NaN</td>\n",
              "      <td>NaN</td>\n",
              "      <td>NaN</td>\n",
              "      <td>NaN</td>\n",
              "      <td>NaN</td>\n",
              "      <td>NaN</td>\n",
              "      <td>NaN</td>\n",
              "    </tr>\n",
              "    <tr>\n",
              "      <th>3</th>\n",
              "      <td>210406_EPRC_00032_A_8Y</td>\n",
              "      <td>4C0D4D8F-B79D-47C3-AF1A-4D100D11BF28</td>\n",
              "      <td>Assessment 1</td>\n",
              "      <td>1.0</td>\n",
              "      <td>1.0</td>\n",
              "      <td>4.0</td>\n",
              "      <td>NIH Toolbox Picture Vocabulary Test Age 3+ Pra...</td>\n",
              "      <td>en-US</td>\n",
              "      <td>VOCAB_PRACT2</td>\n",
              "      <td>3</td>\n",
              "      <td>1.0</td>\n",
              "      <td>NaN</td>\n",
              "      <td>NaN</td>\n",
              "      <td>NaN</td>\n",
              "      <td>integer</td>\n",
              "      <td>2.0</td>\n",
              "      <td>7.224716</td>\n",
              "      <td>2021-04-06 15:58:40</td>\n",
              "      <td>2021-04-06 15:56:35</td>\n",
              "      <td>2021-04-06 15:59:23</td>\n",
              "      <td>1.23.4532 (Participant)</td>\n",
              "      <td>iPad Pro 1st Gen (10.5-inch) / iPad7,3</td>\n",
              "      <td>14.4.1</td>\n",
              "      <td>NaN</td>\n",
              "      <td>NaN</td>\n",
              "      <td>NaN</td>\n",
              "      <td>NaN</td>\n",
              "      <td>NaN</td>\n",
              "      <td>NaN</td>\n",
              "      <td>NaN</td>\n",
              "      <td>NaN</td>\n",
              "      <td>NaN</td>\n",
              "      <td>NaN</td>\n",
              "      <td>NaN</td>\n",
              "      <td>NaN</td>\n",
              "      <td>NaN</td>\n",
              "      <td>NaN</td>\n",
              "      <td>NaN</td>\n",
              "      <td>NaN</td>\n",
              "      <td>NaN</td>\n",
              "      <td>NaN</td>\n",
              "      <td>NaN</td>\n",
              "    </tr>\n",
              "    <tr>\n",
              "      <th>4</th>\n",
              "      <td>210406_EPRC_00032_A_8Y</td>\n",
              "      <td>4C0D4D8F-B79D-47C3-AF1A-4D100D11BF28</td>\n",
              "      <td>Assessment 1</td>\n",
              "      <td>1.0</td>\n",
              "      <td>1.0</td>\n",
              "      <td>5.0</td>\n",
              "      <td>NIH Toolbox Picture Vocabulary Test Age 3+ Pra...</td>\n",
              "      <td>en-US</td>\n",
              "      <td>VOCAB_INSTR2</td>\n",
              "      <td>NaN</td>\n",
              "      <td>NaN</td>\n",
              "      <td>NaN</td>\n",
              "      <td>NaN</td>\n",
              "      <td>NaN</td>\n",
              "      <td>informational</td>\n",
              "      <td>NaN</td>\n",
              "      <td>NaN</td>\n",
              "      <td>2021-04-06 15:59:23</td>\n",
              "      <td>2021-04-06 15:56:35</td>\n",
              "      <td>2021-04-06 15:59:23</td>\n",
              "      <td>1.23.4532 (Participant)</td>\n",
              "      <td>iPad Pro 1st Gen (10.5-inch) / iPad7,3</td>\n",
              "      <td>14.4.1</td>\n",
              "      <td>NaN</td>\n",
              "      <td>NaN</td>\n",
              "      <td>NaN</td>\n",
              "      <td>NaN</td>\n",
              "      <td>NaN</td>\n",
              "      <td>NaN</td>\n",
              "      <td>NaN</td>\n",
              "      <td>NaN</td>\n",
              "      <td>NaN</td>\n",
              "      <td>NaN</td>\n",
              "      <td>NaN</td>\n",
              "      <td>NaN</td>\n",
              "      <td>NaN</td>\n",
              "      <td>NaN</td>\n",
              "      <td>NaN</td>\n",
              "      <td>NaN</td>\n",
              "      <td>NaN</td>\n",
              "      <td>NaN</td>\n",
              "      <td>NaN</td>\n",
              "    </tr>\n",
              "  </tbody>\n",
              "</table>\n",
              "</div>"
            ],
            "text/plain": [
              "                      PIN                              DeviceID  ...  Key  Value\n",
              "0  210406_EPRC_00032_A_8Y  4C0D4D8F-B79D-47C3-AF1A-4D100D11BF28  ...  NaN    NaN\n",
              "1  210406_EPRC_00032_A_8Y  4C0D4D8F-B79D-47C3-AF1A-4D100D11BF28  ...  NaN    NaN\n",
              "2  210406_EPRC_00032_A_8Y  4C0D4D8F-B79D-47C3-AF1A-4D100D11BF28  ...  NaN    NaN\n",
              "3  210406_EPRC_00032_A_8Y  4C0D4D8F-B79D-47C3-AF1A-4D100D11BF28  ...  NaN    NaN\n",
              "4  210406_EPRC_00032_A_8Y  4C0D4D8F-B79D-47C3-AF1A-4D100D11BF28  ...  NaN    NaN\n",
              "\n",
              "[5 rows x 42 columns]"
            ]
          },
          "metadata": {
            "tags": []
          },
          "execution_count": 447
        }
      ]
    },
    {
      "cell_type": "code",
      "metadata": {
        "colab": {
          "base_uri": "https://localhost:8080/",
          "height": 1000
        },
        "id": "OOf3fmWnq4WT",
        "outputId": "c16f2ffe-a7c4-4fe9-c86d-06bdc99f578f"
      },
      "source": [
        "df.dropna(axis=1, how='all')"
      ],
      "execution_count": 448,
      "outputs": [
        {
          "output_type": "execute_result",
          "data": {
            "text/html": [
              "<div>\n",
              "<style scoped>\n",
              "    .dataframe tbody tr th:only-of-type {\n",
              "        vertical-align: middle;\n",
              "    }\n",
              "\n",
              "    .dataframe tbody tr th {\n",
              "        vertical-align: top;\n",
              "    }\n",
              "\n",
              "    .dataframe thead th {\n",
              "        text-align: right;\n",
              "    }\n",
              "</style>\n",
              "<table border=\"1\" class=\"dataframe\">\n",
              "  <thead>\n",
              "    <tr style=\"text-align: right;\">\n",
              "      <th></th>\n",
              "      <th>PIN</th>\n",
              "      <th>DeviceID</th>\n",
              "      <th>Assessment Name</th>\n",
              "      <th>InstOrdr</th>\n",
              "      <th>InstSctn</th>\n",
              "      <th>ItmOrdr</th>\n",
              "      <th>Inst</th>\n",
              "      <th>Locale</th>\n",
              "      <th>ItemID</th>\n",
              "      <th>Response</th>\n",
              "      <th>Score</th>\n",
              "      <th>Theta</th>\n",
              "      <th>TScore</th>\n",
              "      <th>SE</th>\n",
              "      <th>DataType</th>\n",
              "      <th>Position</th>\n",
              "      <th>ResponseTime</th>\n",
              "      <th>DateCreated</th>\n",
              "      <th>InstStarted</th>\n",
              "      <th>InstEnded</th>\n",
              "      <th>App Version</th>\n",
              "      <th>iPad Version</th>\n",
              "      <th>Firmware Version</th>\n",
              "      <th>Age</th>\n",
              "      <th>Education</th>\n",
              "      <th>MothersEducation</th>\n",
              "      <th>Gender</th>\n",
              "      <th>Handedness</th>\n",
              "      <th>Race</th>\n",
              "      <th>Ethnicity</th>\n",
              "      <th>RegistrationID</th>\n",
              "      <th>ResponseID</th>\n",
              "      <th>AssessmentName</th>\n",
              "      <th>InstrumentTitle</th>\n",
              "      <th>TestName</th>\n",
              "      <th>InstrumentID</th>\n",
              "      <th>Key</th>\n",
              "      <th>Value</th>\n",
              "    </tr>\n",
              "  </thead>\n",
              "  <tbody>\n",
              "    <tr>\n",
              "      <th>0</th>\n",
              "      <td>210406_EPRC_00032_A_8Y</td>\n",
              "      <td>4C0D4D8F-B79D-47C3-AF1A-4D100D11BF28</td>\n",
              "      <td>Assessment 1</td>\n",
              "      <td>1.0</td>\n",
              "      <td>1.0</td>\n",
              "      <td>1.0</td>\n",
              "      <td>NIH Toolbox Picture Vocabulary Test Age 3+ Pra...</td>\n",
              "      <td>en-US</td>\n",
              "      <td>VOCAB_INTRO</td>\n",
              "      <td>NaN</td>\n",
              "      <td>NaN</td>\n",
              "      <td>NaN</td>\n",
              "      <td>NaN</td>\n",
              "      <td>NaN</td>\n",
              "      <td>informational</td>\n",
              "      <td>NaN</td>\n",
              "      <td>NaN</td>\n",
              "      <td>2021-04-06 15:56:38</td>\n",
              "      <td>2021-04-06 15:56:35</td>\n",
              "      <td>2021-04-06 15:59:23</td>\n",
              "      <td>1.23.4532 (Participant)</td>\n",
              "      <td>iPad Pro 1st Gen (10.5-inch) / iPad7,3</td>\n",
              "      <td>14.4.1</td>\n",
              "      <td>NaN</td>\n",
              "      <td>NaN</td>\n",
              "      <td>NaN</td>\n",
              "      <td>NaN</td>\n",
              "      <td>NaN</td>\n",
              "      <td>NaN</td>\n",
              "      <td>NaN</td>\n",
              "      <td>NaN</td>\n",
              "      <td>NaN</td>\n",
              "      <td>NaN</td>\n",
              "      <td>NaN</td>\n",
              "      <td>NaN</td>\n",
              "      <td>NaN</td>\n",
              "      <td>NaN</td>\n",
              "      <td>NaN</td>\n",
              "    </tr>\n",
              "    <tr>\n",
              "      <th>1</th>\n",
              "      <td>210406_EPRC_00032_A_8Y</td>\n",
              "      <td>4C0D4D8F-B79D-47C3-AF1A-4D100D11BF28</td>\n",
              "      <td>Assessment 1</td>\n",
              "      <td>1.0</td>\n",
              "      <td>1.0</td>\n",
              "      <td>2.0</td>\n",
              "      <td>NIH Toolbox Picture Vocabulary Test Age 3+ Pra...</td>\n",
              "      <td>en-US</td>\n",
              "      <td>VOCAB_INSTR1</td>\n",
              "      <td>NaN</td>\n",
              "      <td>NaN</td>\n",
              "      <td>NaN</td>\n",
              "      <td>NaN</td>\n",
              "      <td>NaN</td>\n",
              "      <td>informational</td>\n",
              "      <td>NaN</td>\n",
              "      <td>NaN</td>\n",
              "      <td>2021-04-06 15:58:23</td>\n",
              "      <td>2021-04-06 15:56:35</td>\n",
              "      <td>2021-04-06 15:59:23</td>\n",
              "      <td>1.23.4532 (Participant)</td>\n",
              "      <td>iPad Pro 1st Gen (10.5-inch) / iPad7,3</td>\n",
              "      <td>14.4.1</td>\n",
              "      <td>NaN</td>\n",
              "      <td>NaN</td>\n",
              "      <td>NaN</td>\n",
              "      <td>NaN</td>\n",
              "      <td>NaN</td>\n",
              "      <td>NaN</td>\n",
              "      <td>NaN</td>\n",
              "      <td>NaN</td>\n",
              "      <td>NaN</td>\n",
              "      <td>NaN</td>\n",
              "      <td>NaN</td>\n",
              "      <td>NaN</td>\n",
              "      <td>NaN</td>\n",
              "      <td>NaN</td>\n",
              "      <td>NaN</td>\n",
              "    </tr>\n",
              "    <tr>\n",
              "      <th>2</th>\n",
              "      <td>210406_EPRC_00032_A_8Y</td>\n",
              "      <td>4C0D4D8F-B79D-47C3-AF1A-4D100D11BF28</td>\n",
              "      <td>Assessment 1</td>\n",
              "      <td>1.0</td>\n",
              "      <td>1.0</td>\n",
              "      <td>3.0</td>\n",
              "      <td>NIH Toolbox Picture Vocabulary Test Age 3+ Pra...</td>\n",
              "      <td>en-US</td>\n",
              "      <td>VOCAB_PRACT1</td>\n",
              "      <td>4</td>\n",
              "      <td>1.0</td>\n",
              "      <td>NaN</td>\n",
              "      <td>NaN</td>\n",
              "      <td>NaN</td>\n",
              "      <td>integer</td>\n",
              "      <td>1.0</td>\n",
              "      <td>6.987060</td>\n",
              "      <td>2021-04-06 15:58:31</td>\n",
              "      <td>2021-04-06 15:56:35</td>\n",
              "      <td>2021-04-06 15:59:23</td>\n",
              "      <td>1.23.4532 (Participant)</td>\n",
              "      <td>iPad Pro 1st Gen (10.5-inch) / iPad7,3</td>\n",
              "      <td>14.4.1</td>\n",
              "      <td>NaN</td>\n",
              "      <td>NaN</td>\n",
              "      <td>NaN</td>\n",
              "      <td>NaN</td>\n",
              "      <td>NaN</td>\n",
              "      <td>NaN</td>\n",
              "      <td>NaN</td>\n",
              "      <td>NaN</td>\n",
              "      <td>NaN</td>\n",
              "      <td>NaN</td>\n",
              "      <td>NaN</td>\n",
              "      <td>NaN</td>\n",
              "      <td>NaN</td>\n",
              "      <td>NaN</td>\n",
              "      <td>NaN</td>\n",
              "    </tr>\n",
              "    <tr>\n",
              "      <th>3</th>\n",
              "      <td>210406_EPRC_00032_A_8Y</td>\n",
              "      <td>4C0D4D8F-B79D-47C3-AF1A-4D100D11BF28</td>\n",
              "      <td>Assessment 1</td>\n",
              "      <td>1.0</td>\n",
              "      <td>1.0</td>\n",
              "      <td>4.0</td>\n",
              "      <td>NIH Toolbox Picture Vocabulary Test Age 3+ Pra...</td>\n",
              "      <td>en-US</td>\n",
              "      <td>VOCAB_PRACT2</td>\n",
              "      <td>3</td>\n",
              "      <td>1.0</td>\n",
              "      <td>NaN</td>\n",
              "      <td>NaN</td>\n",
              "      <td>NaN</td>\n",
              "      <td>integer</td>\n",
              "      <td>2.0</td>\n",
              "      <td>7.224716</td>\n",
              "      <td>2021-04-06 15:58:40</td>\n",
              "      <td>2021-04-06 15:56:35</td>\n",
              "      <td>2021-04-06 15:59:23</td>\n",
              "      <td>1.23.4532 (Participant)</td>\n",
              "      <td>iPad Pro 1st Gen (10.5-inch) / iPad7,3</td>\n",
              "      <td>14.4.1</td>\n",
              "      <td>NaN</td>\n",
              "      <td>NaN</td>\n",
              "      <td>NaN</td>\n",
              "      <td>NaN</td>\n",
              "      <td>NaN</td>\n",
              "      <td>NaN</td>\n",
              "      <td>NaN</td>\n",
              "      <td>NaN</td>\n",
              "      <td>NaN</td>\n",
              "      <td>NaN</td>\n",
              "      <td>NaN</td>\n",
              "      <td>NaN</td>\n",
              "      <td>NaN</td>\n",
              "      <td>NaN</td>\n",
              "      <td>NaN</td>\n",
              "    </tr>\n",
              "    <tr>\n",
              "      <th>4</th>\n",
              "      <td>210406_EPRC_00032_A_8Y</td>\n",
              "      <td>4C0D4D8F-B79D-47C3-AF1A-4D100D11BF28</td>\n",
              "      <td>Assessment 1</td>\n",
              "      <td>1.0</td>\n",
              "      <td>1.0</td>\n",
              "      <td>5.0</td>\n",
              "      <td>NIH Toolbox Picture Vocabulary Test Age 3+ Pra...</td>\n",
              "      <td>en-US</td>\n",
              "      <td>VOCAB_INSTR2</td>\n",
              "      <td>NaN</td>\n",
              "      <td>NaN</td>\n",
              "      <td>NaN</td>\n",
              "      <td>NaN</td>\n",
              "      <td>NaN</td>\n",
              "      <td>informational</td>\n",
              "      <td>NaN</td>\n",
              "      <td>NaN</td>\n",
              "      <td>2021-04-06 15:59:23</td>\n",
              "      <td>2021-04-06 15:56:35</td>\n",
              "      <td>2021-04-06 15:59:23</td>\n",
              "      <td>1.23.4532 (Participant)</td>\n",
              "      <td>iPad Pro 1st Gen (10.5-inch) / iPad7,3</td>\n",
              "      <td>14.4.1</td>\n",
              "      <td>NaN</td>\n",
              "      <td>NaN</td>\n",
              "      <td>NaN</td>\n",
              "      <td>NaN</td>\n",
              "      <td>NaN</td>\n",
              "      <td>NaN</td>\n",
              "      <td>NaN</td>\n",
              "      <td>NaN</td>\n",
              "      <td>NaN</td>\n",
              "      <td>NaN</td>\n",
              "      <td>NaN</td>\n",
              "      <td>NaN</td>\n",
              "      <td>NaN</td>\n",
              "      <td>NaN</td>\n",
              "      <td>NaN</td>\n",
              "    </tr>\n",
              "    <tr>\n",
              "      <th>...</th>\n",
              "      <td>...</td>\n",
              "      <td>...</td>\n",
              "      <td>...</td>\n",
              "      <td>...</td>\n",
              "      <td>...</td>\n",
              "      <td>...</td>\n",
              "      <td>...</td>\n",
              "      <td>...</td>\n",
              "      <td>...</td>\n",
              "      <td>...</td>\n",
              "      <td>...</td>\n",
              "      <td>...</td>\n",
              "      <td>...</td>\n",
              "      <td>...</td>\n",
              "      <td>...</td>\n",
              "      <td>...</td>\n",
              "      <td>...</td>\n",
              "      <td>...</td>\n",
              "      <td>...</td>\n",
              "      <td>...</td>\n",
              "      <td>...</td>\n",
              "      <td>...</td>\n",
              "      <td>...</td>\n",
              "      <td>...</td>\n",
              "      <td>...</td>\n",
              "      <td>...</td>\n",
              "      <td>...</td>\n",
              "      <td>...</td>\n",
              "      <td>...</td>\n",
              "      <td>...</td>\n",
              "      <td>...</td>\n",
              "      <td>...</td>\n",
              "      <td>...</td>\n",
              "      <td>...</td>\n",
              "      <td>...</td>\n",
              "      <td>...</td>\n",
              "      <td>...</td>\n",
              "      <td>...</td>\n",
              "    </tr>\n",
              "    <tr>\n",
              "      <th>2445</th>\n",
              "      <td>210415_EPSF_00836_A_8Y</td>\n",
              "      <td>D9185A72-5C4D-4B91-A6F1-50516C66E0DA</td>\n",
              "      <td>NaN</td>\n",
              "      <td>NaN</td>\n",
              "      <td>NaN</td>\n",
              "      <td>NaN</td>\n",
              "      <td>NaN</td>\n",
              "      <td>NaN</td>\n",
              "      <td>LARE068</td>\n",
              "      <td>NaN</td>\n",
              "      <td>NaN</td>\n",
              "      <td>NaN</td>\n",
              "      <td>NaN</td>\n",
              "      <td>NaN</td>\n",
              "      <td>NaN</td>\n",
              "      <td>NaN</td>\n",
              "      <td>NaN</td>\n",
              "      <td>NaN</td>\n",
              "      <td>NaN</td>\n",
              "      <td>NaN</td>\n",
              "      <td>NaN</td>\n",
              "      <td>NaN</td>\n",
              "      <td>NaN</td>\n",
              "      <td>NaN</td>\n",
              "      <td>NaN</td>\n",
              "      <td>NaN</td>\n",
              "      <td>NaN</td>\n",
              "      <td>NaN</td>\n",
              "      <td>NaN</td>\n",
              "      <td>NaN</td>\n",
              "      <td>802F58D6-421E-4C7B-90D3-7C8755B8C359</td>\n",
              "      <td>6C77952A-43C2-405A-812D-5B0AEF2E185E</td>\n",
              "      <td>Assessment 1</td>\n",
              "      <td>NIH Toolbox Oral Reading Recognition Test Age ...</td>\n",
              "      <td>OralRead_2</td>\n",
              "      <td>FE91F59E-2959-4ABE-AFE0-ADF8E23662C6</td>\n",
              "      <td>InstrumentStartedTimestamp</td>\n",
              "      <td>2021-04-15 11:41:48</td>\n",
              "    </tr>\n",
              "    <tr>\n",
              "      <th>2446</th>\n",
              "      <td>210415_EPSF_00836_A_8Y</td>\n",
              "      <td>D9185A72-5C4D-4B91-A6F1-50516C66E0DA</td>\n",
              "      <td>NaN</td>\n",
              "      <td>NaN</td>\n",
              "      <td>NaN</td>\n",
              "      <td>NaN</td>\n",
              "      <td>NaN</td>\n",
              "      <td>NaN</td>\n",
              "      <td>LARE068</td>\n",
              "      <td>NaN</td>\n",
              "      <td>NaN</td>\n",
              "      <td>NaN</td>\n",
              "      <td>NaN</td>\n",
              "      <td>NaN</td>\n",
              "      <td>NaN</td>\n",
              "      <td>NaN</td>\n",
              "      <td>NaN</td>\n",
              "      <td>NaN</td>\n",
              "      <td>NaN</td>\n",
              "      <td>NaN</td>\n",
              "      <td>NaN</td>\n",
              "      <td>NaN</td>\n",
              "      <td>NaN</td>\n",
              "      <td>NaN</td>\n",
              "      <td>NaN</td>\n",
              "      <td>NaN</td>\n",
              "      <td>NaN</td>\n",
              "      <td>NaN</td>\n",
              "      <td>NaN</td>\n",
              "      <td>NaN</td>\n",
              "      <td>802F58D6-421E-4C7B-90D3-7C8755B8C359</td>\n",
              "      <td>6C77952A-43C2-405A-812D-5B0AEF2E185E</td>\n",
              "      <td>Assessment 1</td>\n",
              "      <td>NIH Toolbox Oral Reading Recognition Test Age ...</td>\n",
              "      <td>OralRead_2</td>\n",
              "      <td>FE91F59E-2959-4ABE-AFE0-ADF8E23662C6</td>\n",
              "      <td>InstrumentEndedTimestamp</td>\n",
              "      <td>2021-04-15 11:43:40</td>\n",
              "    </tr>\n",
              "    <tr>\n",
              "      <th>2447</th>\n",
              "      <td>210415_EPSF_00836_A_8Y</td>\n",
              "      <td>D9185A72-5C4D-4B91-A6F1-50516C66E0DA</td>\n",
              "      <td>NaN</td>\n",
              "      <td>NaN</td>\n",
              "      <td>NaN</td>\n",
              "      <td>NaN</td>\n",
              "      <td>NaN</td>\n",
              "      <td>NaN</td>\n",
              "      <td>LARE068</td>\n",
              "      <td>NaN</td>\n",
              "      <td>NaN</td>\n",
              "      <td>NaN</td>\n",
              "      <td>NaN</td>\n",
              "      <td>NaN</td>\n",
              "      <td>NaN</td>\n",
              "      <td>NaN</td>\n",
              "      <td>NaN</td>\n",
              "      <td>NaN</td>\n",
              "      <td>NaN</td>\n",
              "      <td>NaN</td>\n",
              "      <td>NaN</td>\n",
              "      <td>NaN</td>\n",
              "      <td>NaN</td>\n",
              "      <td>NaN</td>\n",
              "      <td>NaN</td>\n",
              "      <td>NaN</td>\n",
              "      <td>NaN</td>\n",
              "      <td>NaN</td>\n",
              "      <td>NaN</td>\n",
              "      <td>NaN</td>\n",
              "      <td>802F58D6-421E-4C7B-90D3-7C8755B8C359</td>\n",
              "      <td>6C77952A-43C2-405A-812D-5B0AEF2E185E</td>\n",
              "      <td>Assessment 1</td>\n",
              "      <td>NIH Toolbox Oral Reading Recognition Test Age ...</td>\n",
              "      <td>OralRead_2</td>\n",
              "      <td>FE91F59E-2959-4ABE-AFE0-ADF8E23662C6</td>\n",
              "      <td>AppVersion</td>\n",
              "      <td>1.23.4532 (Participant)</td>\n",
              "    </tr>\n",
              "    <tr>\n",
              "      <th>2448</th>\n",
              "      <td>210415_EPSF_00836_A_8Y</td>\n",
              "      <td>D9185A72-5C4D-4B91-A6F1-50516C66E0DA</td>\n",
              "      <td>NaN</td>\n",
              "      <td>NaN</td>\n",
              "      <td>NaN</td>\n",
              "      <td>NaN</td>\n",
              "      <td>NaN</td>\n",
              "      <td>NaN</td>\n",
              "      <td>LARE068</td>\n",
              "      <td>NaN</td>\n",
              "      <td>NaN</td>\n",
              "      <td>NaN</td>\n",
              "      <td>NaN</td>\n",
              "      <td>NaN</td>\n",
              "      <td>NaN</td>\n",
              "      <td>NaN</td>\n",
              "      <td>NaN</td>\n",
              "      <td>NaN</td>\n",
              "      <td>NaN</td>\n",
              "      <td>NaN</td>\n",
              "      <td>NaN</td>\n",
              "      <td>NaN</td>\n",
              "      <td>NaN</td>\n",
              "      <td>NaN</td>\n",
              "      <td>NaN</td>\n",
              "      <td>NaN</td>\n",
              "      <td>NaN</td>\n",
              "      <td>NaN</td>\n",
              "      <td>NaN</td>\n",
              "      <td>NaN</td>\n",
              "      <td>802F58D6-421E-4C7B-90D3-7C8755B8C359</td>\n",
              "      <td>6C77952A-43C2-405A-812D-5B0AEF2E185E</td>\n",
              "      <td>Assessment 1</td>\n",
              "      <td>NIH Toolbox Oral Reading Recognition Test Age ...</td>\n",
              "      <td>OralRead_2</td>\n",
              "      <td>FE91F59E-2959-4ABE-AFE0-ADF8E23662C6</td>\n",
              "      <td>iPadVersion</td>\n",
              "      <td>iPad Pro 1st Gen (10.5-inch) / iPad7,3</td>\n",
              "    </tr>\n",
              "    <tr>\n",
              "      <th>2449</th>\n",
              "      <td>210415_EPSF_00836_A_8Y</td>\n",
              "      <td>D9185A72-5C4D-4B91-A6F1-50516C66E0DA</td>\n",
              "      <td>NaN</td>\n",
              "      <td>NaN</td>\n",
              "      <td>NaN</td>\n",
              "      <td>NaN</td>\n",
              "      <td>NaN</td>\n",
              "      <td>NaN</td>\n",
              "      <td>LARE068</td>\n",
              "      <td>NaN</td>\n",
              "      <td>NaN</td>\n",
              "      <td>NaN</td>\n",
              "      <td>NaN</td>\n",
              "      <td>NaN</td>\n",
              "      <td>NaN</td>\n",
              "      <td>NaN</td>\n",
              "      <td>NaN</td>\n",
              "      <td>NaN</td>\n",
              "      <td>NaN</td>\n",
              "      <td>NaN</td>\n",
              "      <td>NaN</td>\n",
              "      <td>NaN</td>\n",
              "      <td>NaN</td>\n",
              "      <td>NaN</td>\n",
              "      <td>NaN</td>\n",
              "      <td>NaN</td>\n",
              "      <td>NaN</td>\n",
              "      <td>NaN</td>\n",
              "      <td>NaN</td>\n",
              "      <td>NaN</td>\n",
              "      <td>802F58D6-421E-4C7B-90D3-7C8755B8C359</td>\n",
              "      <td>6C77952A-43C2-405A-812D-5B0AEF2E185E</td>\n",
              "      <td>Assessment 1</td>\n",
              "      <td>NIH Toolbox Oral Reading Recognition Test Age ...</td>\n",
              "      <td>OralRead_2</td>\n",
              "      <td>FE91F59E-2959-4ABE-AFE0-ADF8E23662C6</td>\n",
              "      <td>FirmwareVersion</td>\n",
              "      <td>14.4.2</td>\n",
              "    </tr>\n",
              "  </tbody>\n",
              "</table>\n",
              "<p>16532 rows × 38 columns</p>\n",
              "</div>"
            ],
            "text/plain": [
              "                         PIN  ...                                   Value\n",
              "0     210406_EPRC_00032_A_8Y  ...                                     NaN\n",
              "1     210406_EPRC_00032_A_8Y  ...                                     NaN\n",
              "2     210406_EPRC_00032_A_8Y  ...                                     NaN\n",
              "3     210406_EPRC_00032_A_8Y  ...                                     NaN\n",
              "4     210406_EPRC_00032_A_8Y  ...                                     NaN\n",
              "...                      ...  ...                                     ...\n",
              "2445  210415_EPSF_00836_A_8Y  ...                     2021-04-15 11:41:48\n",
              "2446  210415_EPSF_00836_A_8Y  ...                     2021-04-15 11:43:40\n",
              "2447  210415_EPSF_00836_A_8Y  ...                 1.23.4532 (Participant)\n",
              "2448  210415_EPSF_00836_A_8Y  ...  iPad Pro 1st Gen (10.5-inch) / iPad7,3\n",
              "2449  210415_EPSF_00836_A_8Y  ...                                  14.4.2\n",
              "\n",
              "[16532 rows x 38 columns]"
            ]
          },
          "metadata": {
            "tags": []
          },
          "execution_count": 448
        }
      ]
    },
    {
      "cell_type": "code",
      "metadata": {
        "id": "7RA9_WHRQ_NP"
      },
      "source": [
        "df['PIN']=df['PIN'].replace(' ', '', regex=True)"
      ],
      "execution_count": 449,
      "outputs": []
    },
    {
      "cell_type": "code",
      "metadata": {
        "id": "lgBBimQlZAHH"
      },
      "source": [
        "df['PIN'] = df['PIN'].str[7:17]"
      ],
      "execution_count": 450,
      "outputs": []
    },
    {
      "cell_type": "code",
      "metadata": {
        "colab": {
          "base_uri": "https://localhost:8080/"
        },
        "id": "Z6DLD3AMRClD",
        "outputId": "ec621fb6-0831-4013-a0a8-1f5605e71ad3"
      },
      "source": [
        "df['PIN'].unique()"
      ],
      "execution_count": 451,
      "outputs": [
        {
          "output_type": "execute_result",
          "data": {
            "text/plain": [
              "array(['EPRC_00032', 'EPRC_00160', 'EPRC_00173', 'EPRC_00179',\n",
              "       'EPRC_00181', 'EPRC_00183', 'EPRC_00191', 'EPRC_00380',\n",
              "       'EPSF_00832', 'EPSF_01666', 'EPSF_00847', 'EPSF_00944',\n",
              "       'EPSF_00836'], dtype=object)"
            ]
          },
          "metadata": {
            "tags": []
          },
          "execution_count": 451
        }
      ]
    },
    {
      "cell_type": "code",
      "metadata": {
        "id": "RB-LQSemb5w5"
      },
      "source": [
        "df['InstStarted']= pd.to_datetime(df['InstStarted'])"
      ],
      "execution_count": 452,
      "outputs": []
    },
    {
      "cell_type": "code",
      "metadata": {
        "id": "AZTDjIpfdCkc"
      },
      "source": [
        "df['InstEnded']= pd.to_datetime(df['InstEnded'])"
      ],
      "execution_count": 453,
      "outputs": []
    },
    {
      "cell_type": "code",
      "metadata": {
        "colab": {
          "base_uri": "https://localhost:8080/"
        },
        "id": "8luUtuGYaN0D",
        "outputId": "3e31c1f2-5781-42f5-e279-e5979c0de9d6"
      },
      "source": [
        "mnr =df.groupby(['PIN','Inst'])['InstStarted','InstEnded'].first().reset_index()"
      ],
      "execution_count": 454,
      "outputs": [
        {
          "output_type": "stream",
          "text": [
            "/usr/local/lib/python3.7/dist-packages/ipykernel_launcher.py:1: FutureWarning: Indexing with multiple keys (implicitly converted to a tuple of keys) will be deprecated, use a list instead.\n",
            "  \"\"\"Entry point for launching an IPython kernel.\n"
          ],
          "name": "stderr"
        }
      ]
    },
    {
      "cell_type": "code",
      "metadata": {
        "id": "tL6eR_iddCH_"
      },
      "source": [
        "mnr['Time']=mnr['InstEnded']-mnr['InstStarted']"
      ],
      "execution_count": 455,
      "outputs": []
    },
    {
      "cell_type": "code",
      "metadata": {
        "id": "Bqhea3lbjYl5"
      },
      "source": [
        "mnr=mnr.drop(columns=['InstStarted'])"
      ],
      "execution_count": 456,
      "outputs": []
    },
    {
      "cell_type": "code",
      "metadata": {
        "id": "LqmUxt5NWHQs"
      },
      "source": [
        "mnr.InstEnded= mnr.InstEnded.map(lambda x: x.strftime('%Y-%m-%d'))"
      ],
      "execution_count": 457,
      "outputs": []
    },
    {
      "cell_type": "code",
      "metadata": {
        "id": "-ssc72Z0tLxH"
      },
      "source": [
        "RM =mnr.groupby(['PIN'])['Time'].sum().reset_index()"
      ],
      "execution_count": 458,
      "outputs": []
    },
    {
      "cell_type": "code",
      "metadata": {
        "id": "6IllucJ_u_7r"
      },
      "source": [
        "RM['Time']=round(RM['Time'].dt.total_seconds()/60,2)"
      ],
      "execution_count": 459,
      "outputs": []
    },
    {
      "cell_type": "code",
      "metadata": {
        "id": "RboaYjYxDeaT"
      },
      "source": [
        "mnr.rename(columns={'InstEnded':'Date'}, inplace=True)"
      ],
      "execution_count": 460,
      "outputs": []
    },
    {
      "cell_type": "code",
      "metadata": {
        "colab": {
          "base_uri": "https://localhost:8080/",
          "height": 421
        },
        "id": "AOxXvZgUwsxa",
        "outputId": "fca19b85-ff30-4201-f6c0-ee6f1af11cb2"
      },
      "source": [
        "RM"
      ],
      "execution_count": 461,
      "outputs": [
        {
          "output_type": "execute_result",
          "data": {
            "text/html": [
              "<div>\n",
              "<style scoped>\n",
              "    .dataframe tbody tr th:only-of-type {\n",
              "        vertical-align: middle;\n",
              "    }\n",
              "\n",
              "    .dataframe tbody tr th {\n",
              "        vertical-align: top;\n",
              "    }\n",
              "\n",
              "    .dataframe thead th {\n",
              "        text-align: right;\n",
              "    }\n",
              "</style>\n",
              "<table border=\"1\" class=\"dataframe\">\n",
              "  <thead>\n",
              "    <tr style=\"text-align: right;\">\n",
              "      <th></th>\n",
              "      <th>PIN</th>\n",
              "      <th>Time</th>\n",
              "    </tr>\n",
              "  </thead>\n",
              "  <tbody>\n",
              "    <tr>\n",
              "      <th>0</th>\n",
              "      <td>EPRC_00032</td>\n",
              "      <td>27.20</td>\n",
              "    </tr>\n",
              "    <tr>\n",
              "      <th>1</th>\n",
              "      <td>EPRC_00160</td>\n",
              "      <td>31.40</td>\n",
              "    </tr>\n",
              "    <tr>\n",
              "      <th>2</th>\n",
              "      <td>EPRC_00179</td>\n",
              "      <td>27.92</td>\n",
              "    </tr>\n",
              "    <tr>\n",
              "      <th>3</th>\n",
              "      <td>EPRC_00181</td>\n",
              "      <td>27.35</td>\n",
              "    </tr>\n",
              "    <tr>\n",
              "      <th>4</th>\n",
              "      <td>EPRC_00183</td>\n",
              "      <td>23.12</td>\n",
              "    </tr>\n",
              "    <tr>\n",
              "      <th>5</th>\n",
              "      <td>EPRC_00191</td>\n",
              "      <td>28.25</td>\n",
              "    </tr>\n",
              "    <tr>\n",
              "      <th>6</th>\n",
              "      <td>EPRC_00380</td>\n",
              "      <td>27.92</td>\n",
              "    </tr>\n",
              "    <tr>\n",
              "      <th>7</th>\n",
              "      <td>EPSF_00832</td>\n",
              "      <td>26.47</td>\n",
              "    </tr>\n",
              "    <tr>\n",
              "      <th>8</th>\n",
              "      <td>EPSF_00836</td>\n",
              "      <td>27.62</td>\n",
              "    </tr>\n",
              "    <tr>\n",
              "      <th>9</th>\n",
              "      <td>EPSF_00847</td>\n",
              "      <td>25.82</td>\n",
              "    </tr>\n",
              "    <tr>\n",
              "      <th>10</th>\n",
              "      <td>EPSF_00944</td>\n",
              "      <td>34.08</td>\n",
              "    </tr>\n",
              "    <tr>\n",
              "      <th>11</th>\n",
              "      <td>EPSF_01666</td>\n",
              "      <td>27.55</td>\n",
              "    </tr>\n",
              "  </tbody>\n",
              "</table>\n",
              "</div>"
            ],
            "text/plain": [
              "           PIN   Time\n",
              "0   EPRC_00032  27.20\n",
              "1   EPRC_00160  31.40\n",
              "2   EPRC_00179  27.92\n",
              "3   EPRC_00181  27.35\n",
              "4   EPRC_00183  23.12\n",
              "5   EPRC_00191  28.25\n",
              "6   EPRC_00380  27.92\n",
              "7   EPSF_00832  26.47\n",
              "8   EPSF_00836  27.62\n",
              "9   EPSF_00847  25.82\n",
              "10  EPSF_00944  34.08\n",
              "11  EPSF_01666  27.55"
            ]
          },
          "metadata": {
            "tags": []
          },
          "execution_count": 461
        }
      ]
    },
    {
      "cell_type": "code",
      "metadata": {
        "colab": {
          "base_uri": "https://localhost:8080/"
        },
        "id": "01O2uGiWvuhe",
        "outputId": "a351af56-2bff-4c0e-c740-917837971e59"
      },
      "source": [
        "RM['Time'].mean()"
      ],
      "execution_count": 462,
      "outputs": [
        {
          "output_type": "execute_result",
          "data": {
            "text/plain": [
              "27.89166666666667"
            ]
          },
          "metadata": {
            "tags": []
          },
          "execution_count": 462
        }
      ]
    },
    {
      "cell_type": "code",
      "metadata": {
        "id": "Ufaysbpljrds"
      },
      "source": [
        "mnr['Time']=round(mnr['Time'].dt.total_seconds()/60,2)"
      ],
      "execution_count": 463,
      "outputs": []
    },
    {
      "cell_type": "code",
      "metadata": {
        "id": "0paxrlw6wj_6"
      },
      "source": [
        "mnr['Mode'] ='Remote'"
      ],
      "execution_count": 464,
      "outputs": []
    },
    {
      "cell_type": "markdown",
      "metadata": {
        "id": "zXCPbUgXw4At"
      },
      "source": [
        "#a. A matched t-test for those who have both in-person and remote - Total Time\n",
        "There are only 8 students both have in person and remote"
      ]
    },
    {
      "cell_type": "code",
      "metadata": {
        "id": "p-IQAUWxMl93"
      },
      "source": [
        "IP =IP[IP['PIN']!='EPSF_00836']\n",
        "IP=IP[IP['PIN']!='EPSF_00847']"
      ],
      "execution_count": 465,
      "outputs": []
    },
    {
      "cell_type": "code",
      "metadata": {
        "id": "0OBAhrANzuH2"
      },
      "source": [
        "times = pd.merge(IP, RM, how= 'inner', on='PIN')"
      ],
      "execution_count": 466,
      "outputs": []
    },
    {
      "cell_type": "code",
      "metadata": {
        "id": "TSDQUbPtYTs4"
      },
      "source": [
        "times.columns =['PIN','Total_time', 'Total_time_R']"
      ],
      "execution_count": 467,
      "outputs": []
    },
    {
      "cell_type": "code",
      "metadata": {
        "colab": {
          "base_uri": "https://localhost:8080/",
          "height": 297
        },
        "id": "zLVZtuqVYC96",
        "outputId": "9cfb7382-a8f8-4161-94ed-7913c4932d6f"
      },
      "source": [
        "times"
      ],
      "execution_count": 468,
      "outputs": [
        {
          "output_type": "execute_result",
          "data": {
            "text/html": [
              "<div>\n",
              "<style scoped>\n",
              "    .dataframe tbody tr th:only-of-type {\n",
              "        vertical-align: middle;\n",
              "    }\n",
              "\n",
              "    .dataframe tbody tr th {\n",
              "        vertical-align: top;\n",
              "    }\n",
              "\n",
              "    .dataframe thead th {\n",
              "        text-align: right;\n",
              "    }\n",
              "</style>\n",
              "<table border=\"1\" class=\"dataframe\">\n",
              "  <thead>\n",
              "    <tr style=\"text-align: right;\">\n",
              "      <th></th>\n",
              "      <th>PIN</th>\n",
              "      <th>Total_time</th>\n",
              "      <th>Total_time_R</th>\n",
              "    </tr>\n",
              "  </thead>\n",
              "  <tbody>\n",
              "    <tr>\n",
              "      <th>0</th>\n",
              "      <td>EPRC_00032</td>\n",
              "      <td>25.73</td>\n",
              "      <td>27.20</td>\n",
              "    </tr>\n",
              "    <tr>\n",
              "      <th>1</th>\n",
              "      <td>EPRC_00160</td>\n",
              "      <td>25.63</td>\n",
              "      <td>31.40</td>\n",
              "    </tr>\n",
              "    <tr>\n",
              "      <th>2</th>\n",
              "      <td>EPRC_00179</td>\n",
              "      <td>21.40</td>\n",
              "      <td>27.92</td>\n",
              "    </tr>\n",
              "    <tr>\n",
              "      <th>3</th>\n",
              "      <td>EPRC_00181</td>\n",
              "      <td>24.33</td>\n",
              "      <td>27.35</td>\n",
              "    </tr>\n",
              "    <tr>\n",
              "      <th>4</th>\n",
              "      <td>EPRC_00380</td>\n",
              "      <td>24.33</td>\n",
              "      <td>27.92</td>\n",
              "    </tr>\n",
              "    <tr>\n",
              "      <th>5</th>\n",
              "      <td>EPSF_00832</td>\n",
              "      <td>23.53</td>\n",
              "      <td>26.47</td>\n",
              "    </tr>\n",
              "    <tr>\n",
              "      <th>6</th>\n",
              "      <td>EPSF_00944</td>\n",
              "      <td>34.43</td>\n",
              "      <td>34.08</td>\n",
              "    </tr>\n",
              "    <tr>\n",
              "      <th>7</th>\n",
              "      <td>EPSF_01666</td>\n",
              "      <td>25.17</td>\n",
              "      <td>27.55</td>\n",
              "    </tr>\n",
              "  </tbody>\n",
              "</table>\n",
              "</div>"
            ],
            "text/plain": [
              "          PIN  Total_time  Total_time_R\n",
              "0  EPRC_00032       25.73         27.20\n",
              "1  EPRC_00160       25.63         31.40\n",
              "2  EPRC_00179       21.40         27.92\n",
              "3  EPRC_00181       24.33         27.35\n",
              "4  EPRC_00380       24.33         27.92\n",
              "5  EPSF_00832       23.53         26.47\n",
              "6  EPSF_00944       34.43         34.08\n",
              "7  EPSF_01666       25.17         27.55"
            ]
          },
          "metadata": {
            "tags": []
          },
          "execution_count": 468
        }
      ]
    },
    {
      "cell_type": "code",
      "metadata": {
        "colab": {
          "base_uri": "https://localhost:8080/"
        },
        "id": "B7dU4zWXfI_Z",
        "outputId": "b35e843a-d59d-407c-f49b-c2637743222a"
      },
      "source": [
        "IP.PIN.unique()"
      ],
      "execution_count": 469,
      "outputs": [
        {
          "output_type": "execute_result",
          "data": {
            "text/plain": [
              "array(['EPRC_00032', 'EPRC_00160', 'EPRC_00162', 'EPRC_00173',\n",
              "       'EPRC_00179', 'EPRC_00181', 'EPRC_00380', 'EPRC_00550',\n",
              "       'EPSF_00832', 'EPSF_00943', 'EPSF_00944', 'EPSF_01247',\n",
              "       'EPSF_01666'], dtype=object)"
            ]
          },
          "metadata": {
            "tags": []
          },
          "execution_count": 469
        }
      ]
    },
    {
      "cell_type": "code",
      "metadata": {
        "colab": {
          "base_uri": "https://localhost:8080/",
          "height": 452
        },
        "id": "2JKzWiUMYdyx",
        "outputId": "b9cef8dc-5e84-4741-c993-a42ac9438df8"
      },
      "source": [
        "IP"
      ],
      "execution_count": 470,
      "outputs": [
        {
          "output_type": "execute_result",
          "data": {
            "text/html": [
              "<div>\n",
              "<style scoped>\n",
              "    .dataframe tbody tr th:only-of-type {\n",
              "        vertical-align: middle;\n",
              "    }\n",
              "\n",
              "    .dataframe tbody tr th {\n",
              "        vertical-align: top;\n",
              "    }\n",
              "\n",
              "    .dataframe thead th {\n",
              "        text-align: right;\n",
              "    }\n",
              "</style>\n",
              "<table border=\"1\" class=\"dataframe\">\n",
              "  <thead>\n",
              "    <tr style=\"text-align: right;\">\n",
              "      <th></th>\n",
              "      <th>PIN</th>\n",
              "      <th>Time</th>\n",
              "    </tr>\n",
              "  </thead>\n",
              "  <tbody>\n",
              "    <tr>\n",
              "      <th>0</th>\n",
              "      <td>EPRC_00032</td>\n",
              "      <td>25.73</td>\n",
              "    </tr>\n",
              "    <tr>\n",
              "      <th>1</th>\n",
              "      <td>EPRC_00160</td>\n",
              "      <td>25.63</td>\n",
              "    </tr>\n",
              "    <tr>\n",
              "      <th>2</th>\n",
              "      <td>EPRC_00162</td>\n",
              "      <td>27.25</td>\n",
              "    </tr>\n",
              "    <tr>\n",
              "      <th>3</th>\n",
              "      <td>EPRC_00173</td>\n",
              "      <td>29.70</td>\n",
              "    </tr>\n",
              "    <tr>\n",
              "      <th>4</th>\n",
              "      <td>EPRC_00179</td>\n",
              "      <td>21.40</td>\n",
              "    </tr>\n",
              "    <tr>\n",
              "      <th>5</th>\n",
              "      <td>EPRC_00181</td>\n",
              "      <td>24.33</td>\n",
              "    </tr>\n",
              "    <tr>\n",
              "      <th>6</th>\n",
              "      <td>EPRC_00380</td>\n",
              "      <td>24.33</td>\n",
              "    </tr>\n",
              "    <tr>\n",
              "      <th>7</th>\n",
              "      <td>EPRC_00550</td>\n",
              "      <td>30.62</td>\n",
              "    </tr>\n",
              "    <tr>\n",
              "      <th>8</th>\n",
              "      <td>EPSF_00832</td>\n",
              "      <td>23.53</td>\n",
              "    </tr>\n",
              "    <tr>\n",
              "      <th>11</th>\n",
              "      <td>EPSF_00943</td>\n",
              "      <td>2.00</td>\n",
              "    </tr>\n",
              "    <tr>\n",
              "      <th>12</th>\n",
              "      <td>EPSF_00944</td>\n",
              "      <td>34.43</td>\n",
              "    </tr>\n",
              "    <tr>\n",
              "      <th>13</th>\n",
              "      <td>EPSF_01247</td>\n",
              "      <td>24.30</td>\n",
              "    </tr>\n",
              "    <tr>\n",
              "      <th>14</th>\n",
              "      <td>EPSF_01666</td>\n",
              "      <td>25.17</td>\n",
              "    </tr>\n",
              "  </tbody>\n",
              "</table>\n",
              "</div>"
            ],
            "text/plain": [
              "           PIN   Time\n",
              "0   EPRC_00032  25.73\n",
              "1   EPRC_00160  25.63\n",
              "2   EPRC_00162  27.25\n",
              "3   EPRC_00173  29.70\n",
              "4   EPRC_00179  21.40\n",
              "5   EPRC_00181  24.33\n",
              "6   EPRC_00380  24.33\n",
              "7   EPRC_00550  30.62\n",
              "8   EPSF_00832  23.53\n",
              "11  EPSF_00943   2.00\n",
              "12  EPSF_00944  34.43\n",
              "13  EPSF_01247  24.30\n",
              "14  EPSF_01666  25.17"
            ]
          },
          "metadata": {
            "tags": []
          },
          "execution_count": 470
        }
      ]
    },
    {
      "cell_type": "code",
      "metadata": {
        "colab": {
          "base_uri": "https://localhost:8080/"
        },
        "id": "Y_IEkgG9fMBR",
        "outputId": "fb73f535-cdb8-468c-f39b-8aa16e489045"
      },
      "source": [
        "RM.PIN.unique()"
      ],
      "execution_count": 471,
      "outputs": [
        {
          "output_type": "execute_result",
          "data": {
            "text/plain": [
              "array(['EPRC_00032', 'EPRC_00160', 'EPRC_00179', 'EPRC_00181',\n",
              "       'EPRC_00183', 'EPRC_00191', 'EPRC_00380', 'EPSF_00832',\n",
              "       'EPSF_00836', 'EPSF_00847', 'EPSF_00944', 'EPSF_01666'],\n",
              "      dtype=object)"
            ]
          },
          "metadata": {
            "tags": []
          },
          "execution_count": 471
        }
      ]
    },
    {
      "cell_type": "code",
      "metadata": {
        "colab": {
          "base_uri": "https://localhost:8080/"
        },
        "id": "U1_dTcFSqK5n",
        "outputId": "663a2e23-7f93-4ad6-8c5f-4d79e13c8c2e"
      },
      "source": [
        "import numpy as np\n",
        "import scipy.stats as stats\n",
        "print('t-statistic = %6.3f pvalue = %6.4f' % stats.ttest_ind(times.Total_time, times.Total_time_R, equal_var = False))"
      ],
      "execution_count": 472,
      "outputs": [
        {
          "output_type": "stream",
          "text": [
            "t-statistic = -1.928 pvalue = 0.0772\n"
          ],
          "name": "stdout"
        }
      ]
    },
    {
      "cell_type": "code",
      "metadata": {
        "colab": {
          "base_uri": "https://localhost:8080/",
          "height": 377
        },
        "id": "GIiwJXfuLY0w",
        "outputId": "d8f32c7d-d669-4e88-befe-a4c8391e25bc"
      },
      "source": [
        "import matplotlib.pyplot as plt\n",
        "\n",
        "# Box plot of ACS In person vs. Remote\n",
        "plt.figure(figsize=(8, 6))\n",
        "times.boxplot(column=['Total_time', 'Total_time_R'])\n",
        "\n",
        "plt.show()"
      ],
      "execution_count": 473,
      "outputs": [
        {
          "output_type": "display_data",
          "data": {
            "image/png": "[encoded data removed]",
            "text/plain": [
              "<Figure size 576x432 with 1 Axes>"
            ]
          },
          "metadata": {
            "tags": []
          }
        }
      ]
    },
    {
      "cell_type": "markdown",
      "metadata": {
        "id": "lGdqiU1zablK"
      },
      "source": [
        "# b.\tA student’s t-test for everyone \n",
        "15 has In-person, 12 has remote"
      ]
    },
    {
      "cell_type": "code",
      "metadata": {
        "colab": {
          "base_uri": "https://localhost:8080/"
        },
        "id": "AOGjshfCXXnh",
        "outputId": "47e27455-880c-47e4-f72a-0f03981949b9"
      },
      "source": [
        "print('t-statistic = %6.3f pvalue = %6.4f' % stats.ttest_ind(IP.Time, RM.Time, equal_var=False))"
      ],
      "execution_count": 474,
      "outputs": [
        {
          "output_type": "stream",
          "text": [
            "t-statistic = -1.513 pvalue = 0.1506\n"
          ],
          "name": "stdout"
        }
      ]
    },
    {
      "cell_type": "markdown",
      "metadata": {
        "id": "_IxHYc-4eZxO"
      },
      "source": [
        "#c.\tCorrelations between remote and in-person- Total Time\n",
        "There are only 5 students both have in person and remote"
      ]
    },
    {
      "cell_type": "code",
      "metadata": {
        "colab": {
          "base_uri": "https://localhost:8080/"
        },
        "id": "kSl8M2iFd5b5",
        "outputId": "31d52992-c13a-4778-8e22-a347741aef4c"
      },
      "source": [
        "import numpy as np\n",
        "import scipy.stats as stats\n",
        "\n",
        "print('Correlation = %6.3f pvalue = %6.4f' % stats.pearsonr(times['Total_time'], times['Total_time_R']))    # Pearson's correlation coefficient and p-value "
      ],
      "execution_count": 481,
      "outputs": [
        {
          "output_type": "stream",
          "text": [
            "Correlation =  0.832 pvalue = 0.0104\n"
          ],
          "name": "stdout"
        }
      ]
    },
    {
      "cell_type": "code",
      "metadata": {
        "id": "IzhIkmXLLPYo"
      },
      "source": [
        "time_breakdown = pd.concat([mni,mnr]) "
      ],
      "execution_count": 476,
      "outputs": []
    },
    {
      "cell_type": "code",
      "metadata": {
        "colab": {
          "base_uri": "https://localhost:8080/"
        },
        "id": "IzPqS2jYZa3l",
        "outputId": "55944aa3-fcc1-4850-a014-0e2c651269d5"
      },
      "source": [
        "time_breakdown.Inst.unique()"
      ],
      "execution_count": 477,
      "outputs": [
        {
          "output_type": "execute_result",
          "data": {
            "text/plain": [
              "array(['NIH Toolbox Dimensional Change Card Sort Test Ages 8-11 v2.1',\n",
              "       'NIH Toolbox Flanker Inhibitory Control and Attention Test Ages 8-11 v2.1',\n",
              "       'NIH Toolbox Oral Reading Recognition Test Age 3+ v2.1',\n",
              "       'NIH Toolbox Pattern Comparison Processing Speed Test Age 7+ Practice v2.1',\n",
              "       'NIH Toolbox Pattern Comparison Processing Speed Test Age 7+ v2.1',\n",
              "       'NIH Toolbox Picture Sequence Memory Test Age 8+ Form A v2.1',\n",
              "       'NIH Toolbox Picture Vocabulary Test Age 3+ Practice v2.1',\n",
              "       'NIH Toolbox Picture Vocabulary Test Age 3+ v2.1',\n",
              "       'NIH Toolbox Picture Sequence Memory Test Age 8+ Form B v2.1'],\n",
              "      dtype=object)"
            ]
          },
          "metadata": {
            "tags": []
          },
          "execution_count": 477
        }
      ]
    },
    {
      "cell_type": "code",
      "metadata": {
        "colab": {
          "base_uri": "https://localhost:8080/"
        },
        "id": "C_DarEYbJNSk",
        "outputId": "5820a30c-35d1-48a0-f12f-a4e6a453a7a1"
      },
      "source": [
        "time_breakdown.groupby(['PIN','Mode'])['Inst'].count()"
      ],
      "execution_count": 478,
      "outputs": [
        {
          "output_type": "execute_result",
          "data": {
            "text/plain": [
              "PIN         Mode     \n",
              "EPRC_00032  In Person    8\n",
              "            Remote       8\n",
              "EPRC_00160  In Person    8\n",
              "            Remote       8\n",
              "EPRC_00162  In Person    8\n",
              "EPRC_00173  In Person    8\n",
              "EPRC_00179  In Person    8\n",
              "            Remote       8\n",
              "EPRC_00181  In Person    8\n",
              "            Remote       8\n",
              "EPRC_00183  Remote       6\n",
              "EPRC_00191  Remote       8\n",
              "EPRC_00380  In Person    8\n",
              "            Remote       8\n",
              "EPRC_00550  In Person    8\n",
              "EPSF_00832  In Person    8\n",
              "            Remote       8\n",
              "EPSF_00836  In Person    2\n",
              "            Remote       8\n",
              "EPSF_00847  In Person    2\n",
              "            Remote       8\n",
              "EPSF_00943  In Person    2\n",
              "EPSF_00944  In Person    8\n",
              "            Remote       8\n",
              "EPSF_01247  In Person    8\n",
              "EPSF_01666  In Person    8\n",
              "            Remote       7\n",
              "Name: Inst, dtype: int64"
            ]
          },
          "metadata": {
            "tags": []
          },
          "execution_count": 478
        }
      ]
    },
    {
      "cell_type": "markdown",
      "metadata": {
        "id": "5JPdownkvrfB"
      },
      "source": [
        ""
      ]
    },
    {
      "cell_type": "markdown",
      "metadata": {
        "id": "LGFMDZ39ptvO"
      },
      "source": [
        "#d.\tDoes it take longer for remote vs. in-person? - Total Time\n"
      ]
    },
    {
      "cell_type": "code",
      "metadata": {
        "colab": {
          "base_uri": "https://localhost:8080/"
        },
        "id": "kgvHz9sgZ3rE",
        "outputId": "714dd969-7caa-4a25-80ab-ed43809a4f7f"
      },
      "source": [
        "print('t-statistic = %6.3f pvalue = %6.4f' % stats.wilcoxon(times.Total_time, times.Total_time_R, alternative='two-sided'))"
      ],
      "execution_count": 482,
      "outputs": [
        {
          "output_type": "stream",
          "text": [
            "t-statistic =  1.000 pvalue = 0.0173\n"
          ],
          "name": "stdout"
        },
        {
          "output_type": "stream",
          "text": [
            "/usr/local/lib/python3.7/dist-packages/scipy/stats/morestats.py:2879: UserWarning: Sample size too small for normal approximation.\n",
            "  warnings.warn(\"Sample size too small for normal approximation.\")\n"
          ],
          "name": "stderr"
        }
      ]
    },
    {
      "cell_type": "code",
      "metadata": {
        "colab": {
          "base_uri": "https://localhost:8080/",
          "height": 297
        },
        "id": "e1iXEHauvlSO",
        "outputId": "8c387777-2854-441a-fcd1-c13995229364"
      },
      "source": [
        "times"
      ],
      "execution_count": 480,
      "outputs": [
        {
          "output_type": "execute_result",
          "data": {
            "text/html": [
              "<div>\n",
              "<style scoped>\n",
              "    .dataframe tbody tr th:only-of-type {\n",
              "        vertical-align: middle;\n",
              "    }\n",
              "\n",
              "    .dataframe tbody tr th {\n",
              "        vertical-align: top;\n",
              "    }\n",
              "\n",
              "    .dataframe thead th {\n",
              "        text-align: right;\n",
              "    }\n",
              "</style>\n",
              "<table border=\"1\" class=\"dataframe\">\n",
              "  <thead>\n",
              "    <tr style=\"text-align: right;\">\n",
              "      <th></th>\n",
              "      <th>PIN</th>\n",
              "      <th>Total_time</th>\n",
              "      <th>Total_time_R</th>\n",
              "    </tr>\n",
              "  </thead>\n",
              "  <tbody>\n",
              "    <tr>\n",
              "      <th>0</th>\n",
              "      <td>EPRC_00032</td>\n",
              "      <td>25.73</td>\n",
              "      <td>27.20</td>\n",
              "    </tr>\n",
              "    <tr>\n",
              "      <th>1</th>\n",
              "      <td>EPRC_00160</td>\n",
              "      <td>25.63</td>\n",
              "      <td>31.40</td>\n",
              "    </tr>\n",
              "    <tr>\n",
              "      <th>2</th>\n",
              "      <td>EPRC_00179</td>\n",
              "      <td>21.40</td>\n",
              "      <td>27.92</td>\n",
              "    </tr>\n",
              "    <tr>\n",
              "      <th>3</th>\n",
              "      <td>EPRC_00181</td>\n",
              "      <td>24.33</td>\n",
              "      <td>27.35</td>\n",
              "    </tr>\n",
              "    <tr>\n",
              "      <th>4</th>\n",
              "      <td>EPRC_00380</td>\n",
              "      <td>24.33</td>\n",
              "      <td>27.92</td>\n",
              "    </tr>\n",
              "    <tr>\n",
              "      <th>5</th>\n",
              "      <td>EPSF_00832</td>\n",
              "      <td>23.53</td>\n",
              "      <td>26.47</td>\n",
              "    </tr>\n",
              "    <tr>\n",
              "      <th>6</th>\n",
              "      <td>EPSF_00944</td>\n",
              "      <td>34.43</td>\n",
              "      <td>34.08</td>\n",
              "    </tr>\n",
              "    <tr>\n",
              "      <th>7</th>\n",
              "      <td>EPSF_01666</td>\n",
              "      <td>25.17</td>\n",
              "      <td>27.55</td>\n",
              "    </tr>\n",
              "  </tbody>\n",
              "</table>\n",
              "</div>"
            ],
            "text/plain": [
              "          PIN  Total_time  Total_time_R\n",
              "0  EPRC_00032       25.73         27.20\n",
              "1  EPRC_00160       25.63         31.40\n",
              "2  EPRC_00179       21.40         27.92\n",
              "3  EPRC_00181       24.33         27.35\n",
              "4  EPRC_00380       24.33         27.92\n",
              "5  EPSF_00832       23.53         26.47\n",
              "6  EPSF_00944       34.43         34.08\n",
              "7  EPSF_01666       25.17         27.55"
            ]
          },
          "metadata": {
            "tags": []
          },
          "execution_count": 480
        }
      ]
    },
    {
      "cell_type": "markdown",
      "metadata": {
        "id": "Hg4pVBb0A_NF"
      },
      "source": [
        "# e.\tPlot on x-axis remote scores for all the Inst, and plot on y-axis all the in-person "
      ]
    },
    {
      "cell_type": "code",
      "metadata": {
        "colab": {
          "base_uri": "https://localhost:8080/",
          "height": 509
        },
        "id": "pQ3v5DU7F8mR",
        "outputId": "12180e71-ba5d-4e47-ee9c-be3ef4608ddf"
      },
      "source": [
        "import seaborn as sns\n",
        "sns.set_theme(style=\"darkgrid\")\n",
        "\n",
        "g = sns.jointplot(x=\"Total_time\", y=\"Total_time_R\", data=times,\n",
        "                  kind=\"reg\", truncate=False,\n",
        "                  color=\"m\", height=7)"
      ],
      "execution_count": 483,
      "outputs": [
        {
          "output_type": "display_data",
          "data": {
            "image/png": "[encoded data removed]",
            "text/plain": [
              "<Figure size 504x504 with 3 Axes>"
            ]
          },
          "metadata": {
            "tags": []
          }
        }
      ]
    },
    {
      "cell_type": "markdown",
      "metadata": {
        "id": "zKBH_U9Yd919"
      },
      "source": [
        "#Composites (age-corrected and fully-corrected scores)Scores"
      ]
    },
    {
      "cell_type": "code",
      "metadata": {
        "id": "3ayipuJLxYuG"
      },
      "source": [
        "#  get all files from all In-person subdirectories\n",
        "\n",
        "all_files = glob.glob('/content/gdrive/My Drive/Avera/Rapid City/*/In Person/*CB_Scores.csv')\n",
        "\n",
        "\n",
        "doc =[]\n",
        "for file in all_files:\n",
        "  data = pd.read_csv(file)\n",
        "  doc.append(data)\n",
        "\n",
        "df = pd.concat(doc)"
      ],
      "execution_count": 121,
      "outputs": []
    },
    {
      "cell_type": "code",
      "metadata": {
        "colab": {
          "base_uri": "https://localhost:8080/"
        },
        "id": "WOvk0V52xqfj",
        "outputId": "8fd94fc2-e9d6-436f-b07c-1c244e15fa5a"
      },
      "source": [
        "df.shape"
      ],
      "execution_count": 122,
      "outputs": [
        {
          "output_type": "execute_result",
          "data": {
            "text/plain": [
              "(88, 28)"
            ]
          },
          "metadata": {
            "tags": []
          },
          "execution_count": 122
        }
      ]
    },
    {
      "cell_type": "code",
      "metadata": {
        "id": "U_t0U6Q5x0Zl"
      },
      "source": [
        "df['PIN'] = df['PIN'].str[7:17]"
      ],
      "execution_count": 123,
      "outputs": []
    },
    {
      "cell_type": "code",
      "metadata": {
        "id": "ei6DQb7S4vya"
      },
      "source": [
        "keep =['PIN', 'Inst', 'RawScore', 'Theta', 'SE',\n",
        "       'ItmCnt', 'Computed Score',\n",
        "       'Uncorrected Standard Score', 'Age-Corrected Standard Score',\n",
        "       'National Percentile (age adjusted)', 'Fully-Corrected T-score',\n",
        "       'InstrumentBreakoff', 'InstrumentStatus2']"
      ],
      "execution_count": 124,
      "outputs": []
    },
    {
      "cell_type": "code",
      "metadata": {
        "id": "3Om5N5Ma56yQ"
      },
      "source": [
        "df=df[keep]"
      ],
      "execution_count": 125,
      "outputs": []
    },
    {
      "cell_type": "code",
      "metadata": {
        "colab": {
          "base_uri": "https://localhost:8080/",
          "height": 359
        },
        "id": "_WFIOwUytaMY",
        "outputId": "e8f0342d-f2cd-4856-dbb9-0deb907e4731"
      },
      "source": [
        "times"
      ],
      "execution_count": 126,
      "outputs": [
        {
          "output_type": "execute_result",
          "data": {
            "text/html": [
              "<div>\n",
              "<style scoped>\n",
              "    .dataframe tbody tr th:only-of-type {\n",
              "        vertical-align: middle;\n",
              "    }\n",
              "\n",
              "    .dataframe tbody tr th {\n",
              "        vertical-align: top;\n",
              "    }\n",
              "\n",
              "    .dataframe thead th {\n",
              "        text-align: right;\n",
              "    }\n",
              "</style>\n",
              "<table border=\"1\" class=\"dataframe\">\n",
              "  <thead>\n",
              "    <tr style=\"text-align: right;\">\n",
              "      <th></th>\n",
              "      <th>PIN</th>\n",
              "      <th>Total_time</th>\n",
              "      <th>Total_time_R</th>\n",
              "    </tr>\n",
              "  </thead>\n",
              "  <tbody>\n",
              "    <tr>\n",
              "      <th>0</th>\n",
              "      <td>EPRC_00032</td>\n",
              "      <td>36.33</td>\n",
              "      <td>27.20</td>\n",
              "    </tr>\n",
              "    <tr>\n",
              "      <th>1</th>\n",
              "      <td>EPRC_00160</td>\n",
              "      <td>35.68</td>\n",
              "      <td>31.40</td>\n",
              "    </tr>\n",
              "    <tr>\n",
              "      <th>2</th>\n",
              "      <td>EPRC_00179</td>\n",
              "      <td>30.22</td>\n",
              "      <td>27.92</td>\n",
              "    </tr>\n",
              "    <tr>\n",
              "      <th>3</th>\n",
              "      <td>EPRC_00181</td>\n",
              "      <td>31.72</td>\n",
              "      <td>27.35</td>\n",
              "    </tr>\n",
              "    <tr>\n",
              "      <th>4</th>\n",
              "      <td>EPRC_00380</td>\n",
              "      <td>33.48</td>\n",
              "      <td>27.92</td>\n",
              "    </tr>\n",
              "    <tr>\n",
              "      <th>5</th>\n",
              "      <td>EPSF_00832</td>\n",
              "      <td>29.32</td>\n",
              "      <td>26.47</td>\n",
              "    </tr>\n",
              "    <tr>\n",
              "      <th>6</th>\n",
              "      <td>EPSF_00836</td>\n",
              "      <td>2.42</td>\n",
              "      <td>27.62</td>\n",
              "    </tr>\n",
              "    <tr>\n",
              "      <th>7</th>\n",
              "      <td>EPSF_00847</td>\n",
              "      <td>4.77</td>\n",
              "      <td>25.82</td>\n",
              "    </tr>\n",
              "    <tr>\n",
              "      <th>8</th>\n",
              "      <td>EPSF_00944</td>\n",
              "      <td>41.20</td>\n",
              "      <td>34.08</td>\n",
              "    </tr>\n",
              "    <tr>\n",
              "      <th>9</th>\n",
              "      <td>EPSF_01666</td>\n",
              "      <td>34.62</td>\n",
              "      <td>27.55</td>\n",
              "    </tr>\n",
              "  </tbody>\n",
              "</table>\n",
              "</div>"
            ],
            "text/plain": [
              "          PIN  Total_time  Total_time_R\n",
              "0  EPRC_00032       36.33         27.20\n",
              "1  EPRC_00160       35.68         31.40\n",
              "2  EPRC_00179       30.22         27.92\n",
              "3  EPRC_00181       31.72         27.35\n",
              "4  EPRC_00380       33.48         27.92\n",
              "5  EPSF_00832       29.32         26.47\n",
              "6  EPSF_00836        2.42         27.62\n",
              "7  EPSF_00847        4.77         25.82\n",
              "8  EPSF_00944       41.20         34.08\n",
              "9  EPSF_01666       34.62         27.55"
            ]
          },
          "metadata": {
            "tags": []
          },
          "execution_count": 126
        }
      ]
    },
    {
      "cell_type": "code",
      "metadata": {
        "id": "mfuZ4XcBDiTG"
      },
      "source": [
        "#Differentiate the rows contain Composites\n",
        "comp =df[df['Inst'].str.contains(\"Composite\")]\n",
        "raw =df[~df['Inst'].str.contains(\"Composite\")]"
      ],
      "execution_count": 127,
      "outputs": []
    },
    {
      "cell_type": "code",
      "metadata": {
        "id": "a2U6puaP8P6R",
        "colab": {
          "base_uri": "https://localhost:8080/",
          "height": 510
        },
        "outputId": "87d7133d-d4ce-4f13-cb96-370e346f5db1"
      },
      "source": [
        "raw=raw.dropna(axis=1, how='all')\n",
        "raw.head()"
      ],
      "execution_count": 128,
      "outputs": [
        {
          "output_type": "execute_result",
          "data": {
            "text/html": [
              "<div>\n",
              "<style scoped>\n",
              "    .dataframe tbody tr th:only-of-type {\n",
              "        vertical-align: middle;\n",
              "    }\n",
              "\n",
              "    .dataframe tbody tr th {\n",
              "        vertical-align: top;\n",
              "    }\n",
              "\n",
              "    .dataframe thead th {\n",
              "        text-align: right;\n",
              "    }\n",
              "</style>\n",
              "<table border=\"1\" class=\"dataframe\">\n",
              "  <thead>\n",
              "    <tr style=\"text-align: right;\">\n",
              "      <th></th>\n",
              "      <th>PIN</th>\n",
              "      <th>Inst</th>\n",
              "      <th>RawScore</th>\n",
              "      <th>Theta</th>\n",
              "      <th>SE</th>\n",
              "      <th>ItmCnt</th>\n",
              "      <th>Computed Score</th>\n",
              "      <th>Uncorrected Standard Score</th>\n",
              "      <th>Age-Corrected Standard Score</th>\n",
              "      <th>National Percentile (age adjusted)</th>\n",
              "      <th>Fully-Corrected T-score</th>\n",
              "      <th>InstrumentBreakoff</th>\n",
              "      <th>InstrumentStatus2</th>\n",
              "    </tr>\n",
              "  </thead>\n",
              "  <tbody>\n",
              "    <tr>\n",
              "      <th>0</th>\n",
              "      <td>EPRC_00032</td>\n",
              "      <td>NIH Toolbox Picture Vocabulary Test Age 3+ v2.1</td>\n",
              "      <td>NaN</td>\n",
              "      <td>-2.411</td>\n",
              "      <td>0.475</td>\n",
              "      <td>20.0</td>\n",
              "      <td>NaN</td>\n",
              "      <td>71</td>\n",
              "      <td>95</td>\n",
              "      <td>36</td>\n",
              "      <td>36</td>\n",
              "      <td>2.0</td>\n",
              "      <td>3.0</td>\n",
              "    </tr>\n",
              "    <tr>\n",
              "      <th>1</th>\n",
              "      <td>EPRC_00032</td>\n",
              "      <td>NIH Toolbox Flanker Inhibitory Control and Att...</td>\n",
              "      <td>20.0</td>\n",
              "      <td>NaN</td>\n",
              "      <td>NaN</td>\n",
              "      <td>24.0</td>\n",
              "      <td>7.24</td>\n",
              "      <td>89</td>\n",
              "      <td>94</td>\n",
              "      <td>34</td>\n",
              "      <td>45</td>\n",
              "      <td>2.0</td>\n",
              "      <td>3.0</td>\n",
              "    </tr>\n",
              "    <tr>\n",
              "      <th>2</th>\n",
              "      <td>EPRC_00032</td>\n",
              "      <td>NIH Toolbox List Sorting Working Memory Test A...</td>\n",
              "      <td>16.0</td>\n",
              "      <td>NaN</td>\n",
              "      <td>NaN</td>\n",
              "      <td>15.0</td>\n",
              "      <td>NaN</td>\n",
              "      <td>97</td>\n",
              "      <td>108</td>\n",
              "      <td>69</td>\n",
              "      <td>48</td>\n",
              "      <td>2.0</td>\n",
              "      <td>3.0</td>\n",
              "    </tr>\n",
              "    <tr>\n",
              "      <th>3</th>\n",
              "      <td>EPRC_00032</td>\n",
              "      <td>NIH Toolbox Dimensional Change Card Sort Test ...</td>\n",
              "      <td>26.0</td>\n",
              "      <td>NaN</td>\n",
              "      <td>NaN</td>\n",
              "      <td>38.0</td>\n",
              "      <td>6.73</td>\n",
              "      <td>91</td>\n",
              "      <td>96</td>\n",
              "      <td>40</td>\n",
              "      <td>46</td>\n",
              "      <td>2.0</td>\n",
              "      <td>3.0</td>\n",
              "    </tr>\n",
              "    <tr>\n",
              "      <th>4</th>\n",
              "      <td>EPRC_00032</td>\n",
              "      <td>NIH Toolbox Pattern Comparison Processing Spee...</td>\n",
              "      <td>34.0</td>\n",
              "      <td>NaN</td>\n",
              "      <td>NaN</td>\n",
              "      <td>34.0</td>\n",
              "      <td>39.00</td>\n",
              "      <td>80</td>\n",
              "      <td>86</td>\n",
              "      <td>18</td>\n",
              "      <td>39</td>\n",
              "      <td>2.0</td>\n",
              "      <td>3.0</td>\n",
              "    </tr>\n",
              "  </tbody>\n",
              "</table>\n",
              "</div>"
            ],
            "text/plain": [
              "          PIN  ... InstrumentStatus2\n",
              "0  EPRC_00032  ...               3.0\n",
              "1  EPRC_00032  ...               3.0\n",
              "2  EPRC_00032  ...               3.0\n",
              "3  EPRC_00032  ...               3.0\n",
              "4  EPRC_00032  ...               3.0\n",
              "\n",
              "[5 rows x 13 columns]"
            ]
          },
          "metadata": {
            "tags": []
          },
          "execution_count": 128
        }
      ]
    },
    {
      "cell_type": "code",
      "metadata": {
        "colab": {
          "base_uri": "https://localhost:8080/",
          "height": 238
        },
        "id": "8kCxcBxu_Q-G",
        "outputId": "163b6e64-40b2-4bcb-af2a-f78891683c6f"
      },
      "source": [
        "comp=comp.dropna(axis=1, how='all')\n",
        "comp.head()"
      ],
      "execution_count": 129,
      "outputs": [
        {
          "output_type": "execute_result",
          "data": {
            "text/html": [
              "<div>\n",
              "<style scoped>\n",
              "    .dataframe tbody tr th:only-of-type {\n",
              "        vertical-align: middle;\n",
              "    }\n",
              "\n",
              "    .dataframe tbody tr th {\n",
              "        vertical-align: top;\n",
              "    }\n",
              "\n",
              "    .dataframe thead th {\n",
              "        text-align: right;\n",
              "    }\n",
              "</style>\n",
              "<table border=\"1\" class=\"dataframe\">\n",
              "  <thead>\n",
              "    <tr style=\"text-align: right;\">\n",
              "      <th></th>\n",
              "      <th>PIN</th>\n",
              "      <th>Inst</th>\n",
              "      <th>Uncorrected Standard Score</th>\n",
              "      <th>Age-Corrected Standard Score</th>\n",
              "      <th>National Percentile (age adjusted)</th>\n",
              "      <th>Fully-Corrected T-score</th>\n",
              "    </tr>\n",
              "  </thead>\n",
              "  <tbody>\n",
              "    <tr>\n",
              "      <th>7</th>\n",
              "      <td>EPRC_00032</td>\n",
              "      <td>Cognition Fluid Composite v1.1</td>\n",
              "      <td>93</td>\n",
              "      <td>103</td>\n",
              "      <td>59</td>\n",
              "      <td>48</td>\n",
              "    </tr>\n",
              "    <tr>\n",
              "      <th>8</th>\n",
              "      <td>EPRC_00032</td>\n",
              "      <td>Cognition Crystallized Composite v1.1</td>\n",
              "      <td>71</td>\n",
              "      <td>85</td>\n",
              "      <td>16</td>\n",
              "      <td>32</td>\n",
              "    </tr>\n",
              "    <tr>\n",
              "      <th>9</th>\n",
              "      <td>EPRC_00032</td>\n",
              "      <td>Cognition Total Composite Score v1.1</td>\n",
              "      <td>78</td>\n",
              "      <td>93</td>\n",
              "      <td>32</td>\n",
              "      <td>38</td>\n",
              "    </tr>\n",
              "    <tr>\n",
              "      <th>10</th>\n",
              "      <td>EPRC_00032</td>\n",
              "      <td>Cognition Early Childhood Composite v1.1</td>\n",
              "      <td>89</td>\n",
              "      <td>105</td>\n",
              "      <td>62</td>\n",
              "      <td>48</td>\n",
              "    </tr>\n",
              "    <tr>\n",
              "      <th>7</th>\n",
              "      <td>EPRC_00160</td>\n",
              "      <td>Cognition Fluid Composite v1.1</td>\n",
              "      <td>94</td>\n",
              "      <td>109</td>\n",
              "      <td>73</td>\n",
              "      <td>49</td>\n",
              "    </tr>\n",
              "  </tbody>\n",
              "</table>\n",
              "</div>"
            ],
            "text/plain": [
              "           PIN  ... Fully-Corrected T-score\n",
              "7   EPRC_00032  ...                      48\n",
              "8   EPRC_00032  ...                      32\n",
              "9   EPRC_00032  ...                      38\n",
              "10  EPRC_00032  ...                      48\n",
              "7   EPRC_00160  ...                      49\n",
              "\n",
              "[5 rows x 6 columns]"
            ]
          },
          "metadata": {
            "tags": []
          },
          "execution_count": 129
        }
      ]
    },
    {
      "cell_type": "code",
      "metadata": {
        "colab": {
          "base_uri": "https://localhost:8080/"
        },
        "id": "vKAwCqAMvx_Y",
        "outputId": "a8c05b7b-211d-41a7-b23a-3abb9c7818a9"
      },
      "source": [
        "comp.Inst.unique()"
      ],
      "execution_count": 130,
      "outputs": [
        {
          "output_type": "execute_result",
          "data": {
            "text/plain": [
              "array(['Cognition Fluid Composite v1.1',\n",
              "       'Cognition Crystallized Composite v1.1',\n",
              "       'Cognition Total Composite Score v1.1',\n",
              "       'Cognition Early Childhood Composite v1.1'], dtype=object)"
            ]
          },
          "metadata": {
            "tags": []
          },
          "execution_count": 130
        }
      ]
    },
    {
      "cell_type": "code",
      "metadata": {
        "id": "S8Zx8UGl87yb"
      },
      "source": [
        "df['Mode'] ='In Person'"
      ],
      "execution_count": 131,
      "outputs": []
    },
    {
      "cell_type": "code",
      "metadata": {
        "id": "RY4vuD5yrnkW"
      },
      "source": [
        "#  get all files from all Remote subdirectories\n",
        "\n",
        "all_files = glob.glob('/content/gdrive/My Drive/Avera/Rapid City/*/Remote/*CB_Scores_R.csv')\n",
        "\n",
        "doc =[]\n",
        "for file in all_files:\n",
        "  data = pd.read_csv(file)\n",
        "  doc.append(data)\n",
        "\n",
        "dfr = pd.concat(doc)"
      ],
      "execution_count": 132,
      "outputs": []
    },
    {
      "cell_type": "code",
      "metadata": {
        "colab": {
          "base_uri": "https://localhost:8080/"
        },
        "id": "605OUi3TrnkY",
        "outputId": "d03fc93f-d622-4f07-de45-53776e2ab2d6"
      },
      "source": [
        "dfr.shape"
      ],
      "execution_count": 133,
      "outputs": [
        {
          "output_type": "execute_result",
          "data": {
            "text/plain": [
              "(54, 28)"
            ]
          },
          "metadata": {
            "tags": []
          },
          "execution_count": 133
        }
      ]
    },
    {
      "cell_type": "code",
      "metadata": {
        "id": "LhE6D_sTrnkZ"
      },
      "source": [
        "dfr['PIN'] = dfr['PIN'].str[7:17]"
      ],
      "execution_count": 134,
      "outputs": []
    },
    {
      "cell_type": "code",
      "metadata": {
        "id": "vLGCb_g_rnka"
      },
      "source": [
        "dfr=dfr[keep]"
      ],
      "execution_count": 135,
      "outputs": []
    },
    {
      "cell_type": "code",
      "metadata": {
        "id": "XGF23MAQ2Dkw"
      },
      "source": [
        "dfr.head()"
      ],
      "execution_count": null,
      "outputs": []
    },
    {
      "cell_type": "code",
      "metadata": {
        "colab": {
          "base_uri": "https://localhost:8080/"
        },
        "id": "Pa9INlPz37hu",
        "outputId": "2861fcbe-dab7-49b7-e9aa-a4a0bbd3f839"
      },
      "source": [
        "all.Inst.unique()"
      ],
      "execution_count": 199,
      "outputs": [
        {
          "output_type": "execute_result",
          "data": {
            "text/plain": [
              "array(['NIH Toolbox Picture Vocabulary Test Age 3+ v2.1',\n",
              "       'NIH Toolbox Flanker Inhibitory Control and Attention Test Ages 8-11 v2.1',\n",
              "       'NIH Toolbox List Sorting Working Memory Test Age 7+ v2.1',\n",
              "       'NIH Toolbox Dimensional Change Card Sort Test Ages 8-11 v2.1',\n",
              "       'NIH Toolbox Pattern Comparison Processing Speed Test Age 7+ v2.1',\n",
              "       'NIH Toolbox Picture Sequence Memory Test Age 8+ Form A v2.1',\n",
              "       'NIH Toolbox Oral Reading Recognition Test Age 3+ v2.1',\n",
              "       'Cognition Fluid Composite v1.1',\n",
              "       'Cognition Crystallized Composite v1.1',\n",
              "       'Cognition Total Composite Score v1.1',\n",
              "       'Cognition Early Childhood Composite v1.1',\n",
              "       'NIH Toolbox Picture Sequence Memory Test Age 8+ Form B v2.1'],\n",
              "      dtype=object)"
            ]
          },
          "metadata": {
            "tags": []
          },
          "execution_count": 199
        }
      ]
    },
    {
      "cell_type": "code",
      "metadata": {
        "id": "UFn7rcBbrnka"
      },
      "source": [
        "#Differentiate the rows contain Composites\n",
        "comp_r =dfr[dfr['Inst'].str.contains(\"Composite\")]\n",
        "raw_r =dfr[~dfr['Inst'].str.contains(\"Composite\")]"
      ],
      "execution_count": 244,
      "outputs": []
    },
    {
      "cell_type": "code",
      "metadata": {
        "id": "uW-VGWOhrnkb",
        "colab": {
          "base_uri": "https://localhost:8080/",
          "height": 544
        },
        "outputId": "80edfe92-5e8e-422b-a4fd-49cdbe01e892"
      },
      "source": [
        "raw_r=raw_r.dropna(axis=1, how='all')\n",
        "raw_r.head()"
      ],
      "execution_count": 138,
      "outputs": [
        {
          "output_type": "execute_result",
          "data": {
            "text/html": [
              "<div>\n",
              "<style scoped>\n",
              "    .dataframe tbody tr th:only-of-type {\n",
              "        vertical-align: middle;\n",
              "    }\n",
              "\n",
              "    .dataframe tbody tr th {\n",
              "        vertical-align: top;\n",
              "    }\n",
              "\n",
              "    .dataframe thead th {\n",
              "        text-align: right;\n",
              "    }\n",
              "</style>\n",
              "<table border=\"1\" class=\"dataframe\">\n",
              "  <thead>\n",
              "    <tr style=\"text-align: right;\">\n",
              "      <th></th>\n",
              "      <th>PIN</th>\n",
              "      <th>Inst</th>\n",
              "      <th>RawScore</th>\n",
              "      <th>Theta</th>\n",
              "      <th>SE</th>\n",
              "      <th>ItmCnt</th>\n",
              "      <th>Computed Score</th>\n",
              "      <th>Uncorrected Standard Score</th>\n",
              "      <th>Age-Corrected Standard Score</th>\n",
              "      <th>National Percentile (age adjusted)</th>\n",
              "      <th>Fully-Corrected T-score</th>\n",
              "      <th>InstrumentBreakoff</th>\n",
              "      <th>InstrumentStatus2</th>\n",
              "    </tr>\n",
              "  </thead>\n",
              "  <tbody>\n",
              "    <tr>\n",
              "      <th>0</th>\n",
              "      <td>EPRC_00032</td>\n",
              "      <td>NIH Toolbox Picture Vocabulary Test Age 3+ v2.1</td>\n",
              "      <td>NaN</td>\n",
              "      <td>-1.730</td>\n",
              "      <td>0.482</td>\n",
              "      <td>24.0</td>\n",
              "      <td>NaN</td>\n",
              "      <td>74.0</td>\n",
              "      <td>95.0</td>\n",
              "      <td>36.0</td>\n",
              "      <td>44.0</td>\n",
              "      <td>2.0</td>\n",
              "      <td>3.0</td>\n",
              "    </tr>\n",
              "    <tr>\n",
              "      <th>1</th>\n",
              "      <td>EPRC_00032</td>\n",
              "      <td>NIH Toolbox Oral Reading Recognition Test Age ...</td>\n",
              "      <td>NaN</td>\n",
              "      <td>-4.995</td>\n",
              "      <td>0.500</td>\n",
              "      <td>22.0</td>\n",
              "      <td>NaN</td>\n",
              "      <td>78.0</td>\n",
              "      <td>80.0</td>\n",
              "      <td>10.0</td>\n",
              "      <td>34.0</td>\n",
              "      <td>2.0</td>\n",
              "      <td>3.0</td>\n",
              "    </tr>\n",
              "    <tr>\n",
              "      <th>2</th>\n",
              "      <td>EPRC_00032</td>\n",
              "      <td>NIH Toolbox Pattern Comparison Processing Spee...</td>\n",
              "      <td>34.0</td>\n",
              "      <td>NaN</td>\n",
              "      <td>NaN</td>\n",
              "      <td>37.0</td>\n",
              "      <td>39.00</td>\n",
              "      <td>80.0</td>\n",
              "      <td>86.0</td>\n",
              "      <td>18.0</td>\n",
              "      <td>39.0</td>\n",
              "      <td>2.0</td>\n",
              "      <td>3.0</td>\n",
              "    </tr>\n",
              "    <tr>\n",
              "      <th>3</th>\n",
              "      <td>EPRC_00032</td>\n",
              "      <td>NIH Toolbox Picture Sequence Memory Test Age 8...</td>\n",
              "      <td>19.0</td>\n",
              "      <td>0.238</td>\n",
              "      <td>0.310</td>\n",
              "      <td>6.0</td>\n",
              "      <td>585.56</td>\n",
              "      <td>115.0</td>\n",
              "      <td>121.0</td>\n",
              "      <td>92.0</td>\n",
              "      <td>62.0</td>\n",
              "      <td>2.0</td>\n",
              "      <td>3.0</td>\n",
              "    </tr>\n",
              "    <tr>\n",
              "      <th>4</th>\n",
              "      <td>EPRC_00032</td>\n",
              "      <td>NIH Toolbox Flanker Inhibitory Control and Att...</td>\n",
              "      <td>20.0</td>\n",
              "      <td>NaN</td>\n",
              "      <td>NaN</td>\n",
              "      <td>24.0</td>\n",
              "      <td>6.79</td>\n",
              "      <td>85.0</td>\n",
              "      <td>83.0</td>\n",
              "      <td>13.0</td>\n",
              "      <td>38.0</td>\n",
              "      <td>2.0</td>\n",
              "      <td>3.0</td>\n",
              "    </tr>\n",
              "  </tbody>\n",
              "</table>\n",
              "</div>"
            ],
            "text/plain": [
              "          PIN  ... InstrumentStatus2\n",
              "0  EPRC_00032  ...               3.0\n",
              "1  EPRC_00032  ...               3.0\n",
              "2  EPRC_00032  ...               3.0\n",
              "3  EPRC_00032  ...               3.0\n",
              "4  EPRC_00032  ...               3.0\n",
              "\n",
              "[5 rows x 13 columns]"
            ]
          },
          "metadata": {
            "tags": []
          },
          "execution_count": 138
        }
      ]
    },
    {
      "cell_type": "code",
      "metadata": {
        "id": "jcCNLKaLrnkb",
        "colab": {
          "base_uri": "https://localhost:8080/",
          "height": 306
        },
        "outputId": "fef02920-ad59-4b50-9354-4e64e058321d"
      },
      "source": [
        "comp_r=comp_r.dropna(axis=1, how='all')\n",
        "comp_r.head()"
      ],
      "execution_count": 245,
      "outputs": [
        {
          "output_type": "execute_result",
          "data": {
            "text/html": [
              "<div>\n",
              "<style scoped>\n",
              "    .dataframe tbody tr th:only-of-type {\n",
              "        vertical-align: middle;\n",
              "    }\n",
              "\n",
              "    .dataframe tbody tr th {\n",
              "        vertical-align: top;\n",
              "    }\n",
              "\n",
              "    .dataframe thead th {\n",
              "        text-align: right;\n",
              "    }\n",
              "</style>\n",
              "<table border=\"1\" class=\"dataframe\">\n",
              "  <thead>\n",
              "    <tr style=\"text-align: right;\">\n",
              "      <th></th>\n",
              "      <th>PIN</th>\n",
              "      <th>Inst</th>\n",
              "      <th>Uncorrected Standard Score</th>\n",
              "      <th>Age-Corrected Standard Score</th>\n",
              "      <th>National Percentile (age adjusted)</th>\n",
              "      <th>Fully-Corrected T-score</th>\n",
              "      <th>Mode</th>\n",
              "    </tr>\n",
              "  </thead>\n",
              "  <tbody>\n",
              "    <tr>\n",
              "      <th>6</th>\n",
              "      <td>EPRC_00032</td>\n",
              "      <td>Cognition Crystallized Composite v1.1</td>\n",
              "      <td>74.0</td>\n",
              "      <td>85.0</td>\n",
              "      <td>16.0</td>\n",
              "      <td>38.0</td>\n",
              "      <td>Remote</td>\n",
              "    </tr>\n",
              "    <tr>\n",
              "      <th>7</th>\n",
              "      <td>EPRC_00032</td>\n",
              "      <td>Cognition Early Childhood Composite v1.1</td>\n",
              "      <td>85.0</td>\n",
              "      <td>98.0</td>\n",
              "      <td>44.0</td>\n",
              "      <td>43.0</td>\n",
              "      <td>Remote</td>\n",
              "    </tr>\n",
              "    <tr>\n",
              "      <th>6</th>\n",
              "      <td>EPRC_00160</td>\n",
              "      <td>Cognition Crystallized Composite v1.1</td>\n",
              "      <td>83.0</td>\n",
              "      <td>106.0</td>\n",
              "      <td>66.0</td>\n",
              "      <td>51.0</td>\n",
              "      <td>Remote</td>\n",
              "    </tr>\n",
              "    <tr>\n",
              "      <th>7</th>\n",
              "      <td>EPRC_00160</td>\n",
              "      <td>Cognition Early Childhood Composite v1.1</td>\n",
              "      <td>79.0</td>\n",
              "      <td>92.0</td>\n",
              "      <td>29.0</td>\n",
              "      <td>42.0</td>\n",
              "      <td>Remote</td>\n",
              "    </tr>\n",
              "    <tr>\n",
              "      <th>6</th>\n",
              "      <td>EPRC_00173</td>\n",
              "      <td>Cognition Crystallized Composite v1.1</td>\n",
              "      <td>63.0</td>\n",
              "      <td>72.0</td>\n",
              "      <td>3.0</td>\n",
              "      <td>39.0</td>\n",
              "      <td>Remote</td>\n",
              "    </tr>\n",
              "  </tbody>\n",
              "</table>\n",
              "</div>"
            ],
            "text/plain": [
              "          PIN  ...    Mode\n",
              "6  EPRC_00032  ...  Remote\n",
              "7  EPRC_00032  ...  Remote\n",
              "6  EPRC_00160  ...  Remote\n",
              "7  EPRC_00160  ...  Remote\n",
              "6  EPRC_00173  ...  Remote\n",
              "\n",
              "[5 rows x 7 columns]"
            ]
          },
          "metadata": {
            "tags": []
          },
          "execution_count": 245
        }
      ]
    },
    {
      "cell_type": "code",
      "metadata": {
        "id": "gkOBy6TrUUCI"
      },
      "source": [
        "comp['Mode'] = 'In Person'\n",
        "comp_r['Mode'] = 'Remote'\n",
        "boxp = pd.concat([comp,comp_r]) "
      ],
      "execution_count": 246,
      "outputs": []
    },
    {
      "cell_type": "code",
      "metadata": {
        "id": "vWHUmcRXWkAf"
      },
      "source": [
        "comp_r=comp_r.drop(columns='Mode')"
      ],
      "execution_count": 261,
      "outputs": []
    },
    {
      "cell_type": "code",
      "metadata": {
        "id": "Q3OGmLOLWuE0"
      },
      "source": [
        "comp=comp.drop(columns='Mode')"
      ],
      "execution_count": 263,
      "outputs": []
    },
    {
      "cell_type": "code",
      "metadata": {
        "id": "LcBmTt4fsJjP"
      },
      "source": [
        "comp_r.columns =['PIN', 'Inst', 'Uncorrected Standard Score_r',\n",
        "       'Age-Corrected Standard Score_r', 'National Percentile (age adjusted)_r',\n",
        "       'Fully-Corrected T-score_r']"
      ],
      "execution_count": 262,
      "outputs": []
    },
    {
      "cell_type": "code",
      "metadata": {
        "id": "KWVTLHvJ1_RR"
      },
      "source": [
        "dfr['Mode'] = 'Remote'"
      ],
      "execution_count": 141,
      "outputs": []
    },
    {
      "cell_type": "code",
      "metadata": {
        "id": "3X571ZspAkBI"
      },
      "source": [
        "scores = pd.merge(comp, comp_r, on=[\"PIN\",'Inst'])"
      ],
      "execution_count": 264,
      "outputs": []
    },
    {
      "cell_type": "code",
      "metadata": {
        "id": "FFoV_Dz_AsY7",
        "colab": {
          "base_uri": "https://localhost:8080/"
        },
        "outputId": "46ad728f-0846-4b6b-8273-698191e9bc14"
      },
      "source": [
        "scores.shape"
      ],
      "execution_count": 265,
      "outputs": [
        {
          "output_type": "execute_result",
          "data": {
            "text/plain": [
              "(8, 10)"
            ]
          },
          "metadata": {
            "tags": []
          },
          "execution_count": 265
        }
      ]
    },
    {
      "cell_type": "markdown",
      "metadata": {
        "id": "hhY6lrFT-q6a"
      },
      "source": [
        "# a.\tA matched t-test for those who have both in-person and remote "
      ]
    },
    {
      "cell_type": "code",
      "metadata": {
        "colab": {
          "base_uri": "https://localhost:8080/"
        },
        "id": "IHj0uE4ywffo",
        "outputId": "c15665d2-66ba-4671-ae6e-d180fb46e982"
      },
      "source": [
        "#For matched ones there are only two composite\n",
        "scores.Inst.unique()"
      ],
      "execution_count": 145,
      "outputs": [
        {
          "output_type": "execute_result",
          "data": {
            "text/plain": [
              "array(['Cognition Crystallized Composite v1.1',\n",
              "       'Cognition Early Childhood Composite v1.1'], dtype=object)"
            ]
          },
          "metadata": {
            "tags": []
          },
          "execution_count": 145
        }
      ]
    },
    {
      "cell_type": "code",
      "metadata": {
        "id": "CybyaF1OusWp"
      },
      "source": [
        "#Differentiate the rows contain Composites\n",
        "ccc =scores[scores['Inst'].str.contains('Cognition Crystallized Composite')]\n",
        "cecc =scores[scores['Inst'].str.contains('Cognition Early Childhood Composite')]"
      ],
      "execution_count": 146,
      "outputs": []
    },
    {
      "cell_type": "code",
      "metadata": {
        "id": "mT6jO2JX9XYa"
      },
      "source": [
        "keep1=['PIN', 'Inst', \n",
        "       'Age-Corrected Standard Score', \n",
        "       'Fully-Corrected T-score',\n",
        "       'Age-Corrected Standard Score_r',\n",
        "   'Fully-Corrected T-score_r']"
      ],
      "execution_count": 147,
      "outputs": []
    },
    {
      "cell_type": "code",
      "metadata": {
        "colab": {
          "base_uri": "https://localhost:8080/",
          "height": 306
        },
        "id": "QXg6kc4hGoyc",
        "outputId": "4f27cfa1-7800-400e-a2b1-b652e4b49511"
      },
      "source": [
        "ccc[keep1]"
      ],
      "execution_count": 148,
      "outputs": [
        {
          "output_type": "execute_result",
          "data": {
            "text/html": [
              "<div>\n",
              "<style scoped>\n",
              "    .dataframe tbody tr th:only-of-type {\n",
              "        vertical-align: middle;\n",
              "    }\n",
              "\n",
              "    .dataframe tbody tr th {\n",
              "        vertical-align: top;\n",
              "    }\n",
              "\n",
              "    .dataframe thead th {\n",
              "        text-align: right;\n",
              "    }\n",
              "</style>\n",
              "<table border=\"1\" class=\"dataframe\">\n",
              "  <thead>\n",
              "    <tr style=\"text-align: right;\">\n",
              "      <th></th>\n",
              "      <th>PIN</th>\n",
              "      <th>Inst</th>\n",
              "      <th>Age-Corrected Standard Score</th>\n",
              "      <th>Fully-Corrected T-score</th>\n",
              "      <th>Age-Corrected Standard Score_r</th>\n",
              "      <th>Fully-Corrected T-score_r</th>\n",
              "    </tr>\n",
              "  </thead>\n",
              "  <tbody>\n",
              "    <tr>\n",
              "      <th>0</th>\n",
              "      <td>EPRC_00032</td>\n",
              "      <td>Cognition Crystallized Composite v1.1</td>\n",
              "      <td>85</td>\n",
              "      <td>32</td>\n",
              "      <td>85.0</td>\n",
              "      <td>38.0</td>\n",
              "    </tr>\n",
              "    <tr>\n",
              "      <th>2</th>\n",
              "      <td>EPRC_00160</td>\n",
              "      <td>Cognition Crystallized Composite v1.1</td>\n",
              "      <td>99</td>\n",
              "      <td>42</td>\n",
              "      <td>106.0</td>\n",
              "      <td>51.0</td>\n",
              "    </tr>\n",
              "    <tr>\n",
              "      <th>4</th>\n",
              "      <td>EPRC_00173</td>\n",
              "      <td>Cognition Crystallized Composite v1.1</td>\n",
              "      <td>85</td>\n",
              "      <td>45</td>\n",
              "      <td>72.0</td>\n",
              "      <td>39.0</td>\n",
              "    </tr>\n",
              "    <tr>\n",
              "      <th>5</th>\n",
              "      <td>EPRC_00179</td>\n",
              "      <td>Cognition Crystallized Composite v1.1</td>\n",
              "      <td>106</td>\n",
              "      <td>55</td>\n",
              "      <td>113.0</td>\n",
              "      <td>54.0</td>\n",
              "    </tr>\n",
              "    <tr>\n",
              "      <th>6</th>\n",
              "      <td>EPRC_00181</td>\n",
              "      <td>Cognition Crystallized Composite v1.1</td>\n",
              "      <td>100</td>\n",
              "      <td>46</td>\n",
              "      <td>100.0</td>\n",
              "      <td>37.0</td>\n",
              "    </tr>\n",
              "  </tbody>\n",
              "</table>\n",
              "</div>"
            ],
            "text/plain": [
              "          PIN  ... Fully-Corrected T-score_r\n",
              "0  EPRC_00032  ...                      38.0\n",
              "2  EPRC_00160  ...                      51.0\n",
              "4  EPRC_00173  ...                      39.0\n",
              "5  EPRC_00179  ...                      54.0\n",
              "6  EPRC_00181  ...                      37.0\n",
              "\n",
              "[5 rows x 6 columns]"
            ]
          },
          "metadata": {
            "tags": []
          },
          "execution_count": 148
        }
      ]
    },
    {
      "cell_type": "code",
      "metadata": {
        "colab": {
          "base_uri": "https://localhost:8080/",
          "height": 210
        },
        "id": "WoYpufFOGcm_",
        "outputId": "5b647276-5143-4454-b23c-872f162d9fdc"
      },
      "source": [
        "cecc[keep1]"
      ],
      "execution_count": 149,
      "outputs": [
        {
          "output_type": "execute_result",
          "data": {
            "text/html": [
              "<div>\n",
              "<style scoped>\n",
              "    .dataframe tbody tr th:only-of-type {\n",
              "        vertical-align: middle;\n",
              "    }\n",
              "\n",
              "    .dataframe tbody tr th {\n",
              "        vertical-align: top;\n",
              "    }\n",
              "\n",
              "    .dataframe thead th {\n",
              "        text-align: right;\n",
              "    }\n",
              "</style>\n",
              "<table border=\"1\" class=\"dataframe\">\n",
              "  <thead>\n",
              "    <tr style=\"text-align: right;\">\n",
              "      <th></th>\n",
              "      <th>PIN</th>\n",
              "      <th>Inst</th>\n",
              "      <th>Age-Corrected Standard Score</th>\n",
              "      <th>Fully-Corrected T-score</th>\n",
              "      <th>Age-Corrected Standard Score_r</th>\n",
              "      <th>Fully-Corrected T-score_r</th>\n",
              "    </tr>\n",
              "  </thead>\n",
              "  <tbody>\n",
              "    <tr>\n",
              "      <th>1</th>\n",
              "      <td>EPRC_00032</td>\n",
              "      <td>Cognition Early Childhood Composite v1.1</td>\n",
              "      <td>105</td>\n",
              "      <td>48</td>\n",
              "      <td>98.0</td>\n",
              "      <td>43.0</td>\n",
              "    </tr>\n",
              "    <tr>\n",
              "      <th>3</th>\n",
              "      <td>EPRC_00160</td>\n",
              "      <td>Cognition Early Childhood Composite v1.1</td>\n",
              "      <td>106</td>\n",
              "      <td>43</td>\n",
              "      <td>92.0</td>\n",
              "      <td>42.0</td>\n",
              "    </tr>\n",
              "    <tr>\n",
              "      <th>7</th>\n",
              "      <td>EPRC_00181</td>\n",
              "      <td>Cognition Early Childhood Composite v1.1</td>\n",
              "      <td>87</td>\n",
              "      <td>36</td>\n",
              "      <td>89.0</td>\n",
              "      <td>34.0</td>\n",
              "    </tr>\n",
              "  </tbody>\n",
              "</table>\n",
              "</div>"
            ],
            "text/plain": [
              "          PIN  ... Fully-Corrected T-score_r\n",
              "1  EPRC_00032  ...                      43.0\n",
              "3  EPRC_00160  ...                      42.0\n",
              "7  EPRC_00181  ...                      34.0\n",
              "\n",
              "[3 rows x 6 columns]"
            ]
          },
          "metadata": {
            "tags": []
          },
          "execution_count": 149
        }
      ]
    },
    {
      "cell_type": "code",
      "metadata": {
        "colab": {
          "base_uri": "https://localhost:8080/"
        },
        "id": "EnbpBRLd-wLH",
        "outputId": "1cbbbe1b-be3c-4846-8102-87056113bf65"
      },
      "source": [
        "#Cognition Crystallized Composite \n",
        "print('t-statistic = %6.3f pvalue = %6.4f' %  stats.ttest_ind(ccc['Age-Corrected Standard Score'], ccc['Age-Corrected Standard Score_r'], equal_var = False))"
      ],
      "execution_count": 205,
      "outputs": [
        {
          "output_type": "stream",
          "text": [
            "t-statistic = -0.023 pvalue = 0.9820\n"
          ],
          "name": "stdout"
        }
      ]
    },
    {
      "cell_type": "code",
      "metadata": {
        "colab": {
          "base_uri": "https://localhost:8080/"
        },
        "id": "XjxOCbbgyLn1",
        "outputId": "f22a98bd-7515-42db-8a3b-2cd89048ca14"
      },
      "source": [
        "print('t-statistic = %6.3f pvalue = %6.4f' % stats.ttest_ind(cecc['Age-Corrected Standard Score'], cecc['Age-Corrected Standard Score_r'], equal_var = False))"
      ],
      "execution_count": 206,
      "outputs": [
        {
          "output_type": "stream",
          "text": [
            "t-statistic =  0.943 pvalue = 0.4219\n"
          ],
          "name": "stdout"
        }
      ]
    },
    {
      "cell_type": "code",
      "metadata": {
        "colab": {
          "base_uri": "https://localhost:8080/"
        },
        "id": "oi9GBdQA_FBh",
        "outputId": "7a9f4eea-6117-4d1b-d942-c2d730544bda"
      },
      "source": [
        "print('t-statistic = %6.3f pvalue = %6.4f' % stats.ttest_ind(ccc['Fully-Corrected T-score'], ccc['Fully-Corrected T-score_r'], equal_var = False))"
      ],
      "execution_count": 207,
      "outputs": [
        {
          "output_type": "stream",
          "text": [
            "t-statistic =  0.039 pvalue = 0.9700\n"
          ],
          "name": "stdout"
        }
      ]
    },
    {
      "cell_type": "code",
      "metadata": {
        "colab": {
          "base_uri": "https://localhost:8080/"
        },
        "id": "-3HH-Rk0yQnZ",
        "outputId": "edef0b91-c11c-4961-f36d-e7cdeafbcfa9"
      },
      "source": [
        "print('t-statistic = %6.3f pvalue = %6.4f' %  stats.ttest_ind(cecc['Fully-Corrected T-score'], cecc['Fully-Corrected T-score_r'], equal_var = False))"
      ],
      "execution_count": 210,
      "outputs": [
        {
          "output_type": "stream",
          "text": [
            "t-statistic =  0.593 pvalue = 0.5863\n"
          ],
          "name": "stdout"
        }
      ]
    },
    {
      "cell_type": "code",
      "metadata": {
        "colab": {
          "base_uri": "https://localhost:8080/",
          "height": 204
        },
        "id": "0ozVVZZoUv7u",
        "outputId": "e489a9a5-0d45-4da8-c6c5-74adcaac2314"
      },
      "source": [
        "boxp.tail()"
      ],
      "execution_count": 266,
      "outputs": [
        {
          "output_type": "execute_result",
          "data": {
            "text/html": [
              "<div>\n",
              "<style scoped>\n",
              "    .dataframe tbody tr th:only-of-type {\n",
              "        vertical-align: middle;\n",
              "    }\n",
              "\n",
              "    .dataframe tbody tr th {\n",
              "        vertical-align: top;\n",
              "    }\n",
              "\n",
              "    .dataframe thead th {\n",
              "        text-align: right;\n",
              "    }\n",
              "</style>\n",
              "<table border=\"1\" class=\"dataframe\">\n",
              "  <thead>\n",
              "    <tr style=\"text-align: right;\">\n",
              "      <th></th>\n",
              "      <th>PIN</th>\n",
              "      <th>Inst</th>\n",
              "      <th>Uncorrected Standard Score</th>\n",
              "      <th>Age-Corrected Standard Score</th>\n",
              "      <th>National Percentile (age adjusted)</th>\n",
              "      <th>Fully-Corrected T-score</th>\n",
              "      <th>Mode</th>\n",
              "    </tr>\n",
              "  </thead>\n",
              "  <tbody>\n",
              "    <tr>\n",
              "      <th>7</th>\n",
              "      <td>EPRC_00181</td>\n",
              "      <td>CECC</td>\n",
              "      <td>76.0</td>\n",
              "      <td>89.0</td>\n",
              "      <td>24.0</td>\n",
              "      <td>34.0</td>\n",
              "      <td>Remote</td>\n",
              "    </tr>\n",
              "    <tr>\n",
              "      <th>6</th>\n",
              "      <td>EPRC_00183</td>\n",
              "      <td>CCC</td>\n",
              "      <td>87.0</td>\n",
              "      <td>120.0</td>\n",
              "      <td>91.0</td>\n",
              "      <td>63.0</td>\n",
              "      <td>Remote</td>\n",
              "    </tr>\n",
              "    <tr>\n",
              "      <th>7</th>\n",
              "      <td>EPRC_00183</td>\n",
              "      <td>CECC</td>\n",
              "      <td>87.0</td>\n",
              "      <td>104.0</td>\n",
              "      <td>62.0</td>\n",
              "      <td>51.0</td>\n",
              "      <td>Remote</td>\n",
              "    </tr>\n",
              "    <tr>\n",
              "      <th>6</th>\n",
              "      <td>EPRC_00191</td>\n",
              "      <td>CCC</td>\n",
              "      <td>75.0</td>\n",
              "      <td>92.0</td>\n",
              "      <td>30.0</td>\n",
              "      <td>43.0</td>\n",
              "      <td>Remote</td>\n",
              "    </tr>\n",
              "    <tr>\n",
              "      <th>7</th>\n",
              "      <td>EPRC_00191</td>\n",
              "      <td>CECC</td>\n",
              "      <td>80.0</td>\n",
              "      <td>92.0</td>\n",
              "      <td>30.0</td>\n",
              "      <td>43.0</td>\n",
              "      <td>Remote</td>\n",
              "    </tr>\n",
              "  </tbody>\n",
              "</table>\n",
              "</div>"
            ],
            "text/plain": [
              "          PIN  Inst  ...  Fully-Corrected T-score    Mode\n",
              "7  EPRC_00181  CECC  ...                     34.0  Remote\n",
              "6  EPRC_00183   CCC  ...                     63.0  Remote\n",
              "7  EPRC_00183  CECC  ...                     51.0  Remote\n",
              "6  EPRC_00191   CCC  ...                     43.0  Remote\n",
              "7  EPRC_00191  CECC  ...                     43.0  Remote\n",
              "\n",
              "[5 rows x 7 columns]"
            ]
          },
          "metadata": {
            "tags": []
          },
          "execution_count": 266
        }
      ]
    },
    {
      "cell_type": "code",
      "metadata": {
        "id": "zbHFl_deVMyx"
      },
      "source": [
        "boxp[\"Inst\"].replace({\"Cognition Fluid Composite v1.1\":'CFC','Cognition Crystallized Composite v1.1':'CCC', 'Cognition Total Composite Score v1.1':'CTC','Cognition Early Childhood Composite v1.1':'CECC'}, inplace=True)"
      ],
      "execution_count": 252,
      "outputs": []
    },
    {
      "cell_type": "code",
      "metadata": {
        "colab": {
          "base_uri": "https://localhost:8080/",
          "height": 427
        },
        "id": "8fltOtYCSs4h",
        "outputId": "669a04d0-cc59-47a8-8662-0373120df0ea"
      },
      "source": [
        "plt.figure(figsize=(8, 6))\n",
        "sns.boxplot(x = 'Inst', y = 'Age-Corrected Standard Score', hue='Mode',data = boxp)\n",
        "plt.title('Age-Corrected Standard score')"
      ],
      "execution_count": 256,
      "outputs": [
        {
          "output_type": "execute_result",
          "data": {
            "text/plain": [
              "Text(0.5, 1.0, 'Age-Corrected Standard score')"
            ]
          },
          "metadata": {
            "tags": []
          },
          "execution_count": 256
        },
        {
          "output_type": "display_data",
          "data": {
            "image/png": "[encoded data removed]",
            "text/plain": [
              "<Figure size 576x432 with 1 Axes>"
            ]
          },
          "metadata": {
            "tags": []
          }
        }
      ]
    },
    {
      "cell_type": "code",
      "metadata": {
        "colab": {
          "base_uri": "https://localhost:8080/",
          "height": 410
        },
        "id": "EjWwK1cS_HY4",
        "outputId": "0804d615-5505-437c-e172-05160d07a506"
      },
      "source": [
        "# Box plot of Fully In person vs. Remote\n",
        "plt.figure(figsize=(8, 6))\n",
        "sns.boxplot(x = 'Inst', y = 'Fully-Corrected T-score', hue='Mode',data = boxp)\n",
        "plt.title('Fully-Corrected T-score')\n",
        "plt.show()"
      ],
      "execution_count": 257,
      "outputs": [
        {
          "output_type": "display_data",
          "data": {
            "image/png": "[encoded data removed]",
            "text/plain": [
              "<Figure size 576x432 with 1 Axes>"
            ]
          },
          "metadata": {
            "tags": []
          }
        }
      ]
    },
    {
      "cell_type": "markdown",
      "metadata": {
        "id": "fn2Lwf_l_U-H"
      },
      "source": [
        "# b.\tA student’s t-test for everyone "
      ]
    },
    {
      "cell_type": "code",
      "metadata": {
        "colab": {
          "base_uri": "https://localhost:8080/"
        },
        "id": "-3bvmq0N9t5V",
        "outputId": "0d26fb89-0ea4-40fd-c245-3b7e7d65956e"
      },
      "source": [
        "print('t-statistic = %6.3f pvalue = %6.4f' % stats.ttest_ind(comp[comp['Inst'].str.contains('Cognition Crystallized Composite')]['Age-Corrected Standard Score'],comp_r[comp_r['Inst'].str.contains('Cognition Crystallized Composite')]['Age-Corrected Standard Score_r'], equal_var=False))"
      ],
      "execution_count": 267,
      "outputs": [
        {
          "output_type": "stream",
          "text": [
            "t-statistic = -0.257 pvalue = 0.8031\n"
          ],
          "name": "stdout"
        }
      ]
    },
    {
      "cell_type": "code",
      "metadata": {
        "colab": {
          "base_uri": "https://localhost:8080/"
        },
        "id": "8Tp395HzQJSO",
        "outputId": "c14899fe-bdf2-484d-d233-0d0e3a099d18"
      },
      "source": [
        "print('t-statistic = %6.3f pvalue = %6.4f' % stats.ttest_ind(comp[comp['Inst'].str.contains('Cognition Early Childhood Composite')]['Age-Corrected Standard Score'], comp_r[comp_r['Inst'].str.contains('Cognition Early Childhood Composite')]['Age-Corrected Standard Score_r'], equal_var=False))"
      ],
      "execution_count": 268,
      "outputs": [
        {
          "output_type": "stream",
          "text": [
            "t-statistic =  1.004 pvalue = 0.3369\n"
          ],
          "name": "stdout"
        }
      ]
    },
    {
      "cell_type": "code",
      "metadata": {
        "colab": {
          "base_uri": "https://localhost:8080/"
        },
        "id": "gA8n-WXdQyQ9",
        "outputId": "ac4932a2-d529-4b95-ead5-8a85f0087af9"
      },
      "source": [
        "print('t-statistic = %6.3f pvalue = %6.4f' % stats.ttest_ind(comp[comp['Inst'].str.contains('Cognition Crystallized Composite')]['Fully-Corrected T-score'],comp_r[comp_r['Inst'].str.contains('Cognition Crystallized Composite')]['Fully-Corrected T-score_r'], equal_var=False))"
      ],
      "execution_count": 269,
      "outputs": [
        {
          "output_type": "stream",
          "text": [
            "t-statistic = -0.694 pvalue = 0.5031\n"
          ],
          "name": "stdout"
        }
      ]
    },
    {
      "cell_type": "code",
      "metadata": {
        "colab": {
          "base_uri": "https://localhost:8080/"
        },
        "id": "aEd86wk29ZXW",
        "outputId": "cfb786ae-71cb-43b5-a717-559d11d0390b"
      },
      "source": [
        "print('t-statistic = %6.3f pvalue = %6.4f' % stats.ttest_ind(comp[comp['Inst'].str.contains('Cognition Early Childhood Composite')]['Fully-Corrected T-score'], comp_r[comp_r['Inst'].str.contains('Cognition Early Childhood Composite')]['Fully-Corrected T-score_r'], equal_var=False))"
      ],
      "execution_count": 270,
      "outputs": [
        {
          "output_type": "stream",
          "text": [
            "t-statistic =  0.616 pvalue = 0.5518\n"
          ],
          "name": "stdout"
        }
      ]
    },
    {
      "cell_type": "code",
      "metadata": {
        "colab": {
          "base_uri": "https://localhost:8080/",
          "height": 306
        },
        "id": "DmjDf1te6CQo",
        "outputId": "09846ea9-6cfb-4543-a284-39d58fa0e1c0"
      },
      "source": [
        "ccc[keep1]"
      ],
      "execution_count": 201,
      "outputs": [
        {
          "output_type": "execute_result",
          "data": {
            "text/html": [
              "<div>\n",
              "<style scoped>\n",
              "    .dataframe tbody tr th:only-of-type {\n",
              "        vertical-align: middle;\n",
              "    }\n",
              "\n",
              "    .dataframe tbody tr th {\n",
              "        vertical-align: top;\n",
              "    }\n",
              "\n",
              "    .dataframe thead th {\n",
              "        text-align: right;\n",
              "    }\n",
              "</style>\n",
              "<table border=\"1\" class=\"dataframe\">\n",
              "  <thead>\n",
              "    <tr style=\"text-align: right;\">\n",
              "      <th></th>\n",
              "      <th>PIN</th>\n",
              "      <th>Inst</th>\n",
              "      <th>Age-Corrected Standard Score</th>\n",
              "      <th>Fully-Corrected T-score</th>\n",
              "      <th>Age-Corrected Standard Score_r</th>\n",
              "      <th>Fully-Corrected T-score_r</th>\n",
              "    </tr>\n",
              "  </thead>\n",
              "  <tbody>\n",
              "    <tr>\n",
              "      <th>0</th>\n",
              "      <td>EPRC_00032</td>\n",
              "      <td>Cognition Crystallized Composite v1.1</td>\n",
              "      <td>85</td>\n",
              "      <td>32</td>\n",
              "      <td>85.0</td>\n",
              "      <td>38.0</td>\n",
              "    </tr>\n",
              "    <tr>\n",
              "      <th>2</th>\n",
              "      <td>EPRC_00160</td>\n",
              "      <td>Cognition Crystallized Composite v1.1</td>\n",
              "      <td>99</td>\n",
              "      <td>42</td>\n",
              "      <td>106.0</td>\n",
              "      <td>51.0</td>\n",
              "    </tr>\n",
              "    <tr>\n",
              "      <th>4</th>\n",
              "      <td>EPRC_00173</td>\n",
              "      <td>Cognition Crystallized Composite v1.1</td>\n",
              "      <td>85</td>\n",
              "      <td>45</td>\n",
              "      <td>72.0</td>\n",
              "      <td>39.0</td>\n",
              "    </tr>\n",
              "    <tr>\n",
              "      <th>5</th>\n",
              "      <td>EPRC_00179</td>\n",
              "      <td>Cognition Crystallized Composite v1.1</td>\n",
              "      <td>106</td>\n",
              "      <td>55</td>\n",
              "      <td>113.0</td>\n",
              "      <td>54.0</td>\n",
              "    </tr>\n",
              "    <tr>\n",
              "      <th>6</th>\n",
              "      <td>EPRC_00181</td>\n",
              "      <td>Cognition Crystallized Composite v1.1</td>\n",
              "      <td>100</td>\n",
              "      <td>46</td>\n",
              "      <td>100.0</td>\n",
              "      <td>37.0</td>\n",
              "    </tr>\n",
              "  </tbody>\n",
              "</table>\n",
              "</div>"
            ],
            "text/plain": [
              "          PIN  ... Fully-Corrected T-score_r\n",
              "0  EPRC_00032  ...                      38.0\n",
              "2  EPRC_00160  ...                      51.0\n",
              "4  EPRC_00173  ...                      39.0\n",
              "5  EPRC_00179  ...                      54.0\n",
              "6  EPRC_00181  ...                      37.0\n",
              "\n",
              "[5 rows x 6 columns]"
            ]
          },
          "metadata": {
            "tags": []
          },
          "execution_count": 201
        }
      ]
    },
    {
      "cell_type": "code",
      "metadata": {
        "colab": {
          "base_uri": "https://localhost:8080/",
          "height": 210
        },
        "id": "rVDPxHTU6SL_",
        "outputId": "118e09e6-2a19-46ad-b17f-c65237a69f5d"
      },
      "source": [
        "cecc[keep1]"
      ],
      "execution_count": 202,
      "outputs": [
        {
          "output_type": "execute_result",
          "data": {
            "text/html": [
              "<div>\n",
              "<style scoped>\n",
              "    .dataframe tbody tr th:only-of-type {\n",
              "        vertical-align: middle;\n",
              "    }\n",
              "\n",
              "    .dataframe tbody tr th {\n",
              "        vertical-align: top;\n",
              "    }\n",
              "\n",
              "    .dataframe thead th {\n",
              "        text-align: right;\n",
              "    }\n",
              "</style>\n",
              "<table border=\"1\" class=\"dataframe\">\n",
              "  <thead>\n",
              "    <tr style=\"text-align: right;\">\n",
              "      <th></th>\n",
              "      <th>PIN</th>\n",
              "      <th>Inst</th>\n",
              "      <th>Age-Corrected Standard Score</th>\n",
              "      <th>Fully-Corrected T-score</th>\n",
              "      <th>Age-Corrected Standard Score_r</th>\n",
              "      <th>Fully-Corrected T-score_r</th>\n",
              "    </tr>\n",
              "  </thead>\n",
              "  <tbody>\n",
              "    <tr>\n",
              "      <th>1</th>\n",
              "      <td>EPRC_00032</td>\n",
              "      <td>Cognition Early Childhood Composite v1.1</td>\n",
              "      <td>105</td>\n",
              "      <td>48</td>\n",
              "      <td>98.0</td>\n",
              "      <td>43.0</td>\n",
              "    </tr>\n",
              "    <tr>\n",
              "      <th>3</th>\n",
              "      <td>EPRC_00160</td>\n",
              "      <td>Cognition Early Childhood Composite v1.1</td>\n",
              "      <td>106</td>\n",
              "      <td>43</td>\n",
              "      <td>92.0</td>\n",
              "      <td>42.0</td>\n",
              "    </tr>\n",
              "    <tr>\n",
              "      <th>7</th>\n",
              "      <td>EPRC_00181</td>\n",
              "      <td>Cognition Early Childhood Composite v1.1</td>\n",
              "      <td>87</td>\n",
              "      <td>36</td>\n",
              "      <td>89.0</td>\n",
              "      <td>34.0</td>\n",
              "    </tr>\n",
              "  </tbody>\n",
              "</table>\n",
              "</div>"
            ],
            "text/plain": [
              "          PIN  ... Fully-Corrected T-score_r\n",
              "1  EPRC_00032  ...                      43.0\n",
              "3  EPRC_00160  ...                      42.0\n",
              "7  EPRC_00181  ...                      34.0\n",
              "\n",
              "[3 rows x 6 columns]"
            ]
          },
          "metadata": {
            "tags": []
          },
          "execution_count": 202
        }
      ]
    },
    {
      "cell_type": "markdown",
      "metadata": {
        "id": "cz2a8UpLAVtI"
      },
      "source": [
        "# c.\tCorrelations between remote and in-person"
      ]
    },
    {
      "cell_type": "code",
      "metadata": {
        "colab": {
          "base_uri": "https://localhost:8080/"
        },
        "id": "iR1FQuzOTwqm",
        "outputId": "f6c17fbb-f736-4ff8-ba0b-5b16b2f7491c"
      },
      "source": [
        "print('correlation = %6.3f pvalue = %6.4f' % stats.pearsonr(ccc['Age-Corrected Standard Score'], ccc['Age-Corrected Standard Score_r']))"
      ],
      "execution_count": 271,
      "outputs": [
        {
          "output_type": "stream",
          "text": [
            "correlation =  0.947 pvalue = 0.0147\n"
          ],
          "name": "stdout"
        }
      ]
    },
    {
      "cell_type": "code",
      "metadata": {
        "colab": {
          "base_uri": "https://localhost:8080/"
        },
        "id": "5sq7Z2J-Tx3o",
        "outputId": "7e45163b-f1cf-48df-e134-bf1efd1c20f0"
      },
      "source": [
        "print('correlation = %6.3f pvalue = %6.4f'% stats.pearsonr(cecc['Age-Corrected Standard Score'], cecc['Age-Corrected Standard Score_r']))"
      ],
      "execution_count": 273,
      "outputs": [
        {
          "output_type": "stream",
          "text": [
            "correlation =  0.724 pvalue = 0.4842\n"
          ],
          "name": "stdout"
        }
      ]
    },
    {
      "cell_type": "code",
      "metadata": {
        "colab": {
          "base_uri": "https://localhost:8080/"
        },
        "id": "wWSMTfFuAxq8",
        "outputId": "2d19ff00-83b4-4606-e27d-842e7ea27cea"
      },
      "source": [
        "print('correlation = %6.3f pvalue = %6.4f' %stats.pearsonr(ccc['Fully-Corrected T-score'], ccc['Fully-Corrected T-score_r']))"
      ],
      "execution_count": 274,
      "outputs": [
        {
          "output_type": "stream",
          "text": [
            "correlation =  0.560 pvalue = 0.3267\n"
          ],
          "name": "stdout"
        }
      ]
    },
    {
      "cell_type": "code",
      "metadata": {
        "colab": {
          "base_uri": "https://localhost:8080/"
        },
        "id": "-6iEWJjaBDXF",
        "outputId": "2b5c74ec-542b-48a1-d656-c2b4efdde427"
      },
      "source": [
        "print('correlation = %6.3f pvalue = %6.4f' % stats.pearsonr(cecc['Fully-Corrected T-score'], cecc['Fully-Corrected T-score_r']))"
      ],
      "execution_count": 275,
      "outputs": [
        {
          "output_type": "stream",
          "text": [
            "correlation =  0.947 pvalue = 0.2076\n"
          ],
          "name": "stdout"
        }
      ]
    },
    {
      "cell_type": "markdown",
      "metadata": {
        "id": "MZsSaExCAavd"
      },
      "source": [
        "# d.\tDoes it take longer for remote vs. in-person? "
      ]
    },
    {
      "cell_type": "code",
      "metadata": {
        "colab": {
          "base_uri": "https://localhost:8080/"
        },
        "id": "dln6vy8TDno1",
        "outputId": "d6893858-aefc-4d00-c2c6-c5e6955b4d6e"
      },
      "source": [
        "print('t-statistic = %6.3f pvalue = %6.4f' % stats.wilcoxon(ccc['Age-Corrected Standard Score'], ccc['Age-Corrected Standard Score_r']))"
      ],
      "execution_count": 276,
      "outputs": [
        {
          "output_type": "stream",
          "text": [
            "t-statistic =  3.000 pvalue = 1.0000\n"
          ],
          "name": "stdout"
        },
        {
          "output_type": "stream",
          "text": [
            "/usr/local/lib/python3.7/dist-packages/scipy/stats/morestats.py:2879: UserWarning: Sample size too small for normal approximation.\n",
            "  warnings.warn(\"Sample size too small for normal approximation.\")\n"
          ],
          "name": "stderr"
        }
      ]
    },
    {
      "cell_type": "code",
      "metadata": {
        "colab": {
          "base_uri": "https://localhost:8080/"
        },
        "id": "b5T9upl0SFJk",
        "outputId": "9ba66e11-ad22-4ebc-edc8-87193bcf7ffa"
      },
      "source": [
        "print('t-statistic = %6.3f pvalue = %6.4f' % stats.wilcoxon(cecc['Age-Corrected Standard Score'], cecc['Age-Corrected Standard Score_r']))"
      ],
      "execution_count": 277,
      "outputs": [
        {
          "output_type": "stream",
          "text": [
            "t-statistic =  1.000 pvalue = 0.2850\n"
          ],
          "name": "stdout"
        },
        {
          "output_type": "stream",
          "text": [
            "/usr/local/lib/python3.7/dist-packages/scipy/stats/morestats.py:2879: UserWarning: Sample size too small for normal approximation.\n",
            "  warnings.warn(\"Sample size too small for normal approximation.\")\n"
          ],
          "name": "stderr"
        }
      ]
    },
    {
      "cell_type": "code",
      "metadata": {
        "colab": {
          "base_uri": "https://localhost:8080/"
        },
        "id": "7QehDhSUSIZV",
        "outputId": "38f2a626-c77e-4061-9f72-a4e5e908ab21"
      },
      "source": [
        "print('t-statistic = %6.3f pvalue = %6.4f' % stats.wilcoxon(ccc['Fully-Corrected T-score'], ccc['Fully-Corrected T-score_r']))"
      ],
      "execution_count": 278,
      "outputs": [
        {
          "output_type": "stream",
          "text": [
            "t-statistic =  7.000 pvalue = 0.8918\n"
          ],
          "name": "stdout"
        },
        {
          "output_type": "stream",
          "text": [
            "/usr/local/lib/python3.7/dist-packages/scipy/stats/morestats.py:2879: UserWarning: Sample size too small for normal approximation.\n",
            "  warnings.warn(\"Sample size too small for normal approximation.\")\n"
          ],
          "name": "stderr"
        }
      ]
    },
    {
      "cell_type": "code",
      "metadata": {
        "colab": {
          "base_uri": "https://localhost:8080/"
        },
        "id": "u4N3ryPgDilP",
        "outputId": "a916e244-5008-48e6-e518-ebfe49aa43c9"
      },
      "source": [
        "print('t-statistic = %6.3f pvalue = %6.4f' % stats.wilcoxon(cecc['Fully-Corrected T-score'], cecc['Fully-Corrected T-score_r']))"
      ],
      "execution_count": 279,
      "outputs": [
        {
          "output_type": "stream",
          "text": [
            "t-statistic =  0.000 pvalue = 0.1088\n"
          ],
          "name": "stdout"
        },
        {
          "output_type": "stream",
          "text": [
            "/usr/local/lib/python3.7/dist-packages/scipy/stats/morestats.py:2879: UserWarning: Sample size too small for normal approximation.\n",
            "  warnings.warn(\"Sample size too small for normal approximation.\")\n"
          ],
          "name": "stderr"
        }
      ]
    },
    {
      "cell_type": "markdown",
      "metadata": {
        "id": "SOwQH2y7AgGH"
      },
      "source": [
        "# e.\tPlot on x-axis remote scores for all the Inst, and plot on y-axis all the in-person "
      ]
    },
    {
      "cell_type": "code",
      "metadata": {
        "colab": {
          "base_uri": "https://localhost:8080/",
          "height": 509
        },
        "id": "0w6jYpjSG4xB",
        "outputId": "597aab66-a491-450d-995c-5912d15d7d37"
      },
      "source": [
        "import seaborn as sns\n",
        "sns.set_theme(style=\"darkgrid\")\n",
        "\n",
        "g = sns.jointplot(x=\"Age-Corrected Standard Score\", y=\"Age-Corrected Standard Score_r\", data=ccc,\n",
        "                  kind=\"reg\", truncate=False,\n",
        "                  color=\"y\", height=7)"
      ],
      "execution_count": 169,
      "outputs": [
        {
          "output_type": "display_data",
          "data": {
            "image/png": "[encoded data removed]",
            "text/plain": [
              "<Figure size 504x504 with 3 Axes>"
            ]
          },
          "metadata": {
            "tags": []
          }
        }
      ]
    },
    {
      "cell_type": "code",
      "metadata": {
        "colab": {
          "base_uri": "https://localhost:8080/",
          "height": 509
        },
        "id": "ZVCMyfjG8FX8",
        "outputId": "fb9cfeec-497b-4ed4-a626-1f8b4d25dcb2"
      },
      "source": [
        "g = sns.jointplot(x=\"Age-Corrected Standard Score\", y=\"Age-Corrected Standard Score_r\", data=cecc,\n",
        "                  kind=\"reg\", truncate=False,\n",
        "                  color=\"y\", height=7)"
      ],
      "execution_count": 170,
      "outputs": [
        {
          "output_type": "display_data",
          "data": {
            "image/png": "[encoded data removed]",
            "text/plain": [
              "<Figure size 504x504 with 3 Axes>"
            ]
          },
          "metadata": {
            "tags": []
          }
        }
      ]
    },
    {
      "cell_type": "code",
      "metadata": {
        "colab": {
          "base_uri": "https://localhost:8080/",
          "height": 509
        },
        "id": "tzy8QBB6UKm0",
        "outputId": "6f3b94ce-ccfc-477e-b35e-ede305ead656"
      },
      "source": [
        "import seaborn as sns\n",
        "sns.set_theme(style=\"darkgrid\")\n",
        "\n",
        "g = sns.jointplot(x=\"Fully-Corrected T-score\", y=\"Fully-Corrected T-score_r\", data=ccc,\n",
        "                  kind=\"reg\", truncate=False,\n",
        "                  color=\"r\", height=7)"
      ],
      "execution_count": 171,
      "outputs": [
        {
          "output_type": "display_data",
          "data": {
            "image/png": "[encoded data removed]",
            "text/plain": [
              "<Figure size 504x504 with 3 Axes>"
            ]
          },
          "metadata": {
            "tags": []
          }
        }
      ]
    },
    {
      "cell_type": "code",
      "metadata": {
        "colab": {
          "base_uri": "https://localhost:8080/",
          "height": 509
        },
        "id": "aLMBiaKHURxd",
        "outputId": "d4fda2bf-3f94-4d89-9ca8-895f4d9272ca"
      },
      "source": [
        "g = sns.jointplot(x=\"Fully-Corrected T-score\", y=\"Fully-Corrected T-score_r\", data=cecc,\n",
        "                  kind=\"reg\", truncate=False,\n",
        "                  color=\"r\", height=7)"
      ],
      "execution_count": 172,
      "outputs": [
        {
          "output_type": "display_data",
          "data": {
            "image/png": "[encoded data removed]",
            "text/plain": [
              "<Figure size 504x504 with 3 Axes>"
            ]
          },
          "metadata": {
            "tags": []
          }
        }
      ]
    },
    {
      "cell_type": "markdown",
      "metadata": {
        "id": "4DjQ-Ug4aVl-"
      },
      "source": [
        ""
      ]
    },
    {
      "cell_type": "code",
      "metadata": {
        "id": "k7GxZ5n1aWCb"
      },
      "source": [
        ""
      ],
      "execution_count": null,
      "outputs": []
    },
    {
      "cell_type": "code",
      "metadata": {
        "id": "zw3e9Vr0aWRZ"
      },
      "source": [
        ""
      ],
      "execution_count": null,
      "outputs": []
    },
    {
      "cell_type": "code",
      "metadata": {
        "id": "1V5X9JdraWVZ"
      },
      "source": [
        ""
      ],
      "execution_count": null,
      "outputs": []
    },
    {
      "cell_type": "code",
      "metadata": {
        "id": "KM9ZKYjOaWac"
      },
      "source": [
        ""
      ],
      "execution_count": null,
      "outputs": []
    },
    {
      "cell_type": "markdown",
      "metadata": {
        "id": "02ViorSi1vK7"
      },
      "source": [
        "# Wide to Long"
      ]
    },
    {
      "cell_type": "code",
      "metadata": {
        "id": "XoJbrwWn2oZb"
      },
      "source": [
        "all = pd.concat([df,dfr]) "
      ],
      "execution_count": 173,
      "outputs": []
    },
    {
      "cell_type": "code",
      "metadata": {
        "colab": {
          "base_uri": "https://localhost:8080/",
          "height": 204
        },
        "id": "_5w5JDXW_KNO",
        "outputId": "d9b7cfd6-7f1f-44f5-a908-c67366e2432b"
      },
      "source": [
        "time_breakdown.head()"
      ],
      "execution_count": 174,
      "outputs": [
        {
          "output_type": "execute_result",
          "data": {
            "text/html": [
              "<div>\n",
              "<style scoped>\n",
              "    .dataframe tbody tr th:only-of-type {\n",
              "        vertical-align: middle;\n",
              "    }\n",
              "\n",
              "    .dataframe tbody tr th {\n",
              "        vertical-align: top;\n",
              "    }\n",
              "\n",
              "    .dataframe thead th {\n",
              "        text-align: right;\n",
              "    }\n",
              "</style>\n",
              "<table border=\"1\" class=\"dataframe\">\n",
              "  <thead>\n",
              "    <tr style=\"text-align: right;\">\n",
              "      <th></th>\n",
              "      <th>PIN</th>\n",
              "      <th>Inst</th>\n",
              "      <th>Date</th>\n",
              "      <th>Time</th>\n",
              "      <th>Mode</th>\n",
              "    </tr>\n",
              "  </thead>\n",
              "  <tbody>\n",
              "    <tr>\n",
              "      <th>0</th>\n",
              "      <td>EPRC_00032</td>\n",
              "      <td>NIH Toolbox Dimensional Change Card Sort Test ...</td>\n",
              "      <td>2021-03-30</td>\n",
              "      <td>5.30</td>\n",
              "      <td>In Person</td>\n",
              "    </tr>\n",
              "    <tr>\n",
              "      <th>1</th>\n",
              "      <td>EPRC_00032</td>\n",
              "      <td>NIH Toolbox Flanker Inhibitory Control and Att...</td>\n",
              "      <td>2021-03-30</td>\n",
              "      <td>3.97</td>\n",
              "      <td>In Person</td>\n",
              "    </tr>\n",
              "    <tr>\n",
              "      <th>2</th>\n",
              "      <td>EPRC_00032</td>\n",
              "      <td>NIH Toolbox List Sorting Working Memory Test A...</td>\n",
              "      <td>2021-03-30</td>\n",
              "      <td>10.60</td>\n",
              "      <td>In Person</td>\n",
              "    </tr>\n",
              "    <tr>\n",
              "      <th>3</th>\n",
              "      <td>EPRC_00032</td>\n",
              "      <td>NIH Toolbox Oral Reading Recognition Test Age ...</td>\n",
              "      <td>2021-03-30</td>\n",
              "      <td>1.43</td>\n",
              "      <td>In Person</td>\n",
              "    </tr>\n",
              "    <tr>\n",
              "      <th>4</th>\n",
              "      <td>EPRC_00032</td>\n",
              "      <td>NIH Toolbox Pattern Comparison Processing Spee...</td>\n",
              "      <td>2021-03-30</td>\n",
              "      <td>1.57</td>\n",
              "      <td>In Person</td>\n",
              "    </tr>\n",
              "  </tbody>\n",
              "</table>\n",
              "</div>"
            ],
            "text/plain": [
              "          PIN  ...       Mode\n",
              "0  EPRC_00032  ...  In Person\n",
              "1  EPRC_00032  ...  In Person\n",
              "2  EPRC_00032  ...  In Person\n",
              "3  EPRC_00032  ...  In Person\n",
              "4  EPRC_00032  ...  In Person\n",
              "\n",
              "[5 rows x 5 columns]"
            ]
          },
          "metadata": {
            "tags": []
          },
          "execution_count": 174
        }
      ]
    },
    {
      "cell_type": "code",
      "metadata": {
        "id": "aYRQ3GZx2r4x"
      },
      "source": [
        "rv =pd.merge(time_breakdown, all, how='outer',on=['PIN','Inst','Mode'])"
      ],
      "execution_count": 175,
      "outputs": []
    },
    {
      "cell_type": "code",
      "metadata": {
        "id": "jKHrHKsI2-EG",
        "colab": {
          "base_uri": "https://localhost:8080/"
        },
        "outputId": "82827e91-d6e2-419e-937c-b5131d41c3a0"
      },
      "source": [
        "rv.shape"
      ],
      "execution_count": 176,
      "outputs": [
        {
          "output_type": "execute_result",
          "data": {
            "text/plain": [
              "(258, 16)"
            ]
          },
          "metadata": {
            "tags": []
          },
          "execution_count": 176
        }
      ]
    },
    {
      "cell_type": "code",
      "metadata": {
        "id": "U7BnD7OT6RM-"
      },
      "source": [
        "rv['Site'] = np.where(rv['PIN'].str.contains('SF'), 'Sioux Falls', 'Rapid City')"
      ],
      "execution_count": 177,
      "outputs": []
    },
    {
      "cell_type": "code",
      "metadata": {
        "colab": {
          "base_uri": "https://localhost:8080/",
          "height": 595
        },
        "id": "PNpXp1sA_r0H",
        "outputId": "393f76cf-b4d8-48e6-dbe5-a9a7040720a8"
      },
      "source": [
        "all.head()"
      ],
      "execution_count": 178,
      "outputs": [
        {
          "output_type": "execute_result",
          "data": {
            "text/html": [
              "<div>\n",
              "<style scoped>\n",
              "    .dataframe tbody tr th:only-of-type {\n",
              "        vertical-align: middle;\n",
              "    }\n",
              "\n",
              "    .dataframe tbody tr th {\n",
              "        vertical-align: top;\n",
              "    }\n",
              "\n",
              "    .dataframe thead th {\n",
              "        text-align: right;\n",
              "    }\n",
              "</style>\n",
              "<table border=\"1\" class=\"dataframe\">\n",
              "  <thead>\n",
              "    <tr style=\"text-align: right;\">\n",
              "      <th></th>\n",
              "      <th>PIN</th>\n",
              "      <th>Inst</th>\n",
              "      <th>RawScore</th>\n",
              "      <th>Theta</th>\n",
              "      <th>SE</th>\n",
              "      <th>ItmCnt</th>\n",
              "      <th>Computed Score</th>\n",
              "      <th>Uncorrected Standard Score</th>\n",
              "      <th>Age-Corrected Standard Score</th>\n",
              "      <th>National Percentile (age adjusted)</th>\n",
              "      <th>Fully-Corrected T-score</th>\n",
              "      <th>InstrumentBreakoff</th>\n",
              "      <th>InstrumentStatus2</th>\n",
              "      <th>Mode</th>\n",
              "    </tr>\n",
              "  </thead>\n",
              "  <tbody>\n",
              "    <tr>\n",
              "      <th>0</th>\n",
              "      <td>EPRC_00032</td>\n",
              "      <td>NIH Toolbox Picture Vocabulary Test Age 3+ v2.1</td>\n",
              "      <td>NaN</td>\n",
              "      <td>-2.411</td>\n",
              "      <td>0.475</td>\n",
              "      <td>20.0</td>\n",
              "      <td>NaN</td>\n",
              "      <td>71.0</td>\n",
              "      <td>95.0</td>\n",
              "      <td>36.0</td>\n",
              "      <td>36.0</td>\n",
              "      <td>2.0</td>\n",
              "      <td>3.0</td>\n",
              "      <td>In Person</td>\n",
              "    </tr>\n",
              "    <tr>\n",
              "      <th>1</th>\n",
              "      <td>EPRC_00032</td>\n",
              "      <td>NIH Toolbox Flanker Inhibitory Control and Att...</td>\n",
              "      <td>20.0</td>\n",
              "      <td>NaN</td>\n",
              "      <td>NaN</td>\n",
              "      <td>24.0</td>\n",
              "      <td>7.24</td>\n",
              "      <td>89.0</td>\n",
              "      <td>94.0</td>\n",
              "      <td>34.0</td>\n",
              "      <td>45.0</td>\n",
              "      <td>2.0</td>\n",
              "      <td>3.0</td>\n",
              "      <td>In Person</td>\n",
              "    </tr>\n",
              "    <tr>\n",
              "      <th>2</th>\n",
              "      <td>EPRC_00032</td>\n",
              "      <td>NIH Toolbox List Sorting Working Memory Test A...</td>\n",
              "      <td>16.0</td>\n",
              "      <td>NaN</td>\n",
              "      <td>NaN</td>\n",
              "      <td>15.0</td>\n",
              "      <td>NaN</td>\n",
              "      <td>97.0</td>\n",
              "      <td>108.0</td>\n",
              "      <td>69.0</td>\n",
              "      <td>48.0</td>\n",
              "      <td>2.0</td>\n",
              "      <td>3.0</td>\n",
              "      <td>In Person</td>\n",
              "    </tr>\n",
              "    <tr>\n",
              "      <th>3</th>\n",
              "      <td>EPRC_00032</td>\n",
              "      <td>NIH Toolbox Dimensional Change Card Sort Test ...</td>\n",
              "      <td>26.0</td>\n",
              "      <td>NaN</td>\n",
              "      <td>NaN</td>\n",
              "      <td>38.0</td>\n",
              "      <td>6.73</td>\n",
              "      <td>91.0</td>\n",
              "      <td>96.0</td>\n",
              "      <td>40.0</td>\n",
              "      <td>46.0</td>\n",
              "      <td>2.0</td>\n",
              "      <td>3.0</td>\n",
              "      <td>In Person</td>\n",
              "    </tr>\n",
              "    <tr>\n",
              "      <th>4</th>\n",
              "      <td>EPRC_00032</td>\n",
              "      <td>NIH Toolbox Pattern Comparison Processing Spee...</td>\n",
              "      <td>34.0</td>\n",
              "      <td>NaN</td>\n",
              "      <td>NaN</td>\n",
              "      <td>34.0</td>\n",
              "      <td>39.00</td>\n",
              "      <td>80.0</td>\n",
              "      <td>86.0</td>\n",
              "      <td>18.0</td>\n",
              "      <td>39.0</td>\n",
              "      <td>2.0</td>\n",
              "      <td>3.0</td>\n",
              "      <td>In Person</td>\n",
              "    </tr>\n",
              "  </tbody>\n",
              "</table>\n",
              "</div>"
            ],
            "text/plain": [
              "          PIN  ...       Mode\n",
              "0  EPRC_00032  ...  In Person\n",
              "1  EPRC_00032  ...  In Person\n",
              "2  EPRC_00032  ...  In Person\n",
              "3  EPRC_00032  ...  In Person\n",
              "4  EPRC_00032  ...  In Person\n",
              "\n",
              "[5 rows x 14 columns]"
            ]
          },
          "metadata": {
            "tags": []
          },
          "execution_count": 178
        }
      ]
    },
    {
      "cell_type": "code",
      "metadata": {
        "id": "yx--Qwdr1JJz"
      },
      "source": [
        "rv = rv.melt(id_vars=['PIN','Inst','Mode','Date','Time','Site'], \n",
        "        var_name=\"Scores\", \n",
        "        value_name=\"Value\")"
      ],
      "execution_count": 179,
      "outputs": []
    },
    {
      "cell_type": "code",
      "metadata": {
        "id": "m3uIZx2PHrbG"
      },
      "source": [
        "rv=rv.dropna(thresh=6, axis=0)"
      ],
      "execution_count": 180,
      "outputs": []
    },
    {
      "cell_type": "code",
      "metadata": {
        "colab": {
          "base_uri": "https://localhost:8080/"
        },
        "id": "2htdbHuqCjCM",
        "outputId": "a8955a87-d761-47e0-b080-6611321da0c1"
      },
      "source": [
        "rv.shape"
      ],
      "execution_count": 181,
      "outputs": [
        {
          "output_type": "execute_result",
          "data": {
            "text/plain": [
              "(2502, 8)"
            ]
          },
          "metadata": {
            "tags": []
          },
          "execution_count": 181
        }
      ]
    },
    {
      "cell_type": "code",
      "metadata": {
        "id": "gceEOcxf5XmR"
      },
      "source": [
        "rv.to_csv('long_format_data.csv', index=False)"
      ],
      "execution_count": 182,
      "outputs": []
    }
  ]
}