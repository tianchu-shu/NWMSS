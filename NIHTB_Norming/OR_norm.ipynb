{
 "cells": [
  {
   "cell_type": "code",
   "execution_count": 1,
   "id": "928c25ee",
   "metadata": {},
   "outputs": [],
   "source": [
    "#Data saved in csv/excel\n",
    "import glob, os\n",
    "import pandas as pd\n",
    "import warnings\n",
    "warnings.filterwarnings('ignore')"
   ]
  },
  {
   "cell_type": "code",
   "execution_count": 23,
   "id": "3a6b9bfb",
   "metadata": {},
   "outputs": [],
   "source": [
    "reg = pd.read_csv('C:/Users/tsb7592/Downloads/registration_data_distinct.csv',index_col=0)"
   ]
  },
  {
   "cell_type": "code",
   "execution_count": 24,
   "id": "e02ca4ac",
   "metadata": {},
   "outputs": [
    {
     "data": {
      "text/plain": [
       "(3260, 13)"
      ]
     },
     "execution_count": 24,
     "metadata": {},
     "output_type": "execute_result"
    }
   ],
   "source": [
    "reg.shape"
   ]
  },
  {
   "cell_type": "code",
   "execution_count": 34,
   "id": "14dc6f79",
   "metadata": {},
   "outputs": [],
   "source": [
    "reg.columns =['PIN', 'RegistrationID', 'DeviceID', 'Age','Education', 'MothersEducation',\n",
    "       'FathersEducation', 'GuardiansEducation','ExaminerName', 'Gender', 'Handedness',\n",
    "       'Race','Ethnicity']"
   ]
  },
  {
   "cell_type": "code",
   "execution_count": 36,
   "id": "20784067",
   "metadata": {},
   "outputs": [],
   "source": [
    "#reg.to_csv('C:/Users/tsb7592/Downloads/registration_data_distinct.csv')"
   ]
  },
  {
   "cell_type": "code",
   "execution_count": 81,
   "id": "25cf0d41",
   "metadata": {},
   "outputs": [],
   "source": [
    "orn = pd.read_csv('C:/Users/tsb7592/Downloads/OR_norm.csv', index_col=0)"
   ]
  },
  {
   "cell_type": "code",
   "execution_count": 98,
   "id": "9b269d30",
   "metadata": {},
   "outputs": [
    {
     "data": {
      "text/plain": [
       "(1081858, 11)"
      ]
     },
     "execution_count": 98,
     "metadata": {},
     "output_type": "execute_result"
    }
   ],
   "source": [
    "orn =orn.drop_duplicates()\n",
    "orn.shape"
   ]
  },
  {
   "cell_type": "code",
   "execution_count": 39,
   "id": "d0922958",
   "metadata": {},
   "outputs": [],
   "source": [
    "#Importing the FormWords\n",
    "xls =  pd.read_excel('C:/Users/tsb7592/Box/Norming Psychometrics/Data Dictionaries/R/OR/OR Forms for Norming 07.08.2020_WithWords.xlsx',sheet_name = \"Formatted_Forms\")"
   ]
  },
  {
   "cell_type": "code",
   "execution_count": 40,
   "id": "c5259261",
   "metadata": {},
   "outputs": [
    {
     "data": {
      "text/html": [
       "<div>\n",
       "<style scoped>\n",
       "    .dataframe tbody tr th:only-of-type {\n",
       "        vertical-align: middle;\n",
       "    }\n",
       "\n",
       "    .dataframe tbody tr th {\n",
       "        vertical-align: top;\n",
       "    }\n",
       "\n",
       "    .dataframe thead th {\n",
       "        text-align: right;\n",
       "    }\n",
       "</style>\n",
       "<table border=\"1\" class=\"dataframe\">\n",
       "  <thead>\n",
       "    <tr style=\"text-align: right;\">\n",
       "      <th></th>\n",
       "      <th>Form</th>\n",
       "      <th>ItemID</th>\n",
       "      <th>Vocabulary</th>\n",
       "    </tr>\n",
       "  </thead>\n",
       "  <tbody>\n",
       "    <tr>\n",
       "      <th>0</th>\n",
       "      <td>Routing_4</td>\n",
       "      <td>LARE005</td>\n",
       "      <td>C</td>\n",
       "    </tr>\n",
       "    <tr>\n",
       "      <th>1</th>\n",
       "      <td>Routing_4</td>\n",
       "      <td>LARE008</td>\n",
       "      <td>N</td>\n",
       "    </tr>\n",
       "    <tr>\n",
       "      <th>2</th>\n",
       "      <td>Routing_4</td>\n",
       "      <td>LARE021</td>\n",
       "      <td>on</td>\n",
       "    </tr>\n",
       "    <tr>\n",
       "      <th>3</th>\n",
       "      <td>Routing_4</td>\n",
       "      <td>LARE028</td>\n",
       "      <td>did</td>\n",
       "    </tr>\n",
       "    <tr>\n",
       "      <th>4</th>\n",
       "      <td>Routing_4</td>\n",
       "      <td>LARE034</td>\n",
       "      <td>box</td>\n",
       "    </tr>\n",
       "    <tr>\n",
       "      <th>...</th>\n",
       "      <td>...</td>\n",
       "      <td>...</td>\n",
       "      <td>...</td>\n",
       "    </tr>\n",
       "    <tr>\n",
       "      <th>650</th>\n",
       "      <td>Form 42</td>\n",
       "      <td>LARE263</td>\n",
       "      <td>fringillaceous</td>\n",
       "    </tr>\n",
       "    <tr>\n",
       "      <th>651</th>\n",
       "      <td>Form 42</td>\n",
       "      <td>LARE266</td>\n",
       "      <td>brobdingnagian</td>\n",
       "    </tr>\n",
       "    <tr>\n",
       "      <th>652</th>\n",
       "      <td>Form 42</td>\n",
       "      <td>LARE272</td>\n",
       "      <td>ranunculaceous</td>\n",
       "    </tr>\n",
       "    <tr>\n",
       "      <th>653</th>\n",
       "      <td>Form 42</td>\n",
       "      <td>LARE273</td>\n",
       "      <td>saxifragaceous</td>\n",
       "    </tr>\n",
       "    <tr>\n",
       "      <th>654</th>\n",
       "      <td>Form 42</td>\n",
       "      <td>LARE276</td>\n",
       "      <td>verisimilitude</td>\n",
       "    </tr>\n",
       "  </tbody>\n",
       "</table>\n",
       "<p>655 rows × 3 columns</p>\n",
       "</div>"
      ],
      "text/plain": [
       "          Form   ItemID      Vocabulary\n",
       "0    Routing_4  LARE005               C\n",
       "1    Routing_4  LARE008               N\n",
       "2    Routing_4  LARE021              on\n",
       "3    Routing_4  LARE028             did\n",
       "4    Routing_4  LARE034             box\n",
       "..         ...      ...             ...\n",
       "650    Form 42  LARE263  fringillaceous\n",
       "651    Form 42  LARE266  brobdingnagian\n",
       "652    Form 42  LARE272  ranunculaceous\n",
       "653    Form 42  LARE273  saxifragaceous\n",
       "654    Form 42  LARE276  verisimilitude\n",
       "\n",
       "[655 rows x 3 columns]"
      ]
     },
     "execution_count": 40,
     "metadata": {},
     "output_type": "execute_result"
    }
   ],
   "source": [
    "xls"
   ]
  },
  {
   "cell_type": "code",
   "execution_count": 99,
   "id": "75cac994",
   "metadata": {},
   "outputs": [],
   "source": [
    "#Change the column tpye from obeject to numeric\n",
    "data =orn[(orn.Key == 'Score')] #| (df.Key =='Response') | (df.Key == 'Position')]\n",
    "data['Value'] =pd.to_numeric(data['Value'])"
   ]
  },
  {
   "cell_type": "code",
   "execution_count": 100,
   "id": "bf23f2cc",
   "metadata": {},
   "outputs": [],
   "source": [
    "data=data.drop_duplicates()"
   ]
  },
  {
   "cell_type": "code",
   "execution_count": 101,
   "id": "b31028b0",
   "metadata": {},
   "outputs": [
    {
     "data": {
      "text/plain": [
       "(84459, 11)"
      ]
     },
     "execution_count": 101,
     "metadata": {},
     "output_type": "execute_result"
    }
   ],
   "source": [
    "data.shape"
   ]
  },
  {
   "cell_type": "code",
   "execution_count": 102,
   "id": "e5264d01",
   "metadata": {},
   "outputs": [],
   "source": [
    "data =data[data['ItemID'].str.contains(\"LARE\")]"
   ]
  },
  {
   "cell_type": "code",
   "execution_count": 103,
   "id": "e996d05c",
   "metadata": {},
   "outputs": [],
   "source": [
    "rv =pd.merge(data, xls, on='ItemID')"
   ]
  },
  {
   "cell_type": "code",
   "execution_count": 104,
   "id": "45ede852",
   "metadata": {},
   "outputs": [
    {
     "data": {
      "text/plain": [
       "(206512, 13)"
      ]
     },
     "execution_count": 104,
     "metadata": {},
     "output_type": "execute_result"
    }
   ],
   "source": [
    "rv =rv.drop_duplicates()\n",
    "rv.shape"
   ]
  },
  {
   "cell_type": "code",
   "execution_count": 105,
   "id": "1343bfe7",
   "metadata": {},
   "outputs": [],
   "source": [
    "df =pd.merge(rv, reg, on=['RegistrationID' ,'PIN','DeviceID'])"
   ]
  },
  {
   "cell_type": "code",
   "execution_count": 106,
   "id": "0775ecc5",
   "metadata": {},
   "outputs": [
    {
     "data": {
      "text/plain": [
       "(184563, 23)"
      ]
     },
     "execution_count": 106,
     "metadata": {},
     "output_type": "execute_result"
    }
   ],
   "source": [
    "df.shape"
   ]
  },
  {
   "cell_type": "code",
   "execution_count": 107,
   "id": "a17d9c40",
   "metadata": {},
   "outputs": [
    {
     "data": {
      "text/plain": [
       "3260"
      ]
     },
     "execution_count": 107,
     "metadata": {},
     "output_type": "execute_result"
    }
   ],
   "source": [
    "reg.RegistrationID.nunique()"
   ]
  },
  {
   "cell_type": "code",
   "execution_count": 108,
   "id": "1e8ecb6a",
   "metadata": {},
   "outputs": [
    {
     "data": {
      "text/html": [
       "<div>\n",
       "<style scoped>\n",
       "    .dataframe tbody tr th:only-of-type {\n",
       "        vertical-align: middle;\n",
       "    }\n",
       "\n",
       "    .dataframe tbody tr th {\n",
       "        vertical-align: top;\n",
       "    }\n",
       "\n",
       "    .dataframe thead th {\n",
       "        text-align: right;\n",
       "    }\n",
       "</style>\n",
       "<table border=\"1\" class=\"dataframe\">\n",
       "  <thead>\n",
       "    <tr style=\"text-align: right;\">\n",
       "      <th></th>\n",
       "      <th>PIN</th>\n",
       "      <th>RegistrationID</th>\n",
       "      <th>DeviceID</th>\n",
       "      <th>ResponseID</th>\n",
       "      <th>ItemID</th>\n",
       "      <th>AssessmentName</th>\n",
       "      <th>InstrumentTitle</th>\n",
       "      <th>TestName</th>\n",
       "      <th>InstrumentID</th>\n",
       "      <th>Key</th>\n",
       "      <th>...</th>\n",
       "      <th>Age</th>\n",
       "      <th>Education</th>\n",
       "      <th>MothersEducation</th>\n",
       "      <th>FathersEducation</th>\n",
       "      <th>GuardiansEducation</th>\n",
       "      <th>ExaminerName</th>\n",
       "      <th>Gender</th>\n",
       "      <th>Handedness</th>\n",
       "      <th>Race</th>\n",
       "      <th>Ethnicity</th>\n",
       "    </tr>\n",
       "  </thead>\n",
       "  <tbody>\n",
       "    <tr>\n",
       "      <th>0</th>\n",
       "      <td>MAP10001</td>\n",
       "      <td>C2D64D16-D416-4676-A23E-C200CCC15F21</td>\n",
       "      <td>49CF3CA6-E25F-4420-8E33-7099FFA052DE</td>\n",
       "      <td>CE2D4F9D-DC9C-4701-9564-38D5F11550FA</td>\n",
       "      <td>LARE135</td>\n",
       "      <td>Assessment 1</td>\n",
       "      <td>NIH Toolbox Oral Reading Recognition Test Norm...</td>\n",
       "      <td>OR_norm</td>\n",
       "      <td>3EF3780D-5464-430F-BD86-BDAFBC7A0F0F</td>\n",
       "      <td>Score</td>\n",
       "      <td>...</td>\n",
       "      <td>10.0</td>\n",
       "      <td>8.0</td>\n",
       "      <td>22.0</td>\n",
       "      <td>NaN</td>\n",
       "      <td>NaN</td>\n",
       "      <td>Vonnie g</td>\n",
       "      <td>2.0</td>\n",
       "      <td>1.0</td>\n",
       "      <td>1</td>\n",
       "      <td>1.0</td>\n",
       "    </tr>\n",
       "    <tr>\n",
       "      <th>1</th>\n",
       "      <td>MAP10001</td>\n",
       "      <td>C2D64D16-D416-4676-A23E-C200CCC15F21</td>\n",
       "      <td>49CF3CA6-E25F-4420-8E33-7099FFA052DE</td>\n",
       "      <td>CE2D4F9D-DC9C-4701-9564-38D5F11550FA</td>\n",
       "      <td>LARE135</td>\n",
       "      <td>Assessment 1</td>\n",
       "      <td>NIH Toolbox Oral Reading Recognition Test Norm...</td>\n",
       "      <td>OR_norm</td>\n",
       "      <td>3EF3780D-5464-430F-BD86-BDAFBC7A0F0F</td>\n",
       "      <td>Score</td>\n",
       "      <td>...</td>\n",
       "      <td>10.0</td>\n",
       "      <td>8.0</td>\n",
       "      <td>22.0</td>\n",
       "      <td>NaN</td>\n",
       "      <td>NaN</td>\n",
       "      <td>Vonnie g</td>\n",
       "      <td>2.0</td>\n",
       "      <td>1.0</td>\n",
       "      <td>1</td>\n",
       "      <td>1.0</td>\n",
       "    </tr>\n",
       "    <tr>\n",
       "      <th>2</th>\n",
       "      <td>MAP10001</td>\n",
       "      <td>C2D64D16-D416-4676-A23E-C200CCC15F21</td>\n",
       "      <td>49CF3CA6-E25F-4420-8E33-7099FFA052DE</td>\n",
       "      <td>0EE9F32C-ECCE-4460-BE1F-A91015DBC591</td>\n",
       "      <td>LARE198</td>\n",
       "      <td>Assessment 1</td>\n",
       "      <td>NIH Toolbox Oral Reading Recognition Test Norm...</td>\n",
       "      <td>OR_norm</td>\n",
       "      <td>3EF3780D-5464-430F-BD86-BDAFBC7A0F0F</td>\n",
       "      <td>Score</td>\n",
       "      <td>...</td>\n",
       "      <td>10.0</td>\n",
       "      <td>8.0</td>\n",
       "      <td>22.0</td>\n",
       "      <td>NaN</td>\n",
       "      <td>NaN</td>\n",
       "      <td>Vonnie g</td>\n",
       "      <td>2.0</td>\n",
       "      <td>1.0</td>\n",
       "      <td>1</td>\n",
       "      <td>1.0</td>\n",
       "    </tr>\n",
       "    <tr>\n",
       "      <th>3</th>\n",
       "      <td>MAP10001</td>\n",
       "      <td>C2D64D16-D416-4676-A23E-C200CCC15F21</td>\n",
       "      <td>49CF3CA6-E25F-4420-8E33-7099FFA052DE</td>\n",
       "      <td>0EE9F32C-ECCE-4460-BE1F-A91015DBC591</td>\n",
       "      <td>LARE198</td>\n",
       "      <td>Assessment 1</td>\n",
       "      <td>NIH Toolbox Oral Reading Recognition Test Norm...</td>\n",
       "      <td>OR_norm</td>\n",
       "      <td>3EF3780D-5464-430F-BD86-BDAFBC7A0F0F</td>\n",
       "      <td>Score</td>\n",
       "      <td>...</td>\n",
       "      <td>10.0</td>\n",
       "      <td>8.0</td>\n",
       "      <td>22.0</td>\n",
       "      <td>NaN</td>\n",
       "      <td>NaN</td>\n",
       "      <td>Vonnie g</td>\n",
       "      <td>2.0</td>\n",
       "      <td>1.0</td>\n",
       "      <td>1</td>\n",
       "      <td>1.0</td>\n",
       "    </tr>\n",
       "    <tr>\n",
       "      <th>4</th>\n",
       "      <td>MAP10001</td>\n",
       "      <td>C2D64D16-D416-4676-A23E-C200CCC15F21</td>\n",
       "      <td>49CF3CA6-E25F-4420-8E33-7099FFA052DE</td>\n",
       "      <td>0EE9F32C-ECCE-4460-BE1F-A91015DBC591</td>\n",
       "      <td>LARE198</td>\n",
       "      <td>Assessment 1</td>\n",
       "      <td>NIH Toolbox Oral Reading Recognition Test Norm...</td>\n",
       "      <td>OR_norm</td>\n",
       "      <td>3EF3780D-5464-430F-BD86-BDAFBC7A0F0F</td>\n",
       "      <td>Score</td>\n",
       "      <td>...</td>\n",
       "      <td>10.0</td>\n",
       "      <td>8.0</td>\n",
       "      <td>22.0</td>\n",
       "      <td>NaN</td>\n",
       "      <td>NaN</td>\n",
       "      <td>Vonnie g</td>\n",
       "      <td>2.0</td>\n",
       "      <td>1.0</td>\n",
       "      <td>1</td>\n",
       "      <td>1.0</td>\n",
       "    </tr>\n",
       "  </tbody>\n",
       "</table>\n",
       "<p>5 rows × 23 columns</p>\n",
       "</div>"
      ],
      "text/plain": [
       "        PIN                        RegistrationID  \\\n",
       "0  MAP10001  C2D64D16-D416-4676-A23E-C200CCC15F21   \n",
       "1  MAP10001  C2D64D16-D416-4676-A23E-C200CCC15F21   \n",
       "2  MAP10001  C2D64D16-D416-4676-A23E-C200CCC15F21   \n",
       "3  MAP10001  C2D64D16-D416-4676-A23E-C200CCC15F21   \n",
       "4  MAP10001  C2D64D16-D416-4676-A23E-C200CCC15F21   \n",
       "\n",
       "                               DeviceID                            ResponseID  \\\n",
       "0  49CF3CA6-E25F-4420-8E33-7099FFA052DE  CE2D4F9D-DC9C-4701-9564-38D5F11550FA   \n",
       "1  49CF3CA6-E25F-4420-8E33-7099FFA052DE  CE2D4F9D-DC9C-4701-9564-38D5F11550FA   \n",
       "2  49CF3CA6-E25F-4420-8E33-7099FFA052DE  0EE9F32C-ECCE-4460-BE1F-A91015DBC591   \n",
       "3  49CF3CA6-E25F-4420-8E33-7099FFA052DE  0EE9F32C-ECCE-4460-BE1F-A91015DBC591   \n",
       "4  49CF3CA6-E25F-4420-8E33-7099FFA052DE  0EE9F32C-ECCE-4460-BE1F-A91015DBC591   \n",
       "\n",
       "    ItemID AssessmentName                                    InstrumentTitle  \\\n",
       "0  LARE135   Assessment 1  NIH Toolbox Oral Reading Recognition Test Norm...   \n",
       "1  LARE135   Assessment 1  NIH Toolbox Oral Reading Recognition Test Norm...   \n",
       "2  LARE198   Assessment 1  NIH Toolbox Oral Reading Recognition Test Norm...   \n",
       "3  LARE198   Assessment 1  NIH Toolbox Oral Reading Recognition Test Norm...   \n",
       "4  LARE198   Assessment 1  NIH Toolbox Oral Reading Recognition Test Norm...   \n",
       "\n",
       "  TestName                          InstrumentID    Key  ...   Age Education  \\\n",
       "0  OR_norm  3EF3780D-5464-430F-BD86-BDAFBC7A0F0F  Score  ...  10.0       8.0   \n",
       "1  OR_norm  3EF3780D-5464-430F-BD86-BDAFBC7A0F0F  Score  ...  10.0       8.0   \n",
       "2  OR_norm  3EF3780D-5464-430F-BD86-BDAFBC7A0F0F  Score  ...  10.0       8.0   \n",
       "3  OR_norm  3EF3780D-5464-430F-BD86-BDAFBC7A0F0F  Score  ...  10.0       8.0   \n",
       "4  OR_norm  3EF3780D-5464-430F-BD86-BDAFBC7A0F0F  Score  ...  10.0       8.0   \n",
       "\n",
       "  MothersEducation  FathersEducation  GuardiansEducation  ExaminerName  \\\n",
       "0             22.0               NaN                 NaN      Vonnie g   \n",
       "1             22.0               NaN                 NaN      Vonnie g   \n",
       "2             22.0               NaN                 NaN      Vonnie g   \n",
       "3             22.0               NaN                 NaN      Vonnie g   \n",
       "4             22.0               NaN                 NaN      Vonnie g   \n",
       "\n",
       "   Gender  Handedness Race  Ethnicity  \n",
       "0     2.0         1.0    1        1.0  \n",
       "1     2.0         1.0    1        1.0  \n",
       "2     2.0         1.0    1        1.0  \n",
       "3     2.0         1.0    1        1.0  \n",
       "4     2.0         1.0    1        1.0  \n",
       "\n",
       "[5 rows x 23 columns]"
      ]
     },
     "execution_count": 108,
     "metadata": {},
     "output_type": "execute_result"
    }
   ],
   "source": [
    "df.head()"
   ]
  },
  {
   "cell_type": "code",
   "execution_count": 112,
   "id": "0a16b58f",
   "metadata": {},
   "outputs": [],
   "source": [
    "dd =df.groupby(['Form','ItemID','Vocabulary'])['Value'].mean().reset_index()"
   ]
  },
  {
   "cell_type": "code",
   "execution_count": 113,
   "id": "040e447b",
   "metadata": {},
   "outputs": [],
   "source": [
    "ct=df.groupby(['Form','ItemID','Vocabulary'])['InstrumentTitle'].count().reset_index()"
   ]
  },
  {
   "cell_type": "code",
   "execution_count": 114,
   "id": "91a3484a",
   "metadata": {},
   "outputs": [],
   "source": [
    "st=df.groupby(['Form','ItemID','Vocabulary'])['Age'].std().reset_index()"
   ]
  },
  {
   "cell_type": "code",
   "execution_count": 115,
   "id": "339d4f24",
   "metadata": {},
   "outputs": [],
   "source": [
    "age =df.groupby(['Form','ItemID','Vocabulary'])['Age'].mean().reset_index()"
   ]
  },
  {
   "cell_type": "code",
   "execution_count": 119,
   "id": "1e4f8095",
   "metadata": {},
   "outputs": [],
   "source": [
    "result =pd.merge(dd, ct, on=['Form','ItemID','Vocabulary'])\n",
    "result =pd.merge(result, age, on=['Form','ItemID','Vocabulary'])\n",
    "result =pd.merge(result, st, on=['Form','ItemID','Vocabulary'])"
   ]
  },
  {
   "cell_type": "code",
   "execution_count": 122,
   "id": "7003339d",
   "metadata": {},
   "outputs": [
    {
     "data": {
      "text/html": [
       "<div>\n",
       "<style scoped>\n",
       "    .dataframe tbody tr th:only-of-type {\n",
       "        vertical-align: middle;\n",
       "    }\n",
       "\n",
       "    .dataframe tbody tr th {\n",
       "        vertical-align: top;\n",
       "    }\n",
       "\n",
       "    .dataframe thead th {\n",
       "        text-align: right;\n",
       "    }\n",
       "</style>\n",
       "<table border=\"1\" class=\"dataframe\">\n",
       "  <thead>\n",
       "    <tr style=\"text-align: right;\">\n",
       "      <th></th>\n",
       "      <th>Form</th>\n",
       "      <th>ItemID</th>\n",
       "      <th>Vocabulary</th>\n",
       "      <th>Proportion_Correct</th>\n",
       "      <th>N</th>\n",
       "      <th>MeanAge</th>\n",
       "      <th>SDAge</th>\n",
       "    </tr>\n",
       "  </thead>\n",
       "  <tbody>\n",
       "    <tr>\n",
       "      <th>0</th>\n",
       "      <td>Form 10</td>\n",
       "      <td>LARE026</td>\n",
       "      <td>all</td>\n",
       "      <td>0.500000</td>\n",
       "      <td>76</td>\n",
       "      <td>5.776316</td>\n",
       "      <td>0.974319</td>\n",
       "    </tr>\n",
       "    <tr>\n",
       "      <th>1</th>\n",
       "      <td>Form 10</td>\n",
       "      <td>LARE030</td>\n",
       "      <td>art</td>\n",
       "      <td>0.489130</td>\n",
       "      <td>92</td>\n",
       "      <td>6.315217</td>\n",
       "      <td>1.157198</td>\n",
       "    </tr>\n",
       "    <tr>\n",
       "      <th>2</th>\n",
       "      <td>Form 10</td>\n",
       "      <td>LARE033</td>\n",
       "      <td>sir</td>\n",
       "      <td>0.732484</td>\n",
       "      <td>157</td>\n",
       "      <td>8.576923</td>\n",
       "      <td>5.719281</td>\n",
       "    </tr>\n",
       "    <tr>\n",
       "      <th>3</th>\n",
       "      <td>Form 10</td>\n",
       "      <td>LARE036</td>\n",
       "      <td>fly</td>\n",
       "      <td>0.655738</td>\n",
       "      <td>61</td>\n",
       "      <td>6.262295</td>\n",
       "      <td>1.263614</td>\n",
       "    </tr>\n",
       "    <tr>\n",
       "      <th>4</th>\n",
       "      <td>Form 10</td>\n",
       "      <td>LARE044</td>\n",
       "      <td>this</td>\n",
       "      <td>0.422535</td>\n",
       "      <td>71</td>\n",
       "      <td>5.633803</td>\n",
       "      <td>1.017552</td>\n",
       "    </tr>\n",
       "    <tr>\n",
       "      <th>...</th>\n",
       "      <td>...</td>\n",
       "      <td>...</td>\n",
       "      <td>...</td>\n",
       "      <td>...</td>\n",
       "      <td>...</td>\n",
       "      <td>...</td>\n",
       "      <td>...</td>\n",
       "    </tr>\n",
       "    <tr>\n",
       "      <th>650</th>\n",
       "      <td>Routing_BachPlus</td>\n",
       "      <td>LARE177</td>\n",
       "      <td>credulous</td>\n",
       "      <td>0.826033</td>\n",
       "      <td>799</td>\n",
       "      <td>47.654135</td>\n",
       "      <td>20.346020</td>\n",
       "    </tr>\n",
       "    <tr>\n",
       "      <th>651</th>\n",
       "      <td>Routing_BachPlus</td>\n",
       "      <td>LARE198</td>\n",
       "      <td>nonchalant</td>\n",
       "      <td>0.785892</td>\n",
       "      <td>2410</td>\n",
       "      <td>31.274200</td>\n",
       "      <td>22.428079</td>\n",
       "    </tr>\n",
       "    <tr>\n",
       "      <th>652</th>\n",
       "      <td>Routing_BachPlus</td>\n",
       "      <td>LARE205</td>\n",
       "      <td>circuitous</td>\n",
       "      <td>0.335419</td>\n",
       "      <td>799</td>\n",
       "      <td>47.654135</td>\n",
       "      <td>20.346020</td>\n",
       "    </tr>\n",
       "    <tr>\n",
       "      <th>653</th>\n",
       "      <td>Routing_BachPlus</td>\n",
       "      <td>LARE251</td>\n",
       "      <td>recrudescence</td>\n",
       "      <td>0.305219</td>\n",
       "      <td>2395</td>\n",
       "      <td>31.431020</td>\n",
       "      <td>22.410159</td>\n",
       "    </tr>\n",
       "    <tr>\n",
       "      <th>654</th>\n",
       "      <td>Routing_BachPlus</td>\n",
       "      <td>LARE264</td>\n",
       "      <td>reconnaissance</td>\n",
       "      <td>0.525459</td>\n",
       "      <td>2396</td>\n",
       "      <td>31.422482</td>\n",
       "      <td>22.409367</td>\n",
       "    </tr>\n",
       "  </tbody>\n",
       "</table>\n",
       "<p>655 rows × 7 columns</p>\n",
       "</div>"
      ],
      "text/plain": [
       "                 Form   ItemID      Vocabulary  Proportion_Correct     N  \\\n",
       "0             Form 10  LARE026             all            0.500000    76   \n",
       "1             Form 10  LARE030             art            0.489130    92   \n",
       "2             Form 10  LARE033             sir            0.732484   157   \n",
       "3             Form 10  LARE036             fly            0.655738    61   \n",
       "4             Form 10  LARE044            this            0.422535    71   \n",
       "..                ...      ...             ...                 ...   ...   \n",
       "650  Routing_BachPlus  LARE177       credulous            0.826033   799   \n",
       "651  Routing_BachPlus  LARE198      nonchalant            0.785892  2410   \n",
       "652  Routing_BachPlus  LARE205      circuitous            0.335419   799   \n",
       "653  Routing_BachPlus  LARE251   recrudescence            0.305219  2395   \n",
       "654  Routing_BachPlus  LARE264  reconnaissance            0.525459  2396   \n",
       "\n",
       "       MeanAge      SDAge  \n",
       "0     5.776316   0.974319  \n",
       "1     6.315217   1.157198  \n",
       "2     8.576923   5.719281  \n",
       "3     6.262295   1.263614  \n",
       "4     5.633803   1.017552  \n",
       "..         ...        ...  \n",
       "650  47.654135  20.346020  \n",
       "651  31.274200  22.428079  \n",
       "652  47.654135  20.346020  \n",
       "653  31.431020  22.410159  \n",
       "654  31.422482  22.409367  \n",
       "\n",
       "[655 rows x 7 columns]"
      ]
     },
     "execution_count": 122,
     "metadata": {},
     "output_type": "execute_result"
    }
   ],
   "source": [
    "result"
   ]
  },
  {
   "cell_type": "code",
   "execution_count": 121,
   "id": "2dfd54f8",
   "metadata": {},
   "outputs": [],
   "source": [
    "result.columns=['Form', 'ItemID', 'Vocabulary', 'Proportion_Correct', 'N','MeanAge','SDAge']"
   ]
  },
  {
   "cell_type": "code",
   "execution_count": 123,
   "id": "24fd56ff",
   "metadata": {},
   "outputs": [],
   "source": [
    "result.to_csv('C:/Users/tsb7592/Downloads/OR_routingform_withage.csv', index=False)"
   ]
  },
  {
   "cell_type": "code",
   "execution_count": null,
   "id": "2cbecb9a",
   "metadata": {},
   "outputs": [],
   "source": []
  }
 ],
 "metadata": {
  "kernelspec": {
   "display_name": "Python 3",
   "language": "python",
   "name": "python3"
  },
  "language_info": {
   "codemirror_mode": {
    "name": "ipython",
    "version": 3
   },
   "file_extension": ".py",
   "mimetype": "text/x-python",
   "name": "python",
   "nbconvert_exporter": "python",
   "pygments_lexer": "ipython3",
   "version": "3.8.8"
  }
 },
 "nbformat": 4,
 "nbformat_minor": 5
}
