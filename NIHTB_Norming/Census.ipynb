{
 "cells": [
  {
   "cell_type": "code",
   "execution_count": 1,
   "id": "928c25ee",
   "metadata": {},
   "outputs": [],
   "source": [
    "#Data saved in csv/excel\n",
    "import glob, os\n",
    "import pandas as pd\n",
    "import warnings\n",
    "warnings.filterwarnings('ignore')"
   ]
  },
  {
   "cell_type": "code",
   "execution_count": 51,
   "id": "25cf0d41",
   "metadata": {},
   "outputs": [],
   "source": [
    "df = pd.read_csv('C:/Users/tsb7592/OneDrive - Northwestern University/Documents/sum_by_region.csv', index_col=0)"
   ]
  },
  {
   "cell_type": "code",
   "execution_count": 52,
   "id": "00892824",
   "metadata": {},
   "outputs": [
    {
     "data": {
      "text/html": [
       "<div>\n",
       "<style scoped>\n",
       "    .dataframe tbody tr th:only-of-type {\n",
       "        vertical-align: middle;\n",
       "    }\n",
       "\n",
       "    .dataframe tbody tr th {\n",
       "        vertical-align: top;\n",
       "    }\n",
       "\n",
       "    .dataframe thead th {\n",
       "        text-align: right;\n",
       "    }\n",
       "</style>\n",
       "<table border=\"1\" class=\"dataframe\">\n",
       "  <thead>\n",
       "    <tr style=\"text-align: right;\">\n",
       "      <th></th>\n",
       "      <th>P0010001</th>\n",
       "      <th>P0010002</th>\n",
       "      <th>P0010003</th>\n",
       "      <th>P0010004</th>\n",
       "      <th>P0010005</th>\n",
       "      <th>P0010006</th>\n",
       "      <th>P0010007</th>\n",
       "      <th>P0010008</th>\n",
       "      <th>P0010009</th>\n",
       "      <th>P0010010</th>\n",
       "      <th>...</th>\n",
       "      <th>P0040064</th>\n",
       "      <th>P0040065</th>\n",
       "      <th>P0040066</th>\n",
       "      <th>P0040067</th>\n",
       "      <th>P0040068</th>\n",
       "      <th>P0040069</th>\n",
       "      <th>P0040070</th>\n",
       "      <th>P0040071</th>\n",
       "      <th>P0040072</th>\n",
       "      <th>P0040073</th>\n",
       "    </tr>\n",
       "    <tr>\n",
       "      <th>REGION</th>\n",
       "      <th></th>\n",
       "      <th></th>\n",
       "      <th></th>\n",
       "      <th></th>\n",
       "      <th></th>\n",
       "      <th></th>\n",
       "      <th></th>\n",
       "      <th></th>\n",
       "      <th></th>\n",
       "      <th></th>\n",
       "      <th></th>\n",
       "      <th></th>\n",
       "      <th></th>\n",
       "      <th></th>\n",
       "      <th></th>\n",
       "      <th></th>\n",
       "      <th></th>\n",
       "      <th></th>\n",
       "      <th></th>\n",
       "      <th></th>\n",
       "      <th></th>\n",
       "    </tr>\n",
       "  </thead>\n",
       "  <tbody>\n",
       "    <tr>\n",
       "      <th>1</th>\n",
       "      <td>57609148</td>\n",
       "      <td>52940664</td>\n",
       "      <td>37111396</td>\n",
       "      <td>6628896</td>\n",
       "      <td>292587</td>\n",
       "      <td>4177286</td>\n",
       "      <td>24136</td>\n",
       "      <td>4706363</td>\n",
       "      <td>4668484</td>\n",
       "      <td>4376995</td>\n",
       "      <td>...</td>\n",
       "      <td>37</td>\n",
       "      <td>1027</td>\n",
       "      <td>576</td>\n",
       "      <td>339</td>\n",
       "      <td>31</td>\n",
       "      <td>30</td>\n",
       "      <td>24</td>\n",
       "      <td>27</td>\n",
       "      <td>149</td>\n",
       "      <td>149</td>\n",
       "    </tr>\n",
       "    <tr>\n",
       "      <th>2</th>\n",
       "      <td>68985454</td>\n",
       "      <td>64276073</td>\n",
       "      <td>51353019</td>\n",
       "      <td>7228615</td>\n",
       "      <td>559397</td>\n",
       "      <td>2405457</td>\n",
       "      <td>42741</td>\n",
       "      <td>2686844</td>\n",
       "      <td>4709381</td>\n",
       "      <td>4453530</td>\n",
       "      <td>...</td>\n",
       "      <td>22</td>\n",
       "      <td>1003</td>\n",
       "      <td>605</td>\n",
       "      <td>279</td>\n",
       "      <td>29</td>\n",
       "      <td>39</td>\n",
       "      <td>20</td>\n",
       "      <td>31</td>\n",
       "      <td>153</td>\n",
       "      <td>153</td>\n",
       "    </tr>\n",
       "    <tr>\n",
       "      <th>3</th>\n",
       "      <td>126266107</td>\n",
       "      <td>112400612</td>\n",
       "      <td>73886732</td>\n",
       "      <td>23582989</td>\n",
       "      <td>1145140</td>\n",
       "      <td>4818076</td>\n",
       "      <td>115582</td>\n",
       "      <td>8852093</td>\n",
       "      <td>13865495</td>\n",
       "      <td>13247383</td>\n",
       "      <td>...</td>\n",
       "      <td>33</td>\n",
       "      <td>2377</td>\n",
       "      <td>1221</td>\n",
       "      <td>819</td>\n",
       "      <td>94</td>\n",
       "      <td>103</td>\n",
       "      <td>47</td>\n",
       "      <td>93</td>\n",
       "      <td>284</td>\n",
       "      <td>284</td>\n",
       "    </tr>\n",
       "    <tr>\n",
       "      <th>4</th>\n",
       "      <td>78588572</td>\n",
       "      <td>67982989</td>\n",
       "      <td>41926126</td>\n",
       "      <td>3663700</td>\n",
       "      <td>1730011</td>\n",
       "      <td>8485230</td>\n",
       "      <td>507507</td>\n",
       "      <td>11670415</td>\n",
       "      <td>10605583</td>\n",
       "      <td>9812431</td>\n",
       "      <td>...</td>\n",
       "      <td>32</td>\n",
       "      <td>1978</td>\n",
       "      <td>1173</td>\n",
       "      <td>527</td>\n",
       "      <td>84</td>\n",
       "      <td>93</td>\n",
       "      <td>79</td>\n",
       "      <td>22</td>\n",
       "      <td>222</td>\n",
       "      <td>222</td>\n",
       "    </tr>\n",
       "  </tbody>\n",
       "</table>\n",
       "<p>4 rows × 288 columns</p>\n",
       "</div>"
      ],
      "text/plain": [
       "         P0010001   P0010002  P0010003  P0010004  P0010005  P0010006  \\\n",
       "REGION                                                                 \n",
       "1        57609148   52940664  37111396   6628896    292587   4177286   \n",
       "2        68985454   64276073  51353019   7228615    559397   2405457   \n",
       "3       126266107  112400612  73886732  23582989   1145140   4818076   \n",
       "4        78588572   67982989  41926126   3663700   1730011   8485230   \n",
       "\n",
       "        P0010007  P0010008  P0010009  P0010010  ...  P0040064  P0040065  \\\n",
       "REGION                                          ...                       \n",
       "1          24136   4706363   4668484   4376995  ...        37      1027   \n",
       "2          42741   2686844   4709381   4453530  ...        22      1003   \n",
       "3         115582   8852093  13865495  13247383  ...        33      2377   \n",
       "4         507507  11670415  10605583   9812431  ...        32      1978   \n",
       "\n",
       "        P0040066  P0040067  P0040068  P0040069  P0040070  P0040071  P0040072  \\\n",
       "REGION                                                                         \n",
       "1            576       339        31        30        24        27       149   \n",
       "2            605       279        29        39        20        31       153   \n",
       "3           1221       819        94       103        47        93       284   \n",
       "4           1173       527        84        93        79        22       222   \n",
       "\n",
       "        P0040073  \n",
       "REGION            \n",
       "1            149  \n",
       "2            153  \n",
       "3            284  \n",
       "4            222  \n",
       "\n",
       "[4 rows x 288 columns]"
      ]
     },
     "execution_count": 52,
     "metadata": {},
     "output_type": "execute_result"
    }
   ],
   "source": [
    "df.head()"
   ]
  },
  {
   "cell_type": "markdown",
   "id": "62285d79",
   "metadata": {},
   "source": [
    "# Fully-Adjusted norms (adults only)"
   ]
  },
  {
   "cell_type": "code",
   "execution_count": 53,
   "id": "97238f84",
   "metadata": {},
   "outputs": [],
   "source": [
    "df['OtherSingleRace']=df['P0040003']-df['P0040005']-df['P0040006']-df['P0040008']"
   ]
  },
  {
   "cell_type": "code",
   "execution_count": 54,
   "id": "a32697a0",
   "metadata": {},
   "outputs": [
    {
     "data": {
      "text/plain": [
       "REGION\n",
       "1     940307\n",
       "2    1179465\n",
       "3    2166743\n",
       "4    1570264\n",
       "Name: Multi, dtype: int64"
      ]
     },
     "execution_count": 54,
     "metadata": {},
     "output_type": "execute_result"
    }
   ],
   "source": [
    "#P0040011  P4-11: Population of two or more races\n",
    "df['Multi']=df['P0040011']-df['P0040013']-df['P0040015']-df['P0040019']\n",
    "df['Multi']"
   ]
  },
  {
   "cell_type": "code",
   "execution_count": 55,
   "id": "b623eb19",
   "metadata": {},
   "outputs": [],
   "source": [
    "perc = ['P0040002','P0040005','P0040006','P0040008','OtherSingleRace','P0040013','P0040015','P0040019','Multi']"
   ]
  },
  {
   "cell_type": "code",
   "execution_count": 56,
   "id": "d50f5566",
   "metadata": {},
   "outputs": [],
   "source": [
    "li = []\n",
    "for col in perc:\n",
    "    li.append(df[col])"
   ]
  },
  {
   "cell_type": "code",
   "execution_count": 162,
   "id": "c47f470e",
   "metadata": {},
   "outputs": [],
   "source": [
    "ad = pd.concat(li, axis =1)"
   ]
  },
  {
   "cell_type": "code",
   "execution_count": 163,
   "id": "6e704786",
   "metadata": {},
   "outputs": [],
   "source": [
    "ad.columns =['Hispanic', 'White', 'Black', 'Asian',\n",
    "       'OtherSingleRace', 'White/Black', 'White/Asian', 'Black/Asian', 'Multi']"
   ]
  },
  {
   "cell_type": "code",
   "execution_count": 164,
   "id": "eb0c6515",
   "metadata": {},
   "outputs": [],
   "source": [
    "ad[\"sum\"] = ad.sum(axis=1)"
   ]
  },
  {
   "cell_type": "code",
   "execution_count": 165,
   "id": "600ffb35",
   "metadata": {},
   "outputs": [],
   "source": [
    "ad.loc['Total',:]= ad.sum(axis=0)"
   ]
  },
  {
   "cell_type": "code",
   "execution_count": 166,
   "id": "dfb1c364",
   "metadata": {},
   "outputs": [
    {
     "data": {
      "text/html": [
       "<div>\n",
       "<style scoped>\n",
       "    .dataframe tbody tr th:only-of-type {\n",
       "        vertical-align: middle;\n",
       "    }\n",
       "\n",
       "    .dataframe tbody tr th {\n",
       "        vertical-align: top;\n",
       "    }\n",
       "\n",
       "    .dataframe thead th {\n",
       "        text-align: right;\n",
       "    }\n",
       "</style>\n",
       "<table border=\"1\" class=\"dataframe\">\n",
       "  <thead>\n",
       "    <tr style=\"text-align: right;\">\n",
       "      <th></th>\n",
       "      <th>Hispanic</th>\n",
       "      <th>White</th>\n",
       "      <th>Black</th>\n",
       "      <th>Asian</th>\n",
       "      <th>OtherSingleRace</th>\n",
       "      <th>White/Black</th>\n",
       "      <th>White/Asian</th>\n",
       "      <th>Black/Asian</th>\n",
       "      <th>Multi</th>\n",
       "      <th>sum</th>\n",
       "    </tr>\n",
       "    <tr>\n",
       "      <th>REGION</th>\n",
       "      <th></th>\n",
       "      <th></th>\n",
       "      <th></th>\n",
       "      <th></th>\n",
       "      <th></th>\n",
       "      <th></th>\n",
       "      <th></th>\n",
       "      <th></th>\n",
       "      <th></th>\n",
       "      <th></th>\n",
       "    </tr>\n",
       "  </thead>\n",
       "  <tbody>\n",
       "    <tr>\n",
       "      <th>1</th>\n",
       "      <td>6312903.0</td>\n",
       "      <td>29644537.0</td>\n",
       "      <td>4822350.0</td>\n",
       "      <td>3313046.0</td>\n",
       "      <td>1805948.0</td>\n",
       "      <td>216745.0</td>\n",
       "      <td>196652.0</td>\n",
       "      <td>24365.0</td>\n",
       "      <td>940307.0</td>\n",
       "      <td>47276853.0</td>\n",
       "    </tr>\n",
       "    <tr>\n",
       "      <th>2</th>\n",
       "      <td>3941368.0</td>\n",
       "      <td>40350047.0</td>\n",
       "      <td>5248913.0</td>\n",
       "      <td>1836239.0</td>\n",
       "      <td>2135484.0</td>\n",
       "      <td>283188.0</td>\n",
       "      <td>194311.0</td>\n",
       "      <td>13500.0</td>\n",
       "      <td>1179465.0</td>\n",
       "      <td>55182515.0</td>\n",
       "    </tr>\n",
       "    <tr>\n",
       "      <th>3</th>\n",
       "      <td>16552267.0</td>\n",
       "      <td>56049578.0</td>\n",
       "      <td>17484044.0</td>\n",
       "      <td>3720652.0</td>\n",
       "      <td>4097773.0</td>\n",
       "      <td>511482.0</td>\n",
       "      <td>374643.0</td>\n",
       "      <td>51816.0</td>\n",
       "      <td>2166743.0</td>\n",
       "      <td>101008998.0</td>\n",
       "    </tr>\n",
       "    <tr>\n",
       "      <th>4</th>\n",
       "      <td>16516254.0</td>\n",
       "      <td>31074411.0</td>\n",
       "      <td>2710773.0</td>\n",
       "      <td>6843803.0</td>\n",
       "      <td>3882891.0</td>\n",
       "      <td>271445.0</td>\n",
       "      <td>595506.0</td>\n",
       "      <td>41365.0</td>\n",
       "      <td>1570264.0</td>\n",
       "      <td>63506712.0</td>\n",
       "    </tr>\n",
       "    <tr>\n",
       "      <th>Total</th>\n",
       "      <td>43322792.0</td>\n",
       "      <td>157118573.0</td>\n",
       "      <td>30266080.0</td>\n",
       "      <td>15713740.0</td>\n",
       "      <td>11922096.0</td>\n",
       "      <td>1282860.0</td>\n",
       "      <td>1361112.0</td>\n",
       "      <td>131046.0</td>\n",
       "      <td>5856779.0</td>\n",
       "      <td>266975078.0</td>\n",
       "    </tr>\n",
       "  </tbody>\n",
       "</table>\n",
       "</div>"
      ],
      "text/plain": [
       "          Hispanic        White       Black       Asian  OtherSingleRace  \\\n",
       "REGION                                                                     \n",
       "1        6312903.0   29644537.0   4822350.0   3313046.0        1805948.0   \n",
       "2        3941368.0   40350047.0   5248913.0   1836239.0        2135484.0   \n",
       "3       16552267.0   56049578.0  17484044.0   3720652.0        4097773.0   \n",
       "4       16516254.0   31074411.0   2710773.0   6843803.0        3882891.0   \n",
       "Total   43322792.0  157118573.0  30266080.0  15713740.0       11922096.0   \n",
       "\n",
       "        White/Black  White/Asian  Black/Asian      Multi          sum  \n",
       "REGION                                                                 \n",
       "1          216745.0     196652.0      24365.0   940307.0   47276853.0  \n",
       "2          283188.0     194311.0      13500.0  1179465.0   55182515.0  \n",
       "3          511482.0     374643.0      51816.0  2166743.0  101008998.0  \n",
       "4          271445.0     595506.0      41365.0  1570264.0   63506712.0  \n",
       "Total     1282860.0    1361112.0     131046.0  5856779.0  266975078.0  "
      ]
     },
     "execution_count": 166,
     "metadata": {},
     "output_type": "execute_result"
    }
   ],
   "source": [
    "ad"
   ]
  },
  {
   "cell_type": "code",
   "execution_count": 171,
   "id": "e49c2edc",
   "metadata": {},
   "outputs": [],
   "source": [
    "ad=ad.div(ad.loc['Total','sum'])"
   ]
  },
  {
   "cell_type": "code",
   "execution_count": 172,
   "id": "04c79ed9",
   "metadata": {},
   "outputs": [
    {
     "data": {
      "text/html": [
       "<div>\n",
       "<style scoped>\n",
       "    .dataframe tbody tr th:only-of-type {\n",
       "        vertical-align: middle;\n",
       "    }\n",
       "\n",
       "    .dataframe tbody tr th {\n",
       "        vertical-align: top;\n",
       "    }\n",
       "\n",
       "    .dataframe thead th {\n",
       "        text-align: right;\n",
       "    }\n",
       "</style>\n",
       "<table border=\"1\" class=\"dataframe\">\n",
       "  <thead>\n",
       "    <tr style=\"text-align: right;\">\n",
       "      <th></th>\n",
       "      <th>Hispanic</th>\n",
       "      <th>White</th>\n",
       "      <th>Black</th>\n",
       "      <th>Asian</th>\n",
       "      <th>OtherSingleRace</th>\n",
       "      <th>White/Black</th>\n",
       "      <th>White/Asian</th>\n",
       "      <th>Black/Asian</th>\n",
       "      <th>Multi</th>\n",
       "      <th>sum</th>\n",
       "    </tr>\n",
       "    <tr>\n",
       "      <th>REGION</th>\n",
       "      <th></th>\n",
       "      <th></th>\n",
       "      <th></th>\n",
       "      <th></th>\n",
       "      <th></th>\n",
       "      <th></th>\n",
       "      <th></th>\n",
       "      <th></th>\n",
       "      <th></th>\n",
       "      <th></th>\n",
       "    </tr>\n",
       "  </thead>\n",
       "  <tbody>\n",
       "    <tr>\n",
       "      <th>1</th>\n",
       "      <td>0.023646</td>\n",
       "      <td>0.111039</td>\n",
       "      <td>0.018063</td>\n",
       "      <td>0.012410</td>\n",
       "      <td>0.006764</td>\n",
       "      <td>0.000812</td>\n",
       "      <td>0.000737</td>\n",
       "      <td>0.000091</td>\n",
       "      <td>0.003522</td>\n",
       "      <td>0.177083</td>\n",
       "    </tr>\n",
       "    <tr>\n",
       "      <th>2</th>\n",
       "      <td>0.014763</td>\n",
       "      <td>0.151138</td>\n",
       "      <td>0.019661</td>\n",
       "      <td>0.006878</td>\n",
       "      <td>0.007999</td>\n",
       "      <td>0.001061</td>\n",
       "      <td>0.000728</td>\n",
       "      <td>0.000051</td>\n",
       "      <td>0.004418</td>\n",
       "      <td>0.206695</td>\n",
       "    </tr>\n",
       "    <tr>\n",
       "      <th>3</th>\n",
       "      <td>0.061999</td>\n",
       "      <td>0.209943</td>\n",
       "      <td>0.065489</td>\n",
       "      <td>0.013936</td>\n",
       "      <td>0.015349</td>\n",
       "      <td>0.001916</td>\n",
       "      <td>0.001403</td>\n",
       "      <td>0.000194</td>\n",
       "      <td>0.008116</td>\n",
       "      <td>0.378346</td>\n",
       "    </tr>\n",
       "    <tr>\n",
       "      <th>4</th>\n",
       "      <td>0.061864</td>\n",
       "      <td>0.116394</td>\n",
       "      <td>0.010154</td>\n",
       "      <td>0.025635</td>\n",
       "      <td>0.014544</td>\n",
       "      <td>0.001017</td>\n",
       "      <td>0.002231</td>\n",
       "      <td>0.000155</td>\n",
       "      <td>0.005882</td>\n",
       "      <td>0.237875</td>\n",
       "    </tr>\n",
       "    <tr>\n",
       "      <th>Total</th>\n",
       "      <td>0.162273</td>\n",
       "      <td>0.588514</td>\n",
       "      <td>0.113367</td>\n",
       "      <td>0.058858</td>\n",
       "      <td>0.044656</td>\n",
       "      <td>0.004805</td>\n",
       "      <td>0.005098</td>\n",
       "      <td>0.000491</td>\n",
       "      <td>0.021938</td>\n",
       "      <td>1.000000</td>\n",
       "    </tr>\n",
       "  </tbody>\n",
       "</table>\n",
       "</div>"
      ],
      "text/plain": [
       "        Hispanic     White     Black     Asian  OtherSingleRace  White/Black  \\\n",
       "REGION                                                                         \n",
       "1       0.023646  0.111039  0.018063  0.012410         0.006764     0.000812   \n",
       "2       0.014763  0.151138  0.019661  0.006878         0.007999     0.001061   \n",
       "3       0.061999  0.209943  0.065489  0.013936         0.015349     0.001916   \n",
       "4       0.061864  0.116394  0.010154  0.025635         0.014544     0.001017   \n",
       "Total   0.162273  0.588514  0.113367  0.058858         0.044656     0.004805   \n",
       "\n",
       "        White/Asian  Black/Asian     Multi       sum  \n",
       "REGION                                                \n",
       "1          0.000737     0.000091  0.003522  0.177083  \n",
       "2          0.000728     0.000051  0.004418  0.206695  \n",
       "3          0.001403     0.000194  0.008116  0.378346  \n",
       "4          0.002231     0.000155  0.005882  0.237875  \n",
       "Total      0.005098     0.000491  0.021938  1.000000  "
      ]
     },
     "execution_count": 172,
     "metadata": {},
     "output_type": "execute_result"
    }
   ],
   "source": [
    "ad"
   ]
  },
  {
   "cell_type": "markdown",
   "id": "3de0fbd4",
   "metadata": {},
   "source": [
    "# Age-based norms(separate weights for kids and adults given self- vs. parent-education)"
   ]
  },
  {
   "cell_type": "code",
   "execution_count": 67,
   "id": "515531a8",
   "metadata": {},
   "outputs": [],
   "source": [
    "perc18 = ['P0020002','P0020005','P0020006','P0020008','AllSingleRace','P0020013','P0020015','P0020019','AllMulti']"
   ]
  },
  {
   "cell_type": "code",
   "execution_count": 68,
   "id": "343c850b",
   "metadata": {},
   "outputs": [],
   "source": [
    "df['AllSingleRace']=df['P0020003']-df['P0020005']-df['P0020006']-df['P0020008']"
   ]
  },
  {
   "cell_type": "code",
   "execution_count": 69,
   "id": "99e0665d",
   "metadata": {},
   "outputs": [
    {
     "data": {
      "text/plain": [
       "REGION\n",
       "1    1267149\n",
       "2    1646414\n",
       "3    2940600\n",
       "4    2167008\n",
       "Name: AllMulti, dtype: int64"
      ]
     },
     "execution_count": 69,
     "metadata": {},
     "output_type": "execute_result"
    }
   ],
   "source": [
    "#P0040011  P4-11: Population of two or more races\n",
    "df['AllMulti']=df['P0020011']-df['P0020013']-df['P0020015']-df['P0020019']\n",
    "df['AllMulti']"
   ]
  },
  {
   "cell_type": "code",
   "execution_count": 70,
   "id": "0d508606",
   "metadata": {},
   "outputs": [],
   "source": [
    "kids =[ 'Hispanic', 'White', 'Black', 'Asian',\n",
    "       'OtherSingleRace', 'White/Black', 'White/Asian', 'Black/Asian', 'Multi']"
   ]
  },
  {
   "cell_type": "code",
   "execution_count": 173,
   "id": "10fce5a0",
   "metadata": {},
   "outputs": [],
   "source": [
    "kcol = []\n",
    "for i in kids:\n",
    "    i += '_kids'\n",
    "    kcol.append(i)"
   ]
  },
  {
   "cell_type": "code",
   "execution_count": 174,
   "id": "4d7fb716",
   "metadata": {},
   "outputs": [],
   "source": [
    "for i in range(len(perc)):\n",
    "    df[kcol[i]] = df[perc18[i]]-df[perc[i] ]"
   ]
  },
  {
   "cell_type": "code",
   "execution_count": 175,
   "id": "c93572c7",
   "metadata": {},
   "outputs": [],
   "source": [
    "kd=df[kcol]"
   ]
  },
  {
   "cell_type": "code",
   "execution_count": 176,
   "id": "a2c5bed6",
   "metadata": {},
   "outputs": [],
   "source": [
    "kd[\"sum\"] = kd.sum(axis=1)"
   ]
  },
  {
   "cell_type": "code",
   "execution_count": 177,
   "id": "6b117b7b",
   "metadata": {},
   "outputs": [],
   "source": [
    "kd.loc['Total',:]= kd.sum(axis=0)"
   ]
  },
  {
   "cell_type": "code",
   "execution_count": 179,
   "id": "7bc83c21",
   "metadata": {},
   "outputs": [],
   "source": [
    "kd=kd.div(kd.loc['Total','sum'])"
   ]
  },
  {
   "cell_type": "code",
   "execution_count": 180,
   "id": "fdaca338",
   "metadata": {},
   "outputs": [
    {
     "data": {
      "text/html": [
       "<div>\n",
       "<style scoped>\n",
       "    .dataframe tbody tr th:only-of-type {\n",
       "        vertical-align: middle;\n",
       "    }\n",
       "\n",
       "    .dataframe tbody tr th {\n",
       "        vertical-align: top;\n",
       "    }\n",
       "\n",
       "    .dataframe thead th {\n",
       "        text-align: right;\n",
       "    }\n",
       "</style>\n",
       "<table border=\"1\" class=\"dataframe\">\n",
       "  <thead>\n",
       "    <tr style=\"text-align: right;\">\n",
       "      <th></th>\n",
       "      <th>Hispanic_kids</th>\n",
       "      <th>White_kids</th>\n",
       "      <th>Black_kids</th>\n",
       "      <th>Asian_kids</th>\n",
       "      <th>OtherSingleRace_kids</th>\n",
       "      <th>White/Black_kids</th>\n",
       "      <th>White/Asian_kids</th>\n",
       "      <th>Black/Asian_kids</th>\n",
       "      <th>Multi_kids</th>\n",
       "      <th>sum</th>\n",
       "    </tr>\n",
       "    <tr>\n",
       "      <th>REGION</th>\n",
       "      <th></th>\n",
       "      <th></th>\n",
       "      <th></th>\n",
       "      <th></th>\n",
       "      <th></th>\n",
       "      <th></th>\n",
       "      <th></th>\n",
       "      <th></th>\n",
       "      <th></th>\n",
       "      <th></th>\n",
       "    </tr>\n",
       "  </thead>\n",
       "  <tbody>\n",
       "    <tr>\n",
       "      <th>1</th>\n",
       "      <td>0.031811</td>\n",
       "      <td>0.078290</td>\n",
       "      <td>0.017759</td>\n",
       "      <td>0.010642</td>\n",
       "      <td>0.011587</td>\n",
       "      <td>0.002781</td>\n",
       "      <td>0.002332</td>\n",
       "      <td>0.000174</td>\n",
       "      <td>0.004189</td>\n",
       "      <td>0.159564</td>\n",
       "    </tr>\n",
       "    <tr>\n",
       "      <th>2</th>\n",
       "      <td>0.026113</td>\n",
       "      <td>0.124739</td>\n",
       "      <td>0.023873</td>\n",
       "      <td>0.007042</td>\n",
       "      <td>0.016551</td>\n",
       "      <td>0.005323</td>\n",
       "      <td>0.002554</td>\n",
       "      <td>0.000150</td>\n",
       "      <td>0.005985</td>\n",
       "      <td>0.212330</td>\n",
       "    </tr>\n",
       "    <tr>\n",
       "      <th>3</th>\n",
       "      <td>0.091569</td>\n",
       "      <td>0.158208</td>\n",
       "      <td>0.072665</td>\n",
       "      <td>0.013294</td>\n",
       "      <td>0.027770</td>\n",
       "      <td>0.008212</td>\n",
       "      <td>0.004100</td>\n",
       "      <td>0.000469</td>\n",
       "      <td>0.009918</td>\n",
       "      <td>0.386203</td>\n",
       "    </tr>\n",
       "    <tr>\n",
       "      <th>4</th>\n",
       "      <td>0.090914</td>\n",
       "      <td>0.081953</td>\n",
       "      <td>0.009696</td>\n",
       "      <td>0.019070</td>\n",
       "      <td>0.023434</td>\n",
       "      <td>0.002897</td>\n",
       "      <td>0.005890</td>\n",
       "      <td>0.000401</td>\n",
       "      <td>0.007648</td>\n",
       "      <td>0.241903</td>\n",
       "    </tr>\n",
       "    <tr>\n",
       "      <th>Total</th>\n",
       "      <td>0.240406</td>\n",
       "      <td>0.443190</td>\n",
       "      <td>0.123992</td>\n",
       "      <td>0.050049</td>\n",
       "      <td>0.079341</td>\n",
       "      <td>0.019212</td>\n",
       "      <td>0.014876</td>\n",
       "      <td>0.001194</td>\n",
       "      <td>0.027740</td>\n",
       "      <td>1.000000</td>\n",
       "    </tr>\n",
       "  </tbody>\n",
       "</table>\n",
       "</div>"
      ],
      "text/plain": [
       "        Hispanic_kids  White_kids  Black_kids  Asian_kids  \\\n",
       "REGION                                                      \n",
       "1            0.031811    0.078290    0.017759    0.010642   \n",
       "2            0.026113    0.124739    0.023873    0.007042   \n",
       "3            0.091569    0.158208    0.072665    0.013294   \n",
       "4            0.090914    0.081953    0.009696    0.019070   \n",
       "Total        0.240406    0.443190    0.123992    0.050049   \n",
       "\n",
       "        OtherSingleRace_kids  White/Black_kids  White/Asian_kids  \\\n",
       "REGION                                                             \n",
       "1                   0.011587          0.002781          0.002332   \n",
       "2                   0.016551          0.005323          0.002554   \n",
       "3                   0.027770          0.008212          0.004100   \n",
       "4                   0.023434          0.002897          0.005890   \n",
       "Total               0.079341          0.019212          0.014876   \n",
       "\n",
       "        Black/Asian_kids  Multi_kids       sum  \n",
       "REGION                                          \n",
       "1               0.000174    0.004189  0.159564  \n",
       "2               0.000150    0.005985  0.212330  \n",
       "3               0.000469    0.009918  0.386203  \n",
       "4               0.000401    0.007648  0.241903  \n",
       "Total           0.001194    0.027740  1.000000  "
      ]
     },
     "execution_count": 180,
     "metadata": {},
     "output_type": "execute_result"
    }
   ],
   "source": [
    "kd"
   ]
  },
  {
   "cell_type": "code",
   "execution_count": 97,
   "id": "339d4f24",
   "metadata": {},
   "outputs": [],
   "source": [
    "sex =pd.read_csv('C:/Users/tsb7592/Downloads/ACSST1Y2019.S0101_2021-09-16T160659/ACSST1Y2019.S0101_data_with_overlays_2021-07-23T174043.csv', skiprows=1)"
   ]
  },
  {
   "cell_type": "code",
   "execution_count": 98,
   "id": "cd17a035",
   "metadata": {},
   "outputs": [
    {
     "data": {
      "text/html": [
       "<div>\n",
       "<style scoped>\n",
       "    .dataframe tbody tr th:only-of-type {\n",
       "        vertical-align: middle;\n",
       "    }\n",
       "\n",
       "    .dataframe tbody tr th {\n",
       "        vertical-align: top;\n",
       "    }\n",
       "\n",
       "    .dataframe thead th {\n",
       "        text-align: right;\n",
       "    }\n",
       "</style>\n",
       "<table border=\"1\" class=\"dataframe\">\n",
       "  <thead>\n",
       "    <tr style=\"text-align: right;\">\n",
       "      <th></th>\n",
       "      <th>id</th>\n",
       "      <th>Geographic Area Name</th>\n",
       "      <th>Estimate!!Total!!Total population</th>\n",
       "      <th>Margin of Error!!Total!!Total population</th>\n",
       "      <th>Estimate!!Total!!Total population!!AGE!!Under 5 years</th>\n",
       "      <th>Margin of Error!!Total!!Total population!!AGE!!Under 5 years</th>\n",
       "      <th>Estimate!!Total!!Total population!!AGE!!5 to 9 years</th>\n",
       "      <th>Margin of Error!!Total!!Total population!!AGE!!5 to 9 years</th>\n",
       "      <th>Estimate!!Total!!Total population!!AGE!!10 to 14 years</th>\n",
       "      <th>Margin of Error!!Total!!Total population!!AGE!!10 to 14 years</th>\n",
       "      <th>...</th>\n",
       "      <th>Estimate!!Percent Female!!Total population!!SUMMARY INDICATORS!!Age dependency ratio</th>\n",
       "      <th>Margin of Error!!Percent Female!!Total population!!SUMMARY INDICATORS!!Age dependency ratio</th>\n",
       "      <th>Estimate!!Percent Female!!Total population!!SUMMARY INDICATORS!!Old-age dependency ratio</th>\n",
       "      <th>Margin of Error!!Percent Female!!Total population!!SUMMARY INDICATORS!!Old-age dependency ratio</th>\n",
       "      <th>Estimate!!Percent Female!!Total population!!SUMMARY INDICATORS!!Child dependency ratio</th>\n",
       "      <th>Margin of Error!!Percent Female!!Total population!!SUMMARY INDICATORS!!Child dependency ratio</th>\n",
       "      <th>Estimate!!Percent Female!!Total population!!PERCENT ALLOCATED!!Sex</th>\n",
       "      <th>Margin of Error!!Percent Female!!Total population!!PERCENT ALLOCATED!!Sex</th>\n",
       "      <th>Estimate!!Percent Female!!Total population!!PERCENT ALLOCATED!!Age</th>\n",
       "      <th>Margin of Error!!Percent Female!!Total population!!PERCENT ALLOCATED!!Age</th>\n",
       "    </tr>\n",
       "  </thead>\n",
       "  <tbody>\n",
       "    <tr>\n",
       "      <th>0</th>\n",
       "      <td>0100000US</td>\n",
       "      <td>United States</td>\n",
       "      <td>328239523</td>\n",
       "      <td>*****</td>\n",
       "      <td>19404835</td>\n",
       "      <td>22314</td>\n",
       "      <td>19690437</td>\n",
       "      <td>69224</td>\n",
       "      <td>21423479</td>\n",
       "      <td>69779</td>\n",
       "      <td>...</td>\n",
       "      <td>(X)</td>\n",
       "      <td>(X)</td>\n",
       "      <td>(X)</td>\n",
       "      <td>(X)</td>\n",
       "      <td>(X)</td>\n",
       "      <td>(X)</td>\n",
       "      <td>(X)</td>\n",
       "      <td>(X)</td>\n",
       "      <td>(X)</td>\n",
       "      <td>(X)</td>\n",
       "    </tr>\n",
       "  </tbody>\n",
       "</table>\n",
       "<p>1 rows × 458 columns</p>\n",
       "</div>"
      ],
      "text/plain": [
       "          id Geographic Area Name  Estimate!!Total!!Total population  \\\n",
       "0  0100000US        United States                          328239523   \n",
       "\n",
       "  Margin of Error!!Total!!Total population  \\\n",
       "0                                    *****   \n",
       "\n",
       "   Estimate!!Total!!Total population!!AGE!!Under 5 years  \\\n",
       "0                                           19404835       \n",
       "\n",
       "   Margin of Error!!Total!!Total population!!AGE!!Under 5 years  \\\n",
       "0                                              22314              \n",
       "\n",
       "   Estimate!!Total!!Total population!!AGE!!5 to 9 years  \\\n",
       "0                                           19690437      \n",
       "\n",
       "   Margin of Error!!Total!!Total population!!AGE!!5 to 9 years  \\\n",
       "0                                              69224             \n",
       "\n",
       "   Estimate!!Total!!Total population!!AGE!!10 to 14 years  \\\n",
       "0                                           21423479        \n",
       "\n",
       "   Margin of Error!!Total!!Total population!!AGE!!10 to 14 years  ...  \\\n",
       "0                                              69779              ...   \n",
       "\n",
       "   Estimate!!Percent Female!!Total population!!SUMMARY INDICATORS!!Age dependency ratio  \\\n",
       "0                                                (X)                                      \n",
       "\n",
       "   Margin of Error!!Percent Female!!Total population!!SUMMARY INDICATORS!!Age dependency ratio  \\\n",
       "0                                                (X)                                             \n",
       "\n",
       "   Estimate!!Percent Female!!Total population!!SUMMARY INDICATORS!!Old-age dependency ratio  \\\n",
       "0                                                (X)                                          \n",
       "\n",
       "   Margin of Error!!Percent Female!!Total population!!SUMMARY INDICATORS!!Old-age dependency ratio  \\\n",
       "0                                                (X)                                                 \n",
       "\n",
       "   Estimate!!Percent Female!!Total population!!SUMMARY INDICATORS!!Child dependency ratio  \\\n",
       "0                                                (X)                                        \n",
       "\n",
       "   Margin of Error!!Percent Female!!Total population!!SUMMARY INDICATORS!!Child dependency ratio  \\\n",
       "0                                                (X)                                               \n",
       "\n",
       "   Estimate!!Percent Female!!Total population!!PERCENT ALLOCATED!!Sex  \\\n",
       "0                                                (X)                    \n",
       "\n",
       "   Margin of Error!!Percent Female!!Total population!!PERCENT ALLOCATED!!Sex  \\\n",
       "0                                                (X)                           \n",
       "\n",
       "   Estimate!!Percent Female!!Total population!!PERCENT ALLOCATED!!Age  \\\n",
       "0                                                (X)                    \n",
       "\n",
       "   Margin of Error!!Percent Female!!Total population!!PERCENT ALLOCATED!!Age  \n",
       "0                                                (X)                          \n",
       "\n",
       "[1 rows x 458 columns]"
      ]
     },
     "execution_count": 98,
     "metadata": {},
     "output_type": "execute_result"
    }
   ],
   "source": [
    "sex.head()"
   ]
  },
  {
   "cell_type": "code",
   "execution_count": 99,
   "id": "db4f4016",
   "metadata": {},
   "outputs": [],
   "source": [
    "male=['Estimate!!Male!!Total population!!SELECTED AGE CATEGORIES!!Under 18 years','Estimate!!Male!!Total population!!SELECTED AGE CATEGORIES!!18 years and over']\n",
    "female=['Estimate!!Female!!Total population!!SELECTED AGE CATEGORIES!!Under 18 years','Estimate!!Female!!Total population!!SELECTED AGE CATEGORIES!!18 years and over']\n"
   ]
  },
  {
   "cell_type": "code",
   "execution_count": 100,
   "id": "c34894b2",
   "metadata": {},
   "outputs": [
    {
     "data": {
      "text/html": [
       "<div>\n",
       "<style scoped>\n",
       "    .dataframe tbody tr th:only-of-type {\n",
       "        vertical-align: middle;\n",
       "    }\n",
       "\n",
       "    .dataframe tbody tr th {\n",
       "        vertical-align: top;\n",
       "    }\n",
       "\n",
       "    .dataframe thead th {\n",
       "        text-align: right;\n",
       "    }\n",
       "</style>\n",
       "<table border=\"1\" class=\"dataframe\">\n",
       "  <thead>\n",
       "    <tr style=\"text-align: right;\">\n",
       "      <th></th>\n",
       "      <th>kids</th>\n",
       "      <th>adults</th>\n",
       "    </tr>\n",
       "  </thead>\n",
       "  <tbody>\n",
       "    <tr>\n",
       "      <th>0</th>\n",
       "      <td>37321627</td>\n",
       "      <td>124267346</td>\n",
       "    </tr>\n",
       "  </tbody>\n",
       "</table>\n",
       "</div>"
      ],
      "text/plain": [
       "       kids     adults\n",
       "0  37321627  124267346"
      ]
     },
     "execution_count": 100,
     "metadata": {},
     "output_type": "execute_result"
    }
   ],
   "source": [
    "mdf = sex[male]\n",
    "mdf.columns=['kids', 'adults']\n",
    "mdf"
   ]
  },
  {
   "cell_type": "code",
   "execution_count": 101,
   "id": "b62d57ed",
   "metadata": {},
   "outputs": [
    {
     "data": {
      "text/html": [
       "<div>\n",
       "<style scoped>\n",
       "    .dataframe tbody tr th:only-of-type {\n",
       "        vertical-align: middle;\n",
       "    }\n",
       "\n",
       "    .dataframe tbody tr th {\n",
       "        vertical-align: top;\n",
       "    }\n",
       "\n",
       "    .dataframe thead th {\n",
       "        text-align: right;\n",
       "    }\n",
       "</style>\n",
       "<table border=\"1\" class=\"dataframe\">\n",
       "  <thead>\n",
       "    <tr style=\"text-align: right;\">\n",
       "      <th></th>\n",
       "      <th>kids</th>\n",
       "      <th>adults</th>\n",
       "    </tr>\n",
       "  </thead>\n",
       "  <tbody>\n",
       "    <tr>\n",
       "      <th>0</th>\n",
       "      <td>35646158</td>\n",
       "      <td>131004392</td>\n",
       "    </tr>\n",
       "  </tbody>\n",
       "</table>\n",
       "</div>"
      ],
      "text/plain": [
       "       kids     adults\n",
       "0  35646158  131004392"
      ]
     },
     "execution_count": 101,
     "metadata": {},
     "output_type": "execute_result"
    }
   ],
   "source": [
    "fdf = sex[female]\n",
    "fdf.columns=['kids', 'adults']\n",
    "fdf"
   ]
  },
  {
   "cell_type": "code",
   "execution_count": 102,
   "id": "6e7e0859",
   "metadata": {},
   "outputs": [],
   "source": [
    "gender = mdf.append(fdf)"
   ]
  },
  {
   "cell_type": "code",
   "execution_count": 103,
   "id": "99714251",
   "metadata": {},
   "outputs": [
    {
     "data": {
      "text/html": [
       "<div>\n",
       "<style scoped>\n",
       "    .dataframe tbody tr th:only-of-type {\n",
       "        vertical-align: middle;\n",
       "    }\n",
       "\n",
       "    .dataframe tbody tr th {\n",
       "        vertical-align: top;\n",
       "    }\n",
       "\n",
       "    .dataframe thead th {\n",
       "        text-align: right;\n",
       "    }\n",
       "</style>\n",
       "<table border=\"1\" class=\"dataframe\">\n",
       "  <thead>\n",
       "    <tr style=\"text-align: right;\">\n",
       "      <th></th>\n",
       "      <th>kids</th>\n",
       "      <th>adults</th>\n",
       "    </tr>\n",
       "  </thead>\n",
       "  <tbody>\n",
       "    <tr>\n",
       "      <th>0</th>\n",
       "      <td>37321627</td>\n",
       "      <td>124267346</td>\n",
       "    </tr>\n",
       "    <tr>\n",
       "      <th>0</th>\n",
       "      <td>35646158</td>\n",
       "      <td>131004392</td>\n",
       "    </tr>\n",
       "  </tbody>\n",
       "</table>\n",
       "</div>"
      ],
      "text/plain": [
       "       kids     adults\n",
       "0  37321627  124267346\n",
       "0  35646158  131004392"
      ]
     },
     "execution_count": 103,
     "metadata": {},
     "output_type": "execute_result"
    }
   ],
   "source": [
    "gender"
   ]
  },
  {
   "cell_type": "code",
   "execution_count": 104,
   "id": "68f8a9a0",
   "metadata": {},
   "outputs": [],
   "source": [
    "gender.kids =gender.kids/gender.kids.sum()"
   ]
  },
  {
   "cell_type": "code",
   "execution_count": 105,
   "id": "65c448f0",
   "metadata": {},
   "outputs": [],
   "source": [
    "gender.adults =gender.adults/gender.adults.sum()"
   ]
  },
  {
   "cell_type": "code",
   "execution_count": 106,
   "id": "675ba853",
   "metadata": {},
   "outputs": [],
   "source": [
    "gender.index=['male','female']"
   ]
  },
  {
   "cell_type": "code",
   "execution_count": 107,
   "id": "f166b7de",
   "metadata": {},
   "outputs": [
    {
     "data": {
      "text/html": [
       "<div>\n",
       "<style scoped>\n",
       "    .dataframe tbody tr th:only-of-type {\n",
       "        vertical-align: middle;\n",
       "    }\n",
       "\n",
       "    .dataframe tbody tr th {\n",
       "        vertical-align: top;\n",
       "    }\n",
       "\n",
       "    .dataframe thead th {\n",
       "        text-align: right;\n",
       "    }\n",
       "</style>\n",
       "<table border=\"1\" class=\"dataframe\">\n",
       "  <thead>\n",
       "    <tr style=\"text-align: right;\">\n",
       "      <th></th>\n",
       "      <th>kids</th>\n",
       "      <th>adults</th>\n",
       "    </tr>\n",
       "  </thead>\n",
       "  <tbody>\n",
       "    <tr>\n",
       "      <th>male</th>\n",
       "      <td>0.511481</td>\n",
       "      <td>0.486804</td>\n",
       "    </tr>\n",
       "    <tr>\n",
       "      <th>female</th>\n",
       "      <td>0.488519</td>\n",
       "      <td>0.513196</td>\n",
       "    </tr>\n",
       "  </tbody>\n",
       "</table>\n",
       "</div>"
      ],
      "text/plain": [
       "            kids    adults\n",
       "male    0.511481  0.486804\n",
       "female  0.488519  0.513196"
      ]
     },
     "execution_count": 107,
     "metadata": {},
     "output_type": "execute_result"
    }
   ],
   "source": [
    "gender"
   ]
  },
  {
   "cell_type": "code",
   "execution_count": 108,
   "id": "b7d7720b",
   "metadata": {},
   "outputs": [],
   "source": [
    "edu =pd.read_csv('C:/Users/tsb7592/Downloads/ACSST1Y2019.S1501_2021-09-16T160729/ACSST1Y2019.S1501_data_with_overlays_2021-07-27T205148.csv', skiprows=1)"
   ]
  },
  {
   "cell_type": "code",
   "execution_count": 109,
   "id": "2f8c3563",
   "metadata": {},
   "outputs": [
    {
     "data": {
      "text/html": [
       "<div>\n",
       "<style scoped>\n",
       "    .dataframe tbody tr th:only-of-type {\n",
       "        vertical-align: middle;\n",
       "    }\n",
       "\n",
       "    .dataframe tbody tr th {\n",
       "        vertical-align: top;\n",
       "    }\n",
       "\n",
       "    .dataframe thead th {\n",
       "        text-align: right;\n",
       "    }\n",
       "</style>\n",
       "<table border=\"1\" class=\"dataframe\">\n",
       "  <thead>\n",
       "    <tr style=\"text-align: right;\">\n",
       "      <th></th>\n",
       "      <th>id</th>\n",
       "      <th>Geographic Area Name</th>\n",
       "      <th>Estimate!!Total!!AGE BY EDUCATIONAL ATTAINMENT!!Population 18 to 24 years</th>\n",
       "      <th>Margin of Error!!Total!!AGE BY EDUCATIONAL ATTAINMENT!!Population 18 to 24 years</th>\n",
       "      <th>Estimate!!Total!!AGE BY EDUCATIONAL ATTAINMENT!!Population 18 to 24 years!!Less than high school graduate</th>\n",
       "      <th>Margin of Error!!Total!!AGE BY EDUCATIONAL ATTAINMENT!!Population 18 to 24 years!!Less than high school graduate</th>\n",
       "      <th>Estimate!!Total!!AGE BY EDUCATIONAL ATTAINMENT!!Population 18 to 24 years!!High school graduate (includes equivalency)</th>\n",
       "      <th>Margin of Error!!Total!!AGE BY EDUCATIONAL ATTAINMENT!!Population 18 to 24 years!!High school graduate (includes equivalency)</th>\n",
       "      <th>Estimate!!Total!!AGE BY EDUCATIONAL ATTAINMENT!!Population 18 to 24 years!!Some college or associate's degree</th>\n",
       "      <th>Margin of Error!!Total!!AGE BY EDUCATIONAL ATTAINMENT!!Population 18 to 24 years!!Some college or associate's degree</th>\n",
       "      <th>...</th>\n",
       "      <th>Margin of Error!!Total!!AGE BY EDUCATIONAL ATTAINMENT!!Population 25 years and over!!9th to 12th grade, no diploma</th>\n",
       "      <th>Estimate!!Total!!AGE BY EDUCATIONAL ATTAINMENT!!Population 25 years and over!!High school graduate (includes equivalency)</th>\n",
       "      <th>Margin of Error!!Total!!AGE BY EDUCATIONAL ATTAINMENT!!Population 25 years and over!!High school graduate (includes equivalency)</th>\n",
       "      <th>Estimate!!Total!!AGE BY EDUCATIONAL ATTAINMENT!!Population 25 years and over!!Some college, no degree</th>\n",
       "      <th>Margin of Error!!Total!!AGE BY EDUCATIONAL ATTAINMENT!!Population 25 years and over!!Some college, no degree</th>\n",
       "      <th>Estimate!!Total!!AGE BY EDUCATIONAL ATTAINMENT!!Population 25 years and over!!Associate's degree</th>\n",
       "      <th>Margin of Error!!Total!!AGE BY EDUCATIONAL ATTAINMENT!!Population 25 years and over!!Associate's degree</th>\n",
       "      <th>Estimate!!Total!!AGE BY EDUCATIONAL ATTAINMENT!!Population 25 years and over!!Bachelor's degree</th>\n",
       "      <th>Margin of Error!!Total!!AGE BY EDUCATIONAL ATTAINMENT!!Population 25 years and over!!Bachelor's degree</th>\n",
       "      <th>Estimate!!Total!!AGE BY EDUCATIONAL ATTAINMENT!!Population 25 years and over!!Graduate or professional degree</th>\n",
       "    </tr>\n",
       "  </thead>\n",
       "  <tbody>\n",
       "    <tr>\n",
       "      <th>0</th>\n",
       "      <td>0100000US</td>\n",
       "      <td>United States</td>\n",
       "      <td>30373170</td>\n",
       "      <td>42282</td>\n",
       "      <td>3662080</td>\n",
       "      <td>41512</td>\n",
       "      <td>9921331</td>\n",
       "      <td>56156</td>\n",
       "      <td>13168280</td>\n",
       "      <td>67371</td>\n",
       "      <td>...</td>\n",
       "      <td>83892</td>\n",
       "      <td>60482353</td>\n",
       "      <td>181247</td>\n",
       "      <td>44914086</td>\n",
       "      <td>111140</td>\n",
       "      <td>19381937</td>\n",
       "      <td>84109</td>\n",
       "      <td>45730479</td>\n",
       "      <td>155188</td>\n",
       "      <td>28771172</td>\n",
       "    </tr>\n",
       "  </tbody>\n",
       "</table>\n",
       "<p>1 rows × 27 columns</p>\n",
       "</div>"
      ],
      "text/plain": [
       "          id Geographic Area Name  \\\n",
       "0  0100000US        United States   \n",
       "\n",
       "   Estimate!!Total!!AGE BY EDUCATIONAL ATTAINMENT!!Population 18 to 24 years  \\\n",
       "0                                           30373170                           \n",
       "\n",
       "   Margin of Error!!Total!!AGE BY EDUCATIONAL ATTAINMENT!!Population 18 to 24 years  \\\n",
       "0                                              42282                                  \n",
       "\n",
       "   Estimate!!Total!!AGE BY EDUCATIONAL ATTAINMENT!!Population 18 to 24 years!!Less than high school graduate  \\\n",
       "0                                            3662080                                                           \n",
       "\n",
       "   Margin of Error!!Total!!AGE BY EDUCATIONAL ATTAINMENT!!Population 18 to 24 years!!Less than high school graduate  \\\n",
       "0                                              41512                                                                  \n",
       "\n",
       "   Estimate!!Total!!AGE BY EDUCATIONAL ATTAINMENT!!Population 18 to 24 years!!High school graduate (includes equivalency)  \\\n",
       "0                                            9921331                                                                        \n",
       "\n",
       "   Margin of Error!!Total!!AGE BY EDUCATIONAL ATTAINMENT!!Population 18 to 24 years!!High school graduate (includes equivalency)  \\\n",
       "0                                              56156                                                                               \n",
       "\n",
       "   Estimate!!Total!!AGE BY EDUCATIONAL ATTAINMENT!!Population 18 to 24 years!!Some college or associate's degree  \\\n",
       "0                                           13168280                                                               \n",
       "\n",
       "   Margin of Error!!Total!!AGE BY EDUCATIONAL ATTAINMENT!!Population 18 to 24 years!!Some college or associate's degree  \\\n",
       "0                                              67371                                                                      \n",
       "\n",
       "   ...  \\\n",
       "0  ...   \n",
       "\n",
       "   Margin of Error!!Total!!AGE BY EDUCATIONAL ATTAINMENT!!Population 25 years and over!!9th to 12th grade, no diploma  \\\n",
       "0                                              83892                                                                    \n",
       "\n",
       "   Estimate!!Total!!AGE BY EDUCATIONAL ATTAINMENT!!Population 25 years and over!!High school graduate (includes equivalency)  \\\n",
       "0                                           60482353                                                                           \n",
       "\n",
       "   Margin of Error!!Total!!AGE BY EDUCATIONAL ATTAINMENT!!Population 25 years and over!!High school graduate (includes equivalency)  \\\n",
       "0                                             181247                                                                                  \n",
       "\n",
       "   Estimate!!Total!!AGE BY EDUCATIONAL ATTAINMENT!!Population 25 years and over!!Some college, no degree  \\\n",
       "0                                           44914086                                                       \n",
       "\n",
       "   Margin of Error!!Total!!AGE BY EDUCATIONAL ATTAINMENT!!Population 25 years and over!!Some college, no degree  \\\n",
       "0                                             111140                                                              \n",
       "\n",
       "   Estimate!!Total!!AGE BY EDUCATIONAL ATTAINMENT!!Population 25 years and over!!Associate's degree  \\\n",
       "0                                           19381937                                                  \n",
       "\n",
       "   Margin of Error!!Total!!AGE BY EDUCATIONAL ATTAINMENT!!Population 25 years and over!!Associate's degree  \\\n",
       "0                                              84109                                                         \n",
       "\n",
       "   Estimate!!Total!!AGE BY EDUCATIONAL ATTAINMENT!!Population 25 years and over!!Bachelor's degree  \\\n",
       "0                                           45730479                                                 \n",
       "\n",
       "   Margin of Error!!Total!!AGE BY EDUCATIONAL ATTAINMENT!!Population 25 years and over!!Bachelor's degree  \\\n",
       "0                                             155188                                                        \n",
       "\n",
       "   Estimate!!Total!!AGE BY EDUCATIONAL ATTAINMENT!!Population 25 years and over!!Graduate or professional degree  \n",
       "0                                           28771172                                                              \n",
       "\n",
       "[1 rows x 27 columns]"
      ]
     },
     "execution_count": 109,
     "metadata": {},
     "output_type": "execute_result"
    }
   ],
   "source": [
    "edu =edu.iloc[:,:27]\n",
    "edu"
   ]
  },
  {
   "cell_type": "code",
   "execution_count": 110,
   "id": "6b10babc",
   "metadata": {},
   "outputs": [],
   "source": [
    "keep =[]\n",
    "for col in edu.columns:\n",
    "    if 'Estimate' in col:\n",
    "        keep.append(col)"
   ]
  },
  {
   "cell_type": "code",
   "execution_count": 111,
   "id": "8d4b2541",
   "metadata": {},
   "outputs": [],
   "source": [
    "edu= edu[keep]"
   ]
  },
  {
   "cell_type": "code",
   "execution_count": 112,
   "id": "e574a12b",
   "metadata": {},
   "outputs": [
    {
     "data": {
      "text/html": [
       "<div>\n",
       "<style scoped>\n",
       "    .dataframe tbody tr th:only-of-type {\n",
       "        vertical-align: middle;\n",
       "    }\n",
       "\n",
       "    .dataframe tbody tr th {\n",
       "        vertical-align: top;\n",
       "    }\n",
       "\n",
       "    .dataframe thead th {\n",
       "        text-align: right;\n",
       "    }\n",
       "</style>\n",
       "<table border=\"1\" class=\"dataframe\">\n",
       "  <thead>\n",
       "    <tr style=\"text-align: right;\">\n",
       "      <th></th>\n",
       "      <th>Estimate!!Total!!AGE BY EDUCATIONAL ATTAINMENT!!Population 18 to 24 years</th>\n",
       "      <th>Estimate!!Total!!AGE BY EDUCATIONAL ATTAINMENT!!Population 18 to 24 years!!Less than high school graduate</th>\n",
       "      <th>Estimate!!Total!!AGE BY EDUCATIONAL ATTAINMENT!!Population 18 to 24 years!!High school graduate (includes equivalency)</th>\n",
       "      <th>Estimate!!Total!!AGE BY EDUCATIONAL ATTAINMENT!!Population 18 to 24 years!!Some college or associate's degree</th>\n",
       "      <th>Estimate!!Total!!AGE BY EDUCATIONAL ATTAINMENT!!Population 18 to 24 years!!Bachelor's degree or higher</th>\n",
       "      <th>Estimate!!Total!!AGE BY EDUCATIONAL ATTAINMENT!!Population 25 years and over</th>\n",
       "      <th>Estimate!!Total!!AGE BY EDUCATIONAL ATTAINMENT!!Population 25 years and over!!Less than 9th grade</th>\n",
       "      <th>Estimate!!Total!!AGE BY EDUCATIONAL ATTAINMENT!!Population 25 years and over!!9th to 12th grade, no diploma</th>\n",
       "      <th>Estimate!!Total!!AGE BY EDUCATIONAL ATTAINMENT!!Population 25 years and over!!High school graduate (includes equivalency)</th>\n",
       "      <th>Estimate!!Total!!AGE BY EDUCATIONAL ATTAINMENT!!Population 25 years and over!!Some college, no degree</th>\n",
       "      <th>Estimate!!Total!!AGE BY EDUCATIONAL ATTAINMENT!!Population 25 years and over!!Associate's degree</th>\n",
       "      <th>Estimate!!Total!!AGE BY EDUCATIONAL ATTAINMENT!!Population 25 years and over!!Bachelor's degree</th>\n",
       "      <th>Estimate!!Total!!AGE BY EDUCATIONAL ATTAINMENT!!Population 25 years and over!!Graduate or professional degree</th>\n",
       "    </tr>\n",
       "  </thead>\n",
       "  <tbody>\n",
       "    <tr>\n",
       "      <th>0</th>\n",
       "      <td>30373170</td>\n",
       "      <td>3662080</td>\n",
       "      <td>9921331</td>\n",
       "      <td>13168280</td>\n",
       "      <td>3621479</td>\n",
       "      <td>224898568</td>\n",
       "      <td>10874685</td>\n",
       "      <td>14743856</td>\n",
       "      <td>60482353</td>\n",
       "      <td>44914086</td>\n",
       "      <td>19381937</td>\n",
       "      <td>45730479</td>\n",
       "      <td>28771172</td>\n",
       "    </tr>\n",
       "  </tbody>\n",
       "</table>\n",
       "</div>"
      ],
      "text/plain": [
       "   Estimate!!Total!!AGE BY EDUCATIONAL ATTAINMENT!!Population 18 to 24 years  \\\n",
       "0                                           30373170                           \n",
       "\n",
       "   Estimate!!Total!!AGE BY EDUCATIONAL ATTAINMENT!!Population 18 to 24 years!!Less than high school graduate  \\\n",
       "0                                            3662080                                                           \n",
       "\n",
       "   Estimate!!Total!!AGE BY EDUCATIONAL ATTAINMENT!!Population 18 to 24 years!!High school graduate (includes equivalency)  \\\n",
       "0                                            9921331                                                                        \n",
       "\n",
       "   Estimate!!Total!!AGE BY EDUCATIONAL ATTAINMENT!!Population 18 to 24 years!!Some college or associate's degree  \\\n",
       "0                                           13168280                                                               \n",
       "\n",
       "   Estimate!!Total!!AGE BY EDUCATIONAL ATTAINMENT!!Population 18 to 24 years!!Bachelor's degree or higher  \\\n",
       "0                                            3621479                                                        \n",
       "\n",
       "   Estimate!!Total!!AGE BY EDUCATIONAL ATTAINMENT!!Population 25 years and over  \\\n",
       "0                                          224898568                              \n",
       "\n",
       "   Estimate!!Total!!AGE BY EDUCATIONAL ATTAINMENT!!Population 25 years and over!!Less than 9th grade  \\\n",
       "0                                           10874685                                                   \n",
       "\n",
       "   Estimate!!Total!!AGE BY EDUCATIONAL ATTAINMENT!!Population 25 years and over!!9th to 12th grade, no diploma  \\\n",
       "0                                           14743856                                                             \n",
       "\n",
       "   Estimate!!Total!!AGE BY EDUCATIONAL ATTAINMENT!!Population 25 years and over!!High school graduate (includes equivalency)  \\\n",
       "0                                           60482353                                                                           \n",
       "\n",
       "   Estimate!!Total!!AGE BY EDUCATIONAL ATTAINMENT!!Population 25 years and over!!Some college, no degree  \\\n",
       "0                                           44914086                                                       \n",
       "\n",
       "   Estimate!!Total!!AGE BY EDUCATIONAL ATTAINMENT!!Population 25 years and over!!Associate's degree  \\\n",
       "0                                           19381937                                                  \n",
       "\n",
       "   Estimate!!Total!!AGE BY EDUCATIONAL ATTAINMENT!!Population 25 years and over!!Bachelor's degree  \\\n",
       "0                                           45730479                                                 \n",
       "\n",
       "   Estimate!!Total!!AGE BY EDUCATIONAL ATTAINMENT!!Population 25 years and over!!Graduate or professional degree  \n",
       "0                                           28771172                                                              "
      ]
     },
     "execution_count": 112,
     "metadata": {},
     "output_type": "execute_result"
    }
   ],
   "source": [
    "edu"
   ]
  },
  {
   "cell_type": "code",
   "execution_count": 113,
   "id": "711017ff",
   "metadata": {},
   "outputs": [
    {
     "data": {
      "text/plain": [
       "0    30373170\n",
       "dtype: int64"
      ]
     },
     "execution_count": 113,
     "metadata": {},
     "output_type": "execute_result"
    }
   ],
   "source": [
    "edu[keep[1:5]].sum(axis=1) "
   ]
  },
  {
   "cell_type": "code",
   "execution_count": 114,
   "id": "8785e079",
   "metadata": {},
   "outputs": [
    {
     "data": {
      "text/plain": [
       "0    224898568\n",
       "dtype: int64"
      ]
     },
     "execution_count": 114,
     "metadata": {},
     "output_type": "execute_result"
    }
   ],
   "source": [
    "edu[keep[6:]].sum(axis=1) "
   ]
  },
  {
   "cell_type": "code",
   "execution_count": 115,
   "id": "327f3f30",
   "metadata": {},
   "outputs": [
    {
     "data": {
      "text/plain": [
       "13"
      ]
     },
     "execution_count": 115,
     "metadata": {},
     "output_type": "execute_result"
    }
   ],
   "source": [
    "len(keep)"
   ]
  },
  {
   "cell_type": "code",
   "execution_count": 116,
   "id": "f387c5de",
   "metadata": {},
   "outputs": [
    {
     "data": {
      "text/plain": [
       "['Estimate!!Total!!AGE BY EDUCATIONAL ATTAINMENT!!Population 18 to 24 years',\n",
       " 'Estimate!!Total!!AGE BY EDUCATIONAL ATTAINMENT!!Population 18 to 24 years!!Less than high school graduate',\n",
       " 'Estimate!!Total!!AGE BY EDUCATIONAL ATTAINMENT!!Population 18 to 24 years!!High school graduate (includes equivalency)',\n",
       " \"Estimate!!Total!!AGE BY EDUCATIONAL ATTAINMENT!!Population 18 to 24 years!!Some college or associate's degree\",\n",
       " \"Estimate!!Total!!AGE BY EDUCATIONAL ATTAINMENT!!Population 18 to 24 years!!Bachelor's degree or higher\",\n",
       " 'Estimate!!Total!!AGE BY EDUCATIONAL ATTAINMENT!!Population 25 years and over',\n",
       " 'Estimate!!Total!!AGE BY EDUCATIONAL ATTAINMENT!!Population 25 years and over!!Less than 9th grade',\n",
       " 'Estimate!!Total!!AGE BY EDUCATIONAL ATTAINMENT!!Population 25 years and over!!9th to 12th grade, no diploma',\n",
       " 'Estimate!!Total!!AGE BY EDUCATIONAL ATTAINMENT!!Population 25 years and over!!High school graduate (includes equivalency)',\n",
       " 'Estimate!!Total!!AGE BY EDUCATIONAL ATTAINMENT!!Population 25 years and over!!Some college, no degree',\n",
       " \"Estimate!!Total!!AGE BY EDUCATIONAL ATTAINMENT!!Population 25 years and over!!Associate's degree\",\n",
       " \"Estimate!!Total!!AGE BY EDUCATIONAL ATTAINMENT!!Population 25 years and over!!Bachelor's degree\",\n",
       " 'Estimate!!Total!!AGE BY EDUCATIONAL ATTAINMENT!!Population 25 years and over!!Graduate or professional degree']"
      ]
     },
     "execution_count": 116,
     "metadata": {},
     "output_type": "execute_result"
    }
   ],
   "source": [
    "keep"
   ]
  },
  {
   "cell_type": "code",
   "execution_count": 117,
   "id": "d2f796fd",
   "metadata": {},
   "outputs": [],
   "source": [
    "dc ={'lessthanHS': ['Estimate!!Total!!AGE BY EDUCATIONAL ATTAINMENT!!Population 18 to 24 years!!Less than high school graduate',\n",
    " 'Estimate!!Total!!AGE BY EDUCATIONAL ATTAINMENT!!Population 25 years and over!!Less than 9th grade'],\n",
    "\n",
    "'someHS':['Estimate!!Total!!AGE BY EDUCATIONAL ATTAINMENT!!Population 25 years and over!!9th to 12th grade, no diploma'],\n",
    "\n",
    "\"HS\":['Estimate!!Total!!AGE BY EDUCATIONAL ATTAINMENT!!Population 18 to 24 years!!High school graduate (includes equivalency)',\n",
    "    'Estimate!!Total!!AGE BY EDUCATIONAL ATTAINMENT!!Population 25 years and over!!High school graduate (includes equivalency)'],\n",
    "\n",
    "'somecollege': [\"Estimate!!Total!!AGE BY EDUCATIONAL ATTAINMENT!!Population 18 to 24 years!!Some college or associate's degree\",\n",
    "              'Estimate!!Total!!AGE BY EDUCATIONAL ATTAINMENT!!Population 25 years and over!!Some college, no degree'],\n",
    "\n",
    "'twoyr':[\"Estimate!!Total!!AGE BY EDUCATIONAL ATTAINMENT!!Population 25 years and over!!Associate's degree\"],\n",
    "'fouryr':[\"Estimate!!Total!!AGE BY EDUCATIONAL ATTAINMENT!!Population 18 to 24 years!!Bachelor's degree or higher\",\n",
    "              \"Estimate!!Total!!AGE BY EDUCATIONAL ATTAINMENT!!Population 25 years and over!!Bachelor's degree\"],\n",
    "\n",
    "'advanced': ['Estimate!!Total!!AGE BY EDUCATIONAL ATTAINMENT!!Population 25 years and over!!Graduate or professional degree']}\n"
   ]
  },
  {
   "cell_type": "code",
   "execution_count": 118,
   "id": "b69da0f6",
   "metadata": {},
   "outputs": [
    {
     "data": {
      "text/plain": [
       "255271738"
      ]
     },
     "execution_count": 118,
     "metadata": {},
     "output_type": "execute_result"
    }
   ],
   "source": [
    "total = (edu[keep[0]]+edu[keep[5]])[0]\n",
    "total"
   ]
  },
  {
   "cell_type": "code",
   "execution_count": 119,
   "id": "bae5ac72",
   "metadata": {},
   "outputs": [],
   "source": [
    "for key in dc:\n",
    "    edu[key] = edu[dc[key]].sum(axis=1)[0]\n",
    "    edu[key]= edu[key]/total"
   ]
  },
  {
   "cell_type": "code",
   "execution_count": 120,
   "id": "d36e7d0d",
   "metadata": {},
   "outputs": [
    {
     "data": {
      "text/html": [
       "<div>\n",
       "<style scoped>\n",
       "    .dataframe tbody tr th:only-of-type {\n",
       "        vertical-align: middle;\n",
       "    }\n",
       "\n",
       "    .dataframe tbody tr th {\n",
       "        vertical-align: top;\n",
       "    }\n",
       "\n",
       "    .dataframe thead th {\n",
       "        text-align: right;\n",
       "    }\n",
       "</style>\n",
       "<table border=\"1\" class=\"dataframe\">\n",
       "  <thead>\n",
       "    <tr style=\"text-align: right;\">\n",
       "      <th></th>\n",
       "      <th>lessthanHS</th>\n",
       "      <th>someHS</th>\n",
       "      <th>HS</th>\n",
       "      <th>somecollege</th>\n",
       "      <th>twoyr</th>\n",
       "      <th>fouryr</th>\n",
       "      <th>advanced</th>\n",
       "    </tr>\n",
       "  </thead>\n",
       "  <tbody>\n",
       "    <tr>\n",
       "      <th>0</th>\n",
       "      <td>0.056946</td>\n",
       "      <td>0.057757</td>\n",
       "      <td>0.275799</td>\n",
       "      <td>0.227532</td>\n",
       "      <td>0.075927</td>\n",
       "      <td>0.193331</td>\n",
       "      <td>0.112708</td>\n",
       "    </tr>\n",
       "  </tbody>\n",
       "</table>\n",
       "</div>"
      ],
      "text/plain": [
       "   lessthanHS    someHS        HS  somecollege     twoyr    fouryr  advanced\n",
       "0    0.056946  0.057757  0.275799     0.227532  0.075927  0.193331  0.112708"
      ]
     },
     "execution_count": 120,
     "metadata": {},
     "output_type": "execute_result"
    }
   ],
   "source": [
    "edu[['lessthanHS', 'someHS', 'HS', 'somecollege', 'twoyr', 'fouryr', 'advanced']]\n",
    "#.sum(axis =1)[0]"
   ]
  },
  {
   "cell_type": "code",
   "execution_count": 145,
   "id": "c5d120d1",
   "metadata": {},
   "outputs": [],
   "source": [
    "df['adults']=df['P0030001']#/df['P0030001'].sum()"
   ]
  },
  {
   "cell_type": "code",
   "execution_count": 146,
   "id": "698ccb8a",
   "metadata": {},
   "outputs": [],
   "source": [
    "df['kids']=df['P0010001']-df['P0030001']"
   ]
  },
  {
   "cell_type": "code",
   "execution_count": 147,
   "id": "58387474",
   "metadata": {},
   "outputs": [],
   "source": [
    "region= df[['adults', 'kids']]"
   ]
  },
  {
   "cell_type": "code",
   "execution_count": 148,
   "id": "4bb3a5fa",
   "metadata": {},
   "outputs": [],
   "source": [
    "#region.loc['Total',:]= region.sum(axis=0)"
   ]
  },
  {
   "cell_type": "code",
   "execution_count": 150,
   "id": "69587f83",
   "metadata": {},
   "outputs": [],
   "source": [
    "region['kids']=region['kids']/region['kids'].sum()"
   ]
  },
  {
   "cell_type": "code",
   "execution_count": 151,
   "id": "9f710a5e",
   "metadata": {},
   "outputs": [],
   "source": [
    "region['adults']=df['P0030001']/df['P0030001'].sum()"
   ]
  },
  {
   "cell_type": "code",
   "execution_count": 152,
   "id": "1b585afe",
   "metadata": {},
   "outputs": [
    {
     "data": {
      "text/html": [
       "<div>\n",
       "<style scoped>\n",
       "    .dataframe tbody tr th:only-of-type {\n",
       "        vertical-align: middle;\n",
       "    }\n",
       "\n",
       "    .dataframe tbody tr th {\n",
       "        vertical-align: top;\n",
       "    }\n",
       "\n",
       "    .dataframe thead th {\n",
       "        text-align: right;\n",
       "    }\n",
       "</style>\n",
       "<table border=\"1\" class=\"dataframe\">\n",
       "  <thead>\n",
       "    <tr style=\"text-align: right;\">\n",
       "      <th></th>\n",
       "      <th>adults</th>\n",
       "      <th>kids</th>\n",
       "    </tr>\n",
       "    <tr>\n",
       "      <th>REGION</th>\n",
       "      <th></th>\n",
       "      <th></th>\n",
       "    </tr>\n",
       "  </thead>\n",
       "  <tbody>\n",
       "    <tr>\n",
       "      <th>1</th>\n",
       "      <td>0.177666</td>\n",
       "      <td>0.160183</td>\n",
       "    </tr>\n",
       "    <tr>\n",
       "      <th>2</th>\n",
       "      <td>0.207135</td>\n",
       "      <td>0.211657</td>\n",
       "    </tr>\n",
       "    <tr>\n",
       "      <th>3</th>\n",
       "      <td>0.378970</td>\n",
       "      <td>0.387954</td>\n",
       "    </tr>\n",
       "    <tr>\n",
       "      <th>4</th>\n",
       "      <td>0.236229</td>\n",
       "      <td>0.240205</td>\n",
       "    </tr>\n",
       "  </tbody>\n",
       "</table>\n",
       "</div>"
      ],
      "text/plain": [
       "          adults      kids\n",
       "REGION                    \n",
       "1       0.177666  0.160183\n",
       "2       0.207135  0.211657\n",
       "3       0.378970  0.387954\n",
       "4       0.236229  0.240205"
      ]
     },
     "execution_count": 152,
     "metadata": {},
     "output_type": "execute_result"
    }
   ],
   "source": [
    "region"
   ]
  },
  {
   "cell_type": "code",
   "execution_count": 153,
   "id": "5b58807b",
   "metadata": {},
   "outputs": [],
   "source": [
    "pe = pd.read_excel('C:/Users/tsb7592/Downloads/tabf2-all.xls',skiprows=6)"
   ]
  },
  {
   "cell_type": "code",
   "execution_count": 154,
   "id": "68dbf21d",
   "metadata": {},
   "outputs": [
    {
     "data": {
      "text/plain": [
       "Unnamed: 0                     .With own children, any age\n",
       "Unnamed: 1                                           47357\n",
       "Less than 9th grade                                   1703\n",
       "Some high school                                      2627\n",
       "High school graduate                                 11422\n",
       "Some college                                         13091\n",
       "Bachelor's degree or higher                          18515\n",
       "Name: 15, dtype: object"
      ]
     },
     "execution_count": 154,
     "metadata": {},
     "output_type": "execute_result"
    }
   ],
   "source": [
    "pe.loc[15][:]"
   ]
  },
  {
   "cell_type": "code",
   "execution_count": 155,
   "id": "896ed7f5",
   "metadata": {},
   "outputs": [],
   "source": [
    "import numpy as np\n",
    "pre= pd.DataFrame(np.array([1703/47357,  2627/47357,11422/47357, 13091/47357, 18515/47357]).reshape(-1,5))\n",
    "pre.columns =['lessthanHS', 'someHS', 'HS', 'somecollege',  'fouryr']"
   ]
  },
  {
   "cell_type": "code",
   "execution_count": 156,
   "id": "c3296eab",
   "metadata": {},
   "outputs": [
    {
     "data": {
      "text/html": [
       "<div>\n",
       "<style scoped>\n",
       "    .dataframe tbody tr th:only-of-type {\n",
       "        vertical-align: middle;\n",
       "    }\n",
       "\n",
       "    .dataframe tbody tr th {\n",
       "        vertical-align: top;\n",
       "    }\n",
       "\n",
       "    .dataframe thead th {\n",
       "        text-align: right;\n",
       "    }\n",
       "</style>\n",
       "<table border=\"1\" class=\"dataframe\">\n",
       "  <thead>\n",
       "    <tr style=\"text-align: right;\">\n",
       "      <th></th>\n",
       "      <th>lessthanHS</th>\n",
       "      <th>someHS</th>\n",
       "      <th>HS</th>\n",
       "      <th>somecollege</th>\n",
       "      <th>fouryr</th>\n",
       "    </tr>\n",
       "  </thead>\n",
       "  <tbody>\n",
       "    <tr>\n",
       "      <th>0</th>\n",
       "      <td>0.035961</td>\n",
       "      <td>0.055472</td>\n",
       "      <td>0.241189</td>\n",
       "      <td>0.276432</td>\n",
       "      <td>0.390966</td>\n",
       "    </tr>\n",
       "  </tbody>\n",
       "</table>\n",
       "</div>"
      ],
      "text/plain": [
       "   lessthanHS    someHS        HS  somecollege    fouryr\n",
       "0    0.035961  0.055472  0.241189     0.276432  0.390966"
      ]
     },
     "execution_count": 156,
     "metadata": {},
     "output_type": "execute_result"
    }
   ],
   "source": [
    "pre"
   ]
  },
  {
   "cell_type": "code",
   "execution_count": 184,
   "id": "a8d824b5",
   "metadata": {},
   "outputs": [],
   "source": [
    "# Create a Pandas Excel writer using XlsxWriter as the engine.\n",
    "writer = pd.ExcelWriter('C:/Users/tsb7592/Downloads/census_percentage.xlsx', engine='xlsxwriter')\n",
    "\n",
    "# Write each dataframe to a different worksheet.\n",
    "ad.to_excel(writer, sheet_name='adults')\n",
    "kd.to_excel(writer, sheet_name='kids')  \n",
    "region.to_excel(writer, sheet_name='total_by_region')\n",
    "gender.to_excel(writer, sheet_name='sex_assigned_at_birth')\n",
    "edu[['lessthanHS', 'someHS', 'HS', 'somecollege', 'twoyr', 'fouryr', 'advanced']].to_excel(writer, sheet_name='self_edu', index=False)\n",
    "pre.to_excel(writer, sheet_name='parental_edu', index=False)\n",
    "# Close the Pandas Excel writer and output the Excel file.\n",
    "writer.save()"
   ]
  },
  {
   "cell_type": "code",
   "execution_count": 182,
   "id": "5c40be8e",
   "metadata": {},
   "outputs": [
    {
     "data": {
      "text/html": [
       "<div>\n",
       "<style scoped>\n",
       "    .dataframe tbody tr th:only-of-type {\n",
       "        vertical-align: middle;\n",
       "    }\n",
       "\n",
       "    .dataframe tbody tr th {\n",
       "        vertical-align: top;\n",
       "    }\n",
       "\n",
       "    .dataframe thead th {\n",
       "        text-align: right;\n",
       "    }\n",
       "</style>\n",
       "<table border=\"1\" class=\"dataframe\">\n",
       "  <thead>\n",
       "    <tr style=\"text-align: right;\">\n",
       "      <th></th>\n",
       "      <th>Hispanic</th>\n",
       "      <th>White</th>\n",
       "      <th>Black</th>\n",
       "      <th>Asian</th>\n",
       "      <th>OtherSingleRace</th>\n",
       "      <th>White/Black</th>\n",
       "      <th>White/Asian</th>\n",
       "      <th>Black/Asian</th>\n",
       "      <th>Multi</th>\n",
       "    </tr>\n",
       "    <tr>\n",
       "      <th>REGION</th>\n",
       "      <th></th>\n",
       "      <th></th>\n",
       "      <th></th>\n",
       "      <th></th>\n",
       "      <th></th>\n",
       "      <th></th>\n",
       "      <th></th>\n",
       "      <th></th>\n",
       "      <th></th>\n",
       "    </tr>\n",
       "  </thead>\n",
       "  <tbody>\n",
       "    <tr>\n",
       "      <th>1</th>\n",
       "      <td>0.023646</td>\n",
       "      <td>0.111039</td>\n",
       "      <td>0.018063</td>\n",
       "      <td>0.012410</td>\n",
       "      <td>0.006764</td>\n",
       "      <td>0.000812</td>\n",
       "      <td>0.000737</td>\n",
       "      <td>0.000091</td>\n",
       "      <td>0.003522</td>\n",
       "    </tr>\n",
       "    <tr>\n",
       "      <th>2</th>\n",
       "      <td>0.014763</td>\n",
       "      <td>0.151138</td>\n",
       "      <td>0.019661</td>\n",
       "      <td>0.006878</td>\n",
       "      <td>0.007999</td>\n",
       "      <td>0.001061</td>\n",
       "      <td>0.000728</td>\n",
       "      <td>0.000051</td>\n",
       "      <td>0.004418</td>\n",
       "    </tr>\n",
       "    <tr>\n",
       "      <th>3</th>\n",
       "      <td>0.061999</td>\n",
       "      <td>0.209943</td>\n",
       "      <td>0.065489</td>\n",
       "      <td>0.013936</td>\n",
       "      <td>0.015349</td>\n",
       "      <td>0.001916</td>\n",
       "      <td>0.001403</td>\n",
       "      <td>0.000194</td>\n",
       "      <td>0.008116</td>\n",
       "    </tr>\n",
       "    <tr>\n",
       "      <th>4</th>\n",
       "      <td>0.061864</td>\n",
       "      <td>0.116394</td>\n",
       "      <td>0.010154</td>\n",
       "      <td>0.025635</td>\n",
       "      <td>0.014544</td>\n",
       "      <td>0.001017</td>\n",
       "      <td>0.002231</td>\n",
       "      <td>0.000155</td>\n",
       "      <td>0.005882</td>\n",
       "    </tr>\n",
       "    <tr>\n",
       "      <th>Total</th>\n",
       "      <td>0.162273</td>\n",
       "      <td>0.588514</td>\n",
       "      <td>0.113367</td>\n",
       "      <td>0.058858</td>\n",
       "      <td>0.044656</td>\n",
       "      <td>0.004805</td>\n",
       "      <td>0.005098</td>\n",
       "      <td>0.000491</td>\n",
       "      <td>0.021938</td>\n",
       "    </tr>\n",
       "  </tbody>\n",
       "</table>\n",
       "</div>"
      ],
      "text/plain": [
       "        Hispanic     White     Black     Asian  OtherSingleRace  White/Black  \\\n",
       "REGION                                                                         \n",
       "1       0.023646  0.111039  0.018063  0.012410         0.006764     0.000812   \n",
       "2       0.014763  0.151138  0.019661  0.006878         0.007999     0.001061   \n",
       "3       0.061999  0.209943  0.065489  0.013936         0.015349     0.001916   \n",
       "4       0.061864  0.116394  0.010154  0.025635         0.014544     0.001017   \n",
       "Total   0.162273  0.588514  0.113367  0.058858         0.044656     0.004805   \n",
       "\n",
       "        White/Asian  Black/Asian     Multi  \n",
       "REGION                                      \n",
       "1          0.000737     0.000091  0.003522  \n",
       "2          0.000728     0.000051  0.004418  \n",
       "3          0.001403     0.000194  0.008116  \n",
       "4          0.002231     0.000155  0.005882  \n",
       "Total      0.005098     0.000491  0.021938  "
      ]
     },
     "execution_count": 182,
     "metadata": {},
     "output_type": "execute_result"
    }
   ],
   "source": [
    "ad.iloc[:,:9]"
   ]
  },
  {
   "cell_type": "code",
   "execution_count": null,
   "id": "3daf0445",
   "metadata": {},
   "outputs": [],
   "source": []
  }
 ],
 "metadata": {
  "kernelspec": {
   "display_name": "Python 3",
   "language": "python",
   "name": "python3"
  },
  "language_info": {
   "codemirror_mode": {
    "name": "ipython",
    "version": 3
   },
   "file_extension": ".py",
   "mimetype": "text/x-python",
   "name": "python",
   "nbconvert_exporter": "python",
   "pygments_lexer": "ipython3",
   "version": "3.8.8"
  }
 },
 "nbformat": 4,
 "nbformat_minor": 5
}
