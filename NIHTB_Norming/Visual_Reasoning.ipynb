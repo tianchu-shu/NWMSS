{
 "cells": [
  {
   "cell_type": "code",
   "execution_count": 1,
   "metadata": {
    "id": "SPKdLsF0Rg36"
   },
   "outputs": [],
   "source": [
    "#Data saved in csv/excel\n",
    "import glob, os\n",
    "import pandas as pd\n",
    "import numpy as np\n",
    "import warnings\n",
    "warnings.filterwarnings('ignore')\n"
   ]
  },
  {
   "cell_type": "code",
   "execution_count": 2,
   "metadata": {
    "colab": {
     "base_uri": "https://localhost:8080/",
     "height": 666
    },
    "id": "pMEIOTwTin-_",
    "outputId": "3773d420-bccb-45ff-b95a-36dbde272331"
   },
   "outputs": [],
   "source": [
    "#Set two decimal points for display\n",
    "pd.options.display.float_format = \"{:.2f}\".format"
   ]
  },
  {
   "cell_type": "markdown",
   "metadata": {
    "id": "Ryp-FuHZLWyT"
   },
   "source": [
    "# Get the NIHTB Mater data"
   ]
  },
  {
   "cell_type": "code",
   "execution_count": 3,
   "metadata": {},
   "outputs": [
    {
     "data": {
      "text/plain": [
       "(8173451, 17)"
      ]
     },
     "execution_count": 3,
     "metadata": {},
     "output_type": "execute_result"
    }
   ],
   "source": [
    "import pyarrow.parquet as pq\n",
    "\n",
    "df = pq.read_table(source='R:/MSS/Research/NIHTB v3.0 Norming/SG Data/Cleaned_Data/2022_04_08/2022-04-08_B_NIHTB_Master.parquet.gzip').to_pandas()\n",
    "df.shape"
   ]
  },
  {
   "cell_type": "code",
   "execution_count": 4,
   "metadata": {},
   "outputs": [
    {
     "data": {
      "text/html": [
       "<div>\n",
       "<style scoped>\n",
       "    .dataframe tbody tr th:only-of-type {\n",
       "        vertical-align: middle;\n",
       "    }\n",
       "\n",
       "    .dataframe tbody tr th {\n",
       "        vertical-align: top;\n",
       "    }\n",
       "\n",
       "    .dataframe thead th {\n",
       "        text-align: right;\n",
       "    }\n",
       "</style>\n",
       "<table border=\"1\" class=\"dataframe\">\n",
       "  <thead>\n",
       "    <tr style=\"text-align: right;\">\n",
       "      <th></th>\n",
       "      <th>FinalPIN</th>\n",
       "      <th>PIN</th>\n",
       "      <th>RegistrationID</th>\n",
       "      <th>InstrumentTitle</th>\n",
       "      <th>Key</th>\n",
       "      <th>Value</th>\n",
       "      <th>DeviceID</th>\n",
       "      <th>ResponseID</th>\n",
       "      <th>ItemID</th>\n",
       "      <th>AssessmentName</th>\n",
       "      <th>TestName</th>\n",
       "      <th>InstrumentID</th>\n",
       "      <th>TestDate</th>\n",
       "      <th>Retest</th>\n",
       "      <th>Retest_order</th>\n",
       "      <th>retest</th>\n",
       "      <th>age_months_at_test</th>\n",
       "    </tr>\n",
       "  </thead>\n",
       "  <tbody>\n",
       "    <tr>\n",
       "      <th>0</th>\n",
       "      <td>SAT15011</td>\n",
       "      <td>SAT15011</td>\n",
       "      <td>F6E3CFC8-2735-477D-A35D-E59BF6E29C7E</td>\n",
       "      <td>NIH Toolbox Picture Vocabulary Test Practice N...</td>\n",
       "      <td>Response</td>\n",
       "      <td>1</td>\n",
       "      <td>A1B82B19-F148-48A3-ADD7-42283A34CFE2</td>\n",
       "      <td>F32807EA-E6F9-43F1-8677-BE3830A6822D</td>\n",
       "      <td>VOCAB_INTRO</td>\n",
       "      <td>Assessment 1</td>\n",
       "      <td>PV_norm</td>\n",
       "      <td>D61BC463-0CC7-4678-B088-6AE10B747C41</td>\n",
       "      <td>2021-06-14</td>\n",
       "      <td>no</td>\n",
       "      <td>FALSE</td>\n",
       "      <td>None</td>\n",
       "      <td>186.02</td>\n",
       "    </tr>\n",
       "    <tr>\n",
       "      <th>1</th>\n",
       "      <td>SAT15011</td>\n",
       "      <td>SAT15011</td>\n",
       "      <td>F6E3CFC8-2735-477D-A35D-E59BF6E29C7E</td>\n",
       "      <td>NIH Toolbox Picture Vocabulary Test Practice N...</td>\n",
       "      <td>DateCreated</td>\n",
       "      <td>2021-06-14 12:35:25</td>\n",
       "      <td>A1B82B19-F148-48A3-ADD7-42283A34CFE2</td>\n",
       "      <td>F32807EA-E6F9-43F1-8677-BE3830A6822D</td>\n",
       "      <td>VOCAB_INTRO</td>\n",
       "      <td>Assessment 1</td>\n",
       "      <td>PV_norm</td>\n",
       "      <td>D61BC463-0CC7-4678-B088-6AE10B747C41</td>\n",
       "      <td>2021-06-14</td>\n",
       "      <td>no</td>\n",
       "      <td>FALSE</td>\n",
       "      <td>None</td>\n",
       "      <td>186.02</td>\n",
       "    </tr>\n",
       "    <tr>\n",
       "      <th>2</th>\n",
       "      <td>SAT15011</td>\n",
       "      <td>SAT15011</td>\n",
       "      <td>F6E3CFC8-2735-477D-A35D-E59BF6E29C7E</td>\n",
       "      <td>NIH Toolbox Picture Vocabulary Test Practice N...</td>\n",
       "      <td>Response</td>\n",
       "      <td>1</td>\n",
       "      <td>A1B82B19-F148-48A3-ADD7-42283A34CFE2</td>\n",
       "      <td>47D10263-76AD-4767-B86D-988852E44321</td>\n",
       "      <td>VOCAB_INSTR1</td>\n",
       "      <td>Assessment 1</td>\n",
       "      <td>PV_norm</td>\n",
       "      <td>D61BC463-0CC7-4678-B088-6AE10B747C41</td>\n",
       "      <td>2021-06-14</td>\n",
       "      <td>no</td>\n",
       "      <td>FALSE</td>\n",
       "      <td>None</td>\n",
       "      <td>186.02</td>\n",
       "    </tr>\n",
       "    <tr>\n",
       "      <th>3</th>\n",
       "      <td>SAT15011</td>\n",
       "      <td>SAT15011</td>\n",
       "      <td>F6E3CFC8-2735-477D-A35D-E59BF6E29C7E</td>\n",
       "      <td>NIH Toolbox Picture Vocabulary Test Practice N...</td>\n",
       "      <td>DateCreated</td>\n",
       "      <td>2021-06-14 12:36:03</td>\n",
       "      <td>A1B82B19-F148-48A3-ADD7-42283A34CFE2</td>\n",
       "      <td>47D10263-76AD-4767-B86D-988852E44321</td>\n",
       "      <td>VOCAB_INSTR1</td>\n",
       "      <td>Assessment 1</td>\n",
       "      <td>PV_norm</td>\n",
       "      <td>D61BC463-0CC7-4678-B088-6AE10B747C41</td>\n",
       "      <td>2021-06-14</td>\n",
       "      <td>no</td>\n",
       "      <td>FALSE</td>\n",
       "      <td>None</td>\n",
       "      <td>186.02</td>\n",
       "    </tr>\n",
       "    <tr>\n",
       "      <th>4</th>\n",
       "      <td>SAT15011</td>\n",
       "      <td>SAT15011</td>\n",
       "      <td>F6E3CFC8-2735-477D-A35D-E59BF6E29C7E</td>\n",
       "      <td>NIH Toolbox Picture Vocabulary Test Practice N...</td>\n",
       "      <td>Response</td>\n",
       "      <td>1</td>\n",
       "      <td>A1B82B19-F148-48A3-ADD7-42283A34CFE2</td>\n",
       "      <td>86DAEFB4-C52B-44F6-8A63-7ECB4FD0BDA3</td>\n",
       "      <td>VOCAB_PRACT1</td>\n",
       "      <td>Assessment 1</td>\n",
       "      <td>PV_norm</td>\n",
       "      <td>D61BC463-0CC7-4678-B088-6AE10B747C41</td>\n",
       "      <td>2021-06-14</td>\n",
       "      <td>no</td>\n",
       "      <td>FALSE</td>\n",
       "      <td>None</td>\n",
       "      <td>186.02</td>\n",
       "    </tr>\n",
       "  </tbody>\n",
       "</table>\n",
       "</div>"
      ],
      "text/plain": [
       "   FinalPIN       PIN                        RegistrationID  \\\n",
       "0  SAT15011  SAT15011  F6E3CFC8-2735-477D-A35D-E59BF6E29C7E   \n",
       "1  SAT15011  SAT15011  F6E3CFC8-2735-477D-A35D-E59BF6E29C7E   \n",
       "2  SAT15011  SAT15011  F6E3CFC8-2735-477D-A35D-E59BF6E29C7E   \n",
       "3  SAT15011  SAT15011  F6E3CFC8-2735-477D-A35D-E59BF6E29C7E   \n",
       "4  SAT15011  SAT15011  F6E3CFC8-2735-477D-A35D-E59BF6E29C7E   \n",
       "\n",
       "                                     InstrumentTitle          Key  \\\n",
       "0  NIH Toolbox Picture Vocabulary Test Practice N...     Response   \n",
       "1  NIH Toolbox Picture Vocabulary Test Practice N...  DateCreated   \n",
       "2  NIH Toolbox Picture Vocabulary Test Practice N...     Response   \n",
       "3  NIH Toolbox Picture Vocabulary Test Practice N...  DateCreated   \n",
       "4  NIH Toolbox Picture Vocabulary Test Practice N...     Response   \n",
       "\n",
       "                 Value                              DeviceID  \\\n",
       "0                    1  A1B82B19-F148-48A3-ADD7-42283A34CFE2   \n",
       "1  2021-06-14 12:35:25  A1B82B19-F148-48A3-ADD7-42283A34CFE2   \n",
       "2                    1  A1B82B19-F148-48A3-ADD7-42283A34CFE2   \n",
       "3  2021-06-14 12:36:03  A1B82B19-F148-48A3-ADD7-42283A34CFE2   \n",
       "4                    1  A1B82B19-F148-48A3-ADD7-42283A34CFE2   \n",
       "\n",
       "                             ResponseID        ItemID AssessmentName TestName  \\\n",
       "0  F32807EA-E6F9-43F1-8677-BE3830A6822D   VOCAB_INTRO   Assessment 1  PV_norm   \n",
       "1  F32807EA-E6F9-43F1-8677-BE3830A6822D   VOCAB_INTRO   Assessment 1  PV_norm   \n",
       "2  47D10263-76AD-4767-B86D-988852E44321  VOCAB_INSTR1   Assessment 1  PV_norm   \n",
       "3  47D10263-76AD-4767-B86D-988852E44321  VOCAB_INSTR1   Assessment 1  PV_norm   \n",
       "4  86DAEFB4-C52B-44F6-8A63-7ECB4FD0BDA3  VOCAB_PRACT1   Assessment 1  PV_norm   \n",
       "\n",
       "                           InstrumentID   TestDate Retest Retest_order retest  \\\n",
       "0  D61BC463-0CC7-4678-B088-6AE10B747C41 2021-06-14     no        FALSE   None   \n",
       "1  D61BC463-0CC7-4678-B088-6AE10B747C41 2021-06-14     no        FALSE   None   \n",
       "2  D61BC463-0CC7-4678-B088-6AE10B747C41 2021-06-14     no        FALSE   None   \n",
       "3  D61BC463-0CC7-4678-B088-6AE10B747C41 2021-06-14     no        FALSE   None   \n",
       "4  D61BC463-0CC7-4678-B088-6AE10B747C41 2021-06-14     no        FALSE   None   \n",
       "\n",
       "   age_months_at_test  \n",
       "0              186.02  \n",
       "1              186.02  \n",
       "2              186.02  \n",
       "3              186.02  \n",
       "4              186.02  "
      ]
     },
     "execution_count": 4,
     "metadata": {},
     "output_type": "execute_result"
    }
   ],
   "source": [
    "df.head()"
   ]
  },
  {
   "cell_type": "code",
   "execution_count": 5,
   "metadata": {},
   "outputs": [
    {
     "data": {
      "text/plain": [
       "array(['PV_norm', 'Flank_norm', 'LSWM_norm', 'DCCS_norm', 'PC_norm',\n",
       "       'PSM_norm', 'OR_norm', 'AudLrn_norm', 'VR_norm', 'OSD_norm',\n",
       "       'StandBal_norm', 'FNAME_norm', 'SpdMtch_norm', 'DCCS_SAdmin',\n",
       "       'PicSeq_SAdmin'], dtype=object)"
      ]
     },
     "execution_count": 5,
     "metadata": {},
     "output_type": "execute_result"
    }
   ],
   "source": [
    "df.TestName.unique()"
   ]
  },
  {
   "cell_type": "code",
   "execution_count": 6,
   "metadata": {},
   "outputs": [
    {
     "data": {
      "text/plain": [
       "(424185, 17)"
      ]
     },
     "execution_count": 6,
     "metadata": {},
     "output_type": "execute_result"
    }
   ],
   "source": [
    "vr = df[df.TestName =='VR_norm']\n",
    "vr.shape"
   ]
  },
  {
   "cell_type": "code",
   "execution_count": 7,
   "metadata": {},
   "outputs": [],
   "source": [
    "#Get the demographic data\n",
    "kids = pd.read_csv('C:/Users/tsb7592/Downloads/kids_April.csv')\n",
    "adults = pd.read_csv('C:/Users/tsb7592/Downloads/adults_April.csv')"
   ]
  },
  {
   "cell_type": "code",
   "execution_count": 19,
   "metadata": {},
   "outputs": [],
   "source": [
    "kids['age'] =kids['FinalPIN'].str.slice(3, 5)\n",
    "adults['age'] =adults['FinalPIN'].str.slice(3, 5)"
   ]
  },
  {
   "cell_type": "code",
   "execution_count": 27,
   "metadata": {},
   "outputs": [],
   "source": [
    "kids['sex'] =kids['sex'].astype(str)\n",
    "adults['sex'] =adults['sex'].astype(str)"
   ]
  },
  {
   "cell_type": "code",
   "execution_count": 9,
   "metadata": {},
   "outputs": [],
   "source": [
    "#keep the list of FinalPIN who took VR\n",
    "vr_pin =list(vr.FinalPIN.unique())"
   ]
  },
  {
   "cell_type": "code",
   "execution_count": 29,
   "metadata": {},
   "outputs": [
    {
     "data": {
      "text/html": [
       "<div>\n",
       "<style scoped>\n",
       "    .dataframe tbody tr th:only-of-type {\n",
       "        vertical-align: middle;\n",
       "    }\n",
       "\n",
       "    .dataframe tbody tr th {\n",
       "        vertical-align: top;\n",
       "    }\n",
       "\n",
       "    .dataframe thead th {\n",
       "        text-align: right;\n",
       "    }\n",
       "</style>\n",
       "<table border=\"1\" class=\"dataframe\">\n",
       "  <thead>\n",
       "    <tr style=\"text-align: right;\">\n",
       "      <th></th>\n",
       "      <th>FinalPIN</th>\n",
       "      <th>region</th>\n",
       "      <th>age</th>\n",
       "      <th>sex</th>\n",
       "      <th>highestEd</th>\n",
       "      <th>Race.ethnicity</th>\n",
       "      <th>region.race.c</th>\n",
       "      <th>weights.7a</th>\n",
       "      <th>weights.7b</th>\n",
       "    </tr>\n",
       "  </thead>\n",
       "  <tbody>\n",
       "    <tr>\n",
       "      <th>0</th>\n",
       "      <td>MAP18001</td>\n",
       "      <td>2</td>\n",
       "      <td>18</td>\n",
       "      <td>1.0</td>\n",
       "      <td>high school graduate</td>\n",
       "      <td>Non-Hispanic White</td>\n",
       "      <td>2.0-Non-Hispanic White</td>\n",
       "      <td>0.67</td>\n",
       "      <td>0.95</td>\n",
       "    </tr>\n",
       "    <tr>\n",
       "      <th>1</th>\n",
       "      <td>MAP18002</td>\n",
       "      <td>2</td>\n",
       "      <td>18</td>\n",
       "      <td>2.0</td>\n",
       "      <td>high school graduate</td>\n",
       "      <td>Non-Hispanic White</td>\n",
       "      <td>2.0-Non-Hispanic White</td>\n",
       "      <td>0.60</td>\n",
       "      <td>0.95</td>\n",
       "    </tr>\n",
       "    <tr>\n",
       "      <th>2</th>\n",
       "      <td>MAP18003</td>\n",
       "      <td>2</td>\n",
       "      <td>18</td>\n",
       "      <td>1.0</td>\n",
       "      <td>high school graduate</td>\n",
       "      <td>Non-Hispanic White</td>\n",
       "      <td>2.0-Non-Hispanic White</td>\n",
       "      <td>0.67</td>\n",
       "      <td>0.95</td>\n",
       "    </tr>\n",
       "    <tr>\n",
       "      <th>3</th>\n",
       "      <td>MAP18004</td>\n",
       "      <td>2</td>\n",
       "      <td>18</td>\n",
       "      <td>1.0</td>\n",
       "      <td>high school graduate</td>\n",
       "      <td>Non-Hispanic White</td>\n",
       "      <td>2.0-Non-Hispanic White</td>\n",
       "      <td>0.67</td>\n",
       "      <td>0.95</td>\n",
       "    </tr>\n",
       "    <tr>\n",
       "      <th>4</th>\n",
       "      <td>MAP18005</td>\n",
       "      <td>2</td>\n",
       "      <td>18</td>\n",
       "      <td>2.0</td>\n",
       "      <td>high school graduate</td>\n",
       "      <td>Non-Hispanic White</td>\n",
       "      <td>2.0-Non-Hispanic White</td>\n",
       "      <td>0.60</td>\n",
       "      <td>0.95</td>\n",
       "    </tr>\n",
       "  </tbody>\n",
       "</table>\n",
       "</div>"
      ],
      "text/plain": [
       "   FinalPIN  region age  sex             highestEd      Race.ethnicity  \\\n",
       "0  MAP18001       2  18  1.0  high school graduate  Non-Hispanic White   \n",
       "1  MAP18002       2  18  2.0  high school graduate  Non-Hispanic White   \n",
       "2  MAP18003       2  18  1.0  high school graduate  Non-Hispanic White   \n",
       "3  MAP18004       2  18  1.0  high school graduate  Non-Hispanic White   \n",
       "4  MAP18005       2  18  2.0  high school graduate  Non-Hispanic White   \n",
       "\n",
       "            region.race.c  weights.7a  weights.7b  \n",
       "0  2.0-Non-Hispanic White        0.67        0.95  \n",
       "1  2.0-Non-Hispanic White        0.60        0.95  \n",
       "2  2.0-Non-Hispanic White        0.67        0.95  \n",
       "3  2.0-Non-Hispanic White        0.67        0.95  \n",
       "4  2.0-Non-Hispanic White        0.60        0.95  "
      ]
     },
     "execution_count": 29,
     "metadata": {},
     "output_type": "execute_result"
    }
   ],
   "source": [
    "adults.head()"
   ]
  },
  {
   "cell_type": "code",
   "execution_count": 21,
   "metadata": {},
   "outputs": [],
   "source": [
    "def summary(data):\n",
    "    df =data.loc[data['FinalPIN'].isin(vr_pin)]\n",
    "    print(data.shape, df.shape)\n",
    "    a =df.groupby('age')['sex'].value_counts()\n",
    "    b =df.groupby('age')['highestEd'].value_counts()\n",
    "    c =df.groupby('age')['Race.ethnicity'].value_counts()\n",
    "    \n",
    "    return a, b, c"
   ]
  },
  {
   "cell_type": "markdown",
   "metadata": {},
   "source": [
    "# Task 1\n",
    "Descriptive information regarding sample demographics (broken down by the age groups targeted, education or parent education if non-adult, sex, race/ethnicity) "
   ]
  },
  {
   "cell_type": "markdown",
   "metadata": {},
   "source": [
    "# Task 3\n",
    "Number of items administered to participants in each age group (mean, SD, range) "
   ]
  },
  {
   "cell_type": "code",
   "execution_count": 11,
   "metadata": {},
   "outputs": [],
   "source": [
    "drop=['VRTitle', 'VR_Intro', 'VR_Practice1_Trial1',\n",
    "       'VR_Practice2_Trial1', 'VR_Practice2_Trial2',\n",
    "       'VR_Practice3_Trial1', 'VR_Transition']"
   ]
  },
  {
   "cell_type": "code",
   "execution_count": 12,
   "metadata": {},
   "outputs": [
    {
     "data": {
      "text/plain": [
       "(345473, 17)"
      ]
     },
     "execution_count": 12,
     "metadata": {},
     "output_type": "execute_result"
    }
   ],
   "source": [
    "vr =vr.loc[~vr['ItemID'].isin(drop)]\n",
    "vr.shape"
   ]
  },
  {
   "cell_type": "code",
   "execution_count": 13,
   "metadata": {},
   "outputs": [],
   "source": [
    "vrk = pd.merge(kids, vr, on='FinalPIN', how ='inner')\n",
    "vra = pd.merge(adults, vr, on='FinalPIN', how ='inner')"
   ]
  },
  {
   "cell_type": "code",
   "execution_count": 14,
   "metadata": {},
   "outputs": [],
   "source": [
    "vra['age'] =vra['FinalPIN'].str.slice(3, 5)"
   ]
  },
  {
   "cell_type": "code",
   "execution_count": 15,
   "metadata": {},
   "outputs": [],
   "source": [
    "vrk['age'] =vrk['FinalPIN'].str.slice(3, 5)"
   ]
  },
  {
   "cell_type": "code",
   "execution_count": 16,
   "metadata": {
    "id": "hv9LEGi0fkbN"
   },
   "outputs": [
    {
     "data": {
      "text/html": [
       "<div>\n",
       "<style scoped>\n",
       "    .dataframe tbody tr th:only-of-type {\n",
       "        vertical-align: middle;\n",
       "    }\n",
       "\n",
       "    .dataframe tbody tr th {\n",
       "        vertical-align: top;\n",
       "    }\n",
       "\n",
       "    .dataframe thead th {\n",
       "        text-align: right;\n",
       "    }\n",
       "</style>\n",
       "<table border=\"1\" class=\"dataframe\">\n",
       "  <thead>\n",
       "    <tr style=\"text-align: right;\">\n",
       "      <th></th>\n",
       "      <th>FinalPIN</th>\n",
       "      <th>region</th>\n",
       "      <th>age</th>\n",
       "      <th>sex</th>\n",
       "      <th>highestEd</th>\n",
       "      <th>Race.ethnicity</th>\n",
       "      <th>region.race.c</th>\n",
       "      <th>weights</th>\n",
       "      <th>PIN</th>\n",
       "      <th>RegistrationID</th>\n",
       "      <th>...</th>\n",
       "      <th>ResponseID</th>\n",
       "      <th>ItemID</th>\n",
       "      <th>AssessmentName</th>\n",
       "      <th>TestName</th>\n",
       "      <th>InstrumentID</th>\n",
       "      <th>TestDate</th>\n",
       "      <th>Retest</th>\n",
       "      <th>Retest_order</th>\n",
       "      <th>retest</th>\n",
       "      <th>age_months_at_test</th>\n",
       "    </tr>\n",
       "  </thead>\n",
       "  <tbody>\n",
       "    <tr>\n",
       "      <th>210030</th>\n",
       "      <td>MSL09013</td>\n",
       "      <td>2</td>\n",
       "      <td>09</td>\n",
       "      <td>1.00</td>\n",
       "      <td>less than high school graduate</td>\n",
       "      <td>Non-Hispanic White</td>\n",
       "      <td>2.0-Non-Hispanic White</td>\n",
       "      <td>4.00</td>\n",
       "      <td>MSL09013</td>\n",
       "      <td>3AD10A70-5C6B-45C5-987D-67160CD9BA63</td>\n",
       "      <td>...</td>\n",
       "      <td>BB86A519-2FCC-4509-A8AA-24EFA0882A53</td>\n",
       "      <td>VR_SS2011</td>\n",
       "      <td>Assessment 1</td>\n",
       "      <td>VR_norm</td>\n",
       "      <td>D34ADC9D-6B53-4F60-85ED-05846DC3B38F</td>\n",
       "      <td>2021-07-10</td>\n",
       "      <td>no</td>\n",
       "      <td>FALSE</td>\n",
       "      <td>None</td>\n",
       "      <td>108.00</td>\n",
       "    </tr>\n",
       "    <tr>\n",
       "      <th>210031</th>\n",
       "      <td>MSL09013</td>\n",
       "      <td>2</td>\n",
       "      <td>09</td>\n",
       "      <td>1.00</td>\n",
       "      <td>less than high school graduate</td>\n",
       "      <td>Non-Hispanic White</td>\n",
       "      <td>2.0-Non-Hispanic White</td>\n",
       "      <td>4.00</td>\n",
       "      <td>MSL09013</td>\n",
       "      <td>3AD10A70-5C6B-45C5-987D-67160CD9BA63</td>\n",
       "      <td>...</td>\n",
       "      <td>B276F727-7030-47CB-96BB-4C324440708A</td>\n",
       "      <td>VR_RA013</td>\n",
       "      <td>Assessment 1</td>\n",
       "      <td>VR_norm</td>\n",
       "      <td>D34ADC9D-6B53-4F60-85ED-05846DC3B38F</td>\n",
       "      <td>2021-07-10</td>\n",
       "      <td>no</td>\n",
       "      <td>FALSE</td>\n",
       "      <td>None</td>\n",
       "      <td>108.00</td>\n",
       "    </tr>\n",
       "    <tr>\n",
       "      <th>210032</th>\n",
       "      <td>MSL09013</td>\n",
       "      <td>2</td>\n",
       "      <td>09</td>\n",
       "      <td>1.00</td>\n",
       "      <td>less than high school graduate</td>\n",
       "      <td>Non-Hispanic White</td>\n",
       "      <td>2.0-Non-Hispanic White</td>\n",
       "      <td>4.00</td>\n",
       "      <td>MSL09013</td>\n",
       "      <td>3AD10A70-5C6B-45C5-987D-67160CD9BA63</td>\n",
       "      <td>...</td>\n",
       "      <td>B276F727-7030-47CB-96BB-4C324440708A</td>\n",
       "      <td>VR_RA013</td>\n",
       "      <td>Assessment 1</td>\n",
       "      <td>VR_norm</td>\n",
       "      <td>D34ADC9D-6B53-4F60-85ED-05846DC3B38F</td>\n",
       "      <td>2021-07-10</td>\n",
       "      <td>no</td>\n",
       "      <td>FALSE</td>\n",
       "      <td>None</td>\n",
       "      <td>108.00</td>\n",
       "    </tr>\n",
       "    <tr>\n",
       "      <th>210033</th>\n",
       "      <td>MSL09013</td>\n",
       "      <td>2</td>\n",
       "      <td>09</td>\n",
       "      <td>1.00</td>\n",
       "      <td>less than high school graduate</td>\n",
       "      <td>Non-Hispanic White</td>\n",
       "      <td>2.0-Non-Hispanic White</td>\n",
       "      <td>4.00</td>\n",
       "      <td>MSL09013</td>\n",
       "      <td>3AD10A70-5C6B-45C5-987D-67160CD9BA63</td>\n",
       "      <td>...</td>\n",
       "      <td>B276F727-7030-47CB-96BB-4C324440708A</td>\n",
       "      <td>VR_RA013</td>\n",
       "      <td>Assessment 1</td>\n",
       "      <td>VR_norm</td>\n",
       "      <td>D34ADC9D-6B53-4F60-85ED-05846DC3B38F</td>\n",
       "      <td>2021-07-10</td>\n",
       "      <td>no</td>\n",
       "      <td>FALSE</td>\n",
       "      <td>None</td>\n",
       "      <td>108.00</td>\n",
       "    </tr>\n",
       "    <tr>\n",
       "      <th>210034</th>\n",
       "      <td>MSL09013</td>\n",
       "      <td>2</td>\n",
       "      <td>09</td>\n",
       "      <td>1.00</td>\n",
       "      <td>less than high school graduate</td>\n",
       "      <td>Non-Hispanic White</td>\n",
       "      <td>2.0-Non-Hispanic White</td>\n",
       "      <td>4.00</td>\n",
       "      <td>MSL09013</td>\n",
       "      <td>3AD10A70-5C6B-45C5-987D-67160CD9BA63</td>\n",
       "      <td>...</td>\n",
       "      <td>B276F727-7030-47CB-96BB-4C324440708A</td>\n",
       "      <td>VR_RA013</td>\n",
       "      <td>Assessment 1</td>\n",
       "      <td>VR_norm</td>\n",
       "      <td>D34ADC9D-6B53-4F60-85ED-05846DC3B38F</td>\n",
       "      <td>2021-07-10</td>\n",
       "      <td>no</td>\n",
       "      <td>FALSE</td>\n",
       "      <td>None</td>\n",
       "      <td>108.00</td>\n",
       "    </tr>\n",
       "  </tbody>\n",
       "</table>\n",
       "<p>5 rows × 24 columns</p>\n",
       "</div>"
      ],
      "text/plain": [
       "        FinalPIN  region age  sex                       highestEd  \\\n",
       "210030  MSL09013       2  09 1.00  less than high school graduate   \n",
       "210031  MSL09013       2  09 1.00  less than high school graduate   \n",
       "210032  MSL09013       2  09 1.00  less than high school graduate   \n",
       "210033  MSL09013       2  09 1.00  less than high school graduate   \n",
       "210034  MSL09013       2  09 1.00  less than high school graduate   \n",
       "\n",
       "            Race.ethnicity           region.race.c  weights       PIN  \\\n",
       "210030  Non-Hispanic White  2.0-Non-Hispanic White     4.00  MSL09013   \n",
       "210031  Non-Hispanic White  2.0-Non-Hispanic White     4.00  MSL09013   \n",
       "210032  Non-Hispanic White  2.0-Non-Hispanic White     4.00  MSL09013   \n",
       "210033  Non-Hispanic White  2.0-Non-Hispanic White     4.00  MSL09013   \n",
       "210034  Non-Hispanic White  2.0-Non-Hispanic White     4.00  MSL09013   \n",
       "\n",
       "                              RegistrationID  ...  \\\n",
       "210030  3AD10A70-5C6B-45C5-987D-67160CD9BA63  ...   \n",
       "210031  3AD10A70-5C6B-45C5-987D-67160CD9BA63  ...   \n",
       "210032  3AD10A70-5C6B-45C5-987D-67160CD9BA63  ...   \n",
       "210033  3AD10A70-5C6B-45C5-987D-67160CD9BA63  ...   \n",
       "210034  3AD10A70-5C6B-45C5-987D-67160CD9BA63  ...   \n",
       "\n",
       "                                  ResponseID     ItemID AssessmentName  \\\n",
       "210030  BB86A519-2FCC-4509-A8AA-24EFA0882A53  VR_SS2011   Assessment 1   \n",
       "210031  B276F727-7030-47CB-96BB-4C324440708A   VR_RA013   Assessment 1   \n",
       "210032  B276F727-7030-47CB-96BB-4C324440708A   VR_RA013   Assessment 1   \n",
       "210033  B276F727-7030-47CB-96BB-4C324440708A   VR_RA013   Assessment 1   \n",
       "210034  B276F727-7030-47CB-96BB-4C324440708A   VR_RA013   Assessment 1   \n",
       "\n",
       "       TestName                          InstrumentID   TestDate Retest  \\\n",
       "210030  VR_norm  D34ADC9D-6B53-4F60-85ED-05846DC3B38F 2021-07-10     no   \n",
       "210031  VR_norm  D34ADC9D-6B53-4F60-85ED-05846DC3B38F 2021-07-10     no   \n",
       "210032  VR_norm  D34ADC9D-6B53-4F60-85ED-05846DC3B38F 2021-07-10     no   \n",
       "210033  VR_norm  D34ADC9D-6B53-4F60-85ED-05846DC3B38F 2021-07-10     no   \n",
       "210034  VR_norm  D34ADC9D-6B53-4F60-85ED-05846DC3B38F 2021-07-10     no   \n",
       "\n",
       "       Retest_order retest age_months_at_test  \n",
       "210030        FALSE   None             108.00  \n",
       "210031        FALSE   None             108.00  \n",
       "210032        FALSE   None             108.00  \n",
       "210033        FALSE   None             108.00  \n",
       "210034        FALSE   None             108.00  \n",
       "\n",
       "[5 rows x 24 columns]"
      ]
     },
     "execution_count": 16,
     "metadata": {},
     "output_type": "execute_result"
    }
   ],
   "source": [
    "vrk.tail()"
   ]
  },
  {
   "cell_type": "code",
   "execution_count": 22,
   "metadata": {},
   "outputs": [],
   "source": [
    "#Kids TOTAL Number of ItemID for each person\n",
    "total_num_kids = vrk.groupby(['FinalPIN'])['ItemID'].count().reset_index()\n",
    "kd = total_num_kids.describe()"
   ]
  },
  {
   "cell_type": "code",
   "execution_count": 23,
   "metadata": {},
   "outputs": [],
   "source": [
    "#adults TOTAL Number of ItemID for each person\n",
    "total_num_ad = vra.groupby(['FinalPIN'])['ItemID'].count().reset_index()\n",
    "ad = total_num_ad.describe()"
   ]
  },
  {
   "cell_type": "code",
   "execution_count": 24,
   "metadata": {},
   "outputs": [
    {
     "data": {
      "text/html": [
       "<div>\n",
       "<style scoped>\n",
       "    .dataframe tbody tr th:only-of-type {\n",
       "        vertical-align: middle;\n",
       "    }\n",
       "\n",
       "    .dataframe tbody tr th {\n",
       "        vertical-align: top;\n",
       "    }\n",
       "\n",
       "    .dataframe thead th {\n",
       "        text-align: right;\n",
       "    }\n",
       "</style>\n",
       "<table border=\"1\" class=\"dataframe\">\n",
       "  <thead>\n",
       "    <tr style=\"text-align: right;\">\n",
       "      <th></th>\n",
       "      <th>Kids</th>\n",
       "      <th>Adults</th>\n",
       "    </tr>\n",
       "  </thead>\n",
       "  <tbody>\n",
       "    <tr>\n",
       "      <th>count</th>\n",
       "      <td>2175.00</td>\n",
       "      <td>1594.00</td>\n",
       "    </tr>\n",
       "    <tr>\n",
       "      <th>mean</th>\n",
       "      <td>96.57</td>\n",
       "      <td>84.44</td>\n",
       "    </tr>\n",
       "    <tr>\n",
       "      <th>std</th>\n",
       "      <td>23.95</td>\n",
       "      <td>19.21</td>\n",
       "    </tr>\n",
       "    <tr>\n",
       "      <th>min</th>\n",
       "      <td>3.00</td>\n",
       "      <td>44.00</td>\n",
       "    </tr>\n",
       "    <tr>\n",
       "      <th>25%</th>\n",
       "      <td>80.00</td>\n",
       "      <td>80.00</td>\n",
       "    </tr>\n",
       "    <tr>\n",
       "      <th>50%</th>\n",
       "      <td>100.00</td>\n",
       "      <td>80.00</td>\n",
       "    </tr>\n",
       "    <tr>\n",
       "      <th>75%</th>\n",
       "      <td>100.00</td>\n",
       "      <td>80.00</td>\n",
       "    </tr>\n",
       "    <tr>\n",
       "      <th>max</th>\n",
       "      <td>244.00</td>\n",
       "      <td>164.00</td>\n",
       "    </tr>\n",
       "  </tbody>\n",
       "</table>\n",
       "</div>"
      ],
      "text/plain": [
       "         Kids  Adults\n",
       "count 2175.00 1594.00\n",
       "mean    96.57   84.44\n",
       "std     23.95   19.21\n",
       "min      3.00   44.00\n",
       "25%     80.00   80.00\n",
       "50%    100.00   80.00\n",
       "75%    100.00   80.00\n",
       "max    244.00  164.00"
      ]
     },
     "execution_count": 24,
     "metadata": {},
     "output_type": "execute_result"
    }
   ],
   "source": [
    "rv =pd.concat([kd, ad],axis=1)\n",
    "rv.columns =['Kids','Adults']\n",
    "rv"
   ]
  },
  {
   "cell_type": "code",
   "execution_count": 30,
   "metadata": {},
   "outputs": [
    {
     "name": "stdout",
     "output_type": "stream",
     "text": [
      "(1656, 9) (1595, 9)\n",
      "(2244, 8) (2188, 8)\n"
     ]
    }
   ],
   "source": [
    "# Create a Pandas Excel writer using XlsxWriter as the engine.\n",
    "writer = pd.ExcelWriter('C:/Users/tsb7592/Downloads/Visual_Reasoning_task.xlsx', engine='xlsxwriter')\n",
    "\n",
    "aa, ab, ac = summary(adults)\n",
    "ka, kb, kc = summary(kids)\n",
    "# Write each dataframe to a different worksheet.\n",
    "aa.to_excel(writer, sheet_name='adults_sex')\n",
    "ab.to_excel(writer, sheet_name='adults_highestEd')\n",
    "ac.to_excel(writer, sheet_name='adults_race_ethnicity')\n",
    "\n",
    "ka.to_excel(writer, sheet_name='kids_sex')\n",
    "kb.to_excel(writer, sheet_name='kids_parents_highestEd')\n",
    "kc.to_excel(writer, sheet_name='kids_race_ethnicity')\n",
    "\n",
    "rv.to_excel(writer, sheet_name='Num_of_items_administered')\n",
    "\n",
    "# Close the Pandas Excel writer and output the Excel file.\n",
    "writer.save()"
   ]
  },
  {
   "cell_type": "markdown",
   "metadata": {},
   "source": [
    "#  Timing of Two NIHTB Tests"
   ]
  },
  {
   "cell_type": "code",
   "execution_count": 43,
   "metadata": {},
   "outputs": [
    {
     "data": {
      "text/plain": [
       "FALSE     7358930\n",
       "second     413856\n",
       "first      400665\n",
       "Name: Retest_order, dtype: int64"
      ]
     },
     "execution_count": 43,
     "metadata": {},
     "output_type": "execute_result"
    }
   ],
   "source": [
    "df.Retest_order.value_counts()"
   ]
  },
  {
   "cell_type": "code",
   "execution_count": 44,
   "metadata": {},
   "outputs": [
    {
     "data": {
      "text/plain": [
       "(7759595, 17)"
      ]
     },
     "execution_count": 44,
     "metadata": {},
     "output_type": "execute_result"
    }
   ],
   "source": [
    "#Filter Retest_order == FALSE or first; there should be NO duplicates. \n",
    "df1 = df[df.Retest_order != 'second']\n",
    "df1.shape"
   ]
  },
  {
   "cell_type": "code",
   "execution_count": 46,
   "metadata": {},
   "outputs": [
    {
     "data": {
      "text/plain": [
       "array(['PV_norm', 'Flank_norm', 'LSWM_norm', 'DCCS_norm', 'PC_norm',\n",
       "       'PSM_norm', 'OR_norm', 'AudLrn_norm', 'VR_norm', 'OSD_norm',\n",
       "       'StandBal_norm', 'FNAME_norm', 'SpdMtch_norm', 'DCCS_SAdmin',\n",
       "       'PicSeq_SAdmin'], dtype=object)"
      ]
     },
     "execution_count": 46,
     "metadata": {},
     "output_type": "execute_result"
    }
   ],
   "source": [
    "df1.TestName.unique()"
   ]
  },
  {
   "cell_type": "code",
   "execution_count": 56,
   "metadata": {},
   "outputs": [],
   "source": [
    "ldf = df1[df1.TestName=='LSWM_norm']"
   ]
  },
  {
   "cell_type": "code",
   "execution_count": 48,
   "metadata": {},
   "outputs": [
    {
     "data": {
      "text/plain": [
       "(284576, 17)"
      ]
     },
     "execution_count": 48,
     "metadata": {},
     "output_type": "execute_result"
    }
   ],
   "source": [
    "ldf.shape"
   ]
  },
  {
   "cell_type": "code",
   "execution_count": 57,
   "metadata": {},
   "outputs": [
    {
     "data": {
      "text/html": [
       "<div>\n",
       "<style scoped>\n",
       "    .dataframe tbody tr th:only-of-type {\n",
       "        vertical-align: middle;\n",
       "    }\n",
       "\n",
       "    .dataframe tbody tr th {\n",
       "        vertical-align: top;\n",
       "    }\n",
       "\n",
       "    .dataframe thead th {\n",
       "        text-align: right;\n",
       "    }\n",
       "</style>\n",
       "<table border=\"1\" class=\"dataframe\">\n",
       "  <thead>\n",
       "    <tr style=\"text-align: right;\">\n",
       "      <th></th>\n",
       "      <th>FinalPIN</th>\n",
       "      <th>PIN</th>\n",
       "      <th>RegistrationID</th>\n",
       "      <th>InstrumentTitle</th>\n",
       "      <th>Key</th>\n",
       "      <th>Value</th>\n",
       "      <th>DeviceID</th>\n",
       "      <th>ResponseID</th>\n",
       "      <th>ItemID</th>\n",
       "      <th>AssessmentName</th>\n",
       "      <th>TestName</th>\n",
       "      <th>InstrumentID</th>\n",
       "      <th>TestDate</th>\n",
       "      <th>Retest</th>\n",
       "      <th>Retest_order</th>\n",
       "      <th>retest</th>\n",
       "      <th>age_months_at_test</th>\n",
       "    </tr>\n",
       "  </thead>\n",
       "  <tbody>\n",
       "    <tr>\n",
       "      <th>276</th>\n",
       "      <td>SAT15011</td>\n",
       "      <td>SAT15011</td>\n",
       "      <td>F6E3CFC8-2735-477D-A35D-E59BF6E29C7E</td>\n",
       "      <td>NIH Toolbox LSWM Norming Version Form A</td>\n",
       "      <td>Response</td>\n",
       "      <td>1</td>\n",
       "      <td>A1B82B19-F148-48A3-ADD7-42283A34CFE2</td>\n",
       "      <td>FB29AE79-9FDF-406A-BA28-7BE945CC2EDB</td>\n",
       "      <td>LSWM_Test_Name</td>\n",
       "      <td>Assessment 1</td>\n",
       "      <td>LSWM_norm</td>\n",
       "      <td>5A91888E-7855-47AC-962D-E79B49E6D6D8</td>\n",
       "      <td>2021-06-14</td>\n",
       "      <td>no</td>\n",
       "      <td>FALSE</td>\n",
       "      <td>None</td>\n",
       "      <td>186.02</td>\n",
       "    </tr>\n",
       "    <tr>\n",
       "      <th>277</th>\n",
       "      <td>SAT15011</td>\n",
       "      <td>SAT15011</td>\n",
       "      <td>F6E3CFC8-2735-477D-A35D-E59BF6E29C7E</td>\n",
       "      <td>NIH Toolbox LSWM Norming Version Form A</td>\n",
       "      <td>DateCreated</td>\n",
       "      <td>2021-06-14 12:41:26</td>\n",
       "      <td>A1B82B19-F148-48A3-ADD7-42283A34CFE2</td>\n",
       "      <td>FB29AE79-9FDF-406A-BA28-7BE945CC2EDB</td>\n",
       "      <td>LSWM_Test_Name</td>\n",
       "      <td>Assessment 1</td>\n",
       "      <td>LSWM_norm</td>\n",
       "      <td>5A91888E-7855-47AC-962D-E79B49E6D6D8</td>\n",
       "      <td>2021-06-14</td>\n",
       "      <td>no</td>\n",
       "      <td>FALSE</td>\n",
       "      <td>None</td>\n",
       "      <td>186.02</td>\n",
       "    </tr>\n",
       "    <tr>\n",
       "      <th>278</th>\n",
       "      <td>SAT15011</td>\n",
       "      <td>SAT15011</td>\n",
       "      <td>F6E3CFC8-2735-477D-A35D-E59BF6E29C7E</td>\n",
       "      <td>NIH Toolbox LSWM Norming Version Form A</td>\n",
       "      <td>Response</td>\n",
       "      <td>1</td>\n",
       "      <td>A1B82B19-F148-48A3-ADD7-42283A34CFE2</td>\n",
       "      <td>5CC8E25D-B066-45F1-A794-58FF3DD841BF</td>\n",
       "      <td>LSWM_Intro_1</td>\n",
       "      <td>Assessment 1</td>\n",
       "      <td>LSWM_norm</td>\n",
       "      <td>5A91888E-7855-47AC-962D-E79B49E6D6D8</td>\n",
       "      <td>2021-06-14</td>\n",
       "      <td>no</td>\n",
       "      <td>FALSE</td>\n",
       "      <td>None</td>\n",
       "      <td>186.02</td>\n",
       "    </tr>\n",
       "    <tr>\n",
       "      <th>279</th>\n",
       "      <td>SAT15011</td>\n",
       "      <td>SAT15011</td>\n",
       "      <td>F6E3CFC8-2735-477D-A35D-E59BF6E29C7E</td>\n",
       "      <td>NIH Toolbox LSWM Norming Version Form A</td>\n",
       "      <td>DateCreated</td>\n",
       "      <td>2021-06-14 12:41:51</td>\n",
       "      <td>A1B82B19-F148-48A3-ADD7-42283A34CFE2</td>\n",
       "      <td>5CC8E25D-B066-45F1-A794-58FF3DD841BF</td>\n",
       "      <td>LSWM_Intro_1</td>\n",
       "      <td>Assessment 1</td>\n",
       "      <td>LSWM_norm</td>\n",
       "      <td>5A91888E-7855-47AC-962D-E79B49E6D6D8</td>\n",
       "      <td>2021-06-14</td>\n",
       "      <td>no</td>\n",
       "      <td>FALSE</td>\n",
       "      <td>None</td>\n",
       "      <td>186.02</td>\n",
       "    </tr>\n",
       "    <tr>\n",
       "      <th>280</th>\n",
       "      <td>SAT15011</td>\n",
       "      <td>SAT15011</td>\n",
       "      <td>F6E3CFC8-2735-477D-A35D-E59BF6E29C7E</td>\n",
       "      <td>NIH Toolbox LSWM Norming Version Form A</td>\n",
       "      <td>Response</td>\n",
       "      <td>1</td>\n",
       "      <td>A1B82B19-F148-48A3-ADD7-42283A34CFE2</td>\n",
       "      <td>ADE92E25-1BEF-4A27-9C71-2DDDA7B68819</td>\n",
       "      <td>LSWM_1List_Pract1_Trial1</td>\n",
       "      <td>Assessment 1</td>\n",
       "      <td>LSWM_norm</td>\n",
       "      <td>5A91888E-7855-47AC-962D-E79B49E6D6D8</td>\n",
       "      <td>2021-06-14</td>\n",
       "      <td>no</td>\n",
       "      <td>FALSE</td>\n",
       "      <td>None</td>\n",
       "      <td>186.02</td>\n",
       "    </tr>\n",
       "  </tbody>\n",
       "</table>\n",
       "</div>"
      ],
      "text/plain": [
       "     FinalPIN       PIN                        RegistrationID  \\\n",
       "276  SAT15011  SAT15011  F6E3CFC8-2735-477D-A35D-E59BF6E29C7E   \n",
       "277  SAT15011  SAT15011  F6E3CFC8-2735-477D-A35D-E59BF6E29C7E   \n",
       "278  SAT15011  SAT15011  F6E3CFC8-2735-477D-A35D-E59BF6E29C7E   \n",
       "279  SAT15011  SAT15011  F6E3CFC8-2735-477D-A35D-E59BF6E29C7E   \n",
       "280  SAT15011  SAT15011  F6E3CFC8-2735-477D-A35D-E59BF6E29C7E   \n",
       "\n",
       "                             InstrumentTitle          Key  \\\n",
       "276  NIH Toolbox LSWM Norming Version Form A     Response   \n",
       "277  NIH Toolbox LSWM Norming Version Form A  DateCreated   \n",
       "278  NIH Toolbox LSWM Norming Version Form A     Response   \n",
       "279  NIH Toolbox LSWM Norming Version Form A  DateCreated   \n",
       "280  NIH Toolbox LSWM Norming Version Form A     Response   \n",
       "\n",
       "                   Value                              DeviceID  \\\n",
       "276                    1  A1B82B19-F148-48A3-ADD7-42283A34CFE2   \n",
       "277  2021-06-14 12:41:26  A1B82B19-F148-48A3-ADD7-42283A34CFE2   \n",
       "278                    1  A1B82B19-F148-48A3-ADD7-42283A34CFE2   \n",
       "279  2021-06-14 12:41:51  A1B82B19-F148-48A3-ADD7-42283A34CFE2   \n",
       "280                    1  A1B82B19-F148-48A3-ADD7-42283A34CFE2   \n",
       "\n",
       "                               ResponseID                    ItemID  \\\n",
       "276  FB29AE79-9FDF-406A-BA28-7BE945CC2EDB            LSWM_Test_Name   \n",
       "277  FB29AE79-9FDF-406A-BA28-7BE945CC2EDB            LSWM_Test_Name   \n",
       "278  5CC8E25D-B066-45F1-A794-58FF3DD841BF              LSWM_Intro_1   \n",
       "279  5CC8E25D-B066-45F1-A794-58FF3DD841BF              LSWM_Intro_1   \n",
       "280  ADE92E25-1BEF-4A27-9C71-2DDDA7B68819  LSWM_1List_Pract1_Trial1   \n",
       "\n",
       "    AssessmentName   TestName                          InstrumentID  \\\n",
       "276   Assessment 1  LSWM_norm  5A91888E-7855-47AC-962D-E79B49E6D6D8   \n",
       "277   Assessment 1  LSWM_norm  5A91888E-7855-47AC-962D-E79B49E6D6D8   \n",
       "278   Assessment 1  LSWM_norm  5A91888E-7855-47AC-962D-E79B49E6D6D8   \n",
       "279   Assessment 1  LSWM_norm  5A91888E-7855-47AC-962D-E79B49E6D6D8   \n",
       "280   Assessment 1  LSWM_norm  5A91888E-7855-47AC-962D-E79B49E6D6D8   \n",
       "\n",
       "      TestDate Retest Retest_order retest  age_months_at_test  \n",
       "276 2021-06-14     no        FALSE   None              186.02  \n",
       "277 2021-06-14     no        FALSE   None              186.02  \n",
       "278 2021-06-14     no        FALSE   None              186.02  \n",
       "279 2021-06-14     no        FALSE   None              186.02  \n",
       "280 2021-06-14     no        FALSE   None              186.02  "
      ]
     },
     "execution_count": 57,
     "metadata": {},
     "output_type": "execute_result"
    }
   ],
   "source": [
    "ldf.head()"
   ]
  },
  {
   "cell_type": "code",
   "execution_count": 58,
   "metadata": {},
   "outputs": [
    {
     "data": {
      "text/plain": [
       "array(['Response', 'DateCreated', 'Score'], dtype=object)"
      ]
     },
     "execution_count": 58,
     "metadata": {},
     "output_type": "execute_result"
    }
   ],
   "source": [
    "ldf.Key.unique()"
   ]
  },
  {
   "cell_type": "markdown",
   "metadata": {},
   "source": [
    "Data are in long-format (one row per key-value pair, but 4 key-value pairs per item [response, response time, score, and date created] – it may be necessary to pivot them into a wide format to make it more conducive to analysis. "
   ]
  },
  {
   "cell_type": "code",
   "execution_count": 59,
   "metadata": {},
   "outputs": [],
   "source": [
    "#Reshape the data from long to wide\n",
    "ldf_wide=ldf.pivot_table(index=['FinalPIN', 'DeviceID', 'AssessmentName', 'ResponseID', 'ItemID',\n",
    "       'InstrumentTitle', 'TestName', 'InstrumentID'], columns='Key', values='Value', aggfunc='first').reset_index()"
   ]
  },
  {
   "cell_type": "code",
   "execution_count": 60,
   "metadata": {},
   "outputs": [
    {
     "data": {
      "text/html": [
       "<div>\n",
       "<style scoped>\n",
       "    .dataframe tbody tr th:only-of-type {\n",
       "        vertical-align: middle;\n",
       "    }\n",
       "\n",
       "    .dataframe tbody tr th {\n",
       "        vertical-align: top;\n",
       "    }\n",
       "\n",
       "    .dataframe thead th {\n",
       "        text-align: right;\n",
       "    }\n",
       "</style>\n",
       "<table border=\"1\" class=\"dataframe\">\n",
       "  <thead>\n",
       "    <tr style=\"text-align: right;\">\n",
       "      <th>Key</th>\n",
       "      <th>FinalPIN</th>\n",
       "      <th>DeviceID</th>\n",
       "      <th>AssessmentName</th>\n",
       "      <th>ResponseID</th>\n",
       "      <th>ItemID</th>\n",
       "      <th>InstrumentTitle</th>\n",
       "      <th>TestName</th>\n",
       "      <th>InstrumentID</th>\n",
       "      <th>DateCreated</th>\n",
       "      <th>Response</th>\n",
       "      <th>Score</th>\n",
       "    </tr>\n",
       "  </thead>\n",
       "  <tbody>\n",
       "    <tr>\n",
       "      <th>0</th>\n",
       "      <td>MAP05001</td>\n",
       "      <td>570A856B-E5EC-4DBD-B4EE-B10C51BC919A</td>\n",
       "      <td>Assessment 1</td>\n",
       "      <td>156D3ECD-9693-40AD-9F98-AC71399AC857</td>\n",
       "      <td>LSWM_Intro_2</td>\n",
       "      <td>NIH Toolbox LSWM Norming Version Form A</td>\n",
       "      <td>LSWM_norm</td>\n",
       "      <td>D4DB3B66-7ADA-4F4F-91E2-1F264AA1C509</td>\n",
       "      <td>2021-06-13 12:01:59</td>\n",
       "      <td>1</td>\n",
       "      <td>NaN</td>\n",
       "    </tr>\n",
       "    <tr>\n",
       "      <th>1</th>\n",
       "      <td>MAP05001</td>\n",
       "      <td>570A856B-E5EC-4DBD-B4EE-B10C51BC919A</td>\n",
       "      <td>Assessment 1</td>\n",
       "      <td>1F19B76A-03E5-4392-8C95-85CA8A0F51CE</td>\n",
       "      <td>LSWM_Test_Name</td>\n",
       "      <td>NIH Toolbox LSWM Norming Version Form A</td>\n",
       "      <td>LSWM_norm</td>\n",
       "      <td>D4DB3B66-7ADA-4F4F-91E2-1F264AA1C509</td>\n",
       "      <td>2021-06-13 11:56:31</td>\n",
       "      <td>1</td>\n",
       "      <td>NaN</td>\n",
       "    </tr>\n",
       "    <tr>\n",
       "      <th>2</th>\n",
       "      <td>MAP05001</td>\n",
       "      <td>570A856B-E5EC-4DBD-B4EE-B10C51BC919A</td>\n",
       "      <td>Assessment 1</td>\n",
       "      <td>39CF681E-BD69-44C2-9461-D2BC082A74B2</td>\n",
       "      <td>LSWM_ReadyIntro2</td>\n",
       "      <td>NIH Toolbox LSWM Norming Version Form A</td>\n",
       "      <td>LSWM_norm</td>\n",
       "      <td>D4DB3B66-7ADA-4F4F-91E2-1F264AA1C509</td>\n",
       "      <td>2021-06-13 12:02:31</td>\n",
       "      <td>1</td>\n",
       "      <td>NaN</td>\n",
       "    </tr>\n",
       "    <tr>\n",
       "      <th>3</th>\n",
       "      <td>MAP05001</td>\n",
       "      <td>570A856B-E5EC-4DBD-B4EE-B10C51BC919A</td>\n",
       "      <td>Assessment 1</td>\n",
       "      <td>5A877518-447F-48E0-ABDF-B77A9274863C</td>\n",
       "      <td>LSWM_1List_Live_Item_A</td>\n",
       "      <td>NIH Toolbox LSWM Norming Version Form A</td>\n",
       "      <td>LSWM_norm</td>\n",
       "      <td>D4DB3B66-7ADA-4F4F-91E2-1F264AA1C509</td>\n",
       "      <td>2021-06-13 11:59:21</td>\n",
       "      <td>1</td>\n",
       "      <td>1</td>\n",
       "    </tr>\n",
       "    <tr>\n",
       "      <th>4</th>\n",
       "      <td>MAP05001</td>\n",
       "      <td>570A856B-E5EC-4DBD-B4EE-B10C51BC919A</td>\n",
       "      <td>Assessment 1</td>\n",
       "      <td>6A23E22B-E966-41E1-908D-3AC0F26D6737</td>\n",
       "      <td>LSWM_1List_Live_Item_Trans</td>\n",
       "      <td>NIH Toolbox LSWM Norming Version Form A</td>\n",
       "      <td>LSWM_norm</td>\n",
       "      <td>D4DB3B66-7ADA-4F4F-91E2-1F264AA1C509</td>\n",
       "      <td>2021-06-13 11:59:10</td>\n",
       "      <td>1</td>\n",
       "      <td>NaN</td>\n",
       "    </tr>\n",
       "  </tbody>\n",
       "</table>\n",
       "</div>"
      ],
      "text/plain": [
       "Key  FinalPIN                              DeviceID AssessmentName  \\\n",
       "0    MAP05001  570A856B-E5EC-4DBD-B4EE-B10C51BC919A   Assessment 1   \n",
       "1    MAP05001  570A856B-E5EC-4DBD-B4EE-B10C51BC919A   Assessment 1   \n",
       "2    MAP05001  570A856B-E5EC-4DBD-B4EE-B10C51BC919A   Assessment 1   \n",
       "3    MAP05001  570A856B-E5EC-4DBD-B4EE-B10C51BC919A   Assessment 1   \n",
       "4    MAP05001  570A856B-E5EC-4DBD-B4EE-B10C51BC919A   Assessment 1   \n",
       "\n",
       "Key                            ResponseID                      ItemID  \\\n",
       "0    156D3ECD-9693-40AD-9F98-AC71399AC857                LSWM_Intro_2   \n",
       "1    1F19B76A-03E5-4392-8C95-85CA8A0F51CE              LSWM_Test_Name   \n",
       "2    39CF681E-BD69-44C2-9461-D2BC082A74B2            LSWM_ReadyIntro2   \n",
       "3    5A877518-447F-48E0-ABDF-B77A9274863C      LSWM_1List_Live_Item_A   \n",
       "4    6A23E22B-E966-41E1-908D-3AC0F26D6737  LSWM_1List_Live_Item_Trans   \n",
       "\n",
       "Key                          InstrumentTitle   TestName  \\\n",
       "0    NIH Toolbox LSWM Norming Version Form A  LSWM_norm   \n",
       "1    NIH Toolbox LSWM Norming Version Form A  LSWM_norm   \n",
       "2    NIH Toolbox LSWM Norming Version Form A  LSWM_norm   \n",
       "3    NIH Toolbox LSWM Norming Version Form A  LSWM_norm   \n",
       "4    NIH Toolbox LSWM Norming Version Form A  LSWM_norm   \n",
       "\n",
       "Key                          InstrumentID          DateCreated Response Score  \n",
       "0    D4DB3B66-7ADA-4F4F-91E2-1F264AA1C509  2021-06-13 12:01:59        1   NaN  \n",
       "1    D4DB3B66-7ADA-4F4F-91E2-1F264AA1C509  2021-06-13 11:56:31        1   NaN  \n",
       "2    D4DB3B66-7ADA-4F4F-91E2-1F264AA1C509  2021-06-13 12:02:31        1   NaN  \n",
       "3    D4DB3B66-7ADA-4F4F-91E2-1F264AA1C509  2021-06-13 11:59:21        1     1  \n",
       "4    D4DB3B66-7ADA-4F4F-91E2-1F264AA1C509  2021-06-13 11:59:10        1   NaN  "
      ]
     },
     "execution_count": 60,
     "metadata": {},
     "output_type": "execute_result"
    }
   ],
   "source": [
    "ldf_wide.head()"
   ]
  },
  {
   "cell_type": "code",
   "execution_count": 61,
   "metadata": {},
   "outputs": [
    {
     "data": {
      "text/plain": [
       "3537"
      ]
     },
     "execution_count": 61,
     "metadata": {},
     "output_type": "execute_result"
    }
   ],
   "source": [
    "#Sanity check\n",
    "#NOTE: There should be 3537 unique records for LSWM \n",
    "\n",
    "ldf_wide.FinalPIN.nunique()"
   ]
  },
  {
   "cell_type": "code",
   "execution_count": null,
   "metadata": {},
   "outputs": [],
   "source": []
  }
 ],
 "metadata": {
  "colab": {
   "collapsed_sections": [],
   "name": "In_person_vs_remote.ipynb",
   "provenance": []
  },
  "kernelspec": {
   "display_name": "Python 3",
   "language": "python",
   "name": "python3"
  },
  "language_info": {
   "codemirror_mode": {
    "name": "ipython",
    "version": 3
   },
   "file_extension": ".py",
   "mimetype": "text/x-python",
   "name": "python",
   "nbconvert_exporter": "python",
   "pygments_lexer": "ipython3",
   "version": "3.8.8"
  }
 },
 "nbformat": 4,
 "nbformat_minor": 1
}
