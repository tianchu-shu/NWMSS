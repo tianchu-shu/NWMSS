{
 "cells": [
  {
   "cell_type": "code",
   "execution_count": 1,
   "metadata": {
    "id": "SPKdLsF0Rg36"
   },
   "outputs": [],
   "source": [
    "#Data saved in csv/excel\n",
    "import glob, os\n",
    "import pandas as pd\n",
    "import numpy as np\n",
    "import warnings\n",
    "warnings.filterwarnings('ignore')\n"
   ]
  },
  {
   "cell_type": "code",
   "execution_count": 2,
   "metadata": {
    "colab": {
     "base_uri": "https://localhost:8080/",
     "height": 666
    },
    "id": "pMEIOTwTin-_",
    "outputId": "3773d420-bccb-45ff-b95a-36dbde272331"
   },
   "outputs": [],
   "source": [
    "#Set two decimal points for display\n",
    "pd.options.display.float_format = \"{:.2f}\".format"
   ]
  },
  {
   "cell_type": "markdown",
   "metadata": {
    "id": "Ryp-FuHZLWyT"
   },
   "source": [
    "# Get the NIHTB Mater data"
   ]
  },
  {
   "cell_type": "code",
   "execution_count": 3,
   "metadata": {},
   "outputs": [
    {
     "data": {
      "text/plain": [
       "(8173451, 17)"
      ]
     },
     "execution_count": 3,
     "metadata": {},
     "output_type": "execute_result"
    }
   ],
   "source": [
    "import pyarrow.parquet as pq\n",
    "\n",
    "df = pq.read_table(source='R:/MSS/Research/NIHTB v3.0 Norming/SG Data/Cleaned_Data/2022_04_08/2022-04-08_B_NIHTB_Master.parquet.gzip').to_pandas()\n",
    "df.shape"
   ]
  },
  {
   "cell_type": "code",
   "execution_count": 5,
   "metadata": {},
   "outputs": [
    {
     "data": {
      "text/plain": [
       "(7759595, 17)"
      ]
     },
     "execution_count": 5,
     "metadata": {},
     "output_type": "execute_result"
    }
   ],
   "source": [
    "#Filter Retest_order == FALSE or first; there should be NO duplicates. \n",
    "df1 = df[df.Retest_order != 'second']\n",
    "df1.shape"
   ]
  },
  {
   "cell_type": "code",
   "execution_count": 6,
   "metadata": {},
   "outputs": [
    {
     "data": {
      "text/plain": [
       "array(['PV_norm', 'Flank_norm', 'LSWM_norm', 'DCCS_norm', 'PC_norm',\n",
       "       'PSM_norm', 'OR_norm', 'AudLrn_norm', 'VR_norm', 'OSD_norm',\n",
       "       'StandBal_norm', 'FNAME_norm', 'SpdMtch_norm', 'DCCS_SAdmin',\n",
       "       'PicSeq_SAdmin'], dtype=object)"
      ]
     },
     "execution_count": 6,
     "metadata": {},
     "output_type": "execute_result"
    }
   ],
   "source": [
    "df1.TestName.unique()"
   ]
  },
  {
   "cell_type": "markdown",
   "metadata": {},
   "source": [
    "# List Sort Working Memory"
   ]
  },
  {
   "cell_type": "code",
   "execution_count": 351,
   "metadata": {},
   "outputs": [],
   "source": [
    "def select_Test(df, tname):\n",
    "    long = df[df.TestName==tname]\n",
    "    \n",
    "    #Reshape the data from long to wide\n",
    "    wide=long.pivot_table(index=['FinalPIN', 'DeviceID', 'AssessmentName', 'ResponseID', 'ItemID',\n",
    "       'InstrumentTitle', 'TestName', 'InstrumentID','age_months_at_test'], columns='Key', values='Value', aggfunc='first').reset_index()\n",
    "    #sort the dataframe by DateCreated\n",
    "    #Convert to datetime\n",
    "    wide['DateCreated']= pd.to_datetime(wide['DateCreated'], format='%Y-%m-%d %H:%M:%S')\n",
    "    wide =wide.sort_values('DateCreated')\n",
    "    \n",
    "    return wide\n",
    "    "
   ]
  },
  {
   "cell_type": "code",
   "execution_count": 354,
   "metadata": {},
   "outputs": [],
   "source": [
    "ldf_wide = select_Test(df1, 'LSWM_norm')"
   ]
  },
  {
   "cell_type": "code",
   "execution_count": 355,
   "metadata": {},
   "outputs": [
    {
     "data": {
      "text/html": [
       "<div>\n",
       "<style scoped>\n",
       "    .dataframe tbody tr th:only-of-type {\n",
       "        vertical-align: middle;\n",
       "    }\n",
       "\n",
       "    .dataframe tbody tr th {\n",
       "        vertical-align: top;\n",
       "    }\n",
       "\n",
       "    .dataframe thead th {\n",
       "        text-align: right;\n",
       "    }\n",
       "</style>\n",
       "<table border=\"1\" class=\"dataframe\">\n",
       "  <thead>\n",
       "    <tr style=\"text-align: right;\">\n",
       "      <th>Key</th>\n",
       "      <th>FinalPIN</th>\n",
       "      <th>DeviceID</th>\n",
       "      <th>AssessmentName</th>\n",
       "      <th>ResponseID</th>\n",
       "      <th>ItemID</th>\n",
       "      <th>InstrumentTitle</th>\n",
       "      <th>TestName</th>\n",
       "      <th>InstrumentID</th>\n",
       "      <th>age_months_at_test</th>\n",
       "      <th>DateCreated</th>\n",
       "      <th>Response</th>\n",
       "      <th>Score</th>\n",
       "    </tr>\n",
       "  </thead>\n",
       "  <tbody>\n",
       "    <tr>\n",
       "      <th>19674</th>\n",
       "      <td>MSL19002</td>\n",
       "      <td>5CECD629-9F82-40E5-A7C0-05014145BC4C</td>\n",
       "      <td>Assessment 1</td>\n",
       "      <td>BC858299-FCBA-4051-B263-3614409ED472</td>\n",
       "      <td>LSWM_Test_Name</td>\n",
       "      <td>NIH Toolbox LSWM Norming Version Form A</td>\n",
       "      <td>LSWM_norm</td>\n",
       "      <td>938EFF0C-651F-4063-BC3F-A775E32FE443</td>\n",
       "      <td>238.20</td>\n",
       "      <td>2021-06-02 08:42:59</td>\n",
       "      <td>1</td>\n",
       "      <td>NaN</td>\n",
       "    </tr>\n",
       "    <tr>\n",
       "      <th>19656</th>\n",
       "      <td>MSL19002</td>\n",
       "      <td>5CECD629-9F82-40E5-A7C0-05014145BC4C</td>\n",
       "      <td>Assessment 1</td>\n",
       "      <td>29B1A183-748B-45BF-B39B-0A157818DCD0</td>\n",
       "      <td>LSWM_Intro_1</td>\n",
       "      <td>NIH Toolbox LSWM Norming Version Form A</td>\n",
       "      <td>LSWM_norm</td>\n",
       "      <td>938EFF0C-651F-4063-BC3F-A775E32FE443</td>\n",
       "      <td>238.20</td>\n",
       "      <td>2021-06-02 08:43:23</td>\n",
       "      <td>1</td>\n",
       "      <td>NaN</td>\n",
       "    </tr>\n",
       "    <tr>\n",
       "      <th>19670</th>\n",
       "      <td>MSL19002</td>\n",
       "      <td>5CECD629-9F82-40E5-A7C0-05014145BC4C</td>\n",
       "      <td>Assessment 1</td>\n",
       "      <td>8FA175DA-470F-42E6-884E-799EC3057F1F</td>\n",
       "      <td>LSWM_1List_Pract1_Trial1</td>\n",
       "      <td>NIH Toolbox LSWM Norming Version Form A</td>\n",
       "      <td>LSWM_norm</td>\n",
       "      <td>938EFF0C-651F-4063-BC3F-A775E32FE443</td>\n",
       "      <td>238.20</td>\n",
       "      <td>2021-06-02 08:43:36</td>\n",
       "      <td>1</td>\n",
       "      <td>1</td>\n",
       "    </tr>\n",
       "    <tr>\n",
       "      <th>19678</th>\n",
       "      <td>MSL19002</td>\n",
       "      <td>5CECD629-9F82-40E5-A7C0-05014145BC4C</td>\n",
       "      <td>Assessment 1</td>\n",
       "      <td>EE7D76EA-316D-46B6-B558-175CFB966F21</td>\n",
       "      <td>LSWM_ReadyIntro</td>\n",
       "      <td>NIH Toolbox LSWM Norming Version Form A</td>\n",
       "      <td>LSWM_norm</td>\n",
       "      <td>938EFF0C-651F-4063-BC3F-A775E32FE443</td>\n",
       "      <td>238.20</td>\n",
       "      <td>2021-06-02 08:43:44</td>\n",
       "      <td>1</td>\n",
       "      <td>NaN</td>\n",
       "    </tr>\n",
       "    <tr>\n",
       "      <th>19661</th>\n",
       "      <td>MSL19002</td>\n",
       "      <td>5CECD629-9F82-40E5-A7C0-05014145BC4C</td>\n",
       "      <td>Assessment 1</td>\n",
       "      <td>4CE95452-2729-4982-8690-9F5C4514DF18</td>\n",
       "      <td>LSWM_1List_Pract2_Trial1</td>\n",
       "      <td>NIH Toolbox LSWM Norming Version Form A</td>\n",
       "      <td>LSWM_norm</td>\n",
       "      <td>938EFF0C-651F-4063-BC3F-A775E32FE443</td>\n",
       "      <td>238.20</td>\n",
       "      <td>2021-06-02 08:43:56</td>\n",
       "      <td>1</td>\n",
       "      <td>1</td>\n",
       "    </tr>\n",
       "  </tbody>\n",
       "</table>\n",
       "</div>"
      ],
      "text/plain": [
       "Key    FinalPIN                              DeviceID AssessmentName  \\\n",
       "19674  MSL19002  5CECD629-9F82-40E5-A7C0-05014145BC4C   Assessment 1   \n",
       "19656  MSL19002  5CECD629-9F82-40E5-A7C0-05014145BC4C   Assessment 1   \n",
       "19670  MSL19002  5CECD629-9F82-40E5-A7C0-05014145BC4C   Assessment 1   \n",
       "19678  MSL19002  5CECD629-9F82-40E5-A7C0-05014145BC4C   Assessment 1   \n",
       "19661  MSL19002  5CECD629-9F82-40E5-A7C0-05014145BC4C   Assessment 1   \n",
       "\n",
       "Key                              ResponseID                    ItemID  \\\n",
       "19674  BC858299-FCBA-4051-B263-3614409ED472            LSWM_Test_Name   \n",
       "19656  29B1A183-748B-45BF-B39B-0A157818DCD0              LSWM_Intro_1   \n",
       "19670  8FA175DA-470F-42E6-884E-799EC3057F1F  LSWM_1List_Pract1_Trial1   \n",
       "19678  EE7D76EA-316D-46B6-B558-175CFB966F21           LSWM_ReadyIntro   \n",
       "19661  4CE95452-2729-4982-8690-9F5C4514DF18  LSWM_1List_Pract2_Trial1   \n",
       "\n",
       "Key                            InstrumentTitle   TestName  \\\n",
       "19674  NIH Toolbox LSWM Norming Version Form A  LSWM_norm   \n",
       "19656  NIH Toolbox LSWM Norming Version Form A  LSWM_norm   \n",
       "19670  NIH Toolbox LSWM Norming Version Form A  LSWM_norm   \n",
       "19678  NIH Toolbox LSWM Norming Version Form A  LSWM_norm   \n",
       "19661  NIH Toolbox LSWM Norming Version Form A  LSWM_norm   \n",
       "\n",
       "Key                            InstrumentID  age_months_at_test  \\\n",
       "19674  938EFF0C-651F-4063-BC3F-A775E32FE443              238.20   \n",
       "19656  938EFF0C-651F-4063-BC3F-A775E32FE443              238.20   \n",
       "19670  938EFF0C-651F-4063-BC3F-A775E32FE443              238.20   \n",
       "19678  938EFF0C-651F-4063-BC3F-A775E32FE443              238.20   \n",
       "19661  938EFF0C-651F-4063-BC3F-A775E32FE443              238.20   \n",
       "\n",
       "Key           DateCreated Response Score  \n",
       "19674 2021-06-02 08:42:59        1   NaN  \n",
       "19656 2021-06-02 08:43:23        1   NaN  \n",
       "19670 2021-06-02 08:43:36        1     1  \n",
       "19678 2021-06-02 08:43:44        1   NaN  \n",
       "19661 2021-06-02 08:43:56        1     1  "
      ]
     },
     "execution_count": 355,
     "metadata": {},
     "output_type": "execute_result"
    }
   ],
   "source": [
    "ldf_wide.head()"
   ]
  },
  {
   "cell_type": "markdown",
   "metadata": {},
   "source": [
    "# a.Time_List1 + e. N_List1"
   ]
  },
  {
   "cell_type": "code",
   "execution_count": 269,
   "metadata": {},
   "outputs": [
    {
     "data": {
      "text/plain": [
       "3537"
      ]
     },
     "execution_count": 269,
     "metadata": {},
     "output_type": "execute_result"
    }
   ],
   "source": [
    "#Sanity check\n",
    "#NOTE: There should be 3537 unique records for LSWM \n",
    "ldf_wide.FinalPIN.nunique()"
   ]
  },
  {
   "cell_type": "code",
   "execution_count": 303,
   "metadata": {},
   "outputs": [],
   "source": [
    "def get_Live_Item_Duration(df, List = 1):\n",
    "    if List == 1:\n",
    "        Interest = 'LSWM_1List_Live_Item'\n",
    "    else:\n",
    "        Interest ='LSWM_2List_Live_Item'\n",
    "    drop = '_Live_Item_Trans'\n",
    "    \n",
    "    \n",
    "    #After filter by List1 live item there is only 3498 unique PIN\n",
    "    data= df[df.ItemID.str.startswith(Interest)]\n",
    "    #drop the rows with Item_Trans\n",
    "    data = data[~data.ItemID.str.contains(drop)]\n",
    "    nlist =data.groupby('FinalPIN')['ItemID'].count().reset_index()\n",
    "    nlist.columns =['FinalPIN', 'N_List'+str(List)]\n",
    "    \n",
    "    first=data.groupby('FinalPIN')['ItemID','DateCreated'].first()\n",
    "    last =data.groupby('FinalPIN')['ItemID','DateCreated'].last()\n",
    "    \n",
    "    t1 = pd.merge(first, last, on='FinalPIN', how='outer')\n",
    "    t1.columns =['ItemID_first'+str(List), 'DateCreated_first'+str(List), 'ItemID_last'+str(List), 'DateCreated_last'+str(List)]\n",
    "    #Calculate the duration\n",
    "    t1['Time_list'+str(List)] =pd.to_datetime(t1['DateCreated_last'+str(List)], format='%Y-%m-%d %H:%M:%S')-pd.to_datetime(t1['DateCreated_first'+str(List)], format='%Y-%m-%d %H:%M:%S')\n",
    "    rv = pd.merge(t1, nlist, on='FinalPIN',how='outer')\n",
    "    display(rv.head())  \n",
    "    \n",
    "    return rv"
   ]
  },
  {
   "cell_type": "code",
   "execution_count": 305,
   "metadata": {},
   "outputs": [
    {
     "data": {
      "text/html": [
       "<div>\n",
       "<style scoped>\n",
       "    .dataframe tbody tr th:only-of-type {\n",
       "        vertical-align: middle;\n",
       "    }\n",
       "\n",
       "    .dataframe tbody tr th {\n",
       "        vertical-align: top;\n",
       "    }\n",
       "\n",
       "    .dataframe thead th {\n",
       "        text-align: right;\n",
       "    }\n",
       "</style>\n",
       "<table border=\"1\" class=\"dataframe\">\n",
       "  <thead>\n",
       "    <tr style=\"text-align: right;\">\n",
       "      <th></th>\n",
       "      <th>FinalPIN</th>\n",
       "      <th>ItemID_first1</th>\n",
       "      <th>DateCreated_first1</th>\n",
       "      <th>ItemID_last1</th>\n",
       "      <th>DateCreated_last1</th>\n",
       "      <th>Time_list1</th>\n",
       "      <th>N_List1</th>\n",
       "    </tr>\n",
       "  </thead>\n",
       "  <tbody>\n",
       "    <tr>\n",
       "      <th>0</th>\n",
       "      <td>MAP05001</td>\n",
       "      <td>LSWM_1List_Live_Item_A</td>\n",
       "      <td>2021-06-13 11:59:21</td>\n",
       "      <td>LSWM_1List_Live_Item_H</td>\n",
       "      <td>2021-06-13 12:01:36</td>\n",
       "      <td>0 days 00:02:15</td>\n",
       "      <td>6</td>\n",
       "    </tr>\n",
       "    <tr>\n",
       "      <th>1</th>\n",
       "      <td>MAP05003</td>\n",
       "      <td>LSWM_1List_Live_Item_A</td>\n",
       "      <td>2021-06-10 19:48:08</td>\n",
       "      <td>LSWM_1List_Live_Item_H</td>\n",
       "      <td>2021-06-10 19:49:14</td>\n",
       "      <td>0 days 00:01:06</td>\n",
       "      <td>6</td>\n",
       "    </tr>\n",
       "    <tr>\n",
       "      <th>2</th>\n",
       "      <td>MAP05004</td>\n",
       "      <td>LSWM_1List_Live_Item_B</td>\n",
       "      <td>2021-06-06 13:36:32</td>\n",
       "      <td>LSWM_1List_Live_Item_G</td>\n",
       "      <td>2021-06-06 13:38:03</td>\n",
       "      <td>0 days 00:01:31</td>\n",
       "      <td>6</td>\n",
       "    </tr>\n",
       "    <tr>\n",
       "      <th>3</th>\n",
       "      <td>MAP05005</td>\n",
       "      <td>LSWM_1List_Live_Item_A</td>\n",
       "      <td>2021-06-20 13:33:16</td>\n",
       "      <td>LSWM_1List_Live_Item_L</td>\n",
       "      <td>2021-06-20 13:36:11</td>\n",
       "      <td>0 days 00:02:55</td>\n",
       "      <td>10</td>\n",
       "    </tr>\n",
       "    <tr>\n",
       "      <th>4</th>\n",
       "      <td>MAP05006</td>\n",
       "      <td>LSWM_1List_Live_Item_B</td>\n",
       "      <td>2021-06-10 20:40:01</td>\n",
       "      <td>LSWM_1List_Live_Item_G</td>\n",
       "      <td>2021-06-10 20:41:11</td>\n",
       "      <td>0 days 00:01:10</td>\n",
       "      <td>6</td>\n",
       "    </tr>\n",
       "  </tbody>\n",
       "</table>\n",
       "</div>"
      ],
      "text/plain": [
       "   FinalPIN           ItemID_first1  DateCreated_first1  \\\n",
       "0  MAP05001  LSWM_1List_Live_Item_A 2021-06-13 11:59:21   \n",
       "1  MAP05003  LSWM_1List_Live_Item_A 2021-06-10 19:48:08   \n",
       "2  MAP05004  LSWM_1List_Live_Item_B 2021-06-06 13:36:32   \n",
       "3  MAP05005  LSWM_1List_Live_Item_A 2021-06-20 13:33:16   \n",
       "4  MAP05006  LSWM_1List_Live_Item_B 2021-06-10 20:40:01   \n",
       "\n",
       "             ItemID_last1   DateCreated_last1      Time_list1  N_List1  \n",
       "0  LSWM_1List_Live_Item_H 2021-06-13 12:01:36 0 days 00:02:15        6  \n",
       "1  LSWM_1List_Live_Item_H 2021-06-10 19:49:14 0 days 00:01:06        6  \n",
       "2  LSWM_1List_Live_Item_G 2021-06-06 13:38:03 0 days 00:01:31        6  \n",
       "3  LSWM_1List_Live_Item_L 2021-06-20 13:36:11 0 days 00:02:55       10  \n",
       "4  LSWM_1List_Live_Item_G 2021-06-10 20:41:11 0 days 00:01:10        6  "
      ]
     },
     "metadata": {},
     "output_type": "display_data"
    }
   ],
   "source": [
    "t1= get_Live_Item_Duration(ldf_wide, 1)"
   ]
  },
  {
   "cell_type": "code",
   "execution_count": 306,
   "metadata": {},
   "outputs": [
    {
     "data": {
      "text/plain": [
       "(3497, 7)"
      ]
     },
     "execution_count": 306,
     "metadata": {},
     "output_type": "execute_result"
    }
   ],
   "source": [
    "t1.shape"
   ]
  },
  {
   "cell_type": "markdown",
   "metadata": {},
   "source": [
    "# b.Time_List2 + e. N_List2"
   ]
  },
  {
   "cell_type": "code",
   "execution_count": 307,
   "metadata": {},
   "outputs": [
    {
     "data": {
      "text/html": [
       "<div>\n",
       "<style scoped>\n",
       "    .dataframe tbody tr th:only-of-type {\n",
       "        vertical-align: middle;\n",
       "    }\n",
       "\n",
       "    .dataframe tbody tr th {\n",
       "        vertical-align: top;\n",
       "    }\n",
       "\n",
       "    .dataframe thead th {\n",
       "        text-align: right;\n",
       "    }\n",
       "</style>\n",
       "<table border=\"1\" class=\"dataframe\">\n",
       "  <thead>\n",
       "    <tr style=\"text-align: right;\">\n",
       "      <th></th>\n",
       "      <th>FinalPIN</th>\n",
       "      <th>ItemID_first2</th>\n",
       "      <th>DateCreated_first2</th>\n",
       "      <th>ItemID_last2</th>\n",
       "      <th>DateCreated_last2</th>\n",
       "      <th>Time_list2</th>\n",
       "      <th>N_List2</th>\n",
       "    </tr>\n",
       "  </thead>\n",
       "  <tbody>\n",
       "    <tr>\n",
       "      <th>0</th>\n",
       "      <td>MAP05001</td>\n",
       "      <td>LSWM_2List_Live_Item_O</td>\n",
       "      <td>2021-06-13 12:04:31</td>\n",
       "      <td>LSWM_2List_Live_Item_R</td>\n",
       "      <td>2021-06-13 12:05:26</td>\n",
       "      <td>0 days 00:00:55</td>\n",
       "      <td>4</td>\n",
       "    </tr>\n",
       "    <tr>\n",
       "      <th>1</th>\n",
       "      <td>MAP05003</td>\n",
       "      <td>LSWM_2List_Live_Item_O</td>\n",
       "      <td>2021-06-10 19:51:07</td>\n",
       "      <td>LSWM_2List_Live_Item_R</td>\n",
       "      <td>2021-06-10 19:51:44</td>\n",
       "      <td>0 days 00:00:37</td>\n",
       "      <td>4</td>\n",
       "    </tr>\n",
       "    <tr>\n",
       "      <th>2</th>\n",
       "      <td>MAP05004</td>\n",
       "      <td>LSWM_2List_Live_Item_P</td>\n",
       "      <td>2021-06-06 13:40:38</td>\n",
       "      <td>LSWM_2List_Live_Item_Q</td>\n",
       "      <td>2021-06-06 13:41:25</td>\n",
       "      <td>0 days 00:00:47</td>\n",
       "      <td>4</td>\n",
       "    </tr>\n",
       "    <tr>\n",
       "      <th>3</th>\n",
       "      <td>MAP05005</td>\n",
       "      <td>LSWM_2List_Live_Item_O</td>\n",
       "      <td>2021-06-20 13:37:28</td>\n",
       "      <td>LSWM_2List_Live_Item_T</td>\n",
       "      <td>2021-06-20 13:39:01</td>\n",
       "      <td>0 days 00:01:33</td>\n",
       "      <td>6</td>\n",
       "    </tr>\n",
       "    <tr>\n",
       "      <th>4</th>\n",
       "      <td>MAP05006</td>\n",
       "      <td>LSWM_2List_Live_Item_P</td>\n",
       "      <td>2021-06-10 20:42:26</td>\n",
       "      <td>LSWM_2List_Live_Item_Q</td>\n",
       "      <td>2021-06-10 20:42:59</td>\n",
       "      <td>0 days 00:00:33</td>\n",
       "      <td>4</td>\n",
       "    </tr>\n",
       "  </tbody>\n",
       "</table>\n",
       "</div>"
      ],
      "text/plain": [
       "   FinalPIN           ItemID_first2  DateCreated_first2  \\\n",
       "0  MAP05001  LSWM_2List_Live_Item_O 2021-06-13 12:04:31   \n",
       "1  MAP05003  LSWM_2List_Live_Item_O 2021-06-10 19:51:07   \n",
       "2  MAP05004  LSWM_2List_Live_Item_P 2021-06-06 13:40:38   \n",
       "3  MAP05005  LSWM_2List_Live_Item_O 2021-06-20 13:37:28   \n",
       "4  MAP05006  LSWM_2List_Live_Item_P 2021-06-10 20:42:26   \n",
       "\n",
       "             ItemID_last2   DateCreated_last2      Time_list2  N_List2  \n",
       "0  LSWM_2List_Live_Item_R 2021-06-13 12:05:26 0 days 00:00:55        4  \n",
       "1  LSWM_2List_Live_Item_R 2021-06-10 19:51:44 0 days 00:00:37        4  \n",
       "2  LSWM_2List_Live_Item_Q 2021-06-06 13:41:25 0 days 00:00:47        4  \n",
       "3  LSWM_2List_Live_Item_T 2021-06-20 13:39:01 0 days 00:01:33        6  \n",
       "4  LSWM_2List_Live_Item_Q 2021-06-10 20:42:59 0 days 00:00:33        4  "
      ]
     },
     "metadata": {},
     "output_type": "display_data"
    }
   ],
   "source": [
    "t2 = get_Live_Item_Duration(ldf_wide, 2)"
   ]
  },
  {
   "cell_type": "code",
   "execution_count": 308,
   "metadata": {},
   "outputs": [
    {
     "data": {
      "text/plain": [
       "(3456, 7)"
      ]
     },
     "execution_count": 308,
     "metadata": {},
     "output_type": "execute_result"
    }
   ],
   "source": [
    "t2.shape"
   ]
  },
  {
   "cell_type": "code",
   "execution_count": 309,
   "metadata": {},
   "outputs": [
    {
     "data": {
      "text/html": [
       "<div>\n",
       "<style scoped>\n",
       "    .dataframe tbody tr th:only-of-type {\n",
       "        vertical-align: middle;\n",
       "    }\n",
       "\n",
       "    .dataframe tbody tr th {\n",
       "        vertical-align: top;\n",
       "    }\n",
       "\n",
       "    .dataframe thead th {\n",
       "        text-align: right;\n",
       "    }\n",
       "</style>\n",
       "<table border=\"1\" class=\"dataframe\">\n",
       "  <thead>\n",
       "    <tr style=\"text-align: right;\">\n",
       "      <th></th>\n",
       "      <th>FinalPIN</th>\n",
       "      <th>ItemID_first1</th>\n",
       "      <th>DateCreated_first1</th>\n",
       "      <th>ItemID_last1</th>\n",
       "      <th>DateCreated_last1</th>\n",
       "      <th>Time_list1</th>\n",
       "      <th>N_List1</th>\n",
       "      <th>ItemID_first2</th>\n",
       "      <th>DateCreated_first2</th>\n",
       "      <th>ItemID_last2</th>\n",
       "      <th>DateCreated_last2</th>\n",
       "      <th>Time_list2</th>\n",
       "      <th>N_List2</th>\n",
       "    </tr>\n",
       "  </thead>\n",
       "  <tbody>\n",
       "    <tr>\n",
       "      <th>3492</th>\n",
       "      <td>WPX85109</td>\n",
       "      <td>LSWM_1List_Live_Item_B</td>\n",
       "      <td>2021-08-21 12:46:06</td>\n",
       "      <td>LSWM_1List_Live_Item_I</td>\n",
       "      <td>2021-08-21 12:47:58</td>\n",
       "      <td>0 days 00:01:52</td>\n",
       "      <td>8</td>\n",
       "      <td>LSWM_2List_Live_Item_P</td>\n",
       "      <td>2021-08-21 12:49:15</td>\n",
       "      <td>LSWM_2List_Live_Item_W</td>\n",
       "      <td>2021-08-21 12:51:59</td>\n",
       "      <td>0 days 00:02:44</td>\n",
       "      <td>10.00</td>\n",
       "    </tr>\n",
       "    <tr>\n",
       "      <th>3493</th>\n",
       "      <td>XMAP13003</td>\n",
       "      <td>LSWM_1List_Live_Item_A</td>\n",
       "      <td>2021-06-07 16:38:36</td>\n",
       "      <td>LSWM_1List_Live_Item_L</td>\n",
       "      <td>2021-06-07 16:40:58</td>\n",
       "      <td>0 days 00:02:22</td>\n",
       "      <td>10</td>\n",
       "      <td>LSWM_2List_Live_Item_O</td>\n",
       "      <td>2021-06-07 16:42:36</td>\n",
       "      <td>LSWM_2List_Live_Item_V</td>\n",
       "      <td>2021-06-07 16:44:15</td>\n",
       "      <td>0 days 00:01:39</td>\n",
       "      <td>8.00</td>\n",
       "    </tr>\n",
       "    <tr>\n",
       "      <th>3494</th>\n",
       "      <td>XMSL14003</td>\n",
       "      <td>LSWM_1List_Live_Item_B</td>\n",
       "      <td>2021-06-09 08:44:14</td>\n",
       "      <td>LSWM_1List_Live_Item_I</td>\n",
       "      <td>2021-06-09 08:46:11</td>\n",
       "      <td>0 days 00:01:57</td>\n",
       "      <td>8</td>\n",
       "      <td>LSWM_2List_Live_Item_P</td>\n",
       "      <td>2021-06-09 08:47:24</td>\n",
       "      <td>LSWM_2List_Live_Item_W</td>\n",
       "      <td>2021-06-09 08:50:17</td>\n",
       "      <td>0 days 00:02:53</td>\n",
       "      <td>10.00</td>\n",
       "    </tr>\n",
       "    <tr>\n",
       "      <th>3495</th>\n",
       "      <td>XNBS10002</td>\n",
       "      <td>LSWM_1List_Live_Item_A</td>\n",
       "      <td>2021-06-10 14:13:12</td>\n",
       "      <td>LSWM_1List_Live_Item_N</td>\n",
       "      <td>2021-06-10 14:18:55</td>\n",
       "      <td>0 days 00:05:43</td>\n",
       "      <td>12</td>\n",
       "      <td>LSWM_2List_Live_Item_O</td>\n",
       "      <td>2021-06-10 14:20:15</td>\n",
       "      <td>LSWM_2List_Live_Item_Z</td>\n",
       "      <td>2021-06-10 14:25:58</td>\n",
       "      <td>0 days 00:05:43</td>\n",
       "      <td>12.00</td>\n",
       "    </tr>\n",
       "    <tr>\n",
       "      <th>3496</th>\n",
       "      <td>XNBS30005</td>\n",
       "      <td>LSWM_1List_Live_Item_A</td>\n",
       "      <td>2021-06-15 17:38:03</td>\n",
       "      <td>LSWM_1List_Live_Item_J</td>\n",
       "      <td>2021-06-15 17:40:12</td>\n",
       "      <td>0 days 00:02:09</td>\n",
       "      <td>8</td>\n",
       "      <td>LSWM_2List_Live_Item_O</td>\n",
       "      <td>2021-06-15 17:41:22</td>\n",
       "      <td>LSWM_2List_Live_Item_X</td>\n",
       "      <td>2021-06-15 17:44:20</td>\n",
       "      <td>0 days 00:02:58</td>\n",
       "      <td>10.00</td>\n",
       "    </tr>\n",
       "  </tbody>\n",
       "</table>\n",
       "</div>"
      ],
      "text/plain": [
       "       FinalPIN           ItemID_first1  DateCreated_first1  \\\n",
       "3492   WPX85109  LSWM_1List_Live_Item_B 2021-08-21 12:46:06   \n",
       "3493  XMAP13003  LSWM_1List_Live_Item_A 2021-06-07 16:38:36   \n",
       "3494  XMSL14003  LSWM_1List_Live_Item_B 2021-06-09 08:44:14   \n",
       "3495  XNBS10002  LSWM_1List_Live_Item_A 2021-06-10 14:13:12   \n",
       "3496  XNBS30005  LSWM_1List_Live_Item_A 2021-06-15 17:38:03   \n",
       "\n",
       "                ItemID_last1   DateCreated_last1      Time_list1  N_List1  \\\n",
       "3492  LSWM_1List_Live_Item_I 2021-08-21 12:47:58 0 days 00:01:52        8   \n",
       "3493  LSWM_1List_Live_Item_L 2021-06-07 16:40:58 0 days 00:02:22       10   \n",
       "3494  LSWM_1List_Live_Item_I 2021-06-09 08:46:11 0 days 00:01:57        8   \n",
       "3495  LSWM_1List_Live_Item_N 2021-06-10 14:18:55 0 days 00:05:43       12   \n",
       "3496  LSWM_1List_Live_Item_J 2021-06-15 17:40:12 0 days 00:02:09        8   \n",
       "\n",
       "               ItemID_first2  DateCreated_first2            ItemID_last2  \\\n",
       "3492  LSWM_2List_Live_Item_P 2021-08-21 12:49:15  LSWM_2List_Live_Item_W   \n",
       "3493  LSWM_2List_Live_Item_O 2021-06-07 16:42:36  LSWM_2List_Live_Item_V   \n",
       "3494  LSWM_2List_Live_Item_P 2021-06-09 08:47:24  LSWM_2List_Live_Item_W   \n",
       "3495  LSWM_2List_Live_Item_O 2021-06-10 14:20:15  LSWM_2List_Live_Item_Z   \n",
       "3496  LSWM_2List_Live_Item_O 2021-06-15 17:41:22  LSWM_2List_Live_Item_X   \n",
       "\n",
       "       DateCreated_last2      Time_list2  N_List2  \n",
       "3492 2021-08-21 12:51:59 0 days 00:02:44    10.00  \n",
       "3493 2021-06-07 16:44:15 0 days 00:01:39     8.00  \n",
       "3494 2021-06-09 08:50:17 0 days 00:02:53    10.00  \n",
       "3495 2021-06-10 14:25:58 0 days 00:05:43    12.00  \n",
       "3496 2021-06-15 17:44:20 0 days 00:02:58    10.00  "
      ]
     },
     "execution_count": 309,
     "metadata": {},
     "output_type": "execute_result"
    }
   ],
   "source": [
    "comb =pd.merge(t1,t2, on ='FinalPIN', how='left')\n",
    "comb.tail()"
   ]
  },
  {
   "cell_type": "markdown",
   "metadata": {},
   "source": [
    "# c. TimeTotal"
   ]
  },
  {
   "cell_type": "code",
   "execution_count": 310,
   "metadata": {},
   "outputs": [],
   "source": [
    "start = ldf_wide[ldf_wide.ItemID.str.startswith('LSWM_Test_Name')][['FinalPIN','DateCreated','InstrumentTitle','age_months_at_test']]"
   ]
  },
  {
   "cell_type": "code",
   "execution_count": 311,
   "metadata": {},
   "outputs": [],
   "source": [
    "start.columns=['FinalPIN', 'StartTime','InstrumentTitle','age_months_at_test']"
   ]
  },
  {
   "cell_type": "code",
   "execution_count": 312,
   "metadata": {},
   "outputs": [
    {
     "data": {
      "text/plain": [
       "(3537, 4)"
      ]
     },
     "execution_count": 312,
     "metadata": {},
     "output_type": "execute_result"
    }
   ],
   "source": [
    "start.shape"
   ]
  },
  {
   "cell_type": "code",
   "execution_count": 313,
   "metadata": {},
   "outputs": [],
   "source": [
    "comb = pd.merge(start, comb,on='FinalPIN', how='right')"
   ]
  },
  {
   "cell_type": "code",
   "execution_count": 314,
   "metadata": {},
   "outputs": [],
   "source": [
    "#TimeTotal = DateCreated of LSWM_Test_Name to the last LSWM_2_List_Live_Item_.  \n",
    "comb['TimeTotal'] =comb['DateCreated_last2'] - comb['StartTime']"
   ]
  },
  {
   "cell_type": "markdown",
   "metadata": {},
   "source": [
    "# d.Time_AllPractandTrans "
   ]
  },
  {
   "cell_type": "code",
   "execution_count": 315,
   "metadata": {},
   "outputs": [],
   "source": [
    "#Time_Total minus (Time_List1 + Time_List2) \n",
    "comb['Time_AllPractandTrans'] = comb['TimeTotal'] -comb['Time_list1'] - comb['Time_list2']"
   ]
  },
  {
   "cell_type": "code",
   "execution_count": 316,
   "metadata": {},
   "outputs": [
    {
     "data": {
      "text/html": [
       "<div>\n",
       "<style scoped>\n",
       "    .dataframe tbody tr th:only-of-type {\n",
       "        vertical-align: middle;\n",
       "    }\n",
       "\n",
       "    .dataframe tbody tr th {\n",
       "        vertical-align: top;\n",
       "    }\n",
       "\n",
       "    .dataframe thead th {\n",
       "        text-align: right;\n",
       "    }\n",
       "</style>\n",
       "<table border=\"1\" class=\"dataframe\">\n",
       "  <thead>\n",
       "    <tr style=\"text-align: right;\">\n",
       "      <th></th>\n",
       "      <th>FinalPIN</th>\n",
       "      <th>StartTime</th>\n",
       "      <th>InstrumentTitle</th>\n",
       "      <th>age_months_at_test</th>\n",
       "      <th>ItemID_first1</th>\n",
       "      <th>DateCreated_first1</th>\n",
       "      <th>ItemID_last1</th>\n",
       "      <th>DateCreated_last1</th>\n",
       "      <th>Time_list1</th>\n",
       "      <th>N_List1</th>\n",
       "      <th>ItemID_first2</th>\n",
       "      <th>DateCreated_first2</th>\n",
       "      <th>ItemID_last2</th>\n",
       "      <th>DateCreated_last2</th>\n",
       "      <th>Time_list2</th>\n",
       "      <th>N_List2</th>\n",
       "      <th>TimeTotal</th>\n",
       "      <th>Time_AllPractandTrans</th>\n",
       "    </tr>\n",
       "  </thead>\n",
       "  <tbody>\n",
       "    <tr>\n",
       "      <th>0</th>\n",
       "      <td>MAP05001</td>\n",
       "      <td>2021-06-13 11:56:31</td>\n",
       "      <td>NIH Toolbox LSWM Norming Version Form A</td>\n",
       "      <td>71.03</td>\n",
       "      <td>LSWM_1List_Live_Item_A</td>\n",
       "      <td>2021-06-13 11:59:21</td>\n",
       "      <td>LSWM_1List_Live_Item_H</td>\n",
       "      <td>2021-06-13 12:01:36</td>\n",
       "      <td>0 days 00:02:15</td>\n",
       "      <td>6</td>\n",
       "      <td>LSWM_2List_Live_Item_O</td>\n",
       "      <td>2021-06-13 12:04:31</td>\n",
       "      <td>LSWM_2List_Live_Item_R</td>\n",
       "      <td>2021-06-13 12:05:26</td>\n",
       "      <td>0 days 00:00:55</td>\n",
       "      <td>4.00</td>\n",
       "      <td>0 days 00:08:55</td>\n",
       "      <td>0 days 00:05:45</td>\n",
       "    </tr>\n",
       "    <tr>\n",
       "      <th>1</th>\n",
       "      <td>MAP05003</td>\n",
       "      <td>2021-06-10 19:46:33</td>\n",
       "      <td>NIH Toolbox LSWM Norming Version Form A</td>\n",
       "      <td>72.38</td>\n",
       "      <td>LSWM_1List_Live_Item_A</td>\n",
       "      <td>2021-06-10 19:48:08</td>\n",
       "      <td>LSWM_1List_Live_Item_H</td>\n",
       "      <td>2021-06-10 19:49:14</td>\n",
       "      <td>0 days 00:01:06</td>\n",
       "      <td>6</td>\n",
       "      <td>LSWM_2List_Live_Item_O</td>\n",
       "      <td>2021-06-10 19:51:07</td>\n",
       "      <td>LSWM_2List_Live_Item_R</td>\n",
       "      <td>2021-06-10 19:51:44</td>\n",
       "      <td>0 days 00:00:37</td>\n",
       "      <td>4.00</td>\n",
       "      <td>0 days 00:05:11</td>\n",
       "      <td>0 days 00:03:28</td>\n",
       "    </tr>\n",
       "    <tr>\n",
       "      <th>2</th>\n",
       "      <td>MAP05004</td>\n",
       "      <td>2021-06-06 13:34:45</td>\n",
       "      <td>NIH Toolbox LSWM Norming Version Form B</td>\n",
       "      <td>66.01</td>\n",
       "      <td>LSWM_1List_Live_Item_B</td>\n",
       "      <td>2021-06-06 13:36:32</td>\n",
       "      <td>LSWM_1List_Live_Item_G</td>\n",
       "      <td>2021-06-06 13:38:03</td>\n",
       "      <td>0 days 00:01:31</td>\n",
       "      <td>6</td>\n",
       "      <td>LSWM_2List_Live_Item_P</td>\n",
       "      <td>2021-06-06 13:40:38</td>\n",
       "      <td>LSWM_2List_Live_Item_Q</td>\n",
       "      <td>2021-06-06 13:41:25</td>\n",
       "      <td>0 days 00:00:47</td>\n",
       "      <td>4.00</td>\n",
       "      <td>0 days 00:06:40</td>\n",
       "      <td>0 days 00:04:22</td>\n",
       "    </tr>\n",
       "    <tr>\n",
       "      <th>3</th>\n",
       "      <td>MAP05005</td>\n",
       "      <td>2021-06-20 13:32:01</td>\n",
       "      <td>NIH Toolbox LSWM Norming Version Form A</td>\n",
       "      <td>66.33</td>\n",
       "      <td>LSWM_1List_Live_Item_A</td>\n",
       "      <td>2021-06-20 13:33:16</td>\n",
       "      <td>LSWM_1List_Live_Item_L</td>\n",
       "      <td>2021-06-20 13:36:11</td>\n",
       "      <td>0 days 00:02:55</td>\n",
       "      <td>10</td>\n",
       "      <td>LSWM_2List_Live_Item_O</td>\n",
       "      <td>2021-06-20 13:37:28</td>\n",
       "      <td>LSWM_2List_Live_Item_T</td>\n",
       "      <td>2021-06-20 13:39:01</td>\n",
       "      <td>0 days 00:01:33</td>\n",
       "      <td>6.00</td>\n",
       "      <td>0 days 00:07:00</td>\n",
       "      <td>0 days 00:02:32</td>\n",
       "    </tr>\n",
       "    <tr>\n",
       "      <th>4</th>\n",
       "      <td>MAP05006</td>\n",
       "      <td>2021-06-10 20:38:39</td>\n",
       "      <td>NIH Toolbox LSWM Norming Version Form B</td>\n",
       "      <td>67.81</td>\n",
       "      <td>LSWM_1List_Live_Item_B</td>\n",
       "      <td>2021-06-10 20:40:01</td>\n",
       "      <td>LSWM_1List_Live_Item_G</td>\n",
       "      <td>2021-06-10 20:41:11</td>\n",
       "      <td>0 days 00:01:10</td>\n",
       "      <td>6</td>\n",
       "      <td>LSWM_2List_Live_Item_P</td>\n",
       "      <td>2021-06-10 20:42:26</td>\n",
       "      <td>LSWM_2List_Live_Item_Q</td>\n",
       "      <td>2021-06-10 20:42:59</td>\n",
       "      <td>0 days 00:00:33</td>\n",
       "      <td>4.00</td>\n",
       "      <td>0 days 00:04:20</td>\n",
       "      <td>0 days 00:02:37</td>\n",
       "    </tr>\n",
       "  </tbody>\n",
       "</table>\n",
       "</div>"
      ],
      "text/plain": [
       "   FinalPIN           StartTime                          InstrumentTitle  \\\n",
       "0  MAP05001 2021-06-13 11:56:31  NIH Toolbox LSWM Norming Version Form A   \n",
       "1  MAP05003 2021-06-10 19:46:33  NIH Toolbox LSWM Norming Version Form A   \n",
       "2  MAP05004 2021-06-06 13:34:45  NIH Toolbox LSWM Norming Version Form B   \n",
       "3  MAP05005 2021-06-20 13:32:01  NIH Toolbox LSWM Norming Version Form A   \n",
       "4  MAP05006 2021-06-10 20:38:39  NIH Toolbox LSWM Norming Version Form B   \n",
       "\n",
       "   age_months_at_test           ItemID_first1  DateCreated_first1  \\\n",
       "0               71.03  LSWM_1List_Live_Item_A 2021-06-13 11:59:21   \n",
       "1               72.38  LSWM_1List_Live_Item_A 2021-06-10 19:48:08   \n",
       "2               66.01  LSWM_1List_Live_Item_B 2021-06-06 13:36:32   \n",
       "3               66.33  LSWM_1List_Live_Item_A 2021-06-20 13:33:16   \n",
       "4               67.81  LSWM_1List_Live_Item_B 2021-06-10 20:40:01   \n",
       "\n",
       "             ItemID_last1   DateCreated_last1      Time_list1  N_List1  \\\n",
       "0  LSWM_1List_Live_Item_H 2021-06-13 12:01:36 0 days 00:02:15        6   \n",
       "1  LSWM_1List_Live_Item_H 2021-06-10 19:49:14 0 days 00:01:06        6   \n",
       "2  LSWM_1List_Live_Item_G 2021-06-06 13:38:03 0 days 00:01:31        6   \n",
       "3  LSWM_1List_Live_Item_L 2021-06-20 13:36:11 0 days 00:02:55       10   \n",
       "4  LSWM_1List_Live_Item_G 2021-06-10 20:41:11 0 days 00:01:10        6   \n",
       "\n",
       "            ItemID_first2  DateCreated_first2            ItemID_last2  \\\n",
       "0  LSWM_2List_Live_Item_O 2021-06-13 12:04:31  LSWM_2List_Live_Item_R   \n",
       "1  LSWM_2List_Live_Item_O 2021-06-10 19:51:07  LSWM_2List_Live_Item_R   \n",
       "2  LSWM_2List_Live_Item_P 2021-06-06 13:40:38  LSWM_2List_Live_Item_Q   \n",
       "3  LSWM_2List_Live_Item_O 2021-06-20 13:37:28  LSWM_2List_Live_Item_T   \n",
       "4  LSWM_2List_Live_Item_P 2021-06-10 20:42:26  LSWM_2List_Live_Item_Q   \n",
       "\n",
       "    DateCreated_last2      Time_list2  N_List2       TimeTotal  \\\n",
       "0 2021-06-13 12:05:26 0 days 00:00:55     4.00 0 days 00:08:55   \n",
       "1 2021-06-10 19:51:44 0 days 00:00:37     4.00 0 days 00:05:11   \n",
       "2 2021-06-06 13:41:25 0 days 00:00:47     4.00 0 days 00:06:40   \n",
       "3 2021-06-20 13:39:01 0 days 00:01:33     6.00 0 days 00:07:00   \n",
       "4 2021-06-10 20:42:59 0 days 00:00:33     4.00 0 days 00:04:20   \n",
       "\n",
       "  Time_AllPractandTrans  \n",
       "0       0 days 00:05:45  \n",
       "1       0 days 00:03:28  \n",
       "2       0 days 00:04:22  \n",
       "3       0 days 00:02:32  \n",
       "4       0 days 00:02:37  "
      ]
     },
     "execution_count": 316,
     "metadata": {},
     "output_type": "execute_result"
    }
   ],
   "source": [
    "comb.head()"
   ]
  },
  {
   "cell_type": "code",
   "execution_count": 317,
   "metadata": {},
   "outputs": [],
   "source": [
    "keep =['FinalPIN',  'age_months_at_test','InstrumentTitle',\n",
    "        'Time_list1',  'Time_list2','Time_AllPractandTrans', 'TimeTotal', 'N_List1','N_List2']"
   ]
  },
  {
   "cell_type": "code",
   "execution_count": 318,
   "metadata": {},
   "outputs": [
    {
     "data": {
      "text/html": [
       "<div>\n",
       "<style scoped>\n",
       "    .dataframe tbody tr th:only-of-type {\n",
       "        vertical-align: middle;\n",
       "    }\n",
       "\n",
       "    .dataframe tbody tr th {\n",
       "        vertical-align: top;\n",
       "    }\n",
       "\n",
       "    .dataframe thead th {\n",
       "        text-align: right;\n",
       "    }\n",
       "</style>\n",
       "<table border=\"1\" class=\"dataframe\">\n",
       "  <thead>\n",
       "    <tr style=\"text-align: right;\">\n",
       "      <th></th>\n",
       "      <th>FinalPIN</th>\n",
       "      <th>age_months_at_test</th>\n",
       "      <th>InstrumentTitle</th>\n",
       "      <th>Time_list1</th>\n",
       "      <th>Time_list2</th>\n",
       "      <th>Time_AllPractandTrans</th>\n",
       "      <th>TimeTotal</th>\n",
       "      <th>N_List1</th>\n",
       "      <th>N_List2</th>\n",
       "    </tr>\n",
       "  </thead>\n",
       "  <tbody>\n",
       "    <tr>\n",
       "      <th>38</th>\n",
       "      <td>MAP09008</td>\n",
       "      <td>118.67</td>\n",
       "      <td>NIH Toolbox LSWM Norming Version Form B</td>\n",
       "      <td>0 days 00:02:18</td>\n",
       "      <td>0 days 00:01:37</td>\n",
       "      <td>0 days 00:02:21</td>\n",
       "      <td>0 days 00:06:16</td>\n",
       "      <td>10</td>\n",
       "      <td>8.00</td>\n",
       "    </tr>\n",
       "  </tbody>\n",
       "</table>\n",
       "</div>"
      ],
      "text/plain": [
       "    FinalPIN  age_months_at_test                          InstrumentTitle  \\\n",
       "38  MAP09008              118.67  NIH Toolbox LSWM Norming Version Form B   \n",
       "\n",
       "        Time_list1      Time_list2 Time_AllPractandTrans       TimeTotal  \\\n",
       "38 0 days 00:02:18 0 days 00:01:37       0 days 00:02:21 0 days 00:06:16   \n",
       "\n",
       "    N_List1  N_List2  \n",
       "38       10     8.00  "
      ]
     },
     "execution_count": 318,
     "metadata": {},
     "output_type": "execute_result"
    }
   ],
   "source": [
    "#sanity check\n",
    "comb[comb.FinalPIN =='MAP09008'][keep]"
   ]
  },
  {
   "cell_type": "code",
   "execution_count": 319,
   "metadata": {},
   "outputs": [
    {
     "data": {
      "text/plain": [
       "(3497, 18)"
      ]
     },
     "execution_count": 319,
     "metadata": {},
     "output_type": "execute_result"
    }
   ],
   "source": [
    "comb.shape"
   ]
  },
  {
   "cell_type": "code",
   "execution_count": 320,
   "metadata": {},
   "outputs": [
    {
     "data": {
      "text/html": [
       "<div>\n",
       "<style scoped>\n",
       "    .dataframe tbody tr th:only-of-type {\n",
       "        vertical-align: middle;\n",
       "    }\n",
       "\n",
       "    .dataframe tbody tr th {\n",
       "        vertical-align: top;\n",
       "    }\n",
       "\n",
       "    .dataframe thead th {\n",
       "        text-align: right;\n",
       "    }\n",
       "</style>\n",
       "<table border=\"1\" class=\"dataframe\">\n",
       "  <thead>\n",
       "    <tr style=\"text-align: right;\">\n",
       "      <th></th>\n",
       "      <th>FinalPIN</th>\n",
       "      <th>age_months_at_test</th>\n",
       "      <th>InstrumentTitle</th>\n",
       "      <th>Time_list1</th>\n",
       "      <th>Time_list2</th>\n",
       "      <th>Time_AllPractandTrans</th>\n",
       "      <th>TimeTotal</th>\n",
       "      <th>N_List1</th>\n",
       "      <th>N_List2</th>\n",
       "    </tr>\n",
       "  </thead>\n",
       "  <tbody>\n",
       "    <tr>\n",
       "      <th>0</th>\n",
       "      <td>MAP05001</td>\n",
       "      <td>71.03</td>\n",
       "      <td>NIH Toolbox LSWM Norming Version Form A</td>\n",
       "      <td>0 days 00:02:15</td>\n",
       "      <td>0 days 00:00:55</td>\n",
       "      <td>0 days 00:05:45</td>\n",
       "      <td>0 days 00:08:55</td>\n",
       "      <td>6</td>\n",
       "      <td>4.00</td>\n",
       "    </tr>\n",
       "    <tr>\n",
       "      <th>1</th>\n",
       "      <td>MAP05003</td>\n",
       "      <td>72.38</td>\n",
       "      <td>NIH Toolbox LSWM Norming Version Form A</td>\n",
       "      <td>0 days 00:01:06</td>\n",
       "      <td>0 days 00:00:37</td>\n",
       "      <td>0 days 00:03:28</td>\n",
       "      <td>0 days 00:05:11</td>\n",
       "      <td>6</td>\n",
       "      <td>4.00</td>\n",
       "    </tr>\n",
       "    <tr>\n",
       "      <th>2</th>\n",
       "      <td>MAP05004</td>\n",
       "      <td>66.01</td>\n",
       "      <td>NIH Toolbox LSWM Norming Version Form B</td>\n",
       "      <td>0 days 00:01:31</td>\n",
       "      <td>0 days 00:00:47</td>\n",
       "      <td>0 days 00:04:22</td>\n",
       "      <td>0 days 00:06:40</td>\n",
       "      <td>6</td>\n",
       "      <td>4.00</td>\n",
       "    </tr>\n",
       "    <tr>\n",
       "      <th>3</th>\n",
       "      <td>MAP05005</td>\n",
       "      <td>66.33</td>\n",
       "      <td>NIH Toolbox LSWM Norming Version Form A</td>\n",
       "      <td>0 days 00:02:55</td>\n",
       "      <td>0 days 00:01:33</td>\n",
       "      <td>0 days 00:02:32</td>\n",
       "      <td>0 days 00:07:00</td>\n",
       "      <td>10</td>\n",
       "      <td>6.00</td>\n",
       "    </tr>\n",
       "    <tr>\n",
       "      <th>4</th>\n",
       "      <td>MAP05006</td>\n",
       "      <td>67.81</td>\n",
       "      <td>NIH Toolbox LSWM Norming Version Form B</td>\n",
       "      <td>0 days 00:01:10</td>\n",
       "      <td>0 days 00:00:33</td>\n",
       "      <td>0 days 00:02:37</td>\n",
       "      <td>0 days 00:04:20</td>\n",
       "      <td>6</td>\n",
       "      <td>4.00</td>\n",
       "    </tr>\n",
       "  </tbody>\n",
       "</table>\n",
       "</div>"
      ],
      "text/plain": [
       "   FinalPIN  age_months_at_test                          InstrumentTitle  \\\n",
       "0  MAP05001               71.03  NIH Toolbox LSWM Norming Version Form A   \n",
       "1  MAP05003               72.38  NIH Toolbox LSWM Norming Version Form A   \n",
       "2  MAP05004               66.01  NIH Toolbox LSWM Norming Version Form B   \n",
       "3  MAP05005               66.33  NIH Toolbox LSWM Norming Version Form A   \n",
       "4  MAP05006               67.81  NIH Toolbox LSWM Norming Version Form B   \n",
       "\n",
       "       Time_list1      Time_list2 Time_AllPractandTrans       TimeTotal  \\\n",
       "0 0 days 00:02:15 0 days 00:00:55       0 days 00:05:45 0 days 00:08:55   \n",
       "1 0 days 00:01:06 0 days 00:00:37       0 days 00:03:28 0 days 00:05:11   \n",
       "2 0 days 00:01:31 0 days 00:00:47       0 days 00:04:22 0 days 00:06:40   \n",
       "3 0 days 00:02:55 0 days 00:01:33       0 days 00:02:32 0 days 00:07:00   \n",
       "4 0 days 00:01:10 0 days 00:00:33       0 days 00:02:37 0 days 00:04:20   \n",
       "\n",
       "   N_List1  N_List2  \n",
       "0        6     4.00  \n",
       "1        6     4.00  \n",
       "2        6     4.00  \n",
       "3       10     6.00  \n",
       "4        6     4.00  "
      ]
     },
     "execution_count": 320,
     "metadata": {},
     "output_type": "execute_result"
    }
   ],
   "source": [
    "comb[keep].head()"
   ]
  },
  {
   "cell_type": "code",
   "execution_count": 321,
   "metadata": {},
   "outputs": [],
   "source": [
    "comb[keep].to_csv('C:/Users/tsb7592/Downloads/LSWM_Timing.csv', index=False)"
   ]
  },
  {
   "cell_type": "code",
   "execution_count": 327,
   "metadata": {},
   "outputs": [],
   "source": [
    "td =comb.TimeTotal.loc[0]"
   ]
  },
  {
   "cell_type": "code",
   "execution_count": 332,
   "metadata": {},
   "outputs": [
    {
     "name": "stdout",
     "output_type": "stream",
     "text": [
      "8.0 55.0\n"
     ]
    }
   ],
   "source": [
    "minutes = td.total_seconds()//60\n",
    "secs = td.total_seconds()%60\n",
    "print(minutes, secs)"
   ]
  },
  {
   "cell_type": "markdown",
   "metadata": {},
   "source": [
    "# Speeded Matching"
   ]
  },
  {
   "cell_type": "code",
   "execution_count": 356,
   "metadata": {},
   "outputs": [],
   "source": [
    "sdf_wide = select_Test(df1, 'SpdMtch_norm')"
   ]
  },
  {
   "cell_type": "code",
   "execution_count": 357,
   "metadata": {},
   "outputs": [
    {
     "data": {
      "text/plain": [
       "846"
      ]
     },
     "execution_count": 357,
     "metadata": {},
     "output_type": "execute_result"
    }
   ],
   "source": [
    "#Using the same parquet dataset from List Sorting, but after filtering, there are only 846 cases. \n",
    "sdf_wide.FinalPIN.nunique()"
   ]
  },
  {
   "cell_type": "markdown",
   "metadata": {},
   "source": [
    "# 1) Time Live "
   ]
  },
  {
   "cell_type": "code",
   "execution_count": 346,
   "metadata": {},
   "outputs": [],
   "source": [
    "drop =['Spdm_Title', 'SpdM_INTRO', 'SpdMIns1', 'SpdMPract_Transition',\n",
    "       'SpdMP1', 'SpdMP2', 'SpdMP3', 'SpdMP4', 'Spdm_Transition']"
   ]
  },
  {
   "cell_type": "code",
   "execution_count": 360,
   "metadata": {},
   "outputs": [],
   "source": [
    "#a. Select all ItemIDs that have the format “SpdM[numeric only]”\n",
    "sdf_wide= sdf_wide[~sdf_wide.ItemID.isin(drop)]"
   ]
  },
  {
   "cell_type": "code",
   "execution_count": 368,
   "metadata": {},
   "outputs": [],
   "source": [
    "sdf_wide['ResponseTime'] = pd.to_numeric(sdf_wide['ResponseTime'])\n",
    "sdf_wide['Score'] = pd.to_numeric(sdf_wide['Score'])"
   ]
  },
  {
   "cell_type": "code",
   "execution_count": 372,
   "metadata": {},
   "outputs": [
    {
     "data": {
      "text/plain": [
       "(34649, 13)"
      ]
     },
     "execution_count": 372,
     "metadata": {},
     "output_type": "execute_result"
    }
   ],
   "source": [
    "sdf_wide.shape"
   ]
  },
  {
   "cell_type": "code",
   "execution_count": 371,
   "metadata": {},
   "outputs": [
    {
     "data": {
      "text/html": [
       "<div>\n",
       "<style scoped>\n",
       "    .dataframe tbody tr th:only-of-type {\n",
       "        vertical-align: middle;\n",
       "    }\n",
       "\n",
       "    .dataframe tbody tr th {\n",
       "        vertical-align: top;\n",
       "    }\n",
       "\n",
       "    .dataframe thead th {\n",
       "        text-align: right;\n",
       "    }\n",
       "</style>\n",
       "<table border=\"1\" class=\"dataframe\">\n",
       "  <thead>\n",
       "    <tr style=\"text-align: right;\">\n",
       "      <th>Key</th>\n",
       "      <th>FinalPIN</th>\n",
       "      <th>DeviceID</th>\n",
       "      <th>AssessmentName</th>\n",
       "      <th>ResponseID</th>\n",
       "      <th>ItemID</th>\n",
       "      <th>InstrumentTitle</th>\n",
       "      <th>TestName</th>\n",
       "      <th>InstrumentID</th>\n",
       "      <th>age_months_at_test</th>\n",
       "      <th>DateCreated</th>\n",
       "      <th>Response</th>\n",
       "      <th>ResponseTime</th>\n",
       "      <th>Score</th>\n",
       "    </tr>\n",
       "  </thead>\n",
       "  <tbody>\n",
       "    <tr>\n",
       "      <th>8987</th>\n",
       "      <td>MSL08002</td>\n",
       "      <td>DDC1B727-13A3-4C52-8E5F-AD9E80B28A37</td>\n",
       "      <td>Assessment 1</td>\n",
       "      <td>1EB4AE73-8838-497A-AD38-D748ADC102CE</td>\n",
       "      <td>SpdM001</td>\n",
       "      <td>NIH Toolbox Speeded Matching Norming Version</td>\n",
       "      <td>SpdMtch_norm</td>\n",
       "      <td>D353A2FB-BF8E-4534-AD82-0B30B4294506</td>\n",
       "      <td>101.46</td>\n",
       "      <td>2021-06-02 12:25:09</td>\n",
       "      <td>3</td>\n",
       "      <td>1.78</td>\n",
       "      <td>1</td>\n",
       "    </tr>\n",
       "    <tr>\n",
       "      <th>9043</th>\n",
       "      <td>MSL08002</td>\n",
       "      <td>DDC1B727-13A3-4C52-8E5F-AD9E80B28A37</td>\n",
       "      <td>Assessment 1</td>\n",
       "      <td>E3563E12-0B9D-4B0F-AD7A-E3ECCFCC1FD3</td>\n",
       "      <td>SpdM002</td>\n",
       "      <td>NIH Toolbox Speeded Matching Norming Version</td>\n",
       "      <td>SpdMtch_norm</td>\n",
       "      <td>D353A2FB-BF8E-4534-AD82-0B30B4294506</td>\n",
       "      <td>101.46</td>\n",
       "      <td>2021-06-02 12:25:11</td>\n",
       "      <td>4</td>\n",
       "      <td>1.75</td>\n",
       "      <td>1</td>\n",
       "    </tr>\n",
       "    <tr>\n",
       "      <th>9019</th>\n",
       "      <td>MSL08002</td>\n",
       "      <td>DDC1B727-13A3-4C52-8E5F-AD9E80B28A37</td>\n",
       "      <td>Assessment 1</td>\n",
       "      <td>9250F782-9989-4EA4-8CEB-1706A15E0334</td>\n",
       "      <td>SpdM003</td>\n",
       "      <td>NIH Toolbox Speeded Matching Norming Version</td>\n",
       "      <td>SpdMtch_norm</td>\n",
       "      <td>D353A2FB-BF8E-4534-AD82-0B30B4294506</td>\n",
       "      <td>101.46</td>\n",
       "      <td>2021-06-02 12:25:13</td>\n",
       "      <td>2</td>\n",
       "      <td>1.10</td>\n",
       "      <td>1</td>\n",
       "    </tr>\n",
       "    <tr>\n",
       "      <th>9016</th>\n",
       "      <td>MSL08002</td>\n",
       "      <td>DDC1B727-13A3-4C52-8E5F-AD9E80B28A37</td>\n",
       "      <td>Assessment 1</td>\n",
       "      <td>81FE9A6F-08CA-4A97-BA95-13F9B4123CF8</td>\n",
       "      <td>SpdM004</td>\n",
       "      <td>NIH Toolbox Speeded Matching Norming Version</td>\n",
       "      <td>SpdMtch_norm</td>\n",
       "      <td>D353A2FB-BF8E-4534-AD82-0B30B4294506</td>\n",
       "      <td>101.46</td>\n",
       "      <td>2021-06-02 12:25:14</td>\n",
       "      <td>2</td>\n",
       "      <td>1.13</td>\n",
       "      <td>1</td>\n",
       "    </tr>\n",
       "    <tr>\n",
       "      <th>8992</th>\n",
       "      <td>MSL08002</td>\n",
       "      <td>DDC1B727-13A3-4C52-8E5F-AD9E80B28A37</td>\n",
       "      <td>Assessment 1</td>\n",
       "      <td>3FDD6127-8B6E-4434-B085-C91AC1579594</td>\n",
       "      <td>SpdM005</td>\n",
       "      <td>NIH Toolbox Speeded Matching Norming Version</td>\n",
       "      <td>SpdMtch_norm</td>\n",
       "      <td>D353A2FB-BF8E-4534-AD82-0B30B4294506</td>\n",
       "      <td>101.46</td>\n",
       "      <td>2021-06-02 12:25:15</td>\n",
       "      <td>3</td>\n",
       "      <td>1.20</td>\n",
       "      <td>1</td>\n",
       "    </tr>\n",
       "    <tr>\n",
       "      <th>...</th>\n",
       "      <td>...</td>\n",
       "      <td>...</td>\n",
       "      <td>...</td>\n",
       "      <td>...</td>\n",
       "      <td>...</td>\n",
       "      <td>...</td>\n",
       "      <td>...</td>\n",
       "      <td>...</td>\n",
       "      <td>...</td>\n",
       "      <td>...</td>\n",
       "      <td>...</td>\n",
       "      <td>...</td>\n",
       "      <td>...</td>\n",
       "    </tr>\n",
       "    <tr>\n",
       "      <th>4336</th>\n",
       "      <td>MCB06019</td>\n",
       "      <td>86F70739-22B7-40B2-B4FF-E9F7399C9CAD</td>\n",
       "      <td>Assessment 1</td>\n",
       "      <td>FB8E9696-3E7F-4269-AE86-9018987D1525</td>\n",
       "      <td>SpdM024</td>\n",
       "      <td>NIH Toolbox Speeded Matching Norming Version</td>\n",
       "      <td>SpdMtch_norm</td>\n",
       "      <td>034FF3AA-2903-40A1-82DC-E0163CE86337</td>\n",
       "      <td>76.32</td>\n",
       "      <td>2021-10-30 14:19:46</td>\n",
       "      <td>1</td>\n",
       "      <td>7.69</td>\n",
       "      <td>1</td>\n",
       "    </tr>\n",
       "    <tr>\n",
       "      <th>4303</th>\n",
       "      <td>MCB06019</td>\n",
       "      <td>86F70739-22B7-40B2-B4FF-E9F7399C9CAD</td>\n",
       "      <td>Assessment 1</td>\n",
       "      <td>04729A9F-9691-4243-B39B-CC711EB5A8DA</td>\n",
       "      <td>SpdM025</td>\n",
       "      <td>NIH Toolbox Speeded Matching Norming Version</td>\n",
       "      <td>SpdMtch_norm</td>\n",
       "      <td>034FF3AA-2903-40A1-82DC-E0163CE86337</td>\n",
       "      <td>76.32</td>\n",
       "      <td>2021-10-30 14:19:50</td>\n",
       "      <td>3</td>\n",
       "      <td>2.78</td>\n",
       "      <td>1</td>\n",
       "    </tr>\n",
       "    <tr>\n",
       "      <th>4317</th>\n",
       "      <td>MCB06019</td>\n",
       "      <td>86F70739-22B7-40B2-B4FF-E9F7399C9CAD</td>\n",
       "      <td>Assessment 1</td>\n",
       "      <td>83504FD5-0E1A-4CF7-A22E-33B3644EA6EB</td>\n",
       "      <td>SpdM026</td>\n",
       "      <td>NIH Toolbox Speeded Matching Norming Version</td>\n",
       "      <td>SpdMtch_norm</td>\n",
       "      <td>034FF3AA-2903-40A1-82DC-E0163CE86337</td>\n",
       "      <td>76.32</td>\n",
       "      <td>2021-10-30 14:19:54</td>\n",
       "      <td>2</td>\n",
       "      <td>4.24</td>\n",
       "      <td>1</td>\n",
       "    </tr>\n",
       "    <tr>\n",
       "      <th>4333</th>\n",
       "      <td>MCB06019</td>\n",
       "      <td>86F70739-22B7-40B2-B4FF-E9F7399C9CAD</td>\n",
       "      <td>Assessment 1</td>\n",
       "      <td>CC0C1803-7973-4C72-8493-55D30A7BF116</td>\n",
       "      <td>SpdM027</td>\n",
       "      <td>NIH Toolbox Speeded Matching Norming Version</td>\n",
       "      <td>SpdMtch_norm</td>\n",
       "      <td>034FF3AA-2903-40A1-82DC-E0163CE86337</td>\n",
       "      <td>76.32</td>\n",
       "      <td>2021-10-30 14:20:00</td>\n",
       "      <td>2</td>\n",
       "      <td>5.26</td>\n",
       "      <td>1</td>\n",
       "    </tr>\n",
       "    <tr>\n",
       "      <th>4306</th>\n",
       "      <td>MCB06019</td>\n",
       "      <td>86F70739-22B7-40B2-B4FF-E9F7399C9CAD</td>\n",
       "      <td>Assessment 1</td>\n",
       "      <td>13323930-60F6-429B-A79D-4264F8F00201</td>\n",
       "      <td>SpdM028</td>\n",
       "      <td>NIH Toolbox Speeded Matching Norming Version</td>\n",
       "      <td>SpdMtch_norm</td>\n",
       "      <td>034FF3AA-2903-40A1-82DC-E0163CE86337</td>\n",
       "      <td>76.32</td>\n",
       "      <td>2021-10-30 14:20:06</td>\n",
       "      <td>4</td>\n",
       "      <td>6.29</td>\n",
       "      <td>1</td>\n",
       "    </tr>\n",
       "  </tbody>\n",
       "</table>\n",
       "<p>34649 rows × 13 columns</p>\n",
       "</div>"
      ],
      "text/plain": [
       "Key   FinalPIN                              DeviceID AssessmentName  \\\n",
       "8987  MSL08002  DDC1B727-13A3-4C52-8E5F-AD9E80B28A37   Assessment 1   \n",
       "9043  MSL08002  DDC1B727-13A3-4C52-8E5F-AD9E80B28A37   Assessment 1   \n",
       "9019  MSL08002  DDC1B727-13A3-4C52-8E5F-AD9E80B28A37   Assessment 1   \n",
       "9016  MSL08002  DDC1B727-13A3-4C52-8E5F-AD9E80B28A37   Assessment 1   \n",
       "8992  MSL08002  DDC1B727-13A3-4C52-8E5F-AD9E80B28A37   Assessment 1   \n",
       "...        ...                                   ...            ...   \n",
       "4336  MCB06019  86F70739-22B7-40B2-B4FF-E9F7399C9CAD   Assessment 1   \n",
       "4303  MCB06019  86F70739-22B7-40B2-B4FF-E9F7399C9CAD   Assessment 1   \n",
       "4317  MCB06019  86F70739-22B7-40B2-B4FF-E9F7399C9CAD   Assessment 1   \n",
       "4333  MCB06019  86F70739-22B7-40B2-B4FF-E9F7399C9CAD   Assessment 1   \n",
       "4306  MCB06019  86F70739-22B7-40B2-B4FF-E9F7399C9CAD   Assessment 1   \n",
       "\n",
       "Key                             ResponseID   ItemID  \\\n",
       "8987  1EB4AE73-8838-497A-AD38-D748ADC102CE  SpdM001   \n",
       "9043  E3563E12-0B9D-4B0F-AD7A-E3ECCFCC1FD3  SpdM002   \n",
       "9019  9250F782-9989-4EA4-8CEB-1706A15E0334  SpdM003   \n",
       "9016  81FE9A6F-08CA-4A97-BA95-13F9B4123CF8  SpdM004   \n",
       "8992  3FDD6127-8B6E-4434-B085-C91AC1579594  SpdM005   \n",
       "...                                    ...      ...   \n",
       "4336  FB8E9696-3E7F-4269-AE86-9018987D1525  SpdM024   \n",
       "4303  04729A9F-9691-4243-B39B-CC711EB5A8DA  SpdM025   \n",
       "4317  83504FD5-0E1A-4CF7-A22E-33B3644EA6EB  SpdM026   \n",
       "4333  CC0C1803-7973-4C72-8493-55D30A7BF116  SpdM027   \n",
       "4306  13323930-60F6-429B-A79D-4264F8F00201  SpdM028   \n",
       "\n",
       "Key                                InstrumentTitle      TestName  \\\n",
       "8987  NIH Toolbox Speeded Matching Norming Version  SpdMtch_norm   \n",
       "9043  NIH Toolbox Speeded Matching Norming Version  SpdMtch_norm   \n",
       "9019  NIH Toolbox Speeded Matching Norming Version  SpdMtch_norm   \n",
       "9016  NIH Toolbox Speeded Matching Norming Version  SpdMtch_norm   \n",
       "8992  NIH Toolbox Speeded Matching Norming Version  SpdMtch_norm   \n",
       "...                                            ...           ...   \n",
       "4336  NIH Toolbox Speeded Matching Norming Version  SpdMtch_norm   \n",
       "4303  NIH Toolbox Speeded Matching Norming Version  SpdMtch_norm   \n",
       "4317  NIH Toolbox Speeded Matching Norming Version  SpdMtch_norm   \n",
       "4333  NIH Toolbox Speeded Matching Norming Version  SpdMtch_norm   \n",
       "4306  NIH Toolbox Speeded Matching Norming Version  SpdMtch_norm   \n",
       "\n",
       "Key                           InstrumentID  age_months_at_test  \\\n",
       "8987  D353A2FB-BF8E-4534-AD82-0B30B4294506              101.46   \n",
       "9043  D353A2FB-BF8E-4534-AD82-0B30B4294506              101.46   \n",
       "9019  D353A2FB-BF8E-4534-AD82-0B30B4294506              101.46   \n",
       "9016  D353A2FB-BF8E-4534-AD82-0B30B4294506              101.46   \n",
       "8992  D353A2FB-BF8E-4534-AD82-0B30B4294506              101.46   \n",
       "...                                    ...                 ...   \n",
       "4336  034FF3AA-2903-40A1-82DC-E0163CE86337               76.32   \n",
       "4303  034FF3AA-2903-40A1-82DC-E0163CE86337               76.32   \n",
       "4317  034FF3AA-2903-40A1-82DC-E0163CE86337               76.32   \n",
       "4333  034FF3AA-2903-40A1-82DC-E0163CE86337               76.32   \n",
       "4306  034FF3AA-2903-40A1-82DC-E0163CE86337               76.32   \n",
       "\n",
       "Key          DateCreated Response  ResponseTime  Score  \n",
       "8987 2021-06-02 12:25:09        3          1.78      1  \n",
       "9043 2021-06-02 12:25:11        4          1.75      1  \n",
       "9019 2021-06-02 12:25:13        2          1.10      1  \n",
       "9016 2021-06-02 12:25:14        2          1.13      1  \n",
       "8992 2021-06-02 12:25:15        3          1.20      1  \n",
       "...                  ...      ...           ...    ...  \n",
       "4336 2021-10-30 14:19:46        1          7.69      1  \n",
       "4303 2021-10-30 14:19:50        3          2.78      1  \n",
       "4317 2021-10-30 14:19:54        2          4.24      1  \n",
       "4333 2021-10-30 14:20:00        2          5.26      1  \n",
       "4306 2021-10-30 14:20:06        4          6.29      1  \n",
       "\n",
       "[34649 rows x 13 columns]"
      ]
     },
     "execution_count": 371,
     "metadata": {},
     "output_type": "execute_result"
    }
   ],
   "source": [
    "sdf_wide.drop_duplicates()"
   ]
  },
  {
   "cell_type": "code",
   "execution_count": 378,
   "metadata": {},
   "outputs": [
    {
     "data": {
      "text/plain": [
       "FinalPIN\n",
       "MAP03001    105.94\n",
       "MAP03002     91.20\n",
       "MAP03003     92.61\n",
       "MAP03004    102.17\n",
       "MAP03005     93.32\n",
       "             ...  \n",
       "WPX08020     92.57\n",
       "WPX08021     91.21\n",
       "WPX08022     91.91\n",
       "WPX10003     90.12\n",
       "XMCH04007   100.59\n",
       "Name: ResponseTime, Length: 842, dtype: float64"
      ]
     },
     "execution_count": 378,
     "metadata": {},
     "output_type": "execute_result"
    }
   ],
   "source": [
    "#b. Add up all the ResponseTimes within these ItemIDs\n",
    "sdf_wide.groupby(['FinalPIN'])['ResponseTime'].sum()"
   ]
  },
  {
   "cell_type": "markdown",
   "metadata": {},
   "source": [
    "# 2-4) Total_score, Avg_Score, SD_score"
   ]
  },
  {
   "cell_type": "code",
   "execution_count": 375,
   "metadata": {},
   "outputs": [
    {
     "data": {
      "text/plain": [
       "FinalPIN\n",
       "MAP03001      9\n",
       "MAP03002     21\n",
       "MAP03003     23\n",
       "MAP03004     17\n",
       "MAP03005     16\n",
       "             ..\n",
       "WPX08020     39\n",
       "WPX08021     67\n",
       "WPX08022     45\n",
       "WPX10003     54\n",
       "XMCH04007    18\n",
       "Name: Score, Length: 842, dtype: int64"
      ]
     },
     "execution_count": 375,
     "metadata": {},
     "output_type": "execute_result"
    }
   ],
   "source": [
    "sdf_wide.groupby('FinalPIN')['Score'].sum()"
   ]
  },
  {
   "cell_type": "code",
   "execution_count": 377,
   "metadata": {},
   "outputs": [
    {
     "data": {
      "text/plain": [
       "FinalPIN\n",
       "MAP03001    0.82\n",
       "MAP03002    0.58\n",
       "MAP03003    0.85\n",
       "MAP03004    0.94\n",
       "MAP03005    0.94\n",
       "            ... \n",
       "WPX08020    1.00\n",
       "WPX08021    0.99\n",
       "WPX08022    0.92\n",
       "WPX10003    0.96\n",
       "XMCH04007   0.72\n",
       "Name: Score, Length: 842, dtype: float64"
      ]
     },
     "execution_count": 377,
     "metadata": {},
     "output_type": "execute_result"
    }
   ],
   "source": [
    "sdf_wide.groupby('FinalPIN')['Score'].mean()"
   ]
  },
  {
   "cell_type": "code",
   "execution_count": 379,
   "metadata": {},
   "outputs": [
    {
     "data": {
      "text/plain": [
       "FinalPIN\n",
       "MAP03001    0.40\n",
       "MAP03002    0.50\n",
       "MAP03003    0.36\n",
       "MAP03004    0.24\n",
       "MAP03005    0.24\n",
       "            ... \n",
       "WPX08020    0.00\n",
       "WPX08021    0.12\n",
       "WPX08022    0.28\n",
       "WPX10003    0.19\n",
       "XMCH04007   0.46\n",
       "Name: Score, Length: 842, dtype: float64"
      ]
     },
     "execution_count": 379,
     "metadata": {},
     "output_type": "execute_result"
    }
   ],
   "source": [
    "sdf_wide.groupby('FinalPIN')['Score'].std()"
   ]
  },
  {
   "cell_type": "markdown",
   "metadata": {},
   "source": [
    "# 5.6) Avg_RT_All, SD_RT_All"
   ]
  },
  {
   "cell_type": "code",
   "execution_count": 380,
   "metadata": {},
   "outputs": [
    {
     "data": {
      "text/plain": [
       "FinalPIN\n",
       "MAP03001    9.63\n",
       "MAP03002    2.53\n",
       "MAP03003    3.43\n",
       "MAP03004    5.68\n",
       "MAP03005    5.49\n",
       "            ... \n",
       "WPX08020    2.37\n",
       "WPX08021    1.34\n",
       "WPX08022    1.88\n",
       "WPX10003    1.61\n",
       "XMCH04007   4.02\n",
       "Name: ResponseTime, Length: 842, dtype: float64"
      ]
     },
     "execution_count": 380,
     "metadata": {},
     "output_type": "execute_result"
    }
   ],
   "source": [
    "sdf_wide.groupby(['FinalPIN'])['ResponseTime'].mean()"
   ]
  },
  {
   "cell_type": "code",
   "execution_count": 381,
   "metadata": {},
   "outputs": [
    {
     "data": {
      "text/plain": [
       "FinalPIN\n",
       "MAP03001    4.45\n",
       "MAP03002    1.11\n",
       "MAP03003    1.15\n",
       "MAP03004    4.18\n",
       "MAP03005    2.09\n",
       "            ... \n",
       "WPX08020    0.88\n",
       "WPX08021    0.36\n",
       "WPX08022    0.75\n",
       "WPX10003    0.52\n",
       "XMCH04007   2.38\n",
       "Name: ResponseTime, Length: 842, dtype: float64"
      ]
     },
     "execution_count": 381,
     "metadata": {},
     "output_type": "execute_result"
    }
   ],
   "source": [
    "sdf_wide.groupby(['FinalPIN'])['ResponseTime'].std()"
   ]
  },
  {
   "cell_type": "markdown",
   "metadata": {},
   "source": [
    "# 7) Avg_RT_Correct, SD_RT_Correct"
   ]
  },
  {
   "cell_type": "code",
   "execution_count": 384,
   "metadata": {},
   "outputs": [],
   "source": [
    "correct =sdf_wide[sdf_wide.Score==1]\n",
    "wrong= sdf_wide[sdf_wide.Score==0]"
   ]
  },
  {
   "cell_type": "code",
   "execution_count": 383,
   "metadata": {},
   "outputs": [
    {
     "data": {
      "text/plain": [
       "FinalPIN\n",
       "MAP03001    9.84\n",
       "MAP03002    2.96\n",
       "MAP03003    3.63\n",
       "MAP03004    5.86\n",
       "MAP03005    5.52\n",
       "            ... \n",
       "WPX08020    2.37\n",
       "WPX08021    1.34\n",
       "WPX08022    1.92\n",
       "WPX10003    1.65\n",
       "XMCH04007   4.13\n",
       "Name: ResponseTime, Length: 842, dtype: float64"
      ]
     },
     "execution_count": 383,
     "metadata": {},
     "output_type": "execute_result"
    }
   ],
   "source": [
    "correct.groupby('FinalPIN')['ResponseTime'].mean()"
   ]
  },
  {
   "cell_type": "code",
   "execution_count": 385,
   "metadata": {},
   "outputs": [
    {
     "data": {
      "text/plain": [
       "FinalPIN\n",
       "MAP03001    4.90\n",
       "MAP03002    1.20\n",
       "MAP03003    1.12\n",
       "MAP03004    4.24\n",
       "MAP03005    2.15\n",
       "            ... \n",
       "WPX08020    0.88\n",
       "WPX08021    0.36\n",
       "WPX08022    0.75\n",
       "WPX10003    0.49\n",
       "XMCH04007   2.02\n",
       "Name: ResponseTime, Length: 842, dtype: float64"
      ]
     },
     "execution_count": 385,
     "metadata": {},
     "output_type": "execute_result"
    }
   ],
   "source": [
    "correct.groupby('FinalPIN')['ResponseTime'].std()"
   ]
  },
  {
   "cell_type": "markdown",
   "metadata": {},
   "source": [
    "# 9-10) Avg_RT_Incorrect, SD_RT_Incorrect"
   ]
  },
  {
   "cell_type": "code",
   "execution_count": 386,
   "metadata": {},
   "outputs": [
    {
     "data": {
      "text/plain": [
       "FinalPIN\n",
       "MAP03001    8.69\n",
       "MAP03002    1.94\n",
       "MAP03003    2.30\n",
       "MAP03004    2.63\n",
       "MAP03005    4.99\n",
       "            ... \n",
       "WPX08019    1.73\n",
       "WPX08021    1.18\n",
       "WPX08022    1.37\n",
       "WPX10003    0.60\n",
       "XMCH04007   3.76\n",
       "Name: ResponseTime, Length: 599, dtype: float64"
      ]
     },
     "execution_count": 386,
     "metadata": {},
     "output_type": "execute_result"
    }
   ],
   "source": [
    "wrong.groupby('FinalPIN')['ResponseTime'].mean()"
   ]
  },
  {
   "cell_type": "code",
   "execution_count": 387,
   "metadata": {},
   "outputs": [
    {
     "data": {
      "text/plain": [
       "FinalPIN\n",
       "MAP03001    1.86\n",
       "MAP03002    0.62\n",
       "MAP03003    0.54\n",
       "MAP03004     NaN\n",
       "MAP03005     NaN\n",
       "            ... \n",
       "WPX08019     NaN\n",
       "WPX08021     NaN\n",
       "WPX08022    0.44\n",
       "WPX10003    0.54\n",
       "XMCH04007   3.31\n",
       "Name: ResponseTime, Length: 599, dtype: float64"
      ]
     },
     "execution_count": 387,
     "metadata": {},
     "output_type": "execute_result"
    }
   ],
   "source": [
    "wrong.groupby('FinalPIN')['ResponseTime'].std()"
   ]
  },
  {
   "cell_type": "code",
   "execution_count": null,
   "metadata": {},
   "outputs": [],
   "source": []
  }
 ],
 "metadata": {
  "colab": {
   "collapsed_sections": [],
   "name": "In_person_vs_remote.ipynb",
   "provenance": []
  },
  "kernelspec": {
   "display_name": "Python 3",
   "language": "python",
   "name": "python3"
  },
  "language_info": {
   "codemirror_mode": {
    "name": "ipython",
    "version": 3
   },
   "file_extension": ".py",
   "mimetype": "text/x-python",
   "name": "python",
   "nbconvert_exporter": "python",
   "pygments_lexer": "ipython3",
   "version": "3.8.8"
  }
 },
 "nbformat": 4,
 "nbformat_minor": 1
}
