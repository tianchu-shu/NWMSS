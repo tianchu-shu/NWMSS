{
 "cells": [
  {
   "cell_type": "code",
   "execution_count": 1,
   "id": "8986fd9c",
   "metadata": {},
   "outputs": [],
   "source": [
    "#Data saved in csv/excel\n",
    "import glob, os\n",
    "import pandas as pd\n",
    "import warnings\n",
    "warnings.filterwarnings('ignore')"
   ]
  },
  {
   "cell_type": "code",
   "execution_count": 2,
   "id": "52195d83",
   "metadata": {},
   "outputs": [],
   "source": [
    "#Set two decimal points for display\n",
    "pd.options.display.float_format = \"{:.2f}\".format"
   ]
  },
  {
   "cell_type": "markdown",
   "id": "f1fb0471",
   "metadata": {},
   "source": [
    "# 1. Load the data"
   ]
  },
  {
   "cell_type": "code",
   "execution_count": 3,
   "id": "bcfffc08",
   "metadata": {},
   "outputs": [],
   "source": [
    "data=pd.read_csv('C:/Users/tsb7592/Downloads/Basic_Desc_output.csv')"
   ]
  },
  {
   "cell_type": "code",
   "execution_count": 4,
   "id": "4879544f",
   "metadata": {},
   "outputs": [],
   "source": [
    "data['PIN']=data['PIN'].str.upper()"
   ]
  },
  {
   "cell_type": "code",
   "execution_count": 5,
   "id": "68300eb9",
   "metadata": {},
   "outputs": [
    {
     "data": {
      "text/html": [
       "<div>\n",
       "<style scoped>\n",
       "    .dataframe tbody tr th:only-of-type {\n",
       "        vertical-align: middle;\n",
       "    }\n",
       "\n",
       "    .dataframe tbody tr th {\n",
       "        vertical-align: top;\n",
       "    }\n",
       "\n",
       "    .dataframe thead th {\n",
       "        text-align: right;\n",
       "    }\n",
       "</style>\n",
       "<table border=\"1\" class=\"dataframe\">\n",
       "  <thead>\n",
       "    <tr style=\"text-align: right;\">\n",
       "      <th></th>\n",
       "      <th>PIN</th>\n",
       "      <th>DeviceID</th>\n",
       "      <th>Assessment Name</th>\n",
       "      <th>Inst</th>\n",
       "      <th>ItemID</th>\n",
       "      <th>Response</th>\n",
       "      <th>Score</th>\n",
       "      <th>Position</th>\n",
       "      <th>ResponseTime</th>\n",
       "      <th>DateCreated</th>\n",
       "      <th>InstStarted</th>\n",
       "      <th>InstEnded</th>\n",
       "      <th>Age_month</th>\n",
       "      <th>Age_group</th>\n",
       "    </tr>\n",
       "  </thead>\n",
       "  <tbody>\n",
       "    <tr>\n",
       "      <th>0</th>\n",
       "      <td>TX009C</td>\n",
       "      <td>E2909A06-4CF6-4F3A-A839-A30AE05F2B5B</td>\n",
       "      <td>Assessment 2</td>\n",
       "      <td>Mullen Receptive</td>\n",
       "      <td>Mullen_Rec_Title</td>\n",
       "      <td>1</td>\n",
       "      <td>NaN</td>\n",
       "      <td>1</td>\n",
       "      <td>NaN</td>\n",
       "      <td>2021-12-05 08:30:42</td>\n",
       "      <td>2021-12-05 08:30:41</td>\n",
       "      <td>2021-12-05 08:33:49</td>\n",
       "      <td>18.00</td>\n",
       "      <td>(15, 18]</td>\n",
       "    </tr>\n",
       "    <tr>\n",
       "      <th>1</th>\n",
       "      <td>TX009C</td>\n",
       "      <td>E2909A06-4CF6-4F3A-A839-A30AE05F2B5B</td>\n",
       "      <td>Assessment 2</td>\n",
       "      <td>Mullen Receptive</td>\n",
       "      <td>Mullen_Rec_Instructions</td>\n",
       "      <td>1</td>\n",
       "      <td>NaN</td>\n",
       "      <td>2</td>\n",
       "      <td>NaN</td>\n",
       "      <td>2021-12-05 08:30:43</td>\n",
       "      <td>2021-12-05 08:30:41</td>\n",
       "      <td>2021-12-05 08:33:49</td>\n",
       "      <td>18.00</td>\n",
       "      <td>(15, 18]</td>\n",
       "    </tr>\n",
       "    <tr>\n",
       "      <th>2</th>\n",
       "      <td>TX009C</td>\n",
       "      <td>E2909A06-4CF6-4F3A-A839-A30AE05F2B5B</td>\n",
       "      <td>Assessment 2</td>\n",
       "      <td>Mullen Receptive</td>\n",
       "      <td>RL13</td>\n",
       "      <td>2</td>\n",
       "      <td>0.00</td>\n",
       "      <td>3</td>\n",
       "      <td>NaN</td>\n",
       "      <td>2021-12-05 08:32:53</td>\n",
       "      <td>2021-12-05 08:30:41</td>\n",
       "      <td>2021-12-05 08:33:49</td>\n",
       "      <td>18.00</td>\n",
       "      <td>(15, 18]</td>\n",
       "    </tr>\n",
       "    <tr>\n",
       "      <th>3</th>\n",
       "      <td>TX009C</td>\n",
       "      <td>E2909A06-4CF6-4F3A-A839-A30AE05F2B5B</td>\n",
       "      <td>Assessment 2</td>\n",
       "      <td>Mullen Receptive</td>\n",
       "      <td>RL10</td>\n",
       "      <td>1</td>\n",
       "      <td>1.00</td>\n",
       "      <td>4</td>\n",
       "      <td>NaN</td>\n",
       "      <td>2021-12-05 08:32:59</td>\n",
       "      <td>2021-12-05 08:30:41</td>\n",
       "      <td>2021-12-05 08:33:49</td>\n",
       "      <td>18.00</td>\n",
       "      <td>(15, 18]</td>\n",
       "    </tr>\n",
       "    <tr>\n",
       "      <th>4</th>\n",
       "      <td>TX009C</td>\n",
       "      <td>E2909A06-4CF6-4F3A-A839-A30AE05F2B5B</td>\n",
       "      <td>Assessment 2</td>\n",
       "      <td>Mullen Receptive</td>\n",
       "      <td>RL15</td>\n",
       "      <td>2</td>\n",
       "      <td>0.00</td>\n",
       "      <td>5</td>\n",
       "      <td>NaN</td>\n",
       "      <td>2021-12-05 08:33:18</td>\n",
       "      <td>2021-12-05 08:30:41</td>\n",
       "      <td>2021-12-05 08:33:49</td>\n",
       "      <td>18.00</td>\n",
       "      <td>(15, 18]</td>\n",
       "    </tr>\n",
       "  </tbody>\n",
       "</table>\n",
       "</div>"
      ],
      "text/plain": [
       "      PIN                              DeviceID Assessment Name  \\\n",
       "0  TX009C  E2909A06-4CF6-4F3A-A839-A30AE05F2B5B    Assessment 2   \n",
       "1  TX009C  E2909A06-4CF6-4F3A-A839-A30AE05F2B5B    Assessment 2   \n",
       "2  TX009C  E2909A06-4CF6-4F3A-A839-A30AE05F2B5B    Assessment 2   \n",
       "3  TX009C  E2909A06-4CF6-4F3A-A839-A30AE05F2B5B    Assessment 2   \n",
       "4  TX009C  E2909A06-4CF6-4F3A-A839-A30AE05F2B5B    Assessment 2   \n",
       "\n",
       "               Inst                   ItemID Response  Score  Position  \\\n",
       "0  Mullen Receptive         Mullen_Rec_Title        1    NaN         1   \n",
       "1  Mullen Receptive  Mullen_Rec_Instructions        1    NaN         2   \n",
       "2  Mullen Receptive                     RL13        2   0.00         3   \n",
       "3  Mullen Receptive                     RL10        1   1.00         4   \n",
       "4  Mullen Receptive                     RL15        2   0.00         5   \n",
       "\n",
       "   ResponseTime          DateCreated          InstStarted  \\\n",
       "0           NaN  2021-12-05 08:30:42  2021-12-05 08:30:41   \n",
       "1           NaN  2021-12-05 08:30:43  2021-12-05 08:30:41   \n",
       "2           NaN  2021-12-05 08:32:53  2021-12-05 08:30:41   \n",
       "3           NaN  2021-12-05 08:32:59  2021-12-05 08:30:41   \n",
       "4           NaN  2021-12-05 08:33:18  2021-12-05 08:30:41   \n",
       "\n",
       "             InstEnded  Age_month Age_group  \n",
       "0  2021-12-05 08:33:49      18.00  (15, 18]  \n",
       "1  2021-12-05 08:33:49      18.00  (15, 18]  \n",
       "2  2021-12-05 08:33:49      18.00  (15, 18]  \n",
       "3  2021-12-05 08:33:49      18.00  (15, 18]  \n",
       "4  2021-12-05 08:33:49      18.00  (15, 18]  "
      ]
     },
     "execution_count": 5,
     "metadata": {},
     "output_type": "execute_result"
    }
   ],
   "source": [
    "data.head()"
   ]
  },
  {
   "cell_type": "code",
   "execution_count": 6,
   "id": "f3f13bee",
   "metadata": {},
   "outputs": [
    {
     "data": {
      "text/plain": [
       "array(['Mullen Receptive', 'Mullen Expressive Prompted',\n",
       "       'Executive Function', 'Verbal Counting', 'Toy Out of Reach',\n",
       "       'Social Observation', 'Playing with Bubbles',\n",
       "       'Looking While Listening', 'Get Up and Go', 'Sit and Stand',\n",
       "       'Numerical Change Detection', 'Shape Matching Manipulatives',\n",
       "       'Reach To Eat', 'Spatial Change Detection',\n",
       "       'Make Yours Look Like Mine', 'Mullen Expressive Observational',\n",
       "       'Global Self-Regulation', 'Object Counting', 'Give_N',\n",
       "       'Memory Task Learning', 'Visual Delayed Response',\n",
       "       'Memory Task Test',\n",
       "       'NIH Baby Toolbox Picture Vocabulary Test Practice',\n",
       "       'NIH Baby Toolbox Picture Vocabulary Test', 'Who Has More',\n",
       "       'Shape Matching', 'Number Recognition + Subitizing',\n",
       "       'Early Childhood Behavior Questionnaire - Very Short Form',\n",
       "       'Caregiver Checklist',\n",
       "       'PROMIS EC Parent-Report SF v1.0 - Social Relationships - Child-Caregiver Interactions 5a',\n",
       "       'PROMIS EC Parent-Report SF v1.0 - Social Relationships - Peer Relationships 4a',\n",
       "       'CDI: Expressive', 'REMA Arithmetic', 'CDI: Receptive',\n",
       "       \"Children's Behavior Questionnaire - Very Short Form\",\n",
       "       'Infant Behavior Questionnaire - Revised - Very Short Form'],\n",
       "      dtype=object)"
      ]
     },
     "execution_count": 6,
     "metadata": {},
     "output_type": "execute_result"
    }
   ],
   "source": [
    "data.Inst.unique()"
   ]
  },
  {
   "cell_type": "markdown",
   "id": "0dad7f29",
   "metadata": {},
   "source": [
    "# 2. Filter the inst to be CBQ"
   ]
  },
  {
   "cell_type": "code",
   "execution_count": 7,
   "id": "135dafc1",
   "metadata": {},
   "outputs": [],
   "source": [
    "df= data[data.Inst==\"Children's Behavior Questionnaire - Very Short Form\"]"
   ]
  },
  {
   "cell_type": "code",
   "execution_count": 8,
   "id": "a33b00fb",
   "metadata": {},
   "outputs": [],
   "source": [
    "df.Response =pd.to_numeric(df.Response)\n",
    "df.Score =pd.to_numeric(df.Score)"
   ]
  },
  {
   "cell_type": "markdown",
   "id": "e62a1652",
   "metadata": {},
   "source": [
    "# 3. Rescore all items to ensure appropriate response coding. "
   ]
  },
  {
   "cell_type": "code",
   "execution_count": 9,
   "id": "5f767f81",
   "metadata": {},
   "outputs": [
    {
     "data": {
      "text/plain": [
       "array(['RothCBQ_Title', 'SelfReg_Intro_CBQ ', 'SelfReg_CBQ1',\n",
       "       'SelfReg_CBQ2', 'SelfReg_CBQ3', 'SelfReg_CBQ4', 'SelfReg_CBQ5',\n",
       "       'SelfReg_CBQ6', 'SelfReg_CBQ7', 'SelfReg_CBQ8', 'SelfReg_CBQ9',\n",
       "       'SelfReg_CBQ10', 'SelfReg_CBQ11', 'SelfReg_CBQ12', 'SelfReg_CBQ13',\n",
       "       'SelfReg_CBQ14', 'SelfReg_CBQ15', 'SelfReg_CBQ16', 'SelfReg_CBQ17',\n",
       "       'SelfReg_CBQ18', 'SelfReg_CBQ19', 'SelfReg_CBQ20', 'SelfReg_CBQ21',\n",
       "       'SelfReg_CBQ22', 'SelfReg_CBQ23', 'SelfReg_CBQ24', 'SelfReg_CBQ25',\n",
       "       'SelfReg_CBQ26', 'SelfReg_CBQ27', 'SelfReg_CBQ28', 'SelfReg_CBQ29',\n",
       "       'SelfReg_CBQ30', 'SelfReg_CBQ31', 'SelfReg_CBQ32', 'SelfReg_CBQ33',\n",
       "       'SelfReg_CBQ34', 'SelfReg_CBQ35', 'SelfReg_CBQ36'], dtype=object)"
      ]
     },
     "execution_count": 9,
     "metadata": {},
     "output_type": "execute_result"
    }
   ],
   "source": [
    "df.ItemID.unique()"
   ]
  },
  {
   "cell_type": "code",
   "execution_count": 10,
   "id": "982d3224",
   "metadata": {},
   "outputs": [],
   "source": [
    "reverse =['SelfReg_CBQ13', 'SelfReg_CBQ19', 'SelfReg_CBQ20', \n",
    "       'SelfReg_CBQ22', 'SelfReg_CBQ26', 'SelfReg_CBQ29',\n",
    "          'SelfReg_CBQ31', 'SelfReg_CBQ34']"
   ]
  },
  {
   "cell_type": "code",
   "execution_count": 11,
   "id": "d9082486",
   "metadata": {},
   "outputs": [],
   "source": [
    "import numpy as np\n",
    "#The score should equal the response for all items EXCEPT SelfReg_CBQ 13, 19, 20, 22, 26, 29, 31, and 34, \n",
    "#for which the score should be 8-response \n",
    "df['Score'] = np.where(df['ItemID'].isin(reverse), 8-df.Response, df.Response)"
   ]
  },
  {
   "cell_type": "code",
   "execution_count": 12,
   "id": "88e71f70",
   "metadata": {},
   "outputs": [
    {
     "data": {
      "text/html": [
       "<div>\n",
       "<style scoped>\n",
       "    .dataframe tbody tr th:only-of-type {\n",
       "        vertical-align: middle;\n",
       "    }\n",
       "\n",
       "    .dataframe tbody tr th {\n",
       "        vertical-align: top;\n",
       "    }\n",
       "\n",
       "    .dataframe thead th {\n",
       "        text-align: right;\n",
       "    }\n",
       "</style>\n",
       "<table border=\"1\" class=\"dataframe\">\n",
       "  <thead>\n",
       "    <tr style=\"text-align: right;\">\n",
       "      <th></th>\n",
       "      <th>PIN</th>\n",
       "      <th>DeviceID</th>\n",
       "      <th>Assessment Name</th>\n",
       "      <th>Inst</th>\n",
       "      <th>ItemID</th>\n",
       "      <th>Response</th>\n",
       "      <th>Score</th>\n",
       "      <th>Position</th>\n",
       "      <th>ResponseTime</th>\n",
       "      <th>DateCreated</th>\n",
       "      <th>InstStarted</th>\n",
       "      <th>InstEnded</th>\n",
       "      <th>Age_month</th>\n",
       "      <th>Age_group</th>\n",
       "    </tr>\n",
       "  </thead>\n",
       "  <tbody>\n",
       "    <tr>\n",
       "      <th>49972</th>\n",
       "      <td>TX004P</td>\n",
       "      <td>059282F7-D6F7-4A39-8DF8-429BD89241D1</td>\n",
       "      <td>Assessment 1</td>\n",
       "      <td>Children's Behavior Questionnaire - Very Short...</td>\n",
       "      <td>SelfReg_CBQ22</td>\n",
       "      <td>5</td>\n",
       "      <td>3</td>\n",
       "      <td>24</td>\n",
       "      <td>4.91</td>\n",
       "      <td>2021-12-02 12:30:57</td>\n",
       "      <td>2021-12-02 12:26:39</td>\n",
       "      <td>2021-12-02 12:32:04</td>\n",
       "      <td>NaN</td>\n",
       "      <td>NaN</td>\n",
       "    </tr>\n",
       "    <tr>\n",
       "      <th>49976</th>\n",
       "      <td>TX004P</td>\n",
       "      <td>059282F7-D6F7-4A39-8DF8-429BD89241D1</td>\n",
       "      <td>Assessment 1</td>\n",
       "      <td>Children's Behavior Questionnaire - Very Short...</td>\n",
       "      <td>SelfReg_CBQ26</td>\n",
       "      <td>5</td>\n",
       "      <td>3</td>\n",
       "      <td>28</td>\n",
       "      <td>5.63</td>\n",
       "      <td>2021-12-02 12:31:15</td>\n",
       "      <td>2021-12-02 12:26:39</td>\n",
       "      <td>2021-12-02 12:32:04</td>\n",
       "      <td>NaN</td>\n",
       "      <td>NaN</td>\n",
       "    </tr>\n",
       "    <tr>\n",
       "      <th>49979</th>\n",
       "      <td>TX004P</td>\n",
       "      <td>059282F7-D6F7-4A39-8DF8-429BD89241D1</td>\n",
       "      <td>Assessment 1</td>\n",
       "      <td>Children's Behavior Questionnaire - Very Short...</td>\n",
       "      <td>SelfReg_CBQ29</td>\n",
       "      <td>3</td>\n",
       "      <td>5</td>\n",
       "      <td>31</td>\n",
       "      <td>7.34</td>\n",
       "      <td>2021-12-02 12:31:30</td>\n",
       "      <td>2021-12-02 12:26:39</td>\n",
       "      <td>2021-12-02 12:32:04</td>\n",
       "      <td>NaN</td>\n",
       "      <td>NaN</td>\n",
       "    </tr>\n",
       "    <tr>\n",
       "      <th>49981</th>\n",
       "      <td>TX004P</td>\n",
       "      <td>059282F7-D6F7-4A39-8DF8-429BD89241D1</td>\n",
       "      <td>Assessment 1</td>\n",
       "      <td>Children's Behavior Questionnaire - Very Short...</td>\n",
       "      <td>SelfReg_CBQ31</td>\n",
       "      <td>5</td>\n",
       "      <td>3</td>\n",
       "      <td>33</td>\n",
       "      <td>6.77</td>\n",
       "      <td>2021-12-02 12:31:42</td>\n",
       "      <td>2021-12-02 12:26:39</td>\n",
       "      <td>2021-12-02 12:32:04</td>\n",
       "      <td>NaN</td>\n",
       "      <td>NaN</td>\n",
       "    </tr>\n",
       "    <tr>\n",
       "      <th>49984</th>\n",
       "      <td>TX004P</td>\n",
       "      <td>059282F7-D6F7-4A39-8DF8-429BD89241D1</td>\n",
       "      <td>Assessment 1</td>\n",
       "      <td>Children's Behavior Questionnaire - Very Short...</td>\n",
       "      <td>SelfReg_CBQ34</td>\n",
       "      <td>5</td>\n",
       "      <td>3</td>\n",
       "      <td>36</td>\n",
       "      <td>5.07</td>\n",
       "      <td>2021-12-02 12:31:54</td>\n",
       "      <td>2021-12-02 12:26:39</td>\n",
       "      <td>2021-12-02 12:32:04</td>\n",
       "      <td>NaN</td>\n",
       "      <td>NaN</td>\n",
       "    </tr>\n",
       "  </tbody>\n",
       "</table>\n",
       "</div>"
      ],
      "text/plain": [
       "          PIN                              DeviceID Assessment Name  \\\n",
       "49972  TX004P  059282F7-D6F7-4A39-8DF8-429BD89241D1    Assessment 1   \n",
       "49976  TX004P  059282F7-D6F7-4A39-8DF8-429BD89241D1    Assessment 1   \n",
       "49979  TX004P  059282F7-D6F7-4A39-8DF8-429BD89241D1    Assessment 1   \n",
       "49981  TX004P  059282F7-D6F7-4A39-8DF8-429BD89241D1    Assessment 1   \n",
       "49984  TX004P  059282F7-D6F7-4A39-8DF8-429BD89241D1    Assessment 1   \n",
       "\n",
       "                                                    Inst         ItemID  \\\n",
       "49972  Children's Behavior Questionnaire - Very Short...  SelfReg_CBQ22   \n",
       "49976  Children's Behavior Questionnaire - Very Short...  SelfReg_CBQ26   \n",
       "49979  Children's Behavior Questionnaire - Very Short...  SelfReg_CBQ29   \n",
       "49981  Children's Behavior Questionnaire - Very Short...  SelfReg_CBQ31   \n",
       "49984  Children's Behavior Questionnaire - Very Short...  SelfReg_CBQ34   \n",
       "\n",
       "       Response  Score  Position  ResponseTime          DateCreated  \\\n",
       "49972         5      3        24          4.91  2021-12-02 12:30:57   \n",
       "49976         5      3        28          5.63  2021-12-02 12:31:15   \n",
       "49979         3      5        31          7.34  2021-12-02 12:31:30   \n",
       "49981         5      3        33          6.77  2021-12-02 12:31:42   \n",
       "49984         5      3        36          5.07  2021-12-02 12:31:54   \n",
       "\n",
       "               InstStarted            InstEnded  Age_month Age_group  \n",
       "49972  2021-12-02 12:26:39  2021-12-02 12:32:04        NaN       NaN  \n",
       "49976  2021-12-02 12:26:39  2021-12-02 12:32:04        NaN       NaN  \n",
       "49979  2021-12-02 12:26:39  2021-12-02 12:32:04        NaN       NaN  \n",
       "49981  2021-12-02 12:26:39  2021-12-02 12:32:04        NaN       NaN  \n",
       "49984  2021-12-02 12:26:39  2021-12-02 12:32:04        NaN       NaN  "
      ]
     },
     "execution_count": 12,
     "metadata": {},
     "output_type": "execute_result"
    }
   ],
   "source": [
    "df[df['ItemID'].isin(reverse)].tail()"
   ]
  },
  {
   "cell_type": "markdown",
   "id": "a47a91fa",
   "metadata": {},
   "source": [
    "# 4. Calculate the three composite scores"
   ]
  },
  {
   "cell_type": "code",
   "execution_count": 13,
   "id": "d8ce7e30",
   "metadata": {},
   "outputs": [
    {
     "data": {
      "text/plain": [
       "array(['RothCBQ_Title', 'SelfReg_Intro_CBQ ', 'SelfReg_CBQ1',\n",
       "       'SelfReg_CBQ2', 'SelfReg_CBQ3', 'SelfReg_CBQ4', 'SelfReg_CBQ5',\n",
       "       'SelfReg_CBQ6', 'SelfReg_CBQ7', 'SelfReg_CBQ8', 'SelfReg_CBQ9',\n",
       "       'SelfReg_CBQ10', 'SelfReg_CBQ11', 'SelfReg_CBQ12', 'SelfReg_CBQ13',\n",
       "       'SelfReg_CBQ14', 'SelfReg_CBQ15', 'SelfReg_CBQ16', 'SelfReg_CBQ17',\n",
       "       'SelfReg_CBQ18', 'SelfReg_CBQ19', 'SelfReg_CBQ20', 'SelfReg_CBQ21',\n",
       "       'SelfReg_CBQ22', 'SelfReg_CBQ23', 'SelfReg_CBQ24', 'SelfReg_CBQ25',\n",
       "       'SelfReg_CBQ26', 'SelfReg_CBQ27', 'SelfReg_CBQ28', 'SelfReg_CBQ29',\n",
       "       'SelfReg_CBQ30', 'SelfReg_CBQ31', 'SelfReg_CBQ32', 'SelfReg_CBQ33',\n",
       "       'SelfReg_CBQ34', 'SelfReg_CBQ35', 'SelfReg_CBQ36'], dtype=object)"
      ]
     },
     "execution_count": 13,
     "metadata": {},
     "output_type": "execute_result"
    }
   ],
   "source": [
    "df.ItemID.unique()"
   ]
  },
  {
   "cell_type": "code",
   "execution_count": 14,
   "id": "1ce11b5c",
   "metadata": {},
   "outputs": [],
   "source": [
    "a= ['SelfReg_CBQ1', 'SelfReg_CBQ4', 'SelfReg_CBQ7', \n",
    "    'SelfReg_CBQ10', 'SelfReg_CBQ13', 'SelfReg_CBQ16', \n",
    "    'SelfReg_CBQ19', 'SelfReg_CBQ22','SelfReg_CBQ25',\n",
    "    'SelfReg_CBQ28', 'SelfReg_CBQ31', 'SelfReg_CBQ34',]\n",
    "\n",
    "b= [ 'SelfReg_CBQ2', 'SelfReg_CBQ5','SelfReg_CBQ8', 'SelfReg_CBQ11', \n",
    "     'SelfReg_CBQ14', 'SelfReg_CBQ17', 'SelfReg_CBQ20','SelfReg_CBQ23', \n",
    "    'SelfReg_CBQ26','SelfReg_CBQ29','SelfReg_CBQ32',  'SelfReg_CBQ35']\n",
    "\n",
    "\n",
    "c= ['SelfReg_CBQ3','SelfReg_CBQ6','SelfReg_CBQ9',\n",
    "    'SelfReg_CBQ12',  'SelfReg_CBQ15', 'SelfReg_CBQ18', \n",
    "    'SelfReg_CBQ21', 'SelfReg_CBQ24', 'SelfReg_CBQ27',\n",
    "     'SelfReg_CBQ30', 'SelfReg_CBQ33', 'SelfReg_CBQ36']"
   ]
  },
  {
   "cell_type": "code",
   "execution_count": 15,
   "id": "f689cee0",
   "metadata": {},
   "outputs": [],
   "source": [
    "SelfReg_SurgCBQ= df[df.ItemID.isin(a)].groupby('PIN')['Score'].mean()\n",
    "SelfReg_NegAffCBQ= df[df.ItemID.isin(b)].groupby('PIN')['Score'].mean()\n",
    "SelfReg_EffContCBQ= df[df.ItemID.isin(c)].groupby('PIN')['Score'].mean()\n"
   ]
  },
  {
   "cell_type": "code",
   "execution_count": 16,
   "id": "be99b5bb",
   "metadata": {},
   "outputs": [],
   "source": [
    "comp =[SelfReg_SurgCBQ,SelfReg_NegAffCBQ,SelfReg_EffContCBQ]"
   ]
  },
  {
   "cell_type": "code",
   "execution_count": 17,
   "id": "1050d1d3",
   "metadata": {},
   "outputs": [],
   "source": [
    "cdf = pd.concat(comp,axis=1)\n",
    "cdf.columns = ['SelfReg_SurgCBQ','SelfReg_NegAffCBQ','SelfReg_EffContCBQ']"
   ]
  },
  {
   "cell_type": "code",
   "execution_count": 18,
   "id": "70693593",
   "metadata": {},
   "outputs": [
    {
     "data": {
      "text/html": [
       "<div>\n",
       "<style scoped>\n",
       "    .dataframe tbody tr th:only-of-type {\n",
       "        vertical-align: middle;\n",
       "    }\n",
       "\n",
       "    .dataframe tbody tr th {\n",
       "        vertical-align: top;\n",
       "    }\n",
       "\n",
       "    .dataframe thead th {\n",
       "        text-align: right;\n",
       "    }\n",
       "</style>\n",
       "<table border=\"1\" class=\"dataframe\">\n",
       "  <thead>\n",
       "    <tr style=\"text-align: right;\">\n",
       "      <th></th>\n",
       "      <th>SelfReg_SurgCBQ</th>\n",
       "      <th>SelfReg_NegAffCBQ</th>\n",
       "      <th>SelfReg_EffContCBQ</th>\n",
       "    </tr>\n",
       "  </thead>\n",
       "  <tbody>\n",
       "    <tr>\n",
       "      <th>SelfReg_SurgCBQ</th>\n",
       "      <td>1.00</td>\n",
       "      <td>-0.26</td>\n",
       "      <td>0.17</td>\n",
       "    </tr>\n",
       "    <tr>\n",
       "      <th>SelfReg_NegAffCBQ</th>\n",
       "      <td>-0.26</td>\n",
       "      <td>1.00</td>\n",
       "      <td>0.02</td>\n",
       "    </tr>\n",
       "    <tr>\n",
       "      <th>SelfReg_EffContCBQ</th>\n",
       "      <td>0.17</td>\n",
       "      <td>0.02</td>\n",
       "      <td>1.00</td>\n",
       "    </tr>\n",
       "  </tbody>\n",
       "</table>\n",
       "</div>"
      ],
      "text/plain": [
       "                    SelfReg_SurgCBQ  SelfReg_NegAffCBQ  SelfReg_EffContCBQ\n",
       "SelfReg_SurgCBQ                1.00              -0.26                0.17\n",
       "SelfReg_NegAffCBQ             -0.26               1.00                0.02\n",
       "SelfReg_EffContCBQ             0.17               0.02                1.00"
      ]
     },
     "execution_count": 18,
     "metadata": {},
     "output_type": "execute_result"
    }
   ],
   "source": [
    "cdf.corr()"
   ]
  },
  {
   "cell_type": "markdown",
   "id": "5bbf3886",
   "metadata": {},
   "source": [
    "# 5. Calculate item-rest correlations for every item – e.g., what is the Pearson correlation for SelfReg_cbq8 with the average score for the 11 other items on SelfReg_NegAffCBQ. There should be 36 item-rest correlations. "
   ]
  },
  {
   "cell_type": "code",
   "execution_count": 19,
   "id": "64a89981",
   "metadata": {},
   "outputs": [],
   "source": [
    "items=[ 'SelfReg_CBQ1',\n",
    "       'SelfReg_CBQ2', 'SelfReg_CBQ3', 'SelfReg_CBQ4', 'SelfReg_CBQ5',\n",
    "       'SelfReg_CBQ6', 'SelfReg_CBQ7', 'SelfReg_CBQ8', 'SelfReg_CBQ9',\n",
    "       'SelfReg_CBQ10', 'SelfReg_CBQ11', 'SelfReg_CBQ12', 'SelfReg_CBQ13',\n",
    "       'SelfReg_CBQ14', 'SelfReg_CBQ15', 'SelfReg_CBQ16', 'SelfReg_CBQ17',\n",
    "       'SelfReg_CBQ18', 'SelfReg_CBQ19', 'SelfReg_CBQ20', 'SelfReg_CBQ21',\n",
    "       'SelfReg_CBQ22', 'SelfReg_CBQ23', 'SelfReg_CBQ24', 'SelfReg_CBQ25',\n",
    "       'SelfReg_CBQ26', 'SelfReg_CBQ27', 'SelfReg_CBQ28', 'SelfReg_CBQ29',\n",
    "       'SelfReg_CBQ30', 'SelfReg_CBQ31', 'SelfReg_CBQ32', 'SelfReg_CBQ33',\n",
    "       'SelfReg_CBQ34', 'SelfReg_CBQ35', 'SelfReg_CBQ36']"
   ]
  },
  {
   "cell_type": "code",
   "execution_count": 20,
   "id": "4b8d9095",
   "metadata": {},
   "outputs": [],
   "source": [
    "from scipy.stats import pearsonr\n",
    "\n",
    "def item_rest(itemlist):\n",
    "\n",
    "    for i in range(len(itemlist)):\n",
    "        rest = itemlist.copy()\n",
    "        rest.pop(i)\n",
    "        list1 = df[df.ItemID==itemlist[i]].groupby('PIN')['Score'].mean()\n",
    "        list2  = df[df.ItemID.isin(rest)].groupby('PIN')['Score'].mean()\n",
    "    \n",
    "    # Apply the pearsonr()\n",
    "        corr, _ = pearsonr(list1, list2)\n",
    "        print(itemlist[i], ': Pearsons correlation is %.3f ' % corr)"
   ]
  },
  {
   "cell_type": "code",
   "execution_count": 21,
   "id": "22af4137",
   "metadata": {},
   "outputs": [
    {
     "name": "stdout",
     "output_type": "stream",
     "text": [
      "SelfReg_CBQ1 : Pearsons correlation is -0.195 \n",
      "SelfReg_CBQ4 : Pearsons correlation is 0.610 \n",
      "SelfReg_CBQ7 : Pearsons correlation is 0.620 \n",
      "SelfReg_CBQ10 : Pearsons correlation is 0.722 \n",
      "SelfReg_CBQ13 : Pearsons correlation is 0.391 \n",
      "SelfReg_CBQ16 : Pearsons correlation is -0.176 \n",
      "SelfReg_CBQ19 : Pearsons correlation is 0.604 \n",
      "SelfReg_CBQ22 : Pearsons correlation is 0.365 \n",
      "SelfReg_CBQ25 : Pearsons correlation is 0.291 \n",
      "SelfReg_CBQ28 : Pearsons correlation is 0.213 \n",
      "SelfReg_CBQ31 : Pearsons correlation is -0.124 \n",
      "SelfReg_CBQ34 : Pearsons correlation is 0.681 \n"
     ]
    }
   ],
   "source": [
    "item_rest(a)"
   ]
  },
  {
   "cell_type": "code",
   "execution_count": 22,
   "id": "8bf843db",
   "metadata": {},
   "outputs": [
    {
     "name": "stdout",
     "output_type": "stream",
     "text": [
      "SelfReg_CBQ2 : Pearsons correlation is 0.011 \n",
      "SelfReg_CBQ5 : Pearsons correlation is 0.774 \n",
      "SelfReg_CBQ8 : Pearsons correlation is -0.196 \n",
      "SelfReg_CBQ11 : Pearsons correlation is 0.176 \n",
      "SelfReg_CBQ14 : Pearsons correlation is 0.430 \n",
      "SelfReg_CBQ17 : Pearsons correlation is 0.232 \n",
      "SelfReg_CBQ20 : Pearsons correlation is 0.535 \n",
      "SelfReg_CBQ23 : Pearsons correlation is 0.407 \n",
      "SelfReg_CBQ26 : Pearsons correlation is -0.024 \n",
      "SelfReg_CBQ29 : Pearsons correlation is 0.535 \n",
      "SelfReg_CBQ32 : Pearsons correlation is 0.370 \n",
      "SelfReg_CBQ35 : Pearsons correlation is 0.193 \n"
     ]
    }
   ],
   "source": [
    "item_rest(b)"
   ]
  },
  {
   "cell_type": "code",
   "execution_count": 23,
   "id": "9af268cd",
   "metadata": {},
   "outputs": [
    {
     "name": "stdout",
     "output_type": "stream",
     "text": [
      "SelfReg_CBQ3 : Pearsons correlation is 0.305 \n",
      "SelfReg_CBQ6 : Pearsons correlation is 0.410 \n",
      "SelfReg_CBQ9 : Pearsons correlation is 0.261 \n",
      "SelfReg_CBQ12 : Pearsons correlation is 0.650 \n",
      "SelfReg_CBQ15 : Pearsons correlation is 0.036 \n",
      "SelfReg_CBQ18 : Pearsons correlation is 0.534 \n",
      "SelfReg_CBQ21 : Pearsons correlation is 0.661 \n",
      "SelfReg_CBQ24 : Pearsons correlation is 0.712 \n",
      "SelfReg_CBQ27 : Pearsons correlation is 0.315 \n",
      "SelfReg_CBQ30 : Pearsons correlation is 0.570 \n",
      "SelfReg_CBQ33 : Pearsons correlation is 0.261 \n",
      "SelfReg_CBQ36 : Pearsons correlation is 0.467 \n"
     ]
    }
   ],
   "source": [
    "item_rest(c)"
   ]
  },
  {
   "cell_type": "markdown",
   "id": "48e555af",
   "metadata": {},
   "source": [
    "# 6. Describe each of the 3 composite scores [step #4] overall and by age group. NOTE: the Child Behavior Questionnaire is not applicable to all age groups"
   ]
  },
  {
   "cell_type": "code",
   "execution_count": 24,
   "id": "081bad5d",
   "metadata": {},
   "outputs": [],
   "source": [
    "cdf=cdf.reset_index()"
   ]
  },
  {
   "cell_type": "code",
   "execution_count": 25,
   "id": "74b8655a",
   "metadata": {},
   "outputs": [],
   "source": [
    "cdf.PIN=cdf.PIN.str[:5]"
   ]
  },
  {
   "cell_type": "code",
   "execution_count": 26,
   "id": "b221ae65",
   "metadata": {},
   "outputs": [],
   "source": [
    "spin = cdf.PIN.to_list()\n",
    "cpin = []\n",
    "for pin in spin:\n",
    "    pin+='C'\n",
    "    cpin.append(pin)"
   ]
  },
  {
   "cell_type": "code",
   "execution_count": 27,
   "id": "bb14eb7f",
   "metadata": {},
   "outputs": [
    {
     "data": {
      "text/plain": [
       "15"
      ]
     },
     "execution_count": 27,
     "metadata": {},
     "output_type": "execute_result"
    }
   ],
   "source": [
    "len(spin)"
   ]
  },
  {
   "cell_type": "code",
   "execution_count": 28,
   "id": "2b70d287",
   "metadata": {},
   "outputs": [
    {
     "data": {
      "text/plain": [
       "['APPLE',\n",
       " 'MN010',\n",
       " 'MN020',\n",
       " 'MN024',\n",
       " 'MO003',\n",
       " 'MO004',\n",
       " 'MO013',\n",
       " 'TX004',\n",
       " 'TX006',\n",
       " 'TX011',\n",
       " 'WI010',\n",
       " 'WI011',\n",
       " 'WI017',\n",
       " 'WI020',\n",
       " 'WI023']"
      ]
     },
     "execution_count": 28,
     "metadata": {},
     "output_type": "execute_result"
    }
   ],
   "source": [
    "spin"
   ]
  },
  {
   "cell_type": "code",
   "execution_count": 29,
   "id": "b44183b9",
   "metadata": {},
   "outputs": [],
   "source": [
    "child =data[data.PIN.isin(cpin)]"
   ]
  },
  {
   "cell_type": "code",
   "execution_count": 30,
   "id": "5ad20221",
   "metadata": {},
   "outputs": [],
   "source": [
    "child.PIN=child.PIN.str[:5]"
   ]
  },
  {
   "cell_type": "code",
   "execution_count": 31,
   "id": "66756565",
   "metadata": {},
   "outputs": [
    {
     "data": {
      "text/plain": [
       "13"
      ]
     },
     "execution_count": 31,
     "metadata": {},
     "output_type": "execute_result"
    }
   ],
   "source": [
    "child[child.Age_group.notnull()]['PIN'].nunique()"
   ]
  },
  {
   "cell_type": "code",
   "execution_count": 32,
   "id": "cd560969",
   "metadata": {},
   "outputs": [],
   "source": [
    "de = pd.merge(cdf, child[['PIN','Age_month','Age_group']], on=['PIN'], how ='left')"
   ]
  },
  {
   "cell_type": "code",
   "execution_count": 33,
   "id": "10e869c5",
   "metadata": {},
   "outputs": [
    {
     "data": {
      "text/html": [
       "<div>\n",
       "<style scoped>\n",
       "    .dataframe tbody tr th:only-of-type {\n",
       "        vertical-align: middle;\n",
       "    }\n",
       "\n",
       "    .dataframe tbody tr th {\n",
       "        vertical-align: top;\n",
       "    }\n",
       "\n",
       "    .dataframe thead th {\n",
       "        text-align: right;\n",
       "    }\n",
       "</style>\n",
       "<table border=\"1\" class=\"dataframe\">\n",
       "  <thead>\n",
       "    <tr style=\"text-align: right;\">\n",
       "      <th></th>\n",
       "      <th>PIN</th>\n",
       "      <th>SelfReg_SurgCBQ</th>\n",
       "      <th>SelfReg_NegAffCBQ</th>\n",
       "      <th>SelfReg_EffContCBQ</th>\n",
       "      <th>Age_month</th>\n",
       "      <th>Age_group</th>\n",
       "    </tr>\n",
       "  </thead>\n",
       "  <tbody>\n",
       "    <tr>\n",
       "      <th>0</th>\n",
       "      <td>APPLE</td>\n",
       "      <td>3.83</td>\n",
       "      <td>5.25</td>\n",
       "      <td>5.42</td>\n",
       "      <td>NaN</td>\n",
       "      <td>NaN</td>\n",
       "    </tr>\n",
       "    <tr>\n",
       "      <th>1</th>\n",
       "      <td>MN010</td>\n",
       "      <td>4.50</td>\n",
       "      <td>4.00</td>\n",
       "      <td>5.75</td>\n",
       "      <td>40.00</td>\n",
       "      <td>(35, 43]</td>\n",
       "    </tr>\n",
       "    <tr>\n",
       "      <th>2</th>\n",
       "      <td>MN010</td>\n",
       "      <td>4.50</td>\n",
       "      <td>4.00</td>\n",
       "      <td>5.75</td>\n",
       "      <td>40.00</td>\n",
       "      <td>(35, 43]</td>\n",
       "    </tr>\n",
       "    <tr>\n",
       "      <th>3</th>\n",
       "      <td>MN010</td>\n",
       "      <td>4.50</td>\n",
       "      <td>4.00</td>\n",
       "      <td>5.75</td>\n",
       "      <td>40.00</td>\n",
       "      <td>(35, 43]</td>\n",
       "    </tr>\n",
       "    <tr>\n",
       "      <th>4</th>\n",
       "      <td>MN010</td>\n",
       "      <td>4.50</td>\n",
       "      <td>4.00</td>\n",
       "      <td>5.75</td>\n",
       "      <td>40.00</td>\n",
       "      <td>(35, 43]</td>\n",
       "    </tr>\n",
       "  </tbody>\n",
       "</table>\n",
       "</div>"
      ],
      "text/plain": [
       "     PIN  SelfReg_SurgCBQ  SelfReg_NegAffCBQ  SelfReg_EffContCBQ  Age_month  \\\n",
       "0  APPLE             3.83               5.25                5.42        NaN   \n",
       "1  MN010             4.50               4.00                5.75      40.00   \n",
       "2  MN010             4.50               4.00                5.75      40.00   \n",
       "3  MN010             4.50               4.00                5.75      40.00   \n",
       "4  MN010             4.50               4.00                5.75      40.00   \n",
       "\n",
       "  Age_group  \n",
       "0       NaN  \n",
       "1  (35, 43]  \n",
       "2  (35, 43]  \n",
       "3  (35, 43]  \n",
       "4  (35, 43]  "
      ]
     },
     "execution_count": 33,
     "metadata": {},
     "output_type": "execute_result"
    }
   ],
   "source": [
    "de.head()"
   ]
  },
  {
   "cell_type": "code",
   "execution_count": 34,
   "id": "38325d39",
   "metadata": {},
   "outputs": [
    {
     "data": {
      "text/html": [
       "<div>\n",
       "<style scoped>\n",
       "    .dataframe tbody tr th:only-of-type {\n",
       "        vertical-align: middle;\n",
       "    }\n",
       "\n",
       "    .dataframe tbody tr th {\n",
       "        vertical-align: top;\n",
       "    }\n",
       "\n",
       "    .dataframe thead th {\n",
       "        text-align: right;\n",
       "    }\n",
       "</style>\n",
       "<table border=\"1\" class=\"dataframe\">\n",
       "  <thead>\n",
       "    <tr style=\"text-align: right;\">\n",
       "      <th></th>\n",
       "      <th>count</th>\n",
       "      <th>mean</th>\n",
       "      <th>std</th>\n",
       "      <th>min</th>\n",
       "      <th>25%</th>\n",
       "      <th>50%</th>\n",
       "      <th>75%</th>\n",
       "      <th>max</th>\n",
       "    </tr>\n",
       "    <tr>\n",
       "      <th>Age_group</th>\n",
       "      <th></th>\n",
       "      <th></th>\n",
       "      <th></th>\n",
       "      <th></th>\n",
       "      <th></th>\n",
       "      <th></th>\n",
       "      <th></th>\n",
       "      <th></th>\n",
       "    </tr>\n",
       "  </thead>\n",
       "  <tbody>\n",
       "    <tr>\n",
       "      <th>(18, 21]</th>\n",
       "      <td>1300.00</td>\n",
       "      <td>4.58</td>\n",
       "      <td>0.00</td>\n",
       "      <td>4.58</td>\n",
       "      <td>4.58</td>\n",
       "      <td>4.58</td>\n",
       "      <td>4.58</td>\n",
       "      <td>4.58</td>\n",
       "    </tr>\n",
       "    <tr>\n",
       "      <th>(35, 43]</th>\n",
       "      <td>7353.00</td>\n",
       "      <td>4.28</td>\n",
       "      <td>0.53</td>\n",
       "      <td>3.42</td>\n",
       "      <td>3.67</td>\n",
       "      <td>4.42</td>\n",
       "      <td>4.67</td>\n",
       "      <td>5.42</td>\n",
       "    </tr>\n",
       "  </tbody>\n",
       "</table>\n",
       "</div>"
      ],
      "text/plain": [
       "            count  mean  std  min  25%  50%  75%  max\n",
       "Age_group                                            \n",
       "(18, 21]  1300.00  4.58 0.00 4.58 4.58 4.58 4.58 4.58\n",
       "(35, 43]  7353.00  4.28 0.53 3.42 3.67 4.42 4.67 5.42"
      ]
     },
     "execution_count": 34,
     "metadata": {},
     "output_type": "execute_result"
    }
   ],
   "source": [
    "de.groupby(['Age_group'])['SelfReg_SurgCBQ'].describe()"
   ]
  },
  {
   "cell_type": "code",
   "execution_count": 35,
   "id": "0de82c0f",
   "metadata": {},
   "outputs": [
    {
     "data": {
      "text/html": [
       "<div>\n",
       "<style scoped>\n",
       "    .dataframe tbody tr th:only-of-type {\n",
       "        vertical-align: middle;\n",
       "    }\n",
       "\n",
       "    .dataframe tbody tr th {\n",
       "        vertical-align: top;\n",
       "    }\n",
       "\n",
       "    .dataframe thead th {\n",
       "        text-align: right;\n",
       "    }\n",
       "</style>\n",
       "<table border=\"1\" class=\"dataframe\">\n",
       "  <thead>\n",
       "    <tr style=\"text-align: right;\">\n",
       "      <th></th>\n",
       "      <th>count</th>\n",
       "      <th>mean</th>\n",
       "      <th>std</th>\n",
       "      <th>min</th>\n",
       "      <th>25%</th>\n",
       "      <th>50%</th>\n",
       "      <th>75%</th>\n",
       "      <th>max</th>\n",
       "    </tr>\n",
       "    <tr>\n",
       "      <th>Age_group</th>\n",
       "      <th></th>\n",
       "      <th></th>\n",
       "      <th></th>\n",
       "      <th></th>\n",
       "      <th></th>\n",
       "      <th></th>\n",
       "      <th></th>\n",
       "      <th></th>\n",
       "    </tr>\n",
       "  </thead>\n",
       "  <tbody>\n",
       "    <tr>\n",
       "      <th>(18, 21]</th>\n",
       "      <td>1300.00</td>\n",
       "      <td>4.42</td>\n",
       "      <td>0.00</td>\n",
       "      <td>4.42</td>\n",
       "      <td>4.42</td>\n",
       "      <td>4.42</td>\n",
       "      <td>4.42</td>\n",
       "      <td>4.42</td>\n",
       "    </tr>\n",
       "    <tr>\n",
       "      <th>(35, 43]</th>\n",
       "      <td>7353.00</td>\n",
       "      <td>4.42</td>\n",
       "      <td>0.73</td>\n",
       "      <td>2.58</td>\n",
       "      <td>4.00</td>\n",
       "      <td>4.50</td>\n",
       "      <td>4.92</td>\n",
       "      <td>5.67</td>\n",
       "    </tr>\n",
       "  </tbody>\n",
       "</table>\n",
       "</div>"
      ],
      "text/plain": [
       "            count  mean  std  min  25%  50%  75%  max\n",
       "Age_group                                            \n",
       "(18, 21]  1300.00  4.42 0.00 4.42 4.42 4.42 4.42 4.42\n",
       "(35, 43]  7353.00  4.42 0.73 2.58 4.00 4.50 4.92 5.67"
      ]
     },
     "execution_count": 35,
     "metadata": {},
     "output_type": "execute_result"
    }
   ],
   "source": [
    "de.groupby(['Age_group'])['SelfReg_NegAffCBQ'].describe()"
   ]
  },
  {
   "cell_type": "code",
   "execution_count": 36,
   "id": "ca1030ea",
   "metadata": {},
   "outputs": [
    {
     "data": {
      "text/html": [
       "<div>\n",
       "<style scoped>\n",
       "    .dataframe tbody tr th:only-of-type {\n",
       "        vertical-align: middle;\n",
       "    }\n",
       "\n",
       "    .dataframe tbody tr th {\n",
       "        vertical-align: top;\n",
       "    }\n",
       "\n",
       "    .dataframe thead th {\n",
       "        text-align: right;\n",
       "    }\n",
       "</style>\n",
       "<table border=\"1\" class=\"dataframe\">\n",
       "  <thead>\n",
       "    <tr style=\"text-align: right;\">\n",
       "      <th></th>\n",
       "      <th>count</th>\n",
       "      <th>mean</th>\n",
       "      <th>std</th>\n",
       "      <th>min</th>\n",
       "      <th>25%</th>\n",
       "      <th>50%</th>\n",
       "      <th>75%</th>\n",
       "      <th>max</th>\n",
       "    </tr>\n",
       "    <tr>\n",
       "      <th>Age_group</th>\n",
       "      <th></th>\n",
       "      <th></th>\n",
       "      <th></th>\n",
       "      <th></th>\n",
       "      <th></th>\n",
       "      <th></th>\n",
       "      <th></th>\n",
       "      <th></th>\n",
       "    </tr>\n",
       "  </thead>\n",
       "  <tbody>\n",
       "    <tr>\n",
       "      <th>(18, 21]</th>\n",
       "      <td>1300.00</td>\n",
       "      <td>6.17</td>\n",
       "      <td>0.00</td>\n",
       "      <td>6.17</td>\n",
       "      <td>6.17</td>\n",
       "      <td>6.17</td>\n",
       "      <td>6.17</td>\n",
       "      <td>6.17</td>\n",
       "    </tr>\n",
       "    <tr>\n",
       "      <th>(35, 43]</th>\n",
       "      <td>7353.00</td>\n",
       "      <td>5.29</td>\n",
       "      <td>0.74</td>\n",
       "      <td>3.50</td>\n",
       "      <td>5.17</td>\n",
       "      <td>5.42</td>\n",
       "      <td>5.75</td>\n",
       "      <td>6.25</td>\n",
       "    </tr>\n",
       "  </tbody>\n",
       "</table>\n",
       "</div>"
      ],
      "text/plain": [
       "            count  mean  std  min  25%  50%  75%  max\n",
       "Age_group                                            \n",
       "(18, 21]  1300.00  6.17 0.00 6.17 6.17 6.17 6.17 6.17\n",
       "(35, 43]  7353.00  5.29 0.74 3.50 5.17 5.42 5.75 6.25"
      ]
     },
     "execution_count": 36,
     "metadata": {},
     "output_type": "execute_result"
    }
   ],
   "source": [
    "de.groupby(['Age_group'])['SelfReg_EffContCBQ'].describe()"
   ]
  },
  {
   "cell_type": "code",
   "execution_count": null,
   "id": "1a8c8691",
   "metadata": {},
   "outputs": [],
   "source": []
  },
  {
   "cell_type": "code",
   "execution_count": null,
   "id": "c0a09816",
   "metadata": {},
   "outputs": [],
   "source": []
  },
  {
   "cell_type": "code",
   "execution_count": null,
   "id": "596f7094",
   "metadata": {},
   "outputs": [],
   "source": []
  }
 ],
 "metadata": {
  "kernelspec": {
   "display_name": "Python 3",
   "language": "python",
   "name": "python3"
  },
  "language_info": {
   "codemirror_mode": {
    "name": "ipython",
    "version": 3
   },
   "file_extension": ".py",
   "mimetype": "text/x-python",
   "name": "python",
   "nbconvert_exporter": "python",
   "pygments_lexer": "ipython3",
   "version": "3.8.8"
  }
 },
 "nbformat": 4,
 "nbformat_minor": 5
}
