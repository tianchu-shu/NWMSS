{
 "cells": [
  {
   "cell_type": "code",
   "execution_count": 1,
   "id": "8986fd9c",
   "metadata": {},
   "outputs": [],
   "source": [
    "#Data saved in csv/excel\n",
    "import glob, os\n",
    "import pandas as pd\n",
    "import warnings\n",
    "warnings.filterwarnings('ignore')"
   ]
  },
  {
   "cell_type": "code",
   "execution_count": 2,
   "id": "52195d83",
   "metadata": {},
   "outputs": [],
   "source": [
    "#Set two decimal points for display\n",
    "pd.options.display.float_format = \"{:.2f}\".format"
   ]
  },
  {
   "cell_type": "markdown",
   "id": "f1fb0471",
   "metadata": {},
   "source": [
    "# 1. Load the data"
   ]
  },
  {
   "cell_type": "code",
   "execution_count": 3,
   "id": "bcfffc08",
   "metadata": {},
   "outputs": [],
   "source": [
    "data=pd.read_csv('C:/Users/tsb7592/Downloads/Basic_Desc_output.csv')"
   ]
  },
  {
   "cell_type": "code",
   "execution_count": 4,
   "id": "4879544f",
   "metadata": {},
   "outputs": [],
   "source": [
    "data['PIN']=data['PIN'].str.upper()"
   ]
  },
  {
   "cell_type": "code",
   "execution_count": 5,
   "id": "68300eb9",
   "metadata": {},
   "outputs": [
    {
     "data": {
      "text/html": [
       "<div>\n",
       "<style scoped>\n",
       "    .dataframe tbody tr th:only-of-type {\n",
       "        vertical-align: middle;\n",
       "    }\n",
       "\n",
       "    .dataframe tbody tr th {\n",
       "        vertical-align: top;\n",
       "    }\n",
       "\n",
       "    .dataframe thead th {\n",
       "        text-align: right;\n",
       "    }\n",
       "</style>\n",
       "<table border=\"1\" class=\"dataframe\">\n",
       "  <thead>\n",
       "    <tr style=\"text-align: right;\">\n",
       "      <th></th>\n",
       "      <th>PIN</th>\n",
       "      <th>DeviceID</th>\n",
       "      <th>Assessment Name</th>\n",
       "      <th>Inst</th>\n",
       "      <th>ItemID</th>\n",
       "      <th>Response</th>\n",
       "      <th>Score</th>\n",
       "      <th>Position</th>\n",
       "      <th>ResponseTime</th>\n",
       "      <th>DateCreated</th>\n",
       "      <th>InstStarted</th>\n",
       "      <th>InstEnded</th>\n",
       "      <th>Age_month</th>\n",
       "      <th>Age_group</th>\n",
       "    </tr>\n",
       "  </thead>\n",
       "  <tbody>\n",
       "    <tr>\n",
       "      <th>0</th>\n",
       "      <td>TX009C</td>\n",
       "      <td>E2909A06-4CF6-4F3A-A839-A30AE05F2B5B</td>\n",
       "      <td>Assessment 2</td>\n",
       "      <td>Mullen Receptive</td>\n",
       "      <td>Mullen_Rec_Title</td>\n",
       "      <td>1</td>\n",
       "      <td>NaN</td>\n",
       "      <td>1</td>\n",
       "      <td>NaN</td>\n",
       "      <td>2021-12-05 08:30:42</td>\n",
       "      <td>2021-12-05 08:30:41</td>\n",
       "      <td>2021-12-05 08:33:49</td>\n",
       "      <td>18.00</td>\n",
       "      <td>(15, 18]</td>\n",
       "    </tr>\n",
       "    <tr>\n",
       "      <th>1</th>\n",
       "      <td>TX009C</td>\n",
       "      <td>E2909A06-4CF6-4F3A-A839-A30AE05F2B5B</td>\n",
       "      <td>Assessment 2</td>\n",
       "      <td>Mullen Receptive</td>\n",
       "      <td>Mullen_Rec_Instructions</td>\n",
       "      <td>1</td>\n",
       "      <td>NaN</td>\n",
       "      <td>2</td>\n",
       "      <td>NaN</td>\n",
       "      <td>2021-12-05 08:30:43</td>\n",
       "      <td>2021-12-05 08:30:41</td>\n",
       "      <td>2021-12-05 08:33:49</td>\n",
       "      <td>18.00</td>\n",
       "      <td>(15, 18]</td>\n",
       "    </tr>\n",
       "    <tr>\n",
       "      <th>2</th>\n",
       "      <td>TX009C</td>\n",
       "      <td>E2909A06-4CF6-4F3A-A839-A30AE05F2B5B</td>\n",
       "      <td>Assessment 2</td>\n",
       "      <td>Mullen Receptive</td>\n",
       "      <td>RL13</td>\n",
       "      <td>2</td>\n",
       "      <td>0.00</td>\n",
       "      <td>3</td>\n",
       "      <td>NaN</td>\n",
       "      <td>2021-12-05 08:32:53</td>\n",
       "      <td>2021-12-05 08:30:41</td>\n",
       "      <td>2021-12-05 08:33:49</td>\n",
       "      <td>18.00</td>\n",
       "      <td>(15, 18]</td>\n",
       "    </tr>\n",
       "    <tr>\n",
       "      <th>3</th>\n",
       "      <td>TX009C</td>\n",
       "      <td>E2909A06-4CF6-4F3A-A839-A30AE05F2B5B</td>\n",
       "      <td>Assessment 2</td>\n",
       "      <td>Mullen Receptive</td>\n",
       "      <td>RL10</td>\n",
       "      <td>1</td>\n",
       "      <td>1.00</td>\n",
       "      <td>4</td>\n",
       "      <td>NaN</td>\n",
       "      <td>2021-12-05 08:32:59</td>\n",
       "      <td>2021-12-05 08:30:41</td>\n",
       "      <td>2021-12-05 08:33:49</td>\n",
       "      <td>18.00</td>\n",
       "      <td>(15, 18]</td>\n",
       "    </tr>\n",
       "    <tr>\n",
       "      <th>4</th>\n",
       "      <td>TX009C</td>\n",
       "      <td>E2909A06-4CF6-4F3A-A839-A30AE05F2B5B</td>\n",
       "      <td>Assessment 2</td>\n",
       "      <td>Mullen Receptive</td>\n",
       "      <td>RL15</td>\n",
       "      <td>2</td>\n",
       "      <td>0.00</td>\n",
       "      <td>5</td>\n",
       "      <td>NaN</td>\n",
       "      <td>2021-12-05 08:33:18</td>\n",
       "      <td>2021-12-05 08:30:41</td>\n",
       "      <td>2021-12-05 08:33:49</td>\n",
       "      <td>18.00</td>\n",
       "      <td>(15, 18]</td>\n",
       "    </tr>\n",
       "  </tbody>\n",
       "</table>\n",
       "</div>"
      ],
      "text/plain": [
       "      PIN                              DeviceID Assessment Name  \\\n",
       "0  TX009C  E2909A06-4CF6-4F3A-A839-A30AE05F2B5B    Assessment 2   \n",
       "1  TX009C  E2909A06-4CF6-4F3A-A839-A30AE05F2B5B    Assessment 2   \n",
       "2  TX009C  E2909A06-4CF6-4F3A-A839-A30AE05F2B5B    Assessment 2   \n",
       "3  TX009C  E2909A06-4CF6-4F3A-A839-A30AE05F2B5B    Assessment 2   \n",
       "4  TX009C  E2909A06-4CF6-4F3A-A839-A30AE05F2B5B    Assessment 2   \n",
       "\n",
       "               Inst                   ItemID Response  Score  Position  \\\n",
       "0  Mullen Receptive         Mullen_Rec_Title        1    NaN         1   \n",
       "1  Mullen Receptive  Mullen_Rec_Instructions        1    NaN         2   \n",
       "2  Mullen Receptive                     RL13        2   0.00         3   \n",
       "3  Mullen Receptive                     RL10        1   1.00         4   \n",
       "4  Mullen Receptive                     RL15        2   0.00         5   \n",
       "\n",
       "   ResponseTime          DateCreated          InstStarted  \\\n",
       "0           NaN  2021-12-05 08:30:42  2021-12-05 08:30:41   \n",
       "1           NaN  2021-12-05 08:30:43  2021-12-05 08:30:41   \n",
       "2           NaN  2021-12-05 08:32:53  2021-12-05 08:30:41   \n",
       "3           NaN  2021-12-05 08:32:59  2021-12-05 08:30:41   \n",
       "4           NaN  2021-12-05 08:33:18  2021-12-05 08:30:41   \n",
       "\n",
       "             InstEnded  Age_month Age_group  \n",
       "0  2021-12-05 08:33:49      18.00  (15, 18]  \n",
       "1  2021-12-05 08:33:49      18.00  (15, 18]  \n",
       "2  2021-12-05 08:33:49      18.00  (15, 18]  \n",
       "3  2021-12-05 08:33:49      18.00  (15, 18]  \n",
       "4  2021-12-05 08:33:49      18.00  (15, 18]  "
      ]
     },
     "execution_count": 5,
     "metadata": {},
     "output_type": "execute_result"
    }
   ],
   "source": [
    "data.head()"
   ]
  },
  {
   "cell_type": "code",
   "execution_count": 7,
   "id": "25eda9ee",
   "metadata": {},
   "outputs": [
    {
     "data": {
      "text/plain": [
       "array(['Mullen Receptive', 'Mullen Expressive Prompted',\n",
       "       'Executive Function', 'Verbal Counting', 'Toy Out of Reach',\n",
       "       'Social Observation', 'Playing with Bubbles',\n",
       "       'Looking While Listening', 'Get Up and Go', 'Sit and Stand',\n",
       "       'Numerical Change Detection', 'Shape Matching Manipulatives',\n",
       "       'Reach To Eat', 'Spatial Change Detection',\n",
       "       'Make Yours Look Like Mine', 'Mullen Expressive Observational',\n",
       "       'Global Self-Regulation', 'Object Counting', 'Give_N',\n",
       "       'Memory Task Learning', 'Visual Delayed Response',\n",
       "       'Memory Task Test',\n",
       "       'NIH Baby Toolbox Picture Vocabulary Test Practice',\n",
       "       'NIH Baby Toolbox Picture Vocabulary Test', 'Who Has More',\n",
       "       'Shape Matching', 'Number Recognition + Subitizing',\n",
       "       'Early Childhood Behavior Questionnaire - Very Short Form',\n",
       "       'Caregiver Checklist',\n",
       "       'PROMIS EC Parent-Report SF v1.0 - Social Relationships - Child-Caregiver Interactions 5a',\n",
       "       'PROMIS EC Parent-Report SF v1.0 - Social Relationships - Peer Relationships 4a',\n",
       "       'CDI: Expressive', 'REMA Arithmetic', 'CDI: Receptive',\n",
       "       \"Children's Behavior Questionnaire - Very Short Form\",\n",
       "       'Infant Behavior Questionnaire - Revised - Very Short Form'],\n",
       "      dtype=object)"
      ]
     },
     "execution_count": 7,
     "metadata": {},
     "output_type": "execute_result"
    }
   ],
   "source": [
    "data.Inst.unique()"
   ]
  },
  {
   "cell_type": "code",
   "execution_count": 8,
   "id": "135dafc1",
   "metadata": {},
   "outputs": [],
   "source": [
    "df= data[data.Inst=='Get Up and Go']"
   ]
  },
  {
   "cell_type": "code",
   "execution_count": 15,
   "id": "cdbc8d7f",
   "metadata": {},
   "outputs": [
    {
     "data": {
      "text/plain": [
       "(3717, 14)"
      ]
     },
     "execution_count": 15,
     "metadata": {},
     "output_type": "execute_result"
    }
   ],
   "source": [
    "df.shape"
   ]
  },
  {
   "cell_type": "code",
   "execution_count": 71,
   "id": "c282c6d0",
   "metadata": {},
   "outputs": [],
   "source": [
    "df.PIN=df.PIN.str[:5]"
   ]
  },
  {
   "cell_type": "markdown",
   "id": "e62a1652",
   "metadata": {},
   "source": [
    "# 2. Create a 2-dimensional array—first dimension is the age-groups, second dimension is every single ItemID. Values within the array are counts for number of subjects that took that item. Use the `Response` field to determine if it was administered or not; if any response is recorded, add that participant to the relevant cell. A person cannot be counted more than once. "
   ]
  },
  {
   "cell_type": "code",
   "execution_count": 16,
   "id": "f6517e70",
   "metadata": {},
   "outputs": [],
   "source": [
    "df =df[df.Response.notnull()]"
   ]
  },
  {
   "cell_type": "code",
   "execution_count": 11,
   "id": "8dd62ed8",
   "metadata": {},
   "outputs": [
    {
     "data": {
      "text/plain": [
       "ItemID\n",
       "GuD-Instct    41\n",
       "GuD-PBack     41\n",
       "GuD-Start     41\n",
       "GuD-Step      41\n",
       "GuD-VdInst    41\n",
       "              ..\n",
       "GuS-Toe       67\n",
       "GuS-Turn       3\n",
       "GuS-Up        77\n",
       "GuS-VidT      82\n",
       "GuS-Video     82\n",
       "Name: Age_group, Length: 68, dtype: int64"
      ]
     },
     "execution_count": 11,
     "metadata": {},
     "output_type": "execute_result"
    }
   ],
   "source": [
    "df.groupby('ItemID')['Age_group'].count()"
   ]
  },
  {
   "cell_type": "markdown",
   "id": "0dad7f29",
   "metadata": {},
   "source": [
    "# 3. Overall only (not by age group), if the `Response` field is an INTEGER, tabulate the values within an ItemID across all individuals. Note that some `Response` fields are strings or floats, in which case that ItemID does not require a table. "
   ]
  },
  {
   "cell_type": "code",
   "execution_count": 25,
   "id": "0e0a56a5",
   "metadata": {},
   "outputs": [],
   "source": [
    "intrp = df[df['Response'].str.isnumeric()]"
   ]
  },
  {
   "cell_type": "code",
   "execution_count": 26,
   "id": "ee73fc5c",
   "metadata": {},
   "outputs": [
    {
     "data": {
      "text/plain": [
       "ItemID\n",
       "GuD-Instct                              {1}\n",
       "GuD-PBack                               {2}\n",
       "GuD-Step                    {4, 7, 6, 5, 2}\n",
       "GuD-VdInst                              {1}\n",
       "GuF-BackL                            {1, 2}\n",
       "GuF-BackR                            {1, 2}\n",
       "GuF-FallL                               {2}\n",
       "GuF-FallR                            {1, 2}\n",
       "GuF-FiveL                            {1, 2}\n",
       "GuF-FiveR                            {1, 2}\n",
       "GuF-FootR                               {3}\n",
       "GuF-LInstL                              {1}\n",
       "GuF-LInstR                              {1}\n",
       "GuF-LMethL                        {5, 1, 6}\n",
       "GuF-LMethR                        {5, 6, 3}\n",
       "GuF-PBackL                              {2}\n",
       "GuF-PBackR                              {2}\n",
       "GuF-PinstL                              {1}\n",
       "GuF-PinstR                              {1}\n",
       "GuF-PreBkL                              {2}\n",
       "GuF-PreBkR                              {2}\n",
       "GuF-PreQ                             {1, 2}\n",
       "GuF-PrevidTL                            {1}\n",
       "GuF-PvidTR                              {1}\n",
       "GuF-RollL                            {1, 2}\n",
       "GuF-RollR                            {1, 2}\n",
       "GuF-SucesL                           {1, 2}\n",
       "GuF-SucesR                           {1, 2}\n",
       "GuF-ToeL                                {1}\n",
       "GuF-ToeR                             {1, 2}\n",
       "GuF-TurnL                            {1, 2}\n",
       "GuF-TurnR                               {2}\n",
       "GuF-UpL                  {4, 1, 6, 3, 5, 2}\n",
       "GuF-UpR         {4, 7, 1, 6, 3, 5, 8, 2, 9}\n",
       "GuF-VidTL                               {1}\n",
       "GuF-VidTR                               {1}\n",
       "GuG-I                                   {1}\n",
       "GuG-Title                               {1}\n",
       "GuS-Back                                {1}\n",
       "GuS-Fall                                {2}\n",
       "GuS-Five                             {1, 2}\n",
       "GuS-Foot                             {1, 3}\n",
       "GuS-Inst                                {1}\n",
       "GuS-LocMth                     {5, 1, 6, 3}\n",
       "GuS-Pback                               {2}\n",
       "GuS-Roll                             {1, 2}\n",
       "GuS-Step              {4, 7, 1, 6, 5, 8, 2}\n",
       "GuS-Suces                            {1, 2}\n",
       "GuS-Toe                              {1, 2}\n",
       "GuS-Turn                                {1}\n",
       "GuS-Up          {4, 7, 1, 6, 3, 5, 8, 2, 9}\n",
       "GuS-VidT                                {1}\n",
       "Name: Response, dtype: object"
      ]
     },
     "execution_count": 26,
     "metadata": {},
     "output_type": "execute_result"
    }
   ],
   "source": [
    "# one column for each of the ~35 Inst [instrument names]\n",
    "intrp.groupby(['ItemID'])['Response'].apply(set)"
   ]
  },
  {
   "cell_type": "markdown",
   "id": "a47a91fa",
   "metadata": {},
   "source": [
    "# 4. Calculate the locomotion durations for three prompts using the difference between `Response` value"
   ]
  },
  {
   "cell_type": "code",
   "execution_count": 71,
   "id": "a33b00fb",
   "metadata": {},
   "outputs": [],
   "source": [
    "#Off-Floor-Right duration: Take the `Response` field from ItemID GuF-EndR and subtract the `Response` field from ItemID GuF-StartR \n",
    "\n",
    "def duration(df, col1, col2, new):\n",
    "    End = df[df.ItemID==col1][['PIN','Assessment Name','Response']].drop_duplicates()\n",
    "    Start =df[df.ItemID==col2][['PIN','Assessment Name','Response']].drop_duplicates()\n",
    "    a = pd.merge(End, Start, on=['PIN','Assessment Name'], how='left')\n",
    "    \n",
    "    a['Response_x'] =pd.to_numeric(a['Response_x'])\n",
    "    a['Response_y'] =pd.to_numeric(a['Response_y'])\n",
    "    a[new] = a['Response_x']- a['Response_y']\n",
    "    \n",
    "    return a"
   ]
  },
  {
   "cell_type": "code",
   "execution_count": 72,
   "id": "276dcfe6",
   "metadata": {},
   "outputs": [
    {
     "data": {
      "text/html": [
       "<div>\n",
       "<style scoped>\n",
       "    .dataframe tbody tr th:only-of-type {\n",
       "        vertical-align: middle;\n",
       "    }\n",
       "\n",
       "    .dataframe tbody tr th {\n",
       "        vertical-align: top;\n",
       "    }\n",
       "\n",
       "    .dataframe thead th {\n",
       "        text-align: right;\n",
       "    }\n",
       "</style>\n",
       "<table border=\"1\" class=\"dataframe\">\n",
       "  <thead>\n",
       "    <tr style=\"text-align: right;\">\n",
       "      <th></th>\n",
       "      <th>PIN</th>\n",
       "      <th>Assessment Name</th>\n",
       "      <th>Response_x</th>\n",
       "      <th>Response_y</th>\n",
       "      <th>Off-Floor-Right</th>\n",
       "    </tr>\n",
       "  </thead>\n",
       "  <tbody>\n",
       "    <tr>\n",
       "      <th>0</th>\n",
       "      <td>TX009C</td>\n",
       "      <td>Assessment 2</td>\n",
       "      <td>83.87</td>\n",
       "      <td>19.32</td>\n",
       "      <td>64.55</td>\n",
       "    </tr>\n",
       "    <tr>\n",
       "      <th>1</th>\n",
       "      <td>TX005C</td>\n",
       "      <td>Assessment 2</td>\n",
       "      <td>126.54</td>\n",
       "      <td>22.42</td>\n",
       "      <td>104.11</td>\n",
       "    </tr>\n",
       "    <tr>\n",
       "      <th>2</th>\n",
       "      <td>APPLETONC1</td>\n",
       "      <td>Assessment 1</td>\n",
       "      <td>7.02</td>\n",
       "      <td>3.18</td>\n",
       "      <td>3.84</td>\n",
       "    </tr>\n",
       "    <tr>\n",
       "      <th>3</th>\n",
       "      <td>MO008C</td>\n",
       "      <td>Assessment 1</td>\n",
       "      <td>32.16</td>\n",
       "      <td>13.75</td>\n",
       "      <td>18.41</td>\n",
       "    </tr>\n",
       "    <tr>\n",
       "      <th>4</th>\n",
       "      <td>MN011C</td>\n",
       "      <td>Assessment 1</td>\n",
       "      <td>54.37</td>\n",
       "      <td>46.61</td>\n",
       "      <td>7.76</td>\n",
       "    </tr>\n",
       "  </tbody>\n",
       "</table>\n",
       "</div>"
      ],
      "text/plain": [
       "          PIN Assessment Name  Response_x  Response_y  Off-Floor-Right\n",
       "0      TX009C    Assessment 2       83.87       19.32            64.55\n",
       "1      TX005C    Assessment 2      126.54       22.42           104.11\n",
       "2  APPLETONC1    Assessment 1        7.02        3.18             3.84\n",
       "3      MO008C    Assessment 1       32.16       13.75            18.41\n",
       "4      MN011C    Assessment 1       54.37       46.61             7.76"
      ]
     },
     "execution_count": 72,
     "metadata": {},
     "output_type": "execute_result"
    }
   ],
   "source": [
    "a= duration(df, 'GuF-EndR','GuF-StartR', 'Off-Floor-Right')\n",
    "a.head()"
   ]
  },
  {
   "cell_type": "code",
   "execution_count": 73,
   "id": "6d2b75a2",
   "metadata": {},
   "outputs": [
    {
     "data": {
      "text/html": [
       "<div>\n",
       "<style scoped>\n",
       "    .dataframe tbody tr th:only-of-type {\n",
       "        vertical-align: middle;\n",
       "    }\n",
       "\n",
       "    .dataframe tbody tr th {\n",
       "        vertical-align: top;\n",
       "    }\n",
       "\n",
       "    .dataframe thead th {\n",
       "        text-align: right;\n",
       "    }\n",
       "</style>\n",
       "<table border=\"1\" class=\"dataframe\">\n",
       "  <thead>\n",
       "    <tr style=\"text-align: right;\">\n",
       "      <th></th>\n",
       "      <th>PIN</th>\n",
       "      <th>Assessment Name</th>\n",
       "      <th>Response_x</th>\n",
       "      <th>Response_y</th>\n",
       "      <th>Off-Floor-Left</th>\n",
       "    </tr>\n",
       "  </thead>\n",
       "  <tbody>\n",
       "    <tr>\n",
       "      <th>0</th>\n",
       "      <td>MO009C</td>\n",
       "      <td>Assessment 1</td>\n",
       "      <td>42.42</td>\n",
       "      <td>34.13</td>\n",
       "      <td>8.28</td>\n",
       "    </tr>\n",
       "    <tr>\n",
       "      <th>1</th>\n",
       "      <td>WI003C</td>\n",
       "      <td>Assessment 2</td>\n",
       "      <td>43.90</td>\n",
       "      <td>26.72</td>\n",
       "      <td>17.18</td>\n",
       "    </tr>\n",
       "    <tr>\n",
       "      <th>2</th>\n",
       "      <td>MO001C</td>\n",
       "      <td>Assessment 1</td>\n",
       "      <td>24.06</td>\n",
       "      <td>18.93</td>\n",
       "      <td>5.13</td>\n",
       "    </tr>\n",
       "    <tr>\n",
       "      <th>3</th>\n",
       "      <td>MO016C</td>\n",
       "      <td>Assessment 1</td>\n",
       "      <td>25.37</td>\n",
       "      <td>11.74</td>\n",
       "      <td>13.63</td>\n",
       "    </tr>\n",
       "  </tbody>\n",
       "</table>\n",
       "</div>"
      ],
      "text/plain": [
       "      PIN Assessment Name  Response_x  Response_y  Off-Floor-Left\n",
       "0  MO009C    Assessment 1       42.42       34.13            8.28\n",
       "1  WI003C    Assessment 2       43.90       26.72           17.18\n",
       "2  MO001C    Assessment 1       24.06       18.93            5.13\n",
       "3  MO016C    Assessment 1       25.37       11.74           13.63"
      ]
     },
     "execution_count": 73,
     "metadata": {},
     "output_type": "execute_result"
    }
   ],
   "source": [
    "b= duration(df, 'GuF-EndL','GuF-StartL', 'Off-Floor-Left')\n",
    "b.head()"
   ]
  },
  {
   "cell_type": "code",
   "execution_count": 74,
   "id": "dfb5d74a",
   "metadata": {},
   "outputs": [
    {
     "data": {
      "text/html": [
       "<div>\n",
       "<style scoped>\n",
       "    .dataframe tbody tr th:only-of-type {\n",
       "        vertical-align: middle;\n",
       "    }\n",
       "\n",
       "    .dataframe tbody tr th {\n",
       "        vertical-align: top;\n",
       "    }\n",
       "\n",
       "    .dataframe thead th {\n",
       "        text-align: right;\n",
       "    }\n",
       "</style>\n",
       "<table border=\"1\" class=\"dataframe\">\n",
       "  <thead>\n",
       "    <tr style=\"text-align: right;\">\n",
       "      <th></th>\n",
       "      <th>PIN</th>\n",
       "      <th>Assessment Name</th>\n",
       "      <th>Response_x</th>\n",
       "      <th>Response_y</th>\n",
       "      <th>Up-Step</th>\n",
       "    </tr>\n",
       "  </thead>\n",
       "  <tbody>\n",
       "    <tr>\n",
       "      <th>0</th>\n",
       "      <td>TX009C</td>\n",
       "      <td>Assessment 2</td>\n",
       "      <td>80.09</td>\n",
       "      <td>18.52</td>\n",
       "      <td>61.57</td>\n",
       "    </tr>\n",
       "    <tr>\n",
       "      <th>1</th>\n",
       "      <td>TX005C</td>\n",
       "      <td>Assessment 2</td>\n",
       "      <td>74.93</td>\n",
       "      <td>22.70</td>\n",
       "      <td>52.23</td>\n",
       "    </tr>\n",
       "    <tr>\n",
       "      <th>2</th>\n",
       "      <td>APPLETONC1</td>\n",
       "      <td>Assessment 1</td>\n",
       "      <td>9.11</td>\n",
       "      <td>4.21</td>\n",
       "      <td>4.90</td>\n",
       "    </tr>\n",
       "    <tr>\n",
       "      <th>3</th>\n",
       "      <td>MN011C</td>\n",
       "      <td>Assessment 1</td>\n",
       "      <td>96.34</td>\n",
       "      <td>89.71</td>\n",
       "      <td>6.64</td>\n",
       "    </tr>\n",
       "    <tr>\n",
       "      <th>4</th>\n",
       "      <td>TX015C</td>\n",
       "      <td>Assessment 1</td>\n",
       "      <td>39.81</td>\n",
       "      <td>13.63</td>\n",
       "      <td>26.17</td>\n",
       "    </tr>\n",
       "  </tbody>\n",
       "</table>\n",
       "</div>"
      ],
      "text/plain": [
       "          PIN Assessment Name  Response_x  Response_y  Up-Step\n",
       "0      TX009C    Assessment 2       80.09       18.52    61.57\n",
       "1      TX005C    Assessment 2       74.93       22.70    52.23\n",
       "2  APPLETONC1    Assessment 1        9.11        4.21     4.90\n",
       "3      MN011C    Assessment 1       96.34       89.71     6.64\n",
       "4      TX015C    Assessment 1       39.81       13.63    26.17"
      ]
     },
     "execution_count": 74,
     "metadata": {},
     "output_type": "execute_result"
    }
   ],
   "source": [
    "c= duration(df, 'GuS-End','GuS-Start', 'Up-Step')\n",
    "c.head()"
   ]
  },
  {
   "cell_type": "markdown",
   "id": "0fa2abde",
   "metadata": {},
   "source": [
    "# 5. Summarize the durations overall and by group (number of individuals taking the test, mean duration, sd of durations, minimum, 25th percentile, median, 75th percentile, and maximum durations) "
   ]
  },
  {
   "cell_type": "code",
   "execution_count": 70,
   "id": "ad124743",
   "metadata": {},
   "outputs": [
    {
     "data": {
      "text/plain": [
       "count    4.00\n",
       "mean    11.06\n",
       "std      5.38\n",
       "min      5.13\n",
       "25%      7.50\n",
       "50%     10.96\n",
       "75%     14.52\n",
       "max     17.18\n",
       "Name: Off-Floor-Left, dtype: float64"
      ]
     },
     "execution_count": 70,
     "metadata": {},
     "output_type": "execute_result"
    }
   ],
   "source": [
    "b.describe()"
   ]
  },
  {
   "cell_type": "code",
   "execution_count": 69,
   "id": "8a6d9932",
   "metadata": {},
   "outputs": [
    {
     "data": {
      "text/html": [
       "<div>\n",
       "<style scoped>\n",
       "    .dataframe tbody tr th:only-of-type {\n",
       "        vertical-align: middle;\n",
       "    }\n",
       "\n",
       "    .dataframe tbody tr th {\n",
       "        vertical-align: top;\n",
       "    }\n",
       "\n",
       "    .dataframe thead th {\n",
       "        text-align: right;\n",
       "    }\n",
       "</style>\n",
       "<table border=\"1\" class=\"dataframe\">\n",
       "  <thead>\n",
       "    <tr style=\"text-align: right;\">\n",
       "      <th></th>\n",
       "      <th>Off-Floor-Right</th>\n",
       "      <th>Off-Floor-Left</th>\n",
       "      <th>Up-Step</th>\n",
       "    </tr>\n",
       "  </thead>\n",
       "  <tbody>\n",
       "    <tr>\n",
       "      <th>count</th>\n",
       "      <td>70.00</td>\n",
       "      <td>4.00</td>\n",
       "      <td>66.00</td>\n",
       "    </tr>\n",
       "    <tr>\n",
       "      <th>mean</th>\n",
       "      <td>18.53</td>\n",
       "      <td>11.06</td>\n",
       "      <td>15.21</td>\n",
       "    </tr>\n",
       "    <tr>\n",
       "      <th>std</th>\n",
       "      <td>27.06</td>\n",
       "      <td>5.38</td>\n",
       "      <td>15.18</td>\n",
       "    </tr>\n",
       "    <tr>\n",
       "      <th>min</th>\n",
       "      <td>0.20</td>\n",
       "      <td>5.13</td>\n",
       "      <td>2.88</td>\n",
       "    </tr>\n",
       "    <tr>\n",
       "      <th>25%</th>\n",
       "      <td>5.26</td>\n",
       "      <td>7.50</td>\n",
       "      <td>6.15</td>\n",
       "    </tr>\n",
       "    <tr>\n",
       "      <th>50%</th>\n",
       "      <td>9.05</td>\n",
       "      <td>10.96</td>\n",
       "      <td>9.49</td>\n",
       "    </tr>\n",
       "    <tr>\n",
       "      <th>75%</th>\n",
       "      <td>18.49</td>\n",
       "      <td>14.52</td>\n",
       "      <td>18.56</td>\n",
       "    </tr>\n",
       "    <tr>\n",
       "      <th>max</th>\n",
       "      <td>156.71</td>\n",
       "      <td>17.18</td>\n",
       "      <td>89.79</td>\n",
       "    </tr>\n",
       "  </tbody>\n",
       "</table>\n",
       "</div>"
      ],
      "text/plain": [
       "       Off-Floor-Right  Off-Floor-Left  Up-Step\n",
       "count            70.00            4.00    66.00\n",
       "mean             18.53           11.06    15.21\n",
       "std              27.06            5.38    15.18\n",
       "min               0.20            5.13     2.88\n",
       "25%               5.26            7.50     6.15\n",
       "50%               9.05           10.96     9.49\n",
       "75%              18.49           14.52    18.56\n",
       "max             156.71           17.18    89.79"
      ]
     },
     "execution_count": 69,
     "metadata": {},
     "output_type": "execute_result"
    }
   ],
   "source": [
    "pd.concat([a,b,c], axis=1).describe()"
   ]
  },
  {
   "cell_type": "code",
   "execution_count": null,
   "id": "69e958b6",
   "metadata": {},
   "outputs": [],
   "source": []
  }
 ],
 "metadata": {
  "kernelspec": {
   "display_name": "Python 3",
   "language": "python",
   "name": "python3"
  },
  "language_info": {
   "codemirror_mode": {
    "name": "ipython",
    "version": 3
   },
   "file_extension": ".py",
   "mimetype": "text/x-python",
   "name": "python",
   "nbconvert_exporter": "python",
   "pygments_lexer": "ipython3",
   "version": "3.8.8"
  }
 },
 "nbformat": 4,
 "nbformat_minor": 5
}
