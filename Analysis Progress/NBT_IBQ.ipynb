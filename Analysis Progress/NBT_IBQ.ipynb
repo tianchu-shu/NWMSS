{
 "cells": [
  {
   "cell_type": "code",
   "execution_count": 1,
   "id": "8986fd9c",
   "metadata": {},
   "outputs": [],
   "source": [
    "#Data saved in csv/excel\n",
    "import glob, os\n",
    "import pandas as pd\n",
    "import warnings\n",
    "warnings.filterwarnings('ignore')"
   ]
  },
  {
   "cell_type": "code",
   "execution_count": 2,
   "id": "52195d83",
   "metadata": {},
   "outputs": [],
   "source": [
    "#Set two decimal points for display\n",
    "pd.options.display.float_format = \"{:.2f}\".format"
   ]
  },
  {
   "cell_type": "markdown",
   "id": "f1fb0471",
   "metadata": {},
   "source": [
    "# 1. Load the data"
   ]
  },
  {
   "cell_type": "code",
   "execution_count": 3,
   "id": "bcfffc08",
   "metadata": {},
   "outputs": [],
   "source": [
    "data=pd.read_csv('C:/Users/tsb7592/Downloads/Basic_Desc_output.csv')"
   ]
  },
  {
   "cell_type": "code",
   "execution_count": 4,
   "id": "4879544f",
   "metadata": {},
   "outputs": [],
   "source": [
    "data['PIN']=data['PIN'].str.upper()"
   ]
  },
  {
   "cell_type": "code",
   "execution_count": 5,
   "id": "68300eb9",
   "metadata": {},
   "outputs": [
    {
     "data": {
      "text/html": [
       "<div>\n",
       "<style scoped>\n",
       "    .dataframe tbody tr th:only-of-type {\n",
       "        vertical-align: middle;\n",
       "    }\n",
       "\n",
       "    .dataframe tbody tr th {\n",
       "        vertical-align: top;\n",
       "    }\n",
       "\n",
       "    .dataframe thead th {\n",
       "        text-align: right;\n",
       "    }\n",
       "</style>\n",
       "<table border=\"1\" class=\"dataframe\">\n",
       "  <thead>\n",
       "    <tr style=\"text-align: right;\">\n",
       "      <th></th>\n",
       "      <th>PIN</th>\n",
       "      <th>DeviceID</th>\n",
       "      <th>Assessment Name</th>\n",
       "      <th>Inst</th>\n",
       "      <th>ItemID</th>\n",
       "      <th>Response</th>\n",
       "      <th>Score</th>\n",
       "      <th>Position</th>\n",
       "      <th>ResponseTime</th>\n",
       "      <th>DateCreated</th>\n",
       "      <th>InstStarted</th>\n",
       "      <th>InstEnded</th>\n",
       "      <th>Age_month</th>\n",
       "      <th>Age_group</th>\n",
       "    </tr>\n",
       "  </thead>\n",
       "  <tbody>\n",
       "    <tr>\n",
       "      <th>0</th>\n",
       "      <td>TX009C</td>\n",
       "      <td>E2909A06-4CF6-4F3A-A839-A30AE05F2B5B</td>\n",
       "      <td>Assessment 2</td>\n",
       "      <td>Mullen Receptive</td>\n",
       "      <td>Mullen_Rec_Title</td>\n",
       "      <td>1</td>\n",
       "      <td>NaN</td>\n",
       "      <td>1</td>\n",
       "      <td>NaN</td>\n",
       "      <td>2021-12-05 08:30:42</td>\n",
       "      <td>2021-12-05 08:30:41</td>\n",
       "      <td>2021-12-05 08:33:49</td>\n",
       "      <td>18.00</td>\n",
       "      <td>(15, 18]</td>\n",
       "    </tr>\n",
       "    <tr>\n",
       "      <th>1</th>\n",
       "      <td>TX009C</td>\n",
       "      <td>E2909A06-4CF6-4F3A-A839-A30AE05F2B5B</td>\n",
       "      <td>Assessment 2</td>\n",
       "      <td>Mullen Receptive</td>\n",
       "      <td>Mullen_Rec_Instructions</td>\n",
       "      <td>1</td>\n",
       "      <td>NaN</td>\n",
       "      <td>2</td>\n",
       "      <td>NaN</td>\n",
       "      <td>2021-12-05 08:30:43</td>\n",
       "      <td>2021-12-05 08:30:41</td>\n",
       "      <td>2021-12-05 08:33:49</td>\n",
       "      <td>18.00</td>\n",
       "      <td>(15, 18]</td>\n",
       "    </tr>\n",
       "    <tr>\n",
       "      <th>2</th>\n",
       "      <td>TX009C</td>\n",
       "      <td>E2909A06-4CF6-4F3A-A839-A30AE05F2B5B</td>\n",
       "      <td>Assessment 2</td>\n",
       "      <td>Mullen Receptive</td>\n",
       "      <td>RL13</td>\n",
       "      <td>2</td>\n",
       "      <td>0.00</td>\n",
       "      <td>3</td>\n",
       "      <td>NaN</td>\n",
       "      <td>2021-12-05 08:32:53</td>\n",
       "      <td>2021-12-05 08:30:41</td>\n",
       "      <td>2021-12-05 08:33:49</td>\n",
       "      <td>18.00</td>\n",
       "      <td>(15, 18]</td>\n",
       "    </tr>\n",
       "    <tr>\n",
       "      <th>3</th>\n",
       "      <td>TX009C</td>\n",
       "      <td>E2909A06-4CF6-4F3A-A839-A30AE05F2B5B</td>\n",
       "      <td>Assessment 2</td>\n",
       "      <td>Mullen Receptive</td>\n",
       "      <td>RL10</td>\n",
       "      <td>1</td>\n",
       "      <td>1.00</td>\n",
       "      <td>4</td>\n",
       "      <td>NaN</td>\n",
       "      <td>2021-12-05 08:32:59</td>\n",
       "      <td>2021-12-05 08:30:41</td>\n",
       "      <td>2021-12-05 08:33:49</td>\n",
       "      <td>18.00</td>\n",
       "      <td>(15, 18]</td>\n",
       "    </tr>\n",
       "    <tr>\n",
       "      <th>4</th>\n",
       "      <td>TX009C</td>\n",
       "      <td>E2909A06-4CF6-4F3A-A839-A30AE05F2B5B</td>\n",
       "      <td>Assessment 2</td>\n",
       "      <td>Mullen Receptive</td>\n",
       "      <td>RL15</td>\n",
       "      <td>2</td>\n",
       "      <td>0.00</td>\n",
       "      <td>5</td>\n",
       "      <td>NaN</td>\n",
       "      <td>2021-12-05 08:33:18</td>\n",
       "      <td>2021-12-05 08:30:41</td>\n",
       "      <td>2021-12-05 08:33:49</td>\n",
       "      <td>18.00</td>\n",
       "      <td>(15, 18]</td>\n",
       "    </tr>\n",
       "  </tbody>\n",
       "</table>\n",
       "</div>"
      ],
      "text/plain": [
       "      PIN                              DeviceID Assessment Name  \\\n",
       "0  TX009C  E2909A06-4CF6-4F3A-A839-A30AE05F2B5B    Assessment 2   \n",
       "1  TX009C  E2909A06-4CF6-4F3A-A839-A30AE05F2B5B    Assessment 2   \n",
       "2  TX009C  E2909A06-4CF6-4F3A-A839-A30AE05F2B5B    Assessment 2   \n",
       "3  TX009C  E2909A06-4CF6-4F3A-A839-A30AE05F2B5B    Assessment 2   \n",
       "4  TX009C  E2909A06-4CF6-4F3A-A839-A30AE05F2B5B    Assessment 2   \n",
       "\n",
       "               Inst                   ItemID Response  Score  Position  \\\n",
       "0  Mullen Receptive         Mullen_Rec_Title        1    NaN         1   \n",
       "1  Mullen Receptive  Mullen_Rec_Instructions        1    NaN         2   \n",
       "2  Mullen Receptive                     RL13        2   0.00         3   \n",
       "3  Mullen Receptive                     RL10        1   1.00         4   \n",
       "4  Mullen Receptive                     RL15        2   0.00         5   \n",
       "\n",
       "   ResponseTime          DateCreated          InstStarted  \\\n",
       "0           NaN  2021-12-05 08:30:42  2021-12-05 08:30:41   \n",
       "1           NaN  2021-12-05 08:30:43  2021-12-05 08:30:41   \n",
       "2           NaN  2021-12-05 08:32:53  2021-12-05 08:30:41   \n",
       "3           NaN  2021-12-05 08:32:59  2021-12-05 08:30:41   \n",
       "4           NaN  2021-12-05 08:33:18  2021-12-05 08:30:41   \n",
       "\n",
       "             InstEnded  Age_month Age_group  \n",
       "0  2021-12-05 08:33:49      18.00  (15, 18]  \n",
       "1  2021-12-05 08:33:49      18.00  (15, 18]  \n",
       "2  2021-12-05 08:33:49      18.00  (15, 18]  \n",
       "3  2021-12-05 08:33:49      18.00  (15, 18]  \n",
       "4  2021-12-05 08:33:49      18.00  (15, 18]  "
      ]
     },
     "execution_count": 5,
     "metadata": {},
     "output_type": "execute_result"
    }
   ],
   "source": [
    "data.head()"
   ]
  },
  {
   "cell_type": "markdown",
   "id": "0dad7f29",
   "metadata": {},
   "source": [
    "# 2. Filter the inst to be IBQ"
   ]
  },
  {
   "cell_type": "code",
   "execution_count": 6,
   "id": "135dafc1",
   "metadata": {},
   "outputs": [],
   "source": [
    "df= data[data.Inst=='Infant Behavior Questionnaire - Revised - Very Short Form']"
   ]
  },
  {
   "cell_type": "code",
   "execution_count": 7,
   "id": "c282c6d0",
   "metadata": {},
   "outputs": [],
   "source": [
    "df.PIN=df.PIN.str[:5]"
   ]
  },
  {
   "cell_type": "code",
   "execution_count": 8,
   "id": "e147c6fa",
   "metadata": {},
   "outputs": [],
   "source": [
    "df.Response =pd.to_numeric(df.Response)\n",
    "df.Score =pd.to_numeric(df.Score)"
   ]
  },
  {
   "cell_type": "code",
   "execution_count": 9,
   "id": "a33b00fb",
   "metadata": {},
   "outputs": [
    {
     "data": {
      "text/html": [
       "<div>\n",
       "<style scoped>\n",
       "    .dataframe tbody tr th:only-of-type {\n",
       "        vertical-align: middle;\n",
       "    }\n",
       "\n",
       "    .dataframe tbody tr th {\n",
       "        vertical-align: top;\n",
       "    }\n",
       "\n",
       "    .dataframe thead th {\n",
       "        text-align: right;\n",
       "    }\n",
       "</style>\n",
       "<table border=\"1\" class=\"dataframe\">\n",
       "  <thead>\n",
       "    <tr style=\"text-align: right;\">\n",
       "      <th></th>\n",
       "      <th>Response</th>\n",
       "      <th>Score</th>\n",
       "      <th>Position</th>\n",
       "      <th>ResponseTime</th>\n",
       "      <th>Age_month</th>\n",
       "    </tr>\n",
       "  </thead>\n",
       "  <tbody>\n",
       "    <tr>\n",
       "      <th>count</th>\n",
       "      <td>1482.00</td>\n",
       "      <td>1357.00</td>\n",
       "      <td>1482.00</td>\n",
       "      <td>1406.00</td>\n",
       "      <td>897.00</td>\n",
       "    </tr>\n",
       "    <tr>\n",
       "      <th>mean</th>\n",
       "      <td>4.64</td>\n",
       "      <td>4.76</td>\n",
       "      <td>20.00</td>\n",
       "      <td>13.97</td>\n",
       "      <td>373.48</td>\n",
       "    </tr>\n",
       "    <tr>\n",
       "      <th>std</th>\n",
       "      <td>2.10</td>\n",
       "      <td>1.89</td>\n",
       "      <td>11.26</td>\n",
       "      <td>51.86</td>\n",
       "      <td>67.90</td>\n",
       "    </tr>\n",
       "    <tr>\n",
       "      <th>min</th>\n",
       "      <td>1.00</td>\n",
       "      <td>1.00</td>\n",
       "      <td>1.00</td>\n",
       "      <td>0.51</td>\n",
       "      <td>257.00</td>\n",
       "    </tr>\n",
       "    <tr>\n",
       "      <th>25%</th>\n",
       "      <td>3.00</td>\n",
       "      <td>3.00</td>\n",
       "      <td>10.00</td>\n",
       "      <td>4.47</td>\n",
       "      <td>320.00</td>\n",
       "    </tr>\n",
       "    <tr>\n",
       "      <th>50%</th>\n",
       "      <td>5.00</td>\n",
       "      <td>5.00</td>\n",
       "      <td>20.00</td>\n",
       "      <td>6.43</td>\n",
       "      <td>371.00</td>\n",
       "    </tr>\n",
       "    <tr>\n",
       "      <th>75%</th>\n",
       "      <td>6.00</td>\n",
       "      <td>6.00</td>\n",
       "      <td>30.00</td>\n",
       "      <td>10.91</td>\n",
       "      <td>445.00</td>\n",
       "    </tr>\n",
       "    <tr>\n",
       "      <th>max</th>\n",
       "      <td>8.00</td>\n",
       "      <td>7.00</td>\n",
       "      <td>39.00</td>\n",
       "      <td>1071.29</td>\n",
       "      <td>493.00</td>\n",
       "    </tr>\n",
       "  </tbody>\n",
       "</table>\n",
       "</div>"
      ],
      "text/plain": [
       "       Response   Score  Position  ResponseTime  Age_month\n",
       "count   1482.00 1357.00   1482.00       1406.00     897.00\n",
       "mean       4.64    4.76     20.00         13.97     373.48\n",
       "std        2.10    1.89     11.26         51.86      67.90\n",
       "min        1.00    1.00      1.00          0.51     257.00\n",
       "25%        3.00    3.00     10.00          4.47     320.00\n",
       "50%        5.00    5.00     20.00          6.43     371.00\n",
       "75%        6.00    6.00     30.00         10.91     445.00\n",
       "max        8.00    7.00     39.00       1071.29     493.00"
      ]
     },
     "execution_count": 9,
     "metadata": {},
     "output_type": "execute_result"
    }
   ],
   "source": [
    "df.describe()"
   ]
  },
  {
   "cell_type": "markdown",
   "id": "e62a1652",
   "metadata": {},
   "source": [
    "# 3. Rescore all items to ensure appropriate response coding"
   ]
  },
  {
   "cell_type": "code",
   "execution_count": 10,
   "id": "d9082486",
   "metadata": {},
   "outputs": [],
   "source": [
    "import numpy as np\n",
    "#The score should equal the response for all items EXCEPT SelfReg_ibqrvsh11, for which the score should be 8-response \n",
    "df['Score'] = np.where(df.ItemID=='SelfReg_ibqrvsh11',8-df.Response, df.Response)"
   ]
  },
  {
   "cell_type": "markdown",
   "id": "a47a91fa",
   "metadata": {},
   "source": [
    "# 4. Calculate the three composite scores"
   ]
  },
  {
   "cell_type": "code",
   "execution_count": 11,
   "id": "1ce11b5c",
   "metadata": {},
   "outputs": [],
   "source": [
    "a= ['SelfReg_ibqrvsh1','SelfReg_ibqrvsh2',\n",
    "    'SelfReg_ibqrvsh7','SelfReg_ibqrvsh8', \n",
    "    'SelfReg_ibqrvsh13','SelfReg_ibqrvsh14', 'SelfReg_ibqrvsh15',\n",
    "    'SelfReg_ibqrvsh20', 'SelfReg_ibqrvsh21',\n",
    "    'SelfReg_ibqrvsh26', 'SelfReg_ibqrvsh27' ,\n",
    "    'SelfReg_ibqrvsh36', 'SelfReg_ibqrvsh37']\n",
    "\n",
    "b= ['SelfReg_ibqrvsh3', 'SelfReg_ibqrvsh4',\n",
    "    'SelfReg_ibqrvsh9', 'SelfReg_ibqrvsh10',\n",
    "    'SelfReg_ibqrvsh16', 'SelfReg_ibqrvsh17',  \n",
    "    'SelfReg_ibqrvsh22', 'SelfReg_ibqrvsh23',  \n",
    "    'SelfReg_ibqrvsh28', 'SelfReg_ibqrvsh29', \n",
    "    'SelfReg_ibqrvsh32', 'SelfReg_ibqrvsh33']\n",
    "\n",
    "\n",
    "c= [ 'SelfReg_ibqrvsh5', 'SelfReg_ibqrvsh6',\n",
    "    'SelfReg_ibqrvsh11', 'SelfReg_ibqrvsh12', \n",
    "    'SelfReg_ibqrvsh18', 'SelfReg_ibqrvsh19',\n",
    "    'SelfReg_ibqrvsh24', 'SelfReg_ibqrvsh25',\n",
    "    'SelfReg_ibqrvsh30', 'SelfReg_ibqrvsh31',\n",
    "      'SelfReg_ibqrvsh34', 'SelfReg_ibqrvsh35']"
   ]
  },
  {
   "cell_type": "code",
   "execution_count": 12,
   "id": "f689cee0",
   "metadata": {},
   "outputs": [],
   "source": [
    "SelfReg_SurgIBQR= df[df.ItemID.isin(a)].groupby('PIN')['Score'].mean()\n",
    "SelfReg_NegAffIBQR= df[df.ItemID.isin(b)].groupby('PIN')['Score'].mean()\n",
    "SelfReg_EffContIBQR= df[df.ItemID.isin(c)].groupby('PIN')['Score'].mean()\n"
   ]
  },
  {
   "cell_type": "code",
   "execution_count": 13,
   "id": "be99b5bb",
   "metadata": {},
   "outputs": [],
   "source": [
    "comp =[SelfReg_SurgIBQR,SelfReg_NegAffIBQR,SelfReg_EffContIBQR]"
   ]
  },
  {
   "cell_type": "code",
   "execution_count": 16,
   "id": "1050d1d3",
   "metadata": {},
   "outputs": [],
   "source": [
    "cdf = pd.concat(comp,axis=1)\n",
    "cdf.columns = ['SelfReg_SurgIBQR','SelfReg_NegAffIBQR','SelfReg_EffContIBQR']"
   ]
  },
  {
   "cell_type": "code",
   "execution_count": 17,
   "id": "8be50ea5",
   "metadata": {},
   "outputs": [
    {
     "data": {
      "text/html": [
       "<div>\n",
       "<style scoped>\n",
       "    .dataframe tbody tr th:only-of-type {\n",
       "        vertical-align: middle;\n",
       "    }\n",
       "\n",
       "    .dataframe tbody tr th {\n",
       "        vertical-align: top;\n",
       "    }\n",
       "\n",
       "    .dataframe thead th {\n",
       "        text-align: right;\n",
       "    }\n",
       "</style>\n",
       "<table border=\"1\" class=\"dataframe\">\n",
       "  <thead>\n",
       "    <tr style=\"text-align: right;\">\n",
       "      <th></th>\n",
       "      <th>SelfReg_SurgIBQR</th>\n",
       "      <th>SelfReg_NegAffIBQR</th>\n",
       "      <th>SelfReg_EffContIBQR</th>\n",
       "    </tr>\n",
       "  </thead>\n",
       "  <tbody>\n",
       "    <tr>\n",
       "      <th>SelfReg_SurgIBQR</th>\n",
       "      <td>1.00</td>\n",
       "      <td>0.40</td>\n",
       "      <td>0.41</td>\n",
       "    </tr>\n",
       "    <tr>\n",
       "      <th>SelfReg_NegAffIBQR</th>\n",
       "      <td>0.40</td>\n",
       "      <td>1.00</td>\n",
       "      <td>0.04</td>\n",
       "    </tr>\n",
       "    <tr>\n",
       "      <th>SelfReg_EffContIBQR</th>\n",
       "      <td>0.41</td>\n",
       "      <td>0.04</td>\n",
       "      <td>1.00</td>\n",
       "    </tr>\n",
       "  </tbody>\n",
       "</table>\n",
       "</div>"
      ],
      "text/plain": [
       "                     SelfReg_SurgIBQR  SelfReg_NegAffIBQR  SelfReg_EffContIBQR\n",
       "SelfReg_SurgIBQR                 1.00                0.40                 0.41\n",
       "SelfReg_NegAffIBQR               0.40                1.00                 0.04\n",
       "SelfReg_EffContIBQR              0.41                0.04                 1.00"
      ]
     },
     "execution_count": 17,
     "metadata": {},
     "output_type": "execute_result"
    }
   ],
   "source": [
    "cdf.corr()"
   ]
  },
  {
   "cell_type": "markdown",
   "id": "5bbf3886",
   "metadata": {},
   "source": [
    "# 5. Calculate item-rest correlations for every item – e.g., what is the Pearson correlation for SelfReg_ibqrvsh1 with the average score for the 12 other items on SelfReg_SurgIQBR. There should be 37 item-rest correlations. "
   ]
  },
  {
   "cell_type": "code",
   "execution_count": 18,
   "id": "64a89981",
   "metadata": {},
   "outputs": [],
   "source": [
    "items=['SelfReg_ibqrvsh1', 'SelfReg_ibqrvsh2', 'SelfReg_ibqrvsh3', 'SelfReg_ibqrvsh4',\n",
    "       'SelfReg_ibqrvsh5', 'SelfReg_ibqrvsh6', 'SelfReg_ibqrvsh7',\n",
    "       'SelfReg_ibqrvsh8', 'SelfReg_ibqrvsh9', 'SelfReg_ibqrvsh10',\n",
    "       'SelfReg_ibqrvsh11', 'SelfReg_ibqrvsh12', 'SelfReg_ibqrvsh13',\n",
    "       'SelfReg_ibqrvsh14', 'SelfReg_ibqrvsh15', 'SelfReg_ibqrvsh16',\n",
    "       'SelfReg_ibqrvsh17', 'SelfReg_ibqrvsh18', 'SelfReg_ibqrvsh19',\n",
    "       'SelfReg_ibqrvsh20', 'SelfReg_ibqrvsh21', 'SelfReg_ibqrvsh22',\n",
    "       'SelfReg_ibqrvsh23', 'SelfReg_ibqrvsh24', 'SelfReg_ibqrvsh25',\n",
    "       'SelfReg_ibqrvsh26', 'SelfReg_ibqrvsh27', 'SelfReg_ibqrvsh28',\n",
    "       'SelfReg_ibqrvsh29', 'SelfReg_ibqrvsh30', 'SelfReg_ibqrvsh31',\n",
    "       'SelfReg_ibqrvsh32', 'SelfReg_ibqrvsh33', 'SelfReg_ibqrvsh34',\n",
    "       'SelfReg_ibqrvsh35', 'SelfReg_ibqrvsh36', 'SelfReg_ibqrvsh37']"
   ]
  },
  {
   "cell_type": "code",
   "execution_count": 19,
   "id": "4b8d9095",
   "metadata": {},
   "outputs": [],
   "source": [
    "from scipy.stats import pearsonr\n",
    "\n",
    "def item_rest(itemlist, li=None):\n",
    "    if not li:\n",
    "        li ={}\n",
    "        \n",
    "    for i in range(len(itemlist)):\n",
    "        rest = itemlist.copy()\n",
    "        rest.pop(i)\n",
    "        list1 = df[df.ItemID==itemlist[i]].groupby('PIN')['Score'].mean()\n",
    "        list2  = df[df.ItemID.isin(rest)].groupby('PIN')['Score'].mean()\n",
    "    \n",
    "    # Apply the pearsonr()\n",
    "        corr, _ = pearsonr(list1, list2)\n",
    "        print(itemlist[i], ': Pearsons correlation is %.3f ' % corr)\n",
    "        li[itemlist[i]] = corr\n",
    "    return li"
   ]
  },
  {
   "cell_type": "code",
   "execution_count": 20,
   "id": "22af4137",
   "metadata": {},
   "outputs": [
    {
     "name": "stdout",
     "output_type": "stream",
     "text": [
      "SelfReg_ibqrvsh1 : Pearsons correlation is 0.237 \n",
      "SelfReg_ibqrvsh2 : Pearsons correlation is 0.180 \n",
      "SelfReg_ibqrvsh7 : Pearsons correlation is 0.446 \n",
      "SelfReg_ibqrvsh8 : Pearsons correlation is 0.495 \n",
      "SelfReg_ibqrvsh13 : Pearsons correlation is 0.196 \n",
      "SelfReg_ibqrvsh14 : Pearsons correlation is 0.285 \n",
      "SelfReg_ibqrvsh15 : Pearsons correlation is 0.155 \n",
      "SelfReg_ibqrvsh20 : Pearsons correlation is 0.227 \n",
      "SelfReg_ibqrvsh21 : Pearsons correlation is 0.242 \n",
      "SelfReg_ibqrvsh26 : Pearsons correlation is 0.376 \n",
      "SelfReg_ibqrvsh27 : Pearsons correlation is 0.360 \n",
      "SelfReg_ibqrvsh36 : Pearsons correlation is 0.348 \n",
      "SelfReg_ibqrvsh37 : Pearsons correlation is 0.197 \n"
     ]
    }
   ],
   "source": [
    "itemrest = item_rest(a)"
   ]
  },
  {
   "cell_type": "code",
   "execution_count": 21,
   "id": "8bf843db",
   "metadata": {},
   "outputs": [
    {
     "name": "stdout",
     "output_type": "stream",
     "text": [
      "SelfReg_ibqrvsh3 : Pearsons correlation is 0.474 \n",
      "SelfReg_ibqrvsh4 : Pearsons correlation is 0.603 \n",
      "SelfReg_ibqrvsh9 : Pearsons correlation is 0.343 \n",
      "SelfReg_ibqrvsh10 : Pearsons correlation is 0.265 \n",
      "SelfReg_ibqrvsh16 : Pearsons correlation is 0.467 \n",
      "SelfReg_ibqrvsh17 : Pearsons correlation is 0.326 \n",
      "SelfReg_ibqrvsh22 : Pearsons correlation is -0.052 \n",
      "SelfReg_ibqrvsh23 : Pearsons correlation is 0.548 \n",
      "SelfReg_ibqrvsh28 : Pearsons correlation is 0.373 \n",
      "SelfReg_ibqrvsh29 : Pearsons correlation is 0.409 \n",
      "SelfReg_ibqrvsh32 : Pearsons correlation is 0.406 \n",
      "SelfReg_ibqrvsh33 : Pearsons correlation is 0.448 \n"
     ]
    }
   ],
   "source": [
    "itemrest =item_rest(b, itemrest)"
   ]
  },
  {
   "cell_type": "code",
   "execution_count": 22,
   "id": "9af268cd",
   "metadata": {},
   "outputs": [
    {
     "name": "stdout",
     "output_type": "stream",
     "text": [
      "SelfReg_ibqrvsh5 : Pearsons correlation is 0.262 \n",
      "SelfReg_ibqrvsh6 : Pearsons correlation is 0.312 \n",
      "SelfReg_ibqrvsh11 : Pearsons correlation is 0.179 \n",
      "SelfReg_ibqrvsh12 : Pearsons correlation is 0.495 \n",
      "SelfReg_ibqrvsh18 : Pearsons correlation is 0.530 \n",
      "SelfReg_ibqrvsh19 : Pearsons correlation is 0.445 \n",
      "SelfReg_ibqrvsh24 : Pearsons correlation is 0.411 \n",
      "SelfReg_ibqrvsh25 : Pearsons correlation is 0.532 \n",
      "SelfReg_ibqrvsh30 : Pearsons correlation is 0.437 \n",
      "SelfReg_ibqrvsh31 : Pearsons correlation is 0.466 \n",
      "SelfReg_ibqrvsh34 : Pearsons correlation is 0.510 \n",
      "SelfReg_ibqrvsh35 : Pearsons correlation is 0.456 \n"
     ]
    }
   ],
   "source": [
    "itemrest = item_rest(c,itemrest)"
   ]
  },
  {
   "cell_type": "code",
   "execution_count": 23,
   "id": "4ea5098b",
   "metadata": {},
   "outputs": [],
   "source": [
    "irc = pd.DataFrame.from_dict(itemrest, orient='index', columns=['item-rest-correlation'])\n",
    "irc.round(3).to_csv('C:/Users/tsb7592/Downloads/IBQ_item_rest_correlation.csv')"
   ]
  },
  {
   "cell_type": "markdown",
   "id": "48e555af",
   "metadata": {},
   "source": [
    "# 6. Describe each of the 3 composite scores overall and by age group. NOTE: the Infant Behavior Questionnaire is not applicable to all age groups. "
   ]
  },
  {
   "cell_type": "code",
   "execution_count": 24,
   "id": "081bad5d",
   "metadata": {},
   "outputs": [],
   "source": [
    "cdf=cdf.reset_index()"
   ]
  },
  {
   "cell_type": "code",
   "execution_count": 25,
   "id": "b221ae65",
   "metadata": {},
   "outputs": [],
   "source": [
    "spin = cdf.PIN.to_list()\n",
    "cpin = []\n",
    "for pin in spin:\n",
    "    pin+='C'\n",
    "    cpin.append(pin)"
   ]
  },
  {
   "cell_type": "code",
   "execution_count": 26,
   "id": "bb14eb7f",
   "metadata": {},
   "outputs": [
    {
     "data": {
      "text/plain": [
       "37"
      ]
     },
     "execution_count": 26,
     "metadata": {},
     "output_type": "execute_result"
    }
   ],
   "source": [
    "len(spin)"
   ]
  },
  {
   "cell_type": "code",
   "execution_count": 27,
   "id": "b44183b9",
   "metadata": {},
   "outputs": [],
   "source": [
    "child =data[data.PIN.isin(cpin)]"
   ]
  },
  {
   "cell_type": "code",
   "execution_count": 28,
   "id": "5ad20221",
   "metadata": {},
   "outputs": [],
   "source": [
    "child.PIN=child.PIN.str[:5]"
   ]
  },
  {
   "cell_type": "code",
   "execution_count": 29,
   "id": "66756565",
   "metadata": {},
   "outputs": [
    {
     "data": {
      "text/plain": [
       "33"
      ]
     },
     "execution_count": 29,
     "metadata": {},
     "output_type": "execute_result"
    }
   ],
   "source": [
    "child[child.Age_group.notnull()]['PIN'].nunique()"
   ]
  },
  {
   "cell_type": "code",
   "execution_count": 30,
   "id": "cd560969",
   "metadata": {},
   "outputs": [],
   "source": [
    "de = pd.merge(cdf, child[['PIN','Age_month','Age_group']], on=['PIN'], how ='left')"
   ]
  },
  {
   "cell_type": "code",
   "execution_count": 31,
   "id": "daca5b92",
   "metadata": {},
   "outputs": [],
   "source": [
    "de =de.drop_duplicates()"
   ]
  },
  {
   "cell_type": "code",
   "execution_count": 32,
   "id": "10e869c5",
   "metadata": {},
   "outputs": [
    {
     "data": {
      "text/plain": [
       "(37, 6)"
      ]
     },
     "execution_count": 32,
     "metadata": {},
     "output_type": "execute_result"
    }
   ],
   "source": [
    "de.shape"
   ]
  },
  {
   "cell_type": "code",
   "execution_count": 33,
   "id": "38325d39",
   "metadata": {},
   "outputs": [
    {
     "data": {
      "text/html": [
       "<div>\n",
       "<style scoped>\n",
       "    .dataframe tbody tr th:only-of-type {\n",
       "        vertical-align: middle;\n",
       "    }\n",
       "\n",
       "    .dataframe tbody tr th {\n",
       "        vertical-align: top;\n",
       "    }\n",
       "\n",
       "    .dataframe thead th {\n",
       "        text-align: right;\n",
       "    }\n",
       "</style>\n",
       "<table border=\"1\" class=\"dataframe\">\n",
       "  <thead>\n",
       "    <tr style=\"text-align: right;\">\n",
       "      <th></th>\n",
       "      <th>count</th>\n",
       "      <th>mean</th>\n",
       "      <th>std</th>\n",
       "      <th>min</th>\n",
       "      <th>25%</th>\n",
       "      <th>50%</th>\n",
       "      <th>75%</th>\n",
       "      <th>max</th>\n",
       "    </tr>\n",
       "    <tr>\n",
       "      <th>Age_group</th>\n",
       "      <th></th>\n",
       "      <th></th>\n",
       "      <th></th>\n",
       "      <th></th>\n",
       "      <th></th>\n",
       "      <th></th>\n",
       "      <th></th>\n",
       "      <th></th>\n",
       "    </tr>\n",
       "  </thead>\n",
       "  <tbody>\n",
       "    <tr>\n",
       "      <th>(10, 12]</th>\n",
       "      <td>6.00</td>\n",
       "      <td>5.87</td>\n",
       "      <td>1.02</td>\n",
       "      <td>4.15</td>\n",
       "      <td>5.46</td>\n",
       "      <td>6.08</td>\n",
       "      <td>6.58</td>\n",
       "      <td>6.92</td>\n",
       "    </tr>\n",
       "    <tr>\n",
       "      <th>(12, 15]</th>\n",
       "      <td>1.00</td>\n",
       "      <td>5.54</td>\n",
       "      <td>NaN</td>\n",
       "      <td>5.54</td>\n",
       "      <td>5.54</td>\n",
       "      <td>5.54</td>\n",
       "      <td>5.54</td>\n",
       "      <td>5.54</td>\n",
       "    </tr>\n",
       "    <tr>\n",
       "      <th>(24, 27]</th>\n",
       "      <td>1.00</td>\n",
       "      <td>5.46</td>\n",
       "      <td>NaN</td>\n",
       "      <td>5.46</td>\n",
       "      <td>5.46</td>\n",
       "      <td>5.46</td>\n",
       "      <td>5.46</td>\n",
       "      <td>5.46</td>\n",
       "    </tr>\n",
       "    <tr>\n",
       "      <th>(3, 4]</th>\n",
       "      <td>4.00</td>\n",
       "      <td>4.48</td>\n",
       "      <td>0.53</td>\n",
       "      <td>3.92</td>\n",
       "      <td>4.15</td>\n",
       "      <td>4.42</td>\n",
       "      <td>4.75</td>\n",
       "      <td>5.15</td>\n",
       "    </tr>\n",
       "    <tr>\n",
       "      <th>(4, 5]</th>\n",
       "      <td>7.00</td>\n",
       "      <td>4.70</td>\n",
       "      <td>0.67</td>\n",
       "      <td>3.69</td>\n",
       "      <td>4.31</td>\n",
       "      <td>4.77</td>\n",
       "      <td>5.08</td>\n",
       "      <td>5.69</td>\n",
       "    </tr>\n",
       "    <tr>\n",
       "      <th>(5, 6]</th>\n",
       "      <td>3.00</td>\n",
       "      <td>5.03</td>\n",
       "      <td>1.39</td>\n",
       "      <td>3.62</td>\n",
       "      <td>4.35</td>\n",
       "      <td>5.08</td>\n",
       "      <td>5.73</td>\n",
       "      <td>6.38</td>\n",
       "    </tr>\n",
       "    <tr>\n",
       "      <th>(6, 8]</th>\n",
       "      <td>7.00</td>\n",
       "      <td>4.45</td>\n",
       "      <td>0.54</td>\n",
       "      <td>3.92</td>\n",
       "      <td>4.08</td>\n",
       "      <td>4.46</td>\n",
       "      <td>4.54</td>\n",
       "      <td>5.54</td>\n",
       "    </tr>\n",
       "    <tr>\n",
       "      <th>(8, 10]</th>\n",
       "      <td>4.00</td>\n",
       "      <td>5.23</td>\n",
       "      <td>0.74</td>\n",
       "      <td>4.23</td>\n",
       "      <td>4.98</td>\n",
       "      <td>5.35</td>\n",
       "      <td>5.60</td>\n",
       "      <td>6.00</td>\n",
       "    </tr>\n",
       "  </tbody>\n",
       "</table>\n",
       "</div>"
      ],
      "text/plain": [
       "           count  mean  std  min  25%  50%  75%  max\n",
       "Age_group                                           \n",
       "(10, 12]    6.00  5.87 1.02 4.15 5.46 6.08 6.58 6.92\n",
       "(12, 15]    1.00  5.54  NaN 5.54 5.54 5.54 5.54 5.54\n",
       "(24, 27]    1.00  5.46  NaN 5.46 5.46 5.46 5.46 5.46\n",
       "(3, 4]      4.00  4.48 0.53 3.92 4.15 4.42 4.75 5.15\n",
       "(4, 5]      7.00  4.70 0.67 3.69 4.31 4.77 5.08 5.69\n",
       "(5, 6]      3.00  5.03 1.39 3.62 4.35 5.08 5.73 6.38\n",
       "(6, 8]      7.00  4.45 0.54 3.92 4.08 4.46 4.54 5.54\n",
       "(8, 10]     4.00  5.23 0.74 4.23 4.98 5.35 5.60 6.00"
      ]
     },
     "execution_count": 33,
     "metadata": {},
     "output_type": "execute_result"
    }
   ],
   "source": [
    "de.groupby(['Age_group'])['SelfReg_SurgIBQR'].describe()"
   ]
  },
  {
   "cell_type": "code",
   "execution_count": 34,
   "id": "0de82c0f",
   "metadata": {},
   "outputs": [
    {
     "data": {
      "text/html": [
       "<div>\n",
       "<style scoped>\n",
       "    .dataframe tbody tr th:only-of-type {\n",
       "        vertical-align: middle;\n",
       "    }\n",
       "\n",
       "    .dataframe tbody tr th {\n",
       "        vertical-align: top;\n",
       "    }\n",
       "\n",
       "    .dataframe thead th {\n",
       "        text-align: right;\n",
       "    }\n",
       "</style>\n",
       "<table border=\"1\" class=\"dataframe\">\n",
       "  <thead>\n",
       "    <tr style=\"text-align: right;\">\n",
       "      <th></th>\n",
       "      <th>count</th>\n",
       "      <th>mean</th>\n",
       "      <th>std</th>\n",
       "      <th>min</th>\n",
       "      <th>25%</th>\n",
       "      <th>50%</th>\n",
       "      <th>75%</th>\n",
       "      <th>max</th>\n",
       "    </tr>\n",
       "    <tr>\n",
       "      <th>Age_group</th>\n",
       "      <th></th>\n",
       "      <th></th>\n",
       "      <th></th>\n",
       "      <th></th>\n",
       "      <th></th>\n",
       "      <th></th>\n",
       "      <th></th>\n",
       "      <th></th>\n",
       "    </tr>\n",
       "  </thead>\n",
       "  <tbody>\n",
       "    <tr>\n",
       "      <th>(10, 12]</th>\n",
       "      <td>6.00</td>\n",
       "      <td>4.36</td>\n",
       "      <td>0.96</td>\n",
       "      <td>3.00</td>\n",
       "      <td>3.75</td>\n",
       "      <td>4.62</td>\n",
       "      <td>4.75</td>\n",
       "      <td>5.67</td>\n",
       "    </tr>\n",
       "    <tr>\n",
       "      <th>(12, 15]</th>\n",
       "      <td>1.00</td>\n",
       "      <td>5.50</td>\n",
       "      <td>NaN</td>\n",
       "      <td>5.50</td>\n",
       "      <td>5.50</td>\n",
       "      <td>5.50</td>\n",
       "      <td>5.50</td>\n",
       "      <td>5.50</td>\n",
       "    </tr>\n",
       "    <tr>\n",
       "      <th>(24, 27]</th>\n",
       "      <td>1.00</td>\n",
       "      <td>4.42</td>\n",
       "      <td>NaN</td>\n",
       "      <td>4.42</td>\n",
       "      <td>4.42</td>\n",
       "      <td>4.42</td>\n",
       "      <td>4.42</td>\n",
       "      <td>4.42</td>\n",
       "    </tr>\n",
       "    <tr>\n",
       "      <th>(3, 4]</th>\n",
       "      <td>4.00</td>\n",
       "      <td>4.40</td>\n",
       "      <td>0.85</td>\n",
       "      <td>3.17</td>\n",
       "      <td>4.17</td>\n",
       "      <td>4.67</td>\n",
       "      <td>4.90</td>\n",
       "      <td>5.08</td>\n",
       "    </tr>\n",
       "    <tr>\n",
       "      <th>(4, 5]</th>\n",
       "      <td>7.00</td>\n",
       "      <td>4.32</td>\n",
       "      <td>0.73</td>\n",
       "      <td>3.17</td>\n",
       "      <td>3.96</td>\n",
       "      <td>4.33</td>\n",
       "      <td>4.79</td>\n",
       "      <td>5.25</td>\n",
       "    </tr>\n",
       "    <tr>\n",
       "      <th>(5, 6]</th>\n",
       "      <td>3.00</td>\n",
       "      <td>4.17</td>\n",
       "      <td>1.89</td>\n",
       "      <td>2.83</td>\n",
       "      <td>3.08</td>\n",
       "      <td>3.33</td>\n",
       "      <td>4.83</td>\n",
       "      <td>6.33</td>\n",
       "    </tr>\n",
       "    <tr>\n",
       "      <th>(6, 8]</th>\n",
       "      <td>7.00</td>\n",
       "      <td>4.58</td>\n",
       "      <td>0.63</td>\n",
       "      <td>3.33</td>\n",
       "      <td>4.50</td>\n",
       "      <td>4.75</td>\n",
       "      <td>4.79</td>\n",
       "      <td>5.42</td>\n",
       "    </tr>\n",
       "    <tr>\n",
       "      <th>(8, 10]</th>\n",
       "      <td>4.00</td>\n",
       "      <td>4.08</td>\n",
       "      <td>1.75</td>\n",
       "      <td>2.42</td>\n",
       "      <td>2.67</td>\n",
       "      <td>4.04</td>\n",
       "      <td>5.46</td>\n",
       "      <td>5.83</td>\n",
       "    </tr>\n",
       "  </tbody>\n",
       "</table>\n",
       "</div>"
      ],
      "text/plain": [
       "           count  mean  std  min  25%  50%  75%  max\n",
       "Age_group                                           \n",
       "(10, 12]    6.00  4.36 0.96 3.00 3.75 4.62 4.75 5.67\n",
       "(12, 15]    1.00  5.50  NaN 5.50 5.50 5.50 5.50 5.50\n",
       "(24, 27]    1.00  4.42  NaN 4.42 4.42 4.42 4.42 4.42\n",
       "(3, 4]      4.00  4.40 0.85 3.17 4.17 4.67 4.90 5.08\n",
       "(4, 5]      7.00  4.32 0.73 3.17 3.96 4.33 4.79 5.25\n",
       "(5, 6]      3.00  4.17 1.89 2.83 3.08 3.33 4.83 6.33\n",
       "(6, 8]      7.00  4.58 0.63 3.33 4.50 4.75 4.79 5.42\n",
       "(8, 10]     4.00  4.08 1.75 2.42 2.67 4.04 5.46 5.83"
      ]
     },
     "execution_count": 34,
     "metadata": {},
     "output_type": "execute_result"
    }
   ],
   "source": [
    "de.groupby(['Age_group'])['SelfReg_NegAffIBQR'].describe()"
   ]
  },
  {
   "cell_type": "code",
   "execution_count": 35,
   "id": "ca1030ea",
   "metadata": {},
   "outputs": [
    {
     "data": {
      "text/html": [
       "<div>\n",
       "<style scoped>\n",
       "    .dataframe tbody tr th:only-of-type {\n",
       "        vertical-align: middle;\n",
       "    }\n",
       "\n",
       "    .dataframe tbody tr th {\n",
       "        vertical-align: top;\n",
       "    }\n",
       "\n",
       "    .dataframe thead th {\n",
       "        text-align: right;\n",
       "    }\n",
       "</style>\n",
       "<table border=\"1\" class=\"dataframe\">\n",
       "  <thead>\n",
       "    <tr style=\"text-align: right;\">\n",
       "      <th></th>\n",
       "      <th>count</th>\n",
       "      <th>mean</th>\n",
       "      <th>std</th>\n",
       "      <th>min</th>\n",
       "      <th>25%</th>\n",
       "      <th>50%</th>\n",
       "      <th>75%</th>\n",
       "      <th>max</th>\n",
       "    </tr>\n",
       "    <tr>\n",
       "      <th>Age_group</th>\n",
       "      <th></th>\n",
       "      <th></th>\n",
       "      <th></th>\n",
       "      <th></th>\n",
       "      <th></th>\n",
       "      <th></th>\n",
       "      <th></th>\n",
       "      <th></th>\n",
       "    </tr>\n",
       "  </thead>\n",
       "  <tbody>\n",
       "    <tr>\n",
       "      <th>(10, 12]</th>\n",
       "      <td>6.00</td>\n",
       "      <td>5.50</td>\n",
       "      <td>1.27</td>\n",
       "      <td>3.83</td>\n",
       "      <td>4.75</td>\n",
       "      <td>5.29</td>\n",
       "      <td>6.52</td>\n",
       "      <td>7.08</td>\n",
       "    </tr>\n",
       "    <tr>\n",
       "      <th>(12, 15]</th>\n",
       "      <td>1.00</td>\n",
       "      <td>5.67</td>\n",
       "      <td>NaN</td>\n",
       "      <td>5.67</td>\n",
       "      <td>5.67</td>\n",
       "      <td>5.67</td>\n",
       "      <td>5.67</td>\n",
       "      <td>5.67</td>\n",
       "    </tr>\n",
       "    <tr>\n",
       "      <th>(24, 27]</th>\n",
       "      <td>1.00</td>\n",
       "      <td>5.83</td>\n",
       "      <td>NaN</td>\n",
       "      <td>5.83</td>\n",
       "      <td>5.83</td>\n",
       "      <td>5.83</td>\n",
       "      <td>5.83</td>\n",
       "      <td>5.83</td>\n",
       "    </tr>\n",
       "    <tr>\n",
       "      <th>(3, 4]</th>\n",
       "      <td>4.00</td>\n",
       "      <td>6.12</td>\n",
       "      <td>0.34</td>\n",
       "      <td>5.83</td>\n",
       "      <td>5.83</td>\n",
       "      <td>6.12</td>\n",
       "      <td>6.42</td>\n",
       "      <td>6.42</td>\n",
       "    </tr>\n",
       "    <tr>\n",
       "      <th>(4, 5]</th>\n",
       "      <td>7.00</td>\n",
       "      <td>5.18</td>\n",
       "      <td>0.72</td>\n",
       "      <td>4.25</td>\n",
       "      <td>4.83</td>\n",
       "      <td>5.08</td>\n",
       "      <td>5.38</td>\n",
       "      <td>6.50</td>\n",
       "    </tr>\n",
       "    <tr>\n",
       "      <th>(5, 6]</th>\n",
       "      <td>3.00</td>\n",
       "      <td>5.31</td>\n",
       "      <td>0.38</td>\n",
       "      <td>4.92</td>\n",
       "      <td>5.12</td>\n",
       "      <td>5.33</td>\n",
       "      <td>5.50</td>\n",
       "      <td>5.67</td>\n",
       "    </tr>\n",
       "    <tr>\n",
       "      <th>(6, 8]</th>\n",
       "      <td>7.00</td>\n",
       "      <td>5.06</td>\n",
       "      <td>0.61</td>\n",
       "      <td>4.25</td>\n",
       "      <td>4.62</td>\n",
       "      <td>5.25</td>\n",
       "      <td>5.29</td>\n",
       "      <td>6.08</td>\n",
       "    </tr>\n",
       "    <tr>\n",
       "      <th>(8, 10]</th>\n",
       "      <td>4.00</td>\n",
       "      <td>5.35</td>\n",
       "      <td>1.03</td>\n",
       "      <td>4.08</td>\n",
       "      <td>4.90</td>\n",
       "      <td>5.38</td>\n",
       "      <td>5.83</td>\n",
       "      <td>6.58</td>\n",
       "    </tr>\n",
       "  </tbody>\n",
       "</table>\n",
       "</div>"
      ],
      "text/plain": [
       "           count  mean  std  min  25%  50%  75%  max\n",
       "Age_group                                           \n",
       "(10, 12]    6.00  5.50 1.27 3.83 4.75 5.29 6.52 7.08\n",
       "(12, 15]    1.00  5.67  NaN 5.67 5.67 5.67 5.67 5.67\n",
       "(24, 27]    1.00  5.83  NaN 5.83 5.83 5.83 5.83 5.83\n",
       "(3, 4]      4.00  6.12 0.34 5.83 5.83 6.12 6.42 6.42\n",
       "(4, 5]      7.00  5.18 0.72 4.25 4.83 5.08 5.38 6.50\n",
       "(5, 6]      3.00  5.31 0.38 4.92 5.12 5.33 5.50 5.67\n",
       "(6, 8]      7.00  5.06 0.61 4.25 4.62 5.25 5.29 6.08\n",
       "(8, 10]     4.00  5.35 1.03 4.08 4.90 5.38 5.83 6.58"
      ]
     },
     "execution_count": 35,
     "metadata": {},
     "output_type": "execute_result"
    }
   ],
   "source": [
    "de.groupby(['Age_group'])['SelfReg_EffContIBQR'].describe()"
   ]
  },
  {
   "cell_type": "markdown",
   "id": "c31f78a7",
   "metadata": {},
   "source": [
    "# 7. Add the other Self-Regulation instruments to the data file – that is, go back to the item-level data and select the Inst = “Playing with Bubbles” and “Toy Out of Reach”  "
   ]
  },
  {
   "cell_type": "code",
   "execution_count": 36,
   "id": "0faf694d",
   "metadata": {},
   "outputs": [
    {
     "data": {
      "text/plain": [
       "(1804, 14)"
      ]
     },
     "execution_count": 36,
     "metadata": {},
     "output_type": "execute_result"
    }
   ],
   "source": [
    "df2= data[(data.Inst=='Playing with Bubbles')]\n",
    "df3 = data[(data.Inst=='Toy Out of Reach')]\n",
    "df3.shape"
   ]
  },
  {
   "cell_type": "markdown",
   "id": "2df6bacf",
   "metadata": {},
   "source": [
    "# 8. Correlate the 3 composites with PA_2 and PA_3 from “Playing with Bubbles”  "
   ]
  },
  {
   "cell_type": "code",
   "execution_count": 37,
   "id": "07be279a",
   "metadata": {},
   "outputs": [],
   "source": [
    "pa2 =df2[df2.ItemID=='PA_2'][['PIN','Score']]\n",
    "pa3 =df2[df2.ItemID=='PA_3'][['PIN','Score']]"
   ]
  },
  {
   "cell_type": "code",
   "execution_count": 38,
   "id": "eddf25fb",
   "metadata": {},
   "outputs": [
    {
     "data": {
      "text/html": [
       "<div>\n",
       "<style scoped>\n",
       "    .dataframe tbody tr th:only-of-type {\n",
       "        vertical-align: middle;\n",
       "    }\n",
       "\n",
       "    .dataframe tbody tr th {\n",
       "        vertical-align: top;\n",
       "    }\n",
       "\n",
       "    .dataframe thead th {\n",
       "        text-align: right;\n",
       "    }\n",
       "</style>\n",
       "<table border=\"1\" class=\"dataframe\">\n",
       "  <thead>\n",
       "    <tr style=\"text-align: right;\">\n",
       "      <th></th>\n",
       "      <th>PIN</th>\n",
       "      <th>Score</th>\n",
       "    </tr>\n",
       "  </thead>\n",
       "  <tbody>\n",
       "    <tr>\n",
       "      <th>105</th>\n",
       "      <td>TX009C</td>\n",
       "      <td>0.00</td>\n",
       "    </tr>\n",
       "    <tr>\n",
       "      <th>406</th>\n",
       "      <td>TX005C</td>\n",
       "      <td>2.00</td>\n",
       "    </tr>\n",
       "    <tr>\n",
       "      <th>951</th>\n",
       "      <td>APPLETONC1</td>\n",
       "      <td>3.00</td>\n",
       "    </tr>\n",
       "    <tr>\n",
       "      <th>1321</th>\n",
       "      <td>MO008C</td>\n",
       "      <td>1.00</td>\n",
       "    </tr>\n",
       "    <tr>\n",
       "      <th>1596</th>\n",
       "      <td>MN011C</td>\n",
       "      <td>3.00</td>\n",
       "    </tr>\n",
       "    <tr>\n",
       "      <th>...</th>\n",
       "      <td>...</td>\n",
       "      <td>...</td>\n",
       "    </tr>\n",
       "    <tr>\n",
       "      <th>49007</th>\n",
       "      <td>WI017C</td>\n",
       "      <td>2.00</td>\n",
       "    </tr>\n",
       "    <tr>\n",
       "      <th>49795</th>\n",
       "      <td>MO022C</td>\n",
       "      <td>1.00</td>\n",
       "    </tr>\n",
       "    <tr>\n",
       "      <th>50726</th>\n",
       "      <td>TX027C</td>\n",
       "      <td>3.00</td>\n",
       "    </tr>\n",
       "    <tr>\n",
       "      <th>50727</th>\n",
       "      <td>TX027C</td>\n",
       "      <td>3.00</td>\n",
       "    </tr>\n",
       "    <tr>\n",
       "      <th>51220</th>\n",
       "      <td>MO012C</td>\n",
       "      <td>2.00</td>\n",
       "    </tr>\n",
       "  </tbody>\n",
       "</table>\n",
       "<p>121 rows × 2 columns</p>\n",
       "</div>"
      ],
      "text/plain": [
       "              PIN  Score\n",
       "105        TX009C   0.00\n",
       "406        TX005C   2.00\n",
       "951    APPLETONC1   3.00\n",
       "1321       MO008C   1.00\n",
       "1596       MN011C   3.00\n",
       "...           ...    ...\n",
       "49007      WI017C   2.00\n",
       "49795      MO022C   1.00\n",
       "50726      TX027C   3.00\n",
       "50727      TX027C   3.00\n",
       "51220      MO012C   2.00\n",
       "\n",
       "[121 rows x 2 columns]"
      ]
     },
     "execution_count": 38,
     "metadata": {},
     "output_type": "execute_result"
    }
   ],
   "source": [
    "pa2"
   ]
  },
  {
   "cell_type": "code",
   "execution_count": 39,
   "id": "65b6a425",
   "metadata": {},
   "outputs": [],
   "source": [
    "PA = pd.merge(pa2,pa3, on='PIN')\n",
    "PA.columns =['PIN','PA_2','PA_3']"
   ]
  },
  {
   "cell_type": "code",
   "execution_count": 40,
   "id": "3753099f",
   "metadata": {},
   "outputs": [
    {
     "data": {
      "text/plain": [
       "SelfReg_SurgIBQR      -0.12\n",
       "SelfReg_NegAffIBQR    -0.01\n",
       "SelfReg_EffContIBQR   -0.25\n",
       "dtype: float64"
      ]
     },
     "execution_count": 40,
     "metadata": {},
     "output_type": "execute_result"
    }
   ],
   "source": [
    "cdf.corrwith(PA['PA_2'])"
   ]
  },
  {
   "cell_type": "code",
   "execution_count": 41,
   "id": "0981b1dc",
   "metadata": {},
   "outputs": [],
   "source": [
    "c2 =cdf.corr().append(cdf.corrwith(PA['PA_2']), ignore_index=True)"
   ]
  },
  {
   "cell_type": "code",
   "execution_count": 42,
   "id": "fbea18ac",
   "metadata": {},
   "outputs": [],
   "source": [
    "c23 =c2.append(cdf.corrwith(PA['PA_3']), ignore_index=True)"
   ]
  },
  {
   "cell_type": "code",
   "execution_count": 44,
   "id": "1443f6fa",
   "metadata": {},
   "outputs": [
    {
     "data": {
      "text/html": [
       "<div>\n",
       "<style scoped>\n",
       "    .dataframe tbody tr th:only-of-type {\n",
       "        vertical-align: middle;\n",
       "    }\n",
       "\n",
       "    .dataframe tbody tr th {\n",
       "        vertical-align: top;\n",
       "    }\n",
       "\n",
       "    .dataframe thead th {\n",
       "        text-align: right;\n",
       "    }\n",
       "</style>\n",
       "<table border=\"1\" class=\"dataframe\">\n",
       "  <thead>\n",
       "    <tr style=\"text-align: right;\">\n",
       "      <th></th>\n",
       "      <th>SelfReg_SurgIBQR</th>\n",
       "      <th>SelfReg_NegAffIBQR</th>\n",
       "      <th>SelfReg_EffContIBQR</th>\n",
       "    </tr>\n",
       "  </thead>\n",
       "  <tbody>\n",
       "    <tr>\n",
       "      <th>SelfReg_SurgIBQR</th>\n",
       "      <td>1.00</td>\n",
       "      <td>0.40</td>\n",
       "      <td>0.41</td>\n",
       "    </tr>\n",
       "    <tr>\n",
       "      <th>SelfReg_NegAffIBQR</th>\n",
       "      <td>0.40</td>\n",
       "      <td>1.00</td>\n",
       "      <td>0.04</td>\n",
       "    </tr>\n",
       "    <tr>\n",
       "      <th>SelfReg_EffContIBQR</th>\n",
       "      <td>0.41</td>\n",
       "      <td>0.04</td>\n",
       "      <td>1.00</td>\n",
       "    </tr>\n",
       "    <tr>\n",
       "      <th>PA_2</th>\n",
       "      <td>-0.12</td>\n",
       "      <td>-0.01</td>\n",
       "      <td>-0.25</td>\n",
       "    </tr>\n",
       "    <tr>\n",
       "      <th>PA_3</th>\n",
       "      <td>-0.17</td>\n",
       "      <td>-0.02</td>\n",
       "      <td>-0.29</td>\n",
       "    </tr>\n",
       "  </tbody>\n",
       "</table>\n",
       "</div>"
      ],
      "text/plain": [
       "                     SelfReg_SurgIBQR  SelfReg_NegAffIBQR  SelfReg_EffContIBQR\n",
       "SelfReg_SurgIBQR                 1.00                0.40                 0.41\n",
       "SelfReg_NegAffIBQR               0.40                1.00                 0.04\n",
       "SelfReg_EffContIBQR              0.41                0.04                 1.00\n",
       "PA_2                            -0.12               -0.01                -0.25\n",
       "PA_3                            -0.17               -0.02                -0.29"
      ]
     },
     "execution_count": 44,
     "metadata": {},
     "output_type": "execute_result"
    }
   ],
   "source": [
    "c23"
   ]
  },
  {
   "cell_type": "markdown",
   "id": "17ec9df4",
   "metadata": {},
   "source": [
    "# 9. Mean-level scores for 'toy out of reach'"
   ]
  },
  {
   "cell_type": "code",
   "execution_count": 45,
   "id": "4328607f",
   "metadata": {},
   "outputs": [
    {
     "data": {
      "text/plain": [
       "array(['LabT_Title', 'SelfReg_LabTAB_Toy_Intro',\n",
       "       'SelfReg_LabTAB_Toy_Baseline', 'SelfReg_Toy_Trial1Intro',\n",
       "       'SelfReg_Toy_frus_reg1', 'SelfReg_Toy_frus_escalation1',\n",
       "       'SelfReg_Toy_frus_cope1', 'SelfReg_Toy_Trial2Intro',\n",
       "       'SelfReg_Toy_frus_reg2', 'SelfReg_Toy_frus_escalation2',\n",
       "       'SelfReg _Toy_frus_cope2', 'SelfReg_Toy_Trial3Intro',\n",
       "       'SelfReg_Toy_frus_reg3', 'SelfReg _Toy_frus_escalation3',\n",
       "       'SelfReg_Toy _frus_cope3'], dtype=object)"
      ]
     },
     "execution_count": 45,
     "metadata": {},
     "output_type": "execute_result"
    }
   ],
   "source": [
    "df3.ItemID.unique()"
   ]
  },
  {
   "cell_type": "code",
   "execution_count": 46,
   "id": "18ab0a6a",
   "metadata": {},
   "outputs": [],
   "source": [
    "#9a\n",
    "f1 = df3[df3['ItemID'].str.contains(\"frus_reg\")].groupby('PIN')['Score'].mean().reset_index()"
   ]
  },
  {
   "cell_type": "code",
   "execution_count": 47,
   "id": "ee8d6314",
   "metadata": {},
   "outputs": [],
   "source": [
    "#9b\n",
    "f2= df3[df3['ItemID'].str.contains(\"frus_escal\")].groupby('PIN')['Score'].mean().reset_index()"
   ]
  },
  {
   "cell_type": "code",
   "execution_count": 48,
   "id": "0a9f7b5a",
   "metadata": {},
   "outputs": [
    {
     "data": {
      "text/html": [
       "<div>\n",
       "<style scoped>\n",
       "    .dataframe tbody tr th:only-of-type {\n",
       "        vertical-align: middle;\n",
       "    }\n",
       "\n",
       "    .dataframe tbody tr th {\n",
       "        vertical-align: top;\n",
       "    }\n",
       "\n",
       "    .dataframe thead th {\n",
       "        text-align: right;\n",
       "    }\n",
       "</style>\n",
       "<table border=\"1\" class=\"dataframe\">\n",
       "  <thead>\n",
       "    <tr style=\"text-align: right;\">\n",
       "      <th></th>\n",
       "      <th>PIN</th>\n",
       "      <th>Score</th>\n",
       "    </tr>\n",
       "  </thead>\n",
       "  <tbody>\n",
       "    <tr>\n",
       "      <th>0</th>\n",
       "      <td>APPLETONC1</td>\n",
       "      <td>3.00</td>\n",
       "    </tr>\n",
       "    <tr>\n",
       "      <th>1</th>\n",
       "      <td>M018C</td>\n",
       "      <td>1.00</td>\n",
       "    </tr>\n",
       "    <tr>\n",
       "      <th>2</th>\n",
       "      <td>MN002C</td>\n",
       "      <td>2.00</td>\n",
       "    </tr>\n",
       "    <tr>\n",
       "      <th>3</th>\n",
       "      <td>MN004C</td>\n",
       "      <td>0.67</td>\n",
       "    </tr>\n",
       "    <tr>\n",
       "      <th>4</th>\n",
       "      <td>MN006C</td>\n",
       "      <td>1.00</td>\n",
       "    </tr>\n",
       "    <tr>\n",
       "      <th>...</th>\n",
       "      <td>...</td>\n",
       "      <td>...</td>\n",
       "    </tr>\n",
       "    <tr>\n",
       "      <th>89</th>\n",
       "      <td>WI030C</td>\n",
       "      <td>3.00</td>\n",
       "    </tr>\n",
       "    <tr>\n",
       "      <th>90</th>\n",
       "      <td>WI031C</td>\n",
       "      <td>2.00</td>\n",
       "    </tr>\n",
       "    <tr>\n",
       "      <th>91</th>\n",
       "      <td>WI032C</td>\n",
       "      <td>1.00</td>\n",
       "    </tr>\n",
       "    <tr>\n",
       "      <th>92</th>\n",
       "      <td>WI033C</td>\n",
       "      <td>1.33</td>\n",
       "    </tr>\n",
       "    <tr>\n",
       "      <th>93</th>\n",
       "      <td>WI24C</td>\n",
       "      <td>3.00</td>\n",
       "    </tr>\n",
       "  </tbody>\n",
       "</table>\n",
       "<p>94 rows × 2 columns</p>\n",
       "</div>"
      ],
      "text/plain": [
       "           PIN  Score\n",
       "0   APPLETONC1   3.00\n",
       "1        M018C   1.00\n",
       "2       MN002C   2.00\n",
       "3       MN004C   0.67\n",
       "4       MN006C   1.00\n",
       "..         ...    ...\n",
       "89      WI030C   3.00\n",
       "90      WI031C   2.00\n",
       "91      WI032C   1.00\n",
       "92      WI033C   1.33\n",
       "93       WI24C   3.00\n",
       "\n",
       "[94 rows x 2 columns]"
      ]
     },
     "execution_count": 48,
     "metadata": {},
     "output_type": "execute_result"
    }
   ],
   "source": [
    "#9c\n",
    "f3=df3[df3['ItemID'].str.contains(\"frus_cope\")].groupby('PIN')['Score'].mean().reset_index()\n",
    "f3"
   ]
  },
  {
   "cell_type": "code",
   "execution_count": 49,
   "id": "057f5009",
   "metadata": {},
   "outputs": [],
   "source": [
    "f12 =pd.merge(f1,f2, on='PIN')\n",
    "frus =pd.merge(f12,f3, on='PIN')"
   ]
  },
  {
   "cell_type": "code",
   "execution_count": 66,
   "id": "a4ef281f",
   "metadata": {},
   "outputs": [],
   "source": [
    "frus.columns =['PIN', 'frus_reg', 'frus_escalation', 'frus_cope']"
   ]
  },
  {
   "cell_type": "code",
   "execution_count": 67,
   "id": "68ed5f18",
   "metadata": {},
   "outputs": [],
   "source": [
    "new =pd.merge(PA, frus,on='PIN', how='left')"
   ]
  },
  {
   "cell_type": "code",
   "execution_count": 71,
   "id": "c845ad8a",
   "metadata": {},
   "outputs": [
    {
     "data": {
      "text/html": [
       "<div>\n",
       "<style scoped>\n",
       "    .dataframe tbody tr th:only-of-type {\n",
       "        vertical-align: middle;\n",
       "    }\n",
       "\n",
       "    .dataframe tbody tr th {\n",
       "        vertical-align: top;\n",
       "    }\n",
       "\n",
       "    .dataframe thead th {\n",
       "        text-align: right;\n",
       "    }\n",
       "</style>\n",
       "<table border=\"1\" class=\"dataframe\">\n",
       "  <thead>\n",
       "    <tr style=\"text-align: right;\">\n",
       "      <th></th>\n",
       "      <th>SelfReg_SurgIBQR</th>\n",
       "      <th>SelfReg_NegAffIBQR</th>\n",
       "      <th>SelfReg_EffContIBQR</th>\n",
       "    </tr>\n",
       "  </thead>\n",
       "  <tbody>\n",
       "    <tr>\n",
       "      <th>0</th>\n",
       "      <td>1.00</td>\n",
       "      <td>0.40</td>\n",
       "      <td>0.41</td>\n",
       "    </tr>\n",
       "    <tr>\n",
       "      <th>1</th>\n",
       "      <td>0.40</td>\n",
       "      <td>1.00</td>\n",
       "      <td>0.04</td>\n",
       "    </tr>\n",
       "    <tr>\n",
       "      <th>2</th>\n",
       "      <td>0.41</td>\n",
       "      <td>0.04</td>\n",
       "      <td>1.00</td>\n",
       "    </tr>\n",
       "    <tr>\n",
       "      <th>3</th>\n",
       "      <td>-0.12</td>\n",
       "      <td>-0.01</td>\n",
       "      <td>-0.25</td>\n",
       "    </tr>\n",
       "    <tr>\n",
       "      <th>4</th>\n",
       "      <td>-0.17</td>\n",
       "      <td>-0.02</td>\n",
       "      <td>-0.29</td>\n",
       "    </tr>\n",
       "    <tr>\n",
       "      <th>5</th>\n",
       "      <td>-0.24</td>\n",
       "      <td>-0.25</td>\n",
       "      <td>0.06</td>\n",
       "    </tr>\n",
       "    <tr>\n",
       "      <th>6</th>\n",
       "      <td>0.11</td>\n",
       "      <td>0.08</td>\n",
       "      <td>-0.01</td>\n",
       "    </tr>\n",
       "    <tr>\n",
       "      <th>7</th>\n",
       "      <td>-0.02</td>\n",
       "      <td>-0.01</td>\n",
       "      <td>0.09</td>\n",
       "    </tr>\n",
       "  </tbody>\n",
       "</table>\n",
       "</div>"
      ],
      "text/plain": [
       "   SelfReg_SurgIBQR  SelfReg_NegAffIBQR  SelfReg_EffContIBQR\n",
       "0              1.00                0.40                 0.41\n",
       "1              0.40                1.00                 0.04\n",
       "2              0.41                0.04                 1.00\n",
       "3             -0.12               -0.01                -0.25\n",
       "4             -0.17               -0.02                -0.29\n",
       "5             -0.24               -0.25                 0.06\n",
       "6              0.11                0.08                -0.01\n",
       "7             -0.02               -0.01                 0.09"
      ]
     },
     "execution_count": 71,
     "metadata": {},
     "output_type": "execute_result"
    }
   ],
   "source": [
    "cf =c23.append(cdf.corrwith(new['frus_reg']), ignore_index=True)\n",
    "cf1 =cf.append(cdf.corrwith(new['frus_escalation']), ignore_index=True)\n",
    "cf2 =cf1.append(cdf.corrwith(new['frus_cope']), ignore_index=True)\n",
    "cf2"
   ]
  },
  {
   "cell_type": "code",
   "execution_count": 72,
   "id": "d2485e71",
   "metadata": {},
   "outputs": [],
   "source": [
    "cf2.index=['SelfReg_SurgIBQR', 'SelfReg_NegAffIBQR', 'SelfReg_EffContIBQR','PA_2','PA_3','frus_reg', 'frus_escalation', 'frus_cope']"
   ]
  },
  {
   "cell_type": "code",
   "execution_count": 73,
   "id": "64a37538",
   "metadata": {},
   "outputs": [
    {
     "data": {
      "text/html": [
       "<div>\n",
       "<style scoped>\n",
       "    .dataframe tbody tr th:only-of-type {\n",
       "        vertical-align: middle;\n",
       "    }\n",
       "\n",
       "    .dataframe tbody tr th {\n",
       "        vertical-align: top;\n",
       "    }\n",
       "\n",
       "    .dataframe thead th {\n",
       "        text-align: right;\n",
       "    }\n",
       "</style>\n",
       "<table border=\"1\" class=\"dataframe\">\n",
       "  <thead>\n",
       "    <tr style=\"text-align: right;\">\n",
       "      <th></th>\n",
       "      <th>SelfReg_SurgIBQR</th>\n",
       "      <th>SelfReg_NegAffIBQR</th>\n",
       "      <th>SelfReg_EffContIBQR</th>\n",
       "    </tr>\n",
       "  </thead>\n",
       "  <tbody>\n",
       "    <tr>\n",
       "      <th>SelfReg_SurgIBQR</th>\n",
       "      <td>1.00</td>\n",
       "      <td>0.40</td>\n",
       "      <td>0.41</td>\n",
       "    </tr>\n",
       "    <tr>\n",
       "      <th>SelfReg_NegAffIBQR</th>\n",
       "      <td>0.40</td>\n",
       "      <td>1.00</td>\n",
       "      <td>0.04</td>\n",
       "    </tr>\n",
       "    <tr>\n",
       "      <th>SelfReg_EffContIBQR</th>\n",
       "      <td>0.41</td>\n",
       "      <td>0.04</td>\n",
       "      <td>1.00</td>\n",
       "    </tr>\n",
       "    <tr>\n",
       "      <th>PA_2</th>\n",
       "      <td>-0.12</td>\n",
       "      <td>-0.01</td>\n",
       "      <td>-0.25</td>\n",
       "    </tr>\n",
       "    <tr>\n",
       "      <th>PA_3</th>\n",
       "      <td>-0.17</td>\n",
       "      <td>-0.02</td>\n",
       "      <td>-0.29</td>\n",
       "    </tr>\n",
       "    <tr>\n",
       "      <th>frus_reg</th>\n",
       "      <td>-0.24</td>\n",
       "      <td>-0.25</td>\n",
       "      <td>0.06</td>\n",
       "    </tr>\n",
       "    <tr>\n",
       "      <th>frus_escalation</th>\n",
       "      <td>0.11</td>\n",
       "      <td>0.08</td>\n",
       "      <td>-0.01</td>\n",
       "    </tr>\n",
       "    <tr>\n",
       "      <th>frus_cope</th>\n",
       "      <td>-0.02</td>\n",
       "      <td>-0.01</td>\n",
       "      <td>0.09</td>\n",
       "    </tr>\n",
       "  </tbody>\n",
       "</table>\n",
       "</div>"
      ],
      "text/plain": [
       "                     SelfReg_SurgIBQR  SelfReg_NegAffIBQR  SelfReg_EffContIBQR\n",
       "SelfReg_SurgIBQR                 1.00                0.40                 0.41\n",
       "SelfReg_NegAffIBQR               0.40                1.00                 0.04\n",
       "SelfReg_EffContIBQR              0.41                0.04                 1.00\n",
       "PA_2                            -0.12               -0.01                -0.25\n",
       "PA_3                            -0.17               -0.02                -0.29\n",
       "frus_reg                        -0.24               -0.25                 0.06\n",
       "frus_escalation                  0.11                0.08                -0.01\n",
       "frus_cope                       -0.02               -0.01                 0.09"
      ]
     },
     "execution_count": 73,
     "metadata": {},
     "output_type": "execute_result"
    }
   ],
   "source": [
    "cf2"
   ]
  },
  {
   "cell_type": "code",
   "execution_count": 74,
   "id": "70693593",
   "metadata": {},
   "outputs": [],
   "source": [
    "cf2.round(2).to_csv('C:/Users/tsb7592/Downloads/IBQ_corr.csv')"
   ]
  },
  {
   "cell_type": "code",
   "execution_count": 75,
   "id": "7134cbd0",
   "metadata": {},
   "outputs": [],
   "source": [
    "# Create a Pandas Excel writer using XlsxWriter as the engine.\n",
    "writer = pd.ExcelWriter('C:/Users/tsb7592/Downloads/IBQ_composite_scores.xlsx', engine='xlsxwriter')\n",
    "\n",
    "de.groupby(['Age_group'])['SelfReg_SurgIBQR'].describe().round(2).to_excel(writer, sheet_name='SurgIBQR')\n",
    "\n",
    "de.groupby(['Age_group'])['SelfReg_NegAffIBQR'].describe().round(2).to_excel(writer, sheet_name='NegAffIBQR')\n",
    "\n",
    "de.groupby(['Age_group'])['SelfReg_EffContIBQR'].describe().round(2).to_excel(writer, sheet_name='EffContIBQR')\n",
    "\n",
    "# Close the Pandas Excel writer and output the Excel file.\n",
    "writer.save()"
   ]
  },
  {
   "cell_type": "code",
   "execution_count": null,
   "id": "69e958b6",
   "metadata": {},
   "outputs": [],
   "source": []
  },
  {
   "cell_type": "code",
   "execution_count": null,
   "id": "01682af1",
   "metadata": {},
   "outputs": [],
   "source": []
  }
 ],
 "metadata": {
  "kernelspec": {
   "display_name": "Python 3",
   "language": "python",
   "name": "python3"
  },
  "language_info": {
   "codemirror_mode": {
    "name": "ipython",
    "version": 3
   },
   "file_extension": ".py",
   "mimetype": "text/x-python",
   "name": "python",
   "nbconvert_exporter": "python",
   "pygments_lexer": "ipython3",
   "version": "3.8.8"
  }
 },
 "nbformat": 4,
 "nbformat_minor": 5
}
