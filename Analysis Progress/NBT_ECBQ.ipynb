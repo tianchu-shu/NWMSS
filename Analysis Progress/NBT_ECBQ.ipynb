{
 "cells": [
  {
   "cell_type": "code",
   "execution_count": 1,
   "id": "8986fd9c",
   "metadata": {},
   "outputs": [],
   "source": [
    "#Data saved in csv/excel\n",
    "import glob, os\n",
    "import pandas as pd\n",
    "import warnings\n",
    "warnings.filterwarnings('ignore')"
   ]
  },
  {
   "cell_type": "code",
   "execution_count": 2,
   "id": "52195d83",
   "metadata": {},
   "outputs": [],
   "source": [
    "#Set two decimal points for display\n",
    "pd.options.display.float_format = \"{:.2f}\".format"
   ]
  },
  {
   "cell_type": "markdown",
   "id": "f1fb0471",
   "metadata": {},
   "source": [
    "# 1. Load the data"
   ]
  },
  {
   "cell_type": "code",
   "execution_count": 3,
   "id": "bcfffc08",
   "metadata": {},
   "outputs": [],
   "source": [
    "data=pd.read_csv('C:/Users/tsb7592/Downloads/Basic_Desc_output.csv')"
   ]
  },
  {
   "cell_type": "code",
   "execution_count": 4,
   "id": "4879544f",
   "metadata": {},
   "outputs": [],
   "source": [
    "data['PIN']=data['PIN'].str.upper()"
   ]
  },
  {
   "cell_type": "code",
   "execution_count": 5,
   "id": "68300eb9",
   "metadata": {},
   "outputs": [
    {
     "data": {
      "text/html": [
       "<div>\n",
       "<style scoped>\n",
       "    .dataframe tbody tr th:only-of-type {\n",
       "        vertical-align: middle;\n",
       "    }\n",
       "\n",
       "    .dataframe tbody tr th {\n",
       "        vertical-align: top;\n",
       "    }\n",
       "\n",
       "    .dataframe thead th {\n",
       "        text-align: right;\n",
       "    }\n",
       "</style>\n",
       "<table border=\"1\" class=\"dataframe\">\n",
       "  <thead>\n",
       "    <tr style=\"text-align: right;\">\n",
       "      <th></th>\n",
       "      <th>PIN</th>\n",
       "      <th>DeviceID</th>\n",
       "      <th>Assessment Name</th>\n",
       "      <th>Inst</th>\n",
       "      <th>ItemID</th>\n",
       "      <th>Response</th>\n",
       "      <th>Score</th>\n",
       "      <th>Position</th>\n",
       "      <th>ResponseTime</th>\n",
       "      <th>DateCreated</th>\n",
       "      <th>InstStarted</th>\n",
       "      <th>InstEnded</th>\n",
       "      <th>Age_month</th>\n",
       "      <th>Age_group</th>\n",
       "    </tr>\n",
       "  </thead>\n",
       "  <tbody>\n",
       "    <tr>\n",
       "      <th>0</th>\n",
       "      <td>TX009C</td>\n",
       "      <td>E2909A06-4CF6-4F3A-A839-A30AE05F2B5B</td>\n",
       "      <td>Assessment 2</td>\n",
       "      <td>Mullen Receptive</td>\n",
       "      <td>Mullen_Rec_Title</td>\n",
       "      <td>1</td>\n",
       "      <td>NaN</td>\n",
       "      <td>1</td>\n",
       "      <td>NaN</td>\n",
       "      <td>2021-12-05 08:30:42</td>\n",
       "      <td>2021-12-05 08:30:41</td>\n",
       "      <td>2021-12-05 08:33:49</td>\n",
       "      <td>18.00</td>\n",
       "      <td>(15, 18]</td>\n",
       "    </tr>\n",
       "    <tr>\n",
       "      <th>1</th>\n",
       "      <td>TX009C</td>\n",
       "      <td>E2909A06-4CF6-4F3A-A839-A30AE05F2B5B</td>\n",
       "      <td>Assessment 2</td>\n",
       "      <td>Mullen Receptive</td>\n",
       "      <td>Mullen_Rec_Instructions</td>\n",
       "      <td>1</td>\n",
       "      <td>NaN</td>\n",
       "      <td>2</td>\n",
       "      <td>NaN</td>\n",
       "      <td>2021-12-05 08:30:43</td>\n",
       "      <td>2021-12-05 08:30:41</td>\n",
       "      <td>2021-12-05 08:33:49</td>\n",
       "      <td>18.00</td>\n",
       "      <td>(15, 18]</td>\n",
       "    </tr>\n",
       "    <tr>\n",
       "      <th>2</th>\n",
       "      <td>TX009C</td>\n",
       "      <td>E2909A06-4CF6-4F3A-A839-A30AE05F2B5B</td>\n",
       "      <td>Assessment 2</td>\n",
       "      <td>Mullen Receptive</td>\n",
       "      <td>RL13</td>\n",
       "      <td>2</td>\n",
       "      <td>0.00</td>\n",
       "      <td>3</td>\n",
       "      <td>NaN</td>\n",
       "      <td>2021-12-05 08:32:53</td>\n",
       "      <td>2021-12-05 08:30:41</td>\n",
       "      <td>2021-12-05 08:33:49</td>\n",
       "      <td>18.00</td>\n",
       "      <td>(15, 18]</td>\n",
       "    </tr>\n",
       "    <tr>\n",
       "      <th>3</th>\n",
       "      <td>TX009C</td>\n",
       "      <td>E2909A06-4CF6-4F3A-A839-A30AE05F2B5B</td>\n",
       "      <td>Assessment 2</td>\n",
       "      <td>Mullen Receptive</td>\n",
       "      <td>RL10</td>\n",
       "      <td>1</td>\n",
       "      <td>1.00</td>\n",
       "      <td>4</td>\n",
       "      <td>NaN</td>\n",
       "      <td>2021-12-05 08:32:59</td>\n",
       "      <td>2021-12-05 08:30:41</td>\n",
       "      <td>2021-12-05 08:33:49</td>\n",
       "      <td>18.00</td>\n",
       "      <td>(15, 18]</td>\n",
       "    </tr>\n",
       "    <tr>\n",
       "      <th>4</th>\n",
       "      <td>TX009C</td>\n",
       "      <td>E2909A06-4CF6-4F3A-A839-A30AE05F2B5B</td>\n",
       "      <td>Assessment 2</td>\n",
       "      <td>Mullen Receptive</td>\n",
       "      <td>RL15</td>\n",
       "      <td>2</td>\n",
       "      <td>0.00</td>\n",
       "      <td>5</td>\n",
       "      <td>NaN</td>\n",
       "      <td>2021-12-05 08:33:18</td>\n",
       "      <td>2021-12-05 08:30:41</td>\n",
       "      <td>2021-12-05 08:33:49</td>\n",
       "      <td>18.00</td>\n",
       "      <td>(15, 18]</td>\n",
       "    </tr>\n",
       "  </tbody>\n",
       "</table>\n",
       "</div>"
      ],
      "text/plain": [
       "      PIN                              DeviceID Assessment Name  \\\n",
       "0  TX009C  E2909A06-4CF6-4F3A-A839-A30AE05F2B5B    Assessment 2   \n",
       "1  TX009C  E2909A06-4CF6-4F3A-A839-A30AE05F2B5B    Assessment 2   \n",
       "2  TX009C  E2909A06-4CF6-4F3A-A839-A30AE05F2B5B    Assessment 2   \n",
       "3  TX009C  E2909A06-4CF6-4F3A-A839-A30AE05F2B5B    Assessment 2   \n",
       "4  TX009C  E2909A06-4CF6-4F3A-A839-A30AE05F2B5B    Assessment 2   \n",
       "\n",
       "               Inst                   ItemID Response  Score  Position  \\\n",
       "0  Mullen Receptive         Mullen_Rec_Title        1    NaN         1   \n",
       "1  Mullen Receptive  Mullen_Rec_Instructions        1    NaN         2   \n",
       "2  Mullen Receptive                     RL13        2   0.00         3   \n",
       "3  Mullen Receptive                     RL10        1   1.00         4   \n",
       "4  Mullen Receptive                     RL15        2   0.00         5   \n",
       "\n",
       "   ResponseTime          DateCreated          InstStarted  \\\n",
       "0           NaN  2021-12-05 08:30:42  2021-12-05 08:30:41   \n",
       "1           NaN  2021-12-05 08:30:43  2021-12-05 08:30:41   \n",
       "2           NaN  2021-12-05 08:32:53  2021-12-05 08:30:41   \n",
       "3           NaN  2021-12-05 08:32:59  2021-12-05 08:30:41   \n",
       "4           NaN  2021-12-05 08:33:18  2021-12-05 08:30:41   \n",
       "\n",
       "             InstEnded  Age_month Age_group  \n",
       "0  2021-12-05 08:33:49      18.00  (15, 18]  \n",
       "1  2021-12-05 08:33:49      18.00  (15, 18]  \n",
       "2  2021-12-05 08:33:49      18.00  (15, 18]  \n",
       "3  2021-12-05 08:33:49      18.00  (15, 18]  \n",
       "4  2021-12-05 08:33:49      18.00  (15, 18]  "
      ]
     },
     "execution_count": 5,
     "metadata": {},
     "output_type": "execute_result"
    }
   ],
   "source": [
    "data.head()"
   ]
  },
  {
   "cell_type": "code",
   "execution_count": 6,
   "id": "ffd2b56a",
   "metadata": {},
   "outputs": [
    {
     "data": {
      "text/plain": [
       "array(['Mullen Receptive', 'Mullen Expressive Prompted',\n",
       "       'Executive Function', 'Verbal Counting', 'Toy Out of Reach',\n",
       "       'Social Observation', 'Playing with Bubbles',\n",
       "       'Looking While Listening', 'Get Up and Go', 'Sit and Stand',\n",
       "       'Numerical Change Detection', 'Shape Matching Manipulatives',\n",
       "       'Reach To Eat', 'Spatial Change Detection',\n",
       "       'Make Yours Look Like Mine', 'Mullen Expressive Observational',\n",
       "       'Global Self-Regulation', 'Object Counting', 'Give_N',\n",
       "       'Memory Task Learning', 'Visual Delayed Response',\n",
       "       'Memory Task Test',\n",
       "       'NIH Baby Toolbox Picture Vocabulary Test Practice',\n",
       "       'NIH Baby Toolbox Picture Vocabulary Test', 'Who Has More',\n",
       "       'Shape Matching', 'Number Recognition + Subitizing',\n",
       "       'Early Childhood Behavior Questionnaire - Very Short Form',\n",
       "       'Caregiver Checklist',\n",
       "       'PROMIS EC Parent-Report SF v1.0 - Social Relationships - Child-Caregiver Interactions 5a',\n",
       "       'PROMIS EC Parent-Report SF v1.0 - Social Relationships - Peer Relationships 4a',\n",
       "       'CDI: Expressive', 'REMA Arithmetic', 'CDI: Receptive',\n",
       "       \"Children's Behavior Questionnaire - Very Short Form\",\n",
       "       'Infant Behavior Questionnaire - Revised - Very Short Form'],\n",
       "      dtype=object)"
      ]
     },
     "execution_count": 6,
     "metadata": {},
     "output_type": "execute_result"
    }
   ],
   "source": [
    "data.Inst.unique()"
   ]
  },
  {
   "cell_type": "markdown",
   "id": "0dad7f29",
   "metadata": {},
   "source": [
    "# 2. Filter the inst to be ECBQ"
   ]
  },
  {
   "cell_type": "code",
   "execution_count": 7,
   "id": "135dafc1",
   "metadata": {},
   "outputs": [],
   "source": [
    "df= data[data.Inst=='Early Childhood Behavior Questionnaire - Very Short Form']"
   ]
  },
  {
   "cell_type": "code",
   "execution_count": 8,
   "id": "c282c6d0",
   "metadata": {},
   "outputs": [],
   "source": [
    "df.PIN=df.PIN.str[:5]"
   ]
  },
  {
   "cell_type": "code",
   "execution_count": 9,
   "id": "e147c6fa",
   "metadata": {},
   "outputs": [],
   "source": [
    "df.Response =pd.to_numeric(df.Response)\n",
    "df.Score =pd.to_numeric(df.Score)"
   ]
  },
  {
   "cell_type": "code",
   "execution_count": 10,
   "id": "a33b00fb",
   "metadata": {},
   "outputs": [
    {
     "data": {
      "text/html": [
       "<div>\n",
       "<style scoped>\n",
       "    .dataframe tbody tr th:only-of-type {\n",
       "        vertical-align: middle;\n",
       "    }\n",
       "\n",
       "    .dataframe tbody tr th {\n",
       "        vertical-align: top;\n",
       "    }\n",
       "\n",
       "    .dataframe thead th {\n",
       "        text-align: right;\n",
       "    }\n",
       "</style>\n",
       "<table border=\"1\" class=\"dataframe\">\n",
       "  <thead>\n",
       "    <tr style=\"text-align: right;\">\n",
       "      <th></th>\n",
       "      <th>Response</th>\n",
       "      <th>Score</th>\n",
       "      <th>Position</th>\n",
       "      <th>ResponseTime</th>\n",
       "      <th>Age_month</th>\n",
       "    </tr>\n",
       "  </thead>\n",
       "  <tbody>\n",
       "    <tr>\n",
       "      <th>count</th>\n",
       "      <td>2052.00</td>\n",
       "      <td>1885.00</td>\n",
       "      <td>2052.00</td>\n",
       "      <td>1944.00</td>\n",
       "      <td>1444.00</td>\n",
       "    </tr>\n",
       "    <tr>\n",
       "      <th>mean</th>\n",
       "      <td>4.41</td>\n",
       "      <td>4.45</td>\n",
       "      <td>19.50</td>\n",
       "      <td>16.48</td>\n",
       "      <td>386.50</td>\n",
       "    </tr>\n",
       "    <tr>\n",
       "      <th>std</th>\n",
       "      <td>2.01</td>\n",
       "      <td>1.83</td>\n",
       "      <td>10.97</td>\n",
       "      <td>87.82</td>\n",
       "      <td>116.65</td>\n",
       "    </tr>\n",
       "    <tr>\n",
       "      <th>min</th>\n",
       "      <td>1.00</td>\n",
       "      <td>1.00</td>\n",
       "      <td>1.00</td>\n",
       "      <td>0.62</td>\n",
       "      <td>13.00</td>\n",
       "    </tr>\n",
       "    <tr>\n",
       "      <th>25%</th>\n",
       "      <td>3.00</td>\n",
       "      <td>3.00</td>\n",
       "      <td>10.00</td>\n",
       "      <td>5.21</td>\n",
       "      <td>368.00</td>\n",
       "    </tr>\n",
       "    <tr>\n",
       "      <th>50%</th>\n",
       "      <td>5.00</td>\n",
       "      <td>5.00</td>\n",
       "      <td>19.50</td>\n",
       "      <td>7.28</td>\n",
       "      <td>409.00</td>\n",
       "    </tr>\n",
       "    <tr>\n",
       "      <th>75%</th>\n",
       "      <td>6.00</td>\n",
       "      <td>6.00</td>\n",
       "      <td>29.00</td>\n",
       "      <td>11.59</td>\n",
       "      <td>440.00</td>\n",
       "    </tr>\n",
       "    <tr>\n",
       "      <th>max</th>\n",
       "      <td>8.00</td>\n",
       "      <td>7.00</td>\n",
       "      <td>38.00</td>\n",
       "      <td>2963.74</td>\n",
       "      <td>536.00</td>\n",
       "    </tr>\n",
       "  </tbody>\n",
       "</table>\n",
       "</div>"
      ],
      "text/plain": [
       "       Response   Score  Position  ResponseTime  Age_month\n",
       "count   2052.00 1885.00   2052.00       1944.00    1444.00\n",
       "mean       4.41    4.45     19.50         16.48     386.50\n",
       "std        2.01    1.83     10.97         87.82     116.65\n",
       "min        1.00    1.00      1.00          0.62      13.00\n",
       "25%        3.00    3.00     10.00          5.21     368.00\n",
       "50%        5.00    5.00     19.50          7.28     409.00\n",
       "75%        6.00    6.00     29.00         11.59     440.00\n",
       "max        8.00    7.00     38.00       2963.74     536.00"
      ]
     },
     "execution_count": 10,
     "metadata": {},
     "output_type": "execute_result"
    }
   ],
   "source": [
    "df.describe()"
   ]
  },
  {
   "cell_type": "markdown",
   "id": "e62a1652",
   "metadata": {},
   "source": [
    "# 3. Rescore all items to ensure appropriate response coding"
   ]
  },
  {
   "cell_type": "code",
   "execution_count": 11,
   "id": "4af7d8c0",
   "metadata": {},
   "outputs": [
    {
     "data": {
      "text/plain": [
       "array(['RothECBQ_Title', 'SelfReg_Intro_ECBQ ', 'SelfReg_ECBQ1',\n",
       "       'SelfReg_ECBQ2', 'SelfReg_ECBQ3', 'SelfReg_ECBQ4', 'SelfReg_ECBQ5',\n",
       "       'SelfReg_ECBQ6', 'SelfReg_ECBQ7', 'SelfReg_ECBQ8', 'SelfReg_ECBQ9',\n",
       "       'SelfReg_ECBQ10', 'SelfReg_ECBQ11', 'SelfReg_ECBQ12',\n",
       "       'SelfReg_ECBQ13', 'SelfReg_ECBQ14', 'SelfReg_ECBQ15',\n",
       "       'SelfReg_ECBQ16', 'SelfReg_ECBQ17', 'SelfReg_ECBQ18',\n",
       "       'SelfReg_ECBQ19', 'SelfReg_ECBQ20', 'SelfReg_ECBQ21',\n",
       "       'SelfReg_ECBQ22', 'SelfReg_ECBQ23', 'SelfReg_ECBQ24',\n",
       "       'SelfReg_ECBQ25', 'SelfReg_ECBQ26', 'SelfReg_ECBQ27',\n",
       "       'SelfReg_ECBQ28', 'SelfReg_ECBQ29', 'SelfReg_ECBQ30',\n",
       "       'SelfReg_ECBQ31', 'SelfReg_ECBQ32', 'SelfReg_ECBQ33',\n",
       "       'SelfReg_ECBQ34', 'SelfReg_ECBQ35', 'SelfReg_ECBQ36'], dtype=object)"
      ]
     },
     "execution_count": 11,
     "metadata": {},
     "output_type": "execute_result"
    }
   ],
   "source": [
    "df.ItemID.unique()"
   ]
  },
  {
   "cell_type": "code",
   "execution_count": 12,
   "id": "ff696d39",
   "metadata": {},
   "outputs": [],
   "source": [
    "reverse =['SelfReg_ECBQ12','SelfReg_ECBQ14','SelfReg_ECBQ34']"
   ]
  },
  {
   "cell_type": "code",
   "execution_count": 13,
   "id": "d9082486",
   "metadata": {},
   "outputs": [],
   "source": [
    "import numpy as np\n",
    "#The score should equal the response for all items EXCEPT SelfReg_ibqrvsh11, for which the score should be 8-response \n",
    "df['Score'] = np.where(df['ItemID'].isin(reverse),8-df.Response, df.Response)"
   ]
  },
  {
   "cell_type": "markdown",
   "id": "a47a91fa",
   "metadata": {},
   "source": [
    "# 4. Calculate the three composite scores"
   ]
  },
  {
   "cell_type": "code",
   "execution_count": 14,
   "id": "1ce11b5c",
   "metadata": {},
   "outputs": [],
   "source": [
    "a= ['SelfReg_ECBQ3', 'SelfReg_ECBQ4', 'SelfReg_ECBQ6',\n",
    "    'SelfReg_ECBQ9', 'SelfReg_ECBQ11', 'SelfReg_ECBQ13',\n",
    "     'SelfReg_ECBQ18','SelfReg_ECBQ20',  'SelfReg_ECBQ24',\n",
    "       'SelfReg_ECBQ25', 'SelfReg_ECBQ30','SelfReg_ECBQ36']\n",
    "\n",
    "b= ['SelfReg_ECBQ1','SelfReg_ECBQ2','SelfReg_ECBQ10', \n",
    "    'SelfReg_ECBQ16', 'SelfReg_ECBQ17', 'SelfReg_ECBQ19',\n",
    "    'SelfReg_ECBQ22', 'SelfReg_ECBQ23', 'SelfReg_ECBQ26',  \n",
    "    'SelfReg_ECBQ32', 'SelfReg_ECBQ33', 'SelfReg_ECBQ34']\n",
    "\n",
    "c= ['SelfReg_ECBQ5','SelfReg_ECBQ7', 'SelfReg_ECBQ8', \n",
    "    'SelfReg_ECBQ12', 'SelfReg_ECBQ14', 'SelfReg_ECBQ15',\n",
    "      'SelfReg_ECBQ21','SelfReg_ECBQ27', 'SelfReg_ECBQ28', \n",
    "    'SelfReg_ECBQ29',  'SelfReg_ECBQ31', 'SelfReg_ECBQ35']"
   ]
  },
  {
   "cell_type": "code",
   "execution_count": 15,
   "id": "f689cee0",
   "metadata": {},
   "outputs": [],
   "source": [
    "aa= df[df.ItemID.isin(a)].groupby('PIN')['Score'].mean()\n",
    "bb= df[df.ItemID.isin(b)].groupby('PIN')['Score'].mean()\n",
    "cc= df[df.ItemID.isin(c)].groupby('PIN')['Score'].mean()\n"
   ]
  },
  {
   "cell_type": "code",
   "execution_count": 16,
   "id": "be99b5bb",
   "metadata": {},
   "outputs": [],
   "source": [
    "comp =[aa,bb,cc]"
   ]
  },
  {
   "cell_type": "code",
   "execution_count": 17,
   "id": "1050d1d3",
   "metadata": {},
   "outputs": [],
   "source": [
    "cdf = pd.concat(comp,axis=1)\n",
    "cdf.columns = ['SelfReg_SurgECBQ','SelfReg_NegAffECBQ','SelfReg_EffContECBQ']"
   ]
  },
  {
   "cell_type": "code",
   "execution_count": 18,
   "id": "70693593",
   "metadata": {},
   "outputs": [
    {
     "data": {
      "text/html": [
       "<div>\n",
       "<style scoped>\n",
       "    .dataframe tbody tr th:only-of-type {\n",
       "        vertical-align: middle;\n",
       "    }\n",
       "\n",
       "    .dataframe tbody tr th {\n",
       "        vertical-align: top;\n",
       "    }\n",
       "\n",
       "    .dataframe thead th {\n",
       "        text-align: right;\n",
       "    }\n",
       "</style>\n",
       "<table border=\"1\" class=\"dataframe\">\n",
       "  <thead>\n",
       "    <tr style=\"text-align: right;\">\n",
       "      <th></th>\n",
       "      <th>SelfReg_SurgECBQ</th>\n",
       "      <th>SelfReg_NegAffECBQ</th>\n",
       "      <th>SelfReg_EffContECBQ</th>\n",
       "    </tr>\n",
       "  </thead>\n",
       "  <tbody>\n",
       "    <tr>\n",
       "      <th>SelfReg_SurgECBQ</th>\n",
       "      <td>1.00</td>\n",
       "      <td>0.02</td>\n",
       "      <td>0.34</td>\n",
       "    </tr>\n",
       "    <tr>\n",
       "      <th>SelfReg_NegAffECBQ</th>\n",
       "      <td>0.02</td>\n",
       "      <td>1.00</td>\n",
       "      <td>-0.31</td>\n",
       "    </tr>\n",
       "    <tr>\n",
       "      <th>SelfReg_EffContECBQ</th>\n",
       "      <td>0.34</td>\n",
       "      <td>-0.31</td>\n",
       "      <td>1.00</td>\n",
       "    </tr>\n",
       "  </tbody>\n",
       "</table>\n",
       "</div>"
      ],
      "text/plain": [
       "                     SelfReg_SurgECBQ  SelfReg_NegAffECBQ  SelfReg_EffContECBQ\n",
       "SelfReg_SurgECBQ                 1.00                0.02                 0.34\n",
       "SelfReg_NegAffECBQ               0.02                1.00                -0.31\n",
       "SelfReg_EffContECBQ              0.34               -0.31                 1.00"
      ]
     },
     "execution_count": 18,
     "metadata": {},
     "output_type": "execute_result"
    }
   ],
   "source": [
    "cdf.corr()"
   ]
  },
  {
   "cell_type": "code",
   "execution_count": 19,
   "id": "3cf115a4",
   "metadata": {},
   "outputs": [],
   "source": [
    "cdf.corr().to_csv('C:/Users/tsb7592/Downloads/ECBQ_corr.csv')"
   ]
  },
  {
   "cell_type": "markdown",
   "id": "5bbf3886",
   "metadata": {},
   "source": [
    "# 5. Calculate item-rest correlations for every item – e.g., what is the Pearson correlation for SelfReg_ibqrvsh1 with the average score for the 12 other items on SelfReg_SurgIQBR. There should be 37 item-rest correlations. "
   ]
  },
  {
   "cell_type": "code",
   "execution_count": 20,
   "id": "64a89981",
   "metadata": {},
   "outputs": [],
   "source": [
    "items=['SelfReg_ECBQ1',\n",
    "       'SelfReg_ECBQ2', 'SelfReg_ECBQ3', 'SelfReg_ECBQ4', 'SelfReg_ECBQ5',\n",
    "       'SelfReg_ECBQ6', 'SelfReg_ECBQ7', 'SelfReg_ECBQ8', 'SelfReg_ECBQ9',\n",
    "       'SelfReg_ECBQ10', 'SelfReg_ECBQ11', 'SelfReg_ECBQ12',\n",
    "       'SelfReg_ECBQ13', 'SelfReg_ECBQ14', 'SelfReg_ECBQ15',\n",
    "       'SelfReg_ECBQ16', 'SelfReg_ECBQ17', 'SelfReg_ECBQ18',\n",
    "       'SelfReg_ECBQ19', 'SelfReg_ECBQ20', 'SelfReg_ECBQ21',\n",
    "       'SelfReg_ECBQ22', 'SelfReg_ECBQ23', 'SelfReg_ECBQ24',\n",
    "       'SelfReg_ECBQ25', 'SelfReg_ECBQ26', 'SelfReg_ECBQ27',\n",
    "       'SelfReg_ECBQ28', 'SelfReg_ECBQ29', 'SelfReg_ECBQ30',\n",
    "       'SelfReg_ECBQ31', 'SelfReg_ECBQ32', 'SelfReg_ECBQ33',\n",
    "       'SelfReg_ECBQ34', 'SelfReg_ECBQ35', 'SelfReg_ECBQ36']"
   ]
  },
  {
   "cell_type": "code",
   "execution_count": 24,
   "id": "4b8d9095",
   "metadata": {},
   "outputs": [],
   "source": [
    "from scipy.stats import pearsonr\n",
    "\n",
    "def item_rest(itemlist, li=None):\n",
    "    if not li:\n",
    "        li ={}\n",
    "        \n",
    "    for i in range(len(itemlist)):\n",
    "        rest = itemlist.copy()\n",
    "        rest.pop(i)\n",
    "        list1 = df[df.ItemID==itemlist[i]].groupby('PIN')['Score'].mean()\n",
    "        list2  = df[df.ItemID.isin(rest)].groupby('PIN')['Score'].mean()\n",
    "    \n",
    "    # Apply the pearsonr()\n",
    "        corr, _ = pearsonr(list1, list2)\n",
    "        print(itemlist[i], ': Pearsons correlation is %.3f ' % corr)\n",
    "        li[itemlist[i]] = corr\n",
    "    return li"
   ]
  },
  {
   "cell_type": "code",
   "execution_count": 25,
   "id": "22af4137",
   "metadata": {},
   "outputs": [
    {
     "name": "stdout",
     "output_type": "stream",
     "text": [
      "SelfReg_ECBQ3 : Pearsons correlation is 0.189 \n",
      "SelfReg_ECBQ4 : Pearsons correlation is 0.242 \n",
      "SelfReg_ECBQ6 : Pearsons correlation is 0.144 \n",
      "SelfReg_ECBQ9 : Pearsons correlation is 0.206 \n",
      "SelfReg_ECBQ11 : Pearsons correlation is 0.390 \n",
      "SelfReg_ECBQ13 : Pearsons correlation is 0.288 \n",
      "SelfReg_ECBQ18 : Pearsons correlation is 0.224 \n",
      "SelfReg_ECBQ20 : Pearsons correlation is 0.223 \n",
      "SelfReg_ECBQ24 : Pearsons correlation is 0.306 \n",
      "SelfReg_ECBQ25 : Pearsons correlation is 0.233 \n",
      "SelfReg_ECBQ30 : Pearsons correlation is 0.066 \n",
      "SelfReg_ECBQ36 : Pearsons correlation is 0.292 \n"
     ]
    }
   ],
   "source": [
    "itemrest = item_rest(a)"
   ]
  },
  {
   "cell_type": "code",
   "execution_count": 26,
   "id": "8bf843db",
   "metadata": {},
   "outputs": [
    {
     "name": "stdout",
     "output_type": "stream",
     "text": [
      "SelfReg_ECBQ1 : Pearsons correlation is 0.397 \n",
      "SelfReg_ECBQ2 : Pearsons correlation is 0.529 \n",
      "SelfReg_ECBQ10 : Pearsons correlation is 0.111 \n",
      "SelfReg_ECBQ16 : Pearsons correlation is 0.229 \n",
      "SelfReg_ECBQ17 : Pearsons correlation is 0.483 \n",
      "SelfReg_ECBQ19 : Pearsons correlation is 0.461 \n",
      "SelfReg_ECBQ22 : Pearsons correlation is 0.503 \n",
      "SelfReg_ECBQ23 : Pearsons correlation is 0.386 \n",
      "SelfReg_ECBQ26 : Pearsons correlation is 0.259 \n",
      "SelfReg_ECBQ32 : Pearsons correlation is 0.361 \n",
      "SelfReg_ECBQ33 : Pearsons correlation is 0.520 \n",
      "SelfReg_ECBQ34 : Pearsons correlation is 0.354 \n"
     ]
    }
   ],
   "source": [
    "itemrest =item_rest(b, itemrest)"
   ]
  },
  {
   "cell_type": "code",
   "execution_count": 27,
   "id": "9af268cd",
   "metadata": {},
   "outputs": [
    {
     "name": "stdout",
     "output_type": "stream",
     "text": [
      "SelfReg_ECBQ5 : Pearsons correlation is 0.375 \n",
      "SelfReg_ECBQ7 : Pearsons correlation is 0.399 \n",
      "SelfReg_ECBQ8 : Pearsons correlation is 0.357 \n",
      "SelfReg_ECBQ12 : Pearsons correlation is 0.456 \n",
      "SelfReg_ECBQ14 : Pearsons correlation is 0.232 \n",
      "SelfReg_ECBQ15 : Pearsons correlation is 0.298 \n",
      "SelfReg_ECBQ21 : Pearsons correlation is 0.369 \n",
      "SelfReg_ECBQ27 : Pearsons correlation is 0.378 \n",
      "SelfReg_ECBQ28 : Pearsons correlation is 0.126 \n",
      "SelfReg_ECBQ29 : Pearsons correlation is 0.116 \n",
      "SelfReg_ECBQ31 : Pearsons correlation is 0.223 \n",
      "SelfReg_ECBQ35 : Pearsons correlation is 0.367 \n"
     ]
    }
   ],
   "source": [
    "itemrest = item_rest(c,itemrest)"
   ]
  },
  {
   "cell_type": "code",
   "execution_count": 28,
   "id": "784045cd",
   "metadata": {},
   "outputs": [],
   "source": [
    "irc = pd.DataFrame.from_dict(itemrest, orient='index', columns=['item-rest-correlation'])\n",
    "irc.to_csv('C:/Users/tsb7592/Downloads/ECBQ_item_rest_correlation.csv')"
   ]
  },
  {
   "cell_type": "markdown",
   "id": "48e555af",
   "metadata": {},
   "source": [
    "# 6. Describe each of the 3 composite scores overall and by age group. NOTE: the Infant Behavior Questionnaire is not applicable to all age groups. "
   ]
  },
  {
   "cell_type": "code",
   "execution_count": 29,
   "id": "081bad5d",
   "metadata": {},
   "outputs": [],
   "source": [
    "cdf=cdf.reset_index()"
   ]
  },
  {
   "cell_type": "code",
   "execution_count": 30,
   "id": "b221ae65",
   "metadata": {},
   "outputs": [],
   "source": [
    "spin = cdf.PIN.to_list()\n",
    "cpin = []\n",
    "for pin in spin:\n",
    "    pin+='C'\n",
    "    cpin.append(pin)"
   ]
  },
  {
   "cell_type": "code",
   "execution_count": 31,
   "id": "bb14eb7f",
   "metadata": {},
   "outputs": [
    {
     "data": {
      "text/plain": [
       "54"
      ]
     },
     "execution_count": 31,
     "metadata": {},
     "output_type": "execute_result"
    }
   ],
   "source": [
    "len(spin)"
   ]
  },
  {
   "cell_type": "code",
   "execution_count": 32,
   "id": "b44183b9",
   "metadata": {},
   "outputs": [],
   "source": [
    "child =data[data.PIN.isin(cpin)]"
   ]
  },
  {
   "cell_type": "code",
   "execution_count": 33,
   "id": "5ad20221",
   "metadata": {},
   "outputs": [],
   "source": [
    "child.PIN=child.PIN.str[:5]"
   ]
  },
  {
   "cell_type": "code",
   "execution_count": 34,
   "id": "66756565",
   "metadata": {},
   "outputs": [
    {
     "data": {
      "text/plain": [
       "49"
      ]
     },
     "execution_count": 34,
     "metadata": {},
     "output_type": "execute_result"
    }
   ],
   "source": [
    "child[child.Age_group.notnull()]['PIN'].nunique()"
   ]
  },
  {
   "cell_type": "code",
   "execution_count": 35,
   "id": "cd560969",
   "metadata": {},
   "outputs": [],
   "source": [
    "de = pd.merge(cdf, child[['PIN','Age_month','Age_group']], on=['PIN'], how ='left')"
   ]
  },
  {
   "cell_type": "code",
   "execution_count": 36,
   "id": "daca5b92",
   "metadata": {},
   "outputs": [],
   "source": [
    "de =de.drop_duplicates()"
   ]
  },
  {
   "cell_type": "code",
   "execution_count": 37,
   "id": "10e869c5",
   "metadata": {},
   "outputs": [
    {
     "data": {
      "text/html": [
       "<div>\n",
       "<style scoped>\n",
       "    .dataframe tbody tr th:only-of-type {\n",
       "        vertical-align: middle;\n",
       "    }\n",
       "\n",
       "    .dataframe tbody tr th {\n",
       "        vertical-align: top;\n",
       "    }\n",
       "\n",
       "    .dataframe thead th {\n",
       "        text-align: right;\n",
       "    }\n",
       "</style>\n",
       "<table border=\"1\" class=\"dataframe\">\n",
       "  <thead>\n",
       "    <tr style=\"text-align: right;\">\n",
       "      <th></th>\n",
       "      <th>PIN</th>\n",
       "      <th>SelfReg_SurgECBQ</th>\n",
       "      <th>SelfReg_NegAffECBQ</th>\n",
       "      <th>SelfReg_EffContECBQ</th>\n",
       "      <th>Age_month</th>\n",
       "      <th>Age_group</th>\n",
       "    </tr>\n",
       "  </thead>\n",
       "  <tbody>\n",
       "    <tr>\n",
       "      <th>0</th>\n",
       "      <td>MN002</td>\n",
       "      <td>6.08</td>\n",
       "      <td>4.83</td>\n",
       "      <td>4.00</td>\n",
       "      <td>28.00</td>\n",
       "      <td>(27, 30]</td>\n",
       "    </tr>\n",
       "    <tr>\n",
       "      <th>371</th>\n",
       "      <td>MN006</td>\n",
       "      <td>5.58</td>\n",
       "      <td>2.42</td>\n",
       "      <td>6.00</td>\n",
       "      <td>27.00</td>\n",
       "      <td>(24, 27]</td>\n",
       "    </tr>\n",
       "    <tr>\n",
       "      <th>743</th>\n",
       "      <td>MN007</td>\n",
       "      <td>6.00</td>\n",
       "      <td>2.92</td>\n",
       "      <td>5.33</td>\n",
       "      <td>34.00</td>\n",
       "      <td>(30, 35]</td>\n",
       "    </tr>\n",
       "    <tr>\n",
       "      <th>1139</th>\n",
       "      <td>MN009</td>\n",
       "      <td>5.17</td>\n",
       "      <td>2.83</td>\n",
       "      <td>4.83</td>\n",
       "      <td>19.00</td>\n",
       "      <td>(18, 21]</td>\n",
       "    </tr>\n",
       "    <tr>\n",
       "      <th>1378</th>\n",
       "      <td>MN011</td>\n",
       "      <td>6.00</td>\n",
       "      <td>2.83</td>\n",
       "      <td>5.83</td>\n",
       "      <td>33.00</td>\n",
       "      <td>(30, 35]</td>\n",
       "    </tr>\n",
       "  </tbody>\n",
       "</table>\n",
       "</div>"
      ],
      "text/plain": [
       "        PIN  SelfReg_SurgECBQ  SelfReg_NegAffECBQ  SelfReg_EffContECBQ  \\\n",
       "0     MN002              6.08                4.83                 4.00   \n",
       "371   MN006              5.58                2.42                 6.00   \n",
       "743   MN007              6.00                2.92                 5.33   \n",
       "1139  MN009              5.17                2.83                 4.83   \n",
       "1378  MN011              6.00                2.83                 5.83   \n",
       "\n",
       "      Age_month Age_group  \n",
       "0         28.00  (27, 30]  \n",
       "371       27.00  (24, 27]  \n",
       "743       34.00  (30, 35]  \n",
       "1139      19.00  (18, 21]  \n",
       "1378      33.00  (30, 35]  "
      ]
     },
     "execution_count": 37,
     "metadata": {},
     "output_type": "execute_result"
    }
   ],
   "source": [
    "de.head()"
   ]
  },
  {
   "cell_type": "code",
   "execution_count": 38,
   "id": "38325d39",
   "metadata": {},
   "outputs": [
    {
     "data": {
      "text/html": [
       "<div>\n",
       "<style scoped>\n",
       "    .dataframe tbody tr th:only-of-type {\n",
       "        vertical-align: middle;\n",
       "    }\n",
       "\n",
       "    .dataframe tbody tr th {\n",
       "        vertical-align: top;\n",
       "    }\n",
       "\n",
       "    .dataframe thead th {\n",
       "        text-align: right;\n",
       "    }\n",
       "</style>\n",
       "<table border=\"1\" class=\"dataframe\">\n",
       "  <thead>\n",
       "    <tr style=\"text-align: right;\">\n",
       "      <th></th>\n",
       "      <th>count</th>\n",
       "      <th>mean</th>\n",
       "      <th>std</th>\n",
       "      <th>min</th>\n",
       "      <th>25%</th>\n",
       "      <th>50%</th>\n",
       "      <th>75%</th>\n",
       "      <th>max</th>\n",
       "    </tr>\n",
       "    <tr>\n",
       "      <th>Age_group</th>\n",
       "      <th></th>\n",
       "      <th></th>\n",
       "      <th></th>\n",
       "      <th></th>\n",
       "      <th></th>\n",
       "      <th></th>\n",
       "      <th></th>\n",
       "      <th></th>\n",
       "    </tr>\n",
       "  </thead>\n",
       "  <tbody>\n",
       "    <tr>\n",
       "      <th>(12, 15]</th>\n",
       "      <td>5.00</td>\n",
       "      <td>5.52</td>\n",
       "      <td>1.26</td>\n",
       "      <td>3.75</td>\n",
       "      <td>5.00</td>\n",
       "      <td>5.83</td>\n",
       "      <td>5.83</td>\n",
       "      <td>7.17</td>\n",
       "    </tr>\n",
       "    <tr>\n",
       "      <th>(15, 18]</th>\n",
       "      <td>8.00</td>\n",
       "      <td>5.78</td>\n",
       "      <td>0.47</td>\n",
       "      <td>5.17</td>\n",
       "      <td>5.54</td>\n",
       "      <td>5.58</td>\n",
       "      <td>6.17</td>\n",
       "      <td>6.58</td>\n",
       "    </tr>\n",
       "    <tr>\n",
       "      <th>(18, 21]</th>\n",
       "      <td>8.00</td>\n",
       "      <td>5.50</td>\n",
       "      <td>0.49</td>\n",
       "      <td>4.92</td>\n",
       "      <td>5.12</td>\n",
       "      <td>5.42</td>\n",
       "      <td>5.90</td>\n",
       "      <td>6.17</td>\n",
       "    </tr>\n",
       "    <tr>\n",
       "      <th>(21, 24]</th>\n",
       "      <td>6.00</td>\n",
       "      <td>5.92</td>\n",
       "      <td>0.46</td>\n",
       "      <td>5.25</td>\n",
       "      <td>5.67</td>\n",
       "      <td>5.92</td>\n",
       "      <td>6.29</td>\n",
       "      <td>6.42</td>\n",
       "    </tr>\n",
       "    <tr>\n",
       "      <th>(24, 27]</th>\n",
       "      <td>8.00</td>\n",
       "      <td>5.61</td>\n",
       "      <td>0.38</td>\n",
       "      <td>5.08</td>\n",
       "      <td>5.38</td>\n",
       "      <td>5.54</td>\n",
       "      <td>5.94</td>\n",
       "      <td>6.17</td>\n",
       "    </tr>\n",
       "    <tr>\n",
       "      <th>(27, 30]</th>\n",
       "      <td>8.00</td>\n",
       "      <td>5.64</td>\n",
       "      <td>0.55</td>\n",
       "      <td>4.75</td>\n",
       "      <td>5.40</td>\n",
       "      <td>5.83</td>\n",
       "      <td>6.08</td>\n",
       "      <td>6.08</td>\n",
       "    </tr>\n",
       "    <tr>\n",
       "      <th>(30, 35]</th>\n",
       "      <td>6.00</td>\n",
       "      <td>5.61</td>\n",
       "      <td>0.38</td>\n",
       "      <td>5.00</td>\n",
       "      <td>5.46</td>\n",
       "      <td>5.62</td>\n",
       "      <td>5.92</td>\n",
       "      <td>6.00</td>\n",
       "    </tr>\n",
       "    <tr>\n",
       "      <th>(35, 43]</th>\n",
       "      <td>1.00</td>\n",
       "      <td>6.17</td>\n",
       "      <td>NaN</td>\n",
       "      <td>6.17</td>\n",
       "      <td>6.17</td>\n",
       "      <td>6.17</td>\n",
       "      <td>6.17</td>\n",
       "      <td>6.17</td>\n",
       "    </tr>\n",
       "  </tbody>\n",
       "</table>\n",
       "</div>"
      ],
      "text/plain": [
       "           count  mean  std  min  25%  50%  75%  max\n",
       "Age_group                                           \n",
       "(12, 15]    5.00  5.52 1.26 3.75 5.00 5.83 5.83 7.17\n",
       "(15, 18]    8.00  5.78 0.47 5.17 5.54 5.58 6.17 6.58\n",
       "(18, 21]    8.00  5.50 0.49 4.92 5.12 5.42 5.90 6.17\n",
       "(21, 24]    6.00  5.92 0.46 5.25 5.67 5.92 6.29 6.42\n",
       "(24, 27]    8.00  5.61 0.38 5.08 5.38 5.54 5.94 6.17\n",
       "(27, 30]    8.00  5.64 0.55 4.75 5.40 5.83 6.08 6.08\n",
       "(30, 35]    6.00  5.61 0.38 5.00 5.46 5.62 5.92 6.00\n",
       "(35, 43]    1.00  6.17  NaN 6.17 6.17 6.17 6.17 6.17"
      ]
     },
     "execution_count": 38,
     "metadata": {},
     "output_type": "execute_result"
    }
   ],
   "source": [
    "de.groupby(['Age_group'])['SelfReg_SurgECBQ'].describe()"
   ]
  },
  {
   "cell_type": "code",
   "execution_count": 39,
   "id": "0de82c0f",
   "metadata": {},
   "outputs": [
    {
     "data": {
      "text/html": [
       "<div>\n",
       "<style scoped>\n",
       "    .dataframe tbody tr th:only-of-type {\n",
       "        vertical-align: middle;\n",
       "    }\n",
       "\n",
       "    .dataframe tbody tr th {\n",
       "        vertical-align: top;\n",
       "    }\n",
       "\n",
       "    .dataframe thead th {\n",
       "        text-align: right;\n",
       "    }\n",
       "</style>\n",
       "<table border=\"1\" class=\"dataframe\">\n",
       "  <thead>\n",
       "    <tr style=\"text-align: right;\">\n",
       "      <th></th>\n",
       "      <th>count</th>\n",
       "      <th>mean</th>\n",
       "      <th>std</th>\n",
       "      <th>min</th>\n",
       "      <th>25%</th>\n",
       "      <th>50%</th>\n",
       "      <th>75%</th>\n",
       "      <th>max</th>\n",
       "    </tr>\n",
       "    <tr>\n",
       "      <th>Age_group</th>\n",
       "      <th></th>\n",
       "      <th></th>\n",
       "      <th></th>\n",
       "      <th></th>\n",
       "      <th></th>\n",
       "      <th></th>\n",
       "      <th></th>\n",
       "      <th></th>\n",
       "    </tr>\n",
       "  </thead>\n",
       "  <tbody>\n",
       "    <tr>\n",
       "      <th>(12, 15]</th>\n",
       "      <td>5.00</td>\n",
       "      <td>3.47</td>\n",
       "      <td>1.09</td>\n",
       "      <td>1.83</td>\n",
       "      <td>3.50</td>\n",
       "      <td>3.50</td>\n",
       "      <td>3.58</td>\n",
       "      <td>4.92</td>\n",
       "    </tr>\n",
       "    <tr>\n",
       "      <th>(15, 18]</th>\n",
       "      <td>8.00</td>\n",
       "      <td>3.11</td>\n",
       "      <td>0.65</td>\n",
       "      <td>2.25</td>\n",
       "      <td>2.58</td>\n",
       "      <td>3.21</td>\n",
       "      <td>3.58</td>\n",
       "      <td>3.92</td>\n",
       "    </tr>\n",
       "    <tr>\n",
       "      <th>(18, 21]</th>\n",
       "      <td>8.00</td>\n",
       "      <td>3.50</td>\n",
       "      <td>0.97</td>\n",
       "      <td>2.42</td>\n",
       "      <td>2.79</td>\n",
       "      <td>3.12</td>\n",
       "      <td>4.35</td>\n",
       "      <td>4.92</td>\n",
       "    </tr>\n",
       "    <tr>\n",
       "      <th>(21, 24]</th>\n",
       "      <td>6.00</td>\n",
       "      <td>3.26</td>\n",
       "      <td>0.96</td>\n",
       "      <td>2.17</td>\n",
       "      <td>2.75</td>\n",
       "      <td>3.04</td>\n",
       "      <td>3.58</td>\n",
       "      <td>4.92</td>\n",
       "    </tr>\n",
       "    <tr>\n",
       "      <th>(24, 27]</th>\n",
       "      <td>8.00</td>\n",
       "      <td>3.12</td>\n",
       "      <td>0.62</td>\n",
       "      <td>2.42</td>\n",
       "      <td>2.77</td>\n",
       "      <td>3.00</td>\n",
       "      <td>3.33</td>\n",
       "      <td>4.33</td>\n",
       "    </tr>\n",
       "    <tr>\n",
       "      <th>(27, 30]</th>\n",
       "      <td>8.00</td>\n",
       "      <td>3.56</td>\n",
       "      <td>0.66</td>\n",
       "      <td>2.92</td>\n",
       "      <td>3.06</td>\n",
       "      <td>3.42</td>\n",
       "      <td>3.79</td>\n",
       "      <td>4.83</td>\n",
       "    </tr>\n",
       "    <tr>\n",
       "      <th>(30, 35]</th>\n",
       "      <td>6.00</td>\n",
       "      <td>2.71</td>\n",
       "      <td>0.46</td>\n",
       "      <td>2.00</td>\n",
       "      <td>2.50</td>\n",
       "      <td>2.79</td>\n",
       "      <td>2.90</td>\n",
       "      <td>3.33</td>\n",
       "    </tr>\n",
       "    <tr>\n",
       "      <th>(35, 43]</th>\n",
       "      <td>1.00</td>\n",
       "      <td>4.25</td>\n",
       "      <td>NaN</td>\n",
       "      <td>4.25</td>\n",
       "      <td>4.25</td>\n",
       "      <td>4.25</td>\n",
       "      <td>4.25</td>\n",
       "      <td>4.25</td>\n",
       "    </tr>\n",
       "  </tbody>\n",
       "</table>\n",
       "</div>"
      ],
      "text/plain": [
       "           count  mean  std  min  25%  50%  75%  max\n",
       "Age_group                                           \n",
       "(12, 15]    5.00  3.47 1.09 1.83 3.50 3.50 3.58 4.92\n",
       "(15, 18]    8.00  3.11 0.65 2.25 2.58 3.21 3.58 3.92\n",
       "(18, 21]    8.00  3.50 0.97 2.42 2.79 3.12 4.35 4.92\n",
       "(21, 24]    6.00  3.26 0.96 2.17 2.75 3.04 3.58 4.92\n",
       "(24, 27]    8.00  3.12 0.62 2.42 2.77 3.00 3.33 4.33\n",
       "(27, 30]    8.00  3.56 0.66 2.92 3.06 3.42 3.79 4.83\n",
       "(30, 35]    6.00  2.71 0.46 2.00 2.50 2.79 2.90 3.33\n",
       "(35, 43]    1.00  4.25  NaN 4.25 4.25 4.25 4.25 4.25"
      ]
     },
     "execution_count": 39,
     "metadata": {},
     "output_type": "execute_result"
    }
   ],
   "source": [
    "de.groupby(['Age_group'])['SelfReg_NegAffECBQ'].describe()"
   ]
  },
  {
   "cell_type": "code",
   "execution_count": 40,
   "id": "ca1030ea",
   "metadata": {},
   "outputs": [
    {
     "data": {
      "text/html": [
       "<div>\n",
       "<style scoped>\n",
       "    .dataframe tbody tr th:only-of-type {\n",
       "        vertical-align: middle;\n",
       "    }\n",
       "\n",
       "    .dataframe tbody tr th {\n",
       "        vertical-align: top;\n",
       "    }\n",
       "\n",
       "    .dataframe thead th {\n",
       "        text-align: right;\n",
       "    }\n",
       "</style>\n",
       "<table border=\"1\" class=\"dataframe\">\n",
       "  <thead>\n",
       "    <tr style=\"text-align: right;\">\n",
       "      <th></th>\n",
       "      <th>count</th>\n",
       "      <th>mean</th>\n",
       "      <th>std</th>\n",
       "      <th>min</th>\n",
       "      <th>25%</th>\n",
       "      <th>50%</th>\n",
       "      <th>75%</th>\n",
       "      <th>max</th>\n",
       "    </tr>\n",
       "    <tr>\n",
       "      <th>Age_group</th>\n",
       "      <th></th>\n",
       "      <th></th>\n",
       "      <th></th>\n",
       "      <th></th>\n",
       "      <th></th>\n",
       "      <th></th>\n",
       "      <th></th>\n",
       "      <th></th>\n",
       "    </tr>\n",
       "  </thead>\n",
       "  <tbody>\n",
       "    <tr>\n",
       "      <th>(12, 15]</th>\n",
       "      <td>5.00</td>\n",
       "      <td>5.03</td>\n",
       "      <td>1.28</td>\n",
       "      <td>3.50</td>\n",
       "      <td>4.00</td>\n",
       "      <td>5.42</td>\n",
       "      <td>5.58</td>\n",
       "      <td>6.67</td>\n",
       "    </tr>\n",
       "    <tr>\n",
       "      <th>(15, 18]</th>\n",
       "      <td>8.00</td>\n",
       "      <td>4.54</td>\n",
       "      <td>0.93</td>\n",
       "      <td>2.67</td>\n",
       "      <td>4.33</td>\n",
       "      <td>4.67</td>\n",
       "      <td>5.19</td>\n",
       "      <td>5.58</td>\n",
       "    </tr>\n",
       "    <tr>\n",
       "      <th>(18, 21]</th>\n",
       "      <td>8.00</td>\n",
       "      <td>4.58</td>\n",
       "      <td>0.65</td>\n",
       "      <td>3.25</td>\n",
       "      <td>4.31</td>\n",
       "      <td>4.79</td>\n",
       "      <td>4.90</td>\n",
       "      <td>5.33</td>\n",
       "    </tr>\n",
       "    <tr>\n",
       "      <th>(21, 24]</th>\n",
       "      <td>6.00</td>\n",
       "      <td>5.18</td>\n",
       "      <td>0.36</td>\n",
       "      <td>4.75</td>\n",
       "      <td>4.94</td>\n",
       "      <td>5.12</td>\n",
       "      <td>5.44</td>\n",
       "      <td>5.67</td>\n",
       "    </tr>\n",
       "    <tr>\n",
       "      <th>(24, 27]</th>\n",
       "      <td>8.00</td>\n",
       "      <td>4.81</td>\n",
       "      <td>0.65</td>\n",
       "      <td>3.92</td>\n",
       "      <td>4.52</td>\n",
       "      <td>4.83</td>\n",
       "      <td>5.08</td>\n",
       "      <td>6.00</td>\n",
       "    </tr>\n",
       "    <tr>\n",
       "      <th>(27, 30]</th>\n",
       "      <td>8.00</td>\n",
       "      <td>4.77</td>\n",
       "      <td>0.55</td>\n",
       "      <td>4.00</td>\n",
       "      <td>4.38</td>\n",
       "      <td>4.75</td>\n",
       "      <td>5.15</td>\n",
       "      <td>5.58</td>\n",
       "    </tr>\n",
       "    <tr>\n",
       "      <th>(30, 35]</th>\n",
       "      <td>6.00</td>\n",
       "      <td>4.97</td>\n",
       "      <td>0.58</td>\n",
       "      <td>4.25</td>\n",
       "      <td>4.56</td>\n",
       "      <td>4.96</td>\n",
       "      <td>5.29</td>\n",
       "      <td>5.83</td>\n",
       "    </tr>\n",
       "    <tr>\n",
       "      <th>(35, 43]</th>\n",
       "      <td>1.00</td>\n",
       "      <td>4.25</td>\n",
       "      <td>NaN</td>\n",
       "      <td>4.25</td>\n",
       "      <td>4.25</td>\n",
       "      <td>4.25</td>\n",
       "      <td>4.25</td>\n",
       "      <td>4.25</td>\n",
       "    </tr>\n",
       "  </tbody>\n",
       "</table>\n",
       "</div>"
      ],
      "text/plain": [
       "           count  mean  std  min  25%  50%  75%  max\n",
       "Age_group                                           \n",
       "(12, 15]    5.00  5.03 1.28 3.50 4.00 5.42 5.58 6.67\n",
       "(15, 18]    8.00  4.54 0.93 2.67 4.33 4.67 5.19 5.58\n",
       "(18, 21]    8.00  4.58 0.65 3.25 4.31 4.79 4.90 5.33\n",
       "(21, 24]    6.00  5.18 0.36 4.75 4.94 5.12 5.44 5.67\n",
       "(24, 27]    8.00  4.81 0.65 3.92 4.52 4.83 5.08 6.00\n",
       "(27, 30]    8.00  4.77 0.55 4.00 4.38 4.75 5.15 5.58\n",
       "(30, 35]    6.00  4.97 0.58 4.25 4.56 4.96 5.29 5.83\n",
       "(35, 43]    1.00  4.25  NaN 4.25 4.25 4.25 4.25 4.25"
      ]
     },
     "execution_count": 40,
     "metadata": {},
     "output_type": "execute_result"
    }
   ],
   "source": [
    "de.groupby(['Age_group'])['SelfReg_EffContECBQ'].describe()"
   ]
  },
  {
   "cell_type": "code",
   "execution_count": 41,
   "id": "7134cbd0",
   "metadata": {},
   "outputs": [],
   "source": [
    "# Create a Pandas Excel writer using XlsxWriter as the engine.\n",
    "writer = pd.ExcelWriter('C:/Users/tsb7592/Downloads/ECBQ_composite_scores.xlsx', engine='xlsxwriter')\n",
    "\n",
    "de.groupby(['Age_group'])['SelfReg_SurgECBQ'].describe().to_excel(writer, sheet_name='SurgECBQ')\n",
    "\n",
    "de.groupby(['Age_group'])['SelfReg_NegAffECBQ'].describe().to_excel(writer, sheet_name='NegAffECBQ')\n",
    "\n",
    "de.groupby(['Age_group'])['SelfReg_EffContECBQ'].describe().to_excel(writer, sheet_name='EffContECBQ')\n",
    "\n",
    "# Close the Pandas Excel writer and output the Excel file.\n",
    "writer.save()"
   ]
  },
  {
   "cell_type": "code",
   "execution_count": null,
   "id": "69e958b6",
   "metadata": {},
   "outputs": [],
   "source": []
  },
  {
   "cell_type": "code",
   "execution_count": null,
   "id": "72cdb4dc",
   "metadata": {},
   "outputs": [],
   "source": []
  }
 ],
 "metadata": {
  "kernelspec": {
   "display_name": "Python 3",
   "language": "python",
   "name": "python3"
  },
  "language_info": {
   "codemirror_mode": {
    "name": "ipython",
    "version": 3
   },
   "file_extension": ".py",
   "mimetype": "text/x-python",
   "name": "python",
   "nbconvert_exporter": "python",
   "pygments_lexer": "ipython3",
   "version": "3.8.8"
  }
 },
 "nbformat": 4,
 "nbformat_minor": 5
}
